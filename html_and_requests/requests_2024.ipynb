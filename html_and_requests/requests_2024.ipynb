{
  "cells": [
    {
      "cell_type": "markdown",
      "metadata": {
        "id": "nmgQw_NQYBCg"
      },
      "source": [
        "# Python и интернет. Модуль requests\n",
        "\n",
        "**План**:\n",
        "\n",
        "1. Запросы\n",
        "2. Requests\n",
        "4. bs4\n",
        "5. Задание на семинар"
      ]
    },
    {
      "cell_type": "markdown",
      "metadata": {
        "id": "BMdJJbokYBCi"
      },
      "source": [
        "## Как выкачать интернет\n",
        "Современный Интернет предоставляет лингвистам большое количество языковых данных: электронные газеты и журналы, блоги, форумы, социальные сети и т.д. Например, можно найти в сети много-много текстов и собрать корпус, или найти все газетные статьи и блог-посты про какую-нибудь корпорацию и проанализировать тональность сообщений. Сейчас мы научимся заниматься выкачиванием страниц из интернета с помощью Python.\n",
        "\n",
        "Для скачивания HTML-страниц в питоне есть несколько библиотек **urllib** и **requests**"
      ]
    },
    {
      "cell_type": "markdown",
      "metadata": {
        "id": "DLNYPfbMYBCj"
      },
      "source": [
        "## Requests\n",
        "\n",
        "Можно почитать еще [тут](https://realpython.com/python-requests/)\n",
        "\n",
        "\n",
        "Допустим, мы хотим скачать главную страницу Хабрахабра.\n",
        "\n",
        "На самом деле, когда мы хотим открыть какую-то страницу в интернете, наш браузер отправляет на сервер **запрос** (\"Привет, сервер! я хочу код страницы по вот такому адресу!\"), а сервер затем отправляет ответ (\"Привет! Вот код страницы: ...\").\n",
        "Чтобы получить страницу через питон, нужно сформировать **запрос** на сервер так же, как это делает браузер:"
      ]
    },
    {
      "cell_type": "code",
      "execution_count": null,
      "metadata": {
        "id": "txfW0gWgYBCk"
      },
      "outputs": [],
      "source": [
        "import requests"
      ]
    },
    {
      "cell_type": "code",
      "execution_count": null,
      "metadata": {
        "id": "eR86pOlQYBCl"
      },
      "outputs": [],
      "source": [
        "response = requests.get(\"https://habr.com/ru/\")"
      ]
    },
    {
      "cell_type": "markdown",
      "metadata": {
        "id": "i5T6bjMBYBCl"
      },
      "source": [
        "В response теперь лежит отет сервера. Это не прост html-код страницы, а еще дополнительная информация. Если мы просто выведем этот response, нам покажется только код (200 - все ок)."
      ]
    },
    {
      "cell_type": "code",
      "execution_count": null,
      "metadata": {
        "colab": {
          "base_uri": "https://localhost:8080/"
        },
        "id": "g53d-WU5YBCl",
        "outputId": "8c1e41ad-e05a-47a1-e2e3-6d3054a290e4"
      },
      "outputs": [
        {
          "output_type": "execute_result",
          "data": {
            "text/plain": [
              "<Response [200]>"
            ]
          },
          "metadata": {},
          "execution_count": 13
        }
      ],
      "source": [
        "response"
      ]
    },
    {
      "cell_type": "code",
      "execution_count": null,
      "metadata": {
        "colab": {
          "base_uri": "https://localhost:8080/"
        },
        "id": "9_vVB0dsYBCm",
        "outputId": "ce0c2b70-929f-4928-d442-c188187c5395"
      },
      "outputs": [
        {
          "output_type": "execute_result",
          "data": {
            "text/plain": [
              "200"
            ]
          },
          "metadata": {},
          "execution_count": 14
        }
      ],
      "source": [
        "response.status_code"
      ]
    },
    {
      "cell_type": "markdown",
      "metadata": {
        "id": "XirrpWlIYBCm"
      },
      "source": [
        "А вот в атрибуте text уже лежит html-код"
      ]
    },
    {
      "cell_type": "code",
      "execution_count": null,
      "metadata": {
        "colab": {
          "base_uri": "https://localhost:8080/"
        },
        "id": "DQshGk0KYBCm",
        "outputId": "891631a9-2084-4068-b0eb-3fe25b3294c8"
      },
      "outputs": [
        {
          "output_type": "stream",
          "name": "stdout",
          "text": [
            "<!DOCTYPE html>\n",
            "<html lang=\"ru\">\n",
            "\n",
            "  <head>\n",
            "    <title>Публикации &#x2F; Моя лента &#x2F; Хабр</title>\n",
            "<link rel=\"image_src\" href=\"/img/habr_ru.png\" data-hid=\"2a79c45\">\n",
            "<link href=\"https://habr.com/ru/feed/\" rel=\"canonical\" data-hid=\"e3fa780\">\n",
            "<meta itemprop=\"image\" content=\"/img/habr_ru.png\">\n",
            "<meta property=\"og:image\" content=\"/img/habr_ru.png\">\n",
            "<meta property=\"og:image:width\" content=\"1200\">\n",
            "<meta property=\"og:image:height\" content=\"630\">\n",
            "<meta property=\"aiturec:image\" content=\"/img/habr_ru.png\">\n",
            "<meta name=\"twitter:image\" content=\"/img/habr_ru.png\">\n",
            "<meta property=\"vk:image\" content=\"/img/habr_ru.png?format=vk\">\n",
            "<meta property=\"fb:app_id\" content=\"444736788986613\">\n",
            "<meta property=\"fb:pages\n"
          ]
        }
      ],
      "source": [
        "print(response.text[:700])"
      ]
    },
    {
      "cell_type": "markdown",
      "metadata": {
        "id": "7cCgtLjqYBCm"
      },
      "source": [
        "Иногда сайт блокирует запросы, если их посылает не настоящий браузер с пользователем, а какой-то бот (например, так делает Гугл или Википедия). Иногда сайты присылают разные версии страниц, разным браузерам.  \n",
        "По этим причинам полезно бывает писать скрипт, который умеет притворяться то одним, то другим браузером.\n",
        "Когда мы пытаемся получить страницу в питоне, наш код по умолчанию честно сообщает серверу, что он является программой на питоне. Он говорит что-то вроде \"Привет, я Python-urllib/3.5\".\n",
        "Но можно, например, представиться Мозиллой:"
      ]
    },
    {
      "cell_type": "code",
      "execution_count": null,
      "metadata": {
        "id": "4u5p2773YBCn"
      },
      "outputs": [],
      "source": [
        "url = 'https://habr.com/ru/'  # адрес страницы, которую мы хотим скачать\n",
        "user_agent = 'Mozilla/5.0 (Windows NT 6.1; Win64; x64)'  # хотим притворяться браузером\n",
        "\n",
        "response = requests.get(\"https://habr.com/ru/\", headers={'User-Agent':user_agent})"
      ]
    },
    {
      "cell_type": "markdown",
      "metadata": {
        "id": "DMZp4tBiYBCn"
      },
      "source": [
        "Или использовать специальную библиотеку"
      ]
    },
    {
      "cell_type": "code",
      "execution_count": null,
      "metadata": {
        "colab": {
          "base_uri": "https://localhost:8080/"
        },
        "id": "5fRMib2lYSFd",
        "outputId": "c9966773-b805-4255-dfd5-5399e48b3bf2"
      },
      "outputs": [
        {
          "output_type": "stream",
          "name": "stdout",
          "text": [
            "Collecting fake_useragent\n",
            "  Downloading fake_useragent-1.5.1-py3-none-any.whl.metadata (15 kB)\n",
            "Downloading fake_useragent-1.5.1-py3-none-any.whl (17 kB)\n",
            "Installing collected packages: fake_useragent\n",
            "Successfully installed fake_useragent-1.5.1\n"
          ]
        }
      ],
      "source": [
        "!pip install fake_useragent"
      ]
    },
    {
      "cell_type": "code",
      "execution_count": null,
      "metadata": {
        "id": "y_0w_-A-YBCn"
      },
      "outputs": [],
      "source": [
        "from fake_useragent import UserAgent"
      ]
    },
    {
      "cell_type": "code",
      "execution_count": null,
      "metadata": {
        "colab": {
          "base_uri": "https://localhost:8080/",
          "height": 35
        },
        "id": "PUkugL-5YBCn",
        "outputId": "20bb671a-f4ad-4b05-af6d-52caa25b8372"
      },
      "outputs": [
        {
          "output_type": "execute_result",
          "data": {
            "text/plain": [
              "'Mozilla/5.0 (Windows NT 10.0; Win64; x64) AppleWebKit/537.36 (KHTML, like Gecko) Chrome/122.0.0.0 Safari/537.36'"
            ],
            "application/vnd.google.colaboratory.intrinsic+json": {
              "type": "string"
            }
          },
          "metadata": {},
          "execution_count": 9
        }
      ],
      "source": [
        "user_agent = UserAgent().chrome\n",
        "user_agent"
      ]
    },
    {
      "cell_type": "code",
      "execution_count": null,
      "metadata": {
        "id": "j4dgguqxYBCn"
      },
      "outputs": [],
      "source": [
        "response = requests.get(\"https://habr.com/ru/\", headers={'User-Agent':user_agent})"
      ]
    },
    {
      "cell_type": "markdown",
      "metadata": {
        "id": "FOFbk0oZYBCn"
      },
      "source": [
        "Можно посмотреть, что еще можно достать из response.\n",
        "\n",
        "Функция ```dir``` выдает список методов и параметров объекта."
      ]
    },
    {
      "cell_type": "code",
      "execution_count": null,
      "metadata": {
        "id": "2fKF0vhmYBCn",
        "outputId": "d81ad54f-98e7-452b-e3a5-691de3838f8d",
        "colab": {
          "base_uri": "https://localhost:8080/"
        }
      },
      "outputs": [
        {
          "output_type": "execute_result",
          "data": {
            "text/plain": [
              "['apparent_encoding',\n",
              " 'close',\n",
              " 'connection',\n",
              " 'content',\n",
              " 'cookies',\n",
              " 'elapsed',\n",
              " 'encoding',\n",
              " 'headers',\n",
              " 'history',\n",
              " 'is_permanent_redirect',\n",
              " 'is_redirect',\n",
              " 'iter_content',\n",
              " 'iter_lines',\n",
              " 'json',\n",
              " 'links',\n",
              " 'next',\n",
              " 'ok',\n",
              " 'raise_for_status',\n",
              " 'raw',\n",
              " 'reason',\n",
              " 'request',\n",
              " 'status_code',\n",
              " 'text',\n",
              " 'url']"
            ]
          },
          "metadata": {},
          "execution_count": 18
        }
      ],
      "source": [
        "[i for i in dir(response) if not i.startswith(\"_\")]"
      ]
    },
    {
      "cell_type": "markdown",
      "metadata": {
        "id": "RKCyxiHvYBCo"
      },
      "source": [
        "Кодировка"
      ]
    },
    {
      "cell_type": "code",
      "execution_count": null,
      "metadata": {
        "id": "gkqXDUDHYBCo",
        "outputId": "2a45e008-fb27-48da-814f-7e55f941b22a",
        "colab": {
          "base_uri": "https://localhost:8080/",
          "height": 35
        }
      },
      "outputs": [
        {
          "output_type": "execute_result",
          "data": {
            "text/plain": [
              "'utf-8'"
            ],
            "application/vnd.google.colaboratory.intrinsic+json": {
              "type": "string"
            }
          },
          "metadata": {},
          "execution_count": 19
        }
      ],
      "source": [
        "response.encoding"
      ]
    },
    {
      "cell_type": "markdown",
      "metadata": {
        "id": "qy8svnQ7YBCo"
      },
      "source": [
        "Заголовки (техническая информация)"
      ]
    },
    {
      "cell_type": "code",
      "execution_count": null,
      "metadata": {
        "colab": {
          "base_uri": "https://localhost:8080/"
        },
        "id": "5GOa4MZsYBCo",
        "outputId": "3a0e48ce-1ea3-4c83-c230-7b282b2b7602"
      },
      "outputs": [
        {
          "output_type": "execute_result",
          "data": {
            "text/plain": [
              "{'Server': 'QRATOR',\n",
              " 'Date': 'Fri, 01 Nov 2024 08:03:31 GMT',\n",
              " 'Content-Type': 'text/html; charset=utf-8',\n",
              " 'Transfer-Encoding': 'chunked',\n",
              " 'Connection': 'keep-alive',\n",
              " 'Keep-Alive': 'timeout=15',\n",
              " 'Vary': 'Accept-Encoding, Accept-Encoding',\n",
              " 'X-DNS-Prefetch-Control': 'off',\n",
              " 'X-Frame-Options': 'SAMEORIGIN',\n",
              " 'X-Download-Options': 'noopen',\n",
              " 'X-Content-Type-Options': 'nosniff',\n",
              " 'X-XSS-Protection': '1; mode=block',\n",
              " 'ETag': 'W/\"52253-Qcyh/R8vkago0B+RF/QZmhR/0og\"',\n",
              " 'Strict-Transport-Security': 'max-age=31536000; includeSubDomains',\n",
              " 'X-Request-Id': '4162a44a6a794eaf4b5da4734257fb95',\n",
              " 'X-Request-Geoip-Country-Code': 'US',\n",
              " 'X-Request-Detected-Device': 'desktop',\n",
              " 'Content-Encoding': 'gzip'}"
            ]
          },
          "metadata": {},
          "execution_count": 20
        }
      ],
      "source": [
        "dict(response.headers)"
      ]
    },
    {
      "cell_type": "markdown",
      "metadata": {
        "id": "3fILLEeuYBCo"
      },
      "source": [
        "Адрес запроса"
      ]
    },
    {
      "cell_type": "code",
      "execution_count": null,
      "metadata": {
        "colab": {
          "base_uri": "https://localhost:8080/",
          "height": 35
        },
        "id": "Rv6vs1D_YBCo",
        "outputId": "4ef37d90-b6ad-4c58-e795-a17537feefe0"
      },
      "outputs": [
        {
          "output_type": "execute_result",
          "data": {
            "text/plain": [
              "'https://habr.com/ru/feed/'"
            ],
            "application/vnd.google.colaboratory.intrinsic+json": {
              "type": "string"
            }
          },
          "metadata": {},
          "execution_count": 21
        }
      ],
      "source": [
        "response.url"
      ]
    },
    {
      "cell_type": "code",
      "execution_count": null,
      "metadata": {
        "colab": {
          "base_uri": "https://localhost:8080/"
        },
        "id": "Sj9AzfewYBCp",
        "outputId": "28fa1071-19f3-46ac-f196-f31414e3f7f4"
      },
      "outputs": [
        {
          "output_type": "stream",
          "name": "stdout",
          "text": [
            "<!DOCTYPE html>\n",
            "<html lang=\"ru\">\n",
            "\n",
            "  <head>\n",
            "    <title>Публикации &#x2F; Моя лента &#x2F; Хабр</title>\n",
            "<link rel=\"image_src\" href=\"/img/habr_ru.png\" data-hid=\"2a79c45\">\n",
            "<link href=\"https://habr.com/ru/feed/\" rel=\"canonical\" data-hid=\"e3fa780\">\n",
            "<meta itemprop=\"image\" content=\"/img/habr_ru.png\">\n",
            "<meta \n"
          ]
        }
      ],
      "source": [
        "print(response.text[:300])"
      ]
    },
    {
      "cell_type": "markdown",
      "metadata": {
        "id": "wadZX78JYBCp"
      },
      "source": [
        "Ура, всё на месте!\n",
        "\n",
        "Но что всё это значит? Что такое html и как вообще из него доставать какую-то информацию?\n",
        "\n",
        "Ответ: по **тегам**! Например, в куске html сверху есть теги `<title> </title>` (теги всегда обрамляют с двух сторон то, что находится под этим тегом). В `<title>` в данном случае лежит заголовок этой интернет-страницы.\n",
        "\n",
        "Существует несколько вариантов, как достать что-то из определенного тега, например, достать заголовок:\n",
        "\n",
        "1. регулярные выражения ([плохой вариант](https://stackoverflow.com/questions/590747/using-regular-expressions-to-parse-html-why-not))\n",
        "2. специальные библиотеки питона, например, BeautifulSoup (bs4) или lxml (хороший вариант)"
      ]
    },
    {
      "cell_type": "markdown",
      "metadata": {
        "id": "N-AOP79BYBCp"
      },
      "source": [
        "## BeautifulSoup\n",
        "\n",
        "Код страницы парсится как иерархия тегов (как они есть в html коде, один вложен в другой) и можно искать элементы с помощью разных методов, использовать атрибуты и т.д."
      ]
    },
    {
      "cell_type": "code",
      "execution_count": null,
      "metadata": {
        "id": "QVL8TDopYBCp"
      },
      "outputs": [],
      "source": [
        "from bs4 import BeautifulSoup"
      ]
    },
    {
      "cell_type": "markdown",
      "metadata": {
        "id": "3RwP4AN9YBCp"
      },
      "source": [
        "Сначала инициализируем объект BeautifulSoup. Потом применим метод find и в скобочках укажем теги, по которым ищем. У некоторых тегов в html (как и в нашем случае) бывает еще и class и какие-нибудь еще атрибуты. Такие вещи мы задаем словариком.\n",
        "\n",
        "Этот запрос вернёт нам только первый заголовок. То есть первое вхождение такого тега в нашем html файле."
      ]
    },
    {
      "cell_type": "code",
      "execution_count": null,
      "metadata": {
        "colab": {
          "base_uri": "https://localhost:8080/"
        },
        "id": "M28-oqzAYBCp",
        "outputId": "e298b69f-2225-4274-98e8-0cb5d0886104"
      },
      "outputs": [
        {
          "output_type": "stream",
          "name": "stdout",
          "text": [
            "Я сдал пилотный экзамен Yandex Cloud Security Speciality, чтобы вам не пришлось\n",
            "\n",
            "\n",
            "<h2 class=\"tm-title tm-title_h2\" data-test-id=\"articleTitle\">\n",
            " <!--[-->\n",
            " <a class=\"tm-title__link\" data-article-link=\"true\" data-test-id=\"article-snippet-title-link\" href=\"/ru/companies/swordfish_security/articles/854712/\">\n",
            "  <span>\n",
            "   Я сдал пилотный экзамен Yandex Cloud Security Speciality, чтобы вам не пришлось\n",
            "  </span>\n",
            " </a>\n",
            " <!--]-->\n",
            "</h2>\n",
            "\n"
          ]
        }
      ],
      "source": [
        "soup = BeautifulSoup(response.text, 'html.parser')  # инициализируем (создаем) soup\n",
        "\n",
        "post = soup.find('h2', {'class': 'tm-title tm-title_h2'})\n",
        "print(post.get_text(), end=\"\\n\\n\\n\")\n",
        "print(post.prettify())"
      ]
    },
    {
      "cell_type": "markdown",
      "metadata": {
        "id": "vVN9z_TBYBCq"
      },
      "source": [
        "Но мы хотим получить все заголовки постов! Метод find_all возвращает массив всех элементов с тегом указанным в скобках. По нему можно итерироваться."
      ]
    },
    {
      "cell_type": "code",
      "execution_count": null,
      "metadata": {
        "colab": {
          "base_uri": "https://localhost:8080/"
        },
        "id": "Itv0BRL6YBCq",
        "outputId": "4d36413f-4f82-4fa8-8ed4-279db29dd58b"
      },
      "outputs": [
        {
          "output_type": "stream",
          "name": "stdout",
          "text": [
            "Я сдал пилотный экзамен Yandex Cloud Security Speciality, чтобы вам не пришлось\n",
            "<h2 class=\"tm-title tm-title_h2\" data-test-id=\"articleTitle\">\n",
            " <!--[-->\n",
            " <a class=\"tm-title__link\" data-article-link=\"true\" data-test-id=\"article-snippet-title-link\" href=\"/ru/companies/swordfish_security/articles/854712/\">\n",
            "  <span>\n",
            "   Я сдал пилотный экзамен Yandex Cloud Security Speciality, чтобы вам не пришлось\n",
            "  </span>\n",
            " </a>\n",
            " <!--]-->\n",
            "</h2>\n",
            "\n",
            "-- -- -- -- -- -- -- -- -- -- \n",
            "Scala Digest. Выпуск 22\n",
            "<h2 class=\"tm-title tm-title_h2\" data-test-id=\"articleTitle\">\n",
            " <!--[-->\n",
            " <a class=\"tm-title__link\" data-article-link=\"true\" data-test-id=\"article-snippet-title-link\" href=\"/ru/companies/tbank/articles/855240/\">\n",
            "  <span>\n",
            "   Scala Digest. Выпуск 22\n",
            "  </span>\n",
            " </a>\n",
            " <!--]-->\n",
            "</h2>\n",
            "\n",
            "-- -- -- -- -- -- -- -- -- -- \n",
            "Microsoft отложила выпуск Windows Recall до декабря\n",
            "<h2 class=\"tm-title tm-title_h2\" data-test-id=\"articleTitle\">\n",
            " <!--[-->\n",
            " <a class=\"tm-title__link\" data-article-link=\"true\" data-test-id=\"article-snippet-title-link\" href=\"/ru/news/855232/\">\n",
            "  <span>\n",
            "   Microsoft отложила выпуск Windows Recall до декабря\n",
            "  </span>\n",
            " </a>\n",
            " <!--]-->\n",
            "</h2>\n",
            "\n",
            "-- -- -- -- -- -- -- -- -- -- \n"
          ]
        }
      ],
      "source": [
        "for post in soup.find_all('h2', {'class': 'tm-title tm-title_h2'})[:3]:\n",
        "    print(post.get_text())\n",
        "    print(post.prettify())\n",
        "\n",
        "    print('-- '*10)  # для красоты"
      ]
    },
    {
      "cell_type": "markdown",
      "metadata": {
        "id": "vRbMZDOEYBCq"
      },
      "source": [
        "## Задание на семинар 1\n",
        "\n",
        "А что если мы хотим зайти еще глубже по дереву тегов и, например, для каждого заголовка поста найти никнейм юзера, который написал этот пост, и время написания поста?\n",
        "\n",
        "Для этого надо снова зайти в просмотор кода страницы и увидеть, что там просиходит что-то такое:\n",
        "\n",
        "(Заодно обратите внимание, как пишутся комменты в html)"
      ]
    },
    {
      "cell_type": "markdown",
      "metadata": {
        "id": "NP1aFnk3Y1-x"
      },
      "source": [
        "```\n",
        "<article class=\"tm-articles-list__item\" data-navigatable=\"\" id=\"771476\" tabindex=\"0\">\n",
        " <div class=\"tm-article-snippet tm-article-snippet\">\n",
        "  <div class=\"tm-article-snippet__meta-container\">\n",
        "   <div class=\"tm-article-snippet__meta\">\n",
        "    <span class=\"tm-user-info tm-article-snippet__author\">\n",
        "     <a class=\"tm-user-info__userpic\" href=\"/ru/users/darinka666/\" title=\"darinka666\">\n",
        "      <div class=\"tm-entity-image\">\n",
        "       <img alt=\"\" class=\"tm-entity-image__pic\" height=\"24\" src=\"https://assets.habr.com/habr-web/img/avatars/093.png\" width=\"24\"/>\n",
        "      </div>\n",
        "     </a>\n",
        "     <span class=\"tm-user-info__user tm-user-info__user_appearance-default\">\n",
        "      <a class=\"tm-user-info__username\" href=\"/ru/users/darinka666/\">\n",
        "       darinka666\n",
        "       <!-- -->\n",
        "      </a>\n",
        "      <span class=\"tm-article-datetime-published\">\n",
        "       <time datetime=\"2023-11-02T09:22:25.000Z\" title=\"2023-11-02, 12:22\">\n",
        "        11 минут назад\n",
        "       </time>\n",
        "      </span>\n",
        "     </span>\n",
        "    </span>\n",
        "   </div>\n",
        "   <!-- -->\n",
        "  </div>\n",
        "  <h2 class=\"tm-title tm-title_h2\">\n",
        "   <a class=\"tm-title__link\" data-article-link=\"true\" data-test-id=\"article-snippet-title-link\" href=\"/ru/companies/mts_ai/articles/771476/\">\n",
        "    <span>\n",
        "     Обзор Llemma: новая математическая open-source модель\n",
        "    </span>\n",
        "   </a>\n",
        "  </h2>\n",
        "  <div class=\"tm-article-snippet__stats\">\n",
        "   <div class=\"tm-article-complexity tm-article-complexity_complexity-medium\">\n",
        "    <span class=\"tm-svg-icon__wrapper tm-article-complexity__icon\">\n",
        "     <svg class=\"tm-svg-img tm-svg-icon\" height=\"24\" width=\"24\">\n",
        "      <title>\n",
        "       Уровень сложности\n",
        "      </title>\n",
        "      <use xlink:href=\"/img/megazord-v28.2fb1b1c1..svg#complexity-medium\">\n",
        "      </use>\n",
        "     </svg>\n",
        "    </span>\n",
        "    <span class=\"tm-article-complexity__label\">\n",
        "     Средний\n",
        "    </span>\n",
        "   </div>\n",
        "```\n",
        "(и так далее; часть вывода обрезана: обратите внимание, нет закрывающего тега `</article>`)"
      ]
    },
    {
      "cell_type": "code",
      "execution_count": null,
      "metadata": {
        "id": "kMamlB_4ZExT",
        "colab": {
          "base_uri": "https://localhost:8080/"
        },
        "outputId": "9585780b-8f24-4bfa-a0c3-a7c09b954df1"
      },
      "outputs": [
        {
          "output_type": "stream",
          "name": "stdout",
          "text": [
            "TEXT:\n",
            "Статья2010wdn 1 минуту назадЯ сдал пилотный экзамен Yandex Cloud Security Speciality, чтобы вам не пришлосьУровень сложностиПростойВремя на прочтение7 минКоличество просмотров10Блог компании Swordfish SecurityИнформационная безопасность*ОбзорПривет! На связи Влад Павловский, DevSecOps инженер компании Swordfish Security. В данной заметке хотел бы поделиться с вами опытом прохождения сертификации Yandex Cloud Security Speciality, который был запущен в октябре и так получилось, что у меня получилось пройти пилотный экзамен по приглашению команды сертификации Yandex Cloud и получить сертификат одним из первых, так что, надеюсь, мой отзыв будет полезен тем, кто рассматривает возможность записаться на прохождение сертификации или тем, кто уже записался и хотел бы узнать больше о том, что ожидает при сдаче. Поехали!Читать далееРейтинг0Добавить в закладки0Комментарии0\n",
            "-- -- -- -- -- -- -- -- -- -- \n",
            "HTML:\n",
            "<article class=\"tm-articles-list__item\" data-navigatable=\"\" data-test-id=\"articles-list-item\" id=\"854712\" tabindex=\"0\">\n",
            " <div class=\"tm-article-snippet tm-article-snippet\">\n",
            "  <!--[-->\n",
            "  <div class=\"publication-type-label publication-type-label_type-article\">\n",
            "   <span class=\"publication-type-label__label publication-type-label__label_type-article\">\n",
            "    Статья\n",
            "   </span>\n",
            "  </div>\n",
            "  <!--]-->\n",
            "  <div class=\"tm-article-snippet__meta-container\">\n",
            "   <div class=\"tm-article-snippet__meta\">\n",
            "    <span class=\"tm-user-info tm-article-snippet__author\">\n",
            "     <a class=\"tm-user-info__userpic\" data-test-id=\"user-info-pic\" href=\"/ru/users/2010wdn/\" title=\"2010wdn\">\n",
            "      <div class=\"tm-entity-image\">\n",
            "       <img alt=\"\" class=\"tm-entity-image__pic\" height=\"24\" src=\"//habrastorage.org/r/w48/getpro/habr/avatars/2d3/9f2/0ab/2d39f20ab804c5e37fed31c3e560d614.jpg\" width=\"24\"/>\n",
            "      </div>\n",
            "     </a>\n",
            "     <span class=\"tm-user-info__user tm-user-info__user_appearance-default\" data-test-id=\"user-info-description\">\n",
            "      <a class=\"tm-user-info__username\" href=\"/ru/users/2010wdn/\">\n",
            "       2010wdn\n",
            "       <!-- -->\n",
            "      </a>\n",
            "      <!--[-->\n",
            "      <a class=\"tm-article-datetime-published tm-article-datetime-published_link\" href=\"/ru/companies/swordfish_security/articles/854712/\">\n",
            "       <!--[-->\n",
            "       <time datetime=\"2024-11-01T08:00:32.000Z\" title=\"2024-11-01, 11:00\">\n",
            "        1 минуту назад\n",
            "       </time>\n",
            "       <!--]-->\n",
            "      </a>\n",
            "      <!--]-->\n",
            "     </span>\n",
            "    </span>\n",
            "   </div>\n",
            "   <!-- -->\n",
            "  </div>\n",
            "  <h2 class=\"tm-title tm-title_h2\" data-test-id=\"articleTitle\">\n",
            "   <!--[-->\n",
            "   <a class=\"tm-title__link\" data-article-link=\"true\" data-test-id=\"article-snippet-title-link\" href=\"/ru/companies/swordfish_security/articles/854712/\">\n",
            "    <span>\n",
            "     Я сдал пилотный экзамен Yandex Cloud Security Speciality, чтобы вам не пришлось\n",
            "    </span>\n",
            "   </a>\n",
            "   <!--]-->\n",
            "  </h2>\n",
            "  <div class=\"tm-article-snippet__stats\" data-test-id=\"articleStats\">\n",
            "   <div class=\"tm-article-complexity tm-article-complexity_complexity-lo\n",
            "-- -- -- -- -- -- -- -- -- -- \n",
            "-- -- -- -- -- -- -- -- -- -- \n",
            "-- -- -- -- -- -- -- -- -- -- \n",
            "TEXT:\n",
            "СтатьяEvieLynn 2 минуты назадScala Digest. Выпуск 22Уровень сложностиПростойВремя на прочтение4 минКоличество просмотров2Блог компании Т-БанкScala*ДайджестПривет, Хабр! Мы — Настя и Эвелина — бэкенд-разработчики Т-Банка, пишем код на Scala и горим желанием его популяризировать. Мы собираем и агрегируем новости из разных источников, включая Scala Times, блог Petr Zapletal и канал Scala Nishtyaki, добавляем дополнительные новости и собственные комментарии. Мотивацию мы черпаем из желания развиваться и делиться полученными знаниями. Приветствуем любую обратную связь! (づ ◕‿◕ )づТеперь вы можете поделиться собственными материалами!Читать двадцать второй выпускРейтинг0Добавить в закладки0Комментарии0\n",
            "-- -- -- -- -- -- -- -- -- -- \n",
            "HTML:\n",
            "<article class=\"tm-articles-list__item\" data-navigatable=\"\" data-test-id=\"articles-list-item\" id=\"855240\" tabindex=\"0\">\n",
            " <div class=\"tm-article-snippet tm-article-snippet\">\n",
            "  <!--[-->\n",
            "  <div class=\"publication-type-label publication-type-label_type-article\">\n",
            "   <span class=\"publication-type-label__label publication-type-label__label_type-article\">\n",
            "    Статья\n",
            "   </span>\n",
            "  </div>\n",
            "  <!--]-->\n",
            "  <div class=\"tm-article-snippet__meta-container\">\n",
            "   <div class=\"tm-article-snippet__meta\">\n",
            "    <span class=\"tm-user-info tm-article-snippet__author\">\n",
            "     <a class=\"tm-user-info__userpic\" data-test-id=\"user-info-pic\" href=\"/ru/users/EvieLynn/\" title=\"EvieLynn\">\n",
            "      <div class=\"tm-entity-image\">\n",
            "       <!--[-->\n",
            "       <img alt=\"\" class=\"tm-entity-image__pic\" height=\"24\" src=\"https://assets.habr.com/habr-web/img/avatars/011.png\" width=\"24\"/>\n",
            "       <!--]-->\n",
            "      </div>\n",
            "     </a>\n",
            "     <span class=\"tm-user-info__user tm-user-info__user_appearance-default\" data-test-id=\"user-info-description\">\n",
            "      <a class=\"tm-user-info__username\" href=\"/ru/users/EvieLynn/\">\n",
            "       EvieLynn\n",
            "       <!-- -->\n",
            "      </a>\n",
            "      <!--[-->\n",
            "      <a class=\"tm-article-datetime-published tm-article-datetime-published_link\" href=\"/ru/companies/tbank/articles/855240/\">\n",
            "       <!--[-->\n",
            "       <time datetime=\"2024-11-01T07:59:52.000Z\" title=\"2024-11-01, 10:59\">\n",
            "        2 минуты назад\n",
            "       </time>\n",
            "       <!--]-->\n",
            "      </a>\n",
            "      <!--]-->\n",
            "     </span>\n",
            "    </span>\n",
            "   </div>\n",
            "   <!-- -->\n",
            "  </div>\n",
            "  <h2 class=\"tm-title tm-title_h2\" data-test-id=\"articleTitle\">\n",
            "   <!--[-->\n",
            "   <a class=\"tm-title__link\" data-article-link=\"true\" data-test-id=\"article-snippet-title-link\" href=\"/ru/companies/tbank/articles/855240/\">\n",
            "    <span>\n",
            "     Scala Digest. Выпуск 22\n",
            "    </span>\n",
            "   </a>\n",
            "   <!--]-->\n",
            "  </h2>\n",
            "  <div class=\"tm-article-snippet__stats\" data-test-id=\"articleStats\">\n",
            "   <div class=\"tm-article-complexity tm-article-complexity_complexity-low\">\n",
            "    <span class=\"tm-svg-icon__wrapper tm-article-complexity__icon\">\n",
            "     <svg class\n",
            "-- -- -- -- -- -- -- -- -- -- \n",
            "-- -- -- -- -- -- -- -- -- -- \n",
            "-- -- -- -- -- -- -- -- -- -- \n",
            "TEXT:\n",
            "Новостьmaybe_elf 4 минуты назадMicrosoft отложила выпуск Windows Recall до декабряВремя на прочтение2 минКоличество просмотров28Разработка под Windows*СофтИскусственный интеллектУправление разработкой*​Microsoft снова откладывает выпуск функции Windows Recall на базе ИИ. На этот раз её релиз перенесли с октября на декабрь.Читать далееРейтинг0Добавить в закладки0Комментарии0\n",
            "-- -- -- -- -- -- -- -- -- -- \n",
            "HTML:\n",
            "<article class=\"tm-articles-list__item\" data-navigatable=\"\" data-test-id=\"articles-list-item\" id=\"855232\" tabindex=\"0\">\n",
            " <div class=\"tm-article-snippet tm-article-snippet\">\n",
            "  <!--[-->\n",
            "  <div class=\"publication-type-label publication-type-label_type-news\">\n",
            "   <span class=\"publication-type-label__label publication-type-label__label_type-news\">\n",
            "    Новость\n",
            "   </span>\n",
            "  </div>\n",
            "  <!--]-->\n",
            "  <div class=\"tm-article-snippet__meta-container\">\n",
            "   <div class=\"tm-article-snippet__meta\">\n",
            "    <span class=\"tm-user-info tm-article-snippet__author\">\n",
            "     <a class=\"tm-user-info__userpic\" data-test-id=\"user-info-pic\" href=\"/ru/users/maybe_elf/\" title=\"maybe_elf\">\n",
            "      <div class=\"tm-entity-image\">\n",
            "       <img alt=\"\" class=\"tm-entity-image__pic\" height=\"24\" src=\"//habrastorage.org/r/w48/getpro/habr/avatars/592/11d/4bc/59211d4bcd7f9afdadaef515b2b0706d.jpg\" width=\"24\"/>\n",
            "      </div>\n",
            "     </a>\n",
            "     <span class=\"tm-user-info__user tm-user-info__user_appearance-default\" data-test-id=\"user-info-description\">\n",
            "      <a class=\"tm-user-info__username\" href=\"/ru/users/maybe_elf/\">\n",
            "       maybe_elf\n",
            "       <!-- -->\n",
            "      </a>\n",
            "      <!--[-->\n",
            "      <a class=\"tm-article-datetime-published tm-article-datetime-published_link\" href=\"/ru/news/855232/\">\n",
            "       <!--[-->\n",
            "       <time datetime=\"2024-11-01T07:57:28.000Z\" title=\"2024-11-01, 10:57\">\n",
            "        4 минуты назад\n",
            "       </time>\n",
            "       <!--]-->\n",
            "      </a>\n",
            "      <!--]-->\n",
            "     </span>\n",
            "    </span>\n",
            "   </div>\n",
            "   <!-- -->\n",
            "  </div>\n",
            "  <h2 class=\"tm-title tm-title_h2\" data-test-id=\"articleTitle\">\n",
            "   <!--[-->\n",
            "   <a class=\"tm-title__link\" data-article-link=\"true\" data-test-id=\"article-snippet-title-link\" href=\"/ru/news/855232/\">\n",
            "    <span>\n",
            "     Microsoft отложила выпуск Windows Recall до декабря\n",
            "    </span>\n",
            "   </a>\n",
            "   <!--]-->\n",
            "  </h2>\n",
            "  <div class=\"tm-article-snippet__stats\" data-test-id=\"articleStats\">\n",
            "   <!-- -->\n",
            "   <div class=\"tm-article-reading-time\">\n",
            "    <span class=\"tm-svg-icon__wrapper tm-article-reading-time__icon\">\n",
            "     <svg class=\"tm-svg-img tm-svg-icon\"\n",
            "-- -- -- -- -- -- -- -- -- -- \n",
            "-- -- -- -- -- -- -- -- -- -- \n",
            "-- -- -- -- -- -- -- -- -- -- \n"
          ]
        }
      ],
      "source": [
        "for post in soup.find_all(\"article\")[:3]:\n",
        "    print(\"TEXT:\")\n",
        "    print(post.get_text()[:1000])\n",
        "    print('-- '*10)\n",
        "    print(\"HTML:\")\n",
        "    print(post.prettify()[:2000])\n",
        "\n",
        "    print('-- '*10)\n",
        "    print('-- '*10)\n",
        "    print('-- '*10)"
      ]
    },
    {
      "cell_type": "markdown",
      "metadata": {
        "id": "Vtti9jzmYBCr"
      },
      "source": [
        "## Задание на семинар 2\n",
        "\n",
        "Скачать главную страницу Яндекс.Погоды и\n",
        "    \n",
        "- а) распечатать сегодняшнюю температуру и облачность\n",
        "- б) распечатать время восхода и заката\n",
        "- в) погоду на завтра"
      ]
    },
    {
      "cell_type": "markdown",
      "metadata": {
        "id": "PhTHnk9obW2_"
      },
      "source": [
        "Простая версия: вместо Яндекс.Погоды возьмите [этот](https://simple-weather-website.netlify.app/) сайт и получите температуру, влажность и скорость ветра"
      ]
    },
    {
      "cell_type": "markdown",
      "metadata": {
        "id": "q_7F_56RYBCr"
      },
      "source": [
        "## Хорошая статья про это все\n",
        "\n",
        "[https://sysblok.ru/courses/obkachka-sajtov-svoimi-rukami-razbiraemsja-s-html/](https://sysblok.ru/courses/obkachka-sajtov-svoimi-rukami-razbiraemsja-s-html/)"
      ]
    },
    {
      "cell_type": "markdown",
      "metadata": {
        "id": "VzMuRjYqfDVW"
      },
      "source": [
        "# Бонус"
      ]
    },
    {
      "cell_type": "markdown",
      "metadata": {
        "id": "pggKMj-sfJ3k"
      },
      "source": [
        "Иногда можно не изгаляться с html, а воспользоваться специальным инструментом: **API**\n",
        "\n",
        "API расшифровывается как Application Programming Interface. Это набор правил, которыми одна программа может общаться и взаимодействовать с другой, в том числе с сайтами. Например, \"сделай запрос к такой-то странице в таком-то формате, чтобы получить JSON с данными о погоде и не парсить HTML руками\"\n",
        "\n",
        "Но сначала пример попроще. Это сайт, который просто возвращает случайные картинки с лисами (есть агрегатор разных API https://publicapi.dev/, там много такого можно найти):"
      ]
    },
    {
      "cell_type": "code",
      "execution_count": null,
      "metadata": {
        "id": "IUURHDgVfCsB"
      },
      "outputs": [],
      "source": [
        "fox = requests.get(\"https://randomfox.ca/floof/\")"
      ]
    },
    {
      "cell_type": "markdown",
      "metadata": {
        "id": "jnwDqQZ3gE9R"
      },
      "source": [
        "Обратите внимание, что `.text` вернет нам *строку*:"
      ]
    },
    {
      "cell_type": "code",
      "execution_count": null,
      "metadata": {
        "colab": {
          "base_uri": "https://localhost:8080/",
          "height": 35
        },
        "id": "McKzVvz1fUzE",
        "outputId": "d156ac30-3803-492f-f998-6eda13d7ea30"
      },
      "outputs": [
        {
          "output_type": "execute_result",
          "data": {
            "text/plain": [
              "'{\"image\":\"https:\\\\/\\\\/randomfox.ca\\\\/images\\\\/47.jpg\",\"link\":\"https:\\\\/\\\\/randomfox.ca\\\\/?i=47\"}'"
            ],
            "application/vnd.google.colaboratory.intrinsic+json": {
              "type": "string"
            }
          },
          "metadata": {},
          "execution_count": 32
        }
      ],
      "source": [
        "fox.text"
      ]
    },
    {
      "cell_type": "markdown",
      "metadata": {
        "id": "BVKEivgTgKZD"
      },
      "source": [
        "Но у респонза есть еще метод `.json()`. В данном случае он сразу приведет к списку или словарю. В данном случае словарь, так как API возвращает словарь с несколькими ключами.\n",
        "\n"
      ]
    },
    {
      "cell_type": "code",
      "execution_count": null,
      "metadata": {
        "colab": {
          "base_uri": "https://localhost:8080/"
        },
        "id": "inM_t4xbfVWY",
        "outputId": "971210a6-a48a-41ff-bf74-2c140c755397"
      },
      "outputs": [
        {
          "output_type": "execute_result",
          "data": {
            "text/plain": [
              "{'image': 'https://randomfox.ca/images/47.jpg',\n",
              " 'link': 'https://randomfox.ca/?i=47'}"
            ]
          },
          "metadata": {},
          "execution_count": 33
        }
      ],
      "source": [
        "fox.json()"
      ]
    },
    {
      "cell_type": "markdown",
      "metadata": {
        "id": "UKid0Ct2jZgD"
      },
      "source": [
        "Более сложный, но и более интересный пример: https://newsapi.org/\n",
        "\n",
        " На главной нужно получить ключ. Многие API доступны только по ключам: например, API гитхаба так определяет, к каким репозиториям у вас есть доступ, а к каким нет; некоторые API ограничивают число запросов на одного пользователя; и т.д.\n",
        "\n",
        " **Ключ — это личная информация**, как, например, пароль. Ключ нежелательно вставлять в код, потому что будет легко забыть его удалить перед тем, как вы где-то этот код опубликуете. Лучше положить в отдельный файл и его читать:"
      ]
    },
    {
      "cell_type": "code",
      "execution_count": null,
      "metadata": {
        "id": "emsYdMpsj60i"
      },
      "outputs": [],
      "source": [
        "with open(\"news_api_key.txt\", \"r\") as f:\n",
        "  api_key = f.read()"
      ]
    },
    {
      "cell_type": "markdown",
      "source": [
        "А если вы работаете в колабе, то можно положить ключ в секреты колаба и сделать вот так:"
      ],
      "metadata": {
        "id": "3yIGPfxkyBxQ"
      }
    },
    {
      "cell_type": "code",
      "source": [
        "from google.colab import userdata\n",
        "\n",
        "api_key = userdata.get('NEWS_API_KEY')"
      ],
      "metadata": {
        "id": "O_WRdn6dyBFP"
      },
      "execution_count": null,
      "outputs": []
    },
    {
      "cell_type": "markdown",
      "metadata": {
        "id": "NSKdtTOxmPvI"
      },
      "source": [
        "Какие параметры можно указывать в запросе, смотрите здесь: https://newsapi.org/docs/endpoints/everything"
      ]
    },
    {
      "cell_type": "code",
      "execution_count": null,
      "metadata": {
        "id": "zztCyXuRj6DX"
      },
      "outputs": [],
      "source": [
        "news = requests.get(\n",
        "    f\"https://newsapi.org/v2/everything?q=Apple&from=2024-10-25&sortBy=popularity&apiKey={api_key}\"\n",
        "    ).json()"
      ]
    },
    {
      "cell_type": "code",
      "execution_count": null,
      "metadata": {
        "colab": {
          "base_uri": "https://localhost:8080/"
        },
        "id": "9LOf1pLAviZU",
        "outputId": "88a0a624-c323-4777-81e3-8a8191f9bac1"
      },
      "outputs": [
        {
          "output_type": "execute_result",
          "data": {
            "text/plain": [
              "{'status': 'ok',\n",
              " 'totalResults': 10036,\n",
              " 'articles': [{'source': {'id': None, 'name': 'Yahoo Entertainment'},\n",
              "   'author': 'Lawrence Bonk',\n",
              "   'title': 'iOS 18.2 will include daily Sudoku puzzles for Apple News+ subscribers',\n",
              "   'description': 'The long-anticipated iPhone iOS 18.1 officially launches next week\\r\\n, bringing with it Apple Intelligence\\r\\n, but we are already on to the next new thing. The company is busy preparing iOS 18.2\\r\\n, which has already entered its beta stage and should be widely r…',\n",
              "   'url': 'https://consent.yahoo.com/v2/collectConsent?sessionId=1_cc-session_7d792da3-893e-4d23-a5d9-4bce6937dc26',\n",
              "   'urlToImage': None,\n",
              "   'publishedAt': '2024-10-25T16:51:16Z',\n",
              "   'content': \"If you click 'Accept all', we and our partners, including 237 who are part of the IAB Transparency &amp; Consent Framework, will also store and/or access information on a device (in other words, use … [+678 chars]\"},\n",
              "  {'source': {'id': None, 'name': 'Yahoo Entertainment'},\n",
              "   'author': 'Will Shanklin',\n",
              "   'title': 'Apple Intelligence is coming to EU iPhones and iPads in April',\n",
              "   'description': 'Folks in the European Union finally know when Apple Intelligence will be available on their mobile devices. Apple told EU users on Monday that its AI suite will arrive in April 2025. The first Apple Intelligence features, including Writing Tools and AI notifi…',\n",
              "   'url': 'https://consent.yahoo.com/v2/collectConsent?sessionId=1_cc-session_9e418204-613e-41ea-849e-1acac15729e7',\n",
              "   'urlToImage': None,\n",
              "   'publishedAt': '2024-10-28T19:10:28Z',\n",
              "   'content': \"If you click 'Accept all', we and our partners, including 237 who are part of the IAB Transparency &amp; Consent Framework, will also store and/or access information on a device (in other words, use … [+678 chars]\"},\n",
              "  {'source': {'id': None, 'name': '[Removed]'},\n",
              "   'author': None,\n",
              "   'title': '[Removed]',\n",
              "   'description': '[Removed]',\n",
              "   'url': 'https://removed.com',\n",
              "   'urlToImage': None,\n",
              "   'publishedAt': '2024-10-29T11:16:45Z',\n",
              "   'content': '[Removed]'},\n",
              "  {'source': {'id': None, 'name': 'Yahoo Entertainment'},\n",
              "   'author': 'Will Shanklin',\n",
              "   'title': 'Everything Apple announced during its unofficial Mac Week',\n",
              "   'description': 'Following the illustrious line of calendar-spanning corporate events like Lobsterfest and Shark Week, Apple tried something new this year with a celebration unofficially known as Mac Week. (Fortunately for Apple, it just so happens to coincide with its earnin…',\n",
              "   'url': 'https://consent.yahoo.com/v2/collectConsent?sessionId=1_cc-session_c32e977d-97fc-463b-bc24-4576a92cbe19',\n",
              "   'urlToImage': None,\n",
              "   'publishedAt': '2024-10-30T21:01:15Z',\n",
              "   'content': \"If you click 'Accept all', we and our partners, including 237 who are part of the IAB Transparency &amp; Consent Framework, will also store and/or access information on a device (in other words, use … [+678 chars]\"},\n",
              "  {'source': {'id': None, 'name': '[Removed]'},\n",
              "   'author': None,\n",
              "   'title': '[Removed]',\n",
              "   'description': '[Removed]',\n",
              "   'url': 'https://removed.com',\n",
              "   'urlToImage': None,\n",
              "   'publishedAt': '2024-10-28T15:12:51Z',\n",
              "   'content': '[Removed]'},\n",
              "  {'source': {'id': None, 'name': 'Yahoo Entertainment'},\n",
              "   'author': 'Kris Holt',\n",
              "   'title': 'Apple unveils its top-of-the-line M4 Max chip',\n",
              "   'description': 'Apple is continuing its week of announcements by revealing the latest MacBook Pro lineup, as well as its new top-of-the-line chip. The M4 Max has a 40-core GPU — double the number of cores found in the M4 Pro\\r\\n that the company revealed this week. It has a 16…',\n",
              "   'url': 'https://consent.yahoo.com/v2/collectConsent?sessionId=1_cc-session_0158981c-d68b-4ed0-8507-1fdc9277bfed',\n",
              "   'urlToImage': None,\n",
              "   'publishedAt': '2024-10-30T15:02:41Z',\n",
              "   'content': \"If you click 'Accept all', we and our partners, including 237 who are part of the IAB Transparency &amp; Consent Framework, will also store and/or access information on a device (in other words, use … [+678 chars]\"},\n",
              "  {'source': {'id': None, 'name': '[Removed]'},\n",
              "   'author': None,\n",
              "   'title': '[Removed]',\n",
              "   'description': '[Removed]',\n",
              "   'url': 'https://removed.com',\n",
              "   'urlToImage': None,\n",
              "   'publishedAt': '2024-10-30T20:45:49Z',\n",
              "   'content': '[Removed]'},\n",
              "  {'source': {'id': None, 'name': '[Removed]'},\n",
              "   'author': None,\n",
              "   'title': '[Removed]',\n",
              "   'description': '[Removed]',\n",
              "   'url': 'https://removed.com',\n",
              "   'urlToImage': None,\n",
              "   'publishedAt': '2024-10-25T20:42:41Z',\n",
              "   'content': '[Removed]'},\n",
              "  {'source': {'id': None, 'name': 'Yahoo Entertainment'},\n",
              "   'author': 'Kris Holt',\n",
              "   'title': 'Apple Intelligence starts rolling out with iOS 18.1 and macOS 15.1',\n",
              "   'description': 'The wait is finally over. Apple Intelligence is making its proper debut with the public releases of iOS 18.1, iPadOS 18.1 and macOS Sequoia 15.1. Typically, point-one versions of Apple operating systems add minor features and fix bugs, but the Apple Intellige…',\n",
              "   'url': 'https://consent.yahoo.com/v2/collectConsent?sessionId=1_cc-session_6af3306f-73b8-42a8-8b5b-6114e6e7025e',\n",
              "   'urlToImage': None,\n",
              "   'publishedAt': '2024-10-28T15:10:23Z',\n",
              "   'content': \"If you click 'Accept all', we and our partners, including 237 who are part of the IAB Transparency &amp; Consent Framework, will also store and/or access information on a device (in other words, use … [+678 chars]\"},\n",
              "  {'source': {'id': None, 'name': '[Removed]'},\n",
              "   'author': None,\n",
              "   'title': '[Removed]',\n",
              "   'description': '[Removed]',\n",
              "   'url': 'https://removed.com',\n",
              "   'urlToImage': None,\n",
              "   'publishedAt': '2024-10-29T15:05:49Z',\n",
              "   'content': '[Removed]'},\n",
              "  {'source': {'id': None, 'name': '[Removed]'},\n",
              "   'author': None,\n",
              "   'title': '[Removed]',\n",
              "   'description': '[Removed]',\n",
              "   'url': 'https://removed.com',\n",
              "   'urlToImage': None,\n",
              "   'publishedAt': '2024-10-28T13:39:07Z',\n",
              "   'content': '[Removed]'},\n",
              "  {'source': {'id': None, 'name': '[Removed]'},\n",
              "   'author': None,\n",
              "   'title': '[Removed]',\n",
              "   'description': '[Removed]',\n",
              "   'url': 'https://removed.com',\n",
              "   'urlToImage': None,\n",
              "   'publishedAt': '2024-10-27T21:04:12Z',\n",
              "   'content': '[Removed]'},\n",
              "  {'source': {'id': None, 'name': '[Removed]'},\n",
              "   'author': None,\n",
              "   'title': '[Removed]',\n",
              "   'description': '[Removed]',\n",
              "   'url': 'https://removed.com',\n",
              "   'urlToImage': None,\n",
              "   'publishedAt': '2024-10-29T15:00:16Z',\n",
              "   'content': '[Removed]'},\n",
              "  {'source': {'id': None, 'name': '[Removed]'},\n",
              "   'author': None,\n",
              "   'title': '[Removed]',\n",
              "   'description': '[Removed]',\n",
              "   'url': 'https://removed.com',\n",
              "   'urlToImage': None,\n",
              "   'publishedAt': '2024-10-30T16:45:20Z',\n",
              "   'content': '[Removed]'},\n",
              "  {'source': {'id': None, 'name': '[Removed]'},\n",
              "   'author': None,\n",
              "   'title': '[Removed]',\n",
              "   'description': '[Removed]',\n",
              "   'url': 'https://removed.com',\n",
              "   'urlToImage': None,\n",
              "   'publishedAt': '2024-10-30T11:17:12Z',\n",
              "   'content': '[Removed]'},\n",
              "  {'source': {'id': None, 'name': '[Removed]'},\n",
              "   'author': None,\n",
              "   'title': '[Removed]',\n",
              "   'description': '[Removed]',\n",
              "   'url': 'https://removed.com',\n",
              "   'urlToImage': None,\n",
              "   'publishedAt': '2024-10-30T15:00:55Z',\n",
              "   'content': '[Removed]'},\n",
              "  {'source': {'id': None, 'name': '[Removed]'},\n",
              "   'author': None,\n",
              "   'title': '[Removed]',\n",
              "   'description': '[Removed]',\n",
              "   'url': 'https://removed.com',\n",
              "   'urlToImage': None,\n",
              "   'publishedAt': '2024-10-30T17:30:14Z',\n",
              "   'content': '[Removed]'},\n",
              "  {'source': {'id': None, 'name': 'Yahoo Entertainment'},\n",
              "   'author': 'Daniel Cooper',\n",
              "   'title': 'The Morning After: Apple’s Week of Announcements starts Monday',\n",
              "   'description': 'If you’re fluent with concepts like release schedules and calendars, you may notice Apple hasn’t updated its computers in a while. It’s nearly a full year since the iMac and MacBook Pro got speed bumps, and just over a year for the Mac Pro and Mac Studio. Now…',\n",
              "   'url': 'https://consent.yahoo.com/v2/collectConsent?sessionId=1_cc-session_fff9f5be-a2f9-47ac-97ca-ed507d083a72',\n",
              "   'urlToImage': None,\n",
              "   'publishedAt': '2024-10-25T11:15:15Z',\n",
              "   'content': \"If you click 'Accept all', we and our partners, including 237 who are part of the IAB Transparency &amp; Consent Framework, will also store and/or access information on a device (in other words, use … [+678 chars]\"},\n",
              "  {'source': {'id': None, 'name': 'Yahoo Entertainment'},\n",
              "   'author': 'Amy Skorheim',\n",
              "   'title': \"The M2 MacBook Air is cheaper than ever at $700, plus the rest of this week's best tech deals\",\n",
              "   'description': \"Black Friday/Cyber Monday is more than a month away (Thanksgiving falls on November 28 this year — I looked it up so you don't have to). So while we wait for all of the best-of-the-year discounts the shopping event usually entails, there are still a few worth…\",\n",
              "   'url': 'https://consent.yahoo.com/v2/collectConsent?sessionId=1_cc-session_d2acb20b-6598-45ac-a5bf-921ae6fe59d5',\n",
              "   'urlToImage': None,\n",
              "   'publishedAt': '2024-10-25T17:10:31Z',\n",
              "   'content': \"If you click 'Accept all', we and our partners, including 237 who are part of the IAB Transparency &amp; Consent Framework, will also store and/or access information on a device (in other words, use … [+678 chars]\"},\n",
              "  {'source': {'id': None, 'name': 'Yahoo Entertainment'},\n",
              "   'author': 'Valentina Palladino',\n",
              "   'title': 'Kindle Colorsoft review: The missing link in Amazon’s ereader lineup',\n",
              "   'description': 'Well, it finally happened. After years of waiting and requests, Amazon debuted the $280 Kindle Colorsoft, its first ereader with a color display. The company’s ereaders have dominated this space since the original Kindle came out 17 years ago, but in this cas…',\n",
              "   'url': 'https://consent.yahoo.com/v2/collectConsent?sessionId=1_cc-session_b1261346-3b77-43e5-9c88-2ed04a0f22fb',\n",
              "   'urlToImage': None,\n",
              "   'publishedAt': '2024-10-30T13:15:29Z',\n",
              "   'content': \"If you click 'Accept all', we and our partners, including 237 who are part of the IAB Transparency &amp; Consent Framework, will also store and/or access information on a device (in other words, use … [+678 chars]\"},\n",
              "  {'source': {'id': 'wired', 'name': 'Wired'},\n",
              "   'author': 'Brenda Stolyar',\n",
              "   'title': 'Mac Mini (2024): Specs, Release Date, Price, Features',\n",
              "   'description': 'This desktop computer has its first design change since 2010, with a smaller footprint, vents at the bottom, and ports on the front.',\n",
              "   'url': 'https://www.wired.com/story/apple-mac-mini-2024/',\n",
              "   'urlToImage': 'https://media.wired.com/photos/672053fafe5589c5d79e9f90/191:100/w_1280,c_limit/Gear_Apple-Mac-mini-front-facing-ports-pink.jpg',\n",
              "   'publishedAt': '2024-10-29T15:00:00Z',\n",
              "   'content': \"There's Shark Week, and then there's Mac Week. It's a little less exciting, but Apple first announced a new iMac yesterday, and today we're being treated to a new Mac Mini. Tomorrow, there's a good c… [+2268 chars]\"},\n",
              "  {'source': {'id': 'wired', 'name': 'Wired'},\n",
              "   'author': 'Makena Kelly',\n",
              "   'title': 'A Running List of the Tech CEOs Donald Trump Claims Are Calling Him to Suck Up',\n",
              "   'description': \"Some of the most powerful people in Silicon Valley appear to be quietly sitting out the presidential election cycle. But Trump says that in private, it's a different story.\",\n",
              "   'url': 'https://www.wired.com/story/tech-ceos-trump-claims-are-courting-him/',\n",
              "   'urlToImage': 'https://media.wired.com/photos/671f9d3d2c0fb6f2c687a28a/191:100/w_1280,c_limit/GettyImages-2176994436.jpg',\n",
              "   'publishedAt': '2024-10-28T18:08:54Z',\n",
              "   'content': 'With only a few days left until the US presidential election, Donald Trump is claiming that some of Silicon Valleys most powerful billionaires and tech leaders are seeking him out.\\r\\nMany of these lea… [+2154 chars]'},\n",
              "  {'source': {'id': 'wired', 'name': 'Wired'},\n",
              "   'author': 'Simon Lucas',\n",
              "   'title': 'Technics SC-CX700 Review: Faithful Musical Reproduction',\n",
              "   'description': 'These gorgeous powered speakers bring some much-needed competition to KEF’s LS50 line.',\n",
              "   'url': 'https://www.wired.com/review/technics-sc-cx700/',\n",
              "   'urlToImage': 'https://media.wired.com/photos/671fef072c4f080bbb754e8e/191:100/w_1280,c_limit/Technics-SC-CX700-Wireless-Speakers-Reviewer-Collage-102024-SOURCE-Parker-Hall.jpg',\n",
              "   'publishedAt': '2024-10-29T14:03:00Z',\n",
              "   'content': 'The primary speaker features a few physical controls across its top surface, but greater control is available via an unglamorous remote control handset. Theres also the Technics Audio Center control … [+1739 chars]'},\n",
              "  {'source': {'id': 'the-verge', 'name': 'The Verge'},\n",
              "   'author': 'Antonio G. Di Benedetto',\n",
              "   'title': 'All the news from Apple’s ‘week’ of Mac announcements',\n",
              "   'description': 'Apple is announcing an M4 MacBook Pro, an M4 iMac, and a redesigned M4 Mac Mini. Here’s all the news on Apple’s latest Macs.',\n",
              "   'url': 'https://www.theverge.com/24279307/apple-mac-m4-updates-news-announcements',\n",
              "   'urlToImage': 'https://cdn.vox-cdn.com/thumbor/leY81221X3PjSymyEVG7k6RKfb8=/0x0:2040x1360/1200x628/filters:focal(1020x680:1021x681)/cdn.vox-cdn.com/uploads/chorus_asset/file/25697396/STK071_APPLE_M.jpg',\n",
              "   'publishedAt': '2024-10-28T10:00:00Z',\n",
              "   'content': 'New Macs are coming. Apple has teased a week of announcements around the Mac starting on Monday, October 28th. And after months of leaks, we have a pretty good idea of whats in the cards.\\r\\nApple is l… [+7161 chars]'},\n",
              "  {'source': {'id': 'the-verge', 'name': 'The Verge'},\n",
              "   'author': 'Jay Peters',\n",
              "   'title': 'A first look at Apple’s redesigned Mac Mini and its other new Macs',\n",
              "   'description': 'Apple has officially announced its M4-equipped Mac Minis, iMacs, and MacBook Pros, and we were able to take photos of the new computers.',\n",
              "   'url': 'https://www.theverge.com/2024/10/30/24283861/apple-redesigned-mac-mini-macbook-pro-imac-m4-photos',\n",
              "   'urlToImage': 'https://cdn.vox-cdn.com/thumbor/F8dk3-nYCIV4ini-dVFFXi1_wQI=/0x0:2040x1361/1200x628/filters:focal(1020x681:1021x682)/cdn.vox-cdn.com/uploads/chorus_asset/file/25706946/214A8906.jpg',\n",
              "   'publishedAt': '2024-10-30T19:30:00Z',\n",
              "   'content': 'A first look at Apples redesigned Mac Mini and its other new Macs\\r\\nA first look at Apples redesigned Mac Mini and its other new Macs\\r\\n / The Mac Mini is indeed very mini.\\r\\nByJay Peters, a news editor… [+1212 chars]'},\n",
              "  {'source': {'id': 'the-verge', 'name': 'The Verge'},\n",
              "   'author': 'Jay Peters',\n",
              "   'title': 'Apple put the Magic Mouse’s charging port on the bottom again',\n",
              "   'description': 'Apple just announced a new version of the Magic Mouse, and it still has the charging port on the underside of the device.',\n",
              "   'url': 'https://www.theverge.com/2024/10/28/24276043/apple-new-usb-c-magic-mouse-charging-port-bottom',\n",
              "   'urlToImage': 'https://cdn.vox-cdn.com/thumbor/BIixQ1Q-A0AX1thL1K-yyzOX-QY=/0x0:1590x994/1200x628/filters:focal(888x442:889x443)/cdn.vox-cdn.com/uploads/chorus_asset/file/25703120/Screenshot_2024_10_28_at_11.33.03_AM.png',\n",
              "   'publishedAt': '2024-10-28T15:42:23Z',\n",
              "   'content': 'Yup, it’s still there. | Image: Apple\\r\\n\\n \\n\\n Apple’s new USB-C-equipped Magic Mouse somehow still has the charging port on the bottom. While Apple could have used the launch as an opportunity to move … [+788 chars]'},\n",
              "  {'source': {'id': 'the-verge', 'name': 'The Verge'},\n",
              "   'author': 'Quentyn Kennemer',\n",
              "   'title': 'Here’s where you can preorder Apple’s colorful M4 iMac (and what’s included)',\n",
              "   'description': 'The new M4-based iMac doesn’t launch until November 8, but you can already preorder it starting at $1,299. Here’s what you should know about the various configurations.',\n",
              "   'url': 'https://www.theverge.com/24279801/apple-macbook-pro-mac-mini-imac-m4-preorder-buy-price-release-date',\n",
              "   'urlToImage': 'https://cdn.vox-cdn.com/thumbor/HSS-ceWx4hofzOmjNARnTnvb_j8=/0x0:1646x1097/1200x628/filters:focal(823x549:824x550)/cdn.vox-cdn.com/uploads/chorus_asset/file/25703112/Apple_iMac_M4_lifestyle_24_inch_Retina_display.jpg',\n",
              "   'publishedAt': '2024-10-28T17:48:41Z',\n",
              "   'content': 'Heres where you can preorder Apples colorful M4 iMac (and whats included)\\r\\nHeres where you can preorder Apples colorful M4 iMac (and whats included)\\r\\n / The new all-in-one will arrive on November 8th… [+2918 chars]'},\n",
              "  {'source': {'id': 'the-verge', 'name': 'The Verge'},\n",
              "   'author': 'Sheena Vasani',\n",
              "   'title': 'Kids with Android phones will be able to use Google Wallet tap-to-pay soon',\n",
              "   'description': 'Google will soon let children use Google Wallet and its tap-to-pay feature on Android phones, which debuted earlier this year with the Fitbit Ace LTE.',\n",
              "   'url': 'https://www.theverge.com/2024/10/30/24283825/android-phones-google-wallet-tap-to-pay-fitbit-ace-lte',\n",
              "   'urlToImage': 'https://cdn.vox-cdn.com/thumbor/a1UuqmTXeWu_sDyVAVipeGpIQ0s=/0x0:2040x1360/1200x628/filters:focal(1020x680:1021x681)/cdn.vox-cdn.com/uploads/chorus_asset/file/24016885/STK093_Google_04.jpg',\n",
              "   'publishedAt': '2024-10-30T19:54:12Z',\n",
              "   'content': 'Kids with Android phones will be able to use Google Wallet tap-to-pay soon\\r\\nKids with Android phones will be able to use Google Wallet tap-to-pay soon\\r\\n / Like Apple Pay, Google Wallet will let kids … [+1595 chars]'},\n",
              "  {'source': {'id': 'the-verge', 'name': 'The Verge'},\n",
              "   'author': 'Umar Shakir',\n",
              "   'title': 'Watch Apple’s M4 MacBook Pro announcement video',\n",
              "   'description': 'Apple’s new MacBook Pros with M4 chips are here. The announcement comes in a new video segment following the new iMac and Mac Mini ones this week.',\n",
              "   'url': 'https://www.theverge.com/2024/10/30/24283485/apple-macbook-pro-m4-max-announcement-watch-video',\n",
              "   'urlToImage': 'https://cdn.vox-cdn.com/thumbor/2ndj8uSu0Gz4g0x04FNjOwzrpQ0=/0x0:2880x1920/1200x628/filters:focal(1440x960:1441x961)/cdn.vox-cdn.com/uploads/chorus_asset/file/25706574/Screenshot_2024_10_30_at_11.16.40_AM.jpeg',\n",
              "   'publishedAt': '2024-10-30T15:20:24Z',\n",
              "   'content': 'Watch Apples M4 MacBook Pro announcement video\\r\\nWatch Apples M4 MacBook Pro announcement video\\r\\n / Apples segmented hardware announcements continue this week with a new video featuring the new M4 Max… [+2155 chars]'},\n",
              "  {'source': {'id': 'the-verge', 'name': 'The Verge'},\n",
              "   'author': 'David Pierce',\n",
              "   'title': 'The VR game I’ve been waiting for',\n",
              "   'description': 'Plus: the Boox Palma 2, a new version of the Vivaldi browser and the Inoreader RSS app, Anthropic’s new computer use feature, and more in this week’s Installer.',\n",
              "   'url': 'https://www.theverge.com/2024/10/27/24279432/batman-arkham-shadow-vr-quest-boox-palma-2-installer',\n",
              "   'urlToImage': 'https://cdn.vox-cdn.com/thumbor/LApTjjCUTs6utFnepWbfCWRub80=/0x0:2169x1446/1200x628/filters:focal(1085x723:1086x724)/cdn.vox-cdn.com/uploads/chorus_asset/file/25698443/Installer_58.png',\n",
              "   'publishedAt': '2024-10-27T12:00:00Z',\n",
              "   'content': 'The VR game Ive been waiting for\\r\\nThe VR game Ive been waiting for\\r\\n / Plus, in this weeks Installer: Another great new reading gadget, a new RSS reader, a new browser worth trying, and much more.\\r\\nB… [+11197 chars]'},\n",
              "  {'source': {'id': None, 'name': 'Gizmodo.com'},\n",
              "   'author': 'Kyle Barr',\n",
              "   'title': 'Apple Reveals the New 2024 iMac: Familiar on the Outside, but With New Power Inside',\n",
              "   'description': \"Apple showed off a new 24-inch iMac with a variety of color options, though there's still no option for a M4 Pro chip.\",\n",
              "   'url': 'https://gizmodo.com/apple-reveals-the-new-2024-imac-familiar-on-the-outside-but-with-new-power-inside-2000517276',\n",
              "   'urlToImage': 'https://gizmodo.com/app/uploads/2024/10/Apple-iMac-M4-Photoshop.jpg',\n",
              "   'publishedAt': '2024-10-28T15:15:08Z',\n",
              "   'content': 'We werent totally thrilled with Apples 2023 iMac refresh that came stock with the companys newfangled M3 silicon. Still, the Cupertino, California tech giant is ready to get into the ring again with … [+3071 chars]'},\n",
              "  {'source': {'id': None, 'name': 'Gizmodo.com'},\n",
              "   'author': 'Brittany Vincent',\n",
              "   'title': 'Apple iPad 9 Is Now Under $200, Lowest Price Ahead of Black Friday',\n",
              "   'description': \"This iPad is one of the best you'll find in Apple's lineup, and you can get one for one of its lowest prices yet right now.\",\n",
              "   'url': 'https://gizmodo.com/apple-ipad-9-is-now-under-200-lowest-price-ahead-of-black-friday-2000517920',\n",
              "   'urlToImage': 'https://gizmodo.com/app/uploads/2024/10/apple-ipad-9th-generation.jpg',\n",
              "   'publishedAt': '2024-10-29T16:14:26Z',\n",
              "   'content': 'Time to upgrade your tablet? When it comes to portable tech, you can rarely do better than an iPad. Apple’s tablet lineup is well worth investing in, especially if you like to multitask or enjoy your… [+2142 chars]'},\n",
              "  {'source': {'id': None, 'name': 'Gizmodo.com'},\n",
              "   'author': 'Dua Rashid',\n",
              "   'title': 'Apple Plans to Go Retro With Its New Smart Home Display',\n",
              "   'description': 'Picture a HomePod with a display as big as two iPhones placed side by side.',\n",
              "   'url': 'https://gizmodo.com/apple-plans-to-go-retro-with-its-new-smart-home-display-2000517260',\n",
              "   'urlToImage': 'https://gizmodo.com/app/uploads/2024/10/iMac-g4.jpg',\n",
              "   'publishedAt': '2024-10-28T16:16:30Z',\n",
              "   'content': 'Apple has reportedly been working on a new smart home device following its not-so-successful range of current offerings, trailing Google’s and Amazon’s alternatives. It’s toying with the idea of givi… [+2178 chars]'},\n",
              "  {'source': {'id': None, 'name': 'Gizmodo.com'},\n",
              "   'author': 'Kyle Barr',\n",
              "   'title': 'Here’s Our First Look at the All-New MacBook Pro Lineup',\n",
              "   'description': 'Hope you weren’t expecting a revolution in the 14- and 16-inch MacBook Pro, though the next slate of high-end MacBooks now come base with 16GB of RAM.',\n",
              "   'url': 'https://gizmodo.com/heres-our-first-look-at-the-all-new-macbook-pro-lineup-2000517291',\n",
              "   'urlToImage': 'https://gizmodo.com/app/uploads/2024/10/Apple-MacBook-Pro-M4-lineup.jpg',\n",
              "   'publishedAt': '2024-10-30T15:09:26Z',\n",
              "   'content': 'Last years spooky-themed MacBook release brought us the ultra-dark MacBook Pro with M3. This years exciting week of Mac news is bringing a lot less Halloween fanfare to Apples tried and true laptop b… [+3191 chars]'},\n",
              "  {'source': {'id': None, 'name': 'Gizmodo.com'},\n",
              "   'author': 'Joe Tilleli',\n",
              "   'title': 'Amazon Cuts Anker’s MagGo UFO Charger Price by 20% for the First Time Before Black Friday',\n",
              "   'description': 'Save 20% on the travel-sized Anker MagSafe Compatible MagGo UFO 3-in-1 charger over at Amazon for a limited time.',\n",
              "   'url': 'https://gizmodo.com/amazon-cuts-ankers-maggo-ufo-charger-price-by-20-for-the-first-time-before-black-friday-2000516712',\n",
              "   'urlToImage': 'https://gizmodo.com/app/uploads/2024/10/Anker3in1.jpg',\n",
              "   'publishedAt': '2024-10-25T19:09:28Z',\n",
              "   'content': 'We an inundated with devices that need to be plugged in every once in awhile. Our phones need to charge, our headphones need to charge, our watches you guessed it need to charge. This can result in c… [+2187 chars]'},\n",
              "  {'source': {'id': None, 'name': 'Gizmodo.com'},\n",
              "   'author': 'Joe Tilleli',\n",
              "   'title': 'Best Buy’s 3-Day Gaming Sale Lets You Save Big on Must-Have Tech from Apple, Samsung, HP, and More',\n",
              "   'description': 'Save upward of $500 on select laptops, headsets, gaming handheld and more during this 3-Day gaming sales event at Best Buy.',\n",
              "   'url': 'https://gizmodo.com/best-buys-3-day-gaming-sale-lets-you-save-big-on-must-have-tech-from-apple-samsung-hp-and-more-2000516620',\n",
              "   'urlToImage': 'https://gizmodo.com/app/uploads/2024/10/BestBuyGamingSale.jpg',\n",
              "   'publishedAt': '2024-10-25T17:20:24Z',\n",
              "   'content': 'We’re in that weird midpoint between the last Amazon Prime Day sales of the year and Black Friday. Still weeks away from all the discounts of the weekend following Thanksgiving, you may think it is i… [+2322 chars]'},\n",
              "  {'source': {'id': None, 'name': 'Gizmodo.com'},\n",
              "   'author': 'Mike Fazioli',\n",
              "   'title': 'Samsung Galaxy Tab S10+ Is Now 70% Off After Trade-In, Much Cheaper Than iPad Pro',\n",
              "   'description': 'Get up to $700 in trade-in credit off the AI-powered Samsung Galaxy Tab 10+ and bring it home for a fraction of the price of an iPad Pro.',\n",
              "   'url': 'https://gizmodo.com/samsung-galaxy-tab-s10-is-now-70-off-after-trade-in-much-cheaper-than-ipad-pro-2000518289',\n",
              "   'urlToImage': 'https://gizmodo.com/app/uploads/2024/10/Galaxy-Tab-S10.jpg',\n",
              "   'publishedAt': '2024-10-30T15:01:23Z',\n",
              "   'content': 'Here’s a trade-in offer you won’t find at any car dealer on the planet Samsung’s offering up to $700 in trade-in credit when you buy the AI-powered Galaxy Tab 10+ tablet. That would be 70% off the re… [+2100 chars]'},\n",
              "  {'source': {'id': None, 'name': 'Gizmodo.com'},\n",
              "   'author': 'Brittany Vincent',\n",
              "   'title': 'The Galaxy Watch 6 Is at a Record-Breaking Low Price, Skip Black Friday Crowds',\n",
              "   'description': 'This Galaxy smartwatch (37% off) has all the features you want, including health and fitness tracking as well as calling, texting and more.',\n",
              "   'url': 'https://gizmodo.com/the-galaxy-watch-6-is-at-a-record-breaking-low-price-skip-black-friday-crowds-2000516531',\n",
              "   'urlToImage': 'https://gizmodo.com/app/uploads/2024/10/samsung-galaxy-watch-6-1.jpg',\n",
              "   'publishedAt': '2024-10-25T16:28:06Z',\n",
              "   'content': 'When it comes to smartwatches, you’ve got plenty of options. If you’re an Apple fan with an iPhone, an Apple Watch is a great pick that’s compatible with the iOS ecosystem. If you’re an Android fan, … [+2238 chars]'},\n",
              "  {'source': {'id': None, 'name': 'Gizmodo.com'},\n",
              "   'author': 'Dua Rashid',\n",
              "   'title': 'The AirPods Pro 2 Finally Receive Its Hearing Health Features',\n",
              "   'description': \"You just need to wait for Monday (iOS 18.1's release) to use them.\",\n",
              "   'url': 'https://gizmodo.com/the-airpods-pro-2-finally-receive-its-hearing-health-features-2000516497',\n",
              "   'urlToImage': 'https://gizmodo.com/app/uploads/2024/10/airpods-pro-2-2.jpg',\n",
              "   'publishedAt': '2024-10-25T15:43:57Z',\n",
              "   'content': 'Apple’s\\xa0much-talked-about hearing health features for the\\xa0AirPods Pro 2 have finally been released in a firmware update today. Though you can update your AirPods Pro to the latest version to receive … [+2222 chars]'},\n",
              "  {'source': {'id': None, 'name': 'Gizmodo.com'},\n",
              "   'author': 'Brittany Vincent',\n",
              "   'title': 'The Lowest Price for Beats Solo 4 Headphones Returns for Pre-Black Friday',\n",
              "   'description': 'Pump up the jams with a pair of Beats Solo 4 headphones for 50% off',\n",
              "   'url': 'https://gizmodo.com/the-lowest-price-for-beats-solo-4-headphones-returns-for-pre-black-friday-2000517334',\n",
              "   'urlToImage': 'https://gizmodo.com/app/uploads/2024/10/beats-solo-4-2.jpg',\n",
              "   'publishedAt': '2024-10-28T15:16:30Z',\n",
              "   'content': 'Headphones aren’t all made equally. You wouldn’t want to listen to your most anticipated album of the year with a pair of $10 earbuds. You want the best you can get, right? But you don’t want to pay … [+2059 chars]'},\n",
              "  {'source': {'id': None, 'name': 'Android Central'},\n",
              "   'author': 'nickodiaz@sbcglobal.net (Nickolas Diaz)',\n",
              "   'title': \"Google may let its Apple inspiration bring 'ongoing notifications' to Android\",\n",
              "   'description': 'It seems familiar in more ways than one.',\n",
              "   'url': 'https://www.androidcentral.com/apps-software/google-ongoing-notifications-chip-feature-spotted',\n",
              "   'urlToImage': 'https://cdn.mos.cms.futurecdn.net/TnqSSfkMnpJQSSUAHUg3N3-1200-80.jpg',\n",
              "   'publishedAt': '2024-10-25T19:54:06Z',\n",
              "   'content': 'What you need to know\\r\\n<ul><li>A discovery in Android 15 QPR1 Beta 3 shows Google is working on adding \"rich ongoing notifications.\"</li><li>The feature is similar to Apple\\'s Dynamic Island or OnePlu… [+3229 chars]'},\n",
              "  {'source': {'id': None, 'name': 'Android Central'},\n",
              "   'author': 'bradypsnyder@gmail.com (Brady Snyder)',\n",
              "   'title': \"Samsung reportedly considers dropping 'Galaxy' brand for some devices, but the move might not go how it thinks\",\n",
              "   'description': \"I'm not confident a flashy new name and brand will solve Samsung's problems. But if it won't, then what will?\",\n",
              "   'url': 'https://www.androidcentral.com/phones/samsung-reportedly-considers-new-phone-brand-separate-from-galaxy',\n",
              "   'urlToImage': 'https://cdn.mos.cms.futurecdn.net/FBQymgDSjiqTXJSqXjPtji-1200-80.jpg',\n",
              "   'publishedAt': '2024-10-30T20:13:16Z',\n",
              "   'content': 'What you need to know\\r\\n<ul><li>A report from the Korean media outlet E-Today claims that Samsung is exploring a new smartphone brand to replace or join the Galaxy brand.</li><li>The article compares … [+5536 chars]'},\n",
              "  {'source': {'id': None, 'name': 'Android Central'},\n",
              "   'author': 'nickodiaz@sbcglobal.net (Nickolas Diaz)',\n",
              "   'title': 'Google sells refurbished Pixel phones with fresh parts and the latest software',\n",
              "   'description': 'Google announced the start of its Certified Refurbished Pixel program.',\n",
              "   'url': 'https://www.androidcentral.com/phones/google-certified-refurbished-pixel-program-detailed',\n",
              "   'urlToImage': 'https://cdn.mos.cms.futurecdn.net/jdiK7Q7ghKH8DTyU9CzbRL-1200-80.jpg',\n",
              "   'publishedAt': '2024-10-28T20:21:33Z',\n",
              "   'content': 'What you need to know\\r\\n<ul><li>Google announced the start and availability of several past-gen Pixels in its store through the Certified Refurbished Phone program.</li><li>Consumers can grab a Pixel … [+3109 chars]'},\n",
              "  {'source': {'id': None, 'name': 'Android Central'},\n",
              "   'author': 'derrek.lee@futurenet.com (Derrek Lee)',\n",
              "   'title': \"Motorola is using the Razr to come after your iPhones, and it's working\",\n",
              "   'description': \"Motorola has highlighted the success of the Razr series and how it's attracting many new users, particularly from iOS.\",\n",
              "   'url': 'https://www.androidcentral.com/phones/motorola-razr-stealing-away-iphone-users',\n",
              "   'urlToImage': 'https://cdn.mos.cms.futurecdn.net/GwKmAwiQxZYh9Ko3dffT8i-1200-80.jpg',\n",
              "   'publishedAt': '2024-10-26T18:00:00Z',\n",
              "   'content': 'Getting consumers to move from iOS to Android (or vice versa) is no easy feat, and companies like Samsung and Google have been trying various ways to convince users to make the switch, to some degree… [+9541 chars]'},\n",
              "  {'source': {'id': None, 'name': 'Android Central'},\n",
              "   'author': 'Nicholas Sutrich',\n",
              "   'title': 'Do photography-focused phones make any sense?',\n",
              "   'description': 'The iPhone 16 has re-popularized physical camera buttons on smartphones, but they went away for a reason.',\n",
              "   'url': 'https://www.androidcentral.com/phones/do-photography-focused-phones-make-any-sense',\n",
              "   'urlToImage': 'https://cdn.mos.cms.futurecdn.net/QAnGgGz2LEc3sX87ewVYk5-1200-80.jpg',\n",
              "   'publishedAt': '2024-10-30T14:31:54Z',\n",
              "   'content': \"(Image credit: Nicholas Sutrich / Android Central)\\r\\nAndroid Central Labs is a weekly column devoted to deep dives, experiments, and a focused look into tech you didn't know you needed. It covers phon… [+8235 chars]\"},\n",
              "  {'source': {'id': None, 'name': 'Android Central'},\n",
              "   'author': 'derrek.lee@futurenet.com (Derrek Lee)',\n",
              "   'title': \"News Weekly: Snapdragon 8 Elite launches with Oryon cores, Samsung's souped-up Galaxy Z Fold Special Edition, and more\",\n",
              "   'description': \"Qualcomm's powerful new Snapdragon 8 Elite has landed, Samsung releases a special edition Galaxy Z Fold 6, and more.\",\n",
              "   'url': 'https://www.androidcentral.com/phones/news-weekly-october-26-2024',\n",
              "   'urlToImage': 'https://cdn.mos.cms.futurecdn.net/rRUXiFcY6iXrsZAHShZKPR-1200-80.jpg',\n",
              "   'publishedAt': '2024-10-26T12:00:00Z',\n",
              "   'content': \"(Image credit: Android Central)\\r\\nNews Weekly is our column where we highlight and summarize some of the week's top stories so you can catch up on the latest tech news.\\r\\nThis is Android Central's News… [+6607 chars]\"},\n",
              "  {'source': {'id': None, 'name': 'MacRumors'},\n",
              "   'author': 'Juli Clover',\n",
              "   'title': 'Apple Releases tvOS 18.1',\n",
              "   'description': 'Apple today released tvOS 18.1, the newest version of the tvOS 18 operating system that came out in September. tvOS 18.1 comes over a month after Apple released tvOS 18, and it is available for the Apple TV 4K and the \\u200cApple TV\\u200c HD models.\\n\\n\\n\\n\\n\\ntvOS 18.1 can …',\n",
              "   'url': 'https://www.macrumors.com/2024/10/28/apple-releases-tvos-18-1/',\n",
              "   'urlToImage': 'https://images.macrumors.com/t/bIZQJleYYvo5spGq46d-L8hdt4c=/2500x/article-new/2024/08/tvOS-18-Thumb-3.jpg',\n",
              "   'publishedAt': '2024-10-28T15:04:00Z',\n",
              "   'content': 'Apple today released tvOS 18.1, the newest version of the tvOS 18 operating system that came out in September. tvOS 18.1 comes over a month after Apple released tvOS 18, and it is available for the A… [+807 chars]'},\n",
              "  {'source': {'id': None, 'name': 'MacRumors'},\n",
              "   'author': 'Juli Clover',\n",
              "   'title': 'Apple Releases visionOS 2.1',\n",
              "   'description': 'Apple today released visionOS 2.1, the first update to the visionOS 2 operating system that came out in September. visionOS 2.1 comes a month after the launch of \\u200cvisionOS 2\\u200c, and eight months after the release of the Vision Pro headset.\\n\\n\\n\\n\\n\\nvisionOS 2.1 can…',\n",
              "   'url': 'https://www.macrumors.com/2024/10/28/apple-releases-visionos-2-1/',\n",
              "   'urlToImage': 'https://images.macrumors.com/t/KecnknybEVYQAn1VyV4jgWWR9Rg=/2500x/article-new/2024/06/visionOS-2-on-Apple-Vision-Pro-Feature.jpg',\n",
              "   'publishedAt': '2024-10-28T15:03:00Z',\n",
              "   'content': 'Apple today released visionOS 2.1, the first update to the visionOS 2 operating system that came out in September. visionOS 2.1 comes a month after the launch of \\u200cvisionOS 2\\u200c, and eight months after … [+568 chars]'},\n",
              "  {'source': {'id': None, 'name': 'MacRumors'},\n",
              "   'author': 'Juli Clover',\n",
              "   'title': 'Apple Releases watchOS 11.1',\n",
              "   'description': 'Apple today released watchOS 11.1, the first major update to the operating system that runs on the Apple Watch. watchOS 11.1 comes one month after Apple released watchOS 11. watchOS 11.1 is compatible with the Apple Watch Series 6 and later, all Apple Watch U…',\n",
              "   'url': 'https://www.macrumors.com/2024/10/28/apple-releases-watchos-11-1/',\n",
              "   'urlToImage': 'https://images.macrumors.com/t/PAFfEsZTNp70KubPwxteqW5lrD8=/2560x/article-new/2024/06/watchOS-11-Thumb-2-1.jpg',\n",
              "   'publishedAt': '2024-10-28T15:05:00Z',\n",
              "   'content': 'Apple today released watchOS 11.1, the first major update to the operating system that runs on the Apple Watch. watchOS 11.1 comes one month after Apple released watchOS 11. watchOS 11.1 is compatibl… [+631 chars]'},\n",
              "  {'source': {'id': None, 'name': 'MacRumors'},\n",
              "   'author': 'Joe Rossignol',\n",
              "   'title': \"YouTuber Creates the Apple Event We Aren't Getting This Month\",\n",
              "   'description': 'Apple\\'s marketing chief Greg Joswiak on Thursday teased an \"exciting week of announcements\" planned next week, and that likely rules out a prerecorded Apple Event video this month, despite Apple streaming a short, spooky \"Scary Fast\" event last October.\\n\\n\\n\\n\\n\\n…',\n",
              "   'url': 'https://www.macrumors.com/2024/10/25/youtuber-creates-an-apple-event/',\n",
              "   'urlToImage': 'https://images.macrumors.com/t/LfC-_TDwVxtEITBuyKG2zmDP1EY=/1600x/article-new/2024/10/Jon-Prosser-MacBook-Pro-Render.jpg',\n",
              "   'publishedAt': '2024-10-25T13:08:38Z',\n",
              "   'content': 'Apple\\'s marketing chief Greg Joswiak on Thursday teased an \"exciting week of announcements\" planned next week, and that likely rules out a prerecorded Apple Event video this month, despite Apple stre… [+609 chars]'},\n",
              "  {'source': {'id': None, 'name': 'MacRumors'},\n",
              "   'author': 'Hartley Charlton',\n",
              "   'title': 'Apple Announces M4 Max Chip: Up to 16-Core CPU, Up to 40-Core GPU, Up to 128GB of RAM, and More',\n",
              "   'description': 'Apple today announced the M4 Max chip alongside new MacBook Pro models—its most advanced and powerful Apple silicon chip to date.\\n\\n\\n\\n\\n\\nLike the M4 chip introduced in the iPad Pro and the M4 Pro chip unveiled yesterday in the redesigned Mac mini, the M4 Max ch…',\n",
              "   'url': 'https://www.macrumors.com/2024/10/30/apple-announces-m4-max-chip/',\n",
              "   'urlToImage': 'https://images.macrumors.com/t/50LQJhwPso98W9QYYga5dbPBuKQ=/3840x/article-new/2024/10/Apple-M4-chip-series-hero.jpg',\n",
              "   'publishedAt': '2024-10-30T15:03:19Z',\n",
              "   'content': 'Apple today announced the M4 Max chip alongside new MacBook Pro modelsits most advanced and powerful Apple silicon chip to date.\\r\\nLike the M4 chip introduced in the iPad Pro and the M4 Pro chip unvei… [+1110 chars]'},\n",
              "  {'source': {'id': None, 'name': 'MacRumors'},\n",
              "   'author': 'Tim Hardwick',\n",
              "   'title': 'Proton VPN Launches Native Apple TV App, Adds Vision Pro Support',\n",
              "   'description': \"Proton today released its native Apple TV app, allowing users to access VPN services directly on their Apple TV following tvOS 17's introduction of built-in VPN support last year. The company has also announced compatibility with Apple Vision Pro.\\n\\n\\n\\n\\n\\nThe ne…\",\n",
              "   'url': 'https://www.macrumors.com/2024/10/30/protonvpn-apple-tv-app/',\n",
              "   'urlToImage': 'https://images.macrumors.com/t/affuoyLCjO-7UFe2Cy6oaEF3N4M=/1920x/article-new/2024/10/proton-vpn-appletv.jpg',\n",
              "   'publishedAt': '2024-10-30T14:59:18Z',\n",
              "   'content': \"Proton today released its native Apple TV app, allowing users to access VPN services directly on their Apple TV following tvOS 17's introduction of built-in VPN support last year. The company has als… [+879 chars]\"},\n",
              "  {'source': {'id': None, 'name': 'MacRumors'},\n",
              "   'author': 'Mitchel Broussard',\n",
              "   'title': 'Best Apple Deals of the Week: M2 MacBook Air Gets Massive $299 Discount Alongside AirPods 4 and Apple Pencil Pro Sales',\n",
              "   'description': \"This week we saw big discounts on a few Apple devices and related accessories, including a new record low price on the 13-inch M2 MacBook Air. You'll also find great deals on Apple Pencil Pro, Apple Watch Series 10, AirPods 4, and more below.\\n\\n\\n\\nNote: MacRumo…\",\n",
              "   'url': 'https://www.macrumors.com/2024/10/25/best-apple-deals-of-the-week-10-25-24/',\n",
              "   'urlToImage': 'https://images.macrumors.com/t/LGedPyr5OXrWA54I4UATO9bYlXM=/2500x/article-new/2024/07/best-apple-deals-hero-new-blue.jpg',\n",
              "   'publishedAt': '2024-10-25T18:46:45Z',\n",
              "   'content': \"This week we saw big discounts on a few Apple devices and related accessories, including a new record low price on the 13-inch M2 MacBook Air. You'll also find great deals on Apple Pencil Pro, Apple … [+3282 chars]\"},\n",
              "  {'source': {'id': None, 'name': 'MacRumors'},\n",
              "   'author': 'MacRumors Staff',\n",
              "   'title': 'Top Stories: M4 Macs Next Week, iOS 18.2 Beta, and More',\n",
              "   'description': \"Apple's flurry of activity to close out October is well underway, led on the hardware side by the launch of the new iPad mini and Apple uncharacteriscally teasing some Mac updates for next week even without an announced event.\\n\\n\\n\\n\\n\\nOn the software side, Apple…\",\n",
              "   'url': 'https://www.macrumors.com/2024/10/26/top-stories-m4-macs-next-week/',\n",
              "   'urlToImage': 'https://images.macrumors.com/t/6GtOSzxhrnzDdStKwKMft7boj1s=/1600x/article-new/2024/10/top-stories-26oct2024.jpg',\n",
              "   'publishedAt': '2024-10-26T13:00:00Z',\n",
              "   'content': \"Apple's flurry of activity to close out October is well underway, led on the hardware side by the launch of the new iPad mini and Apple uncharacteriscally teasing some Mac updates for next week even … [+4272 chars]\"},\n",
              "  {'source': {'id': None, 'name': 'MacRumors'},\n",
              "   'author': 'Joe Rossignol',\n",
              "   'title': \"iFixit Shares iPad Mini 7 Teardown, Adds Mystery to 'Jelly Scrolling' Fix\",\n",
              "   'description': 'Electronics repair website iFixit this weekend shared an iPad mini 7 teardown video, and it adds some mystery to the device\\'s \"jelly scrolling\" improvements.\\n\\n\\n\\n\\n\\n\"Jelly scrolling\" refers to screen tearing, which can cause text or images on one side of the sc…',\n",
              "   'url': 'https://www.macrumors.com/2024/10/27/ifixit-ipad-mini-7-teardown/',\n",
              "   'urlToImage': 'https://images.macrumors.com/t/g5R7p3pdAL36ElJ0nuUMMiId1lI=/1600x/article-new/2024/10/iFixit-iPad-Mini-7-Teardown.jpg',\n",
              "   'publishedAt': '2024-10-27T17:48:04Z',\n",
              "   'content': 'Electronics repair website iFixit this weekend shared an iPad mini 7 teardown video, and it adds some mystery to the device\\'s \"jelly scrolling\" improvements.\\r\\n\"Jelly scrolling\" refers to screen teari… [+1708 chars]'},\n",
              "  {'source': {'id': None, 'name': 'MacRumors'},\n",
              "   'author': 'Joe Rossignol',\n",
              "   'title': 'Apple Leaks M4 Max Chip Ahead of Announcing New MacBook Pros',\n",
              "   'description': \"Oops! Eagle-eyed developer Charlie Joseph today discovered that Apple has leaked its upcoming high-end M4 Max chip through an image uploaded to its website. The discovery was shared with Bloomberg's Mark Gurman on social media.\\n\\n\\n\\n\\n\\nIt is already pretty obvio…\",\n",
              "   'url': 'https://www.macrumors.com/2024/10/29/apple-leaks-m4-max-chip/',\n",
              "   'urlToImage': 'https://images.macrumors.com/t/ioCiSxI7bwOKwbWI8hOW5_n9W2o=/1600x/article-new/2023/10/m3-mbp-space-black.jpg',\n",
              "   'publishedAt': '2024-10-29T15:48:59Z',\n",
              "   'content': \"Oops! Eagle-eyed developer Charlie Joseph today discovered that Apple has leaked its upcoming high-end M4 Max chip through an image uploaded to its website. The discovery was shared with Bloomberg's … [+2211 chars]\"},\n",
              "  {'source': {'id': None, 'name': 'MacRumors'},\n",
              "   'author': 'Juli Clover',\n",
              "   'title': \"iOS 18.1: What You Get If You Don't Have an iPhone With Apple Intelligence\",\n",
              "   'description': \"iOS 18.1 is the first iOS 18 update with Apple Intelligence capabilities, and that's what a lot of the coverage about the new software has focused on. If you don't have an iPhone that's capable of \\u200cApple Intelligence\\u200c, you're probably wondering just what's in…\",\n",
              "   'url': 'https://www.macrumors.com/2024/10/28/ios-18-1-no-apple-intelligence/',\n",
              "   'urlToImage': 'https://images.macrumors.com/t/iaNaPWWuoXVK34Lqn2kzxv2rNQ8=/2500x/article-new/2024/10/iOS-18.1-Without-Apple-Intelligence-Feature.jpg',\n",
              "   'publishedAt': '2024-10-28T22:49:06Z',\n",
              "   'content': \"iOS 18.1 is the first iOS 18 update with Apple Intelligence capabilities, and that's what a lot of the coverage about the new software has focused on. If you don't have an iPhone that's capable of \\u200cA… [+3913 chars]\"},\n",
              "  {'source': {'id': None, 'name': 'MacRumors'},\n",
              "   'author': 'Tim Hardwick',\n",
              "   'title': 'Apple Rolls Out Tap to Pay on iPhone in Five More European Countries',\n",
              "   'description': 'Apple today announced that Tap to Pay on iPhone is available in Austria, Czech Republic, Ireland, Romania, and Sweden, providing a way for independent sellers, small businesses, and larger merchants in these countries to use an \\u200ciPhone\\u200c as a contactless payme…',\n",
              "   'url': 'https://www.macrumors.com/2024/10/29/apple-extends-tap-to-pay-on-iphone-europe/',\n",
              "   'urlToImage': 'https://images.macrumors.com/t/kaIP365dukIAjQkTPqy_lakBWiA=/1960x/article-new/2024/06/tap-to-pay-iphone-germany.jpg',\n",
              "   'publishedAt': '2024-10-29T10:35:59Z',\n",
              "   'content': 'Apple today announced that Tap to Pay on iPhone is available in Austria, Czech Republic, Ireland, Romania, and Sweden, providing a way for independent sellers, small businesses, and larger merchants … [+1925 chars]'},\n",
              "  {'source': {'id': None, 'name': 'MacRumors'},\n",
              "   'author': 'Tim Hardwick',\n",
              "   'title': 'Apple to Start Providing Summaries of User Reviews in App Store',\n",
              "   'description': 'Apple has reportedly designed a new AI-based system that will summarize reviews in the App Store to highlight the most common customer feedback for users before they download an app.\\n\\n\\n\\n\\n\\nAccording an unlisted App Store article seen by 9to5Mac, AI-generated s…',\n",
              "   'url': 'https://www.macrumors.com/2024/10/30/apple-summaries-user-reviews-app-store/',\n",
              "   'urlToImage': 'https://images.macrumors.com/t/IZ-PejMXVtt0U4wEtaBhtsS-Dx4=/1600x/article-new/2022/12/app-store-awards-2022.jpg',\n",
              "   'publishedAt': '2024-10-30T11:56:52Z',\n",
              "   'content': 'Apple has reportedly designed a new AI-based system that will summarize reviews in the App Store to highlight the most common customer feedback for users before they download an app.\\r\\nAccording an un… [+1016 chars]'},\n",
              "  {'source': {'id': None, 'name': 'MacRumors'},\n",
              "   'author': 'Juli Clover',\n",
              "   'title': 'Apple Bringing Spatial Photo and Video Support to Safari for Vision Pro Users',\n",
              "   'description': 'Vision Pro users will soon be able to view spatial photos and videos in Safari, according to PetaPixel. The photography site did an interview with Apple product manager Della Huff and designer Billy Sorrentino, who shared that Apple is bringing spatial photo …',\n",
              "   'url': 'https://www.macrumors.com/2024/10/25/apple-vision-pro-safari-spatial-photo-video/',\n",
              "   'urlToImage': 'https://images.macrumors.com/t/RmK4qVoaeIDtNSwx6ArLMV-YP_w=/1793x/article-new/2024/06/visionos-2-2d-spatial-photos.jpg',\n",
              "   'publishedAt': '2024-10-25T18:29:42Z',\n",
              "   'content': 'Vision Pro users will soon be able to view spatial photos and videos in Safari, according to PetaPixel. The photography site did an interview with Apple product manager Della Huff and designer Billy … [+1397 chars]'},\n",
              "  {'source': {'id': None, 'name': 'MacRumors'},\n",
              "   'author': 'Tim Hardwick',\n",
              "   'title': 'New Base M4 iMac Comes With 16GB of Unified Memory',\n",
              "   'description': 'Apple has equipped its just-announced M4-powered iMac with 16GB of Unified Memory as standard, up from 8GB of RAM in the previous model. The new iMac starts at $1,299.\\n\\n\\n\\n\\n\\nAs rumored, Apple has upped the base memory configuration of at least one of its lates…',\n",
              "   'url': 'https://www.macrumors.com/2024/10/28/new-m4-imac-minimum-16gb-ram/',\n",
              "   'urlToImage': 'https://images.macrumors.com/t/laDBbhRcyV6C6qi-wUDCmH6sRCU=/2880x/article-new/2024/10/Apple-iMac-M4-lifestyle-24-inch-Retina-display.jpg',\n",
              "   'publishedAt': '2024-10-28T15:25:31Z',\n",
              "   'content': 'Apple has equipped its just-announced M4-powered iMac with 16GB of Unified Memory as standard, up from 8GB of RAM in the previous model. The new iMac starts at $1,299.\\r\\nAs rumored, Apple has upped th… [+970 chars]'},\n",
              "  {'source': {'id': None, 'name': 'MacRumors'},\n",
              "   'author': 'Hartley Charlton',\n",
              "   'title': 'Nano-Texture Display Option Returns to iMac',\n",
              "   'description': \"Apple's new iMac models are available with a nano-texture display option for the first time since the product line switched to Apple silicon.\\n\\n\\n\\n\\n\\nFirst introduced with the Pro Display XDR in 2019, nano-texture glass is etched at a nanometer scale, which is m…\",\n",
              "   'url': 'https://www.macrumors.com/2024/10/28/nano-texture-display-returns-to-imac/',\n",
              "   'urlToImage': 'https://images.macrumors.com/t/taOoODqFggxxkZ4XJNCbn8KOkSA=/2880x/article-new/2024/10/Apple-iMac-M4-lifestyle-business-storefront.jpg',\n",
              "   'publishedAt': '2024-10-28T15:47:53Z',\n",
              "   'content': \"Apple's new iMac models are available with a nano-texture display option for the first time since the product line switched to Apple silicon.\\r\\nFirst introduced with the Pro Display XDR in 2019, nano-… [+1109 chars]\"},\n",
              "  {'source': {'id': None, 'name': 'MacRumors'},\n",
              "   'author': 'Joe Rossignol',\n",
              "   'title': \"The Meme Lives On: Magic Mouse's USB-C Charging Port Still on Bottom\",\n",
              "   'description': \"Apple today updated its Magic Mouse, Magic Keyboard, and Magic Trackpad accessories for the Mac with USB-C charging ports, but the accessories have no other external design changes. Yes, that means the Magic Mouse's charging port is still located on the botto…\",\n",
              "   'url': 'https://www.macrumors.com/2024/10/28/magic-mouse-usb-c-port-on-bottom/',\n",
              "   'urlToImage': 'https://images.macrumors.com/t/Lxlio2rj0zk7L3m-fa0_Zzw5RWI=/1600x/article-new/2024/10/Magic-Mouse-USB-C.jpg',\n",
              "   'publishedAt': '2024-10-28T16:21:52Z',\n",
              "   'content': 'Apple today updated its Magic Mouse, Magic Keyboard, and Magic Trackpad accessories for the Mac with USB-C charging ports, but the accessories have no other external design changes. Yes, that means t… [+644 chars]'},\n",
              "  {'source': {'id': None, 'name': 'MacRumors'},\n",
              "   'author': 'Joe Rossignol',\n",
              "   'title': 'Apple Updates Base 14-Inch MacBook Pro With M4 Chip, 16GB of RAM, Extra Thunderbolt Port, Space Black, and More',\n",
              "   'description': 'Alongside higher-end 14-inch and 16-inch MacBook Pro models with M4 Pro and M4 Max chips, Apple today announced a handful of upgrades for the entry-level 14-inch MacBook Pro, including the standard M4 chip, a minimum of 16GB of RAM instead of 8GB, an addition…',\n",
              "   'url': 'https://www.macrumors.com/2024/10/30/apple-announces-14-inch-macbook-pro-with-m4-chip/',\n",
              "   'urlToImage': 'https://images.macrumors.com/t/ioCiSxI7bwOKwbWI8hOW5_n9W2o=/1600x/article-new/2023/10/m3-mbp-space-black.jpg',\n",
              "   'publishedAt': '2024-10-30T15:01:41Z',\n",
              "   'content': 'Alongside higher-end 14-inch and 16-inch MacBook Pro models with M4 Pro and M4 Max chips, Apple today announced a handful of upgrades for the entry-level 14-inch MacBook Pro, including the standard M… [+1524 chars]'},\n",
              "  {'source': {'id': None, 'name': 'MacRumors'},\n",
              "   'author': 'Juli Clover',\n",
              "   'title': \"Higher-End iMac's Ports Are All Thunderbolt 4\",\n",
              "   'description': 'Apple today released new iMac models, and while there are few external changes with the exception of some color tweaks, Apple made several internal updates to the machine. The inclusion of the next-generation M4 chip is the biggest update, but the ports have …',\n",
              "   'url': 'https://www.macrumors.com/2024/10/28/imac-thunderbolt-4-ports/',\n",
              "   'urlToImage': 'https://images.macrumors.com/t/4vsuKy13vz1RirtIc7QYoTr7eoU=/2000x/article-new/2024/10/imac-thunderbolt-4-ports.jpg',\n",
              "   'publishedAt': '2024-10-28T16:19:16Z',\n",
              "   'content': 'Apple today released new iMac models, and while there are few external changes with the exception of some color tweaks, Apple made several internal updates to the machine. The inclusion of the next-g… [+715 chars]'},\n",
              "  {'source': {'id': None, 'name': 'MacRumors'},\n",
              "   'author': 'Juli Clover',\n",
              "   'title': \"Apple's Much Smaller M4 Mac Mini Has All-New Thermal Architecture to Maximize Speed\",\n",
              "   'description': \"The Mac mini received a major update today, with Apple introducing a slimmed down design that shaves more than two inches off of the size so it takes up less space on a desktop or in a rack. Despite the size change, the \\u200cMac mini\\u200c uses Apple's most powerful M…\",\n",
              "   'url': 'https://www.macrumors.com/2024/10/29/m4-mac-mini-thermal-architecture/',\n",
              "   'urlToImage': 'https://images.macrumors.com/t/HjpUrl_xV5iD0FFPOJYBDAM-EYI=/1600x/article-new/2024/10/mac-mini-thermal-architecture.jpg',\n",
              "   'publishedAt': '2024-10-29T17:07:44Z',\n",
              "   'content': 'The Mac mini received a major update today, with Apple introducing a slimmed down design that shaves more than two inches off of the size so it takes up less space on a desktop or in a rack. Despite … [+1113 chars]'},\n",
              "  {'source': {'id': None, 'name': 'MacRumors'},\n",
              "   'author': 'Tim Hardwick',\n",
              "   'title': 'Apple Announces MacBook Pro Models With M4 Pro and M4 Max Chips, Thunderbolt 5 Support, and More',\n",
              "   'description': 'Apple today announced new 14-inch and 16-inch MacBook Pro models featuring M4 Pro and M4 Max chips, alongside a new entry-level 14-inch MacBook Pro powered by the M4 chip.\\n\\n\\n\\n\\n\\nThe new M4 Pro and M4 Max machines come with a minimum of 24GB of Unified Memory a…',\n",
              "   'url': 'https://www.macrumors.com/2024/10/30/apple-announces-macbook-pro-models/',\n",
              "   'urlToImage': 'https://images.macrumors.com/t/aTHhddQsv75U7S_qvsLQVfoIVRs=/3840x/article-new/2024/10/Apple-MacBook-Pro-M4-lineup.jpg',\n",
              "   'publishedAt': '2024-10-30T15:01:53Z',\n",
              "   'content': 'Apple today announced new 14-inch and 16-inch MacBook Pro models featuring M4 Pro and M4 Max chips, alongside a new entry-level 14-inch MacBook Pro powered by the M4 chip.\\r\\nThe new M4 Pro and M4 Max … [+2227 chars]'},\n",
              "  {'source': {'id': None, 'name': 'MacRumors'},\n",
              "   'author': 'Eric Slivka',\n",
              "   'title': 'Fantastical Calendar App Expands to Windows',\n",
              "   'description': 'Popular calendar app Fantastical is expanding beyond the Apple ecosystem for the first time, bringing the full Fantastical experience to Windows. Support for Windows has been a top-requested feature for quite some time, primarily from Apple users who have the…',\n",
              "   'url': 'https://www.macrumors.com/2024/10/29/fantastical-windows/',\n",
              "   'urlToImage': 'https://images.macrumors.com/t/6HtX-pu--C1oD-3elPSrxSBv5nY=/1600x/article-new/2024/10/fantastical-windows.jpg',\n",
              "   'publishedAt': '2024-10-29T14:00:00Z',\n",
              "   'content': 'Popular calendar app Fantastical is expanding beyond the Apple ecosystem for the first time, bringing the full Fantastical experience to Windows. Support for Windows has been a top-requested feature … [+1806 chars]'},\n",
              "  {'source': {'id': None, 'name': 'MacRumors'},\n",
              "   'author': 'Mitchel Broussard',\n",
              "   'title': 'M4 MacBook Pro Gets First Discounts at Best Buy for Members',\n",
              "   'description': 'Apple today introduced new 14-inch and 16-inch MacBook Pro models with M4, M4 Pro, and M4 Max chips. Although these computers were just announced, Best Buy is already providing early pre-order discounts exclusively to My Best Buy Plus and Total members at up …',\n",
              "   'url': 'https://www.macrumors.com/2024/10/30/macbook-pro-m4-first-discounts/',\n",
              "   'urlToImage': 'https://images.macrumors.com/t/iNCQ-HtMUCQc91rF6npAxc_kZ3o=/3840x/article-new/2024/10/Apple-MacBook-Pro-M4-lifestyle-02.jpg',\n",
              "   'publishedAt': '2024-10-30T18:46:15Z',\n",
              "   'content': 'Apple today introduced new 14-inch and 16-inch MacBook Pro models with M4, M4 Pro, and M4 Max chips. Although these computers were just announced, Best Buy is already providing early pre-order discou… [+1408 chars]'},\n",
              "  {'source': {'id': None, 'name': 'MacRumors'},\n",
              "   'author': 'Joe Rossignol',\n",
              "   'title': 'Amazon Leaks New Mac Mini With M4 and M4 Pro Chips, Two Front USB-C Ports, Up to 64GB of RAM, and More',\n",
              "   'description': \"Amazon has seemingly leaked the rumored next-generation Mac mini ahead of Apple's announcement this week, revealing several details.\\n\\n\\n\\n\\n\\nAccording to a comparison chart on Amazon's product listing for the new iMac with the M4 chip, the new Mac mini will be a…\",\n",
              "   'url': 'https://www.macrumors.com/2024/10/28/amazon-leaks-new-mac-mini/',\n",
              "   'urlToImage': 'https://images.macrumors.com/t/QrSJaQKyHah2oQn5_RSd9Fk02fM=/2500x/article-new/2024/10/M4-Mac-mini-Ortho-Silver-Cooler.jpg',\n",
              "   'publishedAt': '2024-10-29T02:16:01Z',\n",
              "   'content': \"Amazon has seemingly leaked the rumored next-generation Mac mini ahead of Apple's announcement this week, revealing several details.\\r\\nAccording to a comparison chart on Amazon's product listing for t… [+925 chars]\"},\n",
              "  {'source': {'id': None, 'name': 'MacRumors'},\n",
              "   'author': 'Eric Slivka',\n",
              "   'title': \"Review: Journey's NOVA 3-in-1 Qi2 Charging Station Powers Up Your Devices With a Unique Minimalist Design\",\n",
              "   'description': '3-in-1 charging stations capable of wirelessly powering up an iPhone, an Apple Watch, and AirPods have been popular for years now, although most of them involve relatively straightforward and utilitarian designs. Accessory brand Journey is looking to bring a …',\n",
              "   'url': 'https://www.macrumors.com/review/journey-nova-3-in-1-charging-station/',\n",
              "   'urlToImage': 'https://images.macrumors.com/t/z9imtc8aakTcdwBXN_UUvHKMLvo=/1600x/article-new/2024/10/journey-nova-charger-parts.jpg',\n",
              "   'publishedAt': '2024-10-25T18:04:14Z',\n",
              "   'content': '3-in-1 charging stations capable of wirelessly powering up an iPhone, an Apple Watch, and AirPods have been popular for years now, although most of them involve relatively straightforward and utilita… [+4671 chars]'},\n",
              "  {'source': {'id': None, 'name': 'MacRumors'},\n",
              "   'author': 'Tim Hardwick',\n",
              "   'title': 'iOS 18.1: Remove Unwanted Objects From Your Photos',\n",
              "   'description': \"Say you've captured a stunning sunset at the beach, but there's a trash can ruining the foreground. Or maybe you've taken the perfect family portrait, only to later realize there's a stranger in the background. With iOS 18.1's new Clean Up tool, Apple aims to…\",\n",
              "   'url': 'https://www.macrumors.com/how-to/ios-use-clean-up-tool-photos/',\n",
              "   'urlToImage': 'https://images.macrumors.com/t/SsivN_P03xUMVWBa9-whe3krnuI=/2500x/article-new/2024/08/iOS-18-Photos-Clean-Up-Feature-1.jpg',\n",
              "   'publishedAt': '2024-10-29T12:21:34Z',\n",
              "   'content': \"Say you've captured a stunning sunset at the beach, but there's a trash can ruining the foreground. Or maybe you've taken the perfect family portrait, only to later realize there's a stranger in the … [+2454 chars]\"},\n",
              "  {'source': {'id': None, 'name': 'MacRumors'},\n",
              "   'author': 'Joe Rossignol',\n",
              "   'title': 'iPhone 17 Being Developed in India: What to Expect From Base Model',\n",
              "   'description': 'Apple\\'s manufacturing partner Foxconn is conducting early development of the base iPhone 17 at a factory in Bengaluru, India, according to The Information\\'s Wayne Ma. This is considered to be a \"milestone\" for Apple\\'s manufacturing efforts in India.\\n\\n\\n\\n\\n\\nThe …',\n",
              "   'url': 'https://www.macrumors.com/2024/10/29/iphone-17-base-model-development-india-report/',\n",
              "   'urlToImage': 'https://images.macrumors.com/t/3zzm7VcAA2sRjc5kWZgZmdLwbEI=/2000x/article-new/2024/09/iphone-16-teal.jpg',\n",
              "   'publishedAt': '2024-10-29T14:00:05Z',\n",
              "   'content': 'Apple\\'s manufacturing partner Foxconn is conducting early development of the base iPhone 17 at a factory in Bengaluru, India, according to The Information\\'s Wayne Ma. This is considered to be a \"mile… [+1441 chars]'},\n",
              "  {'source': {'id': None, 'name': 'MacRumors'},\n",
              "   'author': 'Juli Clover',\n",
              "   'title': 'GitHub Brings Copilot to Xcode',\n",
              "   'description': 'Popular AI coding tool Copilot is now available for Xcode as part of a public preview, GitHub announced today. Apple developers can use Copilot for coding assistance directly in Xcode, which GitHub says will help developers boost productivity, speed up develo…',\n",
              "   'url': 'https://www.macrumors.com/2024/10/29/github-brings-copilot-to-xcode/',\n",
              "   'urlToImage': 'https://images.macrumors.com/t/9GFfg4A8ufUMkNP-6fiMFMoI8P0=/2238x/article-new/2024/10/copilot-for-xcode.jpg',\n",
              "   'publishedAt': '2024-10-30T00:10:00Z',\n",
              "   'content': 'Popular AI coding tool Copilot is now available for Xcode as part of a public preview, GitHub announced today. Apple developers can use Copilot for coding assistance directly in Xcode, which GitHub s… [+775 chars]'},\n",
              "  {'source': {'id': None, 'name': 'MacRumors'},\n",
              "   'author': 'Joe Rossignol',\n",
              "   'title': \"New MacBook Pros and iMac Feature Upgraded Cameras With 'Center Stage' and 'Desk View' Support\",\n",
              "   'description': 'All new MacBook Pro and iMac models unveiled this week feature an upgraded 12-megapixel front camera with Center Stage and Desk View support.\\n\\n\\n\\n\\n\\nApple says the new camera provides \"enhanced video quality in challenging lighting conditions.\"\\n\\n\\n\\nCenter Stage …',\n",
              "   'url': 'https://www.macrumors.com/2024/10/30/new-macbook-pro-and-imac-center-stage-support/',\n",
              "   'urlToImage': 'https://images.macrumors.com/t/-8NifMDKQ2EtiI0bHtZz9YStZWY=/1600x/article-new/2024/10/MacBook-Pro-Center-Stage.jpg',\n",
              "   'publishedAt': '2024-10-30T19:23:48Z',\n",
              "   'content': 'All new MacBook Pro and iMac models unveiled this week feature an upgraded 12-megapixel front camera with Center Stage and Desk View support.\\r\\nApple says the new camera provides \"enhanced video quali… [+701 chars]'},\n",
              "  {'source': {'id': None, 'name': 'MacRumors'},\n",
              "   'author': 'Joe Rossignol',\n",
              "   'title': 'New MacBook Pros Feature Brighter Displays Outdoors, Also Even Dimmer in Low Light',\n",
              "   'description': \"The new MacBook Pro models unveiled today feature display brightness enhancements in both bright outdoor lighting and low lighting.\\n\\n\\n\\n\\n\\nApple's tech specs page says all of the new 14-inch and 16-inch MacBook Pro models have a peak display brightness of 1,000…\",\n",
              "   'url': 'https://www.macrumors.com/2024/10/30/new-macbook-pros-brighter-display-outdoors/',\n",
              "   'urlToImage': 'https://images.macrumors.com/t/sbQEiSsX5TFjzeIHvxvIsvkG4W0=/3840x/article-new/2024/10/Apple-MacBook-Pro-M4-hero.jpg',\n",
              "   'publishedAt': '2024-10-30T18:53:14Z',\n",
              "   'content': \"The new MacBook Pro models unveiled today feature display brightness enhancements in both bright outdoor lighting and low lighting.\\r\\nApple's tech specs page says all of the new 14-inch and 16-inch Ma… [+887 chars]\"},\n",
              "  {'source': {'id': None, 'name': 'MacRumors'},\n",
              "   'author': 'Hartley Charlton',\n",
              "   'title': \"M3 vs. M4 Chip Buyer's Guide: How Much Better Really Is M4?\",\n",
              "   'description': 'Apple today announced the first of its M4 Mac models, but how much better really is the M4 chip over its predecessor?\\n\\n\\n\\n\\n\\nThe M4 chip debuted in the iPad Pro earlier this year, promising around 20% faster performance than the M3 chip in both single and multi…',\n",
              "   'url': 'https://www.macrumors.com/guide/m3-vs-m4/',\n",
              "   'urlToImage': 'https://images.macrumors.com/t/hywUWksq-3uiVJnKYlDuM1KA190=/2500x/article-new/2024/06/M3-vs-M4-Feature.jpg',\n",
              "   'publishedAt': '2024-10-28T15:45:00Z',\n",
              "   'content': 'Apple today announced the first of its M4 Mac models, but how much better really is the M4 chip over its predecessor?\\r\\nThe M4 chip debuted in the iPad Pro earlier this year, promising around 20% fast… [+4793 chars]'},\n",
              "  {'source': {'id': None, 'name': 'CNET'},\n",
              "   'author': 'Lisa Eadicicco',\n",
              "   'title': \"Apple Intelligence Impressions: Don't Expect Radical Change video\",\n",
              "   'description': 'Apple Intelligence still has a long way to go, but the first set of features shows promise.',\n",
              "   'url': 'https://www.cnet.com/videos/apple-intelligence-impressions-dont-expect-radical-change/',\n",
              "   'urlToImage': 'https://www.cnet.com/a/img/resize/db781421023541b905396e4150024968f00accaf/hub/2024/10/28/b73d6efa-a1b7-4858-9814-c36727be8e6e/241025-site-apple-intelligence-review-1.jpg?auto=webp&fit=crop&height=675&width=1200',\n",
              "   'publishedAt': '2024-10-28T22:05:21Z',\n",
              "   'content': ''},\n",
              "  {'source': {'id': None, 'name': 'CNET'},\n",
              "   'author': 'David Lumb',\n",
              "   'title': \"I Got to Play With Apple's New M4 Mac Mini, iMac and MacBook Pro\",\n",
              "   'description': \"What's coming with the new Apple lineup of smaller Mac Mini, iMac colors and MacBook Pro in Space Gray\",\n",
              "   'url': 'https://www.cnet.com/tech/computing/i-got-to-play-with-apples-new-m4-mac-mini-imac-and-macbook-pro/',\n",
              "   'urlToImage': 'https://www.cnet.com/a/img/resize/fa86c8350c7e85cc57323c805d0e6937443541c8/hub/2024/10/30/ccec5acf-179e-42d7-88df-ac0374111442/imac-2024-back-colors.jpg?auto=webp&fit=crop&height=675&width=1200',\n",
              "   'publishedAt': '2024-10-30T23:16:00Z',\n",
              "   'content': \"In a trendy corner of Los Angeles, California, I got to try the new Mac Mini, iMac and Macbook Pro machines Apple just announced, which are powered by the company's new M4 chips with Apple Intelligen… [+6733 chars]\"},\n",
              "  {'source': {'id': None, 'name': 'CNET'},\n",
              "   'author': 'Abrar Al-Heeti',\n",
              "   'title': 'With Apple Intelligence on the Horizon, a Quarter of Smartphone Owners Are Unimpressed by AI',\n",
              "   'description': \"A CNET survey found many consumers aren't sold on mobile AI offerings from companies like Apple, Google and Samsung -- especially if they have to pay for access.\",\n",
              "   'url': 'https://www.cnet.com/tech/mobile/with-apple-intelligence-on-the-horizon-a-quarter-of-smartphone-owners-are-unimpressed-by-ai/',\n",
              "   'urlToImage': 'https://www.cnet.com/a/img/resize/c23abdcd3e6fa50cf34b757093dff849436d4ed9/hub/2024/09/05/26c520bc-a6a1-4de4-bd75-2b99e25192e8/apple-intelligence-promo-image.jpg?auto=webp&fit=crop&height=675&width=1200',\n",
              "   'publishedAt': '2024-10-25T12:00:15Z',\n",
              "   'content': \"Key takeaways:\\r\\n<ul><li>A quarter of smartphone owners (25%) don't find AI features helpful, 45% are reluctant to pay a monthly subscription fee for AI capabilities and 34% have privacy concerns.</li… [+6323 chars]\"},\n",
              "  {'source': {'id': None, 'name': 'CNET'},\n",
              "   'author': 'Aashna Gheewalla',\n",
              "   'title': 'Best MacBook Pro Deals: New M4 MacBook Pro Preorder Offers and Older Gen Discounts',\n",
              "   'description': \"Apple just announced the new M4 MacBook Pro, with the most powerful chip yet. Here's how to save on new and older models.\",\n",
              "   'url': 'https://www.cnet.com/deals/best-macbook-pro-deals/',\n",
              "   'urlToImage': 'https://www.cnet.com/a/img/resize/a1586138aeaf6d842a3882c86a77deb16be846c1/hub/2024/10/29/3b32c431-dc81-41cb-a5a6-8d6a9c590c09/apple-mac-pro-m4-late-2024.jpg?auto=webp&fit=crop&height=675&width=1200',\n",
              "   'publishedAt': '2024-10-30T20:54:01Z',\n",
              "   'content': \"We're all familiar with Apple products. From\\xa0phones\\xa0to\\xa0tablets\\xa0and more, there's no denying Apple makes some of the best tech in the game. This obviously includes Mac\\xa0laptops, like the MacBook Pro. T… [+2024 chars]\"},\n",
              "  {'source': {'id': None, 'name': 'CNET'},\n",
              "   'author': 'Bridget Carey',\n",
              "   'title': \"Apple's New M4 Macs Up Close: 2024 MacBook Pro, Mac Mini, iMac Details video\",\n",
              "   'description': \"Apple revealed new M4 Mac upgrades in multiple October announcements. CNET's Bridget Carey breaks down what's new in the MacBook Pro, Mac Mini and iMac.\",\n",
              "   'url': 'https://www.cnet.com/videos/apples-new-m4-macs-up-close-2024-macbook-pro-mac-mini-imac-details/',\n",
              "   'urlToImage': 'https://www.cnet.com/a/img/resize/b5de7bcbbc658c35b32e25a1cdf2fe00ff1e6965/hub/2024/10/30/04bc97eb-4e4e-47cb-a683-26ae3c00015e/241029-site-mac-news-roundup-3.jpg?auto=webp&fit=crop&height=675&width=1200',\n",
              "   'publishedAt': '2024-10-30T23:09:00Z',\n",
              "   'content': ''},\n",
              "  {'source': {'id': None, 'name': 'CNET'},\n",
              "   'author': 'Jeff Carlson',\n",
              "   'title': 'Why Does Siri Look the Same on My iPhone, Even in iOS 18.1?',\n",
              "   'description': \"When you invoke Siri on your iPhone, are you not getting the new colorful border animation? Here's why.\",\n",
              "   'url': 'https://www.cnet.com/tech/services-and-software/why-does-siri-look-the-same-on-my-iphone-even-in-ios-18-1/',\n",
              "   'urlToImage': 'https://www.cnet.com/a/img/resize/c188cb192bc4012538806f65a14880b064d80a83/hub/2024/09/09/b74c518b-dd71-4bf6-8cb9-2015ea6d242e/screenshot-2024-09-09-at-10-54-50am.png?auto=webp&fit=crop&height=675&width=1200',\n",
              "   'publishedAt': '2024-10-30T10:42:03Z',\n",
              "   'content': \"Now that iOS 18.1 with\\xa0Apple Intelligence\\xa0is released, you're probably eager to try out new features like notification summaries, writing tools and the Clean Up feature in Photos. But if you're like … [+2500 chars]\"},\n",
              "  {'source': {'id': None, 'name': 'CNET'},\n",
              "   'author': 'Jeff Carlson',\n",
              "   'title': \"These 3 Apple Intelligence Features in iOS 18.1 Are the Ones You'll Actually Use\",\n",
              "   'description': \"Apple Intelligence launched for everyone (with supported devices) and with a (limited) selection of features -- and even from that list, you'll encounter only a few on a day-to-day basis.\",\n",
              "   'url': 'https://www.cnet.com/tech/services-and-software/these-3-apple-intelligence-features-in-ios-18-1-are-the-ones-youll-actually-use/',\n",
              "   'urlToImage': 'https://www.cnet.com/a/img/resize/ced5b9a0b0a4f5c73ca893268fc9164272e8272a/hub/2024/09/17/d5f874ee-5feb-41cf-bfb0-cf913721ea4d/apple-iphone-16-pro-max-apple-intelligence-siri-halo-glow-4675.jpg?auto=webp&fit=crop&height=675&width=1200',\n",
              "   'publishedAt': '2024-10-30T09:00:02Z',\n",
              "   'content': 'With the release of iOS 18.1 on Monday, Apple Intelligence finally arrives on the iPhone for the general public -- that is, if you own an iPhone 15 Pro, iPhone 16 or iPhone 16 Pro (or their Plus and … [+4785 chars]'},\n",
              "  {'source': {'id': None, 'name': 'CNET'},\n",
              "   'author': 'Ingrid Cruz',\n",
              "   'title': \"Apple's M2 iPad Air Now Starts at Just $499 at Amazon\",\n",
              "   'description': \"Apple's latest M2 iPad Air is now available with prices as low as $499 for the 11-inch model.\",\n",
              "   'url': 'https://www.cnet.com/deals/apples-m2-ipad-air-now-starts-at-just-499-at-amazon/',\n",
              "   'urlToImage': 'https://www.cnet.com/a/img/resize/94b0e951b8ee54dd15431e2c743ef3370b4fee39/hub/2024/07/31/ef35e9a5-9101-41f5-bd63-a59407518512/apple-ipad-air-commerce-image.jpg?auto=webp&fit=crop&height=675&width=1200',\n",
              "   'publishedAt': '2024-10-28T18:07:12Z',\n",
              "   'content': \"Apple's\\xa0M2 iPad Air\\xa0is the best model to ever carry the iconic Air name, and now it's available in a couple of different screen sizes. The superfast M2 chip makes this tablet great for both work and … [+1215 chars]\"},\n",
              "  {'source': {'id': None, 'name': 'CNET'},\n",
              "   'author': 'Matt Elliott',\n",
              "   'title': 'Apple Updates iMac With M4, More RAM, Nano-Texture Display and More',\n",
              "   'description': \"Meet the first Mac desktop with Apple's latest M4 processor.\",\n",
              "   'url': 'https://www.cnet.com/tech/computing/apple-updates-imac-with-m4-more-ram-nano-texture-display-and-more/',\n",
              "   'urlToImage': 'https://www.cnet.com/a/img/resize/2099aa5d86f8552da5158939902d730a7e4346d1/hub/2024/10/28/921383f4-222d-4eaf-84f5-aa4561d2c79a/apple-imac-m4.jpg?auto=webp&fit=crop&height=675&precrop=857,644,x445,y0&width=1200',\n",
              "   'publishedAt': '2024-10-28T15:50:00Z',\n",
              "   'content': 'Apple released its M4 processor earlier this year, but in a curious turn, the new silicon\\xa0first showed up in an iPad Pro\\xa0instead of a Mac. Today, Mac computers have caught up to their tablet counterp… [+2804 chars]'},\n",
              "  {'source': {'id': None, 'name': 'CNET'},\n",
              "   'author': 'Zachary McAuliffe',\n",
              "   'title': 'iOS 18.1 Is Out and It Brings Apple Intelligence to Some iPhones',\n",
              "   'description': 'The update also brings a handful of fixes and features to all iPhones.',\n",
              "   'url': 'https://www.cnet.com/tech/services-and-software/ios-18-1-is-out-and-it-brings-apple-intelligence-to-some-iphones/',\n",
              "   'urlToImage': 'https://www.cnet.com/a/img/resize/a1b5e0a623b3c61f78b2efe9b2c93da4bfbc4a1b/hub/2024/09/25/ff75602a-cd2c-420d-bdd2-bc88ee2ac001/ios18-features-00000.png?auto=webp&fit=crop&height=675&width=1200',\n",
              "   'publishedAt': '2024-10-28T18:09:04Z',\n",
              "   'content': 'Apple released\\xa0iOS 18.1\\xa0on Monday, about a month after the tech giant fixed a few iPhone bugs with iOS 18.0.1. Apple brought a lot of new features to your iPhone when it released iOS 18 in September … [+11724 chars]'},\n",
              "  {'source': {'id': None, 'name': 'CNET'},\n",
              "   'author': 'Dreamchild Obari',\n",
              "   'title': 'The Apple M2 13-Inch MacBook Air Is at Its Lowest Price of $700 for a Limited Time',\n",
              "   'description': \"Apple's MacBook Air is thin, fast and now at its lowest-ever price at Amazon right now.\",\n",
              "   'url': 'https://www.cnet.com/deals/the-apple-m2-13-inch-macbook-air-is-at-its-lowest-price-of-700-for-a-limited-time/',\n",
              "   'urlToImage': 'https://www.cnet.com/a/img/resize/cc3a99cc2d68429d84d5f146597f13a131cdb4a3/hub/2024/07/31/47608a4f-7389-4eaa-815c-6335d4ccb068/amazon-macbook-m2-commerce-image.jpg?auto=webp&fit=crop&height=675&width=1200',\n",
              "   'publishedAt': '2024-10-27T14:23:00Z',\n",
              "   'content': \"If you're looking for one of the best laptops on the market, you know to consider any Apple model. They have fast, thin and light options across the lineup, and you can save significantly by buying a… [+2073 chars]\"},\n",
              "  {'source': {'id': None, 'name': 'CNET'},\n",
              "   'author': 'Adam Oram',\n",
              "   'title': \"Bag Apple's 9th-Gen iPad for Just $200 While You Still Can\",\n",
              "   'description': 'The 9th-gen iPad is a budget tablet bargain right now, but it might not stay that way for long.',\n",
              "   'url': 'https://www.cnet.com/deals/bag-apples-9th-gen-ipad-for-just-200-while-you-still-can/',\n",
              "   'urlToImage': 'https://www.cnet.com/a/img/resize/b9cfe348e15be8619a4c02f3093e9e3901bc28a2/hub/2024/10/08/685ad96e-2392-4e53-af68-87eec9db46a8/ipad-9th-gen-october-prime-day-commerce-image.jpg?auto=webp&fit=crop&height=675&width=1200',\n",
              "   'publishedAt': '2024-10-30T10:16:17Z',\n",
              "   'content': \"The tablet market has never had so much to offer but for Apple fans it's all about the iPad. Potential buyers looking for the best\\xa0tablet deals\\xa0on a new iPad\\xa0need look no further because while the\\xa09t… [+1844 chars]\"},\n",
              "  {'source': {'id': None, 'name': 'CNET'},\n",
              "   'author': 'Katie Collins',\n",
              "   'title': 'Your Apps Are on Borrowed Time. AI Agents Are on the Way',\n",
              "   'description': 'AI agents will be at center of our digital worlds, dancing across our devices from smart glasses to cars, providing a consistent experience and adapting the way technology interacts with us.',\n",
              "   'url': 'https://www.cnet.com/tech/mobile/your-apps-are-on-borrowed-time-ai-agents-are-on-the-way/',\n",
              "   'urlToImage': 'https://www.cnet.com/a/img/resize/6e9233bfac4b422f7320c33a8895874e7bdcebb7/hub/2024/10/14/4da13dfb-7dc2-45e7-8452-2dc70571bcd1/5-apps-that-teach-you-as-you-go.png?auto=webp&fit=crop&height=675&width=1200',\n",
              "   'publishedAt': '2024-10-30T12:00:00Z',\n",
              "   'content': \"I first sensed it at Mobile World Congress in February. I saw a demo of phone software in which all apps were replaced by an AI interface. Then last week at Qualcomm's Snapdragon Summit, CEO Cristian… [+7002 chars]\"},\n",
              "  {'source': {'id': None, 'name': 'CNET'},\n",
              "   'author': 'Jeff Carlson',\n",
              "   'title': 'New Drag and Drop Is Just One of Several Real-World Reasons to Use iPhone Mirroring on Your Mac',\n",
              "   'description': 'The latest iOS and MacOS updates add this super useful shortcut for moving files between devices.',\n",
              "   'url': 'https://www.cnet.com/tech/services-and-software/new-drag-and-drop-is-just-one-of-several-real-world-reasons-to-use-iphone-mirroring-on-your-mac/',\n",
              "   'urlToImage': 'https://www.cnet.com/a/img/resize/9e0081e183d121acd544e26cf0d61ceafa02a602/hub/2024/08/28/d6928ca3-24f8-43d2-9cac-d8aed43d26b9/iphone-mirroring-hero-v2.jpg?auto=webp&fit=crop&height=675&width=1200',\n",
              "   'publishedAt': '2024-10-30T11:01:13Z',\n",
              "   'content': \"The last piece of the iPhone Mirroring puzzle is now available with the release of iOS 18.1 and MacOS Sequoia 15.1. iPhone Mirroring on its own is a practical marvel if you're in the Apple ecosystem:… [+7797 chars]\"},\n",
              "  {'source': {'id': None, 'name': 'CNET'},\n",
              "   'author': 'Jeff Carlson',\n",
              "   'title': \"The Essential Guide to Using Apple's New Passwords App: Passkeys, 2FA, Sharing and More\",\n",
              "   'description': \"If you're not storing unique passwords for all of your websites and services in a secure place, Apple's Passwords app gives you an incentive to start now.\",\n",
              "   'url': 'https://www.cnet.com/tech/services-and-software/the-essential-guide-to-using-apples-new-passwords-app-passkeys-2fa-sharing-and-more/',\n",
              "   'urlToImage': 'https://www.cnet.com/a/img/resize/daee0cdb7a22549876be7a78b39be474f7f19fb3/hub/2024/10/23/013510f9-b531-4c2d-b902-3c3569a09954/1-passwords-iphone-mac-main.jpg?auto=webp&fit=crop&height=675&width=1200',\n",
              "   'publishedAt': '2024-10-25T11:11:02Z',\n",
              "   'content': \"How do you store the passwords for your favorite websites, your bank, smart devices and all the rest? You've no doubt got a raft of passwords to keep track of. It's exhausting. We're long past the ti… [+14019 chars]\"},\n",
              "  {'source': {'id': None, 'name': 'CNET'},\n",
              "   'author': 'Matt Poskitt',\n",
              "   'title': 'Best Buy Is Slashing $420 Off This Stunning 65-Inch LG TV',\n",
              "   'description': 'You can score this LG NanoCell 65-inch TV for less than $500 right now.',\n",
              "   'url': 'https://www.cnet.com/deals/best-buy-is-slashing-420-off-this-stunning-65-inch-lg-tv/',\n",
              "   'urlToImage': 'https://www.cnet.com/a/img/resize/d8c909cbbabcb326bb897a593a51334dbaee5c0e/hub/2024/10/18/0d9d6fd0-2d6a-487f-b73f-b8d22db98d1c/lg-nanocell-tv-commerce-image.png?auto=webp&fit=crop&height=675&width=1200',\n",
              "   'publishedAt': '2024-10-28T15:59:00Z',\n",
              "   'content': 'A new TV can make a huge difference in any space. But a TV with many bells and whistles can be pretty costly. Thankfully, Best Buy has launched a deal for a beautiful 65-inch LG NanoCell 75UQA TV wit… [+1239 chars]'},\n",
              "  {'source': {'id': None, 'name': 'CNET'},\n",
              "   'author': 'Dana Miranda',\n",
              "   'title': \"Don't Let 'Gray Charges' Sneak Onto Your Credit Card. How to Spot Them\",\n",
              "   'description': \"It's not just surprise subscriptions. Unexpected charges can show up from a variety of sources.\",\n",
              "   'url': 'https://www.cnet.com/personal-finance/credit-cards/dont-let-gray-charges-sneak-onto-your-credit-card-how-to-spot-them/',\n",
              "   'urlToImage': 'https://www.cnet.com/a/img/resize/2f92595d9a8b6b2252b884ed73f4651fbc81b502/hub/2024/09/28/5e58a79d-eb0b-4b73-89df-9a8e94074d3b/gettyimages-1329840368.jpg?auto=webp&fit=crop&height=675&width=1200',\n",
              "   'publishedAt': '2024-10-28T19:30:07Z',\n",
              "   'content': \"My partner and I jumped on Apple Music the day it launched in 2015. We didn't often spend money on streaming services, but Apple offered a free three-month trial we couldn't pass up.\\xa0\\r\\nNine years lat… [+9747 chars]\"},\n",
              "  {'source': {'id': None, 'name': 'CNET'},\n",
              "   'author': 'Adam Oram',\n",
              "   'title': 'Amazon Black Friday Sale: Early Deals and Everything You Need to Know',\n",
              "   'description': \"We've broken down what you can expect from this year's sale, and collected some of the best early deals already available.\",\n",
              "   'url': 'https://www.cnet.com/deals/amazon-black-friday-deals/',\n",
              "   'urlToImage': 'https://www.cnet.com/a/img/resize/ad3ef896d2b455c7def22b3ebade7f5aedb62885/hub/2024/10/23/8cb0b746-8105-4f89-a44a-510e2cbef344/black-friday-2024-amazon.png?auto=webp&fit=crop&height=675&width=1200',\n",
              "   'publishedAt': '2024-10-30T09:45:00Z',\n",
              "   'content': \"Zooey Liao/CNET\\r\\nThough it's still a few weeks away, the Black Friday buzz is already well underway. Some major retailers like Walmart are already releasing details of what we can expect from this ye… [+4388 chars]\"},\n",
              "  {'source': {'id': None, 'name': 'CNET'},\n",
              "   'author': 'David Lumb',\n",
              "   'title': \"Qualcomm's Snapdragon 8 Elite Chip Will Make Your Phone Less Annoying\",\n",
              "   'description': \"From faster app switching and web browsing to improved selfies, next year's Android phones have a lot to gain from the Snapdragon Elite chip.\",\n",
              "   'url': 'https://www.cnet.com/tech/mobile/qualcomms-snapdragon-8-elite-chip-will-make-your-phone-less-annoying/',\n",
              "   'urlToImage': 'https://www.cnet.com/a/img/resize/929490255bc70b19f3a56eb56544d6e3713d4e10/hub/2024/10/25/1b6af902-42af-4184-a3fe-917d09bb7226/snap-qol-lede-and-promo.jpg?auto=webp&fit=crop&height=675&width=1200',\n",
              "   'publishedAt': '2024-10-26T11:00:00Z',\n",
              "   'content': \"Chief among Qualcomm's newest chips is the Snapdragon 8 Elite, which will bring more AI features and faster speeds to next year's top-tier Android phones. It was announced at the Snapdragon Summit 20… [+7668 chars]\"},\n",
              "  {'source': {'id': None, 'name': 'CNET'},\n",
              "   'author': 'Ty Pendlebury',\n",
              "   'title': 'TCL QM8 (2024) Review: Mini LED TV Gets Brighter, Richer Picture',\n",
              "   'description': 'Truly bright, with excellent image quality and a not-ridiculous price makes the TCL QM8 Series (2024) a TV for other LCDs to aspire to.',\n",
              "   'url': 'https://www.cnet.com/tech/home-entertainment/tcl-qm8-2024-review-mini-led-tv-gets-brighter-richer-picture/',\n",
              "   'urlToImage': 'https://www.cnet.com/a/img/resize/52a8bd9923926e251c3da8142b33757a13d5117d/hub/2024/10/28/c4575ba9-bf31-426c-861a-f12d21469dae/tcl-qm8-1.jpg?auto=webp&fit=crop&height=675&width=1200',\n",
              "   'publishedAt': '2024-10-29T10:00:00Z',\n",
              "   'content': 'With the introduction of\\xa0mini-LED technology\\xa0-- not to be\\xa0confused\\xa0with MicroLED -- modern LCD-based TVs have been able to offer better, more dynamic pictures than ever before. As a result, televisio… [+13312 chars]'},\n",
              "  {'source': {'id': None, 'name': 'CNET'},\n",
              "   'author': 'Tyler Lacoma',\n",
              "   'title': \"Don't Lose Track of Your Kids on Halloween: 5 High-Tech Tips to Keep Them Safe\",\n",
              "   'description': \"Should you put an AirTag in your kid's Halloween sneaker? We'll walk you through the options for tracking your kids without ruining their fun.\",\n",
              "   'url': 'https://www.cnet.com/home/security/dont-lose-track-of-your-kids-on-halloween-5-high-tech-tips-to-keep-them-safe/',\n",
              "   'urlToImage': 'https://www.cnet.com/a/img/resize/6c39744b5094b6c4c339eb3350574619e31d2443/hub/2024/10/25/dcf3b132-7c0f-4c36-8c21-74fc62e6225d/gettyimages-1748459935.jpg?auto=webp&fit=crop&height=675&width=1200',\n",
              "   'publishedAt': '2024-10-30T10:00:15Z',\n",
              "   'content': \"If you're planning a\\xa0Halloween outing\\xa0with your kids, you probably don't want to spoil their fun by following their every move -- but you also want peace of mind. How can you let your little ghouls o… [+4717 chars]\"},\n",
              "  {'source': {'id': None, 'name': 'CNET'},\n",
              "   'author': 'Jessica Rendall',\n",
              "   'title': 'The Secret Warning Signs Your Gut Is Unhealthy and What to do About It',\n",
              "   'description': \"Telltale signs your gut isn't as healthy as you think.\",\n",
              "   'url': 'https://www.cnet.com/health/medical/the-secret-warning-signs-your-gut-is-unhealthy-and-solutions/',\n",
              "   'urlToImage': 'https://www.cnet.com/a/img/resize/62878bba24035c81bce501f971b1869f012ef068/hub/2024/08/21/094227c7-921b-4b76-8fc1-ecc2abc6614a/gettyimages-1387959099.jpg?auto=webp&fit=crop&height=675&width=1200',\n",
              "   'publishedAt': '2024-10-29T19:00:00Z',\n",
              "   'content': 'Gut health has been a hot topic lately. More and more people are realizing how beneficial a good gut is to your overall health. But are you aware of the signs your body sends to alert you that you ma… [+6984 chars]'},\n",
              "  {'source': {'id': None, 'name': 'CNET'},\n",
              "   'author': 'Zachary McAuliffe',\n",
              "   'title': 'Google Drive Full? Try These Steps for More Storage Without Paying for It',\n",
              "   'description': \"Don't upgrade to Google One just yet. Free up some digital storage space first with these tricks.\",\n",
              "   'url': 'https://www.cnet.com/tech/services-and-software/google-drive-full-try-these-steps-for-more-storage-without-paying-for-it/',\n",
              "   'urlToImage': 'https://www.cnet.com/a/img/resize/7be29b89d8001eb4e62465a72b0a6f8379318430/hub/2024/06/01/dd1c17cc-7cd5-497d-b139-5f4ff619cedf/google-drive.jpg?auto=webp&fit=crop&height=675&width=1200',\n",
              "   'publishedAt': '2024-10-30T11:01:06Z',\n",
              "   'content': 'How long does it take to use up 15GB of storage? If you have a Google Drive account, you know emails, photos, videos and other digital documents can eat up that space in no time. Google Drive is a po… [+9625 chars]'}]}"
            ]
          },
          "metadata": {},
          "execution_count": 42
        }
      ],
      "source": [
        "news"
      ]
    },
    {
      "cell_type": "code",
      "execution_count": null,
      "metadata": {
        "colab": {
          "base_uri": "https://localhost:8080/"
        },
        "id": "MWYNfFPklm0-",
        "outputId": "371ef0e6-123b-4b8e-faea-b19bee40ac3b"
      },
      "outputs": [
        {
          "output_type": "execute_result",
          "data": {
            "text/plain": [
              "10036"
            ]
          },
          "metadata": {},
          "execution_count": 43
        }
      ],
      "source": [
        "news[\"totalResults\"]"
      ]
    },
    {
      "cell_type": "code",
      "execution_count": null,
      "metadata": {
        "id": "of0t89UlmfFO"
      },
      "outputs": [],
      "source": [
        "articles = news[\"articles\"][:5]"
      ]
    },
    {
      "cell_type": "code",
      "execution_count": null,
      "metadata": {
        "colab": {
          "base_uri": "https://localhost:8080/"
        },
        "id": "g9rKyilCmhoS",
        "outputId": "65dd04aa-b46f-40a9-ffca-bec180422e04"
      },
      "outputs": [
        {
          "output_type": "execute_result",
          "data": {
            "text/plain": [
              "[{'source': {'id': None, 'name': 'Yahoo Entertainment'},\n",
              "  'author': 'Lawrence Bonk',\n",
              "  'title': 'iOS 18.2 will include daily Sudoku puzzles for Apple News+ subscribers',\n",
              "  'description': 'The long-anticipated iPhone iOS 18.1 officially launches next week\\r\\n, bringing with it Apple Intelligence\\r\\n, but we are already on to the next new thing. The company is busy preparing iOS 18.2\\r\\n, which has already entered its beta stage and should be widely r…',\n",
              "  'url': 'https://consent.yahoo.com/v2/collectConsent?sessionId=1_cc-session_7d792da3-893e-4d23-a5d9-4bce6937dc26',\n",
              "  'urlToImage': None,\n",
              "  'publishedAt': '2024-10-25T16:51:16Z',\n",
              "  'content': \"If you click 'Accept all', we and our partners, including 237 who are part of the IAB Transparency &amp; Consent Framework, will also store and/or access information on a device (in other words, use … [+678 chars]\"},\n",
              " {'source': {'id': None, 'name': 'Yahoo Entertainment'},\n",
              "  'author': 'Will Shanklin',\n",
              "  'title': 'Apple Intelligence is coming to EU iPhones and iPads in April',\n",
              "  'description': 'Folks in the European Union finally know when Apple Intelligence will be available on their mobile devices. Apple told EU users on Monday that its AI suite will arrive in April 2025. The first Apple Intelligence features, including Writing Tools and AI notifi…',\n",
              "  'url': 'https://consent.yahoo.com/v2/collectConsent?sessionId=1_cc-session_9e418204-613e-41ea-849e-1acac15729e7',\n",
              "  'urlToImage': None,\n",
              "  'publishedAt': '2024-10-28T19:10:28Z',\n",
              "  'content': \"If you click 'Accept all', we and our partners, including 237 who are part of the IAB Transparency &amp; Consent Framework, will also store and/or access information on a device (in other words, use … [+678 chars]\"},\n",
              " {'source': {'id': None, 'name': '[Removed]'},\n",
              "  'author': None,\n",
              "  'title': '[Removed]',\n",
              "  'description': '[Removed]',\n",
              "  'url': 'https://removed.com',\n",
              "  'urlToImage': None,\n",
              "  'publishedAt': '2024-10-29T11:16:45Z',\n",
              "  'content': '[Removed]'},\n",
              " {'source': {'id': None, 'name': 'Yahoo Entertainment'},\n",
              "  'author': 'Will Shanklin',\n",
              "  'title': 'Everything Apple announced during its unofficial Mac Week',\n",
              "  'description': 'Following the illustrious line of calendar-spanning corporate events like Lobsterfest and Shark Week, Apple tried something new this year with a celebration unofficially known as Mac Week. (Fortunately for Apple, it just so happens to coincide with its earnin…',\n",
              "  'url': 'https://consent.yahoo.com/v2/collectConsent?sessionId=1_cc-session_c32e977d-97fc-463b-bc24-4576a92cbe19',\n",
              "  'urlToImage': None,\n",
              "  'publishedAt': '2024-10-30T21:01:15Z',\n",
              "  'content': \"If you click 'Accept all', we and our partners, including 237 who are part of the IAB Transparency &amp; Consent Framework, will also store and/or access information on a device (in other words, use … [+678 chars]\"},\n",
              " {'source': {'id': None, 'name': '[Removed]'},\n",
              "  'author': None,\n",
              "  'title': '[Removed]',\n",
              "  'description': '[Removed]',\n",
              "  'url': 'https://removed.com',\n",
              "  'urlToImage': None,\n",
              "  'publishedAt': '2024-10-28T15:12:51Z',\n",
              "  'content': '[Removed]'}]"
            ]
          },
          "metadata": {},
          "execution_count": 45
        }
      ],
      "source": [
        "articles"
      ]
    },
    {
      "cell_type": "markdown",
      "metadata": {
        "id": "ACWKMBkvmyHq"
      },
      "source": [
        "Другие API:\n",
        "\n",
        "1. OpenWeatherMap (https://openweathermap.org/api) - предоставляет информацию о погоде, прогнозы и исторические данные по всему миру. Есть бесплатный лимит запросов, но все равно требуется ввести данные банковской карты.\n",
        "\n",
        "2. GitHub (https://developer.github.com/v3/) - API для доступа к данным о репозиториях, пользователях, коммитах и т.д.\n",
        "\n",
        "3. Open Trivia API (https://opentdb.com/api_config.php) - API для получения вопросов и ответов из базы данных триивиума (викторины)."
      ]
    },
    {
      "cell_type": "code",
      "execution_count": null,
      "metadata": {
        "colab": {
          "base_uri": "https://localhost:8080/"
        },
        "id": "rQ11bbCVnSHZ",
        "outputId": "cd258252-1846-4dde-bd61-0f1efec53bc8"
      },
      "outputs": [
        {
          "output_type": "execute_result",
          "data": {
            "text/plain": [
              "{'response_code': 0,\n",
              " 'results': [{'type': 'multiple',\n",
              "   'difficulty': 'hard',\n",
              "   'category': 'Entertainment: Board Games',\n",
              "   'question': 'The board game &quot;Ra&quot; was designed by which designer? ',\n",
              "   'correct_answer': 'Reiner Knizia',\n",
              "   'incorrect_answers': ['Bruno Cathala', 'Uwe Rosenburg', 'Allison Kline']},\n",
              "  {'type': 'multiple',\n",
              "   'difficulty': 'easy',\n",
              "   'category': 'Entertainment: Television',\n",
              "   'question': 'In the show, Doctor Who, what does T.A.R.D.I.S stand for?',\n",
              "   'correct_answer': 'Time And Relative Dimensions In Space',\n",
              "   'incorrect_answers': ['Time And Resting Dimensions In Space',\n",
              "    'Time And Relative Dimensions In Style',\n",
              "    'Toilet Aid Rope Dog Is Soup']},\n",
              "  {'type': 'multiple',\n",
              "   'difficulty': 'medium',\n",
              "   'category': 'Entertainment: Japanese Anime &amp; Manga',\n",
              "   'question': 'Which of the following films was NOT directed by Hayao Miyazaki?',\n",
              "   'correct_answer': 'Wolf Children',\n",
              "   'incorrect_answers': ['Princess Mononoke',\n",
              "    'Spirited Away',\n",
              "    'Kiki&#039;s Delivery Service']},\n",
              "  {'type': 'multiple',\n",
              "   'difficulty': 'hard',\n",
              "   'category': 'Science &amp; Nature',\n",
              "   'question': 'On the Beaufort Scale of wind force, what wind name is given to number 8?',\n",
              "   'correct_answer': 'Gale',\n",
              "   'incorrect_answers': ['Storm', 'Hurricane', 'Breeze']},\n",
              "  {'type': 'multiple',\n",
              "   'difficulty': 'hard',\n",
              "   'category': 'Science &amp; Nature',\n",
              "   'question': 'What is the same in Celsius and Fahrenheit?',\n",
              "   'correct_answer': '-40',\n",
              "   'incorrect_answers': ['32', '-39', '-42']},\n",
              "  {'type': 'boolean',\n",
              "   'difficulty': 'medium',\n",
              "   'category': 'Entertainment: Cartoon &amp; Animations',\n",
              "   'question': 'Blue Danube was one of the musical pieces featured in Disney&#039;s 1940&#039;s film Fantasia.',\n",
              "   'correct_answer': 'False',\n",
              "   'incorrect_answers': ['True']},\n",
              "  {'type': 'multiple',\n",
              "   'difficulty': 'medium',\n",
              "   'category': 'Entertainment: Cartoon &amp; Animations',\n",
              "   'question': 'Who created &quot;RWBY&quot;?',\n",
              "   'correct_answer': 'Monty Oum',\n",
              "   'incorrect_answers': ['Miles Luna', 'Kerry Shawcross', 'Shane Newville']},\n",
              "  {'type': 'multiple',\n",
              "   'difficulty': 'medium',\n",
              "   'category': 'Science &amp; Nature',\n",
              "   'question': 'What is radiation measured in?',\n",
              "   'correct_answer': 'Gray ',\n",
              "   'incorrect_answers': ['Watt', 'Decibel', 'Kelvin']},\n",
              "  {'type': 'multiple',\n",
              "   'difficulty': 'medium',\n",
              "   'category': 'Entertainment: Music',\n",
              "   'question': 'Which of these is not a single by Pink Floyd guitarist, David Gilmour?',\n",
              "   'correct_answer': 'Sunset Strip',\n",
              "   'incorrect_answers': ['Rattle That Lock', 'Blue Light', 'Arnold Layne']},\n",
              "  {'type': 'multiple',\n",
              "   'difficulty': 'easy',\n",
              "   'category': 'General Knowledge',\n",
              "   'question': 'What was the name of the WWF professional wrestling tag team made up of the wrestlers Ax and Smash?',\n",
              "   'correct_answer': 'Demolition',\n",
              "   'incorrect_answers': ['The Dream Team',\n",
              "    'The Bushwhackers',\n",
              "    'The British Bulldogs']}]}"
            ]
          },
          "metadata": {},
          "execution_count": 46
        }
      ],
      "source": [
        "requests.get(\"https://opentdb.com/api.php?amount=10\").json()"
      ]
    },
    {
      "cell_type": "markdown",
      "metadata": {
        "id": "i2E9CEKwoIjU"
      },
      "source": [
        "А еще есть Drama Corpus, который делали в том числе при участии Школы Лингвистики: https://dracor.org/doc/api"
      ]
    },
    {
      "cell_type": "code",
      "execution_count": null,
      "metadata": {
        "colab": {
          "base_uri": "https://localhost:8080/"
        },
        "id": "LnjK3RjIn3az",
        "outputId": "7d41ee23-a685-441a-b1d3-d294b28d5a14"
      },
      "outputs": [
        {
          "output_type": "execute_result",
          "data": {
            "text/plain": [
              "[{'id': 'gorodnichij',\n",
              "  'name': 'Городничий',\n",
              "  'isGroup': False,\n",
              "  'gender': 'MALE',\n",
              "  'numOfScenes': 21,\n",
              "  'numOfSpeechActs': 172,\n",
              "  'numOfWords': 4991,\n",
              "  'degree': 26,\n",
              "  'weightedDegree': 84,\n",
              "  'closeness': 0.8760416666666667,\n",
              "  'betweenness': 0.1264602852635307,\n",
              "  'eigenvector': 0.24182361124623364},\n",
              " {'id': 'ammos_fedorovich_ljapkin_tjapkin',\n",
              "  'name': 'Аммос Федорович',\n",
              "  'isGroup': False,\n",
              "  'gender': 'MALE',\n",
              "  'numOfScenes': 8,\n",
              "  'numOfSpeechActs': 49,\n",
              "  'numOfWords': 748,\n",
              "  'degree': 21,\n",
              "  'weightedDegree': 54,\n",
              "  'closeness': 0.7377192982456141,\n",
              "  'betweenness': 0.010129431082777935,\n",
              "  'eigenvector': 0.23046261804194926},\n",
              " {'id': 'artemij_filippovich_zemljanika',\n",
              "  'name': 'Артемий Филиппович Земляника',\n",
              "  'isGroup': False,\n",
              "  'gender': 'MALE',\n",
              "  'numOfScenes': 10,\n",
              "  'numOfSpeechActs': 51,\n",
              "  'numOfWords': 737,\n",
              "  'degree': 21,\n",
              "  'weightedDegree': 63,\n",
              "  'closeness': 0.7377192982456141,\n",
              "  'betweenness': 0.010129431082777935,\n",
              "  'eigenvector': 0.23046261804194926},\n",
              " {'id': 'luka_lukich',\n",
              "  'name': 'Лука Лукич',\n",
              "  'isGroup': False,\n",
              "  'gender': 'MALE',\n",
              "  'numOfScenes': 9,\n",
              "  'numOfSpeechActs': 25,\n",
              "  'numOfWords': 294,\n",
              "  'degree': 21,\n",
              "  'weightedDegree': 61,\n",
              "  'closeness': 0.7377192982456141,\n",
              "  'betweenness': 0.010129431082777935,\n",
              "  'eigenvector': 0.23046261804194926},\n",
              " {'id': 'lekar',\n",
              "  'name': 'Лекарь Христиан Иванович',\n",
              "  'isGroup': False,\n",
              "  'gender': 'MALE',\n",
              "  'numOfScenes': 2,\n",
              "  'numOfSpeechActs': 2,\n",
              "  'numOfWords': 3,\n",
              "  'degree': 9,\n",
              "  'weightedDegree': 13,\n",
              "  'closeness': 0.5391025641025641,\n",
              "  'betweenness': 0,\n",
              "  'eigenvector': 0.1033485550907006}]"
            ]
          },
          "metadata": {},
          "execution_count": 47
        }
      ],
      "source": [
        "requests.get(\"https://dracor.org/api/corpora/rus/play/gogol-revizor/cast\").json()[:5]"
      ]
    },
    {
      "cell_type": "code",
      "execution_count": null,
      "metadata": {
        "id": "sTvupEdOiGkv"
      },
      "outputs": [],
      "source": []
    }
  ],
  "metadata": {
    "colab": {
      "provenance": []
    },
    "kernelspec": {
      "display_name": "Python 3 (ipykernel)",
      "language": "python",
      "name": "python3"
    },
    "language_info": {
      "codemirror_mode": {
        "name": "ipython",
        "version": 3
      },
      "file_extension": ".py",
      "mimetype": "text/x-python",
      "name": "python",
      "nbconvert_exporter": "python",
      "pygments_lexer": "ipython3",
      "version": "3.10.9"
    }
  },
  "nbformat": 4,
  "nbformat_minor": 0
}