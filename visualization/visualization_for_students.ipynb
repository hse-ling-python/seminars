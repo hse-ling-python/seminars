{
 "cells": [
  {
   "cell_type": "markdown",
   "metadata": {},
   "source": [
    "# Визуализация данных\n",
    "\n",
    "**План:**\n",
    "\n",
    "1. pandas - организация данных\n",
    "2. Matplotlib\n",
    "3. Seaborn\n",
    "4. Wordcloud"
   ]
  },
  {
   "cell_type": "code",
   "execution_count": 1,
   "metadata": {},
   "outputs": [],
   "source": [
    "import matplotlib.pyplot as plt\n",
    "%matplotlib inline\n",
    "import seaborn as sns\n",
    "import pandas as pd\n",
    "import re\n",
    "import random\n",
    "random.seed = 23  # фиксируем рандомизацию, чтобы работа воспроизводилась"
   ]
  },
  {
   "cell_type": "markdown",
   "metadata": {},
   "source": [
    "### Данных\n",
    "\n",
    "Данные - данные о [прокатных удостоверениях фильмов](https://opendata.mkrf.ru/opendata/7705851331-register_movies)."
   ]
  },
  {
   "cell_type": "code",
   "execution_count": 2,
   "metadata": {},
   "outputs": [
    {
     "name": "stderr",
     "output_type": "stream",
     "text": [
      "C:\\Users\\johola\\AppData\\Local\\Temp\\ipykernel_6800\\4086642930.py:1: DtypeWarning: Columns (2,12,13,14,17,18,19,20,32,35,36,40) have mixed types. Specify dtype option on import or set low_memory=False.\n",
      "  df = pd.read_csv(\"data-7-structure-4.csv.zip\", parse_dates=[3, 4, 37, 44, 46, 47])\n",
      "C:\\Users\\johola\\AppData\\Local\\Temp\\ipykernel_6800\\4086642930.py:1: UserWarning: Parsing dates in DD/MM/YYYY format when dayfirst=False (the default) was specified. This may lead to inconsistently parsed dates! Specify a format to ensure consistent parsing.\n",
      "  df = pd.read_csv(\"data-7-structure-4.csv.zip\", parse_dates=[3, 4, 37, 44, 46, 47])\n"
     ]
    }
   ],
   "source": [
    "df = pd.read_csv(\"data-7-structure-4.csv.zip\", parse_dates=[3, 4, 37, 44, 46, 47])"
   ]
  },
  {
   "cell_type": "markdown",
   "metadata": {},
   "source": [
    "Посмотрим, насколько заполнены данные"
   ]
  },
  {
   "cell_type": "code",
   "execution_count": 3,
   "metadata": {},
   "outputs": [],
   "source": [
    "# YOUR CODE HERE"
   ]
  },
  {
   "cell_type": "code",
   "execution_count": 4,
   "metadata": {},
   "outputs": [
    {
     "data": {
      "text/html": [
       "<div>\n",
       "<style scoped>\n",
       "    .dataframe tbody tr th:only-of-type {\n",
       "        vertical-align: middle;\n",
       "    }\n",
       "\n",
       "    .dataframe tbody tr th {\n",
       "        vertical-align: top;\n",
       "    }\n",
       "\n",
       "    .dataframe thead th {\n",
       "        text-align: right;\n",
       "    }\n",
       "</style>\n",
       "<table border=\"1\" class=\"dataframe\">\n",
       "  <thead>\n",
       "    <tr style=\"text-align: right;\">\n",
       "      <th></th>\n",
       "      <th>Название фильма</th>\n",
       "      <th>Hаименование на иностранном языке</th>\n",
       "      <th>Номер удостоверения</th>\n",
       "      <th>Дата регистрации удостоверения</th>\n",
       "      <th>Дата начала показа фильма</th>\n",
       "      <th>Примечание</th>\n",
       "      <th>Идентификатор записи реестра</th>\n",
       "      <th>Аннотация</th>\n",
       "      <th>Вид Фильма</th>\n",
       "      <th>Категория</th>\n",
       "      <th>...</th>\n",
       "      <th>Код</th>\n",
       "      <th>Права проката переданы</th>\n",
       "      <th>Порядковый номер переоформления/продления</th>\n",
       "      <th>Должность подписанта</th>\n",
       "      <th>ФИО подписанта</th>\n",
       "      <th>Запись удалена</th>\n",
       "      <th>Дата удаления записи</th>\n",
       "      <th>Не показывать на сайте mkrf.ru</th>\n",
       "      <th>дата создания объекта</th>\n",
       "      <th>дата обновления объекта</th>\n",
       "    </tr>\n",
       "  </thead>\n",
       "  <tbody>\n",
       "    <tr>\n",
       "      <th>0</th>\n",
       "      <td>Почти знаменит</td>\n",
       "      <td>Almost Famous</td>\n",
       "      <td>221006316</td>\n",
       "      <td>2016-02-09 12:00:00+00:00</td>\n",
       "      <td>2016-02-09 12:00:00+00:00</td>\n",
       "      <td>NaN</td>\n",
       "      <td>2157027</td>\n",
       "      <td>В ролях: Фрэнсис МакДорманд, Кейт Хадсон. Исто...</td>\n",
       "      <td>Художественный</td>\n",
       "      <td>Видео</td>\n",
       "      <td>...</td>\n",
       "      <td>[]</td>\n",
       "      <td>NaN</td>\n",
       "      <td>NaN</td>\n",
       "      <td>NaN</td>\n",
       "      <td>NaN</td>\n",
       "      <td>NaN</td>\n",
       "      <td>NaT</td>\n",
       "      <td>NaN</td>\n",
       "      <td>2017-07-05 14:10:11+03:00</td>\n",
       "      <td>2018-04-09 09:12:02+03:00</td>\n",
       "    </tr>\n",
       "    <tr>\n",
       "      <th>1</th>\n",
       "      <td>Открытое окно.</td>\n",
       "      <td>Open Window</td>\n",
       "      <td>221027814</td>\n",
       "      <td>2014-06-30 12:00:00+00:00</td>\n",
       "      <td>2014-06-30 12:00:00+00:00</td>\n",
       "      <td>NaN</td>\n",
       "      <td>2157028</td>\n",
       "      <td>В главных ролях: Робин Тюннин, Джоэль Эдгертон...</td>\n",
       "      <td>Художественный</td>\n",
       "      <td>Видео</td>\n",
       "      <td>...</td>\n",
       "      <td>[]</td>\n",
       "      <td>NaN</td>\n",
       "      <td>NaN</td>\n",
       "      <td>NaN</td>\n",
       "      <td>NaN</td>\n",
       "      <td>NaN</td>\n",
       "      <td>NaT</td>\n",
       "      <td>NaN</td>\n",
       "      <td>2017-07-05 14:10:11+03:00</td>\n",
       "      <td>2018-04-09 09:12:02+03:00</td>\n",
       "    </tr>\n",
       "    <tr>\n",
       "      <th>2</th>\n",
       "      <td>Открытый простор</td>\n",
       "      <td>Open Range</td>\n",
       "      <td>221048915</td>\n",
       "      <td>2015-11-27 12:00:00+00:00</td>\n",
       "      <td>2015-11-27 12:00:00+00:00</td>\n",
       "      <td>NaN</td>\n",
       "      <td>2157029</td>\n",
       "      <td>Драма-вестерн. В ролях: Роберт Дюволл, Кевин К...</td>\n",
       "      <td>Художественный</td>\n",
       "      <td>Кино</td>\n",
       "      <td>...</td>\n",
       "      <td>[]</td>\n",
       "      <td>NaN</td>\n",
       "      <td>NaN</td>\n",
       "      <td>NaN</td>\n",
       "      <td>NaN</td>\n",
       "      <td>NaN</td>\n",
       "      <td>NaT</td>\n",
       "      <td>NaN</td>\n",
       "      <td>2017-07-05 14:10:11+03:00</td>\n",
       "      <td>2018-04-09 09:12:02+03:00</td>\n",
       "    </tr>\n",
       "    <tr>\n",
       "      <th>3</th>\n",
       "      <td>Особо важное задание</td>\n",
       "      <td>NaN</td>\n",
       "      <td>111013716</td>\n",
       "      <td>2016-09-13 12:00:00+00:00</td>\n",
       "      <td>2016-09-13 12:00:00+00:00</td>\n",
       "      <td>Показ фильма в кинозале и прокат фильма на мат...</td>\n",
       "      <td>2157030</td>\n",
       "      <td>В ролях - В.Заклунная, Н.Крючков, Е.Матвеев   ...</td>\n",
       "      <td>Художественный</td>\n",
       "      <td>Кино</td>\n",
       "      <td>...</td>\n",
       "      <td>[]</td>\n",
       "      <td>NaN</td>\n",
       "      <td>NaN</td>\n",
       "      <td>NaN</td>\n",
       "      <td>NaN</td>\n",
       "      <td>NaN</td>\n",
       "      <td>NaT</td>\n",
       "      <td>NaN</td>\n",
       "      <td>2017-07-05 14:10:11+03:00</td>\n",
       "      <td>2018-04-09 09:12:02+03:00</td>\n",
       "    </tr>\n",
       "    <tr>\n",
       "      <th>4</th>\n",
       "      <td>Особо опасен</td>\n",
       "      <td>Wanted</td>\n",
       "      <td>221038416</td>\n",
       "      <td>2016-10-10 12:00:00+00:00</td>\n",
       "      <td>2016-10-10 12:00:00+00:00</td>\n",
       "      <td>NaN</td>\n",
       "      <td>2157031</td>\n",
       "      <td>В ролях: Джеймс МакЭвой, Анджелина Джоли. Тайн...</td>\n",
       "      <td>Художественный</td>\n",
       "      <td>Кино</td>\n",
       "      <td>...</td>\n",
       "      <td>[]</td>\n",
       "      <td>NaN</td>\n",
       "      <td>NaN</td>\n",
       "      <td>NaN</td>\n",
       "      <td>NaN</td>\n",
       "      <td>NaN</td>\n",
       "      <td>NaT</td>\n",
       "      <td>NaN</td>\n",
       "      <td>2017-07-05 14:10:11+03:00</td>\n",
       "      <td>2021-04-06 12:16:16+03:00</td>\n",
       "    </tr>\n",
       "  </tbody>\n",
       "</table>\n",
       "<p>5 rows × 48 columns</p>\n",
       "</div>"
      ],
      "text/plain": [
       "        Название фильма Hаименование на иностранном языке Номер удостоверения  \\\n",
       "0        Почти знаменит                     Almost Famous           221006316   \n",
       "1        Открытое окно.                       Open Window           221027814   \n",
       "2      Открытый простор                        Open Range           221048915   \n",
       "3  Особо важное задание                               NaN           111013716   \n",
       "4          Особо опасен                            Wanted           221038416   \n",
       "\n",
       "  Дата регистрации удостоверения Дата начала показа фильма  \\\n",
       "0      2016-02-09 12:00:00+00:00 2016-02-09 12:00:00+00:00   \n",
       "1      2014-06-30 12:00:00+00:00 2014-06-30 12:00:00+00:00   \n",
       "2      2015-11-27 12:00:00+00:00 2015-11-27 12:00:00+00:00   \n",
       "3      2016-09-13 12:00:00+00:00 2016-09-13 12:00:00+00:00   \n",
       "4      2016-10-10 12:00:00+00:00 2016-10-10 12:00:00+00:00   \n",
       "\n",
       "                                          Примечание  \\\n",
       "0                                                NaN   \n",
       "1                                                NaN   \n",
       "2                                                NaN   \n",
       "3  Показ фильма в кинозале и прокат фильма на мат...   \n",
       "4                                                NaN   \n",
       "\n",
       "   Идентификатор записи реестра  \\\n",
       "0                       2157027   \n",
       "1                       2157028   \n",
       "2                       2157029   \n",
       "3                       2157030   \n",
       "4                       2157031   \n",
       "\n",
       "                                           Аннотация      Вид Фильма  \\\n",
       "0  В ролях: Фрэнсис МакДорманд, Кейт Хадсон. Исто...  Художественный   \n",
       "1  В главных ролях: Робин Тюннин, Джоэль Эдгертон...  Художественный   \n",
       "2  Драма-вестерн. В ролях: Роберт Дюволл, Кевин К...  Художественный   \n",
       "3  В ролях - В.Заклунная, Н.Крючков, Е.Матвеев   ...  Художественный   \n",
       "4  В ролях: Джеймс МакЭвой, Анджелина Джоли. Тайн...  Художественный   \n",
       "\n",
       "  Категория  ...  Код Права проката переданы  \\\n",
       "0     Видео  ...   []                    NaN   \n",
       "1     Видео  ...   []                    NaN   \n",
       "2      Кино  ...   []                    NaN   \n",
       "3      Кино  ...   []                    NaN   \n",
       "4      Кино  ...   []                    NaN   \n",
       "\n",
       "  Порядковый номер переоформления/продления Должность подписанта  \\\n",
       "0                                       NaN                  NaN   \n",
       "1                                       NaN                  NaN   \n",
       "2                                       NaN                  NaN   \n",
       "3                                       NaN                  NaN   \n",
       "4                                       NaN                  NaN   \n",
       "\n",
       "  ФИО подписанта Запись удалена  Дата удаления записи  \\\n",
       "0            NaN            NaN                   NaT   \n",
       "1            NaN            NaN                   NaT   \n",
       "2            NaN            NaN                   NaT   \n",
       "3            NaN            NaN                   NaT   \n",
       "4            NaN            NaN                   NaT   \n",
       "\n",
       "  Не показывать на сайте mkrf.ru     дата создания объекта  \\\n",
       "0                            NaN 2017-07-05 14:10:11+03:00   \n",
       "1                            NaN 2017-07-05 14:10:11+03:00   \n",
       "2                            NaN 2017-07-05 14:10:11+03:00   \n",
       "3                            NaN 2017-07-05 14:10:11+03:00   \n",
       "4                            NaN 2017-07-05 14:10:11+03:00   \n",
       "\n",
       "    дата обновления объекта  \n",
       "0 2018-04-09 09:12:02+03:00  \n",
       "1 2018-04-09 09:12:02+03:00  \n",
       "2 2018-04-09 09:12:02+03:00  \n",
       "3 2018-04-09 09:12:02+03:00  \n",
       "4 2021-04-06 12:16:16+03:00  \n",
       "\n",
       "[5 rows x 48 columns]"
      ]
     },
     "execution_count": 4,
     "metadata": {},
     "output_type": "execute_result"
    }
   ],
   "source": [
    "df.head()"
   ]
  },
  {
   "cell_type": "markdown",
   "metadata": {},
   "source": [
    "## Графики\n",
    "\n",
    "\n",
    "**Обычный график**\n",
    "\n",
    "Точки по х и у соединены линиями. Нужен, если есть однозначное соответствие х и у и мы хотим показать как при изменении х меняется у. Например, по х может быть время, а по у - частотность слова (как на графиках в НКРЯ)."
   ]
  },
  {
   "cell_type": "code",
   "execution_count": 5,
   "metadata": {},
   "outputs": [
    {
     "name": "stdout",
     "output_type": "stream",
     "text": [
      "X: [2010, 2011, 2012, 2013, 2014, 2015, 2016, 2017, 2018, 2019]\n",
      "Y: [8, 18, 41, 63, 81, 93, 85, 104, 125, 116]\n"
     ]
    },
    {
     "data": {
      "image/png": "[encoded data removed]",
      "text/plain": [
       "<Figure size 640x480 with 1 Axes>"
      ]
     },
     "metadata": {},
     "output_type": "display_data"
    }
   ],
   "source": [
    "X = list(range(2010, 2020))\n",
    "Y = [random.randint(i*10, (i+1)*20) for i in range(len(X))]\n",
    "\n",
    "print('X:', X)\n",
    "print('Y:', Y)\n",
    "\n",
    "plt.plot(X, Y) # рисуем график - последовательно соединяем точки с координатами из X и Y\n",
    "plt.title('Frequency of some random word') # заголовок\n",
    "plt.ylabel('IPM') # подпись оси Х\n",
    "plt.xlabel('Year') # подпись оси Y\n",
    "plt.show()"
   ]
  },
  {
   "cell_type": "markdown",
   "metadata": {},
   "source": [
    "Построим похожий график по кол-ву фильмов в каждый год.\n",
    "\n",
    "Посмотрим, какие значения года. Там есть некачественно заполненные данные."
   ]
  },
  {
   "cell_type": "code",
   "execution_count": 6,
   "metadata": {},
   "outputs": [
    {
     "data": {
      "text/plain": [
       "2006           4179\n",
       "2005           3724\n",
       "2009           3404\n",
       "2004           3376\n",
       "2003           3312\n",
       "               ... \n",
       "1935-1937         1\n",
       "1932-1937         1\n",
       "1977 - 2007       1\n",
       "1939, 2010        1\n",
       "2018-2023         1\n",
       "Name: Год производства, Length: 1250, dtype: int64"
      ]
     },
     "execution_count": 6,
     "metadata": {},
     "output_type": "execute_result"
    }
   ],
   "source": [
    "df[\"Год производства\"].value_counts()"
   ]
  },
  {
   "cell_type": "markdown",
   "metadata": {},
   "source": [
    "Напишем функцию, которая будет чистить значения и доставать первое значение из 4 цифр"
   ]
  },
  {
   "cell_type": "code",
   "execution_count": 7,
   "metadata": {},
   "outputs": [],
   "source": [
    "def get_year(x):\n",
    "    if type(x) == str:\n",
    "        res = re.findall(\"[0-9]{4}\", x)\n",
    "        if res:\n",
    "            return int(res[0])\n",
    "    return None"
   ]
  },
  {
   "cell_type": "code",
   "execution_count": 8,
   "metadata": {},
   "outputs": [],
   "source": [
    "df[\"Год производства\"] = df[\"Год производства\"].apply(get_year)"
   ]
  },
  {
   "cell_type": "code",
   "execution_count": 9,
   "metadata": {},
   "outputs": [
    {
     "data": {
      "text/plain": [
       "1902.0       1\n",
       "1908.0       3\n",
       "1909.0      12\n",
       "1910.0      11\n",
       "1911.0      24\n",
       "          ... \n",
       "2020.0    1828\n",
       "2021.0    2102\n",
       "2022.0    1934\n",
       "2023.0     811\n",
       "2099.0       1\n",
       "Name: Год производства, Length: 118, dtype: int64"
      ]
     },
     "execution_count": 9,
     "metadata": {},
     "output_type": "execute_result"
    }
   ],
   "source": [
    "df[\"Год производства\"].value_counts().sort_index()"
   ]
  },
  {
   "cell_type": "code",
   "execution_count": 10,
   "metadata": {},
   "outputs": [],
   "source": [
    "# YOUR CODE HERE"
   ]
  },
  {
   "cell_type": "markdown",
   "metadata": {},
   "source": [
    "**Scatter plot**\n",
    "\n",
    "Точки, как и раньше, задаются по х и у, но теперь не соединяются линиями. Такие гарфики используются для отображения наблюдений в эксперименте, когда есть два параметра, которые могут принимать различные значения и нужно показать, какие комюбинации есть и как они раположены."
   ]
  },
  {
   "cell_type": "code",
   "execution_count": 11,
   "metadata": {},
   "outputs": [
    {
     "data": {
      "image/png": "[encoded data removed]",
      "text/plain": [
       "<Figure size 640x480 with 1 Axes>"
      ]
     },
     "metadata": {},
     "output_type": "display_data"
    }
   ],
   "source": [
    "X = [1.2, 2, 3.1, 4, 5.1, 1.7, 1.5, 3.5, 4.5, 4, 2, 2, 2.7, 3.1, 4.1]\n",
    "Y = [1, 1.4, 3, 4, 5, 1.5, 1.3, 3.5, 4.5, 4.5, 1.3, 2.1, 3.2, 5.1, 4.9]\n",
    "\n",
    "plt.scatter(X, Y, color='purple', label='group 1') # меняем цвет, добавляем label\n",
    "plt.scatter(Y, X, color='orange', label='group 2') # нарисуем еще какие-то значения на том же графике\n",
    "plt.title('Combinations of two variables\\n in our imaginary experiment') # перенос строки\n",
    "plt.ylabel('Some other variable')\n",
    "plt.xlabel('Some variable')\n",
    "plt.legend(loc='best') # автоматический поиск места для легенды\n",
    "plt.show()"
   ]
  },
  {
   "cell_type": "markdown",
   "metadata": {},
   "source": [
    "Посмотрим на соотношение длины пленки и длины фильма (на примере первых фильмов в списке)"
   ]
  },
  {
   "cell_type": "code",
   "execution_count": 12,
   "metadata": {},
   "outputs": [],
   "source": [
    "date_df = df[[\n",
    "    \"Метраж (для фильмов на кинопленке)\", \n",
    "    \"Продолжительность демонстрации, часы\", \n",
    "    \"Продолжительность демонстрации, минуты\"\n",
    "]].dropna().head(100)\n",
    "\n",
    "date_df[\"length\"] = date_df[\"Продолжительность демонстрации, часы\"] * 60 + date_df[\"Продолжительность демонстрации, минуты\"]\n",
    "date_df[\"Метраж (для фильмов на кинопленке)\"] = date_df[\"Метраж (для фильмов на кинопленке)\"].astype(float)"
   ]
  },
  {
   "cell_type": "code",
   "execution_count": 13,
   "metadata": {},
   "outputs": [],
   "source": [
    "# YOUR CODE HERE"
   ]
  },
  {
   "cell_type": "markdown",
   "metadata": {},
   "source": [
    "Видно, что есть очевидная зависимость и можно посчитать, какая длина пленки соответствует минуте фильма"
   ]
  },
  {
   "cell_type": "markdown",
   "metadata": {},
   "source": [
    "**Bar plot**\n",
    "\n",
    "Столбчатая диграмма - для категориальных данных по х и чисел по у, например, если у нас есть дни недели и среднее количество ругательств, которое человек произносит в этот день."
   ]
  },
  {
   "cell_type": "code",
   "execution_count": 14,
   "metadata": {},
   "outputs": [
    {
     "data": {
      "image/png": "[encoded data removed]",
      "text/plain": [
       "<Figure size 640x480 with 1 Axes>"
      ]
     },
     "metadata": {},
     "output_type": "display_data"
    }
   ],
   "source": [
    "X = [1, 2, 3, 4, 5]\n",
    "X2 = [6, 7] # сделаем выходные отдельно\n",
    "Y = [30, 15, 17, 15, 10]\n",
    "Y2 = [7, 3]\n",
    "DAYS = ['пн', 'вт', 'ср', 'чт', 'пт', 'сб', 'вс']\n",
    "plt.bar(X, Y, color='grey')\n",
    "plt.bar(X2, Y2, color='pink')\n",
    "plt.xticks(ticks=X+X2, labels=DAYS)\n",
    "plt.title('Среднее количество ругательств по дням недели')\n",
    "plt.ylabel('Среднее кол-во ругательств')\n",
    "plt.xlabel('День недели')\n",
    "plt.show()"
   ]
  },
  {
   "cell_type": "markdown",
   "metadata": {},
   "source": [
    "Посмотрим на то, сколько фильмов разных типов. Опять же, нужно нормализовать данные, привести в нормальный вид."
   ]
  },
  {
   "cell_type": "code",
   "execution_count": 15,
   "metadata": {},
   "outputs": [
    {
     "data": {
      "text/plain": [
       "Художественный                    49469\n",
       "Прочие                            13567\n",
       "Анимационный                      11518\n",
       "Документальный                    10117\n",
       " Художественный                    8958\n",
       "Научно-популярный                  4462\n",
       "Кинопериодика                       533\n",
       "Прочее (Учебный, Спектакль, …)      308\n",
       "Музыкально-развлекательный           24\n",
       "научно-популярный                     4\n",
       "Прочий                                3\n",
       " Анимационный                         3\n",
       "документальный                        2\n",
       "Документальный                        1\n",
       "Name: Вид Фильма, dtype: int64"
      ]
     },
     "execution_count": 15,
     "metadata": {},
     "output_type": "execute_result"
    }
   ],
   "source": [
    "df[\"Вид Фильма\"].value_counts()"
   ]
  },
  {
   "cell_type": "code",
   "execution_count": 16,
   "metadata": {},
   "outputs": [],
   "source": [
    "# YOUR CODE HERE"
   ]
  },
  {
   "cell_type": "markdown",
   "metadata": {},
   "source": [
    "Посмотрим на то, в какие дни начинается показ фильмов. Кажется, что день премьеры - четверг. Но в данных это не так.\n",
    "\n",
    "Применим функцию для извлечения номера дня недели из объекта типа дата."
   ]
  },
  {
   "cell_type": "code",
   "execution_count": 17,
   "metadata": {},
   "outputs": [
    {
     "data": {
      "text/plain": [
       "0.0    20058\n",
       "1.0    19932\n",
       "2.0    18210\n",
       "3.0    21130\n",
       "4.0    16205\n",
       "5.0     1696\n",
       "6.0      892\n",
       "Name: Дата начала показа фильма, dtype: int64"
      ]
     },
     "execution_count": 17,
     "metadata": {},
     "output_type": "execute_result"
    }
   ],
   "source": [
    "df[\"Дата начала показа фильма\"].apply(lambda x: x.weekday()).value_counts().sort_index()"
   ]
  },
  {
   "cell_type": "code",
   "execution_count": 18,
   "metadata": {},
   "outputs": [],
   "source": [
    "# YOUR CODE HERE"
   ]
  },
  {
   "cell_type": "markdown",
   "metadata": {},
   "source": [
    "**Круговая диаграмма**\n",
    "\n",
    "Этот тип графика показывает доли категорий объектов. Его нужно исопльзовать осторожно, так как если у нас мало данных, мы можем не получить адекватное представление об их распределении. Особенно, если мы сравниваем доли категори в 2 группах."
   ]
  },
  {
   "cell_type": "code",
   "execution_count": 19,
   "metadata": {},
   "outputs": [
    {
     "data": {
      "text/plain": [
       "Россия            36921\n",
       "США               27775\n",
       "СССР               7588\n",
       "Великобритания     3501\n",
       "Франция            2413\n",
       "Индия              2208\n",
       "Германия           1464\n",
       "Италия             1191\n",
       "Япония              764\n",
       "Украина             705\n",
       "Name: Страна производства, dtype: int64"
      ]
     },
     "execution_count": 19,
     "metadata": {},
     "output_type": "execute_result"
    }
   ],
   "source": [
    "df['Страна производства'].value_counts().head(10)"
   ]
  },
  {
   "cell_type": "code",
   "execution_count": 20,
   "metadata": {},
   "outputs": [
    {
     "data": {
      "image/png": "[encoded data removed]",
      "text/plain": [
       "<Figure size 640x480 with 1 Axes>"
      ]
     },
     "metadata": {},
     "output_type": "display_data"
    }
   ],
   "source": [
    "df['Страна производства'].value_counts().head(10).plot.pie();"
   ]
  },
  {
   "cell_type": "markdown",
   "metadata": {},
   "source": [
    "**Heatmap**\n",
    "\n",
    "Хитмэп нужен, когда у нас есть 3 переменные."
   ]
  },
  {
   "cell_type": "code",
   "execution_count": 21,
   "metadata": {},
   "outputs": [
    {
     "data": {
      "image/png": "[encoded data removed]",
      "text/plain": [
       "<Figure size 640x480 with 2 Axes>"
      ]
     },
     "metadata": {},
     "output_type": "display_data"
    }
   ],
   "source": [
    "X = [\n",
    "    [1, 2, 3, 4, 5],\n",
    "    [2, 3, 4, 5, 6],\n",
    "    [3, 4, 5, 6, 7],\n",
    "    [4, 5, 6, 7, 8],\n",
    "    [5, 6, 7, 8, 9],\n",
    "]\n",
    "sns.heatmap(\n",
    "    X, # матрица значений\n",
    "    annot=True, # значения из матрицы\n",
    "    xticklabels=DAYS[:5],\n",
    "    yticklabels=[f'степень {i}' for i in range(0, 5)]\n",
    ")\n",
    "plt.xlabel('День недели')\n",
    "plt.ylabel('Степень выраженности ругания')\n",
    "plt.ylabel('Количесто ругающихся людей\\n по дню недели и степени выраженности ругания')\n",
    "plt.show()"
   ]
  },
  {
   "cell_type": "markdown",
   "metadata": {},
   "source": [
    "Для этого типа графика обычно приходится подготавливать данные.\n",
    "\n",
    "Посмотрим, в какие дни недели стартуют фильмы разных видов:\n",
    "\n",
    "1. Почистить текст, привести в удобную форму\n",
    "2. Посчитать, сколько фильмов какого типа выходит по дням недели\n",
    "3. Трансформировать данные в таблицу дни x виды\n",
    "3. Отнормировать (превратить в показатели доли дня в общем числе фильмов категории)"
   ]
  },
  {
   "cell_type": "code",
   "execution_count": 22,
   "metadata": {},
   "outputs": [
    {
     "name": "stderr",
     "output_type": "stream",
     "text": [
      "C:\\Users\\johola\\AppData\\Local\\Temp\\ipykernel_6800\\3460169810.py:2: SettingWithCopyWarning: \n",
      "A value is trying to be set on a copy of a slice from a DataFrame.\n",
      "Try using .loc[row_indexer,col_indexer] = value instead\n",
      "\n",
      "See the caveats in the documentation: https://pandas.pydata.org/pandas-docs/stable/user_guide/indexing.html#returning-a-view-versus-a-copy\n",
      "  df2.loc[:, \"Вид Фильма\"] = df2[\"Вид Фильма\"].apply(lambda x: x.strip().lower().capitalize())\n",
      "C:\\Users\\johola\\AppData\\Local\\Temp\\ipykernel_6800\\3460169810.py:3: SettingWithCopyWarning: \n",
      "A value is trying to be set on a copy of a slice from a DataFrame.\n",
      "Try using .loc[row_indexer,col_indexer] = value instead\n",
      "\n",
      "See the caveats in the documentation: https://pandas.pydata.org/pandas-docs/stable/user_guide/indexing.html#returning-a-view-versus-a-copy\n",
      "  df2.loc[:, \"Дата начала показа фильма\"] = df2[\"Дата начала показа фильма\"].apply(lambda x: x.weekday())\n"
     ]
    }
   ],
   "source": [
    "df2 = df.dropna(subset=[\"Вид Фильма\"])\n",
    "df2.loc[:, \"Вид Фильма\"] = df2[\"Вид Фильма\"].apply(lambda x: x.strip().lower().capitalize())\n",
    "df2.loc[:, \"Дата начала показа фильма\"] = df2[\"Дата начала показа фильма\"].apply(lambda x: x.weekday())"
   ]
  },
  {
   "cell_type": "code",
   "execution_count": 23,
   "metadata": {},
   "outputs": [
    {
     "data": {
      "text/html": [
       "<div>\n",
       "<style scoped>\n",
       "    .dataframe tbody tr th:only-of-type {\n",
       "        vertical-align: middle;\n",
       "    }\n",
       "\n",
       "    .dataframe tbody tr th {\n",
       "        vertical-align: top;\n",
       "    }\n",
       "\n",
       "    .dataframe thead th {\n",
       "        text-align: right;\n",
       "    }\n",
       "</style>\n",
       "<table border=\"1\" class=\"dataframe\">\n",
       "  <thead>\n",
       "    <tr style=\"text-align: right;\">\n",
       "      <th></th>\n",
       "      <th>Вид Фильма</th>\n",
       "      <th>Дата начала показа фильма</th>\n",
       "      <th>Название фильма</th>\n",
       "    </tr>\n",
       "  </thead>\n",
       "  <tbody>\n",
       "    <tr>\n",
       "      <th>0</th>\n",
       "      <td>Анимационный</td>\n",
       "      <td>0.0</td>\n",
       "      <td>2270</td>\n",
       "    </tr>\n",
       "    <tr>\n",
       "      <th>1</th>\n",
       "      <td>Анимационный</td>\n",
       "      <td>1.0</td>\n",
       "      <td>2317</td>\n",
       "    </tr>\n",
       "    <tr>\n",
       "      <th>2</th>\n",
       "      <td>Анимационный</td>\n",
       "      <td>2.0</td>\n",
       "      <td>2227</td>\n",
       "    </tr>\n",
       "    <tr>\n",
       "      <th>3</th>\n",
       "      <td>Анимационный</td>\n",
       "      <td>3.0</td>\n",
       "      <td>2330</td>\n",
       "    </tr>\n",
       "    <tr>\n",
       "      <th>4</th>\n",
       "      <td>Анимационный</td>\n",
       "      <td>4.0</td>\n",
       "      <td>1889</td>\n",
       "    </tr>\n",
       "  </tbody>\n",
       "</table>\n",
       "</div>"
      ],
      "text/plain": [
       "     Вид Фильма  Дата начала показа фильма  Название фильма\n",
       "0  Анимационный                        0.0             2270\n",
       "1  Анимационный                        1.0             2317\n",
       "2  Анимационный                        2.0             2227\n",
       "3  Анимационный                        3.0             2330\n",
       "4  Анимационный                        4.0             1889"
      ]
     },
     "execution_count": 23,
     "metadata": {},
     "output_type": "execute_result"
    }
   ],
   "source": [
    "df2 = df2.groupby([\"Вид Фильма\", \"Дата начала показа фильма\"], as_index=False).agg({\"Название фильма\": \"count\"})\n",
    "df2.head()"
   ]
  },
  {
   "cell_type": "markdown",
   "metadata": {},
   "source": [
    "Превращаем в таблицу нужного вида"
   ]
  },
  {
   "cell_type": "code",
   "execution_count": 24,
   "metadata": {},
   "outputs": [
    {
     "data": {
      "text/html": [
       "<div>\n",
       "<style scoped>\n",
       "    .dataframe tbody tr th:only-of-type {\n",
       "        vertical-align: middle;\n",
       "    }\n",
       "\n",
       "    .dataframe tbody tr th {\n",
       "        vertical-align: top;\n",
       "    }\n",
       "\n",
       "    .dataframe thead th {\n",
       "        text-align: right;\n",
       "    }\n",
       "</style>\n",
       "<table border=\"1\" class=\"dataframe\">\n",
       "  <thead>\n",
       "    <tr style=\"text-align: right;\">\n",
       "      <th>Дата начала показа фильма</th>\n",
       "      <th>0.0</th>\n",
       "      <th>1.0</th>\n",
       "      <th>2.0</th>\n",
       "      <th>3.0</th>\n",
       "      <th>4.0</th>\n",
       "      <th>5.0</th>\n",
       "      <th>6.0</th>\n",
       "    </tr>\n",
       "    <tr>\n",
       "      <th>Вид Фильма</th>\n",
       "      <th></th>\n",
       "      <th></th>\n",
       "      <th></th>\n",
       "      <th></th>\n",
       "      <th></th>\n",
       "      <th></th>\n",
       "      <th></th>\n",
       "    </tr>\n",
       "  </thead>\n",
       "  <tbody>\n",
       "    <tr>\n",
       "      <th>Анимационный</th>\n",
       "      <td>2270.0</td>\n",
       "      <td>2317.0</td>\n",
       "      <td>2227.0</td>\n",
       "      <td>2330.0</td>\n",
       "      <td>1889.0</td>\n",
       "      <td>317.0</td>\n",
       "      <td>89.0</td>\n",
       "    </tr>\n",
       "    <tr>\n",
       "      <th>Документальный</th>\n",
       "      <td>1775.0</td>\n",
       "      <td>1839.0</td>\n",
       "      <td>2040.0</td>\n",
       "      <td>2097.0</td>\n",
       "      <td>1688.0</td>\n",
       "      <td>351.0</td>\n",
       "      <td>205.0</td>\n",
       "    </tr>\n",
       "    <tr>\n",
       "      <th>Кинопериодика</th>\n",
       "      <td>106.0</td>\n",
       "      <td>131.0</td>\n",
       "      <td>91.0</td>\n",
       "      <td>101.0</td>\n",
       "      <td>97.0</td>\n",
       "      <td>3.0</td>\n",
       "      <td>4.0</td>\n",
       "    </tr>\n",
       "    <tr>\n",
       "      <th>Музыкально-развлекательный</th>\n",
       "      <td>2.0</td>\n",
       "      <td>4.0</td>\n",
       "      <td>4.0</td>\n",
       "      <td>9.0</td>\n",
       "      <td>2.0</td>\n",
       "      <td>2.0</td>\n",
       "      <td>NaN</td>\n",
       "    </tr>\n",
       "    <tr>\n",
       "      <th>Научно-популярный</th>\n",
       "      <td>927.0</td>\n",
       "      <td>824.0</td>\n",
       "      <td>884.0</td>\n",
       "      <td>882.0</td>\n",
       "      <td>781.0</td>\n",
       "      <td>92.0</td>\n",
       "      <td>48.0</td>\n",
       "    </tr>\n",
       "    <tr>\n",
       "      <th>Прочее (учебный, спектакль, …)</th>\n",
       "      <td>59.0</td>\n",
       "      <td>31.0</td>\n",
       "      <td>42.0</td>\n",
       "      <td>99.0</td>\n",
       "      <td>36.0</td>\n",
       "      <td>21.0</td>\n",
       "      <td>17.0</td>\n",
       "    </tr>\n",
       "    <tr>\n",
       "      <th>Прочие</th>\n",
       "      <td>2791.0</td>\n",
       "      <td>2808.0</td>\n",
       "      <td>2764.0</td>\n",
       "      <td>3057.0</td>\n",
       "      <td>2071.0</td>\n",
       "      <td>45.0</td>\n",
       "      <td>31.0</td>\n",
       "    </tr>\n",
       "    <tr>\n",
       "      <th>Прочий</th>\n",
       "      <td>NaN</td>\n",
       "      <td>NaN</td>\n",
       "      <td>NaN</td>\n",
       "      <td>1.0</td>\n",
       "      <td>1.0</td>\n",
       "      <td>1.0</td>\n",
       "      <td>NaN</td>\n",
       "    </tr>\n",
       "    <tr>\n",
       "      <th>Художественный</th>\n",
       "      <td>12125.0</td>\n",
       "      <td>11978.0</td>\n",
       "      <td>10158.0</td>\n",
       "      <td>12553.0</td>\n",
       "      <td>9639.0</td>\n",
       "      <td>864.0</td>\n",
       "      <td>498.0</td>\n",
       "    </tr>\n",
       "  </tbody>\n",
       "</table>\n",
       "</div>"
      ],
      "text/plain": [
       "Дата начала показа фильма           0.0      1.0      2.0      3.0     4.0  \\\n",
       "Вид Фильма                                                                   \n",
       "Анимационный                     2270.0   2317.0   2227.0   2330.0  1889.0   \n",
       "Документальный                   1775.0   1839.0   2040.0   2097.0  1688.0   \n",
       "Кинопериодика                     106.0    131.0     91.0    101.0    97.0   \n",
       "Музыкально-развлекательный          2.0      4.0      4.0      9.0     2.0   \n",
       "Научно-популярный                 927.0    824.0    884.0    882.0   781.0   \n",
       "Прочее (учебный, спектакль, …)     59.0     31.0     42.0     99.0    36.0   \n",
       "Прочие                           2791.0   2808.0   2764.0   3057.0  2071.0   \n",
       "Прочий                              NaN      NaN      NaN      1.0     1.0   \n",
       "Художественный                  12125.0  11978.0  10158.0  12553.0  9639.0   \n",
       "\n",
       "Дата начала показа фильма         5.0    6.0  \n",
       "Вид Фильма                                    \n",
       "Анимационный                    317.0   89.0  \n",
       "Документальный                  351.0  205.0  \n",
       "Кинопериодика                     3.0    4.0  \n",
       "Музыкально-развлекательный        2.0    NaN  \n",
       "Научно-популярный                92.0   48.0  \n",
       "Прочее (учебный, спектакль, …)   21.0   17.0  \n",
       "Прочие                           45.0   31.0  \n",
       "Прочий                            1.0    NaN  \n",
       "Художественный                  864.0  498.0  "
      ]
     },
     "execution_count": 24,
     "metadata": {},
     "output_type": "execute_result"
    }
   ],
   "source": [
    "df2 = df2.pivot_table(index=\"Вид Фильма\", columns=\"Дата начала показа фильма\", values=\"Название фильма\")\n",
    "df2"
   ]
  },
  {
   "cell_type": "markdown",
   "metadata": {},
   "source": [
    "Превращаем в доли: делим на сумму в строке."
   ]
  },
  {
   "cell_type": "code",
   "execution_count": 25,
   "metadata": {},
   "outputs": [
    {
     "data": {
      "text/html": [
       "<div>\n",
       "<style scoped>\n",
       "    .dataframe tbody tr th:only-of-type {\n",
       "        vertical-align: middle;\n",
       "    }\n",
       "\n",
       "    .dataframe tbody tr th {\n",
       "        vertical-align: top;\n",
       "    }\n",
       "\n",
       "    .dataframe thead th {\n",
       "        text-align: right;\n",
       "    }\n",
       "</style>\n",
       "<table border=\"1\" class=\"dataframe\">\n",
       "  <thead>\n",
       "    <tr style=\"text-align: right;\">\n",
       "      <th>Дата начала показа фильма</th>\n",
       "      <th>0.0</th>\n",
       "      <th>1.0</th>\n",
       "      <th>2.0</th>\n",
       "      <th>3.0</th>\n",
       "      <th>4.0</th>\n",
       "      <th>5.0</th>\n",
       "      <th>6.0</th>\n",
       "    </tr>\n",
       "    <tr>\n",
       "      <th>Вид Фильма</th>\n",
       "      <th></th>\n",
       "      <th></th>\n",
       "      <th></th>\n",
       "      <th></th>\n",
       "      <th></th>\n",
       "      <th></th>\n",
       "      <th></th>\n",
       "    </tr>\n",
       "  </thead>\n",
       "  <tbody>\n",
       "    <tr>\n",
       "      <th>Анимационный</th>\n",
       "      <td>0.198444</td>\n",
       "      <td>0.202553</td>\n",
       "      <td>0.194685</td>\n",
       "      <td>0.203689</td>\n",
       "      <td>0.165137</td>\n",
       "      <td>0.027712</td>\n",
       "      <td>0.007780</td>\n",
       "    </tr>\n",
       "    <tr>\n",
       "      <th>Документальный</th>\n",
       "      <td>0.177589</td>\n",
       "      <td>0.183992</td>\n",
       "      <td>0.204102</td>\n",
       "      <td>0.209805</td>\n",
       "      <td>0.168884</td>\n",
       "      <td>0.035118</td>\n",
       "      <td>0.020510</td>\n",
       "    </tr>\n",
       "    <tr>\n",
       "      <th>Кинопериодика</th>\n",
       "      <td>0.198874</td>\n",
       "      <td>0.245779</td>\n",
       "      <td>0.170732</td>\n",
       "      <td>0.189493</td>\n",
       "      <td>0.181989</td>\n",
       "      <td>0.005629</td>\n",
       "      <td>0.007505</td>\n",
       "    </tr>\n",
       "    <tr>\n",
       "      <th>Музыкально-развлекательный</th>\n",
       "      <td>0.086957</td>\n",
       "      <td>0.173913</td>\n",
       "      <td>0.173913</td>\n",
       "      <td>0.391304</td>\n",
       "      <td>0.086957</td>\n",
       "      <td>0.086957</td>\n",
       "      <td>NaN</td>\n",
       "    </tr>\n",
       "    <tr>\n",
       "      <th>Научно-популярный</th>\n",
       "      <td>0.208878</td>\n",
       "      <td>0.185669</td>\n",
       "      <td>0.199189</td>\n",
       "      <td>0.198738</td>\n",
       "      <td>0.175980</td>\n",
       "      <td>0.020730</td>\n",
       "      <td>0.010816</td>\n",
       "    </tr>\n",
       "    <tr>\n",
       "      <th>Прочее (учебный, спектакль, …)</th>\n",
       "      <td>0.193443</td>\n",
       "      <td>0.101639</td>\n",
       "      <td>0.137705</td>\n",
       "      <td>0.324590</td>\n",
       "      <td>0.118033</td>\n",
       "      <td>0.068852</td>\n",
       "      <td>0.055738</td>\n",
       "    </tr>\n",
       "    <tr>\n",
       "      <th>Прочие</th>\n",
       "      <td>0.205720</td>\n",
       "      <td>0.206973</td>\n",
       "      <td>0.203730</td>\n",
       "      <td>0.225326</td>\n",
       "      <td>0.152650</td>\n",
       "      <td>0.003317</td>\n",
       "      <td>0.002285</td>\n",
       "    </tr>\n",
       "    <tr>\n",
       "      <th>Прочий</th>\n",
       "      <td>NaN</td>\n",
       "      <td>NaN</td>\n",
       "      <td>NaN</td>\n",
       "      <td>0.333333</td>\n",
       "      <td>0.333333</td>\n",
       "      <td>0.333333</td>\n",
       "      <td>NaN</td>\n",
       "    </tr>\n",
       "    <tr>\n",
       "      <th>Художественный</th>\n",
       "      <td>0.209721</td>\n",
       "      <td>0.207178</td>\n",
       "      <td>0.175698</td>\n",
       "      <td>0.217124</td>\n",
       "      <td>0.166721</td>\n",
       "      <td>0.014944</td>\n",
       "      <td>0.008614</td>\n",
       "    </tr>\n",
       "  </tbody>\n",
       "</table>\n",
       "</div>"
      ],
      "text/plain": [
       "Дата начала показа фильма            0.0       1.0       2.0       3.0  \\\n",
       "Вид Фильма                                                               \n",
       "Анимационный                    0.198444  0.202553  0.194685  0.203689   \n",
       "Документальный                  0.177589  0.183992  0.204102  0.209805   \n",
       "Кинопериодика                   0.198874  0.245779  0.170732  0.189493   \n",
       "Музыкально-развлекательный      0.086957  0.173913  0.173913  0.391304   \n",
       "Научно-популярный               0.208878  0.185669  0.199189  0.198738   \n",
       "Прочее (учебный, спектакль, …)  0.193443  0.101639  0.137705  0.324590   \n",
       "Прочие                          0.205720  0.206973  0.203730  0.225326   \n",
       "Прочий                               NaN       NaN       NaN  0.333333   \n",
       "Художественный                  0.209721  0.207178  0.175698  0.217124   \n",
       "\n",
       "Дата начала показа фильма            4.0       5.0       6.0  \n",
       "Вид Фильма                                                    \n",
       "Анимационный                    0.165137  0.027712  0.007780  \n",
       "Документальный                  0.168884  0.035118  0.020510  \n",
       "Кинопериодика                   0.181989  0.005629  0.007505  \n",
       "Музыкально-развлекательный      0.086957  0.086957       NaN  \n",
       "Научно-популярный               0.175980  0.020730  0.010816  \n",
       "Прочее (учебный, спектакль, …)  0.118033  0.068852  0.055738  \n",
       "Прочие                          0.152650  0.003317  0.002285  \n",
       "Прочий                          0.333333  0.333333       NaN  \n",
       "Художественный                  0.166721  0.014944  0.008614  "
      ]
     },
     "execution_count": 25,
     "metadata": {},
     "output_type": "execute_result"
    }
   ],
   "source": [
    "df3 = df2.div(df2.sum(axis=1), axis=0)\n",
    "df3"
   ]
  },
  {
   "cell_type": "markdown",
   "metadata": {},
   "source": [
    "Убираем те, где мало данных"
   ]
  },
  {
   "cell_type": "code",
   "execution_count": 26,
   "metadata": {},
   "outputs": [
    {
     "data": {
      "text/html": [
       "<div>\n",
       "<style scoped>\n",
       "    .dataframe tbody tr th:only-of-type {\n",
       "        vertical-align: middle;\n",
       "    }\n",
       "\n",
       "    .dataframe tbody tr th {\n",
       "        vertical-align: top;\n",
       "    }\n",
       "\n",
       "    .dataframe thead th {\n",
       "        text-align: right;\n",
       "    }\n",
       "</style>\n",
       "<table border=\"1\" class=\"dataframe\">\n",
       "  <thead>\n",
       "    <tr style=\"text-align: right;\">\n",
       "      <th>Дата начала показа фильма</th>\n",
       "      <th>0.0</th>\n",
       "      <th>1.0</th>\n",
       "      <th>2.0</th>\n",
       "      <th>3.0</th>\n",
       "      <th>4.0</th>\n",
       "      <th>5.0</th>\n",
       "      <th>6.0</th>\n",
       "    </tr>\n",
       "    <tr>\n",
       "      <th>Вид Фильма</th>\n",
       "      <th></th>\n",
       "      <th></th>\n",
       "      <th></th>\n",
       "      <th></th>\n",
       "      <th></th>\n",
       "      <th></th>\n",
       "      <th></th>\n",
       "    </tr>\n",
       "  </thead>\n",
       "  <tbody>\n",
       "    <tr>\n",
       "      <th>Анимационный</th>\n",
       "      <td>0.198444</td>\n",
       "      <td>0.202553</td>\n",
       "      <td>0.194685</td>\n",
       "      <td>0.203689</td>\n",
       "      <td>0.165137</td>\n",
       "      <td>0.027712</td>\n",
       "      <td>0.007780</td>\n",
       "    </tr>\n",
       "    <tr>\n",
       "      <th>Документальный</th>\n",
       "      <td>0.177589</td>\n",
       "      <td>0.183992</td>\n",
       "      <td>0.204102</td>\n",
       "      <td>0.209805</td>\n",
       "      <td>0.168884</td>\n",
       "      <td>0.035118</td>\n",
       "      <td>0.020510</td>\n",
       "    </tr>\n",
       "    <tr>\n",
       "      <th>Кинопериодика</th>\n",
       "      <td>0.198874</td>\n",
       "      <td>0.245779</td>\n",
       "      <td>0.170732</td>\n",
       "      <td>0.189493</td>\n",
       "      <td>0.181989</td>\n",
       "      <td>0.005629</td>\n",
       "      <td>0.007505</td>\n",
       "    </tr>\n",
       "    <tr>\n",
       "      <th>Научно-популярный</th>\n",
       "      <td>0.208878</td>\n",
       "      <td>0.185669</td>\n",
       "      <td>0.199189</td>\n",
       "      <td>0.198738</td>\n",
       "      <td>0.175980</td>\n",
       "      <td>0.020730</td>\n",
       "      <td>0.010816</td>\n",
       "    </tr>\n",
       "    <tr>\n",
       "      <th>Прочие</th>\n",
       "      <td>0.205720</td>\n",
       "      <td>0.206973</td>\n",
       "      <td>0.203730</td>\n",
       "      <td>0.225326</td>\n",
       "      <td>0.152650</td>\n",
       "      <td>0.003317</td>\n",
       "      <td>0.002285</td>\n",
       "    </tr>\n",
       "    <tr>\n",
       "      <th>Художественный</th>\n",
       "      <td>0.209721</td>\n",
       "      <td>0.207178</td>\n",
       "      <td>0.175698</td>\n",
       "      <td>0.217124</td>\n",
       "      <td>0.166721</td>\n",
       "      <td>0.014944</td>\n",
       "      <td>0.008614</td>\n",
       "    </tr>\n",
       "  </tbody>\n",
       "</table>\n",
       "</div>"
      ],
      "text/plain": [
       "Дата начала показа фильма       0.0       1.0       2.0       3.0       4.0  \\\n",
       "Вид Фильма                                                                    \n",
       "Анимационный               0.198444  0.202553  0.194685  0.203689  0.165137   \n",
       "Документальный             0.177589  0.183992  0.204102  0.209805  0.168884   \n",
       "Кинопериодика              0.198874  0.245779  0.170732  0.189493  0.181989   \n",
       "Научно-популярный          0.208878  0.185669  0.199189  0.198738  0.175980   \n",
       "Прочие                     0.205720  0.206973  0.203730  0.225326  0.152650   \n",
       "Художественный             0.209721  0.207178  0.175698  0.217124  0.166721   \n",
       "\n",
       "Дата начала показа фильма       5.0       6.0  \n",
       "Вид Фильма                                     \n",
       "Анимационный               0.027712  0.007780  \n",
       "Документальный             0.035118  0.020510  \n",
       "Кинопериодика              0.005629  0.007505  \n",
       "Научно-популярный          0.020730  0.010816  \n",
       "Прочие                     0.003317  0.002285  \n",
       "Художественный             0.014944  0.008614  "
      ]
     },
     "execution_count": 26,
     "metadata": {},
     "output_type": "execute_result"
    }
   ],
   "source": [
    "df3 = df3.drop([\"Музыкально-развлекательный\", \"Прочее (учебный, спектакль, …)\", \"Прочий\"])\n",
    "df3"
   ]
  },
  {
   "cell_type": "code",
   "execution_count": 27,
   "metadata": {},
   "outputs": [
    {
     "data": {
      "image/png": "[encoded data removed]",
      "text/plain": [
       "<Figure size 640x480 with 2 Axes>"
      ]
     },
     "metadata": {},
     "output_type": "display_data"
    }
   ],
   "source": [
    "sns.heatmap(df3, annot=True)\n",
    "plt.title(\"Распределение премьер по дням недели\");"
   ]
  },
  {
   "cell_type": "markdown",
   "metadata": {},
   "source": [
    "Особенной разницы нет"
   ]
  },
  {
   "cell_type": "markdown",
   "metadata": {},
   "source": [
    "**Гистограмма**\n",
    "\n",
    "Главное отличие гистограммы от барплота - на гистограмме у нас одна переменная и мы хотим изучить только ее: сколько объектов с тем или иным значением (в промежуке значений), а барплот - это значения по категориям.\n",
    "\n",
    "Посмотрим на распределение длин фильмов"
   ]
  },
  {
   "cell_type": "code",
   "execution_count": 35,
   "metadata": {},
   "outputs": [
    {
     "data": {
      "text/html": [
       "<div>\n",
       "<style scoped>\n",
       "    .dataframe tbody tr th:only-of-type {\n",
       "        vertical-align: middle;\n",
       "    }\n",
       "\n",
       "    .dataframe tbody tr th {\n",
       "        vertical-align: top;\n",
       "    }\n",
       "\n",
       "    .dataframe thead th {\n",
       "        text-align: right;\n",
       "    }\n",
       "</style>\n",
       "<table border=\"1\" class=\"dataframe\">\n",
       "  <thead>\n",
       "    <tr style=\"text-align: right;\">\n",
       "      <th></th>\n",
       "      <th>Название фильма</th>\n",
       "      <th>Hаименование на иностранном языке</th>\n",
       "      <th>Номер удостоверения</th>\n",
       "      <th>Дата регистрации удостоверения</th>\n",
       "      <th>Дата начала показа фильма</th>\n",
       "      <th>Примечание</th>\n",
       "      <th>Идентификатор записи реестра</th>\n",
       "      <th>Аннотация</th>\n",
       "      <th>Вид Фильма</th>\n",
       "      <th>Категория</th>\n",
       "      <th>...</th>\n",
       "      <th>Код</th>\n",
       "      <th>Права проката переданы</th>\n",
       "      <th>Порядковый номер переоформления/продления</th>\n",
       "      <th>Должность подписанта</th>\n",
       "      <th>ФИО подписанта</th>\n",
       "      <th>Запись удалена</th>\n",
       "      <th>Дата удаления записи</th>\n",
       "      <th>Не показывать на сайте mkrf.ru</th>\n",
       "      <th>дата создания объекта</th>\n",
       "      <th>дата обновления объекта</th>\n",
       "    </tr>\n",
       "  </thead>\n",
       "  <tbody>\n",
       "    <tr>\n",
       "      <th>0</th>\n",
       "      <td>Почти знаменит</td>\n",
       "      <td>Almost Famous</td>\n",
       "      <td>221006316</td>\n",
       "      <td>2016-02-09 12:00:00+00:00</td>\n",
       "      <td>2016-02-09 12:00:00+00:00</td>\n",
       "      <td>NaN</td>\n",
       "      <td>2157027</td>\n",
       "      <td>В ролях: Фрэнсис МакДорманд, Кейт Хадсон. Исто...</td>\n",
       "      <td>Художественный</td>\n",
       "      <td>Видео</td>\n",
       "      <td>...</td>\n",
       "      <td>[]</td>\n",
       "      <td>NaN</td>\n",
       "      <td>NaN</td>\n",
       "      <td>NaN</td>\n",
       "      <td>NaN</td>\n",
       "      <td>NaN</td>\n",
       "      <td>NaT</td>\n",
       "      <td>NaN</td>\n",
       "      <td>2017-07-05 14:10:11+03:00</td>\n",
       "      <td>2018-04-09 09:12:02+03:00</td>\n",
       "    </tr>\n",
       "    <tr>\n",
       "      <th>1</th>\n",
       "      <td>Открытое окно.</td>\n",
       "      <td>Open Window</td>\n",
       "      <td>221027814</td>\n",
       "      <td>2014-06-30 12:00:00+00:00</td>\n",
       "      <td>2014-06-30 12:00:00+00:00</td>\n",
       "      <td>NaN</td>\n",
       "      <td>2157028</td>\n",
       "      <td>В главных ролях: Робин Тюннин, Джоэль Эдгертон...</td>\n",
       "      <td>Художественный</td>\n",
       "      <td>Видео</td>\n",
       "      <td>...</td>\n",
       "      <td>[]</td>\n",
       "      <td>NaN</td>\n",
       "      <td>NaN</td>\n",
       "      <td>NaN</td>\n",
       "      <td>NaN</td>\n",
       "      <td>NaN</td>\n",
       "      <td>NaT</td>\n",
       "      <td>NaN</td>\n",
       "      <td>2017-07-05 14:10:11+03:00</td>\n",
       "      <td>2018-04-09 09:12:02+03:00</td>\n",
       "    </tr>\n",
       "    <tr>\n",
       "      <th>2</th>\n",
       "      <td>Открытый простор</td>\n",
       "      <td>Open Range</td>\n",
       "      <td>221048915</td>\n",
       "      <td>2015-11-27 12:00:00+00:00</td>\n",
       "      <td>2015-11-27 12:00:00+00:00</td>\n",
       "      <td>NaN</td>\n",
       "      <td>2157029</td>\n",
       "      <td>Драма-вестерн. В ролях: Роберт Дюволл, Кевин К...</td>\n",
       "      <td>Художественный</td>\n",
       "      <td>Кино</td>\n",
       "      <td>...</td>\n",
       "      <td>[]</td>\n",
       "      <td>NaN</td>\n",
       "      <td>NaN</td>\n",
       "      <td>NaN</td>\n",
       "      <td>NaN</td>\n",
       "      <td>NaN</td>\n",
       "      <td>NaT</td>\n",
       "      <td>NaN</td>\n",
       "      <td>2017-07-05 14:10:11+03:00</td>\n",
       "      <td>2018-04-09 09:12:02+03:00</td>\n",
       "    </tr>\n",
       "    <tr>\n",
       "      <th>3</th>\n",
       "      <td>Особо важное задание</td>\n",
       "      <td>NaN</td>\n",
       "      <td>111013716</td>\n",
       "      <td>2016-09-13 12:00:00+00:00</td>\n",
       "      <td>2016-09-13 12:00:00+00:00</td>\n",
       "      <td>Показ фильма в кинозале и прокат фильма на мат...</td>\n",
       "      <td>2157030</td>\n",
       "      <td>В ролях - В.Заклунная, Н.Крючков, Е.Матвеев   ...</td>\n",
       "      <td>Художественный</td>\n",
       "      <td>Кино</td>\n",
       "      <td>...</td>\n",
       "      <td>[]</td>\n",
       "      <td>NaN</td>\n",
       "      <td>NaN</td>\n",
       "      <td>NaN</td>\n",
       "      <td>NaN</td>\n",
       "      <td>NaN</td>\n",
       "      <td>NaT</td>\n",
       "      <td>NaN</td>\n",
       "      <td>2017-07-05 14:10:11+03:00</td>\n",
       "      <td>2018-04-09 09:12:02+03:00</td>\n",
       "    </tr>\n",
       "    <tr>\n",
       "      <th>4</th>\n",
       "      <td>Особо опасен</td>\n",
       "      <td>Wanted</td>\n",
       "      <td>221038416</td>\n",
       "      <td>2016-10-10 12:00:00+00:00</td>\n",
       "      <td>2016-10-10 12:00:00+00:00</td>\n",
       "      <td>NaN</td>\n",
       "      <td>2157031</td>\n",
       "      <td>В ролях: Джеймс МакЭвой, Анджелина Джоли. Тайн...</td>\n",
       "      <td>Художественный</td>\n",
       "      <td>Кино</td>\n",
       "      <td>...</td>\n",
       "      <td>[]</td>\n",
       "      <td>NaN</td>\n",
       "      <td>NaN</td>\n",
       "      <td>NaN</td>\n",
       "      <td>NaN</td>\n",
       "      <td>NaN</td>\n",
       "      <td>NaT</td>\n",
       "      <td>NaN</td>\n",
       "      <td>2017-07-05 14:10:11+03:00</td>\n",
       "      <td>2021-04-06 12:16:16+03:00</td>\n",
       "    </tr>\n",
       "    <tr>\n",
       "      <th>...</th>\n",
       "      <td>...</td>\n",
       "      <td>...</td>\n",
       "      <td>...</td>\n",
       "      <td>...</td>\n",
       "      <td>...</td>\n",
       "      <td>...</td>\n",
       "      <td>...</td>\n",
       "      <td>...</td>\n",
       "      <td>...</td>\n",
       "      <td>...</td>\n",
       "      <td>...</td>\n",
       "      <td>...</td>\n",
       "      <td>...</td>\n",
       "      <td>...</td>\n",
       "      <td>...</td>\n",
       "      <td>...</td>\n",
       "      <td>...</td>\n",
       "      <td>...</td>\n",
       "      <td>...</td>\n",
       "      <td>...</td>\n",
       "      <td>...</td>\n",
       "    </tr>\n",
       "    <tr>\n",
       "      <th>98969</th>\n",
       "      <td>Проклятое наследие</td>\n",
       "      <td>Perpetrator</td>\n",
       "      <td>121033723</td>\n",
       "      <td>2023-09-12 12:00:00+00:00</td>\n",
       "      <td>2023-09-14 12:00:00+00:00</td>\n",
       "      <td>NaN</td>\n",
       "      <td>9577222</td>\n",
       "      <td>NaN</td>\n",
       "      <td>Художественный</td>\n",
       "      <td>Кино</td>\n",
       "      <td>...</td>\n",
       "      <td>[]</td>\n",
       "      <td>NaN</td>\n",
       "      <td>NaN</td>\n",
       "      <td>Первый заместитель Министра</td>\n",
       "      <td>С.Г. Обрывалин</td>\n",
       "      <td>NaN</td>\n",
       "      <td>NaT</td>\n",
       "      <td>NaN</td>\n",
       "      <td>2023-09-12 10:16:29+03:00</td>\n",
       "      <td>2023-09-12 12:12:35+03:00</td>\n",
       "    </tr>\n",
       "    <tr>\n",
       "      <th>98970</th>\n",
       "      <td>Селигерье</td>\n",
       "      <td>NaN</td>\n",
       "      <td>113005523</td>\n",
       "      <td>2023-09-13 12:00:00+00:00</td>\n",
       "      <td>2023-09-16 12:00:00+00:00</td>\n",
       "      <td>NaN</td>\n",
       "      <td>9578295</td>\n",
       "      <td>Научно-популярный фильм об озере Селигер</td>\n",
       "      <td>Научно-популярный</td>\n",
       "      <td>Кино</td>\n",
       "      <td>...</td>\n",
       "      <td>[]</td>\n",
       "      <td>NaN</td>\n",
       "      <td>NaN</td>\n",
       "      <td>Первый заместитель Министра</td>\n",
       "      <td>С.Г. Обрывалин</td>\n",
       "      <td>NaN</td>\n",
       "      <td>NaT</td>\n",
       "      <td>NaN</td>\n",
       "      <td>2023-09-12 12:50:21+03:00</td>\n",
       "      <td>2023-09-12 12:50:21+03:00</td>\n",
       "    </tr>\n",
       "    <tr>\n",
       "      <th>98971</th>\n",
       "      <td>Край света</td>\n",
       "      <td>NaN</td>\n",
       "      <td>212019323</td>\n",
       "      <td>2023-09-13 12:00:00+00:00</td>\n",
       "      <td>NaT</td>\n",
       "      <td>NaN</td>\n",
       "      <td>9578352</td>\n",
       "      <td>Фильм о гиде на костылях, живущем в Приморье</td>\n",
       "      <td>Документальный</td>\n",
       "      <td>Видео</td>\n",
       "      <td>...</td>\n",
       "      <td>[]</td>\n",
       "      <td>NaN</td>\n",
       "      <td>NaN</td>\n",
       "      <td>Первый заместитель Министра</td>\n",
       "      <td>С.Г. Обрывалин</td>\n",
       "      <td>NaN</td>\n",
       "      <td>NaT</td>\n",
       "      <td>NaN</td>\n",
       "      <td>2023-09-12 13:10:02+03:00</td>\n",
       "      <td>2023-09-12 13:10:02+03:00</td>\n",
       "    </tr>\n",
       "    <tr>\n",
       "      <th>98972</th>\n",
       "      <td>\"Фиксики. Дай пять!\", серии \"Скелет\", \"Вакуум\"...</td>\n",
       "      <td>NaN</td>\n",
       "      <td>214015023</td>\n",
       "      <td>2023-09-13 12:00:00+00:00</td>\n",
       "      <td>2023-09-25 12:00:00+00:00</td>\n",
       "      <td>NaN</td>\n",
       "      <td>9578527</td>\n",
       "      <td>Детский мультсериал</td>\n",
       "      <td>Анимационный</td>\n",
       "      <td>Видео</td>\n",
       "      <td>...</td>\n",
       "      <td>[]</td>\n",
       "      <td>NaN</td>\n",
       "      <td>NaN</td>\n",
       "      <td>Первый заместитель Министра</td>\n",
       "      <td>С.Г. Обрывалин</td>\n",
       "      <td>NaN</td>\n",
       "      <td>NaT</td>\n",
       "      <td>NaN</td>\n",
       "      <td>2023-09-12 13:47:34+03:00</td>\n",
       "      <td>2023-09-12 13:47:34+03:00</td>\n",
       "    </tr>\n",
       "    <tr>\n",
       "      <th>98973</th>\n",
       "      <td>Расскажи</td>\n",
       "      <td>NaN</td>\n",
       "      <td>111027423</td>\n",
       "      <td>2023-09-13 12:00:00+00:00</td>\n",
       "      <td>NaT</td>\n",
       "      <td>NaN</td>\n",
       "      <td>9581012</td>\n",
       "      <td>Мелодрама</td>\n",
       "      <td>Художественный</td>\n",
       "      <td>Кино</td>\n",
       "      <td>...</td>\n",
       "      <td>[]</td>\n",
       "      <td>NaN</td>\n",
       "      <td>NaN</td>\n",
       "      <td>Первый заместитель Министра</td>\n",
       "      <td>С.Г. Обрывалин</td>\n",
       "      <td>NaN</td>\n",
       "      <td>NaT</td>\n",
       "      <td>NaN</td>\n",
       "      <td>2023-09-12 15:20:01+03:00</td>\n",
       "      <td>2023-09-12 15:20:01+03:00</td>\n",
       "    </tr>\n",
       "  </tbody>\n",
       "</table>\n",
       "<p>98974 rows × 48 columns</p>\n",
       "</div>"
      ],
      "text/plain": [
       "                                         Название фильма  \\\n",
       "0                                         Почти знаменит   \n",
       "1                                         Открытое окно.   \n",
       "2                                       Открытый простор   \n",
       "3                                   Особо важное задание   \n",
       "4                                           Особо опасен   \n",
       "...                                                  ...   \n",
       "98969                                 Проклятое наследие   \n",
       "98970                                          Селигерье   \n",
       "98971                                         Край света   \n",
       "98972  \"Фиксики. Дай пять!\", серии \"Скелет\", \"Вакуум\"...   \n",
       "98973                                           Расскажи   \n",
       "\n",
       "      Hаименование на иностранном языке Номер удостоверения  \\\n",
       "0                         Almost Famous           221006316   \n",
       "1                           Open Window           221027814   \n",
       "2                            Open Range           221048915   \n",
       "3                                   NaN           111013716   \n",
       "4                                Wanted           221038416   \n",
       "...                                 ...                 ...   \n",
       "98969                       Perpetrator           121033723   \n",
       "98970                               NaN           113005523   \n",
       "98971                               NaN           212019323   \n",
       "98972                               NaN           214015023   \n",
       "98973                               NaN           111027423   \n",
       "\n",
       "      Дата регистрации удостоверения Дата начала показа фильма  \\\n",
       "0          2016-02-09 12:00:00+00:00 2016-02-09 12:00:00+00:00   \n",
       "1          2014-06-30 12:00:00+00:00 2014-06-30 12:00:00+00:00   \n",
       "2          2015-11-27 12:00:00+00:00 2015-11-27 12:00:00+00:00   \n",
       "3          2016-09-13 12:00:00+00:00 2016-09-13 12:00:00+00:00   \n",
       "4          2016-10-10 12:00:00+00:00 2016-10-10 12:00:00+00:00   \n",
       "...                              ...                       ...   \n",
       "98969      2023-09-12 12:00:00+00:00 2023-09-14 12:00:00+00:00   \n",
       "98970      2023-09-13 12:00:00+00:00 2023-09-16 12:00:00+00:00   \n",
       "98971      2023-09-13 12:00:00+00:00                       NaT   \n",
       "98972      2023-09-13 12:00:00+00:00 2023-09-25 12:00:00+00:00   \n",
       "98973      2023-09-13 12:00:00+00:00                       NaT   \n",
       "\n",
       "                                              Примечание  \\\n",
       "0                                                    NaN   \n",
       "1                                                    NaN   \n",
       "2                                                    NaN   \n",
       "3      Показ фильма в кинозале и прокат фильма на мат...   \n",
       "4                                                    NaN   \n",
       "...                                                  ...   \n",
       "98969                                                NaN   \n",
       "98970                                                NaN   \n",
       "98971                                                NaN   \n",
       "98972                                                NaN   \n",
       "98973                                                NaN   \n",
       "\n",
       "       Идентификатор записи реестра  \\\n",
       "0                           2157027   \n",
       "1                           2157028   \n",
       "2                           2157029   \n",
       "3                           2157030   \n",
       "4                           2157031   \n",
       "...                             ...   \n",
       "98969                       9577222   \n",
       "98970                       9578295   \n",
       "98971                       9578352   \n",
       "98972                       9578527   \n",
       "98973                       9581012   \n",
       "\n",
       "                                               Аннотация         Вид Фильма  \\\n",
       "0      В ролях: Фрэнсис МакДорманд, Кейт Хадсон. Исто...     Художественный   \n",
       "1      В главных ролях: Робин Тюннин, Джоэль Эдгертон...     Художественный   \n",
       "2      Драма-вестерн. В ролях: Роберт Дюволл, Кевин К...     Художественный   \n",
       "3      В ролях - В.Заклунная, Н.Крючков, Е.Матвеев   ...     Художественный   \n",
       "4      В ролях: Джеймс МакЭвой, Анджелина Джоли. Тайн...     Художественный   \n",
       "...                                                  ...                ...   \n",
       "98969                                                NaN     Художественный   \n",
       "98970           Научно-популярный фильм об озере Селигер  Научно-популярный   \n",
       "98971       Фильм о гиде на костылях, живущем в Приморье     Документальный   \n",
       "98972                                Детский мультсериал       Анимационный   \n",
       "98973                                          Мелодрама     Художественный   \n",
       "\n",
       "      Категория  ...  Код Права проката переданы  \\\n",
       "0         Видео  ...   []                    NaN   \n",
       "1         Видео  ...   []                    NaN   \n",
       "2          Кино  ...   []                    NaN   \n",
       "3          Кино  ...   []                    NaN   \n",
       "4          Кино  ...   []                    NaN   \n",
       "...         ...  ...  ...                    ...   \n",
       "98969      Кино  ...   []                    NaN   \n",
       "98970      Кино  ...   []                    NaN   \n",
       "98971     Видео  ...   []                    NaN   \n",
       "98972     Видео  ...   []                    NaN   \n",
       "98973      Кино  ...   []                    NaN   \n",
       "\n",
       "      Порядковый номер переоформления/продления         Должность подписанта  \\\n",
       "0                                           NaN                          NaN   \n",
       "1                                           NaN                          NaN   \n",
       "2                                           NaN                          NaN   \n",
       "3                                           NaN                          NaN   \n",
       "4                                           NaN                          NaN   \n",
       "...                                         ...                          ...   \n",
       "98969                                       NaN  Первый заместитель Министра   \n",
       "98970                                       NaN  Первый заместитель Министра   \n",
       "98971                                       NaN  Первый заместитель Министра   \n",
       "98972                                       NaN  Первый заместитель Министра   \n",
       "98973                                       NaN  Первый заместитель Министра   \n",
       "\n",
       "       ФИО подписанта Запись удалена  Дата удаления записи  \\\n",
       "0                 NaN            NaN                   NaT   \n",
       "1                 NaN            NaN                   NaT   \n",
       "2                 NaN            NaN                   NaT   \n",
       "3                 NaN            NaN                   NaT   \n",
       "4                 NaN            NaN                   NaT   \n",
       "...               ...            ...                   ...   \n",
       "98969  С.Г. Обрывалин            NaN                   NaT   \n",
       "98970  С.Г. Обрывалин            NaN                   NaT   \n",
       "98971  С.Г. Обрывалин            NaN                   NaT   \n",
       "98972  С.Г. Обрывалин            NaN                   NaT   \n",
       "98973  С.Г. Обрывалин            NaN                   NaT   \n",
       "\n",
       "      Не показывать на сайте mkrf.ru     дата создания объекта  \\\n",
       "0                                NaN 2017-07-05 14:10:11+03:00   \n",
       "1                                NaN 2017-07-05 14:10:11+03:00   \n",
       "2                                NaN 2017-07-05 14:10:11+03:00   \n",
       "3                                NaN 2017-07-05 14:10:11+03:00   \n",
       "4                                NaN 2017-07-05 14:10:11+03:00   \n",
       "...                              ...                       ...   \n",
       "98969                            NaN 2023-09-12 10:16:29+03:00   \n",
       "98970                            NaN 2023-09-12 12:50:21+03:00   \n",
       "98971                            NaN 2023-09-12 13:10:02+03:00   \n",
       "98972                            NaN 2023-09-12 13:47:34+03:00   \n",
       "98973                            NaN 2023-09-12 15:20:01+03:00   \n",
       "\n",
       "        дата обновления объекта  \n",
       "0     2018-04-09 09:12:02+03:00  \n",
       "1     2018-04-09 09:12:02+03:00  \n",
       "2     2018-04-09 09:12:02+03:00  \n",
       "3     2018-04-09 09:12:02+03:00  \n",
       "4     2021-04-06 12:16:16+03:00  \n",
       "...                         ...  \n",
       "98969 2023-09-12 12:12:35+03:00  \n",
       "98970 2023-09-12 12:50:21+03:00  \n",
       "98971 2023-09-12 13:10:02+03:00  \n",
       "98972 2023-09-12 13:47:34+03:00  \n",
       "98973 2023-09-12 15:20:01+03:00  \n",
       "\n",
       "[98974 rows x 48 columns]"
      ]
     },
     "execution_count": 35,
     "metadata": {},
     "output_type": "execute_result"
    }
   ],
   "source": [
    "df"
   ]
  },
  {
   "cell_type": "code",
   "execution_count": 49,
   "metadata": {},
   "outputs": [],
   "source": [
    "df[\"Продолжительность демонстрации, минуты\"] = df[\"Продолжительность демонстрации, минуты\"].apply(lambda x: x.split(\"/\")[0] if \"/\" in str(x) else x)\n",
    "times = (df[\"Продолжительность демонстрации, часы\"] * 60 + df[\"Продолжительность демонстрации, минуты\"].astype(float)).sort_values()"
   ]
  },
  {
   "cell_type": "code",
   "execution_count": 50,
   "metadata": {},
   "outputs": [
    {
     "data": {
      "image/png": "[encoded data removed]",
      "text/plain": [
       "<Figure size 640x480 with 1 Axes>"
      ]
     },
     "metadata": {},
     "output_type": "display_data"
    }
   ],
   "source": [
    "times.plot.hist(bins=1000, xlim=(0, 500), title=\"Распределение длины фильма в минутах\")\n",
    "plt.xlabel(\"Длина, мин\");"
   ]
  },
  {
   "cell_type": "code",
   "execution_count": 51,
   "metadata": {},
   "outputs": [
    {
     "data": {
      "text/plain": [
       "<Figure size 1000x600 with 0 Axes>"
      ]
     },
     "metadata": {},
     "output_type": "display_data"
    },
    {
     "data": {
      "image/png": "[encoded data removed]",
      "text/plain": [
       "<Figure size 500x500 with 1 Axes>"
      ]
     },
     "metadata": {},
     "output_type": "display_data"
    }
   ],
   "source": [
    "plt.figure(figsize=(10, 6))\n",
    "sns.displot(times[times < 1000].dropna(), bins=1000, color='green', kde=True);\n",
    "plt.xlim((-1, 500))\n",
    "plt.title('Распределение длины фильма в минутах')\n",
    "plt.ylabel('Кол-во')\n",
    "plt.xlabel('Длина, мин');"
   ]
  },
  {
   "cell_type": "markdown",
   "metadata": {},
   "source": [
    "## Seaborn\n",
    "\n",
    "Посмотрим, как те же самые графики можно построить c помощью библиотеки seaborn.\n",
    "\n",
    "### Plot"
   ]
  },
  {
   "cell_type": "code",
   "execution_count": null,
   "metadata": {},
   "outputs": [],
   "source": [
    "sns.set_style(\"darkgrid\")\n",
    "sns.lineplot(data=df[\"Год производства\"].value_counts())\n",
    "plt.title(\"Количество фильмов по году производству\")\n",
    "plt.xlabel(\"Год производства\")\n",
    "plt.ylabel(\"Количество фильмов\")\n",
    "plt.show()"
   ]
  },
  {
   "cell_type": "markdown",
   "metadata": {},
   "source": [
    "### Scatter plot"
   ]
  },
  {
   "cell_type": "code",
   "execution_count": null,
   "metadata": {},
   "outputs": [],
   "source": [
    "sns.scatterplot(data=date_df, x=\"Метраж (для фильмов на кинопленке)\", y=\"length\", alpha=0.5)\n",
    "plt.title(\"Связь длины пленки и продолжительности фильма\")\n",
    "plt.xlabel(\"Метраж (для фильмов на кинопленке)\")\n",
    "plt.ylabel(\"Продолжительность фильма\")\n",
    "plt.show()"
   ]
  },
  {
   "cell_type": "markdown",
   "metadata": {},
   "source": [
    "### Bar plot"
   ]
  },
  {
   "cell_type": "code",
   "execution_count": null,
   "metadata": {},
   "outputs": [],
   "source": [
    "sns.barplot(x=film_type.index, y=film_type.values)\n",
    "plt.title(\"Количество фильмов разного вида\")\n",
    "plt.xlabel(\"Вид фильма\")\n",
    "plt.ylabel(\"Количество фильмов\")\n",
    "plt.xticks(rotation=45)\n",
    "plt.show()"
   ]
  },
  {
   "cell_type": "code",
   "execution_count": null,
   "metadata": {},
   "outputs": [],
   "source": [
    "sns.barplot(y=film_type.index, x=film_type.values)\n",
    "plt.title(\"Количество фильмов разного вида\")\n",
    "plt.xlabel(\"Вид фильма\")\n",
    "plt.ylabel(\"Количество фильмов\")\n",
    "plt.xticks(rotation=45)\n",
    "plt.show()"
   ]
  },
  {
   "cell_type": "markdown",
   "metadata": {},
   "source": [
    "### Wordcloud\n",
    "\n",
    "Один из видов визуализации текста - это облако слов. В зависимости от частотности слова меняется его размер на картинке"
   ]
  },
  {
   "cell_type": "code",
   "execution_count": null,
   "metadata": {},
   "outputs": [],
   "source": [
    "from pymorphy2 import MorphAnalyzer\n",
    "from nltk.tokenize import wordpunct_tokenize\n",
    "\n",
    "morph = MorphAnalyzer()"
   ]
  },
  {
   "cell_type": "code",
   "execution_count": null,
   "metadata": {},
   "outputs": [],
   "source": [
    "from wordcloud import WordCloud\n",
    "from nltk.corpus import stopwords\n",
    "\n",
    "stops = set(stopwords.words('russian') + ['это', 'весь', 'который', 'мочь', 'свой'])"
   ]
  },
  {
   "cell_type": "code",
   "execution_count": null,
   "metadata": {},
   "outputs": [],
   "source": [
    "def lemmatize(x):\n",
    "    if type(x) != str:\n",
    "        return \"\"\n",
    "    text = wordpunct_tokenize(x)\n",
    "    result = []\n",
    "    for word in text:\n",
    "        if word.isalpha():\n",
    "            nf = morph.parse(word)[0].normal_form\n",
    "            if nf not in stops:\n",
    "                result.append(nf)\n",
    "    return \" \".join(result)"
   ]
  },
  {
   "cell_type": "code",
   "execution_count": null,
   "metadata": {},
   "outputs": [],
   "source": [
    "text = ' '.join(df[\"Аннотация\"].head(2000).apply(lemmatize).values)"
   ]
  },
  {
   "cell_type": "code",
   "execution_count": null,
   "metadata": {},
   "outputs": [],
   "source": [
    "wordcloud = WordCloud(\n",
    "    background_color ='white',\n",
    "    width = 800,\n",
    "    height = 800, \n",
    ").generate(text)\n",
    "\n",
    "plt.figure(figsize = (8, 8), facecolor = None) \n",
    "plt.imshow(wordcloud)\n",
    "plt.axis(\"off\") \n",
    "plt.title('Облако слов (включая стоп-слова)')\n",
    "plt.show()"
   ]
  }
 ],
 "metadata": {
  "kernelspec": {
   "display_name": "Python 3 (ipykernel)",
   "language": "python",
   "name": "python3"
  },
  "language_info": {
   "codemirror_mode": {
    "name": "ipython",
    "version": 3
   },
   "file_extension": ".py",
   "mimetype": "text/x-python",
   "name": "python",
   "nbconvert_exporter": "python",
   "pygments_lexer": "ipython3",
   "version": "3.10.9"
  }
 },
 "nbformat": 4,
 "nbformat_minor": 4
}
