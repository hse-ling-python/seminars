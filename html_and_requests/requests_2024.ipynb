{
 "cells": [
  {
   "cell_type": "markdown",
   "metadata": {
    "id": "nmgQw_NQYBCg"
   },
   "source": [
    "# Python и интернет. Модуль requests\n",
    "\n",
    "**План**:\n",
    "\n",
    "1. Запросы\n",
    "2. Requests\n",
    "4. bs4\n",
    "5. Задание на семинар"
   ]
  },
  {
   "cell_type": "markdown",
   "metadata": {
    "id": "BMdJJbokYBCi"
   },
   "source": [
    "## Как выкачать интернет\n",
    "Современный Интернет предоставляет лингвистам большое количество языковых данных: электронные газеты и журналы, блоги, форумы, социальные сети и т.д. Например, можно найти в сети много-много текстов и собрать корпус, или найти все газетные статьи и блог-посты про какую-нибудь корпорацию и проанализировать тональность сообщений. Сейчас мы научимся заниматься выкачиванием страниц из интернета с помощью Python.\n",
    "\n",
    "Для скачивания HTML-страниц в питоне есть несколько библиотек: **requests** и **urllib**."
   ]
  },
  {
   "cell_type": "markdown",
   "metadata": {
    "id": "DLNYPfbMYBCj"
   },
   "source": [
    "## Requests\n",
    "\n",
    "Можно почитать в [документации](https://requests.readthedocs.io/en/latest/) или [тут](https://realpython.com/python-requests/).\n",
    "\n",
    "Допустим, мы хотим скачать главную страницу Хабра.\n",
    "\n",
    "На самом деле, когда мы хотим открыть какую-то страницу в интернете, наш браузер отправляет на сервер **запрос** (\"Привет, сервер! я хочу код страницы по вот такому адресу!\"), а сервер затем отправляет ответ (\"Привет! Вот код страницы: ...\").\n",
    "Чтобы получить страницу через питон, нужно сформировать **запрос** на сервер так же, как это делает браузер:"
   ]
  },
  {
   "cell_type": "code",
   "execution_count": 9,
   "metadata": {
    "id": "txfW0gWgYBCk"
   },
   "outputs": [],
   "source": [
    "import requests"
   ]
  },
  {
   "cell_type": "code",
   "execution_count": 129,
   "metadata": {
    "id": "eR86pOlQYBCl"
   },
   "outputs": [],
   "source": [
    "response = requests.get(\"https://habr.com/ru/\")"
   ]
  },
  {
   "cell_type": "markdown",
   "metadata": {
    "id": "i5T6bjMBYBCl"
   },
   "source": [
    "В response теперь лежит отет сервера. Это не просто HTML-код страницы, а еще дополнительная информация. Если мы просто выведем этот `response`, нам покажется только код (если статус $-$ 200, то все ок)."
   ]
  },
  {
   "cell_type": "code",
   "execution_count": 14,
   "metadata": {
    "colab": {
     "base_uri": "https://localhost:8080/"
    },
    "id": "g53d-WU5YBCl",
    "outputId": "8c1e41ad-e05a-47a1-e2e3-6d3054a290e4"
   },
   "outputs": [
    {
     "data": {
      "text/plain": [
       "<Response [200]>"
      ]
     },
     "execution_count": 14,
     "metadata": {},
     "output_type": "execute_result"
    }
   ],
   "source": [
    "response"
   ]
  },
  {
   "cell_type": "code",
   "execution_count": 16,
   "metadata": {
    "colab": {
     "base_uri": "https://localhost:8080/"
    },
    "id": "9_vVB0dsYBCm",
    "outputId": "ce0c2b70-929f-4928-d442-c188187c5395"
   },
   "outputs": [
    {
     "data": {
      "text/plain": [
       "200"
      ]
     },
     "execution_count": 16,
     "metadata": {},
     "output_type": "execute_result"
    }
   ],
   "source": [
    "response.status_code"
   ]
  },
  {
   "cell_type": "markdown",
   "metadata": {
    "id": "XirrpWlIYBCm"
   },
   "source": [
    "А вот в атрибуте `text` уже лежит HTML-код"
   ]
  },
  {
   "cell_type": "code",
   "execution_count": 19,
   "metadata": {
    "colab": {
     "base_uri": "https://localhost:8080/"
    },
    "id": "DQshGk0KYBCm",
    "outputId": "891631a9-2084-4068-b0eb-3fe25b3294c8"
   },
   "outputs": [
    {
     "name": "stdout",
     "output_type": "stream",
     "text": [
      "<!DOCTYPE html>\n",
      "<html lang=\"ru\">\n",
      "\n",
      "  <head>\n",
      "    <title>Публикации &#x2F; Моя лента &#x2F; Хабр</title>\n",
      "<link rel=\"image_src\" href=\"/img/habr_ru.png\" data-hid=\"2a79c45\">\n",
      "<link href=\"https://habr.com/ru/feed/\" rel=\"canonical\" data-hid=\"e3fa780\">\n",
      "<meta itemprop=\"image\" content=\"/img/habr_ru.png\">\n",
      "<meta property=\"og:image\" content=\"/img/habr_ru.png\">\n",
      "<meta property=\"og:image:width\" content=\"1200\">\n",
      "<meta property=\"og:image:height\" content=\"630\">\n",
      "<meta property=\"aiturec:image\" content=\"/img/habr_ru.png\">\n",
      "<meta name=\"twitter:image\" content=\"/img/habr_ru.png\">\n",
      "<meta property=\"vk:image\" content=\"/img/habr_ru.png?format=vk\">\n",
      "<meta property=\"fb:app_id\" content=\"444736788986613\">\n",
      "<meta property=\"fb:pages\n"
     ]
    }
   ],
   "source": [
    "print(response.text[:700])"
   ]
  },
  {
   "cell_type": "markdown",
   "metadata": {
    "id": "7cCgtLjqYBCm"
   },
   "source": [
    "Иногда сайт блокирует запросы, если их посылает не настоящий браузер с пользователем, а какой-то бот (например, так делает Гугл или Википедия). Иногда сайты присылают разные версии страниц, разным браузерам.  \n",
    "По этим причинам полезно бывает писать скрипт, который умеет притворяться то одним, то другим браузером.\n",
    "Когда мы пытаемся получить страницу в питоне, наш код по умолчанию честно сообщает серверу, что он является программой на питоне. Он говорит что-то вроде \"Привет, я Python-urllib/3.5\".\n",
    "Но можно, например, представиться Мозиллой:"
   ]
  },
  {
   "cell_type": "code",
   "execution_count": 22,
   "metadata": {
    "id": "4u5p2773YBCn"
   },
   "outputs": [],
   "source": [
    "url = 'https://habr.com/ru/'  # адрес страницы, которую мы хотим скачать\n",
    "user_agent = 'Mozilla/5.0 (Windows NT 6.1; Win64; x64)'  # хотим притворяться браузером\n",
    "\n",
    "response = requests.get(\"https://habr.com/ru/\", headers={'User-Agent': user_agent})"
   ]
  },
  {
   "cell_type": "markdown",
   "metadata": {
    "id": "DMZp4tBiYBCn"
   },
   "source": [
    "Или использовать специальную библиотеку"
   ]
  },
  {
   "cell_type": "code",
   "execution_count": 29,
   "metadata": {
    "colab": {
     "base_uri": "https://localhost:8080/"
    },
    "id": "5fRMib2lYSFd",
    "outputId": "c9966773-b805-4255-dfd5-5399e48b3bf2"
   },
   "outputs": [],
   "source": [
    "# !pip install fake_useragent --q"
   ]
  },
  {
   "cell_type": "code",
   "execution_count": 25,
   "metadata": {
    "id": "y_0w_-A-YBCn"
   },
   "outputs": [],
   "source": [
    "from fake_useragent import UserAgent"
   ]
  },
  {
   "cell_type": "code",
   "execution_count": 27,
   "metadata": {
    "colab": {
     "base_uri": "https://localhost:8080/",
     "height": 35
    },
    "id": "PUkugL-5YBCn",
    "outputId": "20bb671a-f4ad-4b05-af6d-52caa25b8372"
   },
   "outputs": [
    {
     "data": {
      "text/plain": [
       "'Mozilla/5.0 (Windows NT 10.0; Win64; x64) AppleWebKit/537.36 (KHTML, like Gecko) Chrome/122.0.0.0 Safari/537.36 Agency/98.8.8175.80'"
      ]
     },
     "execution_count": 27,
     "metadata": {},
     "output_type": "execute_result"
    }
   ],
   "source": [
    "user_agent = UserAgent().chrome\n",
    "user_agent"
   ]
  },
  {
   "cell_type": "code",
   "execution_count": 31,
   "metadata": {
    "id": "j4dgguqxYBCn"
   },
   "outputs": [],
   "source": [
    "response = requests.get(\"https://habr.com/ru/\", headers={'User-Agent': user_agent})"
   ]
  },
  {
   "cell_type": "markdown",
   "metadata": {
    "id": "FOFbk0oZYBCn"
   },
   "source": [
    "Можно посмотреть, что еще можно достать из response.\n",
    "\n",
    "Функция ```dir``` выдает список методов и параметров объекта."
   ]
  },
  {
   "cell_type": "code",
   "execution_count": 33,
   "metadata": {
    "colab": {
     "base_uri": "https://localhost:8080/"
    },
    "id": "2fKF0vhmYBCn",
    "outputId": "d81ad54f-98e7-452b-e3a5-691de3838f8d"
   },
   "outputs": [
    {
     "data": {
      "text/plain": [
       "['apparent_encoding',\n",
       " 'close',\n",
       " 'connection',\n",
       " 'content',\n",
       " 'cookies',\n",
       " 'elapsed',\n",
       " 'encoding',\n",
       " 'headers',\n",
       " 'history',\n",
       " 'is_permanent_redirect',\n",
       " 'is_redirect',\n",
       " 'iter_content',\n",
       " 'iter_lines',\n",
       " 'json',\n",
       " 'links',\n",
       " 'next',\n",
       " 'ok',\n",
       " 'raise_for_status',\n",
       " 'raw',\n",
       " 'reason',\n",
       " 'request',\n",
       " 'status_code',\n",
       " 'text',\n",
       " 'url']"
      ]
     },
     "execution_count": 33,
     "metadata": {},
     "output_type": "execute_result"
    }
   ],
   "source": [
    "[i for i in dir(response) if not i.startswith(\"_\")]"
   ]
  },
  {
   "cell_type": "markdown",
   "metadata": {
    "id": "RKCyxiHvYBCo"
   },
   "source": [
    "- Кодировка:"
   ]
  },
  {
   "cell_type": "code",
   "execution_count": 36,
   "metadata": {
    "colab": {
     "base_uri": "https://localhost:8080/",
     "height": 35
    },
    "id": "gkqXDUDHYBCo",
    "outputId": "2a45e008-fb27-48da-814f-7e55f941b22a"
   },
   "outputs": [
    {
     "data": {
      "text/plain": [
       "'utf-8'"
      ]
     },
     "execution_count": 36,
     "metadata": {},
     "output_type": "execute_result"
    }
   ],
   "source": [
    "response.encoding"
   ]
  },
  {
   "cell_type": "markdown",
   "metadata": {
    "id": "qy8svnQ7YBCo"
   },
   "source": [
    "- Заголовки (техническая информация):"
   ]
  },
  {
   "cell_type": "code",
   "execution_count": 39,
   "metadata": {
    "colab": {
     "base_uri": "https://localhost:8080/"
    },
    "id": "5GOa4MZsYBCo",
    "outputId": "3a0e48ce-1ea3-4c83-c230-7b282b2b7602"
   },
   "outputs": [
    {
     "data": {
      "text/plain": [
       "{'Server': 'QRATOR',\n",
       " 'Date': 'Fri, 08 Nov 2024 08:36:52 GMT',\n",
       " 'Content-Type': 'text/html; charset=utf-8',\n",
       " 'Transfer-Encoding': 'chunked',\n",
       " 'Connection': 'keep-alive',\n",
       " 'Keep-Alive': 'timeout=15',\n",
       " 'Vary': 'Accept-Encoding, Accept-Encoding',\n",
       " 'X-DNS-Prefetch-Control': 'off',\n",
       " 'X-Frame-Options': 'SAMEORIGIN',\n",
       " 'X-Download-Options': 'noopen',\n",
       " 'X-Content-Type-Options': 'nosniff',\n",
       " 'X-XSS-Protection': '1; mode=block',\n",
       " 'ETag': 'W/\"459a1-7M0fPtdI9IlGSsTY1Pt2F0Zht+k\"',\n",
       " 'Strict-Transport-Security': 'max-age=31536000; includeSubDomains',\n",
       " 'X-Request-Id': '3a59d0f8cd5dd62a957fbc3896d0f35f',\n",
       " 'X-Request-Geoip-Country-Code': 'RU',\n",
       " 'X-Request-Detected-Device': 'desktop',\n",
       " 'Content-Encoding': 'gzip'}"
      ]
     },
     "execution_count": 39,
     "metadata": {},
     "output_type": "execute_result"
    }
   ],
   "source": [
    "dict(response.headers)"
   ]
  },
  {
   "cell_type": "markdown",
   "metadata": {
    "id": "3fILLEeuYBCo"
   },
   "source": [
    "- Адрес запроса:"
   ]
  },
  {
   "cell_type": "code",
   "execution_count": 42,
   "metadata": {
    "colab": {
     "base_uri": "https://localhost:8080/",
     "height": 35
    },
    "id": "Rv6vs1D_YBCo",
    "outputId": "4ef37d90-b6ad-4c58-e795-a17537feefe0"
   },
   "outputs": [
    {
     "data": {
      "text/plain": [
       "'https://habr.com/ru/feed/'"
      ]
     },
     "execution_count": 42,
     "metadata": {},
     "output_type": "execute_result"
    }
   ],
   "source": [
    "response.url"
   ]
  },
  {
   "cell_type": "markdown",
   "metadata": {},
   "source": [
    "* Содержимое страницы:"
   ]
  },
  {
   "cell_type": "code",
   "execution_count": 45,
   "metadata": {
    "colab": {
     "base_uri": "https://localhost:8080/"
    },
    "id": "Sj9AzfewYBCp",
    "outputId": "28fa1071-19f3-46ac-f196-f31414e3f7f4"
   },
   "outputs": [
    {
     "name": "stdout",
     "output_type": "stream",
     "text": [
      "<!DOCTYPE html>\n",
      "<html lang=\"ru\">\n",
      "\n",
      "  <head>\n",
      "    <title>Публикации &#x2F; Моя лента &#x2F; Хабр</title>\n",
      "<link rel=\"image_src\" href=\"/img/habr_ru.png\" data-hid=\"2a79c45\">\n",
      "<link href=\"https://habr.com/ru/feed/\" rel=\"canonical\" data-hid=\"e3fa780\">\n",
      "<meta itemprop=\"image\" content=\"/img/habr_ru.png\">\n",
      "<meta \n"
     ]
    }
   ],
   "source": [
    "print(response.text[:300])"
   ]
  },
  {
   "cell_type": "markdown",
   "metadata": {
    "id": "wadZX78JYBCp"
   },
   "source": [
    "Ура, всё на месте!\n",
    "\n",
    "Но что всё это значит? Что такое HTML и как вообще из него доставать какую-то информацию?\n",
    "\n",
    "Ответ: по **тегам**! Например, в куске HTML сверху есть теги `<title> </title>` (теги всегда обрамляют с двух сторон то, что находится под этим тегом). В `<title>` в данном случае лежит заголовок этой интернет-страницы.\n",
    "\n",
    "Существует несколько вариантов, как достать что-то из определенного тега, например, достать заголовок:\n",
    "\n",
    "1. регулярные выражения ([плохой вариант](https://stackoverflow.com/questions/590747/using-regular-expressions-to-parse-html-why-not))\n",
    "2. специальные библиотеки питона, например, BeautifulSoup (bs4) или [lxml](https://lxml.de/) (хороший вариант)"
   ]
  },
  {
   "cell_type": "markdown",
   "metadata": {
    "id": "N-AOP79BYBCp"
   },
   "source": [
    "## BeautifulSoup\n",
    "\n",
    "[Документация](https://www.crummy.com/software/BeautifulSoup/bs4/doc/)\n",
    "\n",
    "Код страницы парсится как иерархия тегов (как они есть в html коде, один вложен в другой) и можно искать элементы с помощью разных методов, использовать атрибуты и т.д."
   ]
  },
  {
   "cell_type": "code",
   "execution_count": 49,
   "metadata": {
    "id": "QVL8TDopYBCp"
   },
   "outputs": [],
   "source": [
    "from bs4 import BeautifulSoup"
   ]
  },
  {
   "cell_type": "markdown",
   "metadata": {
    "id": "3RwP4AN9YBCp"
   },
   "source": [
    "Сначала инициализируем объект `BeautifulSoup`. Потом применим метод `find` и в скобочках укажем теги, по которым ищем. У некоторых тегов в HTML (как и в нашем случае) бывает еще и `class` и какие-нибудь еще атрибуты. Такие вещи мы задаем словариком.\n",
    "\n",
    "Этот запрос вернёт нам только первый заголовок. То есть первое вхождение такого тега в нашем HTML файле."
   ]
  },
  {
   "cell_type": "code",
   "execution_count": 131,
   "metadata": {
    "colab": {
     "base_uri": "https://localhost:8080/"
    },
    "id": "M28-oqzAYBCp",
    "outputId": "e298b69f-2225-4274-98e8-0cb5d0886104"
   },
   "outputs": [
    {
     "name": "stdout",
     "output_type": "stream",
     "text": [
      "Как использовать плагины SBP для развития b2b продукта\n",
      "\n",
      "\n",
      "<h2 class=\"tm-title tm-title_h2\" data-test-id=\"articleTitle\">\n",
      " <!--[-->\n",
      " <a class=\"tm-title__link\" data-article-link=\"true\" data-test-id=\"article-snippet-title-link\" href=\"/ru/articles/857090/\">\n",
      "  <span>\n",
      "   Как использовать плагины SBP для развития b2b продукта\n",
      "  </span>\n",
      " </a>\n",
      " <!--]-->\n",
      "</h2>\n",
      "\n"
     ]
    }
   ],
   "source": [
    "soup = BeautifulSoup(response.text, 'html.parser')  # инициализируем (создаем) soup\n",
    "\n",
    "post = soup.find('h2', {'class': 'tm-title tm-title_h2'})\n",
    "print(post.get_text(), end=\"\\n\\n\\n\")\n",
    "print(post.prettify())"
   ]
  },
  {
   "cell_type": "markdown",
   "metadata": {
    "id": "vVN9z_TBYBCq"
   },
   "source": [
    "Но мы хотим получить все заголовки постов! Метод `find_all` возвращает массив всех элементов с тегом указанным в скобках. По нему можно итерироваться."
   ]
  },
  {
   "cell_type": "code",
   "execution_count": 133,
   "metadata": {
    "colab": {
     "base_uri": "https://localhost:8080/"
    },
    "id": "Itv0BRL6YBCq",
    "outputId": "4d36413f-4f82-4fa8-8ed4-279db29dd58b"
   },
   "outputs": [
    {
     "name": "stdout",
     "output_type": "stream",
     "text": [
      "Как использовать плагины SBP для развития b2b продукта\n",
      "<h2 class=\"tm-title tm-title_h2\" data-test-id=\"articleTitle\">\n",
      " <!--[-->\n",
      " <a class=\"tm-title__link\" data-article-link=\"true\" data-test-id=\"article-snippet-title-link\" href=\"/ru/articles/857090/\">\n",
      "  <span>\n",
      "   Как использовать плагины SBP для развития b2b продукта\n",
      "  </span>\n",
      " </a>\n",
      " <!--]-->\n",
      "</h2>\n",
      "\n",
      "-- -- -- -- -- -- -- -- -- -- \n",
      "Я бы строить дом пошел или на какую профессию сменить ИТ\n",
      "<h2 class=\"tm-title tm-title_h2\" data-test-id=\"articleTitle\">\n",
      " <!--[-->\n",
      " <a class=\"tm-title__link\" data-article-link=\"true\" data-test-id=\"article-snippet-title-link\" href=\"/ru/articles/857088/\">\n",
      "  <span>\n",
      "   Я бы строить дом пошел или на какую профессию сменить ИТ\n",
      "  </span>\n",
      " </a>\n",
      " <!--]-->\n",
      "</h2>\n",
      "\n",
      "-- -- -- -- -- -- -- -- -- -- \n",
      "Как мы в билайне боремся со спам-звонками с помощью машинного обучения, часть 1\n",
      "<h2 class=\"tm-title tm-title_h2\" data-test-id=\"articleTitle\">\n",
      " <!--[-->\n",
      " <a class=\"tm-title__link\" data-article-link=\"true\" data-test-id=\"article-snippet-title-link\" href=\"/ru/companies/beeline_tech/articles/857082/\">\n",
      "  <span>\n",
      "   Как мы в билайне боремся со спам-звонками с помощью машинного обучения, часть 1\n",
      "  </span>\n",
      " </a>\n",
      " <!--]-->\n",
      "</h2>\n",
      "\n",
      "-- -- -- -- -- -- -- -- -- -- \n"
     ]
    }
   ],
   "source": [
    "for post in soup.find_all('h2', {'class': 'tm-title tm-title_h2'})[:3]:\n",
    "    print(post.get_text())\n",
    "    print(post.prettify())\n",
    "\n",
    "    print('-- ' * 10)  # для красоты"
   ]
  },
  {
   "cell_type": "markdown",
   "metadata": {
    "id": "vRbMZDOEYBCq"
   },
   "source": [
    "## Задание на семинар 1\n",
    "\n",
    "А что если мы хотим зайти еще глубже по дереву тегов и, например, для каждого заголовка поста найти никнейм юзера, который написал этот пост, и время написания поста?\n",
    "\n",
    "Для этого надо снова зайти в просмотор кода страницы и увидеть, что там проиcходит что-то такое:\n",
    "\n",
    "(Заодно обратите внимание, как пишутся комменты в HTML)"
   ]
  },
  {
   "cell_type": "markdown",
   "metadata": {
    "id": "NP1aFnk3Y1-x"
   },
   "source": [
    "```\n",
    "<article class=\"tm-articles-list__item\" data-navigatable=\"\" id=\"771476\" tabindex=\"0\">\n",
    " <div class=\"tm-article-snippet tm-article-snippet\">\n",
    "  <div class=\"tm-article-snippet__meta-container\">\n",
    "   <div class=\"tm-article-snippet__meta\">\n",
    "    <span class=\"tm-user-info tm-article-snippet__author\">\n",
    "     <a class=\"tm-user-info__userpic\" href=\"/ru/users/darinka666/\" title=\"darinka666\">\n",
    "      <div class=\"tm-entity-image\">\n",
    "       <img alt=\"\" class=\"tm-entity-image__pic\" height=\"24\" src=\"https://assets.habr.com/habr-web/img/avatars/093.png\" width=\"24\"/>\n",
    "      </div>\n",
    "     </a>\n",
    "     <span class=\"tm-user-info__user tm-user-info__user_appearance-default\">\n",
    "      <a class=\"tm-user-info__username\" href=\"/ru/users/darinka666/\">\n",
    "       darinka666\n",
    "       <!-- -->\n",
    "      </a>\n",
    "      <span class=\"tm-article-datetime-published\">\n",
    "       <time datetime=\"2023-11-02T09:22:25.000Z\" title=\"2023-11-02, 12:22\">\n",
    "        11 минут назад\n",
    "       </time>\n",
    "      </span>\n",
    "     </span>\n",
    "    </span>\n",
    "   </div>\n",
    "   <!-- -->\n",
    "  </div>\n",
    "  <h2 class=\"tm-title tm-title_h2\">\n",
    "   <a class=\"tm-title__link\" data-article-link=\"true\" data-test-id=\"article-snippet-title-link\" href=\"/ru/companies/mts_ai/articles/771476/\">\n",
    "    <span>\n",
    "     Обзор Llemma: новая математическая open-source модель\n",
    "    </span>\n",
    "   </a>\n",
    "  </h2>\n",
    "  <div class=\"tm-article-snippet__stats\">\n",
    "   <div class=\"tm-article-complexity tm-article-complexity_complexity-medium\">\n",
    "    <span class=\"tm-svg-icon__wrapper tm-article-complexity__icon\">\n",
    "     <svg class=\"tm-svg-img tm-svg-icon\" height=\"24\" width=\"24\">\n",
    "      <title>\n",
    "       Уровень сложности\n",
    "      </title>\n",
    "      <use xlink:href=\"/img/megazord-v28.2fb1b1c1..svg#complexity-medium\">\n",
    "      </use>\n",
    "     </svg>\n",
    "    </span>\n",
    "    <span class=\"tm-article-complexity__label\">\n",
    "     Средний\n",
    "    </span>\n",
    "   </div>\n",
    "```\n",
    "(и так далее; часть вывода обрезана: обратите внимание, нет закрывающего тега `</article>`)"
   ]
  },
  {
   "cell_type": "code",
   "execution_count": 90,
   "metadata": {
    "colab": {
     "base_uri": "https://localhost:8080/"
    },
    "id": "kMamlB_4ZExT",
    "outputId": "9585780b-8f24-4bfa-a0c3-a7c09b954df1"
   },
   "outputs": [
    {
     "name": "stdout",
     "output_type": "stream",
     "text": [
      "TEXT:\n",
      "Статьяvolgeorge 4 минуты назадТоп-6 пиар-агентств для работы в России: личный рейтинг пиарщика компанииУровень сложностиПростойВремя на прочтение5 минКоличество просмотров7ОбзорРейтинг0Добавить в закладки0Комментарии0\n",
      "-- -- -- -- -- -- -- -- -- -- \n",
      "HTML:\n",
      "<article class=\"tm-articles-list__item\" data-navigatable=\"\" data-test-id=\"articles-list-item\" id=\"856926\" tabindex=\"0\">\n",
      " <div class=\"tm-article-snippet tm-article-snippet\">\n",
      "  <!--[-->\n",
      "  <div class=\"publication-type-label publication-type-label_type-article\">\n",
      "   <span class=\"publication-type-label__label publication-type-label__label_type-article\">\n",
      "    Статья\n",
      "   </span>\n",
      "  </div>\n",
      "  <!--]-->\n",
      "  <div class=\"tm-article-snippet__meta-container\">\n",
      "   <div class=\"tm-article-snippet__meta\">\n",
      "    <span class\n",
      "-- -- -- -- -- -- -- -- -- -- \n",
      "-- -- -- -- -- -- -- -- -- -- \n",
      "-- -- -- -- -- -- -- -- -- -- \n",
      "TEXT:\n",
      "Постnastyakopi 11 минут назадКоличество просмотров368Как у вас с пространственным мышлением? Проверьте себя — решите задачуУсловиеАйтишник-динозавр Тирекс обнаружил, что скоро откроется пляжный сезон, и решил в срочном порядке заняться спортом. Для этого он купил большой хулахуп с длиной окружности в три раза большей, чем обхват собственной талии.Тирекс крутил этот обруч до тех пор, пока его пупок не коснулся той же точки на хулахупе, которой касался на старте. Когда это случилось, динозавр реши\n",
      "-- -- -- -- -- -- -- -- -- -- \n",
      "HTML:\n",
      "<article class=\"tm-articles-list__item tm-articles-list__item_no-padding\" data-navigatable=\"\" data-test-id=\"articles-list-item\" id=\"856992\" tabindex=\"0\">\n",
      " <div class=\"tm-post-snippet\">\n",
      "  <!--[-->\n",
      "  <div class=\"publication-type-label publication-type-label_type-post\">\n",
      "   <span class=\"publication-type-label__label publication-type-label__label_type-post\">\n",
      "    Пост\n",
      "   </span>\n",
      "  </div>\n",
      "  <!--]-->\n",
      "  <div class=\"tm-post-snippet__meta\">\n",
      "   <span class=\"tm-user-info tm-post-author-info\">\n",
      "    <a class=\"t\n",
      "-- -- -- -- -- -- -- -- -- -- \n",
      "-- -- -- -- -- -- -- -- -- -- \n",
      "-- -- -- -- -- -- -- -- -- -- \n",
      "TEXT:\n",
      "СтатьяSLY_G 18 минут назадЧёрные дыры, образующиеся при «обратном воспроизведении Большого взрыва», могут объяснить тёмную энергиюУровень сложностиПростойВремя на прочтение5 минКоличество просмотров144ПереводРейтинг0Добавить в закладки0Комментарии0\n",
      "-- -- -- -- -- -- -- -- -- -- \n",
      "HTML:\n",
      "<article class=\"tm-articles-list__item\" data-navigatable=\"\" data-test-id=\"articles-list-item\" id=\"856908\" tabindex=\"0\">\n",
      " <div class=\"tm-article-snippet tm-article-snippet\">\n",
      "  <!--[-->\n",
      "  <div class=\"publication-type-label publication-type-label_type-article\">\n",
      "   <span class=\"publication-type-label__label publication-type-label__label_type-article\">\n",
      "    Статья\n",
      "   </span>\n",
      "  </div>\n",
      "  <!--]-->\n",
      "  <div class=\"tm-article-snippet__meta-container\">\n",
      "   <div class=\"tm-article-snippet__meta\">\n",
      "    <span class\n",
      "-- -- -- -- -- -- -- -- -- -- \n",
      "-- -- -- -- -- -- -- -- -- -- \n",
      "-- -- -- -- -- -- -- -- -- -- \n"
     ]
    }
   ],
   "source": [
    "for post in soup.find_all(\"article\")[:3]:\n",
    "    print(\"TEXT:\")\n",
    "    print(post.get_text()[:500])\n",
    "    print('-- '*10)\n",
    "    print(\"HTML:\")\n",
    "    print(post.prettify()[:500])\n",
    "\n",
    "    print('-- '*10)\n",
    "    print('-- '*10)\n",
    "    print('-- '*10)"
   ]
  },
  {
   "cell_type": "markdown",
   "metadata": {},
   "source": [
    "### Решение задания на семинар 1"
   ]
  },
  {
   "cell_type": "code",
   "execution_count": 168,
   "metadata": {},
   "outputs": [
    {
     "name": "stdout",
     "output_type": "stream",
     "text": [
      "Name: Caterin \n",
      "Time: 1 минуту назад\n",
      "Header: Как использовать плагины SBP для развития b2b продукта\n",
      "\n",
      "Name: HunterXXI \n",
      "Time: 4 минуты назад\n",
      "Header: Я бы строить дом пошел или на какую профессию сменить ИТ\n",
      "\n",
      "Name: Beeline_tech \n",
      "Time: 27 минут назад\n",
      "Header: Как мы в билайне боремся со спам-звонками с помощью машинного обучения, часть 1\n",
      "\n",
      "Name: A1LEks \n",
      "Time: 28 минут назад\n",
      "Header: Как мы разработали и добавили «истории» в сервис для поиска работы за 3 месяца\n",
      "\n",
      "Name: Oksana_Nedvigina \n",
      "Time: 29 минут назад\n",
      "Header: Чтение на выходные: «Великий Китайский Файрвол. Как создать свой собственный интернет и управлять им» Джеймса Гриффитса\n",
      "\n",
      "Name: Oksana_Nedvigina \n",
      "Time: 30 минут назад\n",
      "Header: Чтение на выходные: «Великий Китайский Файрвол. Как создать свой собственный интернет и управлять им» Джеймса Гриффитса\n",
      "\n",
      "Name: ptsecurity \n",
      "Time: 37 минут назад\n",
      "Header: Вести с полей киберинцидентов: команда расследователей делится итогами проектов 2023-2024\n",
      "\n",
      "Name: k0mar0v \n",
      "Time: 43 минуты назад\n",
      "Header: От мышей на экране до zip-бомбы: топ приложений-шуток из начала нулевых\n",
      "\n",
      "Name: MsRedlLynx \n",
      "Time: 46 минут назад\n",
      "Header: Когда релиз? Как мы боролись с прокрастинацией с помощью метрик\n",
      "\n",
      "Name: MarioKiber \n",
      "Time: 49 минут назад\n",
      "Header: Вся правда о переходе с монолита на микросервисы, когда у тебя сеть из десятков тысяч магазинов: опыт Х5 Tech\n",
      "\n",
      "Name: Demin_Konstantin \n",
      "Time: 55 минут назад\n",
      "Header: Разработка гибкой платформы для кредитования: от крупных банков к массовому рынку\n",
      "\n",
      "Name: Squirrelfm \n",
      "Time: 1 час назад\n",
      "Header: Стандартное отклонение для полных чайников\n",
      "\n",
      "Name: denis-19 \n",
      "Time: 1 час назад\n",
      "Header: Релиз открытого проекта GSmartControl 2.0 — GUI к инструментарию smartmontools для оценки состояния HDD и SSD\n",
      "\n"
     ]
    }
   ],
   "source": [
    "try:  # чтобы исключить случаи, когда нет юзернейма / времени / заголовка\n",
    "    for post in soup.find_all(\"article\"):\n",
    "        user_name = post.find('a', {'class': 'tm-user-info__username'}).get_text()\n",
    "        time_article = post.find('time').get_text()\n",
    "        header_article = post.find('h2', {'class': 'tm-title tm-title_h2'}).get_text()\n",
    "        print('Name:', user_name)\n",
    "        print('Time:', time_article)\n",
    "        print('Header:', header_article, end='\\n\\n')\n",
    "except AttributeError:\n",
    "    # ошибка AttributeError возникает, когда от объекта типа None вызывают метод .get_text()\n",
    "    pass"
   ]
  },
  {
   "cell_type": "markdown",
   "metadata": {
    "id": "Vtti9jzmYBCr"
   },
   "source": [
    "## Задание на семинар 2\n",
    "\n",
    "Скачать главную страницу Яндекс.Погоды и\n",
    "    \n",
    "- распечатать сегодняшнюю температуру и облачность\n",
    "- распечатать время восхода и заката\n",
    "- погоду на завтра"
   ]
  },
  {
   "cell_type": "markdown",
   "metadata": {
    "id": "PhTHnk9obW2_"
   },
   "source": [
    "Простая версия: вместо Яндекс.Погоды возьмите [этот](https://simple-weather-website.netlify.app/) сайт и получите температуру, влажность и скорость ветра."
   ]
  },
  {
   "cell_type": "markdown",
   "metadata": {
    "id": "q_7F_56RYBCr"
   },
   "source": [
    "## [Хорошая статья про это все](https://sysblok.ru/courses/obkachka-sajtov-svoimi-rukami-razbiraemsja-s-html/)"
   ]
  },
  {
   "cell_type": "markdown",
   "metadata": {
    "id": "VzMuRjYqfDVW"
   },
   "source": [
    "# Бонус"
   ]
  },
  {
   "cell_type": "markdown",
   "metadata": {
    "id": "pggKMj-sfJ3k"
   },
   "source": [
    "Иногда можно не изгаляться с HTML, а воспользоваться специальным инструментом: **API**.\n",
    "\n",
    "API расшифровывается как Application Programming Interface. Это набор правил, которыми одна программа может общаться и взаимодействовать с другой, в том числе с сайтами. Например, \"сделай запрос к такой-то странице в таком-то формате, чтобы получить JSON с данными о погоде и не парсить HTML руками\".\n",
    "\n",
    "Но сначала пример попроще. Это сайт, который просто возвращает случайные картинки с лисами (есть [агрегатор](https://publicapi.dev/) разных API, там много такого можно найти):"
   ]
  },
  {
   "cell_type": "code",
   "execution_count": 61,
   "metadata": {
    "id": "IUURHDgVfCsB"
   },
   "outputs": [],
   "source": [
    "fox = requests.get(\"https://randomfox.ca/floof/\")"
   ]
  },
  {
   "cell_type": "markdown",
   "metadata": {
    "id": "jnwDqQZ3gE9R"
   },
   "source": [
    "Обратите внимание, что `.text` вернет нам *строку*:"
   ]
  },
  {
   "cell_type": "code",
   "execution_count": 63,
   "metadata": {
    "colab": {
     "base_uri": "https://localhost:8080/",
     "height": 35
    },
    "id": "McKzVvz1fUzE",
    "outputId": "d156ac30-3803-492f-f998-6eda13d7ea30"
   },
   "outputs": [
    {
     "data": {
      "text/plain": [
       "'{\"image\":\"https:\\\\/\\\\/randomfox.ca\\\\/images\\\\/12.jpg\",\"link\":\"https:\\\\/\\\\/randomfox.ca\\\\/?i=12\"}'"
      ]
     },
     "execution_count": 63,
     "metadata": {},
     "output_type": "execute_result"
    }
   ],
   "source": [
    "fox.text"
   ]
  },
  {
   "cell_type": "markdown",
   "metadata": {
    "id": "BVKEivgTgKZD"
   },
   "source": [
    "Но у респонза есть еще метод `.json()`. В данном случае он сразу приведет к списку или словарю. В данном случае словарь, так как API возвращает словарь с несколькими ключами.\n",
    "\n"
   ]
  },
  {
   "cell_type": "code",
   "execution_count": 66,
   "metadata": {
    "colab": {
     "base_uri": "https://localhost:8080/"
    },
    "id": "inM_t4xbfVWY",
    "outputId": "971210a6-a48a-41ff-bf74-2c140c755397"
   },
   "outputs": [
    {
     "data": {
      "text/plain": [
       "{'image': 'https://randomfox.ca/images/12.jpg',\n",
       " 'link': 'https://randomfox.ca/?i=12'}"
      ]
     },
     "execution_count": 66,
     "metadata": {},
     "output_type": "execute_result"
    }
   ],
   "source": [
    "fox.json()"
   ]
  },
  {
   "cell_type": "markdown",
   "metadata": {
    "id": "UKid0Ct2jZgD"
   },
   "source": [
    "Более сложный, но и более интересный пример: https://newsapi.org/\n",
    "\n",
    " На главной нужно получить ключ. Многие API доступны только по ключам: например, API гитхаба так определяет, к каким репозиториям у вас есть доступ, а к каким нет; некоторые API ограничивают число запросов на одного пользователя; и т.д.\n",
    "\n",
    " **Ключ $-$ это личная информация**, как, например, пароль. Ключ нежелательно вставлять в код, потому что будет легко забыть его удалить перед тем, как вы где-то этот код опубликуете. Лучше положить в отдельный файл и его читать:"
   ]
  },
  {
   "cell_type": "code",
   "execution_count": 68,
   "metadata": {
    "id": "emsYdMpsj60i"
   },
   "outputs": [],
   "source": [
    "with open(\"news_api_key.txt\", \"r\") as f:\n",
    "  api_key = f.read()"
   ]
  },
  {
   "cell_type": "markdown",
   "metadata": {
    "id": "3yIGPfxkyBxQ"
   },
   "source": [
    "А если вы работаете в колабе, то можно положить ключ в секреты колаба и сделать вот так:"
   ]
  },
  {
   "cell_type": "code",
   "execution_count": null,
   "metadata": {
    "id": "O_WRdn6dyBFP"
   },
   "outputs": [],
   "source": [
    "from google.colab import userdata\n",
    "\n",
    "api_key = userdata.get('NEWS_API_KEY')"
   ]
  },
  {
   "cell_type": "markdown",
   "metadata": {
    "id": "NSKdtTOxmPvI"
   },
   "source": [
    "Какие параметры можно указывать в запросе, смотрите [здесь](https://newsapi.org/docs/endpoints/everything)."
   ]
  },
  {
   "cell_type": "code",
   "execution_count": 70,
   "metadata": {
    "id": "zztCyXuRj6DX"
   },
   "outputs": [],
   "source": [
    "news = requests.get(\n",
    "    f\"https://newsapi.org/v2/everything?q=Apple&from=2024-10-25&sortBy=popularity&apiKey={api_key}\"\n",
    "    ).json()"
   ]
  },
  {
   "cell_type": "code",
   "execution_count": 74,
   "metadata": {
    "colab": {
     "base_uri": "https://localhost:8080/"
    },
    "id": "9LOf1pLAviZU",
    "outputId": "88a0a624-c323-4777-81e3-8a8191f9bac1"
   },
   "outputs": [
    {
     "data": {
      "text/plain": [
       "{'status': 'ok',\n",
       " 'totalResults': 20309,\n",
       " 'articles': [{'source': {'id': None, 'name': 'Yahoo Entertainment'},\n",
       "   'author': 'Will Shanklin',\n",
       "   'title': 'Apple Intelligence is coming to EU iPhones and iPads in April',\n",
       "   'description': 'Folks in the European Union finally know when Apple Intelligence will be available on their mobile devices. Apple told EU users on Monday that its AI suite will arrive in April 2025. The first Apple Intelligence features, including Writing Tools and AI notifi…',\n",
       "   'url': 'https://consent.yahoo.com/v2/collectConsent?sessionId=1_cc-session_9e418204-613e-41ea-849e-1acac15729e7',\n",
       "   'urlToImage': None,\n",
       "   'publishedAt': '2024-10-28T19:10:28Z',\n",
       "   'content': \"If you click 'Accept all', we and our partners, including 237 who are part of the IAB Transparency &amp; Consent Framework, will also store and/or access information on a device (in other words, use … [+678 chars]\"},\n",
       "  {'source': {'id': None, 'name': 'Yahoo Entertainment'},\n",
       "   'author': 'Lawrence Bonk',\n",
       "   'title': 'iOS 18.2 will include daily Sudoku puzzles for Apple News+ subscribers',\n",
       "   'description': 'The long-anticipated iPhone iOS 18.1 officially launches next week\\r\\n, bringing with it Apple Intelligence\\r\\n, but we are already on to the next new thing. The company is busy preparing iOS 18.2\\r\\n, which has already entered its beta stage and should be widely r…',\n",
       "   'url': 'https://consent.yahoo.com/v2/collectConsent?sessionId=1_cc-session_7d792da3-893e-4d23-a5d9-4bce6937dc26',\n",
       "   'urlToImage': None,\n",
       "   'publishedAt': '2024-10-25T16:51:16Z',\n",
       "   'content': \"If you click 'Accept all', we and our partners, including 237 who are part of the IAB Transparency &amp; Consent Framework, will also store and/or access information on a device (in other words, use … [+678 chars]\"},\n",
       "  {'source': {'id': None, 'name': '[Removed]'},\n",
       "   'author': None,\n",
       "   'title': '[Removed]',\n",
       "   'description': '[Removed]',\n",
       "   'url': 'https://removed.com',\n",
       "   'urlToImage': None,\n",
       "   'publishedAt': '2024-10-29T11:16:45Z',\n",
       "   'content': '[Removed]'},\n",
       "  {'source': {'id': None, 'name': 'Yahoo Entertainment'},\n",
       "   'author': 'Will Shanklin',\n",
       "   'title': 'Everything Apple announced during its unofficial Mac Week',\n",
       "   'description': 'Following the illustrious line of calendar-spanning corporate events like Lobsterfest and Shark Week, Apple tried something new this year with a celebration unofficially known as Mac Week. (Fortunately for Apple, it just so happens to coincide with its earnin…',\n",
       "   'url': 'https://consent.yahoo.com/v2/collectConsent?sessionId=1_cc-session_c32e977d-97fc-463b-bc24-4576a92cbe19',\n",
       "   'urlToImage': None,\n",
       "   'publishedAt': '2024-10-30T21:01:15Z',\n",
       "   'content': \"If you click 'Accept all', we and our partners, including 237 who are part of the IAB Transparency &amp; Consent Framework, will also store and/or access information on a device (in other words, use … [+678 chars]\"},\n",
       "  {'source': {'id': None, 'name': '[Removed]'},\n",
       "   'author': None,\n",
       "   'title': '[Removed]',\n",
       "   'description': '[Removed]',\n",
       "   'url': 'https://removed.com',\n",
       "   'urlToImage': None,\n",
       "   'publishedAt': '2024-10-30T20:45:49Z',\n",
       "   'content': '[Removed]'},\n",
       "  {'source': {'id': None, 'name': '[Removed]'},\n",
       "   'author': None,\n",
       "   'title': '[Removed]',\n",
       "   'description': '[Removed]',\n",
       "   'url': 'https://removed.com',\n",
       "   'urlToImage': None,\n",
       "   'publishedAt': '2024-10-28T15:12:51Z',\n",
       "   'content': '[Removed]'},\n",
       "  {'source': {'id': None, 'name': 'Yahoo Entertainment'},\n",
       "   'author': 'Kris Holt',\n",
       "   'title': 'Apple unveils its top-of-the-line M4 Max chip',\n",
       "   'description': 'Apple is continuing its week of announcements by revealing the latest MacBook Pro lineup, as well as its new top-of-the-line chip. The M4 Max has a 40-core GPU — double the number of cores found in the M4 Pro\\r\\n that the company revealed this week. It has a 16…',\n",
       "   'url': 'https://consent.yahoo.com/v2/collectConsent?sessionId=1_cc-session_0158981c-d68b-4ed0-8507-1fdc9277bfed',\n",
       "   'urlToImage': None,\n",
       "   'publishedAt': '2024-10-30T15:02:41Z',\n",
       "   'content': \"If you click 'Accept all', we and our partners, including 237 who are part of the IAB Transparency &amp; Consent Framework, will also store and/or access information on a device (in other words, use … [+678 chars]\"},\n",
       "  {'source': {'id': None, 'name': '[Removed]'},\n",
       "   'author': None,\n",
       "   'title': '[Removed]',\n",
       "   'description': '[Removed]',\n",
       "   'url': 'https://removed.com',\n",
       "   'urlToImage': None,\n",
       "   'publishedAt': '2024-10-25T20:42:41Z',\n",
       "   'content': '[Removed]'},\n",
       "  {'source': {'id': None, 'name': 'Yahoo Entertainment'},\n",
       "   'author': 'Kris Holt',\n",
       "   'title': 'Apple Intelligence starts rolling out with iOS 18.1 and macOS 15.1',\n",
       "   'description': 'The wait is finally over. Apple Intelligence is making its proper debut with the public releases of iOS 18.1, iPadOS 18.1 and macOS Sequoia 15.1. Typically, point-one versions of Apple operating systems add minor features and fix bugs, but the Apple Intellige…',\n",
       "   'url': 'https://consent.yahoo.com/v2/collectConsent?sessionId=1_cc-session_6af3306f-73b8-42a8-8b5b-6114e6e7025e',\n",
       "   'urlToImage': None,\n",
       "   'publishedAt': '2024-10-28T15:10:23Z',\n",
       "   'content': \"If you click 'Accept all', we and our partners, including 237 who are part of the IAB Transparency &amp; Consent Framework, will also store and/or access information on a device (in other words, use … [+678 chars]\"},\n",
       "  {'source': {'id': None, 'name': '[Removed]'},\n",
       "   'author': None,\n",
       "   'title': '[Removed]',\n",
       "   'description': '[Removed]',\n",
       "   'url': 'https://removed.com',\n",
       "   'urlToImage': None,\n",
       "   'publishedAt': '2024-10-29T15:05:49Z',\n",
       "   'content': '[Removed]'},\n",
       "  {'source': {'id': None, 'name': '[Removed]'},\n",
       "   'author': None,\n",
       "   'title': '[Removed]',\n",
       "   'description': '[Removed]',\n",
       "   'url': 'https://removed.com',\n",
       "   'urlToImage': None,\n",
       "   'publishedAt': '2024-10-28T13:39:07Z',\n",
       "   'content': '[Removed]'},\n",
       "  {'source': {'id': None, 'name': '[Removed]'},\n",
       "   'author': None,\n",
       "   'title': '[Removed]',\n",
       "   'description': '[Removed]',\n",
       "   'url': 'https://removed.com',\n",
       "   'urlToImage': None,\n",
       "   'publishedAt': '2024-10-27T21:04:12Z',\n",
       "   'content': '[Removed]'},\n",
       "  {'source': {'id': None, 'name': '[Removed]'},\n",
       "   'author': None,\n",
       "   'title': '[Removed]',\n",
       "   'description': '[Removed]',\n",
       "   'url': 'https://removed.com',\n",
       "   'urlToImage': None,\n",
       "   'publishedAt': '2024-10-31T13:15:01Z',\n",
       "   'content': '[Removed]'},\n",
       "  {'source': {'id': None, 'name': '[Removed]'},\n",
       "   'author': None,\n",
       "   'title': '[Removed]',\n",
       "   'description': '[Removed]',\n",
       "   'url': 'https://removed.com',\n",
       "   'urlToImage': None,\n",
       "   'publishedAt': '2024-11-04T12:52:11Z',\n",
       "   'content': '[Removed]'},\n",
       "  {'source': {'id': None, 'name': '[Removed]'},\n",
       "   'author': None,\n",
       "   'title': '[Removed]',\n",
       "   'description': '[Removed]',\n",
       "   'url': 'https://removed.com',\n",
       "   'urlToImage': None,\n",
       "   'publishedAt': '2024-10-29T15:00:16Z',\n",
       "   'content': '[Removed]'},\n",
       "  {'source': {'id': None, 'name': '[Removed]'},\n",
       "   'author': None,\n",
       "   'title': '[Removed]',\n",
       "   'description': '[Removed]',\n",
       "   'url': 'https://removed.com',\n",
       "   'urlToImage': None,\n",
       "   'publishedAt': '2024-11-06T15:59:39Z',\n",
       "   'content': '[Removed]'},\n",
       "  {'source': {'id': None, 'name': '[Removed]'},\n",
       "   'author': None,\n",
       "   'title': '[Removed]',\n",
       "   'description': '[Removed]',\n",
       "   'url': 'https://removed.com',\n",
       "   'urlToImage': None,\n",
       "   'publishedAt': '2024-10-30T16:45:20Z',\n",
       "   'content': '[Removed]'},\n",
       "  {'source': {'id': None, 'name': '[Removed]'},\n",
       "   'author': None,\n",
       "   'title': '[Removed]',\n",
       "   'description': '[Removed]',\n",
       "   'url': 'https://removed.com',\n",
       "   'urlToImage': None,\n",
       "   'publishedAt': '2024-11-05T14:10:26Z',\n",
       "   'content': '[Removed]'},\n",
       "  {'source': {'id': None, 'name': '[Removed]'},\n",
       "   'author': None,\n",
       "   'title': '[Removed]',\n",
       "   'description': '[Removed]',\n",
       "   'url': 'https://removed.com',\n",
       "   'urlToImage': None,\n",
       "   'publishedAt': '2024-10-30T11:17:12Z',\n",
       "   'content': '[Removed]'},\n",
       "  {'source': {'id': None, 'name': '[Removed]'},\n",
       "   'author': None,\n",
       "   'title': '[Removed]',\n",
       "   'description': '[Removed]',\n",
       "   'url': 'https://removed.com',\n",
       "   'urlToImage': None,\n",
       "   'publishedAt': '2024-10-30T15:00:55Z',\n",
       "   'content': '[Removed]'},\n",
       "  {'source': {'id': None, 'name': '[Removed]'},\n",
       "   'author': None,\n",
       "   'title': '[Removed]',\n",
       "   'description': '[Removed]',\n",
       "   'url': 'https://removed.com',\n",
       "   'urlToImage': None,\n",
       "   'publishedAt': '2024-10-31T17:30:49Z',\n",
       "   'content': '[Removed]'},\n",
       "  {'source': {'id': None, 'name': '[Removed]'},\n",
       "   'author': None,\n",
       "   'title': '[Removed]',\n",
       "   'description': '[Removed]',\n",
       "   'url': 'https://removed.com',\n",
       "   'urlToImage': None,\n",
       "   'publishedAt': '2024-11-04T13:00:20Z',\n",
       "   'content': '[Removed]'},\n",
       "  {'source': {'id': None, 'name': '[Removed]'},\n",
       "   'author': None,\n",
       "   'title': '[Removed]',\n",
       "   'description': '[Removed]',\n",
       "   'url': 'https://removed.com',\n",
       "   'urlToImage': None,\n",
       "   'publishedAt': '2024-10-30T17:30:14Z',\n",
       "   'content': '[Removed]'},\n",
       "  {'source': {'id': None, 'name': '[Removed]'},\n",
       "   'author': None,\n",
       "   'title': '[Removed]',\n",
       "   'description': '[Removed]',\n",
       "   'url': 'https://removed.com',\n",
       "   'urlToImage': None,\n",
       "   'publishedAt': '2024-11-06T14:03:28Z',\n",
       "   'content': '[Removed]'},\n",
       "  {'source': {'id': None, 'name': '[Removed]'},\n",
       "   'author': None,\n",
       "   'title': '[Removed]',\n",
       "   'description': '[Removed]',\n",
       "   'url': 'https://removed.com',\n",
       "   'urlToImage': None,\n",
       "   'publishedAt': '2024-11-02T14:00:46Z',\n",
       "   'content': '[Removed]'},\n",
       "  {'source': {'id': None, 'name': '[Removed]'},\n",
       "   'author': None,\n",
       "   'title': '[Removed]',\n",
       "   'description': '[Removed]',\n",
       "   'url': 'https://removed.com',\n",
       "   'urlToImage': None,\n",
       "   'publishedAt': '2024-11-05T11:00:54Z',\n",
       "   'content': '[Removed]'},\n",
       "  {'source': {'id': None, 'name': '[Removed]'},\n",
       "   'author': None,\n",
       "   'title': '[Removed]',\n",
       "   'description': '[Removed]',\n",
       "   'url': 'https://removed.com',\n",
       "   'urlToImage': None,\n",
       "   'publishedAt': '2024-11-02T16:13:57Z',\n",
       "   'content': '[Removed]'},\n",
       "  {'source': {'id': None, 'name': '[Removed]'},\n",
       "   'author': None,\n",
       "   'title': '[Removed]',\n",
       "   'description': '[Removed]',\n",
       "   'url': 'https://removed.com',\n",
       "   'urlToImage': None,\n",
       "   'publishedAt': '2024-11-05T19:40:55Z',\n",
       "   'content': '[Removed]'},\n",
       "  {'source': {'id': None, 'name': 'Yahoo Entertainment'},\n",
       "   'author': 'Jeff Dunn,Valentina Palladino',\n",
       "   'title': 'Black Friday 2024: The best early deals we could find from Amazon, Best Buy and more',\n",
       "   'description': 'Black Friday may technically just be one day, but it’s evolved to consume the entire month of November in the US at this point. For the past few years, retailers like Amazon, Walmart and Target have ushered in the holiday shopping season earlier and earlier, …',\n",
       "   'url': 'https://consent.yahoo.com/v2/collectConsent?sessionId=1_cc-session_66547d46-15e1-4727-8aa5-5723f6ae9505',\n",
       "   'urlToImage': None,\n",
       "   'publishedAt': '2024-11-06T16:13:12Z',\n",
       "   'content': \"If you click 'Accept all', we and our partners, including 237 who are part of the IAB Transparency &amp; Consent Framework, will also store and/or access information on a device (in other words, use … [+678 chars]\"},\n",
       "  {'source': {'id': None, 'name': 'Yahoo Entertainment'},\n",
       "   'author': 'Daniel Cooper',\n",
       "   'title': 'The Morning After: Apple’s Week of Announcements starts Monday',\n",
       "   'description': 'If you’re fluent with concepts like release schedules and calendars, you may notice Apple hasn’t updated its computers in a while. It’s nearly a full year since the iMac and MacBook Pro got speed bumps, and just over a year for the Mac Pro and Mac Studio. Now…',\n",
       "   'url': 'https://consent.yahoo.com/v2/collectConsent?sessionId=1_cc-session_fff9f5be-a2f9-47ac-97ca-ed507d083a72',\n",
       "   'urlToImage': None,\n",
       "   'publishedAt': '2024-10-25T11:15:15Z',\n",
       "   'content': \"If you click 'Accept all', we and our partners, including 237 who are part of the IAB Transparency &amp; Consent Framework, will also store and/or access information on a device (in other words, use … [+678 chars]\"},\n",
       "  {'source': {'id': None, 'name': 'Yahoo Entertainment'},\n",
       "   'author': 'Amy Skorheim',\n",
       "   'title': \"The M2 MacBook Air is cheaper than ever at $700, plus the rest of this week's best tech deals\",\n",
       "   'description': \"Black Friday/Cyber Monday is more than a month away (Thanksgiving falls on November 28 this year — I looked it up so you don't have to). So while we wait for all of the best-of-the-year discounts the shopping event usually entails, there are still a few worth…\",\n",
       "   'url': 'https://consent.yahoo.com/v2/collectConsent?sessionId=1_cc-session_d2acb20b-6598-45ac-a5bf-921ae6fe59d5',\n",
       "   'urlToImage': None,\n",
       "   'publishedAt': '2024-10-25T17:10:31Z',\n",
       "   'content': \"If you click 'Accept all', we and our partners, including 237 who are part of the IAB Transparency &amp; Consent Framework, will also store and/or access information on a device (in other words, use … [+678 chars]\"},\n",
       "  {'source': {'id': None, 'name': 'Yahoo Entertainment'},\n",
       "   'author': 'Mat Smith',\n",
       "   'title': 'The Morning After: FBI warns about fake election security videos',\n",
       "   'description': 'At the start of the weekend, the FBI issued a statement addressing videos “falsely claiming to be from the FBI relating to election security.” That includes one claiming the bureau had “apprehended three linked groups committing ballot fraud,” and one about K…',\n",
       "   'url': 'https://consent.yahoo.com/v2/collectConsent?sessionId=1_cc-session_b9eb8022-f630-4fe4-8a69-f7af310b2047',\n",
       "   'urlToImage': None,\n",
       "   'publishedAt': '2024-11-04T12:15:03Z',\n",
       "   'content': \"If you click 'Accept all', we and our partners, including 237 who are part of the IAB Transparency &amp; Consent Framework, will also store and/or access information on a device (in other words, use … [+678 chars]\"},\n",
       "  {'source': {'id': None, 'name': '[Removed]'},\n",
       "   'author': None,\n",
       "   'title': '[Removed]',\n",
       "   'description': '[Removed]',\n",
       "   'url': 'https://removed.com',\n",
       "   'urlToImage': None,\n",
       "   'publishedAt': '2024-11-04T10:01:27Z',\n",
       "   'content': '[Removed]'},\n",
       "  {'source': {'id': None, 'name': 'Yahoo Entertainment'},\n",
       "   'author': 'Valentina Palladino',\n",
       "   'title': 'Kindle Colorsoft review: The missing link in Amazon’s ereader lineup',\n",
       "   'description': 'Well, it finally happened. After years of waiting and requests, Amazon debuted the $280 Kindle Colorsoft, its first ereader with a color display. The company’s ereaders have dominated this space since the original Kindle came out 17 years ago, but in this cas…',\n",
       "   'url': 'https://consent.yahoo.com/v2/collectConsent?sessionId=1_cc-session_b1261346-3b77-43e5-9c88-2ed04a0f22fb',\n",
       "   'urlToImage': None,\n",
       "   'publishedAt': '2024-10-30T13:15:29Z',\n",
       "   'content': \"If you click 'Accept all', we and our partners, including 237 who are part of the IAB Transparency &amp; Consent Framework, will also store and/or access information on a device (in other words, use … [+678 chars]\"},\n",
       "  {'source': {'id': 'wired', 'name': 'Wired'},\n",
       "   'author': 'Brenda Stolyar',\n",
       "   'title': 'Mac Mini (2024): Specs, Release Date, Price, Features',\n",
       "   'description': 'This desktop computer has its first design change since 2010, with a smaller footprint, vents at the bottom, and ports on the front.',\n",
       "   'url': 'https://www.wired.com/story/apple-mac-mini-2024/',\n",
       "   'urlToImage': 'https://media.wired.com/photos/672053fafe5589c5d79e9f90/191:100/w_1280,c_limit/Gear_Apple-Mac-mini-front-facing-ports-pink.jpg',\n",
       "   'publishedAt': '2024-10-29T15:00:00Z',\n",
       "   'content': \"There's Shark Week, and then there's Mac Week. It's a little less exciting, but Apple first announced a new iMac yesterday, and today we're being treated to a new Mac Mini. Tomorrow, there's a good c… [+2268 chars]\"},\n",
       "  {'source': {'id': 'wired', 'name': 'Wired'},\n",
       "   'author': 'Simon Lucas',\n",
       "   'title': 'Technics SC-CX700 Review: Faithful Musical Reproduction',\n",
       "   'description': 'These gorgeous powered speakers bring some much-needed competition to KEF’s LS50 line.',\n",
       "   'url': 'https://www.wired.com/review/technics-sc-cx700/',\n",
       "   'urlToImage': 'https://media.wired.com/photos/671fef072c4f080bbb754e8e/191:100/w_1280,c_limit/Technics-SC-CX700-Wireless-Speakers-Reviewer-Collage-102024-SOURCE-Parker-Hall.jpg',\n",
       "   'publishedAt': '2024-10-29T14:03:00Z',\n",
       "   'content': 'The primary speaker features a few physical controls across its top surface, but greater control is available via an unglamorous remote control handset. Theres also the Technics Audio Center control … [+1739 chars]'},\n",
       "  {'source': {'id': 'wired', 'name': 'Wired'},\n",
       "   'author': 'Makena Kelly',\n",
       "   'title': 'A Running List of the Tech CEOs Donald Trump Claims Are Calling Him to Suck Up',\n",
       "   'description': \"Some of the most powerful people in Silicon Valley appear to be quietly sitting out the presidential election cycle. But Trump says that in private, it's a different story.\",\n",
       "   'url': 'https://www.wired.com/story/tech-ceos-trump-claims-are-courting-him/',\n",
       "   'urlToImage': 'https://media.wired.com/photos/671f9d3d2c0fb6f2c687a28a/191:100/w_1280,c_limit/GettyImages-2176994436.jpg',\n",
       "   'publishedAt': '2024-10-28T18:08:54Z',\n",
       "   'content': 'With only a few days left until the US presidential election, Donald Trump is claiming that some of Silicon Valleys most powerful billionaires and tech leaders are seeking him out.\\r\\nMany of these lea… [+2154 chars]'},\n",
       "  {'source': {'id': 'the-verge', 'name': 'The Verge'},\n",
       "   'author': 'Justine Calma',\n",
       "   'title': 'Apple News will let you watch election results from your lockscreen',\n",
       "   'description': 'On Election Day in the US, Apple News is rolling out live results to lockscreens.',\n",
       "   'url': 'https://www.theverge.com/2024/11/5/24288777/election-results-apple-news-lock-screen',\n",
       "   'urlToImage': 'https://cdn.vox-cdn.com/thumbor/ClkCB_h7ezkPo-bmQ9twzhBOHc4=/0x0:2040x1360/1200x628/filters:focal(1020x680:1021x681)/cdn.vox-cdn.com/uploads/chorus_asset/file/25697390/STK071_APPLE_H.jpg',\n",
       "   'publishedAt': '2024-11-05T16:34:12Z',\n",
       "   'content': 'Image: Cath Virginia / The Verge\\r\\n\\n \\n\\n For anyone obsessively watching election results in the US, Apple News will bring live updates to iPhone and iPad users’ lockscreens. And if you’ve got a recent… [+950 chars]'},\n",
       "  {'source': {'id': 'the-verge', 'name': 'The Verge'},\n",
       "   'author': 'Antonio G. Di Benedetto',\n",
       "   'title': 'All the news from Apple’s ‘week’ of Mac announcements',\n",
       "   'description': 'Apple is announcing an M4 MacBook Pro, an M4 iMac, and a redesigned M4 Mac Mini. Here’s all the news on Apple’s latest Macs.',\n",
       "   'url': 'https://www.theverge.com/24279307/apple-mac-m4-updates-news-announcements',\n",
       "   'urlToImage': 'https://cdn.vox-cdn.com/thumbor/leY81221X3PjSymyEVG7k6RKfb8=/0x0:2040x1360/1200x628/filters:focal(1020x680:1021x681)/cdn.vox-cdn.com/uploads/chorus_asset/file/25697396/STK071_APPLE_M.jpg',\n",
       "   'publishedAt': '2024-10-28T10:00:00Z',\n",
       "   'content': 'New Macs are coming. Apple has teased a week of announcements around the Mac starting on Monday, October 28th. And after months of leaks, we have a pretty good idea of whats in the cards.\\r\\nApple is l… [+7161 chars]'},\n",
       "  {'source': {'id': 'the-verge', 'name': 'The Verge'},\n",
       "   'author': 'Jay Peters',\n",
       "   'title': 'A first look at Apple’s redesigned Mac Mini and its other new Macs',\n",
       "   'description': 'Apple has officially announced its M4-equipped Mac Minis, iMacs, and MacBook Pros, and we were able to take photos of the new computers.',\n",
       "   'url': 'https://www.theverge.com/2024/10/30/24283861/apple-redesigned-mac-mini-macbook-pro-imac-m4-photos',\n",
       "   'urlToImage': 'https://cdn.vox-cdn.com/thumbor/F8dk3-nYCIV4ini-dVFFXi1_wQI=/0x0:2040x1361/1200x628/filters:focal(1020x681:1021x682)/cdn.vox-cdn.com/uploads/chorus_asset/file/25706946/214A8906.jpg',\n",
       "   'publishedAt': '2024-10-30T19:30:00Z',\n",
       "   'content': 'A first look at Apples redesigned Mac Mini and its other new Macs\\r\\nA first look at Apples redesigned Mac Mini and its other new Macs\\r\\n / The Mac Mini is indeed very mini.\\r\\nByJay Peters, a news editor… [+1212 chars]'},\n",
       "  {'source': {'id': 'the-verge', 'name': 'The Verge'},\n",
       "   'author': 'Jay Peters',\n",
       "   'title': 'Apple put the Magic Mouse’s charging port on the bottom again',\n",
       "   'description': 'Apple just announced a new version of the Magic Mouse, and it still has the charging port on the underside of the device.',\n",
       "   'url': 'https://www.theverge.com/2024/10/28/24276043/apple-new-usb-c-magic-mouse-charging-port-bottom',\n",
       "   'urlToImage': 'https://cdn.vox-cdn.com/thumbor/BIixQ1Q-A0AX1thL1K-yyzOX-QY=/0x0:1590x994/1200x628/filters:focal(888x442:889x443)/cdn.vox-cdn.com/uploads/chorus_asset/file/25703120/Screenshot_2024_10_28_at_11.33.03_AM.png',\n",
       "   'publishedAt': '2024-10-28T15:42:23Z',\n",
       "   'content': 'Yup, it’s still there. | Image: Apple\\r\\n\\n \\n\\n Apple’s new USB-C-equipped Magic Mouse somehow still has the charging port on the bottom. While Apple could have used the launch as an opportunity to move … [+788 chars]'},\n",
       "  {'source': {'id': 'the-verge', 'name': 'The Verge'},\n",
       "   'author': 'Quentyn Kennemer',\n",
       "   'title': 'Here’s where you can preorder Apple’s colorful M4 iMac (and what’s included)',\n",
       "   'description': 'The new M4-based iMac doesn’t launch until November 8, but you can already preorder it starting at $1,299. Here’s what you should know about the various configurations.',\n",
       "   'url': 'https://www.theverge.com/24279801/apple-macbook-pro-mac-mini-imac-m4-preorder-buy-price-release-date',\n",
       "   'urlToImage': 'https://cdn.vox-cdn.com/thumbor/HSS-ceWx4hofzOmjNARnTnvb_j8=/0x0:1646x1097/1200x628/filters:focal(823x549:824x550)/cdn.vox-cdn.com/uploads/chorus_asset/file/25703112/Apple_iMac_M4_lifestyle_24_inch_Retina_display.jpg',\n",
       "   'publishedAt': '2024-10-28T17:48:41Z',\n",
       "   'content': 'Heres where you can preorder Apples colorful M4 iMac (and whats included)\\r\\nHeres where you can preorder Apples colorful M4 iMac (and whats included)\\r\\n / The new all-in-one will arrive on November 8th… [+2918 chars]'},\n",
       "  {'source': {'id': 'the-verge', 'name': 'The Verge'},\n",
       "   'author': 'Sheena Vasani',\n",
       "   'title': 'Kids with Android phones will be able to use Google Wallet tap-to-pay soon',\n",
       "   'description': 'Google will soon let children use Google Wallet and its tap-to-pay feature on Android phones, which debuted earlier this year with the Fitbit Ace LTE.',\n",
       "   'url': 'https://www.theverge.com/2024/10/30/24283825/android-phones-google-wallet-tap-to-pay-fitbit-ace-lte',\n",
       "   'urlToImage': 'https://cdn.vox-cdn.com/thumbor/a1UuqmTXeWu_sDyVAVipeGpIQ0s=/0x0:2040x1360/1200x628/filters:focal(1020x680:1021x681)/cdn.vox-cdn.com/uploads/chorus_asset/file/24016885/STK093_Google_04.jpg',\n",
       "   'publishedAt': '2024-10-30T19:54:12Z',\n",
       "   'content': 'Kids with Android phones will be able to use Google Wallet tap-to-pay soon\\r\\nKids with Android phones will be able to use Google Wallet tap-to-pay soon\\r\\n / Like Apple Pay, Google Wallet will let kids … [+1595 chars]'},\n",
       "  {'source': {'id': 'the-verge', 'name': 'The Verge'},\n",
       "   'author': 'Umar Shakir',\n",
       "   'title': 'Watch Apple’s M4 MacBook Pro announcement video',\n",
       "   'description': 'Apple’s new MacBook Pros with M4 chips are here. The announcement comes in a new video segment following the new iMac and Mac Mini ones this week.',\n",
       "   'url': 'https://www.theverge.com/2024/10/30/24283485/apple-macbook-pro-m4-max-announcement-watch-video',\n",
       "   'urlToImage': 'https://cdn.vox-cdn.com/thumbor/2ndj8uSu0Gz4g0x04FNjOwzrpQ0=/0x0:2880x1920/1200x628/filters:focal(1440x960:1441x961)/cdn.vox-cdn.com/uploads/chorus_asset/file/25706574/Screenshot_2024_10_30_at_11.16.40_AM.jpeg',\n",
       "   'publishedAt': '2024-10-30T15:20:24Z',\n",
       "   'content': 'Watch Apples M4 MacBook Pro announcement video\\r\\nWatch Apples M4 MacBook Pro announcement video\\r\\n / Apples segmented hardware announcements continue this week with a new video featuring the new M4 Max… [+2155 chars]'},\n",
       "  {'source': {'id': 'the-verge', 'name': 'The Verge'},\n",
       "   'author': 'Emma Roth',\n",
       "   'title': 'iOS 18.2 could finally estimate your iPhone’s charging time',\n",
       "   'description': 'iOS 18.2 could include a new “BatteryIntelligence” feature that shows how long it’ll take to charge your iPhone, according to code spotted by 9to5Mac.',\n",
       "   'url': 'https://www.theverge.com/2024/11/5/24288986/ios-18-2-could-finally-estimate-your-iphones-charging-time',\n",
       "   'urlToImage': 'https://cdn.vox-cdn.com/thumbor/QHlxVJniAoluU1xpnHD_AX5XYZc=/0x0:2700x1800/1200x628/filters:focal(1350x900:1351x901)/cdn.vox-cdn.com/uploads/chorus_asset/file/25626295/247263_iphone_16_pro_AKrales_0799.jpg',\n",
       "   'publishedAt': '2024-11-05T21:23:41Z',\n",
       "   'content': 'Photo by Amelia Holowaty Krales / The Verge\\r\\n\\n \\n\\n The iPhone could finally show you how long it’ll take to finish charging. Code spotted in the second iOS 18.2 beta by 9to5Mac shows a new “BatteryInt… [+790 chars]'},\n",
       "  {'source': {'id': 'the-verge', 'name': 'The Verge'},\n",
       "   'author': 'Sarah Jeong',\n",
       "   'title': 'If the Electoral College has invaded your phone screen, here’s how to get rid of it',\n",
       "   'description': 'How to enable and disable the Washington Post’s iPhone electoral college widget results on the Dynamic Island for the 2024 Presidential Election.',\n",
       "   'url': 'https://www.theverge.com/2024/11/5/24289313/washington-post-toggle-election-night-ios',\n",
       "   'urlToImage': 'https://cdn.vox-cdn.com/thumbor/bRHgqWfyfGU3g8L1_p1jk445ZVM=/0x0:1206x1113/1200x628/filters:focal(584x176:585x177)/cdn.vox-cdn.com/uploads/chorus_asset/file/25717638/IMG_0478.PNG',\n",
       "   'publishedAt': '2024-11-06T03:03:50Z',\n",
       "   'content': 'If the Electoral College has invaded your phone screen, heres how to get rid of it\\r\\nIf the Electoral College has invaded your phone screen, heres how to get rid of it\\r\\n / I turned off the Washington … [+1683 chars]'},\n",
       "  {'source': {'id': 'the-verge', 'name': 'The Verge'},\n",
       "   'author': 'David Pierce',\n",
       "   'title': 'The VR game I’ve been waiting for',\n",
       "   'description': 'Plus: the Boox Palma 2, a new version of the Vivaldi browser and the Inoreader RSS app, Anthropic’s new computer use feature, and more in this week’s Installer.',\n",
       "   'url': 'https://www.theverge.com/2024/10/27/24279432/batman-arkham-shadow-vr-quest-boox-palma-2-installer',\n",
       "   'urlToImage': 'https://cdn.vox-cdn.com/thumbor/LApTjjCUTs6utFnepWbfCWRub80=/0x0:2169x1446/1200x628/filters:focal(1085x723:1086x724)/cdn.vox-cdn.com/uploads/chorus_asset/file/25698443/Installer_58.png',\n",
       "   'publishedAt': '2024-10-27T12:00:00Z',\n",
       "   'content': 'The VR game Ive been waiting for\\r\\nThe VR game Ive been waiting for\\r\\n / Plus, in this weeks Installer: Another great new reading gadget, a new RSS reader, a new browser worth trying, and much more.\\r\\nB… [+11197 chars]'},\n",
       "  {'source': {'id': 'the-verge', 'name': 'The Verge'},\n",
       "   'author': 'Jay Peters',\n",
       "   'title': 'Nintendo’s music app has great ideas and frustrating limitations',\n",
       "   'description': 'Nintendo Music works well, but it has a small selection of Nintendo soundtracks to listen to and some annoying features that bring the experience down.',\n",
       "   'url': 'https://www.theverge.com/2024/11/5/24288201/nintendo-music-streaming-hands-on-impressions',\n",
       "   'urlToImage': 'https://cdn.vox-cdn.com/thumbor/yz8VkjJy7St3660Ef1Xao8RFtr8=/0x0:5332x3000/1200x628/filters:focal(2666x1500:2667x1501)/cdn.vox-cdn.com/uploads/chorus_asset/file/25716465/NM_illu02.jpg',\n",
       "   'publishedAt': '2024-11-05T15:00:00Z',\n",
       "   'content': 'Nintendos music app has great ideas and frustrating limitations\\r\\nNintendos music app has great ideas and frustrating limitations\\r\\n / Its a good place to listen to K.K. Sliders repertoire, but the app… [+5156 chars]'},\n",
       "  {'source': {'id': None, 'name': 'Gizmodo.com'},\n",
       "   'author': 'Gizmodo Deals',\n",
       "   'title': 'Just Before Black Friday, Amazon is Slashing Prices on The New MacBook Air With The XL 15-Inch Display',\n",
       "   'description': 'Amazon Slashes Prices on the Latest Apple Ultrabook.',\n",
       "   'url': 'https://gizmodo.com/just-before-black-friday-amazon-is-slashing-prices-on-the-new-macbook-air-with-the-xl-15-inch-display-2000520066',\n",
       "   'urlToImage': 'https://gizmodo.com/app/uploads/2024/08/macbook-air-m3.jpg',\n",
       "   'publishedAt': '2024-11-03T22:25:07Z',\n",
       "   'content': 'Launched in March, the latest 256GB MacBook Air M3 15-inch is making waves this early Black Friday with a great deal on Amazon. Currently priced at $1,091 down from its original price of $1,299 for t… [+2539 chars]'},\n",
       "  {'source': {'id': None, 'name': 'Gizmodo.com'},\n",
       "   'author': 'Joe Tilleli',\n",
       "   'title': 'A Grade-A Refurbished MacBook Air Costs the Same as Apple AirPods Pro',\n",
       "   'description': 'The Apple MacBook Air (Grade-A refurbished) is going for just $250 (74% off) at StackSocial.',\n",
       "   'url': 'https://gizmodo.com/a-grade-a-refurbished-macbook-air-costs-the-same-as-apple-airpods-pro-2000520736',\n",
       "   'urlToImage': 'https://gizmodo.com/app/uploads/2024/11/MacGradeA.jpg',\n",
       "   'publishedAt': '2024-11-05T18:34:49Z',\n",
       "   'content': 'Black Friday is only a few short weeks away. It’s a great weekend to get your gift shopping for the upcoming holidays finished or to just treat yourself to some new tech you’ve had your eye on for aw… [+2113 chars]'},\n",
       "  {'source': {'id': None, 'name': 'Gizmodo.com'},\n",
       "   'author': 'Gizmodo Deals',\n",
       "   'title': 'Beats Solo 4 at 50% Off: Did Amazon Get Apple’s Approval for This Insane Price?',\n",
       "   'description': 'These Apple-owned headphones are the best you can get for under $100.',\n",
       "   'url': 'https://gizmodo.com/beats-solo-4-at-50-off-did-amazon-get-apples-approval-for-this-insane-price-2000519375',\n",
       "   'urlToImage': 'https://gizmodo.com/app/uploads/2024/10/beats-solo-4-2.jpg',\n",
       "   'publishedAt': '2024-11-02T12:40:58Z',\n",
       "   'content': 'Amazon has launched what appears to be an early Black Friday sale and offers the recently released Beats Solo 4 headphones at an incredible $99 down from their regular price of $199. This 50% discoun… [+2037 chars]'},\n",
       "  {'source': {'id': None, 'name': 'Gizmodo.com'},\n",
       "   'author': 'Dua Rashid',\n",
       "   'title': 'Future Apple Watches Could Have Sensors Embedded in the Bands',\n",
       "   'description': 'These sensors would be able to track things like blood pressure, and respiration rate measurements.',\n",
       "   'url': 'https://gizmodo.com/future-apple-watches-sensors-embedded-in-the-bands-2000521187',\n",
       "   'urlToImage': 'https://gizmodo.com/app/uploads/2024/11/apple-watch.jpg',\n",
       "   'publishedAt': '2024-11-06T20:46:03Z',\n",
       "   'content': 'Apple recently realized it could make its watch even smarter by adding sensors to the band and the dial. A recent report reveals that the Cupertino company was granted 38 patents on November 5, 2024,… [+2326 chars]'},\n",
       "  {'source': {'id': None, 'name': 'Gizmodo.com'},\n",
       "   'author': 'Dua Rashid',\n",
       "   'title': 'AirPods Pro 2 Hearing Health Features Hands-On',\n",
       "   'description': \"The Apple AirPods Pro 2 hearing health features are finally live. Here's how to accessing the features as well as some troubleshooting tips, and what the results mean.\",\n",
       "   'url': 'https://gizmodo.com/airpods-pro-2-hearing-health-features-hands-on-2000519730',\n",
       "   'urlToImage': 'https://gizmodo.com/app/uploads/2024/10/airpods-pro-2-2.jpg',\n",
       "   'publishedAt': '2024-11-05T11:30:00Z',\n",
       "   'content': 'While the latest AirPods 4 unveiled at Apples Glowtime event didnt really impress us, another audio-related announcement did: the AirPods Pros hearing health update. Apple announced at its latest eve… [+5579 chars]'},\n",
       "  {'source': {'id': None, 'name': 'Gizmodo.com'},\n",
       "   'author': 'Dua Rashid',\n",
       "   'title': 'Samsung Teases Its Own Headset to Rival the Apple Vision Pro in 2025',\n",
       "   'description': 'The headset will likely be priced between $1,000 and $1,500 competing with both the Apple Vision Pro and the Meta Quest 3.',\n",
       "   'url': 'https://gizmodo.com/samsung-teases-its-own-headset-to-rival-the-apple-vision-pro-in-2025-2000519410',\n",
       "   'urlToImage': 'https://gizmodo.com/app/uploads/2024/11/apple-vision-pro.jpg',\n",
       "   'publishedAt': '2024-11-01T17:39:39Z',\n",
       "   'content': 'Samsung has been toying with the idea of releasing its own XR (extended reality) headset for around a year. In a recently released earnings call, it said it aims to “improve connectivity among produc… [+2333 chars]'},\n",
       "  {'source': {'id': None, 'name': 'Gizmodo.com'},\n",
       "   'author': 'Kyle Barr',\n",
       "   'title': 'Apple Reveals the New 2024 iMac: Familiar on the Outside, but With New Power Inside',\n",
       "   'description': \"Apple showed off a new 24-inch iMac with a variety of color options, though there's still no option for a M4 Pro chip.\",\n",
       "   'url': 'https://gizmodo.com/apple-reveals-the-new-2024-imac-familiar-on-the-outside-but-with-new-power-inside-2000517276',\n",
       "   'urlToImage': 'https://gizmodo.com/app/uploads/2024/10/Apple-iMac-M4-Photoshop.jpg',\n",
       "   'publishedAt': '2024-10-28T15:15:08Z',\n",
       "   'content': 'We werent totally thrilled with Apples 2023 iMac refresh that came stock with the companys newfangled M3 silicon. Still, the Cupertino, California tech giant is ready to get into the ring again with … [+3071 chars]'},\n",
       "  {'source': {'id': None, 'name': 'Gizmodo.com'},\n",
       "   'author': 'Brittany Vincent',\n",
       "   'title': 'Apple iPad 9 Is Now Under $200, Lowest Price Ahead of Black Friday',\n",
       "   'description': \"This iPad is one of the best you'll find in Apple's lineup, and you can get one for one of its lowest prices yet right now.\",\n",
       "   'url': 'https://gizmodo.com/apple-ipad-9-is-now-under-200-lowest-price-ahead-of-black-friday-2000517920',\n",
       "   'urlToImage': 'https://gizmodo.com/app/uploads/2024/10/apple-ipad-9th-generation.jpg',\n",
       "   'publishedAt': '2024-10-29T16:14:26Z',\n",
       "   'content': 'Time to upgrade your tablet? When it comes to portable tech, you can rarely do better than an iPad. Apple’s tablet lineup is well worth investing in, especially if you like to multitask or enjoy your… [+2142 chars]'},\n",
       "  {'source': {'id': None, 'name': 'Gizmodo.com'},\n",
       "   'author': 'Dua Rashid',\n",
       "   'title': 'Apple Plans to Go Retro With Its New Smart Home Display',\n",
       "   'description': 'Picture a HomePod with a display as big as two iPhones placed side by side.',\n",
       "   'url': 'https://gizmodo.com/apple-plans-to-go-retro-with-its-new-smart-home-display-2000517260',\n",
       "   'urlToImage': 'https://gizmodo.com/app/uploads/2024/10/iMac-g4.jpg',\n",
       "   'publishedAt': '2024-10-28T16:16:30Z',\n",
       "   'content': 'Apple has reportedly been working on a new smart home device following its not-so-successful range of current offerings, trailing Google’s and Amazon’s alternatives. It’s toying with the idea of givi… [+2178 chars]'},\n",
       "  {'source': {'id': None, 'name': 'Gizmodo.com'},\n",
       "   'author': 'Kyle Barr',\n",
       "   'title': 'Here’s Our First Look at the All-New MacBook Pro Lineup',\n",
       "   'description': 'Hope you weren’t expecting a revolution in the 14- and 16-inch MacBook Pro, though the next slate of high-end MacBooks now come base with 16GB of RAM.',\n",
       "   'url': 'https://gizmodo.com/heres-our-first-look-at-the-all-new-macbook-pro-lineup-2000517291',\n",
       "   'urlToImage': 'https://gizmodo.com/app/uploads/2024/10/Apple-MacBook-Pro-M4-lineup.jpg',\n",
       "   'publishedAt': '2024-10-30T15:09:26Z',\n",
       "   'content': 'Last years spooky-themed MacBook release brought us the ultra-dark MacBook Pro with M3. This years exciting week of Mac news is bringing a lot less Halloween fanfare to Apples tried and true laptop b… [+3191 chars]'},\n",
       "  {'source': {'id': None, 'name': 'Gizmodo.com'},\n",
       "   'author': 'Joe Tilleli',\n",
       "   'title': 'Amazon Cuts Anker’s MagGo UFO Charger Price by 20% for the First Time Before Black Friday',\n",
       "   'description': 'Save 20% on the travel-sized Anker MagSafe Compatible MagGo UFO 3-in-1 charger over at Amazon for a limited time.',\n",
       "   'url': 'https://gizmodo.com/amazon-cuts-ankers-maggo-ufo-charger-price-by-20-for-the-first-time-before-black-friday-2000516712',\n",
       "   'urlToImage': 'https://gizmodo.com/app/uploads/2024/10/Anker3in1.jpg',\n",
       "   'publishedAt': '2024-10-25T19:09:28Z',\n",
       "   'content': 'We an inundated with devices that need to be plugged in every once in awhile. Our phones need to charge, our headphones need to charge, our watches you guessed it need to charge. This can result in c… [+2187 chars]'},\n",
       "  {'source': {'id': None, 'name': 'Gizmodo.com'},\n",
       "   'author': 'Gizmodo Deals',\n",
       "   'title': 'Amazon Clears iPad 9 Stock With 40% Off; There Will Be None Left by Black Friday',\n",
       "   'description': 'An iPad for less than $200 is a new low.',\n",
       "   'url': 'https://gizmodo.com/amazon-clears-ipad-9-stock-with-40-off-there-will-be-none-left-by-black-friday-2000519389',\n",
       "   'urlToImage': 'https://gizmodo.com/app/uploads/2024/09/ipad-9th.jpg',\n",
       "   'publishedAt': '2024-11-02T13:10:21Z',\n",
       "   'content': 'Amazon has unleashed a terrific\\xa0early Black Friday deal on the 9th generation iPad: it just slashed its price to a mere $199 from its original $329. This massive 40% discount matches the lowest price… [+1701 chars]'},\n",
       "  {'source': {'id': None, 'name': 'Gizmodo.com'},\n",
       "   'author': 'Joe Tilleli',\n",
       "   'title': 'Best Buy’s 3-Day Gaming Sale Lets You Save Big on Must-Have Tech from Apple, Samsung, HP, and More',\n",
       "   'description': 'Save upward of $500 on select laptops, headsets, gaming handheld and more during this 3-Day gaming sales event at Best Buy.',\n",
       "   'url': 'https://gizmodo.com/best-buys-3-day-gaming-sale-lets-you-save-big-on-must-have-tech-from-apple-samsung-hp-and-more-2000516620',\n",
       "   'urlToImage': 'https://gizmodo.com/app/uploads/2024/10/BestBuyGamingSale.jpg',\n",
       "   'publishedAt': '2024-10-25T17:20:24Z',\n",
       "   'content': 'We’re in that weird midpoint between the last Amazon Prime Day sales of the year and Black Friday. Still weeks away from all the discounts of the weekend following Thanksgiving, you may think it is i… [+2322 chars]'},\n",
       "  {'source': {'id': None, 'name': 'Gizmodo.com'},\n",
       "   'author': 'Gizmodo Deals',\n",
       "   'title': 'With Nearly 35% Off, This MacBook Pro M3 Is at a Record Low Price on Amazon Before Black Friday',\n",
       "   'description': '$500 Off On A MacBook Pro M3 Is Unprecedented.',\n",
       "   'url': 'https://gizmodo.com/with-nearly-35-off-this-macbook-pro-m3-is-at-a-record-low-price-on-amazon-before-black-friday-2000521082',\n",
       "   'urlToImage': 'https://gizmodo.com/app/uploads/2024/10/macbookpro-2023.jpg',\n",
       "   'publishedAt': '2024-11-06T14:48:05Z',\n",
       "   'content': 'The MacBook Pro M3 was released in late 2023 and continues to be a powerhouse in the laptop market, even with the recent introduction of the M4 series a few days ago. This early Black Friday deal fro… [+2683 chars]'},\n",
       "  {'source': {'id': None, 'name': 'Gizmodo.com'},\n",
       "   'author': 'Gizmodo Deals',\n",
       "   'title': 'Cheaper Than During Prime Day, This MacBook Air M2 at 30% Off Is The First Major Black Friday Deal on Amazon',\n",
       "   'description': 'Slashed in price by amazon ahead of black friday, this macbook air m2 is now cheaper than an ipad pro',\n",
       "   'url': 'https://gizmodo.com/cheaper-than-during-prime-day-this-macbook-air-m2-at-30-off-is-the-first-major-black-friday-deal-on-amazon-2000520536',\n",
       "   'urlToImage': 'https://gizmodo.com/app/uploads/2024/09/MAcBookAir2022.jpg',\n",
       "   'publishedAt': '2024-11-05T12:10:24Z',\n",
       "   'content': 'Amazon has unleashed today an incredible early Black Friday deal that’s sure to catch the eye of Apple fans: the retail giant has slashed the price of the very popular MacBook Air M2 256GB offering i… [+2029 chars]'},\n",
       "  {'source': {'id': None, 'name': 'Gizmodo.com'},\n",
       "   'author': 'Mike Fazioli',\n",
       "   'title': 'Samsung Galaxy Tab S10+ Is Now 70% Off After Trade-In, Much Cheaper Than iPad Pro',\n",
       "   'description': 'Get up to $700 in trade-in credit off the AI-powered Samsung Galaxy Tab 10+ and bring it home for a fraction of the price of an iPad Pro.',\n",
       "   'url': 'https://gizmodo.com/samsung-galaxy-tab-s10-is-now-70-off-after-trade-in-much-cheaper-than-ipad-pro-2000518289',\n",
       "   'urlToImage': 'https://gizmodo.com/app/uploads/2024/10/Galaxy-Tab-S10.jpg',\n",
       "   'publishedAt': '2024-10-30T15:01:23Z',\n",
       "   'content': 'Here’s a trade-in offer you won’t find at any car dealer on the planet Samsung’s offering up to $700 in trade-in credit when you buy the AI-powered Galaxy Tab 10+ tablet. That would be 70% off the re… [+2100 chars]'},\n",
       "  {'source': {'id': None, 'name': 'Gizmodo.com'},\n",
       "   'author': 'Brittany Vincent',\n",
       "   'title': 'The Galaxy Watch 6 Is at a Record-Breaking Low Price, Skip Black Friday Crowds',\n",
       "   'description': 'This Galaxy smartwatch (37% off) has all the features you want, including health and fitness tracking as well as calling, texting and more.',\n",
       "   'url': 'https://gizmodo.com/the-galaxy-watch-6-is-at-a-record-breaking-low-price-skip-black-friday-crowds-2000516531',\n",
       "   'urlToImage': 'https://gizmodo.com/app/uploads/2024/10/samsung-galaxy-watch-6-1.jpg',\n",
       "   'publishedAt': '2024-10-25T16:28:06Z',\n",
       "   'content': 'When it comes to smartwatches, you’ve got plenty of options. If you’re an Apple fan with an iPhone, an Apple Watch is a great pick that’s compatible with the iOS ecosystem. If you’re an Android fan, … [+2238 chars]'},\n",
       "  {'source': {'id': None, 'name': 'Gizmodo.com'},\n",
       "   'author': 'Gizmodo Deals',\n",
       "   'title': 'Amazon Offers AirPods Pro 2 Cheaper Than Prime Day, Looking To Clear Entire Stock By Sunday',\n",
       "   'description': \"It's $10 less than the price offered during Prime Day.\",\n",
       "   'url': 'https://gizmodo.com/amazon-offers-airpods-pro-2-cheaper-than-prime-day-looking-to-clear-entire-stock-by-sunday-2000519464',\n",
       "   'urlToImage': 'https://gizmodo.com/app/uploads/2024/10/airpods-pro-2.jpg',\n",
       "   'publishedAt': '2024-11-02T14:10:14Z',\n",
       "   'content': 'Apple executives might be raising their eyebrows at Amazon’s latest move: the retail giant has unleashed an unprecedented deal on the AirPods Pro 2, slashing the price to a mere $179 from its origina… [+2422 chars]'},\n",
       "  {'source': {'id': None, 'name': 'Gizmodo.com'},\n",
       "   'author': 'Thomas Maxwell',\n",
       "   'title': 'X Says It Has Begun Rolling Out Controversial Change to Block Function',\n",
       "   'description': \"Now when you block someone they won't be able to interact with you, but they can still view your posts.\",\n",
       "   'url': 'https://gizmodo.com/x-says-it-has-begun-rolling-out-controversial-change-to-block-function-2000520055',\n",
       "   'urlToImage': 'https://gizmodo.com/app/uploads/2024/08/Elon-Musks-Twitter-Safe-Space-is-Costing-Bankers-Billions.jpg',\n",
       "   'publishedAt': '2024-11-03T22:30:33Z',\n",
       "   'content': 'X, formerly known as Twitter, says it has begun rolling out a controversial change to its block function. Now when users block someone else, the blocked user will still be able to visit their profile… [+3460 chars]'},\n",
       "  {'source': {'id': None, 'name': 'Gizmodo.com'},\n",
       "   'author': 'Dua Rashid',\n",
       "   'title': 'The AirPods Pro 2 Finally Receive Its Hearing Health Features',\n",
       "   'description': \"You just need to wait for Monday (iOS 18.1's release) to use them.\",\n",
       "   'url': 'https://gizmodo.com/the-airpods-pro-2-finally-receive-its-hearing-health-features-2000516497',\n",
       "   'urlToImage': 'https://gizmodo.com/app/uploads/2024/10/airpods-pro-2-2.jpg',\n",
       "   'publishedAt': '2024-10-25T15:43:57Z',\n",
       "   'content': 'Apple’s\\xa0much-talked-about hearing health features for the\\xa0AirPods Pro 2 have finally been released in a firmware update today. Though you can update your AirPods Pro to the latest version to receive … [+2222 chars]'},\n",
       "  {'source': {'id': None, 'name': 'Gizmodo.com'},\n",
       "   'author': 'Gizmodo Deals',\n",
       "   'title': 'Amazon Slashes The Price Of The Dyson Outsize, Featuring XL Capacity For Larger Homes',\n",
       "   'description': 'If you have a large home, a Dyson \"Outsize\" is a must-have for efficient cleaning.',\n",
       "   'url': 'https://gizmodo.com/amazon-slashes-the-price-of-the-dyson-outsize-featuring-xl-capacity-for-larger-homes-2000520541',\n",
       "   'urlToImage': 'https://gizmodo.com/app/uploads/2024/11/dyson-outsize.jpg',\n",
       "   'publishedAt': '2024-11-05T12:40:16Z',\n",
       "   'content': 'Ahead of Black Friday, Amazon has unveiled a fantastic deal on the Dyson Outsize Origin. This powerful cordless vacuum featuring an XL capacity is now available for just $399 down from its original p… [+2426 chars]'},\n",
       "  {'source': {'id': None, 'name': 'Gizmodo.com'},\n",
       "   'author': 'Dua Rashid',\n",
       "   'title': 'Google Confirms Jarvis AI Is Real by Accidentally Leaking It',\n",
       "   'description': 'Google accidentally leaked its AI agent on the Chrome extension store but quickly removed it. However some users did manage to download it.',\n",
       "   'url': 'https://gizmodo.com/google-confirms-jarvis-ai-is-real-by-accidentally-leaking-it-2000521089',\n",
       "   'urlToImage': 'https://gizmodo.com/app/uploads/2024/11/google-logo.jpg',\n",
       "   'publishedAt': '2024-11-06T16:43:14Z',\n",
       "   'content': 'Google accidentally posted a preview of its upcoming AI tool, Jarvis AI, on the Chrome extension store but quickly deleted it (via The Information).\\r\\nThis comes just a few weeks after the initial new… [+2101 chars]'},\n",
       "  {'source': {'id': None, 'name': 'Gizmodo.com'},\n",
       "   'author': 'Brittany Vincent',\n",
       "   'title': 'The Lowest Price for Beats Solo 4 Headphones Returns for Pre-Black Friday',\n",
       "   'description': 'Pump up the jams with a pair of Beats Solo 4 headphones for 50% off',\n",
       "   'url': 'https://gizmodo.com/the-lowest-price-for-beats-solo-4-headphones-returns-for-pre-black-friday-2000517334',\n",
       "   'urlToImage': 'https://gizmodo.com/app/uploads/2024/10/beats-solo-4-2.jpg',\n",
       "   'publishedAt': '2024-10-28T15:16:30Z',\n",
       "   'content': 'Headphones aren’t all made equally. You wouldn’t want to listen to your most anticipated album of the year with a pair of $10 earbuds. You want the best you can get, right? But you don’t want to pay … [+2059 chars]'},\n",
       "  {'source': {'id': None, 'name': 'Gizmodo.com'},\n",
       "   'author': 'Joe Tilleli',\n",
       "   'title': 'Garmin Epix Smartwatch at Record Low Price, Cheaper Than Last Prime Day and Black Friday',\n",
       "   'description': 'Attention runners. You can save a massive $400 when ordering the second generation Garmin Epix smartwatch at Amazon.',\n",
       "   'url': 'https://gizmodo.com/garmin-epix-smartwatch-at-record-low-price-cheaper-than-last-prime-day-and-black-friday-2000519158',\n",
       "   'urlToImage': 'https://gizmodo.com/app/uploads/2024/10/GarminEpixGen2.jpg',\n",
       "   'publishedAt': '2024-10-31T19:31:56Z',\n",
       "   'content': 'We’re heading into arguably the biggest running weekend of the year. The New York City Marathon is this Sunday. Racers from around the globe will be hitting foot to pavement across all five boroughs … [+2230 chars]'},\n",
       "  {'source': {'id': None, 'name': 'Gizmodo.com'},\n",
       "   'author': 'Cheryl Eddy',\n",
       "   'title': '10 Fantasy Movies to Help You Escape Reality Right Now',\n",
       "   'description': 'Stream your way to faraway lands and magical characters if you need a break from the world for a couple hours.',\n",
       "   'url': 'https://gizmodo.com/10-fantasy-movies-to-help-you-escape-reality-right-now-2000521177',\n",
       "   'urlToImage': 'https://gizmodo.com/app/uploads/2024/11/crouchingtigerhiddenyeoh.jpg',\n",
       "   'publishedAt': '2024-11-06T19:45:23Z',\n",
       "   'content': 'If you woke up today feeling strong emotions for, you know, reasonsremember that movies are always there for you when you need to step away from headlines, social media, and humanity in general. io9 … [+4014 chars]'},\n",
       "  {'source': {'id': None, 'name': 'Gizmodo.com'},\n",
       "   'author': 'Brent Rose',\n",
       "   'title': 'Roborock Qrevo Curv Review: Literally Climbing to the Top of the Robot Vacuum Rankings',\n",
       "   'description': 'The Roborock Qrevo Curv has unbeatable suction power, corner sweeping, extendable mops, and the ability to vault over thresholds. This vacuum goes places others can’t.',\n",
       "   'url': 'https://gizmodo.com/roborock-qrevo-curv-review-2000518836',\n",
       "   'urlToImage': 'https://gizmodo.com/app/uploads/2024/11/20241031RoborockQrevoCurv9-e1730735048805.jpg',\n",
       "   'publishedAt': '2024-11-04T17:00:13Z',\n",
       "   'content': 'A vacuum is only as good as where it can go and how deep it can clean. While recent years have seen cleaning robots get better at obstacle avoidance and route planning thanks to the addition of featu… [+14212 chars]'},\n",
       "  {'source': {'id': None, 'name': 'BBC News'},\n",
       "   'author': None,\n",
       "   'title': 'Major sea search for man missing after boat trip',\n",
       "   'description': '\"This is very out of character that we have not heard from him,\" says Chris Ellery\\'s daughter.',\n",
       "   'url': 'https://www.bbc.com/news/articles/c748z9mvzm9o',\n",
       "   'urlToImage': 'https://ichef.bbci.co.uk/news/1024/branded_news/6f31/live/45d52de0-9910-11ef-8538-e1655f5a8342.png',\n",
       "   'publishedAt': '2024-11-02T11:54:56Z',\n",
       "   'content': 'A massive search is under way for a man who is believed to have gone missing while on a solo boat trip off the Pembrokeshire coast.\\r\\nPolice, coastguard and RNLI volunteers were alerted after Chris El… [+1656 chars]'},\n",
       "  {'source': {'id': None, 'name': 'BBC News'},\n",
       "   'author': None,\n",
       "   'title': \"From courtroom to candidate: What Harris's years as a prosecutor tell us about her\",\n",
       "   'description': \"She dealt with grisly murder cases and then became the state attorney general - the Democratic candidate's California career offers clues about how she might govern.\",\n",
       "   'url': 'https://www.bbc.com/news/articles/cly2d4evq5po',\n",
       "   'urlToImage': 'https://ichef.bbci.co.uk/news/1024/branded_news/1705/live/3c27fe60-9859-11ef-82c3-45a801b7330b.jpg',\n",
       "   'publishedAt': '2024-11-03T08:32:32Z',\n",
       "   'content': 'Just over three months ago, Vice-President Kamala Harris walked up to a microphone to make a speech that would define both her past and her future.\\r\\nA day before, President Joe Biden had dropped out … [+15403 chars]'},\n",
       "  {'source': {'id': None, 'name': 'Android Central'},\n",
       "   'author': 'techkritiko@gmail.com (Jay Bonggolto)',\n",
       "   'title': 'One UI 7 beta could be just around the corner with an Apple Intelligence-like twist',\n",
       "   'description': \"Get ready for smarter notifications with One UI 7, inspired by Apple's notification summary.\",\n",
       "   'url': 'https://www.androidcentral.com/apps-software/one-ui-7-beta-could-be-just-around-the-corner-with-an-apple-intelligence-like-twist',\n",
       "   'urlToImage': 'https://cdn.mos.cms.futurecdn.net/H9uJ5yTZcUC5qbV6eB2BDK-1200-80.jpg',\n",
       "   'publishedAt': '2024-11-05T00:29:06Z',\n",
       "   'content': 'What you need to know\\r\\n<ul><li>Samsung’s One UI 7 might introduce an AI-driven notification summary feature, similar to Apple’s, starting with Korean language support.</li><li>Notification summaries … [+2451 chars]'},\n",
       "  {'source': {'id': None, 'name': 'Android Central'},\n",
       "   'author': 'nickodiaz@sbcglobal.net (Nickolas Diaz)',\n",
       "   'title': \"Google may let its Apple inspiration bring 'ongoing notifications' to Android\",\n",
       "   'description': 'It seems familiar in more ways than one.',\n",
       "   'url': 'https://www.androidcentral.com/apps-software/google-ongoing-notifications-chip-feature-spotted',\n",
       "   'urlToImage': 'https://cdn.mos.cms.futurecdn.net/TnqSSfkMnpJQSSUAHUg3N3-1200-80.jpg',\n",
       "   'publishedAt': '2024-10-25T19:54:06Z',\n",
       "   'content': 'What you need to know\\r\\n<ul><li>A discovery in Android 15 QPR1 Beta 3 shows Google is working on adding \"rich ongoing notifications.\"</li><li>The feature is similar to Apple\\'s Dynamic Island or OnePlu… [+3229 chars]'},\n",
       "  {'source': {'id': None, 'name': 'Android Central'},\n",
       "   'author': 'vishnu.skar@gmail.com (Vishnu Sarangapurkar)',\n",
       "   'title': 'Google could bring Quick Share to iPhones and Macs',\n",
       "   'description': 'Quick Share, formerly launched as Nearby Share, has been featured on Android devices and Windows platforms for some time.',\n",
       "   'url': 'https://www.androidcentral.com/apps-software/google-likely-to-bring-android-quick-share-for-apple-devices',\n",
       "   'urlToImage': 'https://cdn.mos.cms.futurecdn.net/zPZCNRKLbNCUErQThBym5S-1200-80.jpg',\n",
       "   'publishedAt': '2024-11-04T19:11:25Z',\n",
       "   'content': \"What you need to know\\r\\n<ul><li>Mishaal Rahman has shared some interesting details about developments coming to Android's popular Quick Share feature.</li><li>Recent code from the app has indicated th… [+2856 chars]\"},\n",
       "  {'source': {'id': None, 'name': 'Android Central'},\n",
       "   'author': 'bradypsnyder@gmail.com (Brady Snyder)',\n",
       "   'title': \"Samsung reportedly considers dropping 'Galaxy' brand for some devices, but the move might not go how it thinks\",\n",
       "   'description': \"I'm not confident a flashy new name and brand will solve Samsung's problems. But if it won't, then what will?\",\n",
       "   'url': 'https://www.androidcentral.com/phones/samsung-reportedly-considers-new-phone-brand-separate-from-galaxy',\n",
       "   'urlToImage': 'https://cdn.mos.cms.futurecdn.net/FBQymgDSjiqTXJSqXjPtji-1200-80.jpg',\n",
       "   'publishedAt': '2024-10-30T20:13:16Z',\n",
       "   'content': 'What you need to know\\r\\n<ul><li>A report from the Korean media outlet E-Today claims that Samsung is exploring a new smartphone brand to replace or join the Galaxy brand.</li><li>The article compares … [+5536 chars]'},\n",
       "  {'source': {'id': None, 'name': 'Android Central'},\n",
       "   'author': 'jerry.hildenbrand@futurenet.com (Jerry Hildenbrand)',\n",
       "   'title': \"It's time for Samsung to step up its support game\",\n",
       "   'description': 'Samsung needs to offer the same type of support its biggest competitor does.',\n",
       "   'url': 'https://www.androidcentral.com/phones/we-need-more-samsung-stores',\n",
       "   'urlToImage': 'https://cdn.mos.cms.futurecdn.net/m9nBdBGHXUwKxDeYWdkv6K-1200-80.jpg',\n",
       "   'publishedAt': '2024-11-01T18:12:39Z',\n",
       "   'content': \"Samsung recently announced a new partnership with Assurant that will bring 300 new places to have your Galaxy product repaired. That's good news, and any move toward more and better customer service … [+3879 chars]\"},\n",
       "  {'source': {'id': None, 'name': 'Android Central'},\n",
       "   'author': 'jerry.hildenbrand@futurenet.com (Jerry Hildenbrand)',\n",
       "   'title': 'What the heck is going on at TSMC?',\n",
       "   'description': 'TSMC got caught up in the U.S. battle with China and it appears to have done nothing wrong.',\n",
       "   'url': 'https://www.androidcentral.com/phones/tsmc-us-investigation-breakdown',\n",
       "   'urlToImage': 'https://cdn.mos.cms.futurecdn.net/FQFii5BwHLdxcL48JME658-1200-80.jpg',\n",
       "   'publishedAt': '2024-11-02T15:00:00Z',\n",
       "   'content': 'TSMC is the most important tech company of them all. It may not be the wealthiest or the most recognizable, but the company manufactures the parts that make most of your tech stuff possible. TSMC is … [+4651 chars]'},\n",
       "  {'source': {'id': None, 'name': 'Android Central'},\n",
       "   'author': 'techkritiko@gmail.com (Jay Bonggolto)',\n",
       "   'title': \"A slim Galaxy S25 might be Samsung's answer to Apple's rumored thin iPhone 17\",\n",
       "   'description': \"Samsung's Galaxy S25 series is gearing up for a 2025 launch, with a thin sibling potentially joining the lineup.\",\n",
       "   'url': 'https://www.androidcentral.com/phones/a-slim-galaxy-s25-might-be-samsungs-answer-to-apples-rumored-thin-iphone-17',\n",
       "   'urlToImage': 'https://cdn.mos.cms.futurecdn.net/GSTZrT4GF3toZ8EVFwdWhh-1200-80.jpg',\n",
       "   'publishedAt': '2024-11-01T11:21:05Z',\n",
       "   'content': 'What you need to know\\r\\n<ul><li>A report reveals that Samsung is eyeing a Galaxy S25 Slim, expected to launch a few months after the main series.</li><li>The Galaxy S25 series is set to debut in Janua… [+2665 chars]'},\n",
       "  {'source': {'id': None, 'name': 'Android Central'},\n",
       "   'author': 'andrew.myrick@futurenet.com (Andrew Myrick)',\n",
       "   'title': \"Chromebook vs. iPad: Here's what I think you should go with\",\n",
       "   'description': 'Chromebooks have come a long way.',\n",
       "   'url': 'https://www.androidcentral.com/chromebooks-laptops/chromebook-vs-ipad',\n",
       "   'urlToImage': 'https://cdn.mos.cms.futurecdn.net/95c9nStgqwKfiDgrYRVQw3-1200-80.jpg',\n",
       "   'publishedAt': '2024-11-01T17:00:00Z',\n",
       "   'content': '(Image credit: Nicholas Sutrich / Android Central)\\r\\nBeyond the Alphabet is a weekly column that focuses on the tech world both inside and out of the confines of Mountain View.\\r\\nAfter Apple recently a… [+7255 chars]'},\n",
       "  {'source': {'id': None, 'name': 'Android Central'},\n",
       "   'author': 'jerry.hildenbrand@futurenet.com (Jerry Hildenbrand)',\n",
       "   'title': \"Samsung not building a cheap Galaxy Z Flip plays into its competitors' hands\",\n",
       "   'description': 'Samsung reinvented the flip phone but it seems to be happy to give the category away.',\n",
       "   'url': 'https://www.androidcentral.com/phones/samsung-really-needs-to-build-a-cheap-flip-phone',\n",
       "   'urlToImage': 'https://cdn.mos.cms.futurecdn.net/R7imWmpTkmd8sCxGcyPyCB-1200-80.jpg',\n",
       "   'publishedAt': '2024-11-06T07:00:00Z',\n",
       "   'content': 'Samsung has told us it has zero interest in exploring a $500 Z Flip phone right now. Instead, the rumor mill suggests that Samsung may be building a Galaxy Z Flip FE. This is... how do I put this del… [+3188 chars]'},\n",
       "  {'source': {'id': None, 'name': 'Android Central'},\n",
       "   'author': 'Nicholas Sutrich',\n",
       "   'title': 'Drop everything! My favorite budget phone just got a HUGE price drop ahead of Black Friday',\n",
       "   'description': 'Looking for a new phone this year? Save some cash and get one of the fastest phones available for an unbelievably low price.',\n",
       "   'url': 'https://www.androidcentral.com/phones/oneplus-12r-november-2024-deal',\n",
       "   'urlToImage': 'https://cdn.mos.cms.futurecdn.net/ySbiJ6adHJMF22MK9vwZZQ-1200-80.jpg',\n",
       "   'publishedAt': '2024-11-04T18:46:24Z',\n",
       "   'content': \"Earlier this year, OnePlus dropped an unexpectedly incredible budget-minded phone and now the OnePlus 12R is at one of best prices we've ever seen. Best Buy is selling it for a cool $70 off, making t… [+1975 chars]\"},\n",
       "  {'source': {'id': None, 'name': 'Android Central'},\n",
       "   'author': 'yorknectar@gmail.com (Judy Sanhz)',\n",
       "   'title': 'How fast is the OnePlus 13 charging speed?',\n",
       "   'description': 'The OnePlus 13 charging speed impresses and gives you the power you need faster. Discover how much quicker it is compared to its predecessor.',\n",
       "   'url': 'https://www.androidcentral.com/phones/how-fast-is-the-oneplus-13-charging-speed',\n",
       "   'urlToImage': 'https://cdn.mos.cms.futurecdn.net/XSzAZDXTpRYXADiJvSPikh-1200-80.jpg',\n",
       "   'publishedAt': '2024-11-05T17:43:44Z',\n",
       "   'content': \"How fast is the OnePlus 13 charging speed?\\r\\nThe OnePlus 13 has a 100W SuperVOOC fast charging speed and a 6,000mAh battery. We still don't know if the North American variant will come with 100W or 80… [+2257 chars]\"},\n",
       "  {'source': {'id': None, 'name': 'Android Central'},\n",
       "   'author': 'nickodiaz@sbcglobal.net (Nickolas Diaz)',\n",
       "   'title': \"Samsung's One UI 7 (Android 15) beta might finally be upon us\",\n",
       "   'description': 'After official forum pages were discovered, Samsung was rumored to be coming up on its One UI 7 beta start.',\n",
       "   'url': 'https://www.androidcentral.com/apps-software/samsung-one-ui-7-android-15-beta-impending-arrival',\n",
       "   'urlToImage': 'https://cdn.mos.cms.futurecdn.net/yFmLhsbp8G89X6TVQ6Twh5-1200-80.jpg',\n",
       "   'publishedAt': '2024-11-01T17:35:42Z',\n",
       "   'content': 'What you need to know\\r\\n<ul><li>Rumors from a tipster on X claim Samsung could start its One UI 7 (Android 15) beta in \"another half month,\" potentially placing us in mid-November.</li><li>Elsewhere, … [+3436 chars]'},\n",
       "  {'source': {'id': None, 'name': 'Android Central'},\n",
       "   'author': 'nickodiaz@sbcglobal.net (Nickolas Diaz)',\n",
       "   'title': \"You're not crazy, other Galaxy Watch 7 users report ghost vibrations\",\n",
       "   'description': \"These issues have been going on for a while and there's no clear sign of relief.\",\n",
       "   'url': 'https://www.androidcentral.com/wearables/galaxy-watch-7-ghost-vibrations-user-reports',\n",
       "   'urlToImage': 'https://cdn.mos.cms.futurecdn.net/LZnZruJKF3nWgV27yUZn7R-1200-80.jpg',\n",
       "   'publishedAt': '2024-11-05T19:05:54Z',\n",
       "   'content': 'What you need to know\\r\\n<ul><li>Galaxy Watch 7 users have reported \"ghost notifications\" on their devices.</li><li>Some users blame the Google Maps \"mirroring\" feature while others claim the Samsung H… [+2834 chars]'},\n",
       "  {'source': {'id': None, 'name': 'Android Central'},\n",
       "   'author': 'nickodiaz@sbcglobal.net (Nickolas Diaz)',\n",
       "   'title': 'Google sells refurbished Pixel phones with fresh parts and the latest software',\n",
       "   'description': 'Google announced the start of its Certified Refurbished Pixel program.',\n",
       "   'url': 'https://www.androidcentral.com/phones/google-certified-refurbished-pixel-program-detailed',\n",
       "   'urlToImage': 'https://cdn.mos.cms.futurecdn.net/jdiK7Q7ghKH8DTyU9CzbRL-1200-80.jpg',\n",
       "   'publishedAt': '2024-10-28T20:21:33Z',\n",
       "   'content': 'What you need to know\\r\\n<ul><li>Google announced the start and availability of several past-gen Pixels in its store through the Certified Refurbished Phone program.</li><li>Consumers can grab a Pixel … [+3109 chars]'},\n",
       "  {'source': {'id': None, 'name': 'Android Central'},\n",
       "   'author': 'nickodiaz@sbcglobal.net (Nickolas Diaz)',\n",
       "   'title': \"Rumors put a cheaper 'Galaxy Z Flip FE' back on the table for 2025\",\n",
       "   'description': \"We've seen this happen before and Samsung shot it down, but maybe things have changed.\",\n",
       "   'url': 'https://www.androidcentral.com/phones/galaxy-z-flip-fe-rumors-rekindled-next-year',\n",
       "   'urlToImage': 'https://cdn.mos.cms.futurecdn.net/qvvbSu5wsvePygZSzmTuKi-1200-80.jpg',\n",
       "   'publishedAt': '2024-11-04T18:40:57Z',\n",
       "   'content': 'What you need to know\\r\\n<ul><li>Rumors claim that a \"Galaxy Z Flip FE\" is back on the table and that a \"simultaneous release is likely\" next year.</li><li>The post alludes to a Galaxy Z Fold addition … [+2840 chars]'},\n",
       "  {'source': {'id': None, 'name': 'Android Central'},\n",
       "   'author': 'derrek.lee@futurenet.com (Derrek Lee)',\n",
       "   'title': \"Motorola is using the Razr to come after your iPhones, and it's working\",\n",
       "   'description': \"Motorola has highlighted the success of the Razr series and how it's attracting many new users, particularly from iOS.\",\n",
       "   'url': 'https://www.androidcentral.com/phones/motorola-razr-stealing-away-iphone-users',\n",
       "   'urlToImage': 'https://cdn.mos.cms.futurecdn.net/GwKmAwiQxZYh9Ko3dffT8i-1200-80.jpg',\n",
       "   'publishedAt': '2024-10-26T18:00:00Z',\n",
       "   'content': 'Getting consumers to move from iOS to Android (or vice versa) is no easy feat, and companies like Samsung and Google have been trying various ways to convince users to make the switch, to some degree… [+9541 chars]'},\n",
       "  {'source': {'id': None, 'name': 'Android Central'},\n",
       "   'author': 'Nicholas Sutrich',\n",
       "   'title': 'Do photography-focused phones make any sense?',\n",
       "   'description': 'The iPhone 16 has re-popularized physical camera buttons on smartphones, but they went away for a reason.',\n",
       "   'url': 'https://www.androidcentral.com/phones/do-photography-focused-phones-make-any-sense',\n",
       "   'urlToImage': 'https://cdn.mos.cms.futurecdn.net/QAnGgGz2LEc3sX87ewVYk5-1200-80.jpg',\n",
       "   'publishedAt': '2024-10-30T14:31:54Z',\n",
       "   'content': \"(Image credit: Nicholas Sutrich / Android Central)\\r\\nAndroid Central Labs is a weekly column devoted to deep dives, experiments, and a focused look into tech you didn't know you needed. It covers phon… [+8235 chars]\"},\n",
       "  {'source': {'id': None, 'name': 'Android Central'},\n",
       "   'author': 'michael.hicks@futurenet.com (Michael L Hicks)',\n",
       "   'title': \"I'm trying not to feel underwhelmed by the Garmin Fenix 8\",\n",
       "   'description': 'The Garmin Fenix 8 is like an onion: you can keep peeling back layers to find hidden depths, but also some aspects that make it hard to justify the $1,100 price tag.',\n",
       "   'url': 'https://www.androidcentral.com/wearables/garmin-fenix-8-has-underwhelmed-me-despite-how-great-it-is',\n",
       "   'urlToImage': 'https://cdn.mos.cms.futurecdn.net/Qm3c4DMYtUoCD2tjRSDZgQ-1200-80.jpg',\n",
       "   'publishedAt': '2024-11-03T16:01:44Z',\n",
       "   'content': \"I'm not comfortable reviewing my Garmin Fenix 8 yet. It's Garmin's most densely packed watch yet, with enough features that it'll take me a couple more weeks to give them justice. But after years tes… [+7937 chars]\"},\n",
       "  {'source': {'id': None, 'name': 'Android Central'},\n",
       "   'author': 'jerry.hildenbrand@futurenet.com (Jerry Hildenbrand)',\n",
       "   'title': \"When it comes to Canada's Online News Act, Google wins even when it's losing\",\n",
       "   'description': 'Google is getting off easy this time.',\n",
       "   'url': 'https://www.androidcentral.com/apps-software/google-canada-online-news-act-exemption',\n",
       "   'urlToImage': 'https://cdn.mos.cms.futurecdn.net/ZtjXaaHyTYrAT4dTbChrFe-1200-80.jpg',\n",
       "   'publishedAt': '2024-11-01T21:15:43Z',\n",
       "   'content': \"The Canadian Radio-television and Telecommunications Commission (CRTC) has granted Google a five-year exemption through the country's Online News Act. Google has agreed to pay CAD 100 million yearly … [+3681 chars]\"},\n",
       "  {'source': {'id': None, 'name': 'Android Central'},\n",
       "   'author': 'harish.jonnalagadda@futurenet.com (Harish Jonnalagadda)',\n",
       "   'title': 'Most Android flagships are getting an exciting battery upgrade in 2025',\n",
       "   'description': 'Chinese manufacturers are using silicon-carbon batteries in their 2025 flagships, leading to much bigger batteries without any noticeable difference in weight.',\n",
       "   'url': 'https://www.androidcentral.com/phones/most-android-flagships-are-getting-an-exciting-battery-upgrade-in-2025',\n",
       "   'urlToImage': 'https://cdn.mos.cms.futurecdn.net/GXRXaUePmpVtgAXESV85oL-1200-80.jpg',\n",
       "   'publishedAt': '2024-11-06T07:16:52Z',\n",
       "   'content': \"Battery life isn't much of a problem on phones any longer, and most phones I tested in 2024 — including budget devices — managed to easily last a day. Foldables usually lag behind candy bar phones, b… [+4492 chars]\"},\n",
       "  {'source': {'id': None, 'name': 'Android Central'},\n",
       "   'author': 'derrek.lee@futurenet.com (Derrek Lee)',\n",
       "   'title': 'News Weekly: Samsung teases an exciting 2025, Google Maps upgrades, ChatGPT Search, and more',\n",
       "   'description': 'Samsung teases an exciting 2025, Google Maps gets even better, Google Search gets some competition with ChatGPT Search, and more.',\n",
       "   'url': 'https://www.androidcentral.com/phones/news-weekly-november-2-2024',\n",
       "   'urlToImage': 'https://cdn.mos.cms.futurecdn.net/hXWgyEfPvQgs4vgXNzLxwM-1200-80.jpg',\n",
       "   'publishedAt': '2024-11-02T10:00:00Z',\n",
       "   'content': \"(Image credit: Android Central)\\r\\nNews Weekly is our column where we highlight and summarize some of the week's top stories so you can catch up on the latest tech news.\\r\\nThis is Android Central's News… [+6337 chars]\"},\n",
       "  {'source': {'id': None, 'name': 'Android Central'},\n",
       "   'author': 'derrek.lee@futurenet.com (Derrek Lee)',\n",
       "   'title': \"News Weekly: Snapdragon 8 Elite launches with Oryon cores, Samsung's souped-up Galaxy Z Fold Special Edition, and more\",\n",
       "   'description': \"Qualcomm's powerful new Snapdragon 8 Elite has landed, Samsung releases a special edition Galaxy Z Fold 6, and more.\",\n",
       "   'url': 'https://www.androidcentral.com/phones/news-weekly-october-26-2024',\n",
       "   'urlToImage': 'https://cdn.mos.cms.futurecdn.net/rRUXiFcY6iXrsZAHShZKPR-1200-80.jpg',\n",
       "   'publishedAt': '2024-10-26T12:00:00Z',\n",
       "   'content': \"(Image credit: Android Central)\\r\\nNews Weekly is our column where we highlight and summarize some of the week's top stories so you can catch up on the latest tech news.\\r\\nThis is Android Central's News… [+6607 chars]\"},\n",
       "  {'source': {'id': None, 'name': 'Android Central'},\n",
       "   'author': 'ted@byteddyk.com (Ted Kritsonis)',\n",
       "   'title': 'Anker Soundcore Space One Pro review: Playing a bigger game',\n",
       "   'description': 'The pricier Soundcore Space One Pro headphones stand out more for the bass they pump out.',\n",
       "   'url': 'https://www.androidcentral.com/accessories/audio/anker-soundcore-space-one-pro-review',\n",
       "   'urlToImage': 'https://cdn.mos.cms.futurecdn.net/f9kr5tkhvK6efKbfeghKEf-1200-80.jpg',\n",
       "   'publishedAt': '2024-11-05T15:36:50Z',\n",
       "   'content': 'Anker and its Soundcore brand usually play in a more budget-friendly space where its audio products punch up against more expensive competition. By undercutting the bigger names with solid quality, i… [+10460 chars]'},\n",
       "  {'source': {'id': None, 'name': 'MacRumors'},\n",
       "   'author': 'Juli Clover',\n",
       "   'title': 'Apple Releases tvOS 18.1',\n",
       "   'description': 'Apple today released tvOS 18.1, the newest version of the tvOS 18 operating system that came out in September. tvOS 18.1 comes over a month after Apple released tvOS 18, and it is available for the Apple TV 4K and the \\u200cApple TV\\u200c HD models.\\n\\n\\n\\n\\n\\ntvOS 18.1 can …',\n",
       "   'url': 'https://www.macrumors.com/2024/10/28/apple-releases-tvos-18-1/',\n",
       "   'urlToImage': 'https://images.macrumors.com/t/bIZQJleYYvo5spGq46d-L8hdt4c=/2500x/article-new/2024/08/tvOS-18-Thumb-3.jpg',\n",
       "   'publishedAt': '2024-10-28T15:04:00Z',\n",
       "   'content': 'Apple today released tvOS 18.1, the newest version of the tvOS 18 operating system that came out in September. tvOS 18.1 comes over a month after Apple released tvOS 18, and it is available for the A… [+807 chars]'}]}"
      ]
     },
     "execution_count": 74,
     "metadata": {},
     "output_type": "execute_result"
    }
   ],
   "source": [
    "news"
   ]
  },
  {
   "cell_type": "code",
   "execution_count": 76,
   "metadata": {
    "colab": {
     "base_uri": "https://localhost:8080/"
    },
    "id": "MWYNfFPklm0-",
    "outputId": "371ef0e6-123b-4b8e-faea-b19bee40ac3b"
   },
   "outputs": [
    {
     "data": {
      "text/plain": [
       "20309"
      ]
     },
     "execution_count": 76,
     "metadata": {},
     "output_type": "execute_result"
    }
   ],
   "source": [
    "news[\"totalResults\"]"
   ]
  },
  {
   "cell_type": "code",
   "execution_count": 78,
   "metadata": {
    "id": "of0t89UlmfFO"
   },
   "outputs": [],
   "source": [
    "articles = news[\"articles\"][:5]"
   ]
  },
  {
   "cell_type": "code",
   "execution_count": 80,
   "metadata": {
    "colab": {
     "base_uri": "https://localhost:8080/"
    },
    "id": "g9rKyilCmhoS",
    "outputId": "65dd04aa-b46f-40a9-ffca-bec180422e04"
   },
   "outputs": [
    {
     "data": {
      "text/plain": [
       "[{'source': {'id': None, 'name': 'Yahoo Entertainment'},\n",
       "  'author': 'Will Shanklin',\n",
       "  'title': 'Apple Intelligence is coming to EU iPhones and iPads in April',\n",
       "  'description': 'Folks in the European Union finally know when Apple Intelligence will be available on their mobile devices. Apple told EU users on Monday that its AI suite will arrive in April 2025. The first Apple Intelligence features, including Writing Tools and AI notifi…',\n",
       "  'url': 'https://consent.yahoo.com/v2/collectConsent?sessionId=1_cc-session_9e418204-613e-41ea-849e-1acac15729e7',\n",
       "  'urlToImage': None,\n",
       "  'publishedAt': '2024-10-28T19:10:28Z',\n",
       "  'content': \"If you click 'Accept all', we and our partners, including 237 who are part of the IAB Transparency &amp; Consent Framework, will also store and/or access information on a device (in other words, use … [+678 chars]\"},\n",
       " {'source': {'id': None, 'name': 'Yahoo Entertainment'},\n",
       "  'author': 'Lawrence Bonk',\n",
       "  'title': 'iOS 18.2 will include daily Sudoku puzzles for Apple News+ subscribers',\n",
       "  'description': 'The long-anticipated iPhone iOS 18.1 officially launches next week\\r\\n, bringing with it Apple Intelligence\\r\\n, but we are already on to the next new thing. The company is busy preparing iOS 18.2\\r\\n, which has already entered its beta stage and should be widely r…',\n",
       "  'url': 'https://consent.yahoo.com/v2/collectConsent?sessionId=1_cc-session_7d792da3-893e-4d23-a5d9-4bce6937dc26',\n",
       "  'urlToImage': None,\n",
       "  'publishedAt': '2024-10-25T16:51:16Z',\n",
       "  'content': \"If you click 'Accept all', we and our partners, including 237 who are part of the IAB Transparency &amp; Consent Framework, will also store and/or access information on a device (in other words, use … [+678 chars]\"},\n",
       " {'source': {'id': None, 'name': '[Removed]'},\n",
       "  'author': None,\n",
       "  'title': '[Removed]',\n",
       "  'description': '[Removed]',\n",
       "  'url': 'https://removed.com',\n",
       "  'urlToImage': None,\n",
       "  'publishedAt': '2024-10-29T11:16:45Z',\n",
       "  'content': '[Removed]'},\n",
       " {'source': {'id': None, 'name': 'Yahoo Entertainment'},\n",
       "  'author': 'Will Shanklin',\n",
       "  'title': 'Everything Apple announced during its unofficial Mac Week',\n",
       "  'description': 'Following the illustrious line of calendar-spanning corporate events like Lobsterfest and Shark Week, Apple tried something new this year with a celebration unofficially known as Mac Week. (Fortunately for Apple, it just so happens to coincide with its earnin…',\n",
       "  'url': 'https://consent.yahoo.com/v2/collectConsent?sessionId=1_cc-session_c32e977d-97fc-463b-bc24-4576a92cbe19',\n",
       "  'urlToImage': None,\n",
       "  'publishedAt': '2024-10-30T21:01:15Z',\n",
       "  'content': \"If you click 'Accept all', we and our partners, including 237 who are part of the IAB Transparency &amp; Consent Framework, will also store and/or access information on a device (in other words, use … [+678 chars]\"},\n",
       " {'source': {'id': None, 'name': '[Removed]'},\n",
       "  'author': None,\n",
       "  'title': '[Removed]',\n",
       "  'description': '[Removed]',\n",
       "  'url': 'https://removed.com',\n",
       "  'urlToImage': None,\n",
       "  'publishedAt': '2024-10-30T20:45:49Z',\n",
       "  'content': '[Removed]'}]"
      ]
     },
     "execution_count": 80,
     "metadata": {},
     "output_type": "execute_result"
    }
   ],
   "source": [
    "articles"
   ]
  },
  {
   "cell_type": "markdown",
   "metadata": {
    "id": "ACWKMBkvmyHq"
   },
   "source": [
    "Другие API:\n",
    "\n",
    "1. [OpenWeatherMap](https://openweathermap.org/api) $-$ предоставляет информацию о погоде, прогнозы и исторические данные по всему миру. Есть бесплатный лимит запросов, но все равно требуется ввести данные банковской карты.\n",
    "\n",
    "2. [GitHub](https://developer.github.com/v3/) $-$ API для доступа к данным о репозиториях, пользователях, коммитах и т.д.\n",
    "\n",
    "3. [Open Trivia API](https://opentdb.com/api_config.php) $-$ API для получения вопросов и ответов из базы данных триивиума (викторины)."
   ]
  },
  {
   "cell_type": "code",
   "execution_count": 82,
   "metadata": {
    "colab": {
     "base_uri": "https://localhost:8080/"
    },
    "id": "rQ11bbCVnSHZ",
    "outputId": "cd258252-1846-4dde-bd61-0f1efec53bc8"
   },
   "outputs": [
    {
     "data": {
      "text/plain": [
       "{'response_code': 0,\n",
       " 'results': [{'type': 'multiple',\n",
       "   'difficulty': 'hard',\n",
       "   'category': 'Science: Computers',\n",
       "   'question': 'Who is the original author of the realtime physics engine called PhysX?',\n",
       "   'correct_answer': 'NovodeX',\n",
       "   'incorrect_answers': ['Ageia', 'Nvidia', 'AMD']},\n",
       "  {'type': 'multiple',\n",
       "   'difficulty': 'medium',\n",
       "   'category': 'Entertainment: Music',\n",
       "   'question': 'Which Beatle led the way across the zebra crossing on the Abbey Road album cover?',\n",
       "   'correct_answer': 'John',\n",
       "   'incorrect_answers': ['Paul', 'George', 'Ringo']},\n",
       "  {'type': 'multiple',\n",
       "   'difficulty': 'medium',\n",
       "   'category': 'Celebrities',\n",
       "   'question': 'What is Doug Walker&#039;s YouTube name?',\n",
       "   'correct_answer': 'The Nostalgia Critic',\n",
       "   'incorrect_answers': ['The Angry Video Game Nerd',\n",
       "    'AngryJoeShow',\n",
       "    'The Cinema Snob']},\n",
       "  {'type': 'multiple',\n",
       "   'difficulty': 'easy',\n",
       "   'category': 'Entertainment: Cartoon &amp; Animations',\n",
       "   'question': 'In The Simpsons, which war did Seymour Skinner serve in the USA Army as a Green Beret?',\n",
       "   'correct_answer': 'Vietnam War',\n",
       "   'incorrect_answers': ['World War 2', 'World War 1', 'Cold War']},\n",
       "  {'type': 'multiple',\n",
       "   'difficulty': 'medium',\n",
       "   'category': 'Vehicles',\n",
       "   'question': 'Which supercar company is from Sweden?',\n",
       "   'correct_answer': 'Koenigsegg',\n",
       "   'incorrect_answers': ['Bugatti', 'Lamborghini', 'McLaren']},\n",
       "  {'type': 'multiple',\n",
       "   'difficulty': 'easy',\n",
       "   'category': 'Entertainment: Video Games',\n",
       "   'question': 'In the game &quot;Overwatch,&quot; what are the names of the two Australian criminals from the Junkers faction?',\n",
       "   'correct_answer': 'Junkrat and Roadhog',\n",
       "   'incorrect_answers': ['Roadrat and Junkhog',\n",
       "    'Ana and Pharah',\n",
       "    'McCree and Deadeye']},\n",
       "  {'type': 'multiple',\n",
       "   'difficulty': 'easy',\n",
       "   'category': 'Entertainment: Television',\n",
       "   'question': 'What was the name of the the first episode of Doctor Who to air in 1963?',\n",
       "   'correct_answer': 'An Unearthly Child',\n",
       "   'incorrect_answers': ['The Daleks',\n",
       "    'The Aztecs',\n",
       "    'The Edge of Destruction']},\n",
       "  {'type': 'boolean',\n",
       "   'difficulty': 'easy',\n",
       "   'category': 'General Knowledge',\n",
       "   'question': 'Vietnam&#039;s national flag is a red star in front of a yellow background.',\n",
       "   'correct_answer': 'False',\n",
       "   'incorrect_answers': ['True']},\n",
       "  {'type': 'multiple',\n",
       "   'difficulty': 'medium',\n",
       "   'category': 'Geography',\n",
       "   'question': 'The land of Gotland is located in which European country?',\n",
       "   'correct_answer': 'Sweden',\n",
       "   'incorrect_answers': ['Denmark', 'Norway', 'Germany']},\n",
       "  {'type': 'multiple',\n",
       "   'difficulty': 'hard',\n",
       "   'category': 'History',\n",
       "   'question': 'What was the name of the German offensive operation in October 1941 to take Moscow before winter?',\n",
       "   'correct_answer': 'Operation Typhoon',\n",
       "   'incorrect_answers': ['Operation Sunflower',\n",
       "    'Operation Barbarossa',\n",
       "    'Case Blue']}]}"
      ]
     },
     "execution_count": 82,
     "metadata": {},
     "output_type": "execute_result"
    }
   ],
   "source": [
    "requests.get(\"https://opentdb.com/api.php?amount=10\").json()"
   ]
  },
  {
   "cell_type": "markdown",
   "metadata": {
    "id": "i2E9CEKwoIjU"
   },
   "source": [
    "А еще есть Drama Corpus, который делали в том числе при участии Школы Лингвистики: https://dracor.org/doc/api"
   ]
  },
  {
   "cell_type": "code",
   "execution_count": 84,
   "metadata": {
    "colab": {
     "base_uri": "https://localhost:8080/"
    },
    "id": "LnjK3RjIn3az",
    "outputId": "7d41ee23-a685-441a-b1d3-d294b28d5a14"
   },
   "outputs": [
    {
     "data": {
      "text/plain": [
       "[{'id': 'gorodnichij',\n",
       "  'name': 'Городничий',\n",
       "  'isGroup': False,\n",
       "  'gender': 'MALE',\n",
       "  'numOfScenes': 21,\n",
       "  'numOfSpeechActs': 172,\n",
       "  'numOfWords': 4991,\n",
       "  'degree': 26,\n",
       "  'weightedDegree': 84,\n",
       "  'closeness': 0.8760416666666667,\n",
       "  'betweenness': 0.1264602852635307,\n",
       "  'eigenvector': 0.24182361124623364},\n",
       " {'id': 'ammos_fedorovich_ljapkin_tjapkin',\n",
       "  'name': 'Аммос Федорович',\n",
       "  'isGroup': False,\n",
       "  'gender': 'MALE',\n",
       "  'numOfScenes': 8,\n",
       "  'numOfSpeechActs': 49,\n",
       "  'numOfWords': 748,\n",
       "  'degree': 21,\n",
       "  'weightedDegree': 54,\n",
       "  'closeness': 0.7377192982456141,\n",
       "  'betweenness': 0.010129431082777935,\n",
       "  'eigenvector': 0.23046261804194926},\n",
       " {'id': 'artemij_filippovich_zemljanika',\n",
       "  'name': 'Артемий Филиппович Земляника',\n",
       "  'isGroup': False,\n",
       "  'gender': 'MALE',\n",
       "  'numOfScenes': 10,\n",
       "  'numOfSpeechActs': 51,\n",
       "  'numOfWords': 737,\n",
       "  'degree': 21,\n",
       "  'weightedDegree': 63,\n",
       "  'closeness': 0.7377192982456141,\n",
       "  'betweenness': 0.010129431082777935,\n",
       "  'eigenvector': 0.23046261804194926},\n",
       " {'id': 'luka_lukich',\n",
       "  'name': 'Лука Лукич',\n",
       "  'isGroup': False,\n",
       "  'gender': 'MALE',\n",
       "  'numOfScenes': 9,\n",
       "  'numOfSpeechActs': 25,\n",
       "  'numOfWords': 294,\n",
       "  'degree': 21,\n",
       "  'weightedDegree': 61,\n",
       "  'closeness': 0.7377192982456141,\n",
       "  'betweenness': 0.010129431082777935,\n",
       "  'eigenvector': 0.23046261804194926},\n",
       " {'id': 'lekar',\n",
       "  'name': 'Лекарь Христиан Иванович',\n",
       "  'isGroup': False,\n",
       "  'gender': 'MALE',\n",
       "  'numOfScenes': 2,\n",
       "  'numOfSpeechActs': 2,\n",
       "  'numOfWords': 3,\n",
       "  'degree': 9,\n",
       "  'weightedDegree': 13,\n",
       "  'closeness': 0.5391025641025641,\n",
       "  'betweenness': 0,\n",
       "  'eigenvector': 0.1033485550907006}]"
      ]
     },
     "execution_count": 84,
     "metadata": {},
     "output_type": "execute_result"
    }
   ],
   "source": [
    "requests.get(\"https://dracor.org/api/corpora/rus/play/gogol-revizor/cast\").json()[:5]"
   ]
  },
  {
   "cell_type": "code",
   "execution_count": null,
   "metadata": {
    "id": "sTvupEdOiGkv"
   },
   "outputs": [],
   "source": []
  }
 ],
 "metadata": {
  "colab": {
   "provenance": []
  },
  "kernelspec": {
   "display_name": "Python 3 (ipykernel)",
   "language": "python",
   "name": "python3"
  },
  "language_info": {
   "codemirror_mode": {
    "name": "ipython",
    "version": 3
   },
   "file_extension": ".py",
   "mimetype": "text/x-python",
   "name": "python",
   "nbconvert_exporter": "python",
   "pygments_lexer": "ipython3",
   "version": "3.11.5"
  }
 },
 "nbformat": 4,
 "nbformat_minor": 4
}
