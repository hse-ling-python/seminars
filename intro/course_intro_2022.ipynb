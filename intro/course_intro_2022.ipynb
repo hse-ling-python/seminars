{
 "cells": [
  {
   "cell_type": "markdown",
   "metadata": {},
   "source": [
    "# Intro"
   ]
  },
  {
   "cell_type": "markdown",
   "metadata": {},
   "source": [
    "## Устройство курса\n",
    "\n",
    "\n",
    "### Количество пар\n",
    "\n",
    "Первый модуль - 10 (пока расписание не совпадает с учебным планом, возможно, будет меньше пар в первом модуле и больше во втором); второй модуль - 9; третий модуль - 12\n",
    "\n",
    "Страница курса: https://hse-ling-python.github.io/\n",
    "\n",
    "### Оценка\n",
    "\n",
    "0.5 домашние задания + 0.2 контрольная + 0.3 проект\n",
    "\n",
    "На сегодняшний день план такой:\n",
    "\n",
    "**1 модуль**: три домашних задания - по морфологии, по векторным моделям, по бд\n",
    "\n",
    "В первом модуле поговорим о типах данных, морфологии, визуализации, поработаем с векторными семантическими моделями, базами данных\n",
    "\n",
    "**2 модуль**: два домашних задания - краулер, сайт, и контрольная\n",
    "\n",
    "Второй модуль посвящен вебу: html + css, скачивание данных из интернета, создание своего веб-приложения\n",
    "\n",
    "**3 модуль**: одно домашнее задание по машинному обучению, и итоговый проект на 3 балла от итоговой оценки\n",
    "\n",
    "В третьем модуле поговорим о машинном обучении, тг ботах и о других интересных темах"
   ]
  },
  {
   "cell_type": "markdown",
   "metadata": {},
   "source": [
    "## В чём писать код?\n",
    "\n",
    "Основными инструментами для работы будут PyCharm, VS Code и Jupyter notebooks \n",
    "\n",
    "**PyCharm**\n",
    "\n",
    "PyCharm удобен для написания скриптов, работы с большими проектами, где сложная система файлов разных типов. Кроме этого, удобно работать с системами контроля версий, например с **git**, который используется на GitHub и GitLab.\n",
    "\n",
    "Есть бесплатная версия (Community), а для студентов и преподавателей бесплатна и версия Professional, в которой есть определенные бонусы. Для этого по корпоративной почте можно получить лицензию, скачать версию Professional и активировать в специальной форме. \n",
    "\n",
    "1. [Зарегистрироваться на сайте и получить студенческую лицензию](https://www.jetbrains.com/shop/eform/students)\n",
    "2. [Скачать версию для своей ОС](https://www.jetbrains.com/pycharm/download/)\n",
    "3. Установить (есть инструкции на сайте)\n",
    "4. Запустить и активировать лицензию (Help -> Register)\n",
    "\n",
    "**VS Code**\n",
    "\n",
    "Позиционируется как «лёгкий» редактор кода для кроссплатформенной разработки веб- и облачных приложений. Включает в себя отладчик, инструменты для работы с **git**, подсветку синтаксиса, IntelliSense и средства для рефакторинга. Имеет широкие возможности для кастомизации: пользовательские темы, сочетания клавиш и файлы конфигурации. Распространяется бесплатно, разрабатывается как программное обеспечение с открытым исходным кодом. \n",
    "\n",
    "1. [Скачать версию для своей ОС](https://code.visualstudio.com/)\n",
    "2. Установить \n",
    "\n",
    "**тетрадки Jupyter**\n",
    "\n",
    "Тетрадки Jupyter (например, вот этот конспект) позволяют работать с визуализацией (вставлять графики, картинки), а также выполнять код не один раз, как скрипт, а отдельными кусочками. Это часто используется в машинном обучении, когда не нужно писать огромные функций, а просто запустить обучение модели и вывести графики. Правила хорошего тона говорят, что писать огромные функции в тетрадках - это плохо, поэтому для них лучше использовать обычные .py файлы\n",
    "\n",
    "\n",
    "Можно установить через pip\n",
    "```shell\n",
    "pip install jupyter\n",
    "```\n",
    "**JupyterLab**\n",
    "\n",
    "JupyterLab – гибкая, интегрируемая и легко расширяемая среда, поддерживающая одновременную работу с несколькими блокнотами Jupyter, текстовыми файлами, датасетами, терминалами и другими компонентами. Аналогично классическим IDE в JupyterLab можно упорядочивать документы в рабочей области в удобном порядке при помощи вкладок и разделителей.\n",
    "\n",
    "JupyterLab поддерживает отображение и редактирование множества форматов данных: изображений, CSV, JSON, Markdown, PDF, Vega, Vega-Lite и так далее. Для быстрой навигации по документам в JupyterLab есть настраиваемые горячие клавиши.\n",
    "\n",
    "\n",
    "Можно установить через pip\n",
    "```shell\n",
    "pip install jupyterlab\n",
    "```"
   ]
  },
  {
   "cell_type": "markdown",
   "metadata": {},
   "source": [
    "## Если что-то идет не так\n",
    "\n",
    "Если в командной строке пишет, что нет pip, попробуйте посмотреть версию питона:\n",
    "\n",
    "```shell\n",
    "python --version\n",
    "```\n",
    "\n",
    "или\n",
    "\n",
    "```shell\n",
    "python3 --version\n",
    "```\n",
    "\n",
    "Если будет писать, что питон не найден или не является известной программой, то, скорее всего, у вас Windows и проще всего зайти на python.org и переустановить питон, не забыв отметить \"add to PATH\". Если и это не помогает, обратитесь к преподавателю или напишите в чат."
   ]
  },
  {
   "cell_type": "markdown",
   "metadata": {},
   "source": [
    "## Еще о правилах хорошего тона\n",
    "\n",
    "Красивый код - это не только эстетическое удовольствие, но и жизненная необходимость, потому что такой код проще понимать, а так легче работать в команде, искать свои ошибки и вспоминать, что ты написал год назад.\n",
    "\n",
    "Для Python есть отдельная конвенция о том, как надо писать код - **PEP-8**. В PyCharm есть встроенная функция проверки и справа от кода есть полоса, где можно найти советы и исправления. Плюс к этому есть подчеркивания, при наведении на которые вы тоже можете найти полезные советы. Соответствие PEP-8 будет одним из требований этого курса. Для jupyter есть расширения для проверки PEP"
   ]
  },
  {
   "cell_type": "code",
   "execution_count": null,
   "metadata": {},
   "outputs": [],
   "source": [
    "# вот так можно запускать команды для консоли прямо внутри тетрадки\n",
    "! pip3 install pycodestyle flake8 pycodestyle_magic"
   ]
  },
  {
   "cell_type": "markdown",
   "metadata": {},
   "source": [
    "импортируем и активируем модуль проверки"
   ]
  },
  {
   "cell_type": "code",
   "execution_count": 1,
   "metadata": {},
   "outputs": [],
   "source": [
    "%load_ext pycodestyle_magic\n",
    "%pycodestyle_on"
   ]
  },
  {
   "cell_type": "code",
   "execution_count": 2,
   "metadata": {},
   "outputs": [
    {
     "name": "stderr",
     "output_type": "stream",
     "text": [
      "1:80: E501 line too long (111 > 79 characters)\n"
     ]
    }
   ],
   "source": [
    "name = 'this is very very very very very very very very very very very very very very very very very long line'"
   ]
  },
  {
   "cell_type": "code",
   "execution_count": 3,
   "metadata": {},
   "outputs": [
    {
     "name": "stderr",
     "output_type": "stream",
     "text": [
      "1:2: E225 missing whitespace around operator\n"
     ]
    }
   ],
   "source": [
    "t=5+3"
   ]
  },
  {
   "cell_type": "code",
   "execution_count": 4,
   "metadata": {},
   "outputs": [],
   "source": [
    "t = 5 + 3"
   ]
  },
  {
   "cell_type": "markdown",
   "metadata": {},
   "source": [
    "Просмотрите конвенции https://www.python.org/dev/peps/pep-0008/\n",
    "\n",
    "Назовите несколько, которые Вы считаете наиболее полезными."
   ]
  },
  {
   "cell_type": "markdown",
   "metadata": {},
   "source": [
    "### Автоформаттеры\n",
    "Если посмотреть сколько всяких правил в pep8, то можно сесть за рефакторинг надолго. Автоформаттеры:\n",
    "- autopep8\n",
    "- autoflake\n",
    "- unify\n",
    "- docformatter\n",
    "- black\n",
    "\n",
    "Установка black https://github.com/psf/black#installation :\n",
    "```bash\n",
    "pip3 install black\n",
    "```\n",
    "\n",
    "```bash\n",
    "# проверка файлов\n",
    "black --line-length=120 --check .\n",
    "# форматирование файлов\n",
    "black --line-length=120 .\n",
    "```\n",
    "\n"
   ]
  },
  {
   "cell_type": "markdown",
   "metadata": {},
   "source": [
    "## Полезное про Jupyter\n",
    "\n",
    "**Немного магии**\n",
    "\n",
    "Magic commands -- функции, позволяющие решать некоторые стандартные проблемы"
   ]
  },
  {
   "cell_type": "code",
   "execution_count": 1,
   "metadata": {},
   "outputs": [
    {
     "data": {
      "application/json": {
       "cell": {
        "!": "OSMagics",
        "HTML": "Other",
        "SVG": "Other",
        "bash": "Other",
        "capture": "ExecutionMagics",
        "cmd": "Other",
        "debug": "ExecutionMagics",
        "file": "Other",
        "html": "DisplayMagics",
        "javascript": "DisplayMagics",
        "js": "DisplayMagics",
        "latex": "DisplayMagics",
        "markdown": "DisplayMagics",
        "perl": "Other",
        "prun": "ExecutionMagics",
        "pypy": "Other",
        "python": "Other",
        "python2": "Other",
        "python3": "Other",
        "ruby": "Other",
        "script": "ScriptMagics",
        "sh": "Other",
        "svg": "DisplayMagics",
        "sx": "OSMagics",
        "system": "OSMagics",
        "time": "ExecutionMagics",
        "timeit": "ExecutionMagics",
        "writefile": "OSMagics"
       },
       "line": {
        "alias": "OSMagics",
        "alias_magic": "BasicMagics",
        "autocall": "AutoMagics",
        "automagic": "AutoMagics",
        "autosave": "KernelMagics",
        "bookmark": "OSMagics",
        "cd": "OSMagics",
        "clear": "KernelMagics",
        "cls": "KernelMagics",
        "colors": "BasicMagics",
        "config": "ConfigMagics",
        "connect_info": "KernelMagics",
        "copy": "Other",
        "ddir": "Other",
        "debug": "ExecutionMagics",
        "dhist": "OSMagics",
        "dirs": "OSMagics",
        "doctest_mode": "BasicMagics",
        "echo": "Other",
        "ed": "Other",
        "edit": "KernelMagics",
        "env": "OSMagics",
        "gui": "BasicMagics",
        "hist": "Other",
        "history": "HistoryMagics",
        "killbgscripts": "ScriptMagics",
        "ldir": "Other",
        "less": "KernelMagics",
        "load": "CodeMagics",
        "load_ext": "ExtensionMagics",
        "loadpy": "CodeMagics",
        "logoff": "LoggingMagics",
        "logon": "LoggingMagics",
        "logstart": "LoggingMagics",
        "logstate": "LoggingMagics",
        "logstop": "LoggingMagics",
        "ls": "Other",
        "lsmagic": "BasicMagics",
        "macro": "ExecutionMagics",
        "magic": "BasicMagics",
        "matplotlib": "PylabMagics",
        "mkdir": "Other",
        "more": "KernelMagics",
        "notebook": "BasicMagics",
        "page": "BasicMagics",
        "pastebin": "CodeMagics",
        "pdb": "ExecutionMagics",
        "pdef": "NamespaceMagics",
        "pdoc": "NamespaceMagics",
        "pfile": "NamespaceMagics",
        "pinfo": "NamespaceMagics",
        "pinfo2": "NamespaceMagics",
        "pip": "BasicMagics",
        "popd": "OSMagics",
        "pprint": "BasicMagics",
        "precision": "BasicMagics",
        "profile": "BasicMagics",
        "prun": "ExecutionMagics",
        "psearch": "NamespaceMagics",
        "psource": "NamespaceMagics",
        "pushd": "OSMagics",
        "pwd": "OSMagics",
        "pycat": "OSMagics",
        "pylab": "PylabMagics",
        "qtconsole": "KernelMagics",
        "quickref": "BasicMagics",
        "recall": "HistoryMagics",
        "rehashx": "OSMagics",
        "reload_ext": "ExtensionMagics",
        "ren": "Other",
        "rep": "Other",
        "rerun": "HistoryMagics",
        "reset": "NamespaceMagics",
        "reset_selective": "NamespaceMagics",
        "rmdir": "Other",
        "run": "ExecutionMagics",
        "save": "CodeMagics",
        "sc": "OSMagics",
        "set_env": "OSMagics",
        "store": "StoreMagics",
        "sx": "OSMagics",
        "system": "OSMagics",
        "tb": "ExecutionMagics",
        "time": "ExecutionMagics",
        "timeit": "ExecutionMagics",
        "unalias": "OSMagics",
        "unload_ext": "ExtensionMagics",
        "who": "NamespaceMagics",
        "who_ls": "NamespaceMagics",
        "whos": "NamespaceMagics",
        "xdel": "NamespaceMagics",
        "xmode": "BasicMagics"
       }
      },
      "text/plain": [
       "Available line magics:\n",
       "%alias  %alias_magic  %autocall  %automagic  %autosave  %bookmark  %cd  %clear  %cls  %colors  %config  %connect_info  %copy  %ddir  %debug  %dhist  %dirs  %doctest_mode  %echo  %ed  %edit  %env  %gui  %hist  %history  %killbgscripts  %ldir  %less  %load  %load_ext  %loadpy  %logoff  %logon  %logstart  %logstate  %logstop  %ls  %lsmagic  %macro  %magic  %matplotlib  %mkdir  %more  %notebook  %page  %pastebin  %pdb  %pdef  %pdoc  %pfile  %pinfo  %pinfo2  %popd  %pprint  %precision  %profile  %prun  %psearch  %psource  %pushd  %pwd  %pycat  %pylab  %qtconsole  %quickref  %recall  %rehashx  %reload_ext  %ren  %rep  %rerun  %reset  %reset_selective  %rmdir  %run  %save  %sc  %set_env  %store  %sx  %system  %tb  %time  %timeit  %unalias  %unload_ext  %who  %who_ls  %whos  %xdel  %xmode\n",
       "\n",
       "Available cell magics:\n",
       "%%!  %%HTML  %%SVG  %%bash  %%capture  %%cmd  %%debug  %%file  %%html  %%javascript  %%js  %%latex  %%markdown  %%perl  %%prun  %%pypy  %%python  %%python2  %%python3  %%ruby  %%script  %%sh  %%svg  %%sx  %%system  %%time  %%timeit  %%writefile\n",
       "\n",
       "Automagic is ON, % prefix IS NOT needed for line magics."
      ]
     },
     "execution_count": 1,
     "metadata": {},
     "output_type": "execute_result"
    }
   ],
   "source": [
    "%lsmagic"
   ]
  },
  {
   "cell_type": "markdown",
   "metadata": {},
   "source": [
    "line magics -- один ```%``` впереди и относятся к одной строке,\n",
    "\n",
    "cell magics -- два ```%%``` впереди и относятся к ячейке."
   ]
  },
  {
   "cell_type": "markdown",
   "metadata": {},
   "source": [
    "**Самые популярные magic commands**\n",
    "- %time - время исполнения текущей ячейки\n",
    "- %timeit - среднее время исполнения текущей ячейки за несколько запусков\n",
    "- %load_ext - загрузка расширения \n",
    "\n",
    "```python\n",
    "%load_ext autoreload\n",
    "%autoreload 2\n",
    "# расширение autoreload автоматически перезагружает импотированные модули загруженные через import .../ from ... import ...\n",
    "# если модули изменяются\n",
    "```\n"
   ]
  },
  {
   "cell_type": "code",
   "execution_count": 1,
   "metadata": {},
   "outputs": [
    {
     "data": {
      "text/latex": [
       "\\begin{align}\n",
       "a = \\frac{1}{2} && b = \\frac{6}{7}\n",
       "\\end{align}\n"
      ],
      "text/plain": [
       "<IPython.core.display.Latex object>"
      ]
     },
     "metadata": {},
     "output_type": "display_data"
    }
   ],
   "source": [
    "%%latex\n",
    "\\begin{align}\n",
    "a = \\frac{1}{2} && b = \\frac{6}{7}\n",
    "\\end{align}"
   ]
  },
  {
   "cell_type": "markdown",
   "metadata": {},
   "source": [
    "**Автоматическое комментирование** -- ```Ctrl/Cmd + /``` -- закомментирует выделенный участок кода; чтобы убрать комментарий, нажмите повторно. \n",
    "\n",
    "**Удалили код или ячейку с кодом случайно?**\n",
    "\n",
    "+ Чтобы вернуть удалённый внутри ячейки код, нажмите ```CTRL/CMD+Z```\n",
    "\n",
    "+ Чтобы вернуть удалённую ячейку, нажмите ```ESC+Z``` или ```EDIT > Undo Delete Cells```"
   ]
  },
  {
   "cell_type": "markdown",
   "metadata": {},
   "source": [
    "## Markdown\n",
    " \n",
    "Markdown -- это упрощенный язык разметки, который преобразует (почти) обычный текст в html-страницу. Создан в 2004 году Джоном Грубером и Аароном Шварцем, затем был дополнен и адаптирован для различных приложений. Markdown-файлы имеют расширение .md или .markdown. Markdown используется на github, telegram и, что особенно важно для нас сейчас, в jupyter тетрадках для форматирования текстовых окон.\n",
    "\n",
    "Несколько примеров форматирования:\n",
    "\n",
    "1.Заголовки в Markdown выделяются решетками #:\n",
    "\n",
    "# заголовок 1 уровня\n",
    "## заголовок 2 уровня\n",
    "...\n",
    "###### заголовок 6 уровня\n",
    "\n",
    "2. Чтобы выделить текст курсивом, нужно поставить в начале и в конце фрагмента текста * или _ (не отделяя пробелом):\n",
    "\n",
    "*звезды* или _нижние подчеркивания_\n",
    "\n",
    "3. Чтобы сделать текст жирным, нужно поставить в начале и в конце фрагмента текста ** или __ (не отделяя пробелом):\n",
    "\n",
    "**две звезды** или __два нижних подчеркивания__\n",
    "\n",
    "4. Чтобы перечеркнуть текст, используйте ~~ в начале и в конце (не отделяя пробелом):\n",
    "\n",
    "~~две тильды~~\n",
    "\n",
    "5. список можно сделать просто написав 1. какой-то пункт (для нумерованного списка) или просто - какой-то пункт (для маркированного списка). После каждого пункта два переноса строки (два enter)\n",
    "\n",
    "6. Дальнейшие опции посмотрим [тут](https://github.com/adam-p/markdown-here/wiki/Markdown-Here-Cheatsheet)\n",
    "\n",
    "Для энтузиастов -- [вдохновляющий набор расширений и приложений, где используется Markdown](https://github.com/mundimark/awesome-markdown)\n",
    "\n",
    "Поэкспериментируйте с языком в тетрадке или оформите с помощью него репозиторий на гитхабе.\n",
    "    "
   ]
  },
  {
   "cell_type": "markdown",
   "metadata": {},
   "source": [
    "**Выделение комментариев цветом**\n",
    "\n",
    "```<div class=\"alert alert-block alert-info\">\n",
    "<b>Tip:</b> Use blue boxes (alert-info) for tips and notes. \n",
    "If it’s a note, you don’t have to include the word “Note”.\n",
    "</div>```\n",
    "\n",
    "```<div class=\"alert alert-block alert-warning\">\n",
    "<b>Example:</b> Yellow Boxes are generally used to include additional examples or mathematical formulas.\n",
    "</div>```\n",
    "\n",
    "```<div class=\"alert alert-block alert-success\">\n",
    "Use green box only when necessary like to display links to related content.\n",
    "</div>```\n",
    "\n",
    "```<div class=\"alert alert-block alert-danger\">\n",
    "It is good to avoid red boxes but can be used to alert users to not delete some important part of code etc. \n",
    "</div>```"
   ]
  },
  {
   "cell_type": "markdown",
   "metadata": {},
   "source": [
    "<div class=\"alert alert-block alert-info\">\n",
    "<b>Tip:</b> Use blue boxes (alert-info) for tips and notes. \n",
    "If it’s a note, you don’t have to include the word “Note”.\n",
    "</div>"
   ]
  },
  {
   "cell_type": "markdown",
   "metadata": {},
   "source": [
    "<div class=\"alert alert-block alert-warning\">\n",
    "<b>Example:</b> Yellow Boxes are generally used to include additional examples or mathematical formulas.\n",
    "</div>"
   ]
  },
  {
   "cell_type": "markdown",
   "metadata": {},
   "source": [
    "<div class=\"alert alert-block alert-success\">\n",
    "Use green box only when necessary like to display links to related content.\n",
    "</div>"
   ]
  },
  {
   "cell_type": "markdown",
   "metadata": {},
   "source": [
    "<div class=\"alert alert-block alert-danger\">\n",
    "It is good to avoid red boxes but can be used to alert users to not delete some important part of code etc. \n",
    "</div>"
   ]
  },
  {
   "cell_type": "markdown",
   "metadata": {},
   "source": [
    "## Система контроля версий\n",
    "\n",
    "Системы контроля версий позволяют отслеживать изменения в файлах, откатываться к рабочей версии и многое другое. Мы используем **git** и платформу **GitHub** для версионирования и хранения файлов курса.\n",
    "\n",
    "Визуализания проектов в git [тут](http://ghv.artzub.com/#user=deepmipt)\n",
    "\n",
    "\n",
    "Принцип ведения проектов в git в ![Git Flow](https://res.cloudinary.com/practicaldev/image/fetch/s--twX9zDLS--/c_limit%2Cf_auto%2Cfl_progressive%2Cq_auto%2Cw_880/https://dev-to-uploads.s3.amazonaws.com/uploads/articles/3xwqxp14q6uvf17xrxuj.png)\n",
    "\n",
    "### git\n",
    "\n",
    "**Используем командную строку**\n",
    "\n",
    "Склонировать репозиторий по ссылке\n",
    "```shell\n",
    "git clone https://github.com/hse-ling-python/seminars.git\n",
    "```\n",
    "Создать репозиторий (локально)\n",
    "```shell\n",
    "git init\n",
    "```\n",
    "Скачать изменения из удаленного репозитория\n",
    "```shell\n",
    "git pull\n",
    "```\n",
    "Добавить указанные файлы в список отслеживаемых\n",
    "```shell\n",
    "git add ./somefolder/my_file.txt\n",
    "```\n",
    "Удалить файл (из git и физически)\n",
    "```shell\n",
    "git rm ./somefolder/my_file.txt\n",
    "```\n",
    "Удалить файл (из git, но не физически)\n",
    "```shell\n",
    "git rm --cache ./somefolder/my_file.txt\n",
    "```\n",
    "Посмотреть статус изменений\n",
    "```shell\n",
    "git status\n",
    "```\n",
    "Закоммитить изменения; после -m в кавычках пишется сообщение о том, что изменено\n",
    "```shell\n",
    "git commit -m \"add new file\"\n",
    "```\n",
    "Отправить изменения в удаленный репозиторий\n",
    "```shell\n",
    "git push\n",
    "```\n",
    "Список веток\n",
    "```shell\n",
    "git branch\n",
    "```\n",
    "Создать новую ветку\n",
    "```shell\n",
    "git checkout -b BRANCH_NAME\n",
    "```\n",
    "Переключиться на ветку\n",
    "```shell\n",
    "git checkout BRANCH_NAME\n",
    "```\n",
    "Удалить ветку\n",
    "```shell\n",
    "git branch -D BRANCH_NAME\n",
    "```\n",
    "Смержить текущую ветку и выбранную\n",
    "```shell\n",
    "git merge BRANCH_NAME\n",
    "```\n",
    "\n",
    "`.gitignore` - специальный файл, в котором описываются файлы, которые `git` не будет индексировать.\n",
    "\n",
    "\n",
    "**Через PyCharm**\n",
    "\n",
    "Слева, где располагается каталог файлов проекта, можно добавить файл в git, а в верхнем меню **VCS -> Commit** написать сообщение коммита и выбрать файлы, которые в него попадут. **VCS -> Git -> Push** запушит изменения, а **VCS -> Git -> Pull**, соответственно, скачает изменения из удаленного репозитория.\n",
    "\n",
    "**Через VS Code**\n",
    "\n",
    "Слева, на панели **SOURCE CONTROL**. Если написать сообщение коммита и нажать галочку, тогда произойдет коммит. Pull **...->Pull**, push **...->Push**. \n",
    "\n",
    "Пример `git diff` \n",
    "\n",
    "![diff](https://herchel.com/static/gitdiff-840787c94fef37c9b5828b9440e15d02-42603.png)"
   ]
  },
  {
   "cell_type": "markdown",
   "metadata": {},
   "source": [
    "## virtualenv\n",
    "\n",
    "`virtualenv` является инструментом для создания изолированных сред python. Эта программа создает папку, которая содержит все необходимые исполняемые файлы для использования пакетов, необходимых для проекта python.\n",
    "\n",
    "Установка\n",
    "```\n",
    "pip install virtualenv\n",
    "```\n",
    "Создание новой виртуальной среды. При запуске проекта, для которого вы хотите изолировать зависимости, вы можете настроить новую виртуальную среду для этого проекта\n",
    "```\n",
    "virtualenv foo\n",
    "```\n",
    "Это создаст `foo` папку, содержащую оснастку сценариев и копию python самого двоичного файла. Название папки не имеет значения. После того , как виртуальная среда создана, она является самодостаточной и не требует дальнейшей манипуляции с `virtualenv` инструментом. Теперь вы можете начать использовать виртуальную среду.\n",
    "\n",
    "Активация существующей виртуальной среды\n",
    "```\n",
    "source foo/bin/activate\n",
    "```\n",
    "Для Windows\n",
    "```\n",
    "foo\\Scripts\\activate.bat\n",
    "```\n",
    "Деактивация виртуальной среды\n",
    "```\n",
    "deactivate\n",
    "```\n",
    "\n",
    "**Активация существующей виртуальной среды VS Code**\n",
    "\n",
    "Снизу, на панели **Select Python Interpreter**, выбрать созданную среду.\n"
   ]
  },
  {
   "cell_type": "markdown",
   "metadata": {},
   "source": [
    "## Не работает код, не устанавливается пакет, всё очень плохо\n",
    "\n",
    "Ошибки и проблемы возникают постоянно, есть много вариантов их решить, но основной и главный способ - погуглить и почитать **Stack Overflow**. Можно просто скопировать сообщение ошибки и первой ссылкой в поиске скорее всего будет именно Stack Overflow. К этому стоит привыкать, потому что не всегда рядом будет человек, который сможет сесть и разобраться в вашей проблеме вместе с вами.\n",
    "\n",
    "Ну а так как у нас учебный курс, есть еще и альтернативные варианты:\n",
    "\n",
    "1. Спросить у однокурсников\n",
    "2. Спросить в чате\n",
    "3. Написать преподавателю\n",
    "4. Оставить issue в репозитории"
   ]
  },
  {
   "cell_type": "markdown",
   "metadata": {
    "pycharm": {
     "name": "#%% md\n"
    }
   },
   "source": [
    "## Система отправки работ\n",
    "\n",
    "Используем GitHub Classroom. Там будут создаваться задания и репозитории для заданий (после того как вы примете задание), для которых установлен автоматический дедлайн, после которого загрузка закрывается. \n",
    "\n",
    "- домашнее задание может быть по нескольким темам\n",
    "- в этом году заданий много, но большинство заданий не очень большие\n",
    "- выгодно делать все задания, так как предшествующие задания помогают делать последующие задания"
   ]
  },
  {
   "cell_type": "markdown",
   "metadata": {},
   "source": [
    "## Оформление\n",
    "\n",
    "Большую часть домашних заданий можно делать вот в таких jupyter-тетрадках, для каких-то веб-приложений или других более крупных проектов нужен проект или папок и скриптов - это удобнее писать в PyCharm.\n"
   ]
  },
  {
   "cell_type": "markdown",
   "metadata": {},
   "source": [
    "## Опрос\n",
    "\n",
    "Пожалуйста, пройдите опрос: https://forms.gle/9fGrW5Kfu8F5oWLY6 "
   ]
  }
 ],
 "metadata": {
  "kernelspec": {
   "display_name": "Python 3",
   "language": "python",
   "name": "python3"
  },
  "language_info": {
   "codemirror_mode": {
    "name": "ipython",
    "version": 3
   },
   "file_extension": ".py",
   "mimetype": "text/x-python",
   "name": "python",
   "nbconvert_exporter": "python",
   "pygments_lexer": "ipython3",
   "version": "3.9.6"
  },
  "pycharm": {
   "stem_cell": {
    "cell_type": "raw",
    "metadata": {
     "collapsed": false
    },
    "source": []
   }
  }
 },
 "nbformat": 4,
 "nbformat_minor": 4
}
