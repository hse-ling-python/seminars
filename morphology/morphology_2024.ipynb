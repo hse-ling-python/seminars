{
  "cells": [
    {
      "cell_type": "markdown",
      "metadata": {
        "id": "DTQdwWbq5Fvj"
      },
      "source": [
        "## Морфология\n",
        "#### План семинара:\n",
        "\n",
        "1. Mystem\n",
        "2. Pymorphy\n",
        "3. NLTK\n",
        "4. SpaCy\n"
      ]
    },
    {
      "cell_type": "markdown",
      "metadata": {
        "id": "RfvPBMcK5Fvl"
      },
      "source": [
        "Нужные пакеты для этого семинара:\n",
        "\n",
        "```python\n",
        "pip install pymystem3\n",
        "pip install pymorphy3\n",
        "pip install nltk\n",
        "pip install spacy\n",
        "```\n",
        "\n",
        "Если вы хотите побыстрее и у вас Linux или Mac\n",
        "\n",
        "``pip install pymorphy3[fast]``\n",
        "\n",
        "Если вы работаете с Python версии **раньше** 3.11+, то можно устанавливать `pymorphy2` (это то же самое, только для старых версий). Если вы работаете в Google Colab, то он скорее всего на версии 3.12 (01.10.2025)\n",
        "\n",
        "```python\n",
        "!pip install pymorphy3 --q\n",
        "\n",
        "from pymorphy3 import MorphAnalyzer\n",
        "```\n",
        "\n"
      ]
    },
    {
      "cell_type": "markdown",
      "metadata": {
        "id": "dld-D_6G5Fvn"
      },
      "source": [
        "### Mystem"
      ]
    },
    {
      "cell_type": "markdown",
      "metadata": {
        "id": "a7YKvRur5Fvm"
      },
      "source": [
        "Mystem $-$ это свободно распространяемый морфологический анализатор для русского языка с закрытым исходным кодом.\n",
        "\n",
        "My-stem значит my stemmer, стемминг $-$ это разбиение формы на основу и флексию. На самом деле Mystem может гораздо больше: устанавливать словарную форму слова, определять часть речи и грамматическую форму слова. В последних версиях Mystem умеет и выбирать из нескольких возможных грамматических разборов один, наиболее верный.\n",
        "\n",
        "У Mystem нет графического оконного интерфейса."
      ]
    },
    {
      "cell_type": "markdown",
      "metadata": {
        "id": "ALQxwR__5Fvr"
      },
      "source": [
        "Можно запускать mystem через консоль (см. [документацию](https://yandex.ru/dev/mystem) и про запуск [тут](https://irmn.space/?go=all/lemmatizaciya-zaprosov-v-mystem/)), а можно с помощью специального модуля, **pymystem3**. Это проще и удобнее, потому что с тем, что выдаёт mystem, можно сразу работать как с питоновскими структурами данных. Но медленнее. Иногда гораздо-гораздо медленнее, чем разметить один файл mystem'ом сразу."
      ]
    },
    {
      "cell_type": "code",
      "source": [
        "!pip install pymystem3 --q"
      ],
      "metadata": {
        "id": "_9fSVMQzrNGP"
      },
      "execution_count": 1,
      "outputs": []
    },
    {
      "cell_type": "code",
      "execution_count": 2,
      "metadata": {
        "id": "SQMgcBAW5Fvr",
        "scrolled": true
      },
      "outputs": [],
      "source": [
        "from pymystem3 import Mystem\n",
        "\n",
        "m_stem = Mystem()"
      ]
    },
    {
      "cell_type": "markdown",
      "metadata": {
        "id": "mxPL8r9W5Fvr"
      },
      "source": [
        "Небходимо создать экземпляр класса `Mystem`. У него есть два метода:\n",
        "\n",
        "* `lemmatize`, возвращающий список лемм,\n",
        "* `analyze`, возвращающий полные разборы в виде словаря.\n",
        "\n",
        "Возьмем небольшой текст и опробуем на нем эти два метода:"
      ]
    },
    {
      "cell_type": "code",
      "execution_count": 3,
      "metadata": {
        "id": "hVwJQpvm5Fvr"
      },
      "outputs": [],
      "source": [
        "text = '''Но не становится ли событие тем значительнее и исключительнее,\n",
        "чем большее число случайностей приводит к нему?\n",
        "Лишь случайность может предстать перед нами как послание.\n",
        "Все, что происходит по необходимости, что ожидаемо, что повторяется всякий день, то немо.\n",
        "Лишь случайность о чем-то говорит нам. Мы стремимся прочесть ее,\n",
        "как читают цыганки по узорам, начертанным кофейной гущей на дне чашки.'''"
      ]
    },
    {
      "cell_type": "code",
      "execution_count": 4,
      "metadata": {
        "colab": {
          "base_uri": "https://localhost:8080/"
        },
        "id": "Dx6nJImD5Fvs",
        "outputId": "4ee77d20-6698-4b0b-e95d-2a2d53427ff3"
      },
      "outputs": [
        {
          "output_type": "execute_result",
          "data": {
            "text/plain": [
              "['тем',\n",
              " ' ',\n",
              " 'значительный',\n",
              " ' ',\n",
              " 'и',\n",
              " ' ',\n",
              " 'исключительный',\n",
              " ',\\n',\n",
              " 'чем',\n",
              " ' ']"
            ]
          },
          "metadata": {},
          "execution_count": 4
        }
      ],
      "source": [
        "lemmas = m_stem.lemmatize(text)\n",
        "lemmas[10:20]"
      ]
    },
    {
      "cell_type": "markdown",
      "metadata": {
        "id": "-mWTwtCR5Fvs"
      },
      "source": [
        "Можно собрать лемматизированный текст обратно:"
      ]
    },
    {
      "cell_type": "code",
      "execution_count": 5,
      "metadata": {
        "colab": {
          "base_uri": "https://localhost:8080/"
        },
        "id": "Or3WZysj5Fvs",
        "outputId": "3acad7e1-b509-4138-9f6a-5ebef0d7e786"
      },
      "outputs": [
        {
          "output_type": "stream",
          "name": "stdout",
          "text": [
            "но не становиться ли событие тем значительный и исключительный,\n",
            "чем больший число случайность приводить к он?\n",
            "лишь случайность мочь представать перед мы как послание.\n",
            "все, что происходить по необходимость, что ожидать, что повторяться всякий день, то немо.\n",
            "лишь случайность о что-то говорить мы. мы стремиться прочитывать она,\n",
            "как читать цыганка по узор, начертать кофейный гуща на дно чашка.\n",
            "\n"
          ]
        }
      ],
      "source": [
        "print(''.join(lemmas))"
      ]
    },
    {
      "cell_type": "code",
      "execution_count": 6,
      "metadata": {
        "id": "K5MOolzG5Fvs"
      },
      "outputs": [],
      "source": [
        "from pprint import pprint"
      ]
    },
    {
      "cell_type": "code",
      "execution_count": 7,
      "metadata": {
        "colab": {
          "base_uri": "https://localhost:8080/"
        },
        "id": "SnGhKM2w5Fvs",
        "outputId": "3088d8c2-6262-426a-bb60-3392cdd5084a"
      },
      "outputs": [
        {
          "output_type": "stream",
          "name": "stdout",
          "text": [
            "[{'analysis': [{'gr': 'CONJ=', 'lex': 'но', 'wt': 0.9998906299}], 'text': 'Но'},\n",
            " {'text': ' '},\n",
            " {'analysis': [{'gr': 'PART=', 'lex': 'не', 'wt': 1}], 'text': 'не'},\n",
            " {'text': ' '},\n",
            " {'analysis': [{'gr': 'V,нп=непрош,ед,изъяв,3-л,несов',\n",
            "                'lex': 'становиться',\n",
            "                'wt': 1}],\n",
            "  'text': 'становится'},\n",
            " {'text': ' '},\n",
            " {'analysis': [{'gr': 'PART=', 'lex': 'ли', 'wt': 0.7719288688}], 'text': 'ли'},\n",
            " {'text': ' '},\n",
            " {'analysis': [{'gr': 'S,сред,неод=(вин,ед|им,ед)', 'lex': 'событие', 'wt': 1}],\n",
            "  'text': 'событие'},\n",
            " {'text': ' '},\n",
            " {'analysis': [{'gr': 'CONJ=', 'lex': 'тем', 'wt': 0.0857739759}],\n",
            "  'text': 'тем'},\n",
            " {'text': ' '},\n",
            " {'analysis': [{'gr': 'A=срав', 'lex': 'значительный', 'wt': 0.2062520859}],\n",
            "  'text': 'значительнее'},\n",
            " {'text': ' '},\n",
            " {'analysis': [{'gr': 'CONJ=', 'lex': 'и', 'wt': 0.9999770357}], 'text': 'и'},\n",
            " {'text': ' '},\n",
            " {'analysis': [{'gr': 'A=срав', 'lex': 'исключительный', 'wt': 1}],\n",
            "  'text': 'исключительнее'},\n",
            " {'text': ',\\n'},\n",
            " {'analysis': [{'gr': 'CONJ=', 'lex': 'чем', 'wt': 0.8023791472}],\n",
            "  'text': 'чем'},\n",
            " {'text': ' '}]\n"
          ]
        }
      ],
      "source": [
        "ana = m_stem.analyze(text)\n",
        "pprint(ana[:20])"
      ]
    },
    {
      "cell_type": "markdown",
      "metadata": {
        "id": "20I2B4BZ5Fvt"
      },
      "source": [
        "Разбор для каждого слова является элементом массива:"
      ]
    },
    {
      "cell_type": "code",
      "execution_count": 8,
      "metadata": {
        "colab": {
          "base_uri": "https://localhost:8080/"
        },
        "id": "Fqi6TcWR5Fvt",
        "outputId": "256a87d4-e50a-4ca0-fd00-f38f4367e94b"
      },
      "outputs": [
        {
          "output_type": "stream",
          "name": "stdout",
          "text": [
            "{'analysis': [{'lex': 'но', 'wt': 0.9998906299, 'gr': 'CONJ='}], 'text': 'Но'}\n",
            "{'text': ' '}\n",
            "{'analysis': [{'lex': 'не', 'wt': 1, 'gr': 'PART='}], 'text': 'не'}\n",
            "{'text': ' '}\n",
            "{'analysis': [{'lex': 'становиться', 'wt': 1, 'gr': 'V,нп=непрош,ед,изъяв,3-л,несов'}], 'text': 'становится'}\n",
            "{'text': ' '}\n",
            "{'analysis': [{'lex': 'ли', 'wt': 0.7719288688, 'gr': 'PART='}], 'text': 'ли'}\n",
            "{'text': ' '}\n",
            "{'analysis': [{'lex': 'событие', 'wt': 1, 'gr': 'S,сред,неод=(вин,ед|им,ед)'}], 'text': 'событие'}\n",
            "{'text': ' '}\n",
            "{'analysis': [{'lex': 'тем', 'wt': 0.0857739759, 'gr': 'CONJ='}], 'text': 'тем'}\n",
            "{'text': ' '}\n",
            "{'analysis': [{'lex': 'значительный', 'wt': 0.2062520859, 'gr': 'A=срав'}], 'text': 'значительнее'}\n",
            "{'text': ' '}\n",
            "{'analysis': [{'lex': 'и', 'wt': 0.9999770357, 'gr': 'CONJ='}], 'text': 'и'}\n",
            "{'text': ' '}\n",
            "{'analysis': [{'lex': 'исключительный', 'wt': 1, 'gr': 'A=срав'}], 'text': 'исключительнее'}\n",
            "{'text': ',\\n'}\n",
            "{'analysis': [{'lex': 'чем', 'wt': 0.8023791472, 'gr': 'CONJ='}], 'text': 'чем'}\n",
            "{'text': ' '}\n"
          ]
        }
      ],
      "source": [
        "for word in ana[:20]:\n",
        "    print(word)"
      ]
    },
    {
      "cell_type": "markdown",
      "metadata": {
        "id": "RhhVeu895Fvt"
      },
      "source": [
        "В этом разборе в поле `text` можно найти исходное слова, а в поле `analysis` (которого может и не быть) $-$ грамматические характеристики и леммы.\n",
        "\n",
        "В грамматическом разборе знаком `=` отделяются изменяемые характеристики от неизменяемых. Знаком `|` отделяются омонимичные разборы.\n",
        "\n",
        "Достанем все части речи:"
      ]
    },
    {
      "cell_type": "code",
      "execution_count": 9,
      "metadata": {
        "colab": {
          "base_uri": "https://localhost:8080/"
        },
        "id": "fOeLkZGe5Fvt",
        "outputId": "5063ef77-227e-4644-ecfb-92d5eea75557"
      },
      "outputs": [
        {
          "output_type": "stream",
          "name": "stdout",
          "text": [
            "Но CONJ\n",
            "не PART\n",
            "становится V\n",
            "ли PART\n",
            "событие S\n",
            "тем CONJ\n",
            "значительнее A\n",
            "и CONJ\n",
            "исключительнее A\n",
            "чем CONJ\n"
          ]
        }
      ],
      "source": [
        "for word in ana[:20]:\n",
        "    if 'analysis' in word:\n",
        "        gr = word['analysis'][0]['gr']\n",
        "        pos = gr.split('=')[0].split(',')[0]\n",
        "        print(word['text'], pos)"
      ]
    },
    {
      "cell_type": "markdown",
      "metadata": {
        "id": "WE5H9OGH5Fvt"
      },
      "source": [
        "#### Саммари\n",
        "\n",
        "**Достоинства Mystem'a:**\n",
        "\n",
        "- хорошее качество разбора\n",
        "- по умолчанию разрешается частеречная омонимия (внутри части речи остается)\n",
        "- при разборе учитывается контекст\n",
        "- совместим с разметкой НКРЯ\n",
        "\n",
        "**Недостатки Mystem'a:**\n",
        "\n",
        "- медленный\n",
        "- `analyze` возвращает неудобный JSON"
      ]
    },
    {
      "cell_type": "markdown",
      "metadata": {
        "id": "5y0GERqF5Fvu"
      },
      "source": [
        "### Pymorphy"
      ]
    },
    {
      "cell_type": "markdown",
      "metadata": {
        "id": "zKjwkRqP5Fvu"
      },
      "source": [
        "Может делать то же, что и `pymystem3`, и даже больше: изменять слова в нужную форму (спрягать и склонять). При этом `pymorphy2` справляется и с незнакомыми словами.\n",
        "\n",
        "[**Документация**](https://pymorphy2.readthedocs.io/en/latest/)\n",
        "\n",
        "Для работы точно так же надо создать экземпляр класса `MorphAnalyzer`. Рекомендуется создать один экземпляр и дальше с ним и работать, поскольку он занимает достаточно много памяти, и если создать несколько экземпляров анализаторов, то они будут тормозить программу."
      ]
    },
    {
      "cell_type": "code",
      "execution_count": 10,
      "metadata": {
        "id": "j_79P2wfHvn4"
      },
      "outputs": [],
      "source": [
        "!pip install pymorphy3 --q"
      ]
    },
    {
      "cell_type": "code",
      "execution_count": 11,
      "metadata": {
        "id": "03_xyOm15Fvu"
      },
      "outputs": [],
      "source": [
        "from pymorphy3 import MorphAnalyzer\n",
        "\n",
        "morph = MorphAnalyzer()"
      ]
    },
    {
      "cell_type": "markdown",
      "metadata": {
        "id": "rGEqYOhT5Fvu"
      },
      "source": [
        "Разбор слова делается при помощи метода `parse`:"
      ]
    },
    {
      "cell_type": "code",
      "execution_count": 12,
      "metadata": {
        "colab": {
          "base_uri": "https://localhost:8080/"
        },
        "id": "uiR-kiyi5Fvu",
        "outputId": "ebeafd8c-9e45-4d7e-bc0f-4701b751b5a3"
      },
      "outputs": [
        {
          "output_type": "execute_result",
          "data": {
            "text/plain": [
              "[Parse(word='стекла', tag=OpencorporaTag('NOUN,inan,neut sing,gent'), normal_form='стекло', score=0.828282, methods_stack=((DictionaryAnalyzer(), 'стекла', 157, 1),)),\n",
              " Parse(word='стёкла', tag=OpencorporaTag('NOUN,inan,neut plur,nomn'), normal_form='стекло', score=0.080808, methods_stack=((DictionaryAnalyzer(), 'стёкла', 157, 6),)),\n",
              " Parse(word='стёкла', tag=OpencorporaTag('NOUN,inan,neut plur,accs'), normal_form='стекло', score=0.080808, methods_stack=((DictionaryAnalyzer(), 'стёкла', 157, 9),)),\n",
              " Parse(word='стекла', tag=OpencorporaTag('VERB,perf,intr femn,sing,past,indc'), normal_form='стечь', score=0.010101, methods_stack=((DictionaryAnalyzer(), 'стекла', 1015, 2),))]"
            ]
          },
          "metadata": {},
          "execution_count": 12
        }
      ],
      "source": [
        "ana = morph.parse('стекла')\n",
        "ana"
      ]
    },
    {
      "cell_type": "markdown",
      "metadata": {
        "id": "iu009Wvw5Fvu"
      },
      "source": [
        "Как видно, анализатор вернул все возможные разборы этого слова, отранжировав их по вероятности.\n",
        "\n",
        "У каждого разбора есть атрибуты:\n",
        "* исходное слово,\n",
        "* тэг,\n",
        "* лемма,\n",
        "* вероятность разбора."
      ]
    },
    {
      "cell_type": "code",
      "execution_count": 13,
      "metadata": {
        "colab": {
          "base_uri": "https://localhost:8080/"
        },
        "id": "1JJRNkVz5Fvu",
        "outputId": "e7543794-9078-4f49-fc93-f2d67dd269fa"
      },
      "outputs": [
        {
          "output_type": "stream",
          "name": "stdout",
          "text": [
            "Слово: стекла\n",
            "Тэг: NOUN,inan,neut sing,gent\n",
            "Лемма: стекло\n",
            "Вероятность: 0.828282\n"
          ]
        }
      ],
      "source": [
        "first = ana[0]  # первый разбор\n",
        "print('Слово:', first.word)\n",
        "print('Тэг:', first.tag)\n",
        "print('Лемма:', first.normal_form)\n",
        "print('Вероятность:', first.score)"
      ]
    },
    {
      "cell_type": "markdown",
      "metadata": {
        "id": "7j8Brqrk5Fvv"
      },
      "source": [
        "Для каждого разбора можно получить лемму и всю информацию о ней (т.е. еще один разбор, только уже для леммы):"
      ]
    },
    {
      "cell_type": "code",
      "execution_count": 14,
      "metadata": {
        "colab": {
          "base_uri": "https://localhost:8080/"
        },
        "id": "hgCj_B4P5Fvv",
        "outputId": "16674f16-1493-448c-bf93-3b9ef8558f21"
      },
      "outputs": [
        {
          "output_type": "execute_result",
          "data": {
            "text/plain": [
              "Parse(word='стекло', tag=OpencorporaTag('NOUN,inan,neut sing,nomn'), normal_form='стекло', score=1.0, methods_stack=((DictionaryAnalyzer(), 'стекло', 157, 0),))"
            ]
          },
          "metadata": {},
          "execution_count": 14
        }
      ],
      "source": [
        "first.normalized"
      ]
    },
    {
      "cell_type": "code",
      "execution_count": 15,
      "metadata": {
        "colab": {
          "base_uri": "https://localhost:8080/"
        },
        "id": "th6n7d6Y5Fvv",
        "outputId": "7466d2fe-9e00-4b61-edc0-a90e279f4e32"
      },
      "outputs": [
        {
          "output_type": "stream",
          "name": "stdout",
          "text": [
            "Разбор слова:  Parse(word='стекла', tag=OpencorporaTag('VERB,perf,intr femn,sing,past,indc'), normal_form='стечь', score=0.010101, methods_stack=((DictionaryAnalyzer(), 'стекла', 1015, 2),))\n",
            "\n",
            "Разбор леммы:  Parse(word='стечь', tag=OpencorporaTag('INFN,perf,intr'), normal_form='стечь', score=1.0, methods_stack=((DictionaryAnalyzer(), 'стечь', 1015, 0),))\n"
          ]
        }
      ],
      "source": [
        "last = ana[-1] # последний разбор\n",
        "print('Разбор слова: ', last)\n",
        "print()\n",
        "print('Разбор леммы: ', last.normalized)"
      ]
    },
    {
      "cell_type": "markdown",
      "metadata": {
        "id": "kWsyuI3K5Fvv"
      },
      "source": [
        "Если распечатать тег разбора, то может показаться, что это строка:"
      ]
    },
    {
      "cell_type": "code",
      "execution_count": 16,
      "metadata": {
        "colab": {
          "base_uri": "https://localhost:8080/"
        },
        "id": "m2OdesUj5Fvv",
        "outputId": "30f9e558-b897-4cab-ab8e-96b003f728b5"
      },
      "outputs": [
        {
          "output_type": "stream",
          "name": "stdout",
          "text": [
            "NOUN,inan,neut sing,gent\n"
          ]
        }
      ],
      "source": [
        "first = ana[0]  # первый разбор\n",
        "print(first.tag)"
      ]
    },
    {
      "cell_type": "markdown",
      "metadata": {
        "id": "1ixIAxSt5Fvw"
      },
      "source": [
        "Но на самом деле это объект класса `OpencorporaTag`, так что некоторые вещи, которые можно делать со строками, с тэгами делать нельзя. А некоторые все-таки можно.\n",
        "\n",
        "Например, можно проверить, есть ли какая-то граммема в теге:"
      ]
    },
    {
      "cell_type": "code",
      "execution_count": 17,
      "metadata": {
        "colab": {
          "base_uri": "https://localhost:8080/"
        },
        "id": "TXhRlU6l5Fvx",
        "outputId": "7ce15e77-ad78-4070-ad23-e2ba700fd912"
      },
      "outputs": [
        {
          "output_type": "execute_result",
          "data": {
            "text/plain": [
              "True"
            ]
          },
          "metadata": {},
          "execution_count": 17
        }
      ],
      "source": [
        "'NOUN' in first.tag"
      ]
    },
    {
      "cell_type": "code",
      "execution_count": 18,
      "metadata": {
        "colab": {
          "base_uri": "https://localhost:8080/"
        },
        "id": "D9rk8Mr_5Fvx",
        "outputId": "d5f5c3bf-c31d-4803-d435-91ec833b431e"
      },
      "outputs": [
        {
          "output_type": "execute_result",
          "data": {
            "text/plain": [
              "False"
            ]
          },
          "metadata": {},
          "execution_count": 18
        }
      ],
      "source": [
        "'VERB' in first.tag"
      ]
    },
    {
      "cell_type": "code",
      "execution_count": 19,
      "metadata": {
        "colab": {
          "base_uri": "https://localhost:8080/"
        },
        "id": "kzEBAGHm5Fvx",
        "outputId": "e5e5caf9-87a8-401f-fb9a-7af8b69b0d6a"
      },
      "outputs": [
        {
          "output_type": "execute_result",
          "data": {
            "text/plain": [
              "True"
            ]
          },
          "metadata": {},
          "execution_count": 19
        }
      ],
      "source": [
        "{'NOUN', 'inan'} in first.tag"
      ]
    },
    {
      "cell_type": "markdown",
      "metadata": {
        "id": "H0O67-7J5Fvy"
      },
      "source": [
        "Из каждого тега можно достать более дробную информацию. Если граммема есть в разборе, то вернется ее значение, если ее нет, то вернется `None`.\n",
        "\n",
        "| Граммема                | Значение                                  |\n",
        "|-------------------------|-------------------------------------------|\n",
        "| `p.tag.POS`             | Part of Speech, часть речи                |\n",
        "| `p.tag.animacy`         | одушевленность                            |\n",
        "| `p.tag.aspect`          | вид: совершенный или несовершенный        |\n",
        "| `p.tag.case`            | падеж                                     |\n",
        "| `p.tag.gender`          | род (мужской, женский, средний)           |\n",
        "| `p.tag.involvement`     | включенность говорящего в действие        |\n",
        "| `p.tag.mood`            | наклонение (повелительное, изъявительное) |\n",
        "| `p.tag.number`          | число (единственное, множественное)       |\n",
        "| `p.tag.person`          | лицо (1, 2, 3)                            |\n",
        "| `p.tag.tense`           | время (настоящее, прошедшее, будущее)     |\n",
        "| `p.tag.transitivity`    | переходность (переходный, непереходный)   |\n",
        "| `p.tag.voice`           | залог (действительный, страдательный)     |\n",
        "| и др.                   |                                           |"
      ]
    },
    {
      "cell_type": "code",
      "execution_count": 20,
      "metadata": {
        "colab": {
          "base_uri": "https://localhost:8080/"
        },
        "id": "rv4EJFTS5Fvy",
        "outputId": "bd1be157-793e-4081-bf34-93c4b5edb295"
      },
      "outputs": [
        {
          "output_type": "stream",
          "name": "stdout",
          "text": [
            "VERB,perf,intr femn,sing,past,indc\n",
            "Время:  past\n",
            "Падеж:  None\n"
          ]
        }
      ],
      "source": [
        "print(last.tag)\n",
        "print('Время: ', last.tag.tense)\n",
        "print('Падеж: ', last.tag.case)"
      ]
    },
    {
      "cell_type": "markdown",
      "metadata": {
        "id": "8dhAg82t5Fvy"
      },
      "source": [
        "Список граммем, которые используются в модуле, находится [здесь](https://pymorphy2.readthedocs.io/en/latest/user/grammemes.html).\n",
        "\n",
        "Если искать какую-то граммему, которой нет в этом списке, возникнет ошибка.\n",
        "\n",
        "Можно получить строку с кириллическими обозначениями граммем:"
      ]
    },
    {
      "cell_type": "code",
      "execution_count": 21,
      "metadata": {
        "colab": {
          "base_uri": "https://localhost:8080/",
          "height": 35
        },
        "id": "kvs3_S1G5Fvy",
        "outputId": "6a8a2a98-ac8b-461f-89ea-4e6a08d8df9a"
      },
      "outputs": [
        {
          "output_type": "execute_result",
          "data": {
            "text/plain": [
              "'СУЩ,неод,ср ед,рд'"
            ],
            "application/vnd.google.colaboratory.intrinsic+json": {
              "type": "string"
            }
          },
          "metadata": {},
          "execution_count": 21
        }
      ],
      "source": [
        "first.tag.cyr_repr"
      ]
    },
    {
      "cell_type": "markdown",
      "metadata": {
        "id": "ARwv2PQw5Fvz"
      },
      "source": [
        "**Словоизменение**\n",
        "\n",
        "Если у нас есть разбор слова, то мы можем это слово поставить в другую форму с помощью функции `inflect`. Эта функция получает на вход множество граммем и пытается применить их к нашему разбору."
      ]
    },
    {
      "cell_type": "code",
      "source": [
        "prog = morph.parse('программирую')[0]"
      ],
      "metadata": {
        "id": "6HW8V7Kzsjbl"
      },
      "execution_count": 22,
      "outputs": []
    },
    {
      "cell_type": "code",
      "execution_count": 23,
      "metadata": {
        "colab": {
          "base_uri": "https://localhost:8080/"
        },
        "id": "M7BC41LT5Fvz",
        "outputId": "dc098f45-be35-4b0f-c8bc-1b987da8acff"
      },
      "outputs": [
        {
          "output_type": "execute_result",
          "data": {
            "text/plain": [
              "Parse(word='программируем', tag=OpencorporaTag('VERB,impf,tran plur,1per,pres,indc'), normal_form='программировать', score=1.0, methods_stack=((DictionaryAnalyzer(), 'программируем', 171, 2),))"
            ]
          },
          "metadata": {},
          "execution_count": 23
        }
      ],
      "source": [
        "prog.inflect({'plur'})"
      ]
    },
    {
      "cell_type": "code",
      "execution_count": 24,
      "metadata": {
        "colab": {
          "base_uri": "https://localhost:8080/"
        },
        "id": "Js2oquwv5Fvz",
        "outputId": "f0467a08-7275-4ff5-ff6c-f194029a20e1"
      },
      "outputs": [
        {
          "output_type": "execute_result",
          "data": {
            "text/plain": [
              "Parse(word='программировали', tag=OpencorporaTag('VERB,impf,tran plur,past,indc'), normal_form='программировать', score=1.0, methods_stack=((DictionaryAnalyzer(), 'программировали', 171, 10),))"
            ]
          },
          "metadata": {},
          "execution_count": 24
        }
      ],
      "source": [
        "prog.inflect({'plur', 'past'})"
      ]
    },
    {
      "cell_type": "code",
      "execution_count": 25,
      "metadata": {
        "colab": {
          "base_uri": "https://localhost:8080/"
        },
        "id": "TDhzS0775Fv0",
        "outputId": "b77fa9ca-68a5-4c3d-ce9b-4cb8dce9de41"
      },
      "outputs": [
        {
          "output_type": "execute_result",
          "data": {
            "text/plain": [
              "Parse(word='программировал', tag=OpencorporaTag('VERB,impf,tran masc,sing,past,indc'), normal_form='программировать', score=1.0, methods_stack=((DictionaryAnalyzer(), 'программировал', 171, 7),))"
            ]
          },
          "metadata": {},
          "execution_count": 25
        }
      ],
      "source": [
        "prog.inflect({'past'})"
      ]
    },
    {
      "cell_type": "code",
      "execution_count": 26,
      "metadata": {
        "colab": {
          "base_uri": "https://localhost:8080/",
          "height": 35
        },
        "id": "aTHms7zh5Fv0",
        "outputId": "f123b3d9-63f8-4527-c617-be6cff816585"
      },
      "outputs": [
        {
          "output_type": "execute_result",
          "data": {
            "text/plain": [
              "'программировала'"
            ],
            "application/vnd.google.colaboratory.intrinsic+json": {
              "type": "string"
            }
          },
          "metadata": {},
          "execution_count": 26
        }
      ],
      "source": [
        "prog.inflect({'past', 'femn'})[0]"
      ]
    },
    {
      "cell_type": "markdown",
      "metadata": {
        "id": "A-0i_toJ5Fv0"
      },
      "source": [
        "**Формы слова**\n",
        "\n",
        "С помощью атрибута `lexeme` можно получить массив всех форм слова:"
      ]
    },
    {
      "cell_type": "code",
      "execution_count": 27,
      "metadata": {
        "colab": {
          "base_uri": "https://localhost:8080/"
        },
        "id": "P38hIOfO5Fv0",
        "outputId": "d93c96a9-9fc8-49f4-82ef-37ce1b8a9e0f"
      },
      "outputs": [
        {
          "output_type": "execute_result",
          "data": {
            "text/plain": [
              "[Parse(word='программировать', tag=OpencorporaTag('INFN,impf,tran'), normal_form='программировать', score=1.0, methods_stack=((DictionaryAnalyzer(), 'программировать', 171, 0),)),\n",
              " Parse(word='программирую', tag=OpencorporaTag('VERB,impf,tran sing,1per,pres,indc'), normal_form='программировать', score=1.0, methods_stack=((DictionaryAnalyzer(), 'программирую', 171, 1),)),\n",
              " Parse(word='программируем', tag=OpencorporaTag('VERB,impf,tran plur,1per,pres,indc'), normal_form='программировать', score=1.0, methods_stack=((DictionaryAnalyzer(), 'программируем', 171, 2),)),\n",
              " Parse(word='программируешь', tag=OpencorporaTag('VERB,impf,tran sing,2per,pres,indc'), normal_form='программировать', score=1.0, methods_stack=((DictionaryAnalyzer(), 'программируешь', 171, 3),)),\n",
              " Parse(word='программируете', tag=OpencorporaTag('VERB,impf,tran plur,2per,pres,indc'), normal_form='программировать', score=1.0, methods_stack=((DictionaryAnalyzer(), 'программируете', 171, 4),))]"
            ]
          },
          "metadata": {},
          "execution_count": 27
        }
      ],
      "source": [
        "prog.lexeme[:5]"
      ]
    },
    {
      "cell_type": "markdown",
      "metadata": {
        "id": "TOavcpUR5Fv1"
      },
      "source": [
        "**Согласование слов с числительными**\n",
        "\n",
        "Из документации:\n",
        "\n",
        "> Слово нужно ставить в разные формы в зависимости от числительного, к которому оно относится.<br>Например: “1 бутявка”, “2 бутявки”, “5 бутявок” Для этих целей используйте метод `Parse.make_agree_with_number()`:\n",
        "\n",
        "\n"
      ]
    },
    {
      "cell_type": "code",
      "execution_count": 28,
      "metadata": {
        "id": "ws1WJgiB5Fv1"
      },
      "outputs": [],
      "source": [
        "butyavka = morph.parse('бутявка')[0]"
      ]
    },
    {
      "cell_type": "code",
      "execution_count": 29,
      "metadata": {
        "colab": {
          "base_uri": "https://localhost:8080/",
          "height": 35
        },
        "id": "uuy25eWC5Fv1",
        "outputId": "1257dfe6-c4e7-4e6b-9552-6727b123bed2"
      },
      "outputs": [
        {
          "output_type": "execute_result",
          "data": {
            "text/plain": [
              "'бутявка'"
            ],
            "application/vnd.google.colaboratory.intrinsic+json": {
              "type": "string"
            }
          },
          "metadata": {},
          "execution_count": 29
        }
      ],
      "source": [
        "butyavka.make_agree_with_number(1).word"
      ]
    },
    {
      "cell_type": "code",
      "execution_count": 30,
      "metadata": {
        "colab": {
          "base_uri": "https://localhost:8080/",
          "height": 35
        },
        "id": "C1PqtRSH5Fv2",
        "outputId": "180ed44f-7128-46cc-cc58-3c96937836a6"
      },
      "outputs": [
        {
          "output_type": "execute_result",
          "data": {
            "text/plain": [
              "'бутявки'"
            ],
            "application/vnd.google.colaboratory.intrinsic+json": {
              "type": "string"
            }
          },
          "metadata": {},
          "execution_count": 30
        }
      ],
      "source": [
        "butyavka.make_agree_with_number(2).word"
      ]
    },
    {
      "cell_type": "code",
      "execution_count": 31,
      "metadata": {
        "colab": {
          "base_uri": "https://localhost:8080/",
          "height": 35
        },
        "id": "42I0DJct5Fv3",
        "outputId": "9df4cff4-9193-4a63-9f68-bdf51c32f29d"
      },
      "outputs": [
        {
          "output_type": "execute_result",
          "data": {
            "text/plain": [
              "'бутявок'"
            ],
            "application/vnd.google.colaboratory.intrinsic+json": {
              "type": "string"
            }
          },
          "metadata": {},
          "execution_count": 31
        }
      ],
      "source": [
        "butyavka.make_agree_with_number(5).word"
      ]
    },
    {
      "cell_type": "markdown",
      "metadata": {
        "id": "bKZjCxV3K84R"
      },
      "source": [
        "**Приколы**\n",
        "\n",
        "При помощи `pymorphy2` даже можно делать самое простенькое NER (*Named Entity Recognition*, распознавание именованных сущностей), так как в разборах есть теги:\n",
        "* `Geox`"
      ]
    },
    {
      "cell_type": "code",
      "execution_count": 32,
      "metadata": {
        "colab": {
          "base_uri": "https://localhost:8080/"
        },
        "id": "A9sHHuKZK7rG",
        "outputId": "09d8f384-d96d-4996-c09e-a16961fc676e"
      },
      "outputs": [
        {
          "output_type": "stream",
          "name": "stdout",
          "text": [
            "[Parse(word='санкт-петербург', tag=OpencorporaTag('NOUN,inan,masc,Geox sing,nomn'), normal_form='санкт-петербург', score=0.615384, methods_stack=((DictionaryAnalyzer(), 'санкт-петербург', 74, 0),)), Parse(word='санкт-петербург', tag=OpencorporaTag('NOUN,inan,masc,Geox sing,accs'), normal_form='санкт-петербург', score=0.384615, methods_stack=((DictionaryAnalyzer(), 'санкт-петербург', 74, 3),))]\n",
            "[Parse(word='москва', tag=OpencorporaTag('NOUN,inan,femn,Sgtm,Geox sing,nomn'), normal_form='москва', score=1.0, methods_stack=((DictionaryAnalyzer(), 'москва', 36, 0),))]\n"
          ]
        }
      ],
      "source": [
        "print(morph.parse('Санкт-Петербург'))\n",
        "print(morph.parse('Москва'))"
      ]
    },
    {
      "cell_type": "markdown",
      "metadata": {
        "id": "dejvL4RpMEfx"
      },
      "source": [
        "* `Surn`"
      ]
    },
    {
      "cell_type": "code",
      "execution_count": 33,
      "metadata": {
        "colab": {
          "base_uri": "https://localhost:8080/"
        },
        "id": "JluevIf6Ltvw",
        "outputId": "4a4d505d-34a6-4148-ccd9-c9bdbd57c05c"
      },
      "outputs": [
        {
          "output_type": "stream",
          "name": "stdout",
          "text": [
            "[Parse(word='набоков', tag=OpencorporaTag('NOUN,anim,masc,Sgtm,Surn sing,nomn'), normal_form='набоков', score=1.0, methods_stack=((DictionaryAnalyzer(), 'набоков', 37, 0),))]\n",
            "[Parse(word='чичиков', tag=OpencorporaTag('NOUN,anim,masc,Sgtm,Surn sing,nomn'), normal_form='чичиков', score=1.0, methods_stack=((DictionaryAnalyzer(), 'чичиков', 37, 0),))]\n"
          ]
        }
      ],
      "source": [
        "print(morph.parse('Набоков'))\n",
        "print(morph.parse('Чичиков'))"
      ]
    },
    {
      "cell_type": "markdown",
      "metadata": {
        "id": "SuNtg4swMHIF"
      },
      "source": [
        "* `Name`"
      ]
    },
    {
      "cell_type": "code",
      "execution_count": 34,
      "metadata": {
        "colab": {
          "base_uri": "https://localhost:8080/"
        },
        "id": "YpUB7o1JLzdT",
        "outputId": "a099648a-cb11-4240-ea15-2d8adf970ca0"
      },
      "outputs": [
        {
          "output_type": "stream",
          "name": "stdout",
          "text": [
            "[Parse(word='владимир', tag=OpencorporaTag('NOUN,anim,masc,Name sing,nomn'), normal_form='владимир', score=0.979452, methods_stack=((DictionaryAnalyzer(), 'владимир', 27, 0),)), Parse(word='владимир', tag=OpencorporaTag('NOUN,inan,masc,Geox sing,nomn'), normal_form='владимир', score=0.013698, methods_stack=((DictionaryAnalyzer(), 'владимир', 33, 0),)), Parse(word='владимир', tag=OpencorporaTag('NOUN,inan,masc,Geox sing,accs'), normal_form='владимир', score=0.006849, methods_stack=((DictionaryAnalyzer(), 'владимир', 33, 3),))]\n",
            "[Parse(word='павел', tag=OpencorporaTag('NOUN,anim,masc,Name sing,nomn'), normal_form='павел', score=1.0, methods_stack=((DictionaryAnalyzer(), 'павел', 2370, 0),))]\n"
          ]
        }
      ],
      "source": [
        "print(morph.parse('Владимир'))\n",
        "print(morph.parse('Павел'))"
      ]
    },
    {
      "cell_type": "markdown",
      "metadata": {
        "id": "1Bj9H5lW5Fv3"
      },
      "source": [
        "#### Саммари\n",
        "\n",
        "**Достоинства Pymorphy:**\n",
        "\n",
        "- умеет составлять разборы, находить лемму, склонять и спрягать\n",
        "- генерирует гипотезы для незнакомых слов\n",
        "- написан полностью на питоне и быстрее, чем Mystem (и есть ускоренная версия с вставками на C++)\n",
        "- может работать с украинским языком (но словари нужно отдельно устанавливать)\n",
        "\n",
        "**Недостатки Pymorphy:**\n",
        "\n",
        "- качество хуже, чем у Mystem\n",
        "- работает только на уровне отдельных слов (и естественно, не учитывает контекст)"
      ]
    },
    {
      "cell_type": "markdown",
      "metadata": {
        "id": "Xws2raTl5Fv3"
      },
      "source": [
        "**Небольшой хак**\n",
        "\n",
        "Pymorphy и так работает очень быстро, но можно еще быстрее, если мы будем сохранять разборы для очень популярных слов"
      ]
    },
    {
      "cell_type": "code",
      "source": [
        "!pip install wget --q"
      ],
      "metadata": {
        "id": "bEnOehpggZPb"
      },
      "execution_count": 35,
      "outputs": []
    },
    {
      "cell_type": "code",
      "execution_count": 36,
      "metadata": {
        "id": "h5M3mych5Fv4"
      },
      "outputs": [],
      "source": [
        "import wget\n",
        "from string import punctuation"
      ]
    },
    {
      "cell_type": "code",
      "source": [
        "wget.download('https://raw.githubusercontent.com/hse-ling-python/seminars/refs/heads/master/morphology/input_files/nabokov.txt')"
      ],
      "metadata": {
        "colab": {
          "base_uri": "https://localhost:8080/",
          "height": 35
        },
        "id": "Zf1naWVxgDew",
        "outputId": "c1576c68-8ad0-4b54-8769-c07257e14bd1"
      },
      "execution_count": 37,
      "outputs": [
        {
          "output_type": "execute_result",
          "data": {
            "text/plain": [
              "'nabokov (1).txt'"
            ],
            "application/vnd.google.colaboratory.intrinsic+json": {
              "type": "string"
            }
          },
          "metadata": {},
          "execution_count": 37
        }
      ]
    },
    {
      "cell_type": "code",
      "execution_count": 38,
      "metadata": {
        "id": "HiZGOB2f5Fv4"
      },
      "outputs": [],
      "source": [
        "with open('nabokov.txt', encoding=\"utf-8\") as file:\n",
        "    text = file.read()\n",
        "text = [word.lower().strip(punctuation) for word in text.split()]\n",
        "text = [word for word in text if word != '']"
      ]
    },
    {
      "cell_type": "code",
      "execution_count": 39,
      "metadata": {
        "colab": {
          "base_uri": "https://localhost:8080/"
        },
        "id": "sGul5U4s5Fv4",
        "outputId": "528103c0-12d5-41fc-efe6-58dcda5f55c0"
      },
      "outputs": [
        {
          "output_type": "stream",
          "name": "stdout",
          "text": [
            "4.17 s ± 1.87 s per loop (mean ± std. dev. of 7 runs, 1 loop each)\n"
          ]
        }
      ],
      "source": [
        "%%timeit\n",
        "lemmas = []\n",
        "\n",
        "for word in text:\n",
        "    lemmas.append(morph.parse(word)[0].normal_form)"
      ]
    },
    {
      "cell_type": "code",
      "execution_count": 40,
      "metadata": {
        "colab": {
          "base_uri": "https://localhost:8080/"
        },
        "id": "rCE1PhFp5Fv5",
        "outputId": "98775e2c-c3d7-4cb7-92d2-39b963551b8e"
      },
      "outputs": [
        {
          "output_type": "stream",
          "name": "stdout",
          "text": [
            "The slowest run took 4.21 times longer than the fastest. This could mean that an intermediate result is being cached.\n",
            "2.22 s ± 861 ms per loop (mean ± std. dev. of 7 runs, 1 loop each)\n"
          ]
        }
      ],
      "source": [
        "%%timeit\n",
        "lemmas = []\n",
        "known_words = {}\n",
        "\n",
        "for word in text:\n",
        "    if word in known_words:\n",
        "        lemmas.append(known_words[word])\n",
        "    else:\n",
        "        result = morph.parse(word)[0].normal_form\n",
        "        lemmas.append(result)\n",
        "        known_words[word] = result"
      ]
    },
    {
      "cell_type": "markdown",
      "metadata": {
        "id": "b3LWsrWx5Fv5"
      },
      "source": [
        "Мы просто запоминаем леммы и поэтому не парсим слово каждый раз, а берем из быстрого хранилища готовый результат. Это может серьезно загружать память (при больших объемах), но значительно сократит время работы."
      ]
    },
    {
      "cell_type": "markdown",
      "metadata": {
        "id": "8Q-BGMZd5Fv7"
      },
      "source": [
        "### NLTK"
      ]
    },
    {
      "cell_type": "markdown",
      "metadata": {
        "id": "MR2Ea8285Fv7"
      },
      "source": [
        "Это уже не просто морфологический анализатор, а целая NLP библиотека!\n",
        "\n",
        "[**Документация**](https://www.nltk.org/)\n",
        "\n",
        "Что мы тут можем делать? Можем токенизировать какой-нибудь текст:"
      ]
    },
    {
      "cell_type": "code",
      "execution_count": 41,
      "metadata": {
        "id": "5hgq-KgI5Fv7"
      },
      "outputs": [],
      "source": [
        "text = '''\n",
        "В. В. Набоков \"Как я люблю тебя\".\n",
        "\n",
        "Такой зеленый, серый, то есть\n",
        "весь заштрихованный дождем,\n",
        "и липовое, столь густое,\n",
        "что я перенести - уйдем!\n",
        "Уйдем и этот сад оставим\n",
        "и дождь, кипящий на тропах\n",
        "между тяжелыми цветами,\n",
        "целующими липкий прах.\n",
        "Уйдем, уйдем, пока не поздно,\n",
        "скорее, под плащом, домой,\n",
        "пока еще ты не опознан,\n",
        "безумный мой, безумный мой!\n",
        "'''"
      ]
    },
    {
      "cell_type": "code",
      "execution_count": 42,
      "metadata": {
        "colab": {
          "base_uri": "https://localhost:8080/"
        },
        "id": "CWFeuroE5Fv7",
        "outputId": "53df7e54-2437-46c6-bc20-6db0dbf089d1"
      },
      "outputs": [
        {
          "output_type": "stream",
          "name": "stderr",
          "text": [
            "[nltk_data] Downloading package punkt_tab to /root/nltk_data...\n",
            "[nltk_data]   Package punkt_tab is already up-to-date!\n"
          ]
        },
        {
          "output_type": "execute_result",
          "data": {
            "text/plain": [
              "True"
            ]
          },
          "metadata": {},
          "execution_count": 42
        }
      ],
      "source": [
        "import nltk\n",
        "from nltk.tokenize import word_tokenize\n",
        "\n",
        "nltk.download('punkt_tab')"
      ]
    },
    {
      "cell_type": "code",
      "execution_count": 43,
      "metadata": {
        "colab": {
          "base_uri": "https://localhost:8080/"
        },
        "id": "yXNUSKSWJbnC",
        "outputId": "4c0836d5-3e2e-417e-aa2e-f8517b8510d4"
      },
      "outputs": [
        {
          "output_type": "stream",
          "name": "stdout",
          "text": [
            "['В.', 'В.', 'Набоков', '``', 'Как', 'я', 'люблю', 'тебя', \"''\", '.', 'Такой', 'зеленый', ',', 'серый', ',', 'то', 'есть', 'весь', 'заштрихованный', 'дождем', ',', 'и', 'липовое', ',', 'столь', 'густое', ',', 'что', 'я', 'перенести', '-', 'уйдем', '!', 'Уйдем', 'и', 'этот', 'сад', 'оставим', 'и', 'дождь', ',', 'кипящий', 'на', 'тропах', 'между', 'тяжелыми', 'цветами', ',', 'целующими', 'липкий', 'прах', '.', 'Уйдем', ',', 'уйдем', ',', 'пока', 'не', 'поздно', ',', 'скорее', ',', 'под', 'плащом', ',', 'домой', ',', 'пока', 'еще', 'ты', 'не', 'опознан', ',', 'безумный', 'мой', ',', 'безумный', 'мой', '!']\n",
            "CPU times: user 5.66 ms, sys: 1.01 ms, total: 6.67 ms\n",
            "Wall time: 13.3 ms\n"
          ]
        }
      ],
      "source": [
        "%time print(word_tokenize(text, language='russian'))"
      ]
    },
    {
      "cell_type": "markdown",
      "metadata": {
        "id": "R-m5HSmj5Fv8"
      },
      "source": [
        "Можем разделить текст на предложения (сплиттинг):"
      ]
    },
    {
      "cell_type": "code",
      "execution_count": 44,
      "metadata": {
        "id": "12W6cHEVJiOC"
      },
      "outputs": [],
      "source": [
        "from nltk.tokenize import sent_tokenize"
      ]
    },
    {
      "cell_type": "code",
      "execution_count": 45,
      "metadata": {
        "colab": {
          "base_uri": "https://localhost:8080/"
        },
        "id": "EX3GolHF5Fv8",
        "outputId": "13eb9284-4685-436b-bf39-a31ba61c9a34"
      },
      "outputs": [
        {
          "output_type": "execute_result",
          "data": {
            "text/plain": [
              "['\\nВ. В. Набоков \"Как я люблю тебя\".',\n",
              " 'Такой зеленый, серый, то есть\\nвесь заштрихованный дождем,\\nи липовое, столь густое,\\nчто я перенести - уйдем!',\n",
              " 'Уйдем и этот сад оставим\\nи дождь, кипящий на тропах\\nмежду тяжелыми цветами,\\nцелующими липкий прах.',\n",
              " 'Уйдем, уйдем, пока не поздно,\\nскорее, под плащом, домой,\\nпока еще ты не опознан,\\nбезумный мой, безумный мой!']"
            ]
          },
          "metadata": {},
          "execution_count": 45
        }
      ],
      "source": [
        "sent_tokenize(text, language='russian')"
      ]
    },
    {
      "cell_type": "markdown",
      "metadata": {
        "id": "f87izxJQ5Fv8"
      },
      "source": [
        "NLTK может удалять стоп слова. Стоп-слова - это высокочастотные союзы, предлоги и другие служебные части речи, которые не дают нам никакой информации о конкретном тексте. В NLTK есть готовые списки стоп-слов (да-да, и для русского тоже есть)."
      ]
    },
    {
      "cell_type": "code",
      "execution_count": 46,
      "metadata": {
        "colab": {
          "base_uri": "https://localhost:8080/"
        },
        "id": "y0BvE2saJkLh",
        "outputId": "6a77652e-e1a9-40b4-fcd0-1494209e14cd"
      },
      "outputs": [
        {
          "output_type": "stream",
          "name": "stderr",
          "text": [
            "[nltk_data] Downloading package stopwords to /root/nltk_data...\n",
            "[nltk_data]   Package stopwords is already up-to-date!\n"
          ]
        },
        {
          "output_type": "execute_result",
          "data": {
            "text/plain": [
              "True"
            ]
          },
          "metadata": {},
          "execution_count": 46
        }
      ],
      "source": [
        "from nltk.corpus import stopwords\n",
        "\n",
        "nltk.download('stopwords')"
      ]
    },
    {
      "cell_type": "code",
      "execution_count": 47,
      "metadata": {
        "colab": {
          "base_uri": "https://localhost:8080/"
        },
        "id": "5oAoLVlH5Fv8",
        "outputId": "aa1d8715-2604-43ae-f71b-0759cb50683b"
      },
      "outputs": [
        {
          "output_type": "stream",
          "name": "stdout",
          "text": [
            "['и', 'в', 'во', 'не', 'что', 'он', 'на', 'я', 'с', 'со', 'как', 'а', 'то', 'все', 'она']\n"
          ]
        }
      ],
      "source": [
        "# загружаем нужный список стоп-слов\n",
        "sw = stopwords.words('russian')\n",
        "\n",
        "# смотрим, что внутри\n",
        "print(sw[:15])"
      ]
    },
    {
      "cell_type": "code",
      "execution_count": 48,
      "metadata": {
        "colab": {
          "base_uri": "https://localhost:8080/"
        },
        "id": "ttFXUp0D5Fv8",
        "outputId": "758d73a1-44bc-479a-8996-a77f3c3650c6"
      },
      "outputs": [
        {
          "output_type": "stream",
          "name": "stdout",
          "text": [
            "['набоков', 'люблю', 'зеленый', 'серый', 'весь', 'заштрихованный', 'дождем', 'липовое', 'столь', 'густое', 'перенести', 'уйдем', 'уйдем', 'сад', 'оставим']\n"
          ]
        }
      ],
      "source": [
        "# токенизируем текст, приводим к нижнему регистру и оставляем только последовательности из букв,\n",
        "# т.е. все токены, где были знаки препинания и числа, исчезнут\n",
        "words = [w.lower() for w in word_tokenize(text, language='russian') if w.isalpha()]\n",
        "\n",
        "# какие слова исчезли?\n",
        "filtered = [w for w in words if w not in sw]\n",
        "print(filtered[:15])"
      ]
    },
    {
      "cell_type": "markdown",
      "metadata": {
        "id": "DPJlPxvd5Fv9"
      },
      "source": [
        "И наконец-то стемминг"
      ]
    },
    {
      "cell_type": "code",
      "execution_count": 49,
      "metadata": {
        "id": "wbJ9w-SY5Fv9"
      },
      "outputs": [],
      "source": [
        "# умеет работать не только с английским текстом\n",
        "from nltk.stem.snowball import SnowballStemmer\n",
        "\n",
        "snowball = SnowballStemmer(\"russian\")"
      ]
    },
    {
      "cell_type": "code",
      "execution_count": 50,
      "metadata": {
        "colab": {
          "base_uri": "https://localhost:8080/"
        },
        "id": "LR1o9YG45Fv9",
        "outputId": "cc9bbcc7-0c6d-486c-9dea-da668c0bd6f0"
      },
      "outputs": [
        {
          "output_type": "stream",
          "name": "stdout",
          "text": [
            "Уйдем: уйд\n",
            "безумный: безумн\n",
            "весь: ве\n",
            "густое: густ\n",
            "дождем: дожд\n",
            "дождь: дожд\n",
            "домой: дом\n",
            "есть: ест\n",
            "еще: ещ\n",
            "заштрихованный: заштрихова\n",
            "зеленый: зелен\n",
            "и: и\n",
            "кипящий: кипя\n",
            "липкий: липк\n",
            "липовое: липов\n",
            "люблю: любл\n",
            "между: межд\n",
            "мой: мо\n",
            "на: на\n",
            "не: не\n"
          ]
        }
      ],
      "source": [
        "ruswords = set(word_tokenize(text, language='russian'))\n",
        "\n",
        "for w in sorted(ruswords)[10:30]:\n",
        "    print(\"%s: %s\" % (w, snowball.stem(w)))"
      ]
    },
    {
      "cell_type": "markdown",
      "metadata": {
        "id": "kDaPcOCd5Fv9"
      },
      "source": [
        "Качество, конечно, сомнительное.\n",
        "\n",
        "А в лемматизации тут нет русского, но в целом good to know."
      ]
    },
    {
      "cell_type": "code",
      "execution_count": 51,
      "metadata": {
        "colab": {
          "base_uri": "https://localhost:8080/"
        },
        "id": "Up81IWsW5Fv-",
        "outputId": "c5fe414a-78eb-4de9-f990-758085cf9813"
      },
      "outputs": [
        {
          "output_type": "stream",
          "name": "stderr",
          "text": [
            "[nltk_data] Downloading package wordnet to /root/nltk_data...\n",
            "[nltk_data]   Package wordnet is already up-to-date!\n",
            "[nltk_data] Downloading package omw-1.4 to /root/nltk_data...\n",
            "[nltk_data]   Package omw-1.4 is already up-to-date!\n"
          ]
        }
      ],
      "source": [
        "from nltk import WordNetLemmatizer\n",
        "\n",
        "\n",
        "nltk.download('wordnet')\n",
        "nltk.download('omw-1.4')\n",
        "\n",
        "\n",
        "wnl = WordNetLemmatizer()"
      ]
    },
    {
      "cell_type": "code",
      "execution_count": 52,
      "metadata": {
        "colab": {
          "base_uri": "https://localhost:8080/",
          "height": 35
        },
        "id": "8VfqsUOK5Fv-",
        "outputId": "76702629-7f6a-401d-d050-90c86307f9d3"
      },
      "outputs": [
        {
          "output_type": "execute_result",
          "data": {
            "text/plain": [
              "'run'"
            ],
            "application/vnd.google.colaboratory.intrinsic+json": {
              "type": "string"
            }
          },
          "metadata": {},
          "execution_count": 52
        }
      ],
      "source": [
        "wnl.lemmatize('running', pos='v')"
      ]
    },
    {
      "cell_type": "markdown",
      "source": [
        "#### Саммари\n",
        "\n",
        "**Достоинства NLTK**:\n",
        "* хорош для токенизации и разделении на предложения (даже для русского)\n",
        "* справляется с лемматизацией и стеммингом английского\n",
        "* большая библиотека с разным функционалом\n",
        "\n",
        "**Недостатки NLTK**:\n",
        "* в основном, разработана для английского\n",
        "* нет лемматизации на русском\n",
        "* очень некачественный стемминг на русском\n"
      ],
      "metadata": {
        "id": "p9TV7Kdhzz1f"
      }
    },
    {
      "cell_type": "markdown",
      "metadata": {
        "id": "zZEiNG9m5Fv5"
      },
      "source": [
        "### SpaCy"
      ]
    },
    {
      "cell_type": "markdown",
      "source": [
        "[**Документация**](https://spacy.io/)\n",
        "\n",
        "Мультиязыковая модель. Если кратко, то SpaCy может примерно всё то же самое, что и NLTK и аналоги (токенизация, лемматизация, POS-тэггинг, построение деревьев заввисимостей и NER), но быстрее и точнее (как минимум, для английского).\n",
        "\n",
        "В целом, сейчас скорее самая популярная для разных задач.\n",
        "\n",
        "Подробнее можно почитать статьи на Хабре:\n",
        "* [покороче](https://habr.com/ru/articles/504680/), но 20-го года, поэтому инфа, например, про отсутствие официальных моделей русского языка устарела;\n",
        "* [подлиннее](https://habr.com/ru/articles/531940/).\n",
        "\n",
        "Можно даже пройти [курс](https://course.spacy.io/en/) от создателей."
      ],
      "metadata": {
        "id": "j5ak8aGCuhUK"
      }
    },
    {
      "cell_type": "code",
      "execution_count": 53,
      "metadata": {
        "id": "a3MUtPtX5Fv6"
      },
      "outputs": [],
      "source": [
        "!pip install typing_extensions --upgrade --q"
      ]
    },
    {
      "cell_type": "code",
      "execution_count": 54,
      "metadata": {
        "id": "LayEDWReJPyR"
      },
      "outputs": [],
      "source": [
        "import spacy\n",
        "from spacy.lang.ru.examples import sentences\n",
        "\n",
        "\n",
        "nlp = spacy.load(\"ru_core_news_sm\")"
      ]
    },
    {
      "cell_type": "code",
      "execution_count": 55,
      "metadata": {
        "colab": {
          "base_uri": "https://localhost:8080/"
        },
        "id": "2WdH1g-25Fv6",
        "outputId": "738da707-e4d6-4d34-b7b4-e26ed23c1764"
      },
      "outputs": [
        {
          "output_type": "stream",
          "name": "stdout",
          "text": [
            "Apple рассматривает возможность покупки стартапа из Соединённого Королевства за $1 млрд Беспилотные автомобили перекладывают страховую ответственность на производителя\n",
            "Apple PROPN nsubj\n",
            "рассматривает VERB ROOT\n",
            "возможность NOUN obj\n",
            "покупки NOUN nmod\n",
            "стартапа NOUN nmod\n",
            "из ADP case\n",
            "Соединённого ADJ amod\n",
            "Королевства PROPN nmod\n",
            "за ADP case\n",
            "$ SYM nmod\n",
            "1 NUM appos\n",
            "млрд NOUN nmod\n",
            "Беспилотные ADJ amod\n",
            "автомобили NOUN nsubj\n",
            "перекладывают VERB conj\n",
            "страховую ADJ amod\n",
            "ответственность NOUN obj\n",
            "на ADP case\n",
            "производителя NOUN obl\n"
          ]
        }
      ],
      "source": [
        "doc = nlp(\" \".join(sentences[:2]))\n",
        "print(doc.text)\n",
        "for token in doc:\n",
        "    print(token.text, token.pos_, token.dep_)"
      ]
    },
    {
      "cell_type": "markdown",
      "metadata": {
        "id": "Emc3LD1Z5Fv-"
      },
      "source": [
        "## Задание\n",
        "\n",
        "Текст $-$ первая глава произведения \"Дар\" Набокова. Файл `nabokov.txt` у нас в [репозитории](https://raw.githubusercontent.com/hse-ling-python/seminars/refs/heads/master/morphology/input_files/nabokov.txt).\n",
        "\n",
        "1. Первое задание $-$ это небольшой эксперимент. Возьмите пять любых абзацев из текста и распарсите их двумя способами.\n",
        "    1. просто через pymystem (`.analyze`) и\n",
        "    2. через pymystem, предварительно почистив текст от пунктуации (тоже `.analyze`).<br>Замерить, что из этого быстрее с помощью line magic ``%time some_python_expression_here``\n",
        "2. Токенизируйте весь текст с помощью nltk.\n",
        "3. Почистите его от знаков препинания (тут пригодится список из первого задания), стоп-слов (с помощью nltk) и слов не на кириллице. Сделайте регистр `lower` у всх слов.\n",
        "4. Лемматизируйте с помощью pymorphy (`.normal_form`)\n",
        "5. Cоставьте частотный список слов. Выведите 20 самых частотных слов вообще.\n",
        "6. Найдите 20 самых частотных существительных.\n",
        "7. В тексте (списку слов), полчившемся после пункта 3 (токенизированному и почищенному), поищите биграммы. Для этого нужно будет посмотреть nltk документацию про `nltk.bigrams()`. Выведите 10 самых частотных биграммов.\n",
        "\n",
        "Напоминание:\n",
        "\n",
        "**N-граммы** $-$ это сочетания из N элементов (слов, символов), идущих друг за другом. Одиночные элементы называются униграммами, сочетания из двух элементов $-$ биграммами, из трёх $-$ триграммами, а дальше все пишется цифрами: 4-граммы, 5-граммы и т.д."
      ]
    }
  ],
  "metadata": {
    "colab": {
      "provenance": []
    },
    "kernelspec": {
      "display_name": "Python 3 (ipykernel)",
      "language": "python",
      "name": "python3"
    },
    "language_info": {
      "codemirror_mode": {
        "name": "ipython",
        "version": 3
      },
      "file_extension": ".py",
      "mimetype": "text/x-python",
      "name": "python",
      "nbconvert_exporter": "python",
      "pygments_lexer": "ipython3",
      "version": "3.11.5"
    }
  },
  "nbformat": 4,
  "nbformat_minor": 0
}