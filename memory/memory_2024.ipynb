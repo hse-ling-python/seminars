{
  "cells": [
    {
      "cell_type": "markdown",
      "id": "5408a9b1",
      "metadata": {
        "id": "5408a9b1"
      },
      "source": [
        "# Особенности памяти в питоне"
      ]
    },
    {
      "cell_type": "markdown",
      "id": "717305b3",
      "metadata": {
        "id": "717305b3"
      },
      "source": [
        "### Imports"
      ]
    },
    {
      "cell_type": "code",
      "execution_count": 5,
      "id": "d0fb07f1",
      "metadata": {
        "id": "d0fb07f1"
      },
      "outputs": [],
      "source": [
        "import os\n",
        "import sys\n",
        "import random"
      ]
    },
    {
      "cell_type": "markdown",
      "id": "8f18acc8",
      "metadata": {
        "id": "8f18acc8"
      },
      "source": [
        "## Общая информация"
      ]
    },
    {
      "cell_type": "markdown",
      "id": "44bb5ab2",
      "metadata": {
        "id": "44bb5ab2"
      },
      "source": [
        "**Как это работает на уровне системы**\n",
        "\n",
        "Программе для работы нужна память, чтобы хранить все свои объекты: сам код, состояние интепретатора (для питона), значения переменных и т.д. Однако изначально вся память принадлежит операционной системе, которая не склонна просто так ей делиться. Таким образом программе во время выполнения приходится делать запрос к ОС, чтобы попросить ту выделить нужное количество памяти. Эта операция очень дорогая с точки зрения времени, поэтому лучше делать ее пореже, однако просто один раз запросить много тоже нехорошо: остальной ОС тоже надо как-то выживать.\n",
        "\n",
        "Отсюда появляется множество алгоритмов работы с памятью, большая часть из которых сводится к своевременному выделению (аллокации) и освобождению памяти.\n",
        "\n",
        "Питон $-$ язык с реализованными механизмами автоматического управления памятью. Это означает, что вам не приходится (в отличие от того же c++) руками выделять память при создании нового объекта, питон это делает за вас. Для того, чтобы это работало, есть несколько механизмов:\n",
        "1. Сама память внутри программы устроена следующим образом (арена обычно 256 кб, пул $-$ 4кб, а блоки бывают разные, но из набора 8, 16, 24, ..., 512 байт):  \n",
        "![memory](https://habrastorage.org/getpro/habr/upload_files/e7f/514/64c/e7f51464c6998b75f4f3fa2bfe0bb5ef)\n",
        "2. Счетчик ссылок: считает, сколько раз ссылаются на объект в программе. Когда ссылки заканчиваются, объект уничтожается. К увеличению кол-ва ссылок приводит:\n",
        "    - присваивание\n",
        "    - передача в функцию\n",
        "    - вставка объекта в список\n",
        "3. Сборщик мусора $-$ помогает решать задачу управления памятью там, где не справляется счетчик ссылок (при циклических ссылках)"
      ]
    },
    {
      "cell_type": "code",
      "execution_count": 3,
      "id": "0a975e62",
      "metadata": {
        "colab": {
          "base_uri": "https://localhost:8080/"
        },
        "id": "0a975e62",
        "outputId": "cd849584-0045-4ffa-9195-5b962ddae42c"
      },
      "outputs": [
        {
          "output_type": "execute_result",
          "data": {
            "text/plain": [
              "([1, 3, 5, [2, 5, 7, [...]]], [2, 5, 7, [1, 3, 5, [...]]])"
            ]
          },
          "metadata": {},
          "execution_count": 3
        }
      ],
      "source": [
        "a = [1, 3, 5]\n",
        "b = [2, 5, 7]\n",
        "a.append(b)\n",
        "b.append(a)\n",
        "a, b"
      ]
    },
    {
      "cell_type": "markdown",
      "source": [
        "А еще мы можем смотреть, сколько памяти занимает написанная нами программа при выполнении. В этом нам помогает библиотека `memory_profiler`."
      ],
      "metadata": {
        "id": "UwGFjIj71tqE"
      },
      "id": "UwGFjIj71tqE"
    },
    {
      "cell_type": "code",
      "source": [
        "!pip install -U memory_profiler -q"
      ],
      "metadata": {
        "id": "wJYXWa1D2AuN"
      },
      "id": "wJYXWa1D2AuN",
      "execution_count": 4,
      "outputs": []
    },
    {
      "cell_type": "markdown",
      "source": [
        "Посмотрим, сколько памяти ест следующая функция (`@profile` $-$ декоратор, который говорит библиотеке, какую функцию мы хотим исследовать):\n",
        "```python\n",
        "@profile\n",
        "def my_func():\n",
        "    a = [1] * (10 ** 6)\n",
        "    b = [2] * (2 * 10 ** 7)\n",
        "    del b\n",
        "    return a\n",
        "\n",
        "if __name__ == '__main__':\n",
        "    my_func()\n",
        "```\n",
        "Чтобы это сделать, нам надо положить код в отдельный файл (`func.py`) и запустить профайлинг как команду в терминале/командной строке. В выдаче будет несколько важных нам колонок:\n",
        "- Mem usage $-$ сколько памяти использует интерпретатор питона после выполнения этой строки\n",
        "- Increment $-$ разница в занимаемой памяти между текущей строкой и предыдущей"
      ],
      "metadata": {
        "id": "BxHuNwbN2Ir1"
      },
      "id": "BxHuNwbN2Ir1"
    },
    {
      "cell_type": "code",
      "execution_count": 6,
      "id": "2aab5715",
      "metadata": {
        "colab": {
          "base_uri": "https://localhost:8080/"
        },
        "id": "2aab5715",
        "outputId": "785689f1-b8d0-43ee-a894-f0e302aa751d"
      },
      "outputs": [
        {
          "output_type": "stream",
          "name": "stdout",
          "text": [
            "Filename: func.py\n",
            "\n",
            "Line #    Mem usage    Increment  Occurrences   Line Contents\n",
            "=============================================================\n",
            "     1   38.016 MiB   38.016 MiB           1   @profile\n",
            "     2                                         def my_func():\n",
            "     3   45.750 MiB    7.734 MiB           1       a = [1] * (10 ** 6)\n",
            "     4  198.117 MiB  152.367 MiB           1       b = [2] * (2 * 10 ** 7)\n",
            "     5   45.773 MiB -152.344 MiB           1       del b\n",
            "     6   45.773 MiB    0.000 MiB           1       return a\n",
            "\n",
            "\n"
          ]
        }
      ],
      "source": [
        "!python -m memory_profiler func.py"
      ]
    },
    {
      "cell_type": "markdown",
      "id": "0a7586e2",
      "metadata": {
        "id": "0a7586e2"
      },
      "source": [
        "## Ссылки с точки зрения кода"
      ]
    },
    {
      "cell_type": "markdown",
      "id": "877bb749",
      "metadata": {
        "id": "877bb749"
      },
      "source": [
        "Питон хранит все данные по ссылке, иногда это создает проблемы в неожиданных местах. `id()` $-$ функция, которая позволяет получить индивидуальный номер объекта (а в питоне все объекты), то есть узнать, как питон ссылается на него в памяти"
      ]
    },
    {
      "cell_type": "code",
      "execution_count": 7,
      "id": "11998fae",
      "metadata": {
        "id": "11998fae",
        "outputId": "a7f76dcc-80c6-48fe-cd02-4dc37a5a120e",
        "colab": {
          "base_uri": "https://localhost:8080/"
        }
      },
      "outputs": [
        {
          "output_type": "execute_result",
          "data": {
            "text/plain": [
              "(138149200576720, 138149200576720, 138149200576720)"
            ]
          },
          "metadata": {},
          "execution_count": 7
        }
      ],
      "source": [
        "a = 0\n",
        "b = 1\n",
        "a_list = [0, b]\n",
        "id(0), id(a), id(a_list[0])"
      ]
    },
    {
      "cell_type": "code",
      "execution_count": 8,
      "id": "732aae9a",
      "metadata": {
        "id": "732aae9a",
        "outputId": "c5ac4c8a-d391-4041-e5ba-c1bb5d48c1db",
        "colab": {
          "base_uri": "https://localhost:8080/"
        }
      },
      "outputs": [
        {
          "output_type": "execute_result",
          "data": {
            "text/plain": [
              "(138148694974736, 138148694973296)"
            ]
          },
          "metadata": {},
          "execution_count": 8
        }
      ],
      "source": [
        "a = 10*1000\n",
        "id(10*1000), id(a)"
      ]
    },
    {
      "cell_type": "code",
      "execution_count": 9,
      "id": "46f8d191",
      "metadata": {
        "id": "46f8d191",
        "outputId": "88645fac-f4d9-4a00-d695-a9e3903187de",
        "colab": {
          "base_uri": "https://localhost:8080/"
        }
      },
      "outputs": [
        {
          "output_type": "execute_result",
          "data": {
            "text/plain": [
              "(138149200576752, 138149200576752, 138149200576752)"
            ]
          },
          "metadata": {},
          "execution_count": 9
        }
      ],
      "source": [
        "id(1), id(b), id(a_list[1])"
      ]
    },
    {
      "cell_type": "markdown",
      "id": "4dda257e",
      "metadata": {
        "id": "4dda257e"
      },
      "source": [
        "А вот с более сложными типами будет интереснее. Какой ответ ожидается в ячейке ниже?"
      ]
    },
    {
      "cell_type": "code",
      "execution_count": null,
      "id": "53145834",
      "metadata": {
        "id": "53145834"
      },
      "outputs": [],
      "source": [
        "test_lst1 = [0, 4, 7, 9]\n",
        "test_lst2 = [2, 6, 3, 8]\n",
        "test_lst3 = [0, 4, 7, 9]\n",
        "id(test_lst1), id(test_lst2), id(test_lst3)"
      ]
    },
    {
      "cell_type": "markdown",
      "id": "129d6849",
      "metadata": {
        "id": "129d6849"
      },
      "source": [
        "А теперь?"
      ]
    },
    {
      "cell_type": "code",
      "execution_count": null,
      "id": "479ef952",
      "metadata": {
        "id": "479ef952"
      },
      "outputs": [],
      "source": [
        "test_lst4 = test_lst1\n",
        "id(test_lst1), id(test_lst3), id(test_lst4)"
      ]
    },
    {
      "cell_type": "markdown",
      "id": "adb46543",
      "metadata": {
        "id": "adb46543"
      },
      "source": [
        "Еще есть функция `sys.getrefcount`. Я слабо себе представляю, как она может пригодиться вам в жизни (если вы не занимаетесь хардкодом, но тогда вы скорее всего делаете это не на питоне...), но понять хранение питона точно поможет. Надо заметить, что эта функция внутри себя создает еще одну ссылку (возможно, для очень сложным структур больше, но тут я не уверена), так что полученное значение надо уменьшать на единицу"
      ]
    },
    {
      "cell_type": "code",
      "execution_count": 13,
      "id": "bf081d82",
      "metadata": {
        "id": "bf081d82",
        "outputId": "53f19c9d-d8ed-4415-a6f1-aca3a5457afc",
        "colab": {
          "base_uri": "https://localhost:8080/"
        }
      },
      "outputs": [
        {
          "output_type": "execute_result",
          "data": {
            "text/plain": [
              "1"
            ]
          },
          "metadata": {},
          "execution_count": 13
        }
      ],
      "source": [
        "sys.getrefcount([])"
      ]
    },
    {
      "cell_type": "code",
      "execution_count": 14,
      "id": "c2bbe7f7",
      "metadata": {
        "id": "c2bbe7f7",
        "outputId": "5735a34f-c1ae-45ce-9453-0d03a166ec83",
        "colab": {
          "base_uri": "https://localhost:8080/"
        }
      },
      "outputs": [
        {
          "output_type": "execute_result",
          "data": {
            "text/plain": [
              "3"
            ]
          },
          "metadata": {},
          "execution_count": 14
        }
      ],
      "source": [
        "sys.getrefcount(test_lst2)"
      ]
    },
    {
      "cell_type": "code",
      "execution_count": 15,
      "id": "2cd3243e",
      "metadata": {
        "id": "2cd3243e",
        "outputId": "38abcfba-93bf-471c-fde0-6f437f7aef5e",
        "colab": {
          "base_uri": "https://localhost:8080/"
        }
      },
      "outputs": [
        {
          "output_type": "execute_result",
          "data": {
            "text/plain": [
              "5"
            ]
          },
          "metadata": {},
          "execution_count": 15
        }
      ],
      "source": [
        "sys.getrefcount(test_lst1)"
      ]
    },
    {
      "cell_type": "code",
      "execution_count": 16,
      "id": "59530216",
      "metadata": {
        "id": "59530216",
        "outputId": "2d681d2f-f28b-45a7-9f6e-992ab4be7c16",
        "colab": {
          "base_uri": "https://localhost:8080/"
        }
      },
      "outputs": [
        {
          "output_type": "execute_result",
          "data": {
            "text/plain": [
              "5"
            ]
          },
          "metadata": {},
          "execution_count": 16
        }
      ],
      "source": [
        "sys.getrefcount(test_lst4)"
      ]
    },
    {
      "cell_type": "markdown",
      "id": "4881ddc3",
      "metadata": {
        "id": "4881ddc3"
      },
      "source": [
        "А вот ниже мы, кажется, случайно увидели что-то очень для питона приватное: мы явно не ссылаемся на нули в таком количестве, значит, это информация о ссылках во внутренней струкутре питоне"
      ]
    },
    {
      "cell_type": "code",
      "execution_count": 17,
      "id": "708f0098",
      "metadata": {
        "id": "708f0098",
        "outputId": "62533844-2867-4eb8-cd65-7d95e109ab16",
        "colab": {
          "base_uri": "https://localhost:8080/"
        }
      },
      "outputs": [
        {
          "output_type": "execute_result",
          "data": {
            "text/plain": [
              "(8376, 9196, 46889)"
            ]
          },
          "metadata": {},
          "execution_count": 17
        }
      ],
      "source": [
        "sys.getrefcount(0), sys.getrefcount(True), sys.getrefcount(None)"
      ]
    },
    {
      "cell_type": "code",
      "execution_count": 18,
      "id": "415dc3e4",
      "metadata": {
        "id": "415dc3e4",
        "outputId": "fb1f9b46-c9b7-48b7-8972-296d2f001b0e",
        "colab": {
          "base_uri": "https://localhost:8080/"
        }
      },
      "outputs": [
        {
          "output_type": "execute_result",
          "data": {
            "text/plain": [
              "(6139, 3090, 2, 1)"
            ]
          },
          "metadata": {},
          "execution_count": 18
        }
      ],
      "source": [
        "sys.getrefcount(1), sys.getrefcount(2), sys.getrefcount(2**10), sys.getrefcount(2**100)"
      ]
    },
    {
      "cell_type": "markdown",
      "id": "f4038073",
      "metadata": {
        "id": "f4038073"
      },
      "source": [
        "Итак, с более сложными струкутрами данных питон начинает мухлевать и экономить усилия, дублируя в памяти ссылки, а не сами объекты. Это может ускорить работу и сэкономить память, но провоцирует опасные ситуации. Не баг, а фича, но фича с подвохом."
      ]
    },
    {
      "cell_type": "markdown",
      "id": "ef425406",
      "metadata": {
        "id": "ef425406"
      },
      "source": [
        "Теперь о подвохах"
      ]
    },
    {
      "cell_type": "code",
      "execution_count": 19,
      "id": "682ecdbe",
      "metadata": {
        "id": "682ecdbe",
        "outputId": "35ef192f-7463-4b86-c934-83a12e24572b",
        "colab": {
          "base_uri": "https://localhost:8080/"
        }
      },
      "outputs": [
        {
          "output_type": "execute_result",
          "data": {
            "text/plain": [
              "([0, 4, 7, 9], [0, 4, 7, 9], [0, 4, 7, 9])"
            ]
          },
          "metadata": {},
          "execution_count": 19
        }
      ],
      "source": [
        "test_lst1, test_lst3, test_lst4"
      ]
    },
    {
      "cell_type": "code",
      "execution_count": 20,
      "id": "a9ca413c",
      "metadata": {
        "id": "a9ca413c"
      },
      "outputs": [],
      "source": [
        "test_lst1.append(10)"
      ]
    },
    {
      "cell_type": "markdown",
      "id": "99428c28",
      "metadata": {
        "id": "99428c28"
      },
      "source": [
        "Что мы ожидаем увидеть?"
      ]
    },
    {
      "cell_type": "code",
      "execution_count": null,
      "id": "ee5416fa",
      "metadata": {
        "id": "ee5416fa"
      },
      "outputs": [],
      "source": [
        "test_lst1, test_lst3, test_lst4"
      ]
    },
    {
      "cell_type": "markdown",
      "id": "593e358a",
      "metadata": {
        "id": "593e358a"
      },
      "source": [
        "Теперь о менее очевидном, но более опасном\n",
        "</br>\n",
        "Пусть надо написать функцию, которая считает сумму всех элементов в двух списках. Узнав о классной встроенной функции `sum()` мы решили, что просто сложим все элемерты в первый список и посчитаем сумму. Тут со стороны кажется, что сплошные плюсы: мы экономим строки кода, экономим место в переменных..."
      ]
    },
    {
      "cell_type": "code",
      "execution_count": 22,
      "id": "a5499732",
      "metadata": {
        "id": "a5499732"
      },
      "outputs": [],
      "source": [
        "def test_func1(lst1, lst2):\n",
        "    lst1 += lst2\n",
        "    return sum(lst1)"
      ]
    },
    {
      "cell_type": "code",
      "execution_count": 23,
      "id": "d9193496",
      "metadata": {
        "id": "d9193496",
        "outputId": "8b9b29fd-a4d7-45fb-e3ad-eae8f0fd1a95",
        "colab": {
          "base_uri": "https://localhost:8080/"
        }
      },
      "outputs": [
        {
          "output_type": "execute_result",
          "data": {
            "text/plain": [
              "49"
            ]
          },
          "metadata": {},
          "execution_count": 23
        }
      ],
      "source": [
        "test_func1(test_lst1, test_lst2)"
      ]
    },
    {
      "cell_type": "markdown",
      "id": "3bbe3160",
      "metadata": {
        "id": "3bbe3160"
      },
      "source": [
        "Что будет выведено дальше?"
      ]
    },
    {
      "cell_type": "code",
      "execution_count": null,
      "id": "f96510d9",
      "metadata": {
        "id": "f96510d9"
      },
      "outputs": [],
      "source": [
        "test_lst1, test_lst2"
      ]
    },
    {
      "cell_type": "markdown",
      "id": "e8b859c3",
      "metadata": {
        "id": "e8b859c3"
      },
      "source": [
        "А тепреь еще интереснее"
      ]
    },
    {
      "cell_type": "code",
      "execution_count": null,
      "id": "9fa26927",
      "metadata": {
        "id": "9fa26927"
      },
      "outputs": [],
      "source": [
        "test_lst4"
      ]
    },
    {
      "cell_type": "markdown",
      "id": "f81bb89c",
      "metadata": {
        "id": "f81bb89c"
      },
      "source": [
        "Казалось бы, и в первом, и во втором случае мы его вообще не трогали, во втором мы еще и не сохраняли никуда результат, но питон все решил за нас."
      ]
    },
    {
      "cell_type": "markdown",
      "id": "1634bcb5",
      "metadata": {
        "id": "1634bcb5"
      },
      "source": [
        "Еще один пример, теперь про значения по умолчанию. Пусть нам надо написать функцию, которая получает на вход список пассажиров автобуса, имя пассажира и маркер того, что надо сделать: высадить или посадить. По умолчанию автобус пустой"
      ]
    },
    {
      "cell_type": "code",
      "execution_count": 26,
      "id": "26b84bdc",
      "metadata": {
        "id": "26b84bdc"
      },
      "outputs": [],
      "source": [
        "def bus_func(bus=[], name=None, take=True):\n",
        "    if name is not None:\n",
        "        if take:\n",
        "            bus.append(name)\n",
        "        else:\n",
        "            if name in bus:\n",
        "                # высаживаем первого пассажира с таким именем... кому-то не повезет :)\n",
        "                bus.remove(name)\n",
        "    return bus"
      ]
    },
    {
      "cell_type": "markdown",
      "id": "92ca9aea",
      "metadata": {
        "id": "92ca9aea"
      },
      "source": [
        "Проверяем, что все работает"
      ]
    },
    {
      "cell_type": "code",
      "execution_count": 27,
      "id": "440e6e68",
      "metadata": {
        "id": "440e6e68",
        "outputId": "6796d311-0e59-4892-c406-f9aa00ff3cfa",
        "colab": {
          "base_uri": "https://localhost:8080/"
        }
      },
      "outputs": [
        {
          "output_type": "execute_result",
          "data": {
            "text/plain": [
              "['Kate']"
            ]
          },
          "metadata": {},
          "execution_count": 27
        }
      ],
      "source": [
        "my_bus = []\n",
        "my_bus = bus_func(my_bus, 'Kate', True)\n",
        "my_bus"
      ]
    },
    {
      "cell_type": "code",
      "execution_count": 28,
      "id": "d5b94386",
      "metadata": {
        "id": "d5b94386",
        "outputId": "a32e119c-2917-493a-d72b-1bd976ca74b5",
        "colab": {
          "base_uri": "https://localhost:8080/"
        }
      },
      "outputs": [
        {
          "output_type": "execute_result",
          "data": {
            "text/plain": [
              "['Max']"
            ]
          },
          "metadata": {},
          "execution_count": 28
        }
      ],
      "source": [
        "my_bus = bus_func(my_bus, 'Max', True)\n",
        "my_bus = bus_func(my_bus, 'Kate', False)\n",
        "my_bus"
      ]
    },
    {
      "cell_type": "markdown",
      "id": "e1d6a12e",
      "metadata": {
        "id": "e1d6a12e"
      },
      "source": [
        "Посадим в пустой автобус кого-нибудь еще"
      ]
    },
    {
      "cell_type": "code",
      "execution_count": 29,
      "id": "d839d68e",
      "metadata": {
        "id": "d839d68e",
        "outputId": "560408be-bd4a-445d-e05b-b4f1476d8cf9",
        "colab": {
          "base_uri": "https://localhost:8080/"
        }
      },
      "outputs": [
        {
          "output_type": "execute_result",
          "data": {
            "text/plain": [
              "['Alice', 'Peter']"
            ]
          },
          "metadata": {},
          "execution_count": 29
        }
      ],
      "source": [
        "my_bus2 = bus_func(name='Alice', take=True)\n",
        "my_bus2 = bus_func(my_bus2, 'Peter', True)\n",
        "my_bus2"
      ]
    },
    {
      "cell_type": "markdown",
      "id": "6d1800ed",
      "metadata": {
        "id": "6d1800ed"
      },
      "source": [
        "Теперь в другой пустой автобус"
      ]
    },
    {
      "cell_type": "code",
      "execution_count": 30,
      "id": "f387f0ba",
      "metadata": {
        "id": "f387f0ba",
        "outputId": "51f9f876-00ca-4a00-ca34-bf641ad11cab",
        "colab": {
          "base_uri": "https://localhost:8080/"
        }
      },
      "outputs": [
        {
          "output_type": "execute_result",
          "data": {
            "text/plain": [
              "['Alice', 'Peter', 'John']"
            ]
          },
          "metadata": {},
          "execution_count": 30
        }
      ],
      "source": [
        "my_bus3 = bus_func(name='John', take=True)\n",
        "my_bus3"
      ]
    },
    {
      "cell_type": "markdown",
      "id": "576cff9a",
      "metadata": {
        "id": "576cff9a"
      },
      "source": [
        "И сделаем просто пустой автобус. Вдруг пригодится"
      ]
    },
    {
      "cell_type": "code",
      "execution_count": 31,
      "id": "d4a40bbf",
      "metadata": {
        "id": "d4a40bbf",
        "outputId": "4900a631-211a-4977-92f1-a2a12baefb64",
        "colab": {
          "base_uri": "https://localhost:8080/"
        }
      },
      "outputs": [
        {
          "output_type": "execute_result",
          "data": {
            "text/plain": [
              "['Alice', 'Peter', 'John']"
            ]
          },
          "metadata": {},
          "execution_count": 31
        }
      ],
      "source": [
        "my_bus4 = bus_func()\n",
        "my_bus4"
      ]
    },
    {
      "cell_type": "markdown",
      "id": "fa27df5c",
      "metadata": {
        "id": "fa27df5c"
      },
      "source": [
        "Вспомним про второй автобус и высадим кого-нибудь оттуда"
      ]
    },
    {
      "cell_type": "code",
      "execution_count": 32,
      "id": "f96e15e7",
      "metadata": {
        "id": "f96e15e7",
        "outputId": "9bfb82e5-2d97-4379-f66d-0e021fbd8b6c",
        "colab": {
          "base_uri": "https://localhost:8080/"
        }
      },
      "outputs": [
        {
          "output_type": "execute_result",
          "data": {
            "text/plain": [
              "['Alice', 'John']"
            ]
          },
          "metadata": {},
          "execution_count": 32
        }
      ],
      "source": [
        "my_bus2 = bus_func(my_bus3, 'Peter', False)\n",
        "my_bus2"
      ]
    },
    {
      "cell_type": "markdown",
      "id": "ddecbf6d",
      "metadata": {
        "id": "ddecbf6d"
      },
      "source": [
        "А теперь посмотрим, что же произошло с функцией. У каждой функции есть атрибут `__defaults__`, в котором содержаться значения по умолчанию аргументов этой функции"
      ]
    },
    {
      "cell_type": "code",
      "execution_count": 33,
      "id": "bdb0bc3f",
      "metadata": {
        "id": "bdb0bc3f",
        "outputId": "af68edb0-3b31-4aa6-f70b-cbfeba6b0b63",
        "colab": {
          "base_uri": "https://localhost:8080/"
        }
      },
      "outputs": [
        {
          "output_type": "execute_result",
          "data": {
            "text/plain": [
              "(['Alice', 'John'], None, True)"
            ]
          },
          "metadata": {},
          "execution_count": 33
        }
      ],
      "source": [
        "bus_func.__defaults__"
      ]
    },
    {
      "cell_type": "markdown",
      "id": "1670e883",
      "metadata": {
        "id": "1670e883"
      },
      "source": [
        "Ну, теперь это автобус, у которого есть пассажиры по умолчанию :)"
      ]
    },
    {
      "cell_type": "markdown",
      "id": "999b636b",
      "metadata": {
        "id": "999b636b"
      },
      "source": [
        "**Почему так получается?**\n",
        "Когда мы создаем объект в питоне (а функции и списки $-$ это все объекты, хотя и разных классов), по очереди вызываются два метода:\n",
        "- `__new__`, который отвечает за создание объекта\n",
        "- `__init__`, который отвечает за инициализацию объекта\n",
        "\n",
        "Именно в них происходит выделение памяти и присваивание объекту его личного адреса, по которому питон будет его искать. Когда мы даем питону прочитать описание функции, мы на самом деле создаем новый объект функции, с которым потом будем работать. При создании в том числе создаются и ссылки на все параметры по умолчанию.\n",
        "\n",
        "Из-за этого получается, что для всех вызовов функции это одни и те же объекты, что в случае со списками (и еще словарями, множествами и любыми другими изменяемыми типами данных) приводит к описанному выше поведению.\n",
        "\n",
        "Давайте посмотрим на это на практике. Для этого создадим наш собственный класс списка, который от обычного будет отличаться только оповещением нас о своем создании."
      ]
    },
    {
      "cell_type": "code",
      "execution_count": 34,
      "id": "63a0542a",
      "metadata": {
        "id": "63a0542a"
      },
      "outputs": [],
      "source": [
        "class MyList(list):\n",
        "    def __init__(self, *args, **kwargs):\n",
        "        print('hello i am here')\n",
        "        super().__init__(*args, **kwargs)"
      ]
    },
    {
      "cell_type": "markdown",
      "source": [
        "Теперь опишем функцию с нашим списком как параметром по умолчанию:"
      ],
      "metadata": {
        "id": "8S4qAsLs6Buk"
      },
      "id": "8S4qAsLs6Buk"
    },
    {
      "cell_type": "code",
      "execution_count": 35,
      "id": "be822a0a",
      "metadata": {
        "id": "be822a0a",
        "outputId": "f7f3674f-13c4-41e8-ca56-020510f26697",
        "colab": {
          "base_uri": "https://localhost:8080/"
        }
      },
      "outputs": [
        {
          "output_type": "stream",
          "name": "stdout",
          "text": [
            "hello i am here\n"
          ]
        }
      ],
      "source": [
        "def bus_func_cust(bus=MyList(), name=None, take=True):\n",
        "    if name is not None:\n",
        "        if take:\n",
        "            bus.append(name)\n",
        "        else:\n",
        "            if name in bus:\n",
        "                bus.remove(name)\n",
        "    return bus"
      ]
    },
    {
      "cell_type": "markdown",
      "source": [
        "Обратите внимание, что оповещение о создании пришло нам один раз при описании функции и больше не появляется"
      ],
      "metadata": {
        "id": "NZzUSeHm6JCm"
      },
      "id": "NZzUSeHm6JCm"
    },
    {
      "cell_type": "code",
      "execution_count": 36,
      "id": "55e5cc2b",
      "metadata": {
        "id": "55e5cc2b",
        "outputId": "5f590637-a827-4e13-c496-6e5d011b3d6e",
        "colab": {
          "base_uri": "https://localhost:8080/"
        }
      },
      "outputs": [
        {
          "output_type": "execute_result",
          "data": {
            "text/plain": [
              "['Alice', 'Peter']"
            ]
          },
          "metadata": {},
          "execution_count": 36
        }
      ],
      "source": [
        "my_bus2 = bus_func_cust(name='Alice', take=True)\n",
        "my_bus2 = bus_func_cust(my_bus2, 'Peter', True)\n",
        "my_bus2"
      ]
    },
    {
      "cell_type": "code",
      "execution_count": 37,
      "id": "0f74975c",
      "metadata": {
        "id": "0f74975c",
        "outputId": "552333df-e1e9-40ff-c268-608a24d77e87",
        "colab": {
          "base_uri": "https://localhost:8080/"
        }
      },
      "outputs": [
        {
          "output_type": "execute_result",
          "data": {
            "text/plain": [
              "['Alice', 'Peter']"
            ]
          },
          "metadata": {},
          "execution_count": 37
        }
      ],
      "source": [
        "my_bus4 = bus_func_cust()\n",
        "my_bus4"
      ]
    },
    {
      "cell_type": "code",
      "execution_count": 38,
      "id": "b85f10ac",
      "metadata": {
        "id": "b85f10ac",
        "outputId": "92fbf2d7-473f-4afd-894d-ae67f8afa5c5",
        "colab": {
          "base_uri": "https://localhost:8080/"
        }
      },
      "outputs": [
        {
          "output_type": "execute_result",
          "data": {
            "text/plain": [
              "(['Alice', 'Peter'], None, True)"
            ]
          },
          "metadata": {},
          "execution_count": 38
        }
      ],
      "source": [
        "bus_func_cust.__defaults__"
      ]
    },
    {
      "cell_type": "markdown",
      "id": "cb102b69",
      "metadata": {
        "id": "cb102b69"
      },
      "source": [
        "## Сравнения"
      ]
    },
    {
      "cell_type": "markdown",
      "id": "e4ca7dfa",
      "metadata": {
        "id": "e4ca7dfa"
      },
      "source": [
        "Теперь с темы ссылок перейдем к сравнениям, они связаны. В питоне есть два способа проверить равенство двух объектов: </br>`a == b`</br>`a is b` </br>Давайте вернем наши чудесные списки"
      ]
    },
    {
      "cell_type": "code",
      "execution_count": 39,
      "id": "9a72fb53",
      "metadata": {
        "id": "9a72fb53"
      },
      "outputs": [],
      "source": [
        "test_lst1 = [0, 4, 7, 9]\n",
        "test_lst2 = [2, 6, 3, 8]\n",
        "test_lst3 = [0, 4, 7, 9]\n",
        "test_lst4 = test_lst1"
      ]
    },
    {
      "cell_type": "markdown",
      "id": "53b1f1f0",
      "metadata": {
        "id": "53b1f1f0"
      },
      "source": [
        "Результаты какой пары из трех ячеек ниже совпадут?"
      ]
    },
    {
      "cell_type": "code",
      "execution_count": null,
      "id": "2a5a2225",
      "metadata": {
        "id": "2a5a2225"
      },
      "outputs": [],
      "source": [
        "test_lst1 == test_lst2, test_lst1 == test_lst3, test_lst1 == test_lst4"
      ]
    },
    {
      "cell_type": "code",
      "execution_count": null,
      "id": "cec13884",
      "metadata": {
        "id": "cec13884"
      },
      "outputs": [],
      "source": [
        "test_lst1 is test_lst2, test_lst1 is test_lst3, test_lst1 is test_lst4"
      ]
    },
    {
      "cell_type": "code",
      "execution_count": null,
      "id": "475abb49",
      "metadata": {
        "id": "475abb49"
      },
      "outputs": [],
      "source": [
        "id(test_lst1) == id(test_lst2), id(test_lst1) == id(test_lst3), id(test_lst1) == id(test_lst4)"
      ]
    },
    {
      "cell_type": "markdown",
      "id": "4e90d4c6",
      "metadata": {
        "id": "4e90d4c6"
      },
      "source": [
        "Данные операторы отличаются тем, что один сравнивает содерждание объектов, а другой $-$ их идентификаторы. Поэтому в большинстве случаев надо использовать `==`: нас чаще интересует содержание, а не странные питоновские нюансы памяти. Однако сравнение с уникальными сущностями типа `None`, `False` или `True`лучше производить через `is`. Если кто-то из вас пользуется пайчармом, то он мог говорить вам что-то такое"
      ]
    },
    {
      "cell_type": "markdown",
      "id": "0459e92e",
      "metadata": {
        "id": "0459e92e"
      },
      "source": [
        "О проверке типа `if cat`, когда `cat` - это различные типы данных"
      ]
    },
    {
      "cell_type": "code",
      "execution_count": 43,
      "id": "614b4a9a",
      "metadata": {
        "id": "614b4a9a"
      },
      "outputs": [],
      "source": [
        "def if_cat(cat):\n",
        "    if cat:\n",
        "        return 'yes'\n",
        "    else:\n",
        "        return 'no'"
      ]
    },
    {
      "cell_type": "code",
      "execution_count": 44,
      "id": "ec57d0d4",
      "metadata": {
        "id": "ec57d0d4",
        "outputId": "7e4bcc8a-a06b-4e82-e0ac-e367d96c8850",
        "colab": {
          "base_uri": "https://localhost:8080/"
        }
      },
      "outputs": [
        {
          "output_type": "execute_result",
          "data": {
            "text/plain": [
              "('yes', 'no')"
            ]
          },
          "metadata": {},
          "execution_count": 44
        }
      ],
      "source": [
        "if_cat(True), if_cat(False)"
      ]
    },
    {
      "cell_type": "code",
      "execution_count": 45,
      "id": "904736ef",
      "metadata": {
        "id": "904736ef",
        "outputId": "17b0133c-01dc-423b-97eb-8441b3e04655",
        "colab": {
          "base_uri": "https://localhost:8080/",
          "height": 36
        }
      },
      "outputs": [
        {
          "output_type": "execute_result",
          "data": {
            "text/plain": [
              "'no'"
            ],
            "application/vnd.google.colaboratory.intrinsic+json": {
              "type": "string"
            }
          },
          "metadata": {},
          "execution_count": 45
        }
      ],
      "source": [
        "if_cat(None)"
      ]
    },
    {
      "cell_type": "code",
      "execution_count": 46,
      "id": "e4ab4c0a",
      "metadata": {
        "id": "e4ab4c0a",
        "outputId": "3ebabf40-6725-4c67-c473-0359e1659a1d",
        "colab": {
          "base_uri": "https://localhost:8080/"
        }
      },
      "outputs": [
        {
          "output_type": "execute_result",
          "data": {
            "text/plain": [
              "('no', 'no', 'no', 'no')"
            ]
          },
          "metadata": {},
          "execution_count": 46
        }
      ],
      "source": [
        "if_cat([]), if_cat(''), if_cat({}), if_cat(set())"
      ]
    },
    {
      "cell_type": "code",
      "execution_count": 47,
      "id": "d1f97170",
      "metadata": {
        "id": "d1f97170",
        "outputId": "00b927bc-28b2-4f92-9652-98b3a553ba3c",
        "colab": {
          "base_uri": "https://localhost:8080/"
        }
      },
      "outputs": [
        {
          "output_type": "execute_result",
          "data": {
            "text/plain": [
              "('no', 'yes', 'yes')"
            ]
          },
          "metadata": {},
          "execution_count": 47
        }
      ],
      "source": [
        "if_cat(0), if_cat(1), if_cat(6)"
      ]
    },
    {
      "cell_type": "code",
      "execution_count": 48,
      "id": "67c5c2f2",
      "metadata": {
        "id": "67c5c2f2",
        "outputId": "f3f35d2e-a532-4ba7-fe90-6de77bb81f27",
        "colab": {
          "base_uri": "https://localhost:8080/"
        }
      },
      "outputs": [
        {
          "output_type": "execute_result",
          "data": {
            "text/plain": [
              "('yes', 'yes', 'yes')"
            ]
          },
          "metadata": {},
          "execution_count": 48
        }
      ],
      "source": [
        "if_cat([12, ]), if_cat('hi!'), if_cat({'hi!': 12})"
      ]
    },
    {
      "cell_type": "markdown",
      "id": "6609b490",
      "metadata": {
        "id": "6609b490"
      },
      "source": [
        "Где тут может быть подвох: дейсвтия на `None` часто требуется прописывать отдельно, и такая проверка может перепутать его с любым другим пустым объектом. Пусть у вас есть функция, в которую передается параметр, отвечающий за кол-во симовлов при выводе. Если он `None`, то вывести надо все"
      ]
    },
    {
      "cell_type": "code",
      "execution_count": 49,
      "id": "5d29667b",
      "metadata": {
        "id": "5d29667b"
      },
      "outputs": [],
      "source": [
        "def test_func3(text, line=None):\n",
        "    # do something\n",
        "    if not line:\n",
        "        return text\n",
        "    else:\n",
        "        return text[:line]"
      ]
    },
    {
      "cell_type": "code",
      "execution_count": 51,
      "id": "7ca7482d",
      "metadata": {
        "id": "7ca7482d"
      },
      "outputs": [],
      "source": [
        "text = '''\n",
        "Лиса предложила раку бегать наперегонки. Рак согласился. Лиса побежала, а рак уцепился за лисий хвост.\n",
        "Лиса добежала до места. Обернулась лиса, а рак отцепился и говорит: «A я давно тут тебя жду».\n",
        "'''"
      ]
    },
    {
      "cell_type": "code",
      "execution_count": 52,
      "id": "65995d71",
      "metadata": {
        "id": "65995d71",
        "outputId": "843f21de-0ecf-483b-af46-8ed7f4f87bfe",
        "colab": {
          "base_uri": "https://localhost:8080/",
          "height": 36
        }
      },
      "outputs": [
        {
          "output_type": "execute_result",
          "data": {
            "text/plain": [
              "'\\nЛиса пред'"
            ],
            "application/vnd.google.colaboratory.intrinsic+json": {
              "type": "string"
            }
          },
          "metadata": {},
          "execution_count": 52
        }
      ],
      "source": [
        "test_func3(text, 10)"
      ]
    },
    {
      "cell_type": "code",
      "execution_count": 53,
      "id": "7bf9d3e9",
      "metadata": {
        "id": "7bf9d3e9",
        "outputId": "b7b15e0e-0593-48d1-ffcd-5ac229b2478b",
        "colab": {
          "base_uri": "https://localhost:8080/",
          "height": 54
        }
      },
      "outputs": [
        {
          "output_type": "execute_result",
          "data": {
            "text/plain": [
              "'\\nЛиса предложила раку бегать наперегонки. Рак согласился. Лиса побежала, а рак уцепился за лисий хвост.\\nЛиса добежала до места. Обернулась лиса, а рак отцепился и говорит: «A я давно тут тебя жду».\\n'"
            ],
            "application/vnd.google.colaboratory.intrinsic+json": {
              "type": "string"
            }
          },
          "metadata": {},
          "execution_count": 53
        }
      ],
      "source": [
        "test_func3(text, None)"
      ]
    },
    {
      "cell_type": "code",
      "execution_count": 54,
      "id": "2202d36c",
      "metadata": {
        "id": "2202d36c",
        "outputId": "a9e9b3e1-9e6b-4c59-e938-fa067269262f",
        "colab": {
          "base_uri": "https://localhost:8080/",
          "height": 54
        }
      },
      "outputs": [
        {
          "output_type": "execute_result",
          "data": {
            "text/plain": [
              "'\\nЛиса предложила раку бегать наперегонки. Рак согласился. Лиса побежала, а рак уцепился за лисий хвост.\\nЛиса добежала до места. Обернулась лиса, а рак отцепился и говорит: «A я давно тут тебя жду».\\n'"
            ],
            "application/vnd.google.colaboratory.intrinsic+json": {
              "type": "string"
            }
          },
          "metadata": {},
          "execution_count": 54
        }
      ],
      "source": [
        "test_func3(text, 0)"
      ]
    },
    {
      "cell_type": "markdown",
      "id": "dffe06fb",
      "metadata": {
        "id": "dffe06fb"
      },
      "source": [
        "Мы же не хотели получать символы в выводе, ввели ноль, а тут вдруг целый текст. Нехорошо :)</br>\n",
        "Поэтому лучше делать сравнение с `None` явным\n",
        "\n",
        "```python\n",
        "if line is None:\n",
        "    ...\n",
        "````"
      ]
    }
  ],
  "metadata": {
    "kernelspec": {
      "display_name": "Python 3 (ipykernel)",
      "language": "python",
      "name": "python3"
    },
    "language_info": {
      "codemirror_mode": {
        "name": "ipython",
        "version": 3
      },
      "file_extension": ".py",
      "mimetype": "text/x-python",
      "name": "python",
      "nbconvert_exporter": "python",
      "pygments_lexer": "ipython3",
      "version": "3.11.5"
    },
    "colab": {
      "provenance": []
    }
  },
  "nbformat": 4,
  "nbformat_minor": 5
}