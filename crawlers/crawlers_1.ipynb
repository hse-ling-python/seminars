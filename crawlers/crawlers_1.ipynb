{
 "cells": [
  {
   "cell_type": "markdown",
   "metadata": {},
   "source": [
    "# Краулеры\n",
    "\n",
    "**План**\n",
    "\n",
    "1. Что такое краулеры?\n",
    "2. Как написать простой краулер?\n",
    "3. Блокировки и способы их обхода"
   ]
  },
  {
   "cell_type": "markdown",
   "metadata": {},
   "source": [
    "## Что такое краулеры?\n",
    "\n",
    "Краулеры - это боты/программы, которые \"ползают\" по страницам сайта и собирают информацию. Все чаще использование таких программ запрещается правилами пользования сайтами, поэтому это формально нехорошо. Но так продолжают делать и это надо уметь. Запрещают по 2 основным причинам: не хотят делиться данными и боятся, что вы уроните сервер (если сайт маленький и сервер не очень, то это довольно легко). Поэтому нужно собирать данные аккуратно, чтобы вас а) не заблокировали по IP и б) вы не навредили серверу"
   ]
  },
  {
   "cell_type": "markdown",
   "metadata": {},
   "source": [
    "## Как написать простой краулер?"
   ]
  },
  {
   "cell_type": "code",
   "execution_count": 1,
   "metadata": {},
   "outputs": [],
   "source": [
    "import requests\n",
    "from pprint import pprint"
   ]
  },
  {
   "cell_type": "markdown",
   "metadata": {},
   "source": [
    "Вместо отдельных запросов лучше создать сессию, которая позволит хранить информацию между запросами и поддерживать то же соединение и не создавать каждый раз все заново, что влияет на производительность."
   ]
  },
  {
   "cell_type": "code",
   "execution_count": 2,
   "metadata": {},
   "outputs": [],
   "source": [
    "session = requests.session()"
   ]
  },
  {
   "cell_type": "markdown",
   "metadata": {},
   "source": [
    "Попробуем сделать запрос, просто вместо requests.get мы пишет session.get."
   ]
  },
  {
   "cell_type": "code",
   "execution_count": 3,
   "metadata": {},
   "outputs": [],
   "source": [
    "response = session.get('https://ru.wikipedia.org')"
   ]
  },
  {
   "cell_type": "markdown",
   "metadata": {},
   "source": [
    "Может найти значения нашего IP-адреса"
   ]
  },
  {
   "cell_type": "code",
   "execution_count": 4,
   "metadata": {},
   "outputs": [
    {
     "data": {
      "text/plain": [
       "'109.252.208.253'"
      ]
     },
     "execution_count": 4,
     "metadata": {},
     "output_type": "execute_result"
    }
   ],
   "source": [
    "response.headers['X-Client-IP']"
   ]
  },
  {
   "cell_type": "markdown",
   "metadata": {},
   "source": [
    "Можно ли нас отследить по IP? С определенной точностью, можно узнать округ или компанию, к которой привязан любой IP. Пример сервиса, который позволяет это сделать [здесь](https://whatismyipaddress.com/ip-lookup)"
   ]
  },
  {
   "cell_type": "markdown",
   "metadata": {},
   "source": [
    "Посмотреть на headers запроса"
   ]
  },
  {
   "cell_type": "code",
   "execution_count": 5,
   "metadata": {},
   "outputs": [
    {
     "name": "stdout",
     "output_type": "stream",
     "text": [
      "{'accept-ch': '',\n",
      " 'accept-ranges': 'bytes',\n",
      " 'age': '511',\n",
      " 'cache-control': 'private, s-maxage=0, max-age=0, must-revalidate',\n",
      " 'content-encoding': 'gzip',\n",
      " 'content-language': 'ru',\n",
      " 'content-length': '28213',\n",
      " 'content-type': 'text/html; charset=UTF-8',\n",
      " 'date': 'Wed, 08 Nov 2023 20:01:26 GMT',\n",
      " 'last-modified': 'Wed, 08 Nov 2023 20:01:23 GMT',\n",
      " 'nel': '{ \"report_to\": \"wm_nel\", \"max_age\": 604800, \"failure_fraction\": 0.05, '\n",
      "        '\"success_fraction\": 0.0}',\n",
      " 'report-to': '{ \"group\": \"wm_nel\", \"max_age\": 604800, \"endpoints\": [{ \"url\": '\n",
      "              '\"https://intake-logging.wikimedia.org/v1/events?stream=w3c.reportingapi.network_error&schema_uri=/w3c/reportingapi/network_error/1.0.0\" '\n",
      "              '}] }',\n",
      " 'server': 'mw1371.eqiad.wmnet',\n",
      " 'server-timing': 'cache;desc=\"hit-front\", host;desc=\"cp3072\"',\n",
      " 'set-cookie': 'WMF-DP=68f;Path=/;HttpOnly;secure;Expires=Thu, 09 Nov 2023 '\n",
      "               '00:00:00 GMT, '\n",
      "               'NetworkProbeLimit=0.001;Path=/;Secure;Max-Age=3600',\n",
      " 'strict-transport-security': 'max-age=106384710; includeSubDomains; preload',\n",
      " 'vary': 'Accept-Encoding,Cookie',\n",
      " 'x-cache': 'cp3072 miss, cp3072 hit/309',\n",
      " 'x-cache-status': 'hit-front',\n",
      " 'x-client-ip': '109.252.208.253',\n",
      " 'x-content-type-options': 'nosniff'}\n"
     ]
    }
   ],
   "source": [
    "pprint(dict(response.headers))"
   ]
  },
  {
   "cell_type": "markdown",
   "metadata": {},
   "source": [
    "### Стратегии сбора данных\n",
    "\n",
    "\n",
    "По сути краулеры выполняют сбор страниц (их html) как мы это делали на прошлом занятии, но делают они это циклами (или циклами циклов). Можно выделить разные стратегии сбора данных:\n",
    "    \n",
    "**По типу навигации**\n",
    "\n",
    "1. Все страницы со ссылками имеют удобные номера (\"https://ficbook.net/fanfiction/no_fandom/originals?p=2\"), обычно просто p=(число) или page=(число). В этом случае вам нужно просто подставлять цифры подробнее про параметры передаваемые в ссылке можно посмотреть [здесь](https://en.wikipedia.org/wiki/Query_string)\n",
    "2. Страницы называются как-то не структурированно (например, по названиям блоков). Тут нужно собирать ссылки на эти страницы и потом по ним ходить и собирать конечные странички.\n",
    "3. Все расположено на одной страничке и догружается с использованием [WebSocket](https://en.wikipedia.org/wiki/WebSocket) или других технологий, при адрес в адресной строке никак не изменяется, данные могут догружаться на сайт автоматически по мере скролла страницы\n",
    "\n",
    "**По скорости обновления**\n",
    "\n",
    "1. Если сайт довольно статичный по контенту (медленно появляются и удаляются материалы), то можно сначал собрать ссылки, а потом по ним ходить\n",
    "2. Если сайт очень динамичный по контенту (например, объявления на крупном сайте), вам нужно при получении страничкии ссылок сразу их обходить, а потом переходить к следующей, потому что ко времени получения исчерпывающего списка ссылок по сайту многие будут уже удалены или недоступны\n",
    "\n"
   ]
  },
  {
   "cell_type": "markdown",
   "metadata": {},
   "source": [
    "## Блокировки и способы их обхода\n",
    "\n",
    "Для того, чтобы предотвратить автоматический сбор информации с некого сайта, применяются различные инструменты, которые определяют роботов и блокируют запросы с адресов, которые были классифицированы как роботы. Чтобы не заблокировали домашний/учебный ip, лучше сразу задуматься об этих мерах и предотвратить возможные проблемы. Кстати, Википедия не блокирует и можно спокойно скачивать без каких-либо проблем.\n",
    "\n",
    "Чтобы их обойти, можно попробовать несколько инструментов:\n",
    "1. time.sleep(x) - задержка между запросами, чтобы слишком большая скорость запросов не показалась подозрительной или ваши запросы не уронили сервер небольшого ресурса (например, региональной газеты)\n",
    "2. time.sleep(случайный промежуток времени) - это более хитрая версия, когда время задержки - это случайное число из некоторого отрезка (модуль random)\n",
    "3. изобразить браузер - при запросе отправляется информация о том, из какого приложения пришел запрос (например, Googlr Chrome), запросы сделанные из браузера больше похожи на человеческие, для этого нужно задать user-agent в параметрах (а его выбирать случайно с помощью fake_useragent)\n",
    "4. использовать прокси - существуют ресурсы с бесплатными списками открытых прокси, через которые можно пропускать ваш запрос и сервер будет думать, что запросы приходят из разных мест (anonymous и elite классы прокси) или использовать анонимизированные сети к примеру сеть [Tor](https://en.wikipedia.org/wiki/Tor_(network)) и аналоги."
   ]
  },
  {
   "cell_type": "markdown",
   "metadata": {},
   "source": [
    "### Пауза между запросами"
   ]
  },
  {
   "cell_type": "code",
   "execution_count": 6,
   "metadata": {},
   "outputs": [],
   "source": [
    "import time\n",
    "from datetime import datetime"
   ]
  },
  {
   "cell_type": "code",
   "execution_count": 7,
   "metadata": {},
   "outputs": [
    {
     "name": "stdout",
     "output_type": "stream",
     "text": [
      "2023-11-08 23:10:00.261682\n",
      "2023-11-08 23:10:01.394032\n",
      "2023-11-08 23:10:02.523687\n",
      "2023-11-08 23:10:03.646711\n",
      "2023-11-08 23:10:04.786949\n"
     ]
    }
   ],
   "source": [
    "for _ in range(5):\n",
    "    response = session.get('https://ru.wikipedia.org')\n",
    "    print(datetime.now())\n",
    "    time.sleep(1)"
   ]
  },
  {
   "cell_type": "markdown",
   "metadata": {},
   "source": [
    "### Притвориться нормальным браузером"
   ]
  },
  {
   "cell_type": "code",
   "execution_count": 8,
   "metadata": {},
   "outputs": [],
   "source": [
    "from fake_useragent import UserAgent"
   ]
  },
  {
   "cell_type": "markdown",
   "metadata": {},
   "source": [
    "Можно настроить так, чтобы не проверять безопасность соединения, что иногда вызывает ошибки. Но это можно делать с сайтмаи, которым вы доверяете."
   ]
  },
  {
   "cell_type": "code",
   "execution_count": 9,
   "metadata": {},
   "outputs": [],
   "source": [
    "ua = UserAgent()"
   ]
  },
  {
   "cell_type": "code",
   "execution_count": 10,
   "metadata": {},
   "outputs": [
    {
     "name": "stdout",
     "output_type": "stream",
     "text": [
      "{'User-Agent': 'Mozilla/5.0 (X11; Linux x86_64; rv:102.0) Gecko/20100101 Firefox/102.0'}\n"
     ]
    }
   ],
   "source": [
    "headers = {'User-Agent': ua.random}\n",
    "print(headers)\n",
    "response = session.get('https://ru.wikipedia.org', headers=headers)"
   ]
  },
  {
   "cell_type": "markdown",
   "metadata": {},
   "source": [
    "### Пауза между запросами (случайное время)"
   ]
  },
  {
   "cell_type": "code",
   "execution_count": 11,
   "metadata": {},
   "outputs": [],
   "source": [
    "import random"
   ]
  },
  {
   "cell_type": "markdown",
   "metadata": {},
   "source": [
    "random.uniform позволяет получить случайное число из отрезка"
   ]
  },
  {
   "cell_type": "code",
   "execution_count": 12,
   "metadata": {},
   "outputs": [
    {
     "data": {
      "text/plain": [
       "2.1792623898189505"
      ]
     },
     "execution_count": 12,
     "metadata": {},
     "output_type": "execute_result"
    }
   ],
   "source": [
    "random.uniform(1, 3)"
   ]
  },
  {
   "cell_type": "code",
   "execution_count": 13,
   "metadata": {},
   "outputs": [
    {
     "name": "stdout",
     "output_type": "stream",
     "text": [
      "2023-11-08 23:10:06.287758\n",
      "2023-11-08 23:10:08.662543\n",
      "2023-11-08 23:10:12.928754\n",
      "2023-11-08 23:10:16.976760\n",
      "2023-11-08 23:10:18.895382\n"
     ]
    }
   ],
   "source": [
    "for _ in range(5):\n",
    "    response = session.get('https://ru.wikipedia.org')\n",
    "    print(datetime.now())\n",
    "    time.sleep(random.uniform(1.1, 5.2))"
   ]
  },
  {
   "cell_type": "markdown",
   "metadata": {},
   "source": [
    "### Подключение через прокси\n",
    "\n",
    "Прокси-сервер — это дополнительное звено между вами и интернетом, через него пойдет подключение и сайт не будет знать, что это вы посылаете запрос.\n",
    "\n",
    "Адреса прокси можно взять со специальных сайтов, например, [https://hideip.me/ru/proxy/httplist](https://hideip.me/ru/proxy/httplist). И потом проверить, что они рабочие, прежде чем использовать [https://checkerproxy.net/](https://checkerproxy.net/)"
   ]
  },
  {
   "cell_type": "code",
   "execution_count": 14,
   "metadata": {},
   "outputs": [
    {
     "name": "stdout",
     "output_type": "stream",
     "text": [
      "109.252.208.253\n"
     ]
    }
   ],
   "source": [
    "proxy = {\"https://\": \"https://176.213.141.107:8080\"}\n",
    "\n",
    "response = session.get('http://ru.wikipedia.org', proxies=proxy)\n",
    "print(response.headers['X-Client-IP'])"
   ]
  },
  {
   "cell_type": "markdown",
   "metadata": {},
   "source": [
    "## Примеры\n",
    "\n",
    "### Пример 1\n",
    "\n",
    "Давайте обкачаем немного новостей с сайта вышки.\n",
    "\n",
    "1. Страницы имеют вид \"https://www.hse.ru/news/page1.html\", поэтому можно просто идти циклом.\n",
    "2. Достанем дату публикации, заголовок, краткое описание (из станицы со списком новостей), текст полной статьи и метки (из самой страницы новости)\n",
    "3. Сохраним в датафрейм"
   ]
  },
  {
   "cell_type": "code",
   "execution_count": 15,
   "metadata": {},
   "outputs": [],
   "source": [
    "from bs4 import BeautifulSoup\n",
    "import re"
   ]
  },
  {
   "cell_type": "code",
   "execution_count": 16,
   "metadata": {},
   "outputs": [
    {
     "ename": "NameError",
     "evalue": "name 'texts' is not defined",
     "output_type": "error",
     "traceback": [
      "\u001b[1;31m---------------------------------------------------------------------------\u001b[0m",
      "\u001b[1;31mNameError\u001b[0m                                 Traceback (most recent call last)",
      "Cell \u001b[1;32mIn[16], line 1\u001b[0m\n\u001b[1;32m----> 1\u001b[0m \u001b[43mtexts\u001b[49m, tags, pub_year, pub_month, pub_dat, title,short_text, full_text,\n",
      "\u001b[1;31mNameError\u001b[0m: name 'texts' is not defined"
     ]
    }
   ],
   "source": [
    "texts, tags, pub_year, pub_month, pub_dat, title,short_text, full_text,"
   ]
  },
  {
   "cell_type": "markdown",
   "metadata": {},
   "source": [
    "### Отработаем процесс на одной странице"
   ]
  },
  {
   "cell_type": "markdown",
   "metadata": {},
   "source": [
    "**Шаг 1. Найти страницы**\n",
    "\n",
    "Посмотрим, как устроены новости и скачаем одну страницу"
   ]
  },
  {
   "cell_type": "code",
   "execution_count": null,
   "metadata": {},
   "outputs": [],
   "source": [
    "page_number = 1\n",
    "url = f'https://www.hse.ru/news/page{page_number}.html'\n",
    "req = session.get(url, headers={'User-Agent': ua.random})\n",
    "page = req.text"
   ]
  },
  {
   "cell_type": "markdown",
   "metadata": {},
   "source": [
    "Распарсим с помощью BeautifulSoup"
   ]
  },
  {
   "cell_type": "code",
   "execution_count": null,
   "metadata": {},
   "outputs": [],
   "source": [
    "soup = BeautifulSoup(page, 'html.parser')"
   ]
  },
  {
   "cell_type": "markdown",
   "metadata": {},
   "source": [
    "Найдем отдельные посты"
   ]
  },
  {
   "cell_type": "code",
   "execution_count": null,
   "metadata": {},
   "outputs": [],
   "source": [
    "news = soup.find_all('div', {'class': 'post'})"
   ]
  },
  {
   "cell_type": "code",
   "execution_count": null,
   "metadata": {},
   "outputs": [],
   "source": [
    "len(news)"
   ]
  },
  {
   "cell_type": "markdown",
   "metadata": {},
   "source": [
    "Найдем заголовок-ссылку и запомним текст заголовка"
   ]
  },
  {
   "cell_type": "code",
   "execution_count": null,
   "metadata": {},
   "outputs": [],
   "source": [
    "title_obj = news[0].find('a')\n",
    "title_obj"
   ]
  },
  {
   "cell_type": "code",
   "execution_count": null,
   "metadata": {},
   "outputs": [],
   "source": [
    "title = title_obj.text\n",
    "title"
   ]
  },
  {
   "cell_type": "markdown",
   "metadata": {},
   "source": [
    "Достанем свойства этой ссылки (куда ведет, class)"
   ]
  },
  {
   "cell_type": "code",
   "execution_count": null,
   "metadata": {},
   "outputs": [],
   "source": [
    "attrs = title_obj.attrs\n",
    "attrs"
   ]
  },
  {
   "cell_type": "markdown",
   "metadata": {},
   "source": [
    "Достанем саму ссылку"
   ]
  },
  {
   "cell_type": "code",
   "execution_count": null,
   "metadata": {},
   "outputs": [],
   "source": [
    "href = title_obj.attrs['href']\n",
    "href"
   ]
  },
  {
   "cell_type": "markdown",
   "metadata": {},
   "source": [
    "Достанем текст новости"
   ]
  },
  {
   "cell_type": "code",
   "execution_count": null,
   "metadata": {},
   "outputs": [],
   "source": [
    "short_text = news[0].find('div', {'class': 'post__text'}).text\n",
    "short_text"
   ]
  },
  {
   "cell_type": "markdown",
   "metadata": {},
   "source": [
    "Достанем день, месяц, год публикации"
   ]
  },
  {
   "cell_type": "code",
   "execution_count": null,
   "metadata": {},
   "outputs": [],
   "source": [
    "pub_day = news[0].find('div', {'class': 'post-meta__day'}).text\n",
    "pub_day"
   ]
  },
  {
   "cell_type": "code",
   "execution_count": null,
   "metadata": {},
   "outputs": [],
   "source": [
    "pub_month = news[0].find('div', {'class': 'post-meta__month'}).text\n",
    "pub_month"
   ]
  },
  {
   "cell_type": "code",
   "execution_count": null,
   "metadata": {},
   "outputs": [],
   "source": [
    "pub_year = news[0].find('div', {'class': 'post-meta__year'}).text\n",
    "pub_year"
   ]
  },
  {
   "cell_type": "markdown",
   "metadata": {},
   "source": [
    "**Шаг 2. Научиться парсить страничку самой новости**"
   ]
  },
  {
   "cell_type": "markdown",
   "metadata": {},
   "source": [
    "Возьмем ссылку на полную новость и соединим с адерсом сайта (т.к. ссылка относительная)"
   ]
  },
  {
   "cell_type": "code",
   "execution_count": null,
   "metadata": {},
   "outputs": [],
   "source": [
    "url_one = 'http://www.hse.ru' + href\n",
    "url_one"
   ]
  },
  {
   "cell_type": "markdown",
   "metadata": {},
   "source": [
    "Скачаем ее и распарсим"
   ]
  },
  {
   "cell_type": "code",
   "execution_count": null,
   "metadata": {},
   "outputs": [],
   "source": [
    "req = session.get(url_one, headers={'User-Agent': ua.random})\n",
    "page = req.text\n",
    "\n",
    "soup = BeautifulSoup(page, 'html.parser')"
   ]
  },
  {
   "cell_type": "markdown",
   "metadata": {},
   "source": [
    "Сохраним текст, распечатаем кусочек"
   ]
  },
  {
   "cell_type": "code",
   "execution_count": null,
   "metadata": {},
   "outputs": [],
   "source": [
    "full_text = soup.find('div', {'class': 'post__content'}).text\n",
    "full_text[:200]"
   ]
  },
  {
   "cell_type": "markdown",
   "metadata": {},
   "source": [
    "Найдем теги, которые присвоены статье"
   ]
  },
  {
   "cell_type": "code",
   "execution_count": null,
   "metadata": {},
   "outputs": [],
   "source": [
    "meta = soup.find('div', {'class': 'articleMeta'})\n",
    "\n",
    "tags = meta.find_all('a', {'class': 'tag'})\n",
    "tags = [t.text for t in tags]\n",
    "tags"
   ]
  },
  {
   "cell_type": "markdown",
   "metadata": {},
   "source": [
    "**Шаг 3. Оформляем нормально в функции**"
   ]
  },
  {
   "cell_type": "markdown",
   "metadata": {},
   "source": [
    "Сделаем словарь соответствий имени месяца и его номера"
   ]
  },
  {
   "cell_type": "code",
   "execution_count": null,
   "metadata": {},
   "outputs": [],
   "source": [
    "months = {\n",
    "    value: key + 1\n",
    "    for key, value in enumerate(\n",
    "        ['янв', 'фев', 'мар', 'апр', 'мая', 'июн', 'июл', 'авг', 'сен', 'окт', 'ноя', 'дек']\n",
    "    )\n",
    "}"
   ]
  },
  {
   "cell_type": "markdown",
   "metadata": {},
   "source": [
    "Парсим информацию из страницы со списком новостей (блок одной новости)"
   ]
  },
  {
   "cell_type": "code",
   "execution_count": null,
   "metadata": {},
   "outputs": [],
   "source": [
    "def parse_news_page_block(one_block):\n",
    "    block = {}\n",
    "    a = one_block.find('a')\n",
    "    block['title'] = a.text\n",
    "    block['href'] = a.attrs['href']\n",
    "    block['short_text'] = one_block.find('div', {'class': 'post__text'}).text\n",
    "    block['pub_day'] = int(one_block.find('div', {'class': 'post-meta__day'}).text)\n",
    "    block['pub_month'] = months[one_block.find('div', {'class': 'post-meta__month'}).text]\n",
    "    block['pub_year'] = int(one_block.find('div', {'class': 'post-meta__year'}).text)\n",
    "    return block"
   ]
  },
  {
   "cell_type": "markdown",
   "metadata": {},
   "source": [
    "Парсим отдельную страницу новости"
   ]
  },
  {
   "cell_type": "code",
   "execution_count": null,
   "metadata": {},
   "outputs": [],
   "source": [
    "def parse_one_article(block):\n",
    "    url_one = 'http://www.hse.ru' + block['href']\n",
    "    req = session.get(url_one, headers={'User-Agent': ua.random})\n",
    "    page = req.text\n",
    "    soup = BeautifulSoup(page, 'html.parser')\n",
    "    block['full_text'] = soup.find('div', {'class': 'post__content'}).text\n",
    "    meta = soup.find('div', {'class': 'articleMeta'})\n",
    "    tags = meta.find_all('a', {'class': 'tag'})\n",
    "    block['tags'] = [t.text for t in tags]     \n",
    "    return block"
   ]
  },
  {
   "cell_type": "markdown",
   "metadata": {},
   "source": [
    "Регулярное выражение для того, чтобы достать ID новости и не повторяться"
   ]
  },
  {
   "cell_type": "code",
   "execution_count": null,
   "metadata": {},
   "outputs": [],
   "source": [
    "regex_hse_id = re.compile('/([0-9]*?).html')"
   ]
  },
  {
   "cell_type": "markdown",
   "metadata": {},
   "source": [
    "Обработать N-ую страницу новостей"
   ]
  },
  {
   "cell_type": "code",
   "execution_count": null,
   "metadata": {},
   "outputs": [],
   "source": [
    "def get_nth_page(page_number, seen_news):\n",
    "    # скачиваем\n",
    "    url = f'https://www.hse.ru/news/page{page_number}.html'\n",
    "    req = session.get(url, headers={'User-Agent': ua.random})\n",
    "    page = req.text\n",
    "    soup = BeautifulSoup(page, 'html.parser')\n",
    "    \n",
    "    # находим новости\n",
    "    news = soup.find_all('div', {'class': 'post'})\n",
    "    \n",
    "    # идем по новостям и обрабатываем их\n",
    "    blocks = []\n",
    "    for n in news:\n",
    "        try:\n",
    "            blocks.append(parse_news_page_block(n))\n",
    "        except Exception as e:\n",
    "            print(e)\n",
    "\n",
    "    # идем по отдельным статьям и достаем информацию\n",
    "    result = []\n",
    "    for b in blocks:\n",
    "        if b['href'].startswith('/'):\n",
    "            idx = regex_hse_id.findall(b['href'])[0]\n",
    "            try:\n",
    "                res = parse_one_article(b)\n",
    "                res['hse_id'] = idx\n",
    "                result.append(res)\n",
    "            except Exception as e:\n",
    "                print(e)\n",
    "    \n",
    "    # возвращаем найденную информацию\n",
    "    return result"
   ]
  },
  {
   "cell_type": "markdown",
   "metadata": {},
   "source": [
    "**Шаг 4. Сохраняем в датафрейм**\n"
   ]
  },
  {
   "cell_type": "code",
   "execution_count": null,
   "metadata": {},
   "outputs": [],
   "source": [
    "from tqdm.auto import tqdm"
   ]
  },
  {
   "cell_type": "markdown",
   "metadata": {},
   "source": [
    "Напишем функцию, куда передаем количество страниц и она выполняет все нужные действия"
   ]
  },
  {
   "cell_type": "code",
   "execution_count": null,
   "metadata": {},
   "outputs": [],
   "source": [
    "import pandas as pd"
   ]
  },
  {
   "cell_type": "code",
   "execution_count": null,
   "metadata": {},
   "outputs": [],
   "source": [
    "def run_all(n_pages):\n",
    "    blocks = []\n",
    "    for i in tqdm(range(n_pages)):\n",
    "        blocks.extend(get_nth_page(i+1))\n",
    "    \n",
    "    return blocks"
   ]
  },
  {
   "cell_type": "markdown",
   "metadata": {},
   "source": [
    "Запускаем на 20 первых страниц"
   ]
  },
  {
   "cell_type": "code",
   "execution_count": null,
   "metadata": {},
   "outputs": [],
   "source": [
    "blocks = run_all(20)\n",
    "\n",
    "df = pd.DataFrame(blocks)"
   ]
  },
  {
   "cell_type": "markdown",
   "metadata": {},
   "source": [
    "Посмотрим на 10 самых популярных тегов"
   ]
  },
  {
   "cell_type": "code",
   "execution_count": null,
   "metadata": {},
   "outputs": [],
   "source": [
    "from collections import Counter"
   ]
  },
  {
   "cell_type": "code",
   "execution_count": null,
   "metadata": {},
   "outputs": [],
   "source": [
    "tags = [tag for tag_list in df[\"tags\"] for tag in tag_list]"
   ]
  },
  {
   "cell_type": "code",
   "execution_count": null,
   "metadata": {},
   "outputs": [],
   "source": [
    "for title, counts in sorted(Counter(tags).items(), key=lambda x: -x[-1])[:10]:\n",
    "    print(counts,\"\\t\", title)"
   ]
  },
  {
   "cell_type": "markdown",
   "metadata": {},
   "source": [
    "Посмотрим, сколько публикаций по месяцам"
   ]
  },
  {
   "cell_type": "code",
   "execution_count": null,
   "metadata": {},
   "outputs": [],
   "source": [
    "df.groupby(\"pub_month\")[\"hse_id\"].count()"
   ]
  },
  {
   "cell_type": "code",
   "execution_count": null,
   "metadata": {},
   "outputs": [],
   "source": []
  }
 ],
 "metadata": {
  "interpreter": {
   "hash": "2ce43fa76ab3efd8b793de81ff92f0816c1b946b31e6af34d67351b015f361e9"
  },
  "kernelspec": {
   "display_name": "Python 3 (ipykernel)",
   "language": "python",
   "name": "python3"
  },
  "language_info": {
   "codemirror_mode": {
    "name": "ipython",
    "version": 3
   },
   "file_extension": ".py",
   "mimetype": "text/x-python",
   "name": "python",
   "nbconvert_exporter": "python",
   "pygments_lexer": "ipython3",
   "version": "3.10.9"
  }
 },
 "nbformat": 4,
 "nbformat_minor": 2
}
