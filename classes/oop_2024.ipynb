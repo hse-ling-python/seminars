{
  "cells": [
    {
      "cell_type": "markdown",
      "metadata": {
        "id": "cAqB83Lu6_wE"
      },
      "source": [
        "# Классы"
      ]
    },
    {
      "cell_type": "markdown",
      "metadata": {
        "id": "urc_Ur8I6_wF"
      },
      "source": [
        "## Импорты"
      ]
    },
    {
      "cell_type": "code",
      "source": [
        "!pip install pymorphy2 -q"
      ],
      "metadata": {
        "id": "-IYxfHSGCXnd",
        "colab": {
          "base_uri": "https://localhost:8080/"
        },
        "outputId": "2b66aad5-5157-4d1d-bfd6-10df4b87054c"
      },
      "execution_count": 9,
      "outputs": [
        {
          "output_type": "stream",
          "name": "stdout",
          "text": [
            "  Preparing metadata (setup.py) ... \u001b[?25l\u001b[?25hdone\n",
            "\u001b[2K   \u001b[90m━━━━━━━━━━━━━━━━━━━━━━━━━━━━━━━━━━━━━━━━\u001b[0m \u001b[32m55.5/55.5 kB\u001b[0m \u001b[31m2.2 MB/s\u001b[0m eta \u001b[36m0:00:00\u001b[0m\n",
            "\u001b[2K   \u001b[90m━━━━━━━━━━━━━━━━━━━━━━━━━━━━━━━━━━━━━━━━\u001b[0m \u001b[32m8.2/8.2 MB\u001b[0m \u001b[31m53.0 MB/s\u001b[0m eta \u001b[36m0:00:00\u001b[0m\n",
            "\u001b[?25h  Building wheel for docopt (setup.py) ... \u001b[?25l\u001b[?25hdone\n"
          ]
        }
      ]
    },
    {
      "cell_type": "code",
      "execution_count": 10,
      "metadata": {
        "id": "KagBDJWn6_wG"
      },
      "outputs": [],
      "source": [
        "from time import time\n",
        "import pymorphy2\n",
        "\n",
        "\n",
        "morph = pymorphy2.MorphAnalyzer()"
      ]
    },
    {
      "cell_type": "markdown",
      "metadata": {
        "id": "jOByyzM_6_wG"
      },
      "source": [
        "## База"
      ]
    },
    {
      "cell_type": "markdown",
      "metadata": {
        "id": "hLH9PRBa6_wH"
      },
      "source": [
        "**Объектно-ориентированное программирование** (ООП) $-$ один из ключевых подходов к программированию. В нем программы представляются как набор объектов, каждый из которых $-$ это представитель некоторого более общего типа (класса).\n",
        "\n",
        "Класс описывает свойства (атрибуты) и действия (методы) объекта. Например, у нас есть словарь (не тот, который `dict` в питоне, а тот, который русско-английский).\n",
        "\n",
        "Какие у него есть свойства?\n",
        "- Исходный язык (например, русский)\n",
        "- Язык перевода (например, английский)\n",
        "- Количество слов\n",
        "- Какая-то метаинформация (стиль, составитель, год создания/последнего изменения)\n",
        "\n",
        "А какие мы хотим уметь выполнять с ним действия?\n",
        "- Получить перевод слова (возможно, в обе стороны)\n",
        "- Добавить слово\n",
        "- Удалить слово (а вдруг понадобиться)\n",
        "- Получить список всех слов (например, чтобы использовать где-то еще)\n",
        "\n",
        "Если говорить про код, то мы хотим, чтобы вот это работало:"
      ]
    },
    {
      "cell_type": "markdown",
      "metadata": {
        "id": "vVNXPM856_wH"
      },
      "source": [
        "Свойства (с этого момента $-$ атрибуты):"
      ]
    },
    {
      "cell_type": "markdown",
      "metadata": {
        "id": "b-3FNLFN6_wH"
      },
      "source": [
        "```\n",
        "# Исходный язык\n",
        "my_dict.source_language\n",
        "# Язык перевода\n",
        "my_dict.target_language\n",
        "# Количество слов\n",
        "my_dict.size\n",
        "# Метаинформация\n",
        "my_dict.meta\n",
        "```"
      ]
    },
    {
      "cell_type": "markdown",
      "metadata": {
        "id": "R5eXYsT-6_wH"
      },
      "source": [
        "Действия ( с этого момента $-$ методы):"
      ]
    },
    {
      "cell_type": "markdown",
      "metadata": {
        "id": "Iwlh6U8V6_wH"
      },
      "source": [
        "```\n",
        "# Получить перевод слова\n",
        "my_dict.translate(word='')\n",
        "# Добавить слово\n",
        "my_dict.add_word(source='', target='')\n",
        "# Удалить слово\n",
        "my_dict.delete_word(word='')\n",
        "# Получить список всех слов: может быть метод, а может и атрибут. В чем разница?\n",
        "my_dict.get_all_words()\n",
        "my_dict.vocabulary\n",
        "```"
      ]
    },
    {
      "cell_type": "markdown",
      "metadata": {
        "id": "uQCJetG96_wH"
      },
      "source": [
        "Как это должно выглядеть снаружи с точки зрения пользователя, мы описали. Теперь давайте посмотрим, как наш словарь будет выглядеть изнутри. Тут есть несколько моментов:\n",
        "- Методы $-$ это функции внутри класса, атрибуты $-$ это переменные внутри класса (но не все)\n",
        "- У каждого класса должен быть метод `__init__`, который отвечает за создание (инициализацию in fact) отдельного объекта, относящегося к этому классу (экземпляра класса). Этот метод, кроме всех переменных, которые мы хотим передать для создания, должен первым аргументом иметь `self` (вообще, назвать можно как угодно, но так не принято делать), который отвечает за работу с самим классом изнутри: например, вам надо из функции добавления слова иметь доступ к словарю.\n",
        "- Классы обычно называются с большой буквы, а объекты-представители с маленькой (если вы пользуетесь PyCharm или любой другой штукой с проверкой PEP8, то они любезно вам об этом напомнят).\n",
        "\n",
        "Теперь давайте напишем шаблон нашего словаря:"
      ]
    },
    {
      "cell_type": "code",
      "execution_count": 1,
      "metadata": {
        "id": "RFrdPn5V6_wI"
      },
      "outputs": [],
      "source": [
        "class Dictionary:\n",
        "\n",
        "    def __init__(self, source=None, target=None, meta=None):\n",
        "        # функция, которая создает наш словарь и прописывает, какие у него есть атрибуты\n",
        "        self.source_language = source\n",
        "        self.target_language = target\n",
        "        self.meta = meta\n",
        "        self.size = 0\n",
        "        self.vocabulary = {}\n",
        "\n",
        "    def translate(self, word):\n",
        "        # переводим слово\n",
        "        new_word = self.vocabulary.get(word, None)\n",
        "        if new_word is None:\n",
        "            print(f'{word} not in dictionary')\n",
        "        return new_word\n",
        "\n",
        "    def add_word(self, source, target):\n",
        "        # добавляем слово\n",
        "        if source not in self.vocabulary:\n",
        "            self.vocabulary[source] = target\n",
        "            self.size += 1\n",
        "        else:\n",
        "            print(f'{source} is already added')\n",
        "\n",
        "    def delete_word(self, word):\n",
        "        # удаляем слово\n",
        "        if word in self.vocabulary:\n",
        "            self.vocabulary.pop(word)\n",
        "            self.size -= 1\n",
        "        else:\n",
        "            print(f'{word} not in dictionary')\n",
        "\n",
        "    def get_all_words(self):\n",
        "        # получаем все слова из словаря (в данном виде - весь словарь целиком)\n",
        "        return self.vocabulary"
      ]
    },
    {
      "cell_type": "markdown",
      "metadata": {
        "id": "j-dHBw706_wI"
      },
      "source": [
        "Обернем ячейки из начала тетрадки в функцию и будем считать, что это способ тестировать наш класс."
      ]
    },
    {
      "cell_type": "code",
      "execution_count": 2,
      "metadata": {
        "id": "wCgHeb9n6_wI"
      },
      "outputs": [],
      "source": [
        "def test(my_dict, src='кошка', tgt='cat'):\n",
        "    print(f'Сам словарь: {my_dict}', end='\\n\\n')\n",
        "\n",
        "    print('Атрибуты')\n",
        "    print(f'Исходный язык: {my_dict.source_language}')\n",
        "    print(f'Метаинформация: {my_dict.meta}', end='\\n\\n')\n",
        "\n",
        "    print('Методы')\n",
        "    print(f'Добавить слово')\n",
        "    my_dict.add_word(source=src, target=tgt)\n",
        "    print(f'Все слова в словаре: {my_dict.get_all_words()}')\n",
        "    print(f'Количество слов: {my_dict.size}', end='\\n\\n')\n",
        "\n",
        "    print(f'Получить перевод слова \"{src}\": \"{my_dict.translate(word=src)}\"', end='\\n\\n')\n",
        "\n",
        "    print('Удалить слово')\n",
        "    my_dict.delete_word(word=src)\n",
        "    print(f'Все слова в словаре: {my_dict.get_all_words()}')\n",
        "    print(f'Количество слов: {my_dict.size}')"
      ]
    },
    {
      "cell_type": "markdown",
      "metadata": {
        "id": "GzxLi2f_6_wI"
      },
      "source": [
        "Посмотрим, что получится, но сначала создадим сам словарь"
      ]
    },
    {
      "cell_type": "code",
      "execution_count": 3,
      "metadata": {
        "id": "Q843hHYO6_wI"
      },
      "outputs": [],
      "source": [
        "dct = Dictionary('ru', 'en', {'name': 'my dict'})"
      ]
    },
    {
      "cell_type": "code",
      "execution_count": 4,
      "metadata": {
        "id": "ge15F0Sy6_wI",
        "outputId": "b38ed5b9-1c8c-4dce-c00e-15e116063b66",
        "colab": {
          "base_uri": "https://localhost:8080/"
        }
      },
      "outputs": [
        {
          "output_type": "stream",
          "name": "stdout",
          "text": [
            "Сам словарь: <__main__.Dictionary object at 0x7f8624c59750>\n",
            "\n",
            "Атрибуты\n",
            "Исходный язык: ru\n",
            "Метаинформация: {'name': 'my dict'}\n",
            "\n",
            "Методы\n",
            "Добавить слово\n",
            "Все слова в словаре: {'кошка': 'cat'}\n",
            "Количество слов: 1\n",
            "\n",
            "Получить перевод слова \"кошка\": \"cat\"\n",
            "\n",
            "Удалить слово\n",
            "Все слова в словаре: {}\n",
            "Количество слов: 0\n"
          ]
        }
      ],
      "source": [
        "test(dct)"
      ]
    },
    {
      "cell_type": "markdown",
      "metadata": {
        "id": "l7_vogv66_wJ"
      },
      "source": [
        "Заметим, что вывести словарь целиком у нас не очень получилось. Это происходит из-за того, что питон не имеет какого-то способа по умолчанию, чтобы показывать пользовательские классы. Но дальше, если успеем, я скажу, как это можно сделать.\n",
        "\n",
        "А теперь давайте еще немного посмотрим теории про классы"
      ]
    },
    {
      "cell_type": "markdown",
      "metadata": {
        "id": "Kdemy6286_wJ"
      },
      "source": [
        "## Три кита ООП"
      ]
    },
    {
      "cell_type": "markdown",
      "metadata": {
        "id": "iE3rzi9P6_wJ"
      },
      "source": [
        "- **Инкапсуляция** $-$ хранение вместе объекта и связанных с ним характеристик и действий (атрибутов и методов)\n",
        "- **Наследование** $-$ можем перенимать атрибуты и методы у другого класса (наследовать их)\n",
        "- **Полиморфизм** $-$ можем использовать одинаковый интерфейс у разных объектов (основано на наследовании)\n",
        "\n",
        "И четвертый не совсем кит $-$ **абстракция**. Ее суть заключается в том, что пользователь должен иметь доступ только к интерфейсу, но не к деталям внутренней реализации."
      ]
    },
    {
      "cell_type": "markdown",
      "metadata": {
        "id": "aHln8eW56_wJ"
      },
      "source": [
        "### Абстракция"
      ]
    },
    {
      "cell_type": "markdown",
      "metadata": {
        "id": "mTGeIaf56_wJ"
      },
      "source": [
        "Когда мы писали класс словаря, мы подразумевали, что пользователь будет что-то добавлять или удалять с помощью специальных методов. Вот только, пользователям чаще всего не очень интересно, что мы подразумевали. Здесь возникает принцип абстракция: мы хотим, чтобы снаружи было доступно только то, что изначально было на это рассчитано."
      ]
    },
    {
      "cell_type": "code",
      "execution_count": 5,
      "metadata": {
        "id": "A4P-4Su86_wJ"
      },
      "outputs": [],
      "source": [
        "# вот так\n",
        "dct.add_word('мяч', 'ball')\n",
        "# а не вот так\n",
        "dct.vocabulary['питон'] = 'python'"
      ]
    },
    {
      "cell_type": "code",
      "execution_count": 6,
      "metadata": {
        "id": "br-tp1ZY6_wJ",
        "outputId": "3db3b2b4-bbfd-450e-9f6b-6293e9a2b691",
        "colab": {
          "base_uri": "https://localhost:8080/"
        }
      },
      "outputs": [
        {
          "output_type": "execute_result",
          "data": {
            "text/plain": [
              "{'мяч': 'ball', 'питон': 'python'}"
            ]
          },
          "metadata": {},
          "execution_count": 6
        }
      ],
      "source": [
        "dct.get_all_words()"
      ]
    },
    {
      "cell_type": "markdown",
      "metadata": {
        "id": "T4OGsg5R6_wJ"
      },
      "source": [
        "К сожалению, у питона конкретно с этим принципом все не очень хорошо: чем глубже вы что-то спрячете, тем больше букв пользователю придется написать, чтобы это достать, но он все равно однажды достанет\n",
        "\n",
        "Тем не менее, у питона есть несколько методов что-то спрятать, я скажу только о самых простых.\n",
        "\n",
        "Во-первых, можно поставить один или два знака \"_\" в начале названия атрибута или метода, и тогда питон либо просто намекнет, что пользователь не прав, либо выдаст ошибку, когда тот попытается обратиться к ним. Перепишем наш класс словаря, сделав атрибут со словами скрытым и добавив какой-нибудь скрытый метод."
      ]
    },
    {
      "cell_type": "code",
      "execution_count": 7,
      "metadata": {
        "id": "9aLk7uU46_wJ"
      },
      "outputs": [],
      "source": [
        "class SafeDictionary:\n",
        "\n",
        "    def __init__(self, source=None, target=None, meta=None):\n",
        "        self.source_language = source\n",
        "        self.target_language = target\n",
        "        self.meta = meta\n",
        "        self.size = 0\n",
        "        # вот он атрибут, который мы прячем\n",
        "        self.__vocabulary = {}\n",
        "        # а вот вызов метода, который снаружи недоступен\n",
        "        self.__detect_creation()\n",
        "\n",
        "    def translate(self, word):\n",
        "        new_word = self.__vocabulary.get(word, None)\n",
        "        if new_word is None:\n",
        "            print(f'{word} not in dictionary')\n",
        "        return new_word\n",
        "\n",
        "    def add_word(self, source, target):\n",
        "        if source not in self.__vocabulary:\n",
        "            self.__vocabulary[source] = target\n",
        "            self.size += 1\n",
        "        else:\n",
        "            print(f'{source} is already added')\n",
        "\n",
        "    def delete_word(self, word):\n",
        "        if word in self.__vocabulary:\n",
        "            self.__vocabulary.pop(word)\n",
        "            self.size -= 1\n",
        "        else:\n",
        "            print(f'{word} not in dictionary')\n",
        "\n",
        "    def get_all_words(self):\n",
        "        return self.__vocabulary\n",
        "\n",
        "    def __detect_creation(self):\n",
        "        self.creation_time = time()"
      ]
    },
    {
      "cell_type": "code",
      "execution_count": 11,
      "metadata": {
        "id": "lKmribcQ6_wJ"
      },
      "outputs": [],
      "source": [
        "dct = SafeDictionary('ru', 'en', {'name': 'my dict'})"
      ]
    },
    {
      "cell_type": "markdown",
      "metadata": {
        "id": "tQQRL4b86_wK"
      },
      "source": [
        "Теперь питон на нас ругается при попытке достать словарь на прямую, нам придется пользоваться методом, который мы сами и написали."
      ]
    },
    {
      "cell_type": "code",
      "execution_count": 12,
      "metadata": {
        "id": "-r68yex36_wK",
        "outputId": "2a0d5004-8ec2-4960-c7a3-68d57c7cf8ca",
        "colab": {
          "base_uri": "https://localhost:8080/",
          "height": 145
        }
      },
      "outputs": [
        {
          "output_type": "error",
          "ename": "AttributeError",
          "evalue": "'SafeDictionary' object has no attribute '__vocabulary'",
          "traceback": [
            "\u001b[0;31m---------------------------------------------------------------------------\u001b[0m",
            "\u001b[0;31mAttributeError\u001b[0m                            Traceback (most recent call last)",
            "\u001b[0;32m<ipython-input-12-28ec06d15a8b>\u001b[0m in \u001b[0;36m<cell line: 1>\u001b[0;34m()\u001b[0m\n\u001b[0;32m----> 1\u001b[0;31m \u001b[0mdct\u001b[0m\u001b[0;34m.\u001b[0m\u001b[0m__vocabulary\u001b[0m\u001b[0;34m\u001b[0m\u001b[0;34m\u001b[0m\u001b[0m\n\u001b[0m",
            "\u001b[0;31mAttributeError\u001b[0m: 'SafeDictionary' object has no attribute '__vocabulary'"
          ]
        }
      ],
      "source": [
        "dct.__vocabulary"
      ]
    },
    {
      "cell_type": "code",
      "execution_count": 13,
      "metadata": {
        "id": "uOoz2seR6_wK",
        "outputId": "775bd349-083f-4043-da46-3ac005ec39c8",
        "colab": {
          "base_uri": "https://localhost:8080/"
        }
      },
      "outputs": [
        {
          "output_type": "execute_result",
          "data": {
            "text/plain": [
              "{}"
            ]
          },
          "metadata": {},
          "execution_count": 13
        }
      ],
      "source": [
        "dct.get_all_words()"
      ]
    },
    {
      "cell_type": "markdown",
      "metadata": {
        "id": "qLg6A6wG6_wK"
      },
      "source": [
        "Но мы все еще можем его немного обмануть"
      ]
    },
    {
      "cell_type": "code",
      "execution_count": 14,
      "metadata": {
        "id": "G8hVyyCL6_wK",
        "outputId": "a8a49d47-8ba5-445c-a329-b06746e501c9",
        "colab": {
          "base_uri": "https://localhost:8080/"
        }
      },
      "outputs": [
        {
          "output_type": "execute_result",
          "data": {
            "text/plain": [
              "{}"
            ]
          },
          "metadata": {},
          "execution_count": 14
        }
      ],
      "source": [
        "dct._SafeDictionary__vocabulary"
      ]
    },
    {
      "cell_type": "markdown",
      "metadata": {
        "id": "ox4EjR9a6_wK"
      },
      "source": [
        "Теперь посмотрим, что у нас с методом (все то же самое в целом)"
      ]
    },
    {
      "cell_type": "code",
      "execution_count": 16,
      "metadata": {
        "id": "3_kUxFn16_wK",
        "outputId": "f47e2611-56c3-4f7e-ccd5-3a4606b28acb",
        "colab": {
          "base_uri": "https://localhost:8080/",
          "height": 145
        }
      },
      "outputs": [
        {
          "output_type": "error",
          "ename": "AttributeError",
          "evalue": "'SafeDictionary' object has no attribute '__detect_creation'",
          "traceback": [
            "\u001b[0;31m---------------------------------------------------------------------------\u001b[0m",
            "\u001b[0;31mAttributeError\u001b[0m                            Traceback (most recent call last)",
            "\u001b[0;32m<ipython-input-16-788ccd2f46fc>\u001b[0m in \u001b[0;36m<cell line: 1>\u001b[0;34m()\u001b[0m\n\u001b[0;32m----> 1\u001b[0;31m \u001b[0mdct\u001b[0m\u001b[0;34m.\u001b[0m\u001b[0m__detect_creation\u001b[0m\u001b[0;34m(\u001b[0m\u001b[0;34m)\u001b[0m\u001b[0;34m\u001b[0m\u001b[0;34m\u001b[0m\u001b[0m\n\u001b[0m",
            "\u001b[0;31mAttributeError\u001b[0m: 'SafeDictionary' object has no attribute '__detect_creation'"
          ]
        }
      ],
      "source": [
        "dct.__detect_creation()"
      ]
    },
    {
      "cell_type": "code",
      "execution_count": 17,
      "metadata": {
        "id": "1yTZUf-f6_wK"
      },
      "outputs": [],
      "source": [
        "dct._SafeDictionary__detect_creation()"
      ]
    },
    {
      "cell_type": "code",
      "execution_count": 18,
      "metadata": {
        "id": "JF2Hvha46_wK",
        "outputId": "8fea5826-a523-43b2-f0b4-e6452d8be07c",
        "colab": {
          "base_uri": "https://localhost:8080/"
        }
      },
      "outputs": [
        {
          "output_type": "execute_result",
          "data": {
            "text/plain": [
              "{'source_language': 'ru',\n",
              " 'target_language': 'en',\n",
              " 'meta': {'name': 'my dict'},\n",
              " 'size': 0,\n",
              " '_SafeDictionary__vocabulary': {},\n",
              " 'creation_time': 1733816157.7102277}"
            ]
          },
          "metadata": {},
          "execution_count": 18
        }
      ],
      "source": [
        "dct.__dict__"
      ]
    },
    {
      "cell_type": "markdown",
      "metadata": {
        "id": "iKw7KkTD6_wK"
      },
      "source": [
        "Вообще, есть в питоне приняты три вида названий атрибутов и методов:\n",
        "- Просто названия с маленькой буквы (public): доступны снаружи и формируют интерфейс для пользователя\n",
        "- Названия, которые начинаются с \"_\" (protected, но не совсем): доступны пользователю, но мы мягко намекаем, что это можно трогать только, если он очень уверен в своих действиях\n",
        "- Названия с \"__\" (private): недоступны снаружи, но их все еще можно вытащить методом хитрых комбинаций (пользователь точно знает, что лезет куда-то не туда)"
      ]
    },
    {
      "cell_type": "markdown",
      "metadata": {
        "id": "a0r1ECyI6_wK"
      },
      "source": [
        "### Инкапсуляция"
      ]
    },
    {
      "cell_type": "markdown",
      "metadata": {
        "id": "ebEGrx466_wL"
      },
      "source": [
        "Фактически, класс выше можно считать примером реализации принципа инкапсуляции: в одном классе лежат и сами данные словаря (`source_language`, `target_language`, `meta` etc.), и свойственный словарю набор возможных действий (`translate`, `add_word`, `delete_word` etc.)"
      ]
    },
    {
      "cell_type": "markdown",
      "metadata": {
        "id": "33u3j6Hq6_wL"
      },
      "source": [
        "Как делать **НЕ** надо:"
      ]
    },
    {
      "cell_type": "code",
      "execution_count": null,
      "metadata": {
        "id": "BsXa9Rr46_wL"
      },
      "outputs": [],
      "source": [
        "class SillyDictionary:\n",
        "\n",
        "    def __init__(self, source=None, target=None, meta=None):\n",
        "        self.source_language = source\n",
        "        self.target_language = target\n",
        "        self.meta = meta\n",
        "        self.size = 0\n",
        "        # вот он атрибут, который мы прячем\n",
        "        self.__vocabulary = {}\n",
        "        # а вот вызов метода, который снаружи недоступен\n",
        "        self.__detect_creation()\n",
        "\n",
        "    def translate(self, word):\n",
        "        new_word = self.__vocabulary.get(word, None)\n",
        "        if new_word is None:\n",
        "            print(f'{word} not in dictionary')\n",
        "        return new_word\n",
        "\n",
        "    def add_word(self, source, target):\n",
        "        if source not in self.__vocabulary:\n",
        "            self.__vocabulary[source] = target\n",
        "            self.size += 1\n",
        "        else:\n",
        "            print(f'{source} is already added')\n",
        "\n",
        "    def delete_word(self, word):\n",
        "        if word in self.__vocabulary:\n",
        "            self.__vocabulary.pop(word)\n",
        "            self.size -= 1\n",
        "        else:\n",
        "            print(f'{word} not in dictionary')\n",
        "\n",
        "    def __detect_creation(self):\n",
        "        self.creation_time = time()"
      ]
    },
    {
      "cell_type": "code",
      "execution_count": null,
      "metadata": {
        "id": "d7hI0esm6_wL"
      },
      "outputs": [],
      "source": [
        "def get_all_dict_words(dct):\n",
        "    return dct._SillyDictionary__vocabulary"
      ]
    },
    {
      "cell_type": "code",
      "execution_count": null,
      "metadata": {
        "id": "dAv2_2Aw6_wL"
      },
      "outputs": [],
      "source": [
        "dct = SillyDictionary('ru', 'en', {'name': 'my dict'})\n",
        "dct.add_word('мяч', 'ball')"
      ]
    },
    {
      "cell_type": "code",
      "execution_count": null,
      "metadata": {
        "id": "hoXT5a1s6_wM",
        "outputId": "c2493732-8a67-4594-b82a-d05177fe1d48"
      },
      "outputs": [
        {
          "data": {
            "text/plain": [
              "{'мяч': 'ball'}"
            ]
          },
          "execution_count": 19,
          "metadata": {},
          "output_type": "execute_result"
        }
      ],
      "source": [
        "get_all_dict_words(dct)"
      ]
    },
    {
      "cell_type": "markdown",
      "metadata": {
        "id": "WDZPVhnb6_wM"
      },
      "source": [
        "### Наследование"
      ]
    },
    {
      "cell_type": "markdown",
      "metadata": {
        "id": "QSEt7Lk76_wM"
      },
      "source": [
        "Представьте, что у нас есть словарь, с которым все просто: слова всегда подаются по одному. Но вдруг нам понадобилось добавлять слова списками (и апельсины бочками, да). Здесь нам может помочь наследование.\n",
        "\n",
        "Общая идея заключается в том, что мы не хотим переписывать общие для старого и нового словаря методы. Тот же вывод всех слов или фиксацию времени. Но мы хотим сделать новый метод, который умеет добавлять список. Для этого можно создать новый класс, но унаследовать его от предыдущего"
      ]
    },
    {
      "cell_type": "code",
      "execution_count": 19,
      "metadata": {
        "id": "keDHL2n56_wM"
      },
      "outputs": [],
      "source": [
        "class DictionaryWithList(SafeDictionary):\n",
        "\n",
        "    def add_many_words(self, words):\n",
        "        # добавляем много слов\n",
        "        for word, target in words:\n",
        "            self.add_word(word, target)\n",
        "\n",
        "    def delete_many_words(self, words):\n",
        "        # удаляем много слов\n",
        "        for word in words:\n",
        "            self.delete_word(word)"
      ]
    },
    {
      "cell_type": "code",
      "execution_count": 20,
      "metadata": {
        "id": "Sl24rlqg6_wM"
      },
      "outputs": [],
      "source": [
        "dct = DictionaryWithList('ru', 'en', {'name': 'my dict'})"
      ]
    },
    {
      "cell_type": "code",
      "execution_count": 21,
      "metadata": {
        "id": "wMlQXUL56_wM"
      },
      "outputs": [],
      "source": [
        "dct.add_word('кошка', 'cat')"
      ]
    },
    {
      "cell_type": "code",
      "execution_count": 22,
      "metadata": {
        "id": "WZY1Hj5B6_wM",
        "outputId": "5d9ae9c8-51cb-43ff-fe43-dc7dad073587",
        "colab": {
          "base_uri": "https://localhost:8080/"
        }
      },
      "outputs": [
        {
          "output_type": "execute_result",
          "data": {
            "text/plain": [
              "{'кошка': 'cat', 'собака': 'dog', 'птица': 'bird', 'стол': 'table'}"
            ]
          },
          "metadata": {},
          "execution_count": 22
        }
      ],
      "source": [
        "words = [('собака', 'dog'), ('птица', 'bird'), ('стол', 'table')]\n",
        "dct.add_many_words(words)\n",
        "dct.get_all_words()"
      ]
    },
    {
      "cell_type": "code",
      "execution_count": 23,
      "metadata": {
        "id": "bEfaDXN-6_wM",
        "outputId": "0ca92191-281d-4ad3-f161-1980057e19f5",
        "colab": {
          "base_uri": "https://localhost:8080/"
        }
      },
      "outputs": [
        {
          "output_type": "execute_result",
          "data": {
            "text/plain": [
              "{'кошка': 'cat', 'собака': 'dog'}"
            ]
          },
          "metadata": {},
          "execution_count": 23
        }
      ],
      "source": [
        "words = ['птица', 'стол']\n",
        "dct.delete_many_words(words)\n",
        "dct.get_all_words()"
      ]
    },
    {
      "cell_type": "markdown",
      "metadata": {
        "id": "WZlKD-u86_wM"
      },
      "source": [
        "### Полиморфизм"
      ]
    },
    {
      "cell_type": "markdown",
      "metadata": {
        "id": "zHsa7PWV6_wM"
      },
      "source": [
        "Теперь представим, что нам нужен словарь, который умеет сам приводить слово к начальой форме и только после этого переводить его. При этом, нам бы очень не хотелось объяснять пользователям, что теперь им нужно использовать метод с другим именем.\n",
        "\n",
        "Здесь нам поможет полиморфизм, идея которого в том, что под одинаковым интерфейсом может скрываться разное содержание, реализующее нужный нам метод. И мы все еще не переопределяем то, что менять не надо."
      ]
    },
    {
      "cell_type": "code",
      "execution_count": 24,
      "metadata": {
        "id": "zP7778oP6_wM"
      },
      "outputs": [],
      "source": [
        "class SuperDictionary(DictionaryWithList):\n",
        "\n",
        "    def translate(self, word):\n",
        "        # переводим слово, получив перед этим его лемму\n",
        "        word = morph.parse(word)[0].normal_form\n",
        "        # здесь мы вызываем метод перевода из родителя, так как здесь мы его уже переопределили\n",
        "        new_word = DictionaryWithList.translate(self, word)\n",
        "        return new_word"
      ]
    },
    {
      "cell_type": "code",
      "execution_count": 25,
      "metadata": {
        "id": "OU2va2Tr6_wN"
      },
      "outputs": [],
      "source": [
        "dct = SuperDictionary('ru', 'en', {'name': 'my dict'})"
      ]
    },
    {
      "cell_type": "code",
      "execution_count": 26,
      "metadata": {
        "id": "GZxElOzt6_wN",
        "outputId": "cbc51ff8-273b-4713-87ee-490cc11b5c8d",
        "colab": {
          "base_uri": "https://localhost:8080/"
        }
      },
      "outputs": [
        {
          "output_type": "execute_result",
          "data": {
            "text/plain": [
              "{'собака': 'dog', 'птица': 'bird', 'стол': 'table'}"
            ]
          },
          "metadata": {},
          "execution_count": 26
        }
      ],
      "source": [
        "words = [('собака', 'dog'), ('птица', 'bird'), ('стол', 'table')]\n",
        "dct.add_many_words(words)\n",
        "dct.get_all_words()"
      ]
    },
    {
      "cell_type": "code",
      "execution_count": 27,
      "metadata": {
        "id": "7gXAC0Z86_wN",
        "outputId": "472dcec1-c7be-405b-8bb3-1cd1f93a26e7",
        "colab": {
          "base_uri": "https://localhost:8080/",
          "height": 36
        }
      },
      "outputs": [
        {
          "output_type": "execute_result",
          "data": {
            "text/plain": [
              "'dog'"
            ],
            "application/vnd.google.colaboratory.intrinsic+json": {
              "type": "string"
            }
          },
          "metadata": {},
          "execution_count": 27
        }
      ],
      "source": [
        "dct.translate('собаки')"
      ]
    },
    {
      "cell_type": "markdown",
      "metadata": {
        "id": "HZGg8F2f6_wN"
      },
      "source": [
        "## Дополнительная информация"
      ]
    },
    {
      "cell_type": "markdown",
      "metadata": {
        "id": "nDmfsEAl6_wN"
      },
      "source": [
        "- Статические методы: НЕ принимают в качестве первого аргумента сам объект"
      ]
    },
    {
      "cell_type": "code",
      "execution_count": 28,
      "metadata": {
        "id": "xWxclcs26_wN"
      },
      "outputs": [],
      "source": [
        "class StrangeDictionary(Dictionary):\n",
        "\n",
        "    @staticmethod\n",
        "    def strange_method(word):\n",
        "        print(word, len(word))\n",
        "\n",
        "    # если не указать, что метод static\n",
        "    def very_strange_method(word):\n",
        "        print(word, len(word))"
      ]
    },
    {
      "cell_type": "code",
      "execution_count": 29,
      "metadata": {
        "id": "OlDdmnUg6_wN"
      },
      "outputs": [],
      "source": [
        "dct = StrangeDictionary()"
      ]
    },
    {
      "cell_type": "code",
      "execution_count": 30,
      "metadata": {
        "id": "vhcnOiRQ6_wN",
        "outputId": "e9c7825e-c385-43dc-ca08-a30ea6dde149",
        "colab": {
          "base_uri": "https://localhost:8080/"
        }
      },
      "outputs": [
        {
          "output_type": "stream",
          "name": "stdout",
          "text": [
            "кошка 5\n"
          ]
        }
      ],
      "source": [
        "dct.strange_method('кошка')"
      ]
    },
    {
      "cell_type": "code",
      "execution_count": 31,
      "metadata": {
        "id": "juo55uT86_wN",
        "outputId": "951a0ea4-b2d5-4493-e593-c6dbdcf526e0",
        "colab": {
          "base_uri": "https://localhost:8080/",
          "height": 145
        }
      },
      "outputs": [
        {
          "output_type": "error",
          "ename": "TypeError",
          "evalue": "StrangeDictionary.very_strange_method() takes 1 positional argument but 2 were given",
          "traceback": [
            "\u001b[0;31m---------------------------------------------------------------------------\u001b[0m",
            "\u001b[0;31mTypeError\u001b[0m                                 Traceback (most recent call last)",
            "\u001b[0;32m<ipython-input-31-36cf06414d68>\u001b[0m in \u001b[0;36m<cell line: 1>\u001b[0;34m()\u001b[0m\n\u001b[0;32m----> 1\u001b[0;31m \u001b[0mdct\u001b[0m\u001b[0;34m.\u001b[0m\u001b[0mvery_strange_method\u001b[0m\u001b[0;34m(\u001b[0m\u001b[0;34m'кошка'\u001b[0m\u001b[0;34m)\u001b[0m\u001b[0;34m\u001b[0m\u001b[0;34m\u001b[0m\u001b[0m\n\u001b[0m",
            "\u001b[0;31mTypeError\u001b[0m: StrangeDictionary.very_strange_method() takes 1 positional argument but 2 were given"
          ]
        }
      ],
      "source": [
        "dct.very_strange_method('кошка')"
      ]
    },
    {
      "cell_type": "code",
      "execution_count": 32,
      "metadata": {
        "id": "N3KZ-lLF6_wN",
        "outputId": "9c3dbb92-9e8d-4246-c2eb-53b8b5e72e8a",
        "colab": {
          "base_uri": "https://localhost:8080/",
          "height": 234
        }
      },
      "outputs": [
        {
          "output_type": "error",
          "ename": "TypeError",
          "evalue": "object of type 'StrangeDictionary' has no len()",
          "traceback": [
            "\u001b[0;31m---------------------------------------------------------------------------\u001b[0m",
            "\u001b[0;31mTypeError\u001b[0m                                 Traceback (most recent call last)",
            "\u001b[0;32m<ipython-input-32-9f9819fad8c2>\u001b[0m in \u001b[0;36m<cell line: 1>\u001b[0;34m()\u001b[0m\n\u001b[0;32m----> 1\u001b[0;31m \u001b[0mdct\u001b[0m\u001b[0;34m.\u001b[0m\u001b[0mvery_strange_method\u001b[0m\u001b[0;34m(\u001b[0m\u001b[0;34m)\u001b[0m\u001b[0;34m\u001b[0m\u001b[0;34m\u001b[0m\u001b[0m\n\u001b[0m",
            "\u001b[0;32m<ipython-input-28-34103422cf08>\u001b[0m in \u001b[0;36mvery_strange_method\u001b[0;34m(word)\u001b[0m\n\u001b[1;32m      7\u001b[0m     \u001b[0;31m# если не указать, что метод static\u001b[0m\u001b[0;34m\u001b[0m\u001b[0;34m\u001b[0m\u001b[0m\n\u001b[1;32m      8\u001b[0m     \u001b[0;32mdef\u001b[0m \u001b[0mvery_strange_method\u001b[0m\u001b[0;34m(\u001b[0m\u001b[0mword\u001b[0m\u001b[0;34m)\u001b[0m\u001b[0;34m:\u001b[0m\u001b[0;34m\u001b[0m\u001b[0;34m\u001b[0m\u001b[0m\n\u001b[0;32m----> 9\u001b[0;31m         \u001b[0mprint\u001b[0m\u001b[0;34m(\u001b[0m\u001b[0mword\u001b[0m\u001b[0;34m,\u001b[0m \u001b[0mlen\u001b[0m\u001b[0;34m(\u001b[0m\u001b[0mword\u001b[0m\u001b[0;34m)\u001b[0m\u001b[0;34m)\u001b[0m\u001b[0;34m\u001b[0m\u001b[0;34m\u001b[0m\u001b[0m\n\u001b[0m",
            "\u001b[0;31mTypeError\u001b[0m: object of type 'StrangeDictionary' has no len()"
          ]
        }
      ],
      "source": [
        "dct.very_strange_method()"
      ]
    },
    {
      "cell_type": "markdown",
      "metadata": {
        "id": "4tGP5Bxn6_wN"
      },
      "source": [
        "- `*args`, `**kwargs`: позволяют собрать все аргументы функции в один кортеж и(ли) словарь:"
      ]
    },
    {
      "cell_type": "code",
      "execution_count": 33,
      "metadata": {
        "id": "xcPa2bJE6_wN"
      },
      "outputs": [],
      "source": [
        "def func(*args, **kwargs):\n",
        "    print(f'args: {args}')\n",
        "    print(f'kwargs: {kwargs}')"
      ]
    },
    {
      "cell_type": "code",
      "execution_count": 34,
      "metadata": {
        "id": "TrgORp0n6_wN",
        "outputId": "f4d1f6c0-1409-4635-e5c9-dde3bbe3ca29",
        "colab": {
          "base_uri": "https://localhost:8080/"
        }
      },
      "outputs": [
        {
          "output_type": "stream",
          "name": "stdout",
          "text": [
            "args: (1, 2, 3, 5)\n",
            "kwargs: {'a': 23, 'b': 12, 'c': 74}\n"
          ]
        }
      ],
      "source": [
        "func(1, 2, 3, 5, a=23, b=12, c=74)"
      ]
    },
    {
      "cell_type": "markdown",
      "metadata": {
        "id": "MLKa835w6_wO"
      },
      "source": [
        "- Методы с названием имени \\_\\_METHOD\\_\\_: нужны для переопределения базовых операций:\n",
        "\n",
        "Например, `__repr__` позволяет рассказать питону, как надо отображать объект этого класса, а `__str__` $-$ как надо его переводить в строку (да, это разные вещи)"
      ]
    },
    {
      "cell_type": "code",
      "execution_count": 35,
      "metadata": {
        "id": "tKm6wDD86_wO"
      },
      "outputs": [],
      "source": [
        "class BeautifulDictionary(SuperDictionary):\n",
        "    def __repr__(self):\n",
        "        s = SuperDictionary.__name__.split('.')[-1]\n",
        "        args = []\n",
        "        for el, val in self.__dict__.items():\n",
        "            args.append(f'{el}={val}')\n",
        "        if len(args) > 0:\n",
        "            args = f'({\", \".join(args)})'\n",
        "            s += args\n",
        "        return s"
      ]
    },
    {
      "cell_type": "code",
      "execution_count": 36,
      "metadata": {
        "id": "jQf_HYL-6_wO"
      },
      "outputs": [],
      "source": [
        "dct = BeautifulDictionary('ru', 'en', {'name': 'my dict'})"
      ]
    },
    {
      "cell_type": "code",
      "execution_count": 37,
      "metadata": {
        "id": "W7vFt5CB6_wO",
        "outputId": "32561fea-00d3-4b0a-ddc9-6bfcdfac4261",
        "colab": {
          "base_uri": "https://localhost:8080/"
        }
      },
      "outputs": [
        {
          "output_type": "execute_result",
          "data": {
            "text/plain": [
              "SuperDictionary(source_language=ru, target_language=en, meta={'name': 'my dict'}, size=0, _SafeDictionary__vocabulary={}, creation_time=1733816912.5647068)"
            ]
          },
          "metadata": {},
          "execution_count": 37
        }
      ],
      "source": [
        "dct"
      ]
    },
    {
      "cell_type": "code",
      "execution_count": 38,
      "metadata": {
        "id": "IEKA_J7j6_wO",
        "outputId": "0b677ac2-94d4-486c-878e-b6ce0a448b5b",
        "colab": {
          "base_uri": "https://localhost:8080/"
        }
      },
      "outputs": [
        {
          "output_type": "stream",
          "name": "stdout",
          "text": [
            "SuperDictionary(source_language=ru, target_language=en, meta={'name': 'my dict'}, size=0, _SafeDictionary__vocabulary={}, creation_time=1733816912.5647068)\n"
          ]
        }
      ],
      "source": [
        "print(dct)"
      ]
    },
    {
      "cell_type": "markdown",
      "metadata": {
        "id": "pCWCKilH6_wO"
      },
      "source": [
        "- Что на самом деле делает питон, когда скрывает атрибуты и методы: мухлюет, как всегда\n",
        "\n",
        "Питон вместе того, чтобы сохранить атрибут с тем именем, которое вы ему дали, сохраняет его в виде `_CLASS__ATTRIBUTE`"
      ]
    },
    {
      "cell_type": "code",
      "execution_count": 39,
      "metadata": {
        "id": "15-HQvfN6_wO",
        "outputId": "04c0959d-0632-491e-db5b-d53f00ea071c",
        "colab": {
          "base_uri": "https://localhost:8080/"
        }
      },
      "outputs": [
        {
          "output_type": "execute_result",
          "data": {
            "text/plain": [
              "{'source_language': 'ru',\n",
              " 'target_language': 'en',\n",
              " 'meta': {'name': 'my dict'},\n",
              " 'size': 0,\n",
              " '_SafeDictionary__vocabulary': {},\n",
              " 'creation_time': 1733816912.5647068}"
            ]
          },
          "metadata": {},
          "execution_count": 39
        }
      ],
      "source": [
        "dct.__dict__"
      ]
    },
    {
      "cell_type": "markdown",
      "metadata": {
        "id": "nJmhCg5O6_wO"
      },
      "source": [
        "## SOLID"
      ]
    },
    {
      "cell_type": "markdown",
      "metadata": {
        "id": "vDUWVvVu6_wO"
      },
      "source": [
        "Более подробно можно почитать вот [тут](https://habr.com/ru/articles/688530/).\n",
        "\n",
        "Принципы SOLID:\n",
        "- **S $-$ Single Responsibility Principle** $-$ у класса должна быть только одна четкая цель и логика использования, швейцарские ножи в мире ООП не поощряются\n",
        "\n",
        "- **O $-$ Open Closed Principle** $-$ мы должны иметь возмодность расширять возможности класса (добавить новый метод, переопределить старый), но у нас не должно возникать необходимости править исходный код\n",
        "\n",
        "- **L $-$ Liskov Substitution Principle** $-$ наследник может использоваться на месте родителя (словарь с красивым интерфейсом - все еще словарь и в нем должно быть можно найти нужное слово)\n",
        "\n",
        "- **I $-# Interface Segregation Principle** $-$ класс должен уметь только то, что уместно для его зоны отвественности (русско-английский словарь не умеет рисовать картины и переводить книги, он просто словарь)\n",
        "\n",
        "- **D $-$ Dependency Inversion Principle** $-$ не должно быть прямых зависимостей между модулями, только между интерфейсами (у переводчика не должно быть методов \"перевести на русский\", \"перевести на английский\", только метод \"перевести\", который использует интерфейс словарей)\n"
      ]
    },
    {
      "cell_type": "markdown",
      "source": [
        "## Как делать красивый код"
      ],
      "metadata": {
        "id": "m8KoxpNx75Hs"
      }
    },
    {
      "cell_type": "markdown",
      "source": [
        "Тут есть несколько моментов:\n",
        "1. Соблюдать PEP8!\n",
        "2. Разделять код на понятные функции, большие проекты на отдельные файлы и папки\n",
        "3. Комментировать ваш код, но в меру: когда комментарий написан к каждой строке, такой код очень тяжело читать. В идеале, ваш код должен быть написан так, чтобы хватало одного комментария к функции, объясняющего ее назначение. В редких случаях $-$ еще комментариев к сложным решениям в логике\n",
        "4. Прописывать тайпинги: типы входных и выходных значений функций. И придерживаться того, что описали!\n",
        "\n",
        "Вот о последнем мы с вами сейчас и поговорим"
      ],
      "metadata": {
        "id": "QnEIjXtE7_Z0"
      }
    },
    {
      "cell_type": "markdown",
      "source": [
        "Для работы с типами есть два варианта:\n",
        "- В последних версиях мы можем писать `list[str]`, имея в виду списки строк. Но в более старых такое приведет к ошибкам, так что лучше пока не стоит (пока весь мир не перешел на питон 3.10+)\n",
        "- Использовать библиотеку `typing`, которая входит в базовый питон и поддерживает сложные тайпинги для любых версий"
      ],
      "metadata": {
        "id": "1QLlSndG81ns"
      }
    },
    {
      "cell_type": "code",
      "source": [
        "from typing import (\n",
        "    List, # аналог списков, позволяет List[TYPE]\n",
        "    Dict, # аналог словарей, можем прописать тип ключа и значения, Dict[KEY_TYPE, VALUE_TYPE]\n",
        "    Tuple, # аналог картежа, Tuple[TYPE]\n",
        "    Union, # реализует логику \"любой из\", варианты прописавыются в скобках, Union[TYPE1, TYPE2, ...]\n",
        "    Optional # либо None, либо то, что прописано в вскобках, Optional[TYPE]\n",
        "    )\n",
        "\n",
        "import pandas as pd\n",
        "import random"
      ],
      "metadata": {
        "id": "sylgvgcv9gLQ"
      },
      "execution_count": 40,
      "outputs": []
    },
    {
      "cell_type": "markdown",
      "source": [
        "Например, у нас есть функция (не пытайтесь понять, зачем она нужна...):\n",
        "```python\n",
        "def my_func(data):\n",
        "    stat = {}\n",
        "    for key in data:\n",
        "        for item in data[key]:\n",
        "            if item not in stat:\n",
        "                stat[item] = 0\n",
        "            stat[item] += key\n",
        "    return stat, pd.DataFrame(data)\n",
        "```\n",
        "\n",
        "Какие типы данных должны быть у входных и выходных значений?"
      ],
      "metadata": {
        "id": "zHBp7a7q-Ypn"
      }
    },
    {
      "cell_type": "markdown",
      "source": [
        "Еще, если у нас в коде часто встречается какая-то сложная штука, мы можем прописать ее один раз, дав ей название, после чего использовать его"
      ],
      "metadata": {
        "id": "GtMXEbuRAJzp"
      }
    },
    {
      "cell_type": "code",
      "source": [
        "CustomType = Dict[str, Optional[Union[str, List[str]]]]"
      ],
      "metadata": {
        "id": "dJaKZ-jNASx_"
      },
      "execution_count": 41,
      "outputs": []
    },
    {
      "cell_type": "code",
      "source": [
        "def my_func(item: CustomType):\n",
        "    pass"
      ],
      "metadata": {
        "id": "sgeWbU_0Amy9"
      },
      "execution_count": 42,
      "outputs": []
    },
    {
      "cell_type": "markdown",
      "source": [
        "Правильно оформленая функция:"
      ],
      "metadata": {
        "id": "6kLJaQ_X_-Bh"
      }
    },
    {
      "cell_type": "code",
      "execution_count": null,
      "metadata": {
        "id": "SYWyejZR6_wP"
      },
      "outputs": [],
      "source": [
        "def do_something(lst: List[str], bad: bool = False) -> List[str]:\n",
        "    '''\n",
        "    This function does something (bad or good) to list\n",
        "    :param lst: list of input strings\n",
        "    :param bad: marker if bad action should be done\n",
        "    :return: sorted (or not...) input list\n",
        "    '''\n",
        "    if bad:\n",
        "        random.shuffle(lst)\n",
        "        return lst\n",
        "    else:\n",
        "        return sorted(lst)"
      ]
    },
    {
      "cell_type": "markdown",
      "source": [
        "Еще есть интересная библиотека `enum`, она тоже встроена в питон и отвечает за хранения наборов значений с поддержкой итерации.\n",
        "Если вам надо задать закрытое множество объектов (набор времен года, например), то можно использовать эту библиотеку. Еще она очень хорошо работает с FastAPI, где позволяет накладывать более жесткие правила на переменные, чем просто ограничение типов."
      ],
      "metadata": {
        "id": "h6oIar3ABGL6"
      }
    },
    {
      "cell_type": "code",
      "source": [
        "from enum import Enum"
      ],
      "metadata": {
        "id": "qMZXa_xZBkxp"
      },
      "execution_count": 43,
      "outputs": []
    },
    {
      "cell_type": "code",
      "source": [
        "class YearPeriod(Enum):\n",
        "    summer = 'summer'\n",
        "    winter = 'winter'\n",
        "    spring = 'spring'\n",
        "    autumn =' autumn'"
      ],
      "metadata": {
        "id": "7JdS2LntBnGw"
      },
      "execution_count": 44,
      "outputs": []
    },
    {
      "cell_type": "code",
      "source": [
        "YearPeriod.summer"
      ],
      "metadata": {
        "colab": {
          "base_uri": "https://localhost:8080/"
        },
        "id": "ktmiNi1qB_p5",
        "outputId": "ff30bd25-e79c-444a-d9d8-6f9c791c622d"
      },
      "execution_count": 45,
      "outputs": [
        {
          "output_type": "execute_result",
          "data": {
            "text/plain": [
              "<YearPeriod.summer: 'summer'>"
            ]
          },
          "metadata": {},
          "execution_count": 45
        }
      ]
    },
    {
      "cell_type": "code",
      "source": [
        "def my_func(item: Dict[YearPeriod, List[str]]):\n",
        "    pass"
      ],
      "metadata": {
        "id": "9pKbzq8RCDCH"
      },
      "execution_count": 46,
      "outputs": []
    },
    {
      "cell_type": "code",
      "source": [],
      "metadata": {
        "id": "yBT-UEUvCJ1x"
      },
      "execution_count": null,
      "outputs": []
    }
  ],
  "metadata": {
    "kernelspec": {
      "display_name": "Python 3 (ipykernel)",
      "language": "python",
      "name": "python3"
    },
    "language_info": {
      "codemirror_mode": {
        "name": "ipython",
        "version": 3
      },
      "file_extension": ".py",
      "mimetype": "text/x-python",
      "name": "python",
      "nbconvert_exporter": "python",
      "pygments_lexer": "ipython3",
      "version": "3.11.5"
    },
    "colab": {
      "provenance": []
    }
  },
  "nbformat": 4,
  "nbformat_minor": 0
}