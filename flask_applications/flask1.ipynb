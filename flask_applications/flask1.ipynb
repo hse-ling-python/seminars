{
 "cells": [
  {
   "cell_type": "markdown",
   "source": [
    "# Пишем сайты на питоне\n",
    "\n",
    "Оригинальные [конспект1](https://github.com/elmiram/2016learnpython/blob/master/7%20%D0%A1%D0%B5%D0%BC%D0%B8%D0%BD%D0%B0%D1%80%20-%20flask%20intro.ipynb) [конспект2](https://github.com/elmiram/2016learnpython/blob/master/8%20%D0%A1%D0%B5%D0%BC%D0%B8%D0%BD%D0%B0%D1%80%20-%20%D0%A1%D0%BD%D0%BE%D0%B2%D0%B0%20flask.ipynb)\n",
    "\n",
    "__Веб-сервер__\n",
    "* устройство vs. программа\n",
    "* задача — получать запросы от других компьютеров или программ (клиентов, clients) и отправлять запрошенные данные\n",
    "* основная функция — размещение сайтов (website hosting)\n",
    "\n",
    "__Термины__\n",
    "* *Запрос (request)* — сообщение от агента, желающего получить или разместить информацию\n",
    "* *Ответ (response)* — ответное сообщение сервера с кодом состояния и информацией (HTML, изображения, загружаемые файлы и т. п.)\n",
    "* *Протокол (protocol)* — набор правил, по которым составляются запросы и ответы \n",
    "* *Сессия (session)* — установка соединения между агентом и сервером и последующая серия запросов и ответов\n",
    "* *Гипертекст* — множество текстов, организованных в виде графа при помощи гиперссылок\n",
    "* *Протокол HTTP (HyperText Transfer Protocol)* — протокол для передачи гипертекстовых данных (обычно в виде HTML)\n",
    "* *URL (Uniform Resource Locator)*, веб-адрес ресурса — строка, представляющая собой уникальное имя, по которому можно найти в сети этот ресурс\n",
    "\n",
    "__Адресация__\n",
    "\n",
    "IP\n",
    "* *IP-адрес* — (пока что) набор из 4 байт, присваиваемый каждому подключённому к сети устройству\n",
    "* Некоторые IP-адреса уникальны, некоторые — нет (внутренние адреса в локальных сетях). Подробнее про [private_network](https://en.wikipedia.org/wiki/Private_network) и про [NAT](https://en.wikipedia.org/wiki/Network_address_translation)\n",
    "* Практически любой ресурс (например, сайт) можно получить по его IP-адресу (например, через браузер)\n",
    "* Существуют зарезервированные адреса и диапазоны адресов, например, `127.0.0.1` — адрес данного устройства\n",
    "\n",
    "Порт\n",
    "* Каждый запрос обращается не просто к какому-то IP-адресу, а к некоторому порту на этом адресе\n",
    "* Веб-сервер имеет 65 535 портов, пронумерованных начиная с 1\n",
    "* Веб-сервер может прослушивать некоторые порты (listen to ports) и по-разному обрабатывать сообщения, поступившие на разные порты\n",
    "* Если порт не прослушивается, сообщения на этот порт останутся без ответа\n",
    "\n",
    "Сокет(*Socket*) - конечная точка соединения, которая задается парой (`IP:port`)\n",
    "\n",
    "![NAT](./NAT.png)\n",
    "\n",
    "\n",
    "__URL__\n",
    "\n",
    "`http__://__www.example.com__:__1234__/__directory1/file1.html`\n",
    "\n",
    "`протокол__://__доменное имя или IP-адрес__:__порт__/__адрес файла на сервере`\n",
    "\n",
    "* Порт указывать не обязательно: используются стандартные порты (HTTP — 80, FTP — 20 и т. п.)\n",
    "* *DNS (Domain Name Servers)* — специальные сервера в сети, на которых хранятся таблицы соответствия между доменными именами и IP-адресами их серверов\n",
    "\n",
    "\n",
    "__HTML и скрипты__\n",
    "* страницы, содержимое (HTML-код) которых не изменяется, называются *статическими (static)*\n",
    "* страницы, содержимое которых может быть разным в зависимости от введённых пользователем данных, времени, IP-адреса и т. п., называются *динамическими (dynamic)*\n",
    "* динамические страницы создаются с помощью скриптов *на стороне сервера (server side scripts)*, написанных, например, на PHP или Python\n",
    "* скрипт порождает HTML и посылает его пользователю\n",
    "* пользователь не видит кода скрипта, выполняющегося на сервере\n",
    "* *скрипт на стороне клиента (client side script)* — вставка в HTML на каком-то языке программирования (например, JavaScript), позволяющая странице вести себя интерактивно\n",
    "* код клиентских скриптов посылается клиенту сервером вместе с HTML и не выполняется на сервере\n",
    "\n",
    "__Питон и сайты__\n",
    "\n",
    "Написать сайт на питоне значит написать такую программу, которая может работать веб-сервером или использоваться веб-сервером для порождения HTML-кода веб-страниц. Для этого существует несколько модулей, например, Django и Flask\n",
    "\n",
    "\n",
    "__Пример архитектуры__\n",
    "\n",
    "![arch](./arch.png)\n",
    "\n",
    "## flask\n",
    "\n",
    "### Intro\n",
    "\n",
    "* Установка flask -- https://flask.palletsprojects.com/en/1.1.x/installation/\n",
    "\n",
    "* Программа, написанная с помощью flask, работает как веб-сервер\n",
    "* За каждую веб-страницу сайта отвечает какая-то функция, которая возвращает HTML- код этой страницы\n",
    "* Естественно, писать длинные куски HTML-кода внутри программы на питоне было бы странно, поэтому функции могут загружать HTML из заранее заготовленных файлов\n",
    "* Эти файлы могу содержать готовые страницы или шаблоны страниц на специальном языке\n",
    "\n",
    "##### Структура проекта\n",
    "\n",
    "+ myapp.py\n",
    "\n",
    "+ папка templates\n",
    "    * index.html\n",
    "    * ... \n",
    "+ папка static \n",
    "    * css\n",
    "    * js\n",
    "    * images\n",
    "\n",
    "**myapp.py** -- основной файл, в котором находится python-код приложения\n",
    "\n",
    "папка **templates** -- в ней лежат html шаблоны для страниц, которые будут на сайте\n",
    "    \n",
    "папка **static** -- в ней лежат файлы со стилями css, скрипты, изображения\n",
    "\n",
    "\n",
    "#### Пример готового сайта на flask:"
   ],
   "metadata": {
    "collapsed": true
   }
  },
  {
   "cell_type": "code",
   "execution_count": 4,
   "source": [
    "from flask import Flask\n",
    "\n",
    "app = Flask(__name__)\n",
    "\n",
    "@app.route('/', methods=[\"GET\"])\n",
    "def index():\n",
    "    return '<html><body><p>Hello, world!</p></body></html>'\n",
    "\n",
    "if __name__ == '__main__':\n",
    "    app.run(debug=False)"
   ],
   "outputs": [
    {
     "output_type": "stream",
     "name": "stdout",
     "text": [
      " * Serving Flask app '__main__' (lazy loading)\n",
      " * Environment: production\n",
      "\u001b[31m   WARNING: This is a development server. Do not use it in a production deployment.\u001b[0m\n",
      "\u001b[2m   Use a production WSGI server instead.\u001b[0m\n",
      " * Debug mode: off\n"
     ]
    },
    {
     "output_type": "stream",
     "name": "stderr",
     "text": [
      " * Running on http://127.0.0.1:5000/ (Press CTRL+C to quit)\n"
     ]
    }
   ],
   "metadata": {}
  },
  {
   "cell_type": "markdown",
   "source": [
    "Каждая страница сайта порождается какой-то функцией. Декоратор `@app.route(...)` перед функцией показывает, какой адрес будет у страницы, за которую отвечает эта функция:"
   ],
   "metadata": {}
  },
  {
   "cell_type": "code",
   "execution_count": null,
   "source": [
    "@app.route('/')\n",
    "def index():\n",
    "    return 'Main page'\n",
    "\n",
    "@app.route('/hi')\n",
    "def hi():\n",
    "    return 'Hi!'"
   ],
   "outputs": [],
   "metadata": {
    "collapsed": true
   }
  },
  {
   "cell_type": "markdown",
   "source": [
    "Одна функция может отвечать за несколько разных страниц:\n",
    "* Во-первых, декораторов может стоять несколько подряд.\n",
    "* Во-вторых, декораторы могут содержать переменные.\n",
    "\n",
    "Пример:"
   ],
   "metadata": {}
  },
  {
   "cell_type": "code",
   "execution_count": null,
   "source": [
    "@app.route('/user/<user>')\n",
    "def user_index(user):\n",
    "    return 'This is the page of' + user"
   ],
   "outputs": [],
   "metadata": {
    "collapsed": true
   }
  },
  {
   "cell_type": "markdown",
   "source": [
    "Переменные в адресах могут быть разного типа: `int` — целое число, `float` — действительное число, `path` — строка, которая может содержать слэши. Тип переменной можно указать вот так:"
   ],
   "metadata": {}
  },
  {
   "cell_type": "code",
   "execution_count": null,
   "source": [
    "import datetime\n",
    "\n",
    "@app.route('/time/<int:shift>')\n",
    "def time_page(shift):\n",
    "    h = datetime.datetime.today().hour\n",
    "    h += shift\n",
    "    return 'Time in your country:' + str(h)"
   ],
   "outputs": [],
   "metadata": {
    "collapsed": true
   }
  },
  {
   "cell_type": "markdown",
   "source": [
    "## Перенаправление\n",
    "\n",
    "Для того, чтобы направить пользователя на другую страницу, используется функция `redirect`. Например, вот приложение, в котором есть страница /time. С помощью функции `redirect` можно, например, реализовать такое:\n",
    "\n",
    "- если пользователь заходит на страницу /time в рабочее время (с 10 до 18), то он перенаправляется на главную страницу сайта,\n",
    "- если пользователь заходит на страницу в другое время, то он перенаправляется на страницу /hi."
   ],
   "metadata": {}
  },
  {
   "cell_type": "code",
   "execution_count": 3,
   "source": [
    "import datetime\n",
    "\n",
    "from flask import Flask\n",
    "from flask import url_for, render_template, request, redirect\n",
    "\n",
    "app = Flask(__name__)\n",
    "\n",
    "\n",
    "@app.route('/')\n",
    "def index():\n",
    "    return '<html><body><h1>Привет, мир!</h1></body></html>'\n",
    "\n",
    "\n",
    "@app.route('/hi')\n",
    "@app.route('/hi/<user>')\n",
    "def hi(user=None):\n",
    "    if user is None:\n",
    "        user = 'friend'\n",
    "    return '<html><body><p>Привет, ' + user + '!</p></body></html>'\n",
    "\n",
    "\n",
    "@app.route('/time')\n",
    "def time_redirect():\n",
    "    h = datetime.datetime.today().hour\n",
    "    if 10 < h < 18:\n",
    "        return redirect(\"/\")\n",
    "    return redirect(url_for('hi'))\n",
    "\n",
    "\n",
    "if __name__ == '__main__':\n",
    "    app.run(debug=False)"
   ],
   "outputs": [
    {
     "output_type": "stream",
     "name": "stdout",
     "text": [
      " * Serving Flask app '__main__' (lazy loading)\n",
      " * Environment: production\n",
      "\u001b[31m   WARNING: This is a development server. Do not use it in a production deployment.\u001b[0m\n",
      "\u001b[2m   Use a production WSGI server instead.\u001b[0m\n",
      " * Debug mode: off\n"
     ]
    },
    {
     "output_type": "stream",
     "name": "stderr",
     "text": [
      " * Running on http://127.0.0.1:5000/ (Press CTRL+C to quit)\n"
     ]
    }
   ],
   "metadata": {}
  },
  {
   "cell_type": "markdown",
   "source": [
    "\n",
    "### Шаблоны\n",
    "\n",
    "Динамические веб-страницы собираются из шаблонов: у шаблона есть постоянная часть и изменяющаяся часть. Flask позволяет хранить в файлах такие шаблоны страниц. __(!!!) Все шаблоны страниц должны находиться в папке `templates`.__\n",
    "\n",
    "Шаблон состоит из обычного html-кода. Но в этот обычный html могут быть вставлены специальные фрагменты кода, способного порождать разный html в зависимости от значений переменных. \n",
    "\n",
    "Эти специальные фрагменты пишутся внутри `{% ... %}` или `{{ ... }}`. При порождении HTML эти фрагменты заменяются на какой-то HTML-код по определённым правилам.\n",
    "\n",
    "Чтобы породить HTML по шаблону, используется функция `render_template()`:"
   ],
   "metadata": {}
  },
  {
   "cell_type": "code",
   "execution_count": null,
   "source": [
    "from flask import render_template\n",
    "@app.route('/hello/')\n",
    "@app.route('/hello/<name>')\n",
    "def hello(name=None):\n",
    "    return render_template('hello.html', name=name)"
   ],
   "outputs": [],
   "metadata": {
    "collapsed": true
   }
  },
  {
   "cell_type": "markdown",
   "source": [
    "* Функция `render_template` заменяет все вставки в фигурных скобках на какой-то HTML.\n",
    "* Во вставках можно использовать переменные, которые передаются в шаблон через `render_template`.\n",
    "\n",
    "Есть два вида вставок: `{{ ... }}` и `{% ... %}`.\n",
    "\n",
    "Язык, на котором пишутся эти вставки, похож на питон, но многие питоновские функции в шаблонах работать не будут\n",
    "\n",
    "__Вставки `{{ ... }}`__\n",
    "\n",
    "* `{{ ... }}` означает «вычислить значение выражения в скобках и заменить им вставку»\n",
    "* в скобках может быть переменная, например, `{{ name }}`\n",
    "* к переменным в скобках __нельзя__ применять произвольные функции: `{{ f(name) }}`\n",
    "* существует набор встроенных операций, которые можно выполнять над переменными\n",
    "* эти операции отделяются от переменной знаком | и тогда выражение пишется так `{{ name|length }}`, примеры операций: \n",
    "    * `length`\n",
    "    * `lower`, `upper`\n",
    "    * `e` — автоматически экранировать спецсимволы HTML\n",
    "    * `random` — взять случайный элемент из массива\n",
    "    * `urlencode` — закодировать строку с помощью percent encoding\n",
    "\n",
    "__Вставки `{% ... %}`__\n",
    "\n",
    "В таких `{% ... %}` скобках пишутся специальные команды, аналогичные питоновским `if` и `for`.\n",
    "Примеры:\n",
    "\n",
    "`{% for i in arr %} ... {% endfor %}`\n",
    "\n",
    "`{% if ... %} ... {% endif %}`\n",
    "\n",
    "`{% elif ... %}`\n",
    "\n",
    "`{% else %}`\n"
   ],
   "metadata": {}
  },
  {
   "cell_type": "code",
   "execution_count": null,
   "source": [
    "{% if username|length > 20 %}\n",
    "    <p>Слишком длинное имя!</p>\n",
    "{% else %}\n",
    "    <p>{{ username }}</p>\n",
    "{% endif %}"
   ],
   "outputs": [],
   "metadata": {
    "collapsed": true
   }
  },
  {
   "cell_type": "markdown",
   "source": [
    "## Словари в шаблонах\n",
    "\n",
    "Предположим, у нас есть словарь, в котором хранятся имена наших друзей и их почтовые адреса. И мы хотим выводить эти имена с адресами на нашем сайте. Мы можем написать что-то такое:\n"
   ],
   "metadata": {}
  },
  {
   "cell_type": "code",
   "execution_count": 3,
   "source": [
    "from flask import Flask\n",
    "from flask import render_template\n",
    "\n",
    "app = Flask(__name__)\n",
    "\n",
    "\n",
    "@app.route('/')\n",
    "def index():\n",
    "    emailbook = {'Петя': 'petya@example.com',\n",
    "                 'Вася': 'vasya@example.com',\n",
    "                 'Катя': 'katya@example.com'}\n",
    "    return render_template('index.html', emails=emailbook)\n",
    "\n",
    "if __name__ == '__main__':\n",
    "    app.run()"
   ],
   "outputs": [
    {
     "output_type": "stream",
     "name": "stdout",
     "text": [
      " * Serving Flask app '__main__' (lazy loading)\n",
      " * Environment: production\n",
      "\u001b[31m   WARNING: This is a development server. Do not use it in a production deployment.\u001b[0m\n",
      "\u001b[2m   Use a production WSGI server instead.\u001b[0m\n",
      " * Debug mode: off\n"
     ]
    },
    {
     "output_type": "stream",
     "name": "stderr",
     "text": [
      " * Running on http://127.0.0.1:5000/ (Press CTRL+C to quit)\n",
      "127.0.0.1 - - [19/Nov/2021 09:09:01] \"GET / HTTP/1.1\" 200 -\n",
      "127.0.0.1 - - [19/Nov/2021 09:09:01] \"\u001b[33mGET /favicon.ico HTTP/1.1\u001b[0m\" 404 -\n"
     ]
    }
   ],
   "metadata": {}
  },
  {
   "cell_type": "markdown",
   "source": [
    "Тогда в папке `templates` нам нужно создать файл `index.html`, в котором будут перебираться элементы словаря. Делается это с помощью функции `items()`. Вот так будет выглядеть `index.html`:"
   ],
   "metadata": {}
  },
  {
   "cell_type": "code",
   "execution_count": null,
   "source": [
    "<!DOCTYPE html>\n",
    "<html lang=\"en\">\n",
    "<head>\n",
    "    <meta charset=\"UTF-8\">\n",
    "    <title>Почтовые адреса</title>\n",
    "</head>\n",
    "<body>\n",
    "<h1>Адреса моих друзей</h1>\n",
    "<ul>\n",
    "    {% for name, email in emails.items() %}\n",
    "        <li>{{ name }} - {{ email }}</li>\n",
    "    {% endfor %}\n",
    "</ul>\n",
    "</body>\n",
    "</html>"
   ],
   "outputs": [],
   "metadata": {}
  },
  {
   "cell_type": "markdown",
   "source": [
    "Когда вы пишете сайт на фласке у себя на компьютере, можно написать вместо `app.run()` вот так: `app.run(debug=True)`. Это значит, что если на сайте возникнет ошибка, то на странице с ошибкой выведется ее описание, и вы легко сможете понять, в каком месте кода все падает. Но когда вы будете выкладывать сайт в Интернет, нужно убедиться, что `debug` отключен.\n",
    "\n",
    "## Как вывести на веб-страничку содержимое текстового файла?"
   ],
   "metadata": {}
  },
  {
   "cell_type": "code",
   "execution_count": null,
   "source": [
    "from flask import Flask\n",
    "from flask import url_for, render_template, request, redirect\n",
    "\n",
    "app = Flask(__name__)\n",
    "\n",
    "@app.route('/poem')\n",
    "def poem():\n",
    "    with open(\"poem.txt\", \"r\", encoding='utf-8') as f:\n",
    "        content = f.read().split('\\n')\n",
    "    return render_template(\"poem.html\", content=content)\n",
    "\n",
    "if __name__ == '__main__':\n",
    "    app.run(debug=True)"
   ],
   "outputs": [],
   "metadata": {}
  },
  {
   "cell_type": "code",
   "execution_count": null,
   "source": [
    "<!DOCTYPE html>\n",
    "<html lang=\"ru\">\n",
    "<head>\n",
    "    <meta charset=\"UTF-8\">\n",
    "    <title>Зимнее утро</title>\n",
    "</head>\n",
    "<body>\n",
    "    <p>\n",
    "    {%for i in content%}\n",
    "        {{i}}\n",
    "        <br>\n",
    "    {%endfor%}\n",
    "    </p>\n",
    "</body>\n",
    "</html>"
   ],
   "outputs": [],
   "metadata": {}
  },
  {
   "cell_type": "markdown",
   "source": [
    "#### Задание\n",
    "\n",
    "Создайте сайт, где \n",
    "\n",
    "+ на главной странице будет выводиться Ваше любимое стихотворение\n",
    "+ с главной страницы можно перейти на страницы stats и thanks\n",
    "+ на странице stats выведен частотный словарь стихотворения и соответствующий график"
   ],
   "metadata": {}
  }
 ],
 "metadata": {
  "kernelspec": {
   "name": "python3",
   "display_name": "Python 3.9.7 64-bit ('venv': venv)"
  },
  "language_info": {
   "codemirror_mode": {
    "name": "ipython",
    "version": 3
   },
   "file_extension": ".py",
   "mimetype": "text/x-python",
   "name": "python",
   "nbconvert_exporter": "python",
   "pygments_lexer": "ipython3",
   "version": "3.9.7"
  },
  "interpreter": {
   "hash": "2ce43fa76ab3efd8b793de81ff92f0816c1b946b31e6af34d67351b015f361e9"
  }
 },
 "nbformat": 4,
 "nbformat_minor": 1
}