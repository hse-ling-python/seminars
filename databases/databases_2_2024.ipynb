{
  "cells": [
    {
      "cell_type": "markdown",
      "source": [
        "# Работа с базами данных в Python"
      ],
      "metadata": {
        "id": "U5PZqcsiOZeD"
      }
    },
    {
      "cell_type": "markdown",
      "metadata": {
        "id": "4Gd2ueX455Iq"
      },
      "source": [
        "В прошлый раз мы попробовали работать с базами через программу для компьютера, сегодня попробуем работать через питон. Также мы посмотрим подробнее на создание таблиц, добавление и удаление данных данных.\n",
        "\n",
        "Для работы с базами SQLite есть специальная библиотека, она встроена в питон и не требует дополнительной установки."
      ]
    },
    {
      "cell_type": "code",
      "execution_count": 1,
      "metadata": {
        "id": "-MzBPFbl55It"
      },
      "outputs": [],
      "source": [
        "import sqlite3\n",
        "import pandas as pd"
      ]
    },
    {
      "cell_type": "markdown",
      "metadata": {
        "id": "TOXyC9M9447x"
      },
      "source": [
        "Мы все еще работаем с сокращенной базой IMDB: [`imdb_very_small.db`](https://disk.yandex.ru/d/GOxdLhob7et7Hw/imdb_very_small.db?w=1).\n",
        "\n",
        "Схема базы выглядит так:\n",
        "\n",
        "<img src=\"https://github.com/hse-ling-python/seminars/blob/master/databases/img/imdb_schema.png?raw=1\">"
      ]
    },
    {
      "cell_type": "markdown",
      "metadata": {
        "id": "ZWSRDxQY55Iv"
      },
      "source": [
        "Взаимодействие с базой происходит с помощью двух компонентов: подключения и курсора.\n",
        "\n",
        "**Подключение** $-$ это как бы тоннель, по которому передаются данные.\n",
        "\n",
        "**Курсор** $-$ это инструмент, с помощью которого мы взаимодействуем с данными $-$ с помощью курсора мы посылаем запросы и после выполнения курсор помнит, где мы остановились, если мы листаем результаты по частям. Курсор умеет делать только одно действие одновременно, поэтому нельзя посылать запрос, пока мы листаем результаты."
      ]
    },
    {
      "cell_type": "code",
      "execution_count": 5,
      "metadata": {
        "id": "uzDfpdal55Iv"
      },
      "outputs": [],
      "source": [
        "con = sqlite3.connect('imdb_very_small.db')  # подключение\n",
        "cur = con.cursor()  # курсор"
      ]
    },
    {
      "cell_type": "markdown",
      "metadata": {
        "id": "Fo3o1W6V55Iv"
      },
      "source": [
        "Попробуем для начала то, что уже умеем, то есть выберем данные по нашему условию. Курсор имеет метод execute, который выполняет нашу команду."
      ]
    },
    {
      "cell_type": "code",
      "execution_count": 18,
      "metadata": {
        "id": "H-LpclXt55Iw"
      },
      "outputs": [],
      "source": [
        "tom_hanks_query = \"\"\"\n",
        "SELECT title, premiered\n",
        "FROM titles\n",
        "    JOIN crew ON titles.title_id = crew.title_id\n",
        "    JOIN people ON crew.person_id = people.person_id\n",
        "WHERE name = \"Tom Hanks\"\n",
        "ORDER BY premiered DESC\n",
        "LIMIT 5\n",
        "\"\"\""
      ]
    },
    {
      "cell_type": "code",
      "execution_count": 19,
      "metadata": {
        "id": "dKgswLTy55Iw",
        "outputId": "b0e26689-f09f-41cd-d48f-726886dc65f1",
        "colab": {
          "base_uri": "https://localhost:8080/"
        }
      },
      "outputs": [
        {
          "output_type": "execute_result",
          "data": {
            "text/plain": [
              "<sqlite3.Cursor at 0x7e4fee67bd40>"
            ]
          },
          "metadata": {},
          "execution_count": 19
        }
      ],
      "source": [
        "cur.execute(tom_hanks_query)"
      ]
    },
    {
      "cell_type": "markdown",
      "metadata": {
        "id": "K85IPrtEAXmM"
      },
      "source": [
        "Вернулось что-то странное. Это потому что курсор не сразу возвращает данные, которые мы запросили. Нужно решить, как мы будем их читать.\n",
        "\n",
        "\n",
        "- **Вариант 1**: все сразу (`.fetchall()`)"
      ]
    },
    {
      "cell_type": "code",
      "execution_count": null,
      "metadata": {
        "outputId": "9f90fc2f-44e6-4efa-80cf-8fdfa5ec7457",
        "colab": {
          "base_uri": "https://localhost:8080/"
        },
        "id": "L-BBp9B1AXmM"
      },
      "outputs": [
        {
          "output_type": "execute_result",
          "data": {
            "text/plain": [
              "[('Borat Subsequent Moviefilm', 2020),\n",
              " ('Greyhound', 2020),\n",
              " ('Toy Story 4', 2019),\n",
              " ('A Beautiful Day in the Neighborhood', 2019),\n",
              " ('The Circle', 2017)]"
            ]
          },
          "metadata": {},
          "execution_count": 10
        }
      ],
      "source": [
        "cur.execute(tom_hanks_query)\n",
        "\n",
        "cur.fetchall()"
      ]
    },
    {
      "cell_type": "markdown",
      "metadata": {
        "id": "_Sfpgyx3AXmN"
      },
      "source": [
        "Видим, что возвращается список кортежей, никаких красивых заголовков нет.\n",
        "\n",
        "- **Вариант 2**: только 1 (`.fetchone()`)"
      ]
    },
    {
      "cell_type": "code",
      "execution_count": null,
      "metadata": {
        "outputId": "63e8f25e-08c1-4ac2-d881-f5841bfb3ab9",
        "colab": {
          "base_uri": "https://localhost:8080/"
        },
        "id": "P9PqZf9LAXmN"
      },
      "outputs": [
        {
          "output_type": "execute_result",
          "data": {
            "text/plain": [
              "('Borat Subsequent Moviefilm', 2020)"
            ]
          },
          "metadata": {},
          "execution_count": 11
        }
      ],
      "source": [
        "cur.execute(tom_hanks_query)\n",
        "\n",
        "cur.fetchone()"
      ]
    },
    {
      "cell_type": "markdown",
      "metadata": {
        "id": "f1SkModHAXmO"
      },
      "source": [
        "Дальше мы можем итерироваться и еще раз вызывать `.fetchone()`"
      ]
    },
    {
      "cell_type": "code",
      "execution_count": null,
      "metadata": {
        "outputId": "e36a577a-37bf-4b30-9009-541979a99402",
        "colab": {
          "base_uri": "https://localhost:8080/"
        },
        "id": "f8t74YiiAXmO"
      },
      "outputs": [
        {
          "output_type": "stream",
          "name": "stdout",
          "text": [
            "('Borat Subsequent Moviefilm', 2020)\n",
            "('Greyhound', 2020)\n",
            "('Toy Story 4', 2019)\n",
            "('A Beautiful Day in the Neighborhood', 2019)\n",
            "('The Circle', 2017)\n"
          ]
        }
      ],
      "source": [
        "cur.execute(tom_hanks_query)\n",
        "\n",
        "while (result := cur.fetchone()):\n",
        "    print(result)"
      ]
    },
    {
      "cell_type": "markdown",
      "metadata": {
        "id": "9HWfUzOfAXmO"
      },
      "source": [
        "- **Вариант 3**: не по одному, а порциями (`.fetchmany(n)`)"
      ]
    },
    {
      "cell_type": "code",
      "execution_count": null,
      "metadata": {
        "outputId": "e3b1145a-57f0-401d-e68e-06ccbf0f8149",
        "colab": {
          "base_uri": "https://localhost:8080/"
        },
        "id": "GhzdJTm8AXmO"
      },
      "outputs": [
        {
          "output_type": "stream",
          "name": "stdout",
          "text": [
            "[('Borat Subsequent Moviefilm', 2020), ('Greyhound', 2020)]\n",
            "[('Toy Story 4', 2019), ('A Beautiful Day in the Neighborhood', 2019)]\n",
            "[('The Circle', 2017)]\n"
          ]
        }
      ],
      "source": [
        "cur.execute(tom_hanks_query)\n",
        "\n",
        "while (result := cur.fetchmany(2)):\n",
        "    print(result)"
      ]
    },
    {
      "cell_type": "markdown",
      "source": [
        "- **Вариант 4**: Если результатом запроса является несколько строк, можно по ним итерировать"
      ],
      "metadata": {
        "id": "6I02PdVpLjT2"
      }
    },
    {
      "cell_type": "code",
      "source": [
        "for row in cur.execute(tom_hanks_query):\n",
        "    print(row)"
      ],
      "metadata": {
        "colab": {
          "base_uri": "https://localhost:8080/"
        },
        "id": "d3rK3EbGLinW",
        "outputId": "8ff848c0-db7f-4a6a-cc21-d8e86cdb123d"
      },
      "execution_count": 39,
      "outputs": [
        {
          "output_type": "stream",
          "name": "stdout",
          "text": [
            "('Borat Subsequent Moviefilm', 2020)\n",
            "('Greyhound', 2020)\n",
            "('Toy Story 4', 2019)\n",
            "('A Beautiful Day in the Neighborhood', 2019)\n",
            "('The Circle', 2017)\n"
          ]
        }
      ]
    },
    {
      "cell_type": "markdown",
      "metadata": {
        "id": "4krYAsqv55I0"
      },
      "source": [
        "### Задание 1\n",
        "\n",
        "Выберите все фильмы после 2000, где играет ваша любимая актриса или актер. Считайте все данные (`fetchall`) и распечатайте.\n",
        "\n",
        "1. запрос с соединением таблиц и условием по нужным столбцам\n",
        "2. вывод"
      ]
    },
    {
      "cell_type": "code",
      "execution_count": null,
      "metadata": {
        "id": "xy7O_9Ml55I0"
      },
      "outputs": [],
      "source": [
        "# ваш код здесь"
      ]
    },
    {
      "cell_type": "markdown",
      "metadata": {
        "id": "hF7r-vJa55I1"
      },
      "source": [
        "## Использование переменных в запросе\n",
        "\n",
        "Допустим, что вы хотите сделать универсальную программу - она принимает на вход имя актера/актрисы и жанр, а потом выводит всю найденную информацию по такому запросу. Для того, чтобы создать переменные в запросе, мы должны оставить там знаки вопроса, туда подставится та информация, которую мы передадим потом в программе"
      ]
    },
    {
      "cell_type": "code",
      "execution_count": 24,
      "metadata": {
        "id": "zSBCKQKn55I1"
      },
      "outputs": [],
      "source": [
        "name = \"Natalie Portman\"\n",
        "genre = \"Comedy\""
      ]
    },
    {
      "cell_type": "code",
      "execution_count": 25,
      "metadata": {
        "id": "J1Kw_Gol55I1"
      },
      "outputs": [],
      "source": [
        "act_genre_query = \"\"\"\n",
        "SELECT title, premiered\n",
        "FROM titles\n",
        "    JOIN crew ON titles.title_id = crew.title_id\n",
        "    JOIN people ON crew.person_id = people.person_id\n",
        "    JOIN film_genres ON titles.title_id = film_genres.title_id\n",
        "    JOIN genre_types ON film_genres.genre_id = genre_types.id\n",
        "WHERE name = ? AND genre_name = ? AND premiered IS NOT NULL\n",
        "ORDER BY premiered DESC\n",
        "\"\"\""
      ]
    },
    {
      "cell_type": "code",
      "execution_count": 26,
      "metadata": {
        "id": "u7ome4Ze55I1",
        "outputId": "d79329e9-8d67-48aa-b393-ee192747124e",
        "colab": {
          "base_uri": "https://localhost:8080/"
        }
      },
      "outputs": [
        {
          "output_type": "execute_result",
          "data": {
            "text/plain": [
              "[('Your Highness', 2011),\n",
              " ('No Strings Attached', 2011),\n",
              " ('Hesher', 2010),\n",
              " ('New York, I Love You', 2008),\n",
              " (\"Mr. Magorium's Wonder Emporium\", 2007),\n",
              " ('Free Zone', 2005),\n",
              " ('Garden State', 2004),\n",
              " ('Where the Heart Is', 2000),\n",
              " ('Anywhere But Here', 1999)]"
            ]
          },
          "metadata": {},
          "execution_count": 26
        }
      ],
      "source": [
        "cur.execute(act_genre_query, (name, genre))\n",
        "\n",
        "cur.fetchall()"
      ]
    },
    {
      "cell_type": "markdown",
      "metadata": {
        "id": "KhbtGk5K55I2"
      },
      "source": [
        "### Задание 2\n",
        "\n",
        "Попробуйте написать функцию, которая принимает на вход тип фильма (сериал, фильм), жанр, рейтинг и выводит фильмы, которые оценили больше 100 000 человек и рейтинг больше чем задано.\n",
        "\n",
        "1. переменные\n",
        "2. запрос с соединением таблиц и условием по нужным столбцам\n",
        "3. вывод"
      ]
    },
    {
      "cell_type": "code",
      "execution_count": null,
      "metadata": {
        "id": "OGN6Pby855I2"
      },
      "outputs": [],
      "source": [
        "# ваш код здесь"
      ]
    },
    {
      "cell_type": "markdown",
      "metadata": {
        "id": "SAwczjU_55I2"
      },
      "source": [
        "Нельзя делать f-strings для запросов, если вашей программой кто-то пользуется, кроме вас. Всегда, когда возможно, нужно использовать вопросы.\n",
        "\n",
        "Почему? На место переменной в f-string можно поместить запрос, который содержит вопрос на удаление или на получение доступа к информации в базе, которая не должна быть доступна."
      ]
    },
    {
      "cell_type": "markdown",
      "metadata": {
        "id": "WZbo9gsf55I3"
      },
      "source": [
        "### SQL и pandas\n",
        "\n",
        "Можно читать результаты прямо в пандас с нужными названиями столбцов. Для этого есть метод `read_sql_query`. Туда мы передаем подключение и запрос."
      ]
    },
    {
      "cell_type": "code",
      "execution_count": 27,
      "metadata": {
        "id": "UaMVgbM955I3",
        "outputId": "f55243bf-aa39-4724-ad2a-29a46a60ba46",
        "colab": {
          "base_uri": "https://localhost:8080/",
          "height": 331
        }
      },
      "outputs": [
        {
          "output_type": "execute_result",
          "data": {
            "text/plain": [
              "                            title  premiered\n",
              "0                   Your Highness       2011\n",
              "1             No Strings Attached       2011\n",
              "2                          Hesher       2010\n",
              "3            New York, I Love You       2008\n",
              "4  Mr. Magorium's Wonder Emporium       2007\n",
              "5                       Free Zone       2005\n",
              "6                    Garden State       2004\n",
              "7              Where the Heart Is       2000\n",
              "8               Anywhere But Here       1999"
            ],
            "text/html": [
              "\n",
              "  <div id=\"df-07252437-afe1-46af-aa90-67dfc7c60819\" class=\"colab-df-container\">\n",
              "    <div>\n",
              "<style scoped>\n",
              "    .dataframe tbody tr th:only-of-type {\n",
              "        vertical-align: middle;\n",
              "    }\n",
              "\n",
              "    .dataframe tbody tr th {\n",
              "        vertical-align: top;\n",
              "    }\n",
              "\n",
              "    .dataframe thead th {\n",
              "        text-align: right;\n",
              "    }\n",
              "</style>\n",
              "<table border=\"1\" class=\"dataframe\">\n",
              "  <thead>\n",
              "    <tr style=\"text-align: right;\">\n",
              "      <th></th>\n",
              "      <th>title</th>\n",
              "      <th>premiered</th>\n",
              "    </tr>\n",
              "  </thead>\n",
              "  <tbody>\n",
              "    <tr>\n",
              "      <th>0</th>\n",
              "      <td>Your Highness</td>\n",
              "      <td>2011</td>\n",
              "    </tr>\n",
              "    <tr>\n",
              "      <th>1</th>\n",
              "      <td>No Strings Attached</td>\n",
              "      <td>2011</td>\n",
              "    </tr>\n",
              "    <tr>\n",
              "      <th>2</th>\n",
              "      <td>Hesher</td>\n",
              "      <td>2010</td>\n",
              "    </tr>\n",
              "    <tr>\n",
              "      <th>3</th>\n",
              "      <td>New York, I Love You</td>\n",
              "      <td>2008</td>\n",
              "    </tr>\n",
              "    <tr>\n",
              "      <th>4</th>\n",
              "      <td>Mr. Magorium's Wonder Emporium</td>\n",
              "      <td>2007</td>\n",
              "    </tr>\n",
              "    <tr>\n",
              "      <th>5</th>\n",
              "      <td>Free Zone</td>\n",
              "      <td>2005</td>\n",
              "    </tr>\n",
              "    <tr>\n",
              "      <th>6</th>\n",
              "      <td>Garden State</td>\n",
              "      <td>2004</td>\n",
              "    </tr>\n",
              "    <tr>\n",
              "      <th>7</th>\n",
              "      <td>Where the Heart Is</td>\n",
              "      <td>2000</td>\n",
              "    </tr>\n",
              "    <tr>\n",
              "      <th>8</th>\n",
              "      <td>Anywhere But Here</td>\n",
              "      <td>1999</td>\n",
              "    </tr>\n",
              "  </tbody>\n",
              "</table>\n",
              "</div>\n",
              "    <div class=\"colab-df-buttons\">\n",
              "\n",
              "  <div class=\"colab-df-container\">\n",
              "    <button class=\"colab-df-convert\" onclick=\"convertToInteractive('df-07252437-afe1-46af-aa90-67dfc7c60819')\"\n",
              "            title=\"Convert this dataframe to an interactive table.\"\n",
              "            style=\"display:none;\">\n",
              "\n",
              "  <svg xmlns=\"http://www.w3.org/2000/svg\" height=\"24px\" viewBox=\"0 -960 960 960\">\n",
              "    <path d=\"M120-120v-720h720v720H120Zm60-500h600v-160H180v160Zm220 220h160v-160H400v160Zm0 220h160v-160H400v160ZM180-400h160v-160H180v160Zm440 0h160v-160H620v160ZM180-180h160v-160H180v160Zm440 0h160v-160H620v160Z\"/>\n",
              "  </svg>\n",
              "    </button>\n",
              "\n",
              "  <style>\n",
              "    .colab-df-container {\n",
              "      display:flex;\n",
              "      gap: 12px;\n",
              "    }\n",
              "\n",
              "    .colab-df-convert {\n",
              "      background-color: #E8F0FE;\n",
              "      border: none;\n",
              "      border-radius: 50%;\n",
              "      cursor: pointer;\n",
              "      display: none;\n",
              "      fill: #1967D2;\n",
              "      height: 32px;\n",
              "      padding: 0 0 0 0;\n",
              "      width: 32px;\n",
              "    }\n",
              "\n",
              "    .colab-df-convert:hover {\n",
              "      background-color: #E2EBFA;\n",
              "      box-shadow: 0px 1px 2px rgba(60, 64, 67, 0.3), 0px 1px 3px 1px rgba(60, 64, 67, 0.15);\n",
              "      fill: #174EA6;\n",
              "    }\n",
              "\n",
              "    .colab-df-buttons div {\n",
              "      margin-bottom: 4px;\n",
              "    }\n",
              "\n",
              "    [theme=dark] .colab-df-convert {\n",
              "      background-color: #3B4455;\n",
              "      fill: #D2E3FC;\n",
              "    }\n",
              "\n",
              "    [theme=dark] .colab-df-convert:hover {\n",
              "      background-color: #434B5C;\n",
              "      box-shadow: 0px 1px 3px 1px rgba(0, 0, 0, 0.15);\n",
              "      filter: drop-shadow(0px 1px 2px rgba(0, 0, 0, 0.3));\n",
              "      fill: #FFFFFF;\n",
              "    }\n",
              "  </style>\n",
              "\n",
              "    <script>\n",
              "      const buttonEl =\n",
              "        document.querySelector('#df-07252437-afe1-46af-aa90-67dfc7c60819 button.colab-df-convert');\n",
              "      buttonEl.style.display =\n",
              "        google.colab.kernel.accessAllowed ? 'block' : 'none';\n",
              "\n",
              "      async function convertToInteractive(key) {\n",
              "        const element = document.querySelector('#df-07252437-afe1-46af-aa90-67dfc7c60819');\n",
              "        const dataTable =\n",
              "          await google.colab.kernel.invokeFunction('convertToInteractive',\n",
              "                                                    [key], {});\n",
              "        if (!dataTable) return;\n",
              "\n",
              "        const docLinkHtml = 'Like what you see? Visit the ' +\n",
              "          '<a target=\"_blank\" href=https://colab.research.google.com/notebooks/data_table.ipynb>data table notebook</a>'\n",
              "          + ' to learn more about interactive tables.';\n",
              "        element.innerHTML = '';\n",
              "        dataTable['output_type'] = 'display_data';\n",
              "        await google.colab.output.renderOutput(dataTable, element);\n",
              "        const docLink = document.createElement('div');\n",
              "        docLink.innerHTML = docLinkHtml;\n",
              "        element.appendChild(docLink);\n",
              "      }\n",
              "    </script>\n",
              "  </div>\n",
              "\n",
              "\n",
              "<div id=\"df-1816d805-c3f3-4768-b0b9-9205d1b1f791\">\n",
              "  <button class=\"colab-df-quickchart\" onclick=\"quickchart('df-1816d805-c3f3-4768-b0b9-9205d1b1f791')\"\n",
              "            title=\"Suggest charts\"\n",
              "            style=\"display:none;\">\n",
              "\n",
              "<svg xmlns=\"http://www.w3.org/2000/svg\" height=\"24px\"viewBox=\"0 0 24 24\"\n",
              "     width=\"24px\">\n",
              "    <g>\n",
              "        <path d=\"M19 3H5c-1.1 0-2 .9-2 2v14c0 1.1.9 2 2 2h14c1.1 0 2-.9 2-2V5c0-1.1-.9-2-2-2zM9 17H7v-7h2v7zm4 0h-2V7h2v10zm4 0h-2v-4h2v4z\"/>\n",
              "    </g>\n",
              "</svg>\n",
              "  </button>\n",
              "\n",
              "<style>\n",
              "  .colab-df-quickchart {\n",
              "      --bg-color: #E8F0FE;\n",
              "      --fill-color: #1967D2;\n",
              "      --hover-bg-color: #E2EBFA;\n",
              "      --hover-fill-color: #174EA6;\n",
              "      --disabled-fill-color: #AAA;\n",
              "      --disabled-bg-color: #DDD;\n",
              "  }\n",
              "\n",
              "  [theme=dark] .colab-df-quickchart {\n",
              "      --bg-color: #3B4455;\n",
              "      --fill-color: #D2E3FC;\n",
              "      --hover-bg-color: #434B5C;\n",
              "      --hover-fill-color: #FFFFFF;\n",
              "      --disabled-bg-color: #3B4455;\n",
              "      --disabled-fill-color: #666;\n",
              "  }\n",
              "\n",
              "  .colab-df-quickchart {\n",
              "    background-color: var(--bg-color);\n",
              "    border: none;\n",
              "    border-radius: 50%;\n",
              "    cursor: pointer;\n",
              "    display: none;\n",
              "    fill: var(--fill-color);\n",
              "    height: 32px;\n",
              "    padding: 0;\n",
              "    width: 32px;\n",
              "  }\n",
              "\n",
              "  .colab-df-quickchart:hover {\n",
              "    background-color: var(--hover-bg-color);\n",
              "    box-shadow: 0 1px 2px rgba(60, 64, 67, 0.3), 0 1px 3px 1px rgba(60, 64, 67, 0.15);\n",
              "    fill: var(--button-hover-fill-color);\n",
              "  }\n",
              "\n",
              "  .colab-df-quickchart-complete:disabled,\n",
              "  .colab-df-quickchart-complete:disabled:hover {\n",
              "    background-color: var(--disabled-bg-color);\n",
              "    fill: var(--disabled-fill-color);\n",
              "    box-shadow: none;\n",
              "  }\n",
              "\n",
              "  .colab-df-spinner {\n",
              "    border: 2px solid var(--fill-color);\n",
              "    border-color: transparent;\n",
              "    border-bottom-color: var(--fill-color);\n",
              "    animation:\n",
              "      spin 1s steps(1) infinite;\n",
              "  }\n",
              "\n",
              "  @keyframes spin {\n",
              "    0% {\n",
              "      border-color: transparent;\n",
              "      border-bottom-color: var(--fill-color);\n",
              "      border-left-color: var(--fill-color);\n",
              "    }\n",
              "    20% {\n",
              "      border-color: transparent;\n",
              "      border-left-color: var(--fill-color);\n",
              "      border-top-color: var(--fill-color);\n",
              "    }\n",
              "    30% {\n",
              "      border-color: transparent;\n",
              "      border-left-color: var(--fill-color);\n",
              "      border-top-color: var(--fill-color);\n",
              "      border-right-color: var(--fill-color);\n",
              "    }\n",
              "    40% {\n",
              "      border-color: transparent;\n",
              "      border-right-color: var(--fill-color);\n",
              "      border-top-color: var(--fill-color);\n",
              "    }\n",
              "    60% {\n",
              "      border-color: transparent;\n",
              "      border-right-color: var(--fill-color);\n",
              "    }\n",
              "    80% {\n",
              "      border-color: transparent;\n",
              "      border-right-color: var(--fill-color);\n",
              "      border-bottom-color: var(--fill-color);\n",
              "    }\n",
              "    90% {\n",
              "      border-color: transparent;\n",
              "      border-bottom-color: var(--fill-color);\n",
              "    }\n",
              "  }\n",
              "</style>\n",
              "\n",
              "  <script>\n",
              "    async function quickchart(key) {\n",
              "      const quickchartButtonEl =\n",
              "        document.querySelector('#' + key + ' button');\n",
              "      quickchartButtonEl.disabled = true;  // To prevent multiple clicks.\n",
              "      quickchartButtonEl.classList.add('colab-df-spinner');\n",
              "      try {\n",
              "        const charts = await google.colab.kernel.invokeFunction(\n",
              "            'suggestCharts', [key], {});\n",
              "      } catch (error) {\n",
              "        console.error('Error during call to suggestCharts:', error);\n",
              "      }\n",
              "      quickchartButtonEl.classList.remove('colab-df-spinner');\n",
              "      quickchartButtonEl.classList.add('colab-df-quickchart-complete');\n",
              "    }\n",
              "    (() => {\n",
              "      let quickchartButtonEl =\n",
              "        document.querySelector('#df-1816d805-c3f3-4768-b0b9-9205d1b1f791 button');\n",
              "      quickchartButtonEl.style.display =\n",
              "        google.colab.kernel.accessAllowed ? 'block' : 'none';\n",
              "    })();\n",
              "  </script>\n",
              "</div>\n",
              "    </div>\n",
              "  </div>\n"
            ],
            "application/vnd.google.colaboratory.intrinsic+json": {
              "type": "dataframe",
              "variable_name": "df",
              "summary": "{\n  \"name\": \"df\",\n  \"rows\": 9,\n  \"fields\": [\n    {\n      \"column\": \"title\",\n      \"properties\": {\n        \"dtype\": \"string\",\n        \"num_unique_values\": 9,\n        \"samples\": [\n          \"Where the Heart Is\",\n          \"No Strings Attached\",\n          \"Free Zone\"\n        ],\n        \"semantic_type\": \"\",\n        \"description\": \"\"\n      }\n    },\n    {\n      \"column\": \"premiered\",\n      \"properties\": {\n        \"dtype\": \"number\",\n        \"std\": 4,\n        \"min\": 1999,\n        \"max\": 2011,\n        \"num_unique_values\": 8,\n        \"samples\": [\n          2010,\n          2004,\n          2011\n        ],\n        \"semantic_type\": \"\",\n        \"description\": \"\"\n      }\n    }\n  ]\n}"
            }
          },
          "metadata": {},
          "execution_count": 27
        }
      ],
      "source": [
        "df = pd.read_sql_query(act_genre_query, params=[name, genre], con=con)\n",
        "df"
      ]
    },
    {
      "cell_type": "markdown",
      "metadata": {
        "id": "GEXDLyIU55I3"
      },
      "source": [
        "### Задание 4\n",
        "\n",
        "Попробуйте повторить прошлое задание, чтобы данные были в виде датафрейма, выводятся *title*, *rating*, *premiered*"
      ]
    },
    {
      "cell_type": "code",
      "execution_count": null,
      "metadata": {
        "id": "2sW6tnSN55I4"
      },
      "outputs": [],
      "source": [
        "# ваш код здесь"
      ]
    },
    {
      "cell_type": "markdown",
      "metadata": {
        "id": "uH0Iy5p355I4"
      },
      "source": [
        "## Создание своих таблиц\n",
        "\n",
        "Для создания таблицы нужно использовать ```CREATE```\n",
        "\n",
        "Общий синтакис такой:\n",
        "\n",
        "``` sql\n",
        "CREATE TABLE table_name (column1 INT, column2 TEXT)\n",
        "```"
      ]
    },
    {
      "cell_type": "code",
      "execution_count": 28,
      "metadata": {
        "id": "W6Tc2njQ55I4",
        "outputId": "94a36da0-2731-4a82-a6dc-862fb4eb7fa7",
        "colab": {
          "base_uri": "https://localhost:8080/"
        }
      },
      "outputs": [
        {
          "output_type": "execute_result",
          "data": {
            "text/plain": [
              "<sqlite3.Cursor at 0x7e4fee67bd40>"
            ]
          },
          "metadata": {},
          "execution_count": 28
        }
      ],
      "source": [
        "cur.execute(\"\"\"\n",
        "CREATE TABLE new_comedies (\n",
        "    title_id INT,\n",
        "    title TEXT,\n",
        "    premiered INT,\n",
        "    rating REAL,\n",
        "    PRIMARY KEY (title_id)\n",
        ")\n",
        "\"\"\")"
      ]
    },
    {
      "cell_type": "markdown",
      "metadata": {
        "id": "AQqxT4ck55I4"
      },
      "source": [
        "Ничего не сломалось, все работает. Теперь нужно **сохранить** то, что получилось. Для это нужно сделать коммит в подключении."
      ]
    },
    {
      "cell_type": "code",
      "execution_count": 29,
      "metadata": {
        "id": "q_tD18fG55I5"
      },
      "outputs": [],
      "source": [
        "con.commit()"
      ]
    },
    {
      "cell_type": "markdown",
      "metadata": {
        "id": "t91HD92c55I6"
      },
      "source": [
        "Чтобы отменить изменения, можно откатиться к сохраненной версии (если вы еще не сделали коммит)"
      ]
    },
    {
      "cell_type": "code",
      "execution_count": 30,
      "metadata": {
        "id": "Ua0M-dxr55I7"
      },
      "outputs": [],
      "source": [
        "con.rollback()"
      ]
    },
    {
      "cell_type": "markdown",
      "source": [
        "Не забываем отключаться от базы данных в самом конце:"
      ],
      "metadata": {
        "id": "hd-e_TOzLG0R"
      }
    },
    {
      "cell_type": "code",
      "source": [
        "# con.close()"
      ],
      "metadata": {
        "id": "VM2YXB9cLGii"
      },
      "execution_count": null,
      "outputs": []
    },
    {
      "cell_type": "markdown",
      "metadata": {
        "id": "5Qa_M24d55I7"
      },
      "source": [
        "Ок, мы создали таблицу, хотим туда добавить что-то. Сделаем выборку из общих данных и положим потом сюда, что получилось."
      ]
    },
    {
      "cell_type": "code",
      "execution_count": 31,
      "metadata": {
        "id": "u8PPA7mE55I7"
      },
      "outputs": [],
      "source": [
        "new_comedies_query = \"\"\"\n",
        "SELECT titles.title_id, title, premiered, rating\n",
        "FROM titles\n",
        "    JOIN film_genres ON film_genres.title_id = titles.title_id\n",
        "    JOIN genre_types ON film_genres.genre_id = genre_types.id\n",
        "    JOIN rating ON titles.title_id = rating.title_id\n",
        "WHERE genre_types.genre_name = \"Comedy\" AND titles.premiered > 2019 AND titles.premiered < 2021\n",
        "\"\"\""
      ]
    },
    {
      "cell_type": "code",
      "execution_count": 32,
      "metadata": {
        "id": "IhJZLVzb55I8",
        "outputId": "9befd711-60b9-4908-b66c-72987a391b04",
        "colab": {
          "base_uri": "https://localhost:8080/"
        }
      },
      "outputs": [
        {
          "output_type": "execute_result",
          "data": {
            "text/plain": [
              "[(805647, 'The Witches', 2020, 5.2),\n",
              " (10037034, 'Gentefied', 2020, 7.4),\n",
              " (10047958, 'Bad President', 2020, 6.8),\n",
              " (10062292, 'Never Have I Ever', 2020, 7.9),\n",
              " (10091306, 'El Presidente', 2020, 7.2)]"
            ]
          },
          "metadata": {},
          "execution_count": 32
        }
      ],
      "source": [
        "cur.execute(new_comedies_query)\n",
        "data = cur.fetchall()\n",
        "\n",
        "data[:5]"
      ]
    },
    {
      "cell_type": "markdown",
      "metadata": {
        "id": "lxP-4j8V55I8"
      },
      "source": [
        "Для того, чтобы что-то добавить в таблицу, мы используем `INSERT`. У нас есть список однотипных кортежей, поэтому мы можем все их сразу добавить, а не по одному, для этого есть `executemany`."
      ]
    },
    {
      "cell_type": "code",
      "execution_count": 33,
      "metadata": {
        "id": "5bM4dava55I8"
      },
      "outputs": [],
      "source": [
        "cur.executemany(\"INSERT INTO new_comedies VALUES (?, ?, ?, ?)\", data)\n",
        "con.commit()"
      ]
    },
    {
      "cell_type": "markdown",
      "source": [
        "Записать данные из датафрейма в новую базу данных можно при помощи функции `.to_sql()` из `pandas`. Тут нужно только создать новый `connection` и новый `cursor`. Самостоятельно делать `CREATE` новой таблицы с правильными названиями всех колонок не надо!"
      ],
      "metadata": {
        "id": "2NPYcQMWM--V"
      }
    },
    {
      "cell_type": "markdown",
      "metadata": {
        "id": "J3MMpd_E55JE"
      },
      "source": [
        "## Удаляем данные"
      ]
    },
    {
      "cell_type": "markdown",
      "metadata": {
        "id": "9IjKPllH55JE"
      },
      "source": [
        "Допустим, что мы хотим удалить все фильмы, которые начинаются на букву B. Посмотрим сначала, сколько таких.\n",
        "\n",
        "Мы можем делать примерные запросы с помощью ```%```. Задать шаблон текста, типа поиск по подстроке."
      ]
    },
    {
      "cell_type": "code",
      "execution_count": 34,
      "metadata": {
        "id": "GjruaD3S55JF",
        "outputId": "81d70588-a866-4823-89bf-7af62930f783",
        "colab": {
          "base_uri": "https://localhost:8080/"
        }
      },
      "outputs": [
        {
          "output_type": "execute_result",
          "data": {
            "text/plain": [
              "[(16,)]"
            ]
          },
          "metadata": {},
          "execution_count": 34
        }
      ],
      "source": [
        "cur.execute(\"SELECT COUNT(title_id) FROM new_comedies WHERE title LIKE 'B%'\")\n",
        "cur.fetchall()"
      ]
    },
    {
      "cell_type": "markdown",
      "metadata": {
        "id": "WXLDcR4755JF"
      },
      "source": [
        "А теперь удалим все такие фильмы"
      ]
    },
    {
      "cell_type": "code",
      "execution_count": 35,
      "metadata": {
        "id": "fHMpwAJY55JF"
      },
      "outputs": [],
      "source": [
        "cur.execute(\"DELETE FROM new_comedies WHERE title LIKE 'B%'\")\n",
        "con.commit()"
      ]
    },
    {
      "cell_type": "markdown",
      "metadata": {
        "id": "IgRTW65355JG"
      },
      "source": [
        "Проверяем, что ничего не осталось."
      ]
    },
    {
      "cell_type": "code",
      "execution_count": 36,
      "metadata": {
        "id": "22WqSBWR55JG",
        "outputId": "5ed01d10-1ba0-4f02-8c1c-b0e69dbad257",
        "colab": {
          "base_uri": "https://localhost:8080/"
        }
      },
      "outputs": [
        {
          "output_type": "execute_result",
          "data": {
            "text/plain": [
              "[(0,)]"
            ]
          },
          "metadata": {},
          "execution_count": 36
        }
      ],
      "source": [
        "cur.execute(\"SELECT COUNT(title_id) FROM new_comedies WHERE title LIKE 'B%'\")\n",
        "cur.fetchall()"
      ]
    },
    {
      "cell_type": "markdown",
      "metadata": {
        "id": "ShtCChoz55JG"
      },
      "source": [
        "Чтобы удалить целую таблицу, мы можем ее дропнуть (```DROP```). Чтобы не было ошибки, если такой вообще не было, можно написать ```IF EXISTS```"
      ]
    },
    {
      "cell_type": "code",
      "execution_count": 37,
      "metadata": {
        "id": "eQW_QfeD55JH"
      },
      "outputs": [],
      "source": [
        "cur.execute(\"DROP TABLE IF EXISTS new_comedies\")\n",
        "con.commit()"
      ]
    },
    {
      "cell_type": "markdown",
      "metadata": {
        "id": "EWDvmqsw55JH"
      },
      "source": [
        "## Другие функции\n",
        "\n",
        "На самом деле есть еще много интересных функций или параметров, например `GROUP_CONCAT`, которая позволяет агрегировать текст, склеивая его через разделитель (как `join` в питоновских строчках). Или `HAVING`, что позволяет фильтровать что-то уже после группировки, например, вы агрегируете данные и хотите вывести только те, где получилось больше 10 в этом параметре.\n",
        "\n",
        "\n",
        "**Топ-10 фильмов по рейтингу, где ровно 2 жанра и 100 000+ оценок**\n",
        "\n",
        "Мы соединяем таблицы, фильтруем по числу оценок, потом группируем по айди фильма, потом после группировки фильтруем по числу жанров, сортируем по убыванию рейтинга, а при равенстве по числу оценок, выбираем первые 10.\n",
        "\n",
        "В агрегирующих функциях мы считаем число жанров для фильтра и склеиваем через запятую и пробел имена жанров."
      ]
    },
    {
      "cell_type": "code",
      "execution_count": 38,
      "metadata": {
        "id": "j7b6a8YY55JH",
        "outputId": "e7c5f725-812c-47ab-f98d-a8f38b564c9a",
        "colab": {
          "base_uri": "https://localhost:8080/"
        }
      },
      "outputs": [
        {
          "output_type": "execute_result",
          "data": {
            "text/plain": [
              "[('The Sopranos', 1999, 2, 9.2, 290309, 'Crime, Drama'),\n",
              " ('Pulp Fiction', 1994, 2, 8.9, 1793495, 'Crime, Drama'),\n",
              " ('Friends', 1994, 2, 8.9, 794054, 'Comedy, Romance'),\n",
              " ('Forrest Gump', 1994, 2, 8.8, 1769908, 'Drama, Romance'),\n",
              " ('Peaky Blinders', 2013, 2, 8.8, 316333, 'Crime, Drama'),\n",
              " ('Freaks and Geeks', 1999, 2, 8.8, 126761, 'Comedy, Drama'),\n",
              " ('The Matrix', 1999, 2, 8.7, 1644392, 'Action, Sci-Fi'),\n",
              " ('House', 2004, 2, 8.7, 406474, 'Drama, Mystery'),\n",
              " ('South Park', 1997, 2, 8.7, 325799, 'Animation, Comedy'),\n",
              " ('Better Call Saul', 2015, 2, 8.7, 309563, 'Crime, Drama')]"
            ]
          },
          "metadata": {},
          "execution_count": 38
        }
      ],
      "source": [
        "cur.execute(\"\"\"\n",
        "SELECT\n",
        "    title, premiered,\n",
        "    COUNT(film_genres.genre_id) as n_genres,\n",
        "    rating, votes,\n",
        "    GROUP_CONCAT(genre_name, ', ')\n",
        "FROM titles\n",
        "    JOIN film_genres ON titles.title_id = film_genres.title_id\n",
        "    JOIN genre_types ON film_genres.genre_id = genre_types.id\n",
        "    JOIN rating ON titles.title_id = rating.title_id\n",
        "WHERE rating.votes > 100000\n",
        "GROUP BY titles.title_id\n",
        "HAVING n_genres = 2\n",
        "ORDER BY rating DESC, votes DESC\n",
        "LIMIT 10\n",
        "\"\"\")\n",
        "cur.fetchall()"
      ]
    },
    {
      "cell_type": "markdown",
      "metadata": {
        "id": "5xRYhBoGAZyA"
      },
      "source": [
        "### Задание 5\n",
        "\n",
        "Иногда актеры становятся заложниками одной роли или жанра, а иногда наоборот играются в совершенно разных фильмах. Давайте посмотрим, есть ли у нас фильмы, где собралось сразу несколько таких актеров (играют в фильмах более чем 100 жанров).\n",
        "\n",
        "Для каждого такого фильма надо вывести:\n",
        "- Название\n",
        "- Год премьеры\n",
        "- Рейтинг\n",
        "- Жанры\n",
        "- Кол-во \"разноплановых\" актеров\n",
        "- Имена таких акторов\n",
        "\n",
        "Результат отсортировать по кол-ву актеров.\n",
        "\n",
        "**P.S.** Для решения этой задачи вам понадобятся [обобщенные табличные выражения](https://habr.com/ru/articles/790014/)."
      ]
    },
    {
      "cell_type": "markdown",
      "metadata": {
        "id": "JBEBFM6bAZyB"
      },
      "source": [
        "``` sql\n",
        "WITH genres AS (\n",
        "    ...\n",
        ")\n",
        "SELECT\n",
        "    COUNT(...) as count_actors,\n",
        "    GROUP_CONCAT(...) as name_actors\n",
        "FROM titles\n",
        "    ...\n",
        "WHERE crew.person_id IN (\n",
        "    ...\n",
        ")\n",
        "GROUP BY titles.title_id\n",
        "HAVING count_actors > 1\n",
        "ORDER BY count_actors DESC\n",
        "```"
      ]
    },
    {
      "cell_type": "code",
      "execution_count": null,
      "metadata": {
        "id": "euosbBFM55JI"
      },
      "outputs": [],
      "source": [
        "# ваш код здесь"
      ]
    },
    {
      "cell_type": "markdown",
      "source": [
        "### Задание 6\n",
        "\n",
        "1. Прочитайте таблицу из файла [`rutul_vowels.csv`](https://raw.githubusercontent.com/hse-ling-python/seminars/refs/heads/master/databases/rutul_vowels.csv) в датафрейм и посмотрите с помощью `.head()`, что там вообще за колонки.\n",
        "2. Создайте новую базу данных `rutul.db` и запишите туда полученный рутульский датафрейм.\n",
        "3. Распечатайте все слова, в которых целевая гласная находится в безударной позиции.\n",
        "4. Распечатайте все слова, в которых целевая гласная в безударной позиции и нет левого контекста.\n",
        "5. Не забудьте отключиться от базы данных (!)"
      ],
      "metadata": {
        "id": "DY8eNpFVNHw9"
      }
    },
    {
      "cell_type": "code",
      "source": [
        "# ваш код здесь"
      ],
      "metadata": {
        "id": "c2n3VrFTM3bM"
      },
      "execution_count": null,
      "outputs": []
    }
  ],
  "metadata": {
    "kernelspec": {
      "display_name": "Python 3",
      "language": "python",
      "name": "python3"
    },
    "language_info": {
      "codemirror_mode": {
        "name": "ipython",
        "version": 3
      },
      "file_extension": ".py",
      "mimetype": "text/x-python",
      "name": "python",
      "nbconvert_exporter": "python",
      "pygments_lexer": "ipython3",
      "version": "3.8.5"
    },
    "colab": {
      "provenance": []
    }
  },
  "nbformat": 4,
  "nbformat_minor": 0
}