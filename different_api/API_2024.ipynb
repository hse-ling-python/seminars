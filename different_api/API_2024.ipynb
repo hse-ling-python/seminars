{
  "cells": [
    {
      "cell_type": "markdown",
      "id": "63d1c67b-6b7c-4857-9b49-ffbad5504f1c",
      "metadata": {
        "id": "63d1c67b-6b7c-4857-9b49-ffbad5504f1c"
      },
      "source": [
        "# API"
      ]
    },
    {
      "cell_type": "markdown",
      "id": "2740d4ee-b86e-4d30-ab00-cb61736aeb83",
      "metadata": {
        "id": "2740d4ee-b86e-4d30-ab00-cb61736aeb83"
      },
      "source": [
        "## План\n",
        "\n",
        "- VK API\n",
        "- OMDb API\n",
        "- FastAPI: делаем API для своего сервиса"
      ]
    },
    {
      "cell_type": "markdown",
      "id": "3b48c250-19b2-47c6-b1be-82bb050c6958",
      "metadata": {
        "id": "3b48c250-19b2-47c6-b1be-82bb050c6958"
      },
      "source": [
        "## VK API"
      ]
    },
    {
      "cell_type": "markdown",
      "id": "47286609-5aac-4ec7-a06f-5c1b3a7c48e3",
      "metadata": {
        "id": "47286609-5aac-4ec7-a06f-5c1b3a7c48e3"
      },
      "source": [
        "VK API бесплатное, но нужно получить доступ. Документация: https://dev.vk.com/ru/reference\n",
        "\n",
        "- Перейти на сайт ВК для разработчиков: https://dev.vk.com/ru, авторизоваться там, если попросят\n",
        "- Создать новое приложение: тип Мини-приложение, название и категория любые\n",
        "- Необходимо получить код подтверждения, может быть по номеру телефона или через пуш на телефон\n",
        "- Если все ок, то вы перейдете в настройки приложения, там можно увидеть ключи доступа. На интересует сервисный ключ доступа (тут снова попросят код или пуш)"
      ]
    },
    {
      "cell_type": "code",
      "execution_count": null,
      "id": "5d44e6d1-4e6c-47bc-adc8-c8642cd02897",
      "metadata": {
        "id": "5d44e6d1-4e6c-47bc-adc8-c8642cd02897"
      },
      "outputs": [],
      "source": [
        "import requests\n",
        "from tqdm.auto import tqdm\n",
        "from datetime import datetime\n",
        "import pandas as pd"
      ]
    },
    {
      "cell_type": "code",
      "execution_count": null,
      "id": "bd5a1118-4a57-4528-bada-d0487bd09943",
      "metadata": {
        "id": "bd5a1118-4a57-4528-bada-d0487bd09943"
      },
      "outputs": [],
      "source": [
        "TOKEN = \"\"\n",
        "VERSION = \"5.130\""
      ]
    },
    {
      "cell_type": "markdown",
      "id": "67d1db4c-089c-4efa-96f0-be82a484cbf8",
      "metadata": {
        "id": "67d1db4c-089c-4efa-96f0-be82a484cbf8"
      },
      "source": [
        "### Что мы можем делать?"
      ]
    },
    {
      "cell_type": "markdown",
      "id": "b667eb1a-0353-4214-8e93-8efff9b6f1af",
      "metadata": {
        "id": "b667eb1a-0353-4214-8e93-8efff9b6f1af"
      },
      "source": [
        "1. Выгрузить посты со страницы\n",
        "\n",
        "Запрашиваем 2 последних поста со страницы юзера с id = 1 (Павел Дуров). Для сообществ ID будут отрицательными (например, -1)."
      ]
    },
    {
      "cell_type": "code",
      "execution_count": null,
      "id": "e9e36b23-2ee9-408d-a1c0-d2819b289144",
      "metadata": {
        "id": "e9e36b23-2ee9-408d-a1c0-d2819b289144"
      },
      "outputs": [],
      "source": [
        "wall_get_url = \"https://api.vk.com/method/wall.get\"  # endpoint, на который мы отправляем такие запросы"
      ]
    },
    {
      "cell_type": "code",
      "execution_count": null,
      "id": "a6caf32f-e724-42f9-a7f4-62b523d483ef",
      "metadata": {
        "id": "a6caf32f-e724-42f9-a7f4-62b523d483ef"
      },
      "outputs": [],
      "source": [
        "data = requests.get(\n",
        "    wall_get_url,\n",
        "    params={\n",
        "        \"owner_id\": 1,  # ID юзера\n",
        "        \"count\": 2,  # кол-во постов\n",
        "        \"v\": VERSION, # версия API\n",
        "        \"access_token\": TOKEN  # токен доступа\n",
        "    }\n",
        ").json()"
      ]
    },
    {
      "cell_type": "markdown",
      "id": "6fdcef26-177e-4337-be00-4c300db8d84c",
      "metadata": {
        "id": "6fdcef26-177e-4337-be00-4c300db8d84c"
      },
      "source": [
        "Мы получим ответ, который представляет собой словарь, где по ключу `response` лежит сам ответ. Внутри лежит параметр `count` с числом записей (всего). В `items` сами посты (2, как мы просили). Для каждого поста есть информация по объекту `post`."
      ]
    },
    {
      "cell_type": "code",
      "execution_count": null,
      "id": "70eea940-6cb0-447d-bd51-bfd76b108412",
      "metadata": {
        "id": "70eea940-6cb0-447d-bd51-bfd76b108412",
        "outputId": "52a8be8e-e643-4385-c5c9-f6989087599c"
      },
      "outputs": [
        {
          "data": {
            "text/plain": [
              "{'response': {'count': 1020,\n",
              "  'items': [{'inner_type': 'wall_wallpost',\n",
              "    'donut': {'is_donut': False},\n",
              "    'comments': {'count': 0},\n",
              "    'marked_as_ads': 0,\n",
              "    'hash': 'xTKRWTArhEygtZnIFQ',\n",
              "    'type': 'post',\n",
              "    'attachments': [],\n",
              "    'date': 1525805964,\n",
              "    'edited': 1525813826,\n",
              "    'from_id': 1,\n",
              "    'id': 2442097,\n",
              "    'likes': {'can_like': 0, 'count': 236655, 'user_likes': 0},\n",
              "    'owner_id': 1,\n",
              "    'post_type': 'post',\n",
              "    'reposts': {'count': 14227},\n",
              "    'text': 'Иногда говорят, что Telegram был заблокирован в России, так как “закон есть закон”. Однако Telegram заблокирован в России как раз вопреки главному закону страны – Конституции. Решения судов и законы, противоречащие Конституции, не имеют силы. А это значит, что и сама блокировка Telegram незаконна. \\n\\nЕсли бы ФСБ ограничилась запросом информации о нескольких террористах, то ее требование вписывалось бы в рамки Конституции. Однако речь идет о передаче универсальных ключей шифрования с целью последующего бесконтрольного доступа к переписке неограниченного круга лиц. A это – прямое нарушение 23-й статьи Конституции о праве каждого на тайну переписки.\\n\\nПо этой причине юристы из “Агоры” сегодня обжаловали решение Верховного суда России о законности приказа ФСБ. Надеюсь, власти России откажутся от языка неисполнимых ультиматумов, на котором сегодня ведется диалог с технологическими компаниями.\\n\\nНезависимо от этого, мы продолжим борьбу за Telegram в России. История наших предков учит биться до победного конца. \\n\\nС Днем Победы!',\n",
              "    'views': {'count': 14646689}},\n",
              "   {'inner_type': 'wall_wallpost',\n",
              "    'donut': {'is_donut': False},\n",
              "    'comments': {'count': 0},\n",
              "    'marked_as_ads': 0,\n",
              "    'hash': 'rrMQBbDvCvR1OwbXlQ',\n",
              "    'type': 'post',\n",
              "    'attachments': [{'type': 'video',\n",
              "      'video': {'response_type': 'full',\n",
              "       'access_key': 'b6751e4a53ef7bd286',\n",
              "       'can_like': 1,\n",
              "       'can_repost': 1,\n",
              "       'can_subscribe': 1,\n",
              "       'can_add': 1,\n",
              "       'comments': 159,\n",
              "       'date': 1525352754,\n",
              "       'description': 'Мне пришёл целевой анонимный донат на проведение конкурса. Разыгрываю целый биткоин [не кликбейт, на самом деле].\\n\\nКонкурс на лучшую видео и аудио обработку речей и кадров с митинга 30 апреля. Подходит любой формат, главное, в максимально мемичной форме распространить основные тезисы наших выступлений по интернету, и обратить внимание на критическую значимость блокировок. Все слова сказаны. Их нужно донести. Срок — 10 дней. Постите свои видео с хэштегом #digitalresistance во всех соцсетях и присылайте ссылк',\n",
              "       'duration': 113,\n",
              "       'image': [{'url': 'https://sun1-29.userapi.com/c840722/v840722964/8039f/kunM7m6I7w4.jpg',\n",
              "         'width': 130,\n",
              "         'height': 73,\n",
              "         'with_padding': 1},\n",
              "        {'url': 'https://sun1-94.userapi.com/c840722/v840722964/803a0/4pAgn-HpKwI.jpg',\n",
              "         'width': 160,\n",
              "         'height': 90,\n",
              "         'with_padding': 1},\n",
              "        {'url': 'https://sun1-88.userapi.com/c840722/v840722964/803a1/OGFig-5UNjY.jpg',\n",
              "         'width': 320,\n",
              "         'height': 180,\n",
              "         'with_padding': 1},\n",
              "        {'url': 'https://sun1-16.userapi.com/c840722/v840722964/803a2/T2SKhzbHheQ.jpg',\n",
              "         'width': 800,\n",
              "         'height': 450,\n",
              "         'with_padding': 1}],\n",
              "       'id': 456239033,\n",
              "       'owner_id': 1,\n",
              "       'title': 'КОНКУРС НА БИТКОИН',\n",
              "       'track_code': 'video_1bb092bauzvIlWUiA613HmB1D8lklO2NFGTmnHPY3vQxcFs2PXq4MPnKURw1n0QnUEY8zRP1geEUkig8vhMSOvu2aw',\n",
              "       'type': 'video',\n",
              "       'views': 64563,\n",
              "       'platform': 'YouTube',\n",
              "       'can_dislike': 1,\n",
              "       'should_stretch': False}}],\n",
              "    'date': 1525352753,\n",
              "    'edited': 1525352775,\n",
              "    'from_id': 1,\n",
              "    'id': 2431591,\n",
              "    'likes': {'can_like': 0, 'count': 25651, 'user_likes': 0},\n",
              "    'owner_id': 1,\n",
              "    'post_type': 'post',\n",
              "    'reposts': {'count': 5620},\n",
              "    'text': 'Михаил Светов, организатор прошедшего митинга за свободу интернета, объявил конкурс на наиболее вдохновляющую обработку видеоматериалов с митинга. Призовой фонд – 1 биткоин.\\n\\n#digitalresistance',\n",
              "    'views': {'count': 8958834}}]}}"
            ]
          },
          "execution_count": 5,
          "metadata": {},
          "output_type": "execute_result"
        }
      ],
      "source": [
        "data"
      ]
    },
    {
      "cell_type": "markdown",
      "id": "e6a19755-451e-4435-948a-2e12d40881f9",
      "metadata": {
        "id": "e6a19755-451e-4435-948a-2e12d40881f9"
      },
      "source": [
        "Можно заметить, что дата отображается в виде числа. Это специальный формат unixtimestamp, который очень часто используется, так как целые числа - это универсальный способ хранения, который можно исопльзовать в любой системе (JSON, любые БД и прочие)"
      ]
    },
    {
      "cell_type": "code",
      "execution_count": null,
      "id": "8c368d13-21c2-42ec-9723-a96503d6f90b",
      "metadata": {
        "id": "8c368d13-21c2-42ec-9723-a96503d6f90b",
        "outputId": "a59322e4-288b-4ff9-f556-f561b9a50923"
      },
      "outputs": [
        {
          "name": "stdout",
          "output_type": "stream",
          "text": [
            "1525805964 2018-05-08 21:59:24\n"
          ]
        }
      ],
      "source": [
        "unixtime = data['response']['items'][0]['date']\n",
        "utc = datetime.fromtimestamp(unixtime)\n",
        "print(unixtime, utc)"
      ]
    },
    {
      "cell_type": "markdown",
      "id": "50b326eb-9752-4f0d-84c7-d7f6ea228708",
      "metadata": {
        "id": "50b326eb-9752-4f0d-84c7-d7f6ea228708"
      },
      "source": [
        "2. Выгрузить комментарии к постам\n",
        "\n",
        "Основные параметры: `owner_id`, `post_id`. Их мы можем достать из информации о постах на стене. Можно это сделать и вручную, например, если открыть пост во всплывающем окне, то по адресу в адресной строке можно понять эти id.\n",
        "\n",
        "https://vk.com/id1?w=wall1_2442097 : `owner_id = 1`, `post_id = 2442097`\n",
        "\n",
        "Для примера возьмем пост из сообщества \"Всего лишь писатель\""
      ]
    },
    {
      "cell_type": "code",
      "execution_count": null,
      "id": "ef5fe2c0-353b-43cd-83d2-a83d7ae1aad4",
      "metadata": {
        "id": "ef5fe2c0-353b-43cd-83d2-a83d7ae1aad4"
      },
      "outputs": [],
      "source": [
        "get_comments_url = \"https://api.vk.com/method/wall.getComments\"  # здесь endpoint уже другой"
      ]
    },
    {
      "cell_type": "code",
      "execution_count": null,
      "id": "5e2c20ef-e334-4c33-b047-d64312974b75",
      "metadata": {
        "id": "5e2c20ef-e334-4c33-b047-d64312974b75"
      },
      "outputs": [],
      "source": [
        "data = requests.get(\n",
        "    get_comments_url,\n",
        "    params={\n",
        "        \"owner_id\": -142046107,\n",
        "        \"post_id\": 1064437,\n",
        "        \"count\": 2,\n",
        "        \"need_likes\": 1,  # возвращать информацию о лайках\n",
        "        \"v\": VERSION,\n",
        "        \"access_token\": TOKEN\n",
        "    }\n",
        ").json()"
      ]
    },
    {
      "cell_type": "code",
      "execution_count": null,
      "id": "52689679-56cf-47ad-ac3a-f8fa922556e0",
      "metadata": {
        "id": "52689679-56cf-47ad-ac3a-f8fa922556e0",
        "outputId": "603564f3-f8d5-49df-d9d5-53761cdb7d16"
      },
      "outputs": [
        {
          "data": {
            "text/plain": [
              "{'response': {'count': 45,\n",
              "  'items': [{'id': 1064441,\n",
              "    'from_id': 294374266,\n",
              "    'date': 1733245976,\n",
              "    'text': '',\n",
              "    'post_id': 1064437,\n",
              "    'owner_id': -142046107,\n",
              "    'parents_stack': [],\n",
              "    'attachments': [{'type': 'sticker',\n",
              "      'sticker': {'inner_type': 'base_sticker_new',\n",
              "       'sticker_id': 87603,\n",
              "       'product_id': 1867,\n",
              "       'images': [{'url': 'https://vk.com/sticker/1-87603-64',\n",
              "         'width': 64,\n",
              "         'height': 64},\n",
              "        {'url': 'https://vk.com/sticker/1-87603-128',\n",
              "         'width': 128,\n",
              "         'height': 128},\n",
              "        {'url': 'https://vk.com/sticker/1-87603-256',\n",
              "         'width': 256,\n",
              "         'height': 256},\n",
              "        {'url': 'https://vk.com/sticker/1-87603-352',\n",
              "         'width': 352,\n",
              "         'height': 352},\n",
              "        {'url': 'https://vk.com/sticker/1-87603-512',\n",
              "         'width': 512,\n",
              "         'height': 512}],\n",
              "       'images_with_background': [{'url': 'https://vk.com/sticker/1-87603-64b',\n",
              "         'width': 64,\n",
              "         'height': 64},\n",
              "        {'url': 'https://vk.com/sticker/1-87603-128b',\n",
              "         'width': 128,\n",
              "         'height': 128},\n",
              "        {'url': 'https://vk.com/sticker/1-87603-256b',\n",
              "         'width': 256,\n",
              "         'height': 256},\n",
              "        {'url': 'https://vk.com/sticker/1-87603-352b',\n",
              "         'width': 352,\n",
              "         'height': 352},\n",
              "        {'url': 'https://vk.com/sticker/1-87603-512b',\n",
              "         'width': 512,\n",
              "         'height': 512}],\n",
              "       'is_allowed': True}}],\n",
              "    'likes': {'can_like': 0, 'count': 0, 'user_likes': 0},\n",
              "    'thread': {'count': 0,\n",
              "     'items': [],\n",
              "     'can_post': True,\n",
              "     'show_reply_button': True,\n",
              "     'groups_can_post': True}},\n",
              "   {'id': 1064444,\n",
              "    'from_id': 98318103,\n",
              "    'date': 1733246093,\n",
              "    'text': 'У панды Джонни в этот раз пистолет-арбалет? А по чему в этот раз придётся стрелять? Или это для фейерверков пистолет будет?',\n",
              "    'post_id': 1064437,\n",
              "    'owner_id': -142046107,\n",
              "    'parents_stack': [],\n",
              "    'donut': {'is_don': True},\n",
              "    'likes': {'can_like': 0, 'count': 0, 'user_likes': 0},\n",
              "    'thread': {'count': 0,\n",
              "     'items': [],\n",
              "     'can_post': True,\n",
              "     'show_reply_button': True,\n",
              "     'groups_can_post': True}}],\n",
              "  'current_level_count': 19,\n",
              "  'can_post': True,\n",
              "  'show_reply_button': True,\n",
              "  'groups_can_post': True}}"
            ]
          },
          "execution_count": 9,
          "metadata": {},
          "output_type": "execute_result"
        }
      ],
      "source": [
        "data"
      ]
    },
    {
      "cell_type": "markdown",
      "id": "971dad4d-0c77-480b-97a4-11db8a9612ef",
      "metadata": {
        "id": "971dad4d-0c77-480b-97a4-11db8a9612ef"
      },
      "source": [
        "3. Выгрузить список пользователь в сообществе"
      ]
    },
    {
      "cell_type": "code",
      "execution_count": null,
      "id": "1a1e37e5-f090-46db-91b2-949d5abb4fc9",
      "metadata": {
        "id": "1a1e37e5-f090-46db-91b2-949d5abb4fc9"
      },
      "outputs": [],
      "source": [
        "group_members = \"https://api.vk.com/method/groups.getMembers\"\n",
        "\n",
        "group = \"dormitory8hse\""
      ]
    },
    {
      "cell_type": "code",
      "execution_count": null,
      "id": "0a4486bd-fbc9-4e5f-87b7-3f4add827b1f",
      "metadata": {
        "id": "0a4486bd-fbc9-4e5f-87b7-3f4add827b1f",
        "outputId": "b51e737b-9fcc-4ef1-957d-3a7199dd171a"
      },
      "outputs": [
        {
          "data": {
            "text/plain": [
              "6517"
            ]
          },
          "execution_count": 11,
          "metadata": {},
          "output_type": "execute_result"
        }
      ],
      "source": [
        "data = requests.get(\n",
        "    group_members,\n",
        "    params={\n",
        "        'group_id': group,\n",
        "        'access_token': TOKEN,\n",
        "        'v': VERSION,\n",
        "        'offset': 0\n",
        "    }\n",
        ").json()\n",
        "\n",
        "data[\"response\"][\"count\"]"
      ]
    },
    {
      "cell_type": "markdown",
      "id": "186ee3e5-c0ff-4027-ae01-a622df89a6da",
      "metadata": {
        "id": "186ee3e5-c0ff-4027-ae01-a622df89a6da"
      },
      "source": [
        "В качестве ответа по людям - просто список ID. По ним уже дальше можно запрашивать подробную информацию о пользователях."
      ]
    },
    {
      "cell_type": "code",
      "execution_count": null,
      "id": "f965a8ec-423a-4a37-bd32-c90fbe434073",
      "metadata": {
        "id": "f965a8ec-423a-4a37-bd32-c90fbe434073",
        "outputId": "dfde84bc-0e3e-4814-a9ca-2fdbd90bcbbc"
      },
      "outputs": [
        {
          "data": {
            "text/plain": [
              "[11952, 20090, 56613, 62028, 80420, 81206, 96206, 113393, 144980, 225392]"
            ]
          },
          "execution_count": 12,
          "metadata": {},
          "output_type": "execute_result"
        }
      ],
      "source": [
        "data[\"response\"][\"items\"][:10]"
      ]
    },
    {
      "cell_type": "markdown",
      "id": "0b7c9a8a-01aa-4793-b303-b673370c398c",
      "metadata": {
        "id": "0b7c9a8a-01aa-4793-b303-b673370c398c"
      },
      "source": [
        "А теперь следующая страница. Это можно делать в цикле, чтобы выкачать всех"
      ]
    },
    {
      "cell_type": "code",
      "execution_count": null,
      "id": "0743cbeb-1898-4d8b-a702-9501fa42251b",
      "metadata": {
        "id": "0743cbeb-1898-4d8b-a702-9501fa42251b",
        "outputId": "49f230d2-5712-4c9b-da08-1aef2ea3df36"
      },
      "outputs": [
        {
          "data": {
            "text/plain": [
              "[26140160,\n",
              " 26149926,\n",
              " 26191419,\n",
              " 26214484,\n",
              " 26234658,\n",
              " 26270770,\n",
              " 26286469,\n",
              " 26337548,\n",
              " 26374113,\n",
              " 26439214]"
            ]
          },
          "execution_count": 13,
          "metadata": {},
          "output_type": "execute_result"
        }
      ],
      "source": [
        "data = requests.get(\n",
        "    group_members,\n",
        "    params={\n",
        "        'group_id': group,\n",
        "        'access_token': TOKEN,\n",
        "        'v': VERSION,\n",
        "        'offset': 1000  # смещение (начиная с 1000-го)\n",
        "    }\n",
        ").json()\n",
        "\n",
        "data[\"response\"][\"items\"][:10]"
      ]
    },
    {
      "cell_type": "markdown",
      "id": "b82db860-66db-4510-8829-6e0bc4d314e8",
      "metadata": {
        "id": "b82db860-66db-4510-8829-6e0bc4d314e8"
      },
      "source": [
        "Можно делать еще много чего, но это лучше читать в документации :)"
      ]
    },
    {
      "cell_type": "markdown",
      "id": "edf92af3-e57c-4f92-a9ba-6fb075474fa6",
      "metadata": {
        "id": "edf92af3-e57c-4f92-a9ba-6fb075474fa6"
      },
      "source": [
        "## OMDb API"
      ]
    },
    {
      "cell_type": "markdown",
      "id": "70363a3c-2a9f-4a5b-9efd-8f7fd58be490",
      "metadata": {
        "id": "70363a3c-2a9f-4a5b-9efd-8f7fd58be490"
      },
      "source": [
        "Адрес сайта API: https://www.omdbapi.com/\n",
        "\n",
        "Данный сервис является условно бесплатным: без доната доступно не больше 1000 запросов в день.\n",
        "\n",
        "Как воспользоваться:\n",
        "- Перейти на сайте во вкладку API Key и получить ключ (его еще надо будет активировать через почту)\n",
        "- Отправлять запросы на адрес апи, используя полученный ключ"
      ]
    },
    {
      "cell_type": "code",
      "execution_count": null,
      "id": "e0254cb7-a9cd-4287-8f61-289f6611d7c0",
      "metadata": {
        "id": "e0254cb7-a9cd-4287-8f61-289f6611d7c0"
      },
      "outputs": [],
      "source": [
        "API_KEY = \"\"\n",
        "endpoint = f'http://www.omdbapi.com/'"
      ]
    },
    {
      "cell_type": "code",
      "execution_count": null,
      "id": "531203cd-6fc9-493a-8ce5-8927bb1cf125",
      "metadata": {
        "id": "531203cd-6fc9-493a-8ce5-8927bb1cf125",
        "outputId": "d293f55a-9c70-4220-b47c-4df49fae3738"
      },
      "outputs": [
        {
          "data": {
            "text/plain": [
              "{'Title': 'Harry Potter and the Chamber of Secrets',\n",
              " 'Year': '2002',\n",
              " 'Rated': 'PG',\n",
              " 'Released': '15 Nov 2002',\n",
              " 'Runtime': '161 min',\n",
              " 'Genre': 'Adventure, Family, Fantasy',\n",
              " 'Director': 'Chris Columbus',\n",
              " 'Writer': 'J.K. Rowling, Steve Kloves',\n",
              " 'Actors': 'Daniel Radcliffe, Rupert Grint, Emma Watson',\n",
              " 'Plot': 'Forced to spend his summer holidays with his muggle relations, Harry Potter (Daniel Radcliffe) gets a real shock when he gets a surprise visitor: Dobby (Toby Jones) the house-elf, who warns Harry against returning to Hogwarts, for terrible things are going to happen. Harry decides to ignore Dobby\\'s warning and continues with his pre-arranged schedule. But at Hogwarts, strange and terrible things are indeed happening. Harry is suddenly hearing mysterious voices from inside the walls, muggle-born students are being attacked, and a message scrawled on the wall in blood puts everyone on his or her guard, \"The Chamber Of Secrets Has Been Opened. Enemies Of The Heir, Beware\".',\n",
              " 'Language': 'English, Latin',\n",
              " 'Country': 'United Kingdom, United States',\n",
              " 'Awards': 'Won 1 BAFTA Award14 wins & 50 nominations total',\n",
              " 'Poster': 'https://m.media-amazon.com/images/M/MV5BNGJhM2M2MWYtZjIzMC00MDZmLThkY2EtOWViMDhhYjRhMzk4XkEyXkFqcGc@._V1_SX300.jpg',\n",
              " 'Ratings': [{'Source': 'Internet Movie Database', 'Value': '7.4/10'},\n",
              "  {'Source': 'Rotten Tomatoes', 'Value': '82%'},\n",
              "  {'Source': 'Metacritic', 'Value': '63/100'}],\n",
              " 'Metascore': '63',\n",
              " 'imdbRating': '7.4',\n",
              " 'imdbVotes': '710,435',\n",
              " 'imdbID': 'tt0295297',\n",
              " 'Type': 'movie',\n",
              " 'DVD': 'N/A',\n",
              " 'BoxOffice': '$262,641,637',\n",
              " 'Production': 'N/A',\n",
              " 'Website': 'N/A',\n",
              " 'Response': 'True'}"
            ]
          },
          "execution_count": 15,
          "metadata": {},
          "output_type": "execute_result"
        }
      ],
      "source": [
        "data = requests.get(\n",
        "    endpoint,\n",
        "    params={\n",
        "        \"t\": \"Harry Potter and the Chamber\",\n",
        "        \"plot\": \"full\",\n",
        "        \"apikey\": API_KEY\n",
        "    }\n",
        ").json()\n",
        "data"
      ]
    },
    {
      "cell_type": "markdown",
      "id": "a7852fc4-bc07-4e3e-82a7-6f4ab75032f1",
      "metadata": {
        "id": "a7852fc4-bc07-4e3e-82a7-6f4ab75032f1"
      },
      "source": [
        "## FastAPI: делаем API для своего сервиса"
      ]
    },
    {
      "cell_type": "markdown",
      "id": "938885e9-8305-492f-a29b-db96ad9648cd",
      "metadata": {
        "id": "938885e9-8305-492f-a29b-db96ad9648cd"
      },
      "source": [
        "Для быстрого создания своего API для сервиса на питоне мы можем использоваться библиотеку `FastAPI`, которая имеет много общего с Flask. Для работы с ней нам еще понадобиться библиотека `uvicorn`, которая отвечает за правильные запуск (можно попробовать без нее, но это рекомендованный способ от разработчиков библиотеки).\n",
        "\n",
        "Также нам потребуется библиотека `pydantic`, которая отвечает за валидацию данных: мы не хотим руками прописывать все требования к входным данным (только тексты или только числа) и красивые реакции на ошибки в этих данных (\"Извините, год $-$ это число, а не логическая переменная\"), а данная библиотека это все умеет сама, если мы ей опишем правила, по которым проверять.\n",
        "\n",
        "Попробуем сделать простое API, которое умеет делать три вещи:\n",
        "- По запросу `info` возвращать список того, что она умеет\n",
        "- По запросу `keywords` для переданного текста возвращать ключевые слова\n",
        "- По запросу `normalize` для переданного текста возвращать его же очищенным от пунктуации и чисел и со всеми словами приведенными к начальной форме\n",
        "\n",
        "К сожалению, код ниже не запустится в Юпитере из-за особенностей работы библиотеки (это жертва, на которую приходится идти ради возможности асинхронной работы), так что его надо скопировать в отдельный `.py` файл и запустить"
      ]
    },
    {
      "cell_type": "markdown",
      "id": "5196fbb7-1f75-4ad9-a90a-215e2ded22a9",
      "metadata": {
        "id": "5196fbb7-1f75-4ad9-a90a-215e2ded22a9"
      },
      "source": [
        "Установим и импортируем все нужное\n",
        "\n",
        "``` python\n",
        "# !pip install fastapi uvicorn yake pydantic --q\n",
        "\n",
        "from fastapi import FastAPI\n",
        "import uvicorn\n",
        "from pydantic import BaseModel\n",
        "\n",
        "from pymorphy3 import MorphAnalyzer\n",
        "from yake import KeywordExtractor\n",
        "from nltk.tokenize import word_tokenize\n",
        "```"
      ]
    },
    {
      "cell_type": "markdown",
      "id": "601751a1-120d-43bb-a367-3b54ad3923ac",
      "metadata": {
        "id": "601751a1-120d-43bb-a367-3b54ad3923ac"
      },
      "source": [
        "Создадим все глобальные переменные и объекты\n",
        "\n",
        "```python\n",
        "morph = MorphAnalyzer()\n",
        "\n",
        "max_ngram_size = 2\n",
        "num_words = 5\n",
        "\n",
        "language = 'ru'\n",
        "custom_kw_extractor = KeywordExtractor(lan=language, n=max_ngram_size, top=num_words)\n",
        "```"
      ]
    },
    {
      "cell_type": "markdown",
      "id": "c677927f-0051-4983-8ac3-80860e54f990",
      "metadata": {
        "id": "c677927f-0051-4983-8ac3-80860e54f990"
      },
      "source": [
        "Опишем модель для входных данных. Здесь нам нужны только тексты, но если хочется чего-то сложного, то лучше подключить библиотеку `typing`.\n",
        "\n",
        "```python\n",
        "class TextQuery(BaseModel):\n",
        "    text: str\n",
        "```"
      ]
    },
    {
      "cell_type": "markdown",
      "id": "c326d196-9866-4081-96b7-a523da571194",
      "metadata": {
        "id": "c326d196-9866-4081-96b7-a523da571194"
      },
      "source": [
        "Создадим приложение API и пропишем наши endpoint'ы\n",
        "\n",
        "```python\n",
        "app = FastAPI()\n",
        "\n",
        "\n",
        "@app.get('/info')\n",
        "def get_model_list() -> dict[str, list[str]]:\n",
        "    return {'functions': ['keywords', 'normalize']}\n",
        "\n",
        "\n",
        "# здесь делаем post, так как хотим передавать json в качестве параметра\n",
        "@app.post('/keywords')\n",
        "def query(params: TextQuery) -> dict[str, float]:\n",
        "    keywords = custom_kw_extractor.extract_keywords(params.text)\n",
        "    return {el[0]: el[1] for el in keywords}\n",
        "\n",
        "\n",
        "@app.post('/normalize')\n",
        "def query(params: TextQuery) -> dict[str, str]:\n",
        "    text = [morph.parse(el)[0].normal_form \\\n",
        "                for el in word_tokenize(params.text) if el.isalpha()]\n",
        "    return {'normalized_text': ' '.join(text)}\n",
        "```"
      ]
    },
    {
      "cell_type": "markdown",
      "id": "372511a9-c0e3-4d40-bbd4-07862a2a5ce6",
      "metadata": {
        "id": "372511a9-c0e3-4d40-bbd4-07862a2a5ce6"
      },
      "source": [
        "А вот так наше приложение можно запустить. Причем по адресу http://127.0.0.1:8000/docs#/ автоматически сгенерируется страница с документацией к нашему сервису и интерфейсом для тестирования.\n",
        "\n",
        "```python\n",
        "if __name__ == \"__main__\":\n",
        "    uvicorn.run(app, port=8000, host=\"127.0.0.1\")\n",
        "```"
      ]
    },
    {
      "cell_type": "markdown",
      "id": "f42920c8-3d4e-41f1-b1b9-277a560bad35",
      "metadata": {
        "id": "f42920c8-3d4e-41f1-b1b9-277a560bad35"
      },
      "source": [
        "Теперь давайте попробуем воспользоваться нашим API, как мы это делали с чужими"
      ]
    },
    {
      "cell_type": "code",
      "execution_count": null,
      "id": "d36c55e3-27cd-47d0-bf3b-4cf9bcf21a88",
      "metadata": {
        "id": "d36c55e3-27cd-47d0-bf3b-4cf9bcf21a88"
      },
      "outputs": [],
      "source": [
        "base_url = 'http://127.0.0.1:8000'"
      ]
    },
    {
      "cell_type": "code",
      "execution_count": null,
      "id": "e6f9157e-6be2-4109-addd-32491fa0ef13",
      "metadata": {
        "id": "e6f9157e-6be2-4109-addd-32491fa0ef13",
        "outputId": "664ec12e-3592-475a-9bc3-a099ba3126a0"
      },
      "outputs": [
        {
          "data": {
            "text/plain": [
              "{'functions': ['keywords', 'normalize']}"
            ]
          },
          "execution_count": 51,
          "metadata": {},
          "output_type": "execute_result"
        }
      ],
      "source": [
        "requests.get(base_url + '/info').json()"
      ]
    },
    {
      "cell_type": "code",
      "execution_count": null,
      "id": "2da7587d-a02f-40b0-aeaa-3ec519bd1d7a",
      "metadata": {
        "id": "2da7587d-a02f-40b0-aeaa-3ec519bd1d7a",
        "outputId": "aadd62ad-4123-4ecb-fa5e-5b216d186c15"
      },
      "outputs": [
        {
          "data": {
            "text/plain": [
              "{'Привет': 0.06588837669267192,\n",
              " 'дела': 0.4949246952252326,\n",
              " 'делаешь': 0.5880798524606783}"
            ]
          },
          "execution_count": 57,
          "metadata": {},
          "output_type": "execute_result"
        }
      ],
      "source": [
        "requests.post(\n",
        "    base_url + '/keywords',\n",
        "    json={'text': 'Привет! Как дела? Что делаешь?'}\n",
        ").json()"
      ]
    },
    {
      "cell_type": "code",
      "execution_count": null,
      "id": "e76f3044-1418-4c6a-a0a4-b62467f818e5",
      "metadata": {
        "id": "e76f3044-1418-4c6a-a0a4-b62467f818e5",
        "outputId": "1403ab83-4796-4175-b236-026b7db93635"
      },
      "outputs": [
        {
          "data": {
            "text/plain": [
              "{'normalized_text': 'привет как дело что делать'}"
            ]
          },
          "execution_count": 58,
          "metadata": {},
          "output_type": "execute_result"
        }
      ],
      "source": [
        "requests.post(\n",
        "    base_url + '/normalize',\n",
        "    json={'text': 'Привет! Как дела? Что делаешь?'}\n",
        ").json()"
      ]
    },
    {
      "cell_type": "markdown",
      "id": "9402f823-50da-4e7d-a687-a02dabc0bd0e",
      "metadata": {
        "id": "9402f823-50da-4e7d-a687-a02dabc0bd0e"
      },
      "source": [
        "А теперь посмотрим, что будет, если мы назовем поле неправильно"
      ]
    },
    {
      "cell_type": "code",
      "execution_count": null,
      "id": "41c4bb4c-3fd9-47ef-8498-f7175362f58b",
      "metadata": {
        "id": "41c4bb4c-3fd9-47ef-8498-f7175362f58b",
        "outputId": "3e40a0b8-fa63-48ed-c679-aad2f1ffd76e"
      },
      "outputs": [
        {
          "data": {
            "text/plain": [
              "{'detail': [{'type': 'missing',\n",
              "   'loc': ['body', 'text'],\n",
              "   'msg': 'Field required',\n",
              "   'input': {'text_data': 'Привет! Как дела? Что делаешь?'}}]}"
            ]
          },
          "execution_count": 59,
          "metadata": {},
          "output_type": "execute_result"
        }
      ],
      "source": [
        "requests.post(\n",
        "    base_url + '/normalize',\n",
        "    json={'text_data': 'Привет! Как дела? Что делаешь?'}\n",
        ").json()"
      ]
    },
    {
      "cell_type": "markdown",
      "id": "121b3a94-3d8f-4d1f-8a54-2fad9c89ed28",
      "metadata": {
        "id": "121b3a94-3d8f-4d1f-8a54-2fad9c89ed28"
      },
      "source": [
        "Или положим в него не тот тип данных"
      ]
    },
    {
      "cell_type": "code",
      "execution_count": null,
      "id": "ba62e4f8-0376-433b-8e52-22bca444fd93",
      "metadata": {
        "id": "ba62e4f8-0376-433b-8e52-22bca444fd93",
        "outputId": "2c980ea6-6544-4b88-dd35-ac256c170fee"
      },
      "outputs": [
        {
          "data": {
            "text/plain": [
              "{'detail': [{'type': 'string_type',\n",
              "   'loc': ['body', 'text'],\n",
              "   'msg': 'Input should be a valid string',\n",
              "   'input': 10}]}"
            ]
          },
          "execution_count": 60,
          "metadata": {},
          "output_type": "execute_result"
        }
      ],
      "source": [
        "requests.post(\n",
        "    base_url + '/normalize',\n",
        "    json={'text': 10}\n",
        ").json()"
      ]
    },
    {
      "cell_type": "markdown",
      "id": "87682099-529d-47b3-9b23-296953003f64",
      "metadata": {
        "id": "87682099-529d-47b3-9b23-296953003f64"
      },
      "source": [
        "Теперь у нас есть свое API и мы можем до бесконечности добавлять в него функции :)"
      ]
    },
    {
      "cell_type": "markdown",
      "id": "ab7d0bb1-a6f1-4353-8f9b-a81480411b91",
      "metadata": {
        "id": "ab7d0bb1-a6f1-4353-8f9b-a81480411b91"
      },
      "source": [
        "## Задание"
      ]
    },
    {
      "cell_type": "markdown",
      "source": [
        "1.Добавьте к API выше следующие endpoint'ы:\n",
        "- `get_user_posts`: должна принимать на вход id пользователя в ВК и кол-во постов, которые надо вернуть. А возвращать словарь с результатами (API всегда возвращают словарь!)\n",
        "- `get_film_info`: должна принимать на вход id фильма и возвращать его название и сюжет\n",
        "- `get_stat`: должна принимать на вход имя сообщества, название характеристики (возраст, пол) и число - кол-во людей, по которым считаем статистику. И возвращать частотную статистику (для числовых значений можно через гистограмму)"
      ],
      "metadata": {
        "id": "mPOugRMyv8_A"
      },
      "id": "mPOugRMyv8_A"
    },
    {
      "cell_type": "code",
      "source": [],
      "metadata": {
        "id": "nPMdyA8zv--2"
      },
      "id": "nPMdyA8zv--2",
      "execution_count": null,
      "outputs": []
    },
    {
      "cell_type": "markdown",
      "id": "d52b0c5a-5246-4be8-ae87-2cb8dbde8357",
      "metadata": {
        "id": "d52b0c5a-5246-4be8-ae87-2cb8dbde8357"
      },
      "source": [
        "2. Сделайте так, чтобы endpoint'ы `keywords` и `normalize` умели работать со списками текстов"
      ]
    },
    {
      "cell_type": "code",
      "execution_count": null,
      "id": "8a57d39f-1ee8-40af-b4af-8e486481347c",
      "metadata": {
        "id": "8a57d39f-1ee8-40af-b4af-8e486481347c"
      },
      "outputs": [],
      "source": []
    }
  ],
  "metadata": {
    "kernelspec": {
      "display_name": "Python 3 (ipykernel)",
      "language": "python",
      "name": "python3"
    },
    "language_info": {
      "codemirror_mode": {
        "name": "ipython",
        "version": 3
      },
      "file_extension": ".py",
      "mimetype": "text/x-python",
      "name": "python",
      "nbconvert_exporter": "python",
      "pygments_lexer": "ipython3",
      "version": "3.11.5"
    },
    "colab": {
      "provenance": []
    }
  },
  "nbformat": 4,
  "nbformat_minor": 5
}