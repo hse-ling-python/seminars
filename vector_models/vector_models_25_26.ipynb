{
  "nbformat": 4,
  "nbformat_minor": 0,
  "metadata": {
    "colab": {
      "provenance": []
    },
    "kernelspec": {
      "name": "python3",
      "display_name": "Python 3"
    },
    "language_info": {
      "name": "python"
    }
  },
  "cells": [
    {
      "cell_type": "markdown",
      "metadata": {
        "id": "99ZPXGrDOr9b"
      },
      "source": [
        "# Эмбеддинги текстов. Векторные модели. Word2Vec"
      ]
    },
    {
      "cell_type": "code",
      "execution_count": 1,
      "metadata": {
        "id": "IJ16J7fkZAl6"
      },
      "outputs": [],
      "source": [
        "!pip install pymorphy3 gensim scipy russian-tagsets --q"
      ]
    },
    {
      "cell_type": "code",
      "execution_count": 2,
      "metadata": {
        "colab": {
          "base_uri": "https://localhost:8080/"
        },
        "id": "Ju73-u2TY4xg",
        "outputId": "471d6b5b-18ee-49fe-9177-18a269813c0c"
      },
      "outputs": [
        {
          "output_type": "stream",
          "name": "stderr",
          "text": [
            "[nltk_data] Downloading package stopwords to /root/nltk_data...\n",
            "[nltk_data]   Package stopwords is already up-to-date!\n",
            "[nltk_data] Downloading package punkt_tab to /root/nltk_data...\n",
            "[nltk_data]   Package punkt_tab is already up-to-date!\n"
          ]
        },
        {
          "output_type": "execute_result",
          "data": {
            "text/plain": [
              "True"
            ]
          },
          "metadata": {},
          "execution_count": 2
        }
      ],
      "source": [
        "import nltk\n",
        "nltk.download('stopwords')\n",
        "nltk.download('punkt_tab')"
      ]
    },
    {
      "cell_type": "markdown",
      "metadata": {
        "id": "ZTpD-eT0O0t6"
      },
      "source": [
        "План:\n",
        "- Зачем нам превращать текст в числа?\n",
        "- Мешок слов\n",
        "- Tf-Idf\n",
        "- Word2Vec, GloVe etc."
      ]
    },
    {
      "cell_type": "markdown",
      "metadata": {
        "id": "nABxlM7hTGGt"
      },
      "source": [
        "## Введение"
      ]
    },
    {
      "cell_type": "markdown",
      "metadata": {
        "id": "aAnoY8oDQU1r"
      },
      "source": [
        "Пусть у нас есть тексты:\n",
        "\n",
        "1. Мальчик с удовольствием ел горячую пиццу на ужин, запивая её яблочным соком.\n",
        "2. Ребёнок ужинал пастой с томатным соусом и пил апельсиновый сок за кухонным столом.\n",
        "3. Подросток поел макароны с сыром вечером и потом съел шоколадку на десерт.\n",
        "4. Студент усердно готовился к важному экзамену по биологии, просидев над конспектами почти всю ночь.\n",
        "5. Школьник вечером учил физику, перечитывая учебник и делая записи в тетради перед контрольной.\n",
        "6. Школьника в вечернее время обучали физике, он перечитывал учебники и вёл записи в тетради до контрольной работы.\n",
        "\n",
        "Мы хотим выделить в этих текстах две группы похожих между собой (очевидно, это 1-3 и 4-6). Но чтобы дать компьютеру возможность с ним работать, надо перевести текст на понятный для компьютера язык - числа.\n",
        "\n",
        "Чаще всего каждому слову в тексте (или всему тексту целиком) ставится в соответствие вектор чисел, как-то описывающий это слово. Причем чем лучше такое числовое представление отражает смысл конкретного слова и его отношения с другими словами в языке и текущем контексте, тем лучше.\n",
        "\n",
        "В идеале мы хотим, чтобы эмбеддинги:\n",
        "- Были близки (с математической точки зрения) для близких по смыслу слов;\n",
        "- Были далеки для различающихся по смыслу слов;\n",
        "- Занимали мало места в памяти;\n",
        "- Легко и быстро получались.\n",
        "\n"
      ]
    },
    {
      "cell_type": "code",
      "execution_count": 3,
      "metadata": {
        "id": "CpFGCETmOnvo"
      },
      "outputs": [],
      "source": [
        "texts = [\n",
        "    \"Мальчик с удовольствием ел горячую пиццу на ужин, запивая её яблочным соком.\",\n",
        "    \"Ребёнок ужинал пастой с томатным соусом и пил апельсиновый сок за кухонным столом.\",\n",
        "    \"Подросток поел макароны с сыром вечером и потом съел шоколадку на десерт.\",\n",
        "    \"Студент усердно готовился к важному экзамену по биологии, просидев над конспектами почти всю ночь.\",\n",
        "    \"Школьник вечером учил физику, перечитывая учебник и делая записи в тетради перед контрольной.\",\n",
        "    \"Школьника в вечернее время обучали физике, он перечитывал учебники и делал записи.\"\n",
        "]"
      ]
    },
    {
      "cell_type": "markdown",
      "metadata": {
        "id": "GP-vLyYATI78"
      },
      "source": [
        "## Мешок слов"
      ]
    },
    {
      "cell_type": "markdown",
      "metadata": {
        "id": "GYuvkiHRZDNa"
      },
      "source": [
        "Самый простой способ - представить текст как список входящих в него слов. Чтобы не писать сами слова (тем более, что компьютер их не понимает), дадим им порядковые номера: можно по алфавиту, можно по частоте.\n",
        "\n",
        "Получим структуру вида:\n",
        "| | текст 1 | текст 2 | текст 3 |\n",
        "| -- | -- | -- | -- |\n",
        "|__слово 1__ | 1 | 0 | 1 |\n",
        "|__слово 2__ | 1 | 1 | 1 |\n",
        "|__слово 3__ | 0 | 0 | 0 |\n",
        "|__слово 4__ | 0 | 1 | 0 |\n",
        "|__слово 5__ | 0 | 0 | 1 |\n",
        "\n",
        "Как вы считаете:\n",
        "- Какое слово больше похоже на стоп-слово?\n",
        "- Какие слова ключевые для текстов?"
      ]
    },
    {
      "cell_type": "code",
      "execution_count": 4,
      "metadata": {
        "id": "guRkiFesUZTF"
      },
      "outputs": [],
      "source": [
        "from sklearn.feature_extraction.text import CountVectorizer\n",
        "from sklearn.metrics.pairwise import cosine_similarity\n",
        "\n",
        "from nltk.corpus import stopwords\n",
        "from pymorphy3 import MorphAnalyzer\n",
        "from nltk.tokenize import word_tokenize\n",
        "from russian_tagsets import converters\n",
        "\n",
        "import seaborn as sns\n",
        "from matplotlib import pyplot as plt\n",
        "\n",
        "stops = stopwords.words('russian')\n",
        "morph = MorphAnalyzer()\n",
        "conv = converters.converter('opencorpora-int', 'ud20')"
      ]
    },
    {
      "cell_type": "markdown",
      "metadata": {
        "id": "_XXF-q7oZDNa"
      },
      "source": [
        "Функция, которая будет считать и рисовать нам близость между текстами\n",
        "\n",
        "> На всякий случай косинусное расстояние:\n",
        "$$\n",
        "\\cos \\theta = 1 - \\frac{\\mathbf{a} \\cdot \\mathbf{b}}{\\|\\mathbf{a}\\|\\,\\|\\mathbf{b}\\|} = 1 - \\frac{\\sum_{i=1}^{n} a_i b_i}{\\sqrt{\\sum_{i=1}^{n} a_i^2} \\, \\sqrt{\\sum_{i=1}^{n} b_i^2}}\n",
        "$$"
      ]
    },
    {
      "cell_type": "code",
      "execution_count": 5,
      "metadata": {
        "id": "u0v7uplKaiCG"
      },
      "outputs": [],
      "source": [
        "def plot_similarity(vec):\n",
        "    similarities = cosine_similarity(vec)\n",
        "\n",
        "    sns.heatmap(similarities)\n",
        "    plt.xlabel('Номер первого предложения')\n",
        "    plt.ylabel('Номер второго предложения')"
      ]
    },
    {
      "cell_type": "markdown",
      "metadata": {
        "id": "Ly3px_OmZDNb"
      },
      "source": [
        "Функция для предобработки текстов"
      ]
    },
    {
      "cell_type": "code",
      "execution_count": 6,
      "metadata": {
        "id": "ckcVURPrYuxk"
      },
      "outputs": [],
      "source": [
        "def preprocess_text(text, pos=False):\n",
        "    text = word_tokenize(text)\n",
        "    new_text = []\n",
        "    for word in text:\n",
        "        if word.isalpha():\n",
        "            forms = morph.parse(word)[0]\n",
        "            word = forms.normal_form\n",
        "\n",
        "            if word not in stops:\n",
        "                if pos:\n",
        "                    word = f'{word}_{conv(str(forms.tag)).split()[0]}'\n",
        "                new_text.append(word)\n",
        "\n",
        "    return ' '.join(new_text)"
      ]
    },
    {
      "cell_type": "code",
      "execution_count": 7,
      "metadata": {
        "id": "9hXXte-UZoXW"
      },
      "outputs": [],
      "source": [
        "# но в ячейках будут частоты, а не 1/0 - так лучше работает\n",
        "vectorizer = CountVectorizer()\n",
        "vec = vectorizer.fit_transform(texts)"
      ]
    },
    {
      "cell_type": "markdown",
      "metadata": {
        "id": "seOrb32JZDNb"
      },
      "source": [
        "Посмотрим, какой получился словарь"
      ]
    },
    {
      "cell_type": "code",
      "execution_count": 8,
      "metadata": {
        "id": "iHrFdgkbZDNb",
        "outputId": "f853c4ef-c8e7-4e5e-8b67-d70c3a4a572b",
        "colab": {
          "base_uri": "https://localhost:8080/"
        }
      },
      "outputs": [
        {
          "output_type": "execute_result",
          "data": {
            "text/plain": [
              "array(['апельсиновый', 'биологии', 'важному', 'вечернее', 'вечером',\n",
              "       'время', 'всю', 'горячую', 'готовился', 'делал', 'делая', 'десерт',\n",
              "       'ел', 'её', 'за', 'запивая', 'записи', 'конспектами',\n",
              "       'контрольной', 'кухонным', 'макароны', 'мальчик', 'на', 'над',\n",
              "       'ночь', 'обучали', 'он', 'пастой', 'перед', 'перечитывал',\n",
              "       'перечитывая', 'пил', 'пиццу', 'по', 'подросток', 'поел', 'потом',\n",
              "       'почти', 'просидев', 'ребёнок', 'сок', 'соком', 'соусом', 'столом',\n",
              "       'студент', 'съел', 'сыром', 'тетради', 'томатным', 'удовольствием',\n",
              "       'ужин', 'ужинал', 'усердно', 'учебник', 'учебники', 'учил',\n",
              "       'физике', 'физику', 'школьник', 'школьника', 'шоколадку',\n",
              "       'экзамену', 'яблочным'], dtype=object)"
            ]
          },
          "metadata": {},
          "execution_count": 8
        }
      ],
      "source": [
        "vectorizer.get_feature_names_out()"
      ]
    },
    {
      "cell_type": "markdown",
      "metadata": {
        "id": "7kH3XsiVZDNc"
      },
      "source": [
        "И какие вектора"
      ]
    },
    {
      "cell_type": "code",
      "execution_count": 9,
      "metadata": {
        "colab": {
          "base_uri": "https://localhost:8080/"
        },
        "id": "5IfBeLN6ZrI-",
        "outputId": "89f91d34-4dd1-429d-a2e7-e1c545a132e8"
      },
      "outputs": [
        {
          "output_type": "execute_result",
          "data": {
            "text/plain": [
              "array([[0, 0, 0, 0, 0, 0, 0, 1, 0, 0, 0, 0, 1, 1, 0, 1, 0, 0, 0, 0, 0, 1,\n",
              "        1, 0, 0, 0, 0, 0, 0, 0, 0, 0, 1, 0, 0, 0, 0, 0, 0, 0, 0, 1, 0, 0,\n",
              "        0, 0, 0, 0, 0, 1, 1, 0, 0, 0, 0, 0, 0, 0, 0, 0, 0, 0, 1],\n",
              "       [1, 0, 0, 0, 0, 0, 0, 0, 0, 0, 0, 0, 0, 0, 1, 0, 0, 0, 0, 1, 0, 0,\n",
              "        0, 0, 0, 0, 0, 1, 0, 0, 0, 1, 0, 0, 0, 0, 0, 0, 0, 1, 1, 0, 1, 1,\n",
              "        0, 0, 0, 0, 1, 0, 0, 1, 0, 0, 0, 0, 0, 0, 0, 0, 0, 0, 0],\n",
              "       [0, 0, 0, 0, 1, 0, 0, 0, 0, 0, 0, 1, 0, 0, 0, 0, 0, 0, 0, 0, 1, 0,\n",
              "        1, 0, 0, 0, 0, 0, 0, 0, 0, 0, 0, 0, 1, 1, 1, 0, 0, 0, 0, 0, 0, 0,\n",
              "        0, 1, 1, 0, 0, 0, 0, 0, 0, 0, 0, 0, 0, 0, 0, 0, 1, 0, 0],\n",
              "       [0, 1, 1, 0, 0, 0, 1, 0, 1, 0, 0, 0, 0, 0, 0, 0, 0, 1, 0, 0, 0, 0,\n",
              "        0, 1, 1, 0, 0, 0, 0, 0, 0, 0, 0, 1, 0, 0, 0, 1, 1, 0, 0, 0, 0, 0,\n",
              "        1, 0, 0, 0, 0, 0, 0, 0, 1, 0, 0, 0, 0, 0, 0, 0, 0, 1, 0],\n",
              "       [0, 0, 0, 0, 1, 0, 0, 0, 0, 0, 1, 0, 0, 0, 0, 0, 1, 0, 1, 0, 0, 0,\n",
              "        0, 0, 0, 0, 0, 0, 1, 0, 1, 0, 0, 0, 0, 0, 0, 0, 0, 0, 0, 0, 0, 0,\n",
              "        0, 0, 0, 1, 0, 0, 0, 0, 0, 1, 0, 1, 0, 1, 1, 0, 0, 0, 0],\n",
              "       [0, 0, 0, 1, 0, 1, 0, 0, 0, 1, 0, 0, 0, 0, 0, 0, 1, 0, 0, 0, 0, 0,\n",
              "        0, 0, 0, 1, 1, 0, 0, 1, 0, 0, 0, 0, 0, 0, 0, 0, 0, 0, 0, 0, 0, 0,\n",
              "        0, 0, 0, 0, 0, 0, 0, 0, 0, 0, 1, 0, 1, 0, 0, 1, 0, 0, 0]])"
            ]
          },
          "metadata": {},
          "execution_count": 9
        }
      ],
      "source": [
        "vec.toarray()"
      ]
    },
    {
      "cell_type": "markdown",
      "metadata": {
        "id": "Kf0AGi1NZDNd"
      },
      "source": [
        "Посмотрим, кто с кем похож. Очевидно, что тексты похожи сами на себе, но еще у нас есть явные пары: 0-2, 2-4, 4-5 похожи между собой"
      ]
    },
    {
      "cell_type": "code",
      "execution_count": 10,
      "metadata": {
        "colab": {
          "base_uri": "https://localhost:8080/",
          "height": 455
        },
        "id": "pprwVpvtZy6M",
        "outputId": "4643124d-5ca8-4efd-a112-28d6a2cbb4c6"
      },
      "outputs": [
        {
          "output_type": "display_data",
          "data": {
            "text/plain": [
              "<Figure size 640x480 with 2 Axes>"
            ],
            "image/png": "[encoded data removed]"
          },
          "metadata": {}
        }
      ],
      "source": [
        "plot_similarity(vec)"
      ]
    },
    {
      "cell_type": "markdown",
      "metadata": {
        "id": "peJjpM_zZDNd"
      },
      "source": [
        "А теперь сделаем важную для статистических подходов вещь - предобработаем тексты."
      ]
    },
    {
      "cell_type": "code",
      "execution_count": 11,
      "metadata": {
        "colab": {
          "base_uri": "https://localhost:8080/"
        },
        "id": "8KW2ufnBRNUD",
        "outputId": "98d5ff9c-df20-4f22-bc4d-8a910fc7d7df"
      },
      "outputs": [
        {
          "output_type": "execute_result",
          "data": {
            "text/plain": [
              "['мальчик удовольствие горячий пицца ужин запивать её яблочный сок',\n",
              " 'ребёнок ужинать паста томатный соус пить апельсиновый сок кухонный стол',\n",
              " 'подросток поесть макароны сыр вечером съесть шоколадка десерт',\n",
              " 'студент усердно готовиться важный экзамен биология просидеть конспект весь ночь',\n",
              " 'школьник вечером учить физика перечитывать учебник делать запись тетрадь контрольный',\n",
              " 'школьник вечерний время обучать физика перечитывать учебник делать запись']"
            ]
          },
          "metadata": {},
          "execution_count": 11
        }
      ],
      "source": [
        "clean_texts = list(map(preprocess_text, texts))\n",
        "clean_texts"
      ]
    },
    {
      "cell_type": "code",
      "execution_count": 12,
      "metadata": {
        "colab": {
          "base_uri": "https://localhost:8080/"
        },
        "id": "4xKN1ITnbE83",
        "outputId": "258fb29e-a96a-4b42-f29a-bad3546e2064"
      },
      "outputs": [
        {
          "output_type": "execute_result",
          "data": {
            "text/plain": [
              "array(['апельсиновый', 'биология', 'важный', 'весь', 'вечерний',\n",
              "       'вечером', 'время', 'горячий', 'готовиться', 'делать', 'десерт',\n",
              "       'её', 'запивать', 'запись', 'конспект', 'контрольный', 'кухонный',\n",
              "       'макароны', 'мальчик', 'ночь', 'обучать', 'паста', 'перечитывать',\n",
              "       'пить', 'пицца', 'подросток', 'поесть', 'просидеть', 'ребёнок',\n",
              "       'сок', 'соус', 'стол', 'студент', 'съесть', 'сыр', 'тетрадь',\n",
              "       'томатный', 'удовольствие', 'ужин', 'ужинать', 'усердно',\n",
              "       'учебник', 'учить', 'физика', 'школьник', 'шоколадка', 'экзамен',\n",
              "       'яблочный'], dtype=object)"
            ]
          },
          "metadata": {},
          "execution_count": 12
        }
      ],
      "source": [
        "vectorizer = CountVectorizer()\n",
        "vec = vectorizer.fit_transform(clean_texts)\n",
        "vectorizer.get_feature_names_out()"
      ]
    },
    {
      "cell_type": "markdown",
      "metadata": {
        "id": "xtdXA6wdZDNe"
      },
      "source": [
        "Увидим, что последние два текста очень похожи: они буквально состоят почти из одних и тех же слов, просто в разных формах"
      ]
    },
    {
      "cell_type": "code",
      "execution_count": 13,
      "metadata": {
        "colab": {
          "base_uri": "https://localhost:8080/",
          "height": 455
        },
        "id": "hCEPSgoob_5T",
        "outputId": "b19892ca-65ed-4a03-8fa5-4df11ccb128e"
      },
      "outputs": [
        {
          "output_type": "display_data",
          "data": {
            "text/plain": [
              "<Figure size 640x480 with 2 Axes>"
            ],
            "image/png": "[encoded data removed]"
          },
          "metadata": {}
        }
      ],
      "source": [
        "plot_similarity(vec)"
      ]
    },
    {
      "cell_type": "markdown",
      "metadata": {
        "id": "IBU6dpsETMfz"
      },
      "source": [
        "## Tf-Idf"
      ]
    },
    {
      "cell_type": "markdown",
      "metadata": {
        "id": "3zRmB3WGcyKG"
      },
      "source": [
        "Проблема мешка слов заключается в том, что он не учитывает несколько вещей:\n",
        "- Бывают более и менее редкие слов, бывают тексты разной длины. Абсолютные значения частот этого не учитывают;\n",
        "- Есть более или менее специфичные слова.\n",
        "\n",
        "Зато все это учитывает TF-IDF:\n",
        "\n",
        "$$\\text{tf-idf}(t, d, D) = \\text{tf}(t, d) \\times \\text{idf}(t, D)$$\n",
        "\n",
        "где\n",
        "\n",
        "- $\\text{tf}(t, d) = \\frac{f_{t,d}}{\\sum_{t' \\in d} f_{t',d}}$ — частота термина \\(t\\) в документе \\(d\\);\n",
        "- $\\text{idf}(t, D) = \\log \\frac{N}{1 + |\\{d \\in D : t \\in d\\}|}$ — обратная документная частота.\n"
      ]
    },
    {
      "cell_type": "code",
      "execution_count": 14,
      "metadata": {
        "id": "jV0UEclTZDNe"
      },
      "outputs": [],
      "source": [
        "from sklearn.feature_extraction.text import TfidfVectorizer"
      ]
    },
    {
      "cell_type": "code",
      "execution_count": 15,
      "metadata": {
        "colab": {
          "base_uri": "https://localhost:8080/"
        },
        "id": "UnwbhrsKTOaU",
        "outputId": "bb432940-6663-4ae4-8d5d-2370a6c48818"
      },
      "outputs": [
        {
          "output_type": "execute_result",
          "data": {
            "text/plain": [
              "array([0.        , 0.        , 0.        , 0.        , 0.        ,\n",
              "       0.        , 0.        , 0.30610363, 0.        , 0.        ,\n",
              "       0.        , 0.        , 0.30610363, 0.30610363, 0.        ,\n",
              "       0.30610363, 0.        , 0.        , 0.        , 0.        ,\n",
              "       0.        , 0.30610363, 0.25100935, 0.        , 0.        ,\n",
              "       0.        , 0.        , 0.        , 0.        , 0.        ,\n",
              "       0.        , 0.        , 0.30610363, 0.        , 0.        ,\n",
              "       0.        , 0.        , 0.        , 0.        , 0.        ,\n",
              "       0.        , 0.30610363, 0.        , 0.        , 0.        ,\n",
              "       0.        , 0.        , 0.        , 0.        , 0.30610363,\n",
              "       0.30610363, 0.        , 0.        , 0.        , 0.        ,\n",
              "       0.        , 0.        , 0.        , 0.        , 0.        ,\n",
              "       0.        , 0.        , 0.30610363])"
            ]
          },
          "metadata": {},
          "execution_count": 15
        }
      ],
      "source": [
        "vectorizer = TfidfVectorizer()\n",
        "vec = vectorizer.fit_transform(texts)\n",
        "vec.toarray()[0]"
      ]
    },
    {
      "cell_type": "code",
      "execution_count": 16,
      "metadata": {
        "colab": {
          "base_uri": "https://localhost:8080/",
          "height": 455
        },
        "id": "vF4Nor0JdggE",
        "outputId": "799cf984-bdf8-45ec-e138-f0f32bc5c8ea"
      },
      "outputs": [
        {
          "output_type": "display_data",
          "data": {
            "text/plain": [
              "<Figure size 640x480 with 2 Axes>"
            ],
            "image/png": "[encoded data removed]"
          },
          "metadata": {}
        }
      ],
      "source": [
        "plot_similarity(vec)"
      ]
    },
    {
      "cell_type": "code",
      "execution_count": 17,
      "metadata": {
        "colab": {
          "base_uri": "https://localhost:8080/",
          "height": 455
        },
        "id": "jVjC1uwAdhhg",
        "outputId": "4c245934-6090-4e41-c1d1-2979defaa397"
      },
      "outputs": [
        {
          "output_type": "display_data",
          "data": {
            "text/plain": [
              "<Figure size 640x480 with 2 Axes>"
            ],
            "image/png": "[encoded data removed]"
          },
          "metadata": {}
        }
      ],
      "source": [
        "vectorizer = TfidfVectorizer()\n",
        "vec = vectorizer.fit_transform(clean_texts)\n",
        "plot_similarity(vec)"
      ]
    },
    {
      "cell_type": "markdown",
      "metadata": {
        "id": "6q9Gm6CUTOuF"
      },
      "source": [
        "## Word2Vec & Co"
      ]
    },
    {
      "cell_type": "markdown",
      "metadata": {
        "id": "laqYSiitZDNf"
      },
      "source": [
        "Отдельно существуют методы векторизации, основанные на дистрибутивной семантике. Ее идея заключается в том, что смысл слова определяется его контекстом. Таким образом, похожие слова - это слова, встречающиеся в похожих контекстах.\n",
        "\n",
        "На подобных принципах основана целая группа моделей:\n",
        "- __GloVe__: считается матрица совместной встречаемости слов, после чего с помощью алгоритомв уменьшения размерности она преобразуется так, чтобы вектора были опредленной длины;\n",
        "- __Word2Vec__: это уже нейросеть, при ее обучении на основе корпуса постепенно подбираются коэффициенты (значения в векторах) для каждого слова так, чтобы с помощью них можно было наилучшим образом предсказывать слова по контексту;\n",
        "- __FastText__: то же, что и word2vec, но на буквенныз нграммах, что помогает работать с незнакомыми словами;\n",
        "- __AdaGram__: умеет разделять несколько значений у одного слова на основе Байесовсого подхода.\n",
        "\n",
        "Мы остановимся подробнее на Word2Vec, как на наиболее распространенной и единственной (еще может быть FastText) свободно доступной до сих пор. Этот инструмент был разработан группой исследователей Google в 2013 году, руководителем проекта был Томаш Миколов.\n",
        "\n",
        "Основные работы про Word2Vec:\n",
        "- [Efficient Estimation of Word Representations inVector Space](https://arxiv.org/abs/1301.3781)\n",
        "- [Distributed Representations of Words and Phrases and their Compositionality](https://arxiv.org/abs/1310.4546)\n",
        "\n",
        "Так как такие модели обычно обучаются на большом объеме текстов, обучать свою долго, дорого и нецелесообразно, поэтому мы сначала будем использовать готовую, но потом все-таки посмотрим, как обучить свою. В целом, для русского языка готовые модели есть на сайте __rusvectores.org__ (иногда сайту бывает нехорошо и он не работает).\n",
        "\n",
        "__Что такое Word2Vec?__\n",
        "\n",
        "Модель представляет собой словарь вида \"слово: вектор\", чаще всего вектор содержит 300 значений (число в какой-то момент было подобрано эмпирически и закрепилось). Причем вектора обладают интересной парой свойств:\n",
        "- Каждая конкретная координата скорее не имеет понятной человеку интерпретации;\n",
        "- Вектора в целом при этом позволяют выделять закономерности различной сложности:\n",
        "\n",
        "<img src=\"https://towardsdatascience.com/wp-content/uploads/2021/03/15F4TXdFYwqi-BWTToQPIfg.jpeg\">\n",
        "\n",
        "Ещё про механику с картинками [тут](https://habr.com/ru/post/446530/)\n",
        "\n",
        "__Зачем это нужно?__\n",
        "\n",
        "+ используется для решения семантических задач\n",
        "+ подаётся на вход нейронным сетям\n",
        "+ раньше использовался в Siri, Google Assistant, Alexa, Google Translate, но современным моделям уже однозначно проигрывает...\n",
        "\n",
        "*Давайте подумаем, для описания каких семантических классов слов дистрибутивная информация особенно важна?*\n",
        "\n",
        "Несколько интересных статей по дистрибутивной семантике:\n",
        "\n",
        "* [Turney and Pantel 2010](https://jair.org/index.php/jair/article/view/10640)\n",
        "* [Lenci 2018](https://www.annualreviews.org/doi/abs/10.1146/annurev-linguistics-030514-125254?journalCode=linguistics)\n",
        "* [Smith 2019](https://arxiv.org/pdf/1902.06006.pdf)\n",
        "* [Pennington et al. 2014](https://www.aclweb.org/anthology/D14-1162/)\n",
        "* [Faruqui et al. 2015](https://www.aclweb.org/anthology/N15-1184/)\n",
        "\n",
        "__Gensim__\n",
        "\n",
        "Использовать предобученную модель эмбеддингов или обучить свою можно с помощью библиотеки `gensim`. Вот ее [документация](https://radimrehurek.com/gensim/models/word2vec.html). Вообще-то `gensim` — библиотека для тематического моделирования текстов, но один из компонентов в ней — реализация на python алгоритмов из библиотеки word2vec (которая в оригинале была написана на C++).\n",
        "\n",
        "Если gensim у вас не стоит, то ставим: `!pip install gensim`."
      ]
    },
    {
      "cell_type": "code",
      "execution_count": 18,
      "metadata": {
        "id": "wDolNHJVe0nS"
      },
      "outputs": [],
      "source": [
        "from gensim.models import KeyedVectors\n",
        "import numpy as np"
      ]
    },
    {
      "cell_type": "code",
      "source": [
        "# или можно напрямую по ссылке скачать, если не хочется через wget\n",
        "!wget https://rusvectores.org/static/models/rusvectores4/RNC/ruscorpora_upos_skipgram_300_5_2018.vec.gz"
      ],
      "metadata": {
        "colab": {
          "base_uri": "https://localhost:8080/"
        },
        "id": "S9nIxgqofUtn",
        "outputId": "b83bc993-da7f-42ff-96ef-6d7f9df2faa1"
      },
      "execution_count": 19,
      "outputs": [
        {
          "output_type": "stream",
          "name": "stdout",
          "text": [
            "--2025-10-23 14:55:03--  https://rusvectores.org/static/models/rusvectores4/RNC/ruscorpora_upos_skipgram_300_5_2018.vec.gz\n",
            "Resolving rusvectores.org (rusvectores.org)... 129.240.189.200, 2001:700:112::200\n",
            "Connecting to rusvectores.org (rusvectores.org)|129.240.189.200|:443... connected.\n",
            "HTTP request sent, awaiting response... 200 OK\n",
            "Length: 199864398 (191M) [application/x-gzip]\n",
            "Saving to: ‘ruscorpora_upos_skipgram_300_5_2018.vec.gz.2’\n",
            "\n",
            "ruscorpora_upos_ski 100%[===================>] 190.61M  12.2MB/s    in 16s     \n",
            "\n",
            "2025-10-23 14:55:20 (11.6 MB/s) - ‘ruscorpora_upos_skipgram_300_5_2018.vec.gz.2’ saved [199864398/199864398]\n",
            "\n"
          ]
        }
      ]
    },
    {
      "cell_type": "code",
      "execution_count": 20,
      "metadata": {
        "id": "NxWLgZiIevAT"
      },
      "outputs": [],
      "source": [
        "model = KeyedVectors.load_word2vec_format('ruscorpora_upos_skipgram_300_5_2018.vec.gz')"
      ]
    },
    {
      "cell_type": "markdown",
      "metadata": {
        "id": "RO0DG-F1ZDNg"
      },
      "source": [
        "Многие модели word2vec требуют частей речи для применения, поэтому слова надо подавать в формате \"слово_ЧАСТЬ РЕЧИ\""
      ]
    },
    {
      "cell_type": "code",
      "execution_count": 21,
      "metadata": {
        "id": "yVfbMS71ZDNg",
        "outputId": "aff1b5b7-db94-471a-dfed-0b8d19fb016d",
        "colab": {
          "base_uri": "https://localhost:8080/"
        }
      },
      "outputs": [
        {
          "output_type": "execute_result",
          "data": {
            "text/plain": [
              "array([ 0.053885,  0.076832, -0.020836,  0.050466, -0.018344,  0.024962,\n",
              "        0.022273, -0.069766, -0.067729,  0.026725], dtype=float32)"
            ]
          },
          "metadata": {},
          "execution_count": 21
        }
      ],
      "source": [
        "model['кошка_NOUN'][:10]"
      ]
    },
    {
      "cell_type": "markdown",
      "metadata": {
        "id": "7XuX32ZIZDNg"
      },
      "source": [
        "Посмотрим на ближайшие"
      ]
    },
    {
      "cell_type": "code",
      "execution_count": 22,
      "metadata": {
        "id": "ELbY2QOZejN9",
        "outputId": "405d7a27-c97e-4e8f-82cb-cf35d0fdff47",
        "colab": {
          "base_uri": "https://localhost:8080/"
        }
      },
      "outputs": [
        {
          "output_type": "execute_result",
          "data": {
            "text/plain": [
              "[('кот_NOUN', 0.7805721759796143),\n",
              " ('собака_NOUN', 0.7084056735038757),\n",
              " ('котенок_NOUN', 0.6833623647689819),\n",
              " ('мяукать_VERB', 0.661374568939209),\n",
              " ('мяукать_NOUN', 0.6479178071022034),\n",
              " ('клеточка_PROPN', 0.642410397529602),\n",
              " ('тобик_PROPN', 0.6401645541191101),\n",
              " ('крыса_NOUN', 0.635063648223877),\n",
              " ('котенка_NOUN', 0.629923939704895),\n",
              " ('окотиться_VERB', 0.6232213973999023)]"
            ]
          },
          "metadata": {},
          "execution_count": 22
        }
      ],
      "source": [
        "model.most_similar('кошка_NOUN')"
      ]
    },
    {
      "cell_type": "markdown",
      "metadata": {
        "id": "cZGQ_BeqZDN1"
      },
      "source": [
        "Функция для векторизации текста"
      ]
    },
    {
      "cell_type": "code",
      "execution_count": 23,
      "metadata": {
        "id": "SwoZrIOKZDN1"
      },
      "outputs": [],
      "source": [
        "def vectorize_text(text):\n",
        "    text = preprocess_text(text, pos=True).split()\n",
        "    vecs = []\n",
        "    for word in text:\n",
        "        if word in model:\n",
        "            vecs.append(model[word])\n",
        "    return np.vstack(vecs).mean(axis=0)"
      ]
    },
    {
      "cell_type": "code",
      "execution_count": 24,
      "metadata": {
        "id": "CI5-pvqjZDN2",
        "outputId": "80fbf1f9-1131-48a7-b0bf-8c2ca821bc3e",
        "colab": {
          "base_uri": "https://localhost:8080/"
        }
      },
      "outputs": [
        {
          "output_type": "execute_result",
          "data": {
            "text/plain": [
              "array([[-0.07098313,  0.00865387,  0.02144413, ..., -0.02943538,\n",
              "         0.0330795 ,  0.03685575],\n",
              "       [-0.04000477, -0.00743911,  0.01201422, ..., -0.02488989,\n",
              "         0.04465611,  0.02580667],\n",
              "       [-0.06250743,  0.02175429,  0.00584186, ...,  0.00108514,\n",
              "         0.04665972,  0.01459186],\n",
              "       [-0.029877  , -0.04032711, -0.00018533, ..., -0.06681278,\n",
              "         0.02328756,  0.00798933],\n",
              "       [-0.026793  , -0.04201111,  0.01011044, ..., -0.02136367,\n",
              "         0.00223367,  0.008629  ],\n",
              "       [-0.03181133, -0.047093  ,  0.01709333, ..., -0.02349167,\n",
              "         0.00280967,  0.01149544]], dtype=float32)"
            ]
          },
          "metadata": {},
          "execution_count": 24
        }
      ],
      "source": [
        "vecs = np.vstack(list(map(vectorize_text, texts)))\n",
        "vecs"
      ]
    },
    {
      "cell_type": "code",
      "execution_count": 25,
      "metadata": {
        "id": "9Ui2gRoYZDN2",
        "outputId": "d452dee2-7a7b-4fed-9ba4-c7c93b5fff84",
        "colab": {
          "base_uri": "https://localhost:8080/",
          "height": 455
        }
      },
      "outputs": [
        {
          "output_type": "display_data",
          "data": {
            "text/plain": [
              "<Figure size 640x480 with 2 Axes>"
            ],
            "image/png": "[encoded data removed]"
          },
          "metadata": {}
        }
      ],
      "source": [
        "plot_similarity(vecs)"
      ]
    },
    {
      "cell_type": "markdown",
      "metadata": {
        "id": "7rvSWbWwZDN2"
      },
      "source": [
        "К сожалению, у word2vec есть несколько минусов. Он\n",
        "- Не учитывает порядок слов и синтаксические зависимости;\n",
        "- Не умеет работать с незнакомыми словами (это словарь: нет ключей - нет значений);\n",
        "- Путает синонимы и антонимы;"
      ]
    },
    {
      "cell_type": "code",
      "execution_count": 26,
      "metadata": {
        "id": "lUvdWMTtZDN2",
        "outputId": "0e42733a-f926-4573-fd86-f68303dc7df1",
        "colab": {
          "base_uri": "https://localhost:8080/"
        }
      },
      "outputs": [
        {
          "output_type": "execute_result",
          "data": {
            "text/plain": [
              "[('добро_NOUN', 0.7334719896316528),\n",
              " ('зломя_NOUN', 0.7035925984382629),\n",
              " ('зло_VERB', 0.6938475370407104),\n",
              " ('насилием_NOUN', 0.6638540029525757),\n",
              " ('злу_NOUN', 0.6549335718154907),\n",
              " ('злой_NOUN', 0.6526554822921753),\n",
              " ('зло_ADV', 0.6483572125434875),\n",
              " ('противьтесь_VERB', 0.6258615851402283),\n",
              " ('злом_NOUN', 0.620617151260376),\n",
              " ('насилие_PROPN', 0.5829303860664368)]"
            ]
          },
          "metadata": {},
          "execution_count": 26
        }
      ],
      "source": [
        "model.most_similar('зло_NOUN')"
      ]
    },
    {
      "cell_type": "markdown",
      "metadata": {
        "id": "RqqP91AEZDN2"
      },
      "source": [
        "- Не различает омонимы (и чаще всего предпочитает одно из значений);"
      ]
    },
    {
      "cell_type": "code",
      "execution_count": 27,
      "metadata": {
        "id": "9X0Bawr2ZDN3",
        "outputId": "e98d5b61-76b2-4e1a-ce32-905e80e310a4",
        "colab": {
          "base_uri": "https://localhost:8080/"
        }
      },
      "outputs": [
        {
          "output_type": "execute_result",
          "data": {
            "text/plain": [
              "[('замокнуть_NOUN', 0.7464022636413574),\n",
              " ('замок_ADJ', 0.6631044149398804),\n",
              " ('замок_PROPN', 0.6569739580154419),\n",
              " ('мондидье_PROPN', 0.6153575778007507),\n",
              " ('запираемый_VERB', 0.5956321358680725),\n",
              " ('засово_NOUN', 0.5905193090438843),\n",
              " ('венсенский_ADJ', 0.588593602180481),\n",
              " ('сейфовый_ADJ', 0.5803343057632446),\n",
              " ('защелкгиваться_VERB', 0.579129695892334),\n",
              " ('отопревать_VERB', 0.575293242931366)]"
            ]
          },
          "metadata": {},
          "execution_count": 27
        }
      ],
      "source": [
        "model.most_similar('замок_NOUN')"
      ]
    },
    {
      "cell_type": "code",
      "execution_count": 28,
      "metadata": {
        "id": "SzkQKjMPZDN3",
        "outputId": "928592bf-c888-4ac4-b9a9-a5527ce03c37",
        "colab": {
          "base_uri": "https://localhost:8080/"
        }
      },
      "outputs": [
        {
          "output_type": "execute_result",
          "data": {
            "text/plain": [
              "[('репчатый_ADJ', 0.7018033862113953),\n",
              " ('репчатый_VERB', 0.6678007245063782),\n",
              " ('нашинковать_VERB', 0.6440962553024292),\n",
              " ('сельдерей_NOUN', 0.6314660906791687),\n",
              " ('морковь_NOUN', 0.628654420375824),\n",
              " ('лук-порей_ADV', 0.6253951191902161),\n",
              " ('чеснок_NOUN', 0.6183842420578003),\n",
              " ('помидор_NOUN', 0.6150241494178772),\n",
              " ('каперс_NOUN', 0.6140490770339966),\n",
              " ('спассеровать_VERB', 0.6125704050064087)]"
            ]
          },
          "metadata": {},
          "execution_count": 28
        }
      ],
      "source": [
        "model.most_similar('лук_NOUN')"
      ]
    },
    {
      "cell_type": "markdown",
      "source": [
        "### Свой Word2Vec"
      ],
      "metadata": {
        "id": "gxv2sCaOhBze"
      }
    },
    {
      "cell_type": "markdown",
      "metadata": {
        "id": "dTALiFCxhEUV"
      },
      "source": [
        "#### (если будет время) Как он обучается: CBOW и SkipGram"
      ]
    },
    {
      "cell_type": "markdown",
      "metadata": {
        "id": "aDfFouBbxxYa"
      },
      "source": [
        "Для обучения word2vec используется два противоположных подхода. У готовых моделей чаще всего указывается, какой именно подход был выбран. С точки зрения структуры этот выбор влияет на то, какие данные нужны на вход и что именно будет предсказывать голова классификации.\n",
        "\n",
        "<img src=\"https://sspark.genspark.ai/cfimages?u1=nXKWQ3UFEwWMX9oL5OTiR1CdzuV5WIlm1v%2BpVS1JvMOnwhi5xuoieffilAaP80%2FKFGoCY4TaWIWXgLp6xAXzSjvln8P6H482%2FErY07zDa1s6MKiG2eG5&u2=WAaxhmdojPZnoS9b&width=1024\" width=700>"
      ]
    },
    {
      "cell_type": "markdown",
      "metadata": {
        "id": "vqDbFqvsxxYa"
      },
      "source": [
        "##### CBOW"
      ]
    },
    {
      "cell_type": "markdown",
      "metadata": {
        "id": "U5Tm9NogxxYb"
      },
      "source": [
        "Здесь идея в том, чтобы по контексту восстановить пропущенное слово. Для этого делаем следующее:\n",
        "1. Выбираем параметр n - размер окна;\n",
        "2. Делим текст на окна так, что от каждого слова (или с каким-то шагом) пытаемся взять в право и влево по n соседних слов;\n",
        "\n",
        "> Предложение: Милый котик играет с клубком пряжи\n",
        "\n",
        "| Центральное слово | Контекстные слова     |\n",
        "|-------------------|-----------------------|\n",
        "| Милый             | котик                 |\n",
        "| котик             | Милый, играет         |\n",
        "| играет            | котик, с              |\n",
        "| с                 | играет, клубком       |\n",
        "| клубком           | с, пряжи              |\n",
        "| пряжи             | клубком               |\n",
        "\n",
        "3. Получаем эмбеддинги для каждого слова в контексте, считаем их сумму/среднее/конкатенируем (бывает по-разному);\n",
        "4. Пытаемся предсказать центральное слово с помощью головы классификации.\n"
      ]
    },
    {
      "cell_type": "markdown",
      "metadata": {
        "id": "o8RcWJJVxxYc"
      },
      "source": [
        "##### SkipGram"
      ]
    },
    {
      "cell_type": "markdown",
      "metadata": {
        "id": "0Yh3hU_PxxYc"
      },
      "source": [
        "Восстанавливаем контекст по ценитральному слову. Для этого делаем следующее:\n",
        "1. Выбираем параметр n - размер окна;\n",
        "2. Делим текст на окна так, что от каждого слова (или с каким-то шагом) пытаемся взять в право и влево по n соседних слов; берем пары вида центральное слово - одно слово из контекста;\n",
        "\n",
        "> Предложение: Милый котик играет с клубком пряжи\n",
        "\n",
        "| Центральное слово | Контекстные слова     |\n",
        "|-------------------|-----------------------|\n",
        "| Милый             | котик                 |\n",
        "| котик             | Милый, играет         |\n",
        "| играет            | котик, с              |\n",
        "| с                 | играет, клубком       |\n",
        "| клубком           | с, пряжи              |\n",
        "| пряжи             | клубком               |\n",
        "\n",
        "Данные для обучения (можно убирать дубликаты внутри предложения, можно не убирать):\n",
        "| Центральное слово | Контекстное слово     |\n",
        "|-------------------|-----------------------|\n",
        "| Милый             | котик                 |\n",
        "| котик             | Милый       |\n",
        "| котик             | играет         |\n",
        "| играет            | котик              |\n",
        "| играет            | с              |\n",
        "| с                 | играет      |\n",
        "| с                 | клубком       |\n",
        "| клубком           | с              |\n",
        "| клубком           | пряжи              |\n",
        "| пряжи             | клубком               |\n",
        "\n",
        "3. Получаем эмбеддинг для центрального слова;\n",
        "4. Пытаемся предсказать контекстное слово с помощью головы классификации.\n"
      ]
    },
    {
      "cell_type": "markdown",
      "metadata": {
        "id": "eztWFaAhxxYd"
      },
      "source": [
        "##### Negative Sampling"
      ]
    },
    {
      "cell_type": "markdown",
      "metadata": {
        "id": "-fICpi8xxxYd"
      },
      "source": [
        "Описанные выше подходы неприятны тем, что проследний этап, предсказание слова из словаря, очень дорогой вычислительно: там чисто для классификации нужна матрица, совпадающая по размерности с матрицией эмбеддингов. Только матрица эмбеддингов - это необходимая нам часть модели, а голова классификации нужна только для обучения!\n",
        "\n",
        "Поэтому был придуман подход, основанный на бинарной классификации. Как он работает:\n",
        "1. Выбираем параметр n - размер окна;\n",
        "2. Делим текст на окна так, что от каждого слова (или с каким-то шагом) пытаемся взять в право и влево по n соседних слов; берем все пары слов, оказавшихся в этом окне;\n",
        "\n",
        "> Предложение: Милый котик играет с клубком пряжи\n",
        "\n",
        "| Центральное слово | Контекстное слово     |\n",
        "|-------------------|-----------------------|\n",
        "| Милый             | котик                 |\n",
        "| котик             | Милый       |\n",
        "| котик             | играет         |\n",
        "| играет            | котик              |\n",
        "| играет            | с              |\n",
        "| с                 | играет      |\n",
        "| с                 | клубком       |\n",
        "| клубком           | с              |\n",
        "| клубком           | пряжи              |\n",
        "| пряжи             | клубком               |\n",
        "\n",
        "3. Получаем эмбеддинг для обоих слов в паре;\n",
        "4. Предсказываем по паре 1/0 - являются ли эти слова контекстом друг для друга.\n",
        "\n",
        "Такой подход решает вопрос с неэффективностью, потому что на выходе голова на 2 класса, а не на 100 тысяч классов, однако создает новую проблему: при выбранном подходе к генерации данных мы создаем только примеры из класса 1 (соседствующие в контексте).\n",
        "\n",
        "Чтобы решить этот вопрос, мы используем Negative Sampling: добавляем в данные негативные примеры, которые создаем из случайных пар слов в словаре.\n",
        "\n",
        "Все вместе это называется __SkipGram with Negative Sampling__ - и сейчас это один из основных подходов к обучению word2vec."
      ]
    },
    {
      "cell_type": "markdown",
      "source": [
        "#### Обучаем Word2Vec через gensim"
      ],
      "metadata": {
        "id": "gML_49QZhUTl"
      }
    },
    {
      "cell_type": "markdown",
      "source": [
        "NB! Обратите внимание, что тренировка модели не включает препроцессинг! Это значит, что избавляться от пунктуации, приводить слова к нижнему регистру, лемматизировать их, проставлять частеречные теги придется до тренировки модели (если, конечно, это необходимо для вашей задачи). Т.е. в каком виде слова будут в исходном тексте, в таком они будут и в модели.\n",
        "\n",
        "Поскольку иногда тренировка модели занимает много времени, то можно ещё вести лог событий, чтобы понимать, что на каком этапе происходит."
      ],
      "metadata": {
        "id": "KkeVx8z_VEHo"
      }
    },
    {
      "cell_type": "code",
      "source": [
        "import gensim\n",
        "\n",
        "import logging\n",
        "import warnings\n",
        "\n",
        "warnings.filterwarnings('ignore')"
      ],
      "metadata": {
        "id": "zsRaOq5ii5jC"
      },
      "execution_count": 29,
      "outputs": []
    },
    {
      "cell_type": "code",
      "execution_count": 30,
      "source": [
        "logging.basicConfig(format='%(asctime)s : %(levelname)s : %(message)s', level=logging.INFO)"
      ],
      "outputs": [],
      "metadata": {
        "id": "DY_Db8XMVEHp"
      }
    },
    {
      "cell_type": "markdown",
      "source": [
        "На вход модели даем текстовый файл, каждое предложение на отдельной строчке. Вот игрушечный пример с текстом «Бедной Лизы». Он заранее очищен от пунктуации, приведен к нижнему регистру и лемматизирован."
      ],
      "metadata": {
        "id": "fm3i7Cc9VEIA"
      }
    },
    {
      "cell_type": "code",
      "source": [
        "!wget https://raw.githubusercontent.com/hse-ling-python/seminars/refs/heads/master/vector_models/liza_lem.txt"
      ],
      "metadata": {
        "id": "36gteT5NLEom",
        "colab": {
          "base_uri": "https://localhost:8080/"
        },
        "outputId": "01a270fa-2f8d-4770-f0e2-52d74a072181"
      },
      "execution_count": 31,
      "outputs": [
        {
          "output_type": "stream",
          "name": "stdout",
          "text": [
            "--2025-10-23 14:57:13--  https://raw.githubusercontent.com/hse-ling-python/seminars/refs/heads/master/vector_models/liza_lem.txt\n",
            "Resolving raw.githubusercontent.com (raw.githubusercontent.com)... 185.199.110.133, 185.199.108.133, 185.199.109.133, ...\n",
            "Connecting to raw.githubusercontent.com (raw.githubusercontent.com)|185.199.110.133|:443... connected.\n",
            "HTTP request sent, awaiting response... 200 OK\n",
            "Length: 42747 (42K) [text/plain]\n",
            "Saving to: ‘liza_lem.txt.3’\n",
            "\n",
            "\rliza_lem.txt.3        0%[                    ]       0  --.-KB/s               \rliza_lem.txt.3      100%[===================>]  41.75K  --.-KB/s    in 0.005s  \n",
            "\n",
            "2025-10-23 14:57:13 (7.67 MB/s) - ‘liza_lem.txt.3’ saved [42747/42747]\n",
            "\n"
          ]
        }
      ]
    },
    {
      "cell_type": "code",
      "execution_count": 32,
      "source": [
        "f = 'liza_lem.txt'\n",
        "data = gensim.models.word2vec.LineSentence(f)"
      ],
      "outputs": [],
      "metadata": {
        "id": "YUOUR5MHVEID"
      }
    },
    {
      "cell_type": "markdown",
      "source": [
        "Обучим модель. Основные параметры:\n",
        "- данные: должны быть итерируемым объектом\n",
        "- size — размер вектора,\n",
        "- window — размер окна наблюдения,\n",
        "- min_count — мин. частотность слова в корпусе,\n",
        "- sg — используемый алгоритм обучения (0 — CBOW, 1 — Skip-gram),\n",
        "- sample — порог для downsampling'a высокочастотных слов,\n",
        "- workers — количество потоков,\n",
        "- alpha — learning rate,\n",
        "- epochs — количество итераций,\n",
        "- max_vocab_size — позволяет выставить ограничение по памяти при создании словаря (т.е. если ограничение привышается, то низкочастотные слова будут выбрасываться). Для сравнения: 10 млн слов = 1Гб RAM."
      ],
      "metadata": {
        "id": "y9sWIvd_VEIE"
      }
    },
    {
      "cell_type": "code",
      "execution_count": 33,
      "metadata": {
        "id": "OvWyVEHfxxYk",
        "outputId": "b26b98ea-7c93-41c1-a172-33549880ffe9",
        "colab": {
          "base_uri": "https://localhost:8080/"
        }
      },
      "outputs": [
        {
          "output_type": "stream",
          "name": "stdout",
          "text": [
            "CPU times: user 174 ms, sys: 12.8 ms, total: 187 ms\n",
            "Wall time: 194 ms\n"
          ]
        }
      ],
      "source": [
        "%time model = gensim.models.Word2Vec(data, vector_size=300, window=5, min_count=2, sg=1, epochs=10)"
      ]
    },
    {
      "cell_type": "markdown",
      "metadata": {
        "id": "ZzF91g33xxYl"
      },
      "source": [
        "Можно нормализовать вектора, тогда модель будет занимать меньше RAM. Однако после этого её нельзя дотренировывать. Здесь используется L2-нормализация: вектора нормализуются так, что если сложить квадраты всех элементов вектора, в сумме получится 1.\n",
        "\n",
        "В более поздних версиях это перестает быть обязательным."
      ]
    },
    {
      "cell_type": "code",
      "execution_count": 34,
      "metadata": {
        "id": "AiSFOTyvxxYl",
        "outputId": "17fbf9ab-610d-4a12-8bc5-1027e8e3af46",
        "colab": {
          "base_uri": "https://localhost:8080/"
        }
      },
      "outputs": [
        {
          "output_type": "stream",
          "name": "stderr",
          "text": [
            "WARNING:gensim.models.keyedvectors:destructive init_sims(replace=True) deprecated & no longer required for space-efficiency\n"
          ]
        }
      ],
      "source": [
        "model.init_sims(replace=True)"
      ]
    },
    {
      "cell_type": "markdown",
      "metadata": {
        "id": "Xdy3huuJxxYm"
      },
      "source": [
        "Можем сохранить нашу модель в файл, причем оставить только эмбеддинги: так она будет занимать меньше места и быстрее читаться"
      ]
    },
    {
      "cell_type": "code",
      "execution_count": 35,
      "metadata": {
        "id": "QLdqZwo-xxYm"
      },
      "outputs": [],
      "source": [
        "model_path = \"liza_model.bin\"\n",
        "model.wv.save_word2vec_format(model_path, binary=True)"
      ]
    },
    {
      "cell_type": "markdown",
      "metadata": {
        "id": "1aPkenjdxxYm"
      },
      "source": [
        "Прочитаем, проверим, что все окей"
      ]
    },
    {
      "cell_type": "code",
      "execution_count": 36,
      "metadata": {
        "id": "QTyd2TftjXfp"
      },
      "outputs": [],
      "source": [
        "model = KeyedVectors.load_word2vec_format(model_path, binary=True)"
      ]
    },
    {
      "cell_type": "code",
      "execution_count": 37,
      "metadata": {
        "id": "vUlNlskpxxYn",
        "outputId": "51c6a2d3-9956-4a66-f2a3-e841b5a8f3c7",
        "colab": {
          "base_uri": "https://localhost:8080/"
        }
      },
      "outputs": [
        {
          "output_type": "execute_result",
          "data": {
            "text/plain": [
              "np.float32(0.99999994)"
            ]
          },
          "metadata": {},
          "execution_count": 37
        }
      ],
      "source": [
        "np.linalg.norm(model['лиза'])"
      ]
    },
    {
      "cell_type": "code",
      "execution_count": 38,
      "metadata": {
        "id": "-TrJxaE1xxYn",
        "outputId": "479801e3-e6b1-4e6a-ab15-94aa192438ef",
        "colab": {
          "base_uri": "https://localhost:8080/"
        }
      },
      "outputs": [
        {
          "output_type": "execute_result",
          "data": {
            "text/plain": [
              "[('свой', 0.9989644289016724),\n",
              " ('который', 0.9989140629768372),\n",
              " ('мой', 0.9985422492027283),\n",
              " ('сей', 0.9984121918678284),\n",
              " ('мочь', 0.9983697533607483),\n",
              " ('хотеть', 0.9983149766921997),\n",
              " ('слеза', 0.9982987642288208),\n",
              " ('смотреть', 0.9982856512069702),\n",
              " ('рука', 0.9982788562774658),\n",
              " ('любовь', 0.9982542395591736)]"
            ]
          },
          "metadata": {},
          "execution_count": 38
        }
      ],
      "source": [
        "model.most_similar('лиза')"
      ]
    },
    {
      "cell_type": "code",
      "execution_count": 39,
      "metadata": {
        "id": "dr1rx5jZxxYt",
        "outputId": "2a9ac55a-02de-4199-da6b-c9431d4f94a9",
        "colab": {
          "base_uri": "https://localhost:8080/"
        }
      },
      "outputs": [
        {
          "output_type": "stream",
          "name": "stdout",
          "text": [
            "478\n"
          ]
        }
      ],
      "source": [
        "print(len(model.key_to_index))"
      ]
    },
    {
      "cell_type": "code",
      "execution_count": 40,
      "metadata": {
        "id": "EfnTDEjXxxYu",
        "outputId": "df1cf24d-e388-4575-8b94-9646f1d2e17d",
        "colab": {
          "base_uri": "https://localhost:8080/"
        }
      },
      "outputs": [
        {
          "output_type": "stream",
          "name": "stdout",
          "text": [
            "['доживать', 'долго', 'должный', 'дом', 'домой', 'дочь', 'древний', 'друг', 'другой', 'дуб', 'думать', 'душа', 'едва', 'ехать', 'жалобный', 'желание', 'желать', 'жениться', 'жених', 'женщина', 'жестокий', 'живой', 'жизнь', 'жить', 'забава', 'заблуждение', 'забывать', 'завтра', 'задумчивость', 'закраснеться', 'закричать', 'заря', 'здешний', 'здравствовать', 'зеленый', 'земля', 'златой', 'знать', 'ибо', 'играть', 'идти', 'имя', 'искать', 'исполняться', 'испугаться', 'история', 'исчезать', 'кабинет', 'казаться', 'какой', 'капля', 'карета', 'карман', 'картина', 'катиться', 'келья', 'клятва', 'колено', 'копейка', 'который', 'красота', 'крест', 'крестьянин', 'крестьянка', 'кровь', 'кроме', 'кто', 'купить', 'ландыш', 'ласка', 'ласковый', 'левый', 'лес', 'лететь', 'летний', 'лето', 'лиза', 'лизин', 'лизина', 'лицо', 'лишний', 'лодка', 'ложиться', 'луг', 'луч', 'любезный', 'любить', 'любовь', 'лютый', 'матушка', 'мать', 'место', 'месяц', 'мечта', 'милый', 'мимо', 'минута', 'многочисленный', 'могила', 'мой']\n"
          ]
        }
      ],
      "source": [
        "print(sorted([w for w in model.key_to_index])[100:200])"
      ]
    },
    {
      "cell_type": "markdown",
      "metadata": {
        "id": "13zJx1naxxYu"
      },
      "source": [
        "Обратим внимание, что наша модель менее хороошая, чем та, которую мы взяли с сайта. По большей части, это из-за маленького объема данных, однако есть и другие параметры, которые можно менять:\n",
        "\n",
        "- препроцессинг: лемматизировать или нет, например, вдруг мы хотим посмотреть на морфологические пропорции? тогда лемматизировать не нужно\n",
        "- размер корпуса: чем больше, тем лучше, но! не для семантических задач, для них важнее качество\n",
        "- размер словаря\n",
        "- negative samples\n",
        "- количество итераций\n",
        "- длина вектора: 100-300 (судя по всему, >300 не сильно улучшает результаты)\n",
        "- длина окна: для синтаксических задач, примерно 4, для семантических задач, большое окно, 8, 10.\n",
        "\n",
        "Хорошая статья про сравнение моделей с варьированием параметров: https://www.aclweb.org/anthology/D14-1162.pdf"
      ]
    },
    {
      "cell_type": "code",
      "source": [],
      "metadata": {
        "id": "t3x6N26-fik4"
      },
      "execution_count": 40,
      "outputs": []
    }
  ]
}