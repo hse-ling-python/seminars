{
 "cells": [
  {
   "cell_type": "markdown",
   "metadata": {
    "id": "BPXvwJ-2w-qC"
   },
   "source": [
    "# Pandas и Numpy"
   ]
  },
  {
   "cell_type": "markdown",
   "metadata": {
    "id": "HJBywFmMqmVK"
   },
   "source": [
    "Датасеты:\n",
    "\n",
    "\n",
    "\n",
    "*   [Starbucks Reviews](https://www.kaggle.com/datasets/harshalhonde/starbucks-reviews-dataset)\n",
    "*   [Restaurant Reviews](https://www.kaggle.com/datasets/joebeachcapital/restaurant-reviews)\n",
    "* [LinkedIn Job Posting](https://www.kaggle.com/datasets/arshkon/linkedin-job-postings)\n",
    "\n",
    "Или их можно скачать [вот тут](https://drive.google.com/drive/folders/1Gb_QnXUSBOQpcqovj-KY7YfduxUzZbQD?usp=drive_link), если не хочется входить в аккаунт каггла.<br>([Тут](https://www.kaggle.com/discussions/general/74235) есть инструкция-обсуждение о том, как соединить Kaggle и Colab.)\n"
   ]
  },
  {
   "cell_type": "markdown",
   "metadata": {
    "id": "ewvXjv0Myuqg"
   },
   "source": [
    "## ¿Вспоминаем? pandas\n",
    "\n",
    "[Документация](https://pandas.pydata.org/docs/)"
   ]
  },
  {
   "cell_type": "code",
   "execution_count": 11,
   "metadata": {
    "id": "B5Paj3DfPU1i"
   },
   "outputs": [],
   "source": [
    "import pandas as pd"
   ]
  },
  {
   "cell_type": "markdown",
   "metadata": {
    "id": "tZ4DbqddOkZ2"
   },
   "source": [
    "**Немного теории**\n",
    "\n",
    "Основная сущность, с котрой работает библиотека - это датафрейм (`DataFrame`). На человеческом таблица. Каждый датафрейм состоит из столбцов типа `Series` (одномерных массивов, которые могут хранить значения любого типа данных). Датафремй можно получить различными способами, но основных два:\n",
    "\n",
    "- создать из словаря, списка или чего-то похожего"
   ]
  },
  {
   "cell_type": "code",
   "execution_count": 14,
   "metadata": {
    "colab": {
     "base_uri": "https://localhost:8080/",
     "height": 175
    },
    "id": "a0Yp3pUWPA2Y",
    "outputId": "fa4b4a99-a87a-4ca6-9716-928b9943f948"
   },
   "outputs": [
    {
     "data": {
      "text/html": [
       "<div>\n",
       "<style scoped>\n",
       "    .dataframe tbody tr th:only-of-type {\n",
       "        vertical-align: middle;\n",
       "    }\n",
       "\n",
       "    .dataframe tbody tr th {\n",
       "        vertical-align: top;\n",
       "    }\n",
       "\n",
       "    .dataframe thead th {\n",
       "        text-align: right;\n",
       "    }\n",
       "</style>\n",
       "<table border=\"1\" class=\"dataframe\">\n",
       "  <thead>\n",
       "    <tr style=\"text-align: right;\">\n",
       "      <th></th>\n",
       "      <th>age</th>\n",
       "      <th>height</th>\n",
       "    </tr>\n",
       "  </thead>\n",
       "  <tbody>\n",
       "    <tr>\n",
       "      <th>0</th>\n",
       "      <td>12</td>\n",
       "      <td>140</td>\n",
       "    </tr>\n",
       "    <tr>\n",
       "      <th>1</th>\n",
       "      <td>5</td>\n",
       "      <td>110</td>\n",
       "    </tr>\n",
       "    <tr>\n",
       "      <th>2</th>\n",
       "      <td>15</td>\n",
       "      <td>165</td>\n",
       "    </tr>\n",
       "    <tr>\n",
       "      <th>3</th>\n",
       "      <td>25</td>\n",
       "      <td>180</td>\n",
       "    </tr>\n",
       "  </tbody>\n",
       "</table>\n",
       "</div>"
      ],
      "text/plain": [
       "   age  height\n",
       "0   12     140\n",
       "1    5     110\n",
       "2   15     165\n",
       "3   25     180"
      ]
     },
     "execution_count": 14,
     "metadata": {},
     "output_type": "execute_result"
    }
   ],
   "source": [
    "dct = {\n",
    "    'age': [12, 5, 15, 25],\n",
    "    'height': [140, 110, 165, 180]\n",
    "}\n",
    "pd.DataFrame(dct)"
   ]
  },
  {
   "cell_type": "code",
   "execution_count": 16,
   "metadata": {
    "colab": {
     "base_uri": "https://localhost:8080/",
     "height": 175
    },
    "id": "FtvY8ssxP2uk",
    "outputId": "7aa421a1-ce13-4140-9426-71bfe2e2827a"
   },
   "outputs": [
    {
     "data": {
      "text/html": [
       "<div>\n",
       "<style scoped>\n",
       "    .dataframe tbody tr th:only-of-type {\n",
       "        vertical-align: middle;\n",
       "    }\n",
       "\n",
       "    .dataframe tbody tr th {\n",
       "        vertical-align: top;\n",
       "    }\n",
       "\n",
       "    .dataframe thead th {\n",
       "        text-align: right;\n",
       "    }\n",
       "</style>\n",
       "<table border=\"1\" class=\"dataframe\">\n",
       "  <thead>\n",
       "    <tr style=\"text-align: right;\">\n",
       "      <th></th>\n",
       "      <th>age</th>\n",
       "      <th>height</th>\n",
       "    </tr>\n",
       "  </thead>\n",
       "  <tbody>\n",
       "    <tr>\n",
       "      <th>0</th>\n",
       "      <td>12</td>\n",
       "      <td>140</td>\n",
       "    </tr>\n",
       "    <tr>\n",
       "      <th>1</th>\n",
       "      <td>5</td>\n",
       "      <td>110</td>\n",
       "    </tr>\n",
       "    <tr>\n",
       "      <th>2</th>\n",
       "      <td>15</td>\n",
       "      <td>165</td>\n",
       "    </tr>\n",
       "    <tr>\n",
       "      <th>3</th>\n",
       "      <td>25</td>\n",
       "      <td>180</td>\n",
       "    </tr>\n",
       "  </tbody>\n",
       "</table>\n",
       "</div>"
      ],
      "text/plain": [
       "   age  height\n",
       "0   12     140\n",
       "1    5     110\n",
       "2   15     165\n",
       "3   25     180"
      ]
     },
     "execution_count": 16,
     "metadata": {},
     "output_type": "execute_result"
    }
   ],
   "source": [
    "lst = [\n",
    "    [12, 140],\n",
    "    [5, 110],\n",
    "    [15, 165],\n",
    "    [25, 180]\n",
    "]\n",
    "pd.DataFrame(lst, columns=['age', 'height'])"
   ]
  },
  {
   "cell_type": "markdown",
   "metadata": {
    "id": "eJZi8ynNQCPB"
   },
   "source": [
    "- загрузить из файла (csv, tsv, excel etc.)\n",
    "    - **CSV**. Используется функция `read_csv()`. Аргумент `file` является строкой, в которой записан путь до файла с дата-сетом. Для записи данных из `DataFrame` в CSV-файл используется метод `to_csv(file)`.\n",
    "    - **Excel**. Используется функция `read_excel()`. Для записи данных из `DataFrame` в Excel-файл используется метод `to_excel()`.\n",
    "    - **JSON**. Используется функция `read_json()`. Для записи данных из DataFrame в JSON используется метод `to_json()`.\n",
    "    - **Онлайн-таблицы** (на страницах сайта). Используется функция `read_ html()`.\n"
   ]
  },
  {
   "cell_type": "code",
   "execution_count": 396,
   "metadata": {},
   "outputs": [
    {
     "data": {
      "text/html": [
       "<div>\n",
       "<style scoped>\n",
       "    .dataframe tbody tr th:only-of-type {\n",
       "        vertical-align: middle;\n",
       "    }\n",
       "\n",
       "    .dataframe tbody tr th {\n",
       "        vertical-align: top;\n",
       "    }\n",
       "\n",
       "    .dataframe thead th {\n",
       "        text-align: right;\n",
       "    }\n",
       "</style>\n",
       "<table border=\"1\" class=\"dataframe\">\n",
       "  <thead>\n",
       "    <tr style=\"text-align: right;\">\n",
       "      <th></th>\n",
       "      <th>Conventional Gloss</th>\n",
       "      <th>Variants</th>\n",
       "      <th>Meaning</th>\n",
       "      <th>Reference</th>\n",
       "    </tr>\n",
       "  </thead>\n",
       "  <tbody>\n",
       "    <tr>\n",
       "      <th>0</th>\n",
       "      <td>NaN</td>\n",
       "      <td>-A</td>\n",
       "      <td>athematic (TAMA athematic tense-aspect-mood, A...</td>\n",
       "      <td>[43]</td>\n",
       "    </tr>\n",
       "    <tr>\n",
       "      <th>1</th>\n",
       "      <td>NaN</td>\n",
       "      <td>A-</td>\n",
       "      <td>associating (prefix on case abbreviation)</td>\n",
       "      <td>[24]</td>\n",
       "    </tr>\n",
       "    <tr>\n",
       "      <th>2</th>\n",
       "      <td>NaN</td>\n",
       "      <td>AA</td>\n",
       "      <td>addressee authority (cf. SA)</td>\n",
       "      <td>[21]</td>\n",
       "    </tr>\n",
       "    <tr>\n",
       "      <th>3</th>\n",
       "      <td>NaN</td>\n",
       "      <td>AB</td>\n",
       "      <td>from. May be equivalent to ABESS or ABL. Compo...</td>\n",
       "      <td>[citation needed]</td>\n",
       "    </tr>\n",
       "    <tr>\n",
       "      <th>4</th>\n",
       "      <td>NaN</td>\n",
       "      <td>AB, ABV[citation needed]</td>\n",
       "      <td>above deictic center</td>\n",
       "      <td>[44]</td>\n",
       "    </tr>\n",
       "    <tr>\n",
       "      <th>...</th>\n",
       "      <td>...</td>\n",
       "      <td>...</td>\n",
       "      <td>...</td>\n",
       "      <td>...</td>\n",
       "    </tr>\n",
       "    <tr>\n",
       "      <th>1040</th>\n",
       "      <td>NaN</td>\n",
       "      <td>WP, WPST</td>\n",
       "      <td>witnessed past</td>\n",
       "      <td>[81][101]</td>\n",
       "    </tr>\n",
       "    <tr>\n",
       "      <th>1041</th>\n",
       "      <td>X</td>\n",
       "      <td>?</td>\n",
       "      <td>(unidentified morpheme)</td>\n",
       "      <td>[32][31]</td>\n",
       "    </tr>\n",
       "    <tr>\n",
       "      <th>1042</th>\n",
       "      <td>NaN</td>\n",
       "      <td>YNQ, PQ, P.INT, PI</td>\n",
       "      <td>yes–no question, polar question/interrogative ...</td>\n",
       "      <td>[136][16][19][1]</td>\n",
       "    </tr>\n",
       "    <tr>\n",
       "      <th>1043</th>\n",
       "      <td>NaN</td>\n",
       "      <td>-Z</td>\n",
       "      <td>-(al)izer (e.g. ADJZ adjectivizer, NZ nominali...</td>\n",
       "      <td>NaN</td>\n",
       "    </tr>\n",
       "    <tr>\n",
       "      <th>1044</th>\n",
       "      <td>ZO</td>\n",
       "      <td>NaN</td>\n",
       "      <td>zoic gender (animals)</td>\n",
       "      <td>[137]</td>\n",
       "    </tr>\n",
       "  </tbody>\n",
       "</table>\n",
       "<p>1045 rows × 4 columns</p>\n",
       "</div>"
      ],
      "text/plain": [
       "     Conventional Gloss                  Variants  \\\n",
       "0                   NaN                        -A   \n",
       "1                   NaN                        A-   \n",
       "2                   NaN                        AA   \n",
       "3                   NaN                        AB   \n",
       "4                   NaN  AB, ABV[citation needed]   \n",
       "...                 ...                       ...   \n",
       "1040                NaN                  WP, WPST   \n",
       "1041                  X                         ?   \n",
       "1042                NaN        YNQ, PQ, P.INT, PI   \n",
       "1043                NaN                        -Z   \n",
       "1044                 ZO                       NaN   \n",
       "\n",
       "                                                Meaning          Reference  \n",
       "0     athematic (TAMA athematic tense-aspect-mood, A...               [43]  \n",
       "1             associating (prefix on case abbreviation)               [24]  \n",
       "2                          addressee authority (cf. SA)               [21]  \n",
       "3     from. May be equivalent to ABESS or ABL. Compo...  [citation needed]  \n",
       "4                                  above deictic center               [44]  \n",
       "...                                                 ...                ...  \n",
       "1040                                     witnessed past          [81][101]  \n",
       "1041                            (unidentified morpheme)           [32][31]  \n",
       "1042  yes–no question, polar question/interrogative ...   [136][16][19][1]  \n",
       "1043  -(al)izer (e.g. ADJZ adjectivizer, NZ nominali...                NaN  \n",
       "1044                              zoic gender (animals)              [137]  \n",
       "\n",
       "[1045 rows x 4 columns]"
      ]
     },
     "execution_count": 396,
     "metadata": {},
     "output_type": "execute_result"
    }
   ],
   "source": [
    "site = 'https://en.wikipedia.org/wiki/List_of_glossing_abbreviations'\n",
    "df_glosses = pd.read_html(site)[1]\n",
    "df_glosses"
   ]
  },
  {
   "cell_type": "code",
   "execution_count": 243,
   "metadata": {
    "id": "0ZgHO-rbqWUZ"
   },
   "outputs": [],
   "source": [
    "df = pd.read_csv(\"Restaurant reviews.csv\")"
   ]
  },
  {
   "cell_type": "markdown",
   "metadata": {
    "id": "qNNayGN2ra27"
   },
   "source": [
    "У таблицы есть строки и столбцы, к ним можно обращаться отдельно или чтобы выделить конкретный набор данных по условию.\n",
    "\n",
    "Посмотрим, как выглядит таблица (число в скобках - сколько вы хотите увидеть первых строк; по умолчанию равно 5):"
   ]
  },
  {
   "cell_type": "code",
   "execution_count": 246,
   "metadata": {
    "colab": {
     "base_uri": "https://localhost:8080/",
     "height": 112
    },
    "id": "1Ffpt7_wqmNJ",
    "outputId": "9ae405e0-6d74-40fe-aa78-1b0ae4416fff"
   },
   "outputs": [
    {
     "data": {
      "text/html": [
       "<div>\n",
       "<style scoped>\n",
       "    .dataframe tbody tr th:only-of-type {\n",
       "        vertical-align: middle;\n",
       "    }\n",
       "\n",
       "    .dataframe tbody tr th {\n",
       "        vertical-align: top;\n",
       "    }\n",
       "\n",
       "    .dataframe thead th {\n",
       "        text-align: right;\n",
       "    }\n",
       "</style>\n",
       "<table border=\"1\" class=\"dataframe\">\n",
       "  <thead>\n",
       "    <tr style=\"text-align: right;\">\n",
       "      <th></th>\n",
       "      <th>Restaurant</th>\n",
       "      <th>Reviewer</th>\n",
       "      <th>Review</th>\n",
       "      <th>Rating</th>\n",
       "      <th>Metadata</th>\n",
       "      <th>Time</th>\n",
       "      <th>Pictures</th>\n",
       "      <th>7514</th>\n",
       "    </tr>\n",
       "  </thead>\n",
       "  <tbody>\n",
       "    <tr>\n",
       "      <th>0</th>\n",
       "      <td>Beyond Flavours</td>\n",
       "      <td>Rusha Chakraborty</td>\n",
       "      <td>The ambience was good, food was quite good . h...</td>\n",
       "      <td>5</td>\n",
       "      <td>1 Review , 2 Followers</td>\n",
       "      <td>5/25/2019 15:54</td>\n",
       "      <td>0</td>\n",
       "      <td>2447.0</td>\n",
       "    </tr>\n",
       "    <tr>\n",
       "      <th>1</th>\n",
       "      <td>Beyond Flavours</td>\n",
       "      <td>Anusha Tirumalaneedi</td>\n",
       "      <td>Ambience is too good for a pleasant evening. S...</td>\n",
       "      <td>5</td>\n",
       "      <td>3 Reviews , 2 Followers</td>\n",
       "      <td>5/25/2019 14:20</td>\n",
       "      <td>0</td>\n",
       "      <td>NaN</td>\n",
       "    </tr>\n",
       "  </tbody>\n",
       "</table>\n",
       "</div>"
      ],
      "text/plain": [
       "        Restaurant              Reviewer  \\\n",
       "0  Beyond Flavours     Rusha Chakraborty   \n",
       "1  Beyond Flavours  Anusha Tirumalaneedi   \n",
       "\n",
       "                                              Review Rating  \\\n",
       "0  The ambience was good, food was quite good . h...      5   \n",
       "1  Ambience is too good for a pleasant evening. S...      5   \n",
       "\n",
       "                  Metadata             Time  Pictures    7514  \n",
       "0   1 Review , 2 Followers  5/25/2019 15:54         0  2447.0  \n",
       "1  3 Reviews , 2 Followers  5/25/2019 14:20         0     NaN  "
      ]
     },
     "execution_count": 246,
     "metadata": {},
     "output_type": "execute_result"
    }
   ],
   "source": [
    "df.head(2)"
   ]
  },
  {
   "cell_type": "markdown",
   "metadata": {
    "id": "G7OnX7J3rdqg"
   },
   "source": [
    "Можно смотреть не верхние строки, а случайные или нижние:"
   ]
  },
  {
   "cell_type": "code",
   "execution_count": 249,
   "metadata": {
    "colab": {
     "base_uri": "https://localhost:8080/",
     "height": 112
    },
    "id": "mgPQ6tsarXq2",
    "outputId": "7f349c93-0354-49c2-9a4d-2946f6e064d0"
   },
   "outputs": [
    {
     "data": {
      "text/html": [
       "<div>\n",
       "<style scoped>\n",
       "    .dataframe tbody tr th:only-of-type {\n",
       "        vertical-align: middle;\n",
       "    }\n",
       "\n",
       "    .dataframe tbody tr th {\n",
       "        vertical-align: top;\n",
       "    }\n",
       "\n",
       "    .dataframe thead th {\n",
       "        text-align: right;\n",
       "    }\n",
       "</style>\n",
       "<table border=\"1\" class=\"dataframe\">\n",
       "  <thead>\n",
       "    <tr style=\"text-align: right;\">\n",
       "      <th></th>\n",
       "      <th>Restaurant</th>\n",
       "      <th>Reviewer</th>\n",
       "      <th>Review</th>\n",
       "      <th>Rating</th>\n",
       "      <th>Metadata</th>\n",
       "      <th>Time</th>\n",
       "      <th>Pictures</th>\n",
       "      <th>7514</th>\n",
       "    </tr>\n",
       "  </thead>\n",
       "  <tbody>\n",
       "    <tr>\n",
       "      <th>7459</th>\n",
       "      <td>Faasos</td>\n",
       "      <td>Srishti Bhardwaj | Exploring Life Tastes</td>\n",
       "      <td>Ordered two wraps for dinner. They filled my a...</td>\n",
       "      <td>4</td>\n",
       "      <td>79 Reviews , 229 Followers</td>\n",
       "      <td>8/29/2018 21:37</td>\n",
       "      <td>2</td>\n",
       "      <td>NaN</td>\n",
       "    </tr>\n",
       "    <tr>\n",
       "      <th>9757</th>\n",
       "      <td>Zega - Sheraton Hyderabad Hotel</td>\n",
       "      <td>Animesh Karn</td>\n",
       "      <td>My time in 'Zega' was fantastic. From the food...</td>\n",
       "      <td>5</td>\n",
       "      <td>1 Review , 1 Follower</td>\n",
       "      <td>8/12/2018 17:36</td>\n",
       "      <td>0</td>\n",
       "      <td>NaN</td>\n",
       "    </tr>\n",
       "  </tbody>\n",
       "</table>\n",
       "</div>"
      ],
      "text/plain": [
       "                           Restaurant  \\\n",
       "7459                           Faasos   \n",
       "9757  Zega - Sheraton Hyderabad Hotel   \n",
       "\n",
       "                                      Reviewer  \\\n",
       "7459  Srishti Bhardwaj | Exploring Life Tastes   \n",
       "9757                              Animesh Karn   \n",
       "\n",
       "                                                 Review Rating  \\\n",
       "7459  Ordered two wraps for dinner. They filled my a...      4   \n",
       "9757  My time in 'Zega' was fantastic. From the food...      5   \n",
       "\n",
       "                        Metadata             Time  Pictures  7514  \n",
       "7459  79 Reviews , 229 Followers  8/29/2018 21:37         2   NaN  \n",
       "9757       1 Review , 1 Follower  8/12/2018 17:36         0   NaN  "
      ]
     },
     "execution_count": 249,
     "metadata": {},
     "output_type": "execute_result"
    }
   ],
   "source": [
    "df.sample(2)"
   ]
  },
  {
   "cell_type": "code",
   "execution_count": 251,
   "metadata": {
    "colab": {
     "base_uri": "https://localhost:8080/",
     "height": 112
    },
    "id": "ipT3O-qtrg1d",
    "outputId": "f1332509-0c97-4948-bc77-989b4b900970"
   },
   "outputs": [
    {
     "data": {
      "text/html": [
       "<div>\n",
       "<style scoped>\n",
       "    .dataframe tbody tr th:only-of-type {\n",
       "        vertical-align: middle;\n",
       "    }\n",
       "\n",
       "    .dataframe tbody tr th {\n",
       "        vertical-align: top;\n",
       "    }\n",
       "\n",
       "    .dataframe thead th {\n",
       "        text-align: right;\n",
       "    }\n",
       "</style>\n",
       "<table border=\"1\" class=\"dataframe\">\n",
       "  <thead>\n",
       "    <tr style=\"text-align: right;\">\n",
       "      <th></th>\n",
       "      <th>Restaurant</th>\n",
       "      <th>Reviewer</th>\n",
       "      <th>Review</th>\n",
       "      <th>Rating</th>\n",
       "      <th>Metadata</th>\n",
       "      <th>Time</th>\n",
       "      <th>Pictures</th>\n",
       "      <th>7514</th>\n",
       "    </tr>\n",
       "  </thead>\n",
       "  <tbody>\n",
       "    <tr>\n",
       "      <th>9998</th>\n",
       "      <td>Chinese Pavilion</td>\n",
       "      <td>Nayana Shanbhag</td>\n",
       "      <td>I personally love and prefer Chinese Food. Had...</td>\n",
       "      <td>4</td>\n",
       "      <td>13 Reviews , 144 Followers</td>\n",
       "      <td>5/31/2016 17:22</td>\n",
       "      <td>0</td>\n",
       "      <td>NaN</td>\n",
       "    </tr>\n",
       "    <tr>\n",
       "      <th>9999</th>\n",
       "      <td>Chinese Pavilion</td>\n",
       "      <td>Bhargava Krishna</td>\n",
       "      <td>Checked in here to try some delicious chinese ...</td>\n",
       "      <td>3.5</td>\n",
       "      <td>472 Reviews , 1302 Followers</td>\n",
       "      <td>5/31/2016 16:41</td>\n",
       "      <td>6</td>\n",
       "      <td>NaN</td>\n",
       "    </tr>\n",
       "  </tbody>\n",
       "</table>\n",
       "</div>"
      ],
      "text/plain": [
       "            Restaurant          Reviewer  \\\n",
       "9998  Chinese Pavilion   Nayana Shanbhag   \n",
       "9999  Chinese Pavilion  Bhargava Krishna   \n",
       "\n",
       "                                                 Review Rating  \\\n",
       "9998  I personally love and prefer Chinese Food. Had...      4   \n",
       "9999  Checked in here to try some delicious chinese ...    3.5   \n",
       "\n",
       "                          Metadata             Time  Pictures  7514  \n",
       "9998    13 Reviews , 144 Followers  5/31/2016 17:22         0   NaN  \n",
       "9999  472 Reviews , 1302 Followers  5/31/2016 16:41         6   NaN  "
      ]
     },
     "execution_count": 251,
     "metadata": {},
     "output_type": "execute_result"
    }
   ],
   "source": [
    "df.tail(2)"
   ]
  },
  {
   "cell_type": "markdown",
   "metadata": {
    "id": "WrnQwPVpTUPu"
   },
   "source": [
    "Можно узнать размер таблицы:"
   ]
  },
  {
   "cell_type": "code",
   "execution_count": 254,
   "metadata": {
    "colab": {
     "base_uri": "https://localhost:8080/"
    },
    "id": "VXaDKiGSTWy0",
    "outputId": "95c39034-2303-4a43-94fe-674a600c2d22"
   },
   "outputs": [
    {
     "data": {
      "text/plain": [
       "(10000, 8)"
      ]
     },
     "execution_count": 254,
     "metadata": {},
     "output_type": "execute_result"
    }
   ],
   "source": [
    "df.shape  # это кортеж, можно взять элемент по индексу"
   ]
  },
  {
   "cell_type": "markdown",
   "metadata": {},
   "source": [
    "Или, например, набор ее столбцов:"
   ]
  },
  {
   "cell_type": "code",
   "execution_count": 269,
   "metadata": {},
   "outputs": [
    {
     "data": {
      "text/plain": [
       "Index(['Restaurant', 'Reviewer', 'Review', 'Rating', 'Metadata', 'Time',\n",
       "       'Pictures', '7514'],\n",
       "      dtype='object')"
      ]
     },
     "execution_count": 269,
     "metadata": {},
     "output_type": "execute_result"
    }
   ],
   "source": [
    "df.columns"
   ]
  },
  {
   "cell_type": "markdown",
   "metadata": {
    "id": "geqxUmFjQsKa"
   },
   "source": [
    "Попробуем выбрать конкретные части датафрейма\n",
    "\n",
    "- столбец"
   ]
  },
  {
   "cell_type": "code",
   "execution_count": 271,
   "metadata": {
    "colab": {
     "base_uri": "https://localhost:8080/",
     "height": 178
    },
    "id": "KBXeFPGyQ0q1",
    "outputId": "a99fd7f0-2b5c-44e5-a7e7-a54322648840"
   },
   "outputs": [
    {
     "data": {
      "text/plain": [
       "0       Rusha Chakraborty\n",
       "1    Anusha Tirumalaneedi\n",
       "2         Ashok Shekhawat\n",
       "Name: Reviewer, dtype: object"
      ]
     },
     "execution_count": 271,
     "metadata": {},
     "output_type": "execute_result"
    }
   ],
   "source": [
    "df['Reviewer'].head(3)\n",
    "\n",
    "# или вот так, но работает только с названиями, соответсвующими требованиям к\n",
    "# названиям атрибутов\n",
    "# df.Reviewer.head(3)"
   ]
  },
  {
   "cell_type": "markdown",
   "metadata": {},
   "source": [
    "* столбцы"
   ]
  },
  {
   "cell_type": "code",
   "execution_count": 274,
   "metadata": {},
   "outputs": [
    {
     "data": {
      "text/html": [
       "<div>\n",
       "<style scoped>\n",
       "    .dataframe tbody tr th:only-of-type {\n",
       "        vertical-align: middle;\n",
       "    }\n",
       "\n",
       "    .dataframe tbody tr th {\n",
       "        vertical-align: top;\n",
       "    }\n",
       "\n",
       "    .dataframe thead th {\n",
       "        text-align: right;\n",
       "    }\n",
       "</style>\n",
       "<table border=\"1\" class=\"dataframe\">\n",
       "  <thead>\n",
       "    <tr style=\"text-align: right;\">\n",
       "      <th></th>\n",
       "      <th>Reviewer</th>\n",
       "      <th>Review</th>\n",
       "      <th>Rating</th>\n",
       "    </tr>\n",
       "  </thead>\n",
       "  <tbody>\n",
       "    <tr>\n",
       "      <th>0</th>\n",
       "      <td>Rusha Chakraborty</td>\n",
       "      <td>The ambience was good, food was quite good . h...</td>\n",
       "      <td>5</td>\n",
       "    </tr>\n",
       "    <tr>\n",
       "      <th>1</th>\n",
       "      <td>Anusha Tirumalaneedi</td>\n",
       "      <td>Ambience is too good for a pleasant evening. S...</td>\n",
       "      <td>5</td>\n",
       "    </tr>\n",
       "    <tr>\n",
       "      <th>2</th>\n",
       "      <td>Ashok Shekhawat</td>\n",
       "      <td>A must try.. great food great ambience. Thnx f...</td>\n",
       "      <td>5</td>\n",
       "    </tr>\n",
       "  </tbody>\n",
       "</table>\n",
       "</div>"
      ],
      "text/plain": [
       "               Reviewer                                             Review  \\\n",
       "0     Rusha Chakraborty  The ambience was good, food was quite good . h...   \n",
       "1  Anusha Tirumalaneedi  Ambience is too good for a pleasant evening. S...   \n",
       "2       Ashok Shekhawat  A must try.. great food great ambience. Thnx f...   \n",
       "\n",
       "  Rating  \n",
       "0      5  \n",
       "1      5  \n",
       "2      5  "
      ]
     },
     "execution_count": 274,
     "metadata": {},
     "output_type": "execute_result"
    }
   ],
   "source": [
    "df[['Reviewer', 'Review', 'Rating']].head(3)"
   ]
  },
  {
   "cell_type": "markdown",
   "metadata": {
    "id": "FWA4ktcXRu5W"
   },
   "source": [
    "Еще столбец можно взять с помощью метода `.loc`, но про него ниже вместе со строками."
   ]
  },
  {
   "cell_type": "markdown",
   "metadata": {
    "id": "q-sBGmlsRTPn"
   },
   "source": [
    "- строка."
   ]
  },
  {
   "cell_type": "code",
   "execution_count": 278,
   "metadata": {
    "colab": {
     "base_uri": "https://localhost:8080/",
     "height": 335
    },
    "id": "gCiiRrNsRUep",
    "outputId": "d765c70e-2d24-4523-9593-50e10695d78a"
   },
   "outputs": [
    {
     "data": {
      "text/plain": [
       "Restaurant                                      Beyond Flavours\n",
       "Reviewer                                       Saubhagya Bhuyan\n",
       "Review        The service was great and the food was awesome...\n",
       "Rating                                                        5\n",
       "Metadata                                  1 Review , 1 Follower\n",
       "Time                                            5/22/2019 22:22\n",
       "Pictures                                                      0\n",
       "7514                                                        NaN\n",
       "Name: 10, dtype: object"
      ]
     },
     "execution_count": 278,
     "metadata": {},
     "output_type": "execute_result"
    }
   ],
   "source": [
    "df.iloc[10]  # именно 10-я стока таблицы"
   ]
  },
  {
   "cell_type": "code",
   "execution_count": 280,
   "metadata": {
    "colab": {
     "base_uri": "https://localhost:8080/",
     "height": 335
    },
    "id": "ABsHS_51R_Z0",
    "outputId": "7d8f48d9-ced0-41f5-d422-eac4923e27bc"
   },
   "outputs": [
    {
     "data": {
      "text/plain": [
       "Restaurant                                      Beyond Flavours\n",
       "Reviewer                                       Saubhagya Bhuyan\n",
       "Review        The service was great and the food was awesome...\n",
       "Rating                                                        5\n",
       "Metadata                                  1 Review , 1 Follower\n",
       "Time                                            5/22/2019 22:22\n",
       "Pictures                                                      0\n",
       "7514                                                        NaN\n",
       "Name: 10, dtype: object"
      ]
     },
     "execution_count": 280,
     "metadata": {},
     "output_type": "execute_result"
    }
   ],
   "source": [
    "df.loc[10]  # стока таблицы с индексом 10"
   ]
  },
  {
   "cell_type": "markdown",
   "metadata": {
    "id": "n17jFZMdSHuH"
   },
   "source": [
    "Казалось, бы `loc` и `iloc` очень похожи, однако если второе работает именно с целым числом - номером строки (есть еще нюансы, но про них лучше в документации почитать), то первое - с индексом строки, который в общем случае может быть и строковым типом и даже числом с плавающей точкой или логической переменной.\n",
    "\n",
    "А еще с помощью `loc` можно вот так:"
   ]
  },
  {
   "cell_type": "code",
   "execution_count": 283,
   "metadata": {
    "colab": {
     "base_uri": "https://localhost:8080/",
     "height": 238
    },
    "id": "zVZkh_GwSlIX",
    "outputId": "7dd1fc79-1850-4530-c92b-bf644eb6a87d"
   },
   "outputs": [
    {
     "data": {
      "text/html": [
       "<div>\n",
       "<style scoped>\n",
       "    .dataframe tbody tr th:only-of-type {\n",
       "        vertical-align: middle;\n",
       "    }\n",
       "\n",
       "    .dataframe tbody tr th {\n",
       "        vertical-align: top;\n",
       "    }\n",
       "\n",
       "    .dataframe thead th {\n",
       "        text-align: right;\n",
       "    }\n",
       "</style>\n",
       "<table border=\"1\" class=\"dataframe\">\n",
       "  <thead>\n",
       "    <tr style=\"text-align: right;\">\n",
       "      <th></th>\n",
       "      <th>Rating</th>\n",
       "      <th>Metadata</th>\n",
       "    </tr>\n",
       "  </thead>\n",
       "  <tbody>\n",
       "    <tr>\n",
       "      <th>5</th>\n",
       "      <td>5</td>\n",
       "      <td>1 Review</td>\n",
       "    </tr>\n",
       "    <tr>\n",
       "      <th>6</th>\n",
       "      <td>5</td>\n",
       "      <td>1 Review</td>\n",
       "    </tr>\n",
       "    <tr>\n",
       "      <th>7</th>\n",
       "      <td>4</td>\n",
       "      <td>1 Review</td>\n",
       "    </tr>\n",
       "    <tr>\n",
       "      <th>8</th>\n",
       "      <td>5</td>\n",
       "      <td>1 Review , 1 Follower</td>\n",
       "    </tr>\n",
       "    <tr>\n",
       "      <th>9</th>\n",
       "      <td>5</td>\n",
       "      <td>1 Review , 1 Follower</td>\n",
       "    </tr>\n",
       "    <tr>\n",
       "      <th>10</th>\n",
       "      <td>5</td>\n",
       "      <td>1 Review , 1 Follower</td>\n",
       "    </tr>\n",
       "  </tbody>\n",
       "</table>\n",
       "</div>"
      ],
      "text/plain": [
       "   Rating               Metadata\n",
       "5       5               1 Review\n",
       "6       5               1 Review\n",
       "7       4               1 Review\n",
       "8       5  1 Review , 1 Follower\n",
       "9       5  1 Review , 1 Follower\n",
       "10      5  1 Review , 1 Follower"
      ]
     },
     "execution_count": 283,
     "metadata": {},
     "output_type": "execute_result"
    }
   ],
   "source": [
    "df.loc[5:10, 'Rating':'Metadata']"
   ]
  },
  {
   "cell_type": "markdown",
   "metadata": {
    "id": "gWCzteX2T1HJ"
   },
   "source": [
    "И даже вот так"
   ]
  },
  {
   "cell_type": "code",
   "execution_count": 286,
   "metadata": {
    "colab": {
     "base_uri": "https://localhost:8080/",
     "height": 143
    },
    "id": "sX3ljVNtTwxX",
    "outputId": "718fd8a4-81cd-46b1-809b-19db6558900a"
   },
   "outputs": [
    {
     "data": {
      "text/html": [
       "<div>\n",
       "<style scoped>\n",
       "    .dataframe tbody tr th:only-of-type {\n",
       "        vertical-align: middle;\n",
       "    }\n",
       "\n",
       "    .dataframe tbody tr th {\n",
       "        vertical-align: top;\n",
       "    }\n",
       "\n",
       "    .dataframe thead th {\n",
       "        text-align: right;\n",
       "    }\n",
       "</style>\n",
       "<table border=\"1\" class=\"dataframe\">\n",
       "  <thead>\n",
       "    <tr style=\"text-align: right;\">\n",
       "      <th></th>\n",
       "      <th>Restaurant</th>\n",
       "      <th>Rating</th>\n",
       "      <th>Metadata</th>\n",
       "    </tr>\n",
       "  </thead>\n",
       "  <tbody>\n",
       "    <tr>\n",
       "      <th>0</th>\n",
       "      <td>Beyond Flavours</td>\n",
       "      <td>5</td>\n",
       "      <td>1 Review , 2 Followers</td>\n",
       "    </tr>\n",
       "    <tr>\n",
       "      <th>1</th>\n",
       "      <td>Beyond Flavours</td>\n",
       "      <td>5</td>\n",
       "      <td>3 Reviews , 2 Followers</td>\n",
       "    </tr>\n",
       "    <tr>\n",
       "      <th>2</th>\n",
       "      <td>Beyond Flavours</td>\n",
       "      <td>5</td>\n",
       "      <td>2 Reviews , 3 Followers</td>\n",
       "    </tr>\n",
       "  </tbody>\n",
       "</table>\n",
       "</div>"
      ],
      "text/plain": [
       "        Restaurant Rating                 Metadata\n",
       "0  Beyond Flavours      5   1 Review , 2 Followers\n",
       "1  Beyond Flavours      5  3 Reviews , 2 Followers\n",
       "2  Beyond Flavours      5  2 Reviews , 3 Followers"
      ]
     },
     "execution_count": 286,
     "metadata": {},
     "output_type": "execute_result"
    }
   ],
   "source": [
    "df.loc[df.Restaurant == 'Beyond Flavours',\n",
    " ['Restaurant', 'Rating', 'Metadata']].head(3)"
   ]
  },
  {
   "cell_type": "markdown",
   "metadata": {
    "id": "j_5GB7A7Sv14"
   },
   "source": [
    "С помощью одного метода мы смогли вытощить нужные нам строки и столбцы. И здесь видно еще одно отличие `loc` и `iloc`: в первом случае обе границы диапазона будут включены при срезе. А с `iloc` - нет, там все как у списков:"
   ]
  },
  {
   "cell_type": "code",
   "execution_count": 289,
   "metadata": {
    "colab": {
     "base_uri": "https://localhost:8080/",
     "height": 206
    },
    "id": "FFfCdDULTEwG",
    "outputId": "cba44f72-4b9b-49cb-ded5-6e25a7103fcf"
   },
   "outputs": [
    {
     "data": {
      "text/html": [
       "<div>\n",
       "<style scoped>\n",
       "    .dataframe tbody tr th:only-of-type {\n",
       "        vertical-align: middle;\n",
       "    }\n",
       "\n",
       "    .dataframe tbody tr th {\n",
       "        vertical-align: top;\n",
       "    }\n",
       "\n",
       "    .dataframe thead th {\n",
       "        text-align: right;\n",
       "    }\n",
       "</style>\n",
       "<table border=\"1\" class=\"dataframe\">\n",
       "  <thead>\n",
       "    <tr style=\"text-align: right;\">\n",
       "      <th></th>\n",
       "      <th>Restaurant</th>\n",
       "      <th>Reviewer</th>\n",
       "      <th>Review</th>\n",
       "      <th>Rating</th>\n",
       "      <th>Metadata</th>\n",
       "      <th>Time</th>\n",
       "      <th>Pictures</th>\n",
       "      <th>7514</th>\n",
       "    </tr>\n",
       "  </thead>\n",
       "  <tbody>\n",
       "    <tr>\n",
       "      <th>5</th>\n",
       "      <td>Beyond Flavours</td>\n",
       "      <td>Nagabhavani K</td>\n",
       "      <td>Ambiance is good, service is good, food is aPr...</td>\n",
       "      <td>5</td>\n",
       "      <td>1 Review</td>\n",
       "      <td>5/24/2019 15:22</td>\n",
       "      <td>0</td>\n",
       "      <td>NaN</td>\n",
       "    </tr>\n",
       "    <tr>\n",
       "      <th>6</th>\n",
       "      <td>Beyond Flavours</td>\n",
       "      <td>Jamuna Bhuwalka</td>\n",
       "      <td>Its a very nice place, ambience is different, ...</td>\n",
       "      <td>5</td>\n",
       "      <td>1 Review</td>\n",
       "      <td>5/24/2019 1:02</td>\n",
       "      <td>0</td>\n",
       "      <td>NaN</td>\n",
       "    </tr>\n",
       "    <tr>\n",
       "      <th>7</th>\n",
       "      <td>Beyond Flavours</td>\n",
       "      <td>Sandhya S</td>\n",
       "      <td>Well after reading so many reviews finally vis...</td>\n",
       "      <td>4</td>\n",
       "      <td>1 Review</td>\n",
       "      <td>5/23/2019 15:01</td>\n",
       "      <td>0</td>\n",
       "      <td>NaN</td>\n",
       "    </tr>\n",
       "    <tr>\n",
       "      <th>8</th>\n",
       "      <td>Beyond Flavours</td>\n",
       "      <td>Akash Thorat</td>\n",
       "      <td>Excellent food , specially if you like spicy f...</td>\n",
       "      <td>5</td>\n",
       "      <td>1 Review , 1 Follower</td>\n",
       "      <td>5/22/2019 23:12</td>\n",
       "      <td>0</td>\n",
       "      <td>NaN</td>\n",
       "    </tr>\n",
       "    <tr>\n",
       "      <th>9</th>\n",
       "      <td>Beyond Flavours</td>\n",
       "      <td>Smarak Patnaik</td>\n",
       "      <td>Came for the birthday treat of a close friend....</td>\n",
       "      <td>5</td>\n",
       "      <td>1 Review , 1 Follower</td>\n",
       "      <td>5/22/2019 22:37</td>\n",
       "      <td>0</td>\n",
       "      <td>NaN</td>\n",
       "    </tr>\n",
       "  </tbody>\n",
       "</table>\n",
       "</div>"
      ],
      "text/plain": [
       "        Restaurant         Reviewer  \\\n",
       "5  Beyond Flavours    Nagabhavani K   \n",
       "6  Beyond Flavours  Jamuna Bhuwalka   \n",
       "7  Beyond Flavours        Sandhya S   \n",
       "8  Beyond Flavours     Akash Thorat   \n",
       "9  Beyond Flavours   Smarak Patnaik   \n",
       "\n",
       "                                              Review Rating  \\\n",
       "5  Ambiance is good, service is good, food is aPr...      5   \n",
       "6  Its a very nice place, ambience is different, ...      5   \n",
       "7  Well after reading so many reviews finally vis...      4   \n",
       "8  Excellent food , specially if you like spicy f...      5   \n",
       "9  Came for the birthday treat of a close friend....      5   \n",
       "\n",
       "                Metadata             Time  Pictures  7514  \n",
       "5               1 Review  5/24/2019 15:22         0   NaN  \n",
       "6               1 Review   5/24/2019 1:02         0   NaN  \n",
       "7               1 Review  5/23/2019 15:01         0   NaN  \n",
       "8  1 Review , 1 Follower  5/22/2019 23:12         0   NaN  \n",
       "9  1 Review , 1 Follower  5/22/2019 22:37         0   NaN  "
      ]
     },
     "execution_count": 289,
     "metadata": {},
     "output_type": "execute_result"
    }
   ],
   "source": [
    "df.iloc[5:10]"
   ]
  },
  {
   "cell_type": "markdown",
   "metadata": {
    "id": "EiKWwDLBY0iW"
   },
   "source": [
    "В целом, логика фильтрации в пандасе достаточно мощная, хотя и \"многословная\". Например, мы можем выделить отзывы о B-Dubs или Paradise, которые дали люди с именем на N."
   ]
  },
  {
   "cell_type": "code",
   "execution_count": 292,
   "metadata": {
    "colab": {
     "base_uri": "https://localhost:8080/",
     "height": 321
    },
    "id": "Z47GZ-JoY1V7",
    "outputId": "46bc4a8e-c73d-49b4-ee94-16453444f298"
   },
   "outputs": [
    {
     "data": {
      "text/html": [
       "<div>\n",
       "<style scoped>\n",
       "    .dataframe tbody tr th:only-of-type {\n",
       "        vertical-align: middle;\n",
       "    }\n",
       "\n",
       "    .dataframe tbody tr th {\n",
       "        vertical-align: top;\n",
       "    }\n",
       "\n",
       "    .dataframe thead th {\n",
       "        text-align: right;\n",
       "    }\n",
       "</style>\n",
       "<table border=\"1\" class=\"dataframe\">\n",
       "  <thead>\n",
       "    <tr style=\"text-align: right;\">\n",
       "      <th></th>\n",
       "      <th>Restaurant</th>\n",
       "      <th>Reviewer</th>\n",
       "      <th>Review</th>\n",
       "      <th>Rating</th>\n",
       "      <th>Metadata</th>\n",
       "      <th>Time</th>\n",
       "      <th>Pictures</th>\n",
       "      <th>7514</th>\n",
       "    </tr>\n",
       "  </thead>\n",
       "  <tbody>\n",
       "    <tr>\n",
       "      <th>132</th>\n",
       "      <td>Paradise</td>\n",
       "      <td>Nitesh</td>\n",
       "      <td>Awesome biryani and kebabs. Apollo fish is the...</td>\n",
       "      <td>5</td>\n",
       "      <td>0 Reviews</td>\n",
       "      <td>5/22/2019 22:55</td>\n",
       "      <td>0</td>\n",
       "      <td>NaN</td>\n",
       "    </tr>\n",
       "    <tr>\n",
       "      <th>140</th>\n",
       "      <td>Paradise</td>\n",
       "      <td>Noor Mohammed Zubair</td>\n",
       "      <td>Taste: there was huge hype about biryani hence...</td>\n",
       "      <td>3</td>\n",
       "      <td>45 Reviews , 48 Followers</td>\n",
       "      <td>5/22/2019 12:46</td>\n",
       "      <td>0</td>\n",
       "      <td>NaN</td>\n",
       "    </tr>\n",
       "    <tr>\n",
       "      <th>168</th>\n",
       "      <td>Paradise</td>\n",
       "      <td>Nikhil Reddy</td>\n",
       "      <td>Gud food..fast service.. best people in the re...</td>\n",
       "      <td>4</td>\n",
       "      <td>1 Review , 1 Follower</td>\n",
       "      <td>5/15/2019 20:22</td>\n",
       "      <td>0</td>\n",
       "      <td>NaN</td>\n",
       "    </tr>\n",
       "    <tr>\n",
       "      <th>191</th>\n",
       "      <td>Paradise</td>\n",
       "      <td>N Bharath Kumar Goud</td>\n",
       "      <td>Paradise is one my favourite restaurants to ea...</td>\n",
       "      <td>4</td>\n",
       "      <td>1 Review</td>\n",
       "      <td>5/11/2019 17:31</td>\n",
       "      <td>0</td>\n",
       "      <td>NaN</td>\n",
       "    </tr>\n",
       "    <tr>\n",
       "      <th>2214</th>\n",
       "      <td>B-Dubs</td>\n",
       "      <td>Nikhil Raj</td>\n",
       "      <td>Was my first visit and it was awesome experien...</td>\n",
       "      <td>5</td>\n",
       "      <td>1 Review , 2 Followers</td>\n",
       "      <td>5/14/2019 23:39</td>\n",
       "      <td>0</td>\n",
       "      <td>NaN</td>\n",
       "    </tr>\n",
       "    <tr>\n",
       "      <th>2224</th>\n",
       "      <td>B-Dubs</td>\n",
       "      <td>Nrusimha Akundy</td>\n",
       "      <td>Polite and friendly and service is awesome and...</td>\n",
       "      <td>5</td>\n",
       "      <td>1 Review , 14 Followers</td>\n",
       "      <td>5/8/2019 23:28</td>\n",
       "      <td>0</td>\n",
       "      <td>NaN</td>\n",
       "    </tr>\n",
       "    <tr>\n",
       "      <th>2232</th>\n",
       "      <td>B-Dubs</td>\n",
       "      <td>NAGUBANDI ANOOP 14BEC0308</td>\n",
       "      <td>The party was great...the food was awesome and...</td>\n",
       "      <td>5</td>\n",
       "      <td>1 Review</td>\n",
       "      <td>5/8/2019 22:51</td>\n",
       "      <td>0</td>\n",
       "      <td>NaN</td>\n",
       "    </tr>\n",
       "    <tr>\n",
       "      <th>2266</th>\n",
       "      <td>B-Dubs</td>\n",
       "      <td>Nishanth Bhan</td>\n",
       "      <td>Fantastic place to watch ipl. Great wings. Fan...</td>\n",
       "      <td>5</td>\n",
       "      <td>1 Review , 16 Followers</td>\n",
       "      <td>4/21/2019 22:11</td>\n",
       "      <td>1</td>\n",
       "      <td>NaN</td>\n",
       "    </tr>\n",
       "  </tbody>\n",
       "</table>\n",
       "</div>"
      ],
      "text/plain": [
       "     Restaurant                   Reviewer  \\\n",
       "132    Paradise                     Nitesh   \n",
       "140    Paradise       Noor Mohammed Zubair   \n",
       "168    Paradise               Nikhil Reddy   \n",
       "191    Paradise       N Bharath Kumar Goud   \n",
       "2214     B-Dubs                 Nikhil Raj   \n",
       "2224     B-Dubs            Nrusimha Akundy   \n",
       "2232     B-Dubs  NAGUBANDI ANOOP 14BEC0308   \n",
       "2266     B-Dubs              Nishanth Bhan   \n",
       "\n",
       "                                                 Review Rating  \\\n",
       "132   Awesome biryani and kebabs. Apollo fish is the...      5   \n",
       "140   Taste: there was huge hype about biryani hence...      3   \n",
       "168   Gud food..fast service.. best people in the re...      4   \n",
       "191   Paradise is one my favourite restaurants to ea...      4   \n",
       "2214  Was my first visit and it was awesome experien...      5   \n",
       "2224  Polite and friendly and service is awesome and...      5   \n",
       "2232  The party was great...the food was awesome and...      5   \n",
       "2266  Fantastic place to watch ipl. Great wings. Fan...      5   \n",
       "\n",
       "                       Metadata             Time  Pictures  7514  \n",
       "132                   0 Reviews  5/22/2019 22:55         0   NaN  \n",
       "140   45 Reviews , 48 Followers  5/22/2019 12:46         0   NaN  \n",
       "168       1 Review , 1 Follower  5/15/2019 20:22         0   NaN  \n",
       "191                    1 Review  5/11/2019 17:31         0   NaN  \n",
       "2214     1 Review , 2 Followers  5/14/2019 23:39         0   NaN  \n",
       "2224    1 Review , 14 Followers   5/8/2019 23:28         0   NaN  \n",
       "2232                   1 Review   5/8/2019 22:51         0   NaN  \n",
       "2266    1 Review , 16 Followers  4/21/2019 22:11         1   NaN  "
      ]
     },
     "execution_count": 292,
     "metadata": {},
     "output_type": "execute_result"
    }
   ],
   "source": [
    "df[(df.Restaurant.isin(['B-Dubs', 'Paradise'])) & (df[\"Reviewer\"].str.startswith('N'))]"
   ]
  },
  {
   "cell_type": "markdown",
   "metadata": {
    "id": "iIqyHevxZfRz"
   },
   "source": [
    "Для связи отдельных условий могут использоваться `&` (и), `|` (или), `^` (либо) или `~` (не)"
   ]
  },
  {
   "cell_type": "markdown",
   "metadata": {
    "id": "mAPfjCn3rl2N"
   },
   "source": [
    "Колонки и строки можно добавлять и удалять достаточно легко. Вот у нас есть какая-то странная колонка 7514 — явно ошибка в данных. Удалим ее:"
   ]
  },
  {
   "cell_type": "code",
   "execution_count": 296,
   "metadata": {
    "colab": {
     "base_uri": "https://localhost:8080/",
     "height": 112
    },
    "id": "6koMJFyVriu2",
    "outputId": "d306d85b-15eb-4803-9279-d726af9c40f3"
   },
   "outputs": [
    {
     "data": {
      "text/html": [
       "<div>\n",
       "<style scoped>\n",
       "    .dataframe tbody tr th:only-of-type {\n",
       "        vertical-align: middle;\n",
       "    }\n",
       "\n",
       "    .dataframe tbody tr th {\n",
       "        vertical-align: top;\n",
       "    }\n",
       "\n",
       "    .dataframe thead th {\n",
       "        text-align: right;\n",
       "    }\n",
       "</style>\n",
       "<table border=\"1\" class=\"dataframe\">\n",
       "  <thead>\n",
       "    <tr style=\"text-align: right;\">\n",
       "      <th></th>\n",
       "      <th>Restaurant</th>\n",
       "      <th>Reviewer</th>\n",
       "      <th>Review</th>\n",
       "      <th>Rating</th>\n",
       "      <th>Metadata</th>\n",
       "      <th>Time</th>\n",
       "      <th>Pictures</th>\n",
       "    </tr>\n",
       "  </thead>\n",
       "  <tbody>\n",
       "    <tr>\n",
       "      <th>0</th>\n",
       "      <td>Beyond Flavours</td>\n",
       "      <td>Rusha Chakraborty</td>\n",
       "      <td>The ambience was good, food was quite good . h...</td>\n",
       "      <td>5</td>\n",
       "      <td>1 Review , 2 Followers</td>\n",
       "      <td>5/25/2019 15:54</td>\n",
       "      <td>0</td>\n",
       "    </tr>\n",
       "    <tr>\n",
       "      <th>1</th>\n",
       "      <td>Beyond Flavours</td>\n",
       "      <td>Anusha Tirumalaneedi</td>\n",
       "      <td>Ambience is too good for a pleasant evening. S...</td>\n",
       "      <td>5</td>\n",
       "      <td>3 Reviews , 2 Followers</td>\n",
       "      <td>5/25/2019 14:20</td>\n",
       "      <td>0</td>\n",
       "    </tr>\n",
       "  </tbody>\n",
       "</table>\n",
       "</div>"
      ],
      "text/plain": [
       "        Restaurant              Reviewer  \\\n",
       "0  Beyond Flavours     Rusha Chakraborty   \n",
       "1  Beyond Flavours  Anusha Tirumalaneedi   \n",
       "\n",
       "                                              Review Rating  \\\n",
       "0  The ambience was good, food was quite good . h...      5   \n",
       "1  Ambience is too good for a pleasant evening. S...      5   \n",
       "\n",
       "                  Metadata             Time  Pictures  \n",
       "0   1 Review , 2 Followers  5/25/2019 15:54         0  \n",
       "1  3 Reviews , 2 Followers  5/25/2019 14:20         0  "
      ]
     },
     "execution_count": 296,
     "metadata": {},
     "output_type": "execute_result"
    }
   ],
   "source": [
    "df = df.drop(\"7514\", axis=\"columns\")  # axis=1 / axis=\"columns\" отвечает за столбцы\n",
    "\n",
    "# или вот так\n",
    "# df = df.drop(columns=['7514'])\n",
    "\n",
    "df.head(2)"
   ]
  },
  {
   "cell_type": "markdown",
   "metadata": {
    "id": "eM8LN_2-U8dC"
   },
   "source": [
    "Теперь давайте добавим колонку, в котрой будет True, если картинок больше нуля, и False - если меньше"
   ]
  },
  {
   "cell_type": "code",
   "execution_count": 299,
   "metadata": {
    "colab": {
     "base_uri": "https://localhost:8080/",
     "height": 112
    },
    "id": "hvQIApn7VMfr",
    "outputId": "0061d125-677b-4054-b8c5-e39dd0af0f1e"
   },
   "outputs": [
    {
     "data": {
      "text/html": [
       "<div>\n",
       "<style scoped>\n",
       "    .dataframe tbody tr th:only-of-type {\n",
       "        vertical-align: middle;\n",
       "    }\n",
       "\n",
       "    .dataframe tbody tr th {\n",
       "        vertical-align: top;\n",
       "    }\n",
       "\n",
       "    .dataframe thead th {\n",
       "        text-align: right;\n",
       "    }\n",
       "</style>\n",
       "<table border=\"1\" class=\"dataframe\">\n",
       "  <thead>\n",
       "    <tr style=\"text-align: right;\">\n",
       "      <th></th>\n",
       "      <th>Restaurant</th>\n",
       "      <th>Reviewer</th>\n",
       "      <th>Review</th>\n",
       "      <th>Rating</th>\n",
       "      <th>Metadata</th>\n",
       "      <th>Time</th>\n",
       "      <th>Pictures</th>\n",
       "      <th>Pics_exist</th>\n",
       "    </tr>\n",
       "  </thead>\n",
       "  <tbody>\n",
       "    <tr>\n",
       "      <th>0</th>\n",
       "      <td>Beyond Flavours</td>\n",
       "      <td>Rusha Chakraborty</td>\n",
       "      <td>The ambience was good, food was quite good . h...</td>\n",
       "      <td>5</td>\n",
       "      <td>1 Review , 2 Followers</td>\n",
       "      <td>5/25/2019 15:54</td>\n",
       "      <td>0</td>\n",
       "      <td>False</td>\n",
       "    </tr>\n",
       "    <tr>\n",
       "      <th>1</th>\n",
       "      <td>Beyond Flavours</td>\n",
       "      <td>Anusha Tirumalaneedi</td>\n",
       "      <td>Ambience is too good for a pleasant evening. S...</td>\n",
       "      <td>5</td>\n",
       "      <td>3 Reviews , 2 Followers</td>\n",
       "      <td>5/25/2019 14:20</td>\n",
       "      <td>0</td>\n",
       "      <td>False</td>\n",
       "    </tr>\n",
       "  </tbody>\n",
       "</table>\n",
       "</div>"
      ],
      "text/plain": [
       "        Restaurant              Reviewer  \\\n",
       "0  Beyond Flavours     Rusha Chakraborty   \n",
       "1  Beyond Flavours  Anusha Tirumalaneedi   \n",
       "\n",
       "                                              Review Rating  \\\n",
       "0  The ambience was good, food was quite good . h...      5   \n",
       "1  Ambience is too good for a pleasant evening. S...      5   \n",
       "\n",
       "                  Metadata             Time  Pictures  Pics_exist  \n",
       "0   1 Review , 2 Followers  5/25/2019 15:54         0       False  \n",
       "1  3 Reviews , 2 Followers  5/25/2019 14:20         0       False  "
      ]
     },
     "execution_count": 299,
     "metadata": {},
     "output_type": "execute_result"
    }
   ],
   "source": [
    "df['Pics_exist'] = df.Pictures > 0\n",
    "df.head(2)"
   ]
  },
  {
   "cell_type": "markdown",
   "metadata": {
    "id": "3f6BUSh9r2Fw"
   },
   "source": [
    "Еще мы можем получать всякую статистику по нашим данным.\n",
    "- Как часто встречаются разные рестораны (спойлер - датасет идеален с этой точки зрения, всех ресторанов поровну)\n"
   ]
  },
  {
   "cell_type": "code",
   "execution_count": 302,
   "metadata": {
    "colab": {
     "base_uri": "https://localhost:8080/",
     "height": 490
    },
    "id": "bXWLjchLVtoq",
    "outputId": "b346ee59-fb9e-4084-d550-a9432c076863"
   },
   "outputs": [
    {
     "data": {
      "text/plain": [
       "Restaurant\n",
       "Beyond Flavours                   100\n",
       "Dine O China                      100\n",
       "Driven Cafe                       100\n",
       "Labonel                           100\n",
       "Eat India Company                 100\n",
       "                                 ... \n",
       "Pot Pourri                        100\n",
       "Hunger Maggi Point                100\n",
       "Behrouz Biryani                   100\n",
       "3B's - Buddies, Bar & Barbecue    100\n",
       "Chinese Pavilion                  100\n",
       "Name: count, Length: 100, dtype: int64"
      ]
     },
     "execution_count": 302,
     "metadata": {},
     "output_type": "execute_result"
    }
   ],
   "source": [
    "df.Restaurant.value_counts()\n",
    "\n",
    "# или так, что более универсально, так как можно по нескольким колонкам считать\n",
    "# df.value_counts('Restaurant')"
   ]
  },
  {
   "cell_type": "markdown",
   "metadata": {
    "id": "YNgPdsgZVoH4"
   },
   "source": [
    "- Нет ли у нас пропущенных значений в колонках?"
   ]
  },
  {
   "cell_type": "code",
   "execution_count": 305,
   "metadata": {
    "colab": {
     "base_uri": "https://localhost:8080/"
    },
    "id": "oyClXz3OrycE",
    "outputId": "7a4f6fe1-57c8-4c7e-ce7f-190a41573af2"
   },
   "outputs": [
    {
     "name": "stdout",
     "output_type": "stream",
     "text": [
      "<class 'pandas.core.frame.DataFrame'>\n",
      "RangeIndex: 10000 entries, 0 to 9999\n",
      "Data columns (total 8 columns):\n",
      " #   Column      Non-Null Count  Dtype \n",
      "---  ------      --------------  ----- \n",
      " 0   Restaurant  10000 non-null  object\n",
      " 1   Reviewer    9962 non-null   object\n",
      " 2   Review      9955 non-null   object\n",
      " 3   Rating      9962 non-null   object\n",
      " 4   Metadata    9962 non-null   object\n",
      " 5   Time        9962 non-null   object\n",
      " 6   Pictures    10000 non-null  int64 \n",
      " 7   Pics_exist  10000 non-null  bool  \n",
      "dtypes: bool(1), int64(1), object(6)\n",
      "memory usage: 556.8+ KB\n"
     ]
    }
   ],
   "source": [
    "df.info()"
   ]
  },
  {
   "cell_type": "markdown",
   "metadata": {
    "id": "d63mjp_5sCxe"
   },
   "source": [
    "Есть, но немного. Если они нам мешают, то их можно удалить:"
   ]
  },
  {
   "cell_type": "code",
   "execution_count": 308,
   "metadata": {
    "colab": {
     "base_uri": "https://localhost:8080/"
    },
    "id": "1vhY7HdJr7BC",
    "outputId": "9a59ba39-205d-45e1-d562-79879c91f911"
   },
   "outputs": [
    {
     "name": "stdout",
     "output_type": "stream",
     "text": [
      "<class 'pandas.core.frame.DataFrame'>\n",
      "Index: 9955 entries, 0 to 9999\n",
      "Data columns (total 8 columns):\n",
      " #   Column      Non-Null Count  Dtype \n",
      "---  ------      --------------  ----- \n",
      " 0   Restaurant  9955 non-null   object\n",
      " 1   Reviewer    9955 non-null   object\n",
      " 2   Review      9955 non-null   object\n",
      " 3   Rating      9955 non-null   object\n",
      " 4   Metadata    9955 non-null   object\n",
      " 5   Time        9955 non-null   object\n",
      " 6   Pictures    9955 non-null   int64 \n",
      " 7   Pics_exist  9955 non-null   bool  \n",
      "dtypes: bool(1), int64(1), object(6)\n",
      "memory usage: 631.9+ KB\n"
     ]
    }
   ],
   "source": [
    "df = df.dropna()\n",
    "# у dropna() есть аргумент how, которому можно, например, сообщать значение all, \n",
    "# если мы хотим удалять только совсем пустые\n",
    "df.info()"
   ]
  },
  {
   "cell_type": "markdown",
   "metadata": {
    "id": "pedu5UXbs0cu"
   },
   "source": [
    "Выше можно увидеть, что у колонок бывают разные типы. Самый общий - это тип `object`, с ним не работает никакая математика, чаще всего он содержит строки или какие-то пользовательские объекты.\n",
    "\n",
    "Заметим, что колонка Rating почему-то тоже `object`, хотя должна быть `int64`, как Pictures. Попробуем это поправить:"
   ]
  },
  {
   "cell_type": "code",
   "execution_count": 311,
   "metadata": {
    "colab": {
     "base_uri": "https://localhost:8080/",
     "height": 419
    },
    "id": "hdweSed4tG8N",
    "outputId": "5cc252f4-0447-4160-f127-6a134580e154"
   },
   "outputs": [
    {
     "ename": "ValueError",
     "evalue": "Unable to parse string \"Like\" at position 7597",
     "output_type": "error",
     "traceback": [
      "\u001b[1;31m---------------------------------------------------------------------------\u001b[0m",
      "\u001b[1;31mValueError\u001b[0m                                Traceback (most recent call last)",
      "File \u001b[1;32m~\\anaconda3\\Lib\\site-packages\\pandas\\_libs\\lib.pyx:2280\u001b[0m, in \u001b[0;36mpandas._libs.lib.maybe_convert_numeric\u001b[1;34m()\u001b[0m\n",
      "\u001b[1;31mValueError\u001b[0m: Unable to parse string \"Like\"",
      "\nDuring handling of the above exception, another exception occurred:\n",
      "\u001b[1;31mValueError\u001b[0m                                Traceback (most recent call last)",
      "Cell \u001b[1;32mIn[311], line 1\u001b[0m\n\u001b[1;32m----> 1\u001b[0m df[\u001b[38;5;124m\"\u001b[39m\u001b[38;5;124mRating\u001b[39m\u001b[38;5;124m\"\u001b[39m] \u001b[38;5;241m=\u001b[39m pd\u001b[38;5;241m.\u001b[39mto_numeric(df[\u001b[38;5;124m\"\u001b[39m\u001b[38;5;124mRating\u001b[39m\u001b[38;5;124m\"\u001b[39m])\n",
      "File \u001b[1;32m~\\anaconda3\\Lib\\site-packages\\pandas\\core\\tools\\numeric.py:217\u001b[0m, in \u001b[0;36mto_numeric\u001b[1;34m(arg, errors, downcast, dtype_backend)\u001b[0m\n\u001b[0;32m    215\u001b[0m coerce_numeric \u001b[38;5;241m=\u001b[39m errors \u001b[38;5;129;01mnot\u001b[39;00m \u001b[38;5;129;01min\u001b[39;00m (\u001b[38;5;124m\"\u001b[39m\u001b[38;5;124mignore\u001b[39m\u001b[38;5;124m\"\u001b[39m, \u001b[38;5;124m\"\u001b[39m\u001b[38;5;124mraise\u001b[39m\u001b[38;5;124m\"\u001b[39m)\n\u001b[0;32m    216\u001b[0m \u001b[38;5;28;01mtry\u001b[39;00m:\n\u001b[1;32m--> 217\u001b[0m     values, new_mask \u001b[38;5;241m=\u001b[39m lib\u001b[38;5;241m.\u001b[39mmaybe_convert_numeric(  \u001b[38;5;66;03m# type: ignore[call-overload]  # noqa\u001b[39;00m\n\u001b[0;32m    218\u001b[0m         values,\n\u001b[0;32m    219\u001b[0m         \u001b[38;5;28mset\u001b[39m(),\n\u001b[0;32m    220\u001b[0m         coerce_numeric\u001b[38;5;241m=\u001b[39mcoerce_numeric,\n\u001b[0;32m    221\u001b[0m         convert_to_masked_nullable\u001b[38;5;241m=\u001b[39mdtype_backend \u001b[38;5;129;01mis\u001b[39;00m \u001b[38;5;129;01mnot\u001b[39;00m lib\u001b[38;5;241m.\u001b[39mno_default\n\u001b[0;32m    222\u001b[0m         \u001b[38;5;129;01mor\u001b[39;00m \u001b[38;5;28misinstance\u001b[39m(values_dtype, StringDtype),\n\u001b[0;32m    223\u001b[0m     )\n\u001b[0;32m    224\u001b[0m \u001b[38;5;28;01mexcept\u001b[39;00m (\u001b[38;5;167;01mValueError\u001b[39;00m, \u001b[38;5;167;01mTypeError\u001b[39;00m):\n\u001b[0;32m    225\u001b[0m     \u001b[38;5;28;01mif\u001b[39;00m errors \u001b[38;5;241m==\u001b[39m \u001b[38;5;124m\"\u001b[39m\u001b[38;5;124mraise\u001b[39m\u001b[38;5;124m\"\u001b[39m:\n",
      "File \u001b[1;32m~\\anaconda3\\Lib\\site-packages\\pandas\\_libs\\lib.pyx:2322\u001b[0m, in \u001b[0;36mpandas._libs.lib.maybe_convert_numeric\u001b[1;34m()\u001b[0m\n",
      "\u001b[1;31mValueError\u001b[0m: Unable to parse string \"Like\" at position 7597"
     ]
    }
   ],
   "source": [
    "df[\"Rating\"] = pd.to_numeric(df[\"Rating\"])"
   ]
  },
  {
   "cell_type": "markdown",
   "metadata": {
    "id": "geSf7hFltoiF"
   },
   "source": [
    "Упало :(\n",
    "\n",
    "Попробуем посмотреть, что там вообoе встречается:"
   ]
  },
  {
   "cell_type": "code",
   "execution_count": 314,
   "metadata": {
    "colab": {
     "base_uri": "https://localhost:8080/"
    },
    "id": "jDPZOUd_tiWx",
    "outputId": "cc63de53-95a9-492e-810b-cde715cc15b3"
   },
   "outputs": [
    {
     "data": {
      "text/plain": [
       "array(['5', '4', '1', '3', '2', '3.5', '4.5', '2.5', '1.5', 'Like'],\n",
       "      dtype=object)"
      ]
     },
     "execution_count": 314,
     "metadata": {},
     "output_type": "execute_result"
    }
   ],
   "source": [
    "df[\"Rating\"].unique()"
   ]
  },
  {
   "cell_type": "markdown",
   "metadata": {
    "id": "WfX-eEdFt3_t"
   },
   "source": [
    "Много всякой ерунды и все строковый тип данных. Давайте напишем функцию, которая поможет нам с этим справиться, и применим ее к столбцу:"
   ]
  },
  {
   "cell_type": "code",
   "execution_count": 317,
   "metadata": {
    "colab": {
     "base_uri": "https://localhost:8080/",
     "height": 272
    },
    "id": "KbpLkpsHt3ht",
    "outputId": "8da6a67b-c78c-405c-eb38-0b56cdffb798"
   },
   "outputs": [
    {
     "data": {
      "text/plain": [
       "Rating\n",
       "5    3827\n",
       "4    2489\n",
       "1    1735\n",
       "3    1192\n",
       "2     712\n",
       "Name: count, dtype: int64"
      ]
     },
     "execution_count": 317,
     "metadata": {},
     "output_type": "execute_result"
    }
   ],
   "source": [
    "def rating_to_num(rating):\n",
    "  if rating == \"Like\":\n",
    "    return 5\n",
    "  else:\n",
    "    return round(float(rating))\n",
    "\n",
    "# или то же самое лямбдой \n",
    "# df[\"Rating\"].apply(lambda rating: 5 if rating == \"Like\" else round(float(rating)))\n",
    "\n",
    "df[\"Rating\"] = df[\"Rating\"].apply(rating_to_num)\n",
    "df[\"Rating\"].value_counts()"
   ]
  },
  {
   "cell_type": "markdown",
   "metadata": {
    "id": "aEkX8royubgW"
   },
   "source": [
    "Теперь мы можем посмотреть всякие статистики по столбцу с рейтингом:"
   ]
  },
  {
   "cell_type": "code",
   "execution_count": 320,
   "metadata": {
    "colab": {
     "base_uri": "https://localhost:8080/",
     "height": 300
    },
    "id": "cFw6c2X4sgBX",
    "outputId": "251b0bc1-1222-455c-8104-e7df77fa8946"
   },
   "outputs": [
    {
     "data": {
      "text/html": [
       "<div>\n",
       "<style scoped>\n",
       "    .dataframe tbody tr th:only-of-type {\n",
       "        vertical-align: middle;\n",
       "    }\n",
       "\n",
       "    .dataframe tbody tr th {\n",
       "        vertical-align: top;\n",
       "    }\n",
       "\n",
       "    .dataframe thead th {\n",
       "        text-align: right;\n",
       "    }\n",
       "</style>\n",
       "<table border=\"1\" class=\"dataframe\">\n",
       "  <thead>\n",
       "    <tr style=\"text-align: right;\">\n",
       "      <th></th>\n",
       "      <th>Rating</th>\n",
       "      <th>Pictures</th>\n",
       "    </tr>\n",
       "  </thead>\n",
       "  <tbody>\n",
       "    <tr>\n",
       "      <th>count</th>\n",
       "      <td>9955.000000</td>\n",
       "      <td>9955.000000</td>\n",
       "    </tr>\n",
       "    <tr>\n",
       "      <th>mean</th>\n",
       "      <td>3.598795</td>\n",
       "      <td>0.751984</td>\n",
       "    </tr>\n",
       "    <tr>\n",
       "      <th>std</th>\n",
       "      <td>1.482589</td>\n",
       "      <td>2.575691</td>\n",
       "    </tr>\n",
       "    <tr>\n",
       "      <th>min</th>\n",
       "      <td>1.000000</td>\n",
       "      <td>0.000000</td>\n",
       "    </tr>\n",
       "    <tr>\n",
       "      <th>25%</th>\n",
       "      <td>3.000000</td>\n",
       "      <td>0.000000</td>\n",
       "    </tr>\n",
       "    <tr>\n",
       "      <th>50%</th>\n",
       "      <td>4.000000</td>\n",
       "      <td>0.000000</td>\n",
       "    </tr>\n",
       "    <tr>\n",
       "      <th>75%</th>\n",
       "      <td>5.000000</td>\n",
       "      <td>0.000000</td>\n",
       "    </tr>\n",
       "    <tr>\n",
       "      <th>max</th>\n",
       "      <td>5.000000</td>\n",
       "      <td>64.000000</td>\n",
       "    </tr>\n",
       "  </tbody>\n",
       "</table>\n",
       "</div>"
      ],
      "text/plain": [
       "            Rating     Pictures\n",
       "count  9955.000000  9955.000000\n",
       "mean      3.598795     0.751984\n",
       "std       1.482589     2.575691\n",
       "min       1.000000     0.000000\n",
       "25%       3.000000     0.000000\n",
       "50%       4.000000     0.000000\n",
       "75%       5.000000     0.000000\n",
       "max       5.000000    64.000000"
      ]
     },
     "execution_count": 320,
     "metadata": {},
     "output_type": "execute_result"
    }
   ],
   "source": [
    "df.describe()"
   ]
  },
  {
   "cell_type": "markdown",
   "metadata": {
    "id": "HXIR89Uaum5U"
   },
   "source": [
    "И порисовать графики:"
   ]
  },
  {
   "cell_type": "code",
   "execution_count": 323,
   "metadata": {
    "colab": {
     "base_uri": "https://localhost:8080/",
     "height": 451
    },
    "id": "niPJH4vbstSj",
    "outputId": "6b8cd6a3-a354-440b-c866-9941b42ee5f7"
   },
   "outputs": [
    {
     "data": {
      "text/plain": [
       "<Axes: ylabel='Frequency'>"
      ]
     },
     "execution_count": 323,
     "metadata": {},
     "output_type": "execute_result"
    },
    {
     "data": {
      "image/png": "[encoded data removed]",
      "text/plain": [
       "<Figure size 640x480 with 1 Axes>"
      ]
     },
     "metadata": {},
     "output_type": "display_data"
    }
   ],
   "source": [
    "df[\"Rating\"].plot(kind=\"hist\", xticks=[1, 2, 3, 4, 5])"
   ]
  },
  {
   "cell_type": "markdown",
   "metadata": {
    "id": "qNRdXmSBvIJm"
   },
   "source": [
    "Но сейчас мы все замеряем по всем ресторанам в целом. Давайте сгруппируем по названию ресторана:"
   ]
  },
  {
   "cell_type": "markdown",
   "metadata": {
    "id": "gwz4C7jiviKP"
   },
   "source": [
    "Можем собирать все в списки"
   ]
  },
  {
   "cell_type": "code",
   "execution_count": 327,
   "metadata": {
    "colab": {
     "base_uri": "https://localhost:8080/",
     "height": 279
    },
    "id": "B_Cy6dSmumEq",
    "outputId": "91500bd4-82af-45c9-a0b9-a3f1e951bb2a"
   },
   "outputs": [
    {
     "data": {
      "text/html": [
       "<div>\n",
       "<style scoped>\n",
       "    .dataframe tbody tr th:only-of-type {\n",
       "        vertical-align: middle;\n",
       "    }\n",
       "\n",
       "    .dataframe tbody tr th {\n",
       "        vertical-align: top;\n",
       "    }\n",
       "\n",
       "    .dataframe thead th {\n",
       "        text-align: right;\n",
       "    }\n",
       "</style>\n",
       "<table border=\"1\" class=\"dataframe\">\n",
       "  <thead>\n",
       "    <tr style=\"text-align: right;\">\n",
       "      <th></th>\n",
       "      <th>Reviewer</th>\n",
       "      <th>Review</th>\n",
       "      <th>Rating</th>\n",
       "      <th>Metadata</th>\n",
       "      <th>Time</th>\n",
       "      <th>Pictures</th>\n",
       "      <th>Pics_exist</th>\n",
       "    </tr>\n",
       "    <tr>\n",
       "      <th>Restaurant</th>\n",
       "      <th></th>\n",
       "      <th></th>\n",
       "      <th></th>\n",
       "      <th></th>\n",
       "      <th></th>\n",
       "      <th></th>\n",
       "      <th></th>\n",
       "    </tr>\n",
       "  </thead>\n",
       "  <tbody>\n",
       "    <tr>\n",
       "      <th>10 Downing Street</th>\n",
       "      <td>[Smrati Saxena, Jayaprakash Reddy, Ram K, Shru...</td>\n",
       "      <td>[I've been to this place about two times and i...</td>\n",
       "      <td>[3, 4, 4, 5, 4, 4, 1, 1, 1, 4, 4, 4, 4, 5, 3, ...</td>\n",
       "      <td>[18 Reviews , 41 Followers, 2 Reviews , 11 Fol...</td>\n",
       "      <td>[5/23/2019 21:04, 5/21/2019 16:00, 5/19/2019 1...</td>\n",
       "      <td>[0, 0, 0, 0, 0, 4, 0, 0, 0, 1, 0, 2, 0, 1, 0, ...</td>\n",
       "      <td>[False, False, False, False, False, True, Fals...</td>\n",
       "    </tr>\n",
       "    <tr>\n",
       "      <th>13 Dhaba</th>\n",
       "      <td>[Sarika, Ankur, Kumar Ajay, Henna Mittal, Yoge...</td>\n",
       "      <td>[I didn't go and eat at the Dhaba.\\nI had orde...</td>\n",
       "      <td>[4, 5, 5, 1, 5, 1, 1, 5, 3, 4, 3, 5, 1, 1, 5, ...</td>\n",
       "      <td>[34 Reviews , 12 Followers, 0 Reviews, 1 Revie...</td>\n",
       "      <td>[5/25/2019 15:05, 5/25/2019 13:03, 5/19/2019 1...</td>\n",
       "      <td>[0, 0, 0, 0, 0, 0, 0, 0, 0, 2, 0, 0, 0, 0, 0, ...</td>\n",
       "      <td>[False, False, False, False, False, False, Fal...</td>\n",
       "    </tr>\n",
       "    <tr>\n",
       "      <th>3B's - Buddies, Bar &amp; Barbecue</th>\n",
       "      <td>[Kairamkonda Saikiran, Saiswapnil, Naveen, K P...</td>\n",
       "      <td>[We go their for a team dinner.The name of the...</td>\n",
       "      <td>[5, 5, 5, 5, 5, 5, 5, 5, 5, 5, 5, 5, 5, 5, 5, ...</td>\n",
       "      <td>[1 Review , 3 Followers, 1 Review , 2 Follower...</td>\n",
       "      <td>[5/23/2019 23:39, 5/23/2019 23:21, 5/23/2019 2...</td>\n",
       "      <td>[0, 0, 0, 0, 0, 0, 0, 0, 0, 2, 0, 0, 0, 0, 0, ...</td>\n",
       "      <td>[False, False, False, False, False, False, Fal...</td>\n",
       "    </tr>\n",
       "  </tbody>\n",
       "</table>\n",
       "</div>"
      ],
      "text/plain": [
       "                                                                         Reviewer  \\\n",
       "Restaurant                                                                          \n",
       "10 Downing Street               [Smrati Saxena, Jayaprakash Reddy, Ram K, Shru...   \n",
       "13 Dhaba                        [Sarika, Ankur, Kumar Ajay, Henna Mittal, Yoge...   \n",
       "3B's - Buddies, Bar & Barbecue  [Kairamkonda Saikiran, Saiswapnil, Naveen, K P...   \n",
       "\n",
       "                                                                           Review  \\\n",
       "Restaurant                                                                          \n",
       "10 Downing Street               [I've been to this place about two times and i...   \n",
       "13 Dhaba                        [I didn't go and eat at the Dhaba.\\nI had orde...   \n",
       "3B's - Buddies, Bar & Barbecue  [We go their for a team dinner.The name of the...   \n",
       "\n",
       "                                                                           Rating  \\\n",
       "Restaurant                                                                          \n",
       "10 Downing Street               [3, 4, 4, 5, 4, 4, 1, 1, 1, 4, 4, 4, 4, 5, 3, ...   \n",
       "13 Dhaba                        [4, 5, 5, 1, 5, 1, 1, 5, 3, 4, 3, 5, 1, 1, 5, ...   \n",
       "3B's - Buddies, Bar & Barbecue  [5, 5, 5, 5, 5, 5, 5, 5, 5, 5, 5, 5, 5, 5, 5, ...   \n",
       "\n",
       "                                                                         Metadata  \\\n",
       "Restaurant                                                                          \n",
       "10 Downing Street               [18 Reviews , 41 Followers, 2 Reviews , 11 Fol...   \n",
       "13 Dhaba                        [34 Reviews , 12 Followers, 0 Reviews, 1 Revie...   \n",
       "3B's - Buddies, Bar & Barbecue  [1 Review , 3 Followers, 1 Review , 2 Follower...   \n",
       "\n",
       "                                                                             Time  \\\n",
       "Restaurant                                                                          \n",
       "10 Downing Street               [5/23/2019 21:04, 5/21/2019 16:00, 5/19/2019 1...   \n",
       "13 Dhaba                        [5/25/2019 15:05, 5/25/2019 13:03, 5/19/2019 1...   \n",
       "3B's - Buddies, Bar & Barbecue  [5/23/2019 23:39, 5/23/2019 23:21, 5/23/2019 2...   \n",
       "\n",
       "                                                                         Pictures  \\\n",
       "Restaurant                                                                          \n",
       "10 Downing Street               [0, 0, 0, 0, 0, 4, 0, 0, 0, 1, 0, 2, 0, 1, 0, ...   \n",
       "13 Dhaba                        [0, 0, 0, 0, 0, 0, 0, 0, 0, 2, 0, 0, 0, 0, 0, ...   \n",
       "3B's - Buddies, Bar & Barbecue  [0, 0, 0, 0, 0, 0, 0, 0, 0, 2, 0, 0, 0, 0, 0, ...   \n",
       "\n",
       "                                                                       Pics_exist  \n",
       "Restaurant                                                                         \n",
       "10 Downing Street               [False, False, False, False, False, True, Fals...  \n",
       "13 Dhaba                        [False, False, False, False, False, False, Fal...  \n",
       "3B's - Buddies, Bar & Barbecue  [False, False, False, False, False, False, Fal...  "
      ]
     },
     "execution_count": 327,
     "metadata": {},
     "output_type": "execute_result"
    }
   ],
   "source": [
    "df.groupby(by=\"Restaurant\").agg(list).head(3)"
   ]
  },
  {
   "cell_type": "markdown",
   "metadata": {
    "id": "Q5wSsG-Mvmjp"
   },
   "source": [
    "Можем сразу посчитать среднее. `numeric_only=True` позволяет избежать ситуации, когда пандас пытается считать среднее по списку строк и падает с ошибкой, закономерно не справившись с этой задачей"
   ]
  },
  {
   "cell_type": "code",
   "execution_count": 330,
   "metadata": {
    "colab": {
     "base_uri": "https://localhost:8080/",
     "height": 175
    },
    "id": "QZmi5pjzvTsb",
    "outputId": "5ff28502-fd39-4800-9fdb-a5d7f5b94ad6"
   },
   "outputs": [
    {
     "data": {
      "text/html": [
       "<div>\n",
       "<style scoped>\n",
       "    .dataframe tbody tr th:only-of-type {\n",
       "        vertical-align: middle;\n",
       "    }\n",
       "\n",
       "    .dataframe tbody tr th {\n",
       "        vertical-align: top;\n",
       "    }\n",
       "\n",
       "    .dataframe thead th {\n",
       "        text-align: right;\n",
       "    }\n",
       "</style>\n",
       "<table border=\"1\" class=\"dataframe\">\n",
       "  <thead>\n",
       "    <tr style=\"text-align: right;\">\n",
       "      <th></th>\n",
       "      <th>Rating</th>\n",
       "      <th>Pictures</th>\n",
       "      <th>Pics_exist</th>\n",
       "    </tr>\n",
       "    <tr>\n",
       "      <th>Restaurant</th>\n",
       "      <th></th>\n",
       "      <th></th>\n",
       "      <th></th>\n",
       "    </tr>\n",
       "  </thead>\n",
       "  <tbody>\n",
       "    <tr>\n",
       "      <th>10 Downing Street</th>\n",
       "      <td>3.80</td>\n",
       "      <td>1.05</td>\n",
       "      <td>0.24</td>\n",
       "    </tr>\n",
       "    <tr>\n",
       "      <th>13 Dhaba</th>\n",
       "      <td>3.48</td>\n",
       "      <td>0.41</td>\n",
       "      <td>0.19</td>\n",
       "    </tr>\n",
       "    <tr>\n",
       "      <th>3B's - Buddies, Bar &amp; Barbecue</th>\n",
       "      <td>4.76</td>\n",
       "      <td>0.13</td>\n",
       "      <td>0.07</td>\n",
       "    </tr>\n",
       "  </tbody>\n",
       "</table>\n",
       "</div>"
      ],
      "text/plain": [
       "                                Rating  Pictures  Pics_exist\n",
       "Restaurant                                                  \n",
       "10 Downing Street                 3.80      1.05        0.24\n",
       "13 Dhaba                          3.48      0.41        0.19\n",
       "3B's - Buddies, Bar & Barbecue    4.76      0.13        0.07"
      ]
     },
     "execution_count": 330,
     "metadata": {},
     "output_type": "execute_result"
    }
   ],
   "source": [
    "df.groupby(by=\"Restaurant\").mean(numeric_only=True).head(3)"
   ]
  },
  {
   "cell_type": "markdown",
   "metadata": {
    "id": "5rRivjeNxynq"
   },
   "source": [
    "Можно заодно еще минимум, максимум и стандартное отклонение"
   ]
  },
  {
   "cell_type": "code",
   "execution_count": 333,
   "metadata": {
    "colab": {
     "base_uri": "https://localhost:8080/",
     "height": 206
    },
    "id": "CqbP_-Owx1bn",
    "outputId": "4a8d7c55-ad4d-41f7-c102-06bf7746646f"
   },
   "outputs": [
    {
     "data": {
      "text/html": [
       "<div>\n",
       "<style scoped>\n",
       "    .dataframe tbody tr th:only-of-type {\n",
       "        vertical-align: middle;\n",
       "    }\n",
       "\n",
       "    .dataframe tbody tr th {\n",
       "        vertical-align: top;\n",
       "    }\n",
       "\n",
       "    .dataframe thead tr th {\n",
       "        text-align: left;\n",
       "    }\n",
       "\n",
       "    .dataframe thead tr:last-of-type th {\n",
       "        text-align: right;\n",
       "    }\n",
       "</style>\n",
       "<table border=\"1\" class=\"dataframe\">\n",
       "  <thead>\n",
       "    <tr>\n",
       "      <th></th>\n",
       "      <th colspan=\"4\" halign=\"left\">Rating</th>\n",
       "    </tr>\n",
       "    <tr>\n",
       "      <th></th>\n",
       "      <th>mean</th>\n",
       "      <th>min</th>\n",
       "      <th>max</th>\n",
       "      <th>std</th>\n",
       "    </tr>\n",
       "    <tr>\n",
       "      <th>Restaurant</th>\n",
       "      <th></th>\n",
       "      <th></th>\n",
       "      <th></th>\n",
       "      <th></th>\n",
       "    </tr>\n",
       "  </thead>\n",
       "  <tbody>\n",
       "    <tr>\n",
       "      <th>10 Downing Street</th>\n",
       "      <td>3.80</td>\n",
       "      <td>1</td>\n",
       "      <td>5</td>\n",
       "      <td>1.091751</td>\n",
       "    </tr>\n",
       "    <tr>\n",
       "      <th>13 Dhaba</th>\n",
       "      <td>3.48</td>\n",
       "      <td>1</td>\n",
       "      <td>5</td>\n",
       "      <td>1.566570</td>\n",
       "    </tr>\n",
       "    <tr>\n",
       "      <th>3B's - Buddies, Bar &amp; Barbecue</th>\n",
       "      <td>4.76</td>\n",
       "      <td>1</td>\n",
       "      <td>5</td>\n",
       "      <td>0.830237</td>\n",
       "    </tr>\n",
       "  </tbody>\n",
       "</table>\n",
       "</div>"
      ],
      "text/plain": [
       "                               Rating                  \n",
       "                                 mean min max       std\n",
       "Restaurant                                             \n",
       "10 Downing Street                3.80   1   5  1.091751\n",
       "13 Dhaba                         3.48   1   5  1.566570\n",
       "3B's - Buddies, Bar & Barbecue   4.76   1   5  0.830237"
      ]
     },
     "execution_count": 333,
     "metadata": {},
     "output_type": "execute_result"
    }
   ],
   "source": [
    "df.groupby(by=\"Restaurant\").agg({\"Rating\": [\"mean\", \"min\", \"max\", \"std\"]}).head(3)"
   ]
  },
  {
   "cell_type": "markdown",
   "metadata": {
    "id": "IEyExIpwvtLU"
   },
   "source": [
    "Или задать разные способы агреггации для разных колонок"
   ]
  },
  {
   "cell_type": "code",
   "execution_count": 336,
   "metadata": {
    "colab": {
     "base_uri": "https://localhost:8080/",
     "height": 175
    },
    "id": "p3TRaKiuvppM",
    "outputId": "e80ddaba-7619-426a-cd3e-f6840a9fdb2d"
   },
   "outputs": [
    {
     "data": {
      "text/html": [
       "<div>\n",
       "<style scoped>\n",
       "    .dataframe tbody tr th:only-of-type {\n",
       "        vertical-align: middle;\n",
       "    }\n",
       "\n",
       "    .dataframe tbody tr th {\n",
       "        vertical-align: top;\n",
       "    }\n",
       "\n",
       "    .dataframe thead th {\n",
       "        text-align: right;\n",
       "    }\n",
       "</style>\n",
       "<table border=\"1\" class=\"dataframe\">\n",
       "  <thead>\n",
       "    <tr style=\"text-align: right;\">\n",
       "      <th></th>\n",
       "      <th>Rating</th>\n",
       "      <th>Review</th>\n",
       "    </tr>\n",
       "    <tr>\n",
       "      <th>Restaurant</th>\n",
       "      <th></th>\n",
       "      <th></th>\n",
       "    </tr>\n",
       "  </thead>\n",
       "  <tbody>\n",
       "    <tr>\n",
       "      <th>10 Downing Street</th>\n",
       "      <td>3.80</td>\n",
       "      <td>[I've been to this place about two times and i...</td>\n",
       "    </tr>\n",
       "    <tr>\n",
       "      <th>13 Dhaba</th>\n",
       "      <td>3.48</td>\n",
       "      <td>[I didn't go and eat at the Dhaba.\\nI had orde...</td>\n",
       "    </tr>\n",
       "    <tr>\n",
       "      <th>3B's - Buddies, Bar &amp; Barbecue</th>\n",
       "      <td>4.76</td>\n",
       "      <td>[We go their for a team dinner.The name of the...</td>\n",
       "    </tr>\n",
       "  </tbody>\n",
       "</table>\n",
       "</div>"
      ],
      "text/plain": [
       "                                Rating  \\\n",
       "Restaurant                               \n",
       "10 Downing Street                 3.80   \n",
       "13 Dhaba                          3.48   \n",
       "3B's - Buddies, Bar & Barbecue    4.76   \n",
       "\n",
       "                                                                           Review  \n",
       "Restaurant                                                                         \n",
       "10 Downing Street               [I've been to this place about two times and i...  \n",
       "13 Dhaba                        [I didn't go and eat at the Dhaba.\\nI had orde...  \n",
       "3B's - Buddies, Bar & Barbecue  [We go their for a team dinner.The name of the...  "
      ]
     },
     "execution_count": 336,
     "metadata": {},
     "output_type": "execute_result"
    }
   ],
   "source": [
    "df.groupby(\"Restaurant\").agg(\n",
    "    {\n",
    "        \"Rating\": lambda x: x.mean(),\n",
    "        \"Review\": lambda x: list(x)\n",
    "    }\n",
    ").head(3)"
   ]
  },
  {
   "cell_type": "markdown",
   "metadata": {
    "id": "JDYDVNbowPrr"
   },
   "source": [
    "А как отсортировать по среднему рейтингу?"
   ]
  },
  {
   "cell_type": "code",
   "execution_count": 339,
   "metadata": {
    "colab": {
     "base_uri": "https://localhost:8080/",
     "height": 455
    },
    "id": "6O2NXMgBwSQQ",
    "outputId": "850bc250-731d-42b1-b1e9-448e5254699c"
   },
   "outputs": [
    {
     "data": {
      "text/html": [
       "<div>\n",
       "<style scoped>\n",
       "    .dataframe tbody tr th:only-of-type {\n",
       "        vertical-align: middle;\n",
       "    }\n",
       "\n",
       "    .dataframe tbody tr th {\n",
       "        vertical-align: top;\n",
       "    }\n",
       "\n",
       "    .dataframe thead th {\n",
       "        text-align: right;\n",
       "    }\n",
       "</style>\n",
       "<table border=\"1\" class=\"dataframe\">\n",
       "  <thead>\n",
       "    <tr style=\"text-align: right;\">\n",
       "      <th></th>\n",
       "      <th>Rating</th>\n",
       "      <th>Pictures</th>\n",
       "      <th>Pics_exist</th>\n",
       "    </tr>\n",
       "    <tr>\n",
       "      <th>Restaurant</th>\n",
       "      <th></th>\n",
       "      <th></th>\n",
       "      <th></th>\n",
       "    </tr>\n",
       "  </thead>\n",
       "  <tbody>\n",
       "    <tr>\n",
       "      <th>AB's - Absolute Barbecues</th>\n",
       "      <td>4.88</td>\n",
       "      <td>0.24</td>\n",
       "      <td>0.07</td>\n",
       "    </tr>\n",
       "    <tr>\n",
       "      <th>B-Dubs</th>\n",
       "      <td>4.81</td>\n",
       "      <td>0.16</td>\n",
       "      <td>0.11</td>\n",
       "    </tr>\n",
       "    <tr>\n",
       "      <th>3B's - Buddies, Bar &amp; Barbecue</th>\n",
       "      <td>4.76</td>\n",
       "      <td>0.13</td>\n",
       "      <td>0.07</td>\n",
       "    </tr>\n",
       "    <tr>\n",
       "      <th>Paradise</th>\n",
       "      <td>4.70</td>\n",
       "      <td>0.02</td>\n",
       "      <td>0.02</td>\n",
       "    </tr>\n",
       "    <tr>\n",
       "      <th>Flechazo</th>\n",
       "      <td>4.66</td>\n",
       "      <td>0.55</td>\n",
       "      <td>0.14</td>\n",
       "    </tr>\n",
       "    <tr>\n",
       "      <th>...</th>\n",
       "      <td>...</td>\n",
       "      <td>...</td>\n",
       "      <td>...</td>\n",
       "    </tr>\n",
       "    <tr>\n",
       "      <th>Mathura Vilas</th>\n",
       "      <td>2.82</td>\n",
       "      <td>0.31</td>\n",
       "      <td>0.16</td>\n",
       "    </tr>\n",
       "    <tr>\n",
       "      <th>Behrouz Biryani</th>\n",
       "      <td>2.82</td>\n",
       "      <td>0.36</td>\n",
       "      <td>0.23</td>\n",
       "    </tr>\n",
       "    <tr>\n",
       "      <th>Pakwaan Grand</th>\n",
       "      <td>2.71</td>\n",
       "      <td>0.17</td>\n",
       "      <td>0.10</td>\n",
       "    </tr>\n",
       "    <tr>\n",
       "      <th>Asian Meal Box</th>\n",
       "      <td>2.58</td>\n",
       "      <td>0.17</td>\n",
       "      <td>0.12</td>\n",
       "    </tr>\n",
       "    <tr>\n",
       "      <th>Hotel Zara Hi-Fi</th>\n",
       "      <td>2.40</td>\n",
       "      <td>0.05</td>\n",
       "      <td>0.05</td>\n",
       "    </tr>\n",
       "  </tbody>\n",
       "</table>\n",
       "<p>100 rows × 3 columns</p>\n",
       "</div>"
      ],
      "text/plain": [
       "                                Rating  Pictures  Pics_exist\n",
       "Restaurant                                                  \n",
       "AB's - Absolute Barbecues         4.88      0.24        0.07\n",
       "B-Dubs                            4.81      0.16        0.11\n",
       "3B's - Buddies, Bar & Barbecue    4.76      0.13        0.07\n",
       "Paradise                          4.70      0.02        0.02\n",
       "Flechazo                          4.66      0.55        0.14\n",
       "...                                ...       ...         ...\n",
       "Mathura Vilas                     2.82      0.31        0.16\n",
       "Behrouz Biryani                   2.82      0.36        0.23\n",
       "Pakwaan Grand                     2.71      0.17        0.10\n",
       "Asian Meal Box                    2.58      0.17        0.12\n",
       "Hotel Zara Hi-Fi                  2.40      0.05        0.05\n",
       "\n",
       "[100 rows x 3 columns]"
      ]
     },
     "execution_count": 339,
     "metadata": {},
     "output_type": "execute_result"
    }
   ],
   "source": [
    "df.groupby(by=\"Restaurant\").mean(numeric_only=True).sort_values(by=\"Rating\",  # в sort_values также можно передавать списки\n",
    "                                                                ascending=False)"
   ]
  },
  {
   "cell_type": "markdown",
   "metadata": {
    "id": "f8JAyRgKyx42"
   },
   "source": [
    "### Упражнения"
   ]
  },
  {
   "cell_type": "markdown",
   "metadata": {
    "id": "DwMo1xk8yzRR"
   },
   "source": [
    "У вас есть еще `reviews_data.csv`. Попробуйте исследовать эти данные, как можно меньше подглядывая в решения выше."
   ]
  },
  {
   "cell_type": "code",
   "execution_count": null,
   "metadata": {
    "id": "HbzxoAZPzRre"
   },
   "outputs": [],
   "source": []
  },
  {
   "cell_type": "markdown",
   "metadata": {
    "id": "MYPIDuh6zRy5"
   },
   "source": [
    "У LinkedIn Job Posting более сложная структура. Можно посмотреть только основной `posting.csv`, а можно изучить еще и дополнительные файлы."
   ]
  },
  {
   "cell_type": "code",
   "execution_count": null,
   "metadata": {
    "id": "T7dAF2y5zc8B"
   },
   "outputs": [],
   "source": []
  },
  {
   "cell_type": "markdown",
   "metadata": {},
   "source": [
    "### Где еще взять задания, если не хватило?\n",
    "* [*100 заданий*](https://github.com/ajcr/100-pandas-puzzles)\n",
    "* [*тетрадки по темам*](https://github.com/guipsamora/pandas_exercises)"
   ]
  },
  {
   "cell_type": "markdown",
   "metadata": {
    "id": "lc5dhGqkaZoh"
   },
   "source": [
    "## Numpy\n",
    "[Документация](https://numpy.org/doc/stable/)"
   ]
  },
  {
   "cell_type": "code",
   "execution_count": 9,
   "metadata": {
    "id": "3yHM8ByAaaYW"
   },
   "outputs": [],
   "source": [
    "import numpy as np"
   ]
  },
  {
   "cell_type": "markdown",
   "metadata": {
    "id": "vcVqYQJ7aomw"
   },
   "source": [
    "В numpy тоже есть основная сущность - массив. Его проще всего создавать из списка чисел или посредством генераторов из самой библиотеки."
   ]
  },
  {
   "cell_type": "code",
   "execution_count": 345,
   "metadata": {
    "colab": {
     "base_uri": "https://localhost:8080/"
    },
    "id": "x_pdVv_GamD0",
    "outputId": "3ea90373-876f-405d-b461-45690fe57c5e"
   },
   "outputs": [
    {
     "data": {
      "text/plain": [
       "array([[0., 0., 0., 0., 0.],\n",
       "       [0., 0., 0., 0., 0.],\n",
       "       [0., 0., 0., 0., 0.]])"
      ]
     },
     "execution_count": 345,
     "metadata": {},
     "output_type": "execute_result"
    }
   ],
   "source": [
    "np.zeros((3, 5))"
   ]
  },
  {
   "cell_type": "code",
   "execution_count": 347,
   "metadata": {
    "colab": {
     "base_uri": "https://localhost:8080/"
    },
    "id": "W2nabADOa6y-",
    "outputId": "111eefbb-08a2-4bb1-99ab-f7af164d8b9f"
   },
   "outputs": [
    {
     "data": {
      "text/plain": [
       "array([[1., 1., 1., 1., 1.],\n",
       "       [1., 1., 1., 1., 1.],\n",
       "       [1., 1., 1., 1., 1.]])"
      ]
     },
     "execution_count": 347,
     "metadata": {},
     "output_type": "execute_result"
    }
   ],
   "source": [
    "np.ones((3, 5))"
   ]
  },
  {
   "cell_type": "code",
   "execution_count": 349,
   "metadata": {
    "colab": {
     "base_uri": "https://localhost:8080/"
    },
    "id": "l-zwjNKba9sa",
    "outputId": "392093bb-f8e0-4e6e-ed25-8ff5ee1a75c7"
   },
   "outputs": [
    {
     "data": {
      "text/plain": [
       "array([[1, 4, 7],\n",
       "       [2, 0, 5]])"
      ]
     },
     "execution_count": 349,
     "metadata": {},
     "output_type": "execute_result"
    }
   ],
   "source": [
    "np.array([\n",
    "    [1, 4, 7],\n",
    "    [2, 0, 5]\n",
    "])"
   ]
  },
  {
   "cell_type": "markdown",
   "metadata": {
    "id": "3OJ-vs_jqlKH"
   },
   "source": [
    "Вообще, с помощью numpy можно реализовать любые матричные вычисления, которые вам могут понадобиться. Например, есть формула косинусной близости:\n",
    "\n",
    "$$ similarity = \\cos(\\theta) = \\frac{A \\times B}{\\| A \\| \\times \\| B \\|} = \\frac{\\sum_{i=1}^{n} A_i \\times B_i}{\\sqrt{\\sum_{i=1}^{n} A_i^2} \\times \\sqrt{\\sum_{i=1}^{n} B_i^2}} $$\n",
    "\n",
    "Сама косинусная близость будет часто требоваться вам дальше при работе с текстами, но руками вы ее считать (или даже кодить) будете редко. Потому что есть готовая функция"
   ]
  },
  {
   "cell_type": "code",
   "execution_count": 11,
   "metadata": {
    "id": "Q6jZJ7jftPgw"
   },
   "outputs": [],
   "source": [
    "from scipy.spatial.distance import cosine"
   ]
  },
  {
   "cell_type": "code",
   "execution_count": 370,
   "metadata": {
    "colab": {
     "base_uri": "https://localhost:8080/"
    },
    "id": "NKDIou6tbE6K",
    "outputId": "f7de3f72-07e7-4e83-ad8c-6e0cf9cd11e6"
   },
   "outputs": [
    {
     "data": {
      "text/plain": [
       "0.8017837257372732"
      ]
     },
     "execution_count": 370,
     "metadata": {},
     "output_type": "execute_result"
    }
   ],
   "source": [
    "a = np.array([1, 3, 2])\n",
    "b = np.array([0, 1, 0])\n",
    "\n",
    "1 - cosine(a, b) # потому что в scipy эта функция считает расстояние"
   ]
  },
  {
   "cell_type": "markdown",
   "metadata": {
    "id": "kPnr9XaXtitD"
   },
   "source": [
    "А еще мы можем написать это руками:"
   ]
  },
  {
   "cell_type": "code",
   "execution_count": 372,
   "metadata": {
    "colab": {
     "base_uri": "https://localhost:8080/"
    },
    "id": "v3IeDYA0tUid",
    "outputId": "b5c4b920-14d3-4e5b-bdc8-bf5924a72390"
   },
   "outputs": [
    {
     "data": {
      "text/plain": [
       "0.8017837257372732"
      ]
     },
     "execution_count": 372,
     "metadata": {},
     "output_type": "execute_result"
    }
   ],
   "source": [
    "np.dot(a, b) / (np.sqrt(np.sum(a ** 2)) * np.sqrt(np.sum(b ** 2)))"
   ]
  },
  {
   "cell_type": "markdown",
   "metadata": {
    "id": "LudjNHE0uAmF"
   },
   "source": [
    "- `np.dot` - реализует матричное умножение, `a * b` - поэлементное"
   ]
  },
  {
   "cell_type": "code",
   "execution_count": 375,
   "metadata": {
    "colab": {
     "base_uri": "https://localhost:8080/"
    },
    "id": "jiD-R0zZt7Tz",
    "outputId": "8ec0b0c8-2cfa-419e-e609-faddb5437f72"
   },
   "outputs": [
    {
     "data": {
      "text/plain": [
       "array([False,  True, False])"
      ]
     },
     "execution_count": 375,
     "metadata": {},
     "output_type": "execute_result"
    }
   ],
   "source": [
    "a * b == np.dot(a, b)"
   ]
  },
  {
   "cell_type": "markdown",
   "metadata": {
    "id": "M8UF0hxBvB6C"
   },
   "source": [
    "Аналогично для матриц\n",
    "\n",
    "`matrix.T` - транспонирование матрицы"
   ]
  },
  {
   "cell_type": "code",
   "execution_count": 378,
   "metadata": {
    "colab": {
     "base_uri": "https://localhost:8080/"
    },
    "id": "iRHlTnvZuOZK",
    "outputId": "4b6cd971-378a-46b8-8acd-94b05fb29c38"
   },
   "outputs": [
    {
     "data": {
      "text/plain": [
       "array([[ 1, 16, 49],\n",
       "       [ 4,  0, 25]])"
      ]
     },
     "execution_count": 378,
     "metadata": {},
     "output_type": "execute_result"
    }
   ],
   "source": [
    "a1 = np.array([\n",
    "    [1, 4, 7],\n",
    "    [2, 0, 5]\n",
    "])\n",
    "a1 * a1"
   ]
  },
  {
   "cell_type": "code",
   "execution_count": 380,
   "metadata": {
    "colab": {
     "base_uri": "https://localhost:8080/",
     "height": 141
    },
    "id": "DCucE1OVuzxg",
    "outputId": "77c61c13-67a1-479b-9cbb-0e5dd9934c74"
   },
   "outputs": [
    {
     "ename": "ValueError",
     "evalue": "operands could not be broadcast together with shapes (2,3) (3,2) ",
     "output_type": "error",
     "traceback": [
      "\u001b[1;31m---------------------------------------------------------------------------\u001b[0m",
      "\u001b[1;31mValueError\u001b[0m                                Traceback (most recent call last)",
      "Cell \u001b[1;32mIn[380], line 1\u001b[0m\n\u001b[1;32m----> 1\u001b[0m a1 \u001b[38;5;241m*\u001b[39m a1\u001b[38;5;241m.\u001b[39mT\n",
      "\u001b[1;31mValueError\u001b[0m: operands could not be broadcast together with shapes (2,3) (3,2) "
     ]
    }
   ],
   "source": [
    "a1 * a1.T"
   ]
  },
  {
   "cell_type": "code",
   "execution_count": 382,
   "metadata": {
    "colab": {
     "base_uri": "https://localhost:8080/"
    },
    "id": "x1Jjao2wu2NL",
    "outputId": "b4c8d7ae-8148-4412-8c65-bf60031e4641"
   },
   "outputs": [
    {
     "data": {
      "text/plain": [
       "array([[66, 37],\n",
       "       [37, 29]])"
      ]
     },
     "execution_count": 382,
     "metadata": {},
     "output_type": "execute_result"
    }
   ],
   "source": [
    "np.dot(a1, a1.T)"
   ]
  },
  {
   "cell_type": "code",
   "execution_count": 384,
   "metadata": {
    "colab": {
     "base_uri": "https://localhost:8080/",
     "height": 141
    },
    "id": "Mc7CoM28u5uO",
    "outputId": "0679d740-85db-4425-bf20-1c93f6d98712"
   },
   "outputs": [
    {
     "ename": "ValueError",
     "evalue": "shapes (2,3) and (2,3) not aligned: 3 (dim 1) != 2 (dim 0)",
     "output_type": "error",
     "traceback": [
      "\u001b[1;31m---------------------------------------------------------------------------\u001b[0m",
      "\u001b[1;31mValueError\u001b[0m                                Traceback (most recent call last)",
      "Cell \u001b[1;32mIn[384], line 1\u001b[0m\n\u001b[1;32m----> 1\u001b[0m np\u001b[38;5;241m.\u001b[39mdot(a1, a1)\n",
      "File \u001b[1;32m<__array_function__ internals>:200\u001b[0m, in \u001b[0;36mdot\u001b[1;34m(*args, **kwargs)\u001b[0m\n",
      "\u001b[1;31mValueError\u001b[0m: shapes (2,3) and (2,3) not aligned: 3 (dim 1) != 2 (dim 0)"
     ]
    }
   ],
   "source": [
    "np.dot(a1, a1)"
   ]
  },
  {
   "cell_type": "markdown",
   "metadata": {
    "id": "axnPnUecuWxK"
   },
   "source": [
    "- `np.sqrt` - вычисляет квадратный корень\n",
    "- `np.sum` - вычислчет сумму"
   ]
  },
  {
   "cell_type": "markdown",
   "metadata": {
    "id": "RJCl26mdww-K"
   },
   "source": [
    "Чтобы собрать вектора в матрицу можно использовать функцию hstack, vstack или concatenate"
   ]
  },
  {
   "cell_type": "code",
   "execution_count": 388,
   "metadata": {
    "colab": {
     "base_uri": "https://localhost:8080/"
    },
    "id": "FduZ4QHMz65M",
    "outputId": "bde9f26a-891b-4bab-ebad-e57b1e7235e1"
   },
   "outputs": [
    {
     "data": {
      "text/plain": [
       "array([1, 3, 2, 0, 1, 0])"
      ]
     },
     "execution_count": 388,
     "metadata": {},
     "output_type": "execute_result"
    }
   ],
   "source": [
    "np.hstack([a, b])"
   ]
  },
  {
   "cell_type": "code",
   "execution_count": 390,
   "metadata": {
    "colab": {
     "base_uri": "https://localhost:8080/"
    },
    "id": "rICqlD410DYY",
    "outputId": "8a88ede4-53fd-432e-9769-d1fe0ed5b0b1"
   },
   "outputs": [
    {
     "data": {
      "text/plain": [
       "array([1, 3, 2, 0, 1, 0])"
      ]
     },
     "execution_count": 390,
     "metadata": {},
     "output_type": "execute_result"
    }
   ],
   "source": [
    "np.concatenate([a, b])"
   ]
  },
  {
   "cell_type": "code",
   "execution_count": 392,
   "metadata": {
    "colab": {
     "base_uri": "https://localhost:8080/"
    },
    "id": "sFvDXVuJ0DVh",
    "outputId": "90899116-32ac-4396-d29f-b3c6d2b80094"
   },
   "outputs": [
    {
     "data": {
      "text/plain": [
       "array([[1, 3, 2],\n",
       "       [0, 1, 0]])"
      ]
     },
     "execution_count": 392,
     "metadata": {},
     "output_type": "execute_result"
    }
   ],
   "source": [
    "np.vstack([a, b])"
   ]
  },
  {
   "cell_type": "markdown",
   "metadata": {},
   "source": [
    "### Где взять задания?\n",
    "* [*100 заданий*](https://github.com/rougier/numpy-100)\n",
    "* [*задания на Kaggle*](https://www.kaggle.com/code/themlphdstudent/learn-numpy-numpy-50-exercises-and-solution)"
   ]
  }
 ],
 "metadata": {
  "colab": {
   "provenance": []
  },
  "kernelspec": {
   "display_name": "Python 3 (ipykernel)",
   "language": "python",
   "name": "python3"
  },
  "language_info": {
   "codemirror_mode": {
    "name": "ipython",
    "version": 3
   },
   "file_extension": ".py",
   "mimetype": "text/x-python",
   "name": "python",
   "nbconvert_exporter": "python",
   "pygments_lexer": "ipython3",
   "version": "3.11.5"
  }
 },
 "nbformat": 4,
 "nbformat_minor": 4
}
