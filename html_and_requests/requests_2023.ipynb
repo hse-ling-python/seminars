{
  "cells": [
    {
      "cell_type": "markdown",
      "metadata": {
        "id": "nmgQw_NQYBCg"
      },
      "source": [
        "# Python и интернет. Модуль requests\n",
        "\n",
        "**План**:\n",
        "\n",
        "1. Запросы\n",
        "2. Requests\n",
        "4. bs4\n",
        "5. Задание на семинар"
      ]
    },
    {
      "cell_type": "markdown",
      "metadata": {
        "id": "BMdJJbokYBCi"
      },
      "source": [
        "## Как выкачать интернет\n",
        "Современный Интернет предоставляет лингвистам большое количество языковых данных: электронные газеты и журналы, блоги, форумы, социальные сети и т.д. Например, можно найти в сети много-много текстов и собрать корпус, или найти все газетные статьи и блог-посты про какую-нибудь корпорацию и проанализировать тональность сообщений. Сейчас мы научимся заниматься выкачиванием страниц из интернета с помощью Python.\n",
        "\n",
        "Для скачивания HTML-страниц в питоне есть несколько библиотек **urllib** и **requests**"
      ]
    },
    {
      "cell_type": "markdown",
      "metadata": {
        "id": "DLNYPfbMYBCj"
      },
      "source": [
        "## Requests\n",
        "\n",
        "Можно почитать еще [тут](https://realpython.com/python-requests/)\n",
        "\n",
        "\n",
        "Допустим, мы хотим скачать главную страницу Хабрахабра.\n",
        "\n",
        "На самом деле, когда мы хотим открыть какую-то страницу в интернете, наш браузер отправляет на сервер **запрос** (\"Привет, сервер! я хочу код страницы по вот такому адресу!\"), а сервер затем отправляет ответ (\"Привет! Вот код страницы: ...\").\n",
        "Чтобы получить страницу через питон, нужно сформировать **запрос** на сервер так же, как это делает браузер:"
      ]
    },
    {
      "cell_type": "code",
      "execution_count": 1,
      "metadata": {
        "id": "txfW0gWgYBCk"
      },
      "outputs": [],
      "source": [
        "import requests"
      ]
    },
    {
      "cell_type": "code",
      "execution_count": 2,
      "metadata": {
        "id": "eR86pOlQYBCl"
      },
      "outputs": [],
      "source": [
        "response = requests.get(\"https://habr.com/ru/\")"
      ]
    },
    {
      "cell_type": "markdown",
      "metadata": {
        "id": "i5T6bjMBYBCl"
      },
      "source": [
        "В response теперь лежит отет сервера. Это не прост html-код страницы, а еще дополнительная информация. Если мы просто выведем этот response, нам покажется только код (200 - все ок)."
      ]
    },
    {
      "cell_type": "code",
      "execution_count": 3,
      "metadata": {
        "colab": {
          "base_uri": "https://localhost:8080/"
        },
        "id": "g53d-WU5YBCl",
        "outputId": "41adfbce-d37c-4428-981b-aa4389f53f3a"
      },
      "outputs": [
        {
          "output_type": "execute_result",
          "data": {
            "text/plain": [
              "<Response [200]>"
            ]
          },
          "metadata": {},
          "execution_count": 3
        }
      ],
      "source": [
        "response"
      ]
    },
    {
      "cell_type": "code",
      "execution_count": 4,
      "metadata": {
        "colab": {
          "base_uri": "https://localhost:8080/"
        },
        "id": "9_vVB0dsYBCm",
        "outputId": "a74cb627-82f5-4604-9429-f5a2497dee02"
      },
      "outputs": [
        {
          "output_type": "execute_result",
          "data": {
            "text/plain": [
              "200"
            ]
          },
          "metadata": {},
          "execution_count": 4
        }
      ],
      "source": [
        "response.status_code"
      ]
    },
    {
      "cell_type": "markdown",
      "metadata": {
        "id": "XirrpWlIYBCm"
      },
      "source": [
        "А вот в атрибуте text уже лежит html-код"
      ]
    },
    {
      "cell_type": "code",
      "execution_count": 8,
      "metadata": {
        "colab": {
          "base_uri": "https://localhost:8080/"
        },
        "id": "DQshGk0KYBCm",
        "outputId": "2322600a-ac5a-4c01-cb0b-b416f6b6627e"
      },
      "outputs": [
        {
          "output_type": "stream",
          "name": "stdout",
          "text": [
            "<!DOCTYPE html>\n",
            "<html lang=\"ru\" data-vue-meta=\"%7B%22lang%22:%7B%22ssr%22:%22ru%22%7D%7D\">\n",
            "<head >\n",
            "  <meta charset=\"UTF-8\">\n",
            "  <meta name=\"viewport\" content=\"width=device-width,initial-scale=1.0,viewport-fit=cover,maximum-scale=1,user-scalable=0\">\n",
            "  <meta name=\"referrer\" content=\"unsafe-url\">\n",
            "  <title>Все статьи подряд / Хабр</title>\n",
            "  <style>\n",
            "    /* cyrillic-ext */\n",
            "    @font-face {\n",
            "      font-family: 'Fira Sans';\n",
            "      font-style: normal;\n",
            "      font-weight: 500;\n",
            "      font-display: swap;\n",
            "      src: url(https://fonts.gstatic.com/s/firasans/v11/va9B4kDNxMZdWfMOD5VnZKveSxf6TF0.woff2) format('woff2');\n",
            "      unicode-range: U+0460-052F, U+1C80-1C88, U+20B4, U+2DE0-2DFF, U+A640-A69F, U+FE2E-FE2F;\n",
            " \n"
          ]
        }
      ],
      "source": [
        "print(response.text[:700])"
      ]
    },
    {
      "cell_type": "markdown",
      "metadata": {
        "id": "7cCgtLjqYBCm"
      },
      "source": [
        "Иногда сайт блокирует запросы, если их посылает не настоящий браузер с пользователем, а какой-то бот (например, так делает Гугл или Википедия). Иногда сайты присылают разные версии страниц, разным браузерам.  \n",
        "По этим причинам полезно бывает писать скрипт, который умеет притворяться то одним, то другим браузером.\n",
        "Когда мы пытаемся получить страницу в питоне, наш код по умолчанию честно сообщает серверу, что он является программой на питоне. Он говорит что-то вроде \"Привет, я Python-urllib/3.5\".\n",
        "Но можно, например, представиться Мозиллой:"
      ]
    },
    {
      "cell_type": "code",
      "execution_count": 9,
      "metadata": {
        "id": "4u5p2773YBCn"
      },
      "outputs": [],
      "source": [
        "url = 'https://habr.com/ru/'  # адрес страницы, которую мы хотим скачать\n",
        "user_agent = 'Mozilla/5.0 (Windows NT 6.1; Win64; x64)'  # хотим притворяться браузером\n",
        "\n",
        "response = requests.get(\"https://habr.com/ru/\", headers={'User-Agent':user_agent})"
      ]
    },
    {
      "cell_type": "markdown",
      "metadata": {
        "id": "DMZp4tBiYBCn"
      },
      "source": [
        "Или использовать специальную библиотеку"
      ]
    },
    {
      "cell_type": "code",
      "source": [
        "!pip install fake_useragent"
      ],
      "metadata": {
        "colab": {
          "base_uri": "https://localhost:8080/"
        },
        "id": "5fRMib2lYSFd",
        "outputId": "d446097b-43c1-46ef-e3c9-95f041ae46d9"
      },
      "execution_count": 10,
      "outputs": [
        {
          "output_type": "stream",
          "name": "stdout",
          "text": [
            "Collecting fake_useragent\n",
            "  Downloading fake_useragent-1.3.0-py3-none-any.whl (15 kB)\n",
            "Installing collected packages: fake_useragent\n",
            "Successfully installed fake_useragent-1.3.0\n"
          ]
        }
      ]
    },
    {
      "cell_type": "code",
      "execution_count": 11,
      "metadata": {
        "id": "y_0w_-A-YBCn"
      },
      "outputs": [],
      "source": [
        "from fake_useragent import UserAgent"
      ]
    },
    {
      "cell_type": "code",
      "execution_count": 12,
      "metadata": {
        "colab": {
          "base_uri": "https://localhost:8080/",
          "height": 54
        },
        "id": "PUkugL-5YBCn",
        "outputId": "e7c2d33f-bac7-4c4f-83d4-c06eb06aa66c"
      },
      "outputs": [
        {
          "output_type": "execute_result",
          "data": {
            "text/plain": [
              "'Mozilla/5.0 (Macintosh; Intel Mac OS X 10_15_7) AppleWebKit/537.36 (KHTML, like Gecko) Chrome/114.0.0.0 Safari/537.36'"
            ],
            "application/vnd.google.colaboratory.intrinsic+json": {
              "type": "string"
            }
          },
          "metadata": {},
          "execution_count": 12
        }
      ],
      "source": [
        "user_agent = UserAgent().chrome\n",
        "user_agent"
      ]
    },
    {
      "cell_type": "code",
      "execution_count": 13,
      "metadata": {
        "id": "j4dgguqxYBCn"
      },
      "outputs": [],
      "source": [
        "response = requests.get(\"https://habr.com/ru/\", headers={'User-Agent':user_agent})"
      ]
    },
    {
      "cell_type": "markdown",
      "metadata": {
        "id": "FOFbk0oZYBCn"
      },
      "source": [
        "Можно посмотреть, что еще можно достать из response.\n",
        "\n",
        "Функция ```dir``` выдает список методов и параметров объекта."
      ]
    },
    {
      "cell_type": "code",
      "execution_count": null,
      "metadata": {
        "id": "2fKF0vhmYBCn",
        "outputId": "25cfc1b9-edb9-439b-efbf-5e96373d0900"
      },
      "outputs": [
        {
          "data": {
            "text/plain": [
              "['apparent_encoding',\n",
              " 'close',\n",
              " 'connection',\n",
              " 'content',\n",
              " 'cookies',\n",
              " 'elapsed',\n",
              " 'encoding',\n",
              " 'headers',\n",
              " 'history',\n",
              " 'is_permanent_redirect',\n",
              " 'is_redirect',\n",
              " 'iter_content',\n",
              " 'iter_lines',\n",
              " 'json',\n",
              " 'links',\n",
              " 'next',\n",
              " 'ok',\n",
              " 'raise_for_status',\n",
              " 'raw',\n",
              " 'reason',\n",
              " 'request',\n",
              " 'status_code',\n",
              " 'text',\n",
              " 'url']"
            ]
          },
          "execution_count": 10,
          "metadata": {},
          "output_type": "execute_result"
        }
      ],
      "source": [
        "[i for i in dir(response) if not i.startswith(\"_\")]"
      ]
    },
    {
      "cell_type": "markdown",
      "metadata": {
        "id": "RKCyxiHvYBCo"
      },
      "source": [
        "Кодировка"
      ]
    },
    {
      "cell_type": "code",
      "execution_count": null,
      "metadata": {
        "id": "gkqXDUDHYBCo",
        "outputId": "54d87484-3162-4578-d3cb-54d0b5c5ced6"
      },
      "outputs": [
        {
          "data": {
            "text/plain": [
              "'utf-8'"
            ]
          },
          "execution_count": 11,
          "metadata": {},
          "output_type": "execute_result"
        }
      ],
      "source": [
        "response.encoding"
      ]
    },
    {
      "cell_type": "markdown",
      "metadata": {
        "id": "qy8svnQ7YBCo"
      },
      "source": [
        "Заголовки (техническая информация)"
      ]
    },
    {
      "cell_type": "code",
      "execution_count": 14,
      "metadata": {
        "colab": {
          "base_uri": "https://localhost:8080/"
        },
        "id": "5GOa4MZsYBCo",
        "outputId": "42bfa02a-018b-400f-c5b8-5d5b9b7dbaa8"
      },
      "outputs": [
        {
          "output_type": "execute_result",
          "data": {
            "text/plain": [
              "{'Server': 'QRATOR',\n",
              " 'Date': 'Thu, 02 Nov 2023 09:33:36 GMT',\n",
              " 'Content-Type': 'text/html; charset=utf-8',\n",
              " 'Transfer-Encoding': 'chunked',\n",
              " 'Connection': 'keep-alive',\n",
              " 'Keep-Alive': 'timeout=15',\n",
              " 'Vary': 'Accept-Encoding, Accept-Encoding',\n",
              " 'X-DNS-Prefetch-Control': 'off',\n",
              " 'X-Frame-Options': 'SAMEORIGIN',\n",
              " 'X-Download-Options': 'noopen',\n",
              " 'X-Content-Type-Options': 'nosniff',\n",
              " 'X-XSS-Protection': '1; mode=block',\n",
              " 'Cache-Control': 'no-store, no-cache, must-revalidate',\n",
              " 'Pragma': 'no-cache',\n",
              " 'Expires': '0',\n",
              " 'ETag': 'W/\"543c9-XyEacIKmX3mPK6ZOSbNYdDOZQKY\"',\n",
              " 'Strict-Transport-Security': 'max-age=31536000; includeSubDomains',\n",
              " 'X-Request-Id': '7a79a474a4681731e664e9d0acf4cb0c',\n",
              " 'X-Request-Geoip-Country-Code': 'US',\n",
              " 'X-Request-Detected-Device': 'desktop',\n",
              " 'Content-Encoding': 'gzip'}"
            ]
          },
          "metadata": {},
          "execution_count": 14
        }
      ],
      "source": [
        "dict(response.headers)"
      ]
    },
    {
      "cell_type": "markdown",
      "metadata": {
        "id": "3fILLEeuYBCo"
      },
      "source": [
        "Адрес запроса"
      ]
    },
    {
      "cell_type": "code",
      "execution_count": 15,
      "metadata": {
        "colab": {
          "base_uri": "https://localhost:8080/",
          "height": 36
        },
        "id": "Rv6vs1D_YBCo",
        "outputId": "12177fab-8782-4977-ce0f-be17bbcdd529"
      },
      "outputs": [
        {
          "output_type": "execute_result",
          "data": {
            "text/plain": [
              "'https://habr.com/ru/articles/'"
            ],
            "application/vnd.google.colaboratory.intrinsic+json": {
              "type": "string"
            }
          },
          "metadata": {},
          "execution_count": 15
        }
      ],
      "source": [
        "response.url"
      ]
    },
    {
      "cell_type": "code",
      "execution_count": 16,
      "metadata": {
        "colab": {
          "base_uri": "https://localhost:8080/"
        },
        "id": "Sj9AzfewYBCp",
        "outputId": "bab891f6-c09d-455a-b4fc-287a0a4dea84"
      },
      "outputs": [
        {
          "output_type": "stream",
          "name": "stdout",
          "text": [
            "<!DOCTYPE html>\n",
            "<html lang=\"ru\" data-vue-meta=\"%7B%22lang%22:%7B%22ssr%22:%22ru%22%7D%7D\">\n",
            "<head >\n",
            "  <meta charset=\"UTF-8\">\n",
            "  <meta name=\"viewport\" content=\"width=device-width,initial-scale=1.0,viewport-fit=cover,maximum-scale=1,user-scalable=0\">\n",
            "  <meta name=\"referrer\" content=\"unsafe-url\">\n",
            "  <titl\n"
          ]
        }
      ],
      "source": [
        "print(response.text[:300])"
      ]
    },
    {
      "cell_type": "markdown",
      "metadata": {
        "id": "wadZX78JYBCp"
      },
      "source": [
        "Ура, всё на месте!\n",
        "\n",
        "Но что всё это значит? Что такое html и как вообще из него доставать какую-то информацию?\n",
        "\n",
        "Ответ: по **тегам**! Например, в куске html сверху есть теги `<title> </title>` (теги всегда обрамляют с двух сторон то, что находится под этим тегом). В `<title>` в данном случае лежит заголовок этой интернет-страницы.\n",
        "\n",
        "Существует несколько вариантов, как достать что-то из определенного тега, например, достать заголовок:\n",
        "\n",
        "1. регулярные выражения (плохой вариант)\n",
        "2. специальные библиотеки питона, например, BeautifulSoup (bs4) или lxml (хороший вариант)"
      ]
    },
    {
      "cell_type": "markdown",
      "metadata": {
        "id": "N-AOP79BYBCp"
      },
      "source": [
        "## BeautifulSoup\n",
        "\n",
        "Код страницы парсится как иерархия тегов (как они есть в html коде, один вложен в другой) и можно искать элементы с помощью разных методов, использовать атрибуты и т.д."
      ]
    },
    {
      "cell_type": "code",
      "execution_count": 17,
      "metadata": {
        "id": "QVL8TDopYBCp"
      },
      "outputs": [],
      "source": [
        "from bs4 import BeautifulSoup"
      ]
    },
    {
      "cell_type": "markdown",
      "metadata": {
        "id": "3RwP4AN9YBCp"
      },
      "source": [
        "Сначала инициализируем объект BeautifulSoup. Потом применим метод find и в скобочках укажем теги, по которым ищем. У некоторых тегов в html (как и в нашем случае) бывает еще и class и какие-нибудь еще атрибуты. Такие вещи мы задаем словариком.\n",
        "\n",
        "Этот запрос вернёт нам только первый заголовок. То есть первое вхождение такого тега в нашем html файле."
      ]
    },
    {
      "cell_type": "code",
      "execution_count": 20,
      "metadata": {
        "colab": {
          "base_uri": "https://localhost:8080/"
        },
        "id": "M28-oqzAYBCp",
        "outputId": "126ba32c-9281-47c1-eabc-262c0b5d3f93"
      },
      "outputs": [
        {
          "output_type": "stream",
          "name": "stdout",
          "text": [
            "Обзор Llemma: новая математическая open-source модель\n",
            "\n",
            "\n",
            "<h2 class=\"tm-title tm-title_h2\">\n",
            " <a class=\"tm-title__link\" data-article-link=\"true\" data-test-id=\"article-snippet-title-link\" href=\"/ru/companies/mts_ai/articles/771476/\">\n",
            "  <span>\n",
            "   Обзор Llemma: новая математическая open-source модель\n",
            "  </span>\n",
            " </a>\n",
            "</h2>\n",
            "\n"
          ]
        }
      ],
      "source": [
        "soup = BeautifulSoup(response.text, 'html.parser')  # инициализируем (создаем) soup\n",
        "\n",
        "post = soup.find('h2', {'class': 'tm-title tm-title_h2'})\n",
        "print(post.get_text(), end=\"\\n\\n\\n\")\n",
        "print(post.prettify())"
      ]
    },
    {
      "cell_type": "markdown",
      "metadata": {
        "id": "vVN9z_TBYBCq"
      },
      "source": [
        "Но мы хотим получить все заголовки постов! Метод find_all возвращает массив всех элементов с тегом указанным в скобках. По нему можно итерироваться."
      ]
    },
    {
      "cell_type": "code",
      "execution_count": 21,
      "metadata": {
        "colab": {
          "base_uri": "https://localhost:8080/"
        },
        "id": "Itv0BRL6YBCq",
        "outputId": "7efc0918-402e-4e9b-9d62-ba0abfe98474"
      },
      "outputs": [
        {
          "output_type": "stream",
          "name": "stdout",
          "text": [
            "Обзор Llemma: новая математическая open-source модель\n",
            "<h2 class=\"tm-title tm-title_h2\">\n",
            " <a class=\"tm-title__link\" data-article-link=\"true\" data-test-id=\"article-snippet-title-link\" href=\"/ru/companies/mts_ai/articles/771476/\">\n",
            "  <span>\n",
            "   Обзор Llemma: новая математическая open-source модель\n",
            "  </span>\n",
            " </a>\n",
            "</h2>\n",
            "\n",
            "-- -- -- -- -- -- -- -- -- -- \n",
            "Из фото в 3D, ч.1: геометрия формирования изображения\n",
            "<h2 class=\"tm-title tm-title_h2\">\n",
            " <a class=\"tm-title__link\" data-article-link=\"true\" data-test-id=\"article-snippet-title-link\" href=\"/ru/companies/magnus-tech/articles/770930/\">\n",
            "  <span>\n",
            "   Из фото в 3D, ч.1: геометрия формирования изображения\n",
            "  </span>\n",
            " </a>\n",
            "</h2>\n",
            "\n",
            "-- -- -- -- -- -- -- -- -- -- \n",
            "Как провести курс для разработчиков (за 1.5 млн) в маленькой компании и не сойти с ума\n",
            "<h2 class=\"tm-title tm-title_h2\">\n",
            " <a class=\"tm-title__link\" data-article-link=\"true\" data-test-id=\"article-snippet-title-link\" href=\"/ru/articles/771466/\">\n",
            "  <span>\n",
            "   Как провести курс для разработчиков (за 1.5 млн) в маленькой компании и не сойти с ума\n",
            "  </span>\n",
            " </a>\n",
            "</h2>\n",
            "\n",
            "-- -- -- -- -- -- -- -- -- -- \n"
          ]
        }
      ],
      "source": [
        "for post in soup.find_all('h2', {'class': 'tm-title tm-title_h2'})[:3]:\n",
        "    print(post.get_text())\n",
        "    print(post.prettify())\n",
        "\n",
        "    print('-- '*10)  # для красоты"
      ]
    },
    {
      "cell_type": "markdown",
      "metadata": {
        "id": "vRbMZDOEYBCq"
      },
      "source": [
        "## Задание на семинар 1\n",
        "\n",
        "А что если мы хотим зайти еще глубже по дереву тегов и, например, для каждого заголовка поста найти никнейм юзера, который написал этот пост, и время написания поста?\n",
        "\n",
        "Для этого надо снова зайти в просмотор кода страницы и увидеть, что там просиходит что-то такое:\n",
        "\n",
        "(Заодно обратите внимание, как пишутся комменты в html)"
      ]
    },
    {
      "cell_type": "markdown",
      "source": [
        "```\n",
        "<article class=\"tm-articles-list__item\" data-navigatable=\"\" id=\"771476\" tabindex=\"0\">\n",
        " <div class=\"tm-article-snippet tm-article-snippet\">\n",
        "  <div class=\"tm-article-snippet__meta-container\">\n",
        "   <div class=\"tm-article-snippet__meta\">\n",
        "    <span class=\"tm-user-info tm-article-snippet__author\">\n",
        "     <a class=\"tm-user-info__userpic\" href=\"/ru/users/darinka666/\" title=\"darinka666\">\n",
        "      <div class=\"tm-entity-image\">\n",
        "       <img alt=\"\" class=\"tm-entity-image__pic\" height=\"24\" src=\"https://assets.habr.com/habr-web/img/avatars/093.png\" width=\"24\"/>\n",
        "      </div>\n",
        "     </a>\n",
        "     <span class=\"tm-user-info__user tm-user-info__user_appearance-default\">\n",
        "      <a class=\"tm-user-info__username\" href=\"/ru/users/darinka666/\">\n",
        "       darinka666\n",
        "       <!-- -->\n",
        "      </a>\n",
        "      <span class=\"tm-article-datetime-published\">\n",
        "       <time datetime=\"2023-11-02T09:22:25.000Z\" title=\"2023-11-02, 12:22\">\n",
        "        11 минут назад\n",
        "       </time>\n",
        "      </span>\n",
        "     </span>\n",
        "    </span>\n",
        "   </div>\n",
        "   <!-- -->\n",
        "  </div>\n",
        "  <h2 class=\"tm-title tm-title_h2\">\n",
        "   <a class=\"tm-title__link\" data-article-link=\"true\" data-test-id=\"article-snippet-title-link\" href=\"/ru/companies/mts_ai/articles/771476/\">\n",
        "    <span>\n",
        "     Обзор Llemma: новая математическая open-source модель\n",
        "    </span>\n",
        "   </a>\n",
        "  </h2>\n",
        "  <div class=\"tm-article-snippet__stats\">\n",
        "   <div class=\"tm-article-complexity tm-article-complexity_complexity-medium\">\n",
        "    <span class=\"tm-svg-icon__wrapper tm-article-complexity__icon\">\n",
        "     <svg class=\"tm-svg-img tm-svg-icon\" height=\"24\" width=\"24\">\n",
        "      <title>\n",
        "       Уровень сложности\n",
        "      </title>\n",
        "      <use xlink:href=\"/img/megazord-v28.2fb1b1c1..svg#complexity-medium\">\n",
        "      </use>\n",
        "     </svg>\n",
        "    </span>\n",
        "    <span class=\"tm-article-complexity__label\">\n",
        "     Средний\n",
        "    </span>\n",
        "   </div>\n",
        "```\n",
        "(и так далее; часть вывода обрезана: обратите внимание, нет закрывающего тега `</article>`)"
      ],
      "metadata": {
        "id": "NP1aFnk3Y1-x"
      }
    },
    {
      "cell_type": "code",
      "source": [
        "for post in soup.find_all(\"article\")[:3]:\n",
        "    print(\"TEXT:\")\n",
        "    print(post.get_text()[:1000])\n",
        "    print('-- '*10)\n",
        "    print(\"HTML:\")\n",
        "    print(post.prettify()[:2000])\n",
        "\n",
        "    print('-- '*10)\n",
        "    print('-- '*10)\n",
        "    print('-- '*10)"
      ],
      "metadata": {
        "id": "kMamlB_4ZExT"
      },
      "execution_count": 32,
      "outputs": []
    },
    {
      "cell_type": "markdown",
      "metadata": {
        "id": "Vtti9jzmYBCr"
      },
      "source": [
        "## Задание на семинар 2\n",
        "\n",
        "Скачать главную страницу Яндекс.Погоды и\n",
        "    \n",
        "- а) распечатать сегодняшнюю температуру и облачность\n",
        "- б) распечатать время восхода и заката\n",
        "- в) погоду на завтра"
      ]
    },
    {
      "cell_type": "markdown",
      "source": [
        "Простая версия: вместо Яндекс.Погоды возьмите [этот](https://simple-weather-website.netlify.app/) сайт и получите температуру, влажность и скорость ветра"
      ],
      "metadata": {
        "id": "PhTHnk9obW2_"
      }
    },
    {
      "cell_type": "markdown",
      "metadata": {
        "id": "q_7F_56RYBCr"
      },
      "source": [
        "## Хорошая статья про это все\n",
        "\n",
        "[https://sysblok.ru/courses/obkachka-sajtov-svoimi-rukami-razbiraemsja-s-html/](https://sysblok.ru/courses/obkachka-sajtov-svoimi-rukami-razbiraemsja-s-html/)"
      ]
    },
    {
      "cell_type": "markdown",
      "source": [
        "# Бонус"
      ],
      "metadata": {
        "id": "VzMuRjYqfDVW"
      }
    },
    {
      "cell_type": "markdown",
      "source": [
        "Иногда можно не изгаляться с html, а воспользоваться специальным инструментом: **API**\n",
        "\n",
        "API расшифровывается как Application Programming Interface. Это набор правил, которыми одна программа может общаться и взаимодействовать с другой, в том числе с сайтами. Например, \"сделай запрос к такой-то странице в таком-то формате, чтобы получить JSON с данными о погоде и не парсить HTML руками\"\n",
        "\n",
        "Но сначала пример попроще:"
      ],
      "metadata": {
        "id": "pggKMj-sfJ3k"
      }
    },
    {
      "cell_type": "code",
      "source": [
        "shibe = requests.get(\"http://shibe.online/api/shibes?count=1\")"
      ],
      "metadata": {
        "id": "IUURHDgVfCsB"
      },
      "execution_count": 39,
      "outputs": []
    },
    {
      "cell_type": "markdown",
      "source": [
        "Обратите внимание, что `.text` вернет нам *строку*:"
      ],
      "metadata": {
        "id": "jnwDqQZ3gE9R"
      }
    },
    {
      "cell_type": "code",
      "source": [
        "shibe.text"
      ],
      "metadata": {
        "colab": {
          "base_uri": "https://localhost:8080/",
          "height": 36
        },
        "id": "McKzVvz1fUzE",
        "outputId": "6b126c86-baa5-4a8e-e720-7ae80c3ef5c9"
      },
      "execution_count": 40,
      "outputs": [
        {
          "output_type": "execute_result",
          "data": {
            "text/plain": [
              "'[\"https://cdn.shibe.online/shibes/e5c085fc427528fee7d4c3935ff4cd79af834a82.jpg\"]'"
            ],
            "application/vnd.google.colaboratory.intrinsic+json": {
              "type": "string"
            }
          },
          "metadata": {},
          "execution_count": 40
        }
      ]
    },
    {
      "cell_type": "markdown",
      "source": [
        "Но у респонза есть еще метод `.json()`. В данном случае он сразу приведет к списку (а если бы API возвращало словарь с несколькими ключами — к словарю)\n",
        "\n"
      ],
      "metadata": {
        "id": "BVKEivgTgKZD"
      }
    },
    {
      "cell_type": "code",
      "source": [
        "shibe.json()"
      ],
      "metadata": {
        "colab": {
          "base_uri": "https://localhost:8080/"
        },
        "id": "inM_t4xbfVWY",
        "outputId": "29ff01e0-f663-4889-cf74-076b8f3498c5"
      },
      "execution_count": 41,
      "outputs": [
        {
          "output_type": "execute_result",
          "data": {
            "text/plain": [
              "['https://cdn.shibe.online/shibes/e5c085fc427528fee7d4c3935ff4cd79af834a82.jpg']"
            ]
          },
          "metadata": {},
          "execution_count": 41
        }
      ]
    },
    {
      "cell_type": "markdown",
      "source": [
        "Более сложный, но и более интересный пример: https://newsapi.org/\n",
        "\n",
        " На главной нужно получить ключ. Многие API доступны только по ключам: например, API гитхаба так определяет, к каким репозиториям у вас есть доступ, а к каким нет; некоторые API ограничивают число запросов на одного пользователя; и т.д.\n",
        "\n",
        " **Ключ — это личная информация**, как, например, пароль. Ключ нежелательно вставлять в код, потому что будет легко забыть его удалить перед тем, как вы где-то этот код опубликуете. Лучше положить в отдельный файл и его читать:"
      ],
      "metadata": {
        "id": "UKid0Ct2jZgD"
      }
    },
    {
      "cell_type": "code",
      "source": [
        "with open(\"news_api_key.txt\", \"r\") as f:\n",
        "  api_key = f.read()"
      ],
      "metadata": {
        "id": "emsYdMpsj60i"
      },
      "execution_count": 61,
      "outputs": []
    },
    {
      "cell_type": "markdown",
      "source": [
        "Какие параметры можно указывать в запросе, смотрите здесь: https://newsapi.org/docs/endpoints/everything"
      ],
      "metadata": {
        "id": "NSKdtTOxmPvI"
      }
    },
    {
      "cell_type": "code",
      "source": [
        "news = requests.get(\n",
        "    f\"https://newsapi.org/v2/everything?q=Apple&from=2023-11-01&sortBy=popularity&apiKey={api_key}\"\n",
        "    ).json()"
      ],
      "metadata": {
        "id": "zztCyXuRj6DX"
      },
      "execution_count": 79,
      "outputs": []
    },
    {
      "cell_type": "code",
      "source": [
        "news[\"totalResults\"]"
      ],
      "metadata": {
        "colab": {
          "base_uri": "https://localhost:8080/"
        },
        "id": "MWYNfFPklm0-",
        "outputId": "9b4decb6-ed30-4398-e213-b8a2acbd98a6"
      },
      "execution_count": 80,
      "outputs": [
        {
          "output_type": "execute_result",
          "data": {
            "text/plain": [
              "574"
            ]
          },
          "metadata": {},
          "execution_count": 80
        }
      ]
    },
    {
      "cell_type": "code",
      "source": [
        "articles = news[\"articles\"][:5]"
      ],
      "metadata": {
        "id": "of0t89UlmfFO"
      },
      "execution_count": 81,
      "outputs": []
    },
    {
      "cell_type": "code",
      "source": [
        "articles"
      ],
      "metadata": {
        "colab": {
          "base_uri": "https://localhost:8080/"
        },
        "id": "g9rKyilCmhoS",
        "outputId": "175d1172-f916-4647-dd40-80943c4b91a4"
      },
      "execution_count": 84,
      "outputs": [
        {
          "output_type": "execute_result",
          "data": {
            "text/plain": [
              "[{'source': {'id': 'engadget', 'name': 'Engadget'},\n",
              "  'author': 'Mariella Moon',\n",
              "  'title': 'Google and Match Group settle antitrust case before it goes to trial',\n",
              "  'description': 'The antitrust lawsuit Epic Games and Match Group have filed against Google was supposed to go to trial on November 6, but now it looks like the video game developer might go at it alone. Google and Match, the parent company of Tinder, OkCupid and Hinge, have …',\n",
              "  'url': 'https://www.engadget.com/google-and-match-group-settle-antitrust-case-before-it-goes-to-trial-041158809.html',\n",
              "  'urlToImage': 'https://s.yimg.com/ny/api/res/1.2/2.umw5DEZTxqv1czt7En9A--/YXBwaWQ9aGlnaGxhbmRlcjt3PTEyMDA7aD04MDA-/https://s.yimg.com/os/creatr-uploaded-images/2023-10/871dbd80-7864-11ee-9f3f-9642d3093703',\n",
              "  'publishedAt': '2023-11-01T04:11:58Z',\n",
              "  'content': 'The antitrust lawsuit Epic Games and Match Group have filed against Google was supposed to go to trial on November 6, but now it looks like the video game developer might go at it alone. Google and M… [+2505 chars]'},\n",
              " {'source': {'id': None, 'name': 'Android Central'},\n",
              "  'author': 'michael.hicks@futurenet.com (Michael L Hicks)',\n",
              "  'title': \"Apple and Samsung lost market share to a phone brand you've never heard of\",\n",
              "  'description': 'Samsung, Apple, Xiaomi, and OPPO still claim the top four spots, but Transsion has leaped past Huawei and vivo for the fifth spot in global phone sales.',\n",
              "  'url': 'https://www.androidcentral.com/phones/canalys-q3-2023-global-smartphone-sales',\n",
              "  'urlToImage': 'https://cdn.mos.cms.futurecdn.net/jSa5GjRPha2w9eazo8nnQS-1200-80.jpg',\n",
              "  'publishedAt': '2023-11-01T01:00:09Z',\n",
              "  'content': '<ul><li>Worldwide smartphone sales in Q3 2023 hit about 300 million, a 1% dip compared to last year, according to Canalys.\\xa0</li><li>Apple, Samsung, and OPPO all lost worldwide market share compared t… [+3041 chars]'},\n",
              " {'source': {'id': 'business-insider', 'name': 'Business Insider'},\n",
              "  'author': 'Huileng Tan,George Glover',\n",
              "  'title': 'The US economy is surging - but problems elsewhere could still torpedo profits for big companies like Apple and Tesla',\n",
              "  'description': \"China's slowing economy and the war between Israel and Hamas are spooking top American executives despite the US's stellar GDP numbers.\",\n",
              "  'url': 'https://www.businessinsider.com/us-economy-surging-problems-elsewhere-risks-american-companies-apple-tesla-2023-10',\n",
              "  'urlToImage': 'https://i.insider.com/653fadee356802a56be743d7?width=1200&format=jpeg',\n",
              "  'publishedAt': '2023-11-01T10:09:28Z',\n",
              "  'content': \"Tesla CEO Elon Musk at the EV maker's Shanghai gigafactory in 2019.Aly Song/Reuters\\r\\n<ul>\\n<li>The US economy is surging, with growth coming in at a hotter-than-expected 4.9% for the third quarter.</l… [+4983 chars]\"},\n",
              " {'source': {'id': 'business-insider', 'name': 'Business Insider'},\n",
              "  'author': 'Matthew Loh',\n",
              "  'title': 'Telegram rarely bans channels. Israel-Gaza forced it to step in.',\n",
              "  'description': 'Telegram, which is known for its message encryption and lax moderation, restricted two official Hamas channels on Android devices earlier this month.',\n",
              "  'url': 'https://www.businessinsider.com/telegram-channel-ban-israel-gaza-dagestan-russia-airport-durov-2023-10',\n",
              "  'urlToImage': 'https://i.insider.com/65409f8c96f7540cd069f15b?width=1200&format=jpeg',\n",
              "  'publishedAt': '2023-11-01T09:05:43Z',\n",
              "  'content': 'Pro Palestinian protesters burn an effigy of Israeli Prime Minister Benjamin Netanyahu on October 20, 2023 in Istanbul, Turkey.Burak Kara/Getty Images\\r\\n<ul>\\n<li>Telegram banned a channel on the groun… [+6747 chars]'},\n",
              " {'source': {'id': None, 'name': 'Hipertextual'},\n",
              "  'author': 'José María López',\n",
              "  'title': 'Pasa a limpio tus notas y apuntes copiando el texto de una imagen desde iOS y Android',\n",
              "  'description': 'Obtener texto a partir de una imagen. Es decir, haces una fotografía de una hoja de papel, mecanografiada o manuscrita, y de esa imagen extraes el texto para poder editarlo en un dispositivo que tenga un editor de textos. Sacar texto de una imagen es hoy muy …',\n",
              "  'url': 'http://hipertextual.com/2023/11/sacar-texto-imagen',\n",
              "  'urlToImage': 'https://i0.wp.com/imgs.hipertextual.com/wp-content/uploads/2023/07/Texto-Imagen-Google-Lens-Live-Text.jpg?fit=1920%2C1280&quality=50&strip=all&ssl=1',\n",
              "  'publishedAt': '2023-11-01T01:01:00Z',\n",
              "  'content': 'Obtener texto a partir de una imagen. Es decir, haces una fotografía de una hoja de papel, mecanografiada o manuscrita, y de esa imagen extraes el texto para poder editarlo en un dispositivo que teng… [+4914 chars]'}]"
            ]
          },
          "metadata": {},
          "execution_count": 84
        }
      ]
    },
    {
      "cell_type": "markdown",
      "source": [
        "Другие API:\n",
        "\n",
        "1. OpenWeatherMap (https://openweathermap.org/api) - предоставляет информацию о погоде, прогнозы и исторические данные по всему миру. Есть бесплатный лимит запросов, но все равно требуется ввести данные банковской карты.\n",
        "\n",
        "2. GitHub (https://developer.github.com/v3/) - API для доступа к данным о репозиториях, пользователях, коммитах и т.д.\n",
        "\n",
        "3. Open Trivia API (https://opentdb.com/api_config.php) - API для получения вопросов и ответов из базы данных триивиума (викторины)."
      ],
      "metadata": {
        "id": "ACWKMBkvmyHq"
      }
    },
    {
      "cell_type": "code",
      "source": [
        "requests.get(\"https://opentdb.com/api.php?amount=10\").json()"
      ],
      "metadata": {
        "colab": {
          "base_uri": "https://localhost:8080/"
        },
        "id": "rQ11bbCVnSHZ",
        "outputId": "56363987-3672-4ada-dbe6-9b140bccac43"
      },
      "execution_count": 88,
      "outputs": [
        {
          "output_type": "execute_result",
          "data": {
            "text/plain": [
              "{'response_code': 0,\n",
              " 'results': [{'category': 'Entertainment: Video Games',\n",
              "   'type': 'multiple',\n",
              "   'difficulty': 'hard',\n",
              "   'question': 'What was the name of the hero in the 80s animated video game &#039;Dragon&#039;s Lair&#039;?',\n",
              "   'correct_answer': 'Dirk the Daring',\n",
              "   'incorrect_answers': ['Arthur', 'Sir Toby Belch', 'Guy of Gisbourne']},\n",
              "  {'category': 'Entertainment: Music',\n",
              "   'type': 'boolean',\n",
              "   'difficulty': 'easy',\n",
              "   'question': 'Eurobeat is primarily an Italian genre of music.',\n",
              "   'correct_answer': 'True',\n",
              "   'incorrect_answers': ['False']},\n",
              "  {'category': 'Celebrities',\n",
              "   'type': 'multiple',\n",
              "   'difficulty': 'medium',\n",
              "   'question': 'Donald J. Trump&#039;s Middle Name is...',\n",
              "   'correct_answer': 'John',\n",
              "   'incorrect_answers': ['Jeff', 'Jerald', 'Jason']},\n",
              "  {'category': 'Vehicles',\n",
              "   'type': 'multiple',\n",
              "   'difficulty': 'hard',\n",
              "   'question': 'What engine is in the Lexus SC400?',\n",
              "   'correct_answer': '1UZ-FE',\n",
              "   'incorrect_answers': ['2JZ-GTE', '7M-GTE', '5M-GE']},\n",
              "  {'category': 'Science: Computers',\n",
              "   'type': 'boolean',\n",
              "   'difficulty': 'easy',\n",
              "   'question': 'Time on Computers is measured via the EPOX System.',\n",
              "   'correct_answer': 'False',\n",
              "   'incorrect_answers': ['True']},\n",
              "  {'category': 'Politics',\n",
              "   'type': 'boolean',\n",
              "   'difficulty': 'easy',\n",
              "   'question': 'Former president Theodore Roosevelt (1900-1908)  ran for another term under the Progressive Party in 1912.',\n",
              "   'correct_answer': 'True',\n",
              "   'incorrect_answers': ['False']},\n",
              "  {'category': 'Entertainment: Video Games',\n",
              "   'type': 'boolean',\n",
              "   'difficulty': 'easy',\n",
              "   'question': 'In the &quot;S.T.A.L.K.E.R.&quot; series, the Freedom faction wishes to destroy the supernatural area known as  &quot;the Zone&quot;.',\n",
              "   'correct_answer': 'False',\n",
              "   'incorrect_answers': ['True']},\n",
              "  {'category': 'Entertainment: Film',\n",
              "   'type': 'multiple',\n",
              "   'difficulty': 'hard',\n",
              "   'question': 'Which boxer was famous for striking the gong in the introduction to J. Arthur Rank films?',\n",
              "   'correct_answer': 'Bombardier Billy Wells',\n",
              "   'incorrect_answers': ['Freddie Mills', 'Terry Spinks', 'Don Cockell']},\n",
              "  {'category': 'General Knowledge',\n",
              "   'type': 'boolean',\n",
              "   'difficulty': 'medium',\n",
              "   'question': 'Instant mashed potatoes were invented by Canadian Edward Asselbergs in 1962.',\n",
              "   'correct_answer': 'True',\n",
              "   'incorrect_answers': ['False']},\n",
              "  {'category': 'General Knowledge',\n",
              "   'type': 'multiple',\n",
              "   'difficulty': 'easy',\n",
              "   'question': 'The &ldquo;fairy&rdquo; type made it&rsquo;s debut in which generation of the Pokemon core series games?',\n",
              "   'correct_answer': '6th',\n",
              "   'incorrect_answers': ['2nd', '7th', '4th']}]}"
            ]
          },
          "metadata": {},
          "execution_count": 88
        }
      ]
    },
    {
      "cell_type": "markdown",
      "source": [
        "А еще есть Drama Corpus, который делали в том числе при участии Школы Лингвистики: https://dracor.org/doc/api"
      ],
      "metadata": {
        "id": "i2E9CEKwoIjU"
      }
    },
    {
      "cell_type": "code",
      "source": [
        "requests.get(\"https://dracor.org/api/corpora/rus/play/gogol-revizor/cast\").json()[:5]"
      ],
      "metadata": {
        "colab": {
          "base_uri": "https://localhost:8080/"
        },
        "id": "LnjK3RjIn3az",
        "outputId": "d688a475-7461-469a-dc97-21f9f1295613"
      },
      "execution_count": 91,
      "outputs": [
        {
          "output_type": "execute_result",
          "data": {
            "text/plain": [
              "[{'id': 'gorodnichij',\n",
              "  'name': 'Городничий',\n",
              "  'isGroup': False,\n",
              "  'gender': 'MALE',\n",
              "  'numOfScenes': 21,\n",
              "  'numOfSpeechActs': 172,\n",
              "  'numOfWords': 4991,\n",
              "  'degree': 26,\n",
              "  'weightedDegree': 84,\n",
              "  'closeness': 0.8760416666666667,\n",
              "  'betweenness': 0.1264602852635307,\n",
              "  'eigenvector': 0.24182361124623364},\n",
              " {'id': 'ammos_fedorovich_ljapkin_tjapkin',\n",
              "  'name': 'Аммос Федорович',\n",
              "  'isGroup': False,\n",
              "  'gender': 'MALE',\n",
              "  'numOfScenes': 8,\n",
              "  'numOfSpeechActs': 49,\n",
              "  'numOfWords': 748,\n",
              "  'degree': 21,\n",
              "  'weightedDegree': 54,\n",
              "  'closeness': 0.7377192982456141,\n",
              "  'betweenness': 0.010129431082777935,\n",
              "  'eigenvector': 0.23046261804194926},\n",
              " {'id': 'artemij_filippovich_zemljanika',\n",
              "  'name': 'Артемий Филиппович Земляника',\n",
              "  'isGroup': False,\n",
              "  'gender': 'MALE',\n",
              "  'numOfScenes': 10,\n",
              "  'numOfSpeechActs': 51,\n",
              "  'numOfWords': 737,\n",
              "  'degree': 21,\n",
              "  'weightedDegree': 63,\n",
              "  'closeness': 0.7377192982456141,\n",
              "  'betweenness': 0.010129431082777935,\n",
              "  'eigenvector': 0.23046261804194926},\n",
              " {'id': 'luka_lukich',\n",
              "  'name': 'Лука Лукич',\n",
              "  'isGroup': False,\n",
              "  'gender': 'MALE',\n",
              "  'numOfScenes': 9,\n",
              "  'numOfSpeechActs': 25,\n",
              "  'numOfWords': 294,\n",
              "  'degree': 21,\n",
              "  'weightedDegree': 61,\n",
              "  'closeness': 0.7377192982456141,\n",
              "  'betweenness': 0.010129431082777935,\n",
              "  'eigenvector': 0.23046261804194926},\n",
              " {'id': 'lekar',\n",
              "  'name': 'Лекарь Христиан Иванович',\n",
              "  'isGroup': False,\n",
              "  'gender': 'MALE',\n",
              "  'numOfScenes': 2,\n",
              "  'numOfSpeechActs': 2,\n",
              "  'numOfWords': 3,\n",
              "  'degree': 9,\n",
              "  'weightedDegree': 13,\n",
              "  'closeness': 0.5391025641025641,\n",
              "  'betweenness': 0,\n",
              "  'eigenvector': 0.1033485550907006}]"
            ]
          },
          "metadata": {},
          "execution_count": 91
        }
      ]
    },
    {
      "cell_type": "code",
      "source": [],
      "metadata": {
        "id": "sTvupEdOiGkv"
      },
      "execution_count": null,
      "outputs": []
    }
  ],
  "metadata": {
    "kernelspec": {
      "display_name": "Python 3",
      "language": "python",
      "name": "python3"
    },
    "language_info": {
      "codemirror_mode": {
        "name": "ipython",
        "version": 3
      },
      "file_extension": ".py",
      "mimetype": "text/x-python",
      "name": "python",
      "nbconvert_exporter": "python",
      "pygments_lexer": "ipython3",
      "version": "3.8.10"
    },
    "colab": {
      "provenance": []
    }
  },
  "nbformat": 4,
  "nbformat_minor": 0
}