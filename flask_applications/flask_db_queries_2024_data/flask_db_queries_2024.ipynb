{
  "cells": [
    {
      "cell_type": "markdown",
      "metadata": {
        "id": "VF-RQtH-YX7k"
      },
      "source": [
        "# Flask (продолжение)"
      ]
    },
    {
      "cell_type": "markdown",
      "metadata": {
        "id": "t-0HsMB9hlLZ"
      },
      "source": [
        "## Flask и Базы данных"
      ]
    },
    {
      "cell_type": "markdown",
      "metadata": {
        "id": "PjH3ILzBhlLb"
      },
      "source": [
        "Для того, чтобы удобно было работать с базами в обычных программах (особенно в приложениях), придумали **ORM** (Object-Relational Mapping, объектно-реляционное отображение, или преобразование).\n",
        "\n",
        "ORM $-$ это специальный инструмент для перевода объектов в БД в удобную форму для этого языка программирования (например, в классы питона). Так как мы пока не вспоминали классы глубоко, можно привести пример `pymorphy`, где разбор имел разные атрибуты (которые вызывались через точку) и внутри них значения или более сложная структура (`.tag` имел еще `.tag.POS` и т.д.)."
      ]
    },
    {
      "cell_type": "markdown",
      "metadata": {
        "id": "rGdAls-ghlLc"
      },
      "source": [
        "Предположим, что мы хотим сделать лингвистическую анкету и у нас есть такая вводная информация:\n",
        "\n",
        "\n",
        "- Мы хотим собрать информацию про информанта (гендер, уровень образования и возраст)\n",
        "- У нас есть два вопроса на оценку предложений\n",
        "- И нужно куда-то сохранять результаты\n",
        "\n",
        "\n",
        "Проще всего все положить в БД и потом просто работать с этим файлом.\n",
        "\n",
        "*Таблица про информантов*:\n",
        "\n",
        "| User      |\n",
        "|:----------|\n",
        "| id_user   |\n",
        "| gender    |\n",
        "| education |\n",
        "| age       |\n",
        "\n",
        "*Таблица про вопросы*:\n",
        "\n",
        "| Questions |\n",
        "|:----------|\n",
        "| id_q      |\n",
        "| text      |\n",
        "\n",
        "*Таблица про ответы информантов на вопросы*:\n",
        "\n",
        "| Answers   |\n",
        "|:----------|\n",
        "| id_user   |\n",
        "| ans_q1    |\n",
        "| ans_q2    |"
      ]
    },
    {
      "cell_type": "code",
      "execution_count": null,
      "metadata": {
        "id": "EzHIpMZMhlLc"
      },
      "outputs": [],
      "source": [
        "import sqlite3\n",
        "\n",
        "db = sqlite3.connect('test.db')\n",
        "cur = db.cursor()"
      ]
    },
    {
      "cell_type": "code",
      "execution_count": null,
      "metadata": {
        "id": "fjrujm3shlLd"
      },
      "outputs": [],
      "source": [
        "cur.execute(\n",
        "    \"\"\"CREATE TABLE answers (\n",
        "    id_user INTEGER PRIMARY KEY AUTOINCREMENT,\n",
        "    ans_q1` INTEGER,\n",
        "    ans_q2` INTEGER )\n",
        "    \"\"\")\n",
        "\n",
        "cur.execute(\n",
        "    \"\"\"CREATE TABLE questions (\n",
        "    id_q INTEGER PRIMARY KEY AUTOINCREMENT,\n",
        "    text TEXT\n",
        "    )\"\"\")\n",
        "\n",
        "cur.execute(\n",
        "    \"\"\"CREATE TABLE\n",
        "    user (\n",
        "    id_user INTEGER PRIMARY KEY AUTOINCREMENT,\n",
        "    gender TEXT,\n",
        "    education TEXT,\n",
        "    age INTEGER )\"\"\")\n",
        "\n",
        "db.commit()"
      ]
    },
    {
      "cell_type": "markdown",
      "metadata": {
        "id": "4HlkNy9GhlLe"
      },
      "source": [
        "### Как подключить базу к приложению?"
      ]
    },
    {
      "cell_type": "markdown",
      "metadata": {
        "id": "_Tt_pUrThlLe"
      },
      "source": [
        "Мы должны импортировать фласк и использовать еще один специальный модуль [`flask-sqlalchemy`](https://flask-sqlalchemy.readthedocs.io/en/stable/), который позволяет работать с базой. Главное $-$ это прописать путь к базе. Там есть часть `sqlite3:///` $-$ это обозначение для того, что мы работает с таким типом базы, а дальше путь внутри проекта."
      ]
    },
    {
      "cell_type": "code",
      "execution_count": null,
      "metadata": {
        "id": "4cpvMxoGjumz"
      },
      "outputs": [],
      "source": [
        "# !pip install -U Flask-SQLAlchemy --q"
      ]
    },
    {
      "cell_type": "code",
      "execution_count": null,
      "metadata": {
        "id": "5InFc12lhlLe"
      },
      "outputs": [],
      "source": [
        "from flask import Flask\n",
        "from flask_sqlalchemy import SQLAlchemy\n",
        "\n",
        "app = Flask(__name__)\n",
        "app.config['SQLALCHEMY_DATABASE_URI'] = 'sqlite:///test.db'\n",
        "db = SQLAlchemy(app)"
      ]
    },
    {
      "cell_type": "markdown",
      "metadata": {
        "id": "pMU3OJ8nhlLe"
      },
      "source": [
        "### Как передать устройство своей базы?\n",
        "\n",
        "Нам необходимо объяснить питону, где какие типы данных у нас лежат, для этого нам нужно описать каждую таблицу.\n",
        "\n",
        "Не будем пока углубляться в классы питона, просто делаем по образцу:\n",
        "1. Каждая таблица описывается отдельно (класс, наследующий от `db.Model`):\n",
        "    - с помощью `__tablename__` передается ее имя\n",
        "    - названия столбиков `db.Column` совпадают с названиями в нашей таблице\n",
        "2. Используется специальная \"обертка\" для столбца, где можно прописать, какой это тип данных (при помощи `db.Integer`, `db.Text` и т.д.) и если это первичный ключ, то на это указать (`primary_key=True`)."
      ]
    },
    {
      "cell_type": "code",
      "execution_count": null,
      "metadata": {
        "id": "t2Vr-H1zhlLf"
      },
      "outputs": [],
      "source": [
        "class User(db.Model):\n",
        "    __tablename__ = 'user'  # имя таблицы\n",
        "    id_user = db.Column(db.Integer, primary_key=True) # имя колонки = специальный тип (тип данных, первичный ключ)\n",
        "    gender = db.Column(db.Text)\n",
        "    education = db.Column(db.Text)\n",
        "    age = db.Column(db.Integer)\n",
        "\n",
        "\n",
        "class Questions(db.Model):\n",
        "    __tablename__ = 'questions'\n",
        "    id_q = db.Column(db.Integer, primary_key=True)\n",
        "    text = db.Column(db.Text)\n",
        "\n",
        "\n",
        "class Answers(db.Model):\n",
        "    __tablename__ = 'answers'\n",
        "    id_user = db.Column(db.Integer, primary_key=True)\n",
        "    ans_q1 = db.Column(db.Integer)\n",
        "    ans_q2 = db.Column(db.Integer)"
      ]
    },
    {
      "cell_type": "markdown",
      "metadata": {
        "id": "mg7JEkP4NtbR"
      },
      "source": [
        "После того, как вы определяете все модели и таблицы нужно их создать при помощи `create_all()`. Данное действие (как и любое другое вне запроса) требует `app_context()`:"
      ]
    },
    {
      "cell_type": "code",
      "execution_count": null,
      "metadata": {
        "id": "vy28-yNhNtbS"
      },
      "outputs": [],
      "source": [
        "with app.app_context():\n",
        "    db.create_all()"
      ]
    },
    {
      "cell_type": "markdown",
      "metadata": {
        "id": "CiYCKJTeNtbS"
      },
      "source": [
        "Вручную добавим несколько вопросов в анкету при помощи `add(object)` / `add_all(list)`:"
      ]
    },
    {
      "cell_type": "code",
      "execution_count": null,
      "metadata": {
        "id": "XkXQasFENtbS"
      },
      "outputs": [],
      "source": [
        "q1 = Questions(\n",
        "    id_q=1,\n",
        "    text='Как вы относитесь к пицце с ананасами?'\n",
        "    )\n",
        "q2 = Questions(\n",
        "    id_q=2,\n",
        "    text='Как вы относитесь к Санкт-Петербургу?'\n",
        "    )\n",
        "\n",
        "with app.app_context():\n",
        "    db.session.add_all([q1, q2])\n",
        "    db.session.commit()"
      ]
    },
    {
      "cell_type": "markdown",
      "metadata": {
        "id": "kxxcx_GdhlLf"
      },
      "source": [
        "### Как читать из базы (простые вещи)?\n",
        "\n",
        "Простейшие запросы можно делать прямо к `User`, `Questions`, `Answers`. Например, мы хотим на нашу страницу с анкетой предложения для оценки брать прямо из базы.\n",
        "\n",
        "Мы должны:\n",
        "1. Получить эти вопросы\n",
        "2. Передать на страницу\n",
        "3. Пройти по вопросам и сгенерировать анкету\n",
        "\n",
        "Создадим путь `/questions` и там считаем вопросы из базы и передадим на страницу через `render_template`."
      ]
    },
    {
      "cell_type": "code",
      "execution_count": null,
      "metadata": {
        "id": "vXPMAlcCNtbS"
      },
      "outputs": [],
      "source": [
        "from flask import render_template"
      ]
    },
    {
      "cell_type": "code",
      "execution_count": null,
      "metadata": {
        "id": "aSf4sh7ahlLf"
      },
      "outputs": [],
      "source": [
        "@app.route('/questions')\n",
        "def question_page():\n",
        "    # имя_таблицы.query.взять_все()\n",
        "    questions = Questions.query.all()\n",
        "    return render_template(\n",
        "        'questions.html',\n",
        "        questions=questions\n",
        "    )"
      ]
    },
    {
      "cell_type": "markdown",
      "metadata": {
        "id": "gGzwGDLthlLf"
      },
      "source": [
        "А как теперь это использовать, говорили же про атрибуты? Где они?\n",
        "\n",
        "Предположим, что у нас есть N вопросов (2 в нашем случае) и они одинаково устроены. Мы можем просто сгенерировать места для ответов и они все по очереди будут выводиться.\n",
        "\n",
        "- `{{question.text}}` $-$ выводит нам поле `text` из вопроса.\n",
        "- `name=\"q{{ question.id_q }}\"` $-$ использует id вопроса, чтобы получить имена для элементов например, `name=\"q1\"` (чтобы мы могли потом достать ответ именно на первый вопрос).\n",
        "\n",
        "Лежит в [`questions.html`](https://github.com/hse-ling-python/seminars/blob/master/flask_applications/flask_db_queries_2024_data/templates/questions.html)."
      ]
    },
    {
      "cell_type": "markdown",
      "metadata": {
        "id": "13Vnayollua7"
      },
      "source": [
        "```html\n",
        "{% for question in questions %}\n",
        "    <div class=\"row\">\n",
        "        <p class=\"col-md-6\">{{question.text}}</p>\n",
        "        <table class=\"col-md-8\">\n",
        "            <tr>\n",
        "                <td><input class=\"radio\" type=\"radio\" name=\"q{{ question.id_q }}\" value=5></td>\n",
        "                <td><input class=\"radio\" type=\"radio\" name=\"q{{ question.id_q }}\" value=4></td>\n",
        "                <td><input class=\"radio\" type=\"radio\" name=\"q{{ question.id_q }}\" value=3></td>\n",
        "                <td><input class=\"radio\" type=\"radio\" name=\"q{{ question.id_q }}\" value=2></td>\n",
        "                <td><input class=\"radio\" type=\"radio\" name=\"q{{ question.id_q }}\" value=1></td>\n",
        "            </tr>\n",
        "            <tr>\n",
        "                <td>отлично</td>\n",
        "                <td>хорошо</td>\n",
        "                <td>норм</td>\n",
        "                <td>плохо</td>\n",
        "                <td>ужасно</td>\n",
        "            </tr>\n",
        "        </table>\n",
        "    </div>\n",
        "{% endfor %}\n",
        "```\n",
        "\n"
      ]
    },
    {
      "cell_type": "markdown",
      "metadata": {
        "id": "MqzDK5VKhlLg"
      },
      "source": [
        "### Как писать в базу?"
      ]
    },
    {
      "cell_type": "markdown",
      "metadata": {
        "id": "iTuFd_MJhlLg"
      },
      "source": [
        "Мы указали в форме ```<form action=\"/process\">```, чтобы данные отправлялись на путь process и мы там будем их обрабатывать:\n",
        "\n",
        "\n",
        "1. Достать все параметры из адреса с GET параметрами (типа ```gender=female&education=hse```)\n",
        "2. Записать в базу\n",
        "3. Сохранить\n",
        "4. Сказать пользователю, что все ок\n",
        "5. Если пришел пустой запрос, то отправить проходить анкету"
      ]
    },
    {
      "cell_type": "code",
      "execution_count": null,
      "metadata": {
        "id": "fwA_SJd9nssp"
      },
      "outputs": [],
      "source": [
        "from flask import request, redirect, url_for"
      ]
    },
    {
      "cell_type": "code",
      "execution_count": null,
      "metadata": {
        "id": "ZEizCWCGhlLg"
      },
      "outputs": [],
      "source": [
        "@app.route('/process', methods=['get'])\n",
        "def answer_process():\n",
        "\n",
        "    # если пустой запрос, то отправить проходить анкету\n",
        "    if not request.args:\n",
        "        return redirect(url_for('question_page'))\n",
        "\n",
        "    # получаем значения ответов\n",
        "    gender = request.args.get('gender')\n",
        "    education = request.args.get('education')\n",
        "    age = request.args.get('age')\n",
        "\n",
        "    # записываем в базу\n",
        "    user = User(\n",
        "        age=age,\n",
        "        gender=gender,\n",
        "        education=education\n",
        "    )\n",
        "    db.session.add(user)\n",
        "    db.session.commit()\n",
        "\n",
        "    # обновляем user'a, чтобы его ответ записать с таким же id\n",
        "    db.session.refresh(user)\n",
        "\n",
        "    # это же делаем с ответом\n",
        "    q1 = request.args.get('q1')\n",
        "    q2 = request.args.get('q2')\n",
        "    answer = Answers(\n",
        "        id_user=user.id_user,\n",
        "        ans_q1=q1,\n",
        "        ans_q2=q2\n",
        "    )\n",
        "    db.session.add(answer)\n",
        "    db.session.commit()\n",
        "\n",
        "    # пользователь попадает на страницу, где напсано только Ок\n",
        "    return 'Ok'"
      ]
    },
    {
      "cell_type": "markdown",
      "metadata": {
        "id": "8mK1unVWhlLg"
      },
      "source": [
        "### Как получить из базы что-то сложное?\n",
        "\n",
        "Нам нужна какая-то статистика на сайт, чтобы любопытные могли посмотреть сколько человек уже прошли анкету и какие примерно ответы получаются. Чтобы использовать функции типа среднее, максимум, минимум и т.д. нам нужен `sqlalchemy.func`."
      ]
    },
    {
      "cell_type": "code",
      "execution_count": null,
      "metadata": {
        "id": "zq1VqbtthlLh"
      },
      "outputs": [],
      "source": [
        "from sqlalchemy import func"
      ]
    },
    {
      "cell_type": "code",
      "execution_count": null,
      "metadata": {
        "id": "OSVBhOhyhlLh"
      },
      "outputs": [],
      "source": [
        "@app.route('/stats')\n",
        "def stats():\n",
        "    # заводим словарь для значений (чтобы не передавать каждое в render_template)\n",
        "    all_info = {}\n",
        "\n",
        "    age_stats = db.session.query(\n",
        "        func.avg(User.age), # средний возраст AVG(user.age)\n",
        "        func.min(User.age), # минимальный возраст MIN(user.age)\n",
        "        func.max(User.age)  # максимальный возраст MAX(user.age)\n",
        "    ).one() # берем один результат (он всего и будет один)\n",
        "\n",
        "    all_info['age_mean'], all_info['age_min'], all_info['age_max'] = age_stats\n",
        "\n",
        "    # это простой запрос, можно прямо у таблицы спросить\n",
        "    all_info['total_count'] = User.query.count() # SELECT COUNT(age) FROM user\n",
        "\n",
        "    # SELECT AVG(q1) FROM answers\n",
        "    all_info['q1_mean'] = db.session.query(func.avg(Answers.ans_q1)).one()[0]\n",
        "\n",
        "    # SELECT q1 FROM answers\n",
        "    q1_answers = db.session.query(Answers.ans_q1).all()\n",
        "\n",
        "    return render_template('results.html', all_info=all_info)"
      ]
    },
    {
      "cell_type": "code",
      "execution_count": null,
      "metadata": {
        "id": "lHIaxs_cNtbT"
      },
      "outputs": [],
      "source": [
        "if __name__ == '__main__':\n",
        "    app.run()"
      ]
    },
    {
      "cell_type": "markdown",
      "metadata": {
        "id": "UOitfHyGhlLh"
      },
      "source": [
        "**Остается адаптировать под себя и поработать над оформлением!**"
      ]
    },
    {
      "cell_type": "markdown",
      "metadata": {
        "id": "8EC024MHZkJd"
      },
      "source": [
        "## Шаблоны страниц"
      ]
    },
    {
      "cell_type": "markdown",
      "metadata": {
        "id": "0HLVTcm4YX7l"
      },
      "source": [
        "Чтобы сайт проще было конструировать, применяются шаблоны. Мы уже смотрели на Jinja templates и как можно подставлять значения переменных в страницы.\n",
        "\n",
        "Можно соединять разные блоки в странице, чтобы не копировать части HTML-кода, который повторяется на всех или многих страницах. Например, в ВК есть стандартная панель сбоку, которая не меняется от страницы к странице и меняется только центральная полоса. Или на сайтах бывает боковое меню, верхнее меню, новостная лента, которые постоянны в шаблоне, а меняется только часть страницы.\n",
        "\n",
        "Для этого создается базовый шаблон страницы (`base.html`), который потом просто дополняется информацией, которая отличается на страницах. Мы можем на ней загрузить наши стили, скрипты и прочие зависимости и не думать про это позже.\n",
        "\n",
        "Поместим сюда меню, так как оно не меняется, стили, добавим поля основной части страницы.\n",
        "\n",
        "Мы также указываем блоки, куда потом вставим наши отличающиеся кусочки.\n",
        "\n",
        "Для этого пропишем `{% block title %} {% endblock %}` и `{% block content %} {% endblock %}`.\n",
        "\n",
        "`title` и `content` $-$ это названия наших блоков, их содержимое пока пустое, мы его заменим."
      ]
    },
    {
      "cell_type": "markdown",
      "metadata": {
        "id": "j178x9Y8YX7l"
      },
      "source": [
        "Так выглядит [`base.html`](https://github.com/hse-ling-python/seminars/blob/master/flask_applications/imdb_site/templates/base.html):\n",
        "\n",
        "```html\n",
        "<!DOCTYPE html>\n",
        "<html lang=\"en\">\n",
        "    \n",
        "<head>\n",
        "    <meta charset=\"UTF-8\">\n",
        "    <title>{% block title %} {% endblock %}</title>\n",
        "         <!-- Required meta tags -->\n",
        "    <meta charset=\"utf-8\">\n",
        "    <meta name=\"viewport\" content=\"width=device-width, initial-scale=1, shrink-to-fit=no\">\n",
        "\n",
        "    <!-- Bootstrap CSS, JS-->\n",
        "    <link rel=\"stylesheet\" href=\"https://cdn.jsdelivr.net/npm/bootstrap@4.5.3/dist/css/bootstrap.min.css\" integrity=\"sha384-TX8t27EcRE3e/ihU7zmQxVncDAy5uIKz4rEkgIXeMed4M0jlfIDPvg6uqKI2xXr2\" crossorigin=\"anonymous\">\n",
        "    <script src=\"https://code.jquery.com/jquery-3.5.1.slim.min.js\" integrity=\"sha384-DfXdz2htPH0lsSSs5nCTpuj/zy4C+OGpamoFVy38MVBnE+IbbVYUew+OrCXaRkfj\" crossorigin=\"anonymous\"></script>\n",
        "    <script src=\"https://cdn.jsdelivr.net/npm/bootstrap@4.5.3/dist/js/bootstrap.bundle.min.js\" integrity=\"sha384-ho+j7jyWK8fNQe+A12Hb8AhRq26LrZ/JpcUGGOn+Y7RsweNrtN/tE3MoK7ZeZDyx\" crossorigin=\"anonymous\"></script>\n",
        "</head>\n",
        "    \n",
        "<body>\n",
        "    <!-- вот отсюда https://getbootstrap.com/docs/4.5/components/navbar/ -->\n",
        "    <nav class=\"navbar navbar-expand-lg navbar-light bg-light\">\n",
        "      <a class=\"navbar-brand\" href=\"#\">База фильмов</a>\n",
        "      <button class=\"navbar-toggler\" type=\"button\" data-toggle=\"collapse\" data-target=\"#navbarNavAltMarkup\" aria-controls=\"navbarNavAltMarkup\" aria-expanded=\"false\" aria-label=\"Toggle navigation\">\n",
        "        <span class=\"navbar-toggler-icon\"></span>\n",
        "      </button>\n",
        "      <div class=\"collapse navbar-collapse\" id=\"navbarNavAltMarkup\">\n",
        "        <div class=\"navbar-nav\">\n",
        "          <a class=\"nav-link\" href=\"/rating\">Рейтинг фильмов</a>\n",
        "          <a class=\"nav-link\" href=\"/search\">Поиск</a>\n",
        "        </div>\n",
        "      </div>\n",
        "    </nav>\n",
        "\n",
        "    <div style=\"margin: 50px 10%\">\n",
        "        {% block content %} {% endblock %}\n",
        "    </div>\n",
        "\n",
        "\n",
        "</body>\n",
        "</html>\n",
        "```"
      ]
    },
    {
      "cell_type": "markdown",
      "metadata": {
        "id": "AgU5eigCYX7m"
      },
      "source": [
        "Теперь на главной странице просто подставим информацию.\n",
        "\n",
        "Указываем, что мы этим кодом раширяем `base.html`. Вписываем блоки"
      ]
    },
    {
      "cell_type": "markdown",
      "metadata": {
        "id": "AoonAWnAYX7m"
      },
      "source": [
        "Так выглядит [`index.html`]():\n",
        "\n",
        "```html\n",
        "{% extends 'base.html' %}\n",
        "\n",
        "{% block title %} База фильмов {% endblock %}\n",
        "\n",
        "{% block content %}\n",
        "    <h1>Текст главной страницы</h1>\n",
        "{% endblock %}\n",
        "```"
      ]
    },
    {
      "cell_type": "markdown",
      "metadata": {
        "id": "YBEibW_ANtbV"
      },
      "source": [
        "## А как работать с чем-то готовым?"
      ]
    },
    {
      "cell_type": "markdown",
      "metadata": {
        "id": "HI55ZmeANtbV"
      },
      "source": [
        "Попробуем подключить базу данных к нашему приложению и сделать [сайт про фильмы](https://github.com/hse-ling-python/seminars/tree/master/flask_applications/imdb_site).\n",
        "\n",
        "На самом деле, обычно для описания таблиц создается отдельный файл, например [`models.py`](https://github.com/hse-ling-python/seminars/blob/master/flask_applications/imdb_site/models.py)."
      ]
    },
    {
      "cell_type": "code",
      "execution_count": null,
      "metadata": {
        "id": "LqC6oi-5NtbV"
      },
      "outputs": [],
      "source": [
        "# models.py\n",
        "\n",
        "from flask_sqlalchemy import SQLAlchemy\n",
        "\n",
        "db = SQLAlchemy()\n",
        "\n",
        "# дальше описания таблиц"
      ]
    },
    {
      "cell_type": "markdown",
      "metadata": {
        "id": "IYNt0tlKNtbV"
      },
      "source": [
        "А в файле приложения мы импортируем этот объект и подключаем к приложению."
      ]
    },
    {
      "cell_type": "code",
      "execution_count": null,
      "metadata": {
        "id": "iJJOZU_dNtbV"
      },
      "outputs": [],
      "source": [
        "# app.py\n",
        "\n",
        "# создаем приложение\n",
        "app = Flask(__name__)\n",
        "\n",
        "app.config['SQLALCHEMY_DATABASE_URI'] = 'sqlite:///imdb_small_indexed.db'\n",
        "# чтобы ок работать с изменениями в базе (коммиты и обновления информации, если такие есть)\n",
        "app.config['SQLALCHEMY_TRACK_MODIFICATIONS'] = False\n",
        "\n",
        "# указываем базе, какое наше приложение\n",
        "db.app = app\n",
        "db.init_app(app)"
      ]
    },
    {
      "cell_type": "markdown",
      "metadata": {
        "id": "_LyuwswwNtbV"
      },
      "source": [
        "Теперь можно пользоваться.\n",
        "\n",
        "Вернемся к нашим моделям (таблицам)."
      ]
    },
    {
      "cell_type": "code",
      "execution_count": null,
      "metadata": {
        "id": "Zk2yy5vQNtbW"
      },
      "outputs": [],
      "source": [
        "# models.py\n",
        "\n",
        "class Type(db.Model):\n",
        "\n",
        "    __tablename__ = \"film_types\"\n",
        "\n",
        "    type_id = db.Column('id', db.Integer, primary_key=True)\n",
        "    name = db.Column('film_type', db.Text)"
      ]
    },
    {
      "cell_type": "markdown",
      "metadata": {
        "id": "LLannL90NtbW"
      },
      "source": [
        "Можно указать, что столбец ссылается на ключ из другой таблицы, например, как у нас в `crew`.\n",
        "\n",
        "**ForeignKey**"
      ]
    },
    {
      "cell_type": "code",
      "execution_count": null,
      "metadata": {
        "id": "FRA02Jv0NtbW"
      },
      "outputs": [],
      "source": [
        "from flask_sqlalchemy import ForeignKey, PrimaryKeyConstraint"
      ]
    },
    {
      "cell_type": "code",
      "execution_count": null,
      "metadata": {
        "id": "lJOXqoYaNtbW"
      },
      "outputs": [],
      "source": [
        "# models.py\n",
        "\n",
        "class Crew(db.Model):\n",
        "    __tablename__ = 'crew'\n",
        "    __table_args__ = (PrimaryKeyConstraint('title_id', 'person_id'),)\n",
        "\n",
        "    film_id = db.Column('title_id', db.Integer, ForeignKey('titles.title_id'))\n",
        "    person_id = db.Column('person_id', db.Integer, ForeignKey('people.person_id'))"
      ]
    },
    {
      "cell_type": "markdown",
      "metadata": {
        "id": "P70tIiTwNtbW"
      },
      "source": [
        "Мы можем сделать так, чтобы к фильму привязались люди, которые там участвуют (в атрибуте будет лежать список)\n",
        "\n",
        "Для этого мы используем **`relationship`**. Так как мы здесь соединяем две таблицы через вспомогательную, то мы это делаем, указав, с каким объектом мы соединяем и какая вспомогательная таблица.\n",
        "\n",
        "Для рейтинга мы просто связываем две таблицы, где связь один-один, мы можем это сделать сразу, в `primaryjoin` указываем, как мы свзяываем таблицы, то есть какие столбцы соответствуют друг другу."
      ]
    },
    {
      "cell_type": "code",
      "execution_count": null,
      "metadata": {
        "id": "crKX-W1zNtbW"
      },
      "outputs": [],
      "source": [
        "# models.py\n",
        "\n",
        "class Film(db.Model):\n",
        "    __tablename__ = \"titles\"\n",
        "\n",
        "    # имя колонки = специальный тип (тип данных, первичный ключ)\n",
        "    film_id = db.Column('title_id', db.Integer, primary_key=True)\n",
        "\n",
        "    rating = db.relationship('Rating', uselist=False, primaryjoin=\"Film.film_id==Rating.film_id\")\n",
        "\n",
        "    ...\n",
        "\n",
        "    crew = db.relationship(\"Person\", secondary='crew') # с кем, через какую таблицу\n",
        "\n",
        "class Person(db.Model):\n",
        "    __tablename__ = \"people\"\n",
        "\n",
        "    person_id = db.Column('person_id', db.Integer, primary_key=True)\n",
        "    name = db.Column('name', db.Text)\n",
        "    born = db.Column('born', db.Integer)\n",
        "    died = db.Column('died', db.Integer)\n",
        "\n",
        "    films = db.relationship(\"Film\", secondary='crew') # с кем, через какую таблицу"
      ]
    },
    {
      "cell_type": "markdown",
      "metadata": {
        "id": "NfydDVL1ZhFt"
      },
      "source": [
        "## Запросы к базе и использование объектов"
      ]
    },
    {
      "cell_type": "markdown",
      "metadata": {
        "id": "yQrXw-5AYX7m"
      },
      "source": [
        "Можно импортировать наши модели (классы) и использовать их для запросов к базе.\n",
        "\n",
        "### Запрос по ключу\n",
        "\n",
        "Самый простой пример - это запрос одного объекта по айди. Сделаем страницу для человека, URL будет выгялдеть как `http://127.0.0.1:5000/person/186505`. Мы получаем айди человека и просто в базе получаем информацию о человеке с таким ключом.\n",
        "\n",
        "Используем метод `get` для получения по ключу. Обратно нам выдастся объект типа `Person`, мы можем использовать атрибуты, которые мы прописали в модели. Передаем этот объект на страницу и вписываем в шаблон переменные."
      ]
    },
    {
      "cell_type": "code",
      "execution_count": null,
      "metadata": {
        "id": "lIF6qKtrYX7m"
      },
      "outputs": [],
      "source": [
        "@app.route(\"/person/<person_id>\")\n",
        "def person_page(person_id):\n",
        "    person = Person.query.get(person_id)\n",
        "    return render_template(\"person.html\", person=person)"
      ]
    },
    {
      "cell_type": "markdown",
      "metadata": {
        "id": "EbW7hLn2NtbW"
      },
      "source": [
        "Тем временем в [`person.html`](https://github.com/hse-ling-python/seminars/blob/master/flask_applications/imdb_site/templates/person.html)"
      ]
    },
    {
      "cell_type": "markdown",
      "metadata": {
        "id": "6JqvBeCFYX7n"
      },
      "source": [
        "```html\n",
        "{% extends 'base.html' %}\n",
        "\n",
        "{% block title %} {{ person.name }}{% endblock %}\n",
        "\n",
        "{% block content %}\n",
        "    <table class=\"table\">\n",
        "        <tr>\n",
        "            <td>Имя</td>\n",
        "            <td>{{ person.name }}</td>\n",
        "        </tr>\n",
        "        <tr>\n",
        "            <td>Год рождения</td>\n",
        "            <td>{{ person.born }}</td>\n",
        "        </tr>\n",
        "        {% if person.died %}\n",
        "        <tr>\n",
        "            <td>Год смерти</td>\n",
        "            <td>{{ person.died }}</td>\n",
        "        </tr>\n",
        "        {% endif %}\n",
        "        <tr>\n",
        "            <td>Фильмы</td>\n",
        "            <td>\n",
        "                {% for film in person.films %}\n",
        "                    {{ film.title }} <br>\n",
        "                {% endfor %}\n",
        "            </td>\n",
        "        </tr>\n",
        "    </table>\n",
        "{% endblock %}\n",
        "\n",
        "```"
      ]
    },
    {
      "cell_type": "markdown",
      "metadata": {
        "id": "vaoVNEOTYX7n"
      },
      "source": [
        "### Топ фильмов\n",
        "\n",
        "В запросах от класса мы не можем нормально искать по атрибутам, которые привязаны (например, список актеров к фильму), но мы можем сделать `join`.\n",
        "\n",
        "Мы делаем запрос через `db.session.query`, в нашем случае это будет что-то вроде курсора. Мы запрашиваем таблицу `Film`, соединяем ее с `Rating`.\n",
        "\n",
        "Теперь фильтруем. Добавляем фильтр, что число оценок больше 100 тысяч, сортируем по рейтингу по убыванию.\n",
        "\n",
        "Берем топ-250. Получаем ответ с помощью `all` (как `fetchall`).\n",
        "\n",
        "Мы получили список объектов типа `Film`, которые отсортированы и отфильтрованы как мы просили. Это удобнее, чем просто кортежи, где нам надо помнить, что на какой позиции лежит, мы просто тут можем обращаться по именам атрибутов."
      ]
    },
    {
      "cell_type": "code",
      "execution_count": null,
      "metadata": {
        "id": "KAVlao_bYX7n"
      },
      "outputs": [],
      "source": [
        "# app.py\n",
        "\n",
        "@app.route(\"/rating\")\n",
        "def rating():\n",
        "    rating = db.session.query(Film)\\\n",
        "        .join(Rating)\\\n",
        "        .filter(Rating.votes > 100000)\\\n",
        "        .order_by(-Rating.value)\\\n",
        "        .limit(250).all()\n",
        "    return render_template(\"rating.html\", rating=rating)"
      ]
    },
    {
      "cell_type": "markdown",
      "metadata": {
        "id": "2ernnqLzYX7n"
      },
      "source": [
        "В шаблоне страницы мы можем идти по объектам (как в обычном списке в питоне), но мы хотим помнить номер порядковый, поэтому попробуем идти по индексам, для это сделаем range от 0 до длины списка)."
      ]
    },
    {
      "cell_type": "markdown",
      "metadata": {
        "id": "V1cvS87lYX7o"
      },
      "source": [
        "```html\n",
        "{% extends 'base.html' %}\n",
        "\n",
        "{% block title %} Рейтинг фильмов {% endblock %}\n",
        "\n",
        "{% block content %}\n",
        "    <table class=\"table\">\n",
        "        {% for i in range(0, rating|length) %}\n",
        "            <tr>\n",
        "                <td scope=\"row\">{{ i + 1 }}</td>\n",
        "                <td>{{ rating[i].rating.value }}</td>\n",
        "                <td>{{ rating[i].premiered }}{% if rating[i].ended %}-{{ rating[i].ended }}{% endif %}</td>\n",
        "                <td><a href=\"/film/{{ rating[i].film_id }}\" target=\"_blank\">{{ rating[i].title }}</a></td>\n",
        "            </tr>\n",
        "        {% endfor %}\n",
        "    </table>\n",
        "{% endblock %}\n",
        "```"
      ]
    },
    {
      "cell_type": "markdown",
      "source": [
        "## PythonAnyWhere (PAW)"
      ],
      "metadata": {
        "id": "UBto8s65HOAc"
      }
    },
    {
      "cell_type": "markdown",
      "source": [
        "Теперь посмотрим, как выложить наш сайт на хостинг так, чтобы им могли пользоваться другие. Для этого:\n",
        "1. Идем на сайт https://www.pythonanywhere.com/ и регистрируемся там\n",
        "2. Загружаем все файлы в отдельную папку внутри [вкладки файлы](https://www.pythonanywhere.com/user/tokubetsu/files), там надо перейти в папку `home/USERNAME`, создать там папку проекта и работать в ней. Файлы переносить можно руками, можно через гитхаб (есть [вот такая инструкция](https://help.pythonanywhere.com/pages/UploadingAndDownloadingFiles))\n",
        "3. Проверьте, что все настройки сайта в файлах актуальны (пути, хостинг и прочее, что могло поменятся при переезде с локального сервера)\n",
        "4. Теперь будем настраивать окружение (версию питона и все библиотеки). Идем во вкладку `Consoles`, создаем там новую Bash консоль и создаем нужное окружение с версией питона (скорее всего вам подойдет python=3.10):\n",
        "    \n",
        "    `mkvirtualenv --python=/usr/bin/python3.10 VENV_NAME`\n",
        "\n",
        "    Вот так можно активировать уже созданное окружение:\n",
        "        \n",
        "    `workon VENV_NAME`\n",
        "\n",
        "5. Устанавливаем все нужные библиотеки (в том числе Flask)\n",
        "6. Идем во вкладку `Web` и создаем там новое приложение.\n",
        "\n",
        "\n",
        "[Более подробная инструкция](https://help.pythonanywhere.com/pages/Flask/)\n"
      ],
      "metadata": {
        "id": "c6s3UyExHVCX"
      }
    },
    {
      "cell_type": "code",
      "source": [],
      "metadata": {
        "id": "GQ9Rnbe4HSXW"
      },
      "execution_count": null,
      "outputs": []
    }
  ],
  "metadata": {
    "colab": {
      "provenance": [],
      "toc_visible": true
    },
    "kernelspec": {
      "display_name": "Python 3",
      "language": "python",
      "name": "python3"
    },
    "language_info": {
      "codemirror_mode": {
        "name": "ipython",
        "version": 3
      },
      "file_extension": ".py",
      "mimetype": "text/x-python",
      "name": "python",
      "nbconvert_exporter": "python",
      "pygments_lexer": "ipython3",
      "version": "3.12.0"
    }
  },
  "nbformat": 4,
  "nbformat_minor": 0
}