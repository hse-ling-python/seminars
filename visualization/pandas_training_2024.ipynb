{
  "cells": [
    {
      "cell_type": "markdown",
      "metadata": {
        "id": "YF8vnI1tXYzH"
      },
      "source": [
        "# Задания"
      ]
    },
    {
      "cell_type": "markdown",
      "metadata": {
        "id": "hK791ThQXYzK"
      },
      "source": [
        "### Шаг 0. Импортируйте необходимые библиотеки."
      ]
    },
    {
      "cell_type": "code",
      "execution_count": null,
      "metadata": {
        "id": "n4z6peGnXYzL"
      },
      "outputs": [],
      "source": []
    },
    {
      "cell_type": "markdown",
      "metadata": {
        "id": "3hbklXhWXYzL"
      },
      "source": [
        "## Работа"
      ]
    },
    {
      "cell_type": "markdown",
      "metadata": {
        "id": "Rk7t4lnIXYzL"
      },
      "source": [
        "### Шаг 1. Скачайте датасет по этому [адресу](https://raw.githubusercontent.com/KatiaKozlova/files/main/57-10/pandas/u.user.txt)."
      ]
    },
    {
      "cell_type": "code",
      "execution_count": null,
      "metadata": {
        "id": "H9Uc5WNEXYzM"
      },
      "outputs": [],
      "source": []
    },
    {
      "cell_type": "markdown",
      "metadata": {
        "id": "KIDOiW61XYzM"
      },
      "source": [
        "### Шаг 2. Запишите его в датафрейм `users`."
      ]
    },
    {
      "cell_type": "code",
      "execution_count": null,
      "metadata": {
        "id": "3Fduemn-XYzM"
      },
      "outputs": [],
      "source": []
    },
    {
      "cell_type": "markdown",
      "source": [
        "### Шаг 3. У скольких людей в датасете зип-код оканчивается на 14?"
      ],
      "metadata": {
        "id": "aZNWKpGCBkVr"
      }
    },
    {
      "cell_type": "code",
      "source": [],
      "metadata": {
        "id": "Otnxy-x6Bj6K"
      },
      "execution_count": null,
      "outputs": []
    },
    {
      "cell_type": "markdown",
      "source": [
        "### Шаг 4. Сколько женщин в датафрейме?"
      ],
      "metadata": {
        "id": "rsLiXLwgAgGd"
      }
    },
    {
      "cell_type": "code",
      "source": [],
      "metadata": {
        "id": "L5VZpLPLAflt"
      },
      "execution_count": null,
      "outputs": []
    },
    {
      "cell_type": "markdown",
      "source": [
        "### Шаг 5. Сколько несовершеннолетних (<18) девушек в датасете?"
      ],
      "metadata": {
        "id": "BknpLDRuA1N_"
      }
    },
    {
      "cell_type": "code",
      "source": [],
      "metadata": {
        "id": "qKbPU-6JBVtQ"
      },
      "execution_count": null,
      "outputs": []
    },
    {
      "cell_type": "markdown",
      "metadata": {
        "id": "W9UbcryNXYzM"
      },
      "source": [
        "### Шаг 6. Какой средний (mean) возраст для работников каждой сферы?"
      ]
    },
    {
      "cell_type": "code",
      "execution_count": null,
      "metadata": {
        "id": "GdOXha5BXYzN"
      },
      "outputs": [],
      "source": []
    },
    {
      "cell_type": "markdown",
      "metadata": {
        "id": "yhVgrfPbXYzN"
      },
      "source": [
        "### Шаг 7. Какой процент мужчин среди работников каждой сферы?<br>Отсортируйте список от максимума к минимуму."
      ]
    },
    {
      "cell_type": "code",
      "execution_count": null,
      "metadata": {
        "id": "ulcs0ooeXYzN"
      },
      "outputs": [],
      "source": []
    },
    {
      "cell_type": "markdown",
      "metadata": {
        "id": "sj5AS7dxXYzN"
      },
      "source": [
        "### Шаг 8. Какой минимальный и максимальный возраст для каждого вида работы?"
      ]
    },
    {
      "cell_type": "code",
      "execution_count": null,
      "metadata": {
        "id": "rK6gQA8dXYzN"
      },
      "outputs": [],
      "source": []
    },
    {
      "cell_type": "markdown",
      "metadata": {
        "id": "HBGqFPm_XYzN"
      },
      "source": [
        "### Шаг 9. Какой средний возраст для каждой комбинации пола и сферы деятельности?"
      ]
    },
    {
      "cell_type": "code",
      "execution_count": null,
      "metadata": {
        "id": "NDqc8RzwXYzO"
      },
      "outputs": [],
      "source": []
    },
    {
      "cell_type": "markdown",
      "metadata": {
        "id": "K8T1oLzfXYzO"
      },
      "source": [
        "### Шаг 10. Какая доля (процент) мужчин и женщин в каждой сферы работы?"
      ]
    },
    {
      "cell_type": "code",
      "execution_count": null,
      "metadata": {
        "id": "Koh62f-5XYzO"
      },
      "outputs": [],
      "source": []
    },
    {
      "cell_type": "markdown",
      "metadata": {
        "id": "xMzxqWBpXYzO"
      },
      "source": [
        "## Потребление алкоголя"
      ]
    },
    {
      "cell_type": "markdown",
      "metadata": {
        "id": "3T_61SF3XYzO"
      },
      "source": [
        "### Шаг 1. Импортируйте необходимые библиотеки."
      ]
    },
    {
      "cell_type": "code",
      "execution_count": null,
      "metadata": {
        "jupyter": {
          "outputs_hidden": false
        },
        "id": "CiarlWx9XYzO"
      },
      "outputs": [],
      "source": []
    },
    {
      "cell_type": "markdown",
      "metadata": {
        "id": "_6eIe45GXYzO"
      },
      "source": [
        "### Шаг 2. Скачайте датасет по этому [адресу](https://raw.githubusercontent.com/KatiaKozlova/files/main/57-10/pandas/student-mat.csv)."
      ]
    },
    {
      "cell_type": "code",
      "execution_count": null,
      "metadata": {
        "id": "uxOArG8oXYzO"
      },
      "outputs": [],
      "source": []
    },
    {
      "cell_type": "markdown",
      "metadata": {
        "id": "dTLUsdDGXYzO"
      },
      "source": [
        "### Шаг 3. Запишите его в датафрейм `df`."
      ]
    },
    {
      "cell_type": "code",
      "execution_count": null,
      "metadata": {
        "id": "JFGpEbhbXYzO"
      },
      "outputs": [],
      "source": []
    },
    {
      "cell_type": "markdown",
      "metadata": {
        "id": "y7aovG2aXYzO"
      },
      "source": [
        "### Шаг 4. Для упражнения запишите в датафрейм `df_new` столбцы со 'school' до 'guardian'."
      ]
    },
    {
      "cell_type": "code",
      "execution_count": null,
      "metadata": {
        "id": "2Lu_iLz0XYzP"
      },
      "outputs": [],
      "source": []
    },
    {
      "cell_type": "markdown",
      "metadata": {
        "id": "YP8UJrqdXYzP"
      },
      "source": [
        "### Шаг 5. Создайте лямбда-функцию, которая капитализирует строки (делает первую букву заглавной)."
      ]
    },
    {
      "cell_type": "code",
      "execution_count": null,
      "metadata": {
        "id": "kVFSC2JiXYzP"
      },
      "outputs": [],
      "source": []
    },
    {
      "cell_type": "markdown",
      "metadata": {
        "id": "VhhH10igXYzP"
      },
      "source": [
        "### Шаг 6. Капитализируйте `Mjob` и `Fjob`."
      ]
    },
    {
      "cell_type": "code",
      "execution_count": null,
      "metadata": {
        "id": "NtAREMDoXYzP"
      },
      "outputs": [],
      "source": []
    },
    {
      "cell_type": "markdown",
      "metadata": {
        "id": "C-Ax0ALpXYzP"
      },
      "source": [
        "### Шаг 7. Напечатайте несколько рандомных строк из датасета.<br>Если `Mjob` и `Fjob` в вашем датасете до сих пор маленькие (строчные) при печати, исправьте это."
      ]
    },
    {
      "cell_type": "code",
      "execution_count": null,
      "metadata": {
        "id": "aCU85vAgXYzP"
      },
      "outputs": [],
      "source": []
    },
    {
      "cell_type": "code",
      "execution_count": null,
      "metadata": {
        "id": "h-HI3_TKXYzP"
      },
      "outputs": [],
      "source": []
    },
    {
      "cell_type": "markdown",
      "metadata": {
        "id": "UmXhsQUaXYzP"
      },
      "source": [
        "### Шаг 8. Создайте функцию `majority`, которая возвращает булевое значение в новый столбец `legal_drinker`<br>(Считайте, что `majority` - это с 18 лет)."
      ]
    },
    {
      "cell_type": "code",
      "execution_count": null,
      "metadata": {
        "id": "wwnZ-_5lXYzP"
      },
      "outputs": [],
      "source": []
    },
    {
      "cell_type": "markdown",
      "metadata": {
        "id": "NvGUTf1OXYzP"
      },
      "source": [
        "### Шаг 9. Умножьте каждое число в датасете на 10.<br>(В этом ноль смысла: просто для тренировки.)\n",
        "\n",
        "Попробуйте погуглить, как применить функцию ко всему датафрейму."
      ]
    },
    {
      "cell_type": "code",
      "execution_count": null,
      "metadata": {
        "id": "y6oaeP0FXYzP"
      },
      "outputs": [],
      "source": []
    },
    {
      "cell_type": "markdown",
      "metadata": {
        "id": "33EjZEEYXYzQ"
      },
      "source": [
        "## Уровень преступности в США (1960-2014)"
      ]
    },
    {
      "cell_type": "markdown",
      "metadata": {
        "id": "Qvzh7HAMXYzS"
      },
      "source": [
        "### Шаг 1. Скачайте датасет по этому [адресу](https://raw.githubusercontent.com/KatiaKozlova/files/main/57-10/pandas/US_Crime_Rates_1960_2014.csv)."
      ]
    },
    {
      "cell_type": "code",
      "execution_count": null,
      "metadata": {
        "id": "XknspGOkXYzS"
      },
      "outputs": [],
      "source": []
    },
    {
      "cell_type": "markdown",
      "metadata": {
        "id": "-_fH6lzeXYzS"
      },
      "source": [
        "### Шаг 2. Запишите его в датафрейм `crime`."
      ]
    },
    {
      "cell_type": "code",
      "execution_count": null,
      "metadata": {
        "id": "LhHf7HjeXYzS"
      },
      "outputs": [],
      "source": []
    },
    {
      "cell_type": "markdown",
      "metadata": {
        "id": "OMBErPSOXYzS"
      },
      "source": [
        "### Шаг 3. Какой тип у столбцов датафрейма?"
      ]
    },
    {
      "cell_type": "code",
      "execution_count": null,
      "metadata": {
        "id": "z4tSoqA5XYzT"
      },
      "outputs": [],
      "source": []
    },
    {
      "cell_type": "markdown",
      "metadata": {
        "id": "HPkA1yuYXYzT"
      },
      "source": [
        "Как вы могли заметить, тип столбца Year - `int64`.\n",
        "\n",
        "### Шаг 4. Конвертируйте тип столбца Year в [`datetime64`](https://pandas.pydata.org/docs/reference/api/pandas.to_datetime.html)."
      ]
    },
    {
      "cell_type": "code",
      "execution_count": null,
      "metadata": {
        "id": "LwHTyQ77XYzT"
      },
      "outputs": [],
      "source": []
    },
    {
      "cell_type": "markdown",
      "metadata": {
        "id": "1GzfGr7NXYzT"
      },
      "source": [
        "### Шаг 5. Сделайте столбец Year индексом датафрейма."
      ]
    },
    {
      "cell_type": "code",
      "execution_count": null,
      "metadata": {
        "id": "FKF_EwPfXYzT"
      },
      "outputs": [],
      "source": []
    },
    {
      "cell_type": "markdown",
      "metadata": {
        "id": "31LESnGNXYzT"
      },
      "source": [
        "### Шаг 6. Удалите столбец Total."
      ]
    },
    {
      "cell_type": "code",
      "execution_count": null,
      "metadata": {
        "id": "Exa5rwCnXYzT"
      },
      "outputs": [],
      "source": []
    },
    {
      "cell_type": "markdown",
      "metadata": {
        "id": "rdEZDW5AXYzT"
      },
      "source": [
        "### Шаг 7. Сгруппируйте годы по десятилетиям и просуммируйте значения столбцов.\n",
        "\n",
        "1. Вам поможет [.resample](https://pandas.pydata.org/pandas-docs/stable/generated/pandas.DataFrame.resample.html)\n",
        "2. Не суммируйте значения в столбце Population! Возьмите среднее по декаде."
      ]
    },
    {
      "cell_type": "code",
      "execution_count": null,
      "metadata": {
        "id": "xfxWM3ubXYzT"
      },
      "outputs": [],
      "source": []
    },
    {
      "cell_type": "markdown",
      "metadata": {
        "id": "Qt9s4s-_XYzT"
      },
      "source": [
        "### Шаг 9. Какое самое опасное для жизни десятилетие было в США?"
      ]
    },
    {
      "cell_type": "code",
      "execution_count": null,
      "metadata": {
        "id": "VAA78Qf4XYzT"
      },
      "outputs": [],
      "source": []
    },
    {
      "cell_type": "markdown",
      "metadata": {
        "id": "YwB7IBVeXYzT"
      },
      "source": [
        "## Имена детей в США (2004-2014)"
      ]
    },
    {
      "cell_type": "markdown",
      "metadata": {
        "id": "JqVKe_4IXYzU"
      },
      "source": [
        "### Шаг 1. Скачайте датасет по этому [адресу](https://github.com/KatiaKozlova/files/raw/main/57-10/pandas/US_Baby_Names_right.zip)."
      ]
    },
    {
      "cell_type": "code",
      "execution_count": null,
      "metadata": {
        "id": "5hPHrIUEXYzU"
      },
      "outputs": [],
      "source": []
    },
    {
      "cell_type": "markdown",
      "metadata": {
        "id": "yhKCgl2BXYzU"
      },
      "source": [
        "### Шаг 2. Запишите его в датафрейм `baby_names`.\n",
        "\n",
        "Не переживайте, что это zip-файл: его все еще можно читать через `.read_csv()`"
      ]
    },
    {
      "cell_type": "code",
      "execution_count": null,
      "metadata": {
        "id": "V_rawF8BXYzU"
      },
      "outputs": [],
      "source": []
    },
    {
      "cell_type": "markdown",
      "metadata": {
        "id": "K8iGAw0qXYzU"
      },
      "source": [
        "### Шаг 3. Удалите лишние столбцы ('Unnamed: 0' и 'Id')"
      ]
    },
    {
      "cell_type": "code",
      "execution_count": null,
      "metadata": {
        "id": "jMTx8XdiXYzU"
      },
      "outputs": [],
      "source": []
    },
    {
      "cell_type": "markdown",
      "metadata": {
        "id": "7TuMdjs2XYzU"
      },
      "source": [
        "### Шаг 4. В датасете больше имен мальчиков или девочек?"
      ]
    },
    {
      "cell_type": "code",
      "execution_count": null,
      "metadata": {
        "id": "Llzq2LtwXYzU"
      },
      "outputs": [],
      "source": []
    },
    {
      "cell_type": "markdown",
      "metadata": {
        "id": "ILL1QWkhXYzU"
      },
      "source": [
        "### Шаг 5. Создайте датафрейм `names`, где будет сводная информация по частотности имён."
      ]
    },
    {
      "cell_type": "code",
      "execution_count": null,
      "metadata": {
        "id": "IZ4-IkS-XYzU"
      },
      "outputs": [],
      "source": []
    },
    {
      "cell_type": "markdown",
      "metadata": {
        "id": "QyawxKCZXYzU"
      },
      "source": [
        "### Шаг 6. Сколько различных имен существует в датасете?"
      ]
    },
    {
      "cell_type": "code",
      "execution_count": null,
      "metadata": {
        "id": "y_eCwTWjXYzU"
      },
      "outputs": [],
      "source": []
    },
    {
      "cell_type": "markdown",
      "metadata": {
        "id": "JQV8iXWwXYzU"
      },
      "source": [
        "### Шаг 7. Какое самое частотное имя в датасете? Сколько раз оно встречается?"
      ]
    },
    {
      "cell_type": "code",
      "execution_count": null,
      "metadata": {
        "id": "rJrx0bZuXYzV"
      },
      "outputs": [],
      "source": []
    },
    {
      "cell_type": "markdown",
      "metadata": {
        "id": "a7kpXcGkXYzV"
      },
      "source": [
        "### Шаг 8. Какие имена встречаются в датасете реже всего? Сколько их?"
      ]
    },
    {
      "cell_type": "code",
      "execution_count": null,
      "metadata": {
        "id": "KxK8xWBIXYzV"
      },
      "outputs": [],
      "source": []
    },
    {
      "cell_type": "markdown",
      "metadata": {
        "id": "2uuat3rvXYzV"
      },
      "source": [
        "### Шаг 9. Какая медианная (`.median()`) и средняя (`.mean()`) частота встречаемости имен в датасете?"
      ]
    },
    {
      "cell_type": "code",
      "execution_count": null,
      "metadata": {
        "id": "tt7jKaFZXYzV"
      },
      "outputs": [],
      "source": []
    },
    {
      "cell_type": "markdown",
      "metadata": {
        "id": "RL09uDq2XYzV"
      },
      "source": [
        "### Шаг 10. Получите описание датасета с точки зрения статистики."
      ]
    },
    {
      "cell_type": "code",
      "execution_count": null,
      "metadata": {
        "id": "KFsD27yXXYzV"
      },
      "outputs": [],
      "source": []
    }
  ],
  "metadata": {
    "kernelspec": {
      "display_name": "Python 3 (ipykernel)",
      "language": "python",
      "name": "python3"
    },
    "language_info": {
      "codemirror_mode": {
        "name": "ipython",
        "version": 3
      },
      "file_extension": ".py",
      "mimetype": "text/x-python",
      "name": "python",
      "nbconvert_exporter": "python",
      "pygments_lexer": "ipython3",
      "version": "3.11.5"
    },
    "colab": {
      "provenance": []
    }
  },
  "nbformat": 4,
  "nbformat_minor": 0
}