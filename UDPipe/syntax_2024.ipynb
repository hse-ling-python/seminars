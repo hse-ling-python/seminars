{
  "cells": [
    {
      "cell_type": "markdown",
      "source": [
        "# Синтаксис: зависимостный парсинг (*dependency parsing*)"
      ],
      "metadata": {
        "id": "TUFB-T4ka_vB"
      }
    },
    {
      "cell_type": "markdown",
      "source": [
        "Зависимостный парсинг $-$ одна из немногих задач, где лингвистика и компьютерные науки продуктивно взаимодействуют. Основную теорию тут разрабатывают лингвисты, они же размечают корпусы, а модели построены на самых последних разработках в области машинного обучения.\n",
        "\n",
        "**Что такое парсинг вообще и в какой момент его нужно использовать?**\n",
        "\n",
        "Сначала мы токенизируем текст и лемматизируем (делаем морфологический разбор), а потом мы переходим к **синтаксису** и вот тут-то нам и нужен парсер.\n",
        "\n",
        "Самые популярные парсеры:\n",
        "    \n",
        "- [**SyntaxNet (DRAGNN)**](https://github.com/tensorflow/models/tree/f2f25096d3dc6561a855dab914cf2913100728d6/research/syntaxnet) от гугла.<br>SyntaxNet активно развивается, но его достаточно трудоемко ставить.\n",
        "- **UDPipe** от Карлова Университета в Чехии.<br>UDPipe работает похуже, но установить его легче.\n",
        "- [**Spacy**](https://spacy.io/)\n",
        "- **TurkuNLP** - от университета Турку (это Финляндия).<br>Позиционируется он как парсер для финского, но там есть много других предобученных моделей и можно обучать свои.\n",
        "- [**MaltParser**](http://www.maltparser.org/)"
      ],
      "metadata": {
        "id": "5bEykYPDa49m"
      }
    },
    {
      "cell_type": "markdown",
      "source": [
        "При парсинге используется **грамматика зависимостей**, а не грамматика составляющих. Так, любое предложение можно представить в виде дерева зависимостей.\n",
        "\n",
        "![](https://upload.wikimedia.org/wikipedia/commons/0/0d/Wearetryingtounderstandthedifference_%282%29.jpg)"
      ],
      "metadata": {
        "id": "Oe6ZLemGdboL"
      }
    },
    {
      "cell_type": "markdown",
      "source": [
        "## SpaCy"
      ],
      "metadata": {
        "id": "jZmKcqsaeIKq"
      }
    },
    {
      "cell_type": "markdown",
      "metadata": {
        "id": "JPpBL05IKLjY"
      },
      "source": [
        "+ Библиотека для продвинутого NLP\n",
        "+ Ряд языков: английский, русский, китайский, немецкий, французский, итальянский, польский, испанский и др. Разрабатываются модели для всё новых языков\n",
        "+ Про spaCy: https://spacy.io/usage\n",
        "+ Установка:\n",
        "```python\n",
        "pip install -U spacy\n",
        "```\n",
        "    - для английского:\n",
        "    ```python\n",
        "    python -m spacy download en_core_web_sm\n",
        "    ```\n",
        "    - для русского:\n",
        "    ```python\n",
        "    python -m spacy download ru_core_news_sm\n",
        "    ```"
      ]
    },
    {
      "cell_type": "code",
      "source": [
        "# !pip install -U spacy --q\n",
        "# !python -m spacy download en_core_web_sm --q\n",
        "# !python -m spacy download ru_core_news_sm --q"
      ],
      "metadata": {
        "id": "x7Pqt_57LYXJ"
      },
      "execution_count": null,
      "outputs": []
    },
    {
      "cell_type": "code",
      "execution_count": null,
      "metadata": {
        "id": "7Rzo5Yc8KLja"
      },
      "outputs": [],
      "source": [
        "import spacy"
      ]
    },
    {
      "cell_type": "markdown",
      "metadata": {
        "id": "pos1rraaKLjd"
      },
      "source": [
        "### Функционал"
      ]
    },
    {
      "cell_type": "markdown",
      "metadata": {
        "id": "zpRgnhiOKLje"
      },
      "source": [
        "#### Лемматизация (+ токенизация): `.lemma_`"
      ]
    },
    {
      "cell_type": "code",
      "source": [
        "nlp_en = spacy.load(\"en_core_web_sm\")"
      ],
      "metadata": {
        "id": "DLPAWFBjm4HJ"
      },
      "execution_count": null,
      "outputs": []
    },
    {
      "cell_type": "code",
      "source": [
        "chomsky_doc = nlp_en(\"Colorless green ideas sleep furiously\")\n",
        "shakespeare_doc = nlp_en(\"To be, or not to be, that is the question: Whether 'tis nobler in the mind to suffer\")"
      ],
      "metadata": {
        "id": "7h2jb-xUOh2w"
      },
      "execution_count": null,
      "outputs": []
    },
    {
      "cell_type": "code",
      "execution_count": null,
      "metadata": {
        "id": "am9qPlyeKLjf",
        "outputId": "650eea48-0c17-4b7c-b83e-b423ffedbfe8",
        "colab": {
          "base_uri": "https://localhost:8080/"
        }
      },
      "outputs": [
        {
          "output_type": "stream",
          "name": "stdout",
          "text": [
            "Colorless colorless\n",
            "green green\n",
            "ideas idea\n",
            "sleep sleep\n",
            "furiously furiously\n"
          ]
        }
      ],
      "source": [
        "for token in chomsky_doc:\n",
        "    print(token.text, token.lemma_)"
      ]
    },
    {
      "cell_type": "code",
      "execution_count": null,
      "metadata": {
        "id": "JxjCMvYFKLjg",
        "outputId": "48c3d270-980a-40bd-e9c7-e888b95858f4",
        "colab": {
          "base_uri": "https://localhost:8080/"
        }
      },
      "outputs": [
        {
          "output_type": "stream",
          "name": "stdout",
          "text": [
            "To to\n",
            "be be\n",
            ", ,\n",
            "or or\n",
            "not not\n",
            "to to\n",
            "be be\n",
            ", ,\n",
            "that that\n",
            "is be\n",
            "the the\n",
            "question question\n",
            ": :\n",
            "Whether whether\n",
            "' '\n",
            "tis tis\n",
            "nobler nobler\n",
            "in in\n",
            "the the\n",
            "mind mind\n",
            "to to\n",
            "suffer suffer\n"
          ]
        }
      ],
      "source": [
        "for token in shakespeare_doc:\n",
        "    print(token.text, token.lemma_)"
      ]
    },
    {
      "cell_type": "markdown",
      "source": [
        "#### Частеречная разметка: `.pos_`\n",
        "\n",
        "[Документация](https://spacy.io/usage/linguistic-features)"
      ],
      "metadata": {
        "id": "yHNsr0TFOTDG"
      }
    },
    {
      "cell_type": "code",
      "execution_count": null,
      "metadata": {
        "id": "_oeiP4NdKLjd",
        "outputId": "8297eb77-3a71-4213-e83a-5659598b14e2",
        "colab": {
          "base_uri": "https://localhost:8080/"
        }
      },
      "outputs": [
        {
          "output_type": "stream",
          "name": "stdout",
          "text": [
            "Colorless ADJ\n",
            "green ADJ\n",
            "ideas NOUN\n",
            "sleep VERB\n",
            "furiously ADV\n"
          ]
        }
      ],
      "source": [
        "for token in chomsky_doc:\n",
        "    print(token.text, token.pos_)"
      ]
    },
    {
      "cell_type": "markdown",
      "source": [
        "#### Морфологический анализ: `.morph`"
      ],
      "metadata": {
        "id": "Jbt68hmhOvbi"
      }
    },
    {
      "cell_type": "code",
      "execution_count": null,
      "metadata": {
        "id": "ksDI8VvIKLjf",
        "outputId": "863c7952-ffc2-4cbf-87cf-a30a19ee54c5",
        "colab": {
          "base_uri": "https://localhost:8080/"
        }
      },
      "outputs": [
        {
          "output_type": "stream",
          "name": "stdout",
          "text": [
            "Colorless ADJ Degree=Pos\n",
            "green ADJ Degree=Pos\n",
            "ideas NOUN Number=Plur\n",
            "sleep VERB Tense=Pres|VerbForm=Fin\n",
            "furiously ADV \n"
          ]
        }
      ],
      "source": [
        "for token in chomsky_doc:\n",
        "    print(token.text, token.pos_, token.morph)"
      ]
    },
    {
      "cell_type": "markdown",
      "metadata": {
        "id": "s0ewrNhtKLjg"
      },
      "source": [
        "#### Синтаксис: деревья зависимостей"
      ]
    },
    {
      "cell_type": "code",
      "execution_count": null,
      "metadata": {
        "id": "8qXmohD4KLjg",
        "outputId": "0c37b0dc-a73b-4ca4-d025-d7be8d49696b",
        "colab": {
          "base_uri": "https://localhost:8080/"
        }
      },
      "outputs": [
        {
          "output_type": "stream",
          "name": "stdout",
          "text": [
            "Colorless colorless ADJ amod\n",
            "green green ADJ amod\n",
            "ideas idea NOUN nsubj\n",
            "sleep sleep VERB ROOT\n",
            "furiously furiously ADV advmod\n"
          ]
        }
      ],
      "source": [
        "for token in chomsky_doc:\n",
        "    print(token.text, token.lemma_, token.pos_, token.dep_)"
      ]
    },
    {
      "cell_type": "markdown",
      "metadata": {
        "id": "5m4ZZR3dKLjh"
      },
      "source": [
        "#### Навигация по дереву: вершины и зависимые"
      ]
    },
    {
      "cell_type": "markdown",
      "metadata": {
        "id": "Ynj_OhfqKLjh"
      },
      "source": [
        "Используется терминология `.head` (вершина) и `.children` (зависимые)"
      ]
    },
    {
      "cell_type": "code",
      "execution_count": null,
      "metadata": {
        "id": "YuV3moVYKLjh",
        "outputId": "e1dbc0b3-f6d3-45f7-fe56-b8095623a86f",
        "colab": {
          "base_uri": "https://localhost:8080/"
        }
      },
      "outputs": [
        {
          "output_type": "stream",
          "name": "stdout",
          "text": [
            "Colorless amod ideas NOUN []\n",
            "green amod ideas NOUN []\n",
            "ideas nsubj sleep VERB [Colorless, green]\n",
            "sleep ROOT sleep VERB [ideas, furiously]\n",
            "furiously advmod sleep VERB []\n"
          ]
        }
      ],
      "source": [
        "for token in chomsky_doc:\n",
        "    print(token.text, token.dep_, token.head.text, token.head.pos_,\n",
        "            [child for child in token.children])"
      ]
    },
    {
      "cell_type": "code",
      "source": [
        "donkey_doc = nlp_en(\"If a farmer owns a donkey, he beats it.\")"
      ],
      "metadata": {
        "id": "rp5m3nr3P0RU"
      },
      "execution_count": null,
      "outputs": []
    },
    {
      "cell_type": "code",
      "execution_count": null,
      "metadata": {
        "id": "UUy1TmKSKLjh",
        "outputId": "08f3ca1e-7222-4785-d677-6260dd13d0a5",
        "colab": {
          "base_uri": "https://localhost:8080/"
        }
      },
      "outputs": [
        {
          "output_type": "stream",
          "name": "stdout",
          "text": [
            "If mark owns VERB []\n",
            "a det farmer NOUN []\n",
            "farmer nsubj owns VERB [a]\n",
            "owns advcl beats VERB [If, farmer, donkey]\n",
            "a det donkey NOUN []\n",
            "donkey dobj owns VERB [a]\n",
            ", punct beats VERB []\n",
            "he nsubj beats VERB []\n",
            "beats ROOT beats VERB [owns, ,, he, it, .]\n",
            "it dobj beats VERB []\n",
            ". punct beats VERB []\n"
          ]
        }
      ],
      "source": [
        "for token in donkey_doc:\n",
        "    print(token.text, token.dep_, token.head.text, token.head.pos_,\n",
        "            [child for child in token.children])"
      ]
    },
    {
      "cell_type": "markdown",
      "metadata": {
        "id": "B7EKvs8gKLjh"
      },
      "source": [
        "Найдём детей *beats* справа (`.rights`) и слева (`.lefts`) в дереве:"
      ]
    },
    {
      "cell_type": "code",
      "execution_count": null,
      "metadata": {
        "id": "pnyF60eRKLji",
        "outputId": "f01408f2-b649-4d47-b141-030f48a1b96e",
        "colab": {
          "base_uri": "https://localhost:8080/"
        }
      },
      "outputs": [
        {
          "output_type": "stream",
          "name": "stdout",
          "text": [
            "beats\n",
            "3 left child(ren): ['owns', ',', 'he']\n",
            "2 right child(ren): ['it', '.']\n"
          ]
        }
      ],
      "source": [
        "donkey_doc = nlp_en(\"If a farmer owns a donkey, he beats it.\")\n",
        "print(donkey_doc[8])\n",
        "print(f'{donkey_doc[8].n_lefts} left child(ren): {[token.text for token in donkey_doc[8].lefts]}')\n",
        "print(f'{donkey_doc[8].n_rights} right child(ren): {[token.text for token in donkey_doc[8].rights]}')"
      ]
    },
    {
      "cell_type": "markdown",
      "metadata": {
        "id": "eB9QVlFkKLji"
      },
      "source": [
        "Теперь найдём тип зависимости, детей слева, детей справа, родителей:"
      ]
    },
    {
      "cell_type": "code",
      "execution_count": null,
      "metadata": {
        "id": "PAaaWRtfKLji",
        "outputId": "bef32a88-49b7-4fdb-8dfb-47c638d67f2a",
        "colab": {
          "base_uri": "https://localhost:8080/"
        }
      },
      "outputs": [
        {
          "output_type": "stream",
          "name": "stdout",
          "text": [
            "If mark 0 0 ['owns', 'beats']\n",
            "a det 0 0 ['farmer', 'owns', 'beats']\n",
            "farmer nsubj 1 0 ['owns', 'beats']\n",
            "owns advcl 2 1 ['beats']\n",
            "a det 0 0 ['donkey', 'owns', 'beats']\n",
            "donkey dobj 1 0 ['owns', 'beats']\n"
          ]
        }
      ],
      "source": [
        "root = [token for token in donkey_doc if token.head == token][0]  # находим корневой элемент\n",
        "subject = list(root.lefts)[0]  # берем только детей слева (ака if-часть)\n",
        "for descendant in subject.subtree:\n",
        "    assert subject is descendant or subject.is_ancestor(descendant)\n",
        "    print(descendant.text,  # слово\n",
        "          descendant.dep_,  # тип зависимости\n",
        "          descendant.n_lefts,  # сколько детей слева\n",
        "          descendant.n_rights,  # сколько детей справа\n",
        "          [ancestor.text for ancestor in descendant.ancestors]  # список родителей\n",
        "          )"
      ]
    },
    {
      "cell_type": "markdown",
      "metadata": {
        "id": "OBDCWi-dKLji"
      },
      "source": [
        "Распечатаем часть речи, тип зависимости, вершину:"
      ]
    },
    {
      "cell_type": "code",
      "execution_count": null,
      "metadata": {
        "id": "1Ja6rJTZKLjj",
        "outputId": "47a3f7a0-bc5f-41c1-8a58-b775ca1cd896",
        "colab": {
          "base_uri": "https://localhost:8080/"
        }
      },
      "outputs": [
        {
          "output_type": "stream",
          "name": "stdout",
          "text": [
            "If SCONJ mark owns\n",
            "a DET det farmer\n",
            "farmer NOUN nsubj owns\n",
            "owns VERB advcl beats\n",
            "a DET det donkey\n",
            "donkey NOUN dobj owns\n",
            ", PUNCT punct beats\n",
            "he PRON nsubj beats\n",
            "beats VERB ROOT beats\n",
            "it PRON dobj beats\n",
            ". PUNCT punct beats\n"
          ]
        }
      ],
      "source": [
        "for token in donkey_doc:\n",
        "    print(token.text, token.pos_, token.dep_, token.head.text)"
      ]
    },
    {
      "cell_type": "markdown",
      "metadata": {
        "id": "S65SI0T4KLjj"
      },
      "source": [
        "Визуализируем дерево:"
      ]
    },
    {
      "cell_type": "code",
      "execution_count": null,
      "metadata": {
        "id": "v7wuwD2rKLjj"
      },
      "outputs": [],
      "source": [
        "from spacy import displacy"
      ]
    },
    {
      "cell_type": "code",
      "execution_count": null,
      "metadata": {
        "id": "-6YrejUGKLjj",
        "outputId": "a04d0580-db68-483e-9147-6de8c88f3e0e",
        "colab": {
          "base_uri": "https://localhost:8080/",
          "height": 441
        }
      },
      "outputs": [
        {
          "output_type": "display_data",
          "data": {
            "text/plain": [
              "<IPython.core.display.HTML object>"
            ],
            "text/html": [
              "<span class=\"tex2jax_ignore\"><svg xmlns=\"http://www.w3.org/2000/svg\" xmlns:xlink=\"http://www.w3.org/1999/xlink\" xml:lang=\"en\" id=\"7eb57cb93fe04cfea796752965d62868-0\" class=\"displacy\" width=\"1625\" height=\"399.5\" direction=\"ltr\" style=\"max-width: none; height: 399.5px; color: #000000; background: #ffffff; font-family: Arial; direction: ltr\">\n",
              "<text class=\"displacy-token\" fill=\"currentColor\" text-anchor=\"middle\" y=\"309.5\">\n",
              "    <tspan class=\"displacy-word\" fill=\"currentColor\" x=\"50\">If</tspan>\n",
              "    <tspan class=\"displacy-tag\" dy=\"2em\" fill=\"currentColor\" x=\"50\">SCONJ</tspan>\n",
              "</text>\n",
              "\n",
              "<text class=\"displacy-token\" fill=\"currentColor\" text-anchor=\"middle\" y=\"309.5\">\n",
              "    <tspan class=\"displacy-word\" fill=\"currentColor\" x=\"225\">a</tspan>\n",
              "    <tspan class=\"displacy-tag\" dy=\"2em\" fill=\"currentColor\" x=\"225\">DET</tspan>\n",
              "</text>\n",
              "\n",
              "<text class=\"displacy-token\" fill=\"currentColor\" text-anchor=\"middle\" y=\"309.5\">\n",
              "    <tspan class=\"displacy-word\" fill=\"currentColor\" x=\"400\">farmer</tspan>\n",
              "    <tspan class=\"displacy-tag\" dy=\"2em\" fill=\"currentColor\" x=\"400\">NOUN</tspan>\n",
              "</text>\n",
              "\n",
              "<text class=\"displacy-token\" fill=\"currentColor\" text-anchor=\"middle\" y=\"309.5\">\n",
              "    <tspan class=\"displacy-word\" fill=\"currentColor\" x=\"575\">owns</tspan>\n",
              "    <tspan class=\"displacy-tag\" dy=\"2em\" fill=\"currentColor\" x=\"575\">VERB</tspan>\n",
              "</text>\n",
              "\n",
              "<text class=\"displacy-token\" fill=\"currentColor\" text-anchor=\"middle\" y=\"309.5\">\n",
              "    <tspan class=\"displacy-word\" fill=\"currentColor\" x=\"750\">a</tspan>\n",
              "    <tspan class=\"displacy-tag\" dy=\"2em\" fill=\"currentColor\" x=\"750\">DET</tspan>\n",
              "</text>\n",
              "\n",
              "<text class=\"displacy-token\" fill=\"currentColor\" text-anchor=\"middle\" y=\"309.5\">\n",
              "    <tspan class=\"displacy-word\" fill=\"currentColor\" x=\"925\">donkey,</tspan>\n",
              "    <tspan class=\"displacy-tag\" dy=\"2em\" fill=\"currentColor\" x=\"925\">NOUN</tspan>\n",
              "</text>\n",
              "\n",
              "<text class=\"displacy-token\" fill=\"currentColor\" text-anchor=\"middle\" y=\"309.5\">\n",
              "    <tspan class=\"displacy-word\" fill=\"currentColor\" x=\"1100\">he</tspan>\n",
              "    <tspan class=\"displacy-tag\" dy=\"2em\" fill=\"currentColor\" x=\"1100\">PRON</tspan>\n",
              "</text>\n",
              "\n",
              "<text class=\"displacy-token\" fill=\"currentColor\" text-anchor=\"middle\" y=\"309.5\">\n",
              "    <tspan class=\"displacy-word\" fill=\"currentColor\" x=\"1275\">beats</tspan>\n",
              "    <tspan class=\"displacy-tag\" dy=\"2em\" fill=\"currentColor\" x=\"1275\">VERB</tspan>\n",
              "</text>\n",
              "\n",
              "<text class=\"displacy-token\" fill=\"currentColor\" text-anchor=\"middle\" y=\"309.5\">\n",
              "    <tspan class=\"displacy-word\" fill=\"currentColor\" x=\"1450\">it.</tspan>\n",
              "    <tspan class=\"displacy-tag\" dy=\"2em\" fill=\"currentColor\" x=\"1450\">PRON</tspan>\n",
              "</text>\n",
              "\n",
              "<g class=\"displacy-arrow\">\n",
              "    <path class=\"displacy-arc\" id=\"arrow-7eb57cb93fe04cfea796752965d62868-0-0\" stroke-width=\"2px\" d=\"M70,264.5 C70,89.5 570.0,89.5 570.0,264.5\" fill=\"none\" stroke=\"currentColor\"/>\n",
              "    <text dy=\"1.25em\" style=\"font-size: 0.8em; letter-spacing: 1px\">\n",
              "        <textPath xlink:href=\"#arrow-7eb57cb93fe04cfea796752965d62868-0-0\" class=\"displacy-label\" startOffset=\"50%\" side=\"left\" fill=\"currentColor\" text-anchor=\"middle\">mark</textPath>\n",
              "    </text>\n",
              "    <path class=\"displacy-arrowhead\" d=\"M70,266.5 L62,254.5 78,254.5\" fill=\"currentColor\"/>\n",
              "</g>\n",
              "\n",
              "<g class=\"displacy-arrow\">\n",
              "    <path class=\"displacy-arc\" id=\"arrow-7eb57cb93fe04cfea796752965d62868-0-1\" stroke-width=\"2px\" d=\"M245,264.5 C245,177.0 390.0,177.0 390.0,264.5\" fill=\"none\" stroke=\"currentColor\"/>\n",
              "    <text dy=\"1.25em\" style=\"font-size: 0.8em; letter-spacing: 1px\">\n",
              "        <textPath xlink:href=\"#arrow-7eb57cb93fe04cfea796752965d62868-0-1\" class=\"displacy-label\" startOffset=\"50%\" side=\"left\" fill=\"currentColor\" text-anchor=\"middle\">det</textPath>\n",
              "    </text>\n",
              "    <path class=\"displacy-arrowhead\" d=\"M245,266.5 L237,254.5 253,254.5\" fill=\"currentColor\"/>\n",
              "</g>\n",
              "\n",
              "<g class=\"displacy-arrow\">\n",
              "    <path class=\"displacy-arc\" id=\"arrow-7eb57cb93fe04cfea796752965d62868-0-2\" stroke-width=\"2px\" d=\"M420,264.5 C420,177.0 565.0,177.0 565.0,264.5\" fill=\"none\" stroke=\"currentColor\"/>\n",
              "    <text dy=\"1.25em\" style=\"font-size: 0.8em; letter-spacing: 1px\">\n",
              "        <textPath xlink:href=\"#arrow-7eb57cb93fe04cfea796752965d62868-0-2\" class=\"displacy-label\" startOffset=\"50%\" side=\"left\" fill=\"currentColor\" text-anchor=\"middle\">nsubj</textPath>\n",
              "    </text>\n",
              "    <path class=\"displacy-arrowhead\" d=\"M420,266.5 L412,254.5 428,254.5\" fill=\"currentColor\"/>\n",
              "</g>\n",
              "\n",
              "<g class=\"displacy-arrow\">\n",
              "    <path class=\"displacy-arc\" id=\"arrow-7eb57cb93fe04cfea796752965d62868-0-3\" stroke-width=\"2px\" d=\"M595,264.5 C595,2.0 1275.0,2.0 1275.0,264.5\" fill=\"none\" stroke=\"currentColor\"/>\n",
              "    <text dy=\"1.25em\" style=\"font-size: 0.8em; letter-spacing: 1px\">\n",
              "        <textPath xlink:href=\"#arrow-7eb57cb93fe04cfea796752965d62868-0-3\" class=\"displacy-label\" startOffset=\"50%\" side=\"left\" fill=\"currentColor\" text-anchor=\"middle\">advcl</textPath>\n",
              "    </text>\n",
              "    <path class=\"displacy-arrowhead\" d=\"M595,266.5 L587,254.5 603,254.5\" fill=\"currentColor\"/>\n",
              "</g>\n",
              "\n",
              "<g class=\"displacy-arrow\">\n",
              "    <path class=\"displacy-arc\" id=\"arrow-7eb57cb93fe04cfea796752965d62868-0-4\" stroke-width=\"2px\" d=\"M770,264.5 C770,177.0 915.0,177.0 915.0,264.5\" fill=\"none\" stroke=\"currentColor\"/>\n",
              "    <text dy=\"1.25em\" style=\"font-size: 0.8em; letter-spacing: 1px\">\n",
              "        <textPath xlink:href=\"#arrow-7eb57cb93fe04cfea796752965d62868-0-4\" class=\"displacy-label\" startOffset=\"50%\" side=\"left\" fill=\"currentColor\" text-anchor=\"middle\">det</textPath>\n",
              "    </text>\n",
              "    <path class=\"displacy-arrowhead\" d=\"M770,266.5 L762,254.5 778,254.5\" fill=\"currentColor\"/>\n",
              "</g>\n",
              "\n",
              "<g class=\"displacy-arrow\">\n",
              "    <path class=\"displacy-arc\" id=\"arrow-7eb57cb93fe04cfea796752965d62868-0-5\" stroke-width=\"2px\" d=\"M595,264.5 C595,89.5 920.0,89.5 920.0,264.5\" fill=\"none\" stroke=\"currentColor\"/>\n",
              "    <text dy=\"1.25em\" style=\"font-size: 0.8em; letter-spacing: 1px\">\n",
              "        <textPath xlink:href=\"#arrow-7eb57cb93fe04cfea796752965d62868-0-5\" class=\"displacy-label\" startOffset=\"50%\" side=\"left\" fill=\"currentColor\" text-anchor=\"middle\">dobj</textPath>\n",
              "    </text>\n",
              "    <path class=\"displacy-arrowhead\" d=\"M920.0,266.5 L928.0,254.5 912.0,254.5\" fill=\"currentColor\"/>\n",
              "</g>\n",
              "\n",
              "<g class=\"displacy-arrow\">\n",
              "    <path class=\"displacy-arc\" id=\"arrow-7eb57cb93fe04cfea796752965d62868-0-6\" stroke-width=\"2px\" d=\"M1120,264.5 C1120,177.0 1265.0,177.0 1265.0,264.5\" fill=\"none\" stroke=\"currentColor\"/>\n",
              "    <text dy=\"1.25em\" style=\"font-size: 0.8em; letter-spacing: 1px\">\n",
              "        <textPath xlink:href=\"#arrow-7eb57cb93fe04cfea796752965d62868-0-6\" class=\"displacy-label\" startOffset=\"50%\" side=\"left\" fill=\"currentColor\" text-anchor=\"middle\">nsubj</textPath>\n",
              "    </text>\n",
              "    <path class=\"displacy-arrowhead\" d=\"M1120,266.5 L1112,254.5 1128,254.5\" fill=\"currentColor\"/>\n",
              "</g>\n",
              "\n",
              "<g class=\"displacy-arrow\">\n",
              "    <path class=\"displacy-arc\" id=\"arrow-7eb57cb93fe04cfea796752965d62868-0-7\" stroke-width=\"2px\" d=\"M1295,264.5 C1295,177.0 1440.0,177.0 1440.0,264.5\" fill=\"none\" stroke=\"currentColor\"/>\n",
              "    <text dy=\"1.25em\" style=\"font-size: 0.8em; letter-spacing: 1px\">\n",
              "        <textPath xlink:href=\"#arrow-7eb57cb93fe04cfea796752965d62868-0-7\" class=\"displacy-label\" startOffset=\"50%\" side=\"left\" fill=\"currentColor\" text-anchor=\"middle\">dobj</textPath>\n",
              "    </text>\n",
              "    <path class=\"displacy-arrowhead\" d=\"M1440.0,266.5 L1448.0,254.5 1432.0,254.5\" fill=\"currentColor\"/>\n",
              "</g>\n",
              "</svg></span>"
            ]
          },
          "metadata": {}
        }
      ],
      "source": [
        "displacy.render(donkey_doc, style='dep')"
      ]
    },
    {
      "cell_type": "markdown",
      "metadata": {
        "id": "4NOLHFHFKLjk"
      },
      "source": [
        "#### Named Entity Recognition (NER)"
      ]
    },
    {
      "cell_type": "code",
      "source": [
        "from spacy.tokens import Span"
      ],
      "metadata": {
        "id": "D9ZEAHBnXQuM"
      },
      "execution_count": null,
      "outputs": []
    },
    {
      "cell_type": "code",
      "source": [
        "doc_twit = nlp_en(\"President Donald Trump is permanently blocked on Twitter.\")\n",
        "\n",
        "for ent in doc_twit.ents:\n",
        "    print(ent.text, ent.start_char, ent.end_char, ent.label_)"
      ],
      "metadata": {
        "colab": {
          "base_uri": "https://localhost:8080/"
        },
        "id": "4NHJQCmaWAY4",
        "outputId": "4c143848-08e2-4d8f-877f-e2935f985b92"
      },
      "execution_count": null,
      "outputs": [
        {
          "output_type": "stream",
          "name": "stdout",
          "text": [
            "Donald Trump 10 22 PERSON\n",
            "Twitter 49 56 PRODUCT\n"
          ]
        }
      ]
    },
    {
      "cell_type": "code",
      "execution_count": null,
      "metadata": {
        "id": "MOjDeVHQKLjl",
        "outputId": "1fd31d58-843b-46df-9125-65047a873dd4",
        "colab": {
          "base_uri": "https://localhost:8080/"
        }
      },
      "outputs": [
        {
          "output_type": "stream",
          "name": "stdout",
          "text": [
            "Before [('Donald Trump', 10, 22, 'PERSON'), ('Twitter', 49, 56, 'PRODUCT')]\n",
            "After [('President', 0, 9, 'PE'), ('Donald Trump', 10, 22, 'PERSON'), ('Twitter', 49, 56, 'PRODUCT')]\n"
          ]
        }
      ],
      "source": [
        "ents = [(e.text, e.start_char, e.end_char, e.label_) for e in doc_twit.ents]\n",
        "print('Before', ents)\n",
        "# the model didn't recognise \"President\" :(\n",
        "\n",
        "president_ent = Span(doc_twit, 0, 1, label=\"PE\")  # create a Span for the new entity, PE = political entity\n",
        "doc_twit.ents = list(doc_twit.ents) + [president_ent]\n",
        "\n",
        "ents = [(e.text, e.start_char, e.end_char, e.label_) for e in doc_twit.ents]\n",
        "print('After', ents)"
      ]
    },
    {
      "cell_type": "code",
      "source": [
        "displacy.render(doc_twit, style='ent')"
      ],
      "metadata": {
        "colab": {
          "base_uri": "https://localhost:8080/",
          "height": 52
        },
        "id": "aKS_S_IwV8hj",
        "outputId": "3e181bb6-4943-4aca-a550-7fe7db78158f"
      },
      "execution_count": null,
      "outputs": [
        {
          "output_type": "display_data",
          "data": {
            "text/plain": [
              "<IPython.core.display.HTML object>"
            ],
            "text/html": [
              "<span class=\"tex2jax_ignore\"><div class=\"entities\" style=\"line-height: 2.5; direction: ltr\">\n",
              "<mark class=\"entity\" style=\"background: #ddd; padding: 0.45em 0.6em; margin: 0 0.25em; line-height: 1; border-radius: 0.35em;\">\n",
              "    President\n",
              "    <span style=\"font-size: 0.8em; font-weight: bold; line-height: 1; border-radius: 0.35em; vertical-align: middle; margin-left: 0.5rem\">PE</span>\n",
              "</mark>\n",
              " \n",
              "<mark class=\"entity\" style=\"background: #aa9cfc; padding: 0.45em 0.6em; margin: 0 0.25em; line-height: 1; border-radius: 0.35em;\">\n",
              "    Donald Trump\n",
              "    <span style=\"font-size: 0.8em; font-weight: bold; line-height: 1; border-radius: 0.35em; vertical-align: middle; margin-left: 0.5rem\">PERSON</span>\n",
              "</mark>\n",
              " is permanently blocked on \n",
              "<mark class=\"entity\" style=\"background: #bfeeb7; padding: 0.45em 0.6em; margin: 0 0.25em; line-height: 1; border-radius: 0.35em;\">\n",
              "    Twitter\n",
              "    <span style=\"font-size: 0.8em; font-weight: bold; line-height: 1; border-radius: 0.35em; vertical-align: middle; margin-left: 0.5rem\">PRODUCT</span>\n",
              "</mark>\n",
              ".</div></span>"
            ]
          },
          "metadata": {}
        }
      ]
    },
    {
      "cell_type": "markdown",
      "metadata": {
        "id": "u7ye8dbTKLjm"
      },
      "source": [
        "#### Как обстоят дела с другими языками?"
      ]
    },
    {
      "cell_type": "markdown",
      "metadata": {
        "id": "4dMiq7uPKLjn"
      },
      "source": [
        "Загрузим модель для русского языка:"
      ]
    },
    {
      "cell_type": "code",
      "execution_count": null,
      "metadata": {
        "id": "KpxCZDapKLjn"
      },
      "outputs": [],
      "source": [
        "nlp_ru = spacy.load(\"ru_core_news_sm\")"
      ]
    },
    {
      "cell_type": "code",
      "execution_count": null,
      "metadata": {
        "id": "COYVAB7EKLjn",
        "outputId": "0d8f97be-1237-4002-9288-34a16d17c349",
        "colab": {
          "base_uri": "https://localhost:8080/"
        }
      },
      "outputs": [
        {
          "output_type": "stream",
          "name": "stdout",
          "text": [
            "Блины блин NOUN Animacy=Inan|Case=Nom|Gender=Masc|Number=Plur\n",
            "бабушка бабушка NOUN Animacy=Anim|Case=Nom|Gender=Fem|Number=Sing\n",
            "очень очень ADV Degree=Pos\n",
            "уж уж PART \n",
            "вкусные вкусный ADJ Case=Nom|Degree=Pos|Number=Plur\n",
            "печет печет NOUN Animacy=Inan|Case=Nom|Gender=Masc|Number=Sing\n",
            ". . PUNCT \n"
          ]
        }
      ],
      "source": [
        "pancakes_doc = nlp_ru(\"Блины бабушка очень уж вкусные печет.\")\n",
        "for token in pancakes_doc:\n",
        "    print(token.text, token.lemma_, token.pos_, token.morph)"
      ]
    },
    {
      "cell_type": "code",
      "source": [
        "displacy.render(pancakes_doc, style='dep')"
      ],
      "metadata": {
        "colab": {
          "base_uri": "https://localhost:8080/",
          "height": 421
        },
        "id": "fG_B5mfKaFzL",
        "outputId": "445e14a0-db05-44ae-c785-b98bb158ce4e"
      },
      "execution_count": null,
      "outputs": [
        {
          "output_type": "display_data",
          "data": {
            "text/plain": [
              "<IPython.core.display.HTML object>"
            ],
            "text/html": [
              "<span class=\"tex2jax_ignore\"><svg xmlns=\"http://www.w3.org/2000/svg\" xmlns:xlink=\"http://www.w3.org/1999/xlink\" xml:lang=\"ru\" id=\"9c0705231d394c6d98eb1383df2dcc53-0\" class=\"displacy\" width=\"1100\" height=\"399.5\" direction=\"ltr\" style=\"max-width: none; height: 399.5px; color: #000000; background: #ffffff; font-family: Arial; direction: ltr\">\n",
              "<text class=\"displacy-token\" fill=\"currentColor\" text-anchor=\"middle\" y=\"309.5\">\n",
              "    <tspan class=\"displacy-word\" fill=\"currentColor\" x=\"50\">Блины</tspan>\n",
              "    <tspan class=\"displacy-tag\" dy=\"2em\" fill=\"currentColor\" x=\"50\">NOUN</tspan>\n",
              "</text>\n",
              "\n",
              "<text class=\"displacy-token\" fill=\"currentColor\" text-anchor=\"middle\" y=\"309.5\">\n",
              "    <tspan class=\"displacy-word\" fill=\"currentColor\" x=\"225\">бабушка</tspan>\n",
              "    <tspan class=\"displacy-tag\" dy=\"2em\" fill=\"currentColor\" x=\"225\">NOUN</tspan>\n",
              "</text>\n",
              "\n",
              "<text class=\"displacy-token\" fill=\"currentColor\" text-anchor=\"middle\" y=\"309.5\">\n",
              "    <tspan class=\"displacy-word\" fill=\"currentColor\" x=\"400\">очень</tspan>\n",
              "    <tspan class=\"displacy-tag\" dy=\"2em\" fill=\"currentColor\" x=\"400\">ADV</tspan>\n",
              "</text>\n",
              "\n",
              "<text class=\"displacy-token\" fill=\"currentColor\" text-anchor=\"middle\" y=\"309.5\">\n",
              "    <tspan class=\"displacy-word\" fill=\"currentColor\" x=\"575\">уж</tspan>\n",
              "    <tspan class=\"displacy-tag\" dy=\"2em\" fill=\"currentColor\" x=\"575\">PART</tspan>\n",
              "</text>\n",
              "\n",
              "<text class=\"displacy-token\" fill=\"currentColor\" text-anchor=\"middle\" y=\"309.5\">\n",
              "    <tspan class=\"displacy-word\" fill=\"currentColor\" x=\"750\">вкусные</tspan>\n",
              "    <tspan class=\"displacy-tag\" dy=\"2em\" fill=\"currentColor\" x=\"750\">ADJ</tspan>\n",
              "</text>\n",
              "\n",
              "<text class=\"displacy-token\" fill=\"currentColor\" text-anchor=\"middle\" y=\"309.5\">\n",
              "    <tspan class=\"displacy-word\" fill=\"currentColor\" x=\"925\">печет.</tspan>\n",
              "    <tspan class=\"displacy-tag\" dy=\"2em\" fill=\"currentColor\" x=\"925\">NOUN</tspan>\n",
              "</text>\n",
              "\n",
              "<g class=\"displacy-arrow\">\n",
              "    <path class=\"displacy-arc\" id=\"arrow-9c0705231d394c6d98eb1383df2dcc53-0-0\" stroke-width=\"2px\" d=\"M70,264.5 C70,2.0 925.0,2.0 925.0,264.5\" fill=\"none\" stroke=\"currentColor\"/>\n",
              "    <text dy=\"1.25em\" style=\"font-size: 0.8em; letter-spacing: 1px\">\n",
              "        <textPath xlink:href=\"#arrow-9c0705231d394c6d98eb1383df2dcc53-0-0\" class=\"displacy-label\" startOffset=\"50%\" side=\"left\" fill=\"currentColor\" text-anchor=\"middle\">nsubj</textPath>\n",
              "    </text>\n",
              "    <path class=\"displacy-arrowhead\" d=\"M70,266.5 L62,254.5 78,254.5\" fill=\"currentColor\"/>\n",
              "</g>\n",
              "\n",
              "<g class=\"displacy-arrow\">\n",
              "    <path class=\"displacy-arc\" id=\"arrow-9c0705231d394c6d98eb1383df2dcc53-0-1\" stroke-width=\"2px\" d=\"M245,264.5 C245,89.5 920.0,89.5 920.0,264.5\" fill=\"none\" stroke=\"currentColor\"/>\n",
              "    <text dy=\"1.25em\" style=\"font-size: 0.8em; letter-spacing: 1px\">\n",
              "        <textPath xlink:href=\"#arrow-9c0705231d394c6d98eb1383df2dcc53-0-1\" class=\"displacy-label\" startOffset=\"50%\" side=\"left\" fill=\"currentColor\" text-anchor=\"middle\">nsubj</textPath>\n",
              "    </text>\n",
              "    <path class=\"displacy-arrowhead\" d=\"M245,266.5 L237,254.5 253,254.5\" fill=\"currentColor\"/>\n",
              "</g>\n",
              "\n",
              "<g class=\"displacy-arrow\">\n",
              "    <path class=\"displacy-arc\" id=\"arrow-9c0705231d394c6d98eb1383df2dcc53-0-2\" stroke-width=\"2px\" d=\"M420,264.5 C420,177.0 565.0,177.0 565.0,264.5\" fill=\"none\" stroke=\"currentColor\"/>\n",
              "    <text dy=\"1.25em\" style=\"font-size: 0.8em; letter-spacing: 1px\">\n",
              "        <textPath xlink:href=\"#arrow-9c0705231d394c6d98eb1383df2dcc53-0-2\" class=\"displacy-label\" startOffset=\"50%\" side=\"left\" fill=\"currentColor\" text-anchor=\"middle\">advmod</textPath>\n",
              "    </text>\n",
              "    <path class=\"displacy-arrowhead\" d=\"M420,266.5 L412,254.5 428,254.5\" fill=\"currentColor\"/>\n",
              "</g>\n",
              "\n",
              "<g class=\"displacy-arrow\">\n",
              "    <path class=\"displacy-arc\" id=\"arrow-9c0705231d394c6d98eb1383df2dcc53-0-3\" stroke-width=\"2px\" d=\"M595,264.5 C595,177.0 740.0,177.0 740.0,264.5\" fill=\"none\" stroke=\"currentColor\"/>\n",
              "    <text dy=\"1.25em\" style=\"font-size: 0.8em; letter-spacing: 1px\">\n",
              "        <textPath xlink:href=\"#arrow-9c0705231d394c6d98eb1383df2dcc53-0-3\" class=\"displacy-label\" startOffset=\"50%\" side=\"left\" fill=\"currentColor\" text-anchor=\"middle\">advmod</textPath>\n",
              "    </text>\n",
              "    <path class=\"displacy-arrowhead\" d=\"M595,266.5 L587,254.5 603,254.5\" fill=\"currentColor\"/>\n",
              "</g>\n",
              "\n",
              "<g class=\"displacy-arrow\">\n",
              "    <path class=\"displacy-arc\" id=\"arrow-9c0705231d394c6d98eb1383df2dcc53-0-4\" stroke-width=\"2px\" d=\"M770,264.5 C770,177.0 915.0,177.0 915.0,264.5\" fill=\"none\" stroke=\"currentColor\"/>\n",
              "    <text dy=\"1.25em\" style=\"font-size: 0.8em; letter-spacing: 1px\">\n",
              "        <textPath xlink:href=\"#arrow-9c0705231d394c6d98eb1383df2dcc53-0-4\" class=\"displacy-label\" startOffset=\"50%\" side=\"left\" fill=\"currentColor\" text-anchor=\"middle\">amod</textPath>\n",
              "    </text>\n",
              "    <path class=\"displacy-arrowhead\" d=\"M770,266.5 L762,254.5 778,254.5\" fill=\"currentColor\"/>\n",
              "</g>\n",
              "</svg></span>"
            ]
          },
          "metadata": {}
        }
      ]
    },
    {
      "cell_type": "code",
      "execution_count": null,
      "metadata": {
        "id": "DBKwaWbDKLjn",
        "outputId": "1d07a4b5-5eb4-4482-d257-eb8c3134e5d0",
        "colab": {
          "base_uri": "https://localhost:8080/",
          "height": 333
        }
      },
      "outputs": [
        {
          "output_type": "display_data",
          "data": {
            "text/plain": [
              "<IPython.core.display.HTML object>"
            ],
            "text/html": [
              "<span class=\"tex2jax_ignore\"><svg xmlns=\"http://www.w3.org/2000/svg\" xmlns:xlink=\"http://www.w3.org/1999/xlink\" xml:lang=\"ru\" id=\"c45b99154c8b42c795141998c7cb9a9c-0\" class=\"displacy\" width=\"575\" height=\"312.0\" direction=\"ltr\" style=\"max-width: none; height: 312.0px; color: #000000; background: #ffffff; font-family: Arial; direction: ltr\">\n",
              "<text class=\"displacy-token\" fill=\"currentColor\" text-anchor=\"middle\" y=\"222.0\">\n",
              "    <tspan class=\"displacy-word\" fill=\"currentColor\" x=\"50\">Какой</tspan>\n",
              "    <tspan class=\"displacy-tag\" dy=\"2em\" fill=\"currentColor\" x=\"50\">DET</tspan>\n",
              "</text>\n",
              "\n",
              "<text class=\"displacy-token\" fill=\"currentColor\" text-anchor=\"middle\" y=\"222.0\">\n",
              "    <tspan class=\"displacy-word\" fill=\"currentColor\" x=\"225\">прекрасный</tspan>\n",
              "    <tspan class=\"displacy-tag\" dy=\"2em\" fill=\"currentColor\" x=\"225\">ADJ</tspan>\n",
              "</text>\n",
              "\n",
              "<text class=\"displacy-token\" fill=\"currentColor\" text-anchor=\"middle\" y=\"222.0\">\n",
              "    <tspan class=\"displacy-word\" fill=\"currentColor\" x=\"400\">пень!</tspan>\n",
              "    <tspan class=\"displacy-tag\" dy=\"2em\" fill=\"currentColor\" x=\"400\">NOUN</tspan>\n",
              "</text>\n",
              "\n",
              "<g class=\"displacy-arrow\">\n",
              "    <path class=\"displacy-arc\" id=\"arrow-c45b99154c8b42c795141998c7cb9a9c-0-0\" stroke-width=\"2px\" d=\"M70,177.0 C70,2.0 400.0,2.0 400.0,177.0\" fill=\"none\" stroke=\"currentColor\"/>\n",
              "    <text dy=\"1.25em\" style=\"font-size: 0.8em; letter-spacing: 1px\">\n",
              "        <textPath xlink:href=\"#arrow-c45b99154c8b42c795141998c7cb9a9c-0-0\" class=\"displacy-label\" startOffset=\"50%\" side=\"left\" fill=\"currentColor\" text-anchor=\"middle\">det</textPath>\n",
              "    </text>\n",
              "    <path class=\"displacy-arrowhead\" d=\"M70,179.0 L62,167.0 78,167.0\" fill=\"currentColor\"/>\n",
              "</g>\n",
              "\n",
              "<g class=\"displacy-arrow\">\n",
              "    <path class=\"displacy-arc\" id=\"arrow-c45b99154c8b42c795141998c7cb9a9c-0-1\" stroke-width=\"2px\" d=\"M245,177.0 C245,89.5 395.0,89.5 395.0,177.0\" fill=\"none\" stroke=\"currentColor\"/>\n",
              "    <text dy=\"1.25em\" style=\"font-size: 0.8em; letter-spacing: 1px\">\n",
              "        <textPath xlink:href=\"#arrow-c45b99154c8b42c795141998c7cb9a9c-0-1\" class=\"displacy-label\" startOffset=\"50%\" side=\"left\" fill=\"currentColor\" text-anchor=\"middle\">amod</textPath>\n",
              "    </text>\n",
              "    <path class=\"displacy-arrowhead\" d=\"M245,179.0 L237,167.0 253,167.0\" fill=\"currentColor\"/>\n",
              "</g>\n",
              "</svg></span>"
            ]
          },
          "metadata": {}
        }
      ],
      "source": [
        "mouse_doc = nlp_ru(\"Какой прекрасный пень!\")\n",
        "\n",
        "displacy.render(mouse_doc, style='dep')"
      ]
    },
    {
      "cell_type": "code",
      "execution_count": null,
      "metadata": {
        "id": "Sd8ZETooKLjo",
        "outputId": "3ed69ef6-ed0c-4022-8e96-190f4aa0b292",
        "colab": {
          "base_uri": "https://localhost:8080/",
          "height": 528
        }
      },
      "outputs": [
        {
          "output_type": "display_data",
          "data": {
            "text/plain": [
              "<IPython.core.display.HTML object>"
            ],
            "text/html": [
              "<span class=\"tex2jax_ignore\"><svg xmlns=\"http://www.w3.org/2000/svg\" xmlns:xlink=\"http://www.w3.org/1999/xlink\" xml:lang=\"ru\" id=\"331fad581b4e4bedb9df961924cae46d-0\" class=\"displacy\" width=\"1450\" height=\"487.0\" direction=\"ltr\" style=\"max-width: none; height: 487.0px; color: #000000; background: #ffffff; font-family: Arial; direction: ltr\">\n",
              "<text class=\"displacy-token\" fill=\"currentColor\" text-anchor=\"middle\" y=\"397.0\">\n",
              "    <tspan class=\"displacy-word\" fill=\"currentColor\" x=\"50\">Семантику</tspan>\n",
              "    <tspan class=\"displacy-tag\" dy=\"2em\" fill=\"currentColor\" x=\"50\">NOUN</tspan>\n",
              "</text>\n",
              "\n",
              "<text class=\"displacy-token\" fill=\"currentColor\" text-anchor=\"middle\" y=\"397.0\">\n",
              "    <tspan class=\"displacy-word\" fill=\"currentColor\" x=\"225\">я</tspan>\n",
              "    <tspan class=\"displacy-tag\" dy=\"2em\" fill=\"currentColor\" x=\"225\">PRON</tspan>\n",
              "</text>\n",
              "\n",
              "<text class=\"displacy-token\" fill=\"currentColor\" text-anchor=\"middle\" y=\"397.0\">\n",
              "    <tspan class=\"displacy-word\" fill=\"currentColor\" x=\"400\">люблю,</tspan>\n",
              "    <tspan class=\"displacy-tag\" dy=\"2em\" fill=\"currentColor\" x=\"400\">VERB</tspan>\n",
              "</text>\n",
              "\n",
              "<text class=\"displacy-token\" fill=\"currentColor\" text-anchor=\"middle\" y=\"397.0\">\n",
              "    <tspan class=\"displacy-word\" fill=\"currentColor\" x=\"575\">а</tspan>\n",
              "    <tspan class=\"displacy-tag\" dy=\"2em\" fill=\"currentColor\" x=\"575\">CCONJ</tspan>\n",
              "</text>\n",
              "\n",
              "<text class=\"displacy-token\" fill=\"currentColor\" text-anchor=\"middle\" y=\"397.0\">\n",
              "    <tspan class=\"displacy-word\" fill=\"currentColor\" x=\"750\">вот</tspan>\n",
              "    <tspan class=\"displacy-tag\" dy=\"2em\" fill=\"currentColor\" x=\"750\">PART</tspan>\n",
              "</text>\n",
              "\n",
              "<text class=\"displacy-token\" fill=\"currentColor\" text-anchor=\"middle\" y=\"397.0\">\n",
              "    <tspan class=\"displacy-word\" fill=\"currentColor\" x=\"925\">синтаксис</tspan>\n",
              "    <tspan class=\"displacy-tag\" dy=\"2em\" fill=\"currentColor\" x=\"925\">NOUN</tspan>\n",
              "</text>\n",
              "\n",
              "<text class=\"displacy-token\" fill=\"currentColor\" text-anchor=\"middle\" y=\"397.0\">\n",
              "    <tspan class=\"displacy-word\" fill=\"currentColor\" x=\"1100\">не</tspan>\n",
              "    <tspan class=\"displacy-tag\" dy=\"2em\" fill=\"currentColor\" x=\"1100\">PART</tspan>\n",
              "</text>\n",
              "\n",
              "<text class=\"displacy-token\" fill=\"currentColor\" text-anchor=\"middle\" y=\"397.0\">\n",
              "    <tspan class=\"displacy-word\" fill=\"currentColor\" x=\"1275\">очень.</tspan>\n",
              "    <tspan class=\"displacy-tag\" dy=\"2em\" fill=\"currentColor\" x=\"1275\">ADV</tspan>\n",
              "</text>\n",
              "\n",
              "<g class=\"displacy-arrow\">\n",
              "    <path class=\"displacy-arc\" id=\"arrow-331fad581b4e4bedb9df961924cae46d-0-0\" stroke-width=\"2px\" d=\"M70,352.0 C70,177.0 390.0,177.0 390.0,352.0\" fill=\"none\" stroke=\"currentColor\"/>\n",
              "    <text dy=\"1.25em\" style=\"font-size: 0.8em; letter-spacing: 1px\">\n",
              "        <textPath xlink:href=\"#arrow-331fad581b4e4bedb9df961924cae46d-0-0\" class=\"displacy-label\" startOffset=\"50%\" side=\"left\" fill=\"currentColor\" text-anchor=\"middle\">obj</textPath>\n",
              "    </text>\n",
              "    <path class=\"displacy-arrowhead\" d=\"M70,354.0 L62,342.0 78,342.0\" fill=\"currentColor\"/>\n",
              "</g>\n",
              "\n",
              "<g class=\"displacy-arrow\">\n",
              "    <path class=\"displacy-arc\" id=\"arrow-331fad581b4e4bedb9df961924cae46d-0-1\" stroke-width=\"2px\" d=\"M245,352.0 C245,264.5 385.0,264.5 385.0,352.0\" fill=\"none\" stroke=\"currentColor\"/>\n",
              "    <text dy=\"1.25em\" style=\"font-size: 0.8em; letter-spacing: 1px\">\n",
              "        <textPath xlink:href=\"#arrow-331fad581b4e4bedb9df961924cae46d-0-1\" class=\"displacy-label\" startOffset=\"50%\" side=\"left\" fill=\"currentColor\" text-anchor=\"middle\">nsubj</textPath>\n",
              "    </text>\n",
              "    <path class=\"displacy-arrowhead\" d=\"M245,354.0 L237,342.0 253,342.0\" fill=\"currentColor\"/>\n",
              "</g>\n",
              "\n",
              "<g class=\"displacy-arrow\">\n",
              "    <path class=\"displacy-arc\" id=\"arrow-331fad581b4e4bedb9df961924cae46d-0-2\" stroke-width=\"2px\" d=\"M595,352.0 C595,89.5 1270.0,89.5 1270.0,352.0\" fill=\"none\" stroke=\"currentColor\"/>\n",
              "    <text dy=\"1.25em\" style=\"font-size: 0.8em; letter-spacing: 1px\">\n",
              "        <textPath xlink:href=\"#arrow-331fad581b4e4bedb9df961924cae46d-0-2\" class=\"displacy-label\" startOffset=\"50%\" side=\"left\" fill=\"currentColor\" text-anchor=\"middle\">cc</textPath>\n",
              "    </text>\n",
              "    <path class=\"displacy-arrowhead\" d=\"M595,354.0 L587,342.0 603,342.0\" fill=\"currentColor\"/>\n",
              "</g>\n",
              "\n",
              "<g class=\"displacy-arrow\">\n",
              "    <path class=\"displacy-arc\" id=\"arrow-331fad581b4e4bedb9df961924cae46d-0-3\" stroke-width=\"2px\" d=\"M770,352.0 C770,264.5 910.0,264.5 910.0,352.0\" fill=\"none\" stroke=\"currentColor\"/>\n",
              "    <text dy=\"1.25em\" style=\"font-size: 0.8em; letter-spacing: 1px\">\n",
              "        <textPath xlink:href=\"#arrow-331fad581b4e4bedb9df961924cae46d-0-3\" class=\"displacy-label\" startOffset=\"50%\" side=\"left\" fill=\"currentColor\" text-anchor=\"middle\">advmod</textPath>\n",
              "    </text>\n",
              "    <path class=\"displacy-arrowhead\" d=\"M770,354.0 L762,342.0 778,342.0\" fill=\"currentColor\"/>\n",
              "</g>\n",
              "\n",
              "<g class=\"displacy-arrow\">\n",
              "    <path class=\"displacy-arc\" id=\"arrow-331fad581b4e4bedb9df961924cae46d-0-4\" stroke-width=\"2px\" d=\"M945,352.0 C945,177.0 1265.0,177.0 1265.0,352.0\" fill=\"none\" stroke=\"currentColor\"/>\n",
              "    <text dy=\"1.25em\" style=\"font-size: 0.8em; letter-spacing: 1px\">\n",
              "        <textPath xlink:href=\"#arrow-331fad581b4e4bedb9df961924cae46d-0-4\" class=\"displacy-label\" startOffset=\"50%\" side=\"left\" fill=\"currentColor\" text-anchor=\"middle\">nsubj</textPath>\n",
              "    </text>\n",
              "    <path class=\"displacy-arrowhead\" d=\"M945,354.0 L937,342.0 953,342.0\" fill=\"currentColor\"/>\n",
              "</g>\n",
              "\n",
              "<g class=\"displacy-arrow\">\n",
              "    <path class=\"displacy-arc\" id=\"arrow-331fad581b4e4bedb9df961924cae46d-0-5\" stroke-width=\"2px\" d=\"M1120,352.0 C1120,264.5 1260.0,264.5 1260.0,352.0\" fill=\"none\" stroke=\"currentColor\"/>\n",
              "    <text dy=\"1.25em\" style=\"font-size: 0.8em; letter-spacing: 1px\">\n",
              "        <textPath xlink:href=\"#arrow-331fad581b4e4bedb9df961924cae46d-0-5\" class=\"displacy-label\" startOffset=\"50%\" side=\"left\" fill=\"currentColor\" text-anchor=\"middle\">advmod</textPath>\n",
              "    </text>\n",
              "    <path class=\"displacy-arrowhead\" d=\"M1120,354.0 L1112,342.0 1128,342.0\" fill=\"currentColor\"/>\n",
              "</g>\n",
              "\n",
              "<g class=\"displacy-arrow\">\n",
              "    <path class=\"displacy-arc\" id=\"arrow-331fad581b4e4bedb9df961924cae46d-0-6\" stroke-width=\"2px\" d=\"M420,352.0 C420,2.0 1275.0,2.0 1275.0,352.0\" fill=\"none\" stroke=\"currentColor\"/>\n",
              "    <text dy=\"1.25em\" style=\"font-size: 0.8em; letter-spacing: 1px\">\n",
              "        <textPath xlink:href=\"#arrow-331fad581b4e4bedb9df961924cae46d-0-6\" class=\"displacy-label\" startOffset=\"50%\" side=\"left\" fill=\"currentColor\" text-anchor=\"middle\">conj</textPath>\n",
              "    </text>\n",
              "    <path class=\"displacy-arrowhead\" d=\"M1275.0,354.0 L1283.0,342.0 1267.0,342.0\" fill=\"currentColor\"/>\n",
              "</g>\n",
              "</svg></span>"
            ]
          },
          "metadata": {}
        }
      ],
      "source": [
        "sem_synt_doc = nlp_ru(\"Семантику я люблю, а вот синтаксис не очень.\")\n",
        "\n",
        "displacy.render(sem_synt_doc, style='dep')"
      ]
    },
    {
      "cell_type": "code",
      "execution_count": null,
      "metadata": {
        "id": "IFwEjGleKLjo",
        "outputId": "714e4c5b-670b-4de2-c1c2-74e3c4548b1c",
        "colab": {
          "base_uri": "https://localhost:8080/",
          "height": 52
        }
      },
      "outputs": [
        {
          "output_type": "display_data",
          "data": {
            "text/plain": [
              "<IPython.core.display.HTML object>"
            ],
            "text/html": [
              "<span class=\"tex2jax_ignore\"><div class=\"entities\" style=\"line-height: 2.5; direction: ltr\">Легендарный \n",
              "<mark class=\"entity\" style=\"background: #ddd; padding: 0.45em 0.6em; margin: 0 0.25em; line-height: 1; border-radius: 0.35em;\">\n",
              "    Бока\n",
              "    <span style=\"font-size: 0.8em; font-weight: bold; line-height: 1; border-radius: 0.35em; vertical-align: middle; margin-left: 0.5rem\">PER</span>\n",
              "</mark>\n",
              " и его внук популярный певец \n",
              "<mark class=\"entity\" style=\"background: #ddd; padding: 0.45em 0.6em; margin: 0 0.25em; line-height: 1; border-radius: 0.35em;\">\n",
              "    Жока\n",
              "    <span style=\"font-size: 0.8em; font-weight: bold; line-height: 1; border-radius: 0.35em; vertical-align: middle; margin-left: 0.5rem\">PER</span>\n",
              "</mark>\n",
              " пишут код на \n",
              "<mark class=\"entity\" style=\"background: #7aecec; padding: 0.45em 0.6em; margin: 0 0.25em; line-height: 1; border-radius: 0.35em;\">\n",
              "    Python\n",
              "    <span style=\"font-size: 0.8em; font-weight: bold; line-height: 1; border-radius: 0.35em; vertical-align: middle; margin-left: 0.5rem\">ORG</span>\n",
              "</mark>\n",
              ".</div></span>"
            ]
          },
          "metadata": {}
        }
      ],
      "source": [
        "kate_doc = nlp_ru(\"Легендарный Бока и его внук популярный певец Жока пишут код на Python.\")\n",
        "\n",
        "displacy.render(kate_doc, style='ent')"
      ]
    },
    {
      "cell_type": "markdown",
      "source": [
        "## Universal Dependencies Parser"
      ],
      "metadata": {
        "id": "naLr-K7ebddj"
      }
    },
    {
      "cell_type": "markdown",
      "source": [
        "[Один из туториалов-сравнений](https://habr.com/ru/company/sberbank/blog/418701/)\n",
        "\n",
        "[**Universal Dependencies**](https://universaldependencies.org/) $-$ это проект по унификации разметки синтаксических корпусов (трибанков) в рамках грамматики зависимостей.\n",
        "\n",
        "В русском языке количество типов синтаксических связей ограничено: подлежащее, сказуемое и т.д. В английском то же самое, но набор уже другой. Например, там появляется артикль, который тоже надо как-то маркировать. Если бы мы хотели написать волшебный парсер, который мог бы обрабатывать все языки, то довольно быстро уперлись бы в проблемы сопоставления разных грамматик. Героическим создателям Universal Dependencies удалось договориться между собой и разметить все корпусы, которые имелись в их распоряжении, в едином формате.\n",
        "\n",
        "Для того, чтобы разметить что-то новое, нужно обучить модель на размеченном корпусе. Таких корпусов для русского языка есть несколько (можно посмотреть на сайте Universal Dependencies). Основные и самые большие размеченные корпуса:\n",
        "+ Syntagrus\n",
        "+ Taiga"
      ],
      "metadata": {
        "id": "6SgjRPN1bgDw"
      }
    },
    {
      "cell_type": "markdown",
      "source": [
        "### UDPipe 2.0, принцип работы"
      ],
      "metadata": {
        "id": "WvEC_5HjdWuV"
      }
    },
    {
      "cell_type": "markdown",
      "source": [
        "+ Сначала текст разделяется на предложения, а предложения $-$ на слова.\n",
        "+ Затем начинает работу теггер $-$ штука, которая предсказывает морфологические свойства токена: в каком падеже слово стоит, в каком числе. По последним четырем символам каждого слова теггер генерирует гипотезы относительно части речи и морфологических тегов этого слова, а затем при помощи перцептрона отбирает лучший вариант.\n",
        "+ В UDPipe есть еще лемматизатор, который подбирает для слов начальную форму.\n",
        "+ потом происходит синтаксический парсинг\n",
        "\n",
        "В итоге получается какой-то такой разбор по грамматике зависимостей предложения:\n",
        "\n",
        "Пример для английского            |  Пример для русского\n",
        ":--------------------------------:|:-------------------------:\n",
        "![](https://habrastorage.org/getpro/habr/post_images/686/c78/066/686c780661b296250d53cba054317a18.png)  |  ![](https://github.com/hse-ling-python/seminars/blob/master/UDPipe/koshka.png?raw=1)\n",
        "\n",
        "\n",
        "\n"
      ],
      "metadata": {
        "id": "zV17Z5aAdRcT"
      }
    },
    {
      "cell_type": "markdown",
      "source": [
        "## UDPipe в Python"
      ],
      "metadata": {
        "id": "8F7nvH8Qd-dZ"
      }
    },
    {
      "cell_type": "markdown",
      "source": [
        "+ Установка:\n",
        "```python\n",
        "pip install ufal.udpipe\n",
        "pip install conllu\n",
        "```\n",
        "+ вспомогательный скрипт `model.py`: cкачайте его себе с нашего [гитхаба](https://raw.githubusercontent.com/hse-ling-python/seminars/refs/heads/master/UDPipe/model.py).\n",
        "\n",
        "+ модель для русского (либо *taiga*, либо *syntagrus*): скачать [отсюда](https://github.com/jwijffels/udpipe.models.ud.2.4/tree/master/inst/udpipe-ud-2.4-190531). ."
      ],
      "metadata": {
        "id": "ZYuOH38veEwX"
      }
    },
    {
      "cell_type": "code",
      "source": [
        "# !pip install ufal.udpipe --q\n",
        "# !pip install conllu --q"
      ],
      "metadata": {
        "id": "RKGloEbVbczi"
      },
      "execution_count": null,
      "outputs": []
    },
    {
      "cell_type": "code",
      "source": [
        "!wget -q https://raw.githubusercontent.com/hse-ling-python/seminars/refs/heads/master/UDPipe/model.py\n",
        "!wget -q https://github.com/jwijffels/udpipe.models.ud.2.4/raw/refs/heads/master/inst/udpipe-ud-2.4-190531/russian-taiga-ud-2.4-190531.udpipe"
      ],
      "metadata": {
        "id": "g5lHGfmLeY1x"
      },
      "execution_count": null,
      "outputs": []
    },
    {
      "cell_type": "code",
      "source": [
        "import ufal.udpipe\n",
        "from model import Model\n",
        "import conllu\n",
        "from nltk.parse import DependencyGraph\n",
        "\n",
        "import warnings\n",
        "import os\n",
        "from collections import defaultdict, Counter\n",
        "\n",
        "import matplotlib\n",
        "import matplotlib.pyplot as plt\n",
        "import networkx as nx\n",
        "%matplotlib inline\n",
        "\n",
        "\n",
        "warnings.filterwarnings('ignore')"
      ],
      "metadata": {
        "id": "77CNHE6jeX86"
      },
      "execution_count": null,
      "outputs": []
    },
    {
      "cell_type": "code",
      "source": [
        "our_model = Model('russian-taiga-ud-2.4-190531.udpipe')"
      ],
      "metadata": {
        "id": "M8pBDwAHe1P8"
      },
      "execution_count": null,
      "outputs": []
    },
    {
      "cell_type": "code",
      "source": [
        "def get_conllu(my_model, text):\n",
        "    sentences = my_model.tokenize(text)\n",
        "\n",
        "    for sent in sentences:\n",
        "        my_model.tag(sent)\n",
        "        my_model.parse(sent)\n",
        "\n",
        "    conllu_text = my_model.write(sentences, \"conllu\")\n",
        "    return conllu_text"
      ],
      "metadata": {
        "id": "OlHw4q53e1xG"
      },
      "execution_count": null,
      "outputs": []
    },
    {
      "cell_type": "markdown",
      "metadata": {
        "id": "9IgBKWSgtRGR"
      },
      "source": [
        "#### Парсинг: `get_conllu` вернёт табличку с анализом каждого слова"
      ]
    },
    {
      "cell_type": "code",
      "metadata": {
        "id": "XzSN0vzftRGS",
        "outputId": "2aa9e35d-6eba-4331-b177-4306c100a998",
        "colab": {
          "base_uri": "https://localhost:8080/"
        }
      },
      "source": [
        "parsed_text = get_conllu(our_model, 'Я была в школе целый день. И завтра тоже там буду.')\n",
        "print(parsed_text)"
      ],
      "execution_count": null,
      "outputs": [
        {
          "output_type": "stream",
          "name": "stdout",
          "text": [
            "# newdoc\n",
            "# newpar\n",
            "# sent_id = 1\n",
            "# text = Я была в школе целый день.\n",
            "1\tЯ\tя\tPRON\t_\tCase=Nom|Number=Sing|Person=1\t6\tnsubj\t_\t_\n",
            "2\tбыла\tбыть\tAUX\t_\tAspect=Imp|Gender=Fem|Mood=Ind|Number=Sing|Tense=Past|VerbForm=Fin|Voice=Act\t6\tcop\t_\t_\n",
            "3\tв\tв\tADP\t_\t_\t4\tcase\t_\t_\n",
            "4\tшколе\tшколя\tNOUN\t_\tAnimacy=Inan|Case=Loc|Gender=Masc|Number=Sing\t6\tnmod\t_\t_\n",
            "5\tцелый\tцелый\tADJ\t_\tAnimacy=Inan|Case=Acc|Degree=Pos|Gender=Masc|Number=Sing\t6\tamod\t_\t_\n",
            "6\tдень\tдень\tNOUN\t_\tAnimacy=Inan|Case=Acc|Gender=Masc|Number=Sing\t0\troot\t_\tSpaceAfter=No\n",
            "7\t.\t.\tPUNCT\t_\t_\t6\tpunct\t_\t_\n",
            "\n",
            "# sent_id = 2\n",
            "# text = И завтра тоже там буду.\n",
            "1\tИ\tи\tCCONJ\t_\t_\t4\tcc\t_\t_\n",
            "2\tзавтра\tзавтра\tADV\t_\tDegree=Pos\t4\tadvmod\t_\t_\n",
            "3\tтоже\tтоже\tPART\t_\t_\t4\tadvmod\t_\t_\n",
            "4\tтам\tтам\tADV\t_\tDegree=Pos\t0\troot\t_\t_\n",
            "5\tбуду\tбыть\tAUX\t_\tAspect=Imp|Mood=Ind|Number=Sing|Person=1|Tense=Pres|VerbForm=Fin|Voice=Act\t4\tcop\t_\tSpaceAfter=No\n",
            "6\t.\t.\tPUNCT\t_\t_\t4\tpunct\t_\tSpaceAfter=No\n",
            "\n",
            "\n"
          ]
        }
      ]
    },
    {
      "cell_type": "code",
      "metadata": {
        "id": "Lhk3h_4ntRGV",
        "outputId": "a4af2a99-1da3-406b-9cac-62aaa1a95be1",
        "colab": {
          "base_uri": "https://localhost:8080/"
        }
      },
      "source": [
        "conllu.parse_tree(parsed_text)"
      ],
      "execution_count": null,
      "outputs": [
        {
          "output_type": "execute_result",
          "data": {
            "text/plain": [
              "[TokenTree<token={id=6, form=день}, children=[...]>,\n",
              " TokenTree<token={id=4, form=там}, children=[...]>]"
            ]
          },
          "metadata": {},
          "execution_count": 7
        }
      ]
    },
    {
      "cell_type": "markdown",
      "metadata": {
        "id": "GDbfqJnhtRGX"
      },
      "source": [
        "Получается, что это список из объектов, по одному для каждого предложения. Каждое предложение представляет собой дерево."
      ]
    },
    {
      "cell_type": "code",
      "metadata": {
        "id": "yad-yx0DtRGb"
      },
      "source": [
        "first_tree = conllu.parse_tree(parsed_text)[0]"
      ],
      "execution_count": null,
      "outputs": []
    },
    {
      "cell_type": "code",
      "metadata": {
        "id": "Ba825ZCEtRGf",
        "outputId": "4d4886d4-dde7-430c-efbb-e97dbd4b27b5",
        "colab": {
          "base_uri": "https://localhost:8080/"
        }
      },
      "source": [
        "first_tree.print_tree()  # вот это на винде не работает, запускайте в Google Colab"
      ],
      "execution_count": null,
      "outputs": [
        {
          "output_type": "stream",
          "name": "stdout",
          "text": [
            "(deprel:root) form:день lemma:день upos:NOUN [6]\n",
            "    (deprel:nsubj) form:Я lemma:я upos:PRON [1]\n",
            "    (deprel:cop) form:была lemma:быть upos:AUX [2]\n",
            "    (deprel:nmod) form:школе lemma:школя upos:NOUN [4]\n",
            "        (deprel:case) form:в lemma:в upos:ADP [3]\n",
            "    (deprel:amod) form:целый lemma:целый upos:ADJ [5]\n",
            "    (deprel:punct) form:. lemma:. upos:PUNCT [7]\n"
          ]
        }
      ]
    },
    {
      "cell_type": "markdown",
      "metadata": {
        "id": "tezpMBhQ__QI"
      },
      "source": [
        "Разобранные предложения хранятся в формате CONLL:\n",
        "- слово на каждой строчке,\n",
        "- тэги через табы,\n",
        "- предложения отделены двойными отступами.\n",
        "\n",
        "CONLL $-$ по названию конференции Conference on Computational Natural Language Learning, в рамках который проводились и проводятся соревнования по парсингу.\n"
      ]
    },
    {
      "cell_type": "markdown",
      "source": [
        "### Визуализация: `DependencyGraph`"
      ],
      "metadata": {
        "id": "c5vzcFMwiRQg"
      }
    },
    {
      "cell_type": "markdown",
      "source": [
        "DependencyGraph работает с форматом CONLL, поэтому напишем функцию, которая добавит в наш разбор табы и двойные отступы `get_dep_tree`."
      ],
      "metadata": {
        "id": "aw2LnakxiXGQ"
      }
    },
    {
      "cell_type": "code",
      "metadata": {
        "id": "eBBXlgm-xnp4"
      },
      "source": [
        "def get_dep_tree(text):\n",
        "    trees = []\n",
        "    for sent in text.split('\\n\\n'):\n",
        "        tree = [line for line in sent.split('\\n') if line and line[0] != '#']\n",
        "        trees.append('\\n'.join(tree))\n",
        "    return trees"
      ],
      "execution_count": null,
      "outputs": []
    },
    {
      "cell_type": "code",
      "metadata": {
        "id": "Uyn9t-Q0x71D",
        "colab": {
          "base_uri": "https://localhost:8080/"
        },
        "outputId": "7b277bb7-3988-46b6-e2a6-80c955e51315"
      },
      "source": [
        "conll_parsed_text = get_dep_tree(parsed_text)\n",
        "conll_parsed_text"
      ],
      "execution_count": null,
      "outputs": [
        {
          "output_type": "execute_result",
          "data": {
            "text/plain": [
              "['1\\tЯ\\tя\\tPRON\\t_\\tCase=Nom|Number=Sing|Person=1\\t6\\tnsubj\\t_\\t_\\n2\\tбыла\\tбыть\\tAUX\\t_\\tAspect=Imp|Gender=Fem|Mood=Ind|Number=Sing|Tense=Past|VerbForm=Fin|Voice=Act\\t6\\tcop\\t_\\t_\\n3\\tв\\tв\\tADP\\t_\\t_\\t4\\tcase\\t_\\t_\\n4\\tшколе\\tшколя\\tNOUN\\t_\\tAnimacy=Inan|Case=Loc|Gender=Masc|Number=Sing\\t6\\tnmod\\t_\\t_\\n5\\tцелый\\tцелый\\tADJ\\t_\\tAnimacy=Inan|Case=Acc|Degree=Pos|Gender=Masc|Number=Sing\\t6\\tamod\\t_\\t_\\n6\\tдень\\tдень\\tNOUN\\t_\\tAnimacy=Inan|Case=Acc|Gender=Masc|Number=Sing\\t0\\troot\\t_\\tSpaceAfter=No\\n7\\t.\\t.\\tPUNCT\\t_\\t_\\t6\\tpunct\\t_\\t_',\n",
              " '1\\tИ\\tи\\tCCONJ\\t_\\t_\\t4\\tcc\\t_\\t_\\n2\\tзавтра\\tзавтра\\tADV\\t_\\tDegree=Pos\\t4\\tadvmod\\t_\\t_\\n3\\tтоже\\tтоже\\tPART\\t_\\t_\\t4\\tadvmod\\t_\\t_\\n4\\tтам\\tтам\\tADV\\t_\\tDegree=Pos\\t0\\troot\\t_\\t_\\n5\\tбуду\\tбыть\\tAUX\\t_\\tAspect=Imp|Mood=Ind|Number=Sing|Person=1|Tense=Pres|VerbForm=Fin|Voice=Act\\t4\\tcop\\t_\\tSpaceAfter=No\\n6\\t.\\t.\\tPUNCT\\t_\\t_\\t4\\tpunct\\t_\\tSpaceAfter=No',\n",
              " '']"
            ]
          },
          "metadata": {},
          "execution_count": 11
        }
      ]
    },
    {
      "cell_type": "markdown",
      "metadata": {
        "id": "sMa3cs-lAwMJ"
      },
      "source": [
        "Нарисуем:\n"
      ]
    },
    {
      "cell_type": "code",
      "metadata": {
        "id": "PqYYoesgyHrO",
        "colab": {
          "base_uri": "https://localhost:8080/",
          "height": 428
        },
        "outputId": "37761ad7-8fd5-46b0-e66b-640fa7b7bfc7"
      },
      "source": [
        "graph_first_tree = DependencyGraph(conll_parsed_text[0])\n",
        "graph_first_tree"
      ],
      "execution_count": null,
      "outputs": [
        {
          "output_type": "execute_result",
          "data": {
            "text/plain": [
              "<DependencyGraph with 8 nodes>"
            ],
            "image/svg+xml": "<?xml version=\"1.0\" encoding=\"UTF-8\" standalone=\"no\"?>\n<!DOCTYPE svg PUBLIC \"-//W3C//DTD SVG 1.1//EN\"\n \"http://www.w3.org/Graphics/SVG/1.1/DTD/svg11.dtd\">\n<!-- Generated by graphviz version 2.43.0 (0)\n -->\n<!-- Title: G Pages: 1 -->\n<svg width=\"400pt\" height=\"305pt\"\n viewBox=\"0.00 0.00 400.00 305.00\" xmlns=\"http://www.w3.org/2000/svg\" xmlns:xlink=\"http://www.w3.org/1999/xlink\">\n<g id=\"graph0\" class=\"graph\" transform=\"scale(1 1) rotate(0) translate(4 301)\">\n<title>G</title>\n<polygon fill=\"white\" stroke=\"transparent\" points=\"-4,4 -4,-301 396,-301 396,4 -4,4\"/>\n<!-- 0 -->\n<g id=\"node1\" class=\"node\">\n<title>0</title>\n<text text-anchor=\"middle\" x=\"192\" y=\"-275.3\" font-family=\"Times,serif\" font-size=\"14.00\">0 (None)</text>\n</g>\n<!-- 6 -->\n<g id=\"node2\" class=\"node\">\n<title>6</title>\n<text text-anchor=\"middle\" x=\"192\" y=\"-188.3\" font-family=\"Times,serif\" font-size=\"14.00\">6 (день)</text>\n</g>\n<!-- 0&#45;&gt;6 -->\n<g id=\"edge1\" class=\"edge\">\n<title>0&#45;&gt;6</title>\n<path fill=\"none\" stroke=\"black\" d=\"M192,-260.8C192,-249.16 192,-233.55 192,-220.24\"/>\n<polygon fill=\"black\" stroke=\"black\" points=\"195.5,-220.18 192,-210.18 188.5,-220.18 195.5,-220.18\"/>\n<text text-anchor=\"middle\" x=\"203\" y=\"-231.8\" font-family=\"Times,serif\" font-size=\"14.00\">root</text>\n</g>\n<!-- 1 -->\n<g id=\"node3\" class=\"node\">\n<title>1</title>\n<text text-anchor=\"middle\" x=\"27\" y=\"-101.3\" font-family=\"Times,serif\" font-size=\"14.00\">1 (Я)</text>\n</g>\n<!-- 6&#45;&gt;1 -->\n<g id=\"edge3\" class=\"edge\">\n<title>6&#45;&gt;1</title>\n<path fill=\"none\" stroke=\"black\" d=\"M160.38,-178.7C144.95,-172.4 126.26,-164.32 110,-156 93.88,-147.75 76.64,-137.6 62.07,-128.6\"/>\n<polygon fill=\"black\" stroke=\"black\" points=\"63.71,-125.5 53.38,-123.18 60.01,-131.44 63.71,-125.5\"/>\n<text text-anchor=\"middle\" x=\"125\" y=\"-144.8\" font-family=\"Times,serif\" font-size=\"14.00\">nsubj</text>\n</g>\n<!-- 2 -->\n<g id=\"node4\" class=\"node\">\n<title>2</title>\n<text text-anchor=\"middle\" x=\"105\" y=\"-101.3\" font-family=\"Times,serif\" font-size=\"14.00\">2 (была)</text>\n</g>\n<!-- 6&#45;&gt;2 -->\n<g id=\"edge4\" class=\"edge\">\n<title>6&#45;&gt;2</title>\n<path fill=\"none\" stroke=\"black\" d=\"M174.39,-173.8C161.66,-161.36 144.27,-144.36 130.08,-130.5\"/>\n<polygon fill=\"black\" stroke=\"black\" points=\"132.18,-127.66 122.58,-123.18 127.29,-132.67 132.18,-127.66\"/>\n<text text-anchor=\"middle\" x=\"164\" y=\"-144.8\" font-family=\"Times,serif\" font-size=\"14.00\">cop</text>\n</g>\n<!-- 4 -->\n<g id=\"node6\" class=\"node\">\n<title>4</title>\n<text text-anchor=\"middle\" x=\"192\" y=\"-101.3\" font-family=\"Times,serif\" font-size=\"14.00\">4 (школе)</text>\n</g>\n<!-- 6&#45;&gt;4 -->\n<g id=\"edge5\" class=\"edge\">\n<title>6&#45;&gt;4</title>\n<path fill=\"none\" stroke=\"black\" d=\"M192,-173.8C192,-162.16 192,-146.55 192,-133.24\"/>\n<polygon fill=\"black\" stroke=\"black\" points=\"195.5,-133.18 192,-123.18 188.5,-133.18 195.5,-133.18\"/>\n<text text-anchor=\"middle\" x=\"208\" y=\"-144.8\" font-family=\"Times,serif\" font-size=\"14.00\">nmod</text>\n</g>\n<!-- 5 -->\n<g id=\"node7\" class=\"node\">\n<title>5</title>\n<text text-anchor=\"middle\" x=\"283\" y=\"-101.3\" font-family=\"Times,serif\" font-size=\"14.00\">5 (целый)</text>\n</g>\n<!-- 6&#45;&gt;5 -->\n<g id=\"edge6\" class=\"edge\">\n<title>6&#45;&gt;5</title>\n<path fill=\"none\" stroke=\"black\" d=\"M210.42,-173.8C223.86,-161.24 242.26,-144.05 257.18,-130.12\"/>\n<polygon fill=\"black\" stroke=\"black\" points=\"259.69,-132.56 264.61,-123.18 254.92,-127.44 259.69,-132.56\"/>\n<text text-anchor=\"middle\" x=\"258.5\" y=\"-144.8\" font-family=\"Times,serif\" font-size=\"14.00\">amod</text>\n</g>\n<!-- 7 -->\n<g id=\"node8\" class=\"node\">\n<title>7</title>\n<text text-anchor=\"middle\" x=\"365\" y=\"-101.3\" font-family=\"Times,serif\" font-size=\"14.00\">7 (.)</text>\n</g>\n<!-- 6&#45;&gt;7 -->\n<g id=\"edge7\" class=\"edge\">\n<title>6&#45;&gt;7</title>\n<path fill=\"none\" stroke=\"black\" d=\"M223.9,-179.2C240.3,-172.84 260.47,-164.56 278,-156 295.14,-147.63 313.54,-137.27 328.98,-128.16\"/>\n<polygon fill=\"black\" stroke=\"black\" points=\"330.9,-131.09 337.7,-122.96 327.32,-125.08 330.9,-131.09\"/>\n<text text-anchor=\"middle\" x=\"320.5\" y=\"-144.8\" font-family=\"Times,serif\" font-size=\"14.00\">punct</text>\n</g>\n<!-- 3 -->\n<g id=\"node5\" class=\"node\">\n<title>3</title>\n<text text-anchor=\"middle\" x=\"192\" y=\"-14.3\" font-family=\"Times,serif\" font-size=\"14.00\">3 (в)</text>\n</g>\n<!-- 4&#45;&gt;3 -->\n<g id=\"edge2\" class=\"edge\">\n<title>4&#45;&gt;3</title>\n<path fill=\"none\" stroke=\"black\" d=\"M192,-86.8C192,-75.16 192,-59.55 192,-46.24\"/>\n<polygon fill=\"black\" stroke=\"black\" points=\"195.5,-46.18 192,-36.18 188.5,-46.18 195.5,-46.18\"/>\n<text text-anchor=\"middle\" x=\"204\" y=\"-57.8\" font-family=\"Times,serif\" font-size=\"14.00\">case</text>\n</g>\n</g>\n</svg>\n"
          },
          "metadata": {},
          "execution_count": 12
        }
      ]
    },
    {
      "cell_type": "markdown",
      "source": [
        "Какая-то фигня получилась. Но это и выше было видно.\n"
      ],
      "metadata": {
        "id": "mgv99q7hilt3"
      }
    },
    {
      "cell_type": "markdown",
      "metadata": {
        "id": "y4_sfHdVF3YY"
      },
      "source": [
        "#### Узлы графа: `triples`."
      ]
    },
    {
      "cell_type": "code",
      "metadata": {
        "id": "0ek7oXMuGIth",
        "colab": {
          "base_uri": "https://localhost:8080/"
        },
        "outputId": "ca344b31-f160-4a54-af33-40ff173df40e"
      },
      "source": [
        "graph_first_tree.root = graph_first_tree.nodes[0]  # чтобы метод сработал нужно установить корневой элемент\n",
        "# при этом, если в разборе ошибка и вы счтаете, что root - это graph_first_tree.nodes[2],\n",
        "# использовать этот корень в .triples не получится, будет ошибка\n",
        "graph_first_tree.nodes[2]"
      ],
      "execution_count": null,
      "outputs": [
        {
          "output_type": "execute_result",
          "data": {
            "text/plain": [
              "{'address': 2,\n",
              " 'word': 'была',\n",
              " 'lemma': 'быть',\n",
              " 'ctag': 'AUX',\n",
              " 'tag': '_',\n",
              " 'feats': 'Aspect=Imp|Gender=Fem|Mood=Ind|Number=Sing|Tense=Past|VerbForm=Fin|Voice=Act',\n",
              " 'head': 6,\n",
              " 'deps': defaultdict(list, {}),\n",
              " 'rel': 'cop'}"
            ]
          },
          "metadata": {},
          "execution_count": 13
        }
      ]
    },
    {
      "cell_type": "code",
      "metadata": {
        "id": "wzAv8A72F8dx",
        "colab": {
          "base_uri": "https://localhost:8080/"
        },
        "outputId": "6b79f485-8381-47b4-a7b5-a071eabac8aa"
      },
      "source": [
        "list(graph_first_tree.triples())"
      ],
      "execution_count": null,
      "outputs": [
        {
          "output_type": "execute_result",
          "data": {
            "text/plain": [
              "[((None, 'TOP'), 'root', ('день', 'NOUN')),\n",
              " (('день', 'NOUN'), 'nsubj', ('Я', 'PRON')),\n",
              " (('день', 'NOUN'), 'cop', ('была', 'AUX')),\n",
              " (('день', 'NOUN'), 'nmod', ('школе', 'NOUN')),\n",
              " (('школе', 'NOUN'), 'case', ('в', 'ADP')),\n",
              " (('день', 'NOUN'), 'amod', ('целый', 'ADJ')),\n",
              " (('день', 'NOUN'), 'punct', ('.', 'PUNCT'))]"
            ]
          },
          "metadata": {},
          "execution_count": 14
        }
      ]
    },
    {
      "cell_type": "markdown",
      "source": [
        "### Задачи"
      ],
      "metadata": {
        "id": "msrAWOiZi6Yb"
      }
    },
    {
      "cell_type": "markdown",
      "metadata": {
        "id": "CUQVwacANdTS"
      },
      "source": [
        "1. **Достать из корпуса все возможные модификаторы какого-нибудь слова**"
      ]
    },
    {
      "cell_type": "code",
      "metadata": {
        "id": "yFq3yGMXNnRq"
      },
      "source": [
        "modifiers = Counter()\n",
        "for tree in trees:\n",
        "    d = DependencyGraph(tree)\n",
        "    d.root = d.nodes[0]\n",
        "    triples = list(d.triples())\n",
        "\n",
        "    for e1, rel, e2 in triples:\n",
        "        if e1[0] == 'писатель' and rel == 'amod':\n",
        "            modifiers[e2[0]] += 1"
      ],
      "execution_count": null,
      "outputs": []
    },
    {
      "cell_type": "code",
      "metadata": {
        "id": "VIQpBjQsNo-w",
        "colab": {
          "base_uri": "https://localhost:8080/"
        },
        "outputId": "56bbe154-5372-432b-fb2a-348e779758bd"
      },
      "source": [
        "modifiers"
      ],
      "execution_count": null,
      "outputs": [
        {
          "output_type": "execute_result",
          "data": {
            "text/plain": [
              "Counter({'церковный': 1,\n",
              "         'Замечательный': 1,\n",
              "         'разоблаченный': 1,\n",
              "         'известный': 1,\n",
              "         'великий': 2,\n",
              "         'Сам': 1,\n",
              "         'умеющий': 1,\n",
              "         'наш': 1,\n",
              "         'любимый': 1,\n",
              "         'древнегреческий': 1,\n",
              "         'русский': 1,\n",
              "         'изощренный': 1,\n",
              "         'Британский': 1,\n",
              "         'московский': 2,\n",
              "         'грузинский': 2,\n",
              "         'оказавшийся': 1})"
            ]
          },
          "metadata": {},
          "execution_count": 38
        }
      ]
    },
    {
      "cell_type": "markdown",
      "metadata": {
        "id": "OGJEAToTIvK9"
      },
      "source": [
        "2. **Анализ текстов с помощью зависимостей**\n",
        "\n",
        "Запомним, что теперь у нас есть способ доставать все узлы, и попробуем проанализировать тексты с помощью зависимостей. Сами парсить не будет, а возьмем уже готовые разборы из Тайги.\n",
        "\n",
        "Возьмем маленький кусочек (Arzamas). Cкачать его можно тут: https://linghub.ru/static/Taiga/Arzamas.zip\n",
        "\n",
        "В нем есть папка с обработанными текстами. Соберем их в один список. Нашим конечным заданием будет достать все модификаторы для какого-нибудь конкретного слова в этом корпусе."
      ]
    },
    {
      "cell_type": "code",
      "metadata": {
        "id": "HHVWFenhIk8Y"
      },
      "source": [
        "# !wget -q https://linghub.ru/static/Taiga/Arzamas.zip\n",
        "# !unzip -q Arzamas.zip"
      ],
      "execution_count": null,
      "outputs": []
    },
    {
      "cell_type": "code",
      "metadata": {
        "id": "ejfly8a7JpOn"
      },
      "source": [
        "path = 'Arzamas/texts_tagged/'\n",
        "files = [path + file for file in os.listdir(path)]"
      ],
      "execution_count": null,
      "outputs": []
    },
    {
      "cell_type": "markdown",
      "metadata": {
        "id": "buUiJEkOKTj0"
      },
      "source": [
        "Посмотрим, что вообще лежит в этих файлах:"
      ]
    },
    {
      "cell_type": "code",
      "metadata": {
        "id": "IVse55oQKNjx"
      },
      "source": [
        "with open(files[2]) as file:\n",
        "    text_file = file.read()"
      ],
      "execution_count": null,
      "outputs": []
    },
    {
      "cell_type": "markdown",
      "metadata": {
        "id": "mwhSJ53aKdNj"
      },
      "source": [
        "Тут снова формат CONLL очевидно. Давайте еще раз на него внимательно посмотрим. У нас есть тут какая-то метаинформация через #, теги через таб, деревья для отдельных предложений."
      ]
    },
    {
      "cell_type": "code",
      "metadata": {
        "id": "SoULZ-SoKYJP",
        "colab": {
          "base_uri": "https://localhost:8080/"
        },
        "outputId": "730a5184-56fe-47e4-b02d-e94d513ef853"
      },
      "source": [
        "tree = [x for x in text_file.split('\\n\\n')[0].split('\\n')]\n",
        "tree[:10]"
      ],
      "execution_count": null,
      "outputs": [
        {
          "output_type": "execute_result",
          "data": {
            "text/plain": [
              "['# text = # newpar',\n",
              " '# sent_id = 13160',\n",
              " '# text = В начале XX века благодаря стремительному развитию строительных технологий возникли новые принципы архитектурного проектирования.',\n",
              " '1\\tВ\\tв\\tADP\\t_\\t_\\t2\\tcase\\t_\\t_',\n",
              " '2\\tначале\\tначало\\tNOUN\\t_\\tAnimacy=Inan|Case=Loc|Gender=Neut|Number=Sing\\t10\\tobl\\t_\\t_',\n",
              " '3\\tXX\\txx\\tNUM\\t_\\t_\\t4\\tnummod\\t_\\t_',\n",
              " '4\\tвека\\tвек\\tNOUN\\t_\\tAnimacy=Inan|Case=Gen|Gender=Masc|Number=Sing\\t2\\tnmod\\t_\\t_',\n",
              " '5\\tблагодаря\\tблагодаря\\tADP\\t_\\t_\\t7\\tcase\\t_\\t_',\n",
              " '6\\tстремительному\\tстремительный\\tADJ\\t_\\tCase=Dat|Degree=Pos|Gender=Neut|Number=Sing\\t7\\tamod\\t_\\t_',\n",
              " '7\\tразвитию\\tразвитие\\tNOUN\\t_\\tAnimacy=Inan|Case=Dat|Gender=Neut|Number=Sing\\t10\\tobl\\t_\\t_']"
            ]
          },
          "metadata": {},
          "execution_count": 29
        }
      ]
    },
    {
      "cell_type": "markdown",
      "metadata": {
        "id": "bw3Tw80GLiiG"
      },
      "source": [
        "Соберем все деревья (то есть все предложения) из всех файлов в один список. Так мы сможем работать с этими данными как с корпусом текстов."
      ]
    },
    {
      "cell_type": "code",
      "metadata": {
        "id": "mGwgHKTSLuIk"
      },
      "source": [
        "trees = []\n",
        "\n",
        "for file in files:\n",
        "    with open(file) as text_f:\n",
        "        parsed_sents = text_f.read().split('\\n\\n')\n",
        "\n",
        "    for sent in parsed_sents:\n",
        "        # уберем мета информацию\n",
        "        tree = [line for line in sent.split('\\n') if line[0] != '#']\n",
        "        trees.append('\\n'.join(tree))"
      ],
      "execution_count": null,
      "outputs": []
    },
    {
      "cell_type": "markdown",
      "metadata": {
        "id": "mV2_VPUjL8Or"
      },
      "source": [
        "Рандомное дерево из получившившегося списка:"
      ]
    },
    {
      "cell_type": "code",
      "metadata": {
        "id": "TjX0PflPLwA0",
        "colab": {
          "base_uri": "https://localhost:8080/",
          "height": 145
        },
        "outputId": "171dd2b5-d1db-4470-9300-075303889011"
      },
      "source": [
        "trees[80]"
      ],
      "execution_count": null,
      "outputs": [
        {
          "output_type": "execute_result",
          "data": {
            "text/plain": [
              "'1\\tНа\\tна\\tADP\\t_\\t_\\t3\\tcase\\t_\\t_\\n2\\tсвинцовой\\tсвинцовой\\tADJ\\t_\\tCase=Loc|Degree=Pos|Gender=Fem|Number=Sing\\t3\\tamod\\t_\\t_\\n3\\tтабличке\\tтабличка\\tNOUN\\t_\\tAnimacy=Inan|Case=Loc|Gender=Fem|Number=Sing\\t8\\tobl\\t_\\t_\\n4\\tпосле\\tпосле\\tADP\\t_\\t_\\t7\\tcase\\t_\\t_\\n5\\tразных\\tразный\\tADJ\\t_\\tCase=Gen|Degree=Pos|Number=Plur\\t7\\tamod\\t_\\t_\\n6\\tмагических\\tмагический\\tADJ\\t_\\tCase=Gen|Degree=Pos|Number=Plur\\t7\\tamod\\t_\\t_\\n7\\tслов\\tслово\\tNOUN\\t_\\tAnimacy=Inan|Case=Gen|Gender=Neut|Number=Plur\\t8\\tobl\\t_\\t_\\n8\\tидет\\tидти\\tVERB\\t_\\tAspect=Imp|Mood=Ind|Number=Sing|Person=3|Tense=Pres|VerbForm=Fin|Voice=Act\\t0\\troot\\t_\\t_\\n9\\tдлинный\\tдлинный\\tADJ\\t_\\tCase=Nom|Degree=Pos|Gender=Masc|Number=Sing\\t10\\tamod\\t_\\t_\\n10\\tсписок\\tсписок\\tNOUN\\t_\\tAnimacy=Inan|Case=Nom|Gender=Masc|Number=Sing\\t8\\tnsubj\\t_\\t_\\n11\\tлошадиных\\tлошадиный\\tADJ\\t_\\tCase=Gen|Degree=Pos|Number=Plur\\t12\\tamod\\t_\\t_\\n12\\tкличек\\tкличка\\tNOUN\\t_\\tAnimacy=Inan|Case=Gen|Gender=Fem|Number=Plur\\t10\\tnmod\\t_\\t_\\n13\\t(\\t(\\tPUNCT\\t_\\t_\\t14\\tpunct\\t_\\tSpaceAfter=No\\n14\\tпо\\tпо\\tADP\\t_\\t_\\t18\\tcase\\t_\\t_\\n15\\tчетыре\\tчетыре\\tNUM\\t_\\tAnimacy=Inan|Case=Acc\\t18\\tnummod:gov\\t_\\t_\\n16\\tв\\tв\\tADP\\t_\\t_\\t18\\tcase\\t_\\t_\\n17\\tкаждой\\tкаждый\\tADJ\\t_\\tCase=Loc|Degree=Pos|Gender=Fem|Number=Sing\\t18\\tamod\\t_\\t_\\n18\\tколеснице\\tколесница\\tNOUN\\t_\\tAnimacy=Inan|Case=Loc|Gender=Fem|Number=Sing\\t12\\tparataxis\\t_\\tSpaceAfter=No\\n19\\t)\\t)\\tPUNCT\\t_\\t_\\t18\\tpunct\\t_\\t_\\n20\\tи\\tи\\tCCONJ\\t_\\t_\\t21\\tcc\\t_\\t_\\n21\\tимен\\tимя\\tNOUN\\t_\\tAnimacy=Inan|Case=Gen|Gender=Neut|Number=Plur\\t8\\tconj\\t_\\t_\\n22\\tколесничих\\tколесничий\\tADJ\\t_\\tCase=Gen|Degree=Pos|Number=Plur\\t23\\tamod\\t_\\t_\\n23\\tсиних\\tсиний\\tADJ\\t_\\tCase=Gen|Degree=Pos|Number=Plur\\t21\\tnmod\\t_\\tSpaceAfter=No\\n24\\t.\\t.\\tPUNCT\\t_\\t_\\t23\\tpunct\\t_\\t_'"
            ],
            "application/vnd.google.colaboratory.intrinsic+json": {
              "type": "string"
            }
          },
          "metadata": {},
          "execution_count": 32
        }
      ]
    },
    {
      "cell_type": "markdown",
      "metadata": {
        "id": "6mF6ooOVMLcg"
      },
      "source": [
        "Пора нарисовать красивый граф для какого-нибудь предложения из этого корпуса.\n",
        "\n",
        "Поскольку это данные, на которых можно обучать модели, они хорошо размечены и тут уже в корне дерева у нас нормальный предикат и разбор получается хороший."
      ]
    },
    {
      "cell_type": "code",
      "metadata": {
        "id": "wo8f-UMuMD7V",
        "colab": {
          "base_uri": "https://localhost:8080/",
          "height": 776
        },
        "outputId": "c00a8938-1d08-4fe2-8ee9-71ba584f717b"
      },
      "source": [
        "graph_tree_80 = DependencyGraph(trees[80])\n",
        "graph_tree_80"
      ],
      "execution_count": null,
      "outputs": [
        {
          "output_type": "execute_result",
          "data": {
            "text/plain": [
              "<DependencyGraph with 25 nodes>"
            ],
            "image/svg+xml": "<?xml version=\"1.0\" encoding=\"UTF-8\" standalone=\"no\"?>\n<!DOCTYPE svg PUBLIC \"-//W3C//DTD SVG 1.1//EN\"\n \"http://www.w3.org/Graphics/SVG/1.1/DTD/svg11.dtd\">\n<!-- Generated by graphviz version 2.43.0 (0)\n -->\n<!-- Title: G Pages: 1 -->\n<svg width=\"947pt\" height=\"566pt\"\n viewBox=\"0.00 0.00 947.00 566.00\" xmlns=\"http://www.w3.org/2000/svg\" xmlns:xlink=\"http://www.w3.org/1999/xlink\">\n<g id=\"graph0\" class=\"graph\" transform=\"scale(1 1) rotate(0) translate(4 562)\">\n<title>G</title>\n<polygon fill=\"white\" stroke=\"transparent\" points=\"-4,4 -4,-562 943,-562 943,4 -4,4\"/>\n<!-- 0 -->\n<g id=\"node1\" class=\"node\">\n<title>0</title>\n<text text-anchor=\"middle\" x=\"406\" y=\"-536.3\" font-family=\"Times,serif\" font-size=\"14.00\">0 (None)</text>\n</g>\n<!-- 8 -->\n<g id=\"node2\" class=\"node\">\n<title>8</title>\n<text text-anchor=\"middle\" x=\"406\" y=\"-449.3\" font-family=\"Times,serif\" font-size=\"14.00\">8 (идет)</text>\n</g>\n<!-- 0&#45;&gt;8 -->\n<g id=\"edge1\" class=\"edge\">\n<title>0&#45;&gt;8</title>\n<path fill=\"none\" stroke=\"black\" d=\"M406,-521.8C406,-510.16 406,-494.55 406,-481.24\"/>\n<polygon fill=\"black\" stroke=\"black\" points=\"409.5,-481.18 406,-471.18 402.5,-481.18 409.5,-481.18\"/>\n<text text-anchor=\"middle\" x=\"417\" y=\"-492.8\" font-family=\"Times,serif\" font-size=\"14.00\">root</text>\n</g>\n<!-- 3 -->\n<g id=\"node5\" class=\"node\">\n<title>3</title>\n<text text-anchor=\"middle\" x=\"122\" y=\"-362.3\" font-family=\"Times,serif\" font-size=\"14.00\">3 (табличке)</text>\n</g>\n<!-- 8&#45;&gt;3 -->\n<g id=\"edge7\" class=\"edge\">\n<title>8&#45;&gt;3</title>\n<path fill=\"none\" stroke=\"black\" d=\"M374.79,-442.66C327.12,-428.39 235.5,-400.97 176.63,-383.35\"/>\n<polygon fill=\"black\" stroke=\"black\" points=\"177.35,-379.91 166.76,-380.4 175.34,-386.62 177.35,-379.91\"/>\n<text text-anchor=\"middle\" x=\"291\" y=\"-405.8\" font-family=\"Times,serif\" font-size=\"14.00\">obl</text>\n</g>\n<!-- 7 -->\n<g id=\"node9\" class=\"node\">\n<title>7</title>\n<text text-anchor=\"middle\" x=\"340\" y=\"-362.3\" font-family=\"Times,serif\" font-size=\"14.00\">7 (слов)</text>\n</g>\n<!-- 8&#45;&gt;7 -->\n<g id=\"edge8\" class=\"edge\">\n<title>8&#45;&gt;7</title>\n<path fill=\"none\" stroke=\"black\" d=\"M392.64,-434.8C383.16,-422.59 370.28,-405.99 359.63,-392.28\"/>\n<polygon fill=\"black\" stroke=\"black\" points=\"362.23,-389.93 353.34,-384.18 356.7,-394.22 362.23,-389.93\"/>\n<text text-anchor=\"middle\" x=\"386\" y=\"-405.8\" font-family=\"Times,serif\" font-size=\"14.00\">obl</text>\n</g>\n<!-- 10 -->\n<g id=\"node10\" class=\"node\">\n<title>10</title>\n<text text-anchor=\"middle\" x=\"542\" y=\"-362.3\" font-family=\"Times,serif\" font-size=\"14.00\">10 (список)</text>\n</g>\n<!-- 8&#45;&gt;10 -->\n<g id=\"edge9\" class=\"edge\">\n<title>8&#45;&gt;10</title>\n<path fill=\"none\" stroke=\"black\" d=\"M433.52,-434.8C454.35,-421.78 483.15,-403.78 505.84,-389.6\"/>\n<polygon fill=\"black\" stroke=\"black\" points=\"507.89,-392.44 514.52,-384.18 504.18,-386.51 507.89,-392.44\"/>\n<text text-anchor=\"middle\" x=\"498\" y=\"-405.8\" font-family=\"Times,serif\" font-size=\"14.00\">nsubj</text>\n</g>\n<!-- 21 -->\n<g id=\"node11\" class=\"node\">\n<title>21</title>\n<text text-anchor=\"middle\" x=\"733\" y=\"-362.3\" font-family=\"Times,serif\" font-size=\"14.00\">21 (имен)</text>\n</g>\n<!-- 8&#45;&gt;21 -->\n<g id=\"edge10\" class=\"edge\">\n<title>8&#45;&gt;21</title>\n<path fill=\"none\" stroke=\"black\" d=\"M437.06,-443.93C494.76,-428.93 618.76,-396.7 686.5,-379.09\"/>\n<polygon fill=\"black\" stroke=\"black\" points=\"687.67,-382.4 696.47,-376.5 685.91,-375.62 687.67,-382.4\"/>\n<text text-anchor=\"middle\" x=\"602\" y=\"-405.8\" font-family=\"Times,serif\" font-size=\"14.00\">conj</text>\n</g>\n<!-- 1 -->\n<g id=\"node3\" class=\"node\">\n<title>1</title>\n<text text-anchor=\"middle\" x=\"27\" y=\"-275.3\" font-family=\"Times,serif\" font-size=\"14.00\">1 (На)</text>\n</g>\n<!-- 2 -->\n<g id=\"node4\" class=\"node\">\n<title>2</title>\n<text text-anchor=\"middle\" x=\"122\" y=\"-275.3\" font-family=\"Times,serif\" font-size=\"14.00\">2 (свинцовой)</text>\n</g>\n<!-- 3&#45;&gt;1 -->\n<g id=\"edge2\" class=\"edge\">\n<title>3&#45;&gt;1</title>\n<path fill=\"none\" stroke=\"black\" d=\"M102.78,-347.8C88.74,-335.24 69.53,-318.05 53.96,-304.12\"/>\n<polygon fill=\"black\" stroke=\"black\" points=\"55.98,-301.24 46.2,-297.18 51.31,-306.45 55.98,-301.24\"/>\n<text text-anchor=\"middle\" x=\"93\" y=\"-318.8\" font-family=\"Times,serif\" font-size=\"14.00\">case</text>\n</g>\n<!-- 3&#45;&gt;2 -->\n<g id=\"edge3\" class=\"edge\">\n<title>3&#45;&gt;2</title>\n<path fill=\"none\" stroke=\"black\" d=\"M122,-347.8C122,-336.16 122,-320.55 122,-307.24\"/>\n<polygon fill=\"black\" stroke=\"black\" points=\"125.5,-307.18 122,-297.18 118.5,-307.18 125.5,-307.18\"/>\n<text text-anchor=\"middle\" x=\"137.5\" y=\"-318.8\" font-family=\"Times,serif\" font-size=\"14.00\">amod</text>\n</g>\n<!-- 4 -->\n<g id=\"node6\" class=\"node\">\n<title>4</title>\n<text text-anchor=\"middle\" x=\"225\" y=\"-275.3\" font-family=\"Times,serif\" font-size=\"14.00\">4 (после)</text>\n</g>\n<!-- 5 -->\n<g id=\"node7\" class=\"node\">\n<title>5</title>\n<text text-anchor=\"middle\" x=\"317\" y=\"-275.3\" font-family=\"Times,serif\" font-size=\"14.00\">5 (разных)</text>\n</g>\n<!-- 6 -->\n<g id=\"node8\" class=\"node\">\n<title>6</title>\n<text text-anchor=\"middle\" x=\"427\" y=\"-275.3\" font-family=\"Times,serif\" font-size=\"14.00\">6 (магических)</text>\n</g>\n<!-- 7&#45;&gt;4 -->\n<g id=\"edge4\" class=\"edge\">\n<title>7&#45;&gt;4</title>\n<path fill=\"none\" stroke=\"black\" d=\"M316.73,-347.8C299.35,-334.95 275.41,-317.26 256.34,-303.17\"/>\n<polygon fill=\"black\" stroke=\"black\" points=\"258.36,-300.3 248.24,-297.18 254.2,-305.93 258.36,-300.3\"/>\n<text text-anchor=\"middle\" x=\"302\" y=\"-318.8\" font-family=\"Times,serif\" font-size=\"14.00\">case</text>\n</g>\n<!-- 7&#45;&gt;5 -->\n<g id=\"edge5\" class=\"edge\">\n<title>7&#45;&gt;5</title>\n<path fill=\"none\" stroke=\"black\" d=\"M335.35,-347.8C332.17,-336.05 327.89,-320.24 324.26,-306.84\"/>\n<polygon fill=\"black\" stroke=\"black\" points=\"327.64,-305.91 321.65,-297.18 320.88,-307.74 327.64,-305.91\"/>\n<text text-anchor=\"middle\" x=\"345.5\" y=\"-318.8\" font-family=\"Times,serif\" font-size=\"14.00\">amod</text>\n</g>\n<!-- 7&#45;&gt;6 -->\n<g id=\"edge6\" class=\"edge\">\n<title>7&#45;&gt;6</title>\n<path fill=\"none\" stroke=\"black\" d=\"M357.61,-347.8C370.34,-335.36 387.73,-318.36 401.92,-304.5\"/>\n<polygon fill=\"black\" stroke=\"black\" points=\"404.71,-306.67 409.42,-297.18 399.82,-301.66 404.71,-306.67\"/>\n<text text-anchor=\"middle\" x=\"404.5\" y=\"-318.8\" font-family=\"Times,serif\" font-size=\"14.00\">amod</text>\n</g>\n<!-- 9 -->\n<g id=\"node12\" class=\"node\">\n<title>9</title>\n<text text-anchor=\"middle\" x=\"542\" y=\"-275.3\" font-family=\"Times,serif\" font-size=\"14.00\">9 (длинный)</text>\n</g>\n<!-- 10&#45;&gt;9 -->\n<g id=\"edge11\" class=\"edge\">\n<title>10&#45;&gt;9</title>\n<path fill=\"none\" stroke=\"black\" d=\"M542,-347.8C542,-336.16 542,-320.55 542,-307.24\"/>\n<polygon fill=\"black\" stroke=\"black\" points=\"545.5,-307.18 542,-297.18 538.5,-307.18 545.5,-307.18\"/>\n<text text-anchor=\"middle\" x=\"557.5\" y=\"-318.8\" font-family=\"Times,serif\" font-size=\"14.00\">amod</text>\n</g>\n<!-- 12 -->\n<g id=\"node13\" class=\"node\">\n<title>12</title>\n<text text-anchor=\"middle\" x=\"646\" y=\"-275.3\" font-family=\"Times,serif\" font-size=\"14.00\">12 (кличек)</text>\n</g>\n<!-- 10&#45;&gt;12 -->\n<g id=\"edge12\" class=\"edge\">\n<title>10&#45;&gt;12</title>\n<path fill=\"none\" stroke=\"black\" d=\"M563.05,-347.8C578.55,-335.13 599.83,-317.73 616.96,-303.74\"/>\n<polygon fill=\"black\" stroke=\"black\" points=\"619.46,-306.21 624.99,-297.18 615.03,-300.79 619.46,-306.21\"/>\n<text text-anchor=\"middle\" x=\"617\" y=\"-318.8\" font-family=\"Times,serif\" font-size=\"14.00\">nmod</text>\n</g>\n<!-- 20 -->\n<g id=\"node22\" class=\"node\">\n<title>20</title>\n<text text-anchor=\"middle\" x=\"733\" y=\"-275.3\" font-family=\"Times,serif\" font-size=\"14.00\">20 (и)</text>\n</g>\n<!-- 21&#45;&gt;20 -->\n<g id=\"edge21\" class=\"edge\">\n<title>21&#45;&gt;20</title>\n<path fill=\"none\" stroke=\"black\" d=\"M733,-347.8C733,-336.16 733,-320.55 733,-307.24\"/>\n<polygon fill=\"black\" stroke=\"black\" points=\"736.5,-307.18 733,-297.18 729.5,-307.18 736.5,-307.18\"/>\n<text text-anchor=\"middle\" x=\"739.5\" y=\"-318.8\" font-family=\"Times,serif\" font-size=\"14.00\">cc</text>\n</g>\n<!-- 23 -->\n<g id=\"node23\" class=\"node\">\n<title>23</title>\n<text text-anchor=\"middle\" x=\"817\" y=\"-275.3\" font-family=\"Times,serif\" font-size=\"14.00\">23 (синих)</text>\n</g>\n<!-- 21&#45;&gt;23 -->\n<g id=\"edge22\" class=\"edge\">\n<title>21&#45;&gt;23</title>\n<path fill=\"none\" stroke=\"black\" d=\"M750,-347.8C762.3,-335.36 779.09,-318.36 792.78,-304.5\"/>\n<polygon fill=\"black\" stroke=\"black\" points=\"795.49,-306.75 800.03,-297.18 790.51,-301.83 795.49,-306.75\"/>\n<text text-anchor=\"middle\" x=\"797\" y=\"-318.8\" font-family=\"Times,serif\" font-size=\"14.00\">nmod</text>\n</g>\n<!-- 11 -->\n<g id=\"node14\" class=\"node\">\n<title>11</title>\n<text text-anchor=\"middle\" x=\"548\" y=\"-188.3\" font-family=\"Times,serif\" font-size=\"14.00\">11 (лошадиных)</text>\n</g>\n<!-- 12&#45;&gt;11 -->\n<g id=\"edge13\" class=\"edge\">\n<title>12&#45;&gt;11</title>\n<path fill=\"none\" stroke=\"black\" d=\"M626.17,-260.8C611.56,-248.13 591.5,-230.73 575.37,-216.74\"/>\n<polygon fill=\"black\" stroke=\"black\" points=\"577.65,-214.08 567.8,-210.18 573.06,-219.37 577.65,-214.08\"/>\n<text text-anchor=\"middle\" x=\"618.5\" y=\"-231.8\" font-family=\"Times,serif\" font-size=\"14.00\">amod</text>\n</g>\n<!-- 18 -->\n<g id=\"node15\" class=\"node\">\n<title>18</title>\n<text text-anchor=\"middle\" x=\"674\" y=\"-188.3\" font-family=\"Times,serif\" font-size=\"14.00\">18 (колеснице)</text>\n</g>\n<!-- 12&#45;&gt;18 -->\n<g id=\"edge14\" class=\"edge\">\n<title>12&#45;&gt;18</title>\n<path fill=\"none\" stroke=\"black\" d=\"M651.67,-260.8C655.54,-249.05 660.75,-233.24 665.16,-219.84\"/>\n<polygon fill=\"black\" stroke=\"black\" points=\"668.54,-220.77 668.34,-210.18 661.89,-218.58 668.54,-220.77\"/>\n<text text-anchor=\"middle\" x=\"686.5\" y=\"-231.8\" font-family=\"Times,serif\" font-size=\"14.00\">parataxis</text>\n</g>\n<!-- 14 -->\n<g id=\"node17\" class=\"node\">\n<title>14</title>\n<text text-anchor=\"middle\" x=\"488\" y=\"-101.3\" font-family=\"Times,serif\" font-size=\"14.00\">14 (по)</text>\n</g>\n<!-- 18&#45;&gt;14 -->\n<g id=\"edge16\" class=\"edge\">\n<title>18&#45;&gt;14</title>\n<path fill=\"none\" stroke=\"black\" d=\"M621.68,-176.22C593.48,-168.1 563.2,-159.06 557,-156 542.45,-148.81 527.7,-138.61 515.6,-129.29\"/>\n<polygon fill=\"black\" stroke=\"black\" points=\"517.69,-126.48 507.67,-123.02 513.35,-131.97 517.69,-126.48\"/>\n<text text-anchor=\"middle\" x=\"569\" y=\"-144.8\" font-family=\"Times,serif\" font-size=\"14.00\">case</text>\n</g>\n<!-- 15 -->\n<g id=\"node18\" class=\"node\">\n<title>15</title>\n<text text-anchor=\"middle\" x=\"577\" y=\"-101.3\" font-family=\"Times,serif\" font-size=\"14.00\">15 (четыре)</text>\n</g>\n<!-- 18&#45;&gt;15 -->\n<g id=\"edge18\" class=\"edge\">\n<title>18&#45;&gt;15</title>\n<path fill=\"none\" stroke=\"black\" d=\"M621.7,-175.61C611.48,-170.67 601.59,-164.26 594,-156 588.09,-149.57 584.23,-141 581.7,-132.77\"/>\n<polygon fill=\"black\" stroke=\"black\" points=\"585.09,-131.91 579.24,-123.08 578.31,-133.63 585.09,-131.91\"/>\n<text text-anchor=\"middle\" x=\"631\" y=\"-144.8\" font-family=\"Times,serif\" font-size=\"14.00\">nummod:gov</text>\n</g>\n<!-- 16 -->\n<g id=\"node19\" class=\"node\">\n<title>16</title>\n<text text-anchor=\"middle\" x=\"669\" y=\"-101.3\" font-family=\"Times,serif\" font-size=\"14.00\">16 (в)</text>\n</g>\n<!-- 18&#45;&gt;16 -->\n<g id=\"edge17\" class=\"edge\">\n<title>18&#45;&gt;16</title>\n<path fill=\"none\" stroke=\"black\" d=\"M672.99,-173.8C672.3,-162.16 671.39,-146.55 670.6,-133.24\"/>\n<polygon fill=\"black\" stroke=\"black\" points=\"674.09,-132.95 670.01,-123.18 667.1,-133.36 674.09,-132.95\"/>\n<text text-anchor=\"middle\" x=\"684\" y=\"-144.8\" font-family=\"Times,serif\" font-size=\"14.00\">case</text>\n</g>\n<!-- 17 -->\n<g id=\"node20\" class=\"node\">\n<title>17</title>\n<text text-anchor=\"middle\" x=\"757\" y=\"-101.3\" font-family=\"Times,serif\" font-size=\"14.00\">17 (каждой)</text>\n</g>\n<!-- 18&#45;&gt;17 -->\n<g id=\"edge19\" class=\"edge\">\n<title>18&#45;&gt;17</title>\n<path fill=\"none\" stroke=\"black\" d=\"M690.8,-173.8C702.95,-161.36 719.54,-144.36 733.07,-130.5\"/>\n<polygon fill=\"black\" stroke=\"black\" points=\"735.75,-132.78 740.23,-123.18 730.74,-127.88 735.75,-132.78\"/>\n<text text-anchor=\"middle\" x=\"736.5\" y=\"-144.8\" font-family=\"Times,serif\" font-size=\"14.00\">amod</text>\n</g>\n<!-- 19 -->\n<g id=\"node21\" class=\"node\">\n<title>19</title>\n<text text-anchor=\"middle\" x=\"845\" y=\"-101.3\" font-family=\"Times,serif\" font-size=\"14.00\">19 ())</text>\n</g>\n<!-- 18&#45;&gt;19 -->\n<g id=\"edge20\" class=\"edge\">\n<title>18&#45;&gt;19</title>\n<path fill=\"none\" stroke=\"black\" d=\"M716.53,-173.88C729.35,-168.44 743.36,-162.22 756,-156 773.68,-147.29 792.79,-136.72 808.75,-127.54\"/>\n<polygon fill=\"black\" stroke=\"black\" points=\"810.85,-130.37 817.75,-122.32 807.34,-124.31 810.85,-130.37\"/>\n<text text-anchor=\"middle\" x=\"799.5\" y=\"-144.8\" font-family=\"Times,serif\" font-size=\"14.00\">punct</text>\n</g>\n<!-- 13 -->\n<g id=\"node16\" class=\"node\">\n<title>13</title>\n<text text-anchor=\"middle\" x=\"488\" y=\"-14.3\" font-family=\"Times,serif\" font-size=\"14.00\">13 (()</text>\n</g>\n<!-- 14&#45;&gt;13 -->\n<g id=\"edge15\" class=\"edge\">\n<title>14&#45;&gt;13</title>\n<path fill=\"none\" stroke=\"black\" d=\"M488,-86.8C488,-75.16 488,-59.55 488,-46.24\"/>\n<polygon fill=\"black\" stroke=\"black\" points=\"491.5,-46.18 488,-36.18 484.5,-46.18 491.5,-46.18\"/>\n<text text-anchor=\"middle\" x=\"503.5\" y=\"-57.8\" font-family=\"Times,serif\" font-size=\"14.00\">punct</text>\n</g>\n<!-- 22 -->\n<g id=\"node24\" class=\"node\">\n<title>22</title>\n<text text-anchor=\"middle\" x=\"811\" y=\"-188.3\" font-family=\"Times,serif\" font-size=\"14.00\">22 (колесничих)</text>\n</g>\n<!-- 23&#45;&gt;22 -->\n<g id=\"edge23\" class=\"edge\">\n<title>23&#45;&gt;22</title>\n<path fill=\"none\" stroke=\"black\" d=\"M815.79,-260.8C814.96,-249.16 813.86,-233.55 812.92,-220.24\"/>\n<polygon fill=\"black\" stroke=\"black\" points=\"816.41,-219.9 812.21,-210.18 809.43,-220.4 816.41,-219.9\"/>\n<text text-anchor=\"middle\" x=\"830.5\" y=\"-231.8\" font-family=\"Times,serif\" font-size=\"14.00\">amod</text>\n</g>\n<!-- 24 -->\n<g id=\"node25\" class=\"node\">\n<title>24</title>\n<text text-anchor=\"middle\" x=\"912\" y=\"-188.3\" font-family=\"Times,serif\" font-size=\"14.00\">24 (.)</text>\n</g>\n<!-- 23&#45;&gt;24 -->\n<g id=\"edge24\" class=\"edge\">\n<title>23&#45;&gt;24</title>\n<path fill=\"none\" stroke=\"black\" d=\"M836.22,-260.8C850.26,-248.24 869.47,-231.05 885.04,-217.12\"/>\n<polygon fill=\"black\" stroke=\"black\" points=\"887.69,-219.45 892.8,-210.18 883.02,-214.24 887.69,-219.45\"/>\n<text text-anchor=\"middle\" x=\"885.5\" y=\"-231.8\" font-family=\"Times,serif\" font-size=\"14.00\">punct</text>\n</g>\n</g>\n</svg>\n"
          },
          "metadata": {},
          "execution_count": 33
        }
      ]
    },
    {
      "cell_type": "markdown",
      "source": [
        "Или так:"
      ],
      "metadata": {
        "id": "YZz3cNLGhRfu"
      }
    },
    {
      "cell_type": "code",
      "source": [
        "plt.figure(figsize=(10,10))\n",
        "nx.draw(graph_tree_80.nx_graph(), labels=graph_tree_80.nx_labels, node_size=3000)"
      ],
      "metadata": {
        "colab": {
          "base_uri": "https://localhost:8080/",
          "height": 1000
        },
        "id": "QppJx75nhEvT",
        "outputId": "56496723-6c58-431a-e87f-b865e030ee49"
      },
      "execution_count": null,
      "outputs": [
        {
          "output_type": "display_data",
          "data": {
            "text/plain": [
              "<Figure size 1000x1000 with 1 Axes>"
            ],
            "image/png": "[encoded data removed]"
          },
          "metadata": {}
        }
      ]
    },
    {
      "cell_type": "markdown",
      "metadata": {
        "id": "Dwi3WDbdNUpn"
      },
      "source": [
        "Вспомним наш прекрасный метод доставания узлов:"
      ]
    },
    {
      "cell_type": "code",
      "metadata": {
        "id": "2oqR8cHtNTUA",
        "colab": {
          "base_uri": "https://localhost:8080/"
        },
        "outputId": "75fdf2e0-9fa3-4981-ec70-dfb13ca4bf3a"
      },
      "source": [
        "graph_tree_80.root = graph_tree_80.nodes[0]  # чтобы метод сработал нужно установить корневой элемент\n",
        "list(graph_tree_80.triples())"
      ],
      "execution_count": null,
      "outputs": [
        {
          "output_type": "execute_result",
          "data": {
            "text/plain": [
              "[((None, 'TOP'), 'root', ('идет', 'VERB')),\n",
              " (('идет', 'VERB'), 'obl', ('табличке', 'NOUN')),\n",
              " (('табличке', 'NOUN'), 'case', ('На', 'ADP')),\n",
              " (('табличке', 'NOUN'), 'amod', ('свинцовой', 'ADJ')),\n",
              " (('идет', 'VERB'), 'obl', ('слов', 'NOUN')),\n",
              " (('слов', 'NOUN'), 'case', ('после', 'ADP')),\n",
              " (('слов', 'NOUN'), 'amod', ('разных', 'ADJ')),\n",
              " (('слов', 'NOUN'), 'amod', ('магических', 'ADJ')),\n",
              " (('идет', 'VERB'), 'nsubj', ('список', 'NOUN')),\n",
              " (('список', 'NOUN'), 'amod', ('длинный', 'ADJ')),\n",
              " (('список', 'NOUN'), 'nmod', ('кличек', 'NOUN')),\n",
              " (('кличек', 'NOUN'), 'amod', ('лошадиных', 'ADJ')),\n",
              " (('кличек', 'NOUN'), 'parataxis', ('колеснице', 'NOUN')),\n",
              " (('колеснице', 'NOUN'), 'case', ('по', 'ADP')),\n",
              " (('по', 'ADP'), 'punct', ('(', 'PUNCT')),\n",
              " (('колеснице', 'NOUN'), 'nummod:gov', ('четыре', 'NUM')),\n",
              " (('колеснице', 'NOUN'), 'case', ('в', 'ADP')),\n",
              " (('колеснице', 'NOUN'), 'amod', ('каждой', 'ADJ')),\n",
              " (('колеснице', 'NOUN'), 'punct', (')', 'PUNCT')),\n",
              " (('идет', 'VERB'), 'conj', ('имен', 'NOUN')),\n",
              " (('имен', 'NOUN'), 'cc', ('и', 'CCONJ')),\n",
              " (('имен', 'NOUN'), 'nmod', ('синих', 'ADJ')),\n",
              " (('синих', 'ADJ'), 'amod', ('колесничих', 'ADJ')),\n",
              " (('синих', 'ADJ'), 'punct', ('.', 'PUNCT'))]"
            ]
          },
          "metadata": {},
          "execution_count": 35
        }
      ]
    },
    {
      "cell_type": "markdown",
      "metadata": {
        "id": "Qm0TgTG0Or6u"
      },
      "source": [
        "Какие вообще отношения в Universal Dependencies маркируются для русского языка?\n",
        "\n",
        "https://universaldependencies.org/ru/index.html"
      ]
    },
    {
      "cell_type": "markdown",
      "source": [
        "**Какие еще вопросы можно решать с помощью UDPipe?**\n",
        "\n",
        "+ Достать какую-нибудь составляющую. Например, достать из всех предложений вашего корпуса именные группы.\n",
        "+ Достать самые короткие пути (пути по графу зависимостей), соединяющие между собой какие-нибудь фразы.\n",
        "+ Искать предложения или конструкции, похожие между собой по структуре.\n",
        "+ и т.д."
      ],
      "metadata": {
        "id": "Xwfty4Fjle0w"
      }
    },
    {
      "cell_type": "markdown",
      "metadata": {
        "id": "5Yp6OaI_KLjj"
      },
      "source": [
        "**Задание**:\n",
        "\n",
        "\n",
        "1. Дадим SpaCy на разбор предложение с синтаксической неоднозначностью. Какой анализ предлагает SpaCy?\n",
        "    + *John saw the man on the mountain with a telescope.*\n",
        "    + *I'm glad I'm a man, and so is Lola.*\n",
        "    + больше примеров: https://en.wikipedia.org/wiki/Syntactic_ambiguity\n",
        "\n",
        "2. Дадим примеры на острова (приведены ниже с традиционной оценкой их приемлемости). Какой анализ предлагает SpaCy?\n",
        "    - *What<sub>i</sub> does Sarah believe that Susan thinks that John bought \\_<sub>i</sub>?*\n",
        "    + Complex NPs\n",
        "      - _<sup>\\*</sup>Who<sub>i</sub> did Mary see the report that was about _<sub>i</sub>?_<br>(cf. *Mary saw the report that was about the senator.*)\n",
        "      - _<sup>?*</sup>Which sportscar<sub>i</sub> did the color of _<sub>i</sub> delight the baseball player?_<br>(cf. *The color of the sportscar delighted the baseball player.*)\n",
        "\n",
        "    + Complements of manner-of-speaking verbs\n",
        "       - _<sup>??</sup>What<sub>i</sub> did Mary whisper that Bill liked _<sub>i</sub>?_<br>(cf. *Mary whispered that Bill liked wine.*)\n",
        "\n",
        "    + Complex NPs (both noun complements and relative clauses)\n",
        "        - _<sup>*</sup>The senator who<sub>i</sub> Mary saw the report that was about _<sub>i</sub> bothered many people on the committee._\n",
        "\n",
        "    + Subject islands\n",
        "        - _<sup>?*</sup>The sportscar which<sub>i</sub> the color of _<sub>i</sub> delighted the baseball player…_\n",
        "\n",
        "    + Complements of manner-of-speaking verbs\n",
        "        - _<sup>?</sup>The wine which<sub>i</sub> Mary whispered that Bill liked _<sub>i</sub> was a Cabernet._\n",
        "\n",
        "3. Справляется ли SpaCy с эллипсисом:\n",
        "    + *John can [play the guitar]<sub>i</sub>, and Mary can _<sub>i</sub>, too.*\n",
        "4. Достанем все именные группы для слов с тегом `nsubj` при помощи UDPipe, т.е. достанем все именные группы в именительном падеже\n",
        "\n"
      ]
    },
    {
      "cell_type": "code",
      "source": [],
      "metadata": {
        "id": "vtGb0BNusZHk"
      },
      "execution_count": null,
      "outputs": []
    }
  ],
  "metadata": {
    "kernelspec": {
      "display_name": "Python 3",
      "language": "python",
      "name": "python3"
    },
    "language_info": {
      "codemirror_mode": {
        "name": "ipython",
        "version": 3
      },
      "file_extension": ".py",
      "mimetype": "text/x-python",
      "name": "python",
      "nbconvert_exporter": "python",
      "pygments_lexer": "ipython3",
      "version": "3.8.5"
    },
    "colab": {
      "provenance": []
    }
  },
  "nbformat": 4,
  "nbformat_minor": 0
}