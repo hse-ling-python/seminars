{
  "cells": [
    {
      "cell_type": "markdown",
      "metadata": {
        "id": "SWKj0QR-Fl12"
      },
      "source": [
        "# Практика, ФиКЛ 2025"
      ]
    },
    {
      "cell_type": "markdown",
      "metadata": {
        "id": "E_-V9s1ZFl13"
      },
      "source": [
        "## Датасет"
      ]
    },
    {
      "cell_type": "markdown",
      "source": [
        "Возьмите [датасет новостей](https://scikit-learn.org/stable/datasets/real_world.html#newsgroups-dataset), встроенный в `sklearn`."
      ],
      "metadata": {
        "id": "Gly-_qKWHm8w"
      }
    },
    {
      "cell_type": "code",
      "execution_count": null,
      "metadata": {
        "id": "LjczAvROFl14"
      },
      "outputs": [],
      "source": [
        "from sklearn.datasets import fetch_20newsgroups"
      ]
    },
    {
      "cell_type": "markdown",
      "source": [
        "Вообще в нем есть **двадцать категорий** новостей, но мы предлагаем вам взять **от трех до пяти**. Можете взять две пары близких категорий для бинарной классификации или три разных и т.д.\n",
        "\n",
        "Список всех категорий есть ниже, а выбрать конкретные категории можно так:\n",
        "\n",
        "```python\n",
        "my_groups = fetch_20newsgroups(\n",
        "    categories=[\n",
        "        ... # список категорий\n",
        "    ])\n",
        "```\n",
        "\n"
      ],
      "metadata": {
        "id": "nXVeEWP0Jw9h"
      }
    },
    {
      "cell_type": "code",
      "source": [
        "from pprint import pprint\n",
        "\n",
        "pprint(list(fetch_20newsgroups().target_names))"
      ],
      "metadata": {
        "id": "LmXvRANuJbhr",
        "outputId": "cf6b8b3c-7fdb-4470-b5a1-4faaf75b0e26",
        "colab": {
          "base_uri": "https://localhost:8080/"
        }
      },
      "execution_count": null,
      "outputs": [
        {
          "output_type": "stream",
          "name": "stdout",
          "text": [
            "['alt.atheism',\n",
            " 'comp.graphics',\n",
            " 'comp.os.ms-windows.misc',\n",
            " 'comp.sys.ibm.pc.hardware',\n",
            " 'comp.sys.mac.hardware',\n",
            " 'comp.windows.x',\n",
            " 'misc.forsale',\n",
            " 'rec.autos',\n",
            " 'rec.motorcycles',\n",
            " 'rec.sport.baseball',\n",
            " 'rec.sport.hockey',\n",
            " 'sci.crypt',\n",
            " 'sci.electronics',\n",
            " 'sci.med',\n",
            " 'sci.space',\n",
            " 'soc.religion.christian',\n",
            " 'talk.politics.guns',\n",
            " 'talk.politics.mideast',\n",
            " 'talk.politics.misc',\n",
            " 'talk.religion.misc']\n"
          ]
        }
      ]
    },
    {
      "cell_type": "markdown",
      "metadata": {
        "id": "GR8MwsdyFl15"
      },
      "source": [
        "В этом датасете есть несколько ключей:"
      ]
    },
    {
      "cell_type": "code",
      "execution_count": null,
      "metadata": {
        "id": "aX70JTTaFl15",
        "outputId": "6d31153b-3c55-406f-e3ca-71f2d73c80a5",
        "colab": {
          "base_uri": "https://localhost:8080/"
        }
      },
      "outputs": [
        {
          "output_type": "execute_result",
          "data": {
            "text/plain": [
              "dict_keys(['data', 'filenames', 'target_names', 'target', 'DESCR'])"
            ]
          },
          "metadata": {},
          "execution_count": 2
        }
      ],
      "source": [
        "fetch_20newsgroups().keys()"
      ]
    },
    {
      "cell_type": "markdown",
      "source": [
        "Нас в первую очередь интересуют `'data'` с самими текстами и `'target'` с номерами категорий (и `'target_names'` с названиями категорий). Обратиться к ним можно при помощи: `my_groups['data']`, `my_groups['target']` и т.д.\n",
        "\n"
      ],
      "metadata": {
        "id": "qnjO4Ux-JrLM"
      }
    },
    {
      "cell_type": "markdown",
      "source": [
        "## EDA и подготовка датасета"
      ],
      "metadata": {
        "id": "VAq83dPlLHMw"
      }
    },
    {
      "cell_type": "markdown",
      "source": [
        "1. Выберите **от трех до пяти** категорий новостей."
      ],
      "metadata": {
        "id": "6Bz5otUjNb3l"
      }
    },
    {
      "cell_type": "code",
      "source": [
        "# ваш код здесь"
      ],
      "metadata": {
        "id": "U1xRb6oyNnZo"
      },
      "execution_count": null,
      "outputs": []
    },
    {
      "cell_type": "markdown",
      "metadata": {
        "id": "220iQTdGFl16"
      },
      "source": [
        "2. Запишите сами тексты в `data`, а номера категорий в `y` (или перекодируйте на `True` / `False`, если берете бинарную классификацию). Проверьте, насколько соблюдается баланс классов в целевой переменной:"
      ]
    },
    {
      "cell_type": "code",
      "execution_count": null,
      "metadata": {
        "id": "06YdIDElFl16"
      },
      "outputs": [],
      "source": [
        "data = ...\n",
        "y = ..."
      ]
    },
    {
      "cell_type": "markdown",
      "metadata": {
        "id": "WGeYNqIjFl16"
      },
      "source": [
        "3. Разделите данные на обучающую и тестовую выборки:"
      ]
    },
    {
      "cell_type": "code",
      "execution_count": null,
      "metadata": {
        "id": "Qw1PsZlUFl16"
      },
      "outputs": [],
      "source": [
        "data_train, data_test, y_train, y_test = ..."
      ]
    },
    {
      "cell_type": "markdown",
      "source": [
        "## Предобработка текстов"
      ],
      "metadata": {
        "id": "ZK28yVZ-Mmxo"
      }
    },
    {
      "cell_type": "markdown",
      "metadata": {
        "id": "LDUOcpoJFl16"
      },
      "source": [
        "В качестве признаков, по которым модель будет принимать решение, можно использовать один из двух вариантов:\n",
        "- [`CountVectorizer`](https://scikit-learn.org/stable/modules/generated/sklearn.feature_extraction.text.CountVectorizer.html#sklearn.feature_extraction.text.CountVectorizer): просто наличие слов\n",
        "- [`TfidfVectorizer`](https://scikit-learn.org/stable/modules/generated/sklearn.feature_extraction.text.TfidfVectorizer.html#sklearn.feature_extraction.text.TfidfVectorizer): наличие слов в тексте, принимая во внимание их важность"
      ]
    },
    {
      "cell_type": "markdown",
      "source": [
        "### TF-IDF"
      ],
      "metadata": {
        "id": "ZFSYVMbNNuNK"
      }
    },
    {
      "cell_type": "markdown",
      "metadata": {
        "id": "CSMEAChqNY4X"
      },
      "source": [
        "В этой аббревиатуре TF обозначает **text frequency** $-$ сколько раз слово (а вернее, «терм») встретилось в документе. Считается как количество раз, которое слово встретилось, делённое на общее количество слов в тексте:\n",
        "\n",
        "$$TF_{i,j} = \\frac{n_{i,j}}{\\sum_{k}^{}n_{i,j}}$$\n",
        "\n",
        "IDF $-$ это **inverse document frequency** $-$ важность терма для конкретного документа. Он считается так:\n",
        "\n",
        "$$ IDF = log \\frac{N}{n_t}$$\n",
        "\n",
        "Общее количество документов делится на количество документов, где нужный терм встретился хотя бы один раз; от полученной величины берётся логарифм. Таким образом, если терм встретился только в одном документе, то его IDF будет высокой (т.е. это важный для документа терм).\n",
        "\n",
        "Итоговая величина получается перемножением исходных двух метрик:\n",
        "\n",
        "$$TFIDF = TF \\cdot IDF$$"
      ]
    },
    {
      "cell_type": "markdown",
      "source": [
        "### Что важно помнить при предобработке текстов?"
      ],
      "metadata": {
        "id": "Ak8Pu4JZOaJx"
      }
    },
    {
      "cell_type": "markdown",
      "metadata": {
        "id": "Hy3cgp2TNY4Y"
      },
      "source": [
        "**Преобработанный текст**\n",
        "\n",
        "Ваш текст уже должен быть избавлен от знаков препинания, неуместных заглавных букв и т.д., а также лемматизирован. Так вы избавитесь от разных «термов»-форм слова, которые значат по сути одно и то же.\n",
        "\n",
        "**Стоп-слова**\n",
        "\n",
        "Лучше убирать из текста стоп-слова: их высокая частотность и присутствие во многих документах может размыть вам картинку."
      ]
    },
    {
      "cell_type": "markdown",
      "source": [
        "### Реализация\n"
      ],
      "metadata": {
        "id": "o0IBqbt5OmtI"
      }
    },
    {
      "cell_type": "markdown",
      "metadata": {
        "id": "mQU7ZY-gNY4Y"
      },
      "source": [
        "…уже сделана за нас в пакете `sklearn`."
      ]
    },
    {
      "cell_type": "code",
      "execution_count": null,
      "metadata": {
        "id": "ZIooqlrxNY4Y"
      },
      "outputs": [],
      "source": [
        "from sklearn.feature_extraction.text import TfidfVectorizer, CountVectorizer"
      ]
    },
    {
      "cell_type": "markdown",
      "source": [
        "4. Возьмите один из вариантов и настройте его под себя, если нужно (тут на помощь придет документация):"
      ],
      "metadata": {
        "id": "irAwNoy_P8pt"
      }
    },
    {
      "cell_type": "code",
      "execution_count": null,
      "metadata": {
        "id": "4w4-X1SrNY4Z"
      },
      "outputs": [],
      "source": [
        "my_text_model = ..."
      ]
    },
    {
      "cell_type": "markdown",
      "source": [
        "5. Обучите выбранный вариант на `data_train` и преобразуйте (метод `transform`) `data_train` и `data_test`:"
      ],
      "metadata": {
        "id": "BwUHsYv4QhxH"
      }
    },
    {
      "cell_type": "code",
      "execution_count": null,
      "metadata": {
        "id": "SyEH192AFl16"
      },
      "outputs": [],
      "source": [
        "my_text_model.fit(data_train)"
      ]
    },
    {
      "cell_type": "code",
      "execution_count": null,
      "metadata": {
        "id": "3ESeq0KiFl17"
      },
      "outputs": [],
      "source": [
        "X_train = my_text_model.transform(data_train).astype(int)\n",
        "X_test = my_text_model.transform(data_test).astype(int)"
      ]
    },
    {
      "cell_type": "markdown",
      "source": [
        "## Обучение и оценка\n"
      ],
      "metadata": {
        "id": "cmQrI0JZQ4pi"
      }
    },
    {
      "cell_type": "markdown",
      "source": [
        "### Логистическая регрессия"
      ],
      "metadata": {
        "id": "RO-ppPPjSNF5"
      }
    },
    {
      "cell_type": "markdown",
      "source": [
        "6. Постройте логистическую регрессию:"
      ],
      "metadata": {
        "id": "3Frj3_FYQ2mw"
      }
    },
    {
      "cell_type": "code",
      "source": [
        "# ваш код здесь"
      ],
      "metadata": {
        "id": "kRkYw1UHRm3f"
      },
      "execution_count": null,
      "outputs": []
    },
    {
      "cell_type": "markdown",
      "source": [
        "7. Посчитайте качество модели"
      ],
      "metadata": {
        "id": "5oFXdiRuSwbw"
      }
    },
    {
      "cell_type": "code",
      "source": [
        "# ваш код здесь"
      ],
      "metadata": {
        "id": "Gyn5-obWSzb9"
      },
      "execution_count": null,
      "outputs": []
    },
    {
      "cell_type": "markdown",
      "source": [
        "8. Посмотрите топ-5 слов, влияющих на выбор той или иной категории (по сути, это все те же коэфициенты):"
      ],
      "metadata": {
        "id": "qCAWKjzuSVZQ"
      }
    },
    {
      "cell_type": "code",
      "source": [
        "# ваш код здесь"
      ],
      "metadata": {
        "id": "veeGycuISC-8"
      },
      "execution_count": null,
      "outputs": []
    },
    {
      "cell_type": "markdown",
      "source": [
        "### Деревья решений"
      ],
      "metadata": {
        "id": "4jG4g6JjSqkW"
      }
    },
    {
      "cell_type": "markdown",
      "source": [
        "9. Постройте дерево решений:"
      ],
      "metadata": {
        "id": "Pw8HFc1vS23x"
      }
    },
    {
      "cell_type": "code",
      "source": [
        "# ваш код здесь"
      ],
      "metadata": {
        "id": "j5xPsgE_S23x"
      },
      "execution_count": null,
      "outputs": []
    },
    {
      "cell_type": "markdown",
      "source": [
        "10. Посчитайте качество модели:"
      ],
      "metadata": {
        "id": "-qjlwrEHS23y"
      }
    },
    {
      "cell_type": "code",
      "source": [
        "# ваш код здесь"
      ],
      "metadata": {
        "id": "8GTpyS46S23y"
      },
      "execution_count": null,
      "outputs": []
    },
    {
      "cell_type": "markdown",
      "metadata": {
        "id": "D4PDVnY2Fl2B"
      },
      "source": [
        "11. Визуализируйте ваше итоговое дерево:"
      ]
    },
    {
      "cell_type": "code",
      "source": [
        "# ваш код здесь"
      ],
      "metadata": {
        "id": "_h6XmzcmTHDo"
      },
      "execution_count": null,
      "outputs": []
    },
    {
      "cell_type": "markdown",
      "source": [
        "### Общие выводы / мысли"
      ],
      "metadata": {
        "id": "6MTAlo1ROo48"
      }
    },
    {
      "cell_type": "markdown",
      "source": [
        "-- место для вашего текста --"
      ],
      "metadata": {
        "id": "eDq_FvGfOthy"
      }
    },
    {
      "cell_type": "code",
      "source": [],
      "metadata": {
        "id": "X-jYpuYTO35v"
      },
      "execution_count": null,
      "outputs": []
    }
  ],
  "metadata": {
    "kernelspec": {
      "display_name": "Python 3",
      "language": "python",
      "name": "python3"
    },
    "language_info": {
      "codemirror_mode": {
        "name": "ipython",
        "version": 3
      },
      "file_extension": ".py",
      "mimetype": "text/x-python",
      "name": "python",
      "nbconvert_exporter": "python",
      "pygments_lexer": "ipython3",
      "version": "3.8.10"
    },
    "colab": {
      "provenance": []
    }
  },
  "nbformat": 4,
  "nbformat_minor": 0
}