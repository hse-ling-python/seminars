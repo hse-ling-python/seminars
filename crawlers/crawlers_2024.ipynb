{
  "cells": [
    {
      "cell_type": "markdown",
      "metadata": {
        "id": "qhfdCMjxfcMW"
      },
      "source": [
        "# Краулеры\n",
        "\n",
        "**План**\n",
        "\n",
        "1. Что такое краулеры?\n",
        "2. Как написать простой краулер?\n",
        "3. Блокировки и способы их обхода"
      ]
    },
    {
      "cell_type": "markdown",
      "metadata": {
        "id": "fvG6IkBZfcMX"
      },
      "source": [
        "## Что такое краулеры?\n",
        "\n",
        "Краулеры $-$ это боты / программы, которые \"ползают\" (*crawl*) по страницам сайта и собирают информацию. Все чаще использование таких программ запрещается правилами пользования сайтами, поэтому это формально нехорошо. Но так продолжают делать и это надо уметь. Запрещают по 2 основным причинам: не хотят делиться данными и боятся, что вы уроните сервер (если сайт $-$ маленький, а сервер $-$ не очень, то это довольно легко).\n",
        "\n",
        "Поэтому нужно собирать данные аккуратно, чтобы:\n",
        "1. вас не заблокировали по IP,\n",
        "2. вы не навредили серверу."
      ]
    },
    {
      "cell_type": "markdown",
      "metadata": {
        "id": "0a7Isly5fcMY"
      },
      "source": [
        "## Как написать простой краулер?"
      ]
    },
    {
      "cell_type": "code",
      "execution_count": 1,
      "metadata": {
        "id": "GP-4qf8KfcMY"
      },
      "outputs": [],
      "source": [
        "import requests\n",
        "from pprint import pprint"
      ]
    },
    {
      "cell_type": "markdown",
      "metadata": {
        "id": "WE0tiwZlfcMY"
      },
      "source": [
        "Вместо отдельных запросов лучше создать сессию, которая позволит хранить информацию между запросами и поддерживать то же соединение и не создавать каждый раз все заново, что влияет на производительность."
      ]
    },
    {
      "cell_type": "code",
      "execution_count": 2,
      "metadata": {
        "id": "HVLC9z3LfcMZ"
      },
      "outputs": [],
      "source": [
        "session = requests.session()"
      ]
    },
    {
      "cell_type": "markdown",
      "metadata": {
        "id": "j24aR3dJfcMZ"
      },
      "source": [
        "Попробуем сделать запрос, просто вместо requests.get мы пишет session.get."
      ]
    },
    {
      "cell_type": "code",
      "execution_count": 3,
      "metadata": {
        "id": "05KfZ9L6fcMZ"
      },
      "outputs": [],
      "source": [
        "response = session.get('https://ru.wikipedia.org')"
      ]
    },
    {
      "cell_type": "markdown",
      "metadata": {
        "id": "Em8QSAK4fcMZ"
      },
      "source": [
        "Может найти значения нашего IP-адреса"
      ]
    },
    {
      "cell_type": "code",
      "execution_count": 4,
      "metadata": {
        "id": "whK9tuLVfcMZ",
        "outputId": "02e9de60-5aad-4806-d9a5-7984c6e07ac5",
        "colab": {
          "base_uri": "https://localhost:8080/",
          "height": 36
        }
      },
      "outputs": [
        {
          "output_type": "execute_result",
          "data": {
            "text/plain": [
              "'34.121.176.38'"
            ],
            "application/vnd.google.colaboratory.intrinsic+json": {
              "type": "string"
            }
          },
          "metadata": {},
          "execution_count": 4
        }
      ],
      "source": [
        "response.headers['X-Client-IP']"
      ]
    },
    {
      "cell_type": "markdown",
      "metadata": {
        "id": "vrFh017JfcMa"
      },
      "source": [
        "Можно ли нас отследить по IP? С определенной точностью, можно узнать округ или компанию, к которой привязан любой IP. Пример сервиса, который позволяет это сделать [здесь](https://whatismyipaddress.com/ip-lookup)."
      ]
    },
    {
      "cell_type": "markdown",
      "metadata": {
        "id": "c02ndjjEfcMa"
      },
      "source": [
        "Посмотреть на `headers` запроса"
      ]
    },
    {
      "cell_type": "code",
      "execution_count": 5,
      "metadata": {
        "id": "tRBqNmsRfcMa",
        "outputId": "ff575138-2ae4-4bbe-efdb-e696f3729e65",
        "colab": {
          "base_uri": "https://localhost:8080/"
        }
      },
      "outputs": [
        {
          "output_type": "stream",
          "name": "stdout",
          "text": [
            "{'accept-ch': '',\n",
            " 'accept-ranges': 'bytes',\n",
            " 'age': '1842',\n",
            " 'cache-control': 'private, s-maxage=0, max-age=0, must-revalidate, '\n",
            "                  'no-transform',\n",
            " 'content-encoding': 'gzip',\n",
            " 'content-language': 'ru',\n",
            " 'content-length': '30320',\n",
            " 'content-type': 'text/html; charset=UTF-8',\n",
            " 'date': 'Tue, 12 Nov 2024 08:01:08 GMT',\n",
            " 'last-modified': 'Tue, 12 Nov 2024 08:00:35 GMT',\n",
            " 'nel': '{ \"report_to\": \"wm_nel\", \"max_age\": 604800, \"failure_fraction\": 0.05, '\n",
            "        '\"success_fraction\": 0.0}',\n",
            " 'report-to': '{ \"group\": \"wm_nel\", \"max_age\": 604800, \"endpoints\": [{ \"url\": '\n",
            "              '\"https://intake-logging.wikimedia.org/v1/events?stream=w3c.reportingapi.network_error&schema_uri=/w3c/reportingapi/network_error/1.0.0\" '\n",
            "              '}] }',\n",
            " 'server': 'mw-web.codfw.main-588896774d-xknkh',\n",
            " 'server-timing': 'cache;desc=\"hit-front\", host;desc=\"cp2039\"',\n",
            " 'set-cookie': 'WMF-DP=23c;Path=/;HttpOnly;secure;Expires=Tue, 12 Nov 2024 '\n",
            "               '00:00:00 GMT',\n",
            " 'strict-transport-security': 'max-age=106384710; includeSubDomains; preload',\n",
            " 'vary': 'Accept-Encoding,Cookie,Authorization',\n",
            " 'x-cache': 'cp2033 hit, cp2039 hit/70',\n",
            " 'x-cache-status': 'hit-front',\n",
            " 'x-client-ip': '34.121.176.38',\n",
            " 'x-content-type-options': 'nosniff'}\n"
          ]
        }
      ],
      "source": [
        "pprint(dict(response.headers))"
      ]
    },
    {
      "cell_type": "markdown",
      "metadata": {
        "id": "KGqK7qehfcMa"
      },
      "source": [
        "### Стратегии сбора данных\n",
        "\n",
        "\n",
        "По сути краулеры выполняют сбор страниц (их HTML) как мы это делали на прошлом занятии, но делают они это циклами (или циклами циклов). Можно выделить разные стратегии сбора данных:\n",
        "    \n",
        "**По типу навигации**\n",
        "\n",
        "1. Все страницы со ссылками имеют удобные номера (\"https://ficbook.net/fanfiction/no_fandom/originals?p=2\"), обычно просто `p=<число>` или `page=<число>`. В этом случае вам нужно просто подставлять цифры подробнее про параметры передаваемые в ссылке можно посмотреть [здесь](https://en.wikipedia.org/wiki/Query_string).\n",
        "2. Страницы называются как-то не структурированно (например, по названиям блоков). Тут нужно собирать ссылки на эти страницы и потом по ним ходить и собирать конечные странички.\n",
        "3. Все расположено на одной страничке и догружается с использованием [WebSocket](https://en.wikipedia.org/wiki/WebSocket) или других технологий, при адрес в адресной строке никак не изменяется, данные могут догружаться на сайт автоматически по мере скролла страницы.\n",
        "\n",
        "**По скорости обновления**\n",
        "\n",
        "1. Если сайт довольно статичный по контенту (медленно появляются и удаляются материалы), то можно сначал собрать ссылки, а потом по ним ходить.\n",
        "2. Если сайт очень динамичный по контенту (например, объявления на крупном сайте), вам нужно при получении страничкии ссылок сразу их обходить, а потом переходить к следующей, потому что ко времени получения исчерпывающего списка ссылок по сайту многие будут уже удалены или недоступны.\n",
        "\n"
      ]
    },
    {
      "cell_type": "markdown",
      "metadata": {
        "id": "RKxYawjJfcMb"
      },
      "source": [
        "## Блокировки и способы их обхода\n",
        "\n",
        "Для того, чтобы предотвратить автоматический сбор информации с некого сайта, применяются различные инструменты, которые определяют роботов и блокируют запросы с адресов, которые были классифицированы как роботы. Чтобы не заблокировали домашний/учебный IP, лучше сразу задуматься об этих мерах и предотвратить возможные проблемы. Кстати, Википедия не блокирует и можно спокойно скачивать без каких-либо проблем.\n",
        "\n",
        "Чтобы их обойти, можно попробовать несколько инструментов:\n",
        "1. `time.sleep(x)` - задержка между запросами, чтобы слишком большая скорость запросов не показалась подозрительной или ваши запросы не уронили сервер небольшого ресурса (например, региональной газеты).\n",
        "2. `time.sleep(<случайный промежуток времени>)` - это более хитрая версия, когда время задержки - это случайное число из некоторого отрезка (модуль `random`).\n",
        "3. изобразить браузер - при запросе отправляется информация о том, из какого приложения пришел запрос (например, Google Chrome), запросы сделанные из браузера больше похожи на человеческие, для этого нужно задать `user-agent` в параметрах (а его выбирать случайно с помощью `fake_useragent`).\n",
        "4. использовать прокси - существуют ресурсы с бесплатными списками открытых прокси, через которые можно пропускать ваш запрос и сервер будет думать, что запросы приходят из разных мест (anonymous и elite классы прокси) или использовать анонимизированные сети к примеру сеть [Tor](https://en.wikipedia.org/wiki/Tor_(network)) и аналоги."
      ]
    },
    {
      "cell_type": "markdown",
      "metadata": {
        "id": "NlGbQqbSfcMb"
      },
      "source": [
        "### Пауза между запросами"
      ]
    },
    {
      "cell_type": "code",
      "execution_count": 6,
      "metadata": {
        "id": "YRU6AGoDfcMb"
      },
      "outputs": [],
      "source": [
        "import time\n",
        "from datetime import datetime"
      ]
    },
    {
      "cell_type": "code",
      "execution_count": 7,
      "metadata": {
        "id": "Yukk1ZZZfcMb",
        "outputId": "b3b05ee2-8f39-4124-d6f7-dff6467e391f",
        "colab": {
          "base_uri": "https://localhost:8080/"
        }
      },
      "outputs": [
        {
          "output_type": "stream",
          "name": "stdout",
          "text": [
            "2024-11-12 08:35:06.562489\n",
            "2024-11-12 08:35:07.629049\n",
            "2024-11-12 08:35:08.694599\n",
            "2024-11-12 08:35:09.759963\n",
            "2024-11-12 08:35:10.825281\n"
          ]
        }
      ],
      "source": [
        "for _ in range(5):\n",
        "    response = session.get('https://ru.wikipedia.org')\n",
        "    print(datetime.now())\n",
        "    time.sleep(1)"
      ]
    },
    {
      "cell_type": "markdown",
      "metadata": {
        "id": "M_7ftEm3fcMb"
      },
      "source": [
        "### Притвориться нормальным браузером"
      ]
    },
    {
      "cell_type": "code",
      "source": [
        "# pip install fake_useragent"
      ],
      "metadata": {
        "id": "fcZTI7Ybg1Ho"
      },
      "execution_count": 11,
      "outputs": []
    },
    {
      "cell_type": "code",
      "execution_count": 10,
      "metadata": {
        "id": "bSN-IbsIfcMb"
      },
      "outputs": [],
      "source": [
        "from fake_useragent import UserAgent"
      ]
    },
    {
      "cell_type": "markdown",
      "metadata": {
        "id": "onloj0LjfcMb"
      },
      "source": [
        "Можно настроить так, чтобы не проверять безопасность соединения, что иногда вызывает ошибки. Но это можно делать с сайтмаи, которым вы доверяете."
      ]
    },
    {
      "cell_type": "code",
      "execution_count": 12,
      "metadata": {
        "id": "_paYypB_fcMb"
      },
      "outputs": [],
      "source": [
        "ua = UserAgent()"
      ]
    },
    {
      "cell_type": "code",
      "execution_count": 13,
      "metadata": {
        "id": "zqVD806rfcMc",
        "outputId": "7131f6e5-072a-42d5-b526-6b716338fb2d",
        "colab": {
          "base_uri": "https://localhost:8080/"
        }
      },
      "outputs": [
        {
          "output_type": "stream",
          "name": "stdout",
          "text": [
            "{'User-Agent': 'Mozilla/5.0 (Linux; Android 10; K) AppleWebKit/537.36 (KHTML, like Gecko) Chrome/122.0.0.0 Mobile Safari/537.36'}\n"
          ]
        }
      ],
      "source": [
        "headers = {'User-Agent': ua.random}\n",
        "print(headers)\n",
        "response = session.get('https://ru.wikipedia.org', headers=headers)"
      ]
    },
    {
      "cell_type": "markdown",
      "metadata": {
        "id": "b7NjYcOPfcMc"
      },
      "source": [
        "### Пауза между запросами (случайное время)"
      ]
    },
    {
      "cell_type": "code",
      "execution_count": 14,
      "metadata": {
        "id": "nVOizC3BfcMc"
      },
      "outputs": [],
      "source": [
        "import random"
      ]
    },
    {
      "cell_type": "markdown",
      "metadata": {
        "id": "q7r2N1JxfcMc"
      },
      "source": [
        "`random.uniform` позволяет получить случайное число из отрезка."
      ]
    },
    {
      "cell_type": "code",
      "execution_count": 15,
      "metadata": {
        "id": "M5CqYoyWfcMc",
        "outputId": "a03ce8b4-5d8a-4a9d-bd23-115cb4c5d5dc",
        "colab": {
          "base_uri": "https://localhost:8080/"
        }
      },
      "outputs": [
        {
          "output_type": "execute_result",
          "data": {
            "text/plain": [
              "2.1778689099826725"
            ]
          },
          "metadata": {},
          "execution_count": 15
        }
      ],
      "source": [
        "random.uniform(1, 3)"
      ]
    },
    {
      "cell_type": "code",
      "execution_count": 16,
      "metadata": {
        "id": "mjJSWX5dfcMc",
        "outputId": "b4987ba9-e3ce-4ffc-f1d3-136b4a163b0b",
        "colab": {
          "base_uri": "https://localhost:8080/"
        }
      },
      "outputs": [
        {
          "output_type": "stream",
          "name": "stdout",
          "text": [
            "2024-11-12 08:35:56.708548\n",
            "2024-11-12 08:36:00.878587\n",
            "2024-11-12 08:36:06.009044\n",
            "2024-11-12 08:36:07.483674\n",
            "2024-11-12 08:36:10.206681\n"
          ]
        }
      ],
      "source": [
        "for _ in range(5):\n",
        "    response = session.get('https://ru.wikipedia.org')\n",
        "    print(datetime.now())\n",
        "    time.sleep(random.uniform(1.1, 5.2))"
      ]
    },
    {
      "cell_type": "markdown",
      "metadata": {
        "id": "bGao7LmPfcMc"
      },
      "source": [
        "### Подключение через прокси\n",
        "\n",
        "Прокси-сервер — это дополнительное звено между вами и интернетом, через него пойдет подключение и сайт не будет знать, что это вы посылаете запрос.\n",
        "\n",
        "1. Адреса прокси можно взять со специальных сайтов: например, [https://hideip.me/ru/proxy/httplist](https://hideip.me/ru/proxy/httplist).\n",
        "2. Потом проверить, что они рабочие, прежде чем использовать: [https://checkerproxy.net/](https://checkerproxy.net/)."
      ]
    },
    {
      "cell_type": "code",
      "execution_count": 17,
      "metadata": {
        "id": "40HlZ1RzfcMc",
        "outputId": "44056f8d-c852-4b49-dc4d-da001485f37d",
        "colab": {
          "base_uri": "https://localhost:8080/"
        }
      },
      "outputs": [
        {
          "output_type": "stream",
          "name": "stdout",
          "text": [
            "34.121.176.38\n"
          ]
        }
      ],
      "source": [
        "proxy = {\"https://\": \"https://176.213.141.107:8080\"}\n",
        "\n",
        "response = session.get('http://ru.wikipedia.org', proxies=proxy)\n",
        "print(response.headers['X-Client-IP'])"
      ]
    },
    {
      "cell_type": "markdown",
      "metadata": {
        "id": "OL_DJuFFfcMd"
      },
      "source": [
        "## Пример\n",
        "\n",
        "Давайте обкачаем немного новостей с сайта вышки.\n",
        "\n",
        "1. Страницы имеют вид \"https://www.hse.ru/news/page1.html\", поэтому можно просто идти циклом.\n",
        "2. Достанем дату публикации, заголовок, краткое описание (из станицы со списком новостей), текст полной статьи и метки (из самой страницы новости)\n",
        "3. Сохраним в датафрейм."
      ]
    },
    {
      "cell_type": "code",
      "execution_count": 18,
      "metadata": {
        "id": "77lsQnUvfcMd"
      },
      "outputs": [],
      "source": [
        "from bs4 import BeautifulSoup\n",
        "import re"
      ]
    },
    {
      "cell_type": "markdown",
      "metadata": {
        "id": "REqAv5QifcMd"
      },
      "source": [
        "### **Шаг 1. Найти страницы**\n",
        "\n",
        "Посмотрим, как устроены новости и скачаем одну страницу:"
      ]
    },
    {
      "cell_type": "code",
      "execution_count": 19,
      "metadata": {
        "id": "jyP7_suAfcMd"
      },
      "outputs": [],
      "source": [
        "page_number = 2\n",
        "url = f'https://www.hse.ru/news/page{page_number}.html'\n",
        "req = session.get(url, headers={'User-Agent': ua.random})\n",
        "page = req.text"
      ]
    },
    {
      "cell_type": "markdown",
      "metadata": {
        "id": "wjX52-u8fcMd"
      },
      "source": [
        "Распарсим с помощью `BeautifulSoup`:"
      ]
    },
    {
      "cell_type": "code",
      "execution_count": 20,
      "metadata": {
        "id": "aPGo11t3fcMd"
      },
      "outputs": [],
      "source": [
        "soup = BeautifulSoup(page, 'html.parser')"
      ]
    },
    {
      "cell_type": "markdown",
      "metadata": {
        "id": "QBvTaPhCfcMd"
      },
      "source": [
        "Найдем отдельные посты:"
      ]
    },
    {
      "cell_type": "code",
      "execution_count": 21,
      "metadata": {
        "id": "OZwTr0ycfcMd"
      },
      "outputs": [],
      "source": [
        "news = soup.find_all('div', {'class': 'post'})"
      ]
    },
    {
      "cell_type": "code",
      "execution_count": 22,
      "metadata": {
        "id": "S93dR2ncfcMe",
        "outputId": "f15cb145-1fb1-4d68-e2a6-3edefaeccb93",
        "colab": {
          "base_uri": "https://localhost:8080/"
        }
      },
      "outputs": [
        {
          "output_type": "execute_result",
          "data": {
            "text/plain": [
              "10"
            ]
          },
          "metadata": {},
          "execution_count": 22
        }
      ],
      "source": [
        "len(news)"
      ]
    },
    {
      "cell_type": "markdown",
      "metadata": {
        "id": "ssFrQPFVfcMe"
      },
      "source": [
        "Найдем заголовок-ссылку и запомним текст заголовка:"
      ]
    },
    {
      "cell_type": "code",
      "execution_count": 23,
      "metadata": {
        "id": "e77UhAdnfcMe",
        "outputId": "cb3560de-d221-43b7-c7f9-a0f8c6fcbb0a",
        "colab": {
          "base_uri": "https://localhost:8080/"
        }
      },
      "outputs": [
        {
          "output_type": "execute_result",
          "data": {
            "text/plain": [
              "<a class=\"link link_dark2 no-visited\" href=\"/news/edu/984409969.html\">ИНФОТЕХ-2024: «понять перспективы и ограничения использования ИИ в образовании»</a>"
            ]
          },
          "metadata": {},
          "execution_count": 23
        }
      ],
      "source": [
        "title_obj = news[0].find('a')\n",
        "title_obj"
      ]
    },
    {
      "cell_type": "code",
      "execution_count": 24,
      "metadata": {
        "id": "qYXfAR5YfcMf",
        "outputId": "cf10d43d-f7f5-49c9-dac3-3aea6f4a719f",
        "colab": {
          "base_uri": "https://localhost:8080/",
          "height": 36
        }
      },
      "outputs": [
        {
          "output_type": "execute_result",
          "data": {
            "text/plain": [
              "'ИНФОТЕХ-2024: «понять перспективы и ограничения использования ИИ в образовании»'"
            ],
            "application/vnd.google.colaboratory.intrinsic+json": {
              "type": "string"
            }
          },
          "metadata": {},
          "execution_count": 24
        }
      ],
      "source": [
        "title = title_obj.text\n",
        "title"
      ]
    },
    {
      "cell_type": "markdown",
      "metadata": {
        "id": "iyn7txeHfcMf"
      },
      "source": [
        "Достанем свойства этой ссылки (куда ведет, `class`):"
      ]
    },
    {
      "cell_type": "code",
      "execution_count": 25,
      "metadata": {
        "id": "W0tanBomfcMf",
        "outputId": "b81868d5-a499-4484-b0fe-79ce11144f96",
        "colab": {
          "base_uri": "https://localhost:8080/"
        }
      },
      "outputs": [
        {
          "output_type": "execute_result",
          "data": {
            "text/plain": [
              "{'href': '/news/edu/984409969.html',\n",
              " 'class': ['link', 'link_dark2', 'no-visited']}"
            ]
          },
          "metadata": {},
          "execution_count": 25
        }
      ],
      "source": [
        "attrs = title_obj.attrs\n",
        "attrs"
      ]
    },
    {
      "cell_type": "markdown",
      "metadata": {
        "id": "W_opKEwzfcMf"
      },
      "source": [
        "Достанем саму ссылку:"
      ]
    },
    {
      "cell_type": "code",
      "execution_count": 26,
      "metadata": {
        "id": "5vkt1lshfcMf",
        "outputId": "ef04db98-192a-4dc6-d4fa-219afea44339",
        "colab": {
          "base_uri": "https://localhost:8080/",
          "height": 36
        }
      },
      "outputs": [
        {
          "output_type": "execute_result",
          "data": {
            "text/plain": [
              "'/news/edu/984409969.html'"
            ],
            "application/vnd.google.colaboratory.intrinsic+json": {
              "type": "string"
            }
          },
          "metadata": {},
          "execution_count": 26
        }
      ],
      "source": [
        "href = title_obj.attrs['href']\n",
        "href"
      ]
    },
    {
      "cell_type": "markdown",
      "metadata": {
        "id": "DCw4UeANfcMf"
      },
      "source": [
        "Достанем текст новости:"
      ]
    },
    {
      "cell_type": "code",
      "execution_count": 27,
      "metadata": {
        "id": "qptpLqqsfcMf",
        "outputId": "2c9a8edc-d200-4d87-97ba-805b9fd8cdde",
        "colab": {
          "base_uri": "https://localhost:8080/",
          "height": 72
        }
      },
      "outputs": [
        {
          "output_type": "execute_result",
          "data": {
            "text/plain": [
              "'В конце октября в рамках XVII Тюменского цифрового форума информационных технологий «ИНФОТЕХ-2024» прошел круглый стол «Эксперименты с ИИ в образовании». Эксперты Высшей школы экономики, Московского городского педагогического университета, Уральского федерального университета и Тюменского государственного университета обсудили практический опыт разработки и внедрения технологий ИИ в образовательный процесс, обозначили основные вызовы, связанные с быстрым развитием образовательных решений на базе ИИ.'"
            ],
            "application/vnd.google.colaboratory.intrinsic+json": {
              "type": "string"
            }
          },
          "metadata": {},
          "execution_count": 27
        }
      ],
      "source": [
        "short_text = news[0].find('div', {'class': 'post__text'}).text\n",
        "short_text"
      ]
    },
    {
      "cell_type": "markdown",
      "metadata": {
        "id": "aEipaohCfcMg"
      },
      "source": [
        "Достанем день, месяц, год публикации:"
      ]
    },
    {
      "cell_type": "code",
      "execution_count": 28,
      "metadata": {
        "id": "AdEViI7tfcMg",
        "outputId": "923a664b-0a52-49c0-aa3b-2c09dc017d18",
        "colab": {
          "base_uri": "https://localhost:8080/",
          "height": 36
        }
      },
      "outputs": [
        {
          "output_type": "execute_result",
          "data": {
            "text/plain": [
              "'8'"
            ],
            "application/vnd.google.colaboratory.intrinsic+json": {
              "type": "string"
            }
          },
          "metadata": {},
          "execution_count": 28
        }
      ],
      "source": [
        "pub_day = news[0].find('div', {'class': 'post-meta__day'}).text\n",
        "pub_day"
      ]
    },
    {
      "cell_type": "code",
      "execution_count": 29,
      "metadata": {
        "id": "vKPlCTJSfcMg",
        "outputId": "0b14c64f-aeaf-47b5-925d-5b567a3729ee",
        "colab": {
          "base_uri": "https://localhost:8080/",
          "height": 36
        }
      },
      "outputs": [
        {
          "output_type": "execute_result",
          "data": {
            "text/plain": [
              "'ноя'"
            ],
            "application/vnd.google.colaboratory.intrinsic+json": {
              "type": "string"
            }
          },
          "metadata": {},
          "execution_count": 29
        }
      ],
      "source": [
        "pub_month = news[0].find('div', {'class': 'post-meta__month'}).text\n",
        "pub_month"
      ]
    },
    {
      "cell_type": "code",
      "execution_count": 30,
      "metadata": {
        "id": "K7ZyLQLYfcMg",
        "outputId": "f8a6aed0-3f03-45dd-f25b-96d8e02a6143",
        "colab": {
          "base_uri": "https://localhost:8080/",
          "height": 36
        }
      },
      "outputs": [
        {
          "output_type": "execute_result",
          "data": {
            "text/plain": [
              "'2024'"
            ],
            "application/vnd.google.colaboratory.intrinsic+json": {
              "type": "string"
            }
          },
          "metadata": {},
          "execution_count": 30
        }
      ],
      "source": [
        "pub_year = news[0].find('div', {'class': 'post-meta__year'}).text\n",
        "pub_year"
      ]
    },
    {
      "cell_type": "markdown",
      "metadata": {
        "id": "xmr5-qhCfcMg"
      },
      "source": [
        "### **Шаг 2. Научиться парсить страничку самой новости**"
      ]
    },
    {
      "cell_type": "markdown",
      "metadata": {
        "id": "Mw1Rsa-EfcMg"
      },
      "source": [
        "Возьмем ссылку на полную новость и соединим с адерсом сайта (т.к. ссылка относительная):"
      ]
    },
    {
      "cell_type": "code",
      "execution_count": 31,
      "metadata": {
        "id": "JbhA5nkNfcMg",
        "outputId": "e1428d5a-1386-4b29-9210-0cf63d467130",
        "colab": {
          "base_uri": "https://localhost:8080/",
          "height": 36
        }
      },
      "outputs": [
        {
          "output_type": "execute_result",
          "data": {
            "text/plain": [
              "'https://www.hse.ru/news/edu/984409969.html'"
            ],
            "application/vnd.google.colaboratory.intrinsic+json": {
              "type": "string"
            }
          },
          "metadata": {},
          "execution_count": 31
        }
      ],
      "source": [
        "url_o = \"https://www.hse.ru\" + href\n",
        "url_o"
      ]
    },
    {
      "cell_type": "markdown",
      "metadata": {
        "id": "LhRuE2qifcMg"
      },
      "source": [
        "Скачаем ее и распарсим:"
      ]
    },
    {
      "cell_type": "code",
      "execution_count": 32,
      "metadata": {
        "id": "9bURGbQxfcMh"
      },
      "outputs": [],
      "source": [
        "req = session.get(url_o, headers={'User-Agent': ua.random})\n",
        "page = req.text\n",
        "\n",
        "soup = BeautifulSoup(page, 'html.parser')"
      ]
    },
    {
      "cell_type": "markdown",
      "metadata": {
        "id": "GLCCEjnJfcMh"
      },
      "source": [
        "Сохраним текст, распечатаем кусочек:"
      ]
    },
    {
      "cell_type": "code",
      "execution_count": 33,
      "metadata": {
        "id": "8KAJX169fcMh",
        "outputId": "ecb4afa9-e93b-40a1-ca90-5dab0d2c0e8a",
        "colab": {
          "base_uri": "https://localhost:8080/",
          "height": 36
        }
      },
      "outputs": [
        {
          "output_type": "execute_result",
          "data": {
            "text/plain": [
              "'ИНФОТЕХ-2024: «понять перспективы и ограничения использования ИИ в образовании»© Высшая школа экономикиВ конце октября в рамках XVII Тюменского цифрового форума информационных технологий «ИНФОТЕХ-2024'"
            ],
            "application/vnd.google.colaboratory.intrinsic+json": {
              "type": "string"
            }
          },
          "metadata": {},
          "execution_count": 33
        }
      ],
      "source": [
        "full_text = soup.find('div', {'class': 'post__content'}).text\n",
        "full_text[:200]"
      ]
    },
    {
      "cell_type": "markdown",
      "metadata": {
        "id": "KHr-LveJfcMh"
      },
      "source": [
        "Найдем теги, которые присвоены статье:"
      ]
    },
    {
      "cell_type": "code",
      "execution_count": 34,
      "metadata": {
        "id": "9XPdl4mLfcMh",
        "outputId": "6d28f6b0-5bb9-467e-f26c-42c7bdd784ba",
        "colab": {
          "base_uri": "https://localhost:8080/"
        }
      },
      "outputs": [
        {
          "output_type": "execute_result",
          "data": {
            "text/plain": [
              "['искусственный интеллект']"
            ]
          },
          "metadata": {},
          "execution_count": 34
        }
      ],
      "source": [
        "meta = soup.find('div', {'class': 'articleMeta'})\n",
        "\n",
        "tags = meta.find_all('a', {'class': 'tag'})\n",
        "tags = [t.text for t in tags]\n",
        "tags"
      ]
    },
    {
      "cell_type": "markdown",
      "metadata": {
        "id": "2i7ewcgAfcMh"
      },
      "source": [
        "### **Шаг 3. Оформляем нормально в функции**"
      ]
    },
    {
      "cell_type": "markdown",
      "metadata": {
        "id": "FinshHq9fcMh"
      },
      "source": [
        "Сделаем словарь соответствий имени месяца и его номера:"
      ]
    },
    {
      "cell_type": "code",
      "execution_count": 35,
      "metadata": {
        "id": "OqB_8ctbfcMh"
      },
      "outputs": [],
      "source": [
        "months = {\n",
        "    value: key + 1\n",
        "    for key, value in enumerate(\n",
        "        ['янв', 'фев', 'мар', 'апр', 'мая', 'июн', 'июл', 'авг', 'сен', 'окт', 'ноя', 'дек']\n",
        "    )\n",
        "}"
      ]
    },
    {
      "cell_type": "markdown",
      "metadata": {
        "id": "BmNoWpaGfcMh"
      },
      "source": [
        "Парсим информацию из страницы со списком новостей (блок одной новости):"
      ]
    },
    {
      "cell_type": "code",
      "execution_count": 36,
      "metadata": {
        "id": "YN9BzbhYfcMh"
      },
      "outputs": [],
      "source": [
        "def parse_news_page_block(one_block):\n",
        "    block = {}\n",
        "    a = one_block.find('a')\n",
        "    block['title'] = a.text\n",
        "    block['href'] = a.attrs['href']\n",
        "    block['short_text'] = one_block.find('div', {'class': 'post__text'}).text\n",
        "    block['pub_day'] = int(one_block.find('div', {'class': 'post-meta__day'}).text)\n",
        "    block['pub_month'] = months[one_block.find('div', {'class': 'post-meta__month'}).text]\n",
        "    block['pub_year'] = int(one_block.find('div', {'class': 'post-meta__year'}).text)\n",
        "    return block"
      ]
    },
    {
      "cell_type": "markdown",
      "metadata": {
        "id": "bY4MVAGSfcMi"
      },
      "source": [
        "Парсим отдельную страницу новости:"
      ]
    },
    {
      "cell_type": "code",
      "execution_count": 37,
      "metadata": {
        "id": "iJ4esh8KfcMi"
      },
      "outputs": [],
      "source": [
        "def parse_one_article(block):\n",
        "    url_one = 'http://www.hse.ru' + block['href']\n",
        "    req = session.get(url_one, headers={'User-Agent': ua.random})\n",
        "    page = req.text\n",
        "    soup = BeautifulSoup(page, 'html.parser')\n",
        "    block['full_text'] = soup.find('div', {'class': 'post__content'}).text\n",
        "    meta = soup.find('div', {'class': 'articleMeta'})\n",
        "    tags = meta.find_all('a', {'class': 'tag'})\n",
        "    block['tags'] = [t.text for t in tags]\n",
        "    return block"
      ]
    },
    {
      "cell_type": "markdown",
      "metadata": {
        "id": "-_FSEM1TfcMi"
      },
      "source": [
        "Регулярное выражение для того, чтобы достать ID новости и не повторяться:"
      ]
    },
    {
      "cell_type": "code",
      "execution_count": 38,
      "metadata": {
        "id": "ekRFRt4RfcMi"
      },
      "outputs": [],
      "source": [
        "regex_hse_id = re.compile('/([0-9]*?).html')"
      ]
    },
    {
      "cell_type": "markdown",
      "metadata": {
        "id": "yzB596T5fcMi"
      },
      "source": [
        "Обработать N-ую страницу новостей:"
      ]
    },
    {
      "cell_type": "code",
      "execution_count": 39,
      "metadata": {
        "id": "ioB1E3odfcMi"
      },
      "outputs": [],
      "source": [
        "def get_nth_page(page_number):\n",
        "    # скачиваем\n",
        "    url = f'https://www.hse.ru/news/page{page_number}.html'\n",
        "    req = session.get(url, headers={'User-Agent': ua.random})\n",
        "    page = req.text\n",
        "    soup = BeautifulSoup(page, 'html.parser')\n",
        "\n",
        "    # находим новости\n",
        "    news = soup.find_all('div', {'class': 'post'})\n",
        "\n",
        "    # идем по новостям и обрабатываем их\n",
        "    blocks = []\n",
        "    for n in news:\n",
        "        try:\n",
        "            blocks.append(parse_news_page_block(n))\n",
        "        except Exception as e:\n",
        "            print(e)\n",
        "\n",
        "    # идем по отдельным статьям и достаем информацию\n",
        "    result = []\n",
        "    for b in blocks:\n",
        "        if b['href'].startswith('/'):\n",
        "            idx = regex_hse_id.findall(b['href'])[0]\n",
        "            try:\n",
        "                res = parse_one_article(b)\n",
        "                res['hse_id'] = idx\n",
        "                result.append(res)\n",
        "            except Exception as e:\n",
        "                print(e)\n",
        "\n",
        "    # возвращаем найденную информацию\n",
        "    return result"
      ]
    },
    {
      "cell_type": "markdown",
      "metadata": {
        "id": "UOYX5UtyfcMi"
      },
      "source": [
        "### **Шаг 4. Сохраняем в датафрейм**\n"
      ]
    },
    {
      "cell_type": "code",
      "execution_count": 40,
      "metadata": {
        "id": "Tba-meZMfcMi"
      },
      "outputs": [],
      "source": [
        "from tqdm.auto import tqdm\n",
        "import pandas as pd"
      ]
    },
    {
      "cell_type": "markdown",
      "metadata": {
        "id": "G_cxdEkNfcMi"
      },
      "source": [
        "Напишем функцию, куда передаем количество страниц и она выполняет все нужные действия:"
      ]
    },
    {
      "cell_type": "code",
      "execution_count": 41,
      "metadata": {
        "id": "p1N6DjmYfcMi"
      },
      "outputs": [],
      "source": [
        "def run_all(n_pages):\n",
        "    blocks = []\n",
        "    for i in tqdm(range(n_pages)):\n",
        "        blocks.extend(get_nth_page(i+1))\n",
        "\n",
        "    return blocks"
      ]
    },
    {
      "cell_type": "markdown",
      "metadata": {
        "id": "0U_8A7XefcMj"
      },
      "source": [
        "Запускаем на 20 первых страниц:"
      ]
    },
    {
      "cell_type": "code",
      "execution_count": 42,
      "metadata": {
        "id": "slgGkQ1efcMj",
        "outputId": "e3147a7e-234d-43d1-a7ce-0752223e1181",
        "colab": {
          "referenced_widgets": [
            "8380d1715905414eaea5fc93ac0dcfa7",
            "e91de5a66bd14e84900f03f557108ce7",
            "e86f5e862b3042d59b7da6f803260d5b",
            "5dc0e0aaedc94c5480b0c85388cf5fbf",
            "f9e9ccfc9b7e43b7997328cbd8bba6a1",
            "1ff74fa0a19e4b399108331fddd8cd34",
            "01597dc42b314ce59db87b6fc74c4f2d",
            "7263a5e2d5ff42a4a0d4b8809062d6bf",
            "2d61eb3fb6f7451593e27cc68dffdb7a",
            "1c7c80b760f4499fa9fd2bd0b141505f",
            "203844f2fd1a4a6a88728d03702e73b0"
          ],
          "base_uri": "https://localhost:8080/",
          "height": 49
        }
      },
      "outputs": [
        {
          "output_type": "display_data",
          "data": {
            "text/plain": [
              "  0%|          | 0/20 [00:00<?, ?it/s]"
            ],
            "application/vnd.jupyter.widget-view+json": {
              "version_major": 2,
              "version_minor": 0,
              "model_id": "8380d1715905414eaea5fc93ac0dcfa7"
            }
          },
          "metadata": {}
        }
      ],
      "source": [
        "blocks = run_all(20)\n",
        "\n",
        "df = pd.DataFrame(blocks)"
      ]
    },
    {
      "cell_type": "markdown",
      "metadata": {
        "id": "QizlVBKBfcMj"
      },
      "source": [
        "Посмотрим на 10 самых популярных тегов"
      ]
    },
    {
      "cell_type": "code",
      "execution_count": 43,
      "metadata": {
        "id": "w2dURsyvfcMj"
      },
      "outputs": [],
      "source": [
        "from collections import Counter"
      ]
    },
    {
      "cell_type": "code",
      "execution_count": 44,
      "metadata": {
        "id": "gCpGXDrOfcMj"
      },
      "outputs": [],
      "source": [
        "tags = [tag for tags in df[\"tags\"] for tag in tags]"
      ]
    },
    {
      "cell_type": "code",
      "execution_count": 45,
      "metadata": {
        "id": "GjaywAcMfcMj",
        "outputId": "6f4093c7-92ac-453f-e793-d5f1793c6a8d",
        "colab": {
          "base_uri": "https://localhost:8080/"
        }
      },
      "outputs": [
        {
          "output_type": "stream",
          "name": "stdout",
          "text": [
            "41 \t репортаж о событии\n",
            "30 \t исследования и аналитика\n",
            "21 \t искусственный интеллект\n",
            "18 \t новое в ВШЭ\n",
            "17 \t достижения\n",
            "17 \t студенты\n",
            "16 \t международное сотрудничество\n",
            "14 \t приглашение к участию\n",
            "14 \t довузовская подготовка\n",
            "11 \t олимпиады Вышки\n"
          ]
        }
      ],
      "source": [
        "for title, counts in sorted(Counter(tags).items(), key=lambda x: -x[-1])[:10]:\n",
        "    print(counts,\"\\t\", title)"
      ]
    },
    {
      "cell_type": "markdown",
      "metadata": {
        "id": "9pDJryZVfcMj"
      },
      "source": [
        "Посмотрим, сколько публикаций по месяцам"
      ]
    },
    {
      "cell_type": "code",
      "execution_count": 46,
      "metadata": {
        "id": "1t-X0MGFfcMj",
        "outputId": "ceef7632-72c8-4b87-971a-76052718b0fb",
        "colab": {
          "base_uri": "https://localhost:8080/",
          "height": 209
        }
      },
      "outputs": [
        {
          "output_type": "execute_result",
          "data": {
            "text/plain": [
              "pub_month\n",
              "9     52\n",
              "10    84\n",
              "11    31\n",
              "Name: hse_id, dtype: int64"
            ],
            "text/html": [
              "<div>\n",
              "<style scoped>\n",
              "    .dataframe tbody tr th:only-of-type {\n",
              "        vertical-align: middle;\n",
              "    }\n",
              "\n",
              "    .dataframe tbody tr th {\n",
              "        vertical-align: top;\n",
              "    }\n",
              "\n",
              "    .dataframe thead th {\n",
              "        text-align: right;\n",
              "    }\n",
              "</style>\n",
              "<table border=\"1\" class=\"dataframe\">\n",
              "  <thead>\n",
              "    <tr style=\"text-align: right;\">\n",
              "      <th></th>\n",
              "      <th>hse_id</th>\n",
              "    </tr>\n",
              "    <tr>\n",
              "      <th>pub_month</th>\n",
              "      <th></th>\n",
              "    </tr>\n",
              "  </thead>\n",
              "  <tbody>\n",
              "    <tr>\n",
              "      <th>9</th>\n",
              "      <td>52</td>\n",
              "    </tr>\n",
              "    <tr>\n",
              "      <th>10</th>\n",
              "      <td>84</td>\n",
              "    </tr>\n",
              "    <tr>\n",
              "      <th>11</th>\n",
              "      <td>31</td>\n",
              "    </tr>\n",
              "  </tbody>\n",
              "</table>\n",
              "</div><br><label><b>dtype:</b> int64</label>"
            ]
          },
          "metadata": {},
          "execution_count": 46
        }
      ],
      "source": [
        "df.groupby(\"pub_month\")[\"hse_id\"].count()"
      ]
    },
    {
      "cell_type": "markdown",
      "source": [
        "## Задание на семинар\n",
        "\n",
        "Сделайте краулер фильмов аналогичный тому, что выше.\n",
        "\n",
        "У вас есть список на [Letterboxd](https://letterboxd.com/) c перечислением всех фильмов из книжки *1001 Movies You Must See Before You Die*: https://letterboxd.com/peterstanley/list/1001-movies-you-must-see-before-you-die/detail/.\n",
        "\n",
        "1. Все страницы выглядят как `https://letterboxd.com/peterstanley/list/1001-movies-you-must-see-before-you-die/detail/page/<номер>/`, поэтому снова можно идти циклом.\n",
        "2. Достанем номер фильма, его название, год выпуска со страницы списка.\n",
        "3. Достанем режиссера, слоган (если есть) и краткое описание с самой страницы фильма.\n",
        "4. Сохраним в датафрейм."
      ],
      "metadata": {
        "id": "q62IwDVvltOv"
      }
    },
    {
      "cell_type": "code",
      "execution_count": null,
      "metadata": {
        "id": "p65LGW-ufcMj"
      },
      "outputs": [],
      "source": []
    }
  ],
  "metadata": {
    "interpreter": {
      "hash": "2ce43fa76ab3efd8b793de81ff92f0816c1b946b31e6af34d67351b015f361e9"
    },
    "kernelspec": {
      "display_name": "Python 3 (ipykernel)",
      "language": "python",
      "name": "python3"
    },
    "language_info": {
      "codemirror_mode": {
        "name": "ipython",
        "version": 3
      },
      "file_extension": ".py",
      "mimetype": "text/x-python",
      "name": "python",
      "nbconvert_exporter": "python",
      "pygments_lexer": "ipython3",
      "version": "3.10.9"
    },
    "colab": {
      "provenance": []
    },
    "widgets": {
      "application/vnd.jupyter.widget-state+json": {
        "8380d1715905414eaea5fc93ac0dcfa7": {
          "model_module": "@jupyter-widgets/controls",
          "model_name": "HBoxModel",
          "model_module_version": "1.5.0",
          "state": {
            "_dom_classes": [],
            "_model_module": "@jupyter-widgets/controls",
            "_model_module_version": "1.5.0",
            "_model_name": "HBoxModel",
            "_view_count": null,
            "_view_module": "@jupyter-widgets/controls",
            "_view_module_version": "1.5.0",
            "_view_name": "HBoxView",
            "box_style": "",
            "children": [
              "IPY_MODEL_e91de5a66bd14e84900f03f557108ce7",
              "IPY_MODEL_e86f5e862b3042d59b7da6f803260d5b",
              "IPY_MODEL_5dc0e0aaedc94c5480b0c85388cf5fbf"
            ],
            "layout": "IPY_MODEL_f9e9ccfc9b7e43b7997328cbd8bba6a1"
          }
        },
        "e91de5a66bd14e84900f03f557108ce7": {
          "model_module": "@jupyter-widgets/controls",
          "model_name": "HTMLModel",
          "model_module_version": "1.5.0",
          "state": {
            "_dom_classes": [],
            "_model_module": "@jupyter-widgets/controls",
            "_model_module_version": "1.5.0",
            "_model_name": "HTMLModel",
            "_view_count": null,
            "_view_module": "@jupyter-widgets/controls",
            "_view_module_version": "1.5.0",
            "_view_name": "HTMLView",
            "description": "",
            "description_tooltip": null,
            "layout": "IPY_MODEL_1ff74fa0a19e4b399108331fddd8cd34",
            "placeholder": "​",
            "style": "IPY_MODEL_01597dc42b314ce59db87b6fc74c4f2d",
            "value": "100%"
          }
        },
        "e86f5e862b3042d59b7da6f803260d5b": {
          "model_module": "@jupyter-widgets/controls",
          "model_name": "FloatProgressModel",
          "model_module_version": "1.5.0",
          "state": {
            "_dom_classes": [],
            "_model_module": "@jupyter-widgets/controls",
            "_model_module_version": "1.5.0",
            "_model_name": "FloatProgressModel",
            "_view_count": null,
            "_view_module": "@jupyter-widgets/controls",
            "_view_module_version": "1.5.0",
            "_view_name": "ProgressView",
            "bar_style": "success",
            "description": "",
            "description_tooltip": null,
            "layout": "IPY_MODEL_7263a5e2d5ff42a4a0d4b8809062d6bf",
            "max": 20,
            "min": 0,
            "orientation": "horizontal",
            "style": "IPY_MODEL_2d61eb3fb6f7451593e27cc68dffdb7a",
            "value": 20
          }
        },
        "5dc0e0aaedc94c5480b0c85388cf5fbf": {
          "model_module": "@jupyter-widgets/controls",
          "model_name": "HTMLModel",
          "model_module_version": "1.5.0",
          "state": {
            "_dom_classes": [],
            "_model_module": "@jupyter-widgets/controls",
            "_model_module_version": "1.5.0",
            "_model_name": "HTMLModel",
            "_view_count": null,
            "_view_module": "@jupyter-widgets/controls",
            "_view_module_version": "1.5.0",
            "_view_name": "HTMLView",
            "description": "",
            "description_tooltip": null,
            "layout": "IPY_MODEL_1c7c80b760f4499fa9fd2bd0b141505f",
            "placeholder": "​",
            "style": "IPY_MODEL_203844f2fd1a4a6a88728d03702e73b0",
            "value": " 20/20 [06:26&lt;00:00, 18.87s/it]"
          }
        },
        "f9e9ccfc9b7e43b7997328cbd8bba6a1": {
          "model_module": "@jupyter-widgets/base",
          "model_name": "LayoutModel",
          "model_module_version": "1.2.0",
          "state": {
            "_model_module": "@jupyter-widgets/base",
            "_model_module_version": "1.2.0",
            "_model_name": "LayoutModel",
            "_view_count": null,
            "_view_module": "@jupyter-widgets/base",
            "_view_module_version": "1.2.0",
            "_view_name": "LayoutView",
            "align_content": null,
            "align_items": null,
            "align_self": null,
            "border": null,
            "bottom": null,
            "display": null,
            "flex": null,
            "flex_flow": null,
            "grid_area": null,
            "grid_auto_columns": null,
            "grid_auto_flow": null,
            "grid_auto_rows": null,
            "grid_column": null,
            "grid_gap": null,
            "grid_row": null,
            "grid_template_areas": null,
            "grid_template_columns": null,
            "grid_template_rows": null,
            "height": null,
            "justify_content": null,
            "justify_items": null,
            "left": null,
            "margin": null,
            "max_height": null,
            "max_width": null,
            "min_height": null,
            "min_width": null,
            "object_fit": null,
            "object_position": null,
            "order": null,
            "overflow": null,
            "overflow_x": null,
            "overflow_y": null,
            "padding": null,
            "right": null,
            "top": null,
            "visibility": null,
            "width": null
          }
        },
        "1ff74fa0a19e4b399108331fddd8cd34": {
          "model_module": "@jupyter-widgets/base",
          "model_name": "LayoutModel",
          "model_module_version": "1.2.0",
          "state": {
            "_model_module": "@jupyter-widgets/base",
            "_model_module_version": "1.2.0",
            "_model_name": "LayoutModel",
            "_view_count": null,
            "_view_module": "@jupyter-widgets/base",
            "_view_module_version": "1.2.0",
            "_view_name": "LayoutView",
            "align_content": null,
            "align_items": null,
            "align_self": null,
            "border": null,
            "bottom": null,
            "display": null,
            "flex": null,
            "flex_flow": null,
            "grid_area": null,
            "grid_auto_columns": null,
            "grid_auto_flow": null,
            "grid_auto_rows": null,
            "grid_column": null,
            "grid_gap": null,
            "grid_row": null,
            "grid_template_areas": null,
            "grid_template_columns": null,
            "grid_template_rows": null,
            "height": null,
            "justify_content": null,
            "justify_items": null,
            "left": null,
            "margin": null,
            "max_height": null,
            "max_width": null,
            "min_height": null,
            "min_width": null,
            "object_fit": null,
            "object_position": null,
            "order": null,
            "overflow": null,
            "overflow_x": null,
            "overflow_y": null,
            "padding": null,
            "right": null,
            "top": null,
            "visibility": null,
            "width": null
          }
        },
        "01597dc42b314ce59db87b6fc74c4f2d": {
          "model_module": "@jupyter-widgets/controls",
          "model_name": "DescriptionStyleModel",
          "model_module_version": "1.5.0",
          "state": {
            "_model_module": "@jupyter-widgets/controls",
            "_model_module_version": "1.5.0",
            "_model_name": "DescriptionStyleModel",
            "_view_count": null,
            "_view_module": "@jupyter-widgets/base",
            "_view_module_version": "1.2.0",
            "_view_name": "StyleView",
            "description_width": ""
          }
        },
        "7263a5e2d5ff42a4a0d4b8809062d6bf": {
          "model_module": "@jupyter-widgets/base",
          "model_name": "LayoutModel",
          "model_module_version": "1.2.0",
          "state": {
            "_model_module": "@jupyter-widgets/base",
            "_model_module_version": "1.2.0",
            "_model_name": "LayoutModel",
            "_view_count": null,
            "_view_module": "@jupyter-widgets/base",
            "_view_module_version": "1.2.0",
            "_view_name": "LayoutView",
            "align_content": null,
            "align_items": null,
            "align_self": null,
            "border": null,
            "bottom": null,
            "display": null,
            "flex": null,
            "flex_flow": null,
            "grid_area": null,
            "grid_auto_columns": null,
            "grid_auto_flow": null,
            "grid_auto_rows": null,
            "grid_column": null,
            "grid_gap": null,
            "grid_row": null,
            "grid_template_areas": null,
            "grid_template_columns": null,
            "grid_template_rows": null,
            "height": null,
            "justify_content": null,
            "justify_items": null,
            "left": null,
            "margin": null,
            "max_height": null,
            "max_width": null,
            "min_height": null,
            "min_width": null,
            "object_fit": null,
            "object_position": null,
            "order": null,
            "overflow": null,
            "overflow_x": null,
            "overflow_y": null,
            "padding": null,
            "right": null,
            "top": null,
            "visibility": null,
            "width": null
          }
        },
        "2d61eb3fb6f7451593e27cc68dffdb7a": {
          "model_module": "@jupyter-widgets/controls",
          "model_name": "ProgressStyleModel",
          "model_module_version": "1.5.0",
          "state": {
            "_model_module": "@jupyter-widgets/controls",
            "_model_module_version": "1.5.0",
            "_model_name": "ProgressStyleModel",
            "_view_count": null,
            "_view_module": "@jupyter-widgets/base",
            "_view_module_version": "1.2.0",
            "_view_name": "StyleView",
            "bar_color": null,
            "description_width": ""
          }
        },
        "1c7c80b760f4499fa9fd2bd0b141505f": {
          "model_module": "@jupyter-widgets/base",
          "model_name": "LayoutModel",
          "model_module_version": "1.2.0",
          "state": {
            "_model_module": "@jupyter-widgets/base",
            "_model_module_version": "1.2.0",
            "_model_name": "LayoutModel",
            "_view_count": null,
            "_view_module": "@jupyter-widgets/base",
            "_view_module_version": "1.2.0",
            "_view_name": "LayoutView",
            "align_content": null,
            "align_items": null,
            "align_self": null,
            "border": null,
            "bottom": null,
            "display": null,
            "flex": null,
            "flex_flow": null,
            "grid_area": null,
            "grid_auto_columns": null,
            "grid_auto_flow": null,
            "grid_auto_rows": null,
            "grid_column": null,
            "grid_gap": null,
            "grid_row": null,
            "grid_template_areas": null,
            "grid_template_columns": null,
            "grid_template_rows": null,
            "height": null,
            "justify_content": null,
            "justify_items": null,
            "left": null,
            "margin": null,
            "max_height": null,
            "max_width": null,
            "min_height": null,
            "min_width": null,
            "object_fit": null,
            "object_position": null,
            "order": null,
            "overflow": null,
            "overflow_x": null,
            "overflow_y": null,
            "padding": null,
            "right": null,
            "top": null,
            "visibility": null,
            "width": null
          }
        },
        "203844f2fd1a4a6a88728d03702e73b0": {
          "model_module": "@jupyter-widgets/controls",
          "model_name": "DescriptionStyleModel",
          "model_module_version": "1.5.0",
          "state": {
            "_model_module": "@jupyter-widgets/controls",
            "_model_module_version": "1.5.0",
            "_model_name": "DescriptionStyleModel",
            "_view_count": null,
            "_view_module": "@jupyter-widgets/base",
            "_view_module_version": "1.2.0",
            "_view_name": "StyleView",
            "description_width": ""
          }
        }
      }
    }
  },
  "nbformat": 4,
  "nbformat_minor": 0
}