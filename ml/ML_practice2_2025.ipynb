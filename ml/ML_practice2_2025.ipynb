{
  "nbformat": 4,
  "nbformat_minor": 0,
  "metadata": {
    "colab": {
      "provenance": [],
      "gpuType": "T4"
    },
    "kernelspec": {
      "name": "python3",
      "display_name": "Python 3"
    },
    "language_info": {
      "name": "python"
    },
    "accelerator": "GPU"
  },
  "cells": [
    {
      "cell_type": "markdown",
      "source": [
        "# Практика"
      ],
      "metadata": {
        "id": "ILyFSsLY-QZY"
      }
    },
    {
      "cell_type": "markdown",
      "source": [
        "## Импорты"
      ],
      "metadata": {
        "id": "iRO_abfS_VL_"
      }
    },
    {
      "cell_type": "code",
      "source": [
        "!pip install umap-learn -q"
      ],
      "metadata": {
        "id": "fOAlW8yB5ssO"
      },
      "execution_count": null,
      "outputs": []
    },
    {
      "cell_type": "code",
      "source": [
        "import pandas as pd\n",
        "import re\n",
        "import warnings\n",
        "from tqdm import tqdm\n",
        "import torch\n",
        "\n",
        "from matplotlib import pyplot as plt\n",
        "\n",
        "from sklearn.model_selection import train_test_split\n",
        "from sklearn.svm import LinearSVC\n",
        "from sklearn.metrics import classification_report, confusion_matrix, ConfusionMatrixDisplay\n",
        "\n",
        "from transformers import AutoTokenizer, AutoModel\n",
        "\n",
        "import umap"
      ],
      "metadata": {
        "id": "znsJVCHiT1hp"
      },
      "execution_count": null,
      "outputs": []
    },
    {
      "cell_type": "markdown",
      "source": [
        "## Датасет"
      ],
      "metadata": {
        "id": "0xg5yzFY_TDB"
      }
    },
    {
      "cell_type": "markdown",
      "source": [
        "Возьмите датасет твитов про корону с кегла:"
      ],
      "metadata": {
        "id": "O3PL4Vdl-Z52"
      }
    },
    {
      "cell_type": "code",
      "execution_count": null,
      "metadata": {
        "colab": {
          "base_uri": "https://localhost:8080/"
        },
        "id": "oz5yBmCgTuRA",
        "outputId": "59e7b13a-28b4-4bb3-c1e6-8f73b8c9f0e7"
      },
      "outputs": [
        {
          "output_type": "stream",
          "name": "stdout",
          "text": [
            "  % Total    % Received % Xferd  Average Speed   Time    Time     Time  Current\n",
            "                                 Dload  Upload   Total   Spent    Left  Speed\n",
            "  0     0    0     0    0     0      0      0 --:--:-- --:--:-- --:--:--     0\n",
            "100 4487k  100 4487k    0     0  3081k      0  0:00:01  0:00:01 --:--:-- 6303k\n",
            "Archive:  covid-19-nlp-text-classification.zip\n",
            "  inflating: Corona_NLP_test.csv     \n",
            "  inflating: Corona_NLP_train.csv    \n"
          ]
        }
      ],
      "source": [
        "!curl -L -o covid-19-nlp-text-classification.zip https://www.kaggle.com/api/v1/datasets/download/datatattle/covid-19-nlp-text-classification\n",
        "!unzip covid-19-nlp-text-classification.zip"
      ]
    },
    {
      "cell_type": "markdown",
      "source": [
        "Нас интересуют только тональность и сами твиты:"
      ],
      "metadata": {
        "id": "0cr1qG2N-l4i"
      }
    },
    {
      "cell_type": "code",
      "source": [
        "tweets = pd.read_csv('Corona_NLP_test.csv')[['OriginalTweet', 'Sentiment']]"
      ],
      "metadata": {
        "id": "ebZUNK5vTw96"
      },
      "execution_count": null,
      "outputs": []
    },
    {
      "cell_type": "code",
      "source": [
        "tweets.head()"
      ],
      "metadata": {
        "colab": {
          "base_uri": "https://localhost:8080/",
          "height": 206
        },
        "id": "mi2Qzpv4T5Pd",
        "outputId": "e480a08f-9206-41b9-ac3f-9dd054fd833d"
      },
      "execution_count": null,
      "outputs": [
        {
          "output_type": "execute_result",
          "data": {
            "text/plain": [
              "                                       OriginalTweet           Sentiment\n",
              "0  TRENDING: New Yorkers encounter empty supermar...  Extremely Negative\n",
              "1  When I couldn't find hand sanitizer at Fred Me...            Positive\n",
              "2  Find out how you can protect yourself and love...  Extremely Positive\n",
              "3  #Panic buying hits #NewYork City as anxious sh...            Negative\n",
              "4  #toiletpaper #dunnypaper #coronavirus #coronav...             Neutral"
            ],
            "text/html": [
              "\n",
              "  <div id=\"df-8ffe2c69-5c9c-4f5f-96d1-a92c0f975a66\" class=\"colab-df-container\">\n",
              "    <div>\n",
              "<style scoped>\n",
              "    .dataframe tbody tr th:only-of-type {\n",
              "        vertical-align: middle;\n",
              "    }\n",
              "\n",
              "    .dataframe tbody tr th {\n",
              "        vertical-align: top;\n",
              "    }\n",
              "\n",
              "    .dataframe thead th {\n",
              "        text-align: right;\n",
              "    }\n",
              "</style>\n",
              "<table border=\"1\" class=\"dataframe\">\n",
              "  <thead>\n",
              "    <tr style=\"text-align: right;\">\n",
              "      <th></th>\n",
              "      <th>OriginalTweet</th>\n",
              "      <th>Sentiment</th>\n",
              "    </tr>\n",
              "  </thead>\n",
              "  <tbody>\n",
              "    <tr>\n",
              "      <th>0</th>\n",
              "      <td>TRENDING: New Yorkers encounter empty supermar...</td>\n",
              "      <td>Extremely Negative</td>\n",
              "    </tr>\n",
              "    <tr>\n",
              "      <th>1</th>\n",
              "      <td>When I couldn't find hand sanitizer at Fred Me...</td>\n",
              "      <td>Positive</td>\n",
              "    </tr>\n",
              "    <tr>\n",
              "      <th>2</th>\n",
              "      <td>Find out how you can protect yourself and love...</td>\n",
              "      <td>Extremely Positive</td>\n",
              "    </tr>\n",
              "    <tr>\n",
              "      <th>3</th>\n",
              "      <td>#Panic buying hits #NewYork City as anxious sh...</td>\n",
              "      <td>Negative</td>\n",
              "    </tr>\n",
              "    <tr>\n",
              "      <th>4</th>\n",
              "      <td>#toiletpaper #dunnypaper #coronavirus #coronav...</td>\n",
              "      <td>Neutral</td>\n",
              "    </tr>\n",
              "  </tbody>\n",
              "</table>\n",
              "</div>\n",
              "    <div class=\"colab-df-buttons\">\n",
              "\n",
              "  <div class=\"colab-df-container\">\n",
              "    <button class=\"colab-df-convert\" onclick=\"convertToInteractive('df-8ffe2c69-5c9c-4f5f-96d1-a92c0f975a66')\"\n",
              "            title=\"Convert this dataframe to an interactive table.\"\n",
              "            style=\"display:none;\">\n",
              "\n",
              "  <svg xmlns=\"http://www.w3.org/2000/svg\" height=\"24px\" viewBox=\"0 -960 960 960\">\n",
              "    <path d=\"M120-120v-720h720v720H120Zm60-500h600v-160H180v160Zm220 220h160v-160H400v160Zm0 220h160v-160H400v160ZM180-400h160v-160H180v160Zm440 0h160v-160H620v160ZM180-180h160v-160H180v160Zm440 0h160v-160H620v160Z\"/>\n",
              "  </svg>\n",
              "    </button>\n",
              "\n",
              "  <style>\n",
              "    .colab-df-container {\n",
              "      display:flex;\n",
              "      gap: 12px;\n",
              "    }\n",
              "\n",
              "    .colab-df-convert {\n",
              "      background-color: #E8F0FE;\n",
              "      border: none;\n",
              "      border-radius: 50%;\n",
              "      cursor: pointer;\n",
              "      display: none;\n",
              "      fill: #1967D2;\n",
              "      height: 32px;\n",
              "      padding: 0 0 0 0;\n",
              "      width: 32px;\n",
              "    }\n",
              "\n",
              "    .colab-df-convert:hover {\n",
              "      background-color: #E2EBFA;\n",
              "      box-shadow: 0px 1px 2px rgba(60, 64, 67, 0.3), 0px 1px 3px 1px rgba(60, 64, 67, 0.15);\n",
              "      fill: #174EA6;\n",
              "    }\n",
              "\n",
              "    .colab-df-buttons div {\n",
              "      margin-bottom: 4px;\n",
              "    }\n",
              "\n",
              "    [theme=dark] .colab-df-convert {\n",
              "      background-color: #3B4455;\n",
              "      fill: #D2E3FC;\n",
              "    }\n",
              "\n",
              "    [theme=dark] .colab-df-convert:hover {\n",
              "      background-color: #434B5C;\n",
              "      box-shadow: 0px 1px 3px 1px rgba(0, 0, 0, 0.15);\n",
              "      filter: drop-shadow(0px 1px 2px rgba(0, 0, 0, 0.3));\n",
              "      fill: #FFFFFF;\n",
              "    }\n",
              "  </style>\n",
              "\n",
              "    <script>\n",
              "      const buttonEl =\n",
              "        document.querySelector('#df-8ffe2c69-5c9c-4f5f-96d1-a92c0f975a66 button.colab-df-convert');\n",
              "      buttonEl.style.display =\n",
              "        google.colab.kernel.accessAllowed ? 'block' : 'none';\n",
              "\n",
              "      async function convertToInteractive(key) {\n",
              "        const element = document.querySelector('#df-8ffe2c69-5c9c-4f5f-96d1-a92c0f975a66');\n",
              "        const dataTable =\n",
              "          await google.colab.kernel.invokeFunction('convertToInteractive',\n",
              "                                                    [key], {});\n",
              "        if (!dataTable) return;\n",
              "\n",
              "        const docLinkHtml = 'Like what you see? Visit the ' +\n",
              "          '<a target=\"_blank\" href=https://colab.research.google.com/notebooks/data_table.ipynb>data table notebook</a>'\n",
              "          + ' to learn more about interactive tables.';\n",
              "        element.innerHTML = '';\n",
              "        dataTable['output_type'] = 'display_data';\n",
              "        await google.colab.output.renderOutput(dataTable, element);\n",
              "        const docLink = document.createElement('div');\n",
              "        docLink.innerHTML = docLinkHtml;\n",
              "        element.appendChild(docLink);\n",
              "      }\n",
              "    </script>\n",
              "  </div>\n",
              "\n",
              "\n",
              "<div id=\"df-989f81e7-8ebc-4d63-a842-b81eba8dea03\">\n",
              "  <button class=\"colab-df-quickchart\" onclick=\"quickchart('df-989f81e7-8ebc-4d63-a842-b81eba8dea03')\"\n",
              "            title=\"Suggest charts\"\n",
              "            style=\"display:none;\">\n",
              "\n",
              "<svg xmlns=\"http://www.w3.org/2000/svg\" height=\"24px\"viewBox=\"0 0 24 24\"\n",
              "     width=\"24px\">\n",
              "    <g>\n",
              "        <path d=\"M19 3H5c-1.1 0-2 .9-2 2v14c0 1.1.9 2 2 2h14c1.1 0 2-.9 2-2V5c0-1.1-.9-2-2-2zM9 17H7v-7h2v7zm4 0h-2V7h2v10zm4 0h-2v-4h2v4z\"/>\n",
              "    </g>\n",
              "</svg>\n",
              "  </button>\n",
              "\n",
              "<style>\n",
              "  .colab-df-quickchart {\n",
              "      --bg-color: #E8F0FE;\n",
              "      --fill-color: #1967D2;\n",
              "      --hover-bg-color: #E2EBFA;\n",
              "      --hover-fill-color: #174EA6;\n",
              "      --disabled-fill-color: #AAA;\n",
              "      --disabled-bg-color: #DDD;\n",
              "  }\n",
              "\n",
              "  [theme=dark] .colab-df-quickchart {\n",
              "      --bg-color: #3B4455;\n",
              "      --fill-color: #D2E3FC;\n",
              "      --hover-bg-color: #434B5C;\n",
              "      --hover-fill-color: #FFFFFF;\n",
              "      --disabled-bg-color: #3B4455;\n",
              "      --disabled-fill-color: #666;\n",
              "  }\n",
              "\n",
              "  .colab-df-quickchart {\n",
              "    background-color: var(--bg-color);\n",
              "    border: none;\n",
              "    border-radius: 50%;\n",
              "    cursor: pointer;\n",
              "    display: none;\n",
              "    fill: var(--fill-color);\n",
              "    height: 32px;\n",
              "    padding: 0;\n",
              "    width: 32px;\n",
              "  }\n",
              "\n",
              "  .colab-df-quickchart:hover {\n",
              "    background-color: var(--hover-bg-color);\n",
              "    box-shadow: 0 1px 2px rgba(60, 64, 67, 0.3), 0 1px 3px 1px rgba(60, 64, 67, 0.15);\n",
              "    fill: var(--button-hover-fill-color);\n",
              "  }\n",
              "\n",
              "  .colab-df-quickchart-complete:disabled,\n",
              "  .colab-df-quickchart-complete:disabled:hover {\n",
              "    background-color: var(--disabled-bg-color);\n",
              "    fill: var(--disabled-fill-color);\n",
              "    box-shadow: none;\n",
              "  }\n",
              "\n",
              "  .colab-df-spinner {\n",
              "    border: 2px solid var(--fill-color);\n",
              "    border-color: transparent;\n",
              "    border-bottom-color: var(--fill-color);\n",
              "    animation:\n",
              "      spin 1s steps(1) infinite;\n",
              "  }\n",
              "\n",
              "  @keyframes spin {\n",
              "    0% {\n",
              "      border-color: transparent;\n",
              "      border-bottom-color: var(--fill-color);\n",
              "      border-left-color: var(--fill-color);\n",
              "    }\n",
              "    20% {\n",
              "      border-color: transparent;\n",
              "      border-left-color: var(--fill-color);\n",
              "      border-top-color: var(--fill-color);\n",
              "    }\n",
              "    30% {\n",
              "      border-color: transparent;\n",
              "      border-left-color: var(--fill-color);\n",
              "      border-top-color: var(--fill-color);\n",
              "      border-right-color: var(--fill-color);\n",
              "    }\n",
              "    40% {\n",
              "      border-color: transparent;\n",
              "      border-right-color: var(--fill-color);\n",
              "      border-top-color: var(--fill-color);\n",
              "    }\n",
              "    60% {\n",
              "      border-color: transparent;\n",
              "      border-right-color: var(--fill-color);\n",
              "    }\n",
              "    80% {\n",
              "      border-color: transparent;\n",
              "      border-right-color: var(--fill-color);\n",
              "      border-bottom-color: var(--fill-color);\n",
              "    }\n",
              "    90% {\n",
              "      border-color: transparent;\n",
              "      border-bottom-color: var(--fill-color);\n",
              "    }\n",
              "  }\n",
              "</style>\n",
              "\n",
              "  <script>\n",
              "    async function quickchart(key) {\n",
              "      const quickchartButtonEl =\n",
              "        document.querySelector('#' + key + ' button');\n",
              "      quickchartButtonEl.disabled = true;  // To prevent multiple clicks.\n",
              "      quickchartButtonEl.classList.add('colab-df-spinner');\n",
              "      try {\n",
              "        const charts = await google.colab.kernel.invokeFunction(\n",
              "            'suggestCharts', [key], {});\n",
              "      } catch (error) {\n",
              "        console.error('Error during call to suggestCharts:', error);\n",
              "      }\n",
              "      quickchartButtonEl.classList.remove('colab-df-spinner');\n",
              "      quickchartButtonEl.classList.add('colab-df-quickchart-complete');\n",
              "    }\n",
              "    (() => {\n",
              "      let quickchartButtonEl =\n",
              "        document.querySelector('#df-989f81e7-8ebc-4d63-a842-b81eba8dea03 button');\n",
              "      quickchartButtonEl.style.display =\n",
              "        google.colab.kernel.accessAllowed ? 'block' : 'none';\n",
              "    })();\n",
              "  </script>\n",
              "</div>\n",
              "    </div>\n",
              "  </div>\n"
            ],
            "application/vnd.google.colaboratory.intrinsic+json": {
              "type": "dataframe",
              "variable_name": "tweets",
              "summary": "{\n  \"name\": \"tweets\",\n  \"rows\": 3798,\n  \"fields\": [\n    {\n      \"column\": \"OriginalTweet\",\n      \"properties\": {\n        \"dtype\": \"string\",\n        \"num_unique_values\": 3798,\n        \"samples\": [\n          \"At my local grocery store in New Hampshire... #coronavirus #Covid_19 #NationalEmergency https://t.co/AXuMBSfNU9\",\n          \"Seeing resellers sell masks, alcohols and other necessities in prices which are 5-15x more expensive compared to SRPs makes me wonder how can people be so heartless, insensitive, and opportunistic in these times of crisis. #COVID2019\",\n          \"Where did coronavirus come from, and where will it take us? An interview with Rob Wallace, author of Big Farms Make Big Flu\\r\\r\\n\\r\\r\\nhttps://t.co/Hqp68iu1iN https://t.co/dR4Ys2hCOy\"\n        ],\n        \"semantic_type\": \"\",\n        \"description\": \"\"\n      }\n    },\n    {\n      \"column\": \"Sentiment\",\n      \"properties\": {\n        \"dtype\": \"category\",\n        \"num_unique_values\": 5,\n        \"samples\": [\n          \"Positive\",\n          \"Neutral\",\n          \"Extremely Positive\"\n        ],\n        \"semantic_type\": \"\",\n        \"description\": \"\"\n      }\n    }\n  ]\n}"
            }
          },
          "metadata": {},
          "execution_count": 7
        }
      ]
    },
    {
      "cell_type": "markdown",
      "source": [
        "## EDA и предобработка датасета"
      ],
      "metadata": {
        "id": "OWeV_mvW_MwW"
      }
    },
    {
      "cell_type": "markdown",
      "source": [
        "1. Как распределены теги? Визуализируйте результаты:"
      ],
      "metadata": {
        "id": "-fBCXak9_dWj"
      }
    },
    {
      "cell_type": "code",
      "source": [
        "# ваш код"
      ],
      "metadata": {
        "id": "KGoZNARDUZO-"
      },
      "execution_count": null,
      "outputs": []
    },
    {
      "cell_type": "markdown",
      "source": [
        "2. Запишите сами тексты в `data`, а номера категорий в `y`:"
      ],
      "metadata": {
        "id": "eYwxlk0c_rA_"
      }
    },
    {
      "cell_type": "code",
      "source": [
        "data = ...\n",
        "y = ..."
      ],
      "metadata": {
        "id": "AIa3L2w3Voz9"
      },
      "execution_count": null,
      "outputs": []
    },
    {
      "cell_type": "markdown",
      "source": [
        "3. При помощи регулярок очистите твиты от ссылок (`https?://\\S+|www\\.\\S+`), кусков HTML-кода (`<.*?>`), хештегов (`@\\w+`) и упоминаний (`#\\w+`):"
      ],
      "metadata": {
        "id": "vhlPkxc0_6aX"
      }
    },
    {
      "cell_type": "code",
      "source": [
        "# ваш код"
      ],
      "metadata": {
        "id": "mIOyDmXmw5oU"
      },
      "execution_count": null,
      "outputs": []
    },
    {
      "cell_type": "markdown",
      "source": [
        "4. Разделите данные на обучающую и тестовую выборки:"
      ],
      "metadata": {
        "id": "c7kiZVaa_0la"
      }
    },
    {
      "cell_type": "code",
      "source": [
        "data_train, data_test, y_train, y_test = ..."
      ],
      "metadata": {
        "id": "vC3wC_boV7wc"
      },
      "execution_count": null,
      "outputs": []
    },
    {
      "cell_type": "markdown",
      "source": [
        "5. Векторизуйте ваши данные при помощи BERT'а:"
      ],
      "metadata": {
        "id": "MTmHtTNjAw1w"
      }
    },
    {
      "cell_type": "code",
      "source": [
        "# ваш код"
      ],
      "metadata": {
        "id": "UXO2ikRVxIy1"
      },
      "execution_count": null,
      "outputs": []
    },
    {
      "cell_type": "markdown",
      "source": [
        "6. Приведите данные к размерности два при помощи UMAP и визуализируйте соотношение отображения с классами из датасета:"
      ],
      "metadata": {
        "id": "hFWim1Mgm2CL"
      }
    },
    {
      "cell_type": "code",
      "source": [
        "# ваш код"
      ],
      "metadata": {
        "id": "J2u5RRycxMfa"
      },
      "execution_count": null,
      "outputs": []
    },
    {
      "cell_type": "markdown",
      "source": [
        "## Обучение и оценка"
      ],
      "metadata": {
        "id": "enjY4VaJqx-l"
      }
    },
    {
      "cell_type": "markdown",
      "source": [
        "1. Обучите модель [`LinearSVC`](https://scikit-learn.org/stable/modules/generated/sklearn.svm.LinearSVC.html) из метода опорных векторов (Support Vector Machines, SVM) на векторах без уменьшения размерности:"
      ],
      "metadata": {
        "id": "3cU8uVPBrYQ0"
      }
    },
    {
      "cell_type": "code",
      "source": [
        "linsvm = LinearSVC()"
      ],
      "metadata": {
        "id": "0GuLJtX_2df0"
      },
      "execution_count": null,
      "outputs": []
    },
    {
      "cell_type": "code",
      "source": [
        "# ваш код"
      ],
      "metadata": {
        "id": "eYqvBKhaxPca"
      },
      "execution_count": null,
      "outputs": []
    },
    {
      "cell_type": "markdown",
      "source": [
        "2. Посчитайте качество модели:"
      ],
      "metadata": {
        "id": "QiVCYpfysSUA"
      }
    },
    {
      "cell_type": "code",
      "source": [
        "# ваш код"
      ],
      "metadata": {
        "id": "HYAGbUClxTWD"
      },
      "execution_count": null,
      "outputs": []
    },
    {
      "cell_type": "markdown",
      "source": [
        "3. Теперь сделайте то же самое, но с уменьшением размерности (подумайте, какие методы нам подходят для задачи и посмотрите, как влияет кол-во компонентов):"
      ],
      "metadata": {
        "id": "XARK1oB3sjkj"
      }
    },
    {
      "cell_type": "code",
      "source": [
        "# ваш код"
      ],
      "metadata": {
        "id": "o51iqWPbxUom"
      },
      "execution_count": null,
      "outputs": []
    },
    {
      "cell_type": "markdown",
      "source": [
        "4. Что происходит с качеством модели?"
      ],
      "metadata": {
        "id": "iJ4c5pXzu8LP"
      }
    },
    {
      "cell_type": "code",
      "source": [
        "# ваш код"
      ],
      "metadata": {
        "id": "b6jEnIyhxWf3"
      },
      "execution_count": null,
      "outputs": []
    },
    {
      "cell_type": "markdown",
      "source": [
        "5. А что будет, если эту же задачу переформулировать под 3 класса вместо 5?"
      ],
      "metadata": {
        "id": "s7z4rcdWvPWc"
      }
    },
    {
      "cell_type": "code",
      "source": [
        "def classes_def(x):\n",
        "    if x ==  \"Extremely Positive\":\n",
        "        return \"2\"\n",
        "    elif x == \"Extremely Negative\":\n",
        "        return \"0\"\n",
        "    elif x == \"Negative\":\n",
        "        return \"0\"\n",
        "    elif x ==  \"Positive\":\n",
        "        return \"2\"\n",
        "    else:\n",
        "        return \"1\"\n",
        "\n",
        "\n",
        "y_train_new = y_train.apply(lambda x: classes_def(x))\n",
        "y_test_new = y_test.apply(lambda x: classes_def(x))"
      ],
      "metadata": {
        "id": "3YVcNps8WV3M"
      },
      "execution_count": null,
      "outputs": []
    },
    {
      "cell_type": "code",
      "source": [
        "# ваш код"
      ],
      "metadata": {
        "id": "nMjYRoEbxYJd"
      },
      "execution_count": null,
      "outputs": []
    }
  ]
}