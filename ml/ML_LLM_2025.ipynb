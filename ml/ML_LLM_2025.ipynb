{
  "nbformat": 4,
  "nbformat_minor": 0,
  "metadata": {
    "colab": {
      "provenance": [],
      "gpuType": "T4"
    },
    "kernelspec": {
      "name": "python3",
      "display_name": "Python 3"
    },
    "language_info": {
      "name": "python"
    },
    "accelerator": "GPU",
    "widgets": {
      "application/vnd.jupyter.widget-state+json": {
        "b52a79473ea542ac8b8a4f06bc31e712": {
          "model_module": "@jupyter-widgets/controls",
          "model_name": "HBoxModel",
          "model_module_version": "1.5.0",
          "state": {
            "_dom_classes": [],
            "_model_module": "@jupyter-widgets/controls",
            "_model_module_version": "1.5.0",
            "_model_name": "HBoxModel",
            "_view_count": null,
            "_view_module": "@jupyter-widgets/controls",
            "_view_module_version": "1.5.0",
            "_view_name": "HBoxView",
            "box_style": "",
            "children": [
              "IPY_MODEL_856436b25e7c4326a3dda4b340ad3b38",
              "IPY_MODEL_def7163f34b74e708b7b8f0f09942a28",
              "IPY_MODEL_441f595837da44b3a20529d1e87e803c"
            ],
            "layout": "IPY_MODEL_14e41804aa7e4b6da1778e7da200ea6e"
          }
        },
        "856436b25e7c4326a3dda4b340ad3b38": {
          "model_module": "@jupyter-widgets/controls",
          "model_name": "HTMLModel",
          "model_module_version": "1.5.0",
          "state": {
            "_dom_classes": [],
            "_model_module": "@jupyter-widgets/controls",
            "_model_module_version": "1.5.0",
            "_model_name": "HTMLModel",
            "_view_count": null,
            "_view_module": "@jupyter-widgets/controls",
            "_view_module_version": "1.5.0",
            "_view_name": "HTMLView",
            "description": "",
            "description_tooltip": null,
            "layout": "IPY_MODEL_e76e3c64a1644a2281ed3967162cd3f7",
            "placeholder": "​",
            "style": "IPY_MODEL_684e84ce0fcf44a6987dee59ae64f57f",
            "value": "tokenizer_config.json: 100%"
          }
        },
        "def7163f34b74e708b7b8f0f09942a28": {
          "model_module": "@jupyter-widgets/controls",
          "model_name": "FloatProgressModel",
          "model_module_version": "1.5.0",
          "state": {
            "_dom_classes": [],
            "_model_module": "@jupyter-widgets/controls",
            "_model_module_version": "1.5.0",
            "_model_name": "FloatProgressModel",
            "_view_count": null,
            "_view_module": "@jupyter-widgets/controls",
            "_view_module_version": "1.5.0",
            "_view_name": "ProgressView",
            "bar_style": "success",
            "description": "",
            "description_tooltip": null,
            "layout": "IPY_MODEL_0cb66edd95d3428f946e6d29481009c8",
            "max": 24,
            "min": 0,
            "orientation": "horizontal",
            "style": "IPY_MODEL_a8816eb02dd144ba9b858deb6ebd8554",
            "value": 24
          }
        },
        "441f595837da44b3a20529d1e87e803c": {
          "model_module": "@jupyter-widgets/controls",
          "model_name": "HTMLModel",
          "model_module_version": "1.5.0",
          "state": {
            "_dom_classes": [],
            "_model_module": "@jupyter-widgets/controls",
            "_model_module_version": "1.5.0",
            "_model_name": "HTMLModel",
            "_view_count": null,
            "_view_module": "@jupyter-widgets/controls",
            "_view_module_version": "1.5.0",
            "_view_name": "HTMLView",
            "description": "",
            "description_tooltip": null,
            "layout": "IPY_MODEL_0b48b3b8a51f464b87ab7b825daa64f2",
            "placeholder": "​",
            "style": "IPY_MODEL_a61939ddfd054f8e814282aa413f2800",
            "value": " 24.0/24.0 [00:00&lt;00:00, 2.21kB/s]"
          }
        },
        "14e41804aa7e4b6da1778e7da200ea6e": {
          "model_module": "@jupyter-widgets/base",
          "model_name": "LayoutModel",
          "model_module_version": "1.2.0",
          "state": {
            "_model_module": "@jupyter-widgets/base",
            "_model_module_version": "1.2.0",
            "_model_name": "LayoutModel",
            "_view_count": null,
            "_view_module": "@jupyter-widgets/base",
            "_view_module_version": "1.2.0",
            "_view_name": "LayoutView",
            "align_content": null,
            "align_items": null,
            "align_self": null,
            "border": null,
            "bottom": null,
            "display": null,
            "flex": null,
            "flex_flow": null,
            "grid_area": null,
            "grid_auto_columns": null,
            "grid_auto_flow": null,
            "grid_auto_rows": null,
            "grid_column": null,
            "grid_gap": null,
            "grid_row": null,
            "grid_template_areas": null,
            "grid_template_columns": null,
            "grid_template_rows": null,
            "height": null,
            "justify_content": null,
            "justify_items": null,
            "left": null,
            "margin": null,
            "max_height": null,
            "max_width": null,
            "min_height": null,
            "min_width": null,
            "object_fit": null,
            "object_position": null,
            "order": null,
            "overflow": null,
            "overflow_x": null,
            "overflow_y": null,
            "padding": null,
            "right": null,
            "top": null,
            "visibility": null,
            "width": null
          }
        },
        "e76e3c64a1644a2281ed3967162cd3f7": {
          "model_module": "@jupyter-widgets/base",
          "model_name": "LayoutModel",
          "model_module_version": "1.2.0",
          "state": {
            "_model_module": "@jupyter-widgets/base",
            "_model_module_version": "1.2.0",
            "_model_name": "LayoutModel",
            "_view_count": null,
            "_view_module": "@jupyter-widgets/base",
            "_view_module_version": "1.2.0",
            "_view_name": "LayoutView",
            "align_content": null,
            "align_items": null,
            "align_self": null,
            "border": null,
            "bottom": null,
            "display": null,
            "flex": null,
            "flex_flow": null,
            "grid_area": null,
            "grid_auto_columns": null,
            "grid_auto_flow": null,
            "grid_auto_rows": null,
            "grid_column": null,
            "grid_gap": null,
            "grid_row": null,
            "grid_template_areas": null,
            "grid_template_columns": null,
            "grid_template_rows": null,
            "height": null,
            "justify_content": null,
            "justify_items": null,
            "left": null,
            "margin": null,
            "max_height": null,
            "max_width": null,
            "min_height": null,
            "min_width": null,
            "object_fit": null,
            "object_position": null,
            "order": null,
            "overflow": null,
            "overflow_x": null,
            "overflow_y": null,
            "padding": null,
            "right": null,
            "top": null,
            "visibility": null,
            "width": null
          }
        },
        "684e84ce0fcf44a6987dee59ae64f57f": {
          "model_module": "@jupyter-widgets/controls",
          "model_name": "DescriptionStyleModel",
          "model_module_version": "1.5.0",
          "state": {
            "_model_module": "@jupyter-widgets/controls",
            "_model_module_version": "1.5.0",
            "_model_name": "DescriptionStyleModel",
            "_view_count": null,
            "_view_module": "@jupyter-widgets/base",
            "_view_module_version": "1.2.0",
            "_view_name": "StyleView",
            "description_width": ""
          }
        },
        "0cb66edd95d3428f946e6d29481009c8": {
          "model_module": "@jupyter-widgets/base",
          "model_name": "LayoutModel",
          "model_module_version": "1.2.0",
          "state": {
            "_model_module": "@jupyter-widgets/base",
            "_model_module_version": "1.2.0",
            "_model_name": "LayoutModel",
            "_view_count": null,
            "_view_module": "@jupyter-widgets/base",
            "_view_module_version": "1.2.0",
            "_view_name": "LayoutView",
            "align_content": null,
            "align_items": null,
            "align_self": null,
            "border": null,
            "bottom": null,
            "display": null,
            "flex": null,
            "flex_flow": null,
            "grid_area": null,
            "grid_auto_columns": null,
            "grid_auto_flow": null,
            "grid_auto_rows": null,
            "grid_column": null,
            "grid_gap": null,
            "grid_row": null,
            "grid_template_areas": null,
            "grid_template_columns": null,
            "grid_template_rows": null,
            "height": null,
            "justify_content": null,
            "justify_items": null,
            "left": null,
            "margin": null,
            "max_height": null,
            "max_width": null,
            "min_height": null,
            "min_width": null,
            "object_fit": null,
            "object_position": null,
            "order": null,
            "overflow": null,
            "overflow_x": null,
            "overflow_y": null,
            "padding": null,
            "right": null,
            "top": null,
            "visibility": null,
            "width": null
          }
        },
        "a8816eb02dd144ba9b858deb6ebd8554": {
          "model_module": "@jupyter-widgets/controls",
          "model_name": "ProgressStyleModel",
          "model_module_version": "1.5.0",
          "state": {
            "_model_module": "@jupyter-widgets/controls",
            "_model_module_version": "1.5.0",
            "_model_name": "ProgressStyleModel",
            "_view_count": null,
            "_view_module": "@jupyter-widgets/base",
            "_view_module_version": "1.2.0",
            "_view_name": "StyleView",
            "bar_color": null,
            "description_width": ""
          }
        },
        "0b48b3b8a51f464b87ab7b825daa64f2": {
          "model_module": "@jupyter-widgets/base",
          "model_name": "LayoutModel",
          "model_module_version": "1.2.0",
          "state": {
            "_model_module": "@jupyter-widgets/base",
            "_model_module_version": "1.2.0",
            "_model_name": "LayoutModel",
            "_view_count": null,
            "_view_module": "@jupyter-widgets/base",
            "_view_module_version": "1.2.0",
            "_view_name": "LayoutView",
            "align_content": null,
            "align_items": null,
            "align_self": null,
            "border": null,
            "bottom": null,
            "display": null,
            "flex": null,
            "flex_flow": null,
            "grid_area": null,
            "grid_auto_columns": null,
            "grid_auto_flow": null,
            "grid_auto_rows": null,
            "grid_column": null,
            "grid_gap": null,
            "grid_row": null,
            "grid_template_areas": null,
            "grid_template_columns": null,
            "grid_template_rows": null,
            "height": null,
            "justify_content": null,
            "justify_items": null,
            "left": null,
            "margin": null,
            "max_height": null,
            "max_width": null,
            "min_height": null,
            "min_width": null,
            "object_fit": null,
            "object_position": null,
            "order": null,
            "overflow": null,
            "overflow_x": null,
            "overflow_y": null,
            "padding": null,
            "right": null,
            "top": null,
            "visibility": null,
            "width": null
          }
        },
        "a61939ddfd054f8e814282aa413f2800": {
          "model_module": "@jupyter-widgets/controls",
          "model_name": "DescriptionStyleModel",
          "model_module_version": "1.5.0",
          "state": {
            "_model_module": "@jupyter-widgets/controls",
            "_model_module_version": "1.5.0",
            "_model_name": "DescriptionStyleModel",
            "_view_count": null,
            "_view_module": "@jupyter-widgets/base",
            "_view_module_version": "1.2.0",
            "_view_name": "StyleView",
            "description_width": ""
          }
        },
        "ccde837a4d814633adfa2e25902c00e9": {
          "model_module": "@jupyter-widgets/controls",
          "model_name": "HBoxModel",
          "model_module_version": "1.5.0",
          "state": {
            "_dom_classes": [],
            "_model_module": "@jupyter-widgets/controls",
            "_model_module_version": "1.5.0",
            "_model_name": "HBoxModel",
            "_view_count": null,
            "_view_module": "@jupyter-widgets/controls",
            "_view_module_version": "1.5.0",
            "_view_name": "HBoxView",
            "box_style": "",
            "children": [
              "IPY_MODEL_8db38a5046da4172adb014145d9f66c1",
              "IPY_MODEL_843416ea9fa546158ed6be523269e7df",
              "IPY_MODEL_6a9a7fc79ceb4ac9838ec4d36f1a5de4"
            ],
            "layout": "IPY_MODEL_a4cdb0d8885c424095f41b329040a68b"
          }
        },
        "8db38a5046da4172adb014145d9f66c1": {
          "model_module": "@jupyter-widgets/controls",
          "model_name": "HTMLModel",
          "model_module_version": "1.5.0",
          "state": {
            "_dom_classes": [],
            "_model_module": "@jupyter-widgets/controls",
            "_model_module_version": "1.5.0",
            "_model_name": "HTMLModel",
            "_view_count": null,
            "_view_module": "@jupyter-widgets/controls",
            "_view_module_version": "1.5.0",
            "_view_name": "HTMLView",
            "description": "",
            "description_tooltip": null,
            "layout": "IPY_MODEL_f4f8e1c98f0842bdad8285f6eb298e79",
            "placeholder": "​",
            "style": "IPY_MODEL_eab98c81614a4920a3d20fa5eb783a08",
            "value": "config.json: 100%"
          }
        },
        "843416ea9fa546158ed6be523269e7df": {
          "model_module": "@jupyter-widgets/controls",
          "model_name": "FloatProgressModel",
          "model_module_version": "1.5.0",
          "state": {
            "_dom_classes": [],
            "_model_module": "@jupyter-widgets/controls",
            "_model_module_version": "1.5.0",
            "_model_name": "FloatProgressModel",
            "_view_count": null,
            "_view_module": "@jupyter-widgets/controls",
            "_view_module_version": "1.5.0",
            "_view_name": "ProgressView",
            "bar_style": "success",
            "description": "",
            "description_tooltip": null,
            "layout": "IPY_MODEL_a34da900209e48328868a5bae409266e",
            "max": 642,
            "min": 0,
            "orientation": "horizontal",
            "style": "IPY_MODEL_479f7dda79384e9a9bd36b84d522547a",
            "value": 642
          }
        },
        "6a9a7fc79ceb4ac9838ec4d36f1a5de4": {
          "model_module": "@jupyter-widgets/controls",
          "model_name": "HTMLModel",
          "model_module_version": "1.5.0",
          "state": {
            "_dom_classes": [],
            "_model_module": "@jupyter-widgets/controls",
            "_model_module_version": "1.5.0",
            "_model_name": "HTMLModel",
            "_view_count": null,
            "_view_module": "@jupyter-widgets/controls",
            "_view_module_version": "1.5.0",
            "_view_name": "HTMLView",
            "description": "",
            "description_tooltip": null,
            "layout": "IPY_MODEL_16fdc5cb6ded4384b5f0f1927677e2cc",
            "placeholder": "​",
            "style": "IPY_MODEL_8e12674f87d444a7b8ab717c2de91342",
            "value": " 642/642 [00:00&lt;00:00, 54.6kB/s]"
          }
        },
        "a4cdb0d8885c424095f41b329040a68b": {
          "model_module": "@jupyter-widgets/base",
          "model_name": "LayoutModel",
          "model_module_version": "1.2.0",
          "state": {
            "_model_module": "@jupyter-widgets/base",
            "_model_module_version": "1.2.0",
            "_model_name": "LayoutModel",
            "_view_count": null,
            "_view_module": "@jupyter-widgets/base",
            "_view_module_version": "1.2.0",
            "_view_name": "LayoutView",
            "align_content": null,
            "align_items": null,
            "align_self": null,
            "border": null,
            "bottom": null,
            "display": null,
            "flex": null,
            "flex_flow": null,
            "grid_area": null,
            "grid_auto_columns": null,
            "grid_auto_flow": null,
            "grid_auto_rows": null,
            "grid_column": null,
            "grid_gap": null,
            "grid_row": null,
            "grid_template_areas": null,
            "grid_template_columns": null,
            "grid_template_rows": null,
            "height": null,
            "justify_content": null,
            "justify_items": null,
            "left": null,
            "margin": null,
            "max_height": null,
            "max_width": null,
            "min_height": null,
            "min_width": null,
            "object_fit": null,
            "object_position": null,
            "order": null,
            "overflow": null,
            "overflow_x": null,
            "overflow_y": null,
            "padding": null,
            "right": null,
            "top": null,
            "visibility": null,
            "width": null
          }
        },
        "f4f8e1c98f0842bdad8285f6eb298e79": {
          "model_module": "@jupyter-widgets/base",
          "model_name": "LayoutModel",
          "model_module_version": "1.2.0",
          "state": {
            "_model_module": "@jupyter-widgets/base",
            "_model_module_version": "1.2.0",
            "_model_name": "LayoutModel",
            "_view_count": null,
            "_view_module": "@jupyter-widgets/base",
            "_view_module_version": "1.2.0",
            "_view_name": "LayoutView",
            "align_content": null,
            "align_items": null,
            "align_self": null,
            "border": null,
            "bottom": null,
            "display": null,
            "flex": null,
            "flex_flow": null,
            "grid_area": null,
            "grid_auto_columns": null,
            "grid_auto_flow": null,
            "grid_auto_rows": null,
            "grid_column": null,
            "grid_gap": null,
            "grid_row": null,
            "grid_template_areas": null,
            "grid_template_columns": null,
            "grid_template_rows": null,
            "height": null,
            "justify_content": null,
            "justify_items": null,
            "left": null,
            "margin": null,
            "max_height": null,
            "max_width": null,
            "min_height": null,
            "min_width": null,
            "object_fit": null,
            "object_position": null,
            "order": null,
            "overflow": null,
            "overflow_x": null,
            "overflow_y": null,
            "padding": null,
            "right": null,
            "top": null,
            "visibility": null,
            "width": null
          }
        },
        "eab98c81614a4920a3d20fa5eb783a08": {
          "model_module": "@jupyter-widgets/controls",
          "model_name": "DescriptionStyleModel",
          "model_module_version": "1.5.0",
          "state": {
            "_model_module": "@jupyter-widgets/controls",
            "_model_module_version": "1.5.0",
            "_model_name": "DescriptionStyleModel",
            "_view_count": null,
            "_view_module": "@jupyter-widgets/base",
            "_view_module_version": "1.2.0",
            "_view_name": "StyleView",
            "description_width": ""
          }
        },
        "a34da900209e48328868a5bae409266e": {
          "model_module": "@jupyter-widgets/base",
          "model_name": "LayoutModel",
          "model_module_version": "1.2.0",
          "state": {
            "_model_module": "@jupyter-widgets/base",
            "_model_module_version": "1.2.0",
            "_model_name": "LayoutModel",
            "_view_count": null,
            "_view_module": "@jupyter-widgets/base",
            "_view_module_version": "1.2.0",
            "_view_name": "LayoutView",
            "align_content": null,
            "align_items": null,
            "align_self": null,
            "border": null,
            "bottom": null,
            "display": null,
            "flex": null,
            "flex_flow": null,
            "grid_area": null,
            "grid_auto_columns": null,
            "grid_auto_flow": null,
            "grid_auto_rows": null,
            "grid_column": null,
            "grid_gap": null,
            "grid_row": null,
            "grid_template_areas": null,
            "grid_template_columns": null,
            "grid_template_rows": null,
            "height": null,
            "justify_content": null,
            "justify_items": null,
            "left": null,
            "margin": null,
            "max_height": null,
            "max_width": null,
            "min_height": null,
            "min_width": null,
            "object_fit": null,
            "object_position": null,
            "order": null,
            "overflow": null,
            "overflow_x": null,
            "overflow_y": null,
            "padding": null,
            "right": null,
            "top": null,
            "visibility": null,
            "width": null
          }
        },
        "479f7dda79384e9a9bd36b84d522547a": {
          "model_module": "@jupyter-widgets/controls",
          "model_name": "ProgressStyleModel",
          "model_module_version": "1.5.0",
          "state": {
            "_model_module": "@jupyter-widgets/controls",
            "_model_module_version": "1.5.0",
            "_model_name": "ProgressStyleModel",
            "_view_count": null,
            "_view_module": "@jupyter-widgets/base",
            "_view_module_version": "1.2.0",
            "_view_name": "StyleView",
            "bar_color": null,
            "description_width": ""
          }
        },
        "16fdc5cb6ded4384b5f0f1927677e2cc": {
          "model_module": "@jupyter-widgets/base",
          "model_name": "LayoutModel",
          "model_module_version": "1.2.0",
          "state": {
            "_model_module": "@jupyter-widgets/base",
            "_model_module_version": "1.2.0",
            "_model_name": "LayoutModel",
            "_view_count": null,
            "_view_module": "@jupyter-widgets/base",
            "_view_module_version": "1.2.0",
            "_view_name": "LayoutView",
            "align_content": null,
            "align_items": null,
            "align_self": null,
            "border": null,
            "bottom": null,
            "display": null,
            "flex": null,
            "flex_flow": null,
            "grid_area": null,
            "grid_auto_columns": null,
            "grid_auto_flow": null,
            "grid_auto_rows": null,
            "grid_column": null,
            "grid_gap": null,
            "grid_row": null,
            "grid_template_areas": null,
            "grid_template_columns": null,
            "grid_template_rows": null,
            "height": null,
            "justify_content": null,
            "justify_items": null,
            "left": null,
            "margin": null,
            "max_height": null,
            "max_width": null,
            "min_height": null,
            "min_width": null,
            "object_fit": null,
            "object_position": null,
            "order": null,
            "overflow": null,
            "overflow_x": null,
            "overflow_y": null,
            "padding": null,
            "right": null,
            "top": null,
            "visibility": null,
            "width": null
          }
        },
        "8e12674f87d444a7b8ab717c2de91342": {
          "model_module": "@jupyter-widgets/controls",
          "model_name": "DescriptionStyleModel",
          "model_module_version": "1.5.0",
          "state": {
            "_model_module": "@jupyter-widgets/controls",
            "_model_module_version": "1.5.0",
            "_model_name": "DescriptionStyleModel",
            "_view_count": null,
            "_view_module": "@jupyter-widgets/base",
            "_view_module_version": "1.2.0",
            "_view_name": "StyleView",
            "description_width": ""
          }
        },
        "480290ad05df4cf0812025862698ddf8": {
          "model_module": "@jupyter-widgets/controls",
          "model_name": "HBoxModel",
          "model_module_version": "1.5.0",
          "state": {
            "_dom_classes": [],
            "_model_module": "@jupyter-widgets/controls",
            "_model_module_version": "1.5.0",
            "_model_name": "HBoxModel",
            "_view_count": null,
            "_view_module": "@jupyter-widgets/controls",
            "_view_module_version": "1.5.0",
            "_view_name": "HBoxView",
            "box_style": "",
            "children": [
              "IPY_MODEL_bfe9e455ec304b1db03f6da57efffc4f",
              "IPY_MODEL_5b0d3fbf9f664a42ab0019ab8d953116",
              "IPY_MODEL_ea838d8116a24dd48184e1fdba2d7613"
            ],
            "layout": "IPY_MODEL_9ac93aee5282476bbb04ac200c288a58"
          }
        },
        "bfe9e455ec304b1db03f6da57efffc4f": {
          "model_module": "@jupyter-widgets/controls",
          "model_name": "HTMLModel",
          "model_module_version": "1.5.0",
          "state": {
            "_dom_classes": [],
            "_model_module": "@jupyter-widgets/controls",
            "_model_module_version": "1.5.0",
            "_model_name": "HTMLModel",
            "_view_count": null,
            "_view_module": "@jupyter-widgets/controls",
            "_view_module_version": "1.5.0",
            "_view_name": "HTMLView",
            "description": "",
            "description_tooltip": null,
            "layout": "IPY_MODEL_9efb6ce528f24eeaa0fd9633b34f91f9",
            "placeholder": "​",
            "style": "IPY_MODEL_e537088608f447fbbd8eaa97dbc263e2",
            "value": "vocab.txt: 100%"
          }
        },
        "5b0d3fbf9f664a42ab0019ab8d953116": {
          "model_module": "@jupyter-widgets/controls",
          "model_name": "FloatProgressModel",
          "model_module_version": "1.5.0",
          "state": {
            "_dom_classes": [],
            "_model_module": "@jupyter-widgets/controls",
            "_model_module_version": "1.5.0",
            "_model_name": "FloatProgressModel",
            "_view_count": null,
            "_view_module": "@jupyter-widgets/controls",
            "_view_module_version": "1.5.0",
            "_view_name": "ProgressView",
            "bar_style": "success",
            "description": "",
            "description_tooltip": null,
            "layout": "IPY_MODEL_3c3de08eda014bd7bcd83900bbbba0f4",
            "max": 1649718,
            "min": 0,
            "orientation": "horizontal",
            "style": "IPY_MODEL_cf3043a2f98943778f2e9b44b004290e",
            "value": 1649718
          }
        },
        "ea838d8116a24dd48184e1fdba2d7613": {
          "model_module": "@jupyter-widgets/controls",
          "model_name": "HTMLModel",
          "model_module_version": "1.5.0",
          "state": {
            "_dom_classes": [],
            "_model_module": "@jupyter-widgets/controls",
            "_model_module_version": "1.5.0",
            "_model_name": "HTMLModel",
            "_view_count": null,
            "_view_module": "@jupyter-widgets/controls",
            "_view_module_version": "1.5.0",
            "_view_name": "HTMLView",
            "description": "",
            "description_tooltip": null,
            "layout": "IPY_MODEL_88435feedb8c4fc8bf53128c07232a8d",
            "placeholder": "​",
            "style": "IPY_MODEL_8e8ecff2660b48668ec70ed018d7ae25",
            "value": " 1.65M/1.65M [00:00&lt;00:00, 2.67MB/s]"
          }
        },
        "9ac93aee5282476bbb04ac200c288a58": {
          "model_module": "@jupyter-widgets/base",
          "model_name": "LayoutModel",
          "model_module_version": "1.2.0",
          "state": {
            "_model_module": "@jupyter-widgets/base",
            "_model_module_version": "1.2.0",
            "_model_name": "LayoutModel",
            "_view_count": null,
            "_view_module": "@jupyter-widgets/base",
            "_view_module_version": "1.2.0",
            "_view_name": "LayoutView",
            "align_content": null,
            "align_items": null,
            "align_self": null,
            "border": null,
            "bottom": null,
            "display": null,
            "flex": null,
            "flex_flow": null,
            "grid_area": null,
            "grid_auto_columns": null,
            "grid_auto_flow": null,
            "grid_auto_rows": null,
            "grid_column": null,
            "grid_gap": null,
            "grid_row": null,
            "grid_template_areas": null,
            "grid_template_columns": null,
            "grid_template_rows": null,
            "height": null,
            "justify_content": null,
            "justify_items": null,
            "left": null,
            "margin": null,
            "max_height": null,
            "max_width": null,
            "min_height": null,
            "min_width": null,
            "object_fit": null,
            "object_position": null,
            "order": null,
            "overflow": null,
            "overflow_x": null,
            "overflow_y": null,
            "padding": null,
            "right": null,
            "top": null,
            "visibility": null,
            "width": null
          }
        },
        "9efb6ce528f24eeaa0fd9633b34f91f9": {
          "model_module": "@jupyter-widgets/base",
          "model_name": "LayoutModel",
          "model_module_version": "1.2.0",
          "state": {
            "_model_module": "@jupyter-widgets/base",
            "_model_module_version": "1.2.0",
            "_model_name": "LayoutModel",
            "_view_count": null,
            "_view_module": "@jupyter-widgets/base",
            "_view_module_version": "1.2.0",
            "_view_name": "LayoutView",
            "align_content": null,
            "align_items": null,
            "align_self": null,
            "border": null,
            "bottom": null,
            "display": null,
            "flex": null,
            "flex_flow": null,
            "grid_area": null,
            "grid_auto_columns": null,
            "grid_auto_flow": null,
            "grid_auto_rows": null,
            "grid_column": null,
            "grid_gap": null,
            "grid_row": null,
            "grid_template_areas": null,
            "grid_template_columns": null,
            "grid_template_rows": null,
            "height": null,
            "justify_content": null,
            "justify_items": null,
            "left": null,
            "margin": null,
            "max_height": null,
            "max_width": null,
            "min_height": null,
            "min_width": null,
            "object_fit": null,
            "object_position": null,
            "order": null,
            "overflow": null,
            "overflow_x": null,
            "overflow_y": null,
            "padding": null,
            "right": null,
            "top": null,
            "visibility": null,
            "width": null
          }
        },
        "e537088608f447fbbd8eaa97dbc263e2": {
          "model_module": "@jupyter-widgets/controls",
          "model_name": "DescriptionStyleModel",
          "model_module_version": "1.5.0",
          "state": {
            "_model_module": "@jupyter-widgets/controls",
            "_model_module_version": "1.5.0",
            "_model_name": "DescriptionStyleModel",
            "_view_count": null,
            "_view_module": "@jupyter-widgets/base",
            "_view_module_version": "1.2.0",
            "_view_name": "StyleView",
            "description_width": ""
          }
        },
        "3c3de08eda014bd7bcd83900bbbba0f4": {
          "model_module": "@jupyter-widgets/base",
          "model_name": "LayoutModel",
          "model_module_version": "1.2.0",
          "state": {
            "_model_module": "@jupyter-widgets/base",
            "_model_module_version": "1.2.0",
            "_model_name": "LayoutModel",
            "_view_count": null,
            "_view_module": "@jupyter-widgets/base",
            "_view_module_version": "1.2.0",
            "_view_name": "LayoutView",
            "align_content": null,
            "align_items": null,
            "align_self": null,
            "border": null,
            "bottom": null,
            "display": null,
            "flex": null,
            "flex_flow": null,
            "grid_area": null,
            "grid_auto_columns": null,
            "grid_auto_flow": null,
            "grid_auto_rows": null,
            "grid_column": null,
            "grid_gap": null,
            "grid_row": null,
            "grid_template_areas": null,
            "grid_template_columns": null,
            "grid_template_rows": null,
            "height": null,
            "justify_content": null,
            "justify_items": null,
            "left": null,
            "margin": null,
            "max_height": null,
            "max_width": null,
            "min_height": null,
            "min_width": null,
            "object_fit": null,
            "object_position": null,
            "order": null,
            "overflow": null,
            "overflow_x": null,
            "overflow_y": null,
            "padding": null,
            "right": null,
            "top": null,
            "visibility": null,
            "width": null
          }
        },
        "cf3043a2f98943778f2e9b44b004290e": {
          "model_module": "@jupyter-widgets/controls",
          "model_name": "ProgressStyleModel",
          "model_module_version": "1.5.0",
          "state": {
            "_model_module": "@jupyter-widgets/controls",
            "_model_module_version": "1.5.0",
            "_model_name": "ProgressStyleModel",
            "_view_count": null,
            "_view_module": "@jupyter-widgets/base",
            "_view_module_version": "1.2.0",
            "_view_name": "StyleView",
            "bar_color": null,
            "description_width": ""
          }
        },
        "88435feedb8c4fc8bf53128c07232a8d": {
          "model_module": "@jupyter-widgets/base",
          "model_name": "LayoutModel",
          "model_module_version": "1.2.0",
          "state": {
            "_model_module": "@jupyter-widgets/base",
            "_model_module_version": "1.2.0",
            "_model_name": "LayoutModel",
            "_view_count": null,
            "_view_module": "@jupyter-widgets/base",
            "_view_module_version": "1.2.0",
            "_view_name": "LayoutView",
            "align_content": null,
            "align_items": null,
            "align_self": null,
            "border": null,
            "bottom": null,
            "display": null,
            "flex": null,
            "flex_flow": null,
            "grid_area": null,
            "grid_auto_columns": null,
            "grid_auto_flow": null,
            "grid_auto_rows": null,
            "grid_column": null,
            "grid_gap": null,
            "grid_row": null,
            "grid_template_areas": null,
            "grid_template_columns": null,
            "grid_template_rows": null,
            "height": null,
            "justify_content": null,
            "justify_items": null,
            "left": null,
            "margin": null,
            "max_height": null,
            "max_width": null,
            "min_height": null,
            "min_width": null,
            "object_fit": null,
            "object_position": null,
            "order": null,
            "overflow": null,
            "overflow_x": null,
            "overflow_y": null,
            "padding": null,
            "right": null,
            "top": null,
            "visibility": null,
            "width": null
          }
        },
        "8e8ecff2660b48668ec70ed018d7ae25": {
          "model_module": "@jupyter-widgets/controls",
          "model_name": "DescriptionStyleModel",
          "model_module_version": "1.5.0",
          "state": {
            "_model_module": "@jupyter-widgets/controls",
            "_model_module_version": "1.5.0",
            "_model_name": "DescriptionStyleModel",
            "_view_count": null,
            "_view_module": "@jupyter-widgets/base",
            "_view_module_version": "1.2.0",
            "_view_name": "StyleView",
            "description_width": ""
          }
        },
        "90889b72e1e34baab45b83d5372d79de": {
          "model_module": "@jupyter-widgets/controls",
          "model_name": "HBoxModel",
          "model_module_version": "1.5.0",
          "state": {
            "_dom_classes": [],
            "_model_module": "@jupyter-widgets/controls",
            "_model_module_version": "1.5.0",
            "_model_name": "HBoxModel",
            "_view_count": null,
            "_view_module": "@jupyter-widgets/controls",
            "_view_module_version": "1.5.0",
            "_view_name": "HBoxView",
            "box_style": "",
            "children": [
              "IPY_MODEL_2f7fa40f606d431fbfe93ae9ddf17175",
              "IPY_MODEL_aa9a5da1e294422eb247fbdc520db3cc",
              "IPY_MODEL_2f4dd4493e93433e85e2bd49060413e4"
            ],
            "layout": "IPY_MODEL_cbba565f59d6436e95ae1c0d578e8534"
          }
        },
        "2f7fa40f606d431fbfe93ae9ddf17175": {
          "model_module": "@jupyter-widgets/controls",
          "model_name": "HTMLModel",
          "model_module_version": "1.5.0",
          "state": {
            "_dom_classes": [],
            "_model_module": "@jupyter-widgets/controls",
            "_model_module_version": "1.5.0",
            "_model_name": "HTMLModel",
            "_view_count": null,
            "_view_module": "@jupyter-widgets/controls",
            "_view_module_version": "1.5.0",
            "_view_name": "HTMLView",
            "description": "",
            "description_tooltip": null,
            "layout": "IPY_MODEL_690eb2269fb74e878f66a0274c326623",
            "placeholder": "​",
            "style": "IPY_MODEL_bc1a8a9f6fb343a19f602435ffa96b5c",
            "value": "special_tokens_map.json: 100%"
          }
        },
        "aa9a5da1e294422eb247fbdc520db3cc": {
          "model_module": "@jupyter-widgets/controls",
          "model_name": "FloatProgressModel",
          "model_module_version": "1.5.0",
          "state": {
            "_dom_classes": [],
            "_model_module": "@jupyter-widgets/controls",
            "_model_module_version": "1.5.0",
            "_model_name": "FloatProgressModel",
            "_view_count": null,
            "_view_module": "@jupyter-widgets/controls",
            "_view_module_version": "1.5.0",
            "_view_name": "ProgressView",
            "bar_style": "success",
            "description": "",
            "description_tooltip": null,
            "layout": "IPY_MODEL_efac21778d5e4de2977bef6add64866f",
            "max": 112,
            "min": 0,
            "orientation": "horizontal",
            "style": "IPY_MODEL_0539416972a34fe2b6f573a7ff06c638",
            "value": 112
          }
        },
        "2f4dd4493e93433e85e2bd49060413e4": {
          "model_module": "@jupyter-widgets/controls",
          "model_name": "HTMLModel",
          "model_module_version": "1.5.0",
          "state": {
            "_dom_classes": [],
            "_model_module": "@jupyter-widgets/controls",
            "_model_module_version": "1.5.0",
            "_model_name": "HTMLModel",
            "_view_count": null,
            "_view_module": "@jupyter-widgets/controls",
            "_view_module_version": "1.5.0",
            "_view_name": "HTMLView",
            "description": "",
            "description_tooltip": null,
            "layout": "IPY_MODEL_a9549e5c42144d98889158cd87d1a33e",
            "placeholder": "​",
            "style": "IPY_MODEL_d08dfb4d42fa4a9ba7eb18c804bc96b7",
            "value": " 112/112 [00:00&lt;00:00, 6.20kB/s]"
          }
        },
        "cbba565f59d6436e95ae1c0d578e8534": {
          "model_module": "@jupyter-widgets/base",
          "model_name": "LayoutModel",
          "model_module_version": "1.2.0",
          "state": {
            "_model_module": "@jupyter-widgets/base",
            "_model_module_version": "1.2.0",
            "_model_name": "LayoutModel",
            "_view_count": null,
            "_view_module": "@jupyter-widgets/base",
            "_view_module_version": "1.2.0",
            "_view_name": "LayoutView",
            "align_content": null,
            "align_items": null,
            "align_self": null,
            "border": null,
            "bottom": null,
            "display": null,
            "flex": null,
            "flex_flow": null,
            "grid_area": null,
            "grid_auto_columns": null,
            "grid_auto_flow": null,
            "grid_auto_rows": null,
            "grid_column": null,
            "grid_gap": null,
            "grid_row": null,
            "grid_template_areas": null,
            "grid_template_columns": null,
            "grid_template_rows": null,
            "height": null,
            "justify_content": null,
            "justify_items": null,
            "left": null,
            "margin": null,
            "max_height": null,
            "max_width": null,
            "min_height": null,
            "min_width": null,
            "object_fit": null,
            "object_position": null,
            "order": null,
            "overflow": null,
            "overflow_x": null,
            "overflow_y": null,
            "padding": null,
            "right": null,
            "top": null,
            "visibility": null,
            "width": null
          }
        },
        "690eb2269fb74e878f66a0274c326623": {
          "model_module": "@jupyter-widgets/base",
          "model_name": "LayoutModel",
          "model_module_version": "1.2.0",
          "state": {
            "_model_module": "@jupyter-widgets/base",
            "_model_module_version": "1.2.0",
            "_model_name": "LayoutModel",
            "_view_count": null,
            "_view_module": "@jupyter-widgets/base",
            "_view_module_version": "1.2.0",
            "_view_name": "LayoutView",
            "align_content": null,
            "align_items": null,
            "align_self": null,
            "border": null,
            "bottom": null,
            "display": null,
            "flex": null,
            "flex_flow": null,
            "grid_area": null,
            "grid_auto_columns": null,
            "grid_auto_flow": null,
            "grid_auto_rows": null,
            "grid_column": null,
            "grid_gap": null,
            "grid_row": null,
            "grid_template_areas": null,
            "grid_template_columns": null,
            "grid_template_rows": null,
            "height": null,
            "justify_content": null,
            "justify_items": null,
            "left": null,
            "margin": null,
            "max_height": null,
            "max_width": null,
            "min_height": null,
            "min_width": null,
            "object_fit": null,
            "object_position": null,
            "order": null,
            "overflow": null,
            "overflow_x": null,
            "overflow_y": null,
            "padding": null,
            "right": null,
            "top": null,
            "visibility": null,
            "width": null
          }
        },
        "bc1a8a9f6fb343a19f602435ffa96b5c": {
          "model_module": "@jupyter-widgets/controls",
          "model_name": "DescriptionStyleModel",
          "model_module_version": "1.5.0",
          "state": {
            "_model_module": "@jupyter-widgets/controls",
            "_model_module_version": "1.5.0",
            "_model_name": "DescriptionStyleModel",
            "_view_count": null,
            "_view_module": "@jupyter-widgets/base",
            "_view_module_version": "1.2.0",
            "_view_name": "StyleView",
            "description_width": ""
          }
        },
        "efac21778d5e4de2977bef6add64866f": {
          "model_module": "@jupyter-widgets/base",
          "model_name": "LayoutModel",
          "model_module_version": "1.2.0",
          "state": {
            "_model_module": "@jupyter-widgets/base",
            "_model_module_version": "1.2.0",
            "_model_name": "LayoutModel",
            "_view_count": null,
            "_view_module": "@jupyter-widgets/base",
            "_view_module_version": "1.2.0",
            "_view_name": "LayoutView",
            "align_content": null,
            "align_items": null,
            "align_self": null,
            "border": null,
            "bottom": null,
            "display": null,
            "flex": null,
            "flex_flow": null,
            "grid_area": null,
            "grid_auto_columns": null,
            "grid_auto_flow": null,
            "grid_auto_rows": null,
            "grid_column": null,
            "grid_gap": null,
            "grid_row": null,
            "grid_template_areas": null,
            "grid_template_columns": null,
            "grid_template_rows": null,
            "height": null,
            "justify_content": null,
            "justify_items": null,
            "left": null,
            "margin": null,
            "max_height": null,
            "max_width": null,
            "min_height": null,
            "min_width": null,
            "object_fit": null,
            "object_position": null,
            "order": null,
            "overflow": null,
            "overflow_x": null,
            "overflow_y": null,
            "padding": null,
            "right": null,
            "top": null,
            "visibility": null,
            "width": null
          }
        },
        "0539416972a34fe2b6f573a7ff06c638": {
          "model_module": "@jupyter-widgets/controls",
          "model_name": "ProgressStyleModel",
          "model_module_version": "1.5.0",
          "state": {
            "_model_module": "@jupyter-widgets/controls",
            "_model_module_version": "1.5.0",
            "_model_name": "ProgressStyleModel",
            "_view_count": null,
            "_view_module": "@jupyter-widgets/base",
            "_view_module_version": "1.2.0",
            "_view_name": "StyleView",
            "bar_color": null,
            "description_width": ""
          }
        },
        "a9549e5c42144d98889158cd87d1a33e": {
          "model_module": "@jupyter-widgets/base",
          "model_name": "LayoutModel",
          "model_module_version": "1.2.0",
          "state": {
            "_model_module": "@jupyter-widgets/base",
            "_model_module_version": "1.2.0",
            "_model_name": "LayoutModel",
            "_view_count": null,
            "_view_module": "@jupyter-widgets/base",
            "_view_module_version": "1.2.0",
            "_view_name": "LayoutView",
            "align_content": null,
            "align_items": null,
            "align_self": null,
            "border": null,
            "bottom": null,
            "display": null,
            "flex": null,
            "flex_flow": null,
            "grid_area": null,
            "grid_auto_columns": null,
            "grid_auto_flow": null,
            "grid_auto_rows": null,
            "grid_column": null,
            "grid_gap": null,
            "grid_row": null,
            "grid_template_areas": null,
            "grid_template_columns": null,
            "grid_template_rows": null,
            "height": null,
            "justify_content": null,
            "justify_items": null,
            "left": null,
            "margin": null,
            "max_height": null,
            "max_width": null,
            "min_height": null,
            "min_width": null,
            "object_fit": null,
            "object_position": null,
            "order": null,
            "overflow": null,
            "overflow_x": null,
            "overflow_y": null,
            "padding": null,
            "right": null,
            "top": null,
            "visibility": null,
            "width": null
          }
        },
        "d08dfb4d42fa4a9ba7eb18c804bc96b7": {
          "model_module": "@jupyter-widgets/controls",
          "model_name": "DescriptionStyleModel",
          "model_module_version": "1.5.0",
          "state": {
            "_model_module": "@jupyter-widgets/controls",
            "_model_module_version": "1.5.0",
            "_model_name": "DescriptionStyleModel",
            "_view_count": null,
            "_view_module": "@jupyter-widgets/base",
            "_view_module_version": "1.2.0",
            "_view_name": "StyleView",
            "description_width": ""
          }
        },
        "42d39fd5971b4853b409a076a9e4d5f3": {
          "model_module": "@jupyter-widgets/controls",
          "model_name": "HBoxModel",
          "model_module_version": "1.5.0",
          "state": {
            "_dom_classes": [],
            "_model_module": "@jupyter-widgets/controls",
            "_model_module_version": "1.5.0",
            "_model_name": "HBoxModel",
            "_view_count": null,
            "_view_module": "@jupyter-widgets/controls",
            "_view_module_version": "1.5.0",
            "_view_name": "HBoxView",
            "box_style": "",
            "children": [
              "IPY_MODEL_5c2f5a1015984ca1b39f6bd687fb70a5",
              "IPY_MODEL_efa920a478384a5ab233faec13219864",
              "IPY_MODEL_fd5c6d68a48a45fea91d61832e346f0f"
            ],
            "layout": "IPY_MODEL_4f1243137a1b4d4599c98b32ed7a304e"
          }
        },
        "5c2f5a1015984ca1b39f6bd687fb70a5": {
          "model_module": "@jupyter-widgets/controls",
          "model_name": "HTMLModel",
          "model_module_version": "1.5.0",
          "state": {
            "_dom_classes": [],
            "_model_module": "@jupyter-widgets/controls",
            "_model_module_version": "1.5.0",
            "_model_name": "HTMLModel",
            "_view_count": null,
            "_view_module": "@jupyter-widgets/controls",
            "_view_module_version": "1.5.0",
            "_view_name": "HTMLView",
            "description": "",
            "description_tooltip": null,
            "layout": "IPY_MODEL_74d594dcfa00417284570619f4f7e7e0",
            "placeholder": "​",
            "style": "IPY_MODEL_7edc552b27a1496aa036504d077064d2",
            "value": "pytorch_model.bin: 100%"
          }
        },
        "efa920a478384a5ab233faec13219864": {
          "model_module": "@jupyter-widgets/controls",
          "model_name": "FloatProgressModel",
          "model_module_version": "1.5.0",
          "state": {
            "_dom_classes": [],
            "_model_module": "@jupyter-widgets/controls",
            "_model_module_version": "1.5.0",
            "_model_name": "FloatProgressModel",
            "_view_count": null,
            "_view_module": "@jupyter-widgets/controls",
            "_view_module_version": "1.5.0",
            "_view_name": "ProgressView",
            "bar_style": "success",
            "description": "",
            "description_tooltip": null,
            "layout": "IPY_MODEL_3f94bf4a947e4a9d8af93240c60083f7",
            "max": 714355318,
            "min": 0,
            "orientation": "horizontal",
            "style": "IPY_MODEL_a2ac524e66474416a62c2576647d0dd8",
            "value": 714355318
          }
        },
        "fd5c6d68a48a45fea91d61832e346f0f": {
          "model_module": "@jupyter-widgets/controls",
          "model_name": "HTMLModel",
          "model_module_version": "1.5.0",
          "state": {
            "_dom_classes": [],
            "_model_module": "@jupyter-widgets/controls",
            "_model_module_version": "1.5.0",
            "_model_name": "HTMLModel",
            "_view_count": null,
            "_view_module": "@jupyter-widgets/controls",
            "_view_module_version": "1.5.0",
            "_view_name": "HTMLView",
            "description": "",
            "description_tooltip": null,
            "layout": "IPY_MODEL_b3fc6650abac4df98503550354eb7823",
            "placeholder": "​",
            "style": "IPY_MODEL_d66e29ead8e54ab79710c69888d1b3ed",
            "value": " 714M/714M [00:03&lt;00:00, 192MB/s]"
          }
        },
        "4f1243137a1b4d4599c98b32ed7a304e": {
          "model_module": "@jupyter-widgets/base",
          "model_name": "LayoutModel",
          "model_module_version": "1.2.0",
          "state": {
            "_model_module": "@jupyter-widgets/base",
            "_model_module_version": "1.2.0",
            "_model_name": "LayoutModel",
            "_view_count": null,
            "_view_module": "@jupyter-widgets/base",
            "_view_module_version": "1.2.0",
            "_view_name": "LayoutView",
            "align_content": null,
            "align_items": null,
            "align_self": null,
            "border": null,
            "bottom": null,
            "display": null,
            "flex": null,
            "flex_flow": null,
            "grid_area": null,
            "grid_auto_columns": null,
            "grid_auto_flow": null,
            "grid_auto_rows": null,
            "grid_column": null,
            "grid_gap": null,
            "grid_row": null,
            "grid_template_areas": null,
            "grid_template_columns": null,
            "grid_template_rows": null,
            "height": null,
            "justify_content": null,
            "justify_items": null,
            "left": null,
            "margin": null,
            "max_height": null,
            "max_width": null,
            "min_height": null,
            "min_width": null,
            "object_fit": null,
            "object_position": null,
            "order": null,
            "overflow": null,
            "overflow_x": null,
            "overflow_y": null,
            "padding": null,
            "right": null,
            "top": null,
            "visibility": null,
            "width": null
          }
        },
        "74d594dcfa00417284570619f4f7e7e0": {
          "model_module": "@jupyter-widgets/base",
          "model_name": "LayoutModel",
          "model_module_version": "1.2.0",
          "state": {
            "_model_module": "@jupyter-widgets/base",
            "_model_module_version": "1.2.0",
            "_model_name": "LayoutModel",
            "_view_count": null,
            "_view_module": "@jupyter-widgets/base",
            "_view_module_version": "1.2.0",
            "_view_name": "LayoutView",
            "align_content": null,
            "align_items": null,
            "align_self": null,
            "border": null,
            "bottom": null,
            "display": null,
            "flex": null,
            "flex_flow": null,
            "grid_area": null,
            "grid_auto_columns": null,
            "grid_auto_flow": null,
            "grid_auto_rows": null,
            "grid_column": null,
            "grid_gap": null,
            "grid_row": null,
            "grid_template_areas": null,
            "grid_template_columns": null,
            "grid_template_rows": null,
            "height": null,
            "justify_content": null,
            "justify_items": null,
            "left": null,
            "margin": null,
            "max_height": null,
            "max_width": null,
            "min_height": null,
            "min_width": null,
            "object_fit": null,
            "object_position": null,
            "order": null,
            "overflow": null,
            "overflow_x": null,
            "overflow_y": null,
            "padding": null,
            "right": null,
            "top": null,
            "visibility": null,
            "width": null
          }
        },
        "7edc552b27a1496aa036504d077064d2": {
          "model_module": "@jupyter-widgets/controls",
          "model_name": "DescriptionStyleModel",
          "model_module_version": "1.5.0",
          "state": {
            "_model_module": "@jupyter-widgets/controls",
            "_model_module_version": "1.5.0",
            "_model_name": "DescriptionStyleModel",
            "_view_count": null,
            "_view_module": "@jupyter-widgets/base",
            "_view_module_version": "1.2.0",
            "_view_name": "StyleView",
            "description_width": ""
          }
        },
        "3f94bf4a947e4a9d8af93240c60083f7": {
          "model_module": "@jupyter-widgets/base",
          "model_name": "LayoutModel",
          "model_module_version": "1.2.0",
          "state": {
            "_model_module": "@jupyter-widgets/base",
            "_model_module_version": "1.2.0",
            "_model_name": "LayoutModel",
            "_view_count": null,
            "_view_module": "@jupyter-widgets/base",
            "_view_module_version": "1.2.0",
            "_view_name": "LayoutView",
            "align_content": null,
            "align_items": null,
            "align_self": null,
            "border": null,
            "bottom": null,
            "display": null,
            "flex": null,
            "flex_flow": null,
            "grid_area": null,
            "grid_auto_columns": null,
            "grid_auto_flow": null,
            "grid_auto_rows": null,
            "grid_column": null,
            "grid_gap": null,
            "grid_row": null,
            "grid_template_areas": null,
            "grid_template_columns": null,
            "grid_template_rows": null,
            "height": null,
            "justify_content": null,
            "justify_items": null,
            "left": null,
            "margin": null,
            "max_height": null,
            "max_width": null,
            "min_height": null,
            "min_width": null,
            "object_fit": null,
            "object_position": null,
            "order": null,
            "overflow": null,
            "overflow_x": null,
            "overflow_y": null,
            "padding": null,
            "right": null,
            "top": null,
            "visibility": null,
            "width": null
          }
        },
        "a2ac524e66474416a62c2576647d0dd8": {
          "model_module": "@jupyter-widgets/controls",
          "model_name": "ProgressStyleModel",
          "model_module_version": "1.5.0",
          "state": {
            "_model_module": "@jupyter-widgets/controls",
            "_model_module_version": "1.5.0",
            "_model_name": "ProgressStyleModel",
            "_view_count": null,
            "_view_module": "@jupyter-widgets/base",
            "_view_module_version": "1.2.0",
            "_view_name": "StyleView",
            "bar_color": null,
            "description_width": ""
          }
        },
        "b3fc6650abac4df98503550354eb7823": {
          "model_module": "@jupyter-widgets/base",
          "model_name": "LayoutModel",
          "model_module_version": "1.2.0",
          "state": {
            "_model_module": "@jupyter-widgets/base",
            "_model_module_version": "1.2.0",
            "_model_name": "LayoutModel",
            "_view_count": null,
            "_view_module": "@jupyter-widgets/base",
            "_view_module_version": "1.2.0",
            "_view_name": "LayoutView",
            "align_content": null,
            "align_items": null,
            "align_self": null,
            "border": null,
            "bottom": null,
            "display": null,
            "flex": null,
            "flex_flow": null,
            "grid_area": null,
            "grid_auto_columns": null,
            "grid_auto_flow": null,
            "grid_auto_rows": null,
            "grid_column": null,
            "grid_gap": null,
            "grid_row": null,
            "grid_template_areas": null,
            "grid_template_columns": null,
            "grid_template_rows": null,
            "height": null,
            "justify_content": null,
            "justify_items": null,
            "left": null,
            "margin": null,
            "max_height": null,
            "max_width": null,
            "min_height": null,
            "min_width": null,
            "object_fit": null,
            "object_position": null,
            "order": null,
            "overflow": null,
            "overflow_x": null,
            "overflow_y": null,
            "padding": null,
            "right": null,
            "top": null,
            "visibility": null,
            "width": null
          }
        },
        "d66e29ead8e54ab79710c69888d1b3ed": {
          "model_module": "@jupyter-widgets/controls",
          "model_name": "DescriptionStyleModel",
          "model_module_version": "1.5.0",
          "state": {
            "_model_module": "@jupyter-widgets/controls",
            "_model_module_version": "1.5.0",
            "_model_name": "DescriptionStyleModel",
            "_view_count": null,
            "_view_module": "@jupyter-widgets/base",
            "_view_module_version": "1.2.0",
            "_view_name": "StyleView",
            "description_width": ""
          }
        },
        "11770ae14d0d4db989b1336aa4d081d7": {
          "model_module": "@jupyter-widgets/controls",
          "model_name": "HBoxModel",
          "model_module_version": "1.5.0",
          "state": {
            "_dom_classes": [],
            "_model_module": "@jupyter-widgets/controls",
            "_model_module_version": "1.5.0",
            "_model_name": "HBoxModel",
            "_view_count": null,
            "_view_module": "@jupyter-widgets/controls",
            "_view_module_version": "1.5.0",
            "_view_name": "HBoxView",
            "box_style": "",
            "children": [
              "IPY_MODEL_43b150d2fc2d41dd8a1c2e09977c8991",
              "IPY_MODEL_af000a48dd254310b3a91d504b120152",
              "IPY_MODEL_56a4d6d7d2d84c9caf7705ef69e8784f"
            ],
            "layout": "IPY_MODEL_bc2ab241748649babe2d647e483a87ce"
          }
        },
        "43b150d2fc2d41dd8a1c2e09977c8991": {
          "model_module": "@jupyter-widgets/controls",
          "model_name": "HTMLModel",
          "model_module_version": "1.5.0",
          "state": {
            "_dom_classes": [],
            "_model_module": "@jupyter-widgets/controls",
            "_model_module_version": "1.5.0",
            "_model_name": "HTMLModel",
            "_view_count": null,
            "_view_module": "@jupyter-widgets/controls",
            "_view_module_version": "1.5.0",
            "_view_name": "HTMLView",
            "description": "",
            "description_tooltip": null,
            "layout": "IPY_MODEL_7574975188904acf86891f3447c39324",
            "placeholder": "​",
            "style": "IPY_MODEL_31cf668de2694a9d843fb69412a037df",
            "value": "model.safetensors: 100%"
          }
        },
        "af000a48dd254310b3a91d504b120152": {
          "model_module": "@jupyter-widgets/controls",
          "model_name": "FloatProgressModel",
          "model_module_version": "1.5.0",
          "state": {
            "_dom_classes": [],
            "_model_module": "@jupyter-widgets/controls",
            "_model_module_version": "1.5.0",
            "_model_name": "FloatProgressModel",
            "_view_count": null,
            "_view_module": "@jupyter-widgets/controls",
            "_view_module_version": "1.5.0",
            "_view_name": "ProgressView",
            "bar_style": "success",
            "description": "",
            "description_tooltip": null,
            "layout": "IPY_MODEL_a193fee6c2d14051869c4809bfc2dd78",
            "max": 714294900,
            "min": 0,
            "orientation": "horizontal",
            "style": "IPY_MODEL_db0e39f5295d4801887df47b5bd489b0",
            "value": 714294900
          }
        },
        "56a4d6d7d2d84c9caf7705ef69e8784f": {
          "model_module": "@jupyter-widgets/controls",
          "model_name": "HTMLModel",
          "model_module_version": "1.5.0",
          "state": {
            "_dom_classes": [],
            "_model_module": "@jupyter-widgets/controls",
            "_model_module_version": "1.5.0",
            "_model_name": "HTMLModel",
            "_view_count": null,
            "_view_module": "@jupyter-widgets/controls",
            "_view_module_version": "1.5.0",
            "_view_name": "HTMLView",
            "description": "",
            "description_tooltip": null,
            "layout": "IPY_MODEL_1f2f6808605e4e49896a9c46e2a581c5",
            "placeholder": "​",
            "style": "IPY_MODEL_28b6c3149f1f40f5a6ca8cb85adaa129",
            "value": " 714M/714M [00:03&lt;00:00, 193MB/s]"
          }
        },
        "bc2ab241748649babe2d647e483a87ce": {
          "model_module": "@jupyter-widgets/base",
          "model_name": "LayoutModel",
          "model_module_version": "1.2.0",
          "state": {
            "_model_module": "@jupyter-widgets/base",
            "_model_module_version": "1.2.0",
            "_model_name": "LayoutModel",
            "_view_count": null,
            "_view_module": "@jupyter-widgets/base",
            "_view_module_version": "1.2.0",
            "_view_name": "LayoutView",
            "align_content": null,
            "align_items": null,
            "align_self": null,
            "border": null,
            "bottom": null,
            "display": null,
            "flex": null,
            "flex_flow": null,
            "grid_area": null,
            "grid_auto_columns": null,
            "grid_auto_flow": null,
            "grid_auto_rows": null,
            "grid_column": null,
            "grid_gap": null,
            "grid_row": null,
            "grid_template_areas": null,
            "grid_template_columns": null,
            "grid_template_rows": null,
            "height": null,
            "justify_content": null,
            "justify_items": null,
            "left": null,
            "margin": null,
            "max_height": null,
            "max_width": null,
            "min_height": null,
            "min_width": null,
            "object_fit": null,
            "object_position": null,
            "order": null,
            "overflow": null,
            "overflow_x": null,
            "overflow_y": null,
            "padding": null,
            "right": null,
            "top": null,
            "visibility": null,
            "width": null
          }
        },
        "7574975188904acf86891f3447c39324": {
          "model_module": "@jupyter-widgets/base",
          "model_name": "LayoutModel",
          "model_module_version": "1.2.0",
          "state": {
            "_model_module": "@jupyter-widgets/base",
            "_model_module_version": "1.2.0",
            "_model_name": "LayoutModel",
            "_view_count": null,
            "_view_module": "@jupyter-widgets/base",
            "_view_module_version": "1.2.0",
            "_view_name": "LayoutView",
            "align_content": null,
            "align_items": null,
            "align_self": null,
            "border": null,
            "bottom": null,
            "display": null,
            "flex": null,
            "flex_flow": null,
            "grid_area": null,
            "grid_auto_columns": null,
            "grid_auto_flow": null,
            "grid_auto_rows": null,
            "grid_column": null,
            "grid_gap": null,
            "grid_row": null,
            "grid_template_areas": null,
            "grid_template_columns": null,
            "grid_template_rows": null,
            "height": null,
            "justify_content": null,
            "justify_items": null,
            "left": null,
            "margin": null,
            "max_height": null,
            "max_width": null,
            "min_height": null,
            "min_width": null,
            "object_fit": null,
            "object_position": null,
            "order": null,
            "overflow": null,
            "overflow_x": null,
            "overflow_y": null,
            "padding": null,
            "right": null,
            "top": null,
            "visibility": null,
            "width": null
          }
        },
        "31cf668de2694a9d843fb69412a037df": {
          "model_module": "@jupyter-widgets/controls",
          "model_name": "DescriptionStyleModel",
          "model_module_version": "1.5.0",
          "state": {
            "_model_module": "@jupyter-widgets/controls",
            "_model_module_version": "1.5.0",
            "_model_name": "DescriptionStyleModel",
            "_view_count": null,
            "_view_module": "@jupyter-widgets/base",
            "_view_module_version": "1.2.0",
            "_view_name": "StyleView",
            "description_width": ""
          }
        },
        "a193fee6c2d14051869c4809bfc2dd78": {
          "model_module": "@jupyter-widgets/base",
          "model_name": "LayoutModel",
          "model_module_version": "1.2.0",
          "state": {
            "_model_module": "@jupyter-widgets/base",
            "_model_module_version": "1.2.0",
            "_model_name": "LayoutModel",
            "_view_count": null,
            "_view_module": "@jupyter-widgets/base",
            "_view_module_version": "1.2.0",
            "_view_name": "LayoutView",
            "align_content": null,
            "align_items": null,
            "align_self": null,
            "border": null,
            "bottom": null,
            "display": null,
            "flex": null,
            "flex_flow": null,
            "grid_area": null,
            "grid_auto_columns": null,
            "grid_auto_flow": null,
            "grid_auto_rows": null,
            "grid_column": null,
            "grid_gap": null,
            "grid_row": null,
            "grid_template_areas": null,
            "grid_template_columns": null,
            "grid_template_rows": null,
            "height": null,
            "justify_content": null,
            "justify_items": null,
            "left": null,
            "margin": null,
            "max_height": null,
            "max_width": null,
            "min_height": null,
            "min_width": null,
            "object_fit": null,
            "object_position": null,
            "order": null,
            "overflow": null,
            "overflow_x": null,
            "overflow_y": null,
            "padding": null,
            "right": null,
            "top": null,
            "visibility": null,
            "width": null
          }
        },
        "db0e39f5295d4801887df47b5bd489b0": {
          "model_module": "@jupyter-widgets/controls",
          "model_name": "ProgressStyleModel",
          "model_module_version": "1.5.0",
          "state": {
            "_model_module": "@jupyter-widgets/controls",
            "_model_module_version": "1.5.0",
            "_model_name": "ProgressStyleModel",
            "_view_count": null,
            "_view_module": "@jupyter-widgets/base",
            "_view_module_version": "1.2.0",
            "_view_name": "StyleView",
            "bar_color": null,
            "description_width": ""
          }
        },
        "1f2f6808605e4e49896a9c46e2a581c5": {
          "model_module": "@jupyter-widgets/base",
          "model_name": "LayoutModel",
          "model_module_version": "1.2.0",
          "state": {
            "_model_module": "@jupyter-widgets/base",
            "_model_module_version": "1.2.0",
            "_model_name": "LayoutModel",
            "_view_count": null,
            "_view_module": "@jupyter-widgets/base",
            "_view_module_version": "1.2.0",
            "_view_name": "LayoutView",
            "align_content": null,
            "align_items": null,
            "align_self": null,
            "border": null,
            "bottom": null,
            "display": null,
            "flex": null,
            "flex_flow": null,
            "grid_area": null,
            "grid_auto_columns": null,
            "grid_auto_flow": null,
            "grid_auto_rows": null,
            "grid_column": null,
            "grid_gap": null,
            "grid_row": null,
            "grid_template_areas": null,
            "grid_template_columns": null,
            "grid_template_rows": null,
            "height": null,
            "justify_content": null,
            "justify_items": null,
            "left": null,
            "margin": null,
            "max_height": null,
            "max_width": null,
            "min_height": null,
            "min_width": null,
            "object_fit": null,
            "object_position": null,
            "order": null,
            "overflow": null,
            "overflow_x": null,
            "overflow_y": null,
            "padding": null,
            "right": null,
            "top": null,
            "visibility": null,
            "width": null
          }
        },
        "28b6c3149f1f40f5a6ca8cb85adaa129": {
          "model_module": "@jupyter-widgets/controls",
          "model_name": "DescriptionStyleModel",
          "model_module_version": "1.5.0",
          "state": {
            "_model_module": "@jupyter-widgets/controls",
            "_model_module_version": "1.5.0",
            "_model_name": "DescriptionStyleModel",
            "_view_count": null,
            "_view_module": "@jupyter-widgets/base",
            "_view_module_version": "1.2.0",
            "_view_name": "StyleView",
            "description_width": ""
          }
        },
        "d28c4982aeab48e2bcb49f401fa9fc01": {
          "model_module": "@jupyter-widgets/controls",
          "model_name": "HBoxModel",
          "model_module_version": "1.5.0",
          "state": {
            "_dom_classes": [],
            "_model_module": "@jupyter-widgets/controls",
            "_model_module_version": "1.5.0",
            "_model_name": "HBoxModel",
            "_view_count": null,
            "_view_module": "@jupyter-widgets/controls",
            "_view_module_version": "1.5.0",
            "_view_name": "HBoxView",
            "box_style": "",
            "children": [
              "IPY_MODEL_b922a94848a543868474d93f9b804812",
              "IPY_MODEL_f0d53286681f45fe9726d78ff3276a3e",
              "IPY_MODEL_19566d56041344ed984c6ac207108e26"
            ],
            "layout": "IPY_MODEL_816b76d65d0449c99d4c53795e189816"
          }
        },
        "b922a94848a543868474d93f9b804812": {
          "model_module": "@jupyter-widgets/controls",
          "model_name": "HTMLModel",
          "model_module_version": "1.5.0",
          "state": {
            "_dom_classes": [],
            "_model_module": "@jupyter-widgets/controls",
            "_model_module_version": "1.5.0",
            "_model_name": "HTMLModel",
            "_view_count": null,
            "_view_module": "@jupyter-widgets/controls",
            "_view_module_version": "1.5.0",
            "_view_name": "HTMLView",
            "description": "",
            "description_tooltip": null,
            "layout": "IPY_MODEL_5661cc38ac24452db196b776c074f4fa",
            "placeholder": "​",
            "style": "IPY_MODEL_1d5662d13ca84f49827e735840348958",
            "value": "tokenizer_config.json: 100%"
          }
        },
        "f0d53286681f45fe9726d78ff3276a3e": {
          "model_module": "@jupyter-widgets/controls",
          "model_name": "FloatProgressModel",
          "model_module_version": "1.5.0",
          "state": {
            "_dom_classes": [],
            "_model_module": "@jupyter-widgets/controls",
            "_model_module_version": "1.5.0",
            "_model_name": "FloatProgressModel",
            "_view_count": null,
            "_view_module": "@jupyter-widgets/controls",
            "_view_module_version": "1.5.0",
            "_view_name": "ProgressView",
            "bar_style": "success",
            "description": "",
            "description_tooltip": null,
            "layout": "IPY_MODEL_575e611e21d146bab2f9841c341b296c",
            "max": 48,
            "min": 0,
            "orientation": "horizontal",
            "style": "IPY_MODEL_aa16d0d01a1245248bf8507e4bd306a0",
            "value": 48
          }
        },
        "19566d56041344ed984c6ac207108e26": {
          "model_module": "@jupyter-widgets/controls",
          "model_name": "HTMLModel",
          "model_module_version": "1.5.0",
          "state": {
            "_dom_classes": [],
            "_model_module": "@jupyter-widgets/controls",
            "_model_module_version": "1.5.0",
            "_model_name": "HTMLModel",
            "_view_count": null,
            "_view_module": "@jupyter-widgets/controls",
            "_view_module_version": "1.5.0",
            "_view_name": "HTMLView",
            "description": "",
            "description_tooltip": null,
            "layout": "IPY_MODEL_506941d35ceb4094aa616751003144a9",
            "placeholder": "​",
            "style": "IPY_MODEL_401188d7744d44f5803e7151dc00ab99",
            "value": " 48.0/48.0 [00:00&lt;00:00, 3.96kB/s]"
          }
        },
        "816b76d65d0449c99d4c53795e189816": {
          "model_module": "@jupyter-widgets/base",
          "model_name": "LayoutModel",
          "model_module_version": "1.2.0",
          "state": {
            "_model_module": "@jupyter-widgets/base",
            "_model_module_version": "1.2.0",
            "_model_name": "LayoutModel",
            "_view_count": null,
            "_view_module": "@jupyter-widgets/base",
            "_view_module_version": "1.2.0",
            "_view_name": "LayoutView",
            "align_content": null,
            "align_items": null,
            "align_self": null,
            "border": null,
            "bottom": null,
            "display": null,
            "flex": null,
            "flex_flow": null,
            "grid_area": null,
            "grid_auto_columns": null,
            "grid_auto_flow": null,
            "grid_auto_rows": null,
            "grid_column": null,
            "grid_gap": null,
            "grid_row": null,
            "grid_template_areas": null,
            "grid_template_columns": null,
            "grid_template_rows": null,
            "height": null,
            "justify_content": null,
            "justify_items": null,
            "left": null,
            "margin": null,
            "max_height": null,
            "max_width": null,
            "min_height": null,
            "min_width": null,
            "object_fit": null,
            "object_position": null,
            "order": null,
            "overflow": null,
            "overflow_x": null,
            "overflow_y": null,
            "padding": null,
            "right": null,
            "top": null,
            "visibility": null,
            "width": null
          }
        },
        "5661cc38ac24452db196b776c074f4fa": {
          "model_module": "@jupyter-widgets/base",
          "model_name": "LayoutModel",
          "model_module_version": "1.2.0",
          "state": {
            "_model_module": "@jupyter-widgets/base",
            "_model_module_version": "1.2.0",
            "_model_name": "LayoutModel",
            "_view_count": null,
            "_view_module": "@jupyter-widgets/base",
            "_view_module_version": "1.2.0",
            "_view_name": "LayoutView",
            "align_content": null,
            "align_items": null,
            "align_self": null,
            "border": null,
            "bottom": null,
            "display": null,
            "flex": null,
            "flex_flow": null,
            "grid_area": null,
            "grid_auto_columns": null,
            "grid_auto_flow": null,
            "grid_auto_rows": null,
            "grid_column": null,
            "grid_gap": null,
            "grid_row": null,
            "grid_template_areas": null,
            "grid_template_columns": null,
            "grid_template_rows": null,
            "height": null,
            "justify_content": null,
            "justify_items": null,
            "left": null,
            "margin": null,
            "max_height": null,
            "max_width": null,
            "min_height": null,
            "min_width": null,
            "object_fit": null,
            "object_position": null,
            "order": null,
            "overflow": null,
            "overflow_x": null,
            "overflow_y": null,
            "padding": null,
            "right": null,
            "top": null,
            "visibility": null,
            "width": null
          }
        },
        "1d5662d13ca84f49827e735840348958": {
          "model_module": "@jupyter-widgets/controls",
          "model_name": "DescriptionStyleModel",
          "model_module_version": "1.5.0",
          "state": {
            "_model_module": "@jupyter-widgets/controls",
            "_model_module_version": "1.5.0",
            "_model_name": "DescriptionStyleModel",
            "_view_count": null,
            "_view_module": "@jupyter-widgets/base",
            "_view_module_version": "1.2.0",
            "_view_name": "StyleView",
            "description_width": ""
          }
        },
        "575e611e21d146bab2f9841c341b296c": {
          "model_module": "@jupyter-widgets/base",
          "model_name": "LayoutModel",
          "model_module_version": "1.2.0",
          "state": {
            "_model_module": "@jupyter-widgets/base",
            "_model_module_version": "1.2.0",
            "_model_name": "LayoutModel",
            "_view_count": null,
            "_view_module": "@jupyter-widgets/base",
            "_view_module_version": "1.2.0",
            "_view_name": "LayoutView",
            "align_content": null,
            "align_items": null,
            "align_self": null,
            "border": null,
            "bottom": null,
            "display": null,
            "flex": null,
            "flex_flow": null,
            "grid_area": null,
            "grid_auto_columns": null,
            "grid_auto_flow": null,
            "grid_auto_rows": null,
            "grid_column": null,
            "grid_gap": null,
            "grid_row": null,
            "grid_template_areas": null,
            "grid_template_columns": null,
            "grid_template_rows": null,
            "height": null,
            "justify_content": null,
            "justify_items": null,
            "left": null,
            "margin": null,
            "max_height": null,
            "max_width": null,
            "min_height": null,
            "min_width": null,
            "object_fit": null,
            "object_position": null,
            "order": null,
            "overflow": null,
            "overflow_x": null,
            "overflow_y": null,
            "padding": null,
            "right": null,
            "top": null,
            "visibility": null,
            "width": null
          }
        },
        "aa16d0d01a1245248bf8507e4bd306a0": {
          "model_module": "@jupyter-widgets/controls",
          "model_name": "ProgressStyleModel",
          "model_module_version": "1.5.0",
          "state": {
            "_model_module": "@jupyter-widgets/controls",
            "_model_module_version": "1.5.0",
            "_model_name": "ProgressStyleModel",
            "_view_count": null,
            "_view_module": "@jupyter-widgets/base",
            "_view_module_version": "1.2.0",
            "_view_name": "StyleView",
            "bar_color": null,
            "description_width": ""
          }
        },
        "506941d35ceb4094aa616751003144a9": {
          "model_module": "@jupyter-widgets/base",
          "model_name": "LayoutModel",
          "model_module_version": "1.2.0",
          "state": {
            "_model_module": "@jupyter-widgets/base",
            "_model_module_version": "1.2.0",
            "_model_name": "LayoutModel",
            "_view_count": null,
            "_view_module": "@jupyter-widgets/base",
            "_view_module_version": "1.2.0",
            "_view_name": "LayoutView",
            "align_content": null,
            "align_items": null,
            "align_self": null,
            "border": null,
            "bottom": null,
            "display": null,
            "flex": null,
            "flex_flow": null,
            "grid_area": null,
            "grid_auto_columns": null,
            "grid_auto_flow": null,
            "grid_auto_rows": null,
            "grid_column": null,
            "grid_gap": null,
            "grid_row": null,
            "grid_template_areas": null,
            "grid_template_columns": null,
            "grid_template_rows": null,
            "height": null,
            "justify_content": null,
            "justify_items": null,
            "left": null,
            "margin": null,
            "max_height": null,
            "max_width": null,
            "min_height": null,
            "min_width": null,
            "object_fit": null,
            "object_position": null,
            "order": null,
            "overflow": null,
            "overflow_x": null,
            "overflow_y": null,
            "padding": null,
            "right": null,
            "top": null,
            "visibility": null,
            "width": null
          }
        },
        "401188d7744d44f5803e7151dc00ab99": {
          "model_module": "@jupyter-widgets/controls",
          "model_name": "DescriptionStyleModel",
          "model_module_version": "1.5.0",
          "state": {
            "_model_module": "@jupyter-widgets/controls",
            "_model_module_version": "1.5.0",
            "_model_name": "DescriptionStyleModel",
            "_view_count": null,
            "_view_module": "@jupyter-widgets/base",
            "_view_module_version": "1.2.0",
            "_view_name": "StyleView",
            "description_width": ""
          }
        },
        "23c839dd4d74477c9f0ee8de82f38601": {
          "model_module": "@jupyter-widgets/controls",
          "model_name": "HBoxModel",
          "model_module_version": "1.5.0",
          "state": {
            "_dom_classes": [],
            "_model_module": "@jupyter-widgets/controls",
            "_model_module_version": "1.5.0",
            "_model_name": "HBoxModel",
            "_view_count": null,
            "_view_module": "@jupyter-widgets/controls",
            "_view_module_version": "1.5.0",
            "_view_name": "HBoxView",
            "box_style": "",
            "children": [
              "IPY_MODEL_b4ca1375a2fc42be953466bea22c9bee",
              "IPY_MODEL_0db6c9177e744236a0d2d7f6f436aa66",
              "IPY_MODEL_c76f3f560b234102a6f53f6d4f8a753d"
            ],
            "layout": "IPY_MODEL_5e20a1b29ef14042b6b21dd42bc6e05e"
          }
        },
        "b4ca1375a2fc42be953466bea22c9bee": {
          "model_module": "@jupyter-widgets/controls",
          "model_name": "HTMLModel",
          "model_module_version": "1.5.0",
          "state": {
            "_dom_classes": [],
            "_model_module": "@jupyter-widgets/controls",
            "_model_module_version": "1.5.0",
            "_model_name": "HTMLModel",
            "_view_count": null,
            "_view_module": "@jupyter-widgets/controls",
            "_view_module_version": "1.5.0",
            "_view_name": "HTMLView",
            "description": "",
            "description_tooltip": null,
            "layout": "IPY_MODEL_d818ae5e982244f0b66b01987ea062d8",
            "placeholder": "​",
            "style": "IPY_MODEL_208d7ad279fd441bae092d274884f24a",
            "value": "config.json: 100%"
          }
        },
        "0db6c9177e744236a0d2d7f6f436aa66": {
          "model_module": "@jupyter-widgets/controls",
          "model_name": "FloatProgressModel",
          "model_module_version": "1.5.0",
          "state": {
            "_dom_classes": [],
            "_model_module": "@jupyter-widgets/controls",
            "_model_module_version": "1.5.0",
            "_model_name": "FloatProgressModel",
            "_view_count": null,
            "_view_module": "@jupyter-widgets/controls",
            "_view_module_version": "1.5.0",
            "_view_name": "ProgressView",
            "bar_style": "success",
            "description": "",
            "description_tooltip": null,
            "layout": "IPY_MODEL_9c146c3cb20b4e559d9585e8efbc9f81",
            "max": 625,
            "min": 0,
            "orientation": "horizontal",
            "style": "IPY_MODEL_c8a56e5cd41648e6903977a6fc156e36",
            "value": 625
          }
        },
        "c76f3f560b234102a6f53f6d4f8a753d": {
          "model_module": "@jupyter-widgets/controls",
          "model_name": "HTMLModel",
          "model_module_version": "1.5.0",
          "state": {
            "_dom_classes": [],
            "_model_module": "@jupyter-widgets/controls",
            "_model_module_version": "1.5.0",
            "_model_name": "HTMLModel",
            "_view_count": null,
            "_view_module": "@jupyter-widgets/controls",
            "_view_module_version": "1.5.0",
            "_view_name": "HTMLView",
            "description": "",
            "description_tooltip": null,
            "layout": "IPY_MODEL_d043ce9503a540d4b49781018c97cc00",
            "placeholder": "​",
            "style": "IPY_MODEL_6ee9874b030d4be3bd3c4a1ea88d919c",
            "value": " 625/625 [00:00&lt;00:00, 49.9kB/s]"
          }
        },
        "5e20a1b29ef14042b6b21dd42bc6e05e": {
          "model_module": "@jupyter-widgets/base",
          "model_name": "LayoutModel",
          "model_module_version": "1.2.0",
          "state": {
            "_model_module": "@jupyter-widgets/base",
            "_model_module_version": "1.2.0",
            "_model_name": "LayoutModel",
            "_view_count": null,
            "_view_module": "@jupyter-widgets/base",
            "_view_module_version": "1.2.0",
            "_view_name": "LayoutView",
            "align_content": null,
            "align_items": null,
            "align_self": null,
            "border": null,
            "bottom": null,
            "display": null,
            "flex": null,
            "flex_flow": null,
            "grid_area": null,
            "grid_auto_columns": null,
            "grid_auto_flow": null,
            "grid_auto_rows": null,
            "grid_column": null,
            "grid_gap": null,
            "grid_row": null,
            "grid_template_areas": null,
            "grid_template_columns": null,
            "grid_template_rows": null,
            "height": null,
            "justify_content": null,
            "justify_items": null,
            "left": null,
            "margin": null,
            "max_height": null,
            "max_width": null,
            "min_height": null,
            "min_width": null,
            "object_fit": null,
            "object_position": null,
            "order": null,
            "overflow": null,
            "overflow_x": null,
            "overflow_y": null,
            "padding": null,
            "right": null,
            "top": null,
            "visibility": null,
            "width": null
          }
        },
        "d818ae5e982244f0b66b01987ea062d8": {
          "model_module": "@jupyter-widgets/base",
          "model_name": "LayoutModel",
          "model_module_version": "1.2.0",
          "state": {
            "_model_module": "@jupyter-widgets/base",
            "_model_module_version": "1.2.0",
            "_model_name": "LayoutModel",
            "_view_count": null,
            "_view_module": "@jupyter-widgets/base",
            "_view_module_version": "1.2.0",
            "_view_name": "LayoutView",
            "align_content": null,
            "align_items": null,
            "align_self": null,
            "border": null,
            "bottom": null,
            "display": null,
            "flex": null,
            "flex_flow": null,
            "grid_area": null,
            "grid_auto_columns": null,
            "grid_auto_flow": null,
            "grid_auto_rows": null,
            "grid_column": null,
            "grid_gap": null,
            "grid_row": null,
            "grid_template_areas": null,
            "grid_template_columns": null,
            "grid_template_rows": null,
            "height": null,
            "justify_content": null,
            "justify_items": null,
            "left": null,
            "margin": null,
            "max_height": null,
            "max_width": null,
            "min_height": null,
            "min_width": null,
            "object_fit": null,
            "object_position": null,
            "order": null,
            "overflow": null,
            "overflow_x": null,
            "overflow_y": null,
            "padding": null,
            "right": null,
            "top": null,
            "visibility": null,
            "width": null
          }
        },
        "208d7ad279fd441bae092d274884f24a": {
          "model_module": "@jupyter-widgets/controls",
          "model_name": "DescriptionStyleModel",
          "model_module_version": "1.5.0",
          "state": {
            "_model_module": "@jupyter-widgets/controls",
            "_model_module_version": "1.5.0",
            "_model_name": "DescriptionStyleModel",
            "_view_count": null,
            "_view_module": "@jupyter-widgets/base",
            "_view_module_version": "1.2.0",
            "_view_name": "StyleView",
            "description_width": ""
          }
        },
        "9c146c3cb20b4e559d9585e8efbc9f81": {
          "model_module": "@jupyter-widgets/base",
          "model_name": "LayoutModel",
          "model_module_version": "1.2.0",
          "state": {
            "_model_module": "@jupyter-widgets/base",
            "_model_module_version": "1.2.0",
            "_model_name": "LayoutModel",
            "_view_count": null,
            "_view_module": "@jupyter-widgets/base",
            "_view_module_version": "1.2.0",
            "_view_name": "LayoutView",
            "align_content": null,
            "align_items": null,
            "align_self": null,
            "border": null,
            "bottom": null,
            "display": null,
            "flex": null,
            "flex_flow": null,
            "grid_area": null,
            "grid_auto_columns": null,
            "grid_auto_flow": null,
            "grid_auto_rows": null,
            "grid_column": null,
            "grid_gap": null,
            "grid_row": null,
            "grid_template_areas": null,
            "grid_template_columns": null,
            "grid_template_rows": null,
            "height": null,
            "justify_content": null,
            "justify_items": null,
            "left": null,
            "margin": null,
            "max_height": null,
            "max_width": null,
            "min_height": null,
            "min_width": null,
            "object_fit": null,
            "object_position": null,
            "order": null,
            "overflow": null,
            "overflow_x": null,
            "overflow_y": null,
            "padding": null,
            "right": null,
            "top": null,
            "visibility": null,
            "width": null
          }
        },
        "c8a56e5cd41648e6903977a6fc156e36": {
          "model_module": "@jupyter-widgets/controls",
          "model_name": "ProgressStyleModel",
          "model_module_version": "1.5.0",
          "state": {
            "_model_module": "@jupyter-widgets/controls",
            "_model_module_version": "1.5.0",
            "_model_name": "ProgressStyleModel",
            "_view_count": null,
            "_view_module": "@jupyter-widgets/base",
            "_view_module_version": "1.2.0",
            "_view_name": "StyleView",
            "bar_color": null,
            "description_width": ""
          }
        },
        "d043ce9503a540d4b49781018c97cc00": {
          "model_module": "@jupyter-widgets/base",
          "model_name": "LayoutModel",
          "model_module_version": "1.2.0",
          "state": {
            "_model_module": "@jupyter-widgets/base",
            "_model_module_version": "1.2.0",
            "_model_name": "LayoutModel",
            "_view_count": null,
            "_view_module": "@jupyter-widgets/base",
            "_view_module_version": "1.2.0",
            "_view_name": "LayoutView",
            "align_content": null,
            "align_items": null,
            "align_self": null,
            "border": null,
            "bottom": null,
            "display": null,
            "flex": null,
            "flex_flow": null,
            "grid_area": null,
            "grid_auto_columns": null,
            "grid_auto_flow": null,
            "grid_auto_rows": null,
            "grid_column": null,
            "grid_gap": null,
            "grid_row": null,
            "grid_template_areas": null,
            "grid_template_columns": null,
            "grid_template_rows": null,
            "height": null,
            "justify_content": null,
            "justify_items": null,
            "left": null,
            "margin": null,
            "max_height": null,
            "max_width": null,
            "min_height": null,
            "min_width": null,
            "object_fit": null,
            "object_position": null,
            "order": null,
            "overflow": null,
            "overflow_x": null,
            "overflow_y": null,
            "padding": null,
            "right": null,
            "top": null,
            "visibility": null,
            "width": null
          }
        },
        "6ee9874b030d4be3bd3c4a1ea88d919c": {
          "model_module": "@jupyter-widgets/controls",
          "model_name": "DescriptionStyleModel",
          "model_module_version": "1.5.0",
          "state": {
            "_model_module": "@jupyter-widgets/controls",
            "_model_module_version": "1.5.0",
            "_model_name": "DescriptionStyleModel",
            "_view_count": null,
            "_view_module": "@jupyter-widgets/base",
            "_view_module_version": "1.2.0",
            "_view_name": "StyleView",
            "description_width": ""
          }
        },
        "9dfd9b873f58466e8abe7ebdd262ebcf": {
          "model_module": "@jupyter-widgets/controls",
          "model_name": "HBoxModel",
          "model_module_version": "1.5.0",
          "state": {
            "_dom_classes": [],
            "_model_module": "@jupyter-widgets/controls",
            "_model_module_version": "1.5.0",
            "_model_name": "HBoxModel",
            "_view_count": null,
            "_view_module": "@jupyter-widgets/controls",
            "_view_module_version": "1.5.0",
            "_view_name": "HBoxView",
            "box_style": "",
            "children": [
              "IPY_MODEL_f56edd20e4b14458a722dd3207576a0f",
              "IPY_MODEL_cbd1b3696ad5403da679d6e473115b46",
              "IPY_MODEL_29c97ea7d6f04ef98305ca6857849f82"
            ],
            "layout": "IPY_MODEL_f14c607ed4694730a9c4ff70a01b96b0"
          }
        },
        "f56edd20e4b14458a722dd3207576a0f": {
          "model_module": "@jupyter-widgets/controls",
          "model_name": "HTMLModel",
          "model_module_version": "1.5.0",
          "state": {
            "_dom_classes": [],
            "_model_module": "@jupyter-widgets/controls",
            "_model_module_version": "1.5.0",
            "_model_name": "HTMLModel",
            "_view_count": null,
            "_view_module": "@jupyter-widgets/controls",
            "_view_module_version": "1.5.0",
            "_view_name": "HTMLView",
            "description": "",
            "description_tooltip": null,
            "layout": "IPY_MODEL_e15be5695ecf4f2699882498b20c6af8",
            "placeholder": "​",
            "style": "IPY_MODEL_fcc4dba3352049ee940d6d8ce83c611d",
            "value": "vocab.txt: 100%"
          }
        },
        "cbd1b3696ad5403da679d6e473115b46": {
          "model_module": "@jupyter-widgets/controls",
          "model_name": "FloatProgressModel",
          "model_module_version": "1.5.0",
          "state": {
            "_dom_classes": [],
            "_model_module": "@jupyter-widgets/controls",
            "_model_module_version": "1.5.0",
            "_model_name": "FloatProgressModel",
            "_view_count": null,
            "_view_module": "@jupyter-widgets/controls",
            "_view_module_version": "1.5.0",
            "_view_name": "ProgressView",
            "bar_style": "success",
            "description": "",
            "description_tooltip": null,
            "layout": "IPY_MODEL_9b8f83cee7db4807978dfab2cdde3f5b",
            "max": 871891,
            "min": 0,
            "orientation": "horizontal",
            "style": "IPY_MODEL_1dc234f519694222840a8d76b5a255cb",
            "value": 871891
          }
        },
        "29c97ea7d6f04ef98305ca6857849f82": {
          "model_module": "@jupyter-widgets/controls",
          "model_name": "HTMLModel",
          "model_module_version": "1.5.0",
          "state": {
            "_dom_classes": [],
            "_model_module": "@jupyter-widgets/controls",
            "_model_module_version": "1.5.0",
            "_model_name": "HTMLModel",
            "_view_count": null,
            "_view_module": "@jupyter-widgets/controls",
            "_view_module_version": "1.5.0",
            "_view_name": "HTMLView",
            "description": "",
            "description_tooltip": null,
            "layout": "IPY_MODEL_db87ee4f1c04432892b3611070b8dcff",
            "placeholder": "​",
            "style": "IPY_MODEL_8cba1efd85774e95b536ff6c89297d2c",
            "value": " 872k/872k [00:00&lt;00:00, 9.86MB/s]"
          }
        },
        "f14c607ed4694730a9c4ff70a01b96b0": {
          "model_module": "@jupyter-widgets/base",
          "model_name": "LayoutModel",
          "model_module_version": "1.2.0",
          "state": {
            "_model_module": "@jupyter-widgets/base",
            "_model_module_version": "1.2.0",
            "_model_name": "LayoutModel",
            "_view_count": null,
            "_view_module": "@jupyter-widgets/base",
            "_view_module_version": "1.2.0",
            "_view_name": "LayoutView",
            "align_content": null,
            "align_items": null,
            "align_self": null,
            "border": null,
            "bottom": null,
            "display": null,
            "flex": null,
            "flex_flow": null,
            "grid_area": null,
            "grid_auto_columns": null,
            "grid_auto_flow": null,
            "grid_auto_rows": null,
            "grid_column": null,
            "grid_gap": null,
            "grid_row": null,
            "grid_template_areas": null,
            "grid_template_columns": null,
            "grid_template_rows": null,
            "height": null,
            "justify_content": null,
            "justify_items": null,
            "left": null,
            "margin": null,
            "max_height": null,
            "max_width": null,
            "min_height": null,
            "min_width": null,
            "object_fit": null,
            "object_position": null,
            "order": null,
            "overflow": null,
            "overflow_x": null,
            "overflow_y": null,
            "padding": null,
            "right": null,
            "top": null,
            "visibility": null,
            "width": null
          }
        },
        "e15be5695ecf4f2699882498b20c6af8": {
          "model_module": "@jupyter-widgets/base",
          "model_name": "LayoutModel",
          "model_module_version": "1.2.0",
          "state": {
            "_model_module": "@jupyter-widgets/base",
            "_model_module_version": "1.2.0",
            "_model_name": "LayoutModel",
            "_view_count": null,
            "_view_module": "@jupyter-widgets/base",
            "_view_module_version": "1.2.0",
            "_view_name": "LayoutView",
            "align_content": null,
            "align_items": null,
            "align_self": null,
            "border": null,
            "bottom": null,
            "display": null,
            "flex": null,
            "flex_flow": null,
            "grid_area": null,
            "grid_auto_columns": null,
            "grid_auto_flow": null,
            "grid_auto_rows": null,
            "grid_column": null,
            "grid_gap": null,
            "grid_row": null,
            "grid_template_areas": null,
            "grid_template_columns": null,
            "grid_template_rows": null,
            "height": null,
            "justify_content": null,
            "justify_items": null,
            "left": null,
            "margin": null,
            "max_height": null,
            "max_width": null,
            "min_height": null,
            "min_width": null,
            "object_fit": null,
            "object_position": null,
            "order": null,
            "overflow": null,
            "overflow_x": null,
            "overflow_y": null,
            "padding": null,
            "right": null,
            "top": null,
            "visibility": null,
            "width": null
          }
        },
        "fcc4dba3352049ee940d6d8ce83c611d": {
          "model_module": "@jupyter-widgets/controls",
          "model_name": "DescriptionStyleModel",
          "model_module_version": "1.5.0",
          "state": {
            "_model_module": "@jupyter-widgets/controls",
            "_model_module_version": "1.5.0",
            "_model_name": "DescriptionStyleModel",
            "_view_count": null,
            "_view_module": "@jupyter-widgets/base",
            "_view_module_version": "1.2.0",
            "_view_name": "StyleView",
            "description_width": ""
          }
        },
        "9b8f83cee7db4807978dfab2cdde3f5b": {
          "model_module": "@jupyter-widgets/base",
          "model_name": "LayoutModel",
          "model_module_version": "1.2.0",
          "state": {
            "_model_module": "@jupyter-widgets/base",
            "_model_module_version": "1.2.0",
            "_model_name": "LayoutModel",
            "_view_count": null,
            "_view_module": "@jupyter-widgets/base",
            "_view_module_version": "1.2.0",
            "_view_name": "LayoutView",
            "align_content": null,
            "align_items": null,
            "align_self": null,
            "border": null,
            "bottom": null,
            "display": null,
            "flex": null,
            "flex_flow": null,
            "grid_area": null,
            "grid_auto_columns": null,
            "grid_auto_flow": null,
            "grid_auto_rows": null,
            "grid_column": null,
            "grid_gap": null,
            "grid_row": null,
            "grid_template_areas": null,
            "grid_template_columns": null,
            "grid_template_rows": null,
            "height": null,
            "justify_content": null,
            "justify_items": null,
            "left": null,
            "margin": null,
            "max_height": null,
            "max_width": null,
            "min_height": null,
            "min_width": null,
            "object_fit": null,
            "object_position": null,
            "order": null,
            "overflow": null,
            "overflow_x": null,
            "overflow_y": null,
            "padding": null,
            "right": null,
            "top": null,
            "visibility": null,
            "width": null
          }
        },
        "1dc234f519694222840a8d76b5a255cb": {
          "model_module": "@jupyter-widgets/controls",
          "model_name": "ProgressStyleModel",
          "model_module_version": "1.5.0",
          "state": {
            "_model_module": "@jupyter-widgets/controls",
            "_model_module_version": "1.5.0",
            "_model_name": "ProgressStyleModel",
            "_view_count": null,
            "_view_module": "@jupyter-widgets/base",
            "_view_module_version": "1.2.0",
            "_view_name": "StyleView",
            "bar_color": null,
            "description_width": ""
          }
        },
        "db87ee4f1c04432892b3611070b8dcff": {
          "model_module": "@jupyter-widgets/base",
          "model_name": "LayoutModel",
          "model_module_version": "1.2.0",
          "state": {
            "_model_module": "@jupyter-widgets/base",
            "_model_module_version": "1.2.0",
            "_model_name": "LayoutModel",
            "_view_count": null,
            "_view_module": "@jupyter-widgets/base",
            "_view_module_version": "1.2.0",
            "_view_name": "LayoutView",
            "align_content": null,
            "align_items": null,
            "align_self": null,
            "border": null,
            "bottom": null,
            "display": null,
            "flex": null,
            "flex_flow": null,
            "grid_area": null,
            "grid_auto_columns": null,
            "grid_auto_flow": null,
            "grid_auto_rows": null,
            "grid_column": null,
            "grid_gap": null,
            "grid_row": null,
            "grid_template_areas": null,
            "grid_template_columns": null,
            "grid_template_rows": null,
            "height": null,
            "justify_content": null,
            "justify_items": null,
            "left": null,
            "margin": null,
            "max_height": null,
            "max_width": null,
            "min_height": null,
            "min_width": null,
            "object_fit": null,
            "object_position": null,
            "order": null,
            "overflow": null,
            "overflow_x": null,
            "overflow_y": null,
            "padding": null,
            "right": null,
            "top": null,
            "visibility": null,
            "width": null
          }
        },
        "8cba1efd85774e95b536ff6c89297d2c": {
          "model_module": "@jupyter-widgets/controls",
          "model_name": "DescriptionStyleModel",
          "model_module_version": "1.5.0",
          "state": {
            "_model_module": "@jupyter-widgets/controls",
            "_model_module_version": "1.5.0",
            "_model_name": "DescriptionStyleModel",
            "_view_count": null,
            "_view_module": "@jupyter-widgets/base",
            "_view_module_version": "1.2.0",
            "_view_name": "StyleView",
            "description_width": ""
          }
        },
        "a13fb8b0628f42ee809e54b2ff1e86ac": {
          "model_module": "@jupyter-widgets/controls",
          "model_name": "HBoxModel",
          "model_module_version": "1.5.0",
          "state": {
            "_dom_classes": [],
            "_model_module": "@jupyter-widgets/controls",
            "_model_module_version": "1.5.0",
            "_model_name": "HBoxModel",
            "_view_count": null,
            "_view_module": "@jupyter-widgets/controls",
            "_view_module_version": "1.5.0",
            "_view_name": "HBoxView",
            "box_style": "",
            "children": [
              "IPY_MODEL_8643437e961a44d4b02d30179d577967",
              "IPY_MODEL_c4460ae6be474d5180e587d399b31839",
              "IPY_MODEL_bb28ccf9ff344ecdbe3793bbda295e37"
            ],
            "layout": "IPY_MODEL_76302c30c011461b8ce626f43d2f650c"
          }
        },
        "8643437e961a44d4b02d30179d577967": {
          "model_module": "@jupyter-widgets/controls",
          "model_name": "HTMLModel",
          "model_module_version": "1.5.0",
          "state": {
            "_dom_classes": [],
            "_model_module": "@jupyter-widgets/controls",
            "_model_module_version": "1.5.0",
            "_model_name": "HTMLModel",
            "_view_count": null,
            "_view_module": "@jupyter-widgets/controls",
            "_view_module_version": "1.5.0",
            "_view_name": "HTMLView",
            "description": "",
            "description_tooltip": null,
            "layout": "IPY_MODEL_e7457eba628c4207b18bbf7fb7eac97e",
            "placeholder": "​",
            "style": "IPY_MODEL_1b69b24a24df4239812e3845d8aa3dfc",
            "value": "tokenizer.json: 100%"
          }
        },
        "c4460ae6be474d5180e587d399b31839": {
          "model_module": "@jupyter-widgets/controls",
          "model_name": "FloatProgressModel",
          "model_module_version": "1.5.0",
          "state": {
            "_dom_classes": [],
            "_model_module": "@jupyter-widgets/controls",
            "_model_module_version": "1.5.0",
            "_model_name": "FloatProgressModel",
            "_view_count": null,
            "_view_module": "@jupyter-widgets/controls",
            "_view_module_version": "1.5.0",
            "_view_name": "ProgressView",
            "bar_style": "success",
            "description": "",
            "description_tooltip": null,
            "layout": "IPY_MODEL_ab63c55a282c4e7986e283ffec33f14b",
            "max": 1715180,
            "min": 0,
            "orientation": "horizontal",
            "style": "IPY_MODEL_540922107c874fb6a3748e879453013e",
            "value": 1715180
          }
        },
        "bb28ccf9ff344ecdbe3793bbda295e37": {
          "model_module": "@jupyter-widgets/controls",
          "model_name": "HTMLModel",
          "model_module_version": "1.5.0",
          "state": {
            "_dom_classes": [],
            "_model_module": "@jupyter-widgets/controls",
            "_model_module_version": "1.5.0",
            "_model_name": "HTMLModel",
            "_view_count": null,
            "_view_module": "@jupyter-widgets/controls",
            "_view_module_version": "1.5.0",
            "_view_name": "HTMLView",
            "description": "",
            "description_tooltip": null,
            "layout": "IPY_MODEL_9e7515768bf643439fe147b2da499f43",
            "placeholder": "​",
            "style": "IPY_MODEL_ba0abfc2f0a84c18ad566a2efd9366a7",
            "value": " 1.72M/1.72M [00:00&lt;00:00, 3.97MB/s]"
          }
        },
        "76302c30c011461b8ce626f43d2f650c": {
          "model_module": "@jupyter-widgets/base",
          "model_name": "LayoutModel",
          "model_module_version": "1.2.0",
          "state": {
            "_model_module": "@jupyter-widgets/base",
            "_model_module_version": "1.2.0",
            "_model_name": "LayoutModel",
            "_view_count": null,
            "_view_module": "@jupyter-widgets/base",
            "_view_module_version": "1.2.0",
            "_view_name": "LayoutView",
            "align_content": null,
            "align_items": null,
            "align_self": null,
            "border": null,
            "bottom": null,
            "display": null,
            "flex": null,
            "flex_flow": null,
            "grid_area": null,
            "grid_auto_columns": null,
            "grid_auto_flow": null,
            "grid_auto_rows": null,
            "grid_column": null,
            "grid_gap": null,
            "grid_row": null,
            "grid_template_areas": null,
            "grid_template_columns": null,
            "grid_template_rows": null,
            "height": null,
            "justify_content": null,
            "justify_items": null,
            "left": null,
            "margin": null,
            "max_height": null,
            "max_width": null,
            "min_height": null,
            "min_width": null,
            "object_fit": null,
            "object_position": null,
            "order": null,
            "overflow": null,
            "overflow_x": null,
            "overflow_y": null,
            "padding": null,
            "right": null,
            "top": null,
            "visibility": null,
            "width": null
          }
        },
        "e7457eba628c4207b18bbf7fb7eac97e": {
          "model_module": "@jupyter-widgets/base",
          "model_name": "LayoutModel",
          "model_module_version": "1.2.0",
          "state": {
            "_model_module": "@jupyter-widgets/base",
            "_model_module_version": "1.2.0",
            "_model_name": "LayoutModel",
            "_view_count": null,
            "_view_module": "@jupyter-widgets/base",
            "_view_module_version": "1.2.0",
            "_view_name": "LayoutView",
            "align_content": null,
            "align_items": null,
            "align_self": null,
            "border": null,
            "bottom": null,
            "display": null,
            "flex": null,
            "flex_flow": null,
            "grid_area": null,
            "grid_auto_columns": null,
            "grid_auto_flow": null,
            "grid_auto_rows": null,
            "grid_column": null,
            "grid_gap": null,
            "grid_row": null,
            "grid_template_areas": null,
            "grid_template_columns": null,
            "grid_template_rows": null,
            "height": null,
            "justify_content": null,
            "justify_items": null,
            "left": null,
            "margin": null,
            "max_height": null,
            "max_width": null,
            "min_height": null,
            "min_width": null,
            "object_fit": null,
            "object_position": null,
            "order": null,
            "overflow": null,
            "overflow_x": null,
            "overflow_y": null,
            "padding": null,
            "right": null,
            "top": null,
            "visibility": null,
            "width": null
          }
        },
        "1b69b24a24df4239812e3845d8aa3dfc": {
          "model_module": "@jupyter-widgets/controls",
          "model_name": "DescriptionStyleModel",
          "model_module_version": "1.5.0",
          "state": {
            "_model_module": "@jupyter-widgets/controls",
            "_model_module_version": "1.5.0",
            "_model_name": "DescriptionStyleModel",
            "_view_count": null,
            "_view_module": "@jupyter-widgets/base",
            "_view_module_version": "1.2.0",
            "_view_name": "StyleView",
            "description_width": ""
          }
        },
        "ab63c55a282c4e7986e283ffec33f14b": {
          "model_module": "@jupyter-widgets/base",
          "model_name": "LayoutModel",
          "model_module_version": "1.2.0",
          "state": {
            "_model_module": "@jupyter-widgets/base",
            "_model_module_version": "1.2.0",
            "_model_name": "LayoutModel",
            "_view_count": null,
            "_view_module": "@jupyter-widgets/base",
            "_view_module_version": "1.2.0",
            "_view_name": "LayoutView",
            "align_content": null,
            "align_items": null,
            "align_self": null,
            "border": null,
            "bottom": null,
            "display": null,
            "flex": null,
            "flex_flow": null,
            "grid_area": null,
            "grid_auto_columns": null,
            "grid_auto_flow": null,
            "grid_auto_rows": null,
            "grid_column": null,
            "grid_gap": null,
            "grid_row": null,
            "grid_template_areas": null,
            "grid_template_columns": null,
            "grid_template_rows": null,
            "height": null,
            "justify_content": null,
            "justify_items": null,
            "left": null,
            "margin": null,
            "max_height": null,
            "max_width": null,
            "min_height": null,
            "min_width": null,
            "object_fit": null,
            "object_position": null,
            "order": null,
            "overflow": null,
            "overflow_x": null,
            "overflow_y": null,
            "padding": null,
            "right": null,
            "top": null,
            "visibility": null,
            "width": null
          }
        },
        "540922107c874fb6a3748e879453013e": {
          "model_module": "@jupyter-widgets/controls",
          "model_name": "ProgressStyleModel",
          "model_module_version": "1.5.0",
          "state": {
            "_model_module": "@jupyter-widgets/controls",
            "_model_module_version": "1.5.0",
            "_model_name": "ProgressStyleModel",
            "_view_count": null,
            "_view_module": "@jupyter-widgets/base",
            "_view_module_version": "1.2.0",
            "_view_name": "StyleView",
            "bar_color": null,
            "description_width": ""
          }
        },
        "9e7515768bf643439fe147b2da499f43": {
          "model_module": "@jupyter-widgets/base",
          "model_name": "LayoutModel",
          "model_module_version": "1.2.0",
          "state": {
            "_model_module": "@jupyter-widgets/base",
            "_model_module_version": "1.2.0",
            "_model_name": "LayoutModel",
            "_view_count": null,
            "_view_module": "@jupyter-widgets/base",
            "_view_module_version": "1.2.0",
            "_view_name": "LayoutView",
            "align_content": null,
            "align_items": null,
            "align_self": null,
            "border": null,
            "bottom": null,
            "display": null,
            "flex": null,
            "flex_flow": null,
            "grid_area": null,
            "grid_auto_columns": null,
            "grid_auto_flow": null,
            "grid_auto_rows": null,
            "grid_column": null,
            "grid_gap": null,
            "grid_row": null,
            "grid_template_areas": null,
            "grid_template_columns": null,
            "grid_template_rows": null,
            "height": null,
            "justify_content": null,
            "justify_items": null,
            "left": null,
            "margin": null,
            "max_height": null,
            "max_width": null,
            "min_height": null,
            "min_width": null,
            "object_fit": null,
            "object_position": null,
            "order": null,
            "overflow": null,
            "overflow_x": null,
            "overflow_y": null,
            "padding": null,
            "right": null,
            "top": null,
            "visibility": null,
            "width": null
          }
        },
        "ba0abfc2f0a84c18ad566a2efd9366a7": {
          "model_module": "@jupyter-widgets/controls",
          "model_name": "DescriptionStyleModel",
          "model_module_version": "1.5.0",
          "state": {
            "_model_module": "@jupyter-widgets/controls",
            "_model_module_version": "1.5.0",
            "_model_name": "DescriptionStyleModel",
            "_view_count": null,
            "_view_module": "@jupyter-widgets/base",
            "_view_module_version": "1.2.0",
            "_view_name": "StyleView",
            "description_width": ""
          }
        },
        "87d595aefb8f40bcbec59208d9cd835a": {
          "model_module": "@jupyter-widgets/controls",
          "model_name": "HBoxModel",
          "model_module_version": "1.5.0",
          "state": {
            "_dom_classes": [],
            "_model_module": "@jupyter-widgets/controls",
            "_model_module_version": "1.5.0",
            "_model_name": "HBoxModel",
            "_view_count": null,
            "_view_module": "@jupyter-widgets/controls",
            "_view_module_version": "1.5.0",
            "_view_name": "HBoxView",
            "box_style": "",
            "children": [
              "IPY_MODEL_2d78ae54a245456b885b19b84f0ae749",
              "IPY_MODEL_c7ff35d679bf46a3bdee41cf7e220f6d",
              "IPY_MODEL_a21a9916e4264843bed2e6dd0ee7c5ea"
            ],
            "layout": "IPY_MODEL_ca24a36ea35148b58a15a1044e2ff2d2"
          }
        },
        "2d78ae54a245456b885b19b84f0ae749": {
          "model_module": "@jupyter-widgets/controls",
          "model_name": "HTMLModel",
          "model_module_version": "1.5.0",
          "state": {
            "_dom_classes": [],
            "_model_module": "@jupyter-widgets/controls",
            "_model_module_version": "1.5.0",
            "_model_name": "HTMLModel",
            "_view_count": null,
            "_view_module": "@jupyter-widgets/controls",
            "_view_module_version": "1.5.0",
            "_view_name": "HTMLView",
            "description": "",
            "description_tooltip": null,
            "layout": "IPY_MODEL_eb8e18e15aac4c75b90fe786c9bad5cb",
            "placeholder": "​",
            "style": "IPY_MODEL_451dbbb74bf74478a1821e2df2130b72",
            "value": "model.safetensors: 100%"
          }
        },
        "c7ff35d679bf46a3bdee41cf7e220f6d": {
          "model_module": "@jupyter-widgets/controls",
          "model_name": "FloatProgressModel",
          "model_module_version": "1.5.0",
          "state": {
            "_dom_classes": [],
            "_model_module": "@jupyter-widgets/controls",
            "_model_module_version": "1.5.0",
            "_model_name": "FloatProgressModel",
            "_view_count": null,
            "_view_module": "@jupyter-widgets/controls",
            "_view_module_version": "1.5.0",
            "_view_name": "ProgressView",
            "bar_style": "success",
            "description": "",
            "description_tooltip": null,
            "layout": "IPY_MODEL_ce0bdb5b465a4eaa9e6ea8e5bbabc20c",
            "max": 672247920,
            "min": 0,
            "orientation": "horizontal",
            "style": "IPY_MODEL_8b4412d50b7648588c95d3de5033d9fb",
            "value": 672247920
          }
        },
        "a21a9916e4264843bed2e6dd0ee7c5ea": {
          "model_module": "@jupyter-widgets/controls",
          "model_name": "HTMLModel",
          "model_module_version": "1.5.0",
          "state": {
            "_dom_classes": [],
            "_model_module": "@jupyter-widgets/controls",
            "_model_module_version": "1.5.0",
            "_model_name": "HTMLModel",
            "_view_count": null,
            "_view_module": "@jupyter-widgets/controls",
            "_view_module_version": "1.5.0",
            "_view_name": "HTMLView",
            "description": "",
            "description_tooltip": null,
            "layout": "IPY_MODEL_6eff0c4ce4d84c25999a7c69f12b3a0d",
            "placeholder": "​",
            "style": "IPY_MODEL_b789f21615aa498d9174414aad391374",
            "value": " 672M/672M [00:04&lt;00:00, 160MB/s]"
          }
        },
        "ca24a36ea35148b58a15a1044e2ff2d2": {
          "model_module": "@jupyter-widgets/base",
          "model_name": "LayoutModel",
          "model_module_version": "1.2.0",
          "state": {
            "_model_module": "@jupyter-widgets/base",
            "_model_module_version": "1.2.0",
            "_model_name": "LayoutModel",
            "_view_count": null,
            "_view_module": "@jupyter-widgets/base",
            "_view_module_version": "1.2.0",
            "_view_name": "LayoutView",
            "align_content": null,
            "align_items": null,
            "align_self": null,
            "border": null,
            "bottom": null,
            "display": null,
            "flex": null,
            "flex_flow": null,
            "grid_area": null,
            "grid_auto_columns": null,
            "grid_auto_flow": null,
            "grid_auto_rows": null,
            "grid_column": null,
            "grid_gap": null,
            "grid_row": null,
            "grid_template_areas": null,
            "grid_template_columns": null,
            "grid_template_rows": null,
            "height": null,
            "justify_content": null,
            "justify_items": null,
            "left": null,
            "margin": null,
            "max_height": null,
            "max_width": null,
            "min_height": null,
            "min_width": null,
            "object_fit": null,
            "object_position": null,
            "order": null,
            "overflow": null,
            "overflow_x": null,
            "overflow_y": null,
            "padding": null,
            "right": null,
            "top": null,
            "visibility": null,
            "width": null
          }
        },
        "eb8e18e15aac4c75b90fe786c9bad5cb": {
          "model_module": "@jupyter-widgets/base",
          "model_name": "LayoutModel",
          "model_module_version": "1.2.0",
          "state": {
            "_model_module": "@jupyter-widgets/base",
            "_model_module_version": "1.2.0",
            "_model_name": "LayoutModel",
            "_view_count": null,
            "_view_module": "@jupyter-widgets/base",
            "_view_module_version": "1.2.0",
            "_view_name": "LayoutView",
            "align_content": null,
            "align_items": null,
            "align_self": null,
            "border": null,
            "bottom": null,
            "display": null,
            "flex": null,
            "flex_flow": null,
            "grid_area": null,
            "grid_auto_columns": null,
            "grid_auto_flow": null,
            "grid_auto_rows": null,
            "grid_column": null,
            "grid_gap": null,
            "grid_row": null,
            "grid_template_areas": null,
            "grid_template_columns": null,
            "grid_template_rows": null,
            "height": null,
            "justify_content": null,
            "justify_items": null,
            "left": null,
            "margin": null,
            "max_height": null,
            "max_width": null,
            "min_height": null,
            "min_width": null,
            "object_fit": null,
            "object_position": null,
            "order": null,
            "overflow": null,
            "overflow_x": null,
            "overflow_y": null,
            "padding": null,
            "right": null,
            "top": null,
            "visibility": null,
            "width": null
          }
        },
        "451dbbb74bf74478a1821e2df2130b72": {
          "model_module": "@jupyter-widgets/controls",
          "model_name": "DescriptionStyleModel",
          "model_module_version": "1.5.0",
          "state": {
            "_model_module": "@jupyter-widgets/controls",
            "_model_module_version": "1.5.0",
            "_model_name": "DescriptionStyleModel",
            "_view_count": null,
            "_view_module": "@jupyter-widgets/base",
            "_view_module_version": "1.2.0",
            "_view_name": "StyleView",
            "description_width": ""
          }
        },
        "ce0bdb5b465a4eaa9e6ea8e5bbabc20c": {
          "model_module": "@jupyter-widgets/base",
          "model_name": "LayoutModel",
          "model_module_version": "1.2.0",
          "state": {
            "_model_module": "@jupyter-widgets/base",
            "_model_module_version": "1.2.0",
            "_model_name": "LayoutModel",
            "_view_count": null,
            "_view_module": "@jupyter-widgets/base",
            "_view_module_version": "1.2.0",
            "_view_name": "LayoutView",
            "align_content": null,
            "align_items": null,
            "align_self": null,
            "border": null,
            "bottom": null,
            "display": null,
            "flex": null,
            "flex_flow": null,
            "grid_area": null,
            "grid_auto_columns": null,
            "grid_auto_flow": null,
            "grid_auto_rows": null,
            "grid_column": null,
            "grid_gap": null,
            "grid_row": null,
            "grid_template_areas": null,
            "grid_template_columns": null,
            "grid_template_rows": null,
            "height": null,
            "justify_content": null,
            "justify_items": null,
            "left": null,
            "margin": null,
            "max_height": null,
            "max_width": null,
            "min_height": null,
            "min_width": null,
            "object_fit": null,
            "object_position": null,
            "order": null,
            "overflow": null,
            "overflow_x": null,
            "overflow_y": null,
            "padding": null,
            "right": null,
            "top": null,
            "visibility": null,
            "width": null
          }
        },
        "8b4412d50b7648588c95d3de5033d9fb": {
          "model_module": "@jupyter-widgets/controls",
          "model_name": "ProgressStyleModel",
          "model_module_version": "1.5.0",
          "state": {
            "_model_module": "@jupyter-widgets/controls",
            "_model_module_version": "1.5.0",
            "_model_name": "ProgressStyleModel",
            "_view_count": null,
            "_view_module": "@jupyter-widgets/base",
            "_view_module_version": "1.2.0",
            "_view_name": "StyleView",
            "bar_color": null,
            "description_width": ""
          }
        },
        "6eff0c4ce4d84c25999a7c69f12b3a0d": {
          "model_module": "@jupyter-widgets/base",
          "model_name": "LayoutModel",
          "model_module_version": "1.2.0",
          "state": {
            "_model_module": "@jupyter-widgets/base",
            "_model_module_version": "1.2.0",
            "_model_name": "LayoutModel",
            "_view_count": null,
            "_view_module": "@jupyter-widgets/base",
            "_view_module_version": "1.2.0",
            "_view_name": "LayoutView",
            "align_content": null,
            "align_items": null,
            "align_self": null,
            "border": null,
            "bottom": null,
            "display": null,
            "flex": null,
            "flex_flow": null,
            "grid_area": null,
            "grid_auto_columns": null,
            "grid_auto_flow": null,
            "grid_auto_rows": null,
            "grid_column": null,
            "grid_gap": null,
            "grid_row": null,
            "grid_template_areas": null,
            "grid_template_columns": null,
            "grid_template_rows": null,
            "height": null,
            "justify_content": null,
            "justify_items": null,
            "left": null,
            "margin": null,
            "max_height": null,
            "max_width": null,
            "min_height": null,
            "min_width": null,
            "object_fit": null,
            "object_position": null,
            "order": null,
            "overflow": null,
            "overflow_x": null,
            "overflow_y": null,
            "padding": null,
            "right": null,
            "top": null,
            "visibility": null,
            "width": null
          }
        },
        "b789f21615aa498d9174414aad391374": {
          "model_module": "@jupyter-widgets/controls",
          "model_name": "DescriptionStyleModel",
          "model_module_version": "1.5.0",
          "state": {
            "_model_module": "@jupyter-widgets/controls",
            "_model_module_version": "1.5.0",
            "_model_name": "DescriptionStyleModel",
            "_view_count": null,
            "_view_module": "@jupyter-widgets/base",
            "_view_module_version": "1.2.0",
            "_view_name": "StyleView",
            "description_width": ""
          }
        },
        "302078ab37ae483499426cb91104437d": {
          "model_module": "@jupyter-widgets/controls",
          "model_name": "HBoxModel",
          "model_module_version": "1.5.0",
          "state": {
            "_dom_classes": [],
            "_model_module": "@jupyter-widgets/controls",
            "_model_module_version": "1.5.0",
            "_model_name": "HBoxModel",
            "_view_count": null,
            "_view_module": "@jupyter-widgets/controls",
            "_view_module_version": "1.5.0",
            "_view_name": "HBoxView",
            "box_style": "",
            "children": [
              "IPY_MODEL_a760cd75f78048a99a9661b9e7506482",
              "IPY_MODEL_65e13f141b8f4428a07c37a8ca3a50da",
              "IPY_MODEL_7ba455c8003448319be6578b9a1cbd0d"
            ],
            "layout": "IPY_MODEL_1d5850be659c432892bf538c552ad616"
          }
        },
        "a760cd75f78048a99a9661b9e7506482": {
          "model_module": "@jupyter-widgets/controls",
          "model_name": "HTMLModel",
          "model_module_version": "1.5.0",
          "state": {
            "_dom_classes": [],
            "_model_module": "@jupyter-widgets/controls",
            "_model_module_version": "1.5.0",
            "_model_name": "HTMLModel",
            "_view_count": null,
            "_view_module": "@jupyter-widgets/controls",
            "_view_module_version": "1.5.0",
            "_view_name": "HTMLView",
            "description": "",
            "description_tooltip": null,
            "layout": "IPY_MODEL_4573d389cf2848e8a61ce8d8d7707722",
            "placeholder": "​",
            "style": "IPY_MODEL_040de140b0cc423eb5e26c140a54eff3",
            "value": "100%"
          }
        },
        "65e13f141b8f4428a07c37a8ca3a50da": {
          "model_module": "@jupyter-widgets/controls",
          "model_name": "FloatProgressModel",
          "model_module_version": "1.5.0",
          "state": {
            "_dom_classes": [],
            "_model_module": "@jupyter-widgets/controls",
            "_model_module_version": "1.5.0",
            "_model_name": "FloatProgressModel",
            "_view_count": null,
            "_view_module": "@jupyter-widgets/controls",
            "_view_module_version": "1.5.0",
            "_view_name": "ProgressView",
            "bar_style": "success",
            "description": "",
            "description_tooltip": null,
            "layout": "IPY_MODEL_39b5f6206a334b9a91c36502ff916206",
            "max": 4,
            "min": 0,
            "orientation": "horizontal",
            "style": "IPY_MODEL_2fe79ab075624546aaba795a9e13720e",
            "value": 4
          }
        },
        "7ba455c8003448319be6578b9a1cbd0d": {
          "model_module": "@jupyter-widgets/controls",
          "model_name": "HTMLModel",
          "model_module_version": "1.5.0",
          "state": {
            "_dom_classes": [],
            "_model_module": "@jupyter-widgets/controls",
            "_model_module_version": "1.5.0",
            "_model_name": "HTMLModel",
            "_view_count": null,
            "_view_module": "@jupyter-widgets/controls",
            "_view_module_version": "1.5.0",
            "_view_name": "HTMLView",
            "description": "",
            "description_tooltip": null,
            "layout": "IPY_MODEL_fa244df6da2d41f7b7eb3345aff47a7e",
            "placeholder": "​",
            "style": "IPY_MODEL_2c6517343f4b406f993614dedde8b7f2",
            "value": " 4/4 [00:31&lt;00:00,  7.89s/it]"
          }
        },
        "1d5850be659c432892bf538c552ad616": {
          "model_module": "@jupyter-widgets/base",
          "model_name": "LayoutModel",
          "model_module_version": "1.2.0",
          "state": {
            "_model_module": "@jupyter-widgets/base",
            "_model_module_version": "1.2.0",
            "_model_name": "LayoutModel",
            "_view_count": null,
            "_view_module": "@jupyter-widgets/base",
            "_view_module_version": "1.2.0",
            "_view_name": "LayoutView",
            "align_content": null,
            "align_items": null,
            "align_self": null,
            "border": null,
            "bottom": null,
            "display": null,
            "flex": null,
            "flex_flow": null,
            "grid_area": null,
            "grid_auto_columns": null,
            "grid_auto_flow": null,
            "grid_auto_rows": null,
            "grid_column": null,
            "grid_gap": null,
            "grid_row": null,
            "grid_template_areas": null,
            "grid_template_columns": null,
            "grid_template_rows": null,
            "height": null,
            "justify_content": null,
            "justify_items": null,
            "left": null,
            "margin": null,
            "max_height": null,
            "max_width": null,
            "min_height": null,
            "min_width": null,
            "object_fit": null,
            "object_position": null,
            "order": null,
            "overflow": null,
            "overflow_x": null,
            "overflow_y": null,
            "padding": null,
            "right": null,
            "top": null,
            "visibility": null,
            "width": null
          }
        },
        "4573d389cf2848e8a61ce8d8d7707722": {
          "model_module": "@jupyter-widgets/base",
          "model_name": "LayoutModel",
          "model_module_version": "1.2.0",
          "state": {
            "_model_module": "@jupyter-widgets/base",
            "_model_module_version": "1.2.0",
            "_model_name": "LayoutModel",
            "_view_count": null,
            "_view_module": "@jupyter-widgets/base",
            "_view_module_version": "1.2.0",
            "_view_name": "LayoutView",
            "align_content": null,
            "align_items": null,
            "align_self": null,
            "border": null,
            "bottom": null,
            "display": null,
            "flex": null,
            "flex_flow": null,
            "grid_area": null,
            "grid_auto_columns": null,
            "grid_auto_flow": null,
            "grid_auto_rows": null,
            "grid_column": null,
            "grid_gap": null,
            "grid_row": null,
            "grid_template_areas": null,
            "grid_template_columns": null,
            "grid_template_rows": null,
            "height": null,
            "justify_content": null,
            "justify_items": null,
            "left": null,
            "margin": null,
            "max_height": null,
            "max_width": null,
            "min_height": null,
            "min_width": null,
            "object_fit": null,
            "object_position": null,
            "order": null,
            "overflow": null,
            "overflow_x": null,
            "overflow_y": null,
            "padding": null,
            "right": null,
            "top": null,
            "visibility": null,
            "width": null
          }
        },
        "040de140b0cc423eb5e26c140a54eff3": {
          "model_module": "@jupyter-widgets/controls",
          "model_name": "DescriptionStyleModel",
          "model_module_version": "1.5.0",
          "state": {
            "_model_module": "@jupyter-widgets/controls",
            "_model_module_version": "1.5.0",
            "_model_name": "DescriptionStyleModel",
            "_view_count": null,
            "_view_module": "@jupyter-widgets/base",
            "_view_module_version": "1.2.0",
            "_view_name": "StyleView",
            "description_width": ""
          }
        },
        "39b5f6206a334b9a91c36502ff916206": {
          "model_module": "@jupyter-widgets/base",
          "model_name": "LayoutModel",
          "model_module_version": "1.2.0",
          "state": {
            "_model_module": "@jupyter-widgets/base",
            "_model_module_version": "1.2.0",
            "_model_name": "LayoutModel",
            "_view_count": null,
            "_view_module": "@jupyter-widgets/base",
            "_view_module_version": "1.2.0",
            "_view_name": "LayoutView",
            "align_content": null,
            "align_items": null,
            "align_self": null,
            "border": null,
            "bottom": null,
            "display": null,
            "flex": null,
            "flex_flow": null,
            "grid_area": null,
            "grid_auto_columns": null,
            "grid_auto_flow": null,
            "grid_auto_rows": null,
            "grid_column": null,
            "grid_gap": null,
            "grid_row": null,
            "grid_template_areas": null,
            "grid_template_columns": null,
            "grid_template_rows": null,
            "height": null,
            "justify_content": null,
            "justify_items": null,
            "left": null,
            "margin": null,
            "max_height": null,
            "max_width": null,
            "min_height": null,
            "min_width": null,
            "object_fit": null,
            "object_position": null,
            "order": null,
            "overflow": null,
            "overflow_x": null,
            "overflow_y": null,
            "padding": null,
            "right": null,
            "top": null,
            "visibility": null,
            "width": null
          }
        },
        "2fe79ab075624546aaba795a9e13720e": {
          "model_module": "@jupyter-widgets/controls",
          "model_name": "ProgressStyleModel",
          "model_module_version": "1.5.0",
          "state": {
            "_model_module": "@jupyter-widgets/controls",
            "_model_module_version": "1.5.0",
            "_model_name": "ProgressStyleModel",
            "_view_count": null,
            "_view_module": "@jupyter-widgets/base",
            "_view_module_version": "1.2.0",
            "_view_name": "StyleView",
            "bar_color": null,
            "description_width": ""
          }
        },
        "fa244df6da2d41f7b7eb3345aff47a7e": {
          "model_module": "@jupyter-widgets/base",
          "model_name": "LayoutModel",
          "model_module_version": "1.2.0",
          "state": {
            "_model_module": "@jupyter-widgets/base",
            "_model_module_version": "1.2.0",
            "_model_name": "LayoutModel",
            "_view_count": null,
            "_view_module": "@jupyter-widgets/base",
            "_view_module_version": "1.2.0",
            "_view_name": "LayoutView",
            "align_content": null,
            "align_items": null,
            "align_self": null,
            "border": null,
            "bottom": null,
            "display": null,
            "flex": null,
            "flex_flow": null,
            "grid_area": null,
            "grid_auto_columns": null,
            "grid_auto_flow": null,
            "grid_auto_rows": null,
            "grid_column": null,
            "grid_gap": null,
            "grid_row": null,
            "grid_template_areas": null,
            "grid_template_columns": null,
            "grid_template_rows": null,
            "height": null,
            "justify_content": null,
            "justify_items": null,
            "left": null,
            "margin": null,
            "max_height": null,
            "max_width": null,
            "min_height": null,
            "min_width": null,
            "object_fit": null,
            "object_position": null,
            "order": null,
            "overflow": null,
            "overflow_x": null,
            "overflow_y": null,
            "padding": null,
            "right": null,
            "top": null,
            "visibility": null,
            "width": null
          }
        },
        "2c6517343f4b406f993614dedde8b7f2": {
          "model_module": "@jupyter-widgets/controls",
          "model_name": "DescriptionStyleModel",
          "model_module_version": "1.5.0",
          "state": {
            "_model_module": "@jupyter-widgets/controls",
            "_model_module_version": "1.5.0",
            "_model_name": "DescriptionStyleModel",
            "_view_count": null,
            "_view_module": "@jupyter-widgets/base",
            "_view_module_version": "1.2.0",
            "_view_name": "StyleView",
            "description_width": ""
          }
        }
      }
    }
  },
  "cells": [
    {
      "cell_type": "markdown",
      "source": [
        "# Языковые модели, 2025"
      ],
      "metadata": {
        "id": "kIpPYvgUC3aq"
      }
    },
    {
      "cell_type": "markdown",
      "source": [
        "## Векторизуем тексты"
      ],
      "metadata": {
        "id": "A5cghofPC7Iy"
      }
    },
    {
      "cell_type": "markdown",
      "source": [
        "### Word2Vec"
      ],
      "metadata": {
        "id": "S0-uIZCENabG"
      }
    },
    {
      "cell_type": "markdown",
      "source": [
        "С точки зрения терминологии, word2vec не является языковой моделью, так как ничего не знает о сочетаемости слов. Однако для векторизации текста мы вполне можем его использовать."
      ],
      "metadata": {
        "id": "_izqnwD2Rk5h"
      }
    },
    {
      "cell_type": "code",
      "source": [
        "!pip install pymorphy3 russian-tagsets --q"
      ],
      "metadata": {
        "id": "Vwef4OFESfzK",
        "colab": {
          "base_uri": "https://localhost:8080/"
        },
        "outputId": "a13e572a-684e-4cf0-a78d-dd98ad584dba"
      },
      "execution_count": 1,
      "outputs": [
        {
          "output_type": "stream",
          "name": "stdout",
          "text": [
            "  Preparing metadata (setup.py) ... \u001b[?25l\u001b[?25hdone\n",
            "\u001b[2K   \u001b[90m━━━━━━━━━━━━━━━━━━━━━━━━━━━━━━━━━━━━━━━━\u001b[0m \u001b[32m53.8/53.8 kB\u001b[0m \u001b[31m3.0 MB/s\u001b[0m eta \u001b[36m0:00:00\u001b[0m\n",
            "\u001b[2K   \u001b[90m━━━━━━━━━━━━━━━━━━━━━━━━━━━━━━━━━━━━━━━━\u001b[0m \u001b[32m8.4/8.4 MB\u001b[0m \u001b[31m30.6 MB/s\u001b[0m eta \u001b[36m0:00:00\u001b[0m\n",
            "\u001b[?25h  Building wheel for russian-tagsets (setup.py) ... \u001b[?25l\u001b[?25hdone\n"
          ]
        }
      ]
    },
    {
      "cell_type": "code",
      "source": [
        "import nltk\n",
        "nltk.download('punkt_tab')"
      ],
      "metadata": {
        "colab": {
          "base_uri": "https://localhost:8080/"
        },
        "id": "tpsh2aQ6S-g0",
        "outputId": "ee91539b-56d7-4906-f2e3-b082eafee81c"
      },
      "execution_count": 2,
      "outputs": [
        {
          "output_type": "stream",
          "name": "stderr",
          "text": [
            "[nltk_data] Downloading package punkt_tab to /root/nltk_data...\n",
            "[nltk_data]   Unzipping tokenizers/punkt_tab.zip.\n"
          ]
        },
        {
          "output_type": "execute_result",
          "data": {
            "text/plain": [
              "True"
            ]
          },
          "metadata": {},
          "execution_count": 2
        }
      ]
    },
    {
      "cell_type": "code",
      "execution_count": 3,
      "metadata": {
        "id": "LSLVoEiYCfco"
      },
      "outputs": [],
      "source": [
        "import gensim.downloader\n",
        "from pymorphy3 import MorphAnalyzer\n",
        "from nltk.tokenize import word_tokenize\n",
        "from russian_tagsets import converters\n",
        "import numpy as np\n",
        "\n",
        "morph = MorphAnalyzer()\n",
        "\n",
        "# не совсем тот тагсет, но ruscorpora у них сломан\n",
        "conv = converters.converter('opencorpora-int', 'ud20')"
      ]
    },
    {
      "cell_type": "markdown",
      "source": [
        "Наш текст:"
      ],
      "metadata": {
        "id": "Bdzt1vpvWkHS"
      }
    },
    {
      "cell_type": "code",
      "source": [
        "text = '''Сплюшка — ночная птица. Среда обитания: Европа, юг Сибири до Байкала, Малая Азия до предгорий Средней Азии, Ближний Восток и Северная Африка. Перелётный вид. Зимует в тропической Африке, к югу от пустыни Сахары. Предпочитает лиственные леса, сады, парки, сосновые и арчовые редколесья, в Средиземноморье — оливковые рощи, часто селится возле человека, на плантациях, в горы поднимается до 3000 м над уровнем моря.\n",
        "\n",
        "Обыкновенная сплюшка зимует в саваннах. В России появляется в апреле, улетает в августе-сентябре. Размножается в мае-июле (в некоторых районах с марта по август), гнездится обыкновенно в дуплах, расщелинах скал, реже — в гнёздах сорок и мелких хищных птиц, норах щурок, зимородков. В кладке обычно от 2 до 6 блестящих белых яиц массой по 15 г. Инкубационный период длится 25 дней, выкармливание — примерно 4 недели, вылетают из гнезда птенцы неделей позже. Окрас птенцов сероватый, с поперечными полосками, нехарактерными для взрослых птиц.\n",
        "\n",
        "Питается сплюшка ночными бабочками и жуками, на позвоночных нападает редко. Может охотиться на мелких лягушек, ящериц, млекопитающих. В природе живёт до 6 лет.'''"
      ],
      "metadata": {
        "id": "UA3jhQJHSEWf"
      },
      "execution_count": 4,
      "outputs": []
    },
    {
      "cell_type": "markdown",
      "source": [
        "Загрузим модель для русского языка:"
      ],
      "metadata": {
        "id": "fpttoMI_Wm0-"
      }
    },
    {
      "cell_type": "code",
      "source": [
        "w2v = gensim.downloader.load('word2vec-ruscorpora-300')"
      ],
      "metadata": {
        "id": "eevahEHQR9OY",
        "colab": {
          "base_uri": "https://localhost:8080/"
        },
        "outputId": "1614e614-8206-4828-929e-3231a0fa3b73"
      },
      "execution_count": 5,
      "outputs": [
        {
          "output_type": "stream",
          "name": "stdout",
          "text": [
            "[==================================================] 100.0% 198.8/198.8MB downloaded\n"
          ]
        }
      ]
    },
    {
      "cell_type": "markdown",
      "source": [
        "Функция для предобработки текста. К сожалению, word2vec не умеет работать с сырыми текстами:"
      ],
      "metadata": {
        "id": "DZf7QBUDWpUM"
      }
    },
    {
      "cell_type": "code",
      "source": [
        "def preprocess_text(text: str):\n",
        "    res = []\n",
        "    for word in word_tokenize(text):\n",
        "        if word.isalpha():\n",
        "            p = morph.parse(word)[0]\n",
        "            word = p.normal_form\n",
        "\n",
        "\n",
        "            pos = conv(str(p.tag.POS)).split(' ')[0]\n",
        "            res.append(f'{word}_{pos}')\n",
        "    return res"
      ],
      "metadata": {
        "id": "vEAmA6DNSDHV"
      },
      "execution_count": 6,
      "outputs": []
    },
    {
      "cell_type": "markdown",
      "source": [
        "Функция для векторизации. Если вдруг все слова незнакомые, то возвращаем вектор из нулей:"
      ],
      "metadata": {
        "id": "qM8d7o5qWu7z"
      }
    },
    {
      "cell_type": "code",
      "source": [
        "def vectorize_text(text: list):\n",
        "    res = []\n",
        "\n",
        "    for word in text:\n",
        "        if word in w2v:\n",
        "            res.append(w2v[word])\n",
        "\n",
        "    if len(res) == 0:\n",
        "        return np.zeros(300)\n",
        "    else:\n",
        "        return np.vstack(res).mean(axis=0)"
      ],
      "metadata": {
        "id": "xhPiXM5FUivv"
      },
      "execution_count": 7,
      "outputs": []
    },
    {
      "cell_type": "markdown",
      "source": [
        "Смотрим, как работает:"
      ],
      "metadata": {
        "id": "DnRMDcFSW4ED"
      }
    },
    {
      "cell_type": "code",
      "source": [
        "norm_text = preprocess_text(text)\n",
        "vectorize_text(norm_text).shape"
      ],
      "metadata": {
        "colab": {
          "base_uri": "https://localhost:8080/"
        },
        "id": "yOobLMcmUqTl",
        "outputId": "283665c4-e8c7-4f8e-a2fa-d0cd15a0b752"
      },
      "execution_count": 8,
      "outputs": [
        {
          "output_type": "execute_result",
          "data": {
            "text/plain": [
              "(300,)"
            ]
          },
          "metadata": {},
          "execution_count": 8
        }
      ]
    },
    {
      "cell_type": "code",
      "source": [
        "# vectorize_text(norm_text)"
      ],
      "metadata": {
        "id": "9wXFLSmYVNvD"
      },
      "execution_count": 9,
      "outputs": []
    },
    {
      "cell_type": "markdown",
      "source": [
        "### BERT"
      ],
      "metadata": {
        "id": "mD5_ZZ4JNdR4"
      }
    },
    {
      "cell_type": "markdown",
      "source": [
        "У word2vec с точки зрения понимания текста есть несколько существенных недостатков:\n",
        "\n",
        "- Не учитывает контекст (лук репчатый и лук как оружие $-$ это один и тот же вектор)\n",
        "- Не учитывает порядок слов\n",
        "- Плохо отличает синонимы от антонимов\n",
        "- Не умеет работать с незнакомыми словами\n",
        "\n",
        "Берт все эти проблемы решает :)\n",
        "\n",
        "Понимание контекста в нем реализовано за счет __механизма внимания__ $-$ подхода, при котором мы учим модель получать специальную матрицу, обозначающую важность слов друг для друга."
      ],
      "metadata": {
        "id": "8rgFw_0WVTtQ"
      }
    },
    {
      "cell_type": "markdown",
      "source": [
        "Воспользоваться Бертом очень просто и для этого необязательно погружаться в нюансы его работы. Сначала загрузим модель и токенайзер (для нейросетевых моделей важно брать именно тот токенайзер, который привязан к модели):"
      ],
      "metadata": {
        "id": "9ZtpUEmtWIdg"
      }
    },
    {
      "cell_type": "code",
      "source": [
        "from transformers import AutoTokenizer, AutoModel\n",
        "import torch"
      ],
      "metadata": {
        "id": "Vx9oLuGONgUL"
      },
      "execution_count": 10,
      "outputs": []
    },
    {
      "cell_type": "code",
      "source": [
        "device = torch.device(\"cuda\") if torch.cuda.is_available() else torch.device(\"cpu\")\n",
        "device"
      ],
      "metadata": {
        "colab": {
          "base_uri": "https://localhost:8080/"
        },
        "id": "tCCCThNQoTGI",
        "outputId": "59cd30fd-ffd6-4054-ff28-b40484e662ca"
      },
      "execution_count": 11,
      "outputs": [
        {
          "output_type": "execute_result",
          "data": {
            "text/plain": [
              "device(type='cuda')"
            ]
          },
          "metadata": {},
          "execution_count": 11
        }
      ]
    },
    {
      "cell_type": "code",
      "source": [
        "model_name = \"DeepPavlov/rubert-base-cased\"\n",
        "\n",
        "tokenizer = AutoTokenizer.from_pretrained(model_name)\n",
        "model = AutoModel.from_pretrained(model_name).to(device)"
      ],
      "metadata": {
        "colab": {
          "base_uri": "https://localhost:8080/",
          "height": 353,
          "referenced_widgets": [
            "b52a79473ea542ac8b8a4f06bc31e712",
            "856436b25e7c4326a3dda4b340ad3b38",
            "def7163f34b74e708b7b8f0f09942a28",
            "441f595837da44b3a20529d1e87e803c",
            "14e41804aa7e4b6da1778e7da200ea6e",
            "e76e3c64a1644a2281ed3967162cd3f7",
            "684e84ce0fcf44a6987dee59ae64f57f",
            "0cb66edd95d3428f946e6d29481009c8",
            "a8816eb02dd144ba9b858deb6ebd8554",
            "0b48b3b8a51f464b87ab7b825daa64f2",
            "a61939ddfd054f8e814282aa413f2800",
            "ccde837a4d814633adfa2e25902c00e9",
            "8db38a5046da4172adb014145d9f66c1",
            "843416ea9fa546158ed6be523269e7df",
            "6a9a7fc79ceb4ac9838ec4d36f1a5de4",
            "a4cdb0d8885c424095f41b329040a68b",
            "f4f8e1c98f0842bdad8285f6eb298e79",
            "eab98c81614a4920a3d20fa5eb783a08",
            "a34da900209e48328868a5bae409266e",
            "479f7dda79384e9a9bd36b84d522547a",
            "16fdc5cb6ded4384b5f0f1927677e2cc",
            "8e12674f87d444a7b8ab717c2de91342",
            "480290ad05df4cf0812025862698ddf8",
            "bfe9e455ec304b1db03f6da57efffc4f",
            "5b0d3fbf9f664a42ab0019ab8d953116",
            "ea838d8116a24dd48184e1fdba2d7613",
            "9ac93aee5282476bbb04ac200c288a58",
            "9efb6ce528f24eeaa0fd9633b34f91f9",
            "e537088608f447fbbd8eaa97dbc263e2",
            "3c3de08eda014bd7bcd83900bbbba0f4",
            "cf3043a2f98943778f2e9b44b004290e",
            "88435feedb8c4fc8bf53128c07232a8d",
            "8e8ecff2660b48668ec70ed018d7ae25",
            "90889b72e1e34baab45b83d5372d79de",
            "2f7fa40f606d431fbfe93ae9ddf17175",
            "aa9a5da1e294422eb247fbdc520db3cc",
            "2f4dd4493e93433e85e2bd49060413e4",
            "cbba565f59d6436e95ae1c0d578e8534",
            "690eb2269fb74e878f66a0274c326623",
            "bc1a8a9f6fb343a19f602435ffa96b5c",
            "efac21778d5e4de2977bef6add64866f",
            "0539416972a34fe2b6f573a7ff06c638",
            "a9549e5c42144d98889158cd87d1a33e",
            "d08dfb4d42fa4a9ba7eb18c804bc96b7",
            "42d39fd5971b4853b409a076a9e4d5f3",
            "5c2f5a1015984ca1b39f6bd687fb70a5",
            "efa920a478384a5ab233faec13219864",
            "fd5c6d68a48a45fea91d61832e346f0f",
            "4f1243137a1b4d4599c98b32ed7a304e",
            "74d594dcfa00417284570619f4f7e7e0",
            "7edc552b27a1496aa036504d077064d2",
            "3f94bf4a947e4a9d8af93240c60083f7",
            "a2ac524e66474416a62c2576647d0dd8",
            "b3fc6650abac4df98503550354eb7823",
            "d66e29ead8e54ab79710c69888d1b3ed"
          ]
        },
        "id": "x-HfQ3CtWZpX",
        "outputId": "ffe94aea-caca-4fd4-944c-e26cca8b355d"
      },
      "execution_count": 12,
      "outputs": [
        {
          "output_type": "stream",
          "name": "stderr",
          "text": [
            "/usr/local/lib/python3.11/dist-packages/huggingface_hub/utils/_auth.py:94: UserWarning: \n",
            "The secret `HF_TOKEN` does not exist in your Colab secrets.\n",
            "To authenticate with the Hugging Face Hub, create a token in your settings tab (https://huggingface.co/settings/tokens), set it as secret in your Google Colab and restart your session.\n",
            "You will be able to reuse this secret in all of your notebooks.\n",
            "Please note that authentication is recommended but still optional to access public models or datasets.\n",
            "  warnings.warn(\n"
          ]
        },
        {
          "output_type": "display_data",
          "data": {
            "text/plain": [
              "tokenizer_config.json:   0%|          | 0.00/24.0 [00:00<?, ?B/s]"
            ],
            "application/vnd.jupyter.widget-view+json": {
              "version_major": 2,
              "version_minor": 0,
              "model_id": "b52a79473ea542ac8b8a4f06bc31e712"
            }
          },
          "metadata": {}
        },
        {
          "output_type": "display_data",
          "data": {
            "text/plain": [
              "config.json:   0%|          | 0.00/642 [00:00<?, ?B/s]"
            ],
            "application/vnd.jupyter.widget-view+json": {
              "version_major": 2,
              "version_minor": 0,
              "model_id": "ccde837a4d814633adfa2e25902c00e9"
            }
          },
          "metadata": {}
        },
        {
          "output_type": "display_data",
          "data": {
            "text/plain": [
              "vocab.txt:   0%|          | 0.00/1.65M [00:00<?, ?B/s]"
            ],
            "application/vnd.jupyter.widget-view+json": {
              "version_major": 2,
              "version_minor": 0,
              "model_id": "480290ad05df4cf0812025862698ddf8"
            }
          },
          "metadata": {}
        },
        {
          "output_type": "display_data",
          "data": {
            "text/plain": [
              "special_tokens_map.json:   0%|          | 0.00/112 [00:00<?, ?B/s]"
            ],
            "application/vnd.jupyter.widget-view+json": {
              "version_major": 2,
              "version_minor": 0,
              "model_id": "90889b72e1e34baab45b83d5372d79de"
            }
          },
          "metadata": {}
        },
        {
          "output_type": "display_data",
          "data": {
            "text/plain": [
              "pytorch_model.bin:   0%|          | 0.00/714M [00:00<?, ?B/s]"
            ],
            "application/vnd.jupyter.widget-view+json": {
              "version_major": 2,
              "version_minor": 0,
              "model_id": "42d39fd5971b4853b409a076a9e4d5f3"
            }
          },
          "metadata": {}
        },
        {
          "output_type": "stream",
          "name": "stderr",
          "text": [
            "Some weights of the model checkpoint at DeepPavlov/rubert-base-cased were not used when initializing BertModel: ['cls.predictions.bias', 'cls.predictions.decoder.bias', 'cls.predictions.decoder.weight', 'cls.predictions.transform.LayerNorm.bias', 'cls.predictions.transform.LayerNorm.weight', 'cls.predictions.transform.dense.bias', 'cls.predictions.transform.dense.weight', 'cls.seq_relationship.bias', 'cls.seq_relationship.weight']\n",
            "- This IS expected if you are initializing BertModel from the checkpoint of a model trained on another task or with another architecture (e.g. initializing a BertForSequenceClassification model from a BertForPreTraining model).\n",
            "- This IS NOT expected if you are initializing BertModel from the checkpoint of a model that you expect to be exactly identical (initializing a BertForSequenceClassification model from a BertForSequenceClassification model).\n"
          ]
        }
      ]
    },
    {
      "cell_type": "markdown",
      "source": [
        "Теперь токенизируем наш текст"
      ],
      "metadata": {
        "id": "yU7YCpNVW7pU"
      }
    },
    {
      "cell_type": "code",
      "source": [
        "toks = tokenizer(text, padding='max_length', truncation=True,\n",
        "                 return_tensors='pt', max_length=256)\n",
        "toks"
      ],
      "metadata": {
        "colab": {
          "base_uri": "https://localhost:8080/"
        },
        "id": "fnYm1xkeW98F",
        "outputId": "fc392849-0b69-46c1-af03-afd225dcf870"
      },
      "execution_count": 13,
      "outputs": [
        {
          "output_type": "execute_result",
          "data": {
            "text/plain": [
              "{'input_ids': tensor([[   101,   6386,   3049,  21593,    901, 102624,  30476,    132,   7045,\n",
              "            626,  30199,    156,  28620,    128,  18919,  20234,   2785,  83041,\n",
              "            128,  27598,  38111,   2785,  41546,   1572,  28249,  14412,    128,\n",
              "          69008,  23529,    851,  18723,  42298,    132,  91045,   3650,   1916,\n",
              "           3810,    132,  20000,   4742,    845,  76405,  22621,    128,    861,\n",
              "          16941,   1641,  38075,  69023,    132,  91482, 118384,  18522,    128,\n",
              "          44436,    128,  61783,    128,  99368,    851,   3132,  27682,   9209,\n",
              "            842, 106583,   4122,    128,    845,  64197,    901,  39324,  20589,\n",
              "          76589,    128,   9734,  73557,  23204,  16851,   6798,    128,   1469,\n",
              "          93430,    128,    845,  17152,  40008,   2785,  15847,    865,   4700,\n",
              "          14752,  10712,    132,  71098,   7898,  52440,  82599,  47406,   1465,\n",
              "            845, 115313,  17881,    132,    781,   3590,  17499,    845,  11985,\n",
              "            128,  90605,    845,  11832,    130,  11396,    132, 106995,    845,\n",
              "          11502,    130,  12059,    120,    845,  10674,  17204,    869,   5842,\n",
              "           1516,   5098,    122,    128,  82878,  60893,    845, 112108,    128,\n",
              "           3424,  75760,  13680,  36533,    128,  23807,    901,    845, 116535,\n",
              "          34317,    851,  22649,  69025,  16865,    128, 108115,    891,  32693,\n",
              "            862,    128,  12309,   2799,   2570,    132,    781,  75063,  11552,\n",
              "           1641,    140,   2785,    148, 110583,  21041,  30811,  29602,   1516,\n",
              "           3996,    847,    132, 117968,  27381,   6808,  32192,   5546,  10333,\n",
              "            128,  21576,  60507,   3293,    901,  10537,    144,  15973,    128,\n",
              "          32913,   2231,   1703,  54614,  87160,  22283,    860,  10862,    132,\n",
              "          93603,  70060,  84717,  23512,    128,    869,  82696,  69010,    128,\n",
              "         111395,   3359,   2748,  23212,  16865,    132,  62008,  52440,  82599,\n",
              "         102227,    852,  78229,   3187,    851, 114948,   3187,    128,   1469,\n",
              "          52939,  51496,  19799,    132,  35003,  80070,   1469,  22649,  80692,\n",
              "            128,  70484,    128,  29583,    132,    781,  24968,  21795,   2785,\n",
              "            148,   3422,    132,    102,      0,      0,      0,      0,      0,\n",
              "              0,      0,      0,      0]]), 'token_type_ids': tensor([[0, 0, 0, 0, 0, 0, 0, 0, 0, 0, 0, 0, 0, 0, 0, 0, 0, 0, 0, 0, 0, 0, 0, 0,\n",
              "         0, 0, 0, 0, 0, 0, 0, 0, 0, 0, 0, 0, 0, 0, 0, 0, 0, 0, 0, 0, 0, 0, 0, 0,\n",
              "         0, 0, 0, 0, 0, 0, 0, 0, 0, 0, 0, 0, 0, 0, 0, 0, 0, 0, 0, 0, 0, 0, 0, 0,\n",
              "         0, 0, 0, 0, 0, 0, 0, 0, 0, 0, 0, 0, 0, 0, 0, 0, 0, 0, 0, 0, 0, 0, 0, 0,\n",
              "         0, 0, 0, 0, 0, 0, 0, 0, 0, 0, 0, 0, 0, 0, 0, 0, 0, 0, 0, 0, 0, 0, 0, 0,\n",
              "         0, 0, 0, 0, 0, 0, 0, 0, 0, 0, 0, 0, 0, 0, 0, 0, 0, 0, 0, 0, 0, 0, 0, 0,\n",
              "         0, 0, 0, 0, 0, 0, 0, 0, 0, 0, 0, 0, 0, 0, 0, 0, 0, 0, 0, 0, 0, 0, 0, 0,\n",
              "         0, 0, 0, 0, 0, 0, 0, 0, 0, 0, 0, 0, 0, 0, 0, 0, 0, 0, 0, 0, 0, 0, 0, 0,\n",
              "         0, 0, 0, 0, 0, 0, 0, 0, 0, 0, 0, 0, 0, 0, 0, 0, 0, 0, 0, 0, 0, 0, 0, 0,\n",
              "         0, 0, 0, 0, 0, 0, 0, 0, 0, 0, 0, 0, 0, 0, 0, 0, 0, 0, 0, 0, 0, 0, 0, 0,\n",
              "         0, 0, 0, 0, 0, 0, 0, 0, 0, 0, 0, 0, 0, 0, 0, 0]]), 'attention_mask': tensor([[1, 1, 1, 1, 1, 1, 1, 1, 1, 1, 1, 1, 1, 1, 1, 1, 1, 1, 1, 1, 1, 1, 1, 1,\n",
              "         1, 1, 1, 1, 1, 1, 1, 1, 1, 1, 1, 1, 1, 1, 1, 1, 1, 1, 1, 1, 1, 1, 1, 1,\n",
              "         1, 1, 1, 1, 1, 1, 1, 1, 1, 1, 1, 1, 1, 1, 1, 1, 1, 1, 1, 1, 1, 1, 1, 1,\n",
              "         1, 1, 1, 1, 1, 1, 1, 1, 1, 1, 1, 1, 1, 1, 1, 1, 1, 1, 1, 1, 1, 1, 1, 1,\n",
              "         1, 1, 1, 1, 1, 1, 1, 1, 1, 1, 1, 1, 1, 1, 1, 1, 1, 1, 1, 1, 1, 1, 1, 1,\n",
              "         1, 1, 1, 1, 1, 1, 1, 1, 1, 1, 1, 1, 1, 1, 1, 1, 1, 1, 1, 1, 1, 1, 1, 1,\n",
              "         1, 1, 1, 1, 1, 1, 1, 1, 1, 1, 1, 1, 1, 1, 1, 1, 1, 1, 1, 1, 1, 1, 1, 1,\n",
              "         1, 1, 1, 1, 1, 1, 1, 1, 1, 1, 1, 1, 1, 1, 1, 1, 1, 1, 1, 1, 1, 1, 1, 1,\n",
              "         1, 1, 1, 1, 1, 1, 1, 1, 1, 1, 1, 1, 1, 1, 1, 1, 1, 1, 1, 1, 1, 1, 1, 1,\n",
              "         1, 1, 1, 1, 1, 1, 1, 1, 1, 1, 1, 1, 1, 1, 1, 1, 1, 1, 1, 1, 1, 1, 1, 1,\n",
              "         1, 1, 1, 1, 1, 1, 1, 0, 0, 0, 0, 0, 0, 0, 0, 0]])}"
            ]
          },
          "metadata": {},
          "execution_count": 13
        }
      ]
    },
    {
      "cell_type": "markdown",
      "source": [
        "Кажется, мы получили больше токенов, чем ожидали. И здесь кроется важная особенность токенайзеров для нейросетевых моделей: \"токен\" — это не одно слово, а *некоторый частотный набор символов*. Иногда это по счастливому совпадению оказывается целым словом, но чаще — нет."
      ],
      "metadata": {
        "id": "pEL3XVmTXSnn"
      }
    },
    {
      "cell_type": "code",
      "source": [
        "tokenizer.decode(toks['input_ids'][0])"
      ],
      "metadata": {
        "colab": {
          "base_uri": "https://localhost:8080/",
          "height": 122
        },
        "id": "Ucrwk_1jXi4F",
        "outputId": "ac36b322-6e7b-4a4c-b278-516563b47abb"
      },
      "execution_count": 14,
      "outputs": [
        {
          "output_type": "execute_result",
          "data": {
            "text/plain": [
              "'[CLS] Сплюшка — ночная птица. Среда обитания : Европа, юг Сибири до Байкала, Малая Азия до предгорий Средней Азии, Ближний Восток и Северная Африка. Перелётный вид. Зимует в тропической Африке, к югу от пустыни Сахары. Предпочитает лиственные леса, сады, парки, сосновые и арчовые редколесья, в Средиземноморье — оливковые рощи, часто селится возле человека, на плантациях, в горы поднимается до 3000 м над уровнем моря. Обыкновенная сплюшка зимует в саваннах. В России появляется в апреле, улетает в августе - сентябре. Размножается в мае - июле ( в некоторых районах с марта по август ), гнездится обыкновенно в дуплах, расщелинах скал, реже — в гнёздах сорок и мелких хищных птиц, норах щурок, зимородков. В кладке обычно от 2 до 6 блестящих белых яиц массой по 15 г. Инкубационный период длится 25 дней, выкармливание — примерно 4 недели, вылетают из гнезда птенцы неделей позже. Окрас птенцов сероватый, с поперечными полосками, нехарактерными для взрослых птиц. Питается сплюшка ночными бабочками и жуками, на позвоночных нападает редко. Может охотиться на мелких лягушек, ящериц, млекопитающих. В природе живёт до 6 лет. [SEP] [PAD] [PAD] [PAD] [PAD] [PAD] [PAD] [PAD] [PAD] [PAD]'"
            ],
            "application/vnd.google.colaboratory.intrinsic+json": {
              "type": "string"
            }
          },
          "metadata": {},
          "execution_count": 14
        }
      ]
    },
    {
      "cell_type": "markdown",
      "source": [
        "А еще токенайзер добавляет служебные токены [CLS] и [PAD]"
      ],
      "metadata": {
        "id": "R_xV5CDXXhqO"
      }
    },
    {
      "cell_type": "markdown",
      "source": [
        "Векторизуем наши токены:"
      ],
      "metadata": {
        "id": "FXlivZvYX3rV"
      }
    },
    {
      "cell_type": "code",
      "source": [
        "with torch.no_grad():\n",
        "    model_output = model(**{k: v.to(model.device) for k, v in toks.items()})"
      ],
      "metadata": {
        "id": "SWhpDyCKX52_"
      },
      "execution_count": 15,
      "outputs": []
    },
    {
      "cell_type": "markdown",
      "source": [
        "Посмотрим на результат. Мы можем использовать его двумя способами:\n",
        "- Взять `last_hidden_state` и усреднить. Этот способ универсальный почти для всех моделей\n",
        "- Взять `pooler_output`, где содежится векторное представление сразу для текста. Однако, если модель не готовили специально его считать, то оно может быть плохого качества (плохо отражать смысл текста)  "
      ],
      "metadata": {
        "id": "XoAp2m6XYGeM"
      }
    },
    {
      "cell_type": "code",
      "source": [
        "model_output"
      ],
      "metadata": {
        "colab": {
          "base_uri": "https://localhost:8080/"
        },
        "id": "ZqlQGPMAYGCW",
        "outputId": "beb30ad7-c17d-4aeb-cf89-84037f04abe1"
      },
      "execution_count": 16,
      "outputs": [
        {
          "output_type": "execute_result",
          "data": {
            "text/plain": [
              "BaseModelOutputWithPoolingAndCrossAttentions(last_hidden_state=tensor([[[ 0.2241, -0.0019,  0.0785,  ...,  0.2264,  0.0758, -0.0442],\n",
              "         [ 0.4427,  0.0658,  1.5546,  ...,  0.4873,  0.1003, -0.5505],\n",
              "         [-0.1177, -0.0323,  0.6784,  ..., -1.1597,  0.0397, -0.8991],\n",
              "         ...,\n",
              "         [ 0.3158, -0.2801,  1.0091,  ...,  0.5333,  0.0901,  0.2476],\n",
              "         [ 0.7528, -0.2329,  0.6841,  ..., -0.0848, -0.1435,  0.0168],\n",
              "         [ 0.6321, -0.2623,  0.6973,  ...,  0.0528, -0.3355, -0.0391]]],\n",
              "       device='cuda:0'), pooler_output=tensor([[ 8.1338e-02, -9.5885e-02,  2.2226e-02,  9.4442e-02, -1.1907e-01,\n",
              "          1.0725e-01,  2.8398e-02,  2.9054e-01, -2.1994e-02,  7.9615e-02,\n",
              "         -8.3494e-02, -6.0144e-02, -1.3087e-01, -1.4887e-01,  8.8144e-02,\n",
              "         -2.2516e-01,  5.4762e-01,  4.5054e-03,  1.0326e-01, -1.4193e-01,\n",
              "         -9.9992e-01, -5.6326e-02, -1.5355e-01, -1.1184e-01, -1.7928e-01,\n",
              "          7.0176e-02, -1.0411e-01,  2.0802e-01,  2.2721e-01, -1.9219e-02,\n",
              "          1.1380e-01, -9.9959e-01,  3.8026e-01,  3.5771e-01,  1.7742e-01,\n",
              "         -1.5527e-01,  1.3008e-01,  1.6128e-01,  2.8428e-02, -1.6868e-01,\n",
              "         -6.8068e-02,  1.0144e-01, -3.9136e-02,  1.5109e-01, -2.2488e-01,\n",
              "         -1.1399e-01, -9.4322e-02,  9.0463e-02, -1.9545e-01,  8.2727e-02,\n",
              "         -9.8332e-02,  1.4765e-01,  1.0075e-01,  6.6844e-02,  1.4435e-01,\n",
              "          8.4999e-02,  8.7391e-02,  2.4014e-02,  8.1347e-02,  6.6728e-02,\n",
              "          1.7401e-01,  1.1258e-02,  1.0537e-01, -1.1803e-01, -9.1671e-03,\n",
              "         -1.6059e-01,  3.9408e-02, -1.3360e-01,  2.8985e-01,  5.0468e-02,\n",
              "          8.2669e-02, -8.9268e-02, -1.0067e-01,  7.2855e-02,  8.0382e-02,\n",
              "         -1.1591e-01,  1.9457e-01,  2.2263e-01,  1.1371e-01,  6.9724e-03,\n",
              "         -8.2398e-02, -4.0711e-02, -1.7974e-01, -4.7910e-02, -9.9222e-02,\n",
              "          4.6778e-02,  2.1358e-02, -9.3907e-02,  1.0263e-01,  6.7294e-02,\n",
              "          1.1610e-01,  3.3525e-01, -9.6892e-02,  1.0995e-01,  1.7742e-02,\n",
              "         -6.6614e-02, -6.4160e-01, -4.0538e-02, -1.3514e-01, -1.2434e-01,\n",
              "          9.7325e-02,  1.4608e-01,  1.7247e-02, -8.9427e-03, -7.1805e-02,\n",
              "         -9.9125e-02,  5.8031e-02,  1.6928e-02, -1.0001e-02,  1.0604e-01,\n",
              "          2.0558e-01, -6.5981e-02, -6.1898e-02,  2.3145e-02, -1.6229e-01,\n",
              "          8.7108e-01,  7.8682e-02,  5.4999e-02, -1.4040e-02, -1.1276e-01,\n",
              "         -2.3928e-01,  9.9981e-01,  6.2221e-02,  2.1013e-02,  1.1384e-01,\n",
              "          1.6871e-01, -7.1425e-02,  4.1905e-02,  9.2543e-02,  2.8986e-02,\n",
              "          1.3677e-01, -1.6715e-01, -1.2878e-01, -1.4446e-01, -6.8386e-01,\n",
              "         -1.3815e-01, -6.0735e-02,  1.7326e-01, -3.0493e-02, -2.6960e-01,\n",
              "         -4.7189e-02,  1.9581e-01,  2.4436e-02, -1.1129e-01, -8.1845e-03,\n",
              "         -1.3375e-01,  1.6680e-01, -1.4634e-01,  9.9977e-01,  4.1059e-01,\n",
              "         -2.5925e-02, -1.1485e-01,  1.1423e-01, -1.7440e-01, -1.9496e-01,\n",
              "         -1.4479e-02, -1.3383e-01, -3.3111e-01,  1.2383e-01,  7.3421e-02,\n",
              "         -1.9212e-02, -1.9254e-01,  3.4811e-02, -3.1406e-02,  1.5623e-01,\n",
              "         -2.6109e-01, -1.5501e-01,  1.6543e-01,  8.7773e-02,  8.5717e-02,\n",
              "          9.9096e-03,  7.6857e-02,  1.3037e-01, -1.7995e-02, -8.1839e-02,\n",
              "          1.8999e-01,  5.3254e-02, -1.6501e-01, -5.5773e-03, -1.1090e-01,\n",
              "          2.0055e-02,  4.2883e-02, -1.1080e-01,  6.5564e-02, -5.9938e-02,\n",
              "         -1.4769e-01,  1.4029e-01, -2.0785e-01, -8.2225e-02,  3.9116e-02,\n",
              "         -5.2841e-02,  1.9521e-02, -4.1135e-02,  8.1000e-02, -5.1668e-02,\n",
              "          4.1889e-02, -3.0314e-02,  1.2234e-01, -3.3981e-03, -9.6937e-02,\n",
              "          4.5910e-02,  1.2876e-01,  1.6640e-01,  3.5316e-02,  9.6517e-04,\n",
              "         -2.8227e-01, -2.8187e-02,  1.1777e-03,  1.9611e-01, -1.8084e-01,\n",
              "         -1.6785e-01, -1.3833e-01,  3.2891e-01,  1.5356e-01, -1.1445e-01,\n",
              "         -2.1638e-02,  9.7621e-02, -8.6280e-02, -1.1321e-01,  2.3228e-02,\n",
              "         -1.1357e-01, -5.9268e-02, -2.1936e-01, -1.0102e-01, -7.3808e-02,\n",
              "          1.3516e-01,  1.1286e-01,  2.6180e-02,  1.9154e-02, -1.8361e-01,\n",
              "          4.2073e-02, -5.3433e-02, -1.2430e-01,  2.8262e-02, -3.2128e-02,\n",
              "          6.8550e-01, -3.6016e-02,  6.1366e-02, -8.1388e-02, -9.2885e-03,\n",
              "          6.5459e-02, -3.6667e-02,  7.6165e-02,  7.5960e-01, -9.5121e-03,\n",
              "         -1.3398e-01,  1.9989e-01,  3.4767e-02,  3.5241e-02, -4.5102e-02,\n",
              "          3.9640e-03, -3.4759e-01,  2.4761e-01,  1.8303e-01,  7.1864e-02,\n",
              "         -9.9992e-01, -4.2714e-03,  7.2194e-02,  6.8352e-02,  1.4957e-01,\n",
              "          1.0990e-01,  1.3925e-01,  7.7321e-02,  7.1140e-01, -1.6249e-01,\n",
              "         -1.2566e-01,  1.5036e-01, -1.7703e-01, -1.3501e-01, -1.6555e-01,\n",
              "         -1.5504e-01, -9.4625e-02, -4.9547e-02,  1.8483e-01, -1.5944e-01,\n",
              "          8.6039e-02,  6.0475e-02, -9.5600e-01,  6.7013e-01,  3.1255e-02,\n",
              "         -7.3029e-02,  7.1537e-02,  1.5955e-01, -9.9993e-01,  1.1854e-01,\n",
              "         -5.4403e-03, -5.9179e-02,  8.1071e-02, -2.3035e-01, -6.9099e-02,\n",
              "          2.0577e-02,  1.3194e-01,  9.4423e-02,  2.0796e-01,  1.1743e-01,\n",
              "          2.0642e-01, -2.0202e-01,  2.3657e-02,  9.3336e-02, -6.9820e-02,\n",
              "          3.0489e-01, -7.2150e-02,  2.6989e-02,  1.9160e-01, -1.8591e-01,\n",
              "          9.3887e-02,  3.9188e-02, -1.1505e-02,  6.0867e-02,  2.9380e-03,\n",
              "          2.0853e-02, -1.1898e-03,  3.5025e-02, -4.4124e-01,  1.9845e-01,\n",
              "         -8.5702e-02,  1.2414e-01, -1.7804e-01,  4.9481e-02,  1.0430e-02,\n",
              "         -1.1098e-01,  1.7685e-01,  1.5614e-03,  9.9990e-01, -1.1125e-01,\n",
              "          1.1960e-01,  2.5005e-01,  1.7356e-01,  9.6190e-02, -5.2240e-02,\n",
              "         -3.5818e-01, -4.8868e-02,  2.3026e-01,  4.8960e-03,  3.0900e-02,\n",
              "          1.1478e-01,  1.3918e-01,  5.0792e-02, -5.0612e-02, -6.5897e-02,\n",
              "          5.7652e-02, -1.5368e-01,  4.7155e-02, -3.6299e-02, -4.8775e-02,\n",
              "          5.9158e-02, -5.3484e-02, -1.0062e-01, -6.8578e-01,  6.0475e-02,\n",
              "         -5.5596e-02,  4.6329e-02,  3.3224e-02,  1.9185e-01, -1.7366e-01,\n",
              "          1.5123e-01,  4.8343e-02, -4.3702e-03, -1.2856e-01, -1.8446e-01,\n",
              "         -2.1025e-01,  1.3187e-01, -1.5488e-01, -3.0821e-01,  1.3179e-01,\n",
              "         -5.7282e-01,  7.2160e-02, -7.8206e-02,  3.4134e-02, -6.7503e-02,\n",
              "          3.4974e-02, -9.9528e-01, -5.5564e-02, -3.7319e-02, -1.4919e-01,\n",
              "          1.0034e-01,  1.1737e-02, -1.7825e-01,  9.7621e-02,  8.4202e-02,\n",
              "         -1.2198e-01,  1.4865e-01, -1.3373e-01, -1.2239e-01, -5.6904e-02,\n",
              "         -1.0205e-03,  6.7176e-01,  2.6738e-01,  4.8536e-02, -8.0656e-02,\n",
              "          1.4024e-01, -1.4793e-01, -8.2003e-02,  1.1811e-02,  1.2145e-02,\n",
              "         -8.2614e-02,  4.8696e-02,  1.7630e-02,  9.7412e-02,  4.6266e-02,\n",
              "          9.3446e-02, -8.5149e-02, -6.8043e-02, -3.8268e-03, -1.9928e-01,\n",
              "         -7.0256e-02,  3.1759e-01,  1.7279e-01, -2.4180e-01,  2.5254e-01,\n",
              "          9.7304e-02,  2.1934e-01,  4.8677e-02,  2.4395e-01, -1.2377e-01,\n",
              "         -3.4378e-02,  1.6436e-02,  2.3670e-01, -1.5038e-01, -1.7637e-03,\n",
              "          3.0857e-02,  9.9858e-01,  2.1701e-02, -7.4109e-02, -1.1555e-01,\n",
              "          2.2094e-03,  1.4471e-01, -1.2555e-01,  8.5179e-02,  6.7899e-02,\n",
              "          3.8067e-02, -6.1651e-02,  8.9987e-02,  9.5015e-02,  1.3981e-01,\n",
              "          8.1348e-02, -8.8531e-02,  2.5477e-01,  1.2003e-02,  4.8550e-01,\n",
              "          2.3410e-02, -4.3215e-02, -9.6353e-01,  1.2509e-02,  1.4764e-01,\n",
              "         -1.7166e-01, -1.0603e-01, -1.1823e-03, -4.5083e-02,  2.2076e-03,\n",
              "         -2.6754e-02, -3.2099e-03,  1.6246e-01, -1.0516e-01,  1.5525e-01,\n",
              "         -2.3424e-01,  9.9342e-01, -1.0830e-01, -8.3248e-02,  1.0480e-01,\n",
              "          1.8715e-01,  5.3667e-03, -4.5226e-02, -2.0684e-02,  1.5879e-01,\n",
              "         -4.4285e-02,  1.3075e-01, -7.9563e-01,  1.5853e-01,  7.0845e-02,\n",
              "          1.0413e-01,  7.3181e-02,  3.8042e-01, -2.2141e-01,  1.0070e-03,\n",
              "         -1.1087e-01, -9.5196e-02, -1.5456e-02,  1.5257e-01, -1.5334e-01,\n",
              "         -1.0183e-02, -1.5101e-01,  8.8854e-02, -9.9259e-02,  1.9029e-02,\n",
              "         -1.4440e-01,  1.3402e-01,  1.5061e-02,  3.9792e-02,  6.3713e-02,\n",
              "         -2.4022e-02, -4.4286e-02,  1.2142e-01, -1.9877e-01,  9.9993e-01,\n",
              "         -5.0993e-02,  1.3604e-03,  2.1621e-03,  1.7092e-02,  6.4838e-03,\n",
              "          1.4182e-01,  4.5752e-01, -1.2290e-01,  5.0166e-03,  1.4930e-02,\n",
              "         -4.4954e-01,  7.7871e-02, -2.2992e-01, -6.7141e-01, -8.6787e-02,\n",
              "          7.3918e-01, -1.1185e-01,  2.0086e-01,  1.6593e-01,  2.4637e-01,\n",
              "         -1.7861e-01, -1.6822e-01,  1.2014e-01,  7.0450e-01,  3.5264e-02,\n",
              "         -1.9766e-02,  7.9230e-02, -6.8572e-02, -1.5523e-01, -1.4474e-01,\n",
              "          9.9970e-01,  9.9347e-01,  3.7060e-02,  8.7319e-02, -8.7831e-02,\n",
              "         -5.6777e-02, -6.7258e-02, -2.3301e-02,  1.4364e-01, -1.5131e-01,\n",
              "         -4.7892e-03,  1.0534e-01,  3.3682e-02, -1.1857e-01, -1.5969e-01,\n",
              "         -1.8751e-01, -4.1637e-02,  8.8965e-02, -9.7593e-02,  2.0168e-01,\n",
              "          3.0948e-01, -2.8923e-02,  7.1243e-02, -1.0671e-01,  1.2840e-01,\n",
              "         -2.2272e-01, -7.4978e-02,  6.0304e-02, -6.8582e-03, -6.1159e-02,\n",
              "         -8.4479e-02,  5.2070e-02, -9.9993e-01, -1.0800e-01, -1.3139e-01,\n",
              "         -1.3570e-01,  1.7973e-01, -3.0762e-02, -4.1436e-03, -7.7859e-02,\n",
              "         -6.0893e-02, -6.7571e-02, -6.4476e-03,  3.6808e-02,  1.2699e-01,\n",
              "         -1.0599e-02, -9.2885e-02,  1.2177e-01, -1.9528e-01,  8.7138e-02,\n",
              "         -8.1748e-02, -1.5167e-01, -5.3206e-01,  1.5903e-03, -6.7783e-02,\n",
              "          1.7308e-01,  3.0838e-02, -1.4247e-01,  8.9787e-02,  2.1028e-01,\n",
              "          2.5875e-02, -5.6271e-02,  5.9405e-02, -1.1989e-01,  1.0108e-01,\n",
              "          1.4560e-01,  4.6871e-02,  7.5065e-02, -5.5122e-02, -5.1363e-03,\n",
              "         -4.7605e-02,  2.1141e-03,  6.9018e-03,  9.5105e-02, -1.4283e-01,\n",
              "          1.1469e-01, -7.7007e-02,  1.0875e-01, -4.4690e-05,  1.1298e-01,\n",
              "          2.0436e-02,  1.8400e-01, -8.7689e-02,  2.6627e-01,  8.1369e-02,\n",
              "         -1.5301e-03,  9.1903e-02,  5.3430e-02,  4.2977e-02, -1.1386e-01,\n",
              "          9.9993e-01,  2.8962e-02,  8.9509e-02,  7.8950e-02, -3.5676e-02,\n",
              "          1.1688e-01, -2.8534e-02,  4.5368e-02, -1.1913e-01,  8.4518e-01,\n",
              "         -1.8949e-01,  1.8532e-02,  1.0326e-01,  1.4661e-01,  7.0824e-02,\n",
              "          1.3999e-01,  2.0077e-01,  5.5489e-01,  7.0714e-02,  4.7617e-02,\n",
              "          2.2123e-02,  1.0708e-01,  7.7264e-02,  9.6594e-02,  1.1389e-01,\n",
              "          1.6079e-01,  1.1993e-01,  9.2064e-02, -1.9789e-03,  1.1170e-01,\n",
              "          1.3214e-01, -1.2151e-01, -4.5868e-02, -2.0511e-03,  1.1542e-01,\n",
              "         -8.7561e-02,  6.5675e-03, -4.0499e-02,  1.0131e-01, -6.7274e-02,\n",
              "          1.5778e-01, -1.2734e-02, -7.3162e-02,  3.7853e-01, -7.9304e-02,\n",
              "          1.4855e-01, -1.3383e-01,  6.6153e-02, -6.3213e-01,  3.2267e-02,\n",
              "         -7.9331e-03, -2.5554e-01, -1.6707e-01,  1.0406e-01,  6.7763e-02,\n",
              "          1.1834e-01, -2.4970e-02,  4.7539e-02, -8.1443e-02,  8.1001e-03,\n",
              "          8.7385e-02, -1.3197e-01,  9.6477e-03, -9.9980e-01,  7.4267e-02,\n",
              "         -2.3535e-02, -1.6808e-01, -5.5308e-02,  4.5272e-02, -1.5973e-02,\n",
              "          1.1260e-02, -1.2519e-01,  3.9493e-02, -1.1342e-02,  9.9972e-02,\n",
              "         -5.6799e-02, -6.1167e-02, -1.1128e-01, -1.7589e-02, -1.3557e-01,\n",
              "         -7.0884e-02, -8.6894e-02,  1.9793e-01,  6.5582e-02, -6.9022e-02,\n",
              "          4.1671e-02, -2.1794e-02, -3.4080e-02, -8.6874e-02,  6.4781e-02,\n",
              "         -6.2502e-02, -8.5341e-02,  2.2571e-01, -9.8990e-02, -1.5479e-01,\n",
              "         -9.7985e-02,  1.4669e-01, -1.2666e-01,  1.4501e-01,  1.1437e-01,\n",
              "         -9.4635e-02,  1.9859e-02,  9.4368e-02, -1.2280e-02, -2.1135e-01,\n",
              "          1.3776e-01, -6.6713e-01, -2.6627e-02, -4.9638e-02, -9.6264e-02,\n",
              "          1.9518e-01,  6.0967e-02,  6.7356e-02,  1.4959e-01, -1.1201e-01,\n",
              "          1.9059e-01, -6.3057e-02,  1.3429e-01,  1.7411e-01, -9.3465e-03,\n",
              "          3.2882e-02, -3.7002e-02,  4.0946e-02, -2.9780e-02,  1.0721e-01,\n",
              "         -9.3721e-01, -5.2285e-03,  9.9974e-02, -5.2539e-02,  1.4825e-01,\n",
              "         -9.5037e-02, -1.6769e-02, -8.8582e-02, -3.5673e-02,  1.1322e-01,\n",
              "          1.0505e-01,  8.1112e-02,  8.6426e-02,  1.1048e-01, -1.9650e-01,\n",
              "         -1.6472e-01,  6.3431e-01, -1.1460e-01,  5.7586e-02,  8.2460e-02,\n",
              "         -4.0265e-03,  6.8636e-01,  1.1529e-01,  1.3092e-01,  1.1443e-01,\n",
              "         -9.0145e-02,  9.1622e-02,  1.2942e-01]], device='cuda:0'), hidden_states=None, past_key_values=None, attentions=None, cross_attentions=None)"
            ]
          },
          "metadata": {},
          "execution_count": 16
        }
      ]
    },
    {
      "cell_type": "markdown",
      "source": [
        "И вот наш вектор текста"
      ],
      "metadata": {
        "id": "FAKXRDXlYwOB"
      }
    },
    {
      "cell_type": "code",
      "source": [
        "model_output.last_hidden_state.mean(dim=1).shape"
      ],
      "metadata": {
        "colab": {
          "base_uri": "https://localhost:8080/"
        },
        "id": "JMHH2eiGYogR",
        "outputId": "d03148ea-96b4-4aa4-e6b4-2b5139028e6a"
      },
      "execution_count": 17,
      "outputs": [
        {
          "output_type": "execute_result",
          "data": {
            "text/plain": [
              "torch.Size([1, 768])"
            ]
          },
          "metadata": {},
          "execution_count": 17
        }
      ]
    },
    {
      "cell_type": "markdown",
      "source": [
        "## Визуализируем тексты"
      ],
      "metadata": {
        "id": "UFjBvkoAoVwt"
      }
    },
    {
      "cell_type": "markdown",
      "source": [
        "Здесь обсудим в общих чертах. Идея **снижения размерности** заключается в том, что иногда мы хотим перейти в пространство меньшей размерности (например, от 300 значений в эмбеддинге от word2vec к 2-м для визуализации) так, чтобы потерять как можно меньше информации об отношениях между объектами.\n",
        "\n",
        "Такие алгоритмы могут быть построены двумя способами (возможно, есть еще, но эти основные):\n",
        "1. Отбор признаков - выбираем нужное кол-во признаков из имеющихся (часто используется в МЛ)\n",
        "2. Проекция признаков - преобразуем исходное кол-во характеристик в новое так, что новые характеристики представляют собой некоторую агрегацию старых\n",
        "\n",
        "Популярные алгоритмы с проекциями:\n",
        "- SVD (Singular Value Decomposition)\n",
        "- PCA (Principal Component Analysis)\n",
        "- TSNE (T-distributed Stochastic Neighbor Embedding)\n",
        "- UMAP (Uniform Manifold Approximation and Projection)\n",
        "\n",
        "При этом такие алгоритмы можно также разделить на две категории:\n",
        "- Алгоритмы, сохраняющие преимущественно макро-структуру данных. Они чаще всего основаны на максимизации сохраненной дисперсии и могут терять нюансы взаимного расположения конкретных точек. Сюда относятся PCA и SVD\n",
        "- Алгоритмы, сохраняющие локальную структуру данных. Они хорошо передают паттерны в том, как \"кучкуются точки\", однако не всегда выбирают лучший способ отображения с точки зрения сохранения макро-информации. Сюда относятся t-SNE и UMAP"
      ],
      "metadata": {
        "id": "gLHp5JuLoY0y"
      }
    },
    {
      "cell_type": "markdown",
      "source": [
        "Попробуем применить umap на датасете комментариев с Ютуб"
      ],
      "metadata": {
        "id": "aEUU5i6hptNL"
      }
    },
    {
      "cell_type": "code",
      "source": [
        "!pip install umap-learn -q"
      ],
      "metadata": {
        "id": "PIyqqY1Kp2q9",
        "colab": {
          "base_uri": "https://localhost:8080/",
          "height": 49,
          "referenced_widgets": [
            "11770ae14d0d4db989b1336aa4d081d7",
            "43b150d2fc2d41dd8a1c2e09977c8991",
            "af000a48dd254310b3a91d504b120152",
            "56a4d6d7d2d84c9caf7705ef69e8784f",
            "bc2ab241748649babe2d647e483a87ce",
            "7574975188904acf86891f3447c39324",
            "31cf668de2694a9d843fb69412a037df",
            "a193fee6c2d14051869c4809bfc2dd78",
            "db0e39f5295d4801887df47b5bd489b0",
            "1f2f6808605e4e49896a9c46e2a581c5",
            "28b6c3149f1f40f5a6ca8cb85adaa129"
          ]
        },
        "outputId": "edc6da2c-dfbd-420b-d1bc-d078dc6e2696"
      },
      "execution_count": 18,
      "outputs": [
        {
          "output_type": "display_data",
          "data": {
            "text/plain": [
              "model.safetensors:   0%|          | 0.00/714M [00:00<?, ?B/s]"
            ],
            "application/vnd.jupyter.widget-view+json": {
              "version_major": 2,
              "version_minor": 0,
              "model_id": "11770ae14d0d4db989b1336aa4d081d7"
            }
          },
          "metadata": {}
        }
      ]
    },
    {
      "cell_type": "code",
      "source": [
        "import pandas as pd\n",
        "import umap\n",
        "from tqdm.auto import tqdm\n",
        "from matplotlib import pyplot as plt\n",
        "from sklearn.datasets import fetch_20newsgroups\n",
        "from sklearn.cluster import KMeans\n",
        "from sklearn.metrics import homogeneity_completeness_v_measure"
      ],
      "metadata": {
        "id": "z6gZjv8XorKy"
      },
      "execution_count": 19,
      "outputs": []
    },
    {
      "cell_type": "markdown",
      "source": [
        "Скачаем многоязычного Берта, чтобы он точно с чем угодно справился"
      ],
      "metadata": {
        "id": "LL9lRyr2ywdM"
      }
    },
    {
      "cell_type": "code",
      "source": [
        "model_name = \"google-bert/bert-base-multilingual-uncased\"\n",
        "\n",
        "tokenizer = AutoTokenizer.from_pretrained(model_name)\n",
        "model = AutoModel.from_pretrained(model_name).to(device)"
      ],
      "metadata": {
        "colab": {
          "base_uri": "https://localhost:8080/",
          "height": 177,
          "referenced_widgets": [
            "d28c4982aeab48e2bcb49f401fa9fc01",
            "b922a94848a543868474d93f9b804812",
            "f0d53286681f45fe9726d78ff3276a3e",
            "19566d56041344ed984c6ac207108e26",
            "816b76d65d0449c99d4c53795e189816",
            "5661cc38ac24452db196b776c074f4fa",
            "1d5662d13ca84f49827e735840348958",
            "575e611e21d146bab2f9841c341b296c",
            "aa16d0d01a1245248bf8507e4bd306a0",
            "506941d35ceb4094aa616751003144a9",
            "401188d7744d44f5803e7151dc00ab99",
            "23c839dd4d74477c9f0ee8de82f38601",
            "b4ca1375a2fc42be953466bea22c9bee",
            "0db6c9177e744236a0d2d7f6f436aa66",
            "c76f3f560b234102a6f53f6d4f8a753d",
            "5e20a1b29ef14042b6b21dd42bc6e05e",
            "d818ae5e982244f0b66b01987ea062d8",
            "208d7ad279fd441bae092d274884f24a",
            "9c146c3cb20b4e559d9585e8efbc9f81",
            "c8a56e5cd41648e6903977a6fc156e36",
            "d043ce9503a540d4b49781018c97cc00",
            "6ee9874b030d4be3bd3c4a1ea88d919c",
            "9dfd9b873f58466e8abe7ebdd262ebcf",
            "f56edd20e4b14458a722dd3207576a0f",
            "cbd1b3696ad5403da679d6e473115b46",
            "29c97ea7d6f04ef98305ca6857849f82",
            "f14c607ed4694730a9c4ff70a01b96b0",
            "e15be5695ecf4f2699882498b20c6af8",
            "fcc4dba3352049ee940d6d8ce83c611d",
            "9b8f83cee7db4807978dfab2cdde3f5b",
            "1dc234f519694222840a8d76b5a255cb",
            "db87ee4f1c04432892b3611070b8dcff",
            "8cba1efd85774e95b536ff6c89297d2c",
            "a13fb8b0628f42ee809e54b2ff1e86ac",
            "8643437e961a44d4b02d30179d577967",
            "c4460ae6be474d5180e587d399b31839",
            "bb28ccf9ff344ecdbe3793bbda295e37",
            "76302c30c011461b8ce626f43d2f650c",
            "e7457eba628c4207b18bbf7fb7eac97e",
            "1b69b24a24df4239812e3845d8aa3dfc",
            "ab63c55a282c4e7986e283ffec33f14b",
            "540922107c874fb6a3748e879453013e",
            "9e7515768bf643439fe147b2da499f43",
            "ba0abfc2f0a84c18ad566a2efd9366a7",
            "87d595aefb8f40bcbec59208d9cd835a",
            "2d78ae54a245456b885b19b84f0ae749",
            "c7ff35d679bf46a3bdee41cf7e220f6d",
            "a21a9916e4264843bed2e6dd0ee7c5ea",
            "ca24a36ea35148b58a15a1044e2ff2d2",
            "eb8e18e15aac4c75b90fe786c9bad5cb",
            "451dbbb74bf74478a1821e2df2130b72",
            "ce0bdb5b465a4eaa9e6ea8e5bbabc20c",
            "8b4412d50b7648588c95d3de5033d9fb",
            "6eff0c4ce4d84c25999a7c69f12b3a0d",
            "b789f21615aa498d9174414aad391374"
          ]
        },
        "id": "IVDjnYr3sZSU",
        "outputId": "60bb88e9-39f4-41c6-d72f-18786e6da756"
      },
      "execution_count": 20,
      "outputs": [
        {
          "output_type": "display_data",
          "data": {
            "text/plain": [
              "tokenizer_config.json:   0%|          | 0.00/48.0 [00:00<?, ?B/s]"
            ],
            "application/vnd.jupyter.widget-view+json": {
              "version_major": 2,
              "version_minor": 0,
              "model_id": "d28c4982aeab48e2bcb49f401fa9fc01"
            }
          },
          "metadata": {}
        },
        {
          "output_type": "display_data",
          "data": {
            "text/plain": [
              "config.json:   0%|          | 0.00/625 [00:00<?, ?B/s]"
            ],
            "application/vnd.jupyter.widget-view+json": {
              "version_major": 2,
              "version_minor": 0,
              "model_id": "23c839dd4d74477c9f0ee8de82f38601"
            }
          },
          "metadata": {}
        },
        {
          "output_type": "display_data",
          "data": {
            "text/plain": [
              "vocab.txt:   0%|          | 0.00/872k [00:00<?, ?B/s]"
            ],
            "application/vnd.jupyter.widget-view+json": {
              "version_major": 2,
              "version_minor": 0,
              "model_id": "9dfd9b873f58466e8abe7ebdd262ebcf"
            }
          },
          "metadata": {}
        },
        {
          "output_type": "display_data",
          "data": {
            "text/plain": [
              "tokenizer.json:   0%|          | 0.00/1.72M [00:00<?, ?B/s]"
            ],
            "application/vnd.jupyter.widget-view+json": {
              "version_major": 2,
              "version_minor": 0,
              "model_id": "a13fb8b0628f42ee809e54b2ff1e86ac"
            }
          },
          "metadata": {}
        },
        {
          "output_type": "display_data",
          "data": {
            "text/plain": [
              "model.safetensors:   0%|          | 0.00/672M [00:00<?, ?B/s]"
            ],
            "application/vnd.jupyter.widget-view+json": {
              "version_major": 2,
              "version_minor": 0,
              "model_id": "87d595aefb8f40bcbec59208d9cd835a"
            }
          },
          "metadata": {}
        }
      ]
    },
    {
      "cell_type": "markdown",
      "source": [
        "Скачаем знакомый нам датасет новостей"
      ],
      "metadata": {
        "id": "xU3Ykgmry1zM"
      }
    },
    {
      "cell_type": "code",
      "source": [
        "my_groups = fetch_20newsgroups(\n",
        "    categories=[\n",
        "        'soc.religion.christian',\n",
        "        'talk.politics.guns',\n",
        "        'sci.med',\n",
        "        'rec.autos',\n",
        "        'comp.sys.mac.hardware'\n",
        "    ])\n",
        "\n",
        "df = pd.DataFrame({'text': my_groups['data'], 'target': my_groups['target']})\n",
        "df.target = df.target.apply(lambda x: my_groups['target_names'][x])\n",
        "\n",
        "df.head()"
      ],
      "metadata": {
        "colab": {
          "base_uri": "https://localhost:8080/",
          "height": 206
        },
        "id": "4MpBI_8op6PB",
        "outputId": "fd503b24-ce43-4374-f8b5-8a49b53a9a0a"
      },
      "execution_count": 21,
      "outputs": [
        {
          "output_type": "execute_result",
          "data": {
            "text/plain": [
              "                                                text                  target\n",
              "0  From: black@sybase.com (Chris Black)\\nSubject:...                 sci.med\n",
              "1  From: db7n+@andrew.cmu.edu (D. Andrew Byler)\\n...  soc.religion.christian\n",
              "2  From: mrl@pfc.mit.edu (Mark London)\\nSubject: ...                 sci.med\n",
              "3  From: hades@coos.dartmouth.edu (Brian V. Hughe...   comp.sys.mac.hardware\n",
              "4  From: tcorkum@bnr.ca (Trevor Corkum)\\nSubject:...               rec.autos"
            ],
            "text/html": [
              "\n",
              "  <div id=\"df-5b78c5c7-992b-4528-a2e5-970db42abebc\" class=\"colab-df-container\">\n",
              "    <div>\n",
              "<style scoped>\n",
              "    .dataframe tbody tr th:only-of-type {\n",
              "        vertical-align: middle;\n",
              "    }\n",
              "\n",
              "    .dataframe tbody tr th {\n",
              "        vertical-align: top;\n",
              "    }\n",
              "\n",
              "    .dataframe thead th {\n",
              "        text-align: right;\n",
              "    }\n",
              "</style>\n",
              "<table border=\"1\" class=\"dataframe\">\n",
              "  <thead>\n",
              "    <tr style=\"text-align: right;\">\n",
              "      <th></th>\n",
              "      <th>text</th>\n",
              "      <th>target</th>\n",
              "    </tr>\n",
              "  </thead>\n",
              "  <tbody>\n",
              "    <tr>\n",
              "      <th>0</th>\n",
              "      <td>From: black@sybase.com (Chris Black)\\nSubject:...</td>\n",
              "      <td>sci.med</td>\n",
              "    </tr>\n",
              "    <tr>\n",
              "      <th>1</th>\n",
              "      <td>From: db7n+@andrew.cmu.edu (D. Andrew Byler)\\n...</td>\n",
              "      <td>soc.religion.christian</td>\n",
              "    </tr>\n",
              "    <tr>\n",
              "      <th>2</th>\n",
              "      <td>From: mrl@pfc.mit.edu (Mark London)\\nSubject: ...</td>\n",
              "      <td>sci.med</td>\n",
              "    </tr>\n",
              "    <tr>\n",
              "      <th>3</th>\n",
              "      <td>From: hades@coos.dartmouth.edu (Brian V. Hughe...</td>\n",
              "      <td>comp.sys.mac.hardware</td>\n",
              "    </tr>\n",
              "    <tr>\n",
              "      <th>4</th>\n",
              "      <td>From: tcorkum@bnr.ca (Trevor Corkum)\\nSubject:...</td>\n",
              "      <td>rec.autos</td>\n",
              "    </tr>\n",
              "  </tbody>\n",
              "</table>\n",
              "</div>\n",
              "    <div class=\"colab-df-buttons\">\n",
              "\n",
              "  <div class=\"colab-df-container\">\n",
              "    <button class=\"colab-df-convert\" onclick=\"convertToInteractive('df-5b78c5c7-992b-4528-a2e5-970db42abebc')\"\n",
              "            title=\"Convert this dataframe to an interactive table.\"\n",
              "            style=\"display:none;\">\n",
              "\n",
              "  <svg xmlns=\"http://www.w3.org/2000/svg\" height=\"24px\" viewBox=\"0 -960 960 960\">\n",
              "    <path d=\"M120-120v-720h720v720H120Zm60-500h600v-160H180v160Zm220 220h160v-160H400v160Zm0 220h160v-160H400v160ZM180-400h160v-160H180v160Zm440 0h160v-160H620v160ZM180-180h160v-160H180v160Zm440 0h160v-160H620v160Z\"/>\n",
              "  </svg>\n",
              "    </button>\n",
              "\n",
              "  <style>\n",
              "    .colab-df-container {\n",
              "      display:flex;\n",
              "      gap: 12px;\n",
              "    }\n",
              "\n",
              "    .colab-df-convert {\n",
              "      background-color: #E8F0FE;\n",
              "      border: none;\n",
              "      border-radius: 50%;\n",
              "      cursor: pointer;\n",
              "      display: none;\n",
              "      fill: #1967D2;\n",
              "      height: 32px;\n",
              "      padding: 0 0 0 0;\n",
              "      width: 32px;\n",
              "    }\n",
              "\n",
              "    .colab-df-convert:hover {\n",
              "      background-color: #E2EBFA;\n",
              "      box-shadow: 0px 1px 2px rgba(60, 64, 67, 0.3), 0px 1px 3px 1px rgba(60, 64, 67, 0.15);\n",
              "      fill: #174EA6;\n",
              "    }\n",
              "\n",
              "    .colab-df-buttons div {\n",
              "      margin-bottom: 4px;\n",
              "    }\n",
              "\n",
              "    [theme=dark] .colab-df-convert {\n",
              "      background-color: #3B4455;\n",
              "      fill: #D2E3FC;\n",
              "    }\n",
              "\n",
              "    [theme=dark] .colab-df-convert:hover {\n",
              "      background-color: #434B5C;\n",
              "      box-shadow: 0px 1px 3px 1px rgba(0, 0, 0, 0.15);\n",
              "      filter: drop-shadow(0px 1px 2px rgba(0, 0, 0, 0.3));\n",
              "      fill: #FFFFFF;\n",
              "    }\n",
              "  </style>\n",
              "\n",
              "    <script>\n",
              "      const buttonEl =\n",
              "        document.querySelector('#df-5b78c5c7-992b-4528-a2e5-970db42abebc button.colab-df-convert');\n",
              "      buttonEl.style.display =\n",
              "        google.colab.kernel.accessAllowed ? 'block' : 'none';\n",
              "\n",
              "      async function convertToInteractive(key) {\n",
              "        const element = document.querySelector('#df-5b78c5c7-992b-4528-a2e5-970db42abebc');\n",
              "        const dataTable =\n",
              "          await google.colab.kernel.invokeFunction('convertToInteractive',\n",
              "                                                    [key], {});\n",
              "        if (!dataTable) return;\n",
              "\n",
              "        const docLinkHtml = 'Like what you see? Visit the ' +\n",
              "          '<a target=\"_blank\" href=https://colab.research.google.com/notebooks/data_table.ipynb>data table notebook</a>'\n",
              "          + ' to learn more about interactive tables.';\n",
              "        element.innerHTML = '';\n",
              "        dataTable['output_type'] = 'display_data';\n",
              "        await google.colab.output.renderOutput(dataTable, element);\n",
              "        const docLink = document.createElement('div');\n",
              "        docLink.innerHTML = docLinkHtml;\n",
              "        element.appendChild(docLink);\n",
              "      }\n",
              "    </script>\n",
              "  </div>\n",
              "\n",
              "\n",
              "<div id=\"df-3cd430d0-fa31-4391-a934-daa1e30f2742\">\n",
              "  <button class=\"colab-df-quickchart\" onclick=\"quickchart('df-3cd430d0-fa31-4391-a934-daa1e30f2742')\"\n",
              "            title=\"Suggest charts\"\n",
              "            style=\"display:none;\">\n",
              "\n",
              "<svg xmlns=\"http://www.w3.org/2000/svg\" height=\"24px\"viewBox=\"0 0 24 24\"\n",
              "     width=\"24px\">\n",
              "    <g>\n",
              "        <path d=\"M19 3H5c-1.1 0-2 .9-2 2v14c0 1.1.9 2 2 2h14c1.1 0 2-.9 2-2V5c0-1.1-.9-2-2-2zM9 17H7v-7h2v7zm4 0h-2V7h2v10zm4 0h-2v-4h2v4z\"/>\n",
              "    </g>\n",
              "</svg>\n",
              "  </button>\n",
              "\n",
              "<style>\n",
              "  .colab-df-quickchart {\n",
              "      --bg-color: #E8F0FE;\n",
              "      --fill-color: #1967D2;\n",
              "      --hover-bg-color: #E2EBFA;\n",
              "      --hover-fill-color: #174EA6;\n",
              "      --disabled-fill-color: #AAA;\n",
              "      --disabled-bg-color: #DDD;\n",
              "  }\n",
              "\n",
              "  [theme=dark] .colab-df-quickchart {\n",
              "      --bg-color: #3B4455;\n",
              "      --fill-color: #D2E3FC;\n",
              "      --hover-bg-color: #434B5C;\n",
              "      --hover-fill-color: #FFFFFF;\n",
              "      --disabled-bg-color: #3B4455;\n",
              "      --disabled-fill-color: #666;\n",
              "  }\n",
              "\n",
              "  .colab-df-quickchart {\n",
              "    background-color: var(--bg-color);\n",
              "    border: none;\n",
              "    border-radius: 50%;\n",
              "    cursor: pointer;\n",
              "    display: none;\n",
              "    fill: var(--fill-color);\n",
              "    height: 32px;\n",
              "    padding: 0;\n",
              "    width: 32px;\n",
              "  }\n",
              "\n",
              "  .colab-df-quickchart:hover {\n",
              "    background-color: var(--hover-bg-color);\n",
              "    box-shadow: 0 1px 2px rgba(60, 64, 67, 0.3), 0 1px 3px 1px rgba(60, 64, 67, 0.15);\n",
              "    fill: var(--button-hover-fill-color);\n",
              "  }\n",
              "\n",
              "  .colab-df-quickchart-complete:disabled,\n",
              "  .colab-df-quickchart-complete:disabled:hover {\n",
              "    background-color: var(--disabled-bg-color);\n",
              "    fill: var(--disabled-fill-color);\n",
              "    box-shadow: none;\n",
              "  }\n",
              "\n",
              "  .colab-df-spinner {\n",
              "    border: 2px solid var(--fill-color);\n",
              "    border-color: transparent;\n",
              "    border-bottom-color: var(--fill-color);\n",
              "    animation:\n",
              "      spin 1s steps(1) infinite;\n",
              "  }\n",
              "\n",
              "  @keyframes spin {\n",
              "    0% {\n",
              "      border-color: transparent;\n",
              "      border-bottom-color: var(--fill-color);\n",
              "      border-left-color: var(--fill-color);\n",
              "    }\n",
              "    20% {\n",
              "      border-color: transparent;\n",
              "      border-left-color: var(--fill-color);\n",
              "      border-top-color: var(--fill-color);\n",
              "    }\n",
              "    30% {\n",
              "      border-color: transparent;\n",
              "      border-left-color: var(--fill-color);\n",
              "      border-top-color: var(--fill-color);\n",
              "      border-right-color: var(--fill-color);\n",
              "    }\n",
              "    40% {\n",
              "      border-color: transparent;\n",
              "      border-right-color: var(--fill-color);\n",
              "      border-top-color: var(--fill-color);\n",
              "    }\n",
              "    60% {\n",
              "      border-color: transparent;\n",
              "      border-right-color: var(--fill-color);\n",
              "    }\n",
              "    80% {\n",
              "      border-color: transparent;\n",
              "      border-right-color: var(--fill-color);\n",
              "      border-bottom-color: var(--fill-color);\n",
              "    }\n",
              "    90% {\n",
              "      border-color: transparent;\n",
              "      border-bottom-color: var(--fill-color);\n",
              "    }\n",
              "  }\n",
              "</style>\n",
              "\n",
              "  <script>\n",
              "    async function quickchart(key) {\n",
              "      const quickchartButtonEl =\n",
              "        document.querySelector('#' + key + ' button');\n",
              "      quickchartButtonEl.disabled = true;  // To prevent multiple clicks.\n",
              "      quickchartButtonEl.classList.add('colab-df-spinner');\n",
              "      try {\n",
              "        const charts = await google.colab.kernel.invokeFunction(\n",
              "            'suggestCharts', [key], {});\n",
              "      } catch (error) {\n",
              "        console.error('Error during call to suggestCharts:', error);\n",
              "      }\n",
              "      quickchartButtonEl.classList.remove('colab-df-spinner');\n",
              "      quickchartButtonEl.classList.add('colab-df-quickchart-complete');\n",
              "    }\n",
              "    (() => {\n",
              "      let quickchartButtonEl =\n",
              "        document.querySelector('#df-3cd430d0-fa31-4391-a934-daa1e30f2742 button');\n",
              "      quickchartButtonEl.style.display =\n",
              "        google.colab.kernel.accessAllowed ? 'block' : 'none';\n",
              "    })();\n",
              "  </script>\n",
              "</div>\n",
              "\n",
              "    </div>\n",
              "  </div>\n"
            ],
            "application/vnd.google.colaboratory.intrinsic+json": {
              "type": "dataframe",
              "variable_name": "df",
              "summary": "{\n  \"name\": \"df\",\n  \"rows\": 2911,\n  \"fields\": [\n    {\n      \"column\": \"text\",\n      \"properties\": {\n        \"dtype\": \"string\",\n        \"num_unique_values\": 2911,\n        \"samples\": [\n          \"From: welty@cabot.balltown.cma.COM (richard welty)\\nSubject: Re: Saturn's Pricing Policy\\nOrganization: New York State Institute for Sebastian Cabot Studies\\nLines: 20\\n\\nIn article <1993Apr5.230808.581@cs.brown.edu> cs012055@cs.brown.edu (Hok-Chung Tsang) writes:\\n>Moreover, if Saturn really does reduce the dealer profit margin by $1000, \\n>then their cars will be even better deals.  Say, if the price of a Saturn was\\n>already $1000 below market average for the class of cars, then after they\\n>reduce the dealer profit, it would be $2000 below market average.  It will:\\n\\n>1) Attract even more people to buy Saturns because it would SAVE THEM MONEY.\\n\\n>2) Force the competitors to lower their prices to survive.\\n\\nbut what is Saturn's motivation here?  they're already selling every\\ncar they make, with multiple shifts in the plant.  given this, what\\npossible motivation could they have to lower prices?\\n\\ncheers,\\n  richard\\n-- \\nrichard welty        518-393-7228       welty@cabot.balltown.cma.com\\n``Nothing good has ever been reported about the full rotation of\\n  a race car about either its pitch or roll axis''  -- Carroll Smith\\n\",\n          \"From: jbs@rti.rti.org\\nSubject: Re: text of White House announcement and Q&As on clipper chip encryption\\nOrganization: Joe's Bar and Grill\\nDistribution: na\\nLines: 24\\n\\nIn article <strnlghtC5tr6D.n3n@netcom.com> strnlght@netcom.com (David Sternlight) writes:\\n>\\n>Though I agree this is not the place to discuss guns, I note in passing that\\n>a number of gun apologists seem to have ignored the words \\\"well regulated\\\"\\n>in their distorted interpretations of the Second Amendment.\\n\\nWhat interpretations?  Just read it as it's written.\\n   \\\"A well-regulated militia, being necessary to the security of a free\\nstate, the right of the people, to keep and bear arms, shall not be\\ninfringed.\\\"\\n\\nWhere does it say \\\"The right of the people to be members of a militia shall\\nnot be infringed\\\" or \\\"The right of the militia to keep and bear arms shall\\nnot be infringed?\\\"  NOWHERE.\\n\\n\\n\\\"Well-educated businessmen being necessary to the ability of the nation to\\ncompete in the international marketplace, the right of the people to attend\\nschools shall not be infringed.\\\"\\n\\nWould you \\\"interpret\\\" this to mean that only businessmen should have a\\nprotected right to attend schools?  Why or why not?\\n\\n  -joe\\n\",\n          \"From: parr@acs.ucalgary.ca (Charles Parr)\\nSubject: Re: Dumbest automotive concepts of all time\\nNntp-Posting-Host: acs3.acs.ucalgary.ca\\nOrganization: The University of Calgary, Alberta\\nLines: 23\\n\\nIn article <1327@qa1.WichitaKS.NCR.COM> jhart@qa1.WichitaKS.NCR.COM (Jim Hart) writes:\\n>In article <1993Mar29.161044.1@uncavx.unca.edu> bwillard@uncavx.unca.edu\\n>writes:\\n>>My TOP 10 list of dumbest automotive concepts ever\\n>>\\n>>10. 1984 Dodge Colt Vista - tachometer only avail. with automatic trans.\\n>>9. Back-up lights on Corvette - they're on the sides of the car!\\n>              ^^^^^^^^^^^^^^^^^^^            ^^^^^^^^^^^^^\\n>Sure would be interested to know what year(s) this was!\\n>I don't seem to recall ANY car with back-up lights on the sides, much\\n>less any Corvette.  I suppose I could be mis-interpreting what you are\\n>trying to say here.....\\n\\nJust a quick comment. Backup lights mounted on the side\\nwould actually be *extremely* useful for people backing out of\\nparking stalls...\\n\\nRegards, Charles\\n-- \\nWithin the span of the last few weeks I have heard elements of\\nseparate threads which, in that they have been conjoined in time,\\nstruck together to form a new chord within my hollow and echoing\\ngourd. --Unknown net.person\\n\"\n        ],\n        \"semantic_type\": \"\",\n        \"description\": \"\"\n      }\n    },\n    {\n      \"column\": \"target\",\n      \"properties\": {\n        \"dtype\": \"category\",\n        \"num_unique_values\": 5,\n        \"samples\": [\n          \"soc.religion.christian\",\n          \"talk.politics.guns\",\n          \"comp.sys.mac.hardware\"\n        ],\n        \"semantic_type\": \"\",\n        \"description\": \"\"\n      }\n    }\n  ]\n}"
            }
          },
          "metadata": {},
          "execution_count": 21
        }
      ]
    },
    {
      "cell_type": "markdown",
      "source": [
        "Датасет большой, возьмем только 200 текстов из каждого класса"
      ],
      "metadata": {
        "id": "YUWmeMCFqPAm"
      }
    },
    {
      "cell_type": "code",
      "source": [
        "df = df.groupby('target').sample(200, random_state=42).reset_index(drop=True)\n",
        "df.shape"
      ],
      "metadata": {
        "colab": {
          "base_uri": "https://localhost:8080/"
        },
        "id": "xkDKVBlLqGTL",
        "outputId": "ada1cc8a-819f-40f9-e55e-b6a5c29516b7"
      },
      "execution_count": 22,
      "outputs": [
        {
          "output_type": "execute_result",
          "data": {
            "text/plain": [
              "(1000, 2)"
            ]
          },
          "metadata": {},
          "execution_count": 22
        }
      ]
    },
    {
      "cell_type": "markdown",
      "source": [
        "Функция для векторизации текста батчами (пачками)"
      ],
      "metadata": {
        "id": "PppnsJdwy5A1"
      }
    },
    {
      "cell_type": "code",
      "source": [
        "def vectorize_text(data, batch_size=256):\n",
        "    res = []\n",
        "    for i in tqdm(range(0, data.shape[0], batch_size)):\n",
        "        text = data.iloc[i:i + batch_size].text.tolist()\n",
        "\n",
        "        toks = tokenizer(text, padding='max_length', truncation=True,\n",
        "                 return_tensors='pt', max_length=512)\n",
        "\n",
        "        with torch.no_grad():\n",
        "            model_output = model(**{k: v.to(model.device) for k, v in toks.items()})\n",
        "        res.append(model_output.last_hidden_state.mean(dim=1).detach().cpu())\n",
        "\n",
        "    res = torch.vstack(res)\n",
        "\n",
        "    assert res.shape[0] == data.shape[0]\n",
        "    return res"
      ],
      "metadata": {
        "id": "_9Hq7xReqfbf"
      },
      "execution_count": 23,
      "outputs": []
    },
    {
      "cell_type": "code",
      "source": [
        "vecs = vectorize_text(df)"
      ],
      "metadata": {
        "colab": {
          "base_uri": "https://localhost:8080/",
          "height": 49,
          "referenced_widgets": [
            "302078ab37ae483499426cb91104437d",
            "a760cd75f78048a99a9661b9e7506482",
            "65e13f141b8f4428a07c37a8ca3a50da",
            "7ba455c8003448319be6578b9a1cbd0d",
            "1d5850be659c432892bf538c552ad616",
            "4573d389cf2848e8a61ce8d8d7707722",
            "040de140b0cc423eb5e26c140a54eff3",
            "39b5f6206a334b9a91c36502ff916206",
            "2fe79ab075624546aaba795a9e13720e",
            "fa244df6da2d41f7b7eb3345aff47a7e",
            "2c6517343f4b406f993614dedde8b7f2"
          ]
        },
        "id": "87E1omcwqAhF",
        "outputId": "376f54a3-e716-46fc-c426-485442a8e655"
      },
      "execution_count": 24,
      "outputs": [
        {
          "output_type": "display_data",
          "data": {
            "text/plain": [
              "  0%|          | 0/4 [00:00<?, ?it/s]"
            ],
            "application/vnd.jupyter.widget-view+json": {
              "version_major": 2,
              "version_minor": 0,
              "model_id": "302078ab37ae483499426cb91104437d"
            }
          },
          "metadata": {}
        }
      ]
    },
    {
      "cell_type": "markdown",
      "source": [
        "Приведем наши данные к размерности два, чтобы можно было хорошо нарисовать"
      ],
      "metadata": {
        "id": "HLo4_WbEzCF1"
      }
    },
    {
      "cell_type": "code",
      "source": [
        "reducer = umap.UMAP(n_components=2)\n",
        "\n",
        "vecs2 = reducer.fit_transform(vecs)\n",
        "print(vecs2.shape)"
      ],
      "metadata": {
        "colab": {
          "base_uri": "https://localhost:8080/"
        },
        "id": "8ORL09WbtTho",
        "outputId": "6e1a9368-1fe9-4471-9e24-ee0c1dd02442"
      },
      "execution_count": 25,
      "outputs": [
        {
          "output_type": "stream",
          "name": "stderr",
          "text": [
            "/usr/local/lib/python3.11/dist-packages/sklearn/utils/deprecation.py:151: FutureWarning: 'force_all_finite' was renamed to 'ensure_all_finite' in 1.6 and will be removed in 1.8.\n",
            "  warnings.warn(\n"
          ]
        },
        {
          "output_type": "stream",
          "name": "stdout",
          "text": [
            "(1000, 2)\n"
          ]
        }
      ]
    },
    {
      "cell_type": "markdown",
      "source": [
        "Посмотрим, как соотносится наше отображение с классами из датасета. Кажется, что классы не совсем линейно разделимы"
      ],
      "metadata": {
        "id": "3G220PmIzH1B"
      }
    },
    {
      "cell_type": "code",
      "source": [
        "for topic in df.target.unique():\n",
        "    idx = df[df.target == topic].index.tolist()\n",
        "\n",
        "    plt.scatter(\n",
        "        vecs2[idx, 0],\n",
        "        vecs2[idx, 1],\n",
        "        label=topic)\n",
        "\n",
        "plt.gca().set_aspect('equal', 'datalim')\n",
        "plt.title('UMAP projection of data', fontsize=12)\n",
        "plt.legend()"
      ],
      "metadata": {
        "colab": {
          "base_uri": "https://localhost:8080/",
          "height": 469
        },
        "id": "oR4E3qPmtQN6",
        "outputId": "6b942057-f1f8-42b9-b959-0f86860ff38f"
      },
      "execution_count": 26,
      "outputs": [
        {
          "output_type": "execute_result",
          "data": {
            "text/plain": [
              "<matplotlib.legend.Legend at 0x7fb3af554610>"
            ]
          },
          "metadata": {},
          "execution_count": 26
        },
        {
          "output_type": "display_data",
          "data": {
            "text/plain": [
              "<Figure size 640x480 with 1 Axes>"
            ],
            "image/png": "[encoded data removed]"
          },
          "metadata": {}
        }
      ]
    },
    {
      "cell_type": "markdown",
      "source": [
        "Попробуем кластеризовать с помощью K-Means, чтобы понять, насколько такому алгоритму сложно работать со структурой, отобразившейся выше"
      ],
      "metadata": {
        "id": "4O4rK0iCzNMR"
      }
    },
    {
      "cell_type": "code",
      "source": [
        "kmeans = KMeans(n_clusters=10, random_state=0, n_init=\"auto\")\n",
        "kmeans.fit(vecs)\n",
        "\n",
        "clust = kmeans.labels_\n",
        "homogeneity_completeness_v_measure(df.target, clust)"
      ],
      "metadata": {
        "colab": {
          "base_uri": "https://localhost:8080/"
        },
        "id": "vjcw9ooHw-fw",
        "outputId": "4041e631-b591-462a-9dd8-1b777bf059fc"
      },
      "execution_count": 27,
      "outputs": [
        {
          "output_type": "execute_result",
          "data": {
            "text/plain": [
              "(0.28285993472531, 0.21759900791365963, 0.24597438842911074)"
            ]
          },
          "metadata": {},
          "execution_count": 27
        }
      ]
    },
    {
      "cell_type": "code",
      "source": [
        "form = ['1', '2', '3', '4', '+']\n",
        "\n",
        "topics = df.target.unique()\n",
        "# topics = ['comp.sys.mac.hardware', 'rec.autos', 'sci.med', 'soc.religion.christian', 'talk.politics.guns']\n",
        "\n",
        "for i, topic in enumerate(topics):\n",
        "    idx = df[df.target == topic].index.tolist()\n",
        "\n",
        "    plt.scatter(\n",
        "        vecs2[idx, 0],\n",
        "        vecs2[idx, 1],\n",
        "        label=topic,\n",
        "        c=clust[idx],\n",
        "        marker=form[i]\n",
        "        )\n",
        "\n",
        "plt.gca().set_aspect('equal', 'datalim')\n",
        "plt.title('UMAP projection of data', fontsize=12)\n",
        "plt.legend()"
      ],
      "metadata": {
        "colab": {
          "base_uri": "https://localhost:8080/",
          "height": 469
        },
        "id": "2_NzeNMYxuhK",
        "outputId": "45e3063a-63b6-46b2-ce7e-f9944dd3b14a"
      },
      "execution_count": 28,
      "outputs": [
        {
          "output_type": "execute_result",
          "data": {
            "text/plain": [
              "<matplotlib.legend.Legend at 0x7fb3ad219a90>"
            ]
          },
          "metadata": {},
          "execution_count": 28
        },
        {
          "output_type": "display_data",
          "data": {
            "text/plain": [
              "<Figure size 640x480 with 1 Axes>"
            ],
            "image/png": "[encoded data removed]"
          },
          "metadata": {}
        }
      ]
    },
    {
      "cell_type": "markdown",
      "source": [
        "А теперь попробуем кластеризацию на данных со сниженной размерностью. Заметим, что теперь границы между кластерами стали более ровные"
      ],
      "metadata": {
        "id": "Y2WwDo-XzjkE"
      }
    },
    {
      "cell_type": "code",
      "source": [
        "kmeans = KMeans(n_clusters=10, random_state=0, n_init=\"auto\")\n",
        "kmeans.fit(vecs2)\n",
        "\n",
        "clust = kmeans.labels_\n",
        "homogeneity_completeness_v_measure(df.target, clust)"
      ],
      "metadata": {
        "colab": {
          "base_uri": "https://localhost:8080/"
        },
        "id": "B_jg9gWLzdBF",
        "outputId": "d079253c-883b-4141-b7b8-d68510048d8f"
      },
      "execution_count": 29,
      "outputs": [
        {
          "output_type": "execute_result",
          "data": {
            "text/plain": [
              "(0.47499497067362956, 0.3460764078543229, 0.40041476904069895)"
            ]
          },
          "metadata": {},
          "execution_count": 29
        }
      ]
    },
    {
      "cell_type": "code",
      "source": [
        "form = ['1', '2', '3', '4', '+']\n",
        "\n",
        "topics = df.target.unique()\n",
        "# topics = ['comp.sys.mac.hardware', 'rec.autos', 'sci.med', 'soc.religion.christian', 'talk.politics.guns']\n",
        "\n",
        "for i, topic in enumerate(topics):\n",
        "    idx = df[df.target == topic].index.tolist()\n",
        "\n",
        "    plt.scatter(\n",
        "        vecs2[idx, 0],\n",
        "        vecs2[idx, 1],\n",
        "        label=topic,\n",
        "        c=clust[idx],\n",
        "        marker=form[i]\n",
        "        )\n",
        "\n",
        "plt.gca().set_aspect('equal', 'datalim')\n",
        "plt.title('UMAP projection of data', fontsize=12)\n",
        "plt.legend()"
      ],
      "metadata": {
        "colab": {
          "base_uri": "https://localhost:8080/",
          "height": 469
        },
        "id": "fDXn9kPOze2P",
        "outputId": "c5655ae3-d270-40ae-bf75-47400ac89b0f"
      },
      "execution_count": 30,
      "outputs": [
        {
          "output_type": "execute_result",
          "data": {
            "text/plain": [
              "<matplotlib.legend.Legend at 0x7fb3ad2ce6d0>"
            ]
          },
          "metadata": {},
          "execution_count": 30
        },
        {
          "output_type": "display_data",
          "data": {
            "text/plain": [
              "<Figure size 640x480 with 1 Axes>"
            ],
            "image/png": "[encoded data removed]"
          },
          "metadata": {}
        }
      ]
    },
    {
      "cell_type": "markdown",
      "source": [
        "## Большие языковые модели"
      ],
      "metadata": {
        "id": "ci6R1zIeNj9x"
      }
    },
    {
      "cell_type": "markdown",
      "source": [
        "Внутри модели word2vec каждому слову ставится в соответвие вектор из 300 чисел. В Берте - обычно 512, 768 или 1024. Хотя на первый вгляд LLM могут выдавать вектора той же размерности, количество внутренних параметров, которое использовалось для получение итоговых репрезентаций, отличается в сотни, тысячи или даже десятки тысяч раз.\n",
        "\n",
        "В стандартном Берте для русского языка порядка 180М параметров, и рядом с современными LLM он выглядит маленьким.\n",
        "\n",
        "Как вы считаете, сколько же может быть у них параметров? И сколько же данных и времени надо, чтобы обучить что-то настолько огромное?"
      ],
      "metadata": {
        "id": "AuO0dMoSNnIq"
      }
    },
    {
      "cell_type": "markdown",
      "source": [
        "При этом сейчас большие языковые модели очень активно используются в качестве чат-ассистентов, способных оказывать помощь во множестве задач: от написания эссе или составления плана тренировок до создания сайта или даже обучения своей модели.\n",
        "\n",
        "Но здесь важно понимать, что \"Искусственный интеллект\" не обладает интеллектом. Это просто генератор последовательности слов. **Лингвомодели не обладают никаким знанием о мире**, а только о последовательностях слов в текстах. Они не умеют рассуждать $-$ они умеют порождать тексты, похожие на рассуждения.\n",
        "\n",
        "И при этом **модели часто генерируют галлюцинации**.\n",
        "\n",
        "Галлюцинациями называют ответы больших языковых моделей, которые звучат правдиво, но на самом деле являются ошибочными. Простой пример $-$ вы спрашиваете у чат-бота, кто написал «Женитьбу Бальзаминова», а он отвечает $-$ Антон Чехов (на самом деле Александр Островский).\n",
        "\n",
        "Основные причины галлюцинаций $-$ недостаток знаний и принцип работы языковой модели. При обучении она учится предсказывать вероятное продолжение на основе предыдущих слов. Если модель не выучила какой-то факт, например того же автора «Женитьбы», то предскажет другое имя или другого писателя, ведь это более вероятное продолжение, чем, например, «эту книгу написала собака».\n",
        "\n",
        "*(Источник: [вк группа Яндекса](https://vk.com/wall-11283947_171639))*"
      ],
      "metadata": {
        "id": "MvX_F1u5PO55"
      }
    },
    {
      "cell_type": "markdown",
      "source": [
        "**Моделям нельзя слепо доверять** $-$ впрочем, как и случайной ссылке из гугла. Но давайте поучимся, как мы можем их эффективно применять.\n",
        "\n",
        "Вы можете использовать любого чат-бота, к которому у вас есть доступ (ChatGPT, Gemini, Bard) или бесплатный \"пробник\" https://trychatgpt.ru/\n",
        "\n",
        "А вот здесь можно посмотреть всякие устоявшиеся приемы промптинга $-$ составления запросов к LLM так, чтобы она как можно лучше решала задачи: https://www.promptingguide.ai/ru (если переключить на английский, то информации будет больше)"
      ],
      "metadata": {
        "id": "zeYRV5WXP9GG"
      }
    },
    {
      "cell_type": "markdown",
      "source": [
        "Интересные статьи:\n",
        "\n",
        "**Chain-of-Thought Prompting Elicits Reasoning in Large Language Models** https://arxiv.org/abs/2201.11903 — оригинальная статья про chain of thought\n",
        "\n",
        "**Large Language Models Understand and Can be Enhanced by Emotional Stimuli** https://arxiv.org/abs/2307.11760 — \"за каждый правильный ответ ты будешь получать $200\"\n",
        "\n",
        "**Principled Instructions Are All You Need for Questioning** https://arxiv.org/abs/2312.16171v1\n",
        "> This paper introduces 26 guiding principles designed to streamline the process of querying and prompting large language models.\n",
        "\n",
        "**Mind Your Format: Towards Consistent Evaluation of In-Context Learning Improvements** https://arxiv.org/abs/2401.06766 — про то, что важен даже формат подачи примеров\n",
        "\n",
        "**Do Large Language Models Know What They Don't Know?** https://arxiv.org/abs/2305.18153 — о галлюцинациях"
      ],
      "metadata": {
        "id": "ndMEX9UmQESj"
      }
    },
    {
      "cell_type": "code",
      "source": [],
      "metadata": {
        "id": "5gChJB6KQF1M"
      },
      "execution_count": 30,
      "outputs": []
    }
  ]
}