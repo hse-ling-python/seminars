{
 "cells": [
  {
   "cell_type": "markdown",
   "metadata": {
    "id": "nmgQw_NQYBCg"
   },
   "source": [
    "# Python и интернет. Модуль requests\n",
    "\n",
    "**План**:\n",
    "\n",
    "1. Запросы\n",
    "2. Requests\n",
    "4. bs4\n",
    "5. Задание на семинар"
   ]
  },
  {
   "cell_type": "markdown",
   "metadata": {
    "id": "BMdJJbokYBCi"
   },
   "source": [
    "## Как выкачать интернет\n",
    "Современный Интернет предоставляет лингвистам большое количество языковых данных: электронные газеты и журналы, блоги, форумы, социальные сети и т.д. Например, можно найти в сети много-много текстов и собрать корпус, или найти все газетные статьи и блог-посты про какую-нибудь корпорацию и проанализировать тональность сообщений. Сейчас мы научимся заниматься выкачиванием страниц из интернета с помощью Python.\n",
    "\n",
    "Для скачивания HTML-страниц в питоне есть несколько библиотек **urllib** и **requests**"
   ]
  },
  {
   "cell_type": "markdown",
   "metadata": {
    "id": "DLNYPfbMYBCj"
   },
   "source": [
    "## Requests\n",
    "\n",
    "Можно почитать еще [тут](https://realpython.com/python-requests/)\n",
    "\n",
    "\n",
    "Допустим, мы хотим скачать главную страницу Хабрахабра.\n",
    "\n",
    "На самом деле, когда мы хотим открыть какую-то страницу в интернете, наш браузер отправляет на сервер **запрос** (\"Привет, сервер! я хочу код страницы по вот такому адресу!\"), а сервер затем отправляет ответ (\"Привет! Вот код страницы: ...\").\n",
    "Чтобы получить страницу через питон, нужно сформировать **запрос** на сервер так же, как это делает браузер:"
   ]
  },
  {
   "cell_type": "code",
   "execution_count": 1,
   "metadata": {
    "id": "txfW0gWgYBCk"
   },
   "outputs": [],
   "source": [
    "import requests"
   ]
  },
  {
   "cell_type": "code",
   "execution_count": 2,
   "metadata": {
    "id": "eR86pOlQYBCl"
   },
   "outputs": [],
   "source": [
    "response = requests.get(\"https://habr.com/ru/\")"
   ]
  },
  {
   "cell_type": "markdown",
   "metadata": {
    "id": "i5T6bjMBYBCl"
   },
   "source": [
    "В response теперь лежит отет сервера. Это не прост html-код страницы, а еще дополнительная информация. Если мы просто выведем этот response, нам покажется только код (200 - все ок)."
   ]
  },
  {
   "cell_type": "code",
   "execution_count": 3,
   "metadata": {
    "colab": {
     "base_uri": "https://localhost:8080/"
    },
    "id": "g53d-WU5YBCl",
    "outputId": "41adfbce-d37c-4428-981b-aa4389f53f3a"
   },
   "outputs": [
    {
     "data": {
      "text/plain": [
       "<Response [200]>"
      ]
     },
     "execution_count": 3,
     "metadata": {},
     "output_type": "execute_result"
    }
   ],
   "source": [
    "response"
   ]
  },
  {
   "cell_type": "code",
   "execution_count": 4,
   "metadata": {
    "colab": {
     "base_uri": "https://localhost:8080/"
    },
    "id": "9_vVB0dsYBCm",
    "outputId": "a74cb627-82f5-4604-9429-f5a2497dee02"
   },
   "outputs": [
    {
     "data": {
      "text/plain": [
       "200"
      ]
     },
     "execution_count": 4,
     "metadata": {},
     "output_type": "execute_result"
    }
   ],
   "source": [
    "response.status_code"
   ]
  },
  {
   "cell_type": "markdown",
   "metadata": {
    "id": "XirrpWlIYBCm"
   },
   "source": [
    "А вот в атрибуте text уже лежит html-код"
   ]
  },
  {
   "cell_type": "code",
   "execution_count": 5,
   "metadata": {
    "colab": {
     "base_uri": "https://localhost:8080/"
    },
    "id": "DQshGk0KYBCm",
    "outputId": "2322600a-ac5a-4c01-cb0b-b416f6b6627e"
   },
   "outputs": [
    {
     "name": "stdout",
     "output_type": "stream",
     "text": [
      "<!DOCTYPE html>\n",
      "<html lang=\"ru\" data-vue-meta=\"%7B%22lang%22:%7B%22ssr%22:%22ru%22%7D%7D\">\n",
      "<head >\n",
      "  <meta charset=\"UTF-8\">\n",
      "  <meta name=\"viewport\" content=\"width=device-width,initial-scale=1.0,viewport-fit=cover,maximum-scale=1,user-scalable=0\">\n",
      "  <meta name=\"referrer\" content=\"unsafe-url\">\n",
      "  <title>Все статьи подряд / Хабр</title>\n",
      "  <style>\n",
      "    /* cyrillic-ext */\n",
      "    @font-face {\n",
      "      font-family: 'Fira Sans';\n",
      "      font-style: normal;\n",
      "      font-weight: 500;\n",
      "      font-display: swap;\n",
      "      src: url(https://fonts.gstatic.com/s/firasans/v11/va9B4kDNxMZdWfMOD5VnZKveSxf6TF0.woff2) format('woff2');\n",
      "      unicode-range: U+0460-052F, U+1C80-1C88, U+20B4, U+2DE0-2DFF, U+A640-A69F, U+FE2E-FE2F;\n",
      " \n"
     ]
    }
   ],
   "source": [
    "print(response.text[:700])"
   ]
  },
  {
   "cell_type": "markdown",
   "metadata": {
    "id": "7cCgtLjqYBCm"
   },
   "source": [
    "Иногда сайт блокирует запросы, если их посылает не настоящий браузер с пользователем, а какой-то бот (например, так делает Гугл или Википедия). Иногда сайты присылают разные версии страниц, разным браузерам.  \n",
    "По этим причинам полезно бывает писать скрипт, который умеет притворяться то одним, то другим браузером.\n",
    "Когда мы пытаемся получить страницу в питоне, наш код по умолчанию честно сообщает серверу, что он является программой на питоне. Он говорит что-то вроде \"Привет, я Python-urllib/3.5\".\n",
    "Но можно, например, представиться Мозиллой:"
   ]
  },
  {
   "cell_type": "code",
   "execution_count": 6,
   "metadata": {
    "id": "4u5p2773YBCn"
   },
   "outputs": [],
   "source": [
    "url = 'https://habr.com/ru/'  # адрес страницы, которую мы хотим скачать\n",
    "user_agent = 'Mozilla/5.0 (Windows NT 6.1; Win64; x64)'  # хотим притворяться браузером\n",
    "\n",
    "response = requests.get(\"https://habr.com/ru/\", headers={'User-Agent':user_agent})"
   ]
  },
  {
   "cell_type": "markdown",
   "metadata": {
    "id": "DMZp4tBiYBCn"
   },
   "source": [
    "Или использовать специальную библиотеку"
   ]
  },
  {
   "cell_type": "code",
   "execution_count": 7,
   "metadata": {
    "colab": {
     "base_uri": "https://localhost:8080/"
    },
    "id": "5fRMib2lYSFd",
    "outputId": "d446097b-43c1-46ef-e3c9-95f041ae46d9"
   },
   "outputs": [
    {
     "name": "stdout",
     "output_type": "stream",
     "text": [
      "Requirement already satisfied: fake_useragent in c:\\users\\johola\\anaconda3\\lib\\site-packages (1.3.0)\n"
     ]
    }
   ],
   "source": [
    "!pip install fake_useragent"
   ]
  },
  {
   "cell_type": "code",
   "execution_count": 8,
   "metadata": {
    "id": "y_0w_-A-YBCn"
   },
   "outputs": [],
   "source": [
    "from fake_useragent import UserAgent"
   ]
  },
  {
   "cell_type": "code",
   "execution_count": 9,
   "metadata": {
    "colab": {
     "base_uri": "https://localhost:8080/",
     "height": 54
    },
    "id": "PUkugL-5YBCn",
    "outputId": "e7c2d33f-bac7-4c4f-83d4-c06eb06aa66c"
   },
   "outputs": [
    {
     "data": {
      "text/plain": [
       "'Mozilla/5.0 (Windows NT 10.0; Win64; x64) AppleWebKit/537.36 (KHTML, like Gecko) Chrome/112.0.0.0 Safari/537.36'"
      ]
     },
     "execution_count": 9,
     "metadata": {},
     "output_type": "execute_result"
    }
   ],
   "source": [
    "user_agent = UserAgent().chrome\n",
    "user_agent"
   ]
  },
  {
   "cell_type": "code",
   "execution_count": 10,
   "metadata": {
    "id": "j4dgguqxYBCn"
   },
   "outputs": [],
   "source": [
    "response = requests.get(\"https://habr.com/ru/\", headers={'User-Agent':user_agent})"
   ]
  },
  {
   "cell_type": "markdown",
   "metadata": {
    "id": "FOFbk0oZYBCn"
   },
   "source": [
    "Можно посмотреть, что еще можно достать из response.\n",
    "\n",
    "Функция ```dir``` выдает список методов и параметров объекта."
   ]
  },
  {
   "cell_type": "code",
   "execution_count": 11,
   "metadata": {
    "id": "2fKF0vhmYBCn",
    "outputId": "25cfc1b9-edb9-439b-efbf-5e96373d0900"
   },
   "outputs": [
    {
     "data": {
      "text/plain": [
       "['apparent_encoding',\n",
       " 'close',\n",
       " 'connection',\n",
       " 'content',\n",
       " 'cookies',\n",
       " 'elapsed',\n",
       " 'encoding',\n",
       " 'headers',\n",
       " 'history',\n",
       " 'is_permanent_redirect',\n",
       " 'is_redirect',\n",
       " 'iter_content',\n",
       " 'iter_lines',\n",
       " 'json',\n",
       " 'links',\n",
       " 'next',\n",
       " 'ok',\n",
       " 'raise_for_status',\n",
       " 'raw',\n",
       " 'reason',\n",
       " 'request',\n",
       " 'status_code',\n",
       " 'text',\n",
       " 'url']"
      ]
     },
     "execution_count": 11,
     "metadata": {},
     "output_type": "execute_result"
    }
   ],
   "source": [
    "[i for i in dir(response) if not i.startswith(\"_\")]"
   ]
  },
  {
   "cell_type": "markdown",
   "metadata": {
    "id": "RKCyxiHvYBCo"
   },
   "source": [
    "Кодировка"
   ]
  },
  {
   "cell_type": "code",
   "execution_count": 12,
   "metadata": {
    "id": "gkqXDUDHYBCo",
    "outputId": "54d87484-3162-4578-d3cb-54d0b5c5ced6"
   },
   "outputs": [
    {
     "data": {
      "text/plain": [
       "'utf-8'"
      ]
     },
     "execution_count": 12,
     "metadata": {},
     "output_type": "execute_result"
    }
   ],
   "source": [
    "response.encoding"
   ]
  },
  {
   "cell_type": "markdown",
   "metadata": {
    "id": "qy8svnQ7YBCo"
   },
   "source": [
    "Заголовки (техническая информация)"
   ]
  },
  {
   "cell_type": "code",
   "execution_count": 13,
   "metadata": {
    "colab": {
     "base_uri": "https://localhost:8080/"
    },
    "id": "5GOa4MZsYBCo",
    "outputId": "42bfa02a-018b-400f-c5b8-5d5b9b7dbaa8"
   },
   "outputs": [
    {
     "data": {
      "text/plain": [
       "{'Server': 'QRATOR',\n",
       " 'Date': 'Tue, 07 Nov 2023 14:34:12 GMT',\n",
       " 'Content-Type': 'text/html; charset=utf-8',\n",
       " 'Transfer-Encoding': 'chunked',\n",
       " 'Connection': 'keep-alive',\n",
       " 'Keep-Alive': 'timeout=15',\n",
       " 'Vary': 'Accept-Encoding, Accept-Encoding',\n",
       " 'X-DNS-Prefetch-Control': 'off',\n",
       " 'X-Frame-Options': 'SAMEORIGIN',\n",
       " 'X-Download-Options': 'noopen',\n",
       " 'X-Content-Type-Options': 'nosniff',\n",
       " 'X-XSS-Protection': '1; mode=block',\n",
       " 'Cache-Control': 'no-store, no-cache, must-revalidate',\n",
       " 'Pragma': 'no-cache',\n",
       " 'Expires': '0',\n",
       " 'ETag': 'W/\"4f77b-YXgw9D5USP3FIpw99p6+NddTj3I\"',\n",
       " 'Strict-Transport-Security': 'max-age=31536000; includeSubDomains',\n",
       " 'X-Request-Id': 'c9936f6cfb5e2b39ed70bbc52feddc52',\n",
       " 'X-Request-Geoip-Country-Code': 'RU',\n",
       " 'X-Request-Detected-Device': 'desktop',\n",
       " 'Content-Encoding': 'gzip'}"
      ]
     },
     "execution_count": 13,
     "metadata": {},
     "output_type": "execute_result"
    }
   ],
   "source": [
    "dict(response.headers)"
   ]
  },
  {
   "cell_type": "markdown",
   "metadata": {
    "id": "3fILLEeuYBCo"
   },
   "source": [
    "Адрес запроса"
   ]
  },
  {
   "cell_type": "code",
   "execution_count": 14,
   "metadata": {
    "colab": {
     "base_uri": "https://localhost:8080/",
     "height": 36
    },
    "id": "Rv6vs1D_YBCo",
    "outputId": "12177fab-8782-4977-ce0f-be17bbcdd529"
   },
   "outputs": [
    {
     "data": {
      "text/plain": [
       "'https://habr.com/ru/articles/'"
      ]
     },
     "execution_count": 14,
     "metadata": {},
     "output_type": "execute_result"
    }
   ],
   "source": [
    "response.url"
   ]
  },
  {
   "cell_type": "code",
   "execution_count": 15,
   "metadata": {
    "colab": {
     "base_uri": "https://localhost:8080/"
    },
    "id": "Sj9AzfewYBCp",
    "outputId": "bab891f6-c09d-455a-b4fc-287a0a4dea84"
   },
   "outputs": [
    {
     "name": "stdout",
     "output_type": "stream",
     "text": [
      "<!DOCTYPE html>\n",
      "<html lang=\"ru\" data-vue-meta=\"%7B%22lang%22:%7B%22ssr%22:%22ru%22%7D%7D\">\n",
      "<head >\n",
      "  <meta charset=\"UTF-8\">\n",
      "  <meta name=\"viewport\" content=\"width=device-width,initial-scale=1.0,viewport-fit=cover,maximum-scale=1,user-scalable=0\">\n",
      "  <meta name=\"referrer\" content=\"unsafe-url\">\n",
      "  <titl\n"
     ]
    }
   ],
   "source": [
    "print(response.text[:300])"
   ]
  },
  {
   "cell_type": "markdown",
   "metadata": {
    "id": "wadZX78JYBCp"
   },
   "source": [
    "Ура, всё на месте!\n",
    "\n",
    "Но что всё это значит? Что такое html и как вообще из него доставать какую-то информацию?\n",
    "\n",
    "Ответ: по **тегам**! Например, в куске html сверху есть теги `<title> </title>` (теги всегда обрамляют с двух сторон то, что находится под этим тегом). В `<title>` в данном случае лежит заголовок этой интернет-страницы.\n",
    "\n",
    "Существует несколько вариантов, как достать что-то из определенного тега, например, достать заголовок:\n",
    "\n",
    "1. регулярные выражения ([плохой вариант](https://stackoverflow.com/questions/590747/using-regular-expressions-to-parse-html-why-not))\n",
    "2. специальные библиотеки питона, например, BeautifulSoup (bs4) или lxml (хороший вариант)"
   ]
  },
  {
   "cell_type": "markdown",
   "metadata": {
    "id": "N-AOP79BYBCp"
   },
   "source": [
    "## BeautifulSoup\n",
    "\n",
    "Код страницы парсится как иерархия тегов (как они есть в html коде, один вложен в другой) и можно искать элементы с помощью разных методов, использовать атрибуты и т.д."
   ]
  },
  {
   "cell_type": "code",
   "execution_count": 16,
   "metadata": {
    "id": "QVL8TDopYBCp"
   },
   "outputs": [],
   "source": [
    "from bs4 import BeautifulSoup"
   ]
  },
  {
   "cell_type": "markdown",
   "metadata": {
    "id": "3RwP4AN9YBCp"
   },
   "source": [
    "Сначала инициализируем объект BeautifulSoup. Потом применим метод find и в скобочках укажем теги, по которым ищем. У некоторых тегов в html (как и в нашем случае) бывает еще и class и какие-нибудь еще атрибуты. Такие вещи мы задаем словариком.\n",
    "\n",
    "Этот запрос вернёт нам только первый заголовок. То есть первое вхождение такого тега в нашем html файле."
   ]
  },
  {
   "cell_type": "code",
   "execution_count": 17,
   "metadata": {
    "colab": {
     "base_uri": "https://localhost:8080/"
    },
    "id": "M28-oqzAYBCp",
    "outputId": "126ba32c-9281-47c1-eabc-262c0b5d3f93"
   },
   "outputs": [
    {
     "name": "stdout",
     "output_type": "stream",
     "text": [
      "Реагирование на инциденты\n",
      "\n",
      "\n",
      "<h2 class=\"tm-title tm-title_h2\">\n",
      " <a class=\"tm-title__link\" data-article-link=\"true\" data-test-id=\"article-snippet-title-link\" href=\"/ru/companies/otus/articles/772128/\">\n",
      "  <span>\n",
      "   Реагирование на инциденты\n",
      "  </span>\n",
      " </a>\n",
      "</h2>\n",
      "\n"
     ]
    }
   ],
   "source": [
    "soup = BeautifulSoup(response.text, 'html.parser')  # инициализируем (создаем) soup\n",
    "\n",
    "post = soup.find('h2', {'class': 'tm-title tm-title_h2'})\n",
    "print(post.get_text(), end=\"\\n\\n\\n\")\n",
    "print(post.prettify())"
   ]
  },
  {
   "cell_type": "markdown",
   "metadata": {
    "id": "vVN9z_TBYBCq"
   },
   "source": [
    "Но мы хотим получить все заголовки постов! Метод find_all возвращает массив всех элементов с тегом указанным в скобках. По нему можно итерироваться."
   ]
  },
  {
   "cell_type": "code",
   "execution_count": 18,
   "metadata": {
    "colab": {
     "base_uri": "https://localhost:8080/"
    },
    "id": "Itv0BRL6YBCq",
    "outputId": "7efc0918-402e-4e9b-9d62-ba0abfe98474"
   },
   "outputs": [
    {
     "name": "stdout",
     "output_type": "stream",
     "text": [
      "Реагирование на инциденты\n",
      "<h2 class=\"tm-title tm-title_h2\">\n",
      " <a class=\"tm-title__link\" data-article-link=\"true\" data-test-id=\"article-snippet-title-link\" href=\"/ru/companies/otus/articles/772128/\">\n",
      "  <span>\n",
      "   Реагирование на инциденты\n",
      "  </span>\n",
      " </a>\n",
      "</h2>\n",
      "\n",
      "-- -- -- -- -- -- -- -- -- -- \n",
      "Квантовые точки над «i»: как это открытие изменило мир науки\n",
      "<h2 class=\"tm-title tm-title_h2\">\n",
      " <a class=\"tm-title__link\" data-article-link=\"true\" data-test-id=\"article-snippet-title-link\" href=\"/ru/companies/hsespb/articles/772378/\">\n",
      "  <span>\n",
      "   Квантовые точки над «i»: как это открытие изменило мир науки\n",
      "  </span>\n",
      " </a>\n",
      "</h2>\n",
      "\n",
      "-- -- -- -- -- -- -- -- -- -- \n",
      "«Иногда лучше написать велосипед»: как тестировать кластеры Kubernetes с помощью Python\n",
      "<h2 class=\"tm-title tm-title_h2\">\n",
      " <a class=\"tm-title__link\" data-article-link=\"true\" data-test-id=\"article-snippet-title-link\" href=\"/ru/companies/selectel/articles/772316/\">\n",
      "  <span>\n",
      "   «Иногда лучше написать велосипед»: как тестировать кластеры Kubernetes с помощью Python\n",
      "  </span>\n",
      " </a>\n",
      "</h2>\n",
      "\n",
      "-- -- -- -- -- -- -- -- -- -- \n"
     ]
    }
   ],
   "source": [
    "for post in soup.find_all('h2', {'class': 'tm-title tm-title_h2'})[:3]:\n",
    "    print(post.get_text())\n",
    "    print(post.prettify())\n",
    "\n",
    "    print('-- '*10)  # для красоты"
   ]
  },
  {
   "cell_type": "markdown",
   "metadata": {
    "id": "vRbMZDOEYBCq"
   },
   "source": [
    "## Задание на семинар 1\n",
    "\n",
    "А что если мы хотим зайти еще глубже по дереву тегов и, например, для каждого заголовка поста найти никнейм юзера, который написал этот пост, и время написания поста?\n",
    "\n",
    "Для этого надо снова зайти в просмотор кода страницы и увидеть, что там просиходит что-то такое:\n",
    "\n",
    "(Заодно обратите внимание, как пишутся комменты в html)"
   ]
  },
  {
   "cell_type": "markdown",
   "metadata": {
    "id": "NP1aFnk3Y1-x"
   },
   "source": [
    "```\n",
    "<article class=\"tm-articles-list__item\" data-navigatable=\"\" id=\"771476\" tabindex=\"0\">\n",
    " <div class=\"tm-article-snippet tm-article-snippet\">\n",
    "  <div class=\"tm-article-snippet__meta-container\">\n",
    "   <div class=\"tm-article-snippet__meta\">\n",
    "    <span class=\"tm-user-info tm-article-snippet__author\">\n",
    "     <a class=\"tm-user-info__userpic\" href=\"/ru/users/darinka666/\" title=\"darinka666\">\n",
    "      <div class=\"tm-entity-image\">\n",
    "       <img alt=\"\" class=\"tm-entity-image__pic\" height=\"24\" src=\"https://assets.habr.com/habr-web/img/avatars/093.png\" width=\"24\"/>\n",
    "      </div>\n",
    "     </a>\n",
    "     <span class=\"tm-user-info__user tm-user-info__user_appearance-default\">\n",
    "      <a class=\"tm-user-info__username\" href=\"/ru/users/darinka666/\">\n",
    "       darinka666\n",
    "       <!-- -->\n",
    "      </a>\n",
    "      <span class=\"tm-article-datetime-published\">\n",
    "       <time datetime=\"2023-11-02T09:22:25.000Z\" title=\"2023-11-02, 12:22\">\n",
    "        11 минут назад\n",
    "       </time>\n",
    "      </span>\n",
    "     </span>\n",
    "    </span>\n",
    "   </div>\n",
    "   <!-- -->\n",
    "  </div>\n",
    "  <h2 class=\"tm-title tm-title_h2\">\n",
    "   <a class=\"tm-title__link\" data-article-link=\"true\" data-test-id=\"article-snippet-title-link\" href=\"/ru/companies/mts_ai/articles/771476/\">\n",
    "    <span>\n",
    "     Обзор Llemma: новая математическая open-source модель\n",
    "    </span>\n",
    "   </a>\n",
    "  </h2>\n",
    "  <div class=\"tm-article-snippet__stats\">\n",
    "   <div class=\"tm-article-complexity tm-article-complexity_complexity-medium\">\n",
    "    <span class=\"tm-svg-icon__wrapper tm-article-complexity__icon\">\n",
    "     <svg class=\"tm-svg-img tm-svg-icon\" height=\"24\" width=\"24\">\n",
    "      <title>\n",
    "       Уровень сложности\n",
    "      </title>\n",
    "      <use xlink:href=\"/img/megazord-v28.2fb1b1c1..svg#complexity-medium\">\n",
    "      </use>\n",
    "     </svg>\n",
    "    </span>\n",
    "    <span class=\"tm-article-complexity__label\">\n",
    "     Средний\n",
    "    </span>\n",
    "   </div>\n",
    "```\n",
    "(и так далее; часть вывода обрезана: обратите внимание, нет закрывающего тега `</article>`)"
   ]
  },
  {
   "cell_type": "code",
   "execution_count": 19,
   "metadata": {
    "id": "kMamlB_4ZExT"
   },
   "outputs": [
    {
     "name": "stdout",
     "output_type": "stream",
     "text": [
      "TEXT:\n",
      " \n",
      "      Andrey_Biryukov\n",
      "       24 минуты назад  Реагирование на инциденты  Время на прочтение  \n",
      "    6 мин\n",
      "   Количество просмотров  119 Блог компании OTUS Информационная безопасность *    Не одна система не может функционировать без сбоев. Всегда есть риск того, что в процессе работы могут возникнуть проблемы, связанные с функционированием аппаратной части, софта или действиями пользователей. Далее, в этой статье мы будем говорить об инцидентах  информационной безопасности и о реагировании на такие инциденты. Собственно, инцидентами ИБ мы будем называть одно или несколько нежелательных событий информационной безопасности, в результате которых возможна компрометация бизнес-операций и угроза ИБ. Последствиями инцидентов ИБ могут быть прерывания бизнес-процессов, нарушение конфиденциальности, целостности или доступности активов объекта, что в свою очередь приводит к потере производительности, ущербу с точки зрения материальных затрат или репутации.   Читать далее  Всего голосов 2: ↑2 и ↓0\n",
      "-- -- -- -- -- -- -- -- -- -- \n",
      "HTML:\n",
      "<article class=\"tm-articles-list__item\" data-navigatable=\"\" id=\"772128\" tabindex=\"0\">\n",
      " <div class=\"tm-article-snippet tm-article-snippet\">\n",
      "  <div class=\"tm-article-snippet__meta-container\">\n",
      "   <div class=\"tm-article-snippet__meta\">\n",
      "    <span class=\"tm-user-info tm-article-snippet__author\">\n",
      "     <a class=\"tm-user-info__userpic\" href=\"/ru/users/Andrey_Biryukov/\" title=\"Andrey_Biryukov\">\n",
      "      <div class=\"tm-entity-image\">\n",
      "       <img alt=\"\" class=\"tm-entity-image__pic\" height=\"24\" src=\"https://assets.habr.com/habr-web/img/avatars/166.png\" width=\"24\"/>\n",
      "      </div>\n",
      "     </a>\n",
      "     <span class=\"tm-user-info__user tm-user-info__user_appearance-default\">\n",
      "      <a class=\"tm-user-info__username\" href=\"/ru/users/Andrey_Biryukov/\">\n",
      "       Andrey_Biryukov\n",
      "       <!-- -->\n",
      "      </a>\n",
      "      <span class=\"tm-article-datetime-published\">\n",
      "       <time datetime=\"2023-11-07T14:09:26.000Z\" title=\"2023-11-07, 17:09\">\n",
      "        24 минуты назад\n",
      "       </time>\n",
      "      </span>\n",
      "     </span>\n",
      "    </span>\n",
      "   </div>\n",
      "   <!-- -->\n",
      "  </div>\n",
      "  <h2 class=\"tm-title tm-title_h2\">\n",
      "   <a class=\"tm-title__link\" data-article-link=\"true\" data-test-id=\"article-snippet-title-link\" href=\"/ru/companies/otus/articles/772128/\">\n",
      "    <span>\n",
      "     Реагирование на инциденты\n",
      "    </span>\n",
      "   </a>\n",
      "  </h2>\n",
      "  <div class=\"tm-article-snippet__stats\">\n",
      "   <!-- -->\n",
      "   <div class=\"tm-article-reading-time\">\n",
      "    <span class=\"tm-svg-icon__wrapper tm-article-reading-time__icon\">\n",
      "     <svg class=\"tm-svg-img tm-svg-icon\" height=\"24\" width=\"24\">\n",
      "      <title>\n",
      "       Время на прочтение\n",
      "      </title>\n",
      "      <use xlink:href=\"/img/megazord-v28.2fb1b1c1..svg#clock\">\n",
      "      </use>\n",
      "     </svg>\n",
      "    </span>\n",
      "    <span class=\"tm-article-reading-time__label\">\n",
      "     6 мин\n",
      "    </span>\n",
      "   </div>\n",
      "   <span class=\"tm-icon-counter tm-data-icons__item\">\n",
      "    <svg class=\"tm-svg-img tm-icon-counter__icon\" height=\"24\" width=\"24\">\n",
      "     <title>\n",
      "      Количество просмотров\n",
      "     </title>\n",
      "     <use xlink:href=\"/img/megazord-v28.2fb1b1c1..svg#counter-views\">\n",
      "     </use>\n",
      "    \n",
      "-- -- -- -- -- -- -- -- -- -- \n",
      "-- -- -- -- -- -- -- -- -- -- \n",
      "-- -- -- -- -- -- -- -- -- -- \n",
      "TEXT:\n",
      " \n",
      "      hse_spb\n",
      "       34 минуты назад  Квантовые точки над «i»: как это открытие изменило мир науки Уровень сложности  \n",
      "    Средний\n",
      "   Время на прочтение  \n",
      "    5 мин\n",
      "   Количество просмотров  252 Блог компании Питерская Вышка Физика Квантовые технологии  \n",
      "    Мнение\n",
      "      В 2023 году Нобелевскую премию по химии получили трое ученых, чьи исследования были связаны с квантовыми точками. Для Питерской Вышки это приятное событие: работы физиков многим обязаны этому открытию. А Международная лаборатория квантовой оптоэлектроники и вовсе не выпускает эту тему из своего фокуса. Мы поговорили с руководителем департамента физики Алексеем Жуковым и профессором базовой кафедры ФТИ имени А. Ф. Иоффе Михаилом Глазовым.     Читать далее  Всего голосов 3: ↑2 и ↓1  +1  Добавить в закладки  \n",
      "    3\n",
      "     Комментарии  \n",
      "      0\n",
      "      \n",
      "-- -- -- -- -- -- -- -- -- -- \n",
      "HTML:\n",
      "<article class=\"tm-articles-list__item\" data-navigatable=\"\" id=\"772378\" tabindex=\"0\">\n",
      " <div class=\"tm-article-snippet tm-article-snippet\">\n",
      "  <div class=\"tm-article-snippet__meta-container\">\n",
      "   <div class=\"tm-article-snippet__meta\">\n",
      "    <span class=\"tm-user-info tm-article-snippet__author\">\n",
      "     <a class=\"tm-user-info__userpic\" href=\"/ru/users/hse_spb/\" title=\"hse_spb\">\n",
      "      <div class=\"tm-entity-image\">\n",
      "       <img alt=\"\" class=\"tm-entity-image__pic\" height=\"24\" src=\"//habrastorage.org/r/w48/getpro/habr/avatars/f32/9ca/f7a/f329caf7af39c3758cab77cbf5c92be1.jpg\" width=\"24\"/>\n",
      "      </div>\n",
      "     </a>\n",
      "     <span class=\"tm-user-info__user tm-user-info__user_appearance-default\">\n",
      "      <a class=\"tm-user-info__username\" href=\"/ru/users/hse_spb/\">\n",
      "       hse_spb\n",
      "       <!-- -->\n",
      "      </a>\n",
      "      <span class=\"tm-article-datetime-published\">\n",
      "       <time datetime=\"2023-11-07T13:59:33.000Z\" title=\"2023-11-07, 16:59\">\n",
      "        34 минуты назад\n",
      "       </time>\n",
      "      </span>\n",
      "     </span>\n",
      "    </span>\n",
      "   </div>\n",
      "   <!-- -->\n",
      "  </div>\n",
      "  <h2 class=\"tm-title tm-title_h2\">\n",
      "   <a class=\"tm-title__link\" data-article-link=\"true\" data-test-id=\"article-snippet-title-link\" href=\"/ru/companies/hsespb/articles/772378/\">\n",
      "    <span>\n",
      "     Квантовые точки над «i»: как это открытие изменило мир науки\n",
      "    </span>\n",
      "   </a>\n",
      "  </h2>\n",
      "  <div class=\"tm-article-snippet__stats\">\n",
      "   <div class=\"tm-article-complexity tm-article-complexity_complexity-medium\">\n",
      "    <span class=\"tm-svg-icon__wrapper tm-article-complexity__icon\">\n",
      "     <svg class=\"tm-svg-img tm-svg-icon\" height=\"24\" width=\"24\">\n",
      "      <title>\n",
      "       Уровень сложности\n",
      "      </title>\n",
      "      <use xlink:href=\"/img/megazord-v28.2fb1b1c1..svg#complexity-medium\">\n",
      "      </use>\n",
      "     </svg>\n",
      "    </span>\n",
      "    <span class=\"tm-article-complexity__label\">\n",
      "     Средний\n",
      "    </span>\n",
      "   </div>\n",
      "   <div class=\"tm-article-reading-time\">\n",
      "    <span class=\"tm-svg-icon__wrapper tm-article-reading-time__icon\">\n",
      "     <svg class=\"tm-svg-img tm-svg-icon\" height=\"24\" width=\"24\">\n",
      "      <title\n",
      "-- -- -- -- -- -- -- -- -- -- \n",
      "-- -- -- -- -- -- -- -- -- -- \n",
      "-- -- -- -- -- -- -- -- -- -- \n",
      "TEXT:\n",
      " \n",
      "      ArtemBor93\n",
      "       47 минут назад  «Иногда лучше написать велосипед»: как тестировать кластеры Kubernetes с помощью Python Уровень сложности  \n",
      "    Средний\n",
      "   Время на прочтение  \n",
      "    8 мин\n",
      "   Количество просмотров  167 Блог компании Selectel Kubernetes *Python *Тестирование веб-сервисов * \n",
      "    Обзор\n",
      "      \r\n",
      "Сегодня Kubernetes — это основное средство для оркестрации контейнеров на рынке, поэтому их тестирование занимает особую позицию в перечне задач. Большинство тривиальных тестов можно запустить через команду kubectl, либо фреймворк Sonobuoy для тестирования сертификации версий.\n",
      "\r\n",
      "Однако для сложных интеграционных тестов, которые завязаны на Kubernetes API, необходимо реализовать что-то свое. Я воспользовался клиентской библиотекой Python для Kubernetes, которая позволяет работать со всеми прелестями его интерфейса, соединил ее с PyTest и API нашего продукта — Managed Kubernetes. Что из этого вышло, показываю в статье.   Читать дальше →  Всего голосов 4: ↑4 и ↓0  +4  Добавить в\n",
      "-- -- -- -- -- -- -- -- -- -- \n",
      "HTML:\n",
      "<article class=\"tm-articles-list__item\" data-navigatable=\"\" id=\"772316\" tabindex=\"0\">\n",
      " <div class=\"tm-article-snippet tm-article-snippet\">\n",
      "  <div class=\"tm-article-snippet__meta-container\">\n",
      "   <div class=\"tm-article-snippet__meta\">\n",
      "    <span class=\"tm-user-info tm-article-snippet__author\">\n",
      "     <a class=\"tm-user-info__userpic\" href=\"/ru/users/ArtemBor93/\" title=\"ArtemBor93\">\n",
      "      <div class=\"tm-entity-image\">\n",
      "       <img alt=\"\" class=\"tm-entity-image__pic\" height=\"24\" src=\"//habrastorage.org/r/w48/getpro/habr/avatars/9ac/8cb/7c0/9ac8cb7c0f33141d3a8fc730225eb022.jpg\" width=\"24\"/>\n",
      "      </div>\n",
      "     </a>\n",
      "     <span class=\"tm-user-info__user tm-user-info__user_appearance-default\">\n",
      "      <a class=\"tm-user-info__username\" href=\"/ru/users/ArtemBor93/\">\n",
      "       ArtemBor93\n",
      "       <!-- -->\n",
      "      </a>\n",
      "      <span class=\"tm-article-datetime-published\">\n",
      "       <time datetime=\"2023-11-07T13:46:57.000Z\" title=\"2023-11-07, 16:46\">\n",
      "        47 минут назад\n",
      "       </time>\n",
      "      </span>\n",
      "     </span>\n",
      "    </span>\n",
      "   </div>\n",
      "   <!-- -->\n",
      "  </div>\n",
      "  <h2 class=\"tm-title tm-title_h2\">\n",
      "   <a class=\"tm-title__link\" data-article-link=\"true\" data-test-id=\"article-snippet-title-link\" href=\"/ru/companies/selectel/articles/772316/\">\n",
      "    <span>\n",
      "     «Иногда лучше написать велосипед»: как тестировать кластеры Kubernetes с помощью Python\n",
      "    </span>\n",
      "   </a>\n",
      "  </h2>\n",
      "  <div class=\"tm-article-snippet__stats\">\n",
      "   <div class=\"tm-article-complexity tm-article-complexity_complexity-medium\">\n",
      "    <span class=\"tm-svg-icon__wrapper tm-article-complexity__icon\">\n",
      "     <svg class=\"tm-svg-img tm-svg-icon\" height=\"24\" width=\"24\">\n",
      "      <title>\n",
      "       Уровень сложности\n",
      "      </title>\n",
      "      <use xlink:href=\"/img/megazord-v28.2fb1b1c1..svg#complexity-medium\">\n",
      "      </use>\n",
      "     </svg>\n",
      "    </span>\n",
      "    <span class=\"tm-article-complexity__label\">\n",
      "     Средний\n",
      "    </span>\n",
      "   </div>\n",
      "   <div class=\"tm-article-reading-time\">\n",
      "    <span class=\"tm-svg-icon__wrapper tm-article-reading-time__icon\">\n",
      "     <svg class=\"tm-svg-img tm-svg-ic\n",
      "-- -- -- -- -- -- -- -- -- -- \n",
      "-- -- -- -- -- -- -- -- -- -- \n",
      "-- -- -- -- -- -- -- -- -- -- \n"
     ]
    }
   ],
   "source": [
    "for post in soup.find_all(\"article\")[:3]:\n",
    "    print(\"TEXT:\")\n",
    "    print(post.get_text()[:1000])\n",
    "    print('-- '*10)\n",
    "    print(\"HTML:\")\n",
    "    print(post.prettify()[:2000])\n",
    "\n",
    "    print('-- '*10)\n",
    "    print('-- '*10)\n",
    "    print('-- '*10)"
   ]
  },
  {
   "cell_type": "markdown",
   "metadata": {
    "id": "Vtti9jzmYBCr"
   },
   "source": [
    "## Задание на семинар 2\n",
    "\n",
    "Скачать главную страницу Яндекс.Погоды и\n",
    "    \n",
    "- а) распечатать сегодняшнюю температуру и облачность\n",
    "- б) распечатать время восхода и заката\n",
    "- в) погоду на завтра"
   ]
  },
  {
   "cell_type": "markdown",
   "metadata": {
    "id": "PhTHnk9obW2_"
   },
   "source": [
    "Простая версия: вместо Яндекс.Погоды возьмите [этот](https://simple-weather-website.netlify.app/) сайт и получите температуру, влажность и скорость ветра"
   ]
  },
  {
   "cell_type": "markdown",
   "metadata": {
    "id": "q_7F_56RYBCr"
   },
   "source": [
    "## Хорошая статья про это все\n",
    "\n",
    "[https://sysblok.ru/courses/obkachka-sajtov-svoimi-rukami-razbiraemsja-s-html/](https://sysblok.ru/courses/obkachka-sajtov-svoimi-rukami-razbiraemsja-s-html/)"
   ]
  },
  {
   "cell_type": "markdown",
   "metadata": {
    "id": "VzMuRjYqfDVW"
   },
   "source": [
    "# Бонус"
   ]
  },
  {
   "cell_type": "markdown",
   "metadata": {
    "id": "pggKMj-sfJ3k"
   },
   "source": [
    "Иногда можно не изгаляться с html, а воспользоваться специальным инструментом: **API**\n",
    "\n",
    "API расшифровывается как Application Programming Interface. Это набор правил, которыми одна программа может общаться и взаимодействовать с другой, в том числе с сайтами. Например, \"сделай запрос к такой-то странице в таком-то формате, чтобы получить JSON с данными о погоде и не парсить HTML руками\"\n",
    "\n",
    "Но сначала пример попроще:"
   ]
  },
  {
   "cell_type": "code",
   "execution_count": 20,
   "metadata": {
    "id": "IUURHDgVfCsB"
   },
   "outputs": [],
   "source": [
    "shibe = requests.get(\"http://shibe.online/api/shibes?count=1\")"
   ]
  },
  {
   "cell_type": "markdown",
   "metadata": {
    "id": "jnwDqQZ3gE9R"
   },
   "source": [
    "Обратите внимание, что `.text` вернет нам *строку*:"
   ]
  },
  {
   "cell_type": "code",
   "execution_count": 21,
   "metadata": {
    "colab": {
     "base_uri": "https://localhost:8080/",
     "height": 36
    },
    "id": "McKzVvz1fUzE",
    "outputId": "6b126c86-baa5-4a8e-e720-7ae80c3ef5c9"
   },
   "outputs": [
    {
     "data": {
      "text/plain": [
       "'[\"https://cdn.shibe.online/shibes/29948b6720bb6d27a8b0a28b21138ad4020e3be8.jpg\"]'"
      ]
     },
     "execution_count": 21,
     "metadata": {},
     "output_type": "execute_result"
    }
   ],
   "source": [
    "shibe.text"
   ]
  },
  {
   "cell_type": "markdown",
   "metadata": {
    "id": "BVKEivgTgKZD"
   },
   "source": [
    "Но у респонза есть еще метод `.json()`. В данном случае он сразу приведет к списку (а если бы API возвращало словарь с несколькими ключами — к словарю)\n",
    "\n"
   ]
  },
  {
   "cell_type": "code",
   "execution_count": 22,
   "metadata": {
    "colab": {
     "base_uri": "https://localhost:8080/"
    },
    "id": "inM_t4xbfVWY",
    "outputId": "29ff01e0-f663-4889-cf74-076b8f3498c5"
   },
   "outputs": [
    {
     "data": {
      "text/plain": [
       "['https://cdn.shibe.online/shibes/29948b6720bb6d27a8b0a28b21138ad4020e3be8.jpg']"
      ]
     },
     "execution_count": 22,
     "metadata": {},
     "output_type": "execute_result"
    }
   ],
   "source": [
    "shibe.json()"
   ]
  },
  {
   "cell_type": "markdown",
   "metadata": {
    "id": "UKid0Ct2jZgD"
   },
   "source": [
    "Более сложный, но и более интересный пример: https://newsapi.org/\n",
    "\n",
    " На главной нужно получить ключ. Многие API доступны только по ключам: например, API гитхаба так определяет, к каким репозиториям у вас есть доступ, а к каким нет; некоторые API ограничивают число запросов на одного пользователя; и т.д.\n",
    "\n",
    " **Ключ — это личная информация**, как, например, пароль. Ключ нежелательно вставлять в код, потому что будет легко забыть его удалить перед тем, как вы где-то этот код опубликуете. Лучше положить в отдельный файл и его читать:"
   ]
  },
  {
   "cell_type": "code",
   "execution_count": 23,
   "metadata": {
    "id": "emsYdMpsj60i"
   },
   "outputs": [],
   "source": [
    "with open(\"news_api_key.txt\", \"r\") as f:\n",
    "  api_key = f.read()"
   ]
  },
  {
   "cell_type": "code",
   "execution_count": 24,
   "metadata": {},
   "outputs": [
    {
     "data": {
      "text/plain": [
       "'6f74e4af4dea43ee8c5d539ce5e90f54'"
      ]
     },
     "execution_count": 24,
     "metadata": {},
     "output_type": "execute_result"
    }
   ],
   "source": [
    "api_key"
   ]
  },
  {
   "cell_type": "markdown",
   "metadata": {
    "id": "NSKdtTOxmPvI"
   },
   "source": [
    "Какие параметры можно указывать в запросе, смотрите здесь: https://newsapi.org/docs/endpoints/everything"
   ]
  },
  {
   "cell_type": "code",
   "execution_count": 25,
   "metadata": {
    "id": "zztCyXuRj6DX"
   },
   "outputs": [],
   "source": [
    "news = requests.get(\n",
    "    f\"https://newsapi.org/v2/everything?q=Apple&from=2023-11-01&sortBy=popularity&apiKey={api_key}\"\n",
    "    ).json()"
   ]
  },
  {
   "cell_type": "code",
   "execution_count": 26,
   "metadata": {},
   "outputs": [
    {
     "data": {
      "text/plain": [
       "{'status': 'ok',\n",
       " 'totalResults': 8602,\n",
       " 'articles': [{'source': {'id': None, 'name': 'Lifehacker.com'},\n",
       "   'author': 'Khamosh Pathak',\n",
       "   'title': 'All the New Ways to Use Your Apple Watch',\n",
       "   'description': 'With watchOS 10, Apple breathed new life into the Apple Watch, without even changing the hardware design. Now, watchOS finally embraces buttons, and higher information density across the board. Most importantly, in my view, are widgets, which have the potenti…',\n",
       "   'url': 'https://lifehacker.com/all-the-new-ways-to-use-your-apple-watch-1850984316',\n",
       "   'urlToImage': 'https://i.kinja-img.com/image/upload/c_fill,h_675,pg_1,q_80,w_1200/03244027a0f8e5f2f09fa2e3522d2495.png',\n",
       "   'publishedAt': '2023-11-02T13:30:00Z',\n",
       "   'content': 'With watchOS 10, Apple breathed new life into the Apple Watch, without even changing the hardware design. Now, watchOS finally embraces buttons, and higher information density across the board. Most … [+4059 chars]'},\n",
       "  {'source': {'id': None, 'name': 'Lifehacker.com'},\n",
       "   'author': 'Jessica Kanzler',\n",
       "   'title': 'This $230 Refurbished iPad Comes With Beats Headphones',\n",
       "   'description': 'This grade “A” refurbished 7th-generation Apple iPad comes with open-box Beats Flex wireless headphones and a complete set of accessories for $229.99 (reg. $299.99). Read more...',\n",
       "   'url': 'https://lifehacker.com/this-230-refurbished-ipad-comes-with-beats-headphones-1850986626',\n",
       "   'urlToImage': 'https://i.kinja-img.com/image/upload/c_fill,h_675,pg_1,q_80,w_1200/c3e5883b36718931d99b5545bb28c0a1.png',\n",
       "   'publishedAt': '2023-11-03T15:30:00Z',\n",
       "   'content': 'This grade A refurbished 7th-generation Apple iPad comes with open-box Beats Flex wireless headphones and a complete set of accessories for $229.99 (reg. $299.99). \\r\\nGrade-A devices are in near-mint … [+1014 chars]'},\n",
       "  {'source': {'id': None, 'name': 'Lifehacker.com'},\n",
       "   'author': 'Jake Peterson',\n",
       "   'title': \"You Don't Need to Buy a Desktop to Get the Most Power in a Mac Anymore\",\n",
       "   'description': 'These days, we have the luxury of choice when it comes to computers, especially Macs: If all you do is light work, internet browsing, and content consumption, you don’t have to spend much at all for a very capable Mac. On the flip side, if your job or hobbies…',\n",
       "   'url': 'https://lifehacker.com/m3-max-macbook-pro-review-1850985646',\n",
       "   'urlToImage': 'https://i.kinja-img.com/image/upload/c_fill,h_675,pg_1,q_80,w_1200/de18c6ec772d70d96590637d2cd911df.jpg',\n",
       "   'publishedAt': '2023-11-02T17:30:00Z',\n",
       "   'content': 'These days, we have the luxury of choice when it comes to computers, especially Macs: If all you do is light work, internet browsing, and content consumption, you dont have to spend much at all for a… [+4239 chars]'},\n",
       "  {'source': {'id': None, 'name': 'Lifehacker.com'},\n",
       "   'author': 'Jessica Kanzler',\n",
       "   'title': 'You Can Get a 3rd Generation iPad Air for $280',\n",
       "   'description': 'Right now, this 2019 3rd-generation iPad Air is $279.97 (reg. $629) through Nov. 9. This tablet has 64GB of storage for apps and 4GB RAM to help keep things running well even when multitasking. Its 10.5\" screen gives you a wide viewing surface and multi-touch…',\n",
       "   'url': 'https://lifehacker.com/you-can-get-a-3rd-generation-ipad-air-for-280-1850974914',\n",
       "   'urlToImage': 'https://i.kinja-img.com/image/upload/c_fill,h_675,pg_1,q_80,w_1200/a19cbba220bcd4fa6e1af3413d0ab4ae.png',\n",
       "   'publishedAt': '2023-11-01T14:00:00Z',\n",
       "   'content': 'Right now, this 2019 3rd-generation iPad Air is $279.97 (reg. $629) through Nov. 9. This tablet has 64GB of storage for apps and 4GB RAM to help keep things running well even when multitasking. Its 1… [+522 chars]'},\n",
       "  {'source': {'id': 'engadget', 'name': 'Engadget'},\n",
       "   'author': 'Steve Dent',\n",
       "   'title': 'Apple Watch battery drain issues to be fixed in upcoming watchOS update',\n",
       "   'description': 'Last week, a number of Apple Watch owners noticed that their batteries were draining much quicker than normal after they installed the latest watchOS version 10.1. Now, Apple has acknowledged the issue in an internal memo seen by MacRumors, and promised that …',\n",
       "   'url': 'https://www.engadget.com/apple-watch-battery-drain-issues-to-be-fixed-in-upcoming-watchos-update-090554269.html',\n",
       "   'urlToImage': 'https://s.yimg.com/os/creatr-uploaded-images/2023-11/83e94350-7c7e-11ee-bb27-d2ff2ed54a72',\n",
       "   'publishedAt': '2023-11-06T09:05:54Z',\n",
       "   'content': 'Last week, a number of Apple Watch owners noticed that their batteries were draining much quicker than normal after they installed the latest watchOS version 10.1. Now, Apple has acknowledged the iss… [+1162 chars]'},\n",
       "  {'source': {'id': 'engadget', 'name': 'Engadget'},\n",
       "   'author': 'Devindra Hardawar',\n",
       "   'title': 'MacBook Pro 14-inch and 16-inch review: An M3 chip for every situation',\n",
       "   'description': \"Apple's confusing laptop family finally makes sense this year. The long-rumored 15-inch MacBook Air arrived months ago, and the company surprised us by delivering two MacBook Pro revisions in less than 12 months. While I appreciated the speed bump that the M2…\",\n",
       "   'url': 'https://www.engadget.com/macbook-pro-14-inch-and-16-inch-review-an-m3-chip-for-every-situation-140048075.html',\n",
       "   'urlToImage': 'https://s.yimg.com/uu/api/res/1.2/fJ97.mWs4qpHtyswCb1EqQ--~B/Zmk9ZmlsbDtoPTYzMDtweW9mZj0wO3c9MTIwMDthcHBpZD15dGFjaHlvbg--/https://media-mbst-pub-ue1.s3.amazonaws.com/creatr-uploaded-images/2023-11/e5384f80-7c1e-11ee-bd73-50f80f693bba.cf.jpg',\n",
       "   'publishedAt': '2023-11-06T14:00:48Z',\n",
       "   'content': \"Apple's confusing laptop family finally makes sense this year. The long-rumored 15-inch MacBook Air arrived months ago, and the company surprised us by delivering two MacBook Pro revisions in less th… [+9436 chars]\"},\n",
       "  {'source': {'id': 'engadget', 'name': 'Engadget'},\n",
       "   'author': 'Pranav Dixit',\n",
       "   'title': 'Live in Washington D.C.? You might be able to get free AirTags for your car',\n",
       "   'description': 'The city of Washington D.C. will distribute free Apple AirTags to residents in certain neighborhoods, mayor Muriel Bowser announced on Wednesday. The aim: to make stolen cars easier for police to track down.\\n“We are equipping residents with technology that wi…',\n",
       "   'url': 'https://www.engadget.com/live-in-washington-dc-you-might-be-able-to-get-free-airtags-for-your-car-202616642.html',\n",
       "   'urlToImage': 'https://s.yimg.com/ny/api/res/1.2/cv7p9J4a7QdrL7sRKt0sBg--/YXBwaWQ9aGlnaGxhbmRlcjt3PTEyMDA7aD04MDA-/https://s.yimg.com/os/creatr-uploaded-images/2023-03/454508e0-cf32-11ed-bd31-a7a7acba4c0c',\n",
       "   'publishedAt': '2023-11-03T20:26:16Z',\n",
       "   'content': 'The city of Washington D.C. will distribute free Apple AirTags to residents in certain neighborhoods, mayor Muriel Bowser announced on Wednesday. The aim: to make stolen cars easier for police to tra… [+1576 chars]'},\n",
       "  {'source': {'id': 'engadget', 'name': 'Engadget'},\n",
       "   'author': 'Mat Smith',\n",
       "   'title': 'The Morning After: YouTube is seriously cracking down on ad blockers',\n",
       "   'description': 'YouTube’s no longer just experimenting with ad-dodging viewers. The platform has gone all out in its fight against add-ons, extensions and programs that prevent it from serving ads to viewers worldwide, it confirmed to Engadget.\\n“The use of ad blockers violat…',\n",
       "   'url': 'https://www.engadget.com/the-morning-after-youtube-is-seriously-cracking-down-on-ad-blockers-111532949.html',\n",
       "   'urlToImage': 'https://s.yimg.com/ny/api/res/1.2/TiRVdCQa5cl40ZLWcwm24A--/YXBwaWQ9aGlnaGxhbmRlcjt3PTEyMDA7aD04MDA-/https://s.yimg.com/os/creatr-uploaded-images/2021-08/26755800-f380-11eb-9199-20de6b099d3b',\n",
       "   'publishedAt': '2023-11-02T11:15:32Z',\n",
       "   'content': 'YouTubes no longer just experimenting with ad-dodging viewers. The platform has gone all out in its fight against add-ons, extensions and programs that prevent it from serving ads to viewers worldwid… [+3745 chars]'},\n",
       "  {'source': {'id': 'engadget', 'name': 'Engadget'},\n",
       "   'author': 'Jon Fingas',\n",
       "   'title': 'The best multi-device wireless charging pads for 2023',\n",
       "   'description': \"You probably own a ton of gear that supports wireless charging now, but if you want to make your setup as cordless as possible, a single-device pad just won't cut it. There are tons of multiple-item wireless chargers available now, but picking one can be a he…\",\n",
       "   'url': 'https://www.engadget.com/best-multi-device-wireless-charging-pads-120557582.html',\n",
       "   'urlToImage': 'https://s.yimg.com/ny/api/res/1.2/bBG1V20PTM4vrf7Fvecl0Q--/YXBwaWQ9aGlnaGxhbmRlcjt3PTEyMDA7aD04MDA-/https://s.yimg.com/os/creatr-uploaded-images/2022-04/fc254730-c7f1-11ec-bafd-8da078ac3742',\n",
       "   'publishedAt': '2023-11-01T12:05:57Z',\n",
       "   'content': \"You probably own a ton of gear that supports wireless charging now, but if you want to make your setup as cordless as possible, a single-device pad just won't cut it. There are tons of multiple-item … [+6475 chars]\"},\n",
       "  {'source': {'id': 'engadget', 'name': 'Engadget'},\n",
       "   'author': 'Jeff Dunn,Valentina Palladino',\n",
       "   'title': 'The best early Black Friday deals we found so far from Amazon, Target, Best Buy and more',\n",
       "   'description': 'With each passing year, the phrase \"Black Friday\" becomes more of a misnomer. What was once a day of post-Thanksgiving special offers has become a month of sales promotions from retailers across the web. It\\'s happening again in 2023: Target and Best Buy are a…',\n",
       "   'url': 'https://www.engadget.com/the-best-early-black-friday-deals-we-found-so-far-from-amazon-target-best-buy-and-more-134506470.html',\n",
       "   'urlToImage': 'https://s.yimg.com/ny/api/res/1.2/2wzd1kw04F8gmI4hKvUybQ--/YXBwaWQ9aGlnaGxhbmRlcjt3PTEyMDA7aD02NzU-/https://s.yimg.com/os/creatr-uploaded-images/2023-10/b47077e0-7815-11ee-baad-c7070ba5e462',\n",
       "   'publishedAt': '2023-11-06T13:45:06Z',\n",
       "   'content': 'With each passing year, the phrase \"Black Friday\" becomes more of a misnomer. What was once a day of post-Thanksgiving special offers has become a month of sales promotions from retailers across the … [+17009 chars]'},\n",
       "  {'source': {'id': 'engadget', 'name': 'Engadget'},\n",
       "   'author': 'Mat Smith',\n",
       "   'title': 'The Morning After: The final Beatles song was made with a little help from AI',\n",
       "   'description': 'The Beatles have released another song, the first since 1995. “Now and Then” is being advertised as the final Beatles track, given that two of the members have passed and the other two are well over 80 years old. But then again, millionaires do love money.\\nTh…',\n",
       "   'url': 'https://www.engadget.com/the-morning-after-the-final-beatles-song-was-made-with-a-little-help-from-ai-111541406.html',\n",
       "   'urlToImage': 'https://s.yimg.com/os/creatr-uploaded-images/2023-11/833a74a0-7a2c-11ee-adf3-2b328f456f4f',\n",
       "   'publishedAt': '2023-11-03T11:15:41Z',\n",
       "   'content': 'The Beatles have released another song, the first since 1995. Now and Then is being advertised as the final Beatles track, given that two of the members have passed and the other two are well over 80… [+3735 chars]'},\n",
       "  {'source': {'id': 'engadget', 'name': 'Engadget'},\n",
       "   'author': 'Mariella Moon',\n",
       "   'title': 'Google and Match Group settle antitrust case before it goes to trial',\n",
       "   'description': 'The antitrust lawsuit Epic Games and Match Group have filed against Google was supposed to go to trial on November 6, but now it looks like the video game developer might go at it alone. Google and Match, the parent company of Tinder, OkCupid and Hinge, have …',\n",
       "   'url': 'https://www.engadget.com/google-and-match-group-settle-antitrust-case-before-it-goes-to-trial-041158809.html',\n",
       "   'urlToImage': 'https://s.yimg.com/ny/api/res/1.2/2.umw5DEZTxqv1czt7En9A--/YXBwaWQ9aGlnaGxhbmRlcjt3PTEyMDA7aD04MDA-/https://s.yimg.com/os/creatr-uploaded-images/2023-10/871dbd80-7864-11ee-9f3f-9642d3093703',\n",
       "   'publishedAt': '2023-11-01T04:11:58Z',\n",
       "   'content': 'The antitrust lawsuit Epic Games and Match Group have filed against Google was supposed to go to trial on November 6, but now it looks like the video game developer might go at it alone. Google and M… [+2505 chars]'},\n",
       "  {'source': {'id': 'engadget', 'name': 'Engadget'},\n",
       "   'author': 'Devindra Hardawar',\n",
       "   'title': 'Engadget Podcast: Apple’s spooky M3 MacBook Pros and iMac',\n",
       "   'description': 'Apple’s M3 chip is here, and the company is wasting no time shoving it into new computers. This week, we dive into the new M3-equipped MacBook Pros and iMac, which offer some notable upgrades over the M2 and M1 models. Also, we find time to celebrate the deat…',\n",
       "   'url': 'https://www.engadget.com/engadget-podcast-apple-m3-macbook-pro-imac-123049924.html',\n",
       "   'urlToImage': 'https://s.yimg.com/os/creatr-uploaded-images/2020-11/c8e851c0-2b3d-11eb-baea-6c6fe29971fb',\n",
       "   'publishedAt': '2023-11-03T12:30:49Z',\n",
       "   'content': 'Apples M3 chip is here, and the company is wasting no time shoving it into new computers. This week, we dive into the new M3-equipped MacBook Pros and iMac, which offer some notable upgrades over the… [+712 chars]'},\n",
       "  {'source': {'id': 'wired', 'name': 'Wired'},\n",
       "   'author': 'Matt Burgess',\n",
       "   'title': 'This Cheap Hacking Device Can Crash Your iPhone With Pop-Ups',\n",
       "   'description': 'Plus: SolarWinds is charged with fraud, New Orleans police face recognition has flaws, and new details about Okta’s October data breach emerge.',\n",
       "   'url': 'https://www.wired.com/story/flipper-zero-iphone-dos-attack-security-roundup/',\n",
       "   'urlToImage': 'https://media.wired.com/photos/65450b438e91e3ca88ad9cbb/191:100/w_1280,c_limit/Flipper-Zero-Security-Roundup.jpg',\n",
       "   'publishedAt': '2023-11-04T13:00:00Z',\n",
       "   'content': 'As the Israel-Hamas war continues, with Israeli troops moving into the Gaza Strip and encircling Gaza City, one piece of technology is having an outsized impact on how we see and understand the war. … [+5730 chars]'},\n",
       "  {'source': {'id': None, 'name': 'Gizmodo.com'},\n",
       "   'author': 'Kyle Barr',\n",
       "   'title': 'That Apple Pencil With Slide-Out USB-C Is Now Ready to Order',\n",
       "   'description': 'All those pencil pushers out there chomping at the bit for an Apple-brand USB-C stylus no longer have to wait. On Wednesday, Apple put its new Apple Pencil with USB-C up for order, and customers can expect delivery beginning Nov. 3.Read more...',\n",
       "   'url': 'https://gizmodo.com/apple-pencil-3-preorde-1850981047',\n",
       "   'urlToImage': 'https://i.kinja-img.com/image/upload/c_fill,h_675,pg_1,q_80,w_1200/8528f36068df8dfbb31868f521331651.jpg',\n",
       "   'publishedAt': '2023-11-01T17:55:00Z',\n",
       "   'content': 'All those pencil pushers out there chomping at the bit for an Apple-brand USB-C stylus no longer have to wait. On Wednesday, Apple put its new Apple Pencil with USB-C up for order, and customers can … [+1672 chars]'},\n",
       "  {'source': {'id': None, 'name': 'Gizmodo.com'},\n",
       "   'author': 'Mack DeGeurin',\n",
       "   'title': 'New Google Trial Docs May Explain Why Search Sucks So Bad Now',\n",
       "   'description': 'The Department of Justice and Google just rumbled their way past the halfway point of a landmark antitrust trial vying to answer a potentially industry-rupturing question: Does Google maintain its ironfisted stranglehold over internet search results because o…',\n",
       "   'url': 'https://gizmodo.com/new-google-trial-docs-explain-why-search-is-worse-1850982736',\n",
       "   'urlToImage': 'https://i.kinja-img.com/image/upload/c_fill,h_675,pg_1,q_80,w_1200/ec0d0c3a32872a10e1226b1bc59773ea.jpg',\n",
       "   'publishedAt': '2023-11-02T14:10:00Z',\n",
       "   'content': 'The Department of Justice and Google just rumbled their way past the halfway point of a landmark antitrust trial vying to answer a potentially industry-rupturing question: Does Google maintain its ir… [+10179 chars]'},\n",
       "  {'source': {'id': None, 'name': 'Gizmodo.com'},\n",
       "   'author': 'Nikki Main',\n",
       "   'title': 'LinkedIn Wants Its AI Bot to Help Find You a Job After You Lose Your Job to AI',\n",
       "   'description': 'If AI might be responsible for jobs being lost, then the tech could be used to get another one at least that’s what LinkedIn is trying to do. Users of the career-centric social network can access an AI-powered “job seeker coach” starting Wednesday to guide th…',\n",
       "   'url': 'https://gizmodo.com/linkedin-ai-bot-help-find-job-1850979893',\n",
       "   'urlToImage': 'https://i.kinja-img.com/image/upload/c_fill,h_675,pg_1,q_80,w_1200/8e24401db1ba4cae3bb0b920efa5fdef.jpg',\n",
       "   'publishedAt': '2023-11-01T15:00:00Z',\n",
       "   'content': 'If AI might be responsible for jobs being lost, then the tech could be used to get another one at least thats what LinkedIn is trying to do. Users of the career-centric social network can access an A… [+2234 chars]'},\n",
       "  {'source': {'id': 'bbc-news', 'name': 'BBC News'},\n",
       "   'author': 'https://www.facebook.com/bbcnews',\n",
       "   'title': \"Barbra Streisand: I haven't had much fun in my life\",\n",
       "   'description': \"One of Hollywood's biggest stars takes a reflective look at her life, as she publishes her memoir.\",\n",
       "   'url': 'https://www.bbc.co.uk/news/entertainment-arts-67283909',\n",
       "   'urlToImage': 'https://ichef.bbci.co.uk/news/1024/branded_news/AA28/production/_131606534_gettyimages-109252302.jpg',\n",
       "   'publishedAt': '2023-11-06T00:13:48Z',\n",
       "   'content': 'When Barbra Streisand was 17 years old and living away from home for the first time, she set herself a goal.\\r\\n\"I have to become famous,\" she told herself, \"just so I can get someone else to make my b… [+11313 chars]'},\n",
       "  {'source': {'id': 'bbc-news', 'name': 'BBC News'},\n",
       "   'author': 'https://www.facebook.com/bbcnews',\n",
       "   'title': 'Apple sales dip again despite iPhone boost',\n",
       "   'description': 'Apple says that sales have dropped for the fourth quarter in a row despite a boost from iPhones.',\n",
       "   'url': 'https://www.bbc.co.uk/news/business-67304260',\n",
       "   'urlToImage': 'https://ichef.bbci.co.uk/news/1024/branded_news/E5CE/production/_131603885_gettyimages-1696213579-1.jpg',\n",
       "   'publishedAt': '2023-11-02T22:57:47Z',\n",
       "   'content': 'Apple sales have continued to fall, despite strong demand for its iPhones and services like streaming platform Apple TV+.\\r\\nThe tech giant says revenues dipped 1% to $89.5bn (£73.3bn) in the three mon… [+2176 chars]'},\n",
       "  {'source': {'id': 'ars-technica', 'name': 'Ars Technica'},\n",
       "   'author': 'Chuong Nguyen',\n",
       "   'title': 'Dealmaster: Big early Black Friday display sale, Apple deals, and more',\n",
       "   'description': 'Hot TV deals, laptops galore, Apple gear, and more ahead of Black Friday.',\n",
       "   'url': 'https://arstechnica.com/shopping/2023/11/dealmaster-big-early-black-friday-display-sale-apple-deals-and-more/',\n",
       "   'urlToImage': 'https://cdn.arstechnica.net/wp-content/uploads/2022/01/Odyssey-Neo-G8-Monitor-760x380.jpg',\n",
       "   'publishedAt': '2023-11-01T20:20:31Z',\n",
       "   'content': \"Enlarge/ The fastest 4K monitor.\\r\\n6 with \\r\\nBlack Friday sales are starting earlier and earlier with each passing year, and the savings can be big if you catch them. For today's Dealmaster, we've grab… [+14452 chars]\"},\n",
       "  {'source': {'id': 'ars-technica', 'name': 'Ars Technica'},\n",
       "   'author': 'Kevin Purdy',\n",
       "   'title': 'Apple slides from 2013 skewer Android as “a massive tracking device”',\n",
       "   'description': 'But Apple also wanted to know what results users clicked on Google from iPhones.',\n",
       "   'url': 'https://arstechnica.com/tech-policy/2023/11/apple-called-android-a-massive-tracking-device-in-a-2013-presentation/',\n",
       "   'urlToImage': 'https://cdn.arstechnica.net/wp-content/uploads/2023/11/Screenshot-2023-11-02-at-2.51.18\\u202fPM-760x380.png',\n",
       "   'publishedAt': '2023-11-02T20:13:20Z',\n",
       "   'content': 'Enlarge/ It just reads different in that typeface.\\r\\n16 with \\r\\n\"Here is [sic] the latest slides we have on privacy,\" Senior Vice President of Services Eddy Cue wrote to CEO Tim Cook and then-SVP of Ma… [+4575 chars]'},\n",
       "  {'source': {'id': 'ars-technica', 'name': 'Ars Technica'},\n",
       "   'author': 'Samuel Axon',\n",
       "   'title': 'Once again, neither Mac nor iPad sales grew in Apple’s latest earnings report',\n",
       "   'description': 'The company still made $89.5 billion, though.',\n",
       "   'url': 'https://arstechnica.com/gadgets/2023/11/once-again-neither-mac-nor-ipad-sales-grew-in-apples-latest-earnings-report/',\n",
       "   'urlToImage': 'https://cdn.arstechnica.net/wp-content/uploads/2017/02/apple-park-photo-1-building-trees-760x380.jpg',\n",
       "   'publishedAt': '2023-11-02T21:59:15Z',\n",
       "   'content': \"Enlarge/ A building at Apple Park, the company's Cupertino, California, HQ.\\r\\n151 with \\r\\nApple reported its earnings for the fourth quarter of its 2023 fiscal year on Thursday, and while the revenue d… [+1726 chars]\"},\n",
       "  {'source': {'id': 'ars-technica', 'name': 'Ars Technica'},\n",
       "   'author': 'Samuel Axon',\n",
       "   'title': 'Apple’s cheaper Pencil is available to buy now, but it has some limitations',\n",
       "   'description': '$79 Pencil lowers the barrier to entry for drawing on an iPad.',\n",
       "   'url': 'https://arstechnica.com/gadgets/2023/11/apples-cheaper-pencil-is-available-to-buy-now-but-it-has-some-limitations/',\n",
       "   'urlToImage': 'https://cdn.arstechnica.net/wp-content/uploads/2023/10/Apple-Pencil-USB-C-sliding-cap-760x380.jpg',\n",
       "   'publishedAt': '2023-11-01T20:28:36Z',\n",
       "   'content': \"8 with \\r\\n<ul><li>\\r\\n The USB-C port is hidden under the cap. \\r\\n</li><li>\\r\\n Apple's detailed chart delineating which Pencil you should or should not buy. \\r\\n</li></ul>\\r\\nThe new USB-C Apple Pencil is now… [+1777 chars]\"},\n",
       "  {'source': {'id': 'ars-technica', 'name': 'Ars Technica'},\n",
       "   'author': 'Chuong Nguyen',\n",
       "   'title': 'Dealmaster: Pre-Black Friday deals on home entertainment, Herman Miller chairs, and laptops',\n",
       "   'description': 'TVs, audio, headphones, and home entertainment take center stage in pre-Black Friday sales.',\n",
       "   'url': 'https://arstechnica.com/shopping/2023/11/dealmaster-pre-black-friday-deals-on-home-entertainment-audio-and-laptops/',\n",
       "   'urlToImage': 'https://cdn.arstechnica.net/wp-content/uploads/2022/08/LG-OLED-760x380.png',\n",
       "   'publishedAt': '2023-11-03T20:20:19Z',\n",
       "   'content': \"Enlarge/ A promotional image for LG's larger OLED televisions.\\r\\n25 with \\r\\nWhether you need a monitor for work or you want a larger living room screen for entertainment, our curated pre-Black Friday D… [+13982 chars]\"},\n",
       "  {'source': {'id': 'ars-technica', 'name': 'Ars Technica'},\n",
       "   'author': 'Kevin Purdy',\n",
       "   'title': 'Google is moving Shopping List and other notes into one app to worry about, Keep',\n",
       "   'description': \"It's technically a reversal of a bizarre, annoying move they made in 2017.\",\n",
       "   'url': 'https://arstechnica.com/gadgets/2023/11/google-is-moving-shopping-list-and-other-notes-into-one-app-to-worry-about-keep/',\n",
       "   'urlToImage': 'https://cdn.arstechnica.net/wp-content/uploads/2023/11/GettyImages-990215162-760x380.jpg',\n",
       "   'publishedAt': '2023-11-02T18:40:17Z',\n",
       "   'content': 'Enlarge/ The grocery items and random thoughts you shout at your phone or your speaker are now kept in Google Keep, not in Assistant. Assistant, which in 2018 earned its own monorail wrap at CES in L… [+3266 chars]'},\n",
       "  {'source': {'id': None, 'name': 'Android Central'},\n",
       "   'author': 'tips@androidcentral.com (Nickolas Diaz)',\n",
       "   'title': 'Apple almost made an Android-compatible Apple Watch, says report',\n",
       "   'description': \"An Android-compatible Apple Watch never came to fruition because feared an Android-compatible watch would've 'diluted' its value, says one report.\",\n",
       "   'url': 'https://www.androidcentral.com/wearables/apple-considered-making-android-compatible-watch',\n",
       "   'urlToImage': 'https://cdn.mos.cms.futurecdn.net/gwXLVDyYWgytHVdQQTW56n-1200-80.jpg',\n",
       "   'publishedAt': '2023-11-02T19:04:57Z',\n",
       "   'content': \"<ul><li>During Apple's report on its future health-based plans for its smartwatch, it briefly discussed its previous aspiration of making it compatible with Android.</li><li>This would've brought all… [+2527 chars]\"},\n",
       "  {'source': {'id': None, 'name': 'Android Central'},\n",
       "   'author': 'andrew.myrick@futurenet.com (Andrew Myrick)',\n",
       "   'title': 'Apple made the wrong decision not bringing the Apple Watch to Android',\n",
       "   'description': 'Apple was reportedly working on making the Apple Watch compatible with Android phones. The project was then canceled, but Apple made a mistake in doing so.',\n",
       "   'url': 'https://www.androidcentral.com/wearables/apple-watch-android-wrong-decision',\n",
       "   'urlToImage': 'https://cdn.mos.cms.futurecdn.net/YenYGQ6a6FyYWe3wZyZWen-1200-80.jpg',\n",
       "   'publishedAt': '2023-11-03T08:30:26Z',\n",
       "   'content': 'Recently, a report surfaced claiming that at one point in time, Apple was actually considering making the Apple Watch compatible with Android phones. Internally, this was known as \"Project Fennel,\" a… [+6155 chars]'},\n",
       "  {'source': {'id': None, 'name': 'Android Central'},\n",
       "   'author': 'nicholas.sutrich@futurenet.com (Nicholas Sutrich)',\n",
       "   'title': 'A new supercharged Qualcomm chipset could help Samsung beat Apple Vision Pro',\n",
       "   'description': \"Apple Vision Pro won't be available for a few more months but we're already hearing more about Samsung and Google's vision to beat Apple to the punch.\",\n",
       "   'url': 'https://www.androidcentral.com/gaming/virtual-reality/new-qualcomm-xr-chipset-announcement-coming',\n",
       "   'urlToImage': 'https://cdn.mos.cms.futurecdn.net/EGyMVjCtn48b6R9o8DrLUG-1200-80.jpg',\n",
       "   'publishedAt': '2023-11-01T21:03:51Z',\n",
       "   'content': \"<ul><li>Qualcomm is releasing a new XR chipset in Q1 2024 designed to match the power of Apple's M2 chip in the Apple Vision Pro.</li><li>Samsung is expected to use the new chipset first in its upcom… [+2272 chars]\"},\n",
       "  {'source': {'id': None, 'name': 'Android Central'},\n",
       "   'author': 'michael.hicks@futurenet.com (Michael L Hicks)',\n",
       "   'title': \"Apple and Samsung lost market share to a phone brand you've never heard of\",\n",
       "   'description': 'Samsung, Apple, Xiaomi, and OPPO still claim the top four spots, but Transsion has leaped past Huawei and vivo for the fifth spot in global phone sales.',\n",
       "   'url': 'https://www.androidcentral.com/phones/canalys-q3-2023-global-smartphone-sales',\n",
       "   'urlToImage': 'https://cdn.mos.cms.futurecdn.net/jSa5GjRPha2w9eazo8nnQS-1200-80.jpg',\n",
       "   'publishedAt': '2023-11-01T01:00:09Z',\n",
       "   'content': '<ul><li>Worldwide smartphone sales in Q3 2023 hit about 300 million, a 1% dip compared to last year, according to Canalys.\\xa0</li><li>Apple, Samsung, and OPPO all lost worldwide market share compared t… [+3041 chars]'},\n",
       "  {'source': {'id': None, 'name': 'Android Central'},\n",
       "   'author': 'michael.hicks@futurenet.com (Michael L Hicks)',\n",
       "   'title': 'Apple Watch Series 10 could borrow more health tricks from the Galaxy Watch 6',\n",
       "   'description': \"Samsung has had blood pressure detection since the Galaxy Watch 4; Apple's next watch could have similar tech, but might actually bring it to U.S. users.\",\n",
       "   'url': 'https://www.androidcentral.com/wearables/apple-watch-could-detect-blood-pressure-sleep-apnea-like-galaxy-watch',\n",
       "   'urlToImage': 'https://cdn.mos.cms.futurecdn.net/bCMGrpnKCjBAcgffmGH24b-1200-80.jpeg',\n",
       "   'publishedAt': '2023-11-03T02:34:48Z',\n",
       "   'content': \"<ul><li>Bloomberg's Mark Gurman claims Apple plans to add blood pressure monitoring and sleep apnea detection to its next smartwatch.\\xa0</li><li>The Apple Watch Series 10 would detect if your blood pre… [+4137 chars]\"},\n",
       "  {'source': {'id': None, 'name': 'Android Central'},\n",
       "   'author': 'techkritiko@gmail.com (Jay Bonggolto)',\n",
       "   'title': 'Google shutters the COVID-19 exposure notification feature on Android',\n",
       "   'description': 'The move comes a few months after WHO said the pandemic was no longer a global health emergency.',\n",
       "   'url': 'https://www.androidcentral.com/apps-software/google-removes-covid-exposure-notifications',\n",
       "   'urlToImage': 'https://cdn.mos.cms.futurecdn.net/jy9P7yfpdJafD6M8AJ2oJd-1200-80.jpg',\n",
       "   'publishedAt': '2023-11-06T11:56:02Z',\n",
       "   'content': '<ul><li>The COVID-19 exposure notification feature was developed by Apple and Google in 2020 to help people track potential COVID-19 exposures.</li><li>Millions of notifications were sent through thi… [+2210 chars]'},\n",
       "  {'source': {'id': None, 'name': 'Android Central'},\n",
       "   'author': 'techkritiko@gmail.com (Jay Bonggolto)',\n",
       "   'title': \"Pixel's Car crash detection finally expands to five more countries\",\n",
       "   'description': \"Google has had a car crash detection on its Pixel phones for quite a while, and it's finally adding support for more markets.\",\n",
       "   'url': 'https://www.androidcentral.com/phones/pixel-car-crash-detection-expands-to-more-countries',\n",
       "   'urlToImage': 'https://cdn.mos.cms.futurecdn.net/G2vaeYP5DXV6jGEb9wGzdf-1200-80.jpg',\n",
       "   'publishedAt': '2023-11-01T10:35:00Z',\n",
       "   'content': \"<ul><li>Pixel's Car crash detection is now available in five additional countries, including India, Austria, Belgium, Portugal, and Switzerland.</li><li>However, the regional expansion applies only t… [+2285 chars]\"},\n",
       "  {'source': {'id': None, 'name': 'Android Central'},\n",
       "   'author': 'derrek.lee@futurenet.com (Derrek Lee)',\n",
       "   'title': \"Qualcomm says Snapdragon 8 Gen 3 may have the 'majority share' with the Galaxy S24\",\n",
       "   'description': 'Qualcomm announced its FY Q4 financial earnings, providing some insight into the current and upcoming quarters.',\n",
       "   'url': 'https://www.androidcentral.com/phones/qualcomm-fy-q4-2023-earnings',\n",
       "   'urlToImage': 'https://cdn.mos.cms.futurecdn.net/YS7xAwLueVWgPgeVpKTtfc-1200-80.jpg',\n",
       "   'publishedAt': '2023-11-01T21:26:03Z',\n",
       "   'content': \"<ul><li>Qualcomm reported its FY Q4 2023 financial earnings on Wednesday.</li><li>Headset revenue, which makes up the majority of Qualcomm's overall revenue, declined by 27%.</li><li>Qualcomm's Autom… [+2939 chars]\"},\n",
       "  {'source': {'id': None, 'name': 'Android Central'},\n",
       "   'author': 'michael.hicks@futurenet.com (Michael L Hicks)',\n",
       "   'title': \"Here's how Fitbit can make the Charge 7 a better fitness tracker for runners\",\n",
       "   'description': \"From better safety features to improved training recommendations, here's where Fitbit needs to evolve before its next fitness tracker.\",\n",
       "   'url': 'https://www.androidcentral.com/wearables/fitbit-charge-7-wishlist',\n",
       "   'urlToImage': 'https://cdn.mos.cms.futurecdn.net/GwgHV2DSRWceMLs3D4hGda-1200-80.jpeg',\n",
       "   'publishedAt': '2023-11-05T16:00:39Z',\n",
       "   'content': \"The Google era of Fitbit is in full swing. In the last couple months, we've seen a Fitbit app redesign and the launch of a Fitbit Charge 6 packed full of Google software. With the Fitbit Charge 7, ho… [+10506 chars]\"},\n",
       "  {'source': {'id': None, 'name': 'Android Central'},\n",
       "   'author': 'jerry.hildenbrand@futurenet.com (Jerry Hildenbrand)',\n",
       "   'title': \"Qualcomm's XPAN tech is the best new audio feature you'll probably never get to use\",\n",
       "   'description': \"Lossless audio streaming over Wi-Fi directly to your headphones is great. Too bad it won't see wide adoption.\",\n",
       "   'url': 'https://www.androidcentral.com/accessories/audio/problem-with-qualcomm-s7-sound-xpan-tech',\n",
       "   'urlToImage': 'https://cdn.mos.cms.futurecdn.net/Wj93CuLz7XeEsHjzuKqfZZ-1200-80.jpg',\n",
       "   'publishedAt': '2023-11-01T15:00:00Z',\n",
       "   'content': \"Qualcomm's new Snapdragon 8 Gen 3 is probably the company's best offering ever. It's definitely got the most powerful, promising AI-accelerated features and, at least on paper, raw performance that r… [+4065 chars]\"},\n",
       "  {'source': {'id': None, 'name': 'Android Central'},\n",
       "   'author': 'nicholas.sutrich@futurenet.com (Nicholas Sutrich)',\n",
       "   'title': 'VR news of the week: TikTok in VR, controller issues, and new smart glasses',\n",
       "   'description': 'VR weekly news recap November 3, 2023: Lots of games got Quest 3 upgrades, but controller tracking issues keep cropping up. Plus, new Pico apps and a smart glasses roadmap from Meta.',\n",
       "   'url': 'https://www.androidcentral.com/gaming/virtual-reality/vr-news-of-the-week-november-3-2023',\n",
       "   'urlToImage': 'https://cdn.mos.cms.futurecdn.net/Gy6tBWc4LzPPznAaFTLSjC-1200-80.jpg',\n",
       "   'publishedAt': '2023-11-04T18:00:19Z',\n",
       "   'content': '(Image credit: Android Central)\\r\\nAs part of a weekly series, Android Central Senior Editors Michael Hicks and Nick Sutrich are rounding up all of the news on hardware, game announcements, leaks, and … [+6021 chars]'},\n",
       "  {'source': {'id': None, 'name': 'MacRumors'},\n",
       "   'author': 'Joe Rossignol',\n",
       "   'title': \"Apple Says There Won't Be a 27-Inch iMac With Apple Silicon\",\n",
       "   'description': 'Apple has confirmed to The Verge that it has no plans to release a new 27-inch iMac with Apple silicon.\\n\\n\\n\\n\\n\\nFrom the report:Apple PR representative Starlayne Meza confirmed the company’s plans to The Verge. The company encourages those who have been holding …',\n",
       "   'url': 'https://www.macrumors.com/2023/11/06/no-27-inch-with-apple-silicon/',\n",
       "   'urlToImage': 'https://images.macrumors.com/t/cz6OHKoATPugpNQoxRXqJW5eBfQ=/1626x/article-new/2022/01/iMac-Pro-2022-27-and-24-iMac.jpg',\n",
       "   'publishedAt': '2023-11-06T14:05:41Z',\n",
       "   'content': 'Apple has confirmed to The Verge that it has no plans to release a new 27-inch iMac with Apple silicon.\\r\\nApple discontinued the Intel-based 27-inch iMac and iMac Pro over the past few years, and it h… [+524 chars]'},\n",
       "  {'source': {'id': None, 'name': 'MacRumors'},\n",
       "   'author': 'Joe Rossignol',\n",
       "   'title': 'Downgrading an iPhone to iOS 17.0.3 is No Longer Possible',\n",
       "   'description': 'Apple has stopped signing iOS 17.0.3, preventing iPhone users from downgrading to that version. However, Apple continues to sign iOS 17.0.2 for now.\\n\\n\\n\\n\\n\\nApple routinely stops signing older iOS releases over time in order to prevent users from downgrading to …',\n",
       "   'url': 'https://www.macrumors.com/2023/11/02/apple-stops-signing-ios-17-0-3/',\n",
       "   'urlToImage': 'https://images.macrumors.com/t/YwlOr-Sn9cOuLuCS_VryhvFkByE=/2500x/article-new/2023/10/iOS-17.0.3-Feature.jpg',\n",
       "   'publishedAt': '2023-11-02T13:38:01Z',\n",
       "   'content': 'Apple has stopped signing iOS 17.0.3, preventing iPhone users from downgrading to that version. However, Apple continues to sign iOS 17.0.2 for now.\\r\\nApple routinely stops signing older iOS releases … [+616 chars]'},\n",
       "  {'source': {'id': None, 'name': 'MacRumors'},\n",
       "   'author': 'Mitchel Broussard',\n",
       "   'title': \"Woot's New Apple Accessory Sale Has Up to 90% Off iPhone Cases and Best-Ever Price on MagSafe Duo\",\n",
       "   'description': 'Woot has kicked off a new Apple accessory blowout sale, offering as much as 90 percent off select first-party Apple accessories. This includes iPhone cases as recent as the iPhone 14 and MagSafe chargers.\\n\\n\\n\\nNote: MacRumors is an affiliate partner with Woot. …',\n",
       "   'url': 'https://www.macrumors.com/2023/11/02/woots-apple-accessory-sale/',\n",
       "   'urlToImage': 'https://images.macrumors.com/t/7ug8AQu3jgPUXheCSAWNMrsX2iA=/2500x/article-new/2023/11/woot-accessory-holiday.jpg',\n",
       "   'publishedAt': '2023-11-02T13:41:08Z',\n",
       "   'content': 'Woot has kicked off a new Apple accessory blowout sale, offering as much as 90 percent off select first-party Apple accessories. This includes iPhone cases as recent as the iPhone 14 and MagSafe char… [+1189 chars]'},\n",
       "  {'source': {'id': None, 'name': 'MacRumors'},\n",
       "   'author': 'Joe Rossignol',\n",
       "   'title': 'Apple Preparing to Release iOS 17.1.1 Update for iPhone',\n",
       "   'description': \"Apple appears to be internally testing an iOS 17.1.1 update for the iPhone, based on evidence of the software in our website's analytics logs this week.\\n\\n\\n\\n\\n\\niOS 17.1.1 will almost certainly be focused on bug fixes, but it's unclear exactly which issues the u…\",\n",
       "   'url': 'https://www.macrumors.com/2023/11/02/ios-17-1-1-is-coming/',\n",
       "   'urlToImage': 'https://images.macrumors.com/t/xJZsMDa4Ljg7I98cQ3oYDnxtvZs=/2500x/article-new/2023/11/iOS-17.1.1-Feature.jpg',\n",
       "   'publishedAt': '2023-11-02T20:22:45Z',\n",
       "   'content': \"Apple appears to be internally testing an iOS 17.1.1 update for the iPhone, based on evidence of the software in our website's analytics logs this week.\\r\\niOS 17.1.1 will almost certainly be focused o… [+1083 chars]\"},\n",
       "  {'source': {'id': None, 'name': 'MacRumors'},\n",
       "   'author': 'Eric Slivka',\n",
       "   'title': \"UK Lawsuit Over 'Throttled' iPhones Moves Forward\",\n",
       "   'description': 'A legal claim in the United Kingdom over Apple\\'s 2017 \"throttling\" controversy has been allowed to move forward by the Competition Appeal Tribunal, according to Reuters.\\n\\n\\n\\n\\n\\nConsumer advocate Justin Gutmann filed the claim back in June 2022, seeking a total …',\n",
       "   'url': 'https://www.macrumors.com/2023/11/01/uk-lawsuit-throttled-iphones-moves-forward/',\n",
       "   'urlToImage': 'https://images.macrumors.com/t/GmwXHYTWm2SGRy8Rm60tZtZI8xI=/1600x/article-new/2023/11/iPhone-slow-16x9-yellow.jpg',\n",
       "   'publishedAt': '2023-11-01T15:49:08Z',\n",
       "   'content': 'A legal claim in the United Kingdom over Apple\\'s 2017 \"throttling\" controversy has been allowed to move forward by the Competition Appeal Tribunal, according to Reuters.\\r\\nConsumer advocate Justin Gut… [+1861 chars]'},\n",
       "  {'source': {'id': None, 'name': 'MacRumors'},\n",
       "   'author': 'Juli Clover',\n",
       "   'title': 'MacRumors Giveaway: Win an Apple Watch Ultra 2 and Titanium Band From Lululook',\n",
       "   'description': \"For this week's giveaway, we've once again teamed up with Lululook to offer MacRumors readers a chance to win an new Apple Watch Ultra 2 and one of Lululook's Titanium Apple Watch Bands to go along with it.\\n\\n\\n\\n\\n\\nLululook has range of high-quality titanium and…\",\n",
       "   'url': 'https://www.macrumors.com/2023/11/03/macrumors-giveaway-ultra-2-lululook/',\n",
       "   'urlToImage': 'https://images.macrumors.com/t/egKCBRNHRC5VZOJJOBszmabk1vQ=/2655x/article-new/2023/07/lululook-modern-band-2.jpg',\n",
       "   'publishedAt': '2023-11-03T16:00:00Z',\n",
       "   'content': \"For this week's giveaway, we've once again teamed up with Lululook to offer MacRumors readers a chance to win an new Apple Watch Ultra 2 and one of Lululook's Titanium Apple Watch Bands to go along w… [+4387 chars]\"},\n",
       "  {'source': {'id': None, 'name': 'MacRumors'},\n",
       "   'author': 'Tim Hardwick',\n",
       "   'title': 'These M3 Macs Are Still Coming, But Are They Worth the Wait?',\n",
       "   'description': \"Apple in October announced an M3-powered 24-inch iMac, as well as new 14-inch and 16-inch MacBook Pro models with M3 series chips. So when will the rest of Apple's Mac lineup be updated to the latest M3 processors, and will they be worth the wait?\\n\\n\\n\\n\\n\\nNow th…\",\n",
       "   'url': 'https://www.macrumors.com/2023/11/03/when-apple-launch-more-m3-macs/',\n",
       "   'urlToImage': 'https://images.macrumors.com/t/TPkt2zfffp5Eoui_QNbiqe1gcy4=/2500x/article-new/2023/11/When-Will-Apple-Launch-More-M3-Macs-Feature-Sans-13inch-MBP.jpg',\n",
       "   'publishedAt': '2023-11-03T12:11:41Z',\n",
       "   'content': \"Apple in October announced an M3-powered 24-inch iMac, as well as new 14-inch and 16-inch MacBook Pro models with M3 series chips. So when will the rest of Apple's Mac lineup be updated to the latest… [+6727 chars]\"},\n",
       "  {'source': {'id': None, 'name': 'MacRumors'},\n",
       "   'author': 'Joe Rossignol',\n",
       "   'title': \"What to Expect From Apple's Earnings Report Tomorrow Following iPhone 15 Launch\",\n",
       "   'description': \"Apple will report its earnings results for the fourth quarter of its 2023 fiscal year on Thursday, November 2 at 1:30 p.m. Pacific Time. Apple's CEO Tim Cook and CFO Luca Maestri will discuss the results on a conference call with analysts a half hour later.\\n\\n…\",\n",
       "   'url': 'https://www.macrumors.com/2023/11/01/apple-q4-2023-earnings-preview/',\n",
       "   'urlToImage': 'https://images.macrumors.com/t/NL4l6iHxp0S0F_C3evm831s7d_U=/2880x/article-new/2023/09/iPhone-15-Pro-lineup.jpg',\n",
       "   'publishedAt': '2023-11-01T20:02:33Z',\n",
       "   'content': \"Apple will report its earnings results for the fourth quarter of its 2023 fiscal year on Thursday, November 2 at 1:30 p.m. Pacific Time. Apple's CEO Tim Cook and CFO Luca Maestri will discuss the res… [+2029 chars]\"},\n",
       "  {'source': {'id': None, 'name': 'MacRumors'},\n",
       "   'author': 'Mitchel Broussard',\n",
       "   'title': 'The Best Early Black Friday iPhone Deals',\n",
       "   'description': \"We've begun tracking early Black Friday deals for major Apple products like AirPods, and now we're focusing on iPhone. Specifically, in this guide we'll share the best early Black Friday deals on iPhone 15, iPhone 15 Plus, iPhone 15 Pro, iPhone 15 Pro Max, an…\",\n",
       "   'url': 'https://www.macrumors.com/guide/best-black-friday-iphone-deals/',\n",
       "   'urlToImage': 'https://images.macrumors.com/t/b7OC_wqvFUmFNNRvE0fcysECRF0=/2000x/article-new/2023/11/best-early-black-friday-iphone-2.jpg',\n",
       "   'publishedAt': '2023-11-04T20:23:02Z',\n",
       "   'content': \"We've begun tracking early Black Friday deals for major Apple products like AirPods, and now we're focusing on iPhone. Specifically, in this guide we'll share the best early Black Friday deals on iPh… [+4902 chars]\"},\n",
       "  {'source': {'id': None, 'name': 'MacRumors'},\n",
       "   'author': 'Hartley Charlton',\n",
       "   'title': \"M1 vs. M3 iMac Buyer's Guide: 15+ Differences Compared\",\n",
       "   'description': 'The iMac now features the M3 chip, replacing the M1 model that Apple introduced in April 2021, so how different are the two successive generations?\\n\\n\\n\\n\\n\\nThe 2021 \\u200ciMac\\u200c was the first of its kind to feature an Apple silicon chip, replacing previous Intel-based…',\n",
       "   'url': 'https://www.macrumors.com/guide/m1-vs-m3-imac/',\n",
       "   'urlToImage': 'https://images.macrumors.com/t/VJUdCDACrecU5Z0mwYYrN35fZco=/2500x/article-new/2023/11/M1-versus-M3-iMac-Feature-1.jpg',\n",
       "   'publishedAt': '2023-11-02T10:43:24Z',\n",
       "   'content': 'The iMac now features the M3 chip, replacing the M1 model that Apple introduced in April 2021, so how different are the two successive generations?\\r\\nThe 2021 \\u200ciMac\\u200c was the first of its kind to featu… [+3338 chars]'},\n",
       "  {'source': {'id': None, 'name': 'MacRumors'},\n",
       "   'author': 'Joe Rossignol',\n",
       "   'title': 'Will the iPhone 16 Feature Taptic Buttons?',\n",
       "   'description': 'While it was rumored that the iPhone 15 Pro models would be equipped with solid-state buttons, the devices ended up launching with traditional mechanical buttons. Attention has now shifted to whether the solid-state buttons will still happen with the iPhone 1…',\n",
       "   'url': 'https://www.macrumors.com/2023/11/03/will-iphone-16-feature-taptic-buttons/',\n",
       "   'urlToImage': 'https://images.macrumors.com/t/SmIQxxD8PeNRatir3RFKfqT519g=/3532x/article-new/2023/09/iPhone-16-Side-2-Feature.jpg',\n",
       "   'publishedAt': '2023-11-03T15:04:15Z',\n",
       "   'content': 'While it was rumored that the iPhone 15 Pro models would be equipped with solid-state buttons, the devices ended up launching with traditional mechanical buttons. Attention has now shifted to whether… [+3028 chars]'},\n",
       "  {'source': {'id': None, 'name': 'MacRumors'},\n",
       "   'author': 'Mitchel Broussard',\n",
       "   'title': 'Get Your Holiday Shopping Started With Our Exclusive 30% Off Sale at Satechi',\n",
       "   'description': \"We've partnered with Satechi this week to offer 30 percent off sitewide at the retailer, allowing our readers to save on Satechi's best hubs, chargers, desktop accessories, and more. To get this deal, enter the code MR30 at the checkout screen before November…\",\n",
       "   'url': 'https://www.macrumors.com/2023/11/01/deals-take-30-off-at-satechi/',\n",
       "   'urlToImage': 'https://images.macrumors.com/t/S9_xIMuECGrXqR5lWcAuAP6U2PY=/2500x/article-new/2022/11/satechi-blue-holiday.jpg',\n",
       "   'publishedAt': '2023-11-01T13:59:41Z',\n",
       "   'content': \"We've partnered with Satechi this week to offer 30 percent off sitewide at the retailer, allowing our readers to save on Satechi's best hubs, chargers, desktop accessories, and more. To get this deal… [+1366 chars]\"},\n",
       "  {'source': {'id': None, 'name': 'MacRumors'},\n",
       "   'author': 'Juli Clover',\n",
       "   'title': \"Have a 13-Inch MacBook Pro? Here's Why You Should Upgrade to the New M3 14-Inch Model\",\n",
       "   'description': \"Apple this week discontinued the 13-inch M2 MacBook Pro, replacing it with a 14-inch model that's equipped with a next-generation M3 chip. The 14-inch model is more expensive, but it comes with a number of benefits that make it worth the upgrade for anyone wi…\",\n",
       "   'url': 'https://www.macrumors.com/2023/11/01/m3-macbook-pro-comparison/',\n",
       "   'urlToImage': 'https://images.macrumors.com/t/OJ0yk_Xx7RJdatPcHRnJUEVzHsc=/2500x/article-new/2023/10/Baseline-M2-vs-M3-Thumb.jpg',\n",
       "   'publishedAt': '2023-11-01T19:06:51Z',\n",
       "   'content': \"Apple this week discontinued the 13-inch M2 MacBook Pro, replacing it with a 14-inch model that's equipped with a next-generation M3 chip. The 14-inch model is more expensive, but it comes with a num… [+2580 chars]\"},\n",
       "  {'source': {'id': None, 'name': 'MacRumors'},\n",
       "   'author': 'Joe Rossignol',\n",
       "   'title': 'M3 Pro Chip Barely Faster Than M2 Pro in Unverified Benchmark Result',\n",
       "   'description': \"Apple's new M3 Pro chip with a 12-core CPU offers only marginally faster CPU performance compared to the M2 Pro chip with a 12-core CPU, according to a Geekbench 6 result spotted today by Vadim Yuryev, co-host of the YouTube channel Max Tech. This is only a s…\",\n",
       "   'url': 'https://www.macrumors.com/2023/11/05/m3-pro-chip-benchmark-result/',\n",
       "   'urlToImage': 'https://images.macrumors.com/t/F5ulL21DHhkGBuYn4oY_aFhUYR8=/5104x/article-new/2023/10/m3-pro-chip.jpg',\n",
       "   'publishedAt': '2023-11-05T04:05:11Z',\n",
       "   'content': \"Apple's new M3 Pro chip with a 12-core CPU offers only marginally faster CPU performance compared to the M2 Pro chip with a 12-core CPU, according to a Geekbench 6 result spotted today by Vadim Yurye… [+2153 chars]\"},\n",
       "  {'source': {'id': None, 'name': 'MacRumors'},\n",
       "   'author': 'Joe Rossignol',\n",
       "   'title': 'First Benchmark Results Surface for M3 Chip in New Macs',\n",
       "   'description': \"The first benchmark results for the standard M3 chip surfaced in the Geekbench 6 database today, providing a closer look at the chip's CPU performance improvements.\\n\\n\\n\\n\\n\\nBased on the results so far, the M3 chip has single-core and multi-core scores of around …\",\n",
       "   'url': 'https://www.macrumors.com/2023/11/01/m3-chip-benchmark-results/',\n",
       "   'urlToImage': 'https://images.macrumors.com/t/c-gCZ2-o01RwEU81ZIcGYwLdtEA=/1600x/article-new/2023/11/M3-Chip-Apple-Event-Slide.jpg',\n",
       "   'publishedAt': '2023-11-01T14:53:53Z',\n",
       "   'content': \"The first benchmark results for the standard M3 chip surfaced in the Geekbench 6 database today, providing a closer look at the chip's CPU performance improvements.\\r\\nBased on the results so far, the … [+939 chars]\"},\n",
       "  {'source': {'id': None, 'name': 'CNET'},\n",
       "   'author': 'Oliver Haslam',\n",
       "   'title': 'Accessorize Your iPhone, Mac and More From Just $4 at Woot - CNET',\n",
       "   'description': \"Whether it's a new iPhone case, an Apple Watch band or a new charger, Woot has first-party Apple accessory deals for you right now.\",\n",
       "   'url': 'https://www.cnet.com/deals/accessorize-your-iphone-mac-and-more-from-just-4-at-woot/',\n",
       "   'urlToImage': 'https://www.cnet.com/a/img/resize/83e2fcb16cf68d6acf7e621443f091f00ad81861/hub/2023/11/02/94e223ef-b34d-4626-8c72-62332802c1f0/apple-accessories.jpg?auto=webp&fit=crop&height=675&width=1200',\n",
       "   'publishedAt': '2023-11-02T16:48:09Z',\n",
       "   'content': \"Picking up official Apple accessories for all of your devices can be an expensive endeavor. But that's something that Woot is helping out with right now with a number of Apple accessories available a… [+1377 chars]\"},\n",
       "  {'source': {'id': None, 'name': 'CNET'},\n",
       "   'author': 'Katelyn Chedraoui',\n",
       "   'title': 'How to Limit Your Screen Time With These iPhone and Android Wellness Settings - CNET',\n",
       "   'description': 'Put a limit on your doomscrolling with these Apple and Androids digital well-being tips.',\n",
       "   'url': 'https://www.cnet.com/tech/services-and-software/how-to-limit-your-screen-time-with-these-iphone-and-android-wellness-settings/',\n",
       "   'urlToImage': 'https://www.cnet.com/a/img/resize/e3bb65d7ce95a60d28ce4192ac3774da4925bb36/hub/2020/03/30/d97eca5b-3277-475b-b836-be1a15435e18/screen-time.jpg?auto=webp&fit=crop&height=675&width=1200',\n",
       "   'publishedAt': '2023-11-03T12:05:04Z',\n",
       "   'content': \"Reducing your screen time is often easier said than done.\\r\\nBetween your smartphone, a personal tablet and work computer, you're likely racking up quite a bit of screen time. Especially after quaranti… [+4760 chars]\"},\n",
       "  {'source': {'id': None, 'name': 'CNET'},\n",
       "   'author': 'Joshua Goldman',\n",
       "   'title': 'Apple iMac M3 Review: Nothing Short of Remarkable video - CNET',\n",
       "   'description': \"From the outside, Apple's latest 24-inch all-in-one desktop is indistinguishable from the 2021 version. Its performance is a whole different story.\",\n",
       "   'url': 'https://www.cnet.com/videos/apple-imac-m3-review-nothing-short-of-remarkable/',\n",
       "   'urlToImage': 'https://www.cnet.com/a/img/resize/4bbd04282c9d3a38ae8ca0011e339ff7dc95fc78/hub/2023/11/06/88a5d1a8-c4d7-40bd-bf8a-6aaa5d0ab724/screenshot-2023-11-06-at-12-50-40.png?auto=webp&fit=crop&height=675&width=1200',\n",
       "   'publishedAt': '2023-11-06T14:00:13Z',\n",
       "   'content': ''},\n",
       "  {'source': {'id': None, 'name': 'CNET'},\n",
       "   'author': 'Max McHone',\n",
       "   'title': 'USB-C AirPods Pro 2 Return to Just $190 at Amazon Ahead of Black Friday - CNET',\n",
       "   'description': \"That saves you 24% compared to the Apple Store price, and is just $1 more than the all-time lowest price we've seen.\",\n",
       "   'url': 'https://www.cnet.com/deals/usb-c-airpods-pro-2-return-to-just-190-at-amazon-ahead-of-black-friday/',\n",
       "   'urlToImage': 'https://www.cnet.com/a/img/resize/1ddf481268674ff0c5f1334ceeb783b140c79bbb/hub/2023/09/18/bf25d3e2-64fc-4059-89bf-f887e72cd044/airpods-pro-2-usb-c.jpg?auto=webp&fit=crop&height=675&width=1200',\n",
       "   'publishedAt': '2023-11-01T13:04:25Z',\n",
       "   'content': 'The second-gen AirPods Pro are some of our absolute favorite wireless earbuds on the market. And back in September, Apple made some slight improvements, including improved dust resistance, lossless a… [+1241 chars]'},\n",
       "  {'source': {'id': None, 'name': 'CNET'},\n",
       "   'author': 'Lori Grunin',\n",
       "   'title': 'Apple MacBook Pro 14 (Late 2023) Review: A Good Choice at the Higher Price - CNET',\n",
       "   'description': \"The M3-based models don't seem especially good buys, but the M3 Pro choices should deliver.\",\n",
       "   'url': 'https://www.cnet.com/tech/computing/apple-macbook-pro-14-late-2023-review-a-good-choice-at-the-higher-price/',\n",
       "   'urlToImage': 'https://www.cnet.com/a/img/resize/8780e0149f677d64ddc4e1f4d222e5c750a381b0/hub/2023/11/05/4cd841a0-5de1-4f51-b1f2-df0957b33dfd/apple-macbook-pro-14-m3-5160.jpg?auto=webp&fit=crop&height=675&width=1200',\n",
       "   'publishedAt': '2023-11-06T14:03:40Z',\n",
       "   'content': 'The new, lower-price, entry-level model of the MacBook Pro 14 baffles me. I get that $1,999 -- the price of the configuration we tested -- is kind of high, but now it just seems like a heavier MacBoo… [+6750 chars]'},\n",
       "  {'source': {'id': None, 'name': 'CNET'},\n",
       "   'author': 'Bridget Carey',\n",
       "   'title': \"Apple's M3 Sparks a New Era of Mac vs. PC Battles video - CNET\",\n",
       "   'description': 'Apple refreshes the MacBook Pro and iMac with faster M3 chips — right as the competition between other chip makers heats up. Are we entering a new era of the Mac vs. PC battles?',\n",
       "   'url': 'https://www.cnet.com/videos/apples-m3-sparks-a-new-era-of-mac-vs-pc-battles/',\n",
       "   'urlToImage': 'https://www.cnet.com/a/img/resize/f60b37571c0ad4ea30851a8c975f4552bd24bed5/hub/2023/11/02/7d947dc9-5b9a-4c78-9002-ae1ff50ccc0b/231102-site-the-return-of-mac-vs-pc.jpg?auto=webp&fit=crop&height=675&width=1200',\n",
       "   'publishedAt': '2023-11-03T12:00:04Z',\n",
       "   'content': ''},\n",
       "  {'source': {'id': None, 'name': 'CNET'},\n",
       "   'author': 'Joshua Goldman',\n",
       "   'title': 'Apple iMac M3 (2023) Review: Everything You Could Want in an All-in-One - CNET',\n",
       "   'description': \"Apple didn't stray from the sophisticated and colorful design of the 2021 iMac, but the 2023 iMac's M3 chip puts this all-in-one in a class by itself.\",\n",
       "   'url': 'https://www.cnet.com/tech/computing/apple-imac-m3-2023-review/',\n",
       "   'urlToImage': 'https://www.cnet.com/a/img/resize/d1c0829ab8d341a044976b39bb06395de80236f4/hub/2023/11/04/e026585e-9578-422d-85a2-edc3b09be1d7/apple-imac-m3-2023-02.jpg?auto=webp&fit=crop&height=675&width=1200',\n",
       "   'publishedAt': '2023-11-06T14:00:09Z',\n",
       "   'content': \"The 2023 Apple iMac is identical to the 2021 iMac, in appearance and, really, most of its features, too. This is great because it's an overall fantastic design, built around a lovely high-resolution … [+8995 chars]\"},\n",
       "  {'source': {'id': None, 'name': 'CNET'},\n",
       "   'author': 'Lori Grunin',\n",
       "   'title': 'Apple MacBook Pro 16- and 14-Inch, M3 Series Review video - CNET',\n",
       "   'description': \"The new M3 series versions of the 14- and 16-inch MacBook Pro have landed, and it hasn't even been a full year since the M2 series model of the MacBook Pro 16 was released.\",\n",
       "   'url': 'https://www.cnet.com/videos/apple-macbook-pro-16-and-14-inch-m3-series-review/',\n",
       "   'urlToImage': 'https://www.cnet.com/a/img/resize/82efe0d3a0f18afe6929cd9db3efbd06b16c159a/hub/2023/11/06/e0863cfa-7244-4937-8f7c-cda73a9b4220/macbookpro1416-cnet.jpg?auto=webp&fit=crop&height=675&width=1200',\n",
       "   'publishedAt': '2023-11-06T14:00:04Z',\n",
       "   'content': ''},\n",
       "  {'source': {'id': None, 'name': 'CNET'},\n",
       "   'author': 'Lori Grunin',\n",
       "   'title': 'Apple MacBook Pro 16 (M3, Late 2023) Review: Max Power for Creators - CNET',\n",
       "   'description': \"Apple's high-end MacBook Pro gets faster -- a lot in some respects -- and darker.\",\n",
       "   'url': 'https://www.cnet.com/tech/computing/apple-macbook-pro-16-late-2023-review-max-power-for-creators/',\n",
       "   'urlToImage': 'https://www.cnet.com/a/img/resize/fc336d54e2000d612ddba30f7876e65f28e3f4c8/hub/2023/11/05/4ccd280c-fb41-4d97-a69c-df2b54e479ec/apple-macbook-pro-16-m3-max-5111.jpg?auto=webp&fit=crop&height=675&width=1200',\n",
       "   'publishedAt': '2023-11-06T14:00:04Z',\n",
       "   'content': \"The all-too-soon followup to the Editors' Choice-earning M2 generation of the 16-inch MacBook Pro is... the Editors' Choice-earning M3 generation. The hardware is getting faster all the time; I'd be … [+10124 chars]\"},\n",
       "  {'source': {'id': None, 'name': 'CNET'},\n",
       "   'author': 'Imad Khan',\n",
       "   'title': \"Android's First 15 Years Changed the World. With AI, Google Could Change It Again - CNET\",\n",
       "   'description': 'Longtime Google engineers and execs tell CNET how a scrappy project took over the world, and they offer a peek at where Android is heading.',\n",
       "   'url': 'https://www.cnet.com/tech/mobile/androids-first-15-years-changed-the-world-with-ai-google-could-change-it-again/',\n",
       "   'urlToImage': 'https://www.cnet.com/a/img/resize/a85f16617979cac56f5b688ff85b31b48990763a/hub/2023/09/22/c28f5f8f-9319-4e9d-9b32-7295e3af21ad/fold-5-g1-38.jpg?auto=webp&fit=crop&height=675&width=1200',\n",
       "   'publishedAt': '2023-11-05T13:00:20Z',\n",
       "   'content': \"In a sea of flip phones and full keyboard BlackBerrys, a single decision by Google laid waste to the competition. That determination also put Google's Android mobile operating system on an enduring c… [+9481 chars]\"},\n",
       "  {'source': {'id': None, 'name': 'CNET'},\n",
       "   'author': 'Adrian Marlow',\n",
       "   'title': 'The Holiday Head Start Sale at B&H Is Packed With Early Black Friday Deals - CNET',\n",
       "   'description': \"You don't have to wait for the big day to save hundreds on TVs, tablets, laptops, headphones, monitors and other top tech.\",\n",
       "   'url': 'https://www.cnet.com/deals/the-holiday-head-start-sale-at-b-h-is-packed-with-early-black-friday-deals/',\n",
       "   'urlToImage': 'https://www.cnet.com/a/img/resize/c14bb8ae8946251024075f74682b2574883b3dd2/hub/2023/11/02/3bf2885f-7691-43bf-b526-b9861736bafb/03-bg-3-1.jpg?auto=webp&fit=crop&height=675&width=1200',\n",
       "   'publishedAt': '2023-11-02T17:45:25Z',\n",
       "   'content': 'With Black Friday just weeks away, a number of retailers have decided to kick off the holiday shopping season ahead of the big day. Right now, B&amp;H has huge markdowns on a wide array of top tech, … [+7238 chars]'},\n",
       "  {'source': {'id': None, 'name': 'CNET'},\n",
       "   'author': 'Mary-Elisabeth Combs',\n",
       "   'title': \"These 2 Safari Additions Could Convince Me to Switch to Apple's Browser - CNET\",\n",
       "   'description': 'Even though these upgrades are small, they make a big difference in user experience in Safari',\n",
       "   'url': 'https://www.cnet.com/tech/computing/these-two-safari-additions-may-make-me-switch-to-apples-browser/',\n",
       "   'urlToImage': 'https://www.cnet.com/a/img/resize/3bae3c94bebc8bc068a35b0fd19feeb5278cea25/hub/2021/07/14/5517681c-b2b9-4130-bca0-d41c6b3c5eda/safari-browser-icon-logo-4sts.jpg?auto=webp&fit=crop&height=675&width=1200',\n",
       "   'publishedAt': '2023-11-04T08:00:04Z',\n",
       "   'content': \"I've used Google Chrome as my primary browser for as long as I can remember. From the moment I configured my first MacBook Air, I've been a Chrome loyalist. To be honest, even though I've always owne… [+3309 chars]\"},\n",
       "  {'source': {'id': None, 'name': 'CNET'},\n",
       "   'author': 'Max McHone',\n",
       "   'title': \"Best Buy's 1-Day Sale Offers Up to $200 Off the Still-Excellent Galaxy Tab S8 - CNET\",\n",
       "   'description': 'Save yourself some cash by grabbing the older, but still great, Galaxy Tab S8.',\n",
       "   'url': 'https://www.cnet.com/deals/best-buys-1-day-sale-offers-up-to-200-off-the-still-excellent-galaxy-tab-s8/',\n",
       "   'urlToImage': 'https://www.cnet.com/a/img/resize/0823e26c8c9247a31628798c24f719166019c99d/hub/2023/02/21/b2be8d4b-816a-404f-a29e-c2d9c8a38762/galaxy-tab-s8.jpg?auto=webp&fit=crop&height=675&width=1200',\n",
       "   'publishedAt': '2023-11-01T12:56:01Z',\n",
       "   'content': \"If you want to buy a tablet but don't want to spend over the odds getting into the Apple ecosystem, Samsung makes some excellent Android tablets\\xa0worth considering. While the newest Galaxy Tab S9 is a… [+1245 chars]\"},\n",
       "  {'source': {'id': None, 'name': 'CNET'},\n",
       "   'author': 'Mary-Elisabeth Combs',\n",
       "   'title': \"Passkeys Have Come to Amazon. Here's What You Need to Know - CNET\",\n",
       "   'description': \"If you want to set up your Amazon passkey, but you're not quite sure what it means or how to set it up, we've got you covered.\",\n",
       "   'url': 'https://www.cnet.com/tech/passkeys-have-come-to-amazon-heres-what-you-need-to-know/',\n",
       "   'urlToImage': 'https://www.cnet.com/a/img/resize/f791e693e58fa0412325fd2d859ed5cff6e0c96d/hub/2022/11/10/ac1c56f1-2f1e-4c87-97c8-688fdc3345bd/amazon-logo-phone.jpg?auto=webp&fit=crop&height=675&width=1200',\n",
       "   'publishedAt': '2023-11-02T08:00:04Z',\n",
       "   'content': \"Last week, Amazon announced that it would be hopping on the Passkey train. This means that you'll now be able to use passkeys to log in to some of your Amazon accounts (we'll get to which ones later)… [+3436 chars]\"},\n",
       "  {'source': {'id': None, 'name': 'CNET'},\n",
       "   'author': 'Mary-Elisabeth Combs',\n",
       "   'title': 'Amazon Passkeys: What Is It and What It Means for Your Account - CNET',\n",
       "   'description': \"Not quite sure what Amazon's new passkeys mean for you and your account? We've got you covered.\",\n",
       "   'url': 'https://www.cnet.com/tech/amazon-passkeys-what-is-it-and-what-it-means-for-your-account/',\n",
       "   'urlToImage': 'https://www.cnet.com/a/img/resize/f791e693e58fa0412325fd2d859ed5cff6e0c96d/hub/2022/11/10/ac1c56f1-2f1e-4c87-97c8-688fdc3345bd/amazon-logo-phone.jpg?auto=webp&fit=crop&height=675&width=1200',\n",
       "   'publishedAt': '2023-11-04T08:00:07Z',\n",
       "   'content': \"Amazon is hopping on the Passkey train. Last week, the tech giant announced that you'll now be able to use passkeys to log in to some of your Amazon accounts (we'll get to which ones later). Amazon j… [+3537 chars]\"},\n",
       "  {'source': {'id': None, 'name': 'CNET'},\n",
       "   'author': 'Gael Fashingbauer Cooper',\n",
       "   'title': \"The New Beatles Video: How AI Helped Make the 'Now and Then' Song Happen - CNET\",\n",
       "   'description': 'A new Beatles song, released 50 years after the band broke up, is just one note in a crescendo of AI and music. Now a video turns up the volume on the debate.',\n",
       "   'url': 'https://www.cnet.com/tech/the-new-beatles-video-how-ai-helped-make-the-now-and-then-song-happen/',\n",
       "   'urlToImage': 'https://www.cnet.com/a/img/resize/d79aa28b87ca3bf89d44b23f51887797acc174a3/hub/2023/11/03/1e24417f-9cbb-43c8-9799-3a0aac6d3391/beatles-crop.png?auto=webp&fit=crop&height=675&width=1200',\n",
       "   'publishedAt': '2023-11-03T19:17:00Z',\n",
       "   'content': 'They get by with a little help from... artificial intelligence? The Beatles, perhaps the most legendary musicians of all time, are back in the news despite breaking up more than 50 years ago. The new… [+12517 chars]'},\n",
       "  {'source': {'id': None, 'name': 'CNET'},\n",
       "   'author': 'Mike Sorrentino',\n",
       "   'title': 'Samsung Galaxy S23 FE Review: Flagship Essentials for $600 - CNET',\n",
       "   'description': \"The Galaxy S23 FE is an excellent phone that gets you access to Samsung's higher-end features without the higher price.\",\n",
       "   'url': 'https://www.cnet.com/tech/mobile/samsung-galaxy-s23-fe-review-flagship-essentials-for-600/',\n",
       "   'urlToImage': 'https://www.cnet.com/a/img/resize/b58b6981507f8ee9fb1d599a5fb5a3fb0ef56b24/hub/2023/11/03/8ad54502-6f2e-4abf-927f-d4863c1c5c7d/samsung-galaxy-s23-fe-211400350.jpg?auto=webp&fit=crop&height=675&width=1200',\n",
       "   'publishedAt': '2023-11-05T13:00:16Z',\n",
       "   'content': 'After a week spent using the $600 (£599, AU$999) Samsung Galaxy S23 FE, I decided that the company\\'s \"FE\" should now stand for \"Flagship Essentials.\" That\\'s not a bad thing, as the S23 FE includes ma… [+15909 chars]'},\n",
       "  {'source': {'id': None, 'name': 'CNET'},\n",
       "   'author': 'Scott Stein',\n",
       "   'title': 'Best VR Headset of 2023 - CNET',\n",
       "   'description': 'Our top picks for VR headsets this year, including thoughts on the Meta Quest 3 and Quest 2, Sony PSVR 2 and more, all tested or demoed by CNET.',\n",
       "   'url': 'https://www.cnet.com/tech/gaming/best-vr-headset/',\n",
       "   'urlToImage': 'https://www.cnet.com/a/img/resize/8e13d38f2d4f8e0617f582f3c229b3d56da5ae57/hub/2019/04/18/9655172f-5227-4268-b813-7ad35013d5a3/08-oculus-quest.jpg?auto=webp&fit=crop&height=675&width=1200',\n",
       "   'publishedAt': '2023-11-03T12:00:14Z',\n",
       "   'content': \"What's the best VR headset overall?\\r\\nAt this moment, the very best VR headset is the Meta Quest 3. But that doesn't mean it's our absolute recommended choice right now. Let's explain. Meta's newest V… [+19811 chars]\"},\n",
       "  {'source': {'id': None, 'name': 'MacRumors'},\n",
       "   'author': 'Joe Rossignol',\n",
       "   'title': 'watchOS Update Coming Soon With Fix for Apple Watch Battery Drain',\n",
       "   'description': 'Apple is preparing a fix for an issue causing some Apple Watches to experience excessive battery drain after being updated to watchOS 10.1, the company said today in an internal memo shared with Apple Authorized Service Providers.\\n\\n\\n\\n\\n\\nIn the memo, which MacR…',\n",
       "   'url': 'https://www.macrumors.com/2023/11/04/watchos-update-to-fix-battery-drain-issue/',\n",
       "   'urlToImage': 'https://images.macrumors.com/t/ZxUSFgXmtAUhs4xieb3Rm4--yLA=/1600x/article-new/2023/04/watchOS-16x9.jpeg',\n",
       "   'publishedAt': '2023-11-04T20:36:37Z',\n",
       "   'content': 'Apple is preparing a fix for an issue causing some Apple Watches to experience excessive battery drain after being updated to watchOS 10.1, the company said today in an internal memo shared with Appl… [+1488 chars]'},\n",
       "  {'source': {'id': None, 'name': 'MacRumors'},\n",
       "   'author': 'Joe Rossignol',\n",
       "   'title': \"Apple's Extended Return Policy Now in Effect for 2023 Holiday Season\",\n",
       "   'description': 'Apple today indicated that its extended return policy is now in effect for the 2023 holiday shopping season. The policy applies to most products that Apple sells, including the iPhone, iPad, Mac, Apple Watch, accessories, and more.\\n\\n\\n\\n\\n\\nIn the U.S., Canada, U…',\n",
       "   'url': 'https://www.macrumors.com/2023/11/03/apple-2023-holiday-return-policy/',\n",
       "   'urlToImage': 'https://images.macrumors.com/t/De9oOi7AivkngqDNIvESekYabeI=/1600x/article-new/2023/11/iPhone-Boxes.jpeg',\n",
       "   'publishedAt': '2023-11-03T15:40:12Z',\n",
       "   'content': 'Apple today indicated that its extended return policy is now in effect for the 2023 holiday shopping season. The policy applies to most products that Apple sells, including the iPhone, iPad, Mac, App… [+650 chars]'},\n",
       "  {'source': {'id': None, 'name': 'MacRumors'},\n",
       "   'author': 'Tim Hardwick',\n",
       "   'title': 'Bloomberg: 2024 Apple Watch to Gain Blood Pressure Monitoring and Sleep Apnea Detection',\n",
       "   'description': 'Apple plans to add blood pressure monitoring and sleep apnea detection to Apple Watch in 2024, according to Bloomberg\\'s Mark Gurman.\\n\\n\\n\\n\\n\\nIn a report covering the arc of Apple\\'s heath-related ambitions, Gurman outlines the first iteration of the company\\'s \"pa…',\n",
       "   'url': 'https://www.macrumors.com/2023/11/01/2024-apple-watch-blood-pressure-sleep-apnea/',\n",
       "   'urlToImage': 'https://images.macrumors.com/t/pVBvl-VPaeZH8xg2tqA-k2Lsl-w=/1960x/article-new/2023/08/apple-watch-series-9-display.jpeg',\n",
       "   'publishedAt': '2023-11-01T12:15:27Z',\n",
       "   'content': \"Apple plans to add blood pressure monitoring and sleep apnea detection to Apple Watch in 2024, according to Bloomberg's Mark Gurman.\\r\\nIn a report covering the arc of Apple's heath-related ambitions, … [+2640 chars]\"},\n",
       "  {'source': {'id': None, 'name': 'MacRumors'},\n",
       "   'author': 'Joe Rossignol',\n",
       "   'title': 'Apple Expected to Update Entire iPad Lineup Next Year',\n",
       "   'description': \"Apple plans to update its entire iPad lineup throughout 2024, according to Bloomberg's Mark Gurman. This means new models of the iPad Pro, iPad Air, iPad mini, and entry-level iPad can be expected to launch next year.\\n\\n\\n\\n\\n\\nGurman touched on the lack of new iP…\",\n",
       "   'url': 'https://www.macrumors.com/2023/11/05/all-ipads-expected-to-be-updated-in-2024/',\n",
       "   'urlToImage': 'https://images.macrumors.com/t/oC2S2cVA1-S0BEL_BL3Qv8s7oYk=/2500x/article-new/2023/10/M3-iPad-Feature-3.jpg',\n",
       "   'publishedAt': '2023-11-05T16:41:39Z',\n",
       "   'content': \"Apple plans to update its entire iPad lineup throughout 2024, according to Bloomberg's Mark Gurman. This means new models of the iPad Pro, iPad Air, iPad mini, and entry-level iPad can be expected to… [+1057 chars]\"},\n",
       "  {'source': {'id': None, 'name': 'MacRumors'},\n",
       "   'author': 'MacRumors Staff',\n",
       "   'title': 'Top Stories: Apple Event Delivers MacBook Pro and iMac Updates',\n",
       "   'description': 'Apple\\'s \"Scary Fast\" event this week went off about as expected, with Apple showing off its next-generation Mac chips in a couple of product lines during a fast-paced 30-minute presentation.\\n\\n\\n\\n\\n\\nOur biggest stories this week unsurprisingly delved into Apple\\'…',\n",
       "   'url': 'https://www.macrumors.com/2023/11/04/top-stories-scary-fast-event-recap/',\n",
       "   'urlToImage': 'https://images.macrumors.com/t/BvN6tyJbOr4_IeQm0ThH7SQeRu8=/1600x/article-new/2023/11/top-stories-4nov2023.jpg',\n",
       "   'publishedAt': '2023-11-04T13:00:00Z',\n",
       "   'content': 'Apple\\'s \"Scary Fast\" event this week went off about as expected, with Apple showing off its next-generation Mac chips in a couple of product lines during a fast-paced 30-minute presentation.\\r\\nOur big… [+3482 chars]'},\n",
       "  {'source': {'id': None, 'name': 'MacRumors'},\n",
       "   'author': 'Juli Clover',\n",
       "   'title': \"Apple CEO Tim Cook on Generative AI: 'We're Investing Quite a Bit'\",\n",
       "   'description': \"During today's earnings call covering the fourth fiscal quarter of 2023, Apple executives held a Q&A session with analysts and investors. Apple CEO Tim Cook was questioned about how Apple might be able to monetize generative AI, which he of course declined to…\",\n",
       "   'url': 'https://www.macrumors.com/2023/11/02/tim-cook-generative-ai-comments/',\n",
       "   'urlToImage': 'https://images.macrumors.com/t/b1ax-CKFufMVyzxfb0pGRITDi0w=/1600x/article-new/2021/07/siri-glow.png',\n",
       "   'publishedAt': '2023-11-02T21:57:00Z',\n",
       "   'content': \"During today's earnings call covering the fourth fiscal quarter of 2023, Apple executives held a Q&amp;A session with analysts and investors. Apple CEO Tim Cook was questioned about how Apple might b… [+1529 chars]\"},\n",
       "  {'source': {'id': None, 'name': 'MacRumors'},\n",
       "   'author': 'Juli Clover',\n",
       "   'title': \"Apple's Q4 2023 Earnings Call Takeaways\",\n",
       "   'description': \"Apple today held an earnings call for the fourth fiscal quarter of 2023 (third calendar quarter), with Apple CEO Tim Cook and Apple CFO Luca Maestri sharing details on recent product sales, services growth, Apple's future plans, and more.\\n\\n\\n\\n\\n\\nWe've highlight…\",\n",
       "   'url': 'https://www.macrumors.com/2023/11/02/apple-q4-2023-earnings-call-takeaways/',\n",
       "   'urlToImage': 'https://images.macrumors.com/t/xkVHlBaujx_SDb1_mm4VSNOI50g=/2676x/article-new/2022/01/Apple-Logo-Cash-Feature-Yellow.jpg',\n",
       "   'publishedAt': '2023-11-02T22:20:37Z',\n",
       "   'content': 'Apple today held an earnings call for the fourth fiscal quarter of 2023 (third calendar quarter), with Apple CEO Tim Cook and Apple CFO Luca Maestri sharing details on recent product sales, services … [+6151 chars]'},\n",
       "  {'source': {'id': None, 'name': 'MacRumors'},\n",
       "   'author': 'Tim Hardwick',\n",
       "   'title': 'How to Stop Your Kids From Ruining Your Apple Music Recommendations',\n",
       "   'description': 'In iOS 17.2, you can turn off your Apple Music Listening History with a new Focus filter, so if you allow someone else to use your device to listen to music, you can quickly activate the Focus with a tap and prevent their song choices from affecting your reco…',\n",
       "   'url': 'https://www.macrumors.com/how-to/apple-music-listening-history-focus-filter/',\n",
       "   'urlToImage': 'https://images.macrumors.com/t/ZTm6QgfFqG9KbVpGtgc_I1qj0WI=/2250x/article-new/2023/08/iOS-17-Apple-Music-Feature.jpg',\n",
       "   'publishedAt': '2023-11-03T13:08:44Z',\n",
       "   'content': 'In iOS 17.2, you can turn off your Apple Music Listening History with a new Focus filter, so if you allow someone else to use your device to listen to music, you can quickly activate the Focus with a… [+2144 chars]'},\n",
       "  {'source': {'id': None, 'name': 'MacRumors'},\n",
       "   'author': 'Juli Clover',\n",
       "   'title': 'New M3 MacBook Pro and iMac Models to Get Day One macOS Sonoma Update',\n",
       "   'description': 'Customers who purchase one of the new M3, M3 Pro, or M3 Max MacBook Pro or iMac models will need to install a macOS Sonoma update after receiving their machines.\\n\\n\\n\\n\\n\\nThe Macs will ship with a custom version of \\u200cmacOS Sonoma\\u200c 14.1 with a build number of 23B20…',\n",
       "   'url': 'https://www.macrumors.com/2023/11/01/m3-macbook-pro-imac-day-one-update/',\n",
       "   'urlToImage': 'https://images.macrumors.com/t/oJJ29_JDaeK4p98oIB-4rkIiPs8=/2500x/article-new/2023/10/m3-macbook-pro-blue.jpg',\n",
       "   'publishedAt': '2023-11-01T17:44:17Z',\n",
       "   'content': 'Customers who purchase one of the new M3, M3 Pro, or M3 Max MacBook Pro or iMac models will need to install a macOS Sonoma update after receiving their machines.\\r\\nThe Macs will ship with a custom ver… [+663 chars]'},\n",
       "  {'source': {'id': None, 'name': 'MacRumors'},\n",
       "   'author': 'Mitchel Broussard',\n",
       "   'title': 'Best Apple Deals of the Week: Early Black Friday Sales Introduce Discounts on AirPods Pro, M3 MacBook Pro, and More',\n",
       "   'description': \"Early Black Friday deals began in full force this week, and we're recapping the best today. This includes all-time low prices on the AirPods Pro 2 with USB-C, Beats Studio Pro, HomePod, MagSafe Duo Charger, brand new M3 MacBook Pros, and more.\\n\\n\\n\\nNote: MacRum…\",\n",
       "   'url': 'https://www.macrumors.com/2023/11/03/best-apple-deals-of-the-week-11-3-23/',\n",
       "   'urlToImage': 'https://images.macrumors.com/t/9bSfsnGkJ76lFxScRzOs7q-Ys8Q=/2500x/article-new/2022/06/Hero0008.jpg',\n",
       "   'publishedAt': '2023-11-03T15:31:12Z',\n",
       "   'content': \"Early Black Friday deals began in full force this week, and we're recapping the best today. This includes all-time low prices on the AirPods Pro 2 with USB-C, Beats Studio Pro, HomePod, MagSafe Duo C… [+2441 chars]\"},\n",
       "  {'source': {'id': None, 'name': 'MacRumors'},\n",
       "   'author': 'Mitchel Broussard',\n",
       "   'title': \"Apple's Brand-New M3 MacBook Pro and iMac Receive First Major Discounts at Up to $200 Off\",\n",
       "   'description': \"Adorama today is offering $200 off the new 14-inch and 16-inch MacBook Pro with the M3 chip, as well as $100 off the new M3 iMac. Apple just announced these computers on Monday, so these are some of the first major pre-order discounts that we've tracked. \\n\\n\\n\\n…\",\n",
       "   'url': 'https://www.macrumors.com/2023/11/03/m3-macbook-pro-imac-deals/',\n",
       "   'urlToImage': 'https://images.macrumors.com/t/oJJ29_JDaeK4p98oIB-4rkIiPs8=/2500x/article-new/2023/10/m3-macbook-pro-blue.jpg',\n",
       "   'publishedAt': '2023-11-03T14:32:18Z',\n",
       "   'content': 'Adorama today is offering $200 off the new 14-inch and 16-inch MacBook Pro with the M3 chip, as well as $100 off the new M3 iMac. Apple just announced these computers on Monday, so these are some of … [+1486 chars]'},\n",
       "  {'source': {'id': None, 'name': 'MacRumors'},\n",
       "   'author': 'Tim Hardwick',\n",
       "   'title': 'Samsung to Follow iPhone 15 Pro and Use Titanium for Galaxy S24 Ultra',\n",
       "   'description': \"Apple's embrace of titanium for its latest iPhone 15 Pro chassis appears to have impressed Samsung enough that the Korean rival plans to adopt the material for the next version of its flagship smartphone.\\n\\n\\n\\nSamsung S24 Ultra concept render by Technizo Concep…\",\n",
       "   'url': 'https://www.macrumors.com/2023/11/03/samsung-follows-iphone-15-pro-titanium-galaxy-s24/',\n",
       "   'urlToImage': 'https://images.macrumors.com/t/rv1MzuD-MGJZ9QHgU-WqGDI9Exw=/2048x/article-new/2023/11/2technizo-concept-ultra-s24.jpeg',\n",
       "   'publishedAt': '2023-11-03T11:11:59Z',\n",
       "   'content': \"Apple's embrace of titanium for its latest iPhone 15 Pro chassis appears to have impressed Samsung enough that the Korean rival plans to adopt the material for the next version of its flagship smartp… [+1703 chars]\"},\n",
       "  {'source': {'id': None, 'name': 'MacRumors'},\n",
       "   'author': 'Joe Rossignol',\n",
       "   'title': 'Macs With M3 Chip Still Officially Support Only a Single External Display',\n",
       "   'description': \"Macs equipped with the standard M3 chip still support only one external display with up to 6K resolution at 60Hz, according to Apple's tech specs. So far, the chip is available in the entry-level 14-inch MacBook Pro and the 24-inch iMac, and the MacBook Air a…\",\n",
       "   'url': 'https://www.macrumors.com/2023/11/02/m3-chip-still-supports-one-external-display/',\n",
       "   'urlToImage': 'https://images.macrumors.com/t/aKLgq1WlvEaIVqe3Ak9TPIjkmvI=/2590x/article-new/2020/05/Pro-Display-XDR-Red.jpg',\n",
       "   'publishedAt': '2023-11-02T14:41:49Z',\n",
       "   'content': \"Macs equipped with the standard M3 chip still support only one external display with up to 6K resolution at 60Hz, according to Apple's tech specs. So far, the chip is available in the entry-level 14-… [+1597 chars]\"},\n",
       "  {'source': {'id': None, 'name': 'MacRumors'},\n",
       "   'author': 'Hartley Charlton',\n",
       "   'title': \"Late 2023 MacBook Pro Buyer's Guide: 14-Inch and 16-Inch Models Compared\",\n",
       "   'description': 'The MacBook Pro is available in 14-inch and 16-inch sizes, with three distinct models starting at $1,599, $1,999, and $2,499, so which should you choose?\\n\\n\\n\\n\\n\\nWith a range of three similar models in the lineup to choose from, our guide helps to answer the que…',\n",
       "   'url': 'https://www.macrumors.com/guide/14-inch-vs-16-inch-macbook-pro/',\n",
       "   'urlToImage': 'https://images.macrumors.com/t/LTZdVR8iIAoI7aicKcDJRukELIE=/2500x/article-new/2023/01/m2-macbook-pro-pink.jpg',\n",
       "   'publishedAt': '2023-11-03T15:30:00Z',\n",
       "   'content': 'The MacBook Pro is available in 14-inch and 16-inch sizes, with three distinct models starting at $1,599, $1,999, and $2,499, so which should you choose?\\r\\nWith a range of three similar models in the … [+11984 chars]'},\n",
       "  {'source': {'id': None, 'name': 'NPR'},\n",
       "   'author': 'Suzanne Nuyen',\n",
       "   'title': 'Up First briefing: Voices from the West Bank; Sam Bankman-Fried convicted',\n",
       "   'description': \"Palestinians in the West Bank give their perspective on Israel's war with Hamas in Gaza. Disgraced FTX founder Sam Bankman-Fried is convicted of fraud.\",\n",
       "   'url': 'https://www.npr.org/2023/11/03/1210399770/up-first-briefing-voices-from-the-west-bank-sam-bankman-fried-convicted',\n",
       "   'urlToImage': 'https://media.npr.org/assets/img/2023/11/03/avian-triptych_wide-da8c822da2e20b048e9814103e684de09d80cb50-s1400-c100.jpg',\n",
       "   'publishedAt': '2023-11-03T11:59:59Z',\n",
       "   'content': \"Good morning. You're reading the Up First newsletter. Subscribe here to get it delivered to your inbox, and listen to the Up First podcast for all the news you need to start your day.\\r\\nToday's top st… [+5955 chars]\"},\n",
       "  {'source': {'id': 'business-insider', 'name': 'Business Insider'},\n",
       "   'author': 'Haley Tenore',\n",
       "   'title': 'Serial snorers may want to check out the next Apple Watch — it will reportedly help detect sleep apnea',\n",
       "   'description': 'The next Apple Watch will reportedly track your breathing patterns to help detect sleep apnea, and may be able to track your blood pressure too.',\n",
       "   'url': 'https://www.businessinsider.com/next-apple-watch-ios-health-sleep-apnea-detection-snoring-report-2023-11',\n",
       "   'urlToImage': 'https://i.insider.com/65428732b788914e554dab10?width=1200&format=jpeg',\n",
       "   'publishedAt': '2023-11-02T14:41:47Z',\n",
       "   'content': 'The next Apple Watch could track your nighttime breathing patterns and help detect sleep apnea.Photo by Daniel Karmann/picture alliance via Getty Images\\r\\n<ul>\\n<li>The next Apple Watch could help dete… [+2430 chars]'},\n",
       "  {'source': {'id': 'business-insider', 'name': 'Business Insider'},\n",
       "   'author': 'Beatrice Nolan',\n",
       "   'title': \"OpenAI CEO Sam Altman once said the only time he ever 'froze' was when he met his childhood idol Steve Jobs\",\n",
       "   'description': \"In a resurfaced interview clip, published on CNN's website, Sam Altman described his nervousness at meeting the Apple cofounder in 2008.\",\n",
       "   'url': 'https://www.businessinsider.com/sam-altman-froze-met-steve-jobs-openai-2023-11',\n",
       "   'urlToImage': 'https://i.insider.com/654243ef3cc84b4dfaf95014?width=1200&format=jpeg',\n",
       "   'publishedAt': '2023-11-01T13:30:46Z',\n",
       "   'content': 'Sam Altman was startled after coming face-to-face with his hero.Kevin Dietsch/Getty Images\\r\\n<ul><li>OpenAI CEO Sam Altman said he let his nerves get the better of him when he met Steve Jobs.\\xa0</li><li… [+1586 chars]'},\n",
       "  {'source': {'id': 'business-insider', 'name': 'Business Insider'},\n",
       "   'author': 'Lucia Moses',\n",
       "   'title': \"'No religion, smoking, doing drugs' on Apple TV+ — here's why and what's coming next to the tech giant's streamer\",\n",
       "   'description': 'Apple TV+ is growing its slate of shows and movies. The streamer wants \"commercial fare\" and more reality TV series, according to leaked Hollywood agency documents.',\n",
       "   'url': 'https://www.businessinsider.com/apple-tv-plus-shows-movies-streaming-raising-prices-2023-10',\n",
       "   'urlToImage': 'https://i.insider.com/653bdc370487ff031cb07b81?width=1200&format=jpeg',\n",
       "   'publishedAt': '2023-11-01T21:35:17Z',\n",
       "   'content': 'Apple won\\'t do \"bloody horror\" but would \"love\" its own version of John Krasinski\\'s Paramount sci-fi horror hit, \"A Quiet Place.\"Paramount\\r\\n<ul><li>Apple TV+ is buying new shows and movies, even as H… [+4583 chars]'},\n",
       "  {'source': {'id': 'business-insider', 'name': 'Business Insider'},\n",
       "   'author': 'Matthew Fox',\n",
       "   'title': \"Here's the 'most important metric' as Wall Street gears up for Apple's upcoming earnings report\",\n",
       "   'description': 'Apple should still command a premium valuation as investors \"continue to perceive the company to be more resilient to the macro,\" JPMorgan said.',\n",
       "   'url': 'https://markets.businessinsider.com/news/stocks/apple-stock-price-q4-earnings-preview-wall-street-aapl-china-2023-10',\n",
       "   'urlToImage': 'https://i.insider.com/65414a9436d588dc55c71d03?width=1200&format=jpeg',\n",
       "   'publishedAt': '2023-11-01T11:00:01Z',\n",
       "   'content': \"Customers trying out Apple's iPhone 15 at an Apple store in Shanghai, China.CFOTO/Future Publishing via Getty Images\\r\\n<ul>\\n<li>Apple is scheduled to report its fiscal fourth-quarter earnings on Thurs… [+4065 chars]\"},\n",
       "  {'source': {'id': 'business-insider', 'name': 'Business Insider'},\n",
       "   'author': 'Huileng Tan,George Glover',\n",
       "   'title': 'The US economy is surging - but problems elsewhere could still torpedo profits for big companies like Apple and Tesla',\n",
       "   'description': \"China's slowing economy and the war between Israel and Hamas are spooking top American executives despite the US's stellar GDP numbers.\",\n",
       "   'url': 'https://www.businessinsider.com/us-economy-surging-problems-elsewhere-risks-american-companies-apple-tesla-2023-10',\n",
       "   'urlToImage': 'https://i.insider.com/653fadee356802a56be743d7?width=1200&format=jpeg',\n",
       "   'publishedAt': '2023-11-01T10:09:28Z',\n",
       "   'content': \"Tesla CEO Elon Musk at the EV maker's Shanghai gigafactory in 2019.Aly Song/Reuters\\r\\n<ul>\\n<li>The US economy is surging, with growth coming in at a hotter-than-expected 4.9% for the third quarter.</l… [+4983 chars]\"},\n",
       "  {'source': {'id': 'business-insider', 'name': 'Business Insider'},\n",
       "   'author': 'Grace Kay',\n",
       "   'title': \"Tim Cook says he's still 'optimistic' about China longterm as questions swirl about iPhone 15 demand as competition heats up\",\n",
       "   'description': \"Tim Cook tried to take a cheery note on iPhone demand in China during Apple's Q4 earnings, but didn't say much about demand in the current quarter.\",\n",
       "   'url': 'https://www.businessinsider.com/apple-q4-earnings-tim-cook-comments-china-iphone-15-demand-2023-11',\n",
       "   'urlToImage': 'https://i.insider.com/65441d3a36d588dc55c9cdaa?width=1200&format=jpeg',\n",
       "   'publishedAt': '2023-11-02T23:28:08Z',\n",
       "   'content': \"Tim Cook responded to several questions about China during Apple's earnings call on Thursday.Tyler Le/Insider\\r\\n<ul>\\n<li>Tim Cook tried to take a cheery note on demand for the iPhone in China during A… [+2783 chars]\"},\n",
       "  {'source': {'id': 'business-insider', 'name': 'Business Insider'},\n",
       "   'author': 'Sophia Acevedo, CEPF',\n",
       "   'title': 'Mint is shutting down — consider these 7 alternative budgeting apps',\n",
       "   'description': \"Intuit is shutting down Mint in January 2024 and asking users to move to Credit Karma. If you're a Mint user, look at these 7 alternative budgeting apps.\",\n",
       "   'url': 'https://www.businessinsider.com/personal-finance/mint-shutting-down-alternative-budgeting-apps-2023-11',\n",
       "   'urlToImage': 'https://i.insider.com/65453818b788914e5550086c?width=1200&format=jpeg',\n",
       "   'publishedAt': '2023-11-04T10:15:02Z',\n",
       "   'content': \"Our experts answer readers' investing questions and write unbiased product reviews (here's how we assess investing products). Paid non-client promotion: In some cases, we receive a commission from ou… [+6832 chars]\"},\n",
       "  {'source': {'id': 'business-insider', 'name': 'Business Insider'},\n",
       "   'author': 'Dan DeFrancesco',\n",
       "   'title': 'The biggest debate in tech',\n",
       "   'description': 'Tech executives are weighing in on the real risks that AI poses to humanity, and pointing fingers at the potential for ulterior motives.',\n",
       "   'url': 'https://www.businessinsider.com/news-today-november-2-ai-tech-debate-risks-danger-2023-11',\n",
       "   'urlToImage': 'https://i.insider.com/6542c9e0b788914e554e322b?width=1200&format=jpeg',\n",
       "   'publishedAt': '2023-11-02T11:52:11Z',\n",
       "   'content': \"OpenAI CEO Sam Altman.Getty/Kevin Dietsch\\r\\n<ul>\\n<li>This post originally appeared in the Insider Today newsletter.</li>\\n<li>You can sign up for\\xa0Insider's daily newsletter here.</li>\\n</ul>Almost Frida… [+7411 chars]\"},\n",
       "  {'source': {'id': 'business-insider', 'name': 'Business Insider'},\n",
       "   'author': 'Theron Mohamed',\n",
       "   'title': 'Investors are buzzing about a generational buying opportunity in stocks. Markets guru John Hussman just dashed their hopes.',\n",
       "   'description': 'John Hussman rejected Richard Bernstein\\'s idea of a \"once-in-a-generation\" chance to buy stocks, citing the S&P 500\\'s returns over the past century.',\n",
       "   'url': 'https://markets.businessinsider.com/news/stocks/stock-market-outlook-hussman-rejects-bernstein-generational-buying-opportunity-stocks-2023-11',\n",
       "   'urlToImage': 'https://i.insider.com/6548c6973cc84b4dfafcd026?width=1200&format=jpeg',\n",
       "   'publishedAt': '2023-11-06T11:51:19Z',\n",
       "   'content': 'Investors excited about a generational buying opportunity face disappointment, John Hussman says.Richard Drew/AP\\r\\n<ul>\\n<li>Wall Street veteran Richard Bernstein sees a generational buying opportunity… [+2337 chars]'},\n",
       "  {'source': {'id': 'business-insider', 'name': 'Business Insider'},\n",
       "   'author': 'Matthew Fox',\n",
       "   'title': 'US stocks jump after cool jobs report takes pressure off of interest rates',\n",
       "   'description': '\"Slower growth is still growth, and this jobs report is still in the sweet spot,\" said Brad McMillan, CIO for Commonwealth Financial Network.',\n",
       "   'url': 'https://markets.businessinsider.com/news/stocks/stock-market-news-today-october-jobs-report-fed-rate-hikes-2023-11',\n",
       "   'urlToImage': 'https://i.insider.com/64b93cc34182d8001969d5a2?width=1200&format=jpeg',\n",
       "   'publishedAt': '2023-11-03T13:40:45Z',\n",
       "   'content': '(Photo by Michael Nagle/Xinhua via Getty Images)\\r\\n<ul><li>US stocks jumped on Friday after a cool jobs report took pressure off of interest rates.</li><li>The US economy added 150,000 jobs in October… [+2421 chars]'},\n",
       "  {'source': {'id': 'business-insider', 'name': 'Business Insider'},\n",
       "   'author': 'Matthew Loh',\n",
       "   'title': 'Telegram rarely bans channels. Israel-Gaza forced it to step in.',\n",
       "   'description': 'Telegram, which is known for its message encryption and lax moderation, restricted two official Hamas channels on Android devices earlier this month.',\n",
       "   'url': 'https://www.businessinsider.com/telegram-channel-ban-israel-gaza-dagestan-russia-airport-durov-2023-10',\n",
       "   'urlToImage': 'https://i.insider.com/65409f8c96f7540cd069f15b?width=1200&format=jpeg',\n",
       "   'publishedAt': '2023-11-01T09:05:43Z',\n",
       "   'content': 'Pro Palestinian protesters burn an effigy of Israeli Prime Minister Benjamin Netanyahu on October 20, 2023 in Istanbul, Turkey.Burak Kara/Getty Images\\r\\n<ul>\\n<li>Telegram banned a channel on the groun… [+6747 chars]'},\n",
       "  {'source': {'id': 'business-insider', 'name': 'Business Insider'},\n",
       "   'author': 'Alex Bitter',\n",
       "   'title': \"DoorDash will start surveilling delivery workers' driving with an app that tracks how hard they are braking and accelerating\",\n",
       "   'description': 'DoorDash gig workers can now see how often they accelerated or braked quickly while delivering orders as part of the app\\'s \"Driving Insights\" feature.',\n",
       "   'url': 'https://www.businessinsider.com/doordash-is-watching-how-quickly-brake-accelerate-when-delivering-orders-2023-11',\n",
       "   'urlToImage': 'https://i.insider.com/65450b1fb788914e554fac0e?width=1200&format=jpeg',\n",
       "   'publishedAt': '2023-11-03T15:01:41Z',\n",
       "   'content': 'DoorDash is testing a new feature called \"Driving Insights\" that tracks \"rapid changes in braking and acceleration.\"DoorDash\\r\\n<ul><li>A new feature on the DoorDash app tracks how often its workers br… [+2779 chars]'},\n",
       "  {'source': {'id': 'business-insider', 'name': 'Business Insider'},\n",
       "   'author': 'Matthew Fox',\n",
       "   'title': 'US stocks jump on Goldilocks jobs report to cap biggest weekly rally of the year',\n",
       "   'description': '\"Slower growth is still growth, and this jobs report is still in the sweet spot,\" said Brad McMillan, CIO of Commonwealth Financial Network.',\n",
       "   'url': 'https://markets.businessinsider.com/news/stocks/stock-market-news-today-goldilocks-jobs-report-biggest-weekly-gain-2023-11',\n",
       "   'urlToImage': 'https://i.insider.com/60a55dd8e25d05001880c85b?width=1200&format=jpeg',\n",
       "   'publishedAt': '2023-11-03T20:14:17Z',\n",
       "   'content': 'Spencer Platt/Getty Images\\r\\n<ul><li>US stocks jumped on Friday after a Goldilocks jobs report took pressure off of interest rates.</li><li>The US economy added 150,000 jobs in October, shy of the est… [+2642 chars]'},\n",
       "  {'source': {'id': 'business-insider', 'name': 'Business Insider'},\n",
       "   'author': 'Theron Mohamed',\n",
       "   'title': \"The AI craze is overblown - and the S&P 500 will suffer if the 'Magnificent 7' stocks falter, veteran investor warns\",\n",
       "   'description': \"Artificial intelligence is old news, higher interest rates have slashed the appeal of stocks, and Big Tech isn't always honest, Bill Smead says.\",\n",
       "   'url': 'https://markets.businessinsider.com/news/stocks/ai-stock-market-outlook-magnificent-big-tech-bill-smead-rates-2023-11',\n",
       "   'urlToImage': 'https://i.insider.com/56e2b7d09105841d008b5b11?width=1200&format=jpeg',\n",
       "   'publishedAt': '2023-11-03T14:52:59Z',\n",
       "   'content': 'A handful of stocks have propped up the S&P 500 this year with the help of AI buzz.Getty Images\\r\\n<ul>\\n<li>The AI-fueled boom in the \"Magnificent 7\" tech stocks has propped up the stock market this ye… [+2733 chars]'},\n",
       "  {'source': {'id': 'business-insider', 'name': 'Business Insider'},\n",
       "   'author': 'Kyle Wilson,Tercius Bufete',\n",
       "   'title': 'Amazon Outlet: From home goods to electronics',\n",
       "   'description': \"Amazon's lesser known Outlet section has clearance deals on home essentials, tech gadgets, and more.\",\n",
       "   'url': 'https://www.businessinsider.com/amazon-outlet',\n",
       "   'urlToImage': 'https://i.insider.com/6544be6f36d588dc55c9ec57?width=1200&format=jpeg',\n",
       "   'publishedAt': '2023-11-05T10:52:02Z',\n",
       "   'content': \"Amazon\\r\\n<ul>\\n<li>Amazon Outlet is home to thousands of overstocked and clearance items across all Amazon categories.</li>\\n<li>It's an oft-ignored section, but one savvy shoppers must be aware of.</li… [+2836 chars]\"},\n",
       "  {'source': {'id': 'business-insider', 'name': 'Business Insider'},\n",
       "   'author': 'Jennifer Sor',\n",
       "   'title': 'US stocks edge higher as investors eye Treasury plans and await Fed decision',\n",
       "   'description': \"The Treasury refunding update is not often an event for markets, but with bond yields close to 16-year highs, the department's plan have drawn attention.\",\n",
       "   'url': 'https://markets.businessinsider.com/news/stocks/stock-market-news-treasury-refunding-yields-fed-fomc-interest-rates-2023-10',\n",
       "   'urlToImage': 'https://i.insider.com/5fa401511df1d50018219024?width=1200&format=jpeg',\n",
       "   'publishedAt': '2023-11-01T13:50:29Z',\n",
       "   'content': \"Traders work on the floor of the New York Stock Exchange (NYSE) in New York, U.S., March 20, 2020Lucas Jackson/Reuters\\r\\n<ul>\\n<li>US stocks traded mixed as investors took in the US Treasury's refundin… [+2995 chars]\"}]}"
      ]
     },
     "execution_count": 26,
     "metadata": {},
     "output_type": "execute_result"
    }
   ],
   "source": [
    "news"
   ]
  },
  {
   "cell_type": "code",
   "execution_count": 27,
   "metadata": {
    "colab": {
     "base_uri": "https://localhost:8080/"
    },
    "id": "MWYNfFPklm0-",
    "outputId": "9b4decb6-ed30-4398-e213-b8a2acbd98a6"
   },
   "outputs": [
    {
     "data": {
      "text/plain": [
       "8602"
      ]
     },
     "execution_count": 27,
     "metadata": {},
     "output_type": "execute_result"
    }
   ],
   "source": [
    "news[\"totalResults\"]"
   ]
  },
  {
   "cell_type": "code",
   "execution_count": 28,
   "metadata": {
    "id": "of0t89UlmfFO"
   },
   "outputs": [],
   "source": [
    "articles = news[\"articles\"][:5]"
   ]
  },
  {
   "cell_type": "code",
   "execution_count": 29,
   "metadata": {
    "colab": {
     "base_uri": "https://localhost:8080/"
    },
    "id": "g9rKyilCmhoS",
    "outputId": "175d1172-f916-4647-dd40-80943c4b91a4"
   },
   "outputs": [
    {
     "data": {
      "text/plain": [
       "[{'source': {'id': None, 'name': 'Lifehacker.com'},\n",
       "  'author': 'Khamosh Pathak',\n",
       "  'title': 'All the New Ways to Use Your Apple Watch',\n",
       "  'description': 'With watchOS 10, Apple breathed new life into the Apple Watch, without even changing the hardware design. Now, watchOS finally embraces buttons, and higher information density across the board. Most importantly, in my view, are widgets, which have the potenti…',\n",
       "  'url': 'https://lifehacker.com/all-the-new-ways-to-use-your-apple-watch-1850984316',\n",
       "  'urlToImage': 'https://i.kinja-img.com/image/upload/c_fill,h_675,pg_1,q_80,w_1200/03244027a0f8e5f2f09fa2e3522d2495.png',\n",
       "  'publishedAt': '2023-11-02T13:30:00Z',\n",
       "  'content': 'With watchOS 10, Apple breathed new life into the Apple Watch, without even changing the hardware design. Now, watchOS finally embraces buttons, and higher information density across the board. Most … [+4059 chars]'},\n",
       " {'source': {'id': None, 'name': 'Lifehacker.com'},\n",
       "  'author': 'Jessica Kanzler',\n",
       "  'title': 'This $230 Refurbished iPad Comes With Beats Headphones',\n",
       "  'description': 'This grade “A” refurbished 7th-generation Apple iPad comes with open-box Beats Flex wireless headphones and a complete set of accessories for $229.99 (reg. $299.99). Read more...',\n",
       "  'url': 'https://lifehacker.com/this-230-refurbished-ipad-comes-with-beats-headphones-1850986626',\n",
       "  'urlToImage': 'https://i.kinja-img.com/image/upload/c_fill,h_675,pg_1,q_80,w_1200/c3e5883b36718931d99b5545bb28c0a1.png',\n",
       "  'publishedAt': '2023-11-03T15:30:00Z',\n",
       "  'content': 'This grade A refurbished 7th-generation Apple iPad comes with open-box Beats Flex wireless headphones and a complete set of accessories for $229.99 (reg. $299.99). \\r\\nGrade-A devices are in near-mint … [+1014 chars]'},\n",
       " {'source': {'id': None, 'name': 'Lifehacker.com'},\n",
       "  'author': 'Jake Peterson',\n",
       "  'title': \"You Don't Need to Buy a Desktop to Get the Most Power in a Mac Anymore\",\n",
       "  'description': 'These days, we have the luxury of choice when it comes to computers, especially Macs: If all you do is light work, internet browsing, and content consumption, you don’t have to spend much at all for a very capable Mac. On the flip side, if your job or hobbies…',\n",
       "  'url': 'https://lifehacker.com/m3-max-macbook-pro-review-1850985646',\n",
       "  'urlToImage': 'https://i.kinja-img.com/image/upload/c_fill,h_675,pg_1,q_80,w_1200/de18c6ec772d70d96590637d2cd911df.jpg',\n",
       "  'publishedAt': '2023-11-02T17:30:00Z',\n",
       "  'content': 'These days, we have the luxury of choice when it comes to computers, especially Macs: If all you do is light work, internet browsing, and content consumption, you dont have to spend much at all for a… [+4239 chars]'},\n",
       " {'source': {'id': None, 'name': 'Lifehacker.com'},\n",
       "  'author': 'Jessica Kanzler',\n",
       "  'title': 'You Can Get a 3rd Generation iPad Air for $280',\n",
       "  'description': 'Right now, this 2019 3rd-generation iPad Air is $279.97 (reg. $629) through Nov. 9. This tablet has 64GB of storage for apps and 4GB RAM to help keep things running well even when multitasking. Its 10.5\" screen gives you a wide viewing surface and multi-touch…',\n",
       "  'url': 'https://lifehacker.com/you-can-get-a-3rd-generation-ipad-air-for-280-1850974914',\n",
       "  'urlToImage': 'https://i.kinja-img.com/image/upload/c_fill,h_675,pg_1,q_80,w_1200/a19cbba220bcd4fa6e1af3413d0ab4ae.png',\n",
       "  'publishedAt': '2023-11-01T14:00:00Z',\n",
       "  'content': 'Right now, this 2019 3rd-generation iPad Air is $279.97 (reg. $629) through Nov. 9. This tablet has 64GB of storage for apps and 4GB RAM to help keep things running well even when multitasking. Its 1… [+522 chars]'},\n",
       " {'source': {'id': 'engadget', 'name': 'Engadget'},\n",
       "  'author': 'Steve Dent',\n",
       "  'title': 'Apple Watch battery drain issues to be fixed in upcoming watchOS update',\n",
       "  'description': 'Last week, a number of Apple Watch owners noticed that their batteries were draining much quicker than normal after they installed the latest watchOS version 10.1. Now, Apple has acknowledged the issue in an internal memo seen by MacRumors, and promised that …',\n",
       "  'url': 'https://www.engadget.com/apple-watch-battery-drain-issues-to-be-fixed-in-upcoming-watchos-update-090554269.html',\n",
       "  'urlToImage': 'https://s.yimg.com/os/creatr-uploaded-images/2023-11/83e94350-7c7e-11ee-bb27-d2ff2ed54a72',\n",
       "  'publishedAt': '2023-11-06T09:05:54Z',\n",
       "  'content': 'Last week, a number of Apple Watch owners noticed that their batteries were draining much quicker than normal after they installed the latest watchOS version 10.1. Now, Apple has acknowledged the iss… [+1162 chars]'}]"
      ]
     },
     "execution_count": 29,
     "metadata": {},
     "output_type": "execute_result"
    }
   ],
   "source": [
    "articles"
   ]
  },
  {
   "cell_type": "markdown",
   "metadata": {
    "id": "ACWKMBkvmyHq"
   },
   "source": [
    "Другие API:\n",
    "\n",
    "1. OpenWeatherMap (https://openweathermap.org/api) - предоставляет информацию о погоде, прогнозы и исторические данные по всему миру. Есть бесплатный лимит запросов, но все равно требуется ввести данные банковской карты.\n",
    "\n",
    "2. GitHub (https://developer.github.com/v3/) - API для доступа к данным о репозиториях, пользователях, коммитах и т.д.\n",
    "\n",
    "3. Open Trivia API (https://opentdb.com/api_config.php) - API для получения вопросов и ответов из базы данных триивиума (викторины)."
   ]
  },
  {
   "cell_type": "code",
   "execution_count": 30,
   "metadata": {
    "colab": {
     "base_uri": "https://localhost:8080/"
    },
    "id": "rQ11bbCVnSHZ",
    "outputId": "56363987-3672-4ada-dbe6-9b140bccac43"
   },
   "outputs": [
    {
     "data": {
      "text/plain": [
       "{'response_code': 0,\n",
       " 'results': [{'category': 'General Knowledge',\n",
       "   'type': 'multiple',\n",
       "   'difficulty': 'easy',\n",
       "   'question': 'On a dartboard, what number is directly opposite No. 1?',\n",
       "   'correct_answer': '19',\n",
       "   'incorrect_answers': ['20', '12', '15']},\n",
       "  {'category': 'History',\n",
       "   'type': 'multiple',\n",
       "   'difficulty': 'medium',\n",
       "   'question': 'The creator of the Enigma Cypher and Machine was of what nationality?',\n",
       "   'correct_answer': 'German',\n",
       "   'incorrect_answers': ['American', 'British', 'Polish']},\n",
       "  {'category': 'History',\n",
       "   'type': 'multiple',\n",
       "   'difficulty': 'easy',\n",
       "   'question': 'The collapse of the Soviet Union took place in which year?',\n",
       "   'correct_answer': '1991',\n",
       "   'incorrect_answers': ['1992', '1891', '1990']},\n",
       "  {'category': 'Entertainment: Cartoon & Animations',\n",
       "   'type': 'multiple',\n",
       "   'difficulty': 'medium',\n",
       "   'question': 'What is the standard frame rate for animation?',\n",
       "   'correct_answer': '24 FPS',\n",
       "   'incorrect_answers': ['12 FPS', '30 FPS', '60 FPS']},\n",
       "  {'category': 'Entertainment: Board Games',\n",
       "   'type': 'multiple',\n",
       "   'difficulty': 'medium',\n",
       "   'question': 'How many points is the Z tile worth in Scrabble?',\n",
       "   'correct_answer': '10',\n",
       "   'incorrect_answers': ['8', '5', '6']},\n",
       "  {'category': 'Entertainment: Film',\n",
       "   'type': 'multiple',\n",
       "   'difficulty': 'medium',\n",
       "   'question': 'Who plays the Nemesis in the Resident Evil movies?',\n",
       "   'correct_answer': 'Matthew Taylor',\n",
       "   'incorrect_answers': ['Jason Dip', 'Eric Mabius', 'Jimmy Matts']},\n",
       "  {'category': 'Entertainment: Video Games',\n",
       "   'type': 'boolean',\n",
       "   'difficulty': 'easy',\n",
       "   'question': 'The main playable character of the 2015 RPG &quot;Undertale&quot; is a monster.',\n",
       "   'correct_answer': 'False',\n",
       "   'incorrect_answers': ['True']},\n",
       "  {'category': 'Entertainment: Television',\n",
       "   'type': 'multiple',\n",
       "   'difficulty': 'easy',\n",
       "   'question': 'Which show is known for the songs &quot;You are a Pirate&quot;, &quot;Cooking by the Book&quot; and &quot;We Are Number One&quot;?',\n",
       "   'correct_answer': 'LazyTown',\n",
       "   'incorrect_answers': ['Sofia the First', 'DuckTales', 'Tom and Jerry']},\n",
       "  {'category': 'Sports',\n",
       "   'type': 'multiple',\n",
       "   'difficulty': 'medium',\n",
       "   'question': 'Why was The Green Monster at Fenway Park was originally built?',\n",
       "   'correct_answer': 'To prevent viewing games from outside the park.',\n",
       "   'incorrect_answers': ['To make getting home runs harder.',\n",
       "    'To display advertisements.',\n",
       "    'To provide extra seating.']},\n",
       "  {'category': 'Entertainment: Cartoon & Animations',\n",
       "   'type': 'multiple',\n",
       "   'difficulty': 'medium',\n",
       "   'question': 'What ability does Princess Sofia the First have from her amulet that allows her to breathe underwater?',\n",
       "   'correct_answer': 'Mermaid Transformation',\n",
       "   'incorrect_answers': ['Artificial Gills', 'Bubble Head', 'Bubble Shield']}]}"
      ]
     },
     "execution_count": 30,
     "metadata": {},
     "output_type": "execute_result"
    }
   ],
   "source": [
    "requests.get(\"https://opentdb.com/api.php?amount=10\").json()"
   ]
  },
  {
   "cell_type": "markdown",
   "metadata": {
    "id": "i2E9CEKwoIjU"
   },
   "source": [
    "А еще есть Drama Corpus, который делали в том числе при участии Школы Лингвистики: https://dracor.org/doc/api"
   ]
  },
  {
   "cell_type": "code",
   "execution_count": 31,
   "metadata": {
    "colab": {
     "base_uri": "https://localhost:8080/"
    },
    "id": "LnjK3RjIn3az",
    "outputId": "d688a475-7461-469a-dc97-21f9f1295613"
   },
   "outputs": [
    {
     "data": {
      "text/plain": [
       "[{'id': 'gorodnichij',\n",
       "  'name': 'Городничий',\n",
       "  'isGroup': False,\n",
       "  'gender': 'MALE',\n",
       "  'numOfScenes': 21,\n",
       "  'numOfSpeechActs': 172,\n",
       "  'numOfWords': 4991,\n",
       "  'degree': 26,\n",
       "  'weightedDegree': 84,\n",
       "  'closeness': 0.8760416666666667,\n",
       "  'betweenness': 0.1264602852635307,\n",
       "  'eigenvector': 0.24182361124623364},\n",
       " {'id': 'ammos_fedorovich_ljapkin_tjapkin',\n",
       "  'name': 'Аммос Федорович',\n",
       "  'isGroup': False,\n",
       "  'gender': 'MALE',\n",
       "  'numOfScenes': 8,\n",
       "  'numOfSpeechActs': 49,\n",
       "  'numOfWords': 748,\n",
       "  'degree': 21,\n",
       "  'weightedDegree': 54,\n",
       "  'closeness': 0.7377192982456141,\n",
       "  'betweenness': 0.010129431082777935,\n",
       "  'eigenvector': 0.23046261804194926},\n",
       " {'id': 'artemij_filippovich_zemljanika',\n",
       "  'name': 'Артемий Филиппович Земляника',\n",
       "  'isGroup': False,\n",
       "  'gender': 'MALE',\n",
       "  'numOfScenes': 10,\n",
       "  'numOfSpeechActs': 51,\n",
       "  'numOfWords': 737,\n",
       "  'degree': 21,\n",
       "  'weightedDegree': 63,\n",
       "  'closeness': 0.7377192982456141,\n",
       "  'betweenness': 0.010129431082777935,\n",
       "  'eigenvector': 0.23046261804194926},\n",
       " {'id': 'luka_lukich',\n",
       "  'name': 'Лука Лукич',\n",
       "  'isGroup': False,\n",
       "  'gender': 'MALE',\n",
       "  'numOfScenes': 9,\n",
       "  'numOfSpeechActs': 25,\n",
       "  'numOfWords': 294,\n",
       "  'degree': 21,\n",
       "  'weightedDegree': 61,\n",
       "  'closeness': 0.7377192982456141,\n",
       "  'betweenness': 0.010129431082777935,\n",
       "  'eigenvector': 0.23046261804194926},\n",
       " {'id': 'lekar',\n",
       "  'name': 'Лекарь Христиан Иванович',\n",
       "  'isGroup': False,\n",
       "  'gender': 'MALE',\n",
       "  'numOfScenes': 2,\n",
       "  'numOfSpeechActs': 2,\n",
       "  'numOfWords': 3,\n",
       "  'degree': 9,\n",
       "  'weightedDegree': 13,\n",
       "  'closeness': 0.5391025641025641,\n",
       "  'betweenness': 0,\n",
       "  'eigenvector': 0.1033485550907006}]"
      ]
     },
     "execution_count": 31,
     "metadata": {},
     "output_type": "execute_result"
    }
   ],
   "source": [
    "requests.get(\"https://dracor.org/api/corpora/rus/play/gogol-revizor/cast\").json()[:5]"
   ]
  },
  {
   "cell_type": "code",
   "execution_count": null,
   "metadata": {
    "id": "sTvupEdOiGkv"
   },
   "outputs": [],
   "source": []
  }
 ],
 "metadata": {
  "colab": {
   "provenance": []
  },
  "kernelspec": {
   "display_name": "Python 3 (ipykernel)",
   "language": "python",
   "name": "python3"
  },
  "language_info": {
   "codemirror_mode": {
    "name": "ipython",
    "version": 3
   },
   "file_extension": ".py",
   "mimetype": "text/x-python",
   "name": "python",
   "nbconvert_exporter": "python",
   "pygments_lexer": "ipython3",
   "version": "3.10.9"
  }
 },
 "nbformat": 4,
 "nbformat_minor": 1
}
