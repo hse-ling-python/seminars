{
  "cells": [
    {
      "cell_type": "markdown",
      "source": [
        "# Синтаксис: зависимостный парсинг (*dependency parsing*)"
      ],
      "metadata": {
        "id": "TUFB-T4ka_vB"
      }
    },
    {
      "cell_type": "markdown",
      "source": [
        "Зависимостный парсинг $-$ одна из немногих задач, где лингвистика и компьютерные науки продуктивно взаимодействуют. Основную теорию тут разрабатывают лингвисты, они же размечают корпусы, а модели построены на самых последних разработках в области машинного обучения.\n",
        "\n",
        "**Что такое парсинг вообще и в какой момент его нужно использовать?**\n",
        "\n",
        "Сначала мы токенизируем текст и лемматизируем (делаем морфологический разбор), а потом мы переходим к **синтаксису** и вот тут-то нам и нужен парсер.\n",
        "\n",
        "Самые популярные парсеры:\n",
        "    \n",
        "- [**SyntaxNet (DRAGNN)**](https://github.com/tensorflow/models/tree/f2f25096d3dc6561a855dab914cf2913100728d6/research/syntaxnet) от гугла.<br>SyntaxNet активно развивается, но его достаточно трудоемко ставить.\n",
        "- **UDPipe** от Карлова Университета в Чехии.<br>UDPipe работает похуже, но установить его легче.\n",
        "- [**Spacy**](https://spacy.io/)\n",
        "- **TurkuNLP** - от университета Турку (это Финляндия).<br>Позиционируется он как парсер для финского, но там есть много других предобученных моделей и можно обучать свои.\n",
        "- [**MaltParser**](http://www.maltparser.org/)"
      ],
      "metadata": {
        "id": "5bEykYPDa49m"
      }
    },
    {
      "cell_type": "markdown",
      "source": [
        "При парсинге используется **грамматика зависимостей**, а не грамматика составляющих. Так, любое предложение можно представить в виде дерева зависимостей.\n",
        "\n",
        "![](https://upload.wikimedia.org/wikipedia/commons/0/0d/Wearetryingtounderstandthedifference_%282%29.jpg)"
      ],
      "metadata": {
        "id": "Oe6ZLemGdboL"
      }
    },
    {
      "cell_type": "markdown",
      "source": [
        "## SpaCy"
      ],
      "metadata": {
        "id": "jZmKcqsaeIKq"
      }
    },
    {
      "cell_type": "markdown",
      "metadata": {
        "id": "JPpBL05IKLjY"
      },
      "source": [
        "+ Библиотека для продвинутого NLP\n",
        "+ Ряд языков: английский, русский, китайский, немецкий, французский, итальянский, польский, испанский и др. Разрабатываются модели для всё новых языков\n",
        "+ Про spaCy: https://spacy.io/usage\n",
        "+ Установка:\n",
        "```python\n",
        "pip install -U spacy\n",
        "```\n",
        "    - для английского:\n",
        "    ```python\n",
        "    python -m spacy download en_core_web_sm\n",
        "    ```\n",
        "    - для русского:\n",
        "    ```python\n",
        "    python -m spacy download ru_core_news_sm\n",
        "    ```"
      ]
    },
    {
      "cell_type": "code",
      "source": [
        "!pip install -U spacy --q\n",
        "!python -m spacy download en_core_web_sm --q\n",
        "!python -m spacy download ru_core_news_sm --q"
      ],
      "metadata": {
        "id": "x7Pqt_57LYXJ"
      },
      "execution_count": null,
      "outputs": []
    },
    {
      "cell_type": "code",
      "execution_count": null,
      "metadata": {
        "id": "7Rzo5Yc8KLja"
      },
      "outputs": [],
      "source": [
        "import spacy"
      ]
    },
    {
      "cell_type": "markdown",
      "metadata": {
        "id": "pos1rraaKLjd"
      },
      "source": [
        "### Функционал"
      ]
    },
    {
      "cell_type": "markdown",
      "metadata": {
        "id": "zpRgnhiOKLje"
      },
      "source": [
        "#### Лемматизация (+ токенизация): `.lemma_`"
      ]
    },
    {
      "cell_type": "code",
      "source": [
        "nlp_en = spacy.load(\"en_core_web_sm\")"
      ],
      "metadata": {
        "id": "DLPAWFBjm4HJ"
      },
      "execution_count": null,
      "outputs": []
    },
    {
      "cell_type": "code",
      "source": [
        "chomsky_doc = nlp_en(\"Colorless green ideas sleep furiously\")\n",
        "shakespeare_doc = nlp_en(\"To be, or not to be, that is the question: Whether 'tis nobler in the mind to suffer\")"
      ],
      "metadata": {
        "id": "7h2jb-xUOh2w"
      },
      "execution_count": null,
      "outputs": []
    },
    {
      "cell_type": "code",
      "execution_count": null,
      "metadata": {
        "id": "am9qPlyeKLjf",
        "outputId": "3c5ec93b-8e92-4c2e-bd20-89abbbc22f6f",
        "colab": {
          "base_uri": "https://localhost:8080/"
        }
      },
      "outputs": [
        {
          "output_type": "stream",
          "name": "stdout",
          "text": [
            "Colorless colorless\n",
            "green green\n",
            "ideas idea\n",
            "sleep sleep\n",
            "furiously furiously\n"
          ]
        }
      ],
      "source": [
        "for token in chomsky_doc:\n",
        "    print(token.text, token.lemma_)"
      ]
    },
    {
      "cell_type": "code",
      "execution_count": null,
      "metadata": {
        "id": "JxjCMvYFKLjg",
        "outputId": "1d857a7f-03aa-482a-ad75-3d005bd52d1f",
        "colab": {
          "base_uri": "https://localhost:8080/"
        }
      },
      "outputs": [
        {
          "output_type": "stream",
          "name": "stdout",
          "text": [
            "To to\n",
            "be be\n",
            ", ,\n",
            "or or\n",
            "not not\n",
            "to to\n",
            "be be\n",
            ", ,\n",
            "that that\n",
            "is be\n",
            "the the\n",
            "question question\n",
            ": :\n",
            "Whether whether\n",
            "' '\n",
            "tis tis\n",
            "nobler nobler\n",
            "in in\n",
            "the the\n",
            "mind mind\n",
            "to to\n",
            "suffer suffer\n"
          ]
        }
      ],
      "source": [
        "for token in shakespeare_doc:\n",
        "    print(token.text, token.lemma_)"
      ]
    },
    {
      "cell_type": "markdown",
      "source": [
        "#### Частеречная разметка: `.pos_`"
      ],
      "metadata": {
        "id": "yHNsr0TFOTDG"
      }
    },
    {
      "cell_type": "markdown",
      "source": [
        "[Документация](https://spacy.io/usage/linguistic-features#pos-tagging) с тегами."
      ],
      "metadata": {
        "id": "eHaXR6KBIh7Z"
      }
    },
    {
      "cell_type": "code",
      "execution_count": null,
      "metadata": {
        "id": "_oeiP4NdKLjd",
        "outputId": "dd76ab9c-a09a-477a-b3f5-f2d617639805",
        "colab": {
          "base_uri": "https://localhost:8080/"
        }
      },
      "outputs": [
        {
          "output_type": "stream",
          "name": "stdout",
          "text": [
            "Colorless ADJ\n",
            "green ADJ\n",
            "ideas NOUN\n",
            "sleep VERB\n",
            "furiously ADV\n"
          ]
        }
      ],
      "source": [
        "for token in chomsky_doc:\n",
        "    print(token.text, token.pos_)"
      ]
    },
    {
      "cell_type": "markdown",
      "source": [
        "#### Морфологический анализ: `.morph`"
      ],
      "metadata": {
        "id": "Jbt68hmhOvbi"
      }
    },
    {
      "cell_type": "code",
      "execution_count": null,
      "metadata": {
        "id": "ksDI8VvIKLjf",
        "outputId": "59d92aee-f68c-4c82-ec9c-d48416c7bd1b",
        "colab": {
          "base_uri": "https://localhost:8080/"
        }
      },
      "outputs": [
        {
          "output_type": "stream",
          "name": "stdout",
          "text": [
            "Colorless ADJ Degree=Pos\n",
            "green ADJ Degree=Pos\n",
            "ideas NOUN Number=Plur\n",
            "sleep VERB Tense=Pres|VerbForm=Fin\n",
            "furiously ADV \n"
          ]
        }
      ],
      "source": [
        "for token in chomsky_doc:\n",
        "    print(token.text, token.pos_, token.morph)"
      ]
    },
    {
      "cell_type": "markdown",
      "metadata": {
        "id": "s0ewrNhtKLjg"
      },
      "source": [
        "#### Синтаксис: деревья зависимостей"
      ]
    },
    {
      "cell_type": "markdown",
      "source": [
        "[Документация](https://spacy.io/usage/linguistic-features#dependency-parse) с тегами."
      ],
      "metadata": {
        "id": "HmKF71lAISEK"
      }
    },
    {
      "cell_type": "code",
      "execution_count": null,
      "metadata": {
        "id": "8qXmohD4KLjg",
        "outputId": "eb4338cc-e3a0-4a82-eb40-f3239bbb9104",
        "colab": {
          "base_uri": "https://localhost:8080/"
        }
      },
      "outputs": [
        {
          "output_type": "stream",
          "name": "stdout",
          "text": [
            "Colorless colorless ADJ amod\n",
            "green green ADJ amod\n",
            "ideas idea NOUN nsubj\n",
            "sleep sleep VERB ROOT\n",
            "furiously furiously ADV advmod\n"
          ]
        }
      ],
      "source": [
        "for token in chomsky_doc:\n",
        "    print(token.text, token.lemma_, token.pos_, token.dep_)"
      ]
    },
    {
      "cell_type": "markdown",
      "metadata": {
        "id": "5m4ZZR3dKLjh"
      },
      "source": [
        "#### Навигация по дереву: вершины и зависимые"
      ]
    },
    {
      "cell_type": "markdown",
      "metadata": {
        "id": "Ynj_OhfqKLjh"
      },
      "source": [
        "Используется терминология `.head` (вершина) и `.children` (зависимые)"
      ]
    },
    {
      "cell_type": "code",
      "execution_count": null,
      "metadata": {
        "id": "YuV3moVYKLjh",
        "outputId": "14526fd7-0177-445e-d074-35f0805c752e",
        "colab": {
          "base_uri": "https://localhost:8080/"
        }
      },
      "outputs": [
        {
          "output_type": "stream",
          "name": "stdout",
          "text": [
            "Colorless amod ideas NOUN []\n",
            "green amod ideas NOUN []\n",
            "ideas nsubj sleep VERB [Colorless, green]\n",
            "sleep ROOT sleep VERB [ideas, furiously]\n",
            "furiously advmod sleep VERB []\n"
          ]
        }
      ],
      "source": [
        "for token in chomsky_doc:\n",
        "    print(token.text, token.dep_, token.head.text, token.head.pos_,\n",
        "            [child for child in token.children])"
      ]
    },
    {
      "cell_type": "code",
      "source": [
        "donkey_doc = nlp_en(\"If a farmer owns a donkey, he beats it.\")"
      ],
      "metadata": {
        "id": "rp5m3nr3P0RU"
      },
      "execution_count": null,
      "outputs": []
    },
    {
      "cell_type": "code",
      "execution_count": null,
      "metadata": {
        "id": "UUy1TmKSKLjh",
        "outputId": "d6d97b1b-3f09-476c-f329-e8f1a0abb05e",
        "colab": {
          "base_uri": "https://localhost:8080/"
        }
      },
      "outputs": [
        {
          "output_type": "stream",
          "name": "stdout",
          "text": [
            "If mark owns VERB []\n",
            "a det farmer NOUN []\n",
            "farmer nsubj owns VERB [a]\n",
            "owns advcl beats VERB [If, farmer, donkey]\n",
            "a det donkey NOUN []\n",
            "donkey dobj owns VERB [a]\n",
            ", punct beats VERB []\n",
            "he nsubj beats VERB []\n",
            "beats ROOT beats VERB [owns, ,, he, it, .]\n",
            "it dobj beats VERB []\n",
            ". punct beats VERB []\n"
          ]
        }
      ],
      "source": [
        "for token in donkey_doc:\n",
        "    print(token.text, token.dep_, token.head.text, token.head.pos_,\n",
        "            [child for child in token.children])"
      ]
    },
    {
      "cell_type": "markdown",
      "metadata": {
        "id": "B7EKvs8gKLjh"
      },
      "source": [
        "Найдём детей *beats* справа (`.rights`) и слева (`.lefts`) в дереве:"
      ]
    },
    {
      "cell_type": "code",
      "execution_count": null,
      "metadata": {
        "id": "pnyF60eRKLji",
        "outputId": "50853d01-00f8-4fc1-d6cf-041cfaff9256",
        "colab": {
          "base_uri": "https://localhost:8080/"
        }
      },
      "outputs": [
        {
          "output_type": "stream",
          "name": "stdout",
          "text": [
            "beats\n",
            "3 left child(ren): ['owns', ',', 'he']\n",
            "2 right child(ren): ['it', '.']\n"
          ]
        }
      ],
      "source": [
        "donkey_doc = nlp_en(\"If a farmer owns a donkey, he beats it.\")\n",
        "print(donkey_doc[8])\n",
        "print(f'{donkey_doc[8].n_lefts} left child(ren): {[token.text for token in donkey_doc[8].lefts]}')\n",
        "print(f'{donkey_doc[8].n_rights} right child(ren): {[token.text for token in donkey_doc[8].rights]}')"
      ]
    },
    {
      "cell_type": "markdown",
      "metadata": {
        "id": "eB9QVlFkKLji"
      },
      "source": [
        "Теперь найдём тип зависимости, детей слева, детей справа, родителей:"
      ]
    },
    {
      "cell_type": "code",
      "execution_count": null,
      "metadata": {
        "id": "PAaaWRtfKLji",
        "outputId": "fa533ef9-86e1-4491-c857-a98d462e92d2",
        "colab": {
          "base_uri": "https://localhost:8080/"
        }
      },
      "outputs": [
        {
          "output_type": "stream",
          "name": "stdout",
          "text": [
            "If mark 0 0 ['owns', 'beats']\n",
            "a det 0 0 ['farmer', 'owns', 'beats']\n",
            "farmer nsubj 1 0 ['owns', 'beats']\n",
            "owns advcl 2 1 ['beats']\n",
            "a det 0 0 ['donkey', 'owns', 'beats']\n",
            "donkey dobj 1 0 ['owns', 'beats']\n"
          ]
        }
      ],
      "source": [
        "root = [token for token in donkey_doc if token.head == token][0]  # находим корневой элемент\n",
        "subject = list(root.lefts)[0]  # берем только детей слева (ака if-часть)\n",
        "for descendant in subject.subtree:\n",
        "    assert subject is descendant or subject.is_ancestor(descendant)\n",
        "    print(descendant.text,  # слово\n",
        "          descendant.dep_,  # тип зависимости\n",
        "          descendant.n_lefts,  # сколько детей слева\n",
        "          descendant.n_rights,  # сколько детей справа\n",
        "          [ancestor.text for ancestor in descendant.ancestors]  # список родителей\n",
        "          )"
      ]
    },
    {
      "cell_type": "markdown",
      "metadata": {
        "id": "OBDCWi-dKLji"
      },
      "source": [
        "Распечатаем часть речи, тип зависимости, вершину:"
      ]
    },
    {
      "cell_type": "code",
      "execution_count": null,
      "metadata": {
        "id": "1Ja6rJTZKLjj",
        "outputId": "2a8364b0-6463-497f-be43-74c353479d4d",
        "colab": {
          "base_uri": "https://localhost:8080/"
        }
      },
      "outputs": [
        {
          "output_type": "stream",
          "name": "stdout",
          "text": [
            "If SCONJ mark owns\n",
            "a DET det farmer\n",
            "farmer NOUN nsubj owns\n",
            "owns VERB advcl beats\n",
            "a DET det donkey\n",
            "donkey NOUN dobj owns\n",
            ", PUNCT punct beats\n",
            "he PRON nsubj beats\n",
            "beats VERB ROOT beats\n",
            "it PRON dobj beats\n",
            ". PUNCT punct beats\n"
          ]
        }
      ],
      "source": [
        "for token in donkey_doc:\n",
        "    print(token.text, token.pos_, token.dep_, token.head.text)"
      ]
    },
    {
      "cell_type": "markdown",
      "metadata": {
        "id": "S65SI0T4KLjj"
      },
      "source": [
        "Визуализируем дерево:"
      ]
    },
    {
      "cell_type": "code",
      "execution_count": null,
      "metadata": {
        "id": "v7wuwD2rKLjj"
      },
      "outputs": [],
      "source": [
        "from spacy import displacy"
      ]
    },
    {
      "cell_type": "code",
      "execution_count": null,
      "metadata": {
        "id": "-6YrejUGKLjj",
        "outputId": "07dae4e3-8d1f-48be-cc94-93c82bbeeeb3",
        "colab": {
          "base_uri": "https://localhost:8080/",
          "height": 441
        }
      },
      "outputs": [
        {
          "output_type": "display_data",
          "data": {
            "text/plain": [
              "<IPython.core.display.HTML object>"
            ],
            "text/html": [
              "<span class=\"tex2jax_ignore\"><svg xmlns=\"http://www.w3.org/2000/svg\" xmlns:xlink=\"http://www.w3.org/1999/xlink\" xml:lang=\"en\" id=\"ef2685b5091c4c88812673161775f5c3-0\" class=\"displacy\" width=\"1625\" height=\"399.5\" direction=\"ltr\" style=\"max-width: none; height: 399.5px; color: #000000; background: #ffffff; font-family: Arial; direction: ltr\">\n",
              "<text class=\"displacy-token\" fill=\"currentColor\" text-anchor=\"middle\" y=\"309.5\">\n",
              "    <tspan class=\"displacy-word\" fill=\"currentColor\" x=\"50\">If</tspan>\n",
              "    <tspan class=\"displacy-tag\" dy=\"2em\" fill=\"currentColor\" x=\"50\">SCONJ</tspan>\n",
              "</text>\n",
              "\n",
              "<text class=\"displacy-token\" fill=\"currentColor\" text-anchor=\"middle\" y=\"309.5\">\n",
              "    <tspan class=\"displacy-word\" fill=\"currentColor\" x=\"225\">a</tspan>\n",
              "    <tspan class=\"displacy-tag\" dy=\"2em\" fill=\"currentColor\" x=\"225\">DET</tspan>\n",
              "</text>\n",
              "\n",
              "<text class=\"displacy-token\" fill=\"currentColor\" text-anchor=\"middle\" y=\"309.5\">\n",
              "    <tspan class=\"displacy-word\" fill=\"currentColor\" x=\"400\">farmer</tspan>\n",
              "    <tspan class=\"displacy-tag\" dy=\"2em\" fill=\"currentColor\" x=\"400\">NOUN</tspan>\n",
              "</text>\n",
              "\n",
              "<text class=\"displacy-token\" fill=\"currentColor\" text-anchor=\"middle\" y=\"309.5\">\n",
              "    <tspan class=\"displacy-word\" fill=\"currentColor\" x=\"575\">owns</tspan>\n",
              "    <tspan class=\"displacy-tag\" dy=\"2em\" fill=\"currentColor\" x=\"575\">VERB</tspan>\n",
              "</text>\n",
              "\n",
              "<text class=\"displacy-token\" fill=\"currentColor\" text-anchor=\"middle\" y=\"309.5\">\n",
              "    <tspan class=\"displacy-word\" fill=\"currentColor\" x=\"750\">a</tspan>\n",
              "    <tspan class=\"displacy-tag\" dy=\"2em\" fill=\"currentColor\" x=\"750\">DET</tspan>\n",
              "</text>\n",
              "\n",
              "<text class=\"displacy-token\" fill=\"currentColor\" text-anchor=\"middle\" y=\"309.5\">\n",
              "    <tspan class=\"displacy-word\" fill=\"currentColor\" x=\"925\">donkey,</tspan>\n",
              "    <tspan class=\"displacy-tag\" dy=\"2em\" fill=\"currentColor\" x=\"925\">NOUN</tspan>\n",
              "</text>\n",
              "\n",
              "<text class=\"displacy-token\" fill=\"currentColor\" text-anchor=\"middle\" y=\"309.5\">\n",
              "    <tspan class=\"displacy-word\" fill=\"currentColor\" x=\"1100\">he</tspan>\n",
              "    <tspan class=\"displacy-tag\" dy=\"2em\" fill=\"currentColor\" x=\"1100\">PRON</tspan>\n",
              "</text>\n",
              "\n",
              "<text class=\"displacy-token\" fill=\"currentColor\" text-anchor=\"middle\" y=\"309.5\">\n",
              "    <tspan class=\"displacy-word\" fill=\"currentColor\" x=\"1275\">beats</tspan>\n",
              "    <tspan class=\"displacy-tag\" dy=\"2em\" fill=\"currentColor\" x=\"1275\">VERB</tspan>\n",
              "</text>\n",
              "\n",
              "<text class=\"displacy-token\" fill=\"currentColor\" text-anchor=\"middle\" y=\"309.5\">\n",
              "    <tspan class=\"displacy-word\" fill=\"currentColor\" x=\"1450\">it.</tspan>\n",
              "    <tspan class=\"displacy-tag\" dy=\"2em\" fill=\"currentColor\" x=\"1450\">PRON</tspan>\n",
              "</text>\n",
              "\n",
              "<g class=\"displacy-arrow\">\n",
              "    <path class=\"displacy-arc\" id=\"arrow-ef2685b5091c4c88812673161775f5c3-0-0\" stroke-width=\"2px\" d=\"M70,264.5 C70,89.5 570.0,89.5 570.0,264.5\" fill=\"none\" stroke=\"currentColor\"/>\n",
              "    <text dy=\"1.25em\" style=\"font-size: 0.8em; letter-spacing: 1px\">\n",
              "        <textPath xlink:href=\"#arrow-ef2685b5091c4c88812673161775f5c3-0-0\" class=\"displacy-label\" startOffset=\"50%\" side=\"left\" fill=\"currentColor\" text-anchor=\"middle\">mark</textPath>\n",
              "    </text>\n",
              "    <path class=\"displacy-arrowhead\" d=\"M70,266.5 L62,254.5 78,254.5\" fill=\"currentColor\"/>\n",
              "</g>\n",
              "\n",
              "<g class=\"displacy-arrow\">\n",
              "    <path class=\"displacy-arc\" id=\"arrow-ef2685b5091c4c88812673161775f5c3-0-1\" stroke-width=\"2px\" d=\"M245,264.5 C245,177.0 390.0,177.0 390.0,264.5\" fill=\"none\" stroke=\"currentColor\"/>\n",
              "    <text dy=\"1.25em\" style=\"font-size: 0.8em; letter-spacing: 1px\">\n",
              "        <textPath xlink:href=\"#arrow-ef2685b5091c4c88812673161775f5c3-0-1\" class=\"displacy-label\" startOffset=\"50%\" side=\"left\" fill=\"currentColor\" text-anchor=\"middle\">det</textPath>\n",
              "    </text>\n",
              "    <path class=\"displacy-arrowhead\" d=\"M245,266.5 L237,254.5 253,254.5\" fill=\"currentColor\"/>\n",
              "</g>\n",
              "\n",
              "<g class=\"displacy-arrow\">\n",
              "    <path class=\"displacy-arc\" id=\"arrow-ef2685b5091c4c88812673161775f5c3-0-2\" stroke-width=\"2px\" d=\"M420,264.5 C420,177.0 565.0,177.0 565.0,264.5\" fill=\"none\" stroke=\"currentColor\"/>\n",
              "    <text dy=\"1.25em\" style=\"font-size: 0.8em; letter-spacing: 1px\">\n",
              "        <textPath xlink:href=\"#arrow-ef2685b5091c4c88812673161775f5c3-0-2\" class=\"displacy-label\" startOffset=\"50%\" side=\"left\" fill=\"currentColor\" text-anchor=\"middle\">nsubj</textPath>\n",
              "    </text>\n",
              "    <path class=\"displacy-arrowhead\" d=\"M420,266.5 L412,254.5 428,254.5\" fill=\"currentColor\"/>\n",
              "</g>\n",
              "\n",
              "<g class=\"displacy-arrow\">\n",
              "    <path class=\"displacy-arc\" id=\"arrow-ef2685b5091c4c88812673161775f5c3-0-3\" stroke-width=\"2px\" d=\"M595,264.5 C595,2.0 1275.0,2.0 1275.0,264.5\" fill=\"none\" stroke=\"currentColor\"/>\n",
              "    <text dy=\"1.25em\" style=\"font-size: 0.8em; letter-spacing: 1px\">\n",
              "        <textPath xlink:href=\"#arrow-ef2685b5091c4c88812673161775f5c3-0-3\" class=\"displacy-label\" startOffset=\"50%\" side=\"left\" fill=\"currentColor\" text-anchor=\"middle\">advcl</textPath>\n",
              "    </text>\n",
              "    <path class=\"displacy-arrowhead\" d=\"M595,266.5 L587,254.5 603,254.5\" fill=\"currentColor\"/>\n",
              "</g>\n",
              "\n",
              "<g class=\"displacy-arrow\">\n",
              "    <path class=\"displacy-arc\" id=\"arrow-ef2685b5091c4c88812673161775f5c3-0-4\" stroke-width=\"2px\" d=\"M770,264.5 C770,177.0 915.0,177.0 915.0,264.5\" fill=\"none\" stroke=\"currentColor\"/>\n",
              "    <text dy=\"1.25em\" style=\"font-size: 0.8em; letter-spacing: 1px\">\n",
              "        <textPath xlink:href=\"#arrow-ef2685b5091c4c88812673161775f5c3-0-4\" class=\"displacy-label\" startOffset=\"50%\" side=\"left\" fill=\"currentColor\" text-anchor=\"middle\">det</textPath>\n",
              "    </text>\n",
              "    <path class=\"displacy-arrowhead\" d=\"M770,266.5 L762,254.5 778,254.5\" fill=\"currentColor\"/>\n",
              "</g>\n",
              "\n",
              "<g class=\"displacy-arrow\">\n",
              "    <path class=\"displacy-arc\" id=\"arrow-ef2685b5091c4c88812673161775f5c3-0-5\" stroke-width=\"2px\" d=\"M595,264.5 C595,89.5 920.0,89.5 920.0,264.5\" fill=\"none\" stroke=\"currentColor\"/>\n",
              "    <text dy=\"1.25em\" style=\"font-size: 0.8em; letter-spacing: 1px\">\n",
              "        <textPath xlink:href=\"#arrow-ef2685b5091c4c88812673161775f5c3-0-5\" class=\"displacy-label\" startOffset=\"50%\" side=\"left\" fill=\"currentColor\" text-anchor=\"middle\">dobj</textPath>\n",
              "    </text>\n",
              "    <path class=\"displacy-arrowhead\" d=\"M920.0,266.5 L928.0,254.5 912.0,254.5\" fill=\"currentColor\"/>\n",
              "</g>\n",
              "\n",
              "<g class=\"displacy-arrow\">\n",
              "    <path class=\"displacy-arc\" id=\"arrow-ef2685b5091c4c88812673161775f5c3-0-6\" stroke-width=\"2px\" d=\"M1120,264.5 C1120,177.0 1265.0,177.0 1265.0,264.5\" fill=\"none\" stroke=\"currentColor\"/>\n",
              "    <text dy=\"1.25em\" style=\"font-size: 0.8em; letter-spacing: 1px\">\n",
              "        <textPath xlink:href=\"#arrow-ef2685b5091c4c88812673161775f5c3-0-6\" class=\"displacy-label\" startOffset=\"50%\" side=\"left\" fill=\"currentColor\" text-anchor=\"middle\">nsubj</textPath>\n",
              "    </text>\n",
              "    <path class=\"displacy-arrowhead\" d=\"M1120,266.5 L1112,254.5 1128,254.5\" fill=\"currentColor\"/>\n",
              "</g>\n",
              "\n",
              "<g class=\"displacy-arrow\">\n",
              "    <path class=\"displacy-arc\" id=\"arrow-ef2685b5091c4c88812673161775f5c3-0-7\" stroke-width=\"2px\" d=\"M1295,264.5 C1295,177.0 1440.0,177.0 1440.0,264.5\" fill=\"none\" stroke=\"currentColor\"/>\n",
              "    <text dy=\"1.25em\" style=\"font-size: 0.8em; letter-spacing: 1px\">\n",
              "        <textPath xlink:href=\"#arrow-ef2685b5091c4c88812673161775f5c3-0-7\" class=\"displacy-label\" startOffset=\"50%\" side=\"left\" fill=\"currentColor\" text-anchor=\"middle\">dobj</textPath>\n",
              "    </text>\n",
              "    <path class=\"displacy-arrowhead\" d=\"M1440.0,266.5 L1448.0,254.5 1432.0,254.5\" fill=\"currentColor\"/>\n",
              "</g>\n",
              "</svg></span>"
            ]
          },
          "metadata": {}
        }
      ],
      "source": [
        "displacy.render(donkey_doc, style='dep')"
      ]
    },
    {
      "cell_type": "markdown",
      "metadata": {
        "id": "4NOLHFHFKLjk"
      },
      "source": [
        "#### Named Entity Recognition (NER)"
      ]
    },
    {
      "cell_type": "code",
      "source": [
        "from spacy.tokens import Span"
      ],
      "metadata": {
        "id": "D9ZEAHBnXQuM"
      },
      "execution_count": null,
      "outputs": []
    },
    {
      "cell_type": "code",
      "source": [
        "doc_twit = nlp_en(\"President Donald Trump is permanently blocked on Twitter.\")\n",
        "\n",
        "for ent in doc_twit.ents:\n",
        "    print(ent.text, ent.start_char, ent.end_char, ent.label_)"
      ],
      "metadata": {
        "colab": {
          "base_uri": "https://localhost:8080/"
        },
        "id": "4NHJQCmaWAY4",
        "outputId": "9aaf4b2f-54e2-4ecd-ce7e-2e2de96aa683"
      },
      "execution_count": null,
      "outputs": [
        {
          "output_type": "stream",
          "name": "stdout",
          "text": [
            "Donald Trump 10 22 PERSON\n",
            "Twitter 49 56 PRODUCT\n"
          ]
        }
      ]
    },
    {
      "cell_type": "code",
      "execution_count": null,
      "metadata": {
        "id": "MOjDeVHQKLjl",
        "outputId": "9988d0ef-4f22-4f44-c336-4c54dd370130",
        "colab": {
          "base_uri": "https://localhost:8080/"
        }
      },
      "outputs": [
        {
          "output_type": "stream",
          "name": "stdout",
          "text": [
            "Before [('Donald Trump', 10, 22, 'PERSON'), ('Twitter', 49, 56, 'PRODUCT')]\n",
            "After [('President', 0, 9, 'PE'), ('Donald Trump', 10, 22, 'PERSON'), ('Twitter', 49, 56, 'PRODUCT')]\n"
          ]
        }
      ],
      "source": [
        "ents = [(e.text, e.start_char, e.end_char, e.label_) for e in doc_twit.ents]\n",
        "print('Before', ents)\n",
        "# the model didn't recognise \"President\" :(\n",
        "\n",
        "president_ent = Span(doc_twit, 0, 1, label=\"PE\")  # create a Span for the new entity, PE = political entity\n",
        "doc_twit.ents = list(doc_twit.ents) + [president_ent]\n",
        "\n",
        "ents = [(e.text, e.start_char, e.end_char, e.label_) for e in doc_twit.ents]\n",
        "print('After', ents)"
      ]
    },
    {
      "cell_type": "code",
      "source": [
        "displacy.render(doc_twit, style='ent')"
      ],
      "metadata": {
        "colab": {
          "base_uri": "https://localhost:8080/",
          "height": 52
        },
        "id": "aKS_S_IwV8hj",
        "outputId": "0fa5029d-5aa8-4912-ece9-d71abf37ddfd"
      },
      "execution_count": null,
      "outputs": [
        {
          "output_type": "display_data",
          "data": {
            "text/plain": [
              "<IPython.core.display.HTML object>"
            ],
            "text/html": [
              "<span class=\"tex2jax_ignore\"><div class=\"entities\" style=\"line-height: 2.5; direction: ltr\">\n",
              "<mark class=\"entity\" style=\"background: #ddd; padding: 0.45em 0.6em; margin: 0 0.25em; line-height: 1; border-radius: 0.35em;\">\n",
              "    President\n",
              "    <span style=\"font-size: 0.8em; font-weight: bold; line-height: 1; border-radius: 0.35em; vertical-align: middle; margin-left: 0.5rem\">PE</span>\n",
              "</mark>\n",
              " \n",
              "<mark class=\"entity\" style=\"background: #aa9cfc; padding: 0.45em 0.6em; margin: 0 0.25em; line-height: 1; border-radius: 0.35em;\">\n",
              "    Donald Trump\n",
              "    <span style=\"font-size: 0.8em; font-weight: bold; line-height: 1; border-radius: 0.35em; vertical-align: middle; margin-left: 0.5rem\">PERSON</span>\n",
              "</mark>\n",
              " is permanently blocked on \n",
              "<mark class=\"entity\" style=\"background: #bfeeb7; padding: 0.45em 0.6em; margin: 0 0.25em; line-height: 1; border-radius: 0.35em;\">\n",
              "    Twitter\n",
              "    <span style=\"font-size: 0.8em; font-weight: bold; line-height: 1; border-radius: 0.35em; vertical-align: middle; margin-left: 0.5rem\">PRODUCT</span>\n",
              "</mark>\n",
              ".</div></span>"
            ]
          },
          "metadata": {}
        }
      ]
    },
    {
      "cell_type": "markdown",
      "metadata": {
        "id": "u7ye8dbTKLjm"
      },
      "source": [
        "#### Как обстоят дела с другими языками?"
      ]
    },
    {
      "cell_type": "markdown",
      "metadata": {
        "id": "4dMiq7uPKLjn"
      },
      "source": [
        "Загрузим модель для русского языка:"
      ]
    },
    {
      "cell_type": "code",
      "execution_count": null,
      "metadata": {
        "id": "KpxCZDapKLjn"
      },
      "outputs": [],
      "source": [
        "nlp_ru = spacy.load(\"ru_core_news_sm\")"
      ]
    },
    {
      "cell_type": "code",
      "execution_count": null,
      "metadata": {
        "id": "COYVAB7EKLjn",
        "outputId": "c500bf9d-f4bb-4eb9-fc97-d2f2a2981f5c",
        "colab": {
          "base_uri": "https://localhost:8080/"
        }
      },
      "outputs": [
        {
          "output_type": "stream",
          "name": "stdout",
          "text": [
            "Блины блин NOUN Animacy=Inan|Case=Nom|Gender=Masc|Number=Plur\n",
            "бабушка бабушка NOUN Animacy=Anim|Case=Nom|Gender=Fem|Number=Sing\n",
            "очень очень ADV Degree=Pos\n",
            "уж уж PART \n",
            "вкусные вкусный ADJ Case=Nom|Degree=Pos|Number=Plur\n",
            "печет печет NOUN Animacy=Inan|Case=Nom|Gender=Masc|Number=Sing\n",
            ". . PUNCT \n"
          ]
        }
      ],
      "source": [
        "pancakes_doc = nlp_ru(\"Блины бабушка очень уж вкусные печет.\")\n",
        "for token in pancakes_doc:\n",
        "    print(token.text, token.lemma_, token.pos_, token.morph)"
      ]
    },
    {
      "cell_type": "code",
      "source": [
        "displacy.render(pancakes_doc, style='dep')"
      ],
      "metadata": {
        "colab": {
          "base_uri": "https://localhost:8080/",
          "height": 421
        },
        "id": "fG_B5mfKaFzL",
        "outputId": "a85af300-e727-4af7-b056-6d28e579487b"
      },
      "execution_count": null,
      "outputs": [
        {
          "output_type": "display_data",
          "data": {
            "text/plain": [
              "<IPython.core.display.HTML object>"
            ],
            "text/html": [
              "<span class=\"tex2jax_ignore\"><svg xmlns=\"http://www.w3.org/2000/svg\" xmlns:xlink=\"http://www.w3.org/1999/xlink\" xml:lang=\"ru\" id=\"7b067e941266417d89d12d0e93a41509-0\" class=\"displacy\" width=\"1100\" height=\"399.5\" direction=\"ltr\" style=\"max-width: none; height: 399.5px; color: #000000; background: #ffffff; font-family: Arial; direction: ltr\">\n",
              "<text class=\"displacy-token\" fill=\"currentColor\" text-anchor=\"middle\" y=\"309.5\">\n",
              "    <tspan class=\"displacy-word\" fill=\"currentColor\" x=\"50\">Блины</tspan>\n",
              "    <tspan class=\"displacy-tag\" dy=\"2em\" fill=\"currentColor\" x=\"50\">NOUN</tspan>\n",
              "</text>\n",
              "\n",
              "<text class=\"displacy-token\" fill=\"currentColor\" text-anchor=\"middle\" y=\"309.5\">\n",
              "    <tspan class=\"displacy-word\" fill=\"currentColor\" x=\"225\">бабушка</tspan>\n",
              "    <tspan class=\"displacy-tag\" dy=\"2em\" fill=\"currentColor\" x=\"225\">NOUN</tspan>\n",
              "</text>\n",
              "\n",
              "<text class=\"displacy-token\" fill=\"currentColor\" text-anchor=\"middle\" y=\"309.5\">\n",
              "    <tspan class=\"displacy-word\" fill=\"currentColor\" x=\"400\">очень</tspan>\n",
              "    <tspan class=\"displacy-tag\" dy=\"2em\" fill=\"currentColor\" x=\"400\">ADV</tspan>\n",
              "</text>\n",
              "\n",
              "<text class=\"displacy-token\" fill=\"currentColor\" text-anchor=\"middle\" y=\"309.5\">\n",
              "    <tspan class=\"displacy-word\" fill=\"currentColor\" x=\"575\">уж</tspan>\n",
              "    <tspan class=\"displacy-tag\" dy=\"2em\" fill=\"currentColor\" x=\"575\">PART</tspan>\n",
              "</text>\n",
              "\n",
              "<text class=\"displacy-token\" fill=\"currentColor\" text-anchor=\"middle\" y=\"309.5\">\n",
              "    <tspan class=\"displacy-word\" fill=\"currentColor\" x=\"750\">вкусные</tspan>\n",
              "    <tspan class=\"displacy-tag\" dy=\"2em\" fill=\"currentColor\" x=\"750\">ADJ</tspan>\n",
              "</text>\n",
              "\n",
              "<text class=\"displacy-token\" fill=\"currentColor\" text-anchor=\"middle\" y=\"309.5\">\n",
              "    <tspan class=\"displacy-word\" fill=\"currentColor\" x=\"925\">печет.</tspan>\n",
              "    <tspan class=\"displacy-tag\" dy=\"2em\" fill=\"currentColor\" x=\"925\">NOUN</tspan>\n",
              "</text>\n",
              "\n",
              "<g class=\"displacy-arrow\">\n",
              "    <path class=\"displacy-arc\" id=\"arrow-7b067e941266417d89d12d0e93a41509-0-0\" stroke-width=\"2px\" d=\"M70,264.5 C70,2.0 925.0,2.0 925.0,264.5\" fill=\"none\" stroke=\"currentColor\"/>\n",
              "    <text dy=\"1.25em\" style=\"font-size: 0.8em; letter-spacing: 1px\">\n",
              "        <textPath xlink:href=\"#arrow-7b067e941266417d89d12d0e93a41509-0-0\" class=\"displacy-label\" startOffset=\"50%\" side=\"left\" fill=\"currentColor\" text-anchor=\"middle\">nsubj</textPath>\n",
              "    </text>\n",
              "    <path class=\"displacy-arrowhead\" d=\"M70,266.5 L62,254.5 78,254.5\" fill=\"currentColor\"/>\n",
              "</g>\n",
              "\n",
              "<g class=\"displacy-arrow\">\n",
              "    <path class=\"displacy-arc\" id=\"arrow-7b067e941266417d89d12d0e93a41509-0-1\" stroke-width=\"2px\" d=\"M245,264.5 C245,89.5 920.0,89.5 920.0,264.5\" fill=\"none\" stroke=\"currentColor\"/>\n",
              "    <text dy=\"1.25em\" style=\"font-size: 0.8em; letter-spacing: 1px\">\n",
              "        <textPath xlink:href=\"#arrow-7b067e941266417d89d12d0e93a41509-0-1\" class=\"displacy-label\" startOffset=\"50%\" side=\"left\" fill=\"currentColor\" text-anchor=\"middle\">nsubj</textPath>\n",
              "    </text>\n",
              "    <path class=\"displacy-arrowhead\" d=\"M245,266.5 L237,254.5 253,254.5\" fill=\"currentColor\"/>\n",
              "</g>\n",
              "\n",
              "<g class=\"displacy-arrow\">\n",
              "    <path class=\"displacy-arc\" id=\"arrow-7b067e941266417d89d12d0e93a41509-0-2\" stroke-width=\"2px\" d=\"M420,264.5 C420,177.0 565.0,177.0 565.0,264.5\" fill=\"none\" stroke=\"currentColor\"/>\n",
              "    <text dy=\"1.25em\" style=\"font-size: 0.8em; letter-spacing: 1px\">\n",
              "        <textPath xlink:href=\"#arrow-7b067e941266417d89d12d0e93a41509-0-2\" class=\"displacy-label\" startOffset=\"50%\" side=\"left\" fill=\"currentColor\" text-anchor=\"middle\">advmod</textPath>\n",
              "    </text>\n",
              "    <path class=\"displacy-arrowhead\" d=\"M420,266.5 L412,254.5 428,254.5\" fill=\"currentColor\"/>\n",
              "</g>\n",
              "\n",
              "<g class=\"displacy-arrow\">\n",
              "    <path class=\"displacy-arc\" id=\"arrow-7b067e941266417d89d12d0e93a41509-0-3\" stroke-width=\"2px\" d=\"M595,264.5 C595,177.0 740.0,177.0 740.0,264.5\" fill=\"none\" stroke=\"currentColor\"/>\n",
              "    <text dy=\"1.25em\" style=\"font-size: 0.8em; letter-spacing: 1px\">\n",
              "        <textPath xlink:href=\"#arrow-7b067e941266417d89d12d0e93a41509-0-3\" class=\"displacy-label\" startOffset=\"50%\" side=\"left\" fill=\"currentColor\" text-anchor=\"middle\">advmod</textPath>\n",
              "    </text>\n",
              "    <path class=\"displacy-arrowhead\" d=\"M595,266.5 L587,254.5 603,254.5\" fill=\"currentColor\"/>\n",
              "</g>\n",
              "\n",
              "<g class=\"displacy-arrow\">\n",
              "    <path class=\"displacy-arc\" id=\"arrow-7b067e941266417d89d12d0e93a41509-0-4\" stroke-width=\"2px\" d=\"M770,264.5 C770,177.0 915.0,177.0 915.0,264.5\" fill=\"none\" stroke=\"currentColor\"/>\n",
              "    <text dy=\"1.25em\" style=\"font-size: 0.8em; letter-spacing: 1px\">\n",
              "        <textPath xlink:href=\"#arrow-7b067e941266417d89d12d0e93a41509-0-4\" class=\"displacy-label\" startOffset=\"50%\" side=\"left\" fill=\"currentColor\" text-anchor=\"middle\">amod</textPath>\n",
              "    </text>\n",
              "    <path class=\"displacy-arrowhead\" d=\"M770,266.5 L762,254.5 778,254.5\" fill=\"currentColor\"/>\n",
              "</g>\n",
              "</svg></span>"
            ]
          },
          "metadata": {}
        }
      ]
    },
    {
      "cell_type": "code",
      "execution_count": null,
      "metadata": {
        "id": "DBKwaWbDKLjn",
        "outputId": "fcaaeea6-3f45-42e6-de2f-c4780952cf50",
        "colab": {
          "base_uri": "https://localhost:8080/",
          "height": 333
        }
      },
      "outputs": [
        {
          "output_type": "display_data",
          "data": {
            "text/plain": [
              "<IPython.core.display.HTML object>"
            ],
            "text/html": [
              "<span class=\"tex2jax_ignore\"><svg xmlns=\"http://www.w3.org/2000/svg\" xmlns:xlink=\"http://www.w3.org/1999/xlink\" xml:lang=\"ru\" id=\"f178b100ac234eccbbd9d6fafb6f819c-0\" class=\"displacy\" width=\"575\" height=\"312.0\" direction=\"ltr\" style=\"max-width: none; height: 312.0px; color: #000000; background: #ffffff; font-family: Arial; direction: ltr\">\n",
              "<text class=\"displacy-token\" fill=\"currentColor\" text-anchor=\"middle\" y=\"222.0\">\n",
              "    <tspan class=\"displacy-word\" fill=\"currentColor\" x=\"50\">Какой</tspan>\n",
              "    <tspan class=\"displacy-tag\" dy=\"2em\" fill=\"currentColor\" x=\"50\">DET</tspan>\n",
              "</text>\n",
              "\n",
              "<text class=\"displacy-token\" fill=\"currentColor\" text-anchor=\"middle\" y=\"222.0\">\n",
              "    <tspan class=\"displacy-word\" fill=\"currentColor\" x=\"225\">прекрасный</tspan>\n",
              "    <tspan class=\"displacy-tag\" dy=\"2em\" fill=\"currentColor\" x=\"225\">ADJ</tspan>\n",
              "</text>\n",
              "\n",
              "<text class=\"displacy-token\" fill=\"currentColor\" text-anchor=\"middle\" y=\"222.0\">\n",
              "    <tspan class=\"displacy-word\" fill=\"currentColor\" x=\"400\">пень!</tspan>\n",
              "    <tspan class=\"displacy-tag\" dy=\"2em\" fill=\"currentColor\" x=\"400\">NOUN</tspan>\n",
              "</text>\n",
              "\n",
              "<g class=\"displacy-arrow\">\n",
              "    <path class=\"displacy-arc\" id=\"arrow-f178b100ac234eccbbd9d6fafb6f819c-0-0\" stroke-width=\"2px\" d=\"M70,177.0 C70,2.0 400.0,2.0 400.0,177.0\" fill=\"none\" stroke=\"currentColor\"/>\n",
              "    <text dy=\"1.25em\" style=\"font-size: 0.8em; letter-spacing: 1px\">\n",
              "        <textPath xlink:href=\"#arrow-f178b100ac234eccbbd9d6fafb6f819c-0-0\" class=\"displacy-label\" startOffset=\"50%\" side=\"left\" fill=\"currentColor\" text-anchor=\"middle\">det</textPath>\n",
              "    </text>\n",
              "    <path class=\"displacy-arrowhead\" d=\"M70,179.0 L62,167.0 78,167.0\" fill=\"currentColor\"/>\n",
              "</g>\n",
              "\n",
              "<g class=\"displacy-arrow\">\n",
              "    <path class=\"displacy-arc\" id=\"arrow-f178b100ac234eccbbd9d6fafb6f819c-0-1\" stroke-width=\"2px\" d=\"M245,177.0 C245,89.5 395.0,89.5 395.0,177.0\" fill=\"none\" stroke=\"currentColor\"/>\n",
              "    <text dy=\"1.25em\" style=\"font-size: 0.8em; letter-spacing: 1px\">\n",
              "        <textPath xlink:href=\"#arrow-f178b100ac234eccbbd9d6fafb6f819c-0-1\" class=\"displacy-label\" startOffset=\"50%\" side=\"left\" fill=\"currentColor\" text-anchor=\"middle\">amod</textPath>\n",
              "    </text>\n",
              "    <path class=\"displacy-arrowhead\" d=\"M245,179.0 L237,167.0 253,167.0\" fill=\"currentColor\"/>\n",
              "</g>\n",
              "</svg></span>"
            ]
          },
          "metadata": {}
        }
      ],
      "source": [
        "mouse_doc = nlp_ru(\"Какой прекрасный пень!\")\n",
        "\n",
        "displacy.render(mouse_doc, style='dep')"
      ]
    },
    {
      "cell_type": "code",
      "execution_count": null,
      "metadata": {
        "id": "Sd8ZETooKLjo",
        "outputId": "caac7a3f-14a8-47bc-f3bc-56a5bb72aa9f",
        "colab": {
          "base_uri": "https://localhost:8080/",
          "height": 528
        }
      },
      "outputs": [
        {
          "output_type": "display_data",
          "data": {
            "text/plain": [
              "<IPython.core.display.HTML object>"
            ],
            "text/html": [
              "<span class=\"tex2jax_ignore\"><svg xmlns=\"http://www.w3.org/2000/svg\" xmlns:xlink=\"http://www.w3.org/1999/xlink\" xml:lang=\"ru\" id=\"15063e8ab8544cb797df0c4613bd41ae-0\" class=\"displacy\" width=\"1450\" height=\"487.0\" direction=\"ltr\" style=\"max-width: none; height: 487.0px; color: #000000; background: #ffffff; font-family: Arial; direction: ltr\">\n",
              "<text class=\"displacy-token\" fill=\"currentColor\" text-anchor=\"middle\" y=\"397.0\">\n",
              "    <tspan class=\"displacy-word\" fill=\"currentColor\" x=\"50\">Семантику</tspan>\n",
              "    <tspan class=\"displacy-tag\" dy=\"2em\" fill=\"currentColor\" x=\"50\">NOUN</tspan>\n",
              "</text>\n",
              "\n",
              "<text class=\"displacy-token\" fill=\"currentColor\" text-anchor=\"middle\" y=\"397.0\">\n",
              "    <tspan class=\"displacy-word\" fill=\"currentColor\" x=\"225\">я</tspan>\n",
              "    <tspan class=\"displacy-tag\" dy=\"2em\" fill=\"currentColor\" x=\"225\">PRON</tspan>\n",
              "</text>\n",
              "\n",
              "<text class=\"displacy-token\" fill=\"currentColor\" text-anchor=\"middle\" y=\"397.0\">\n",
              "    <tspan class=\"displacy-word\" fill=\"currentColor\" x=\"400\">люблю,</tspan>\n",
              "    <tspan class=\"displacy-tag\" dy=\"2em\" fill=\"currentColor\" x=\"400\">VERB</tspan>\n",
              "</text>\n",
              "\n",
              "<text class=\"displacy-token\" fill=\"currentColor\" text-anchor=\"middle\" y=\"397.0\">\n",
              "    <tspan class=\"displacy-word\" fill=\"currentColor\" x=\"575\">а</tspan>\n",
              "    <tspan class=\"displacy-tag\" dy=\"2em\" fill=\"currentColor\" x=\"575\">CCONJ</tspan>\n",
              "</text>\n",
              "\n",
              "<text class=\"displacy-token\" fill=\"currentColor\" text-anchor=\"middle\" y=\"397.0\">\n",
              "    <tspan class=\"displacy-word\" fill=\"currentColor\" x=\"750\">вот</tspan>\n",
              "    <tspan class=\"displacy-tag\" dy=\"2em\" fill=\"currentColor\" x=\"750\">PART</tspan>\n",
              "</text>\n",
              "\n",
              "<text class=\"displacy-token\" fill=\"currentColor\" text-anchor=\"middle\" y=\"397.0\">\n",
              "    <tspan class=\"displacy-word\" fill=\"currentColor\" x=\"925\">синтаксис</tspan>\n",
              "    <tspan class=\"displacy-tag\" dy=\"2em\" fill=\"currentColor\" x=\"925\">NOUN</tspan>\n",
              "</text>\n",
              "\n",
              "<text class=\"displacy-token\" fill=\"currentColor\" text-anchor=\"middle\" y=\"397.0\">\n",
              "    <tspan class=\"displacy-word\" fill=\"currentColor\" x=\"1100\">не</tspan>\n",
              "    <tspan class=\"displacy-tag\" dy=\"2em\" fill=\"currentColor\" x=\"1100\">PART</tspan>\n",
              "</text>\n",
              "\n",
              "<text class=\"displacy-token\" fill=\"currentColor\" text-anchor=\"middle\" y=\"397.0\">\n",
              "    <tspan class=\"displacy-word\" fill=\"currentColor\" x=\"1275\">очень.</tspan>\n",
              "    <tspan class=\"displacy-tag\" dy=\"2em\" fill=\"currentColor\" x=\"1275\">ADV</tspan>\n",
              "</text>\n",
              "\n",
              "<g class=\"displacy-arrow\">\n",
              "    <path class=\"displacy-arc\" id=\"arrow-15063e8ab8544cb797df0c4613bd41ae-0-0\" stroke-width=\"2px\" d=\"M70,352.0 C70,177.0 390.0,177.0 390.0,352.0\" fill=\"none\" stroke=\"currentColor\"/>\n",
              "    <text dy=\"1.25em\" style=\"font-size: 0.8em; letter-spacing: 1px\">\n",
              "        <textPath xlink:href=\"#arrow-15063e8ab8544cb797df0c4613bd41ae-0-0\" class=\"displacy-label\" startOffset=\"50%\" side=\"left\" fill=\"currentColor\" text-anchor=\"middle\">obj</textPath>\n",
              "    </text>\n",
              "    <path class=\"displacy-arrowhead\" d=\"M70,354.0 L62,342.0 78,342.0\" fill=\"currentColor\"/>\n",
              "</g>\n",
              "\n",
              "<g class=\"displacy-arrow\">\n",
              "    <path class=\"displacy-arc\" id=\"arrow-15063e8ab8544cb797df0c4613bd41ae-0-1\" stroke-width=\"2px\" d=\"M245,352.0 C245,264.5 385.0,264.5 385.0,352.0\" fill=\"none\" stroke=\"currentColor\"/>\n",
              "    <text dy=\"1.25em\" style=\"font-size: 0.8em; letter-spacing: 1px\">\n",
              "        <textPath xlink:href=\"#arrow-15063e8ab8544cb797df0c4613bd41ae-0-1\" class=\"displacy-label\" startOffset=\"50%\" side=\"left\" fill=\"currentColor\" text-anchor=\"middle\">nsubj</textPath>\n",
              "    </text>\n",
              "    <path class=\"displacy-arrowhead\" d=\"M245,354.0 L237,342.0 253,342.0\" fill=\"currentColor\"/>\n",
              "</g>\n",
              "\n",
              "<g class=\"displacy-arrow\">\n",
              "    <path class=\"displacy-arc\" id=\"arrow-15063e8ab8544cb797df0c4613bd41ae-0-2\" stroke-width=\"2px\" d=\"M595,352.0 C595,89.5 1270.0,89.5 1270.0,352.0\" fill=\"none\" stroke=\"currentColor\"/>\n",
              "    <text dy=\"1.25em\" style=\"font-size: 0.8em; letter-spacing: 1px\">\n",
              "        <textPath xlink:href=\"#arrow-15063e8ab8544cb797df0c4613bd41ae-0-2\" class=\"displacy-label\" startOffset=\"50%\" side=\"left\" fill=\"currentColor\" text-anchor=\"middle\">cc</textPath>\n",
              "    </text>\n",
              "    <path class=\"displacy-arrowhead\" d=\"M595,354.0 L587,342.0 603,342.0\" fill=\"currentColor\"/>\n",
              "</g>\n",
              "\n",
              "<g class=\"displacy-arrow\">\n",
              "    <path class=\"displacy-arc\" id=\"arrow-15063e8ab8544cb797df0c4613bd41ae-0-3\" stroke-width=\"2px\" d=\"M770,352.0 C770,264.5 910.0,264.5 910.0,352.0\" fill=\"none\" stroke=\"currentColor\"/>\n",
              "    <text dy=\"1.25em\" style=\"font-size: 0.8em; letter-spacing: 1px\">\n",
              "        <textPath xlink:href=\"#arrow-15063e8ab8544cb797df0c4613bd41ae-0-3\" class=\"displacy-label\" startOffset=\"50%\" side=\"left\" fill=\"currentColor\" text-anchor=\"middle\">advmod</textPath>\n",
              "    </text>\n",
              "    <path class=\"displacy-arrowhead\" d=\"M770,354.0 L762,342.0 778,342.0\" fill=\"currentColor\"/>\n",
              "</g>\n",
              "\n",
              "<g class=\"displacy-arrow\">\n",
              "    <path class=\"displacy-arc\" id=\"arrow-15063e8ab8544cb797df0c4613bd41ae-0-4\" stroke-width=\"2px\" d=\"M945,352.0 C945,177.0 1265.0,177.0 1265.0,352.0\" fill=\"none\" stroke=\"currentColor\"/>\n",
              "    <text dy=\"1.25em\" style=\"font-size: 0.8em; letter-spacing: 1px\">\n",
              "        <textPath xlink:href=\"#arrow-15063e8ab8544cb797df0c4613bd41ae-0-4\" class=\"displacy-label\" startOffset=\"50%\" side=\"left\" fill=\"currentColor\" text-anchor=\"middle\">nsubj</textPath>\n",
              "    </text>\n",
              "    <path class=\"displacy-arrowhead\" d=\"M945,354.0 L937,342.0 953,342.0\" fill=\"currentColor\"/>\n",
              "</g>\n",
              "\n",
              "<g class=\"displacy-arrow\">\n",
              "    <path class=\"displacy-arc\" id=\"arrow-15063e8ab8544cb797df0c4613bd41ae-0-5\" stroke-width=\"2px\" d=\"M1120,352.0 C1120,264.5 1260.0,264.5 1260.0,352.0\" fill=\"none\" stroke=\"currentColor\"/>\n",
              "    <text dy=\"1.25em\" style=\"font-size: 0.8em; letter-spacing: 1px\">\n",
              "        <textPath xlink:href=\"#arrow-15063e8ab8544cb797df0c4613bd41ae-0-5\" class=\"displacy-label\" startOffset=\"50%\" side=\"left\" fill=\"currentColor\" text-anchor=\"middle\">advmod</textPath>\n",
              "    </text>\n",
              "    <path class=\"displacy-arrowhead\" d=\"M1120,354.0 L1112,342.0 1128,342.0\" fill=\"currentColor\"/>\n",
              "</g>\n",
              "\n",
              "<g class=\"displacy-arrow\">\n",
              "    <path class=\"displacy-arc\" id=\"arrow-15063e8ab8544cb797df0c4613bd41ae-0-6\" stroke-width=\"2px\" d=\"M420,352.0 C420,2.0 1275.0,2.0 1275.0,352.0\" fill=\"none\" stroke=\"currentColor\"/>\n",
              "    <text dy=\"1.25em\" style=\"font-size: 0.8em; letter-spacing: 1px\">\n",
              "        <textPath xlink:href=\"#arrow-15063e8ab8544cb797df0c4613bd41ae-0-6\" class=\"displacy-label\" startOffset=\"50%\" side=\"left\" fill=\"currentColor\" text-anchor=\"middle\">conj</textPath>\n",
              "    </text>\n",
              "    <path class=\"displacy-arrowhead\" d=\"M1275.0,354.0 L1283.0,342.0 1267.0,342.0\" fill=\"currentColor\"/>\n",
              "</g>\n",
              "</svg></span>"
            ]
          },
          "metadata": {}
        }
      ],
      "source": [
        "sem_synt_doc = nlp_ru(\"Семантику я люблю, а вот синтаксис не очень.\")\n",
        "\n",
        "displacy.render(sem_synt_doc, style='dep')"
      ]
    },
    {
      "cell_type": "code",
      "execution_count": null,
      "metadata": {
        "id": "IFwEjGleKLjo",
        "outputId": "f5dcd99c-1a8d-4ab5-91e1-3e9e86cdc776",
        "colab": {
          "base_uri": "https://localhost:8080/",
          "height": 52
        }
      },
      "outputs": [
        {
          "output_type": "display_data",
          "data": {
            "text/plain": [
              "<IPython.core.display.HTML object>"
            ],
            "text/html": [
              "<span class=\"tex2jax_ignore\"><div class=\"entities\" style=\"line-height: 2.5; direction: ltr\">Легендарный \n",
              "<mark class=\"entity\" style=\"background: #ddd; padding: 0.45em 0.6em; margin: 0 0.25em; line-height: 1; border-radius: 0.35em;\">\n",
              "    Бока\n",
              "    <span style=\"font-size: 0.8em; font-weight: bold; line-height: 1; border-radius: 0.35em; vertical-align: middle; margin-left: 0.5rem\">PER</span>\n",
              "</mark>\n",
              " и его внук популярный певец \n",
              "<mark class=\"entity\" style=\"background: #ddd; padding: 0.45em 0.6em; margin: 0 0.25em; line-height: 1; border-radius: 0.35em;\">\n",
              "    Жока\n",
              "    <span style=\"font-size: 0.8em; font-weight: bold; line-height: 1; border-radius: 0.35em; vertical-align: middle; margin-left: 0.5rem\">PER</span>\n",
              "</mark>\n",
              " пишут код на \n",
              "<mark class=\"entity\" style=\"background: #7aecec; padding: 0.45em 0.6em; margin: 0 0.25em; line-height: 1; border-radius: 0.35em;\">\n",
              "    Python\n",
              "    <span style=\"font-size: 0.8em; font-weight: bold; line-height: 1; border-radius: 0.35em; vertical-align: middle; margin-left: 0.5rem\">ORG</span>\n",
              "</mark>\n",
              ".</div></span>"
            ]
          },
          "metadata": {}
        }
      ],
      "source": [
        "kate_doc = nlp_ru(\"Легендарный Бока и его внук популярный певец Жока пишут код на Python.\")\n",
        "\n",
        "displacy.render(kate_doc, style='ent')"
      ]
    },
    {
      "cell_type": "markdown",
      "source": [
        "## Universal Dependencies Parser"
      ],
      "metadata": {
        "id": "naLr-K7ebddj"
      }
    },
    {
      "cell_type": "markdown",
      "source": [
        "[Один из туториалов-сравнений](https://habr.com/ru/company/sberbank/blog/418701/)\n",
        "\n",
        "[**Universal Dependencies**](https://universaldependencies.org/) $-$ это проект по унификации разметки синтаксических корпусов (трибанков) в рамках грамматики зависимостей.\n",
        "\n",
        "В русском языке количество типов синтаксических связей ограничено: подлежащее, сказуемое и т.д. В английском то же самое, но набор уже другой. Например, там появляется артикль, который тоже надо как-то маркировать. Если бы мы хотели написать волшебный парсер, который мог бы обрабатывать все языки, то довольно быстро уперлись бы в проблемы сопоставления разных грамматик. Героическим создателям Universal Dependencies удалось договориться между собой и разметить все корпусы, которые имелись в их распоряжении, в едином формате.\n",
        "\n",
        "Для того, чтобы разметить что-то новое, нужно обучить модель на размеченном корпусе. Таких корпусов для русского языка есть несколько (можно посмотреть на сайте Universal Dependencies). Основные и самые большие размеченные корпуса:\n",
        "+ Syntagrus\n",
        "+ Taiga"
      ],
      "metadata": {
        "id": "6SgjRPN1bgDw"
      }
    },
    {
      "cell_type": "markdown",
      "source": [
        "### UDPipe 2.0, принцип работы"
      ],
      "metadata": {
        "id": "WvEC_5HjdWuV"
      }
    },
    {
      "cell_type": "markdown",
      "source": [
        "+ Сначала текст разделяется на предложения, а предложения $-$ на слова.\n",
        "+ Затем начинает работу теггер $-$ штука, которая предсказывает морфологические свойства токена: в каком падеже слово стоит, в каком числе. По последним четырем символам каждого слова теггер генерирует гипотезы относительно части речи и морфологических тегов этого слова, а затем при помощи перцептрона отбирает лучший вариант.\n",
        "+ В UDPipe есть еще лемматизатор, который подбирает для слов начальную форму.\n",
        "+ потом происходит синтаксический парсинг\n",
        "\n",
        "В итоге получается какой-то такой разбор по грамматике зависимостей предложения:\n",
        "\n",
        "Пример для английского            |  Пример для русского\n",
        ":--------------------------------:|:-------------------------:\n",
        "![](https://habrastorage.org/getpro/habr/post_images/686/c78/066/686c780661b296250d53cba054317a18.png)  |  ![](https://github.com/hse-ling-python/seminars/blob/master/UDPipe/koshka.png?raw=1)\n",
        "\n",
        "\n",
        "\n"
      ],
      "metadata": {
        "id": "zV17Z5aAdRcT"
      }
    },
    {
      "cell_type": "markdown",
      "source": [
        "## UDPipe в Python"
      ],
      "metadata": {
        "id": "8F7nvH8Qd-dZ"
      }
    },
    {
      "cell_type": "markdown",
      "source": [
        "+ Установка:\n",
        "```python\n",
        "pip install ufal.udpipe\n",
        "pip install conllu\n",
        "```\n",
        "+ вспомогательный скрипт `model.py`: cкачайте его себе с нашего [гитхаба](https://raw.githubusercontent.com/hse-ling-python/seminars/refs/heads/master/UDPipe/model.py).\n",
        "\n",
        "+ модель для русского (либо *taiga*, либо *syntagrus*): скачать [отсюда](https://github.com/jwijffels/udpipe.models.ud.2.4/tree/master/inst/udpipe-ud-2.4-190531). ."
      ],
      "metadata": {
        "id": "ZYuOH38veEwX"
      }
    },
    {
      "cell_type": "code",
      "source": [
        "!pip install ufal.udpipe --q\n",
        "!pip install conllu --q"
      ],
      "metadata": {
        "id": "RKGloEbVbczi"
      },
      "execution_count": null,
      "outputs": []
    },
    {
      "cell_type": "code",
      "source": [
        "!wget -q https://raw.githubusercontent.com/hse-ling-python/seminars/refs/heads/master/UDPipe/model.py\n",
        "!wget -q https://github.com/jwijffels/udpipe.models.ud.2.4/raw/refs/heads/master/inst/udpipe-ud-2.4-190531/russian-taiga-ud-2.4-190531.udpipe"
      ],
      "metadata": {
        "id": "g5lHGfmLeY1x"
      },
      "execution_count": null,
      "outputs": []
    },
    {
      "cell_type": "code",
      "source": [
        "import ufal.udpipe\n",
        "from model import Model\n",
        "import conllu\n",
        "from nltk.parse import DependencyGraph\n",
        "\n",
        "import warnings\n",
        "import os\n",
        "from collections import defaultdict, Counter\n",
        "\n",
        "\n",
        "warnings.filterwarnings('ignore')"
      ],
      "metadata": {
        "id": "77CNHE6jeX86"
      },
      "execution_count": null,
      "outputs": []
    },
    {
      "cell_type": "code",
      "source": [
        "our_model = Model('russian-taiga-ud-2.4-190531.udpipe')"
      ],
      "metadata": {
        "id": "M8pBDwAHe1P8"
      },
      "execution_count": null,
      "outputs": []
    },
    {
      "cell_type": "code",
      "source": [
        "def get_conllu(my_model, text):\n",
        "    sentences = my_model.tokenize(text)\n",
        "\n",
        "    for sent in sentences:\n",
        "        my_model.tag(sent)\n",
        "        my_model.parse(sent)\n",
        "\n",
        "    conllu_text = my_model.write(sentences, \"conllu\")\n",
        "    return conllu_text"
      ],
      "metadata": {
        "id": "OlHw4q53e1xG"
      },
      "execution_count": null,
      "outputs": []
    },
    {
      "cell_type": "markdown",
      "metadata": {
        "id": "9IgBKWSgtRGR"
      },
      "source": [
        "#### Парсинг: `get_conllu` вернёт табличку с анализом каждого слова"
      ]
    },
    {
      "cell_type": "code",
      "metadata": {
        "id": "XzSN0vzftRGS",
        "outputId": "38566af2-9fab-4261-b896-6f4f296e74cc",
        "colab": {
          "base_uri": "https://localhost:8080/"
        }
      },
      "source": [
        "parsed_text = get_conllu(our_model, 'Я была в школе целый день. И завтра тоже там буду.')\n",
        "print(parsed_text)"
      ],
      "execution_count": null,
      "outputs": [
        {
          "output_type": "stream",
          "name": "stdout",
          "text": [
            "# newdoc\n",
            "# newpar\n",
            "# sent_id = 1\n",
            "# text = Я была в школе целый день.\n",
            "1\tЯ\tя\tPRON\t_\tCase=Nom|Number=Sing|Person=1\t6\tnsubj\t_\t_\n",
            "2\tбыла\tбыть\tAUX\t_\tAspect=Imp|Gender=Fem|Mood=Ind|Number=Sing|Tense=Past|VerbForm=Fin|Voice=Act\t6\tcop\t_\t_\n",
            "3\tв\tв\tADP\t_\t_\t4\tcase\t_\t_\n",
            "4\tшколе\tшколя\tNOUN\t_\tAnimacy=Inan|Case=Loc|Gender=Masc|Number=Sing\t6\tnmod\t_\t_\n",
            "5\tцелый\tцелый\tADJ\t_\tAnimacy=Inan|Case=Acc|Degree=Pos|Gender=Masc|Number=Sing\t6\tamod\t_\t_\n",
            "6\tдень\tдень\tNOUN\t_\tAnimacy=Inan|Case=Acc|Gender=Masc|Number=Sing\t0\troot\t_\tSpaceAfter=No\n",
            "7\t.\t.\tPUNCT\t_\t_\t6\tpunct\t_\t_\n",
            "\n",
            "# sent_id = 2\n",
            "# text = И завтра тоже там буду.\n",
            "1\tИ\tи\tCCONJ\t_\t_\t4\tcc\t_\t_\n",
            "2\tзавтра\tзавтра\tADV\t_\tDegree=Pos\t4\tadvmod\t_\t_\n",
            "3\tтоже\tтоже\tPART\t_\t_\t4\tadvmod\t_\t_\n",
            "4\tтам\tтам\tADV\t_\tDegree=Pos\t0\troot\t_\t_\n",
            "5\tбуду\tбыть\tAUX\t_\tAspect=Imp|Mood=Ind|Number=Sing|Person=1|Tense=Pres|VerbForm=Fin|Voice=Act\t4\tcop\t_\tSpaceAfter=No\n",
            "6\t.\t.\tPUNCT\t_\t_\t4\tpunct\t_\tSpaceAfter=No\n",
            "\n",
            "\n"
          ]
        }
      ]
    },
    {
      "cell_type": "code",
      "metadata": {
        "id": "Lhk3h_4ntRGV",
        "outputId": "d18e901d-e519-4aa0-8081-fd8e2d3e1d31",
        "colab": {
          "base_uri": "https://localhost:8080/"
        }
      },
      "source": [
        "conllu.parse_tree(parsed_text)"
      ],
      "execution_count": null,
      "outputs": [
        {
          "output_type": "execute_result",
          "data": {
            "text/plain": [
              "[TokenTree<token={id=6, form=день}, children=[...]>,\n",
              " TokenTree<token={id=4, form=там}, children=[...]>]"
            ]
          },
          "metadata": {},
          "execution_count": 10
        }
      ]
    },
    {
      "cell_type": "markdown",
      "metadata": {
        "id": "GDbfqJnhtRGX"
      },
      "source": [
        "Получается, что это список из объектов, по одному для каждого предложения. Каждое предложение представляет собой дерево."
      ]
    },
    {
      "cell_type": "code",
      "metadata": {
        "id": "yad-yx0DtRGb"
      },
      "source": [
        "first_tree = conllu.parse_tree(parsed_text)[0]"
      ],
      "execution_count": null,
      "outputs": []
    },
    {
      "cell_type": "code",
      "metadata": {
        "id": "Ba825ZCEtRGf",
        "outputId": "cb874930-ccb7-4383-98d9-0cbdf913ac56",
        "colab": {
          "base_uri": "https://localhost:8080/"
        }
      },
      "source": [
        "first_tree.print_tree()  # вот это на винде не работает, запускайте в Google Colab"
      ],
      "execution_count": null,
      "outputs": [
        {
          "output_type": "stream",
          "name": "stdout",
          "text": [
            "(deprel:root) form:день lemma:день upos:NOUN [6]\n",
            "    (deprel:nsubj) form:Я lemma:я upos:PRON [1]\n",
            "    (deprel:cop) form:была lemma:быть upos:AUX [2]\n",
            "    (deprel:nmod) form:школе lemma:школя upos:NOUN [4]\n",
            "        (deprel:case) form:в lemma:в upos:ADP [3]\n",
            "    (deprel:amod) form:целый lemma:целый upos:ADJ [5]\n",
            "    (deprel:punct) form:. lemma:. upos:PUNCT [7]\n"
          ]
        }
      ]
    },
    {
      "cell_type": "markdown",
      "metadata": {
        "id": "tezpMBhQ__QI"
      },
      "source": [
        "Разобранные предложения хранятся в формате CONLL:\n",
        "- слово на каждой строчке,\n",
        "- тэги через табы,\n",
        "- предложения отделены двойными отступами.\n",
        "\n",
        "CONLL $-$ по названию конференции Conference on Computational Natural Language Learning, в рамках который проводились и проводятся соревнования по парсингу.\n"
      ]
    },
    {
      "cell_type": "markdown",
      "source": [
        "### Визуализация: `DependencyGraph`"
      ],
      "metadata": {
        "id": "c5vzcFMwiRQg"
      }
    },
    {
      "cell_type": "markdown",
      "source": [
        "DependencyGraph работает с форматом CONLL, поэтому напишем функцию, которая добавит в наш разбор табы и двойные отступы `get_dep_tree`."
      ],
      "metadata": {
        "id": "aw2LnakxiXGQ"
      }
    },
    {
      "cell_type": "code",
      "metadata": {
        "id": "eBBXlgm-xnp4"
      },
      "source": [
        "def get_dep_tree(text):\n",
        "    trees = []\n",
        "    for sent in text.split('\\n\\n'):\n",
        "        tree = [line for line in sent.split('\\n') if line and line[0] != '#']\n",
        "        trees.append('\\n'.join(tree))\n",
        "    return trees"
      ],
      "execution_count": null,
      "outputs": []
    },
    {
      "cell_type": "code",
      "metadata": {
        "id": "Uyn9t-Q0x71D",
        "colab": {
          "base_uri": "https://localhost:8080/"
        },
        "outputId": "f1888deb-b0e7-42b9-8b22-f8cd00fdfa33"
      },
      "source": [
        "conll_parsed_text = get_dep_tree(parsed_text)\n",
        "conll_parsed_text"
      ],
      "execution_count": null,
      "outputs": [
        {
          "output_type": "execute_result",
          "data": {
            "text/plain": [
              "['1\\tЯ\\tя\\tPRON\\t_\\tCase=Nom|Number=Sing|Person=1\\t6\\tnsubj\\t_\\t_\\n2\\tбыла\\tбыть\\tAUX\\t_\\tAspect=Imp|Gender=Fem|Mood=Ind|Number=Sing|Tense=Past|VerbForm=Fin|Voice=Act\\t6\\tcop\\t_\\t_\\n3\\tв\\tв\\tADP\\t_\\t_\\t4\\tcase\\t_\\t_\\n4\\tшколе\\tшколя\\tNOUN\\t_\\tAnimacy=Inan|Case=Loc|Gender=Masc|Number=Sing\\t6\\tnmod\\t_\\t_\\n5\\tцелый\\tцелый\\tADJ\\t_\\tAnimacy=Inan|Case=Acc|Degree=Pos|Gender=Masc|Number=Sing\\t6\\tamod\\t_\\t_\\n6\\tдень\\tдень\\tNOUN\\t_\\tAnimacy=Inan|Case=Acc|Gender=Masc|Number=Sing\\t0\\troot\\t_\\tSpaceAfter=No\\n7\\t.\\t.\\tPUNCT\\t_\\t_\\t6\\tpunct\\t_\\t_',\n",
              " '1\\tИ\\tи\\tCCONJ\\t_\\t_\\t4\\tcc\\t_\\t_\\n2\\tзавтра\\tзавтра\\tADV\\t_\\tDegree=Pos\\t4\\tadvmod\\t_\\t_\\n3\\tтоже\\tтоже\\tPART\\t_\\t_\\t4\\tadvmod\\t_\\t_\\n4\\tтам\\tтам\\tADV\\t_\\tDegree=Pos\\t0\\troot\\t_\\t_\\n5\\tбуду\\tбыть\\tAUX\\t_\\tAspect=Imp|Mood=Ind|Number=Sing|Person=1|Tense=Pres|VerbForm=Fin|Voice=Act\\t4\\tcop\\t_\\tSpaceAfter=No\\n6\\t.\\t.\\tPUNCT\\t_\\t_\\t4\\tpunct\\t_\\tSpaceAfter=No',\n",
              " '']"
            ]
          },
          "metadata": {},
          "execution_count": 14
        }
      ]
    },
    {
      "cell_type": "markdown",
      "metadata": {
        "id": "sMa3cs-lAwMJ"
      },
      "source": [
        "Нарисуем:\n"
      ]
    },
    {
      "cell_type": "code",
      "metadata": {
        "id": "PqYYoesgyHrO",
        "colab": {
          "base_uri": "https://localhost:8080/",
          "height": 428
        },
        "outputId": "144441fc-c51c-48c4-f680-eb18798c0ec1"
      },
      "source": [
        "graph_first_tree = DependencyGraph(conll_parsed_text[0])\n",
        "graph_first_tree"
      ],
      "execution_count": null,
      "outputs": [
        {
          "output_type": "execute_result",
          "data": {
            "text/plain": [
              "<DependencyGraph with 8 nodes>"
            ],
            "image/svg+xml": "<?xml version=\"1.0\" encoding=\"UTF-8\" standalone=\"no\"?>\n<!DOCTYPE svg PUBLIC \"-//W3C//DTD SVG 1.1//EN\"\n \"http://www.w3.org/Graphics/SVG/1.1/DTD/svg11.dtd\">\n<!-- Generated by graphviz version 2.43.0 (0)\n -->\n<!-- Title: G Pages: 1 -->\n<svg width=\"400pt\" height=\"305pt\"\n viewBox=\"0.00 0.00 400.00 305.00\" xmlns=\"http://www.w3.org/2000/svg\" xmlns:xlink=\"http://www.w3.org/1999/xlink\">\n<g id=\"graph0\" class=\"graph\" transform=\"scale(1 1) rotate(0) translate(4 301)\">\n<title>G</title>\n<polygon fill=\"white\" stroke=\"transparent\" points=\"-4,4 -4,-301 396,-301 396,4 -4,4\"/>\n<!-- 0 -->\n<g id=\"node1\" class=\"node\">\n<title>0</title>\n<text text-anchor=\"middle\" x=\"192\" y=\"-275.3\" font-family=\"Times,serif\" font-size=\"14.00\">0 (None)</text>\n</g>\n<!-- 6 -->\n<g id=\"node2\" class=\"node\">\n<title>6</title>\n<text text-anchor=\"middle\" x=\"192\" y=\"-188.3\" font-family=\"Times,serif\" font-size=\"14.00\">6 (день)</text>\n</g>\n<!-- 0&#45;&gt;6 -->\n<g id=\"edge1\" class=\"edge\">\n<title>0&#45;&gt;6</title>\n<path fill=\"none\" stroke=\"black\" d=\"M192,-260.8C192,-249.16 192,-233.55 192,-220.24\"/>\n<polygon fill=\"black\" stroke=\"black\" points=\"195.5,-220.18 192,-210.18 188.5,-220.18 195.5,-220.18\"/>\n<text text-anchor=\"middle\" x=\"203\" y=\"-231.8\" font-family=\"Times,serif\" font-size=\"14.00\">root</text>\n</g>\n<!-- 1 -->\n<g id=\"node3\" class=\"node\">\n<title>1</title>\n<text text-anchor=\"middle\" x=\"27\" y=\"-101.3\" font-family=\"Times,serif\" font-size=\"14.00\">1 (Я)</text>\n</g>\n<!-- 6&#45;&gt;1 -->\n<g id=\"edge3\" class=\"edge\">\n<title>6&#45;&gt;1</title>\n<path fill=\"none\" stroke=\"black\" d=\"M160.38,-178.7C144.95,-172.4 126.26,-164.32 110,-156 93.88,-147.75 76.64,-137.6 62.07,-128.6\"/>\n<polygon fill=\"black\" stroke=\"black\" points=\"63.71,-125.5 53.38,-123.18 60.01,-131.44 63.71,-125.5\"/>\n<text text-anchor=\"middle\" x=\"125\" y=\"-144.8\" font-family=\"Times,serif\" font-size=\"14.00\">nsubj</text>\n</g>\n<!-- 2 -->\n<g id=\"node4\" class=\"node\">\n<title>2</title>\n<text text-anchor=\"middle\" x=\"105\" y=\"-101.3\" font-family=\"Times,serif\" font-size=\"14.00\">2 (была)</text>\n</g>\n<!-- 6&#45;&gt;2 -->\n<g id=\"edge4\" class=\"edge\">\n<title>6&#45;&gt;2</title>\n<path fill=\"none\" stroke=\"black\" d=\"M174.39,-173.8C161.66,-161.36 144.27,-144.36 130.08,-130.5\"/>\n<polygon fill=\"black\" stroke=\"black\" points=\"132.18,-127.66 122.58,-123.18 127.29,-132.67 132.18,-127.66\"/>\n<text text-anchor=\"middle\" x=\"164\" y=\"-144.8\" font-family=\"Times,serif\" font-size=\"14.00\">cop</text>\n</g>\n<!-- 4 -->\n<g id=\"node6\" class=\"node\">\n<title>4</title>\n<text text-anchor=\"middle\" x=\"192\" y=\"-101.3\" font-family=\"Times,serif\" font-size=\"14.00\">4 (школе)</text>\n</g>\n<!-- 6&#45;&gt;4 -->\n<g id=\"edge5\" class=\"edge\">\n<title>6&#45;&gt;4</title>\n<path fill=\"none\" stroke=\"black\" d=\"M192,-173.8C192,-162.16 192,-146.55 192,-133.24\"/>\n<polygon fill=\"black\" stroke=\"black\" points=\"195.5,-133.18 192,-123.18 188.5,-133.18 195.5,-133.18\"/>\n<text text-anchor=\"middle\" x=\"208\" y=\"-144.8\" font-family=\"Times,serif\" font-size=\"14.00\">nmod</text>\n</g>\n<!-- 5 -->\n<g id=\"node7\" class=\"node\">\n<title>5</title>\n<text text-anchor=\"middle\" x=\"283\" y=\"-101.3\" font-family=\"Times,serif\" font-size=\"14.00\">5 (целый)</text>\n</g>\n<!-- 6&#45;&gt;5 -->\n<g id=\"edge6\" class=\"edge\">\n<title>6&#45;&gt;5</title>\n<path fill=\"none\" stroke=\"black\" d=\"M210.42,-173.8C223.86,-161.24 242.26,-144.05 257.18,-130.12\"/>\n<polygon fill=\"black\" stroke=\"black\" points=\"259.69,-132.56 264.61,-123.18 254.92,-127.44 259.69,-132.56\"/>\n<text text-anchor=\"middle\" x=\"258.5\" y=\"-144.8\" font-family=\"Times,serif\" font-size=\"14.00\">amod</text>\n</g>\n<!-- 7 -->\n<g id=\"node8\" class=\"node\">\n<title>7</title>\n<text text-anchor=\"middle\" x=\"365\" y=\"-101.3\" font-family=\"Times,serif\" font-size=\"14.00\">7 (.)</text>\n</g>\n<!-- 6&#45;&gt;7 -->\n<g id=\"edge7\" class=\"edge\">\n<title>6&#45;&gt;7</title>\n<path fill=\"none\" stroke=\"black\" d=\"M223.9,-179.2C240.3,-172.84 260.47,-164.56 278,-156 295.14,-147.63 313.54,-137.27 328.98,-128.16\"/>\n<polygon fill=\"black\" stroke=\"black\" points=\"330.9,-131.09 337.7,-122.96 327.32,-125.08 330.9,-131.09\"/>\n<text text-anchor=\"middle\" x=\"320.5\" y=\"-144.8\" font-family=\"Times,serif\" font-size=\"14.00\">punct</text>\n</g>\n<!-- 3 -->\n<g id=\"node5\" class=\"node\">\n<title>3</title>\n<text text-anchor=\"middle\" x=\"192\" y=\"-14.3\" font-family=\"Times,serif\" font-size=\"14.00\">3 (в)</text>\n</g>\n<!-- 4&#45;&gt;3 -->\n<g id=\"edge2\" class=\"edge\">\n<title>4&#45;&gt;3</title>\n<path fill=\"none\" stroke=\"black\" d=\"M192,-86.8C192,-75.16 192,-59.55 192,-46.24\"/>\n<polygon fill=\"black\" stroke=\"black\" points=\"195.5,-46.18 192,-36.18 188.5,-46.18 195.5,-46.18\"/>\n<text text-anchor=\"middle\" x=\"204\" y=\"-57.8\" font-family=\"Times,serif\" font-size=\"14.00\">case</text>\n</g>\n</g>\n</svg>\n"
          },
          "metadata": {},
          "execution_count": 15
        }
      ]
    },
    {
      "cell_type": "markdown",
      "source": [
        "Какая-то фигня получилась. Но это и выше было видно.\n"
      ],
      "metadata": {
        "id": "mgv99q7hilt3"
      }
    },
    {
      "cell_type": "markdown",
      "metadata": {
        "id": "y4_sfHdVF3YY"
      },
      "source": [
        "#### Узлы графа: `triples`."
      ]
    },
    {
      "cell_type": "code",
      "metadata": {
        "id": "0ek7oXMuGIth",
        "colab": {
          "base_uri": "https://localhost:8080/"
        },
        "outputId": "c8756cb9-1df1-4c58-e732-7231cac3965c"
      },
      "source": [
        "graph_first_tree.root = graph_first_tree.nodes[0]  # чтобы метод сработал нужно установить корневой элемент\n",
        "# при этом, если в разборе ошибка и вы счтаете, что root - это graph_first_tree.nodes[2],\n",
        "# использовать этот корень в .triples не получится, будет ошибка\n",
        "graph_first_tree.nodes[2]"
      ],
      "execution_count": null,
      "outputs": [
        {
          "output_type": "execute_result",
          "data": {
            "text/plain": [
              "{'address': 2,\n",
              " 'word': 'была',\n",
              " 'lemma': 'быть',\n",
              " 'ctag': 'AUX',\n",
              " 'tag': '_',\n",
              " 'feats': 'Aspect=Imp|Gender=Fem|Mood=Ind|Number=Sing|Tense=Past|VerbForm=Fin|Voice=Act',\n",
              " 'head': 6,\n",
              " 'deps': defaultdict(list, {}),\n",
              " 'rel': 'cop'}"
            ]
          },
          "metadata": {},
          "execution_count": 16
        }
      ]
    },
    {
      "cell_type": "code",
      "metadata": {
        "id": "wzAv8A72F8dx",
        "colab": {
          "base_uri": "https://localhost:8080/"
        },
        "outputId": "2ea9bb4b-6f57-469a-d149-afecd054c96e"
      },
      "source": [
        "list(graph_first_tree.triples())"
      ],
      "execution_count": null,
      "outputs": [
        {
          "output_type": "execute_result",
          "data": {
            "text/plain": [
              "[((None, 'TOP'), 'root', ('день', 'NOUN')),\n",
              " (('день', 'NOUN'), 'nsubj', ('Я', 'PRON')),\n",
              " (('день', 'NOUN'), 'cop', ('была', 'AUX')),\n",
              " (('день', 'NOUN'), 'nmod', ('школе', 'NOUN')),\n",
              " (('школе', 'NOUN'), 'case', ('в', 'ADP')),\n",
              " (('день', 'NOUN'), 'amod', ('целый', 'ADJ')),\n",
              " (('день', 'NOUN'), 'punct', ('.', 'PUNCT'))]"
            ]
          },
          "metadata": {},
          "execution_count": 17
        }
      ]
    },
    {
      "cell_type": "markdown",
      "source": [
        "### Задачи"
      ],
      "metadata": {
        "id": "msrAWOiZi6Yb"
      }
    },
    {
      "cell_type": "markdown",
      "metadata": {
        "id": "CUQVwacANdTS"
      },
      "source": [
        "1. **Достать из корпуса все возможные модификаторы какого-нибудь слова**\n",
        "\n",
        "Сами парсить не будет, а возьмем уже готовые разборы из Тайги. Возьмем маленький кусочек (Arzamas). Cкачать его можно тут: https://linghub.ru/static/Taiga/Arzamas.zip\n",
        "\n",
        "В нем есть папка с обработанными текстами. Соберем их в один список. Нашим конечным заданием будет достать все модификаторы для какого-нибудь конкретного слова в этом корпусе."
      ]
    },
    {
      "cell_type": "code",
      "metadata": {
        "id": "HHVWFenhIk8Y"
      },
      "source": [
        "!wget -q https://linghub.ru/static/Taiga/Arzamas.zip\n",
        "!unzip -q Arzamas.zip"
      ],
      "execution_count": null,
      "outputs": []
    },
    {
      "cell_type": "code",
      "metadata": {
        "id": "ejfly8a7JpOn"
      },
      "source": [
        "path = 'Arzamas/texts_tagged/'\n",
        "files = [path + file for file in os.listdir(path)]"
      ],
      "execution_count": null,
      "outputs": []
    },
    {
      "cell_type": "markdown",
      "metadata": {
        "id": "buUiJEkOKTj0"
      },
      "source": [
        "Посмотрим, что вообще лежит в этих файлах:"
      ]
    },
    {
      "cell_type": "code",
      "metadata": {
        "id": "IVse55oQKNjx"
      },
      "source": [
        "with open(files[2]) as file:\n",
        "    text_file = file.read()"
      ],
      "execution_count": null,
      "outputs": []
    },
    {
      "cell_type": "markdown",
      "metadata": {
        "id": "mwhSJ53aKdNj"
      },
      "source": [
        "Тут снова формат CONLL очевидно. Давайте еще раз на него внимательно посмотрим. У нас есть тут какая-то метаинформация через #, теги через таб, деревья для отдельных предложений."
      ]
    },
    {
      "cell_type": "code",
      "metadata": {
        "id": "SoULZ-SoKYJP",
        "colab": {
          "base_uri": "https://localhost:8080/"
        },
        "outputId": "ba1675de-bb00-4df1-d2a3-bb0de3fc72f8"
      },
      "source": [
        "tree = [x for x in text_file.split('\\n\\n')[0].split('\\n')]\n",
        "tree[:10]"
      ],
      "execution_count": null,
      "outputs": [
        {
          "output_type": "execute_result",
          "data": {
            "text/plain": [
              "['# text = # newpar',\n",
              " '# sent_id = 16564',\n",
              " '# text = Это Игорь Пильщиков, автор курса о том, почему мы не понимаем классиков.',\n",
              " '1\\tЭто\\tэто\\tPRON\\t_\\tAnimacy=Inan|Case=Nom|Gender=Neut|Number=Sing\\t8\\tnsubj\\t_\\t_',\n",
              " '2\\tИгорь\\tигорь\\tPROPN\\t_\\tAnimacy=Anim|Case=Nom|Gender=Masc|Number=Sing\\t8\\tparataxis\\t_\\t_',\n",
              " '3\\tПильщиков\\tПильщиков\\tPROPN\\t_\\tAnimacy=Anim|Case=Nom|Gender=Masc|Number=Sing\\t2\\tflat:name\\t_\\tSpaceAfter=No',\n",
              " '4\\t,\\t,\\tPUNCT\\t_\\t_\\t3\\tpunct\\t_\\t_',\n",
              " '5\\tавтор\\tавтор\\tNOUN\\t_\\tAnimacy=Anim|Case=Nom|Gender=Masc|Number=Sing\\t8\\tnsubj\\t_\\t_',\n",
              " '6\\tкурса\\tкурс\\tNOUN\\t_\\tAnimacy=Inan|Case=Gen|Gender=Masc|Number=Sing\\t8\\tnmod\\t_\\t_',\n",
              " '7\\tо\\tо\\tADP\\t_\\t_\\t8\\tcase\\t_\\t_']"
            ]
          },
          "metadata": {},
          "execution_count": 23
        }
      ]
    },
    {
      "cell_type": "markdown",
      "metadata": {
        "id": "bw3Tw80GLiiG"
      },
      "source": [
        "Соберем все деревья (то есть все предложения) из всех файлов в один список. Так мы сможем работать с этими данными как с корпусом текстов."
      ]
    },
    {
      "cell_type": "code",
      "metadata": {
        "id": "mGwgHKTSLuIk"
      },
      "source": [
        "trees = []\n",
        "\n",
        "for file in files:\n",
        "    with open(file) as text_f:\n",
        "        parsed_sents = text_f.read().split('\\n\\n')\n",
        "\n",
        "    for sent in parsed_sents:\n",
        "        # уберем мета информацию\n",
        "        tree = [line for line in sent.split('\\n') if line[0] != '#']\n",
        "        trees.append('\\n'.join(tree))"
      ],
      "execution_count": null,
      "outputs": []
    },
    {
      "cell_type": "code",
      "metadata": {
        "id": "yFq3yGMXNnRq"
      },
      "source": [
        "modifiers = Counter()\n",
        "for tree in trees:\n",
        "    d = DependencyGraph(tree)\n",
        "    d.root = d.nodes[0]\n",
        "    triples = list(d.triples())\n",
        "\n",
        "    for e1, rel, e2 in triples:\n",
        "        if e1[0] == 'писатель' and rel == 'amod':\n",
        "            modifiers[e2[0]] += 1"
      ],
      "execution_count": null,
      "outputs": []
    },
    {
      "cell_type": "code",
      "metadata": {
        "id": "VIQpBjQsNo-w",
        "colab": {
          "base_uri": "https://localhost:8080/"
        },
        "outputId": "027521f2-051d-402d-d95b-643ef50d6668"
      },
      "source": [
        "modifiers"
      ],
      "execution_count": null,
      "outputs": [
        {
          "output_type": "execute_result",
          "data": {
            "text/plain": [
              "Counter({'церковный': 1,\n",
              "         'Замечательный': 1,\n",
              "         'великий': 2,\n",
              "         'Сам': 1,\n",
              "         'умеющий': 1,\n",
              "         'Британский': 1,\n",
              "         'разоблаченный': 1,\n",
              "         'русский': 1,\n",
              "         'наш': 1,\n",
              "         'любимый': 1,\n",
              "         'известный': 1,\n",
              "         'древнегреческий': 1,\n",
              "         'московский': 2,\n",
              "         'изощренный': 1,\n",
              "         'оказавшийся': 1,\n",
              "         'грузинский': 2})"
            ]
          },
          "metadata": {},
          "execution_count": 30
        }
      ]
    },
    {
      "cell_type": "markdown",
      "metadata": {
        "id": "OGJEAToTIvK9"
      },
      "source": [
        "2. **Анализ текстов с помощью зависимостей**\n",
        "\n",
        "Запомним, что теперь у нас есть способ доставать все узлы, и попробуем проанализировать тексты с помощью зависимостей. ="
      ]
    },
    {
      "cell_type": "markdown",
      "metadata": {
        "id": "mV2_VPUjL8Or"
      },
      "source": [
        "Рандомное дерево из получившившегося списка:"
      ]
    },
    {
      "cell_type": "code",
      "metadata": {
        "id": "TjX0PflPLwA0",
        "colab": {
          "base_uri": "https://localhost:8080/",
          "height": 140
        },
        "outputId": "a9a0ac88-2449-486d-888e-8dc8a6cf76a6"
      },
      "source": [
        "trees[80]"
      ],
      "execution_count": null,
      "outputs": [
        {
          "output_type": "execute_result",
          "data": {
            "text/plain": [
              "'1\\tНа\\tна\\tADP\\t_\\t_\\t2\\tcase\\t_\\t_\\n2\\tмогиле\\tмогиль\\tNOUN\\t_\\tAnimacy=Inan|Case=Loc|Gender=Masc|Number=Sing\\t17\\tobl\\t_\\tSpaceAfter=No\\n3\\t,\\t,\\tPUNCT\\t_\\t_\\t2\\tpunct\\t_\\t_\\n4\\tкак\\tкак\\tSCONJ\\t_\\t_\\t2\\tmark\\t_\\t_\\n5\\tмы\\tмы\\tPRON\\t_\\tCase=Nom|Number=Plur|Person=1\\t6\\tnsubj\\t_\\t_\\n6\\tзнаем\\tзнать\\tVERB\\t_\\tAspect=Imp|Mood=Ind|Number=Plur|Person=1|Tense=Pres|VerbForm=Fin|Voice=Act\\t2\\tadvcl\\t_\\tSpaceAfter=No\\n7\\t,\\t,\\tPUNCT\\t_\\t_\\t6\\tpunct\\t_\\t_\\n8\\tединственный\\tединственный\\tADJ\\t_\\tCase=Nom|Degree=Pos|Gender=Masc|Number=Sing\\t9\\tamod\\t_\\t_\\n9\\tчеловек\\tчеловек\\tNOUN\\t_\\tAnimacy=Anim|Case=Nom|Gender=Masc|Number=Sing\\t6\\tnsubj\\t_\\tSpaceAfter=No\\n10\\t,\\t,\\tPUNCT\\t_\\t_\\t9\\tpunct\\t_\\t_\\n11\\tдруг\\tдруг\\tNOUN\\t_\\tAnimacy=Anim|Case=Nom|Gender=Masc|Number=Sing\\t9\\tconj\\t_\\t_\\n12\\tПастернака\\tПастернака\\tPROPN\\t_\\tAnimacy=Anim|Case=Nom|Gender=Masc|Number=Sing\\t11\\tappos\\t_\\t_\\n13\\tВалентин\\tвалентин\\tPROPN\\t_\\tAnimacy=Anim|Case=Nom|Gender=Masc|Number=Sing\\t12\\tflat:name\\t_\\t_\\n14\\tФердинандович\\tФердинандович\\tPROPN\\t_\\tAnimacy=Anim|Case=Nom|Gender=Masc|Number=Sing\\t13\\tappos\\t_\\t_\\n15\\tАсмус\\tАсмус\\tPROPN\\t_\\tAnimacy=Anim|Case=Nom|Gender=Masc|Number=Sing\\t14\\tflat:name\\t_\\tSpaceAfter=No\\n16\\t,\\t,\\tPUNCT\\t_\\t_\\t15\\tpunct\\t_\\t_\\n17\\tпроизнес\\tпроизносить\\tVERB\\t_\\tAspect=Perf|Gender=Masc|Mood=Ind|Number=Sing|Tense=Past|VerbForm=Fin|Voice=Act\\t0\\troot\\t_\\t_\\n18\\tречь\\tречь\\tNOUN\\t_\\tAnimacy=Inan|Case=Acc|Gender=Fem|Number=Sing\\t17\\tobj\\t_\\t_\\n19\\tо\\tо\\tADP\\t_\\t_\\t22\\tcase\\t_\\t_\\n20\\tвеликой\\tвеликий\\tADJ\\t_\\tCase=Loc|Degree=Pos|Gender=Fem|Number=Sing\\t22\\tamod\\t_\\t_\\n21\\tрусской\\tрусский\\tADJ\\t_\\tCase=Loc|Degree=Pos|Gender=Fem|Number=Sing\\t22\\tamod\\t_\\t_\\n22\\tлитературе\\tлитература\\tNOUN\\t_\\tAnimacy=Inan|Case=Loc|Gender=Fem|Number=Sing\\t18\\tnmod\\t_\\tSpaceAfter=No\\n23\\t,\\t,\\tPUNCT\\t_\\t_\\t22\\tpunct\\t_\\t_\\n24\\tк\\tк\\tADP\\t_\\t_\\t25\\tcase\\t_\\t_\\n25\\tкоторой\\tкоторый\\tPRON\\t_\\tCase=Dat\\t27\\tobl\\t_\\t_\\n26\\tпоэт\\tпоэт\\tNOUN\\t_\\tAnimacy=Anim|Case=Nom|Gender=Masc|Number=Sing\\t27\\tnsubj\\t_\\t_\\n27\\tпринадлежал\\tпринадлежать\\tVERB\\t_\\tAspect=Imp|Gender=Masc|Mood=Ind|Number=Sing|Tense=Past|VerbForm=Fin|Voice=Act\\t22\\tacl:relcl\\t_\\t_\\n28\\tи\\tи\\tCCONJ\\t_\\t_\\t29\\tcc\\t_\\t_\\n29\\tпринадлежит\\tпринадлежать\\tVERB\\t_\\tAspect=Imp|Mood=Ind|Number=Sing|Person=3|Tense=Pres|VerbForm=Fin|Voice=Act\\t17\\tconj\\t_\\tSpaceAfter=No\\n30\\t.\\t.\\tPUNCT\\t_\\t_\\t29\\tpunct\\t_\\t_'"
            ],
            "application/vnd.google.colaboratory.intrinsic+json": {
              "type": "string"
            }
          },
          "metadata": {},
          "execution_count": 25
        }
      ]
    },
    {
      "cell_type": "markdown",
      "metadata": {
        "id": "6mF6ooOVMLcg"
      },
      "source": [
        "Пора нарисовать красивый граф для какого-нибудь предложения из этого корпуса.\n",
        "\n",
        "Поскольку это данные, на которых можно обучать модели, они хорошо размечены и тут уже в корне дерева у нас нормальный предикат и разбор получается хороший."
      ]
    },
    {
      "cell_type": "code",
      "metadata": {
        "id": "wo8f-UMuMD7V",
        "colab": {
          "base_uri": "https://localhost:8080/",
          "height": 1000
        },
        "outputId": "fe8d076a-c40c-4774-a34f-e0032e33b1a4"
      },
      "source": [
        "graph_tree_80 = DependencyGraph(trees[80])\n",
        "graph_tree_80"
      ],
      "execution_count": null,
      "outputs": [
        {
          "output_type": "execute_result",
          "data": {
            "text/plain": [
              "<DependencyGraph with 31 nodes>"
            ],
            "image/svg+xml": "<?xml version=\"1.0\" encoding=\"UTF-8\" standalone=\"no\"?>\n<!DOCTYPE svg PUBLIC \"-//W3C//DTD SVG 1.1//EN\"\n \"http://www.w3.org/Graphics/SVG/1.1/DTD/svg11.dtd\">\n<!-- Generated by graphviz version 2.43.0 (0)\n -->\n<!-- Title: G Pages: 1 -->\n<svg width=\"853pt\" height=\"914pt\"\n viewBox=\"0.00 0.00 853.00 914.00\" xmlns=\"http://www.w3.org/2000/svg\" xmlns:xlink=\"http://www.w3.org/1999/xlink\">\n<g id=\"graph0\" class=\"graph\" transform=\"scale(1 1) rotate(0) translate(4 910)\">\n<title>G</title>\n<polygon fill=\"white\" stroke=\"transparent\" points=\"-4,4 -4,-910 849,-910 849,4 -4,4\"/>\n<!-- 0 -->\n<g id=\"node1\" class=\"node\">\n<title>0</title>\n<text text-anchor=\"middle\" x=\"503\" y=\"-884.3\" font-family=\"Times,serif\" font-size=\"14.00\">0 (None)</text>\n</g>\n<!-- 17 -->\n<g id=\"node2\" class=\"node\">\n<title>17</title>\n<text text-anchor=\"middle\" x=\"503\" y=\"-797.3\" font-family=\"Times,serif\" font-size=\"14.00\">17 (произнес)</text>\n</g>\n<!-- 0&#45;&gt;17 -->\n<g id=\"edge1\" class=\"edge\">\n<title>0&#45;&gt;17</title>\n<path fill=\"none\" stroke=\"black\" d=\"M503,-869.8C503,-858.16 503,-842.55 503,-829.24\"/>\n<polygon fill=\"black\" stroke=\"black\" points=\"506.5,-829.18 503,-819.18 499.5,-829.18 506.5,-829.18\"/>\n<text text-anchor=\"middle\" x=\"514\" y=\"-840.8\" font-family=\"Times,serif\" font-size=\"14.00\">root</text>\n</g>\n<!-- 2 -->\n<g id=\"node4\" class=\"node\">\n<title>2</title>\n<text text-anchor=\"middle\" x=\"172\" y=\"-710.3\" font-family=\"Times,serif\" font-size=\"14.00\">2 (могиле)</text>\n</g>\n<!-- 17&#45;&gt;2 -->\n<g id=\"edge17\" class=\"edge\">\n<title>17&#45;&gt;2</title>\n<path fill=\"none\" stroke=\"black\" d=\"M454.16,-787.46C391.64,-771.4 283.94,-743.75 221.23,-727.64\"/>\n<polygon fill=\"black\" stroke=\"black\" points=\"221.75,-724.16 211.19,-725.06 220.01,-730.94 221.75,-724.16\"/>\n<text text-anchor=\"middle\" x=\"367\" y=\"-753.8\" font-family=\"Times,serif\" font-size=\"14.00\">obl</text>\n</g>\n<!-- 18 -->\n<g id=\"node19\" class=\"node\">\n<title>18</title>\n<text text-anchor=\"middle\" x=\"503\" y=\"-710.3\" font-family=\"Times,serif\" font-size=\"14.00\">18 (речь)</text>\n</g>\n<!-- 17&#45;&gt;18 -->\n<g id=\"edge18\" class=\"edge\">\n<title>17&#45;&gt;18</title>\n<path fill=\"none\" stroke=\"black\" d=\"M503,-782.8C503,-771.16 503,-755.55 503,-742.24\"/>\n<polygon fill=\"black\" stroke=\"black\" points=\"506.5,-742.18 503,-732.18 499.5,-742.18 506.5,-742.18\"/>\n<text text-anchor=\"middle\" x=\"512\" y=\"-753.8\" font-family=\"Times,serif\" font-size=\"14.00\">obj</text>\n</g>\n<!-- 29 -->\n<g id=\"node20\" class=\"node\">\n<title>29</title>\n<text text-anchor=\"middle\" x=\"616\" y=\"-710.3\" font-family=\"Times,serif\" font-size=\"14.00\">29 (принадлежит)</text>\n</g>\n<!-- 17&#45;&gt;29 -->\n<g id=\"edge19\" class=\"edge\">\n<title>17&#45;&gt;29</title>\n<path fill=\"none\" stroke=\"black\" d=\"M525.87,-782.8C542.87,-770.01 566.26,-752.42 584.95,-738.36\"/>\n<polygon fill=\"black\" stroke=\"black\" points=\"587.28,-740.98 593.17,-732.18 583.07,-735.39 587.28,-740.98\"/>\n<text text-anchor=\"middle\" x=\"579\" y=\"-753.8\" font-family=\"Times,serif\" font-size=\"14.00\">conj</text>\n</g>\n<!-- 1 -->\n<g id=\"node3\" class=\"node\">\n<title>1</title>\n<text text-anchor=\"middle\" x=\"27\" y=\"-623.3\" font-family=\"Times,serif\" font-size=\"14.00\">1 (На)</text>\n</g>\n<!-- 2&#45;&gt;1 -->\n<g id=\"edge2\" class=\"edge\">\n<title>2&#45;&gt;1</title>\n<path fill=\"none\" stroke=\"black\" d=\"M132.77,-696.34C121.03,-690.92 108.29,-684.59 97,-678 83.27,-669.99 68.86,-659.99 56.7,-651.05\"/>\n<polygon fill=\"black\" stroke=\"black\" points=\"58.79,-648.24 48.69,-645.07 54.61,-653.85 58.79,-648.24\"/>\n<text text-anchor=\"middle\" x=\"109\" y=\"-666.8\" font-family=\"Times,serif\" font-size=\"14.00\">case</text>\n</g>\n<!-- 3 -->\n<g id=\"node5\" class=\"node\">\n<title>3</title>\n<text text-anchor=\"middle\" x=\"99\" y=\"-623.3\" font-family=\"Times,serif\" font-size=\"14.00\">3 (,)</text>\n</g>\n<!-- 2&#45;&gt;3 -->\n<g id=\"edge3\" class=\"edge\">\n<title>2&#45;&gt;3</title>\n<path fill=\"none\" stroke=\"black\" d=\"M153.71,-695.64C148.18,-690.15 142.2,-683.96 137,-678 130.19,-670.2 123.2,-661.3 117.1,-653.19\"/>\n<polygon fill=\"black\" stroke=\"black\" points=\"119.88,-651.07 111.12,-645.11 114.26,-655.23 119.88,-651.07\"/>\n<text text-anchor=\"middle\" x=\"152.5\" y=\"-666.8\" font-family=\"Times,serif\" font-size=\"14.00\">punct</text>\n</g>\n<!-- 4 -->\n<g id=\"node6\" class=\"node\">\n<title>4</title>\n<text text-anchor=\"middle\" x=\"172\" y=\"-623.3\" font-family=\"Times,serif\" font-size=\"14.00\">4 (как)</text>\n</g>\n<!-- 2&#45;&gt;4 -->\n<g id=\"edge4\" class=\"edge\">\n<title>2&#45;&gt;4</title>\n<path fill=\"none\" stroke=\"black\" d=\"M172,-695.8C172,-684.16 172,-668.55 172,-655.24\"/>\n<polygon fill=\"black\" stroke=\"black\" points=\"175.5,-655.18 172,-645.18 168.5,-655.18 175.5,-655.18\"/>\n<text text-anchor=\"middle\" x=\"186.5\" y=\"-666.8\" font-family=\"Times,serif\" font-size=\"14.00\">mark</text>\n</g>\n<!-- 6 -->\n<g id=\"node7\" class=\"node\">\n<title>6</title>\n<text text-anchor=\"middle\" x=\"253\" y=\"-623.3\" font-family=\"Times,serif\" font-size=\"14.00\">6 (знаем)</text>\n</g>\n<!-- 2&#45;&gt;6 -->\n<g id=\"edge5\" class=\"edge\">\n<title>2&#45;&gt;6</title>\n<path fill=\"none\" stroke=\"black\" d=\"M188.39,-695.8C200.25,-683.36 216.44,-666.36 229.65,-652.5\"/>\n<polygon fill=\"black\" stroke=\"black\" points=\"232.27,-654.83 236.63,-645.18 227.2,-650 232.27,-654.83\"/>\n<text text-anchor=\"middle\" x=\"233\" y=\"-666.8\" font-family=\"Times,serif\" font-size=\"14.00\">advcl</text>\n</g>\n<!-- 5 -->\n<g id=\"node8\" class=\"node\">\n<title>5</title>\n<text text-anchor=\"middle\" x=\"123\" y=\"-536.3\" font-family=\"Times,serif\" font-size=\"14.00\">5 (мы)</text>\n</g>\n<!-- 6&#45;&gt;5 -->\n<g id=\"edge6\" class=\"edge\">\n<title>6&#45;&gt;5</title>\n<path fill=\"none\" stroke=\"black\" d=\"M223.86,-608.91C214.56,-603.33 204.28,-597.01 195,-591 181.72,-582.39 167.34,-572.53 154.96,-563.85\"/>\n<polygon fill=\"black\" stroke=\"black\" points=\"156.93,-560.95 146.74,-558.06 152.9,-566.68 156.93,-560.95\"/>\n<text text-anchor=\"middle\" x=\"210\" y=\"-579.8\" font-family=\"Times,serif\" font-size=\"14.00\">nsubj</text>\n</g>\n<!-- 9 -->\n<g id=\"node9\" class=\"node\">\n<title>9</title>\n<text text-anchor=\"middle\" x=\"210\" y=\"-536.3\" font-family=\"Times,serif\" font-size=\"14.00\">9 (человек)</text>\n</g>\n<!-- 6&#45;&gt;9 -->\n<g id=\"edge7\" class=\"edge\">\n<title>6&#45;&gt;9</title>\n<path fill=\"none\" stroke=\"black\" d=\"M244.3,-608.8C238.3,-596.93 230.2,-580.93 223.38,-567.45\"/>\n<polygon fill=\"black\" stroke=\"black\" points=\"226.33,-565.52 218.69,-558.18 220.08,-568.68 226.33,-565.52\"/>\n<text text-anchor=\"middle\" x=\"250\" y=\"-579.8\" font-family=\"Times,serif\" font-size=\"14.00\">nsubj</text>\n</g>\n<!-- 7 -->\n<g id=\"node10\" class=\"node\">\n<title>7</title>\n<text text-anchor=\"middle\" x=\"296\" y=\"-536.3\" font-family=\"Times,serif\" font-size=\"14.00\">7 (,)</text>\n</g>\n<!-- 6&#45;&gt;7 -->\n<g id=\"edge8\" class=\"edge\">\n<title>6&#45;&gt;7</title>\n<path fill=\"none\" stroke=\"black\" d=\"M261.7,-608.8C267.7,-596.93 275.8,-580.93 282.62,-567.45\"/>\n<polygon fill=\"black\" stroke=\"black\" points=\"285.92,-568.68 287.31,-558.18 279.67,-565.52 285.92,-568.68\"/>\n<text text-anchor=\"middle\" x=\"293.5\" y=\"-579.8\" font-family=\"Times,serif\" font-size=\"14.00\">punct</text>\n</g>\n<!-- 8 -->\n<g id=\"node11\" class=\"node\">\n<title>8</title>\n<text text-anchor=\"middle\" x=\"104\" y=\"-449.3\" font-family=\"Times,serif\" font-size=\"14.00\">8 (единственный)</text>\n</g>\n<!-- 9&#45;&gt;8 -->\n<g id=\"edge9\" class=\"edge\">\n<title>9&#45;&gt;8</title>\n<path fill=\"none\" stroke=\"black\" d=\"M188.55,-521.8C172.74,-509.13 151.06,-491.73 133.6,-477.74\"/>\n<polygon fill=\"black\" stroke=\"black\" points=\"135.41,-474.7 125.42,-471.18 131.03,-480.16 135.41,-474.7\"/>\n<text text-anchor=\"middle\" x=\"179.5\" y=\"-492.8\" font-family=\"Times,serif\" font-size=\"14.00\">amod</text>\n</g>\n<!-- 10 -->\n<g id=\"node12\" class=\"node\">\n<title>10</title>\n<text text-anchor=\"middle\" x=\"210\" y=\"-449.3\" font-family=\"Times,serif\" font-size=\"14.00\">10 (,)</text>\n</g>\n<!-- 9&#45;&gt;10 -->\n<g id=\"edge10\" class=\"edge\">\n<title>9&#45;&gt;10</title>\n<path fill=\"none\" stroke=\"black\" d=\"M210,-521.8C210,-510.16 210,-494.55 210,-481.24\"/>\n<polygon fill=\"black\" stroke=\"black\" points=\"213.5,-481.18 210,-471.18 206.5,-481.18 213.5,-481.18\"/>\n<text text-anchor=\"middle\" x=\"225.5\" y=\"-492.8\" font-family=\"Times,serif\" font-size=\"14.00\">punct</text>\n</g>\n<!-- 11 -->\n<g id=\"node13\" class=\"node\">\n<title>11</title>\n<text text-anchor=\"middle\" x=\"290\" y=\"-449.3\" font-family=\"Times,serif\" font-size=\"14.00\">11 (друг)</text>\n</g>\n<!-- 9&#45;&gt;11 -->\n<g id=\"edge11\" class=\"edge\">\n<title>9&#45;&gt;11</title>\n<path fill=\"none\" stroke=\"black\" d=\"M227.63,-521.73C233.24,-516.14 239.44,-509.86 245,-504 252.6,-495.99 260.72,-487.09 267.94,-479.03\"/>\n<polygon fill=\"black\" stroke=\"black\" points=\"270.76,-481.12 274.81,-471.33 265.54,-476.46 270.76,-481.12\"/>\n<text text-anchor=\"middle\" x=\"271\" y=\"-492.8\" font-family=\"Times,serif\" font-size=\"14.00\">conj</text>\n</g>\n<!-- 12 -->\n<g id=\"node14\" class=\"node\">\n<title>12</title>\n<text text-anchor=\"middle\" x=\"290\" y=\"-362.3\" font-family=\"Times,serif\" font-size=\"14.00\">12 (Пастернака)</text>\n</g>\n<!-- 11&#45;&gt;12 -->\n<g id=\"edge12\" class=\"edge\">\n<title>11&#45;&gt;12</title>\n<path fill=\"none\" stroke=\"black\" d=\"M290,-434.8C290,-423.16 290,-407.55 290,-394.24\"/>\n<polygon fill=\"black\" stroke=\"black\" points=\"293.5,-394.18 290,-384.18 286.5,-394.18 293.5,-394.18\"/>\n<text text-anchor=\"middle\" x=\"306\" y=\"-405.8\" font-family=\"Times,serif\" font-size=\"14.00\">appos</text>\n</g>\n<!-- 13 -->\n<g id=\"node15\" class=\"node\">\n<title>13</title>\n<text text-anchor=\"middle\" x=\"290\" y=\"-275.3\" font-family=\"Times,serif\" font-size=\"14.00\">13 (Валентин)</text>\n</g>\n<!-- 12&#45;&gt;13 -->\n<g id=\"edge13\" class=\"edge\">\n<title>12&#45;&gt;13</title>\n<path fill=\"none\" stroke=\"black\" d=\"M290,-347.8C290,-336.16 290,-320.55 290,-307.24\"/>\n<polygon fill=\"black\" stroke=\"black\" points=\"293.5,-307.18 290,-297.18 286.5,-307.18 293.5,-307.18\"/>\n<text text-anchor=\"middle\" x=\"316\" y=\"-318.8\" font-family=\"Times,serif\" font-size=\"14.00\">flat:name</text>\n</g>\n<!-- 14 -->\n<g id=\"node16\" class=\"node\">\n<title>14</title>\n<text text-anchor=\"middle\" x=\"290\" y=\"-188.3\" font-family=\"Times,serif\" font-size=\"14.00\">14 (Фердинандович)</text>\n</g>\n<!-- 13&#45;&gt;14 -->\n<g id=\"edge14\" class=\"edge\">\n<title>13&#45;&gt;14</title>\n<path fill=\"none\" stroke=\"black\" d=\"M290,-260.8C290,-249.16 290,-233.55 290,-220.24\"/>\n<polygon fill=\"black\" stroke=\"black\" points=\"293.5,-220.18 290,-210.18 286.5,-220.18 293.5,-220.18\"/>\n<text text-anchor=\"middle\" x=\"306\" y=\"-231.8\" font-family=\"Times,serif\" font-size=\"14.00\">appos</text>\n</g>\n<!-- 15 -->\n<g id=\"node17\" class=\"node\">\n<title>15</title>\n<text text-anchor=\"middle\" x=\"290\" y=\"-101.3\" font-family=\"Times,serif\" font-size=\"14.00\">15 (Асмус)</text>\n</g>\n<!-- 14&#45;&gt;15 -->\n<g id=\"edge15\" class=\"edge\">\n<title>14&#45;&gt;15</title>\n<path fill=\"none\" stroke=\"black\" d=\"M290,-173.8C290,-162.16 290,-146.55 290,-133.24\"/>\n<polygon fill=\"black\" stroke=\"black\" points=\"293.5,-133.18 290,-123.18 286.5,-133.18 293.5,-133.18\"/>\n<text text-anchor=\"middle\" x=\"316\" y=\"-144.8\" font-family=\"Times,serif\" font-size=\"14.00\">flat:name</text>\n</g>\n<!-- 16 -->\n<g id=\"node18\" class=\"node\">\n<title>16</title>\n<text text-anchor=\"middle\" x=\"290\" y=\"-14.3\" font-family=\"Times,serif\" font-size=\"14.00\">16 (,)</text>\n</g>\n<!-- 15&#45;&gt;16 -->\n<g id=\"edge16\" class=\"edge\">\n<title>15&#45;&gt;16</title>\n<path fill=\"none\" stroke=\"black\" d=\"M290,-86.8C290,-75.16 290,-59.55 290,-46.24\"/>\n<polygon fill=\"black\" stroke=\"black\" points=\"293.5,-46.18 290,-36.18 286.5,-46.18 293.5,-46.18\"/>\n<text text-anchor=\"middle\" x=\"305.5\" y=\"-57.8\" font-family=\"Times,serif\" font-size=\"14.00\">punct</text>\n</g>\n<!-- 22 -->\n<g id=\"node21\" class=\"node\">\n<title>22</title>\n<text text-anchor=\"middle\" x=\"512\" y=\"-623.3\" font-family=\"Times,serif\" font-size=\"14.00\">22 (литературе)</text>\n</g>\n<!-- 18&#45;&gt;22 -->\n<g id=\"edge20\" class=\"edge\">\n<title>18&#45;&gt;22</title>\n<path fill=\"none\" stroke=\"black\" d=\"M504.82,-695.8C506.05,-684.16 507.71,-668.55 509.12,-655.24\"/>\n<polygon fill=\"black\" stroke=\"black\" points=\"512.61,-655.49 510.18,-645.18 505.65,-654.75 512.61,-655.49\"/>\n<text text-anchor=\"middle\" x=\"525\" y=\"-666.8\" font-family=\"Times,serif\" font-size=\"14.00\">nmod</text>\n</g>\n<!-- 28 -->\n<g id=\"node30\" class=\"node\">\n<title>28</title>\n<text text-anchor=\"middle\" x=\"614\" y=\"-623.3\" font-family=\"Times,serif\" font-size=\"14.00\">28 (и)</text>\n</g>\n<!-- 29&#45;&gt;28 -->\n<g id=\"edge29\" class=\"edge\">\n<title>29&#45;&gt;28</title>\n<path fill=\"none\" stroke=\"black\" d=\"M615.6,-695.8C615.32,-684.16 614.95,-668.55 614.64,-655.24\"/>\n<polygon fill=\"black\" stroke=\"black\" points=\"618.14,-655.09 614.4,-645.18 611.14,-655.26 618.14,-655.09\"/>\n<text text-anchor=\"middle\" x=\"622.5\" y=\"-666.8\" font-family=\"Times,serif\" font-size=\"14.00\">cc</text>\n</g>\n<!-- 30 -->\n<g id=\"node31\" class=\"node\">\n<title>30</title>\n<text text-anchor=\"middle\" x=\"686\" y=\"-623.3\" font-family=\"Times,serif\" font-size=\"14.00\">30 (.)</text>\n</g>\n<!-- 29&#45;&gt;30 -->\n<g id=\"edge30\" class=\"edge\">\n<title>29&#45;&gt;30</title>\n<path fill=\"none\" stroke=\"black\" d=\"M630.17,-695.8C640.22,-683.59 653.89,-666.99 665.18,-653.28\"/>\n<polygon fill=\"black\" stroke=\"black\" points=\"668.2,-655.12 671.86,-645.18 662.8,-650.67 668.2,-655.12\"/>\n<text text-anchor=\"middle\" x=\"670.5\" y=\"-666.8\" font-family=\"Times,serif\" font-size=\"14.00\">punct</text>\n</g>\n<!-- 19 -->\n<g id=\"node22\" class=\"node\">\n<title>19</title>\n<text text-anchor=\"middle\" x=\"368\" y=\"-536.3\" font-family=\"Times,serif\" font-size=\"14.00\">19 (о)</text>\n</g>\n<!-- 22&#45;&gt;19 -->\n<g id=\"edge21\" class=\"edge\">\n<title>22&#45;&gt;19</title>\n<path fill=\"none\" stroke=\"black\" d=\"M482.86,-608.8C460.02,-595.32 428.14,-576.5 403.76,-562.11\"/>\n<polygon fill=\"black\" stroke=\"black\" points=\"405.54,-559.09 395.15,-557.03 401.98,-565.12 405.54,-559.09\"/>\n<text text-anchor=\"middle\" x=\"461\" y=\"-579.8\" font-family=\"Times,serif\" font-size=\"14.00\">case</text>\n</g>\n<!-- 20 -->\n<g id=\"node23\" class=\"node\">\n<title>20</title>\n<text text-anchor=\"middle\" x=\"458\" y=\"-536.3\" font-family=\"Times,serif\" font-size=\"14.00\">20 (великой)</text>\n</g>\n<!-- 22&#45;&gt;20 -->\n<g id=\"edge22\" class=\"edge\">\n<title>22&#45;&gt;20</title>\n<path fill=\"none\" stroke=\"black\" d=\"M501.07,-608.8C493.39,-596.7 482.97,-580.3 474.31,-566.67\"/>\n<polygon fill=\"black\" stroke=\"black\" points=\"477.23,-564.74 468.91,-558.18 471.32,-568.49 477.23,-564.74\"/>\n<text text-anchor=\"middle\" x=\"504.5\" y=\"-579.8\" font-family=\"Times,serif\" font-size=\"14.00\">amod</text>\n</g>\n<!-- 21 -->\n<g id=\"node24\" class=\"node\">\n<title>21</title>\n<text text-anchor=\"middle\" x=\"566\" y=\"-536.3\" font-family=\"Times,serif\" font-size=\"14.00\">21 (русской)</text>\n</g>\n<!-- 22&#45;&gt;21 -->\n<g id=\"edge23\" class=\"edge\">\n<title>22&#45;&gt;21</title>\n<path fill=\"none\" stroke=\"black\" d=\"M522.93,-608.8C530.61,-596.7 541.03,-580.3 549.69,-566.67\"/>\n<polygon fill=\"black\" stroke=\"black\" points=\"552.68,-568.49 555.09,-558.18 546.77,-564.74 552.68,-568.49\"/>\n<text text-anchor=\"middle\" x=\"558.5\" y=\"-579.8\" font-family=\"Times,serif\" font-size=\"14.00\">amod</text>\n</g>\n<!-- 23 -->\n<g id=\"node25\" class=\"node\">\n<title>23</title>\n<text text-anchor=\"middle\" x=\"656\" y=\"-536.3\" font-family=\"Times,serif\" font-size=\"14.00\">23 (,)</text>\n</g>\n<!-- 22&#45;&gt;23 -->\n<g id=\"edge24\" class=\"edge\">\n<title>22&#45;&gt;23</title>\n<path fill=\"none\" stroke=\"black\" d=\"M545.53,-608.9C556.03,-603.37 567.59,-597.09 578,-591 592.58,-582.48 608.32,-572.54 621.82,-563.77\"/>\n<polygon fill=\"black\" stroke=\"black\" points=\"623.88,-566.61 630.33,-558.21 620.05,-560.75 623.88,-566.61\"/>\n<text text-anchor=\"middle\" x=\"617.5\" y=\"-579.8\" font-family=\"Times,serif\" font-size=\"14.00\">punct</text>\n</g>\n<!-- 27 -->\n<g id=\"node26\" class=\"node\">\n<title>27</title>\n<text text-anchor=\"middle\" x=\"761\" y=\"-536.3\" font-family=\"Times,serif\" font-size=\"14.00\">27 (принадлежал)</text>\n</g>\n<!-- 22&#45;&gt;27 -->\n<g id=\"edge25\" class=\"edge\">\n<title>22&#45;&gt;27</title>\n<path fill=\"none\" stroke=\"black\" d=\"M565.62,-612.38C587.87,-606.37 613.85,-598.88 637,-591 662.19,-582.42 689.68,-571.5 712.36,-562.06\"/>\n<polygon fill=\"black\" stroke=\"black\" points=\"713.9,-565.21 721.77,-558.11 711.19,-558.75 713.9,-565.21\"/>\n<text text-anchor=\"middle\" x=\"696\" y=\"-579.8\" font-family=\"Times,serif\" font-size=\"14.00\">acl:relcl</text>\n</g>\n<!-- 25 -->\n<g id=\"node28\" class=\"node\">\n<title>25</title>\n<text text-anchor=\"middle\" x=\"712\" y=\"-449.3\" font-family=\"Times,serif\" font-size=\"14.00\">25 (которой)</text>\n</g>\n<!-- 27&#45;&gt;25 -->\n<g id=\"edge27\" class=\"edge\">\n<title>27&#45;&gt;25</title>\n<path fill=\"none\" stroke=\"black\" d=\"M751.08,-521.8C744.18,-509.82 734.84,-493.62 727.02,-480.06\"/>\n<polygon fill=\"black\" stroke=\"black\" points=\"729.93,-478.09 721.9,-471.18 723.86,-481.59 729.93,-478.09\"/>\n<text text-anchor=\"middle\" x=\"748\" y=\"-492.8\" font-family=\"Times,serif\" font-size=\"14.00\">obl</text>\n</g>\n<!-- 26 -->\n<g id=\"node29\" class=\"node\">\n<title>26</title>\n<text text-anchor=\"middle\" x=\"810\" y=\"-449.3\" font-family=\"Times,serif\" font-size=\"14.00\">26 (поэт)</text>\n</g>\n<!-- 27&#45;&gt;26 -->\n<g id=\"edge28\" class=\"edge\">\n<title>27&#45;&gt;26</title>\n<path fill=\"none\" stroke=\"black\" d=\"M770.92,-521.8C777.82,-509.82 787.16,-493.62 794.98,-480.06\"/>\n<polygon fill=\"black\" stroke=\"black\" points=\"798.14,-481.59 800.1,-471.18 792.07,-478.09 798.14,-481.59\"/>\n<text text-anchor=\"middle\" x=\"803\" y=\"-492.8\" font-family=\"Times,serif\" font-size=\"14.00\">nsubj</text>\n</g>\n<!-- 24 -->\n<g id=\"node27\" class=\"node\">\n<title>24</title>\n<text text-anchor=\"middle\" x=\"712\" y=\"-362.3\" font-family=\"Times,serif\" font-size=\"14.00\">24 (к)</text>\n</g>\n<!-- 25&#45;&gt;24 -->\n<g id=\"edge26\" class=\"edge\">\n<title>25&#45;&gt;24</title>\n<path fill=\"none\" stroke=\"black\" d=\"M712,-434.8C712,-423.16 712,-407.55 712,-394.24\"/>\n<polygon fill=\"black\" stroke=\"black\" points=\"715.5,-394.18 712,-384.18 708.5,-394.18 715.5,-394.18\"/>\n<text text-anchor=\"middle\" x=\"724\" y=\"-405.8\" font-family=\"Times,serif\" font-size=\"14.00\">case</text>\n</g>\n</g>\n</svg>\n"
          },
          "metadata": {},
          "execution_count": 26
        }
      ]
    },
    {
      "cell_type": "markdown",
      "metadata": {
        "id": "Dwi3WDbdNUpn"
      },
      "source": [
        "Вспомним наш прекрасный метод доставания узлов:"
      ]
    },
    {
      "cell_type": "code",
      "metadata": {
        "id": "2oqR8cHtNTUA",
        "colab": {
          "base_uri": "https://localhost:8080/"
        },
        "outputId": "1995ebb4-5389-45fb-eb4d-1c1df1eb3286"
      },
      "source": [
        "graph_tree_80.root = graph_tree_80.nodes[0]  # чтобы метод сработал нужно установить корневой элемент\n",
        "list(graph_tree_80.triples())"
      ],
      "execution_count": null,
      "outputs": [
        {
          "output_type": "execute_result",
          "data": {
            "text/plain": [
              "[((None, 'TOP'), 'root', ('произнес', 'VERB')),\n",
              " (('произнес', 'VERB'), 'obl', ('могиле', 'NOUN')),\n",
              " (('могиле', 'NOUN'), 'case', ('На', 'ADP')),\n",
              " (('могиле', 'NOUN'), 'punct', (',', 'PUNCT')),\n",
              " (('могиле', 'NOUN'), 'mark', ('как', 'SCONJ')),\n",
              " (('могиле', 'NOUN'), 'advcl', ('знаем', 'VERB')),\n",
              " (('знаем', 'VERB'), 'nsubj', ('мы', 'PRON')),\n",
              " (('знаем', 'VERB'), 'punct', (',', 'PUNCT')),\n",
              " (('знаем', 'VERB'), 'nsubj', ('человек', 'NOUN')),\n",
              " (('человек', 'NOUN'), 'amod', ('единственный', 'ADJ')),\n",
              " (('человек', 'NOUN'), 'punct', (',', 'PUNCT')),\n",
              " (('человек', 'NOUN'), 'conj', ('друг', 'NOUN')),\n",
              " (('друг', 'NOUN'), 'appos', ('Пастернака', 'PROPN')),\n",
              " (('Пастернака', 'PROPN'), 'flat:name', ('Валентин', 'PROPN')),\n",
              " (('Валентин', 'PROPN'), 'appos', ('Фердинандович', 'PROPN')),\n",
              " (('Фердинандович', 'PROPN'), 'flat:name', ('Асмус', 'PROPN')),\n",
              " (('Асмус', 'PROPN'), 'punct', (',', 'PUNCT')),\n",
              " (('произнес', 'VERB'), 'obj', ('речь', 'NOUN')),\n",
              " (('речь', 'NOUN'), 'nmod', ('литературе', 'NOUN')),\n",
              " (('литературе', 'NOUN'), 'case', ('о', 'ADP')),\n",
              " (('литературе', 'NOUN'), 'amod', ('великой', 'ADJ')),\n",
              " (('литературе', 'NOUN'), 'amod', ('русской', 'ADJ')),\n",
              " (('литературе', 'NOUN'), 'punct', (',', 'PUNCT')),\n",
              " (('литературе', 'NOUN'), 'acl:relcl', ('принадлежал', 'VERB')),\n",
              " (('принадлежал', 'VERB'), 'obl', ('которой', 'PRON')),\n",
              " (('которой', 'PRON'), 'case', ('к', 'ADP')),\n",
              " (('принадлежал', 'VERB'), 'nsubj', ('поэт', 'NOUN')),\n",
              " (('произнес', 'VERB'), 'conj', ('принадлежит', 'VERB')),\n",
              " (('принадлежит', 'VERB'), 'cc', ('и', 'CCONJ')),\n",
              " (('принадлежит', 'VERB'), 'punct', ('.', 'PUNCT'))]"
            ]
          },
          "metadata": {},
          "execution_count": 28
        }
      ]
    },
    {
      "cell_type": "markdown",
      "metadata": {
        "id": "Qm0TgTG0Or6u"
      },
      "source": [
        "Какие вообще отношения в Universal Dependencies маркируются для русского языка?\n",
        "\n",
        "https://universaldependencies.org/ru/index.html"
      ]
    },
    {
      "cell_type": "markdown",
      "source": [
        "**Какие еще вопросы можно решать с помощью UDPipe?**\n",
        "\n",
        "+ Достать какую-нибудь составляющую. Например, достать из всех предложений вашего корпуса именные группы.\n",
        "+ Достать самые короткие пути (пути по графу зависимостей), соединяющие между собой какие-нибудь фразы.\n",
        "+ Искать предложения или конструкции, похожие между собой по структуре.\n",
        "+ и т.д."
      ],
      "metadata": {
        "id": "Xwfty4Fjle0w"
      }
    },
    {
      "cell_type": "markdown",
      "metadata": {
        "id": "5Yp6OaI_KLjj"
      },
      "source": [
        "**Задание**:\n",
        "\n",
        "\n",
        "1. Дадим SpaCy на разбор предложение с синтаксической неоднозначностью. Какой анализ предлагает SpaCy?\n",
        "    + *John saw the man on the mountain with a telescope.*\n",
        "    + *I'm glad I'm a man, and so is Lola.*\n",
        "    + больше примеров: https://en.wikipedia.org/wiki/Syntactic_ambiguity\n",
        "\n",
        "2. Дадим примеры на острова (приведены ниже с традиционной оценкой их приемлемости). Какой анализ предлагает SpaCy?\n",
        "    - *What<sub>i</sub> does Sarah believe that Susan thinks that John bought \\_<sub>i</sub>?*\n",
        "    + Complex NPs\n",
        "      - _<sup>\\*</sup>Who<sub>i</sub> did Mary see the report that was about _<sub>i</sub>?_<br>(cf. *Mary saw the report that was about the senator.*)\n",
        "      - _<sup>?*</sup>Which sportscar<sub>i</sub> did the color of _<sub>i</sub> delight the baseball player?_<br>(cf. *The color of the sportscar delighted the baseball player.*)\n",
        "\n",
        "    + Complements of manner-of-speaking verbs\n",
        "       - _<sup>??</sup>What<sub>i</sub> did Mary whisper that Bill liked _<sub>i</sub>?_<br>(cf. *Mary whispered that Bill liked wine.*)\n",
        "\n",
        "    + Complex NPs (both noun complements and relative clauses)\n",
        "        - _<sup>*</sup>The senator who<sub>i</sub> Mary saw the report that was about _<sub>i</sub> bothered many people on the committee._\n",
        "\n",
        "    + Subject islands\n",
        "        - _<sup>?*</sup>The sportscar which<sub>i</sub> the color of _<sub>i</sub> delighted the baseball player…_\n",
        "\n",
        "    + Complements of manner-of-speaking verbs\n",
        "        - _<sup>?</sup>The wine which<sub>i</sub> Mary whispered that Bill liked _<sub>i</sub> was a Cabernet._\n",
        "\n",
        "3. Справляется ли SpaCy с эллипсисом:\n",
        "    + *John can [play the guitar]<sub>i</sub>, and Mary can _<sub>i</sub>, too.*\n",
        "4. Достанем все именные группы для слов с тегом `nsubj` при помощи UDPipe, т.е. достанем все именные группы в именительном падеже\n",
        "\n"
      ]
    },
    {
      "cell_type": "code",
      "source": [],
      "metadata": {
        "id": "vtGb0BNusZHk"
      },
      "execution_count": null,
      "outputs": []
    }
  ],
  "metadata": {
    "kernelspec": {
      "display_name": "Python 3",
      "language": "python",
      "name": "python3"
    },
    "language_info": {
      "codemirror_mode": {
        "name": "ipython",
        "version": 3
      },
      "file_extension": ".py",
      "mimetype": "text/x-python",
      "name": "python",
      "nbconvert_exporter": "python",
      "pygments_lexer": "ipython3",
      "version": "3.8.5"
    },
    "colab": {
      "provenance": []
    }
  },
  "nbformat": 4,
  "nbformat_minor": 0
}