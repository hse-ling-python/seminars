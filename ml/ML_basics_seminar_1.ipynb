{
 "cells": [
  {
   "cell_type": "markdown",
   "metadata": {
    "id": "oBEZ8tTbnwkX"
   },
   "source": [
    "# Что такое машинное обучение"
   ]
  },
  {
   "cell_type": "markdown",
   "metadata": {
    "id": "dgso0I46n0sM"
   },
   "source": [
    "1. Термины **машинное обучение** и **искусственный интеллект** — где вы их встречали? Как вы их понимаете?\n",
    "\n",
    "  1.1. Машинное обучение — ...\n",
    "\n",
    "  1.2. Искусственный интеллект — ...\n",
    "\n",
    "2. Мы сталкиваемся с ними в современной жизни каждый день — приведите примеры.\n",
    "\n",
    "  2.1. ...\n",
    "  \n",
    "  2.2. ..."
   ]
  },
  {
   "cell_type": "markdown",
   "metadata": {
    "id": "YCKxXxMOpi0Z"
   },
   "source": [
    "# Выводы из данных"
   ]
  },
  {
   "cell_type": "markdown",
   "metadata": {
    "id": "-ChWM4EJr-8f"
   },
   "source": [
    "## Определяем категорию"
   ]
  },
  {
   "cell_type": "markdown",
   "metadata": {
    "id": "976-f8V4ogUH"
   },
   "source": [
    "Представим, что у нас есть записи, каким пациентам помогло лекарство, а каким — нет (1 в колонке result значит \"помогло\", 0 — \"не помогло\"):\n",
    "\n",
    "|id | gender | age | temp | pressure | result |\n",
    "|---|--------|-----|------|----------|--------|\n",
    "|1  | M      | 20  | 37.2 | 120, 80  | 1      |\n",
    "|2  | M      | 57  | 39   | 150, 100 | 0      |\n",
    "|3  | F      | 18  | 37.5 | 90, 60   | 1      |\n",
    "|4  | F      | 70  | 38.2 | 135, 95  | 0      |"
   ]
  },
  {
   "cell_type": "markdown",
   "metadata": {
    "id": "m0ti_EDHpnDN"
   },
   "source": [
    "1. Какие выводы можно сделать из этих данных?\n",
    "2. Что ещё нам хотелось бы знать? (Каких данных не хватает?)"
   ]
  },
  {
   "cell_type": "markdown",
   "metadata": {
    "id": "brpkCWkJqEph"
   },
   "source": [
    "В больницу поступает пациент: мужчина, 32 года, температура 37.3, давление 140/90. Стоит ли дать ему это лекарство?\n",
    "\n",
    "А если женщина, 20 лет, температура 39, давление 150/100?"
   ]
  },
  {
   "cell_type": "markdown",
   "metadata": {
    "id": "Y8N6pcFgp21b"
   },
   "source": [
    "Допустим, после дальнейших испытаний лекарства мы дополнили таблицу так:\n",
    "\n",
    "|id | gender | age | temp | pressure | result |\n",
    "|---|--------|-----|------|----------|--------|\n",
    "|1  | M      | 20  | 37.2 | 120, 80  | 1      |\n",
    "|2  | M      | 57  | 39   | 150, 100 | 0      |\n",
    "|3  | F      | 18  | 37.5 | 90, 60   | 1      |\n",
    "|4  | F      | 70  | 38.2 | 135, 95  | 0      |\n",
    "|5  | .      | ..  | .... | .......  | .      |\n",
    "|6  | .      | ..  | .... | ........ | .      |"
   ]
  },
  {
   "cell_type": "markdown",
   "metadata": {
    "id": "N3wbEQHIqi77"
   },
   "source": [
    "Изменится ли теперь ваше решение относительно двух пациентов выше?"
   ]
  },
  {
   "cell_type": "markdown",
   "metadata": {
    "id": "B5yDAD5eqzWb"
   },
   "source": [
    "Фактически, машинное обучение — придумывание **алгоритма**, который делает \"выводы\" из имеющихся данных. Например, можем представить себе дерево условий:\n",
    "\n",
    "```\n",
    "if gender == \"M\":\n",
    "    if age >= age_border:\n",
    "        if temp >= temp_border:\n",
    "         ...\n",
    "    else:\n",
    "        ...\n",
    "else:\n",
    "    ...\n",
    "```"
   ]
  },
  {
   "cell_type": "markdown",
   "metadata": {
    "id": "mPaFzc-v0Tpg"
   },
   "source": [
    "Другой подход: можем оценить **вклад каждого параметра** (пол, возраст, температура, давление) в результат (эффективность лекарства).\n",
    "\n",
    "Если у нас очень много данных, мы можем подобрать такие **численные коэффициенты**, что взвешенная сумма параметров будет давать результат. Например, представим, что пол у нас определяется двумя параметрами: `is_male` (0, 1) и `is_female` (0, 1), а давление разобьем на `sys_pressure` (systolic pressure) и `dia_pressure` (diastolic pressure). Тогда:\n",
    "\n",
    "$effectiveness = w_1 \\cdot male + w_2 \\cdot female + w_3 \\cdot age + w_4 \\cdot temp + w_5 \\cdot sys + w_6 \\cdot dia$\n",
    "\n",
    "Далее мы можем, например, задать границы: если `effectiveness` получилось меньше, чем N, то лекарство скорее всего не поможет, а если больше или равно, то поможет"
   ]
  },
  {
   "cell_type": "markdown",
   "metadata": {},
   "source": [
    "Обучение модели: \n",
    "    \n",
    "![training](perceptron.gif \"segment\")"
   ]
  },
  {
   "cell_type": "markdown",
   "metadata": {
    "id": "L86wbtw0sOz7"
   },
   "source": [
    "## Как оценить качество?"
   ]
  },
  {
   "cell_type": "markdown",
   "metadata": {
    "id": "lauSLthOsQyz"
   },
   "source": [
    "Ваши идеи?"
   ]
  },
  {
   "cell_type": "markdown",
   "metadata": {},
   "source": [
    "| |Answer: 1 | Answer: 0 |\n",
    "|---|--------|-----|\n",
    "|Model: 1  | TP    | FP  | \n",
    "|Model: 0  |FN      | TN | \n"
   ]
  },
  {
   "cell_type": "markdown",
   "metadata": {},
   "source": [
    "$accuracy = \\frac{TP+TN}{TP+TN+FN+FP}$\n",
    "\n",
    "$precision = \\frac{TP}{TP+FP}$\n",
    "\n",
    "$recall = \\frac{TP}{TP+FN}$"
   ]
  },
  {
   "cell_type": "markdown",
   "metadata": {
    "id": "Y0-hwbfKsTcB"
   },
   "source": [
    "## Находим число"
   ]
  },
  {
   "cell_type": "markdown",
   "metadata": {
    "id": "IxWW4Qs7sXyN"
   },
   "source": [
    "Например, цену квартиры. Мы знаем параметры: какая площадь, какой район, год постройки, количество магазинов рядом, количество школ... (что-нибудь еще?)\n",
    "\n",
    "Некоторые квартиры стоят 3 млн, некоторые — 20 млн, некоторые — 200 млн. Мы уже знаем, что мы можем определять это значение **формулой**, зависящей от параметров и их степени важности.\n",
    "\n",
    "Чем это отличается от предыдущей задачи?"
   ]
  },
  {
   "cell_type": "markdown",
   "metadata": {
    "id": "MVtEOw_Ks6DU"
   },
   "source": [
    "## Оценка качества"
   ]
  },
  {
   "cell_type": "markdown",
   "metadata": {
    "id": "05rsFiRBs8cq"
   },
   "source": [
    "Будем использовать тот же метод или другой?"
   ]
  },
  {
   "cell_type": "markdown",
   "metadata": {},
   "source": [
    "$$MSE = \\frac{1}{n} \\sum_{i=1}^{n}(y_i-\\hat{y}_i)^2$$\n",
    "\n",
    "$$MAE = \\frac{1}{n} \\sum_{i=1}^{n}|y_i-\\hat{y}_i|$$"
   ]
  },
  {
   "attachments": {
    "image.png": {
     "image/png": "[encoded data removed]"
    }
   },
   "cell_type": "markdown",
   "metadata": {},
   "source": [
    "![image.png](attachment:image.png)\n",
    "\n",
    "Image from https://www.ml-science.com/mean-squared-error"
   ]
  },
  {
   "cell_type": "markdown",
   "metadata": {
    "id": "9x38Jdess_ph"
   },
   "source": [
    "# Задачи машинного обучения"
   ]
  },
  {
   "cell_type": "markdown",
   "metadata": {
    "id": "Z9Z3X7zotBv5"
   },
   "source": [
    "Глобально, очень верхнеуровнево, можно разделить все задачи машинного обучения на две катгории: **классификация** и **регрессия**.\n",
    "\n",
    "**Классификация** — определение, к какому классу принадлежит каждый объект. Количество классов *фиксированно*, а сами они *дискретны*. (Наш пример с лекарством)\n",
    "\n",
    "**Регрессия** — определение, какому числу соответствует объект. Теоретически область значений *неограничена*, значения *непрерывны*. (Наш пример с ценой квартиры)"
   ]
  },
  {
   "cell_type": "markdown",
   "metadata": {
    "id": "s32Z1EtMyGcw"
   },
   "source": [
    "**Что из этого классификация, а что — регрессия?**\n",
    "\n",
    "1. Предсказание оценки фильма на IMDB / Кинопоиске\n",
    "2. Определение, кто изображен на фото: кошка или собака\n",
    "3. Определение, есть ли кошка на фото\n",
    "4. Предсказание объема продаж продукции\n",
    "5. Оценка возраста человека по фотографии\n",
    "\n",
    "**Немного сложнее:**\n",
    "\n",
    "1. Оценка кредитоспособности клиента банка\n",
    "2. Рекомендация музыки/видео на основе просмотренных\n",
    "3. Оценка письменной части IELTS/ЕГЭ по английскому\n",
    "\n",
    "**И наконец — лингвистические модели:**\n",
    "1. Sentiment analysis\n",
    "2. Разметка частей речи\n",
    "3. Синтаксическая разметка\n",
    "4. Генерация текста\n"
   ]
  },
  {
   "cell_type": "code",
   "execution_count": null,
   "metadata": {
    "id": "qffq4BVynyer"
   },
   "outputs": [],
   "source": []
  }
 ],
 "metadata": {
  "colab": {
   "provenance": []
  },
  "kernelspec": {
   "display_name": "Python 3 (ipykernel)",
   "language": "python",
   "name": "python3"
  },
  "language_info": {
   "codemirror_mode": {
    "name": "ipython",
    "version": 3
   },
   "file_extension": ".py",
   "mimetype": "text/x-python",
   "name": "python",
   "nbconvert_exporter": "python",
   "pygments_lexer": "ipython3",
   "version": "3.10.9"
  }
 },
 "nbformat": 4,
 "nbformat_minor": 1
}
