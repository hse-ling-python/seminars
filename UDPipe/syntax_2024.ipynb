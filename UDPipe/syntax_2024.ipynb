{
  "cells": [
    {
      "cell_type": "markdown",
      "metadata": {
        "id": "TUFB-T4ka_vB"
      },
      "source": [
        "# Синтаксис: зависимостный парсинг (*dependency parsing*)"
      ]
    },
    {
      "cell_type": "markdown",
      "metadata": {
        "id": "5bEykYPDa49m"
      },
      "source": [
        "Зависимостный парсинг $-$ одна из немногих задач, где лингвистика и компьютерные науки продуктивно взаимодействуют. Основную теорию тут разрабатывают лингвисты, они же размечают корпусы, а модели построены на самых последних разработках в области машинного обучения.\n",
        "\n",
        "**Что такое парсинг вообще и в какой момент его нужно использовать?**\n",
        "\n",
        "Сначала мы токенизируем текст и лемматизируем (делаем морфологический разбор), а потом мы переходим к **синтаксису** и вот тут-то нам и нужен парсер.\n",
        "\n",
        "Самые популярные парсеры:\n",
        "    \n",
        "- [**SyntaxNet (DRAGNN)**](https://github.com/tensorflow/models/tree/f2f25096d3dc6561a855dab914cf2913100728d6/research/syntaxnet) от гугла.<br>SyntaxNet активно развивается, но его достаточно трудоемко ставить.\n",
        "- **UDPipe** от Карлова Университета в Чехии.<br>UDPipe работает похуже, но установить его легче.\n",
        "- [**Spacy**](https://spacy.io/) \n",
        "- **TurkuNLP** - от университета Турку (это Финляндия).<br>Позиционируется он как парсер для финского, но там есть много других предобученных моделей и можно обучать свои.\n",
        "- [**MaltParser**](http://www.maltparser.org/)"
      ]
    },
    {
      "cell_type": "markdown",
      "metadata": {
        "id": "Oe6ZLemGdboL"
      },
      "source": [
        "При парсинге используется **грамматика зависимостей**, а не грамматика составляющих. Так, любое предложение можно представить в виде дерева зависимостей.\n",
        "\n",
        "![](https://upload.wikimedia.org/wikipedia/commons/0/0d/Wearetryingtounderstandthedifference_%282%29.jpg)"
      ]
    },
    {
      "cell_type": "markdown",
      "metadata": {
        "id": "jZmKcqsaeIKq"
      },
      "source": [
        "## SpaCy"
      ]
    },
    {
      "cell_type": "markdown",
      "metadata": {
        "id": "JPpBL05IKLjY"
      },
      "source": [
        "+ Библиотека для продвинутого NLP\n",
        "+ Ряд языков: английский, русский, китайский, немецкий, французский, итальянский, польский, испанский и др. Разрабатываются модели для всё новых языков\n",
        "+ Про spaCy: https://spacy.io/usage\n",
        "+ Установка:\n",
        "```python\n",
        "pip install -U spacy\n",
        "```\n",
        "    - для английского:\n",
        "    ```python\n",
        "    python -m spacy download en_core_web_sm\n",
        "    ```\n",
        "    - для русского:\n",
        "    ```python\n",
        "    python -m spacy download ru_core_news_sm\n",
        "    ```"
      ]
    },
    {
      "cell_type": "code",
      "execution_count": 43,
      "metadata": {
        "id": "x7Pqt_57LYXJ"
      },
      "outputs": [
        {
          "name": "stdout",
          "output_type": "stream",
          "text": [
            "zsh:1: command not found: python\n",
            "zsh:1: command not found: python\n"
          ]
        }
      ],
      "source": [
        "!pip install -U spacy --q\n",
        "!python -m spacy download en_core_web_sm --q\n",
        "!python -m spacy download ru_core_news_sm --q"
      ]
    },
    {
      "cell_type": "code",
      "execution_count": 44,
      "metadata": {
        "id": "7Rzo5Yc8KLja"
      },
      "outputs": [],
      "source": [
        "import spacy"
      ]
    },
    {
      "cell_type": "markdown",
      "metadata": {
        "id": "pos1rraaKLjd"
      },
      "source": [
        "### Функционал"
      ]
    },
    {
      "cell_type": "markdown",
      "metadata": {
        "id": "zpRgnhiOKLje"
      },
      "source": [
        "#### Лемматизация (+ токенизация): `.lemma_`"
      ]
    },
    {
      "cell_type": "code",
      "execution_count": 45,
      "metadata": {
        "id": "DLPAWFBjm4HJ"
      },
      "outputs": [],
      "source": [
        "nlp_en = spacy.load(\"en_core_web_sm\")"
      ]
    },
    {
      "cell_type": "code",
      "execution_count": 46,
      "metadata": {
        "id": "7h2jb-xUOh2w"
      },
      "outputs": [],
      "source": [
        "chomsky_doc = nlp_en(\"Colorless green ideas sleep furiously\")\n",
        "shakespeare_doc = nlp_en(\"To be, or not to be, that is the question: Whether 'tis nobler in the mind to suffer\")"
      ]
    },
    {
      "cell_type": "code",
      "execution_count": 47,
      "metadata": {
        "colab": {
          "base_uri": "https://localhost:8080/"
        },
        "id": "am9qPlyeKLjf",
        "outputId": "3c5ec93b-8e92-4c2e-bd20-89abbbc22f6f"
      },
      "outputs": [
        {
          "name": "stdout",
          "output_type": "stream",
          "text": [
            "Colorless colorless\n",
            "green green\n",
            "ideas idea\n",
            "sleep sleep\n",
            "furiously furiously\n"
          ]
        }
      ],
      "source": [
        "for token in chomsky_doc:\n",
        "    print(token.text, token.lemma_)"
      ]
    },
    {
      "cell_type": "code",
      "execution_count": 48,
      "metadata": {
        "colab": {
          "base_uri": "https://localhost:8080/"
        },
        "id": "JxjCMvYFKLjg",
        "outputId": "1d857a7f-03aa-482a-ad75-3d005bd52d1f"
      },
      "outputs": [
        {
          "name": "stdout",
          "output_type": "stream",
          "text": [
            "To to\n",
            "be be\n",
            ", ,\n",
            "or or\n",
            "not not\n",
            "to to\n",
            "be be\n",
            ", ,\n",
            "that that\n",
            "is be\n",
            "the the\n",
            "question question\n",
            ": :\n",
            "Whether whether\n",
            "' '\n",
            "tis tis\n",
            "nobler nobler\n",
            "in in\n",
            "the the\n",
            "mind mind\n",
            "to to\n",
            "suffer suffer\n"
          ]
        }
      ],
      "source": [
        "for token in shakespeare_doc:\n",
        "    print(token.text, token.lemma_)"
      ]
    },
    {
      "cell_type": "markdown",
      "metadata": {
        "id": "yHNsr0TFOTDG"
      },
      "source": [
        "#### Частеречная разметка: `.pos_`"
      ]
    },
    {
      "cell_type": "markdown",
      "metadata": {
        "id": "eHaXR6KBIh7Z"
      },
      "source": [
        "[Документация](https://spacy.io/usage/linguistic-features#pos-tagging) с тегами."
      ]
    },
    {
      "cell_type": "code",
      "execution_count": 49,
      "metadata": {
        "colab": {
          "base_uri": "https://localhost:8080/"
        },
        "id": "_oeiP4NdKLjd",
        "outputId": "dd76ab9c-a09a-477a-b3f5-f2d617639805"
      },
      "outputs": [
        {
          "name": "stdout",
          "output_type": "stream",
          "text": [
            "Colorless ADJ\n",
            "green ADJ\n",
            "ideas NOUN\n",
            "sleep VERB\n",
            "furiously ADV\n"
          ]
        }
      ],
      "source": [
        "for token in chomsky_doc:\n",
        "    print(token.text, token.pos_) # просто .pos возвращает числовой код части речи"
      ]
    },
    {
      "cell_type": "markdown",
      "metadata": {
        "id": "Jbt68hmhOvbi"
      },
      "source": [
        "#### Морфологический анализ: `.morph`"
      ]
    },
    {
      "cell_type": "code",
      "execution_count": 50,
      "metadata": {
        "colab": {
          "base_uri": "https://localhost:8080/"
        },
        "id": "ksDI8VvIKLjf",
        "outputId": "59d92aee-f68c-4c82-ec9c-d48416c7bd1b"
      },
      "outputs": [
        {
          "name": "stdout",
          "output_type": "stream",
          "text": [
            "Colorless ADJ Degree=Pos\n",
            "green ADJ Degree=Pos\n",
            "ideas NOUN Number=Plur\n",
            "sleep VERB Tense=Pres|VerbForm=Fin\n",
            "furiously ADV \n"
          ]
        }
      ],
      "source": [
        "for token in chomsky_doc:\n",
        "    print(token.text, token.pos_, token.morph)"
      ]
    },
    {
      "cell_type": "markdown",
      "metadata": {
        "id": "s0ewrNhtKLjg"
      },
      "source": [
        "#### Синтаксис: деревья зависимостей"
      ]
    },
    {
      "cell_type": "markdown",
      "metadata": {
        "id": "HmKF71lAISEK"
      },
      "source": [
        "[Документация](https://v2.spacy.io/api/annotation#dependency-parsing) с тегами."
      ]
    },
    {
      "cell_type": "code",
      "execution_count": 51,
      "metadata": {
        "colab": {
          "base_uri": "https://localhost:8080/"
        },
        "id": "8qXmohD4KLjg",
        "outputId": "eb4338cc-e3a0-4a82-eb40-f3239bbb9104"
      },
      "outputs": [
        {
          "name": "stdout",
          "output_type": "stream",
          "text": [
            "Colorless colorless ADJ amod\n",
            "green green ADJ amod\n",
            "ideas idea NOUN nsubj\n",
            "sleep sleep VERB ROOT\n",
            "furiously furiously ADV advmod\n"
          ]
        }
      ],
      "source": [
        "for token in chomsky_doc:\n",
        "    print(token.text, token.lemma_, token.pos_, token.dep_)"
      ]
    },
    {
      "cell_type": "markdown",
      "metadata": {
        "id": "5m4ZZR3dKLjh"
      },
      "source": [
        "#### Навигация по дереву: вершины и зависимые"
      ]
    },
    {
      "cell_type": "markdown",
      "metadata": {
        "id": "Ynj_OhfqKLjh"
      },
      "source": [
        "Используется терминология `.head` (вершина) и `.children` (зависимые)"
      ]
    },
    {
      "cell_type": "code",
      "execution_count": 52,
      "metadata": {
        "colab": {
          "base_uri": "https://localhost:8080/"
        },
        "id": "YuV3moVYKLjh",
        "outputId": "14526fd7-0177-445e-d074-35f0805c752e"
      },
      "outputs": [
        {
          "name": "stdout",
          "output_type": "stream",
          "text": [
            "Colorless amod ideas NOUN []\n",
            "green amod ideas NOUN []\n",
            "ideas nsubj sleep VERB [Colorless, green]\n",
            "sleep ROOT sleep VERB [ideas, furiously]\n",
            "furiously advmod sleep VERB []\n"
          ]
        }
      ],
      "source": [
        "for token in chomsky_doc:\n",
        "    print(token.text, token.dep_, token.head.text, token.head.pos_,\n",
        "            [child for child in token.children])"
      ]
    },
    {
      "cell_type": "code",
      "execution_count": 53,
      "metadata": {
        "id": "rp5m3nr3P0RU"
      },
      "outputs": [],
      "source": [
        "donkey_doc = nlp_en(\"If a farmer owns a donkey, he beats it.\")"
      ]
    },
    {
      "cell_type": "code",
      "execution_count": 54,
      "metadata": {
        "colab": {
          "base_uri": "https://localhost:8080/"
        },
        "id": "UUy1TmKSKLjh",
        "outputId": "d6d97b1b-3f09-476c-f329-e8f1a0abb05e"
      },
      "outputs": [
        {
          "name": "stdout",
          "output_type": "stream",
          "text": [
            "If mark owns VERB []\n",
            "a det farmer NOUN []\n",
            "farmer nsubj owns VERB [a]\n",
            "owns advcl beats VERB [If, farmer, donkey]\n",
            "a det donkey NOUN []\n",
            "donkey dobj owns VERB [a]\n",
            ", punct beats VERB []\n",
            "he nsubj beats VERB []\n",
            "beats ROOT beats VERB [owns, ,, he, it, .]\n",
            "it dobj beats VERB []\n",
            ". punct beats VERB []\n"
          ]
        }
      ],
      "source": [
        "for token in donkey_doc:\n",
        "    print(token.text, token.dep_, token.head.text, token.head.pos_,\n",
        "            [child for child in token.children])"
      ]
    },
    {
      "cell_type": "markdown",
      "metadata": {
        "id": "B7EKvs8gKLjh"
      },
      "source": [
        "Найдём детей *beats* справа (`.rights`) и слева (`.lefts`) в дереве:"
      ]
    },
    {
      "cell_type": "code",
      "execution_count": 55,
      "metadata": {
        "colab": {
          "base_uri": "https://localhost:8080/"
        },
        "id": "pnyF60eRKLji",
        "outputId": "50853d01-00f8-4fc1-d6cf-041cfaff9256"
      },
      "outputs": [
        {
          "name": "stdout",
          "output_type": "stream",
          "text": [
            "beats\n",
            "3 left child(ren): ['owns', ',', 'he']\n",
            "2 right child(ren): ['it', '.']\n"
          ]
        }
      ],
      "source": [
        "donkey_doc = nlp_en(\"If a farmer owns a donkey, he beats it.\")\n",
        "print(donkey_doc[8])\n",
        "print(f'{donkey_doc[8].n_lefts} left child(ren): {[token.text for token in donkey_doc[8].lefts]}')\n",
        "print(f'{donkey_doc[8].n_rights} right child(ren): {[token.text for token in donkey_doc[8].rights]}')"
      ]
    },
    {
      "cell_type": "markdown",
      "metadata": {
        "id": "eB9QVlFkKLji"
      },
      "source": [
        "Теперь найдём тип зависимости, количество детей слева и справа, родителей:"
      ]
    },
    {
      "cell_type": "code",
      "execution_count": 56,
      "metadata": {
        "colab": {
          "base_uri": "https://localhost:8080/"
        },
        "id": "PAaaWRtfKLji",
        "outputId": "fa533ef9-86e1-4491-c857-a98d462e92d2"
      },
      "outputs": [
        {
          "name": "stdout",
          "output_type": "stream",
          "text": [
            "If mark 0 0 ['owns', 'beats']\n",
            "a det 0 0 ['farmer', 'owns', 'beats']\n",
            "farmer nsubj 1 0 ['owns', 'beats']\n",
            "owns advcl 2 1 ['beats']\n",
            "a det 0 0 ['donkey', 'owns', 'beats']\n",
            "donkey dobj 1 0 ['owns', 'beats']\n"
          ]
        }
      ],
      "source": [
        "root = [token for token in donkey_doc if token.head == token][0]  # находим корневой элемент\n",
        "subject = list(root.lefts)[0]  # берем только детей слева (ака if-часть)\n",
        "for descendant in subject.subtree:\n",
        "    assert subject is descendant or subject.is_ancestor(descendant)\n",
        "    print(descendant.text,  # слово\n",
        "          descendant.dep_,  # тип зависимости\n",
        "          descendant.n_lefts,  # сколько детей слева\n",
        "          descendant.n_rights,  # сколько детей справа\n",
        "          [ancestor.text for ancestor in descendant.ancestors]  # список родителей\n",
        "          )"
      ]
    },
    {
      "cell_type": "markdown",
      "metadata": {
        "id": "OBDCWi-dKLji"
      },
      "source": [
        "Распечатаем часть речи, тип зависимости, вершину:"
      ]
    },
    {
      "cell_type": "code",
      "execution_count": 57,
      "metadata": {
        "colab": {
          "base_uri": "https://localhost:8080/"
        },
        "id": "1Ja6rJTZKLjj",
        "outputId": "2a8364b0-6463-497f-be43-74c353479d4d"
      },
      "outputs": [
        {
          "name": "stdout",
          "output_type": "stream",
          "text": [
            "If SCONJ mark owns\n",
            "a DET det farmer\n",
            "farmer NOUN nsubj owns\n",
            "owns VERB advcl beats\n",
            "a DET det donkey\n",
            "donkey NOUN dobj owns\n",
            ", PUNCT punct beats\n",
            "he PRON nsubj beats\n",
            "beats VERB ROOT beats\n",
            "it PRON dobj beats\n",
            ". PUNCT punct beats\n"
          ]
        }
      ],
      "source": [
        "for token in donkey_doc:\n",
        "    print(token.text, token.pos_, token.dep_, token.head.text)"
      ]
    },
    {
      "cell_type": "markdown",
      "metadata": {
        "id": "S65SI0T4KLjj"
      },
      "source": [
        "Визуализируем дерево:"
      ]
    },
    {
      "cell_type": "code",
      "execution_count": 58,
      "metadata": {
        "id": "v7wuwD2rKLjj"
      },
      "outputs": [],
      "source": [
        "from spacy import displacy"
      ]
    },
    {
      "cell_type": "code",
      "execution_count": 59,
      "metadata": {
        "colab": {
          "base_uri": "https://localhost:8080/",
          "height": 441
        },
        "id": "-6YrejUGKLjj",
        "outputId": "07dae4e3-8d1f-48be-cc94-93c82bbeeeb3"
      },
      "outputs": [
        {
          "data": {
            "text/html": [
              "<span class=\"tex2jax_ignore\"><svg xmlns=\"http://www.w3.org/2000/svg\" xmlns:xlink=\"http://www.w3.org/1999/xlink\" xml:lang=\"en\" id=\"444e28e7bf7944b0bc16bebf8b68e92a-0\" class=\"displacy\" width=\"1625\" height=\"399.5\" direction=\"ltr\" style=\"max-width: none; height: 399.5px; color: #000000; background: #ffffff; font-family: Arial; direction: ltr\">\n",
              "<text class=\"displacy-token\" fill=\"currentColor\" text-anchor=\"middle\" y=\"309.5\">\n",
              "    <tspan class=\"displacy-word\" fill=\"currentColor\" x=\"50\">If</tspan>\n",
              "    <tspan class=\"displacy-tag\" dy=\"2em\" fill=\"currentColor\" x=\"50\">SCONJ</tspan>\n",
              "</text>\n",
              "\n",
              "<text class=\"displacy-token\" fill=\"currentColor\" text-anchor=\"middle\" y=\"309.5\">\n",
              "    <tspan class=\"displacy-word\" fill=\"currentColor\" x=\"225\">a</tspan>\n",
              "    <tspan class=\"displacy-tag\" dy=\"2em\" fill=\"currentColor\" x=\"225\">DET</tspan>\n",
              "</text>\n",
              "\n",
              "<text class=\"displacy-token\" fill=\"currentColor\" text-anchor=\"middle\" y=\"309.5\">\n",
              "    <tspan class=\"displacy-word\" fill=\"currentColor\" x=\"400\">farmer</tspan>\n",
              "    <tspan class=\"displacy-tag\" dy=\"2em\" fill=\"currentColor\" x=\"400\">NOUN</tspan>\n",
              "</text>\n",
              "\n",
              "<text class=\"displacy-token\" fill=\"currentColor\" text-anchor=\"middle\" y=\"309.5\">\n",
              "    <tspan class=\"displacy-word\" fill=\"currentColor\" x=\"575\">owns</tspan>\n",
              "    <tspan class=\"displacy-tag\" dy=\"2em\" fill=\"currentColor\" x=\"575\">VERB</tspan>\n",
              "</text>\n",
              "\n",
              "<text class=\"displacy-token\" fill=\"currentColor\" text-anchor=\"middle\" y=\"309.5\">\n",
              "    <tspan class=\"displacy-word\" fill=\"currentColor\" x=\"750\">a</tspan>\n",
              "    <tspan class=\"displacy-tag\" dy=\"2em\" fill=\"currentColor\" x=\"750\">DET</tspan>\n",
              "</text>\n",
              "\n",
              "<text class=\"displacy-token\" fill=\"currentColor\" text-anchor=\"middle\" y=\"309.5\">\n",
              "    <tspan class=\"displacy-word\" fill=\"currentColor\" x=\"925\">donkey,</tspan>\n",
              "    <tspan class=\"displacy-tag\" dy=\"2em\" fill=\"currentColor\" x=\"925\">NOUN</tspan>\n",
              "</text>\n",
              "\n",
              "<text class=\"displacy-token\" fill=\"currentColor\" text-anchor=\"middle\" y=\"309.5\">\n",
              "    <tspan class=\"displacy-word\" fill=\"currentColor\" x=\"1100\">he</tspan>\n",
              "    <tspan class=\"displacy-tag\" dy=\"2em\" fill=\"currentColor\" x=\"1100\">PRON</tspan>\n",
              "</text>\n",
              "\n",
              "<text class=\"displacy-token\" fill=\"currentColor\" text-anchor=\"middle\" y=\"309.5\">\n",
              "    <tspan class=\"displacy-word\" fill=\"currentColor\" x=\"1275\">beats</tspan>\n",
              "    <tspan class=\"displacy-tag\" dy=\"2em\" fill=\"currentColor\" x=\"1275\">VERB</tspan>\n",
              "</text>\n",
              "\n",
              "<text class=\"displacy-token\" fill=\"currentColor\" text-anchor=\"middle\" y=\"309.5\">\n",
              "    <tspan class=\"displacy-word\" fill=\"currentColor\" x=\"1450\">it.</tspan>\n",
              "    <tspan class=\"displacy-tag\" dy=\"2em\" fill=\"currentColor\" x=\"1450\">PRON</tspan>\n",
              "</text>\n",
              "\n",
              "<g class=\"displacy-arrow\">\n",
              "    <path class=\"displacy-arc\" id=\"arrow-444e28e7bf7944b0bc16bebf8b68e92a-0-0\" stroke-width=\"2px\" d=\"M70,264.5 C70,89.5 570.0,89.5 570.0,264.5\" fill=\"none\" stroke=\"currentColor\"/>\n",
              "    <text dy=\"1.25em\" style=\"font-size: 0.8em; letter-spacing: 1px\">\n",
              "        <textPath xlink:href=\"#arrow-444e28e7bf7944b0bc16bebf8b68e92a-0-0\" class=\"displacy-label\" startOffset=\"50%\" side=\"left\" fill=\"currentColor\" text-anchor=\"middle\">mark</textPath>\n",
              "    </text>\n",
              "    <path class=\"displacy-arrowhead\" d=\"M70,266.5 L62,254.5 78,254.5\" fill=\"currentColor\"/>\n",
              "</g>\n",
              "\n",
              "<g class=\"displacy-arrow\">\n",
              "    <path class=\"displacy-arc\" id=\"arrow-444e28e7bf7944b0bc16bebf8b68e92a-0-1\" stroke-width=\"2px\" d=\"M245,264.5 C245,177.0 390.0,177.0 390.0,264.5\" fill=\"none\" stroke=\"currentColor\"/>\n",
              "    <text dy=\"1.25em\" style=\"font-size: 0.8em; letter-spacing: 1px\">\n",
              "        <textPath xlink:href=\"#arrow-444e28e7bf7944b0bc16bebf8b68e92a-0-1\" class=\"displacy-label\" startOffset=\"50%\" side=\"left\" fill=\"currentColor\" text-anchor=\"middle\">det</textPath>\n",
              "    </text>\n",
              "    <path class=\"displacy-arrowhead\" d=\"M245,266.5 L237,254.5 253,254.5\" fill=\"currentColor\"/>\n",
              "</g>\n",
              "\n",
              "<g class=\"displacy-arrow\">\n",
              "    <path class=\"displacy-arc\" id=\"arrow-444e28e7bf7944b0bc16bebf8b68e92a-0-2\" stroke-width=\"2px\" d=\"M420,264.5 C420,177.0 565.0,177.0 565.0,264.5\" fill=\"none\" stroke=\"currentColor\"/>\n",
              "    <text dy=\"1.25em\" style=\"font-size: 0.8em; letter-spacing: 1px\">\n",
              "        <textPath xlink:href=\"#arrow-444e28e7bf7944b0bc16bebf8b68e92a-0-2\" class=\"displacy-label\" startOffset=\"50%\" side=\"left\" fill=\"currentColor\" text-anchor=\"middle\">nsubj</textPath>\n",
              "    </text>\n",
              "    <path class=\"displacy-arrowhead\" d=\"M420,266.5 L412,254.5 428,254.5\" fill=\"currentColor\"/>\n",
              "</g>\n",
              "\n",
              "<g class=\"displacy-arrow\">\n",
              "    <path class=\"displacy-arc\" id=\"arrow-444e28e7bf7944b0bc16bebf8b68e92a-0-3\" stroke-width=\"2px\" d=\"M595,264.5 C595,2.0 1275.0,2.0 1275.0,264.5\" fill=\"none\" stroke=\"currentColor\"/>\n",
              "    <text dy=\"1.25em\" style=\"font-size: 0.8em; letter-spacing: 1px\">\n",
              "        <textPath xlink:href=\"#arrow-444e28e7bf7944b0bc16bebf8b68e92a-0-3\" class=\"displacy-label\" startOffset=\"50%\" side=\"left\" fill=\"currentColor\" text-anchor=\"middle\">advcl</textPath>\n",
              "    </text>\n",
              "    <path class=\"displacy-arrowhead\" d=\"M595,266.5 L587,254.5 603,254.5\" fill=\"currentColor\"/>\n",
              "</g>\n",
              "\n",
              "<g class=\"displacy-arrow\">\n",
              "    <path class=\"displacy-arc\" id=\"arrow-444e28e7bf7944b0bc16bebf8b68e92a-0-4\" stroke-width=\"2px\" d=\"M770,264.5 C770,177.0 915.0,177.0 915.0,264.5\" fill=\"none\" stroke=\"currentColor\"/>\n",
              "    <text dy=\"1.25em\" style=\"font-size: 0.8em; letter-spacing: 1px\">\n",
              "        <textPath xlink:href=\"#arrow-444e28e7bf7944b0bc16bebf8b68e92a-0-4\" class=\"displacy-label\" startOffset=\"50%\" side=\"left\" fill=\"currentColor\" text-anchor=\"middle\">det</textPath>\n",
              "    </text>\n",
              "    <path class=\"displacy-arrowhead\" d=\"M770,266.5 L762,254.5 778,254.5\" fill=\"currentColor\"/>\n",
              "</g>\n",
              "\n",
              "<g class=\"displacy-arrow\">\n",
              "    <path class=\"displacy-arc\" id=\"arrow-444e28e7bf7944b0bc16bebf8b68e92a-0-5\" stroke-width=\"2px\" d=\"M595,264.5 C595,89.5 920.0,89.5 920.0,264.5\" fill=\"none\" stroke=\"currentColor\"/>\n",
              "    <text dy=\"1.25em\" style=\"font-size: 0.8em; letter-spacing: 1px\">\n",
              "        <textPath xlink:href=\"#arrow-444e28e7bf7944b0bc16bebf8b68e92a-0-5\" class=\"displacy-label\" startOffset=\"50%\" side=\"left\" fill=\"currentColor\" text-anchor=\"middle\">dobj</textPath>\n",
              "    </text>\n",
              "    <path class=\"displacy-arrowhead\" d=\"M920.0,266.5 L928.0,254.5 912.0,254.5\" fill=\"currentColor\"/>\n",
              "</g>\n",
              "\n",
              "<g class=\"displacy-arrow\">\n",
              "    <path class=\"displacy-arc\" id=\"arrow-444e28e7bf7944b0bc16bebf8b68e92a-0-6\" stroke-width=\"2px\" d=\"M1120,264.5 C1120,177.0 1265.0,177.0 1265.0,264.5\" fill=\"none\" stroke=\"currentColor\"/>\n",
              "    <text dy=\"1.25em\" style=\"font-size: 0.8em; letter-spacing: 1px\">\n",
              "        <textPath xlink:href=\"#arrow-444e28e7bf7944b0bc16bebf8b68e92a-0-6\" class=\"displacy-label\" startOffset=\"50%\" side=\"left\" fill=\"currentColor\" text-anchor=\"middle\">nsubj</textPath>\n",
              "    </text>\n",
              "    <path class=\"displacy-arrowhead\" d=\"M1120,266.5 L1112,254.5 1128,254.5\" fill=\"currentColor\"/>\n",
              "</g>\n",
              "\n",
              "<g class=\"displacy-arrow\">\n",
              "    <path class=\"displacy-arc\" id=\"arrow-444e28e7bf7944b0bc16bebf8b68e92a-0-7\" stroke-width=\"2px\" d=\"M1295,264.5 C1295,177.0 1440.0,177.0 1440.0,264.5\" fill=\"none\" stroke=\"currentColor\"/>\n",
              "    <text dy=\"1.25em\" style=\"font-size: 0.8em; letter-spacing: 1px\">\n",
              "        <textPath xlink:href=\"#arrow-444e28e7bf7944b0bc16bebf8b68e92a-0-7\" class=\"displacy-label\" startOffset=\"50%\" side=\"left\" fill=\"currentColor\" text-anchor=\"middle\">dobj</textPath>\n",
              "    </text>\n",
              "    <path class=\"displacy-arrowhead\" d=\"M1440.0,266.5 L1448.0,254.5 1432.0,254.5\" fill=\"currentColor\"/>\n",
              "</g>\n",
              "</svg></span>"
            ],
            "text/plain": [
              "<IPython.core.display.HTML object>"
            ]
          },
          "metadata": {},
          "output_type": "display_data"
        }
      ],
      "source": [
        "displacy.render(donkey_doc, style='dep')"
      ]
    },
    {
      "cell_type": "markdown",
      "metadata": {
        "id": "4NOLHFHFKLjk"
      },
      "source": [
        "#### Named Entity Recognition (NER)"
      ]
    },
    {
      "cell_type": "code",
      "execution_count": 60,
      "metadata": {
        "id": "D9ZEAHBnXQuM"
      },
      "outputs": [],
      "source": [
        "from spacy.tokens import Span"
      ]
    },
    {
      "cell_type": "code",
      "execution_count": 61,
      "metadata": {
        "colab": {
          "base_uri": "https://localhost:8080/"
        },
        "id": "4NHJQCmaWAY4",
        "outputId": "9aaf4b2f-54e2-4ecd-ce7e-2e2de96aa683"
      },
      "outputs": [
        {
          "name": "stdout",
          "output_type": "stream",
          "text": [
            "Donald Trump 10 22 PERSON\n",
            "Twitter 49 56 PRODUCT\n"
          ]
        }
      ],
      "source": [
        "doc_twit = nlp_en(\"President Donald Trump is permanently blocked on Twitter.\")\n",
        "\n",
        "for ent in doc_twit.ents:\n",
        "    print(ent.text, ent.start_char, ent.end_char, ent.label_)"
      ]
    },
    {
      "cell_type": "markdown",
      "metadata": {},
      "source": [
        "Возможно добавление именованных сущностей, которые модель не распознала автоматически, вручную."
      ]
    },
    {
      "cell_type": "code",
      "execution_count": 62,
      "metadata": {
        "colab": {
          "base_uri": "https://localhost:8080/"
        },
        "id": "MOjDeVHQKLjl",
        "outputId": "9988d0ef-4f22-4f44-c336-4c54dd370130"
      },
      "outputs": [
        {
          "name": "stdout",
          "output_type": "stream",
          "text": [
            "Before [('Donald Trump', 10, 22, 'PERSON'), ('Twitter', 49, 56, 'PRODUCT')]\n",
            "After [('President', 0, 9, 'PE'), ('Donald Trump', 10, 22, 'PERSON'), ('Twitter', 49, 56, 'PRODUCT')]\n"
          ]
        }
      ],
      "source": [
        "ents = [(e.text, e.start_char, e.end_char, e.label_) for e in doc_twit.ents]\n",
        "print('Before', ents)\n",
        "# the model didn't recognise \"President\" :(\n",
        "\n",
        "president_ent = Span(doc_twit, 0, 1, label=\"PE\")  # create a Span for the new entity, PE = political entity\n",
        "doc_twit.ents = list(doc_twit.ents) + [president_ent]\n",
        "\n",
        "ents = [(e.text, e.start_char, e.end_char, e.label_) for e in doc_twit.ents]\n",
        "print('After', ents)"
      ]
    },
    {
      "cell_type": "code",
      "execution_count": 63,
      "metadata": {
        "colab": {
          "base_uri": "https://localhost:8080/",
          "height": 52
        },
        "id": "aKS_S_IwV8hj",
        "outputId": "0fa5029d-5aa8-4912-ece9-d71abf37ddfd"
      },
      "outputs": [
        {
          "data": {
            "text/html": [
              "<span class=\"tex2jax_ignore\"><div class=\"entities\" style=\"line-height: 2.5; direction: ltr\">\n",
              "<mark class=\"entity\" style=\"background: #ddd; padding: 0.45em 0.6em; margin: 0 0.25em; line-height: 1; border-radius: 0.35em;\">\n",
              "    President\n",
              "    <span style=\"font-size: 0.8em; font-weight: bold; line-height: 1; border-radius: 0.35em; vertical-align: middle; margin-left: 0.5rem\">PE</span>\n",
              "</mark>\n",
              " \n",
              "<mark class=\"entity\" style=\"background: #aa9cfc; padding: 0.45em 0.6em; margin: 0 0.25em; line-height: 1; border-radius: 0.35em;\">\n",
              "    Donald Trump\n",
              "    <span style=\"font-size: 0.8em; font-weight: bold; line-height: 1; border-radius: 0.35em; vertical-align: middle; margin-left: 0.5rem\">PERSON</span>\n",
              "</mark>\n",
              " is permanently blocked on \n",
              "<mark class=\"entity\" style=\"background: #bfeeb7; padding: 0.45em 0.6em; margin: 0 0.25em; line-height: 1; border-radius: 0.35em;\">\n",
              "    Twitter\n",
              "    <span style=\"font-size: 0.8em; font-weight: bold; line-height: 1; border-radius: 0.35em; vertical-align: middle; margin-left: 0.5rem\">PRODUCT</span>\n",
              "</mark>\n",
              ".</div></span>"
            ],
            "text/plain": [
              "<IPython.core.display.HTML object>"
            ]
          },
          "metadata": {},
          "output_type": "display_data"
        }
      ],
      "source": [
        "displacy.render(doc_twit, style='ent')"
      ]
    },
    {
      "cell_type": "markdown",
      "metadata": {
        "id": "u7ye8dbTKLjm"
      },
      "source": [
        "#### Как обстоят дела с другими языками?"
      ]
    },
    {
      "cell_type": "markdown",
      "metadata": {
        "id": "4dMiq7uPKLjn"
      },
      "source": [
        "Загрузим модель для русского языка:"
      ]
    },
    {
      "cell_type": "code",
      "execution_count": 64,
      "metadata": {
        "id": "KpxCZDapKLjn"
      },
      "outputs": [],
      "source": [
        "nlp_ru = spacy.load(\"ru_core_news_sm\")"
      ]
    },
    {
      "cell_type": "code",
      "execution_count": 65,
      "metadata": {
        "colab": {
          "base_uri": "https://localhost:8080/"
        },
        "id": "COYVAB7EKLjn",
        "outputId": "c500bf9d-f4bb-4eb9-fc97-d2f2a2981f5c"
      },
      "outputs": [
        {
          "name": "stdout",
          "output_type": "stream",
          "text": [
            "Блины блин NOUN Animacy=Inan|Case=Nom|Gender=Masc|Number=Plur\n",
            "бабушка бабушка NOUN Animacy=Anim|Case=Nom|Gender=Fem|Number=Sing\n",
            "очень очень ADV Degree=Pos\n",
            "уж уж PART \n",
            "вкусные вкусный ADJ Case=Nom|Degree=Pos|Number=Plur\n",
            "печет печет NOUN Animacy=Inan|Case=Nom|Gender=Masc|Number=Sing\n",
            ". . PUNCT \n"
          ]
        }
      ],
      "source": [
        "pancakes_doc = nlp_ru(\"Блины бабушка очень уж вкусные печет.\")\n",
        "for token in pancakes_doc:\n",
        "    print(token.text, token.lemma_, token.pos_, token.morph)"
      ]
    },
    {
      "cell_type": "code",
      "execution_count": 66,
      "metadata": {
        "colab": {
          "base_uri": "https://localhost:8080/",
          "height": 421
        },
        "id": "fG_B5mfKaFzL",
        "outputId": "a85af300-e727-4af7-b056-6d28e579487b"
      },
      "outputs": [
        {
          "data": {
            "text/html": [
              "<span class=\"tex2jax_ignore\"><svg xmlns=\"http://www.w3.org/2000/svg\" xmlns:xlink=\"http://www.w3.org/1999/xlink\" xml:lang=\"ru\" id=\"6c1f374053114321b42ec48ba808f02e-0\" class=\"displacy\" width=\"1100\" height=\"399.5\" direction=\"ltr\" style=\"max-width: none; height: 399.5px; color: #000000; background: #ffffff; font-family: Arial; direction: ltr\">\n",
              "<text class=\"displacy-token\" fill=\"currentColor\" text-anchor=\"middle\" y=\"309.5\">\n",
              "    <tspan class=\"displacy-word\" fill=\"currentColor\" x=\"50\">Блины</tspan>\n",
              "    <tspan class=\"displacy-tag\" dy=\"2em\" fill=\"currentColor\" x=\"50\">NOUN</tspan>\n",
              "</text>\n",
              "\n",
              "<text class=\"displacy-token\" fill=\"currentColor\" text-anchor=\"middle\" y=\"309.5\">\n",
              "    <tspan class=\"displacy-word\" fill=\"currentColor\" x=\"225\">бабушка</tspan>\n",
              "    <tspan class=\"displacy-tag\" dy=\"2em\" fill=\"currentColor\" x=\"225\">NOUN</tspan>\n",
              "</text>\n",
              "\n",
              "<text class=\"displacy-token\" fill=\"currentColor\" text-anchor=\"middle\" y=\"309.5\">\n",
              "    <tspan class=\"displacy-word\" fill=\"currentColor\" x=\"400\">очень</tspan>\n",
              "    <tspan class=\"displacy-tag\" dy=\"2em\" fill=\"currentColor\" x=\"400\">ADV</tspan>\n",
              "</text>\n",
              "\n",
              "<text class=\"displacy-token\" fill=\"currentColor\" text-anchor=\"middle\" y=\"309.5\">\n",
              "    <tspan class=\"displacy-word\" fill=\"currentColor\" x=\"575\">уж</tspan>\n",
              "    <tspan class=\"displacy-tag\" dy=\"2em\" fill=\"currentColor\" x=\"575\">PART</tspan>\n",
              "</text>\n",
              "\n",
              "<text class=\"displacy-token\" fill=\"currentColor\" text-anchor=\"middle\" y=\"309.5\">\n",
              "    <tspan class=\"displacy-word\" fill=\"currentColor\" x=\"750\">вкусные</tspan>\n",
              "    <tspan class=\"displacy-tag\" dy=\"2em\" fill=\"currentColor\" x=\"750\">ADJ</tspan>\n",
              "</text>\n",
              "\n",
              "<text class=\"displacy-token\" fill=\"currentColor\" text-anchor=\"middle\" y=\"309.5\">\n",
              "    <tspan class=\"displacy-word\" fill=\"currentColor\" x=\"925\">печет.</tspan>\n",
              "    <tspan class=\"displacy-tag\" dy=\"2em\" fill=\"currentColor\" x=\"925\">NOUN</tspan>\n",
              "</text>\n",
              "\n",
              "<g class=\"displacy-arrow\">\n",
              "    <path class=\"displacy-arc\" id=\"arrow-6c1f374053114321b42ec48ba808f02e-0-0\" stroke-width=\"2px\" d=\"M70,264.5 C70,2.0 925.0,2.0 925.0,264.5\" fill=\"none\" stroke=\"currentColor\"/>\n",
              "    <text dy=\"1.25em\" style=\"font-size: 0.8em; letter-spacing: 1px\">\n",
              "        <textPath xlink:href=\"#arrow-6c1f374053114321b42ec48ba808f02e-0-0\" class=\"displacy-label\" startOffset=\"50%\" side=\"left\" fill=\"currentColor\" text-anchor=\"middle\">nsubj</textPath>\n",
              "    </text>\n",
              "    <path class=\"displacy-arrowhead\" d=\"M70,266.5 L62,254.5 78,254.5\" fill=\"currentColor\"/>\n",
              "</g>\n",
              "\n",
              "<g class=\"displacy-arrow\">\n",
              "    <path class=\"displacy-arc\" id=\"arrow-6c1f374053114321b42ec48ba808f02e-0-1\" stroke-width=\"2px\" d=\"M245,264.5 C245,89.5 920.0,89.5 920.0,264.5\" fill=\"none\" stroke=\"currentColor\"/>\n",
              "    <text dy=\"1.25em\" style=\"font-size: 0.8em; letter-spacing: 1px\">\n",
              "        <textPath xlink:href=\"#arrow-6c1f374053114321b42ec48ba808f02e-0-1\" class=\"displacy-label\" startOffset=\"50%\" side=\"left\" fill=\"currentColor\" text-anchor=\"middle\">nsubj</textPath>\n",
              "    </text>\n",
              "    <path class=\"displacy-arrowhead\" d=\"M245,266.5 L237,254.5 253,254.5\" fill=\"currentColor\"/>\n",
              "</g>\n",
              "\n",
              "<g class=\"displacy-arrow\">\n",
              "    <path class=\"displacy-arc\" id=\"arrow-6c1f374053114321b42ec48ba808f02e-0-2\" stroke-width=\"2px\" d=\"M420,264.5 C420,177.0 565.0,177.0 565.0,264.5\" fill=\"none\" stroke=\"currentColor\"/>\n",
              "    <text dy=\"1.25em\" style=\"font-size: 0.8em; letter-spacing: 1px\">\n",
              "        <textPath xlink:href=\"#arrow-6c1f374053114321b42ec48ba808f02e-0-2\" class=\"displacy-label\" startOffset=\"50%\" side=\"left\" fill=\"currentColor\" text-anchor=\"middle\">advmod</textPath>\n",
              "    </text>\n",
              "    <path class=\"displacy-arrowhead\" d=\"M420,266.5 L412,254.5 428,254.5\" fill=\"currentColor\"/>\n",
              "</g>\n",
              "\n",
              "<g class=\"displacy-arrow\">\n",
              "    <path class=\"displacy-arc\" id=\"arrow-6c1f374053114321b42ec48ba808f02e-0-3\" stroke-width=\"2px\" d=\"M595,264.5 C595,177.0 740.0,177.0 740.0,264.5\" fill=\"none\" stroke=\"currentColor\"/>\n",
              "    <text dy=\"1.25em\" style=\"font-size: 0.8em; letter-spacing: 1px\">\n",
              "        <textPath xlink:href=\"#arrow-6c1f374053114321b42ec48ba808f02e-0-3\" class=\"displacy-label\" startOffset=\"50%\" side=\"left\" fill=\"currentColor\" text-anchor=\"middle\">advmod</textPath>\n",
              "    </text>\n",
              "    <path class=\"displacy-arrowhead\" d=\"M595,266.5 L587,254.5 603,254.5\" fill=\"currentColor\"/>\n",
              "</g>\n",
              "\n",
              "<g class=\"displacy-arrow\">\n",
              "    <path class=\"displacy-arc\" id=\"arrow-6c1f374053114321b42ec48ba808f02e-0-4\" stroke-width=\"2px\" d=\"M770,264.5 C770,177.0 915.0,177.0 915.0,264.5\" fill=\"none\" stroke=\"currentColor\"/>\n",
              "    <text dy=\"1.25em\" style=\"font-size: 0.8em; letter-spacing: 1px\">\n",
              "        <textPath xlink:href=\"#arrow-6c1f374053114321b42ec48ba808f02e-0-4\" class=\"displacy-label\" startOffset=\"50%\" side=\"left\" fill=\"currentColor\" text-anchor=\"middle\">amod</textPath>\n",
              "    </text>\n",
              "    <path class=\"displacy-arrowhead\" d=\"M770,266.5 L762,254.5 778,254.5\" fill=\"currentColor\"/>\n",
              "</g>\n",
              "</svg></span>"
            ],
            "text/plain": [
              "<IPython.core.display.HTML object>"
            ]
          },
          "metadata": {},
          "output_type": "display_data"
        }
      ],
      "source": [
        "displacy.render(pancakes_doc, style='dep')"
      ]
    },
    {
      "cell_type": "code",
      "execution_count": 67,
      "metadata": {
        "colab": {
          "base_uri": "https://localhost:8080/",
          "height": 333
        },
        "id": "DBKwaWbDKLjn",
        "outputId": "fcaaeea6-3f45-42e6-de2f-c4780952cf50"
      },
      "outputs": [
        {
          "data": {
            "text/html": [
              "<span class=\"tex2jax_ignore\"><svg xmlns=\"http://www.w3.org/2000/svg\" xmlns:xlink=\"http://www.w3.org/1999/xlink\" xml:lang=\"ru\" id=\"da90a577d59b4eb7a53abac5cbc344bf-0\" class=\"displacy\" width=\"575\" height=\"312.0\" direction=\"ltr\" style=\"max-width: none; height: 312.0px; color: #000000; background: #ffffff; font-family: Arial; direction: ltr\">\n",
              "<text class=\"displacy-token\" fill=\"currentColor\" text-anchor=\"middle\" y=\"222.0\">\n",
              "    <tspan class=\"displacy-word\" fill=\"currentColor\" x=\"50\">Какой</tspan>\n",
              "    <tspan class=\"displacy-tag\" dy=\"2em\" fill=\"currentColor\" x=\"50\">DET</tspan>\n",
              "</text>\n",
              "\n",
              "<text class=\"displacy-token\" fill=\"currentColor\" text-anchor=\"middle\" y=\"222.0\">\n",
              "    <tspan class=\"displacy-word\" fill=\"currentColor\" x=\"225\">прекрасный</tspan>\n",
              "    <tspan class=\"displacy-tag\" dy=\"2em\" fill=\"currentColor\" x=\"225\">ADJ</tspan>\n",
              "</text>\n",
              "\n",
              "<text class=\"displacy-token\" fill=\"currentColor\" text-anchor=\"middle\" y=\"222.0\">\n",
              "    <tspan class=\"displacy-word\" fill=\"currentColor\" x=\"400\">пень!</tspan>\n",
              "    <tspan class=\"displacy-tag\" dy=\"2em\" fill=\"currentColor\" x=\"400\">NOUN</tspan>\n",
              "</text>\n",
              "\n",
              "<g class=\"displacy-arrow\">\n",
              "    <path class=\"displacy-arc\" id=\"arrow-da90a577d59b4eb7a53abac5cbc344bf-0-0\" stroke-width=\"2px\" d=\"M70,177.0 C70,2.0 400.0,2.0 400.0,177.0\" fill=\"none\" stroke=\"currentColor\"/>\n",
              "    <text dy=\"1.25em\" style=\"font-size: 0.8em; letter-spacing: 1px\">\n",
              "        <textPath xlink:href=\"#arrow-da90a577d59b4eb7a53abac5cbc344bf-0-0\" class=\"displacy-label\" startOffset=\"50%\" side=\"left\" fill=\"currentColor\" text-anchor=\"middle\">det</textPath>\n",
              "    </text>\n",
              "    <path class=\"displacy-arrowhead\" d=\"M70,179.0 L62,167.0 78,167.0\" fill=\"currentColor\"/>\n",
              "</g>\n",
              "\n",
              "<g class=\"displacy-arrow\">\n",
              "    <path class=\"displacy-arc\" id=\"arrow-da90a577d59b4eb7a53abac5cbc344bf-0-1\" stroke-width=\"2px\" d=\"M245,177.0 C245,89.5 395.0,89.5 395.0,177.0\" fill=\"none\" stroke=\"currentColor\"/>\n",
              "    <text dy=\"1.25em\" style=\"font-size: 0.8em; letter-spacing: 1px\">\n",
              "        <textPath xlink:href=\"#arrow-da90a577d59b4eb7a53abac5cbc344bf-0-1\" class=\"displacy-label\" startOffset=\"50%\" side=\"left\" fill=\"currentColor\" text-anchor=\"middle\">amod</textPath>\n",
              "    </text>\n",
              "    <path class=\"displacy-arrowhead\" d=\"M245,179.0 L237,167.0 253,167.0\" fill=\"currentColor\"/>\n",
              "</g>\n",
              "</svg></span>"
            ],
            "text/plain": [
              "<IPython.core.display.HTML object>"
            ]
          },
          "metadata": {},
          "output_type": "display_data"
        }
      ],
      "source": [
        "mouse_doc = nlp_ru(\"Какой прекрасный пень!\")\n",
        "\n",
        "displacy.render(mouse_doc, style='dep')"
      ]
    },
    {
      "cell_type": "code",
      "execution_count": 68,
      "metadata": {
        "colab": {
          "base_uri": "https://localhost:8080/",
          "height": 528
        },
        "id": "Sd8ZETooKLjo",
        "outputId": "caac7a3f-14a8-47bc-f3bc-56a5bb72aa9f"
      },
      "outputs": [
        {
          "data": {
            "text/html": [
              "<span class=\"tex2jax_ignore\"><svg xmlns=\"http://www.w3.org/2000/svg\" xmlns:xlink=\"http://www.w3.org/1999/xlink\" xml:lang=\"ru\" id=\"f22172a810144e77ab05128dd341b422-0\" class=\"displacy\" width=\"1450\" height=\"487.0\" direction=\"ltr\" style=\"max-width: none; height: 487.0px; color: #000000; background: #ffffff; font-family: Arial; direction: ltr\">\n",
              "<text class=\"displacy-token\" fill=\"currentColor\" text-anchor=\"middle\" y=\"397.0\">\n",
              "    <tspan class=\"displacy-word\" fill=\"currentColor\" x=\"50\">Семантику</tspan>\n",
              "    <tspan class=\"displacy-tag\" dy=\"2em\" fill=\"currentColor\" x=\"50\">NOUN</tspan>\n",
              "</text>\n",
              "\n",
              "<text class=\"displacy-token\" fill=\"currentColor\" text-anchor=\"middle\" y=\"397.0\">\n",
              "    <tspan class=\"displacy-word\" fill=\"currentColor\" x=\"225\">я</tspan>\n",
              "    <tspan class=\"displacy-tag\" dy=\"2em\" fill=\"currentColor\" x=\"225\">PRON</tspan>\n",
              "</text>\n",
              "\n",
              "<text class=\"displacy-token\" fill=\"currentColor\" text-anchor=\"middle\" y=\"397.0\">\n",
              "    <tspan class=\"displacy-word\" fill=\"currentColor\" x=\"400\">люблю,</tspan>\n",
              "    <tspan class=\"displacy-tag\" dy=\"2em\" fill=\"currentColor\" x=\"400\">VERB</tspan>\n",
              "</text>\n",
              "\n",
              "<text class=\"displacy-token\" fill=\"currentColor\" text-anchor=\"middle\" y=\"397.0\">\n",
              "    <tspan class=\"displacy-word\" fill=\"currentColor\" x=\"575\">а</tspan>\n",
              "    <tspan class=\"displacy-tag\" dy=\"2em\" fill=\"currentColor\" x=\"575\">CCONJ</tspan>\n",
              "</text>\n",
              "\n",
              "<text class=\"displacy-token\" fill=\"currentColor\" text-anchor=\"middle\" y=\"397.0\">\n",
              "    <tspan class=\"displacy-word\" fill=\"currentColor\" x=\"750\">вот</tspan>\n",
              "    <tspan class=\"displacy-tag\" dy=\"2em\" fill=\"currentColor\" x=\"750\">PART</tspan>\n",
              "</text>\n",
              "\n",
              "<text class=\"displacy-token\" fill=\"currentColor\" text-anchor=\"middle\" y=\"397.0\">\n",
              "    <tspan class=\"displacy-word\" fill=\"currentColor\" x=\"925\">синтаксис</tspan>\n",
              "    <tspan class=\"displacy-tag\" dy=\"2em\" fill=\"currentColor\" x=\"925\">NOUN</tspan>\n",
              "</text>\n",
              "\n",
              "<text class=\"displacy-token\" fill=\"currentColor\" text-anchor=\"middle\" y=\"397.0\">\n",
              "    <tspan class=\"displacy-word\" fill=\"currentColor\" x=\"1100\">не</tspan>\n",
              "    <tspan class=\"displacy-tag\" dy=\"2em\" fill=\"currentColor\" x=\"1100\">PART</tspan>\n",
              "</text>\n",
              "\n",
              "<text class=\"displacy-token\" fill=\"currentColor\" text-anchor=\"middle\" y=\"397.0\">\n",
              "    <tspan class=\"displacy-word\" fill=\"currentColor\" x=\"1275\">очень.</tspan>\n",
              "    <tspan class=\"displacy-tag\" dy=\"2em\" fill=\"currentColor\" x=\"1275\">ADV</tspan>\n",
              "</text>\n",
              "\n",
              "<g class=\"displacy-arrow\">\n",
              "    <path class=\"displacy-arc\" id=\"arrow-f22172a810144e77ab05128dd341b422-0-0\" stroke-width=\"2px\" d=\"M70,352.0 C70,177.0 390.0,177.0 390.0,352.0\" fill=\"none\" stroke=\"currentColor\"/>\n",
              "    <text dy=\"1.25em\" style=\"font-size: 0.8em; letter-spacing: 1px\">\n",
              "        <textPath xlink:href=\"#arrow-f22172a810144e77ab05128dd341b422-0-0\" class=\"displacy-label\" startOffset=\"50%\" side=\"left\" fill=\"currentColor\" text-anchor=\"middle\">obj</textPath>\n",
              "    </text>\n",
              "    <path class=\"displacy-arrowhead\" d=\"M70,354.0 L62,342.0 78,342.0\" fill=\"currentColor\"/>\n",
              "</g>\n",
              "\n",
              "<g class=\"displacy-arrow\">\n",
              "    <path class=\"displacy-arc\" id=\"arrow-f22172a810144e77ab05128dd341b422-0-1\" stroke-width=\"2px\" d=\"M245,352.0 C245,264.5 385.0,264.5 385.0,352.0\" fill=\"none\" stroke=\"currentColor\"/>\n",
              "    <text dy=\"1.25em\" style=\"font-size: 0.8em; letter-spacing: 1px\">\n",
              "        <textPath xlink:href=\"#arrow-f22172a810144e77ab05128dd341b422-0-1\" class=\"displacy-label\" startOffset=\"50%\" side=\"left\" fill=\"currentColor\" text-anchor=\"middle\">nsubj</textPath>\n",
              "    </text>\n",
              "    <path class=\"displacy-arrowhead\" d=\"M245,354.0 L237,342.0 253,342.0\" fill=\"currentColor\"/>\n",
              "</g>\n",
              "\n",
              "<g class=\"displacy-arrow\">\n",
              "    <path class=\"displacy-arc\" id=\"arrow-f22172a810144e77ab05128dd341b422-0-2\" stroke-width=\"2px\" d=\"M595,352.0 C595,89.5 1270.0,89.5 1270.0,352.0\" fill=\"none\" stroke=\"currentColor\"/>\n",
              "    <text dy=\"1.25em\" style=\"font-size: 0.8em; letter-spacing: 1px\">\n",
              "        <textPath xlink:href=\"#arrow-f22172a810144e77ab05128dd341b422-0-2\" class=\"displacy-label\" startOffset=\"50%\" side=\"left\" fill=\"currentColor\" text-anchor=\"middle\">cc</textPath>\n",
              "    </text>\n",
              "    <path class=\"displacy-arrowhead\" d=\"M595,354.0 L587,342.0 603,342.0\" fill=\"currentColor\"/>\n",
              "</g>\n",
              "\n",
              "<g class=\"displacy-arrow\">\n",
              "    <path class=\"displacy-arc\" id=\"arrow-f22172a810144e77ab05128dd341b422-0-3\" stroke-width=\"2px\" d=\"M770,352.0 C770,264.5 910.0,264.5 910.0,352.0\" fill=\"none\" stroke=\"currentColor\"/>\n",
              "    <text dy=\"1.25em\" style=\"font-size: 0.8em; letter-spacing: 1px\">\n",
              "        <textPath xlink:href=\"#arrow-f22172a810144e77ab05128dd341b422-0-3\" class=\"displacy-label\" startOffset=\"50%\" side=\"left\" fill=\"currentColor\" text-anchor=\"middle\">advmod</textPath>\n",
              "    </text>\n",
              "    <path class=\"displacy-arrowhead\" d=\"M770,354.0 L762,342.0 778,342.0\" fill=\"currentColor\"/>\n",
              "</g>\n",
              "\n",
              "<g class=\"displacy-arrow\">\n",
              "    <path class=\"displacy-arc\" id=\"arrow-f22172a810144e77ab05128dd341b422-0-4\" stroke-width=\"2px\" d=\"M945,352.0 C945,177.0 1265.0,177.0 1265.0,352.0\" fill=\"none\" stroke=\"currentColor\"/>\n",
              "    <text dy=\"1.25em\" style=\"font-size: 0.8em; letter-spacing: 1px\">\n",
              "        <textPath xlink:href=\"#arrow-f22172a810144e77ab05128dd341b422-0-4\" class=\"displacy-label\" startOffset=\"50%\" side=\"left\" fill=\"currentColor\" text-anchor=\"middle\">nsubj</textPath>\n",
              "    </text>\n",
              "    <path class=\"displacy-arrowhead\" d=\"M945,354.0 L937,342.0 953,342.0\" fill=\"currentColor\"/>\n",
              "</g>\n",
              "\n",
              "<g class=\"displacy-arrow\">\n",
              "    <path class=\"displacy-arc\" id=\"arrow-f22172a810144e77ab05128dd341b422-0-5\" stroke-width=\"2px\" d=\"M1120,352.0 C1120,264.5 1260.0,264.5 1260.0,352.0\" fill=\"none\" stroke=\"currentColor\"/>\n",
              "    <text dy=\"1.25em\" style=\"font-size: 0.8em; letter-spacing: 1px\">\n",
              "        <textPath xlink:href=\"#arrow-f22172a810144e77ab05128dd341b422-0-5\" class=\"displacy-label\" startOffset=\"50%\" side=\"left\" fill=\"currentColor\" text-anchor=\"middle\">advmod</textPath>\n",
              "    </text>\n",
              "    <path class=\"displacy-arrowhead\" d=\"M1120,354.0 L1112,342.0 1128,342.0\" fill=\"currentColor\"/>\n",
              "</g>\n",
              "\n",
              "<g class=\"displacy-arrow\">\n",
              "    <path class=\"displacy-arc\" id=\"arrow-f22172a810144e77ab05128dd341b422-0-6\" stroke-width=\"2px\" d=\"M420,352.0 C420,2.0 1275.0,2.0 1275.0,352.0\" fill=\"none\" stroke=\"currentColor\"/>\n",
              "    <text dy=\"1.25em\" style=\"font-size: 0.8em; letter-spacing: 1px\">\n",
              "        <textPath xlink:href=\"#arrow-f22172a810144e77ab05128dd341b422-0-6\" class=\"displacy-label\" startOffset=\"50%\" side=\"left\" fill=\"currentColor\" text-anchor=\"middle\">conj</textPath>\n",
              "    </text>\n",
              "    <path class=\"displacy-arrowhead\" d=\"M1275.0,354.0 L1283.0,342.0 1267.0,342.0\" fill=\"currentColor\"/>\n",
              "</g>\n",
              "</svg></span>"
            ],
            "text/plain": [
              "<IPython.core.display.HTML object>"
            ]
          },
          "metadata": {},
          "output_type": "display_data"
        }
      ],
      "source": [
        "sem_synt_doc = nlp_ru(\"Семантику я люблю, а вот синтаксис не очень.\")\n",
        "\n",
        "displacy.render(sem_synt_doc, style='dep')"
      ]
    },
    {
      "cell_type": "code",
      "execution_count": 69,
      "metadata": {
        "colab": {
          "base_uri": "https://localhost:8080/",
          "height": 52
        },
        "id": "IFwEjGleKLjo",
        "outputId": "f5dcd99c-1a8d-4ab5-91e1-3e9e86cdc776"
      },
      "outputs": [
        {
          "data": {
            "text/html": [
              "<span class=\"tex2jax_ignore\"><div class=\"entities\" style=\"line-height: 2.5; direction: ltr\">Легендарный \n",
              "<mark class=\"entity\" style=\"background: #ddd; padding: 0.45em 0.6em; margin: 0 0.25em; line-height: 1; border-radius: 0.35em;\">\n",
              "    Бока\n",
              "    <span style=\"font-size: 0.8em; font-weight: bold; line-height: 1; border-radius: 0.35em; vertical-align: middle; margin-left: 0.5rem\">PER</span>\n",
              "</mark>\n",
              " и его внук популярный певец \n",
              "<mark class=\"entity\" style=\"background: #ddd; padding: 0.45em 0.6em; margin: 0 0.25em; line-height: 1; border-radius: 0.35em;\">\n",
              "    Жока\n",
              "    <span style=\"font-size: 0.8em; font-weight: bold; line-height: 1; border-radius: 0.35em; vertical-align: middle; margin-left: 0.5rem\">PER</span>\n",
              "</mark>\n",
              " пишут код на \n",
              "<mark class=\"entity\" style=\"background: #7aecec; padding: 0.45em 0.6em; margin: 0 0.25em; line-height: 1; border-radius: 0.35em;\">\n",
              "    Python\n",
              "    <span style=\"font-size: 0.8em; font-weight: bold; line-height: 1; border-radius: 0.35em; vertical-align: middle; margin-left: 0.5rem\">ORG</span>\n",
              "</mark>\n",
              ".</div></span>"
            ],
            "text/plain": [
              "<IPython.core.display.HTML object>"
            ]
          },
          "metadata": {},
          "output_type": "display_data"
        }
      ],
      "source": [
        "kate_doc = nlp_ru(\"Легендарный Бока и его внук популярный певец Жока пишут код на Python.\")\n",
        "\n",
        "displacy.render(kate_doc, style='ent')"
      ]
    },
    {
      "cell_type": "markdown",
      "metadata": {
        "id": "naLr-K7ebddj"
      },
      "source": [
        "## Universal Dependencies Parser"
      ]
    },
    {
      "cell_type": "markdown",
      "metadata": {
        "id": "6SgjRPN1bgDw"
      },
      "source": [
        "[Один из туториалов-сравнений](https://habr.com/ru/company/sberbank/blog/418701/)\n",
        "\n",
        "[**Universal Dependencies**](https://universaldependencies.org/) $-$ это проект по унификации разметки синтаксических корпусов (трибанков) в рамках грамматики зависимостей.\n",
        "\n",
        "В русском языке количество типов синтаксических связей ограничено: подлежащее, сказуемое и т.д. В английском то же самое, но набор уже другой. Например, там появляется артикль, который тоже надо как-то маркировать. Если бы мы хотели написать волшебный парсер, который мог бы обрабатывать все языки, то довольно быстро уперлись бы в проблемы сопоставления разных грамматик. Героическим создателям Universal Dependencies удалось договориться между собой и разметить все корпусы, которые имелись в их распоряжении, в едином формате.\n",
        "\n",
        "Для того, чтобы разметить что-то новое, нужно обучить модель на размеченном корпусе. Таких корпусов для русского языка есть несколько (можно посмотреть на сайте Universal Dependencies). Основные и самые большие размеченные корпуса:\n",
        "+ Syntagrus\n",
        "+ Taiga"
      ]
    },
    {
      "cell_type": "markdown",
      "metadata": {
        "id": "WvEC_5HjdWuV"
      },
      "source": [
        "### UDPipe 2.0, принцип работы"
      ]
    },
    {
      "cell_type": "markdown",
      "metadata": {
        "id": "zV17Z5aAdRcT"
      },
      "source": [
        "+ Сначала текст разделяется на предложения, а предложения $-$ на слова.\n",
        "+ Затем начинает работу теггер $-$ штука, которая предсказывает морфологические свойства токена: в каком падеже слово стоит, в каком числе. По последним четырем символам каждого слова теггер генерирует гипотезы относительно части речи и морфологических тегов этого слова, а затем при помощи перцептрона отбирает лучший вариант.\n",
        "+ В UDPipe есть еще лемматизатор, который подбирает для слов начальную форму.\n",
        "+ потом происходит синтаксический парсинг\n",
        "\n",
        "В итоге получается какой-то такой разбор по грамматике зависимостей предложения:\n",
        "\n",
        "Пример для английского            |  Пример для русского\n",
        ":--------------------------------:|:-------------------------:\n",
        "![](https://habrastorage.org/getpro/habr/post_images/686/c78/066/686c780661b296250d53cba054317a18.png)  |  ![](https://github.com/hse-ling-python/seminars/blob/master/UDPipe/koshka.png?raw=1)\n",
        "\n",
        "\n",
        "\n"
      ]
    },
    {
      "cell_type": "markdown",
      "metadata": {
        "id": "8F7nvH8Qd-dZ"
      },
      "source": [
        "## UDPipe в Python"
      ]
    },
    {
      "cell_type": "markdown",
      "metadata": {
        "id": "ZYuOH38veEwX"
      },
      "source": [
        "+ Установка:\n",
        "```python\n",
        "pip install ufal.udpipe\n",
        "pip install conllu\n",
        "```\n",
        "+ вспомогательный скрипт `model.py`: cкачайте его себе с нашего [гитхаба](https://raw.githubusercontent.com/hse-ling-python/seminars/refs/heads/master/UDPipe/model.py).\n",
        "\n",
        "+ модель для русского (либо *taiga*, либо *syntagrus*): скачать [отсюда](https://github.com/jwijffels/udpipe.models.ud.2.4/tree/master/inst/udpipe-ud-2.4-190531). ."
      ]
    },
    {
      "cell_type": "code",
      "execution_count": 70,
      "metadata": {
        "id": "RKGloEbVbczi"
      },
      "outputs": [],
      "source": [
        "!pip install ufal.udpipe --q\n",
        "!pip install conllu --q"
      ]
    },
    {
      "cell_type": "code",
      "execution_count": 71,
      "metadata": {
        "id": "g5lHGfmLeY1x"
      },
      "outputs": [],
      "source": [
        "!wget -q https://raw.githubusercontent.com/hse-ling-python/seminars/refs/heads/master/UDPipe/model.py\n",
        "!wget -q https://github.com/jwijffels/udpipe.models.ud.2.4/raw/refs/heads/master/inst/udpipe-ud-2.4-190531/russian-taiga-ud-2.4-190531.udpipe"
      ]
    },
    {
      "cell_type": "code",
      "execution_count": 72,
      "metadata": {
        "id": "77CNHE6jeX86"
      },
      "outputs": [],
      "source": [
        "import ufal.udpipe\n",
        "from model import Model\n",
        "import conllu\n",
        "from nltk.parse import DependencyGraph\n",
        "\n",
        "import warnings\n",
        "import os\n",
        "from collections import defaultdict, Counter\n",
        "\n",
        "\n",
        "warnings.filterwarnings('ignore')"
      ]
    },
    {
      "cell_type": "code",
      "execution_count": 73,
      "metadata": {
        "id": "M8pBDwAHe1P8"
      },
      "outputs": [],
      "source": [
        "our_model = Model('russian-taiga-ud-2.4-190531.udpipe')"
      ]
    },
    {
      "cell_type": "code",
      "execution_count": 74,
      "metadata": {
        "id": "OlHw4q53e1xG"
      },
      "outputs": [],
      "source": [
        "def get_conllu(my_model, text):\n",
        "    sentences = my_model.tokenize(text)\n",
        "\n",
        "    for sent in sentences:\n",
        "        my_model.tag(sent)\n",
        "        my_model.parse(sent)\n",
        "\n",
        "    conllu_text = my_model.write(sentences, \"conllu\")\n",
        "    return conllu_text"
      ]
    },
    {
      "cell_type": "markdown",
      "metadata": {
        "id": "9IgBKWSgtRGR"
      },
      "source": [
        "#### Парсинг: `get_conllu` вернёт табличку с анализом каждого слова"
      ]
    },
    {
      "cell_type": "code",
      "execution_count": 75,
      "metadata": {
        "colab": {
          "base_uri": "https://localhost:8080/"
        },
        "id": "XzSN0vzftRGS",
        "outputId": "38566af2-9fab-4261-b896-6f4f296e74cc"
      },
      "outputs": [
        {
          "name": "stdout",
          "output_type": "stream",
          "text": [
            "# newdoc\n",
            "# newpar\n",
            "# sent_id = 1\n",
            "# text = Я была в школе целый день.\n",
            "1\tЯ\tя\tPRON\t_\tCase=Nom|Number=Sing|Person=1\t6\tnsubj\t_\t_\n",
            "2\tбыла\tбыть\tAUX\t_\tAspect=Imp|Gender=Fem|Mood=Ind|Number=Sing|Tense=Past|VerbForm=Fin|Voice=Act\t6\tcop\t_\t_\n",
            "3\tв\tв\tADP\t_\t_\t4\tcase\t_\t_\n",
            "4\tшколе\tшколя\tNOUN\t_\tAnimacy=Inan|Case=Loc|Gender=Masc|Number=Sing\t6\tnmod\t_\t_\n",
            "5\tцелый\tцелый\tADJ\t_\tAnimacy=Inan|Case=Acc|Degree=Pos|Gender=Masc|Number=Sing\t6\tamod\t_\t_\n",
            "6\tдень\tдень\tNOUN\t_\tAnimacy=Inan|Case=Acc|Gender=Masc|Number=Sing\t0\troot\t_\tSpaceAfter=No\n",
            "7\t.\t.\tPUNCT\t_\t_\t6\tpunct\t_\t_\n",
            "\n",
            "# sent_id = 2\n",
            "# text = И завтра тоже там буду.\n",
            "1\tИ\tи\tCCONJ\t_\t_\t4\tcc\t_\t_\n",
            "2\tзавтра\tзавтра\tADV\t_\tDegree=Pos\t4\tadvmod\t_\t_\n",
            "3\tтоже\tтоже\tPART\t_\t_\t4\tadvmod\t_\t_\n",
            "4\tтам\tтам\tADV\t_\tDegree=Pos\t0\troot\t_\t_\n",
            "5\tбуду\tбыть\tAUX\t_\tAspect=Imp|Mood=Ind|Number=Sing|Person=1|Tense=Pres|VerbForm=Fin|Voice=Act\t4\tcop\t_\tSpaceAfter=No\n",
            "6\t.\t.\tPUNCT\t_\t_\t4\tpunct\t_\tSpaceAfter=No\n",
            "\n",
            "\n"
          ]
        }
      ],
      "source": [
        "parsed_text = get_conllu(our_model, 'Я была в школе целый день. И завтра тоже там буду.')\n",
        "print(parsed_text)"
      ]
    },
    {
      "cell_type": "code",
      "execution_count": 76,
      "metadata": {
        "colab": {
          "base_uri": "https://localhost:8080/"
        },
        "id": "Lhk3h_4ntRGV",
        "outputId": "d18e901d-e519-4aa0-8081-fd8e2d3e1d31"
      },
      "outputs": [
        {
          "data": {
            "text/plain": [
              "[TokenTree<token={id=6, form=день}, children=[...]>,\n",
              " TokenTree<token={id=4, form=там}, children=[...]>]"
            ]
          },
          "execution_count": 76,
          "metadata": {},
          "output_type": "execute_result"
        }
      ],
      "source": [
        "conllu.parse_tree(parsed_text)"
      ]
    },
    {
      "cell_type": "markdown",
      "metadata": {
        "id": "GDbfqJnhtRGX"
      },
      "source": [
        "Получается, что это список из объектов, по одному для каждого предложения. Каждое предложение представляет собой дерево."
      ]
    },
    {
      "cell_type": "code",
      "execution_count": 77,
      "metadata": {
        "id": "yad-yx0DtRGb"
      },
      "outputs": [],
      "source": [
        "first_tree = conllu.parse_tree(parsed_text)[0]"
      ]
    },
    {
      "cell_type": "code",
      "execution_count": 78,
      "metadata": {
        "colab": {
          "base_uri": "https://localhost:8080/"
        },
        "id": "Ba825ZCEtRGf",
        "outputId": "cb874930-ccb7-4383-98d9-0cbdf913ac56"
      },
      "outputs": [
        {
          "name": "stdout",
          "output_type": "stream",
          "text": [
            "(deprel:root) form:день lemma:день upos:NOUN [6]\n",
            "    (deprel:nsubj) form:Я lemma:я upos:PRON [1]\n",
            "    (deprel:cop) form:была lemma:быть upos:AUX [2]\n",
            "    (deprel:nmod) form:школе lemma:школя upos:NOUN [4]\n",
            "        (deprel:case) form:в lemma:в upos:ADP [3]\n",
            "    (deprel:amod) form:целый lemma:целый upos:ADJ [5]\n",
            "    (deprel:punct) form:. lemma:. upos:PUNCT [7]\n"
          ]
        }
      ],
      "source": [
        "first_tree.print_tree()  # вот это на винде не работает, запускайте в Google Colab"
      ]
    },
    {
      "cell_type": "markdown",
      "metadata": {
        "id": "tezpMBhQ__QI"
      },
      "source": [
        "Разобранные предложения хранятся в формате CONLL:\n",
        "- слово на каждой строчке,\n",
        "- тэги через табы,\n",
        "- предложения отделены двойными отступами.\n",
        "\n",
        "CONLL $-$ по названию конференции Conference on Computational Natural Language Learning, в рамках который проводились и проводятся соревнования по парсингу.\n"
      ]
    },
    {
      "cell_type": "markdown",
      "metadata": {
        "id": "c5vzcFMwiRQg"
      },
      "source": [
        "### Визуализация: `DependencyGraph`"
      ]
    },
    {
      "cell_type": "markdown",
      "metadata": {
        "id": "aw2LnakxiXGQ"
      },
      "source": [
        "DependencyGraph работает с форматом CONLL, поэтому напишем функцию, которая добавит в наш разбор табы и двойные отступы `get_dep_tree`."
      ]
    },
    {
      "cell_type": "code",
      "execution_count": 79,
      "metadata": {
        "id": "eBBXlgm-xnp4"
      },
      "outputs": [],
      "source": [
        "def get_dep_tree(text):\n",
        "    trees = []\n",
        "    for sent in text.split('\\n\\n'):\n",
        "        tree = [line for line in sent.split('\\n') if line and line[0] != '#']\n",
        "        trees.append('\\n'.join(tree))\n",
        "    return trees"
      ]
    },
    {
      "cell_type": "code",
      "execution_count": 80,
      "metadata": {
        "colab": {
          "base_uri": "https://localhost:8080/"
        },
        "id": "Uyn9t-Q0x71D",
        "outputId": "f1888deb-b0e7-42b9-8b22-f8cd00fdfa33"
      },
      "outputs": [
        {
          "data": {
            "text/plain": [
              "['1\\tЯ\\tя\\tPRON\\t_\\tCase=Nom|Number=Sing|Person=1\\t6\\tnsubj\\t_\\t_\\n2\\tбыла\\tбыть\\tAUX\\t_\\tAspect=Imp|Gender=Fem|Mood=Ind|Number=Sing|Tense=Past|VerbForm=Fin|Voice=Act\\t6\\tcop\\t_\\t_\\n3\\tв\\tв\\tADP\\t_\\t_\\t4\\tcase\\t_\\t_\\n4\\tшколе\\tшколя\\tNOUN\\t_\\tAnimacy=Inan|Case=Loc|Gender=Masc|Number=Sing\\t6\\tnmod\\t_\\t_\\n5\\tцелый\\tцелый\\tADJ\\t_\\tAnimacy=Inan|Case=Acc|Degree=Pos|Gender=Masc|Number=Sing\\t6\\tamod\\t_\\t_\\n6\\tдень\\tдень\\tNOUN\\t_\\tAnimacy=Inan|Case=Acc|Gender=Masc|Number=Sing\\t0\\troot\\t_\\tSpaceAfter=No\\n7\\t.\\t.\\tPUNCT\\t_\\t_\\t6\\tpunct\\t_\\t_',\n",
              " '1\\tИ\\tи\\tCCONJ\\t_\\t_\\t4\\tcc\\t_\\t_\\n2\\tзавтра\\tзавтра\\tADV\\t_\\tDegree=Pos\\t4\\tadvmod\\t_\\t_\\n3\\tтоже\\tтоже\\tPART\\t_\\t_\\t4\\tadvmod\\t_\\t_\\n4\\tтам\\tтам\\tADV\\t_\\tDegree=Pos\\t0\\troot\\t_\\t_\\n5\\tбуду\\tбыть\\tAUX\\t_\\tAspect=Imp|Mood=Ind|Number=Sing|Person=1|Tense=Pres|VerbForm=Fin|Voice=Act\\t4\\tcop\\t_\\tSpaceAfter=No\\n6\\t.\\t.\\tPUNCT\\t_\\t_\\t4\\tpunct\\t_\\tSpaceAfter=No',\n",
              " '']"
            ]
          },
          "execution_count": 80,
          "metadata": {},
          "output_type": "execute_result"
        }
      ],
      "source": [
        "conll_parsed_text = get_dep_tree(parsed_text)\n",
        "conll_parsed_text"
      ]
    },
    {
      "cell_type": "markdown",
      "metadata": {
        "id": "sMa3cs-lAwMJ"
      },
      "source": [
        "Нарисуем:\n"
      ]
    },
    {
      "cell_type": "code",
      "execution_count": 81,
      "metadata": {
        "colab": {
          "base_uri": "https://localhost:8080/",
          "height": 428
        },
        "id": "PqYYoesgyHrO",
        "outputId": "144441fc-c51c-48c4-f680-eb18798c0ec1"
      },
      "outputs": [
        {
          "data": {
            "image/svg+xml": [
              "<?xml version=\"1.0\" encoding=\"UTF-8\" standalone=\"no\"?>\n",
              "<!DOCTYPE svg PUBLIC \"-//W3C//DTD SVG 1.1//EN\"\n",
              " \"http://www.w3.org/Graphics/SVG/1.1/DTD/svg11.dtd\">\n",
              "<!-- Generated by graphviz version 14.0.1 (20251006.0113)\n",
              " -->\n",
              "<!-- Title: G Pages: 1 -->\n",
              "<svg width=\"399pt\" height=\"310pt\"\n",
              " viewBox=\"0.00 0.00 399.00 310.00\" xmlns=\"http://www.w3.org/2000/svg\" xmlns:xlink=\"http://www.w3.org/1999/xlink\">\n",
              "<g id=\"graph0\" class=\"graph\" transform=\"scale(1 1) rotate(0) translate(4 305.5)\">\n",
              "<title>G</title>\n",
              "<polygon fill=\"white\" stroke=\"none\" points=\"-4,4 -4,-305.5 395,-305.5 395,4 -4,4\"/>\n",
              "<!-- 0 -->\n",
              "<g id=\"node1\" class=\"node\">\n",
              "<title>0</title>\n",
              "<text xml:space=\"preserve\" text-anchor=\"middle\" x=\"191\" y=\"-278.45\" font-family=\"Times,serif\" font-size=\"14.00\">0 (None)</text>\n",
              "</g>\n",
              "<!-- 6 -->\n",
              "<g id=\"node2\" class=\"node\">\n",
              "<title>6</title>\n",
              "<text xml:space=\"preserve\" text-anchor=\"middle\" x=\"191\" y=\"-189.95\" font-family=\"Times,serif\" font-size=\"14.00\">6 (день)</text>\n",
              "</g>\n",
              "<!-- 0&#45;&gt;6 -->\n",
              "<g id=\"edge1\" class=\"edge\">\n",
              "<title>0&#45;&gt;6</title>\n",
              "<path fill=\"none\" stroke=\"black\" d=\"M191,-265.82C191,-254.05 191,-237.99 191,-224.24\"/>\n",
              "<polygon fill=\"black\" stroke=\"black\" points=\"194.5,-224.44 191,-214.44 187.5,-224.44 194.5,-224.44\"/>\n",
              "<text xml:space=\"preserve\" text-anchor=\"middle\" x=\"201.88\" y=\"-234.2\" font-family=\"Times,serif\" font-size=\"14.00\">root</text>\n",
              "</g>\n",
              "<!-- 1 -->\n",
              "<g id=\"node3\" class=\"node\">\n",
              "<title>1</title>\n",
              "<text xml:space=\"preserve\" text-anchor=\"middle\" x=\"27\" y=\"-101.45\" font-family=\"Times,serif\" font-size=\"14.00\">1 (Я)</text>\n",
              "</g>\n",
              "<!-- 6&#45;&gt;1 -->\n",
              "<g id=\"edge3\" class=\"edge\">\n",
              "<title>6&#45;&gt;1</title>\n",
              "<path fill=\"none\" stroke=\"black\" d=\"M159.98,-182.66C143.79,-176.35 123.86,-167.98 106.75,-159 90.86,-150.66 74.06,-140.1 60,-130.71\"/>\n",
              "<polygon fill=\"black\" stroke=\"black\" points=\"62.25,-128 52,-125.29 58.32,-133.8 62.25,-128\"/>\n",
              "<text xml:space=\"preserve\" text-anchor=\"middle\" x=\"121.38\" y=\"-145.7\" font-family=\"Times,serif\" font-size=\"14.00\">nsubj</text>\n",
              "</g>\n",
              "<!-- 2 -->\n",
              "<g id=\"node4\" class=\"node\">\n",
              "<title>2</title>\n",
              "<text xml:space=\"preserve\" text-anchor=\"middle\" x=\"104\" y=\"-101.45\" font-family=\"Times,serif\" font-size=\"14.00\">2 (была)</text>\n",
              "</g>\n",
              "<!-- 6&#45;&gt;2 -->\n",
              "<g id=\"edge4\" class=\"edge\">\n",
              "<title>6&#45;&gt;2</title>\n",
              "<path fill=\"none\" stroke=\"black\" d=\"M174.23,-177.32C161.43,-164.6 143.6,-146.87 129.1,-132.46\"/>\n",
              "<polygon fill=\"black\" stroke=\"black\" points=\"131.65,-130.06 122.09,-125.49 126.72,-135.02 131.65,-130.06\"/>\n",
              "<text xml:space=\"preserve\" text-anchor=\"middle\" x=\"165.04\" y=\"-145.7\" font-family=\"Times,serif\" font-size=\"14.00\">cop</text>\n",
              "</g>\n",
              "<!-- 4 -->\n",
              "<g id=\"node6\" class=\"node\">\n",
              "<title>4</title>\n",
              "<text xml:space=\"preserve\" text-anchor=\"middle\" x=\"191\" y=\"-101.45\" font-family=\"Times,serif\" font-size=\"14.00\">4 (школе)</text>\n",
              "</g>\n",
              "<!-- 6&#45;&gt;4 -->\n",
              "<g id=\"edge5\" class=\"edge\">\n",
              "<title>6&#45;&gt;4</title>\n",
              "<path fill=\"none\" stroke=\"black\" d=\"M191,-177.32C191,-165.55 191,-149.49 191,-135.74\"/>\n",
              "<polygon fill=\"black\" stroke=\"black\" points=\"194.5,-135.94 191,-125.94 187.5,-135.94 194.5,-135.94\"/>\n",
              "<text xml:space=\"preserve\" text-anchor=\"middle\" x=\"206.75\" y=\"-145.7\" font-family=\"Times,serif\" font-size=\"14.00\">nmod</text>\n",
              "</g>\n",
              "<!-- 5 -->\n",
              "<g id=\"node7\" class=\"node\">\n",
              "<title>5</title>\n",
              "<text xml:space=\"preserve\" text-anchor=\"middle\" x=\"282\" y=\"-101.45\" font-family=\"Times,serif\" font-size=\"14.00\">5 (целый)</text>\n",
              "</g>\n",
              "<!-- 6&#45;&gt;5 -->\n",
              "<g id=\"edge6\" class=\"edge\">\n",
              "<title>6&#45;&gt;5</title>\n",
              "<path fill=\"none\" stroke=\"black\" d=\"M208.55,-177.32C222.05,-164.48 240.93,-146.54 256.17,-132.06\"/>\n",
              "<polygon fill=\"black\" stroke=\"black\" points=\"258.26,-134.89 263.1,-125.46 253.44,-129.82 258.26,-134.89\"/>\n",
              "<text xml:space=\"preserve\" text-anchor=\"middle\" x=\"260.03\" y=\"-145.7\" font-family=\"Times,serif\" font-size=\"14.00\">amod</text>\n",
              "</g>\n",
              "<!-- 7 -->\n",
              "<g id=\"node8\" class=\"node\">\n",
              "<title>7</title>\n",
              "<text xml:space=\"preserve\" text-anchor=\"middle\" x=\"364\" y=\"-101.45\" font-family=\"Times,serif\" font-size=\"14.00\">7 (.)</text>\n",
              "</g>\n",
              "<!-- 6&#45;&gt;7 -->\n",
              "<g id=\"edge7\" class=\"edge\">\n",
              "<title>6&#45;&gt;7</title>\n",
              "<path fill=\"none\" stroke=\"black\" d=\"M222.09,-183.08C239.19,-176.71 260.6,-168.15 279,-159 295.98,-150.55 314.05,-139.86 329.14,-130.42\"/>\n",
              "<polygon fill=\"black\" stroke=\"black\" points=\"330.74,-133.55 337.31,-125.23 326.99,-127.64 330.74,-133.55\"/>\n",
              "<text xml:space=\"preserve\" text-anchor=\"middle\" x=\"322.78\" y=\"-145.7\" font-family=\"Times,serif\" font-size=\"14.00\">punct</text>\n",
              "</g>\n",
              "<!-- 3 -->\n",
              "<g id=\"node5\" class=\"node\">\n",
              "<title>3</title>\n",
              "<text xml:space=\"preserve\" text-anchor=\"middle\" x=\"191\" y=\"-12.95\" font-family=\"Times,serif\" font-size=\"14.00\">3 (в)</text>\n",
              "</g>\n",
              "<!-- 4&#45;&gt;3 -->\n",
              "<g id=\"edge2\" class=\"edge\">\n",
              "<title>4&#45;&gt;3</title>\n",
              "<path fill=\"none\" stroke=\"black\" d=\"M191,-88.82C191,-77.05 191,-60.99 191,-47.24\"/>\n",
              "<polygon fill=\"black\" stroke=\"black\" points=\"194.5,-47.44 191,-37.44 187.5,-47.44 194.5,-47.44\"/>\n",
              "<text xml:space=\"preserve\" text-anchor=\"middle\" x=\"202.62\" y=\"-57.2\" font-family=\"Times,serif\" font-size=\"14.00\">case</text>\n",
              "</g>\n",
              "</g>\n",
              "</svg>\n"
            ],
            "text/plain": [
              "<DependencyGraph with 8 nodes>"
            ]
          },
          "execution_count": 81,
          "metadata": {},
          "output_type": "execute_result"
        }
      ],
      "source": [
        "graph_first_tree = DependencyGraph(conll_parsed_text[0])\n",
        "graph_first_tree"
      ]
    },
    {
      "cell_type": "markdown",
      "metadata": {
        "id": "mgv99q7hilt3"
      },
      "source": [
        "Какая-то фигня получилась. Но это и выше было видно.\n"
      ]
    },
    {
      "cell_type": "markdown",
      "metadata": {
        "id": "y4_sfHdVF3YY"
      },
      "source": [
        "#### Узлы графа: `triples`."
      ]
    },
    {
      "cell_type": "code",
      "execution_count": 82,
      "metadata": {
        "colab": {
          "base_uri": "https://localhost:8080/"
        },
        "id": "0ek7oXMuGIth",
        "outputId": "c8756cb9-1df1-4c58-e732-7231cac3965c"
      },
      "outputs": [
        {
          "data": {
            "text/plain": [
              "{'address': 2,\n",
              " 'word': 'была',\n",
              " 'lemma': 'быть',\n",
              " 'ctag': 'AUX',\n",
              " 'tag': '_',\n",
              " 'feats': 'Aspect=Imp|Gender=Fem|Mood=Ind|Number=Sing|Tense=Past|VerbForm=Fin|Voice=Act',\n",
              " 'head': 6,\n",
              " 'deps': defaultdict(list, {}),\n",
              " 'rel': 'cop'}"
            ]
          },
          "execution_count": 82,
          "metadata": {},
          "output_type": "execute_result"
        }
      ],
      "source": [
        "graph_first_tree.root = graph_first_tree.nodes[0]  # чтобы метод сработал нужно установить корневой элемент\n",
        "# при этом, если в разборе ошибка и вы счтаете, что root - это graph_first_tree.nodes[2],\n",
        "# использовать этот корень в .triples не получится, будет ошибка\n",
        "graph_first_tree.nodes[2]"
      ]
    },
    {
      "cell_type": "code",
      "execution_count": 83,
      "metadata": {
        "colab": {
          "base_uri": "https://localhost:8080/"
        },
        "id": "wzAv8A72F8dx",
        "outputId": "2ea9bb4b-6f57-469a-d149-afecd054c96e"
      },
      "outputs": [
        {
          "data": {
            "text/plain": [
              "[((None, 'TOP'), 'root', ('день', 'NOUN')),\n",
              " (('день', 'NOUN'), 'nsubj', ('Я', 'PRON')),\n",
              " (('день', 'NOUN'), 'cop', ('была', 'AUX')),\n",
              " (('день', 'NOUN'), 'nmod', ('школе', 'NOUN')),\n",
              " (('школе', 'NOUN'), 'case', ('в', 'ADP')),\n",
              " (('день', 'NOUN'), 'amod', ('целый', 'ADJ')),\n",
              " (('день', 'NOUN'), 'punct', ('.', 'PUNCT'))]"
            ]
          },
          "execution_count": 83,
          "metadata": {},
          "output_type": "execute_result"
        }
      ],
      "source": [
        "list(graph_first_tree.triples())"
      ]
    },
    {
      "cell_type": "markdown",
      "metadata": {
        "id": "msrAWOiZi6Yb"
      },
      "source": [
        "### Задачи"
      ]
    },
    {
      "cell_type": "markdown",
      "metadata": {
        "id": "CUQVwacANdTS"
      },
      "source": [
        "1. **Достать из корпуса все возможные модификаторы какого-нибудь слова**\n",
        "\n",
        "Сами парсить не будем, а возьмем уже готовые разборы из Тайги. Возьмем маленький кусочек (Arzamas). Cкачать его можно тут: https://linghub.ru/static/Taiga/Arzamas.zip\n",
        "\n",
        "В нем есть папка с обработанными текстами. Соберем их в один список. Нашим конечным заданием будет достать все модификаторы для какого-нибудь конкретного слова в этом корпусе."
      ]
    },
    {
      "cell_type": "code",
      "execution_count": null,
      "metadata": {},
      "outputs": [],
      "source": [
        "!wget -q https://linghub.ru/static/Taiga/Arzamas.zip\n",
        "!unzip -q Arzamas.zip"
      ]
    },
    {
      "cell_type": "code",
      "execution_count": 85,
      "metadata": {
        "id": "ejfly8a7JpOn"
      },
      "outputs": [],
      "source": [
        "path = 'Arzamas/texts_tagged/'\n",
        "files = [path + file for file in os.listdir(path)]"
      ]
    },
    {
      "cell_type": "markdown",
      "metadata": {
        "id": "buUiJEkOKTj0"
      },
      "source": [
        "Посмотрим, что вообще лежит в этих файлах:"
      ]
    },
    {
      "cell_type": "code",
      "execution_count": 86,
      "metadata": {
        "id": "IVse55oQKNjx"
      },
      "outputs": [],
      "source": [
        "with open(files[2]) as file:\n",
        "    text_file = file.read()"
      ]
    },
    {
      "cell_type": "markdown",
      "metadata": {
        "id": "mwhSJ53aKdNj"
      },
      "source": [
        "Тут снова формат CONLL очевидно. Давайте еще раз на него внимательно посмотрим. У нас есть тут какая-то метаинформация через #, теги через таб, деревья для отдельных предложений."
      ]
    },
    {
      "cell_type": "code",
      "execution_count": 87,
      "metadata": {
        "colab": {
          "base_uri": "https://localhost:8080/"
        },
        "id": "SoULZ-SoKYJP",
        "outputId": "ba1675de-bb00-4df1-d2a3-bb0de3fc72f8"
      },
      "outputs": [
        {
          "data": {
            "text/plain": [
              "['# text = # newpar',\n",
              " '# sent_id = 21677',\n",
              " '# text = На фреске со сценой Страшного суда из храма в селе Тазово Толстой горит в геенне огненной.',\n",
              " '1\\tНа\\tна\\tADP\\t_\\t_\\t2\\tcase\\t_\\t_',\n",
              " '2\\tфреске\\tфреска\\tNOUN\\t_\\tAnimacy=Inan|Case=Loc|Gender=Fem|Number=Sing\\t13\\tobl\\t_\\t_',\n",
              " '3\\tсо\\tс\\tADP\\t_\\t_\\t4\\tcase\\t_\\t_',\n",
              " '4\\tсценой\\tсцена\\tNOUN\\t_\\tAnimacy=Inan|Case=Ins|Gender=Fem|Number=Sing\\t2\\tnmod\\t_\\t_',\n",
              " '5\\tСтрашного\\tстрашный\\tADJ\\t_\\tCase=Gen|Degree=Pos|Gender=Masc|Number=Sing\\t6\\tamod\\t_\\t_',\n",
              " '6\\tсуда\\tсуд\\tNOUN\\t_\\tAnimacy=Inan|Case=Gen|Gender=Masc|Number=Sing\\t4\\tnmod\\t_\\t_',\n",
              " '7\\tиз\\tиз\\tADP\\t_\\t_\\t8\\tcase\\t_\\t_']"
            ]
          },
          "execution_count": 87,
          "metadata": {},
          "output_type": "execute_result"
        }
      ],
      "source": [
        "tree = [x for x in text_file.split('\\n\\n')[0].split('\\n')]\n",
        "tree[:10]"
      ]
    },
    {
      "cell_type": "markdown",
      "metadata": {
        "id": "bw3Tw80GLiiG"
      },
      "source": [
        "Соберем все деревья (то есть все предложения) из всех файлов в один список. Так мы сможем работать с этими данными как с корпусом текстов."
      ]
    },
    {
      "cell_type": "code",
      "execution_count": 88,
      "metadata": {
        "id": "mGwgHKTSLuIk"
      },
      "outputs": [],
      "source": [
        "trees = []\n",
        "\n",
        "for file in files:\n",
        "    with open(file) as text_f:\n",
        "        parsed_sents = text_f.read().split('\\n\\n')\n",
        "\n",
        "    for sent in parsed_sents:\n",
        "        # уберем мета информацию\n",
        "        tree = [line for line in sent.split('\\n') if line[0] != '#']\n",
        "        trees.append('\\n'.join(tree))"
      ]
    },
    {
      "cell_type": "code",
      "execution_count": 89,
      "metadata": {
        "id": "yFq3yGMXNnRq"
      },
      "outputs": [],
      "source": [
        "modifiers = Counter()\n",
        "for tree in trees:\n",
        "    d = DependencyGraph(tree)\n",
        "    d.root = d.nodes[0]\n",
        "    triples = list(d.triples())\n",
        "\n",
        "    for e1, rel, e2 in triples:\n",
        "        if e1[0] == 'писатель' and rel == 'amod':\n",
        "            modifiers[e2[0]] += 1"
      ]
    },
    {
      "cell_type": "code",
      "execution_count": 90,
      "metadata": {
        "colab": {
          "base_uri": "https://localhost:8080/"
        },
        "id": "VIQpBjQsNo-w",
        "outputId": "027521f2-051d-402d-d95b-643ef50d6668"
      },
      "outputs": [
        {
          "data": {
            "text/plain": [
              "Counter({'великий': 2,\n",
              "         'грузинский': 2,\n",
              "         'московский': 2,\n",
              "         'Сам': 1,\n",
              "         'умеющий': 1,\n",
              "         'церковный': 1,\n",
              "         'разоблаченный': 1,\n",
              "         'известный': 1,\n",
              "         'русский': 1,\n",
              "         'наш': 1,\n",
              "         'любимый': 1,\n",
              "         'Британский': 1,\n",
              "         'древнегреческий': 1,\n",
              "         'оказавшийся': 1,\n",
              "         'Замечательный': 1,\n",
              "         'изощренный': 1})"
            ]
          },
          "execution_count": 90,
          "metadata": {},
          "output_type": "execute_result"
        }
      ],
      "source": [
        "modifiers"
      ]
    },
    {
      "cell_type": "markdown",
      "metadata": {
        "id": "OGJEAToTIvK9"
      },
      "source": [
        "2. **Анализ текстов с помощью зависимостей**\n",
        "\n",
        "Запомним, что теперь у нас есть способ доставать все узлы, и попробуем проанализировать тексты с помощью зависимостей. ="
      ]
    },
    {
      "cell_type": "markdown",
      "metadata": {
        "id": "mV2_VPUjL8Or"
      },
      "source": [
        "Рандомное дерево из получившившегося списка:"
      ]
    },
    {
      "cell_type": "code",
      "execution_count": 91,
      "metadata": {
        "colab": {
          "base_uri": "https://localhost:8080/",
          "height": 140
        },
        "id": "TjX0PflPLwA0",
        "outputId": "a9a0ac88-2449-486d-888e-8dc8a6cf76a6"
      },
      "outputs": [
        {
          "data": {
            "text/plain": [
              "'1\\tв\\tв\\tADP\\t_\\t_\\t4\\tcase\\t_\\t_\\n2\\tсамом\\tсамый\\tADJ\\t_\\tCase=Loc|Degree=Pos|Gender=Masc|Number=Sing\\t4\\tamod\\t_\\t_\\n3\\tотвратительном\\tотвратительный\\tADJ\\t_\\tCase=Loc|Degree=Pos|Gender=Masc|Number=Sing\\t4\\tamod\\t_\\t_\\n4\\tсвете\\tсвет\\tNOUN\\t_\\tAnimacy=Inan|Case=Loc|Gender=Masc|Number=Sing\\t0\\troot\\t_\\tSpaceAfter=No\\n5\\t\"\\t\"\\tPUNCT\\t_\\t_\\t4\\tpunct\\t_\\tSpaceAfter=No\\n6\\t.\\t.\\tPUNCT\\t_\\t_\\t4\\tpunct\\t_\\t_'"
            ]
          },
          "execution_count": 91,
          "metadata": {},
          "output_type": "execute_result"
        }
      ],
      "source": [
        "trees[80]"
      ]
    },
    {
      "cell_type": "markdown",
      "metadata": {
        "id": "6mF6ooOVMLcg"
      },
      "source": [
        "Пора нарисовать красивый граф для какого-нибудь предложения из этого корпуса.\n",
        "\n",
        "Поскольку это данные, на которых можно обучать модели, они хорошо размечены и тут уже в корне дерева у нас нормальный предикат и разбор получается хороший."
      ]
    },
    {
      "cell_type": "code",
      "execution_count": 92,
      "metadata": {
        "colab": {
          "base_uri": "https://localhost:8080/",
          "height": 1000
        },
        "id": "wo8f-UMuMD7V",
        "outputId": "fe8d076a-c40c-4774-a34f-e0032e33b1a4"
      },
      "outputs": [
        {
          "data": {
            "image/svg+xml": [],
            "text/plain": [
              "<DependencyGraph with 7 nodes>"
            ]
          },
          "execution_count": 92,
          "metadata": {},
          "output_type": "execute_result"
        }
      ],
      "source": [
        "graph_tree_80 = DependencyGraph(trees[80])\n",
        "graph_tree_80"
      ]
    },
    {
      "cell_type": "markdown",
      "metadata": {
        "id": "Dwi3WDbdNUpn"
      },
      "source": [
        "Вспомним наш прекрасный метод доставания узлов:"
      ]
    },
    {
      "cell_type": "code",
      "execution_count": 93,
      "metadata": {
        "colab": {
          "base_uri": "https://localhost:8080/"
        },
        "id": "2oqR8cHtNTUA",
        "outputId": "1995ebb4-5389-45fb-eb4d-1c1df1eb3286"
      },
      "outputs": [
        {
          "data": {
            "text/plain": [
              "[((None, 'TOP'), 'root', ('свете', 'NOUN')),\n",
              " (('свете', 'NOUN'), 'case', ('в', 'ADP')),\n",
              " (('свете', 'NOUN'), 'amod', ('самом', 'ADJ')),\n",
              " (('свете', 'NOUN'), 'amod', ('отвратительном', 'ADJ')),\n",
              " (('свете', 'NOUN'), 'punct', ('\"', 'PUNCT')),\n",
              " (('свете', 'NOUN'), 'punct', ('.', 'PUNCT'))]"
            ]
          },
          "execution_count": 93,
          "metadata": {},
          "output_type": "execute_result"
        }
      ],
      "source": [
        "graph_tree_80.root = graph_tree_80.nodes[0]  # чтобы метод сработал нужно установить корневой элемент\n",
        "list(graph_tree_80.triples())"
      ]
    },
    {
      "cell_type": "markdown",
      "metadata": {
        "id": "Qm0TgTG0Or6u"
      },
      "source": [
        "Какие вообще отношения в Universal Dependencies маркируются для русского языка?\n",
        "\n",
        "https://universaldependencies.org/ru/index.html"
      ]
    },
    {
      "cell_type": "markdown",
      "metadata": {
        "id": "Xwfty4Fjle0w"
      },
      "source": [
        "**Какие еще вопросы можно решать с помощью UDPipe?**\n",
        "\n",
        "+ Достать какую-нибудь составляющую. Например, достать из всех предложений вашего корпуса именные группы.\n",
        "+ Достать самые короткие пути (пути по графу зависимостей), соединяющие между собой какие-нибудь фразы.\n",
        "+ Искать предложения или конструкции, похожие между собой по структуре.\n",
        "+ и т.д."
      ]
    },
    {
      "cell_type": "markdown",
      "metadata": {
        "id": "5Yp6OaI_KLjj"
      },
      "source": [
        "**Задание**:\n",
        "\n",
        "\n",
        "1. Дадим SpaCy на разбор предложение с синтаксической неоднозначностью. Какой анализ предлагает SpaCy?\n",
        "    + *John saw the man on the mountain with a telescope.*\n",
        "    + *I'm glad I'm a man, and so is Lola.*\n",
        "    + больше примеров: https://en.wikipedia.org/wiki/Syntactic_ambiguity\n",
        "\n",
        "2. Дадим примеры на острова (приведены ниже с традиционной оценкой их приемлемости). Какой анализ предлагает SpaCy?\n",
        "    - *What<sub>i</sub> does Sarah believe that Susan thinks that John bought \\_<sub>i</sub>?*\n",
        "    + Complex NPs\n",
        "      - _<sup>\\*</sup>Who<sub>i</sub> did Mary see the report that was about _<sub>i</sub>?_<br>(cf. *Mary saw the report that was about the senator.*)\n",
        "      - _<sup>?*</sup>Which sportscar<sub>i</sub> did the color of _<sub>i</sub> delight the baseball player?_<br>(cf. *The color of the sportscar delighted the baseball player.*)\n",
        "\n",
        "    + Complements of manner-of-speaking verbs\n",
        "       - _<sup>??</sup>What<sub>i</sub> did Mary whisper that Bill liked _<sub>i</sub>?_<br>(cf. *Mary whispered that Bill liked wine.*)\n",
        "\n",
        "    + Complex NPs (both noun complements and relative clauses)\n",
        "        - _<sup>*</sup>The senator who<sub>i</sub> Mary saw the report that was about _<sub>i</sub> bothered many people on the committee._\n",
        "\n",
        "    + Subject islands\n",
        "        - _<sup>?*</sup>The sportscar which<sub>i</sub> the color of _<sub>i</sub> delighted the baseball player…_\n",
        "\n",
        "    + Complements of manner-of-speaking verbs\n",
        "        - _<sup>?</sup>The wine which<sub>i</sub> Mary whispered that Bill liked _<sub>i</sub> was a Cabernet._\n",
        "\n",
        "3. Справляется ли SpaCy с эллипсисом:\n",
        "    + *John can [play the guitar]<sub>i</sub>, and Mary can _<sub>i</sub>, too.*\n",
        "4. Достанем все именные группы для слов с тегом `nsubj` при помощи UDPipe, т.е. достанем все именные группы в именительном падеже\n",
        "\n"
      ]
    },
    {
      "cell_type": "code",
      "execution_count": null,
      "metadata": {
        "id": "vtGb0BNusZHk"
      },
      "outputs": [],
      "source": []
    }
  ],
  "metadata": {
    "colab": {
      "provenance": []
    },
    "kernelspec": {
      "display_name": "Python 3",
      "language": "python",
      "name": "python3"
    },
    "language_info": {
      "codemirror_mode": {
        "name": "ipython",
        "version": 3
      },
      "file_extension": ".py",
      "mimetype": "text/x-python",
      "name": "python",
      "nbconvert_exporter": "python",
      "pygments_lexer": "ipython3",
      "version": "3.12.0"
    }
  },
  "nbformat": 4,
  "nbformat_minor": 0
}
