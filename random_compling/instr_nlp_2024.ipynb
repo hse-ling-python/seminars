{
  "cells": [
    {
      "cell_type": "markdown",
      "metadata": {
        "id": "cVEonm761J29"
      },
      "source": [
        "# Разные задачи и инструменты по обработке текста"
      ]
    },
    {
      "cell_type": "code",
      "source": [
        "!pip install stanza spacy textblob yake natasha keybert transformers langdetect autocorrect -q"
      ],
      "metadata": {
        "id": "pQ0IYelCod8W"
      },
      "execution_count": 1,
      "outputs": []
    },
    {
      "cell_type": "code",
      "source": [
        "!python -m spacy download ru_core_news_sm -q\n",
        "!python -m spacy download en_core_web_sm -q"
      ],
      "metadata": {
        "colab": {
          "base_uri": "https://localhost:8080/"
        },
        "id": "lKTlLIheogFC",
        "outputId": "cdead38d-f74f-4133-eb84-75f7133bd556"
      },
      "execution_count": 2,
      "outputs": [
        {
          "output_type": "stream",
          "name": "stdout",
          "text": [
            "\u001b[2K     \u001b[90m━━━━━━━━━━━━━━━━━━━━━━━━━━━━━━━━━━━━━━━━\u001b[0m \u001b[32m15.3/15.3 MB\u001b[0m \u001b[31m35.7 MB/s\u001b[0m eta \u001b[36m0:00:00\u001b[0m\n",
            "\u001b[?25h\u001b[38;5;2m✔ Download and installation successful\u001b[0m\n",
            "You can now load the package via spacy.load('ru_core_news_sm')\n",
            "\u001b[38;5;3m⚠ Restart to reload dependencies\u001b[0m\n",
            "If you are in a Jupyter or Colab notebook, you may need to restart Python in\n",
            "order to load all the package's dependencies. You can do this by selecting the\n",
            "'Restart kernel' or 'Restart runtime' option.\n",
            "\u001b[2K     \u001b[90m━━━━━━━━━━━━━━━━━━━━━━━━━━━━━━━━━━━━━━━━\u001b[0m \u001b[32m12.8/12.8 MB\u001b[0m \u001b[31m47.8 MB/s\u001b[0m eta \u001b[36m0:00:00\u001b[0m\n",
            "\u001b[?25h\u001b[38;5;2m✔ Download and installation successful\u001b[0m\n",
            "You can now load the package via spacy.load('en_core_web_sm')\n",
            "\u001b[38;5;3m⚠ Restart to reload dependencies\u001b[0m\n",
            "If you are in a Jupyter or Colab notebook, you may need to restart Python in\n",
            "order to load all the package's dependencies. You can do this by selecting the\n",
            "'Restart kernel' or 'Restart runtime' option.\n"
          ]
        }
      ]
    },
    {
      "cell_type": "code",
      "source": [
        "!python -m textblob.download_corpora -q"
      ],
      "metadata": {
        "colab": {
          "base_uri": "https://localhost:8080/"
        },
        "id": "q63T16kdoiE7",
        "outputId": "febea079-7eaa-402b-def4-3a5cf1b873e9"
      },
      "execution_count": 3,
      "outputs": [
        {
          "output_type": "stream",
          "name": "stdout",
          "text": [
            "[nltk_data] Downloading package brown to /root/nltk_data...\n",
            "[nltk_data]   Package brown is already up-to-date!\n",
            "[nltk_data] Downloading package punkt_tab to /root/nltk_data...\n",
            "[nltk_data]   Package punkt_tab is already up-to-date!\n",
            "[nltk_data] Downloading package wordnet to /root/nltk_data...\n",
            "[nltk_data]   Package wordnet is already up-to-date!\n",
            "[nltk_data] Downloading package averaged_perceptron_tagger_eng to\n",
            "[nltk_data]     /root/nltk_data...\n",
            "[nltk_data]   Package averaged_perceptron_tagger_eng is already up-to-\n",
            "[nltk_data]       date!\n",
            "[nltk_data] Downloading package conll2000 to /root/nltk_data...\n",
            "[nltk_data]   Package conll2000 is already up-to-date!\n",
            "[nltk_data] Downloading package movie_reviews to /root/nltk_data...\n",
            "[nltk_data]   Package movie_reviews is already up-to-date!\n",
            "Finished.\n"
          ]
        }
      ]
    },
    {
      "cell_type": "code",
      "execution_count": 4,
      "metadata": {
        "colab": {
          "base_uri": "https://localhost:8080/",
          "height": 224,
          "referenced_widgets": [
            "e05eacf327924a3ea1708e16707357a9",
            "6898272409fe4d74b199c2e100876076",
            "b5c4da9bf401404ea118c002dd5b2df0",
            "c133e325034e442299905e572fbc8b13",
            "c993a6dcc30746a091001b98c0fd3e0a",
            "561f69922b3c4dee9e70124f3de6000a",
            "e7cb41f8f4d448b79197bd67476d0f9a",
            "b5e9a8d7276942e9a3b79da7ef80d37f",
            "a37f7c3cc6eb404789ab2697dcbb5ee5",
            "27f75d888a384a22b13a5773c2ceb8db",
            "2dea15a382514f2a88377c16c5d4a550",
            "656e430f9d7f48ad9d1e8466075e8e7c",
            "c5d74b0691384458bcd648f6c1798cb3",
            "3edb5aa5795e441d93ba3cada1c425fa",
            "c1a01b6244294d0db85a8da0e9165d0f",
            "37a7963e931b4673922abd45e07e1286",
            "6611d676281d45158cc93e5a3958c321",
            "90ae8f32ea604ce3bcc53c8186f0dfb0",
            "460ccf72e09c4cc68a81e65e676f8ac8",
            "7220b6caa5624ea992936e93da72301f",
            "9c6359e06e974c3f8227dff0fc6e5444",
            "794be06d2d2a479ca3536f5ab6b391ae"
          ]
        },
        "id": "J1ayEDg7324s",
        "outputId": "a7a479a0-de92-405c-d0ab-ba7b97f68242"
      },
      "outputs": [
        {
          "output_type": "display_data",
          "data": {
            "text/plain": [
              "Downloading https://raw.githubusercontent.com/stanfordnlp/stanza-resources/main/resources_1.11.0.json:   0%|  …"
            ],
            "application/vnd.jupyter.widget-view+json": {
              "version_major": 2,
              "version_minor": 0,
              "model_id": "e05eacf327924a3ea1708e16707357a9"
            }
          },
          "metadata": {}
        },
        {
          "output_type": "stream",
          "name": "stderr",
          "text": [
            "INFO:stanza:Downloaded file to /root/stanza_resources/resources.json\n",
            "INFO:stanza:Downloading default packages for language: ru (Russian) ...\n",
            "INFO:stanza:File exists: /root/stanza_resources/ru/default.zip\n",
            "INFO:stanza:Finished downloading models and saved to /root/stanza_resources\n"
          ]
        },
        {
          "output_type": "display_data",
          "data": {
            "text/plain": [
              "Downloading https://raw.githubusercontent.com/stanfordnlp/stanza-resources/main/resources_1.11.0.json:   0%|  …"
            ],
            "application/vnd.jupyter.widget-view+json": {
              "version_major": 2,
              "version_minor": 0,
              "model_id": "656e430f9d7f48ad9d1e8466075e8e7c"
            }
          },
          "metadata": {}
        },
        {
          "output_type": "stream",
          "name": "stderr",
          "text": [
            "INFO:stanza:Downloaded file to /root/stanza_resources/resources.json\n",
            "INFO:stanza:Downloading default packages for language: en (English) ...\n",
            "INFO:stanza:File exists: /root/stanza_resources/en/default.zip\n",
            "INFO:stanza:Finished downloading models and saved to /root/stanza_resources\n"
          ]
        }
      ],
      "source": [
        "import stanza\n",
        "stanza.download('ru')\n",
        "stanza.download('en')"
      ]
    },
    {
      "cell_type": "markdown",
      "metadata": {
        "id": "owrJ1zci1PoY"
      },
      "source": [
        "## План\n",
        "- Извлечение именованых сущностей\n",
        "- Выделение именных групп\n",
        "- Анализ тональности\n",
        "- Выделение ключевых слов\n",
        "- Исправление опечаток"
      ]
    },
    {
      "cell_type": "markdown",
      "metadata": {
        "id": "ScKevKHz6j1e"
      },
      "source": [
        "Russian text:\n",
        "> Мы уже показывали один день на European Conference on Computer Vision глазами Сергея Кастрюлина из Yandex Research и делились трендами и статьями, которые собрала для вас Дарья Виноградова. Ещё больше интересного привёз для вас Александр Устюжанин, разработчик в команде YandexART.\n",
        "\n",
        "English text:\n",
        "> Researchers from the AI and Applied AI centers joined the  2024 in Vienna, one of the three premier A* international conferences on machine learning and artificial intelligence, alongside NeurIPS and ICLR. On July 23, Assistant Professor Ekaterina Muravleva and Professor Ivan Oseledets presented a  titled “Neural Operators Meet Conjugate Gradients: The FCG-NO Method for Efficient PDE Solving”, introducing the FCG-NO method that leverages neural operators to enhance the accuracy of differential equation solutions."
      ]
    },
    {
      "cell_type": "code",
      "execution_count": 5,
      "metadata": {
        "id": "Y5tsneapLqOO"
      },
      "outputs": [],
      "source": [
        "ru_text = '''Мы уже показывали один день на European Conference on Computer Vision глазами Сергея Кастрюлина из Yandex Research и делились трендами и статьями, которые собрала для вас Дарья Виноградова. Ещё больше интересного привёз для вас Александр Устюжанин, разработчик в команде YandexART.'''"
      ]
    },
    {
      "cell_type": "code",
      "execution_count": 6,
      "metadata": {
        "id": "BXX3hghgLp6j"
      },
      "outputs": [],
      "source": [
        "en_text = '''Researchers from the AI and Applied AI centers joined the  2024 in Vienna, one of the three premier A* international conferences on machine learning and artificial intelligence, alongside NeurIPS and ICLR. On July 23, Assistant Professor Ekaterina Muravleva and Professor Ivan Oseledets presented a  titled “Neural Operators Meet Conjugate Gradients: The FCG-NO Method for Efficient PDE Solving”, introducing the FCG-NO method that leverages neural operators to enhance the accuracy of differential equation solutions. '''"
      ]
    },
    {
      "cell_type": "markdown",
      "metadata": {
        "id": "93MsxxP4sRbk"
      },
      "source": [
        "## Извлечение именованных сущностей (Named-entity recognition, NER)"
      ]
    },
    {
      "cell_type": "markdown",
      "metadata": {
        "id": "ZhQLNuBC-wTJ"
      },
      "source": [
        "+ Задача NER – выделить спаны именованных сущностей в тексте\n",
        "+ Изначально, именованные сущности -- это персоны, локации, организации\n",
        "+ Обычно типов больше: даты, денежные суммы, прочее (например, названия брендов)\n",
        "+ Зачем? Решать задачи референции, референциального выбора и кореференции, метонимии, которые являются центральными для поиска, вопросно-ответных систем, связности текста, синтаксического и морфологического парсинга и т.д.\n",
        "+ Сложности:\n",
        "    - омонимия: \"Вашингтон\" -- город, штат, фамилия, имя жирафа, название компании?\n",
        "    - технические: какие теги? где границы сущности?\n",
        "+ BIOES-схема: к метке сущности (например, PER для персон или ORG для организаций) добавляется префикс, который обозначает позицию токена в спане сущности:\n",
        "\n",
        "  - B – beginning – первый токен в спане сущности, которая состоит из нескольких токенов;\n",
        "  - I – inside – внутри спана;\n",
        "  - О – outside – токен не относится ни к какой сущности;\n",
        "  - E – ending – последний токен сущности, которая состоит из нескольких токенов;\n",
        "  - S – single – сущность состоит из одного токена."
      ]
    },
    {
      "cell_type": "markdown",
      "metadata": {
        "id": "cLCrtetU1DpT"
      },
      "source": [
        "| Иванов | Иван | Иванович | ушел |\n",
        "| -- | -- | -- | -- |\n",
        "| B-PER | I-PER | E-PER | O |"
      ]
    },
    {
      "cell_type": "markdown",
      "metadata": {
        "id": "SOhqasSHO9PU"
      },
      "source": [
        "### Stanza\n",
        "\n",
        "+ https://stanfordnlp.github.io/stanza/\n",
        "+ библиотека для NLP\n",
        "+ 66 языков, включая русский\n",
        "+ токенизация, лемматизация, морфологический и синтаксический парсинг, NER"
      ]
    },
    {
      "cell_type": "markdown",
      "metadata": {
        "id": "BmyNmzHVR9lE"
      },
      "source": [
        "Для выявления именованных сущностей необходимо токенизировать текст."
      ]
    },
    {
      "cell_type": "code",
      "execution_count": 7,
      "metadata": {
        "colab": {
          "base_uri": "https://localhost:8080/",
          "height": 319,
          "referenced_widgets": [
            "1d3101259fec4df2a8d7ffb56a4fdc8b",
            "aaa803b3b15b4ff4885ea0430c7eb7d5",
            "d340a133cdd94b2e85292b3f38756777",
            "2d4b1616eede476794be534a441a2743",
            "60cbd28a03f947db82001f3f6344f5bc",
            "49fb0b3066eb4af0b2c537ba92962dc3",
            "67c24231cfa84fed8116b4318fffa318",
            "502f0bd6b5a14658afc9f31f86dd84a3",
            "0107bdd24a534053993c38a425608ce8",
            "eebf2014d70f4ea296ea4ba210233418",
            "00d51f8c2f594b9c8807ad271ab3cbc5"
          ]
        },
        "id": "MpplLa8O4TKP",
        "outputId": "bd240eb4-9aa3-49d6-93e1-94044ed14814"
      },
      "outputs": [
        {
          "output_type": "stream",
          "name": "stderr",
          "text": [
            "INFO:stanza:Checking for updates to resources.json in case models have been updated.  Note: this behavior can be turned off with download_method=None or download_method=DownloadMethod.REUSE_RESOURCES\n"
          ]
        },
        {
          "output_type": "display_data",
          "data": {
            "text/plain": [
              "Downloading https://raw.githubusercontent.com/stanfordnlp/stanza-resources/main/resources_1.11.0.json:   0%|  …"
            ],
            "application/vnd.jupyter.widget-view+json": {
              "version_major": 2,
              "version_minor": 0,
              "model_id": "1d3101259fec4df2a8d7ffb56a4fdc8b"
            }
          },
          "metadata": {}
        },
        {
          "output_type": "stream",
          "name": "stderr",
          "text": [
            "INFO:stanza:Downloaded file to /root/stanza_resources/resources.json\n",
            "INFO:stanza:Loading these models for language: ru (Russian):\n",
            "=========================\n",
            "| Processor | Package   |\n",
            "-------------------------\n",
            "| tokenize  | syntagrus |\n",
            "| ner       | wikiner   |\n",
            "=========================\n",
            "\n",
            "INFO:stanza:Using device: cpu\n",
            "INFO:stanza:Loading: tokenize\n",
            "INFO:stanza:Loading: ner\n",
            "INFO:stanza:Done loading processors!\n"
          ]
        }
      ],
      "source": [
        "nlp = stanza.Pipeline(lang='ru', processors='tokenize,ner')"
      ]
    },
    {
      "cell_type": "code",
      "execution_count": 8,
      "metadata": {
        "colab": {
          "base_uri": "https://localhost:8080/"
        },
        "id": "MHlvT6CoLgfc",
        "outputId": "3614f2ed-1ad0-4eb5-d4f8-a7b35ff681b4"
      },
      "outputs": [
        {
          "output_type": "stream",
          "name": "stdout",
          "text": [
            "entity: European Conference on Computer Vision\ttype: MISC\n",
            "entity: Сергея Кастрюлина\ttype: PER\n",
            "entity: Yandex Research\ttype: ORG\n",
            "entity: Дарья Виноградова\ttype: PER\n",
            "entity: Александр Устюжанин\ttype: PER\n",
            "entity: YandexART\ttype: MISC\n"
          ]
        }
      ],
      "source": [
        "doc = nlp(ru_text)\n",
        "print(*[f'entity: {ent.text}\\ttype: {ent.type}' for sent in doc.sentences for ent in sent.ents], sep='\\n')"
      ]
    },
    {
      "cell_type": "markdown",
      "metadata": {
        "id": "7BNmwxy8Ur_w"
      },
      "source": [
        "Если нужны BIOES NER теги для каждого токена:"
      ]
    },
    {
      "cell_type": "code",
      "execution_count": 9,
      "metadata": {
        "colab": {
          "base_uri": "https://localhost:8080/"
        },
        "id": "E6SsRTz7UTQY",
        "outputId": "d6ade748-a436-4636-effb-8ae4917795ac"
      },
      "outputs": [
        {
          "output_type": "stream",
          "name": "stdout",
          "text": [
            "token: Vision\tner: E-MISC\n",
            "token: глазами\tner: O\n",
            "token: Сергея\tner: B-PER\n",
            "token: Кастрюлина\tner: E-PER\n",
            "token: из\tner: O\n",
            "token: Yandex\tner: B-ORG\n",
            "token: Research\tner: E-ORG\n",
            "token: и\tner: O\n",
            "token: делились\tner: O\n",
            "token: трендами\tner: O\n",
            "token: и\tner: O\n",
            "token: статьями\tner: O\n",
            "token: ,\tner: O\n",
            "token: которые\tner: O\n",
            "token: собрала\tner: O\n",
            "token: для\tner: O\n",
            "token: вас\tner: O\n",
            "token: Дарья\tner: B-PER\n",
            "token: Виноградова\tner: E-PER\n",
            "token: .\tner: O\n",
            "token: Ещё\tner: O\n",
            "token: больше\tner: O\n",
            "token: интересного\tner: O\n",
            "token: привёз\tner: O\n",
            "token: для\tner: O\n",
            "token: вас\tner: O\n",
            "token: Александр\tner: B-PER\n",
            "token: Устюжанин\tner: E-PER\n",
            "token: ,\tner: O\n",
            "token: разработчик\tner: O\n",
            "token: в\tner: O\n",
            "token: команде\tner: O\n",
            "token: YandexART\tner: S-MISC\n",
            "token: .\tner: O\n"
          ]
        }
      ],
      "source": [
        "print(*[f'token: {token.text}\\tner: {token.ner}' for sent in doc.sentences for token in sent.tokens][10:50], sep='\\n')"
      ]
    },
    {
      "cell_type": "markdown",
      "metadata": {
        "id": "Bz88g6CI666X"
      },
      "source": [
        "Посмотрим то же самое для английского"
      ]
    },
    {
      "cell_type": "code",
      "execution_count": 10,
      "metadata": {
        "colab": {
          "base_uri": "https://localhost:8080/",
          "height": 373,
          "referenced_widgets": [
            "b5d63f30aed846a2aee645f8ea864aea",
            "daea9a1a9f1d4a59895f69bd0bee36cc",
            "d136b57c166b4870aefe69e91253ddbb",
            "1d6ea613fc944f83a9ba05f5e337e3a9",
            "5ed1059dee714844a60fc38b5cb015f9",
            "d6679a8c21cc45fd8643bc68b69d3833",
            "81bbb223500d427dbf8a0b64e81d4c8d",
            "2d51ea57c6d84a9fa448d86a7d5c794b",
            "0c9a8d2c72e8498b998b9129b63fc696",
            "39a88f6d723f468983c9cd20c63aed0d",
            "249dc4dbd93f416db22d00f0111a9c03"
          ]
        },
        "id": "UsuS9GGx6-E2",
        "outputId": "955a8da6-e031-4698-83bb-ec96d94149ac"
      },
      "outputs": [
        {
          "output_type": "stream",
          "name": "stderr",
          "text": [
            "INFO:stanza:Checking for updates to resources.json in case models have been updated.  Note: this behavior can be turned off with download_method=None or download_method=DownloadMethod.REUSE_RESOURCES\n"
          ]
        },
        {
          "output_type": "display_data",
          "data": {
            "text/plain": [
              "Downloading https://raw.githubusercontent.com/stanfordnlp/stanza-resources/main/resources_1.11.0.json:   0%|  …"
            ],
            "application/vnd.jupyter.widget-view+json": {
              "version_major": 2,
              "version_minor": 0,
              "model_id": "b5d63f30aed846a2aee645f8ea864aea"
            }
          },
          "metadata": {}
        },
        {
          "output_type": "stream",
          "name": "stderr",
          "text": [
            "INFO:stanza:Downloaded file to /root/stanza_resources/resources.json\n",
            "WARNING:stanza:Language en package default expects mwt, which has been added\n",
            "INFO:stanza:Loading these models for language: en (English):\n",
            "=========================================\n",
            "| Processor | Package                   |\n",
            "-----------------------------------------\n",
            "| tokenize  | combined                  |\n",
            "| mwt       | combined                  |\n",
            "| ner       | ontonotes-ww-multi_charlm |\n",
            "=========================================\n",
            "\n",
            "INFO:stanza:Using device: cpu\n",
            "INFO:stanza:Loading: tokenize\n",
            "INFO:stanza:Loading: mwt\n",
            "INFO:stanza:Loading: ner\n",
            "INFO:stanza:Done loading processors!\n"
          ]
        }
      ],
      "source": [
        "nlp = stanza.Pipeline(lang='en', processors='tokenize,ner')"
      ]
    },
    {
      "cell_type": "code",
      "execution_count": 11,
      "metadata": {
        "colab": {
          "base_uri": "https://localhost:8080/"
        },
        "id": "FH-HHJdb7B9Z",
        "outputId": "0898b485-4e39-44ea-a551-3c41e6267c2e"
      },
      "outputs": [
        {
          "output_type": "stream",
          "name": "stdout",
          "text": [
            "entity: AI and Applied AI\ttype: ORG\n",
            "entity: 2024\ttype: DATE\n",
            "entity: Vienna\ttype: GPE\n",
            "entity: one\ttype: CARDINAL\n",
            "entity: three\ttype: CARDINAL\n",
            "entity: A*\ttype: ORG\n",
            "entity: NeurIPS\ttype: ORG\n",
            "entity: ICLR\ttype: ORG\n",
            "entity: July 23\ttype: DATE\n",
            "entity: Ekaterina Muravleva\ttype: PERSON\n",
            "entity: Ivan Oseledets\ttype: PERSON\n",
            "entity: FCG\ttype: ORG\n"
          ]
        }
      ],
      "source": [
        "doc = nlp(en_text)\n",
        "print(*[f'entity: {ent.text}\\ttype: {ent.type}' for sent in doc.sentences for ent in sent.ents], sep='\\n')"
      ]
    },
    {
      "cell_type": "markdown",
      "metadata": {
        "id": "6l__koYWYRTl"
      },
      "source": [
        "[Вот тут](https://stanfordnlp.github.io/stanza/performance.html) можно посмотреть, какие языки доступны в библиотеке по умолчанию, а какие надо скачивать. Также там можно увидеть качество на различных языках"
      ]
    },
    {
      "cell_type": "markdown",
      "metadata": {
        "id": "qu4KUNQzbGlH"
      },
      "source": [
        "### SpaCy\n",
        "\n",
        "+ Библиотека для продвинутого NLP\n",
        "+ Ряд языков, английский, китайский, немецкий, французский, итальянский, польский, испанский и др., разрабатываются модели для всё новых языков\n",
        "+ Про spaCy: https://spacy.io/usage\n",
        "\n"
      ]
    },
    {
      "cell_type": "code",
      "execution_count": 12,
      "metadata": {
        "id": "c4GcADAQ95KE"
      },
      "outputs": [],
      "source": [
        "import spacy\n",
        "from spacy.tokens import Span\n",
        "from spacy import displacy"
      ]
    },
    {
      "cell_type": "code",
      "execution_count": 13,
      "metadata": {
        "id": "rvWhTNwpbuNk"
      },
      "outputs": [],
      "source": [
        "nlp = spacy.load(\"ru_core_news_sm\")"
      ]
    },
    {
      "cell_type": "code",
      "execution_count": 14,
      "metadata": {
        "colab": {
          "base_uri": "https://localhost:8080/"
        },
        "id": "I_3mzWe4b02P",
        "outputId": "932d7184-c730-4461-ad09-fd28eb1ef829"
      },
      "outputs": [
        {
          "output_type": "stream",
          "name": "stdout",
          "text": [
            "Сергея Кастрюлина 78 95 PER\n",
            "Yandex Research 99 114 ORG\n",
            "Дарья Виноградова 171 188 PER\n",
            "Александр Устюжанин 228 247 PER\n",
            "YandexART 271 280 ORG\n"
          ]
        }
      ],
      "source": [
        "doc = nlp(ru_text)\n",
        "\n",
        "for ent in doc.ents:\n",
        "    print(ent.text, ent.start_char, ent.end_char, ent.label_)"
      ]
    },
    {
      "cell_type": "code",
      "execution_count": 15,
      "metadata": {
        "colab": {
          "base_uri": "https://localhost:8080/",
          "height": 87
        },
        "id": "VPU8kAji9RjH",
        "outputId": "c09602c9-9c42-4383-ea27-027244ec4430"
      },
      "outputs": [
        {
          "output_type": "display_data",
          "data": {
            "text/plain": [
              "<IPython.core.display.HTML object>"
            ],
            "text/html": [
              "<span class=\"tex2jax_ignore\"><div class=\"entities\" style=\"line-height: 2.5; direction: ltr\">Мы уже показывали один день на European Conference on Computer Vision глазами \n",
              "<mark class=\"entity\" style=\"background: #ddd; padding: 0.45em 0.6em; margin: 0 0.25em; line-height: 1; border-radius: 0.35em;\">\n",
              "    Сергея Кастрюлина\n",
              "    <span style=\"font-size: 0.8em; font-weight: bold; line-height: 1; border-radius: 0.35em; vertical-align: middle; margin-left: 0.5rem\">PER</span>\n",
              "</mark>\n",
              " из \n",
              "<mark class=\"entity\" style=\"background: #7aecec; padding: 0.45em 0.6em; margin: 0 0.25em; line-height: 1; border-radius: 0.35em;\">\n",
              "    Yandex Research\n",
              "    <span style=\"font-size: 0.8em; font-weight: bold; line-height: 1; border-radius: 0.35em; vertical-align: middle; margin-left: 0.5rem\">ORG</span>\n",
              "</mark>\n",
              " и делились трендами и статьями, которые собрала для вас \n",
              "<mark class=\"entity\" style=\"background: #ddd; padding: 0.45em 0.6em; margin: 0 0.25em; line-height: 1; border-radius: 0.35em;\">\n",
              "    Дарья Виноградова\n",
              "    <span style=\"font-size: 0.8em; font-weight: bold; line-height: 1; border-radius: 0.35em; vertical-align: middle; margin-left: 0.5rem\">PER</span>\n",
              "</mark>\n",
              ". Ещё больше интересного привёз для вас \n",
              "<mark class=\"entity\" style=\"background: #ddd; padding: 0.45em 0.6em; margin: 0 0.25em; line-height: 1; border-radius: 0.35em;\">\n",
              "    Александр Устюжанин\n",
              "    <span style=\"font-size: 0.8em; font-weight: bold; line-height: 1; border-radius: 0.35em; vertical-align: middle; margin-left: 0.5rem\">PER</span>\n",
              "</mark>\n",
              ", разработчик в команде \n",
              "<mark class=\"entity\" style=\"background: #7aecec; padding: 0.45em 0.6em; margin: 0 0.25em; line-height: 1; border-radius: 0.35em;\">\n",
              "    YandexART\n",
              "    <span style=\"font-size: 0.8em; font-weight: bold; line-height: 1; border-radius: 0.35em; vertical-align: middle; margin-left: 0.5rem\">ORG</span>\n",
              "</mark>\n",
              ".</div></span>"
            ]
          },
          "metadata": {}
        }
      ],
      "source": [
        "displacy.render(doc, style = \"ent\", jupyter=True)"
      ]
    },
    {
      "cell_type": "markdown",
      "metadata": {
        "id": "or0DoLYHdoj6"
      },
      "source": [
        "SpaCy предлагает 18 тегов (список можно посмотреть [здесь](https://towardsdatascience.com/named-entity-recognition-ner-using-spacy-nlp-part-4-28da2ece57c6)) для разных типов именованных сущностей, также легко можно добавить новый тег:"
      ]
    },
    {
      "cell_type": "code",
      "execution_count": 16,
      "metadata": {
        "colab": {
          "base_uri": "https://localhost:8080/"
        },
        "id": "IBkJEU5K72WP",
        "outputId": "dc38f7b4-ec27-43f5-e18d-198291a74723"
      },
      "outputs": [
        {
          "output_type": "execute_result",
          "data": {
            "text/plain": [
              "[('AI', 21, 23, 'ORG'),\n",
              " ('Applied AI', 28, 38, 'ORG'),\n",
              " ('2024', 59, 63, 'DATE'),\n",
              " ('Vienna', 67, 73, 'GPE'),\n",
              " ('one', 75, 78, 'CARDINAL'),\n",
              " ('three', 86, 91, 'CARDINAL'),\n",
              " ('July 23', 209, 216, 'DATE'),\n",
              " ('Ekaterina Muravleva', 238, 257, 'PERSON'),\n",
              " ('Ivan Oseledets', 272, 286, 'PERSON'),\n",
              " ('Neural Operators Meet Conjugate Gradients: The FCG-NO Method for Efficient PDE Solving',\n",
              "  308,\n",
              "  394,\n",
              "  'WORK_OF_ART'),\n",
              " ('FCG', 413, 416, 'ORG')]"
            ]
          },
          "metadata": {},
          "execution_count": 16
        }
      ],
      "source": [
        "nlp = spacy.load(\"en_core_web_sm\")\n",
        "doc = nlp(en_text)\n",
        "ents = [(e.text, e.start_char, e.end_char, e.label_) for e in doc.ents]\n",
        "ents"
      ]
    },
    {
      "cell_type": "markdown",
      "metadata": {
        "id": "HAeUQhED780e"
      },
      "source": [
        "У нас здесь снова ошибка в длинном названии статьи, давайте поправим и нарисуем результат"
      ]
    },
    {
      "cell_type": "code",
      "execution_count": 17,
      "metadata": {
        "colab": {
          "base_uri": "https://localhost:8080/"
        },
        "id": "WF4KTyZBb9la",
        "outputId": "d29dd916-aa66-4855-c078-717ba51e5d7a"
      },
      "outputs": [
        {
          "output_type": "execute_result",
          "data": {
            "text/plain": [
              "[('AI', 21, 23, 'ORG'),\n",
              " ('Applied AI', 28, 38, 'ORG'),\n",
              " ('2024', 59, 63, 'DATE'),\n",
              " ('Vienna', 67, 73, 'GPE'),\n",
              " ('one', 75, 78, 'CARDINAL'),\n",
              " ('three', 86, 91, 'CARDINAL'),\n",
              " ('July 23', 209, 216, 'DATE'),\n",
              " ('Ekaterina Muravleva', 238, 257, 'PERSON'),\n",
              " ('Ivan Oseledets', 272, 286, 'PERSON'),\n",
              " ('Neural Operators Meet Conjugate Gradients: The FCG-NO Method for Efficient PDE Solving',\n",
              "  308,\n",
              "  394,\n",
              "  'WORK_OF_ART')]"
            ]
          },
          "metadata": {},
          "execution_count": 17
        }
      ],
      "source": [
        "ns2_ent = Span(doc, 53, 68, label=\"WORK_OF_ART\")\n",
        "doc.ents = list(doc.ents[:-2]) + [ns2_ent]\n",
        "\n",
        "ents = [(e.text, e.start_char, e.end_char, e.label_) for e in doc.ents]\n",
        "ents"
      ]
    },
    {
      "cell_type": "code",
      "execution_count": 18,
      "metadata": {
        "colab": {
          "base_uri": "https://localhost:8080/",
          "height": 122
        },
        "id": "wKUuIvTzfihx",
        "outputId": "51cb91ae-831e-4d9f-b138-0e3511b3425d"
      },
      "outputs": [
        {
          "output_type": "display_data",
          "data": {
            "text/plain": [
              "<IPython.core.display.HTML object>"
            ],
            "text/html": [
              "<span class=\"tex2jax_ignore\"><div class=\"entities\" style=\"line-height: 2.5; direction: ltr\">Researchers from the \n",
              "<mark class=\"entity\" style=\"background: #7aecec; padding: 0.45em 0.6em; margin: 0 0.25em; line-height: 1; border-radius: 0.35em;\">\n",
              "    AI\n",
              "    <span style=\"font-size: 0.8em; font-weight: bold; line-height: 1; border-radius: 0.35em; vertical-align: middle; margin-left: 0.5rem\">ORG</span>\n",
              "</mark>\n",
              " and \n",
              "<mark class=\"entity\" style=\"background: #7aecec; padding: 0.45em 0.6em; margin: 0 0.25em; line-height: 1; border-radius: 0.35em;\">\n",
              "    Applied AI\n",
              "    <span style=\"font-size: 0.8em; font-weight: bold; line-height: 1; border-radius: 0.35em; vertical-align: middle; margin-left: 0.5rem\">ORG</span>\n",
              "</mark>\n",
              " centers joined the  \n",
              "<mark class=\"entity\" style=\"background: #bfe1d9; padding: 0.45em 0.6em; margin: 0 0.25em; line-height: 1; border-radius: 0.35em;\">\n",
              "    2024\n",
              "    <span style=\"font-size: 0.8em; font-weight: bold; line-height: 1; border-radius: 0.35em; vertical-align: middle; margin-left: 0.5rem\">DATE</span>\n",
              "</mark>\n",
              " in \n",
              "<mark class=\"entity\" style=\"background: #feca74; padding: 0.45em 0.6em; margin: 0 0.25em; line-height: 1; border-radius: 0.35em;\">\n",
              "    Vienna\n",
              "    <span style=\"font-size: 0.8em; font-weight: bold; line-height: 1; border-radius: 0.35em; vertical-align: middle; margin-left: 0.5rem\">GPE</span>\n",
              "</mark>\n",
              ", \n",
              "<mark class=\"entity\" style=\"background: #e4e7d2; padding: 0.45em 0.6em; margin: 0 0.25em; line-height: 1; border-radius: 0.35em;\">\n",
              "    one\n",
              "    <span style=\"font-size: 0.8em; font-weight: bold; line-height: 1; border-radius: 0.35em; vertical-align: middle; margin-left: 0.5rem\">CARDINAL</span>\n",
              "</mark>\n",
              " of the \n",
              "<mark class=\"entity\" style=\"background: #e4e7d2; padding: 0.45em 0.6em; margin: 0 0.25em; line-height: 1; border-radius: 0.35em;\">\n",
              "    three\n",
              "    <span style=\"font-size: 0.8em; font-weight: bold; line-height: 1; border-radius: 0.35em; vertical-align: middle; margin-left: 0.5rem\">CARDINAL</span>\n",
              "</mark>\n",
              " premier A* international conferences on machine learning and artificial intelligence, alongside NeurIPS and ICLR. On \n",
              "<mark class=\"entity\" style=\"background: #bfe1d9; padding: 0.45em 0.6em; margin: 0 0.25em; line-height: 1; border-radius: 0.35em;\">\n",
              "    July 23\n",
              "    <span style=\"font-size: 0.8em; font-weight: bold; line-height: 1; border-radius: 0.35em; vertical-align: middle; margin-left: 0.5rem\">DATE</span>\n",
              "</mark>\n",
              ", Assistant Professor \n",
              "<mark class=\"entity\" style=\"background: #aa9cfc; padding: 0.45em 0.6em; margin: 0 0.25em; line-height: 1; border-radius: 0.35em;\">\n",
              "    Ekaterina Muravleva\n",
              "    <span style=\"font-size: 0.8em; font-weight: bold; line-height: 1; border-radius: 0.35em; vertical-align: middle; margin-left: 0.5rem\">PERSON</span>\n",
              "</mark>\n",
              " and Professor \n",
              "<mark class=\"entity\" style=\"background: #aa9cfc; padding: 0.45em 0.6em; margin: 0 0.25em; line-height: 1; border-radius: 0.35em;\">\n",
              "    Ivan Oseledets\n",
              "    <span style=\"font-size: 0.8em; font-weight: bold; line-height: 1; border-radius: 0.35em; vertical-align: middle; margin-left: 0.5rem\">PERSON</span>\n",
              "</mark>\n",
              " presented a  titled “\n",
              "<mark class=\"entity\" style=\"background: #f0d0ff; padding: 0.45em 0.6em; margin: 0 0.25em; line-height: 1; border-radius: 0.35em;\">\n",
              "    Neural Operators Meet Conjugate Gradients: The FCG-NO Method for Efficient PDE Solving\n",
              "    <span style=\"font-size: 0.8em; font-weight: bold; line-height: 1; border-radius: 0.35em; vertical-align: middle; margin-left: 0.5rem\">WORK_OF_ART</span>\n",
              "</mark>\n",
              "”, introducing the FCG-NO method that leverages neural operators to enhance the accuracy of differential equation solutions. </div></span>"
            ]
          },
          "metadata": {}
        }
      ],
      "source": [
        "displacy.render(doc, style = \"ent\", jupyter=True)"
      ]
    },
    {
      "cell_type": "markdown",
      "metadata": {
        "id": "FNE8lZHh9INz"
      },
      "source": [
        "Точно так же мы можем исправить и остальные ошибки"
      ]
    },
    {
      "cell_type": "markdown",
      "metadata": {
        "id": "Un30GRSvh8tq"
      },
      "source": [
        "Можно подкрасить только сущности определенных типов:"
      ]
    },
    {
      "cell_type": "code",
      "execution_count": 19,
      "metadata": {
        "colab": {
          "base_uri": "https://localhost:8080/",
          "height": 122
        },
        "id": "kT3h6flWha09",
        "outputId": "7a1cfb50-8559-460c-db6e-5b42d728f707"
      },
      "outputs": [
        {
          "output_type": "display_data",
          "data": {
            "text/plain": [
              "<IPython.core.display.HTML object>"
            ],
            "text/html": [
              "<span class=\"tex2jax_ignore\"><div class=\"entities\" style=\"line-height: 2.5; direction: ltr\">Researchers from the \n",
              "<mark class=\"entity\" style=\"background: #7aecec; padding: 0.45em 0.6em; margin: 0 0.25em; line-height: 1; border-radius: 0.35em;\">\n",
              "    AI\n",
              "    <span style=\"font-size: 0.8em; font-weight: bold; line-height: 1; border-radius: 0.35em; vertical-align: middle; margin-left: 0.5rem\">ORG</span>\n",
              "</mark>\n",
              " and \n",
              "<mark class=\"entity\" style=\"background: #7aecec; padding: 0.45em 0.6em; margin: 0 0.25em; line-height: 1; border-radius: 0.35em;\">\n",
              "    Applied AI\n",
              "    <span style=\"font-size: 0.8em; font-weight: bold; line-height: 1; border-radius: 0.35em; vertical-align: middle; margin-left: 0.5rem\">ORG</span>\n",
              "</mark>\n",
              " centers joined the  2024 in Vienna, one of the three premier A* international conferences on machine learning and artificial intelligence, alongside NeurIPS and ICLR. On July 23, Assistant Professor Ekaterina Muravleva and Professor Ivan Oseledets presented a  titled “Neural Operators Meet Conjugate Gradients: The FCG-NO Method for Efficient PDE Solving”, introducing the FCG-NO method that leverages neural operators to enhance the accuracy of differential equation solutions. </div></span>"
            ]
          },
          "metadata": {}
        }
      ],
      "source": [
        "options = {'ents': ['ORG', 'LOC']}\n",
        "displacy.render(doc, style = \"ent\", jupyter=True, options=options)"
      ]
    },
    {
      "cell_type": "markdown",
      "metadata": {
        "id": "OBhPNlX99mJl"
      },
      "source": [
        "[Вот тут](https://spacy.io/models) можно узнать, какие языки доступны и как называется моджель для вашего языка"
      ]
    },
    {
      "cell_type": "markdown",
      "metadata": {
        "id": "Q9aI-6TXkw25"
      },
      "source": [
        "### Natasha\n",
        "\n",
        "+ Раньше библиотека Natasha решала задачу NER для русского языка, была построена на правилах\n",
        "+ сейчас это полноценный NLP проект для русского языка\n",
        "+ токенизация, лемматизация, синтаксический разбор, NER-тегирование и т.д.\n",
        "+ https://github.com/natasha/natasha"
      ]
    },
    {
      "cell_type": "code",
      "execution_count": 20,
      "metadata": {
        "id": "_5PxfOaelo9i"
      },
      "outputs": [],
      "source": [
        "from natasha import (\n",
        "    Segmenter,\n",
        "    MorphVocab,\n",
        "\n",
        "    NewsEmbedding,\n",
        "    NewsMorphTagger,\n",
        "    NewsSyntaxParser,\n",
        "    NewsNERTagger,\n",
        "\n",
        "    PER,\n",
        "    NamesExtractor,\n",
        "\n",
        "    Doc\n",
        ")"
      ]
    },
    {
      "cell_type": "code",
      "execution_count": 21,
      "metadata": {
        "id": "J0BJ07Gqlqx3"
      },
      "outputs": [],
      "source": [
        "segmenter = Segmenter()\n",
        "morph_vocab = MorphVocab()\n",
        "\n",
        "emb = NewsEmbedding()\n",
        "morph_tagger = NewsMorphTagger(emb)\n",
        "syntax_parser = NewsSyntaxParser(emb)\n",
        "ner_tagger = NewsNERTagger(emb)\n",
        "\n",
        "names_extractor = NamesExtractor(morph_vocab)\n",
        "doc = Doc(ru_text)"
      ]
    },
    {
      "cell_type": "markdown",
      "metadata": {
        "id": "0buSAEkQooPt"
      },
      "source": [
        "NER зависит от сегментации:"
      ]
    },
    {
      "cell_type": "code",
      "execution_count": 22,
      "metadata": {
        "colab": {
          "base_uri": "https://localhost:8080/"
        },
        "id": "TVTa-Rlvmd4e",
        "outputId": "66a4566a-a0d9-4d94-8a5d-dd9f2facab97"
      },
      "outputs": [
        {
          "output_type": "stream",
          "name": "stdout",
          "text": [
            "[DocToken(stop=2, text='Мы'), DocToken(start=3, stop=6, text='уже'), DocToken(start=7, stop=17, text='показывали'), DocToken(start=18, stop=22, text='один'), DocToken(start=23, stop=27, text='день')]\n",
            "[DocSent(stop=189, text='Мы уже показывали один день на European Conferenc..., tokens=[...]), DocSent(start=190, stop=281, text='Ещё больше интересного привёз для вас Александр У..., tokens=[...])]\n"
          ]
        }
      ],
      "source": [
        "doc.segment(segmenter)\n",
        "print(doc.tokens[:5])\n",
        "print(doc.sents[:5])"
      ]
    },
    {
      "cell_type": "code",
      "execution_count": 23,
      "metadata": {
        "colab": {
          "base_uri": "https://localhost:8080/",
          "height": 106
        },
        "id": "3dOIKw6KmKy3",
        "outputId": "da94b8e0-861c-4ea4-8f54-59b5e251acec"
      },
      "outputs": [
        {
          "output_type": "display_data",
          "data": {
            "text/plain": [
              "[DocSpan(start=78, stop=95, type='PER', text='Сергея Кастрюлина', tokens=[...]),\n",
              " DocSpan(start=99, stop=114, type='ORG', text='Yandex Research', tokens=[...]),\n",
              " DocSpan(start=171, stop=188, type='PER', text='Дарья Виноградова', tokens=[...]),\n",
              " DocSpan(start=228, stop=247, type='PER', text='Александр Устюжанин', tokens=[...]),\n",
              " DocSpan(start=271, stop=280, type='ORG', text='YandexART', tokens=[...])]"
            ]
          },
          "metadata": {}
        }
      ],
      "source": [
        "doc.tag_ner(ner_tagger)\n",
        "display(doc.spans)"
      ]
    },
    {
      "cell_type": "code",
      "execution_count": 24,
      "metadata": {
        "colab": {
          "base_uri": "https://localhost:8080/"
        },
        "id": "XHwO-oOS-G-I",
        "outputId": "1436f7aa-1678-42ea-b150-6cbe897492fc"
      },
      "outputs": [
        {
          "output_type": "stream",
          "name": "stdout",
          "text": [
            "Мы уже показывали один день на European Conference on Computer Vision \n",
            "глазами Сергея Кастрюлина из Yandex Research и делились трендами и \n",
            "        PER──────────────    ORG────────────                       \n",
            "статьями, которые собрала для вас Дарья Виноградова. Ещё больше \n",
            "                                  PER──────────────             \n",
            "интересного привёз для вас Александр Устюжанин, разработчик в команде \n",
            "                           PER────────────────                        \n",
            "YandexART.\n",
            "ORG────── \n"
          ]
        }
      ],
      "source": [
        "doc.ner.print()"
      ]
    },
    {
      "cell_type": "markdown",
      "metadata": {
        "id": "RYpMB3mhovPD"
      },
      "source": [
        "Можно привести сущности к нормальной форме, для этого надо провести морфологический анализ и лемматизацию (Natasha использует Pymorphy2):"
      ]
    },
    {
      "cell_type": "code",
      "execution_count": 25,
      "metadata": {
        "colab": {
          "base_uri": "https://localhost:8080/"
        },
        "id": "cg3uZdhHnu_B",
        "outputId": "4477f5e8-4c57-487c-f38e-496ba09a552c"
      },
      "outputs": [
        {
          "output_type": "stream",
          "name": "stdout",
          "text": [
            "                  Мы PRON|Case=Nom|Number=Plur|Person=1\n",
            "                 уже ADV|Degree=Pos\n",
            "          показывали VERB|Aspect=Imp|Mood=Ind|Number=Plur|Tense=Past|VerbForm=Fin|Voice=Act\n",
            "                один NUM|Animacy=Inan|Case=Acc|Gender=Masc\n",
            "                день NOUN|Animacy=Inan|Case=Acc|Gender=Masc|Number=Sing\n",
            "                  на ADP\n",
            "            European X|Foreign=Yes\n",
            "          Conference X|Foreign=Yes\n",
            "                  on X|Foreign=Yes\n",
            "            Computer X|Foreign=Yes\n",
            "              Vision X|Foreign=Yes\n",
            "             глазами NOUN|Animacy=Inan|Case=Ins|Gender=Masc|Number=Plur\n",
            "              Сергея PROPN|Animacy=Anim|Case=Gen|Gender=Masc|Number=Sing\n",
            "          Кастрюлина PROPN|Animacy=Anim|Case=Gen|Gender=Masc|Number=Sing\n",
            "                  из ADP\n",
            "              Yandex X|Foreign=Yes\n",
            "            Research X|Foreign=Yes\n",
            "                   и CCONJ\n",
            "            делились VERB|Aspect=Imp|Mood=Ind|Number=Plur|Tense=Past|VerbForm=Fin|Voice=Mid\n",
            "            трендами NOUN|Animacy=Inan|Case=Ins|Gender=Neut|Number=Plur\n",
            "                   и CCONJ\n",
            "            статьями NOUN|Animacy=Inan|Case=Ins|Gender=Fem|Number=Plur\n",
            "                   , PUNCT\n",
            "             которые PRON|Animacy=Inan|Case=Acc|Number=Plur\n",
            "             собрала VERB|Aspect=Perf|Gender=Fem|Mood=Ind|Number=Sing|Tense=Past|VerbForm=Fin|Voice=Act\n",
            "                 для ADP\n",
            "                 вас PRON|Case=Gen|Number=Plur|Person=2\n",
            "               Дарья PROPN|Animacy=Anim|Case=Nom|Gender=Fem|Number=Sing\n",
            "         Виноградова PROPN|Animacy=Anim|Case=Nom|Gender=Fem|Number=Sing\n",
            "                   . PUNCT\n"
          ]
        }
      ],
      "source": [
        "doc.tag_morph(morph_tagger)\n",
        "doc.sents[0].morph.print()"
      ]
    },
    {
      "cell_type": "markdown",
      "metadata": {
        "id": "_uKwOONNo6V5"
      },
      "source": [
        "Приводим сущности к нормальной форме:"
      ]
    },
    {
      "cell_type": "code",
      "execution_count": 26,
      "metadata": {
        "colab": {
          "base_uri": "https://localhost:8080/"
        },
        "id": "2Ob-EuREncBl",
        "outputId": "66a8dbb4-f3bf-49cb-b80c-450e8d55e14b"
      },
      "outputs": [
        {
          "output_type": "execute_result",
          "data": {
            "text/plain": [
              "{'Сергея Кастрюлина': 'Сергей Кастрюлин',\n",
              " 'Yandex Research': 'Yandex Research',\n",
              " 'Дарья Виноградова': 'Дарья Виноградова',\n",
              " 'Александр Устюжанин': 'Александр Устюжанин',\n",
              " 'YandexART': 'YandexART'}"
            ]
          },
          "metadata": {},
          "execution_count": 26
        }
      ],
      "source": [
        "for span in doc.spans:\n",
        "  span.normalize(morph_vocab)\n",
        "\n",
        "{_.text: _.normal for _ in doc.spans}"
      ]
    },
    {
      "cell_type": "markdown",
      "metadata": {
        "id": "upEkD8V4pivy"
      },
      "source": [
        "Можно извлечь для нормированных имен отдельно имена и фамилии:"
      ]
    },
    {
      "cell_type": "code",
      "execution_count": 27,
      "metadata": {
        "colab": {
          "base_uri": "https://localhost:8080/"
        },
        "id": "ackLmRB0oRss",
        "outputId": "92cb9807-3caf-41ff-97fc-c959040f8625"
      },
      "outputs": [
        {
          "output_type": "execute_result",
          "data": {
            "text/plain": [
              "{'Сергей Кастрюлин': {'first': 'Сергей', 'last': 'Кастрюлин'},\n",
              " 'Дарья Виноградова': {'first': 'Дарья', 'last': 'Виноградова'},\n",
              " 'Александр Устюжанин': {'first': 'Александр', 'last': 'Устюжанин'}}"
            ]
          },
          "metadata": {},
          "execution_count": 27
        }
      ],
      "source": [
        "for span in doc.spans:\n",
        "  if span.type == PER:\n",
        "    span.extract_fact(names_extractor)\n",
        "\n",
        "{_.normal: _.fact.as_dict for _ in doc.spans if _.type == PER}"
      ]
    },
    {
      "cell_type": "markdown",
      "metadata": {
        "id": "4tKTqHsA-uQw"
      },
      "source": [
        "## Выделение именных групп"
      ]
    },
    {
      "cell_type": "markdown",
      "metadata": {
        "id": "GFYcwH5r_0u3"
      },
      "source": [
        "### SpaCy"
      ]
    },
    {
      "cell_type": "markdown",
      "metadata": {
        "id": "iQEp8niGATnv"
      },
      "source": [
        "В SpaCy есть возможность извлекать именные группы из синтаксического разбора одной строчкой, однако это получается не для всех языков. Доя русского, например, пока такая функуия не реализована:"
      ]
    },
    {
      "cell_type": "code",
      "execution_count": 28,
      "metadata": {
        "colab": {
          "base_uri": "https://localhost:8080/",
          "height": 251
        },
        "id": "MPE67MMZATPr",
        "outputId": "3a582a59-bd78-450e-9811-9c7f4eaa0900"
      },
      "outputs": [
        {
          "output_type": "error",
          "ename": "NotImplementedError",
          "evalue": "[E894] The 'noun_chunks' syntax iterator is not implemented for language 'ru'.",
          "traceback": [
            "\u001b[0;31m---------------------------------------------------------------------------\u001b[0m",
            "\u001b[0;31mNotImplementedError\u001b[0m                       Traceback (most recent call last)",
            "\u001b[0;32m/tmp/ipython-input-4139677485.py\u001b[0m in \u001b[0;36m<cell line: 0>\u001b[0;34m()\u001b[0m\n\u001b[1;32m      1\u001b[0m \u001b[0mnlp\u001b[0m \u001b[0;34m=\u001b[0m \u001b[0mspacy\u001b[0m\u001b[0;34m.\u001b[0m\u001b[0mload\u001b[0m\u001b[0;34m(\u001b[0m\u001b[0;34m\"ru_core_news_sm\"\u001b[0m\u001b[0;34m)\u001b[0m\u001b[0;34m\u001b[0m\u001b[0;34m\u001b[0m\u001b[0m\n\u001b[1;32m      2\u001b[0m \u001b[0mdoc\u001b[0m \u001b[0;34m=\u001b[0m \u001b[0mnlp\u001b[0m\u001b[0;34m(\u001b[0m\u001b[0mru_text\u001b[0m\u001b[0;34m)\u001b[0m\u001b[0;34m\u001b[0m\u001b[0;34m\u001b[0m\u001b[0m\n\u001b[0;32m----> 3\u001b[0;31m \u001b[0;32mfor\u001b[0m \u001b[0mchunk\u001b[0m \u001b[0;32min\u001b[0m \u001b[0mdoc\u001b[0m\u001b[0;34m.\u001b[0m\u001b[0mnoun_chunks\u001b[0m\u001b[0;34m:\u001b[0m\u001b[0;34m\u001b[0m\u001b[0;34m\u001b[0m\u001b[0m\n\u001b[0m\u001b[1;32m      4\u001b[0m     print(chunk.text, chunk.root.text, chunk.root.dep_,\n\u001b[1;32m      5\u001b[0m             chunk.root.head.text, sep='\\t')\n",
            "\u001b[0;32m/usr/local/lib/python3.12/dist-packages/spacy/tokens/doc.pyx\u001b[0m in \u001b[0;36mnoun_chunks\u001b[0;34m()\u001b[0m\n",
            "\u001b[0;31mNotImplementedError\u001b[0m: [E894] The 'noun_chunks' syntax iterator is not implemented for language 'ru'."
          ]
        }
      ],
      "source": [
        "nlp = spacy.load(\"ru_core_news_sm\")\n",
        "doc = nlp(ru_text)\n",
        "for chunk in doc.noun_chunks:\n",
        "    print(chunk.text, chunk.root.text, chunk.root.dep_,\n",
        "            chunk.root.head.text, sep='\\t')"
      ]
    },
    {
      "cell_type": "markdown",
      "metadata": {
        "id": "vyhlTAPZAT9P"
      },
      "source": [
        "Но можно так делать для английского:"
      ]
    },
    {
      "cell_type": "code",
      "execution_count": 29,
      "metadata": {
        "colab": {
          "base_uri": "https://localhost:8080/"
        },
        "id": "n72mXkNl_QCZ",
        "outputId": "1cfea2ce-8d1a-4b93-b124-222c4b48ea5d"
      },
      "outputs": [
        {
          "output_type": "stream",
          "name": "stdout",
          "text": [
            "Researchers\tResearchers\tnsubj\tjoined\n",
            "the AI and Applied AI centers\tcenters\tpobj\tfrom\n",
            "Vienna\tVienna\tpobj\tin\n",
            "the three premier A* international conferences\tconferences\tpobj\tof\n",
            "machine learning\tlearning\tpobj\ton\n",
            "artificial intelligence\tintelligence\tconj\tlearning\n",
            "NeurIPS\tNeurIPS\tpobj\talongside\n",
            "ICLR\tICLR\tconj\tNeurIPS\n",
            "July\tJuly\tpobj\tOn\n",
            "Assistant Professor Ekaterina Muravleva\tMuravleva\tnsubj\tpresented\n",
            "Professor Ivan Oseledets\tOseledets\tconj\tMuravleva\n",
            "a  titled “Neural Operators Meet Conjugate Gradients\tGradients\tdobj\tpresented\n",
            "The FCG-NO Method\tMethod\tappos\tGradients\n",
            "Efficient PDE Solving\tSolving\tpobj\tfor\n",
            "the FCG-NO method\tmethod\tdobj\tintroducing\n",
            "that\tthat\tnsubj\tleverages\n",
            "neural operators\toperators\tdobj\tleverages\n",
            "the accuracy\taccuracy\tdobj\tenhance\n",
            "differential equation solutions\tsolutions\tpobj\tof\n"
          ]
        }
      ],
      "source": [
        "nlp = spacy.load(\"en_core_web_sm\")\n",
        "doc = nlp(en_text)\n",
        "for chunk in doc.noun_chunks:\n",
        "    print(chunk.text, chunk.root.text, chunk.root.dep_,\n",
        "            chunk.root.head.text, sep='\\t')"
      ]
    },
    {
      "cell_type": "markdown",
      "metadata": {
        "id": "C9_T8tw-_6GC"
      },
      "source": [
        "### TextBlob"
      ]
    },
    {
      "cell_type": "markdown",
      "metadata": {
        "id": "hj6mnByVAqqY"
      },
      "source": [
        "Еще для множества задач для английского можно испольщовать TextBlob. Для извлечения именных групп в том числе\n",
        "\n",
        "Дока: https://textblob.readthedocs.io/en/dev/index.html"
      ]
    },
    {
      "cell_type": "code",
      "execution_count": 30,
      "metadata": {
        "id": "XVJuL6BQ_5FG"
      },
      "outputs": [],
      "source": [
        "from textblob import TextBlob"
      ]
    },
    {
      "cell_type": "code",
      "execution_count": 31,
      "metadata": {
        "colab": {
          "base_uri": "https://localhost:8080/"
        },
        "id": "IthzWB7MAOYP",
        "outputId": "96cf970d-4d13-4afa-ca87-59a555b93649"
      },
      "outputs": [
        {
          "output_type": "execute_result",
          "data": {
            "text/plain": [
              "WordList(['researchers', 'ai', 'applied ai', 'vienna', 'international conferences', 'machine learning', 'artificial intelligence', 'neurips', 'iclr', 'july', 'professor ekaterina muravleva', 'professor ivan oseledets', 'neural operators', 'conjugate gradients', 'fcg-no method', 'efficient pde solving', 'fcg-no', 'leverages neural operators', 'differential equation solutions'])"
            ]
          },
          "metadata": {},
          "execution_count": 31
        }
      ],
      "source": [
        "blob = TextBlob(en_text)\n",
        "blob.noun_phrases"
      ]
    },
    {
      "cell_type": "markdown",
      "metadata": {
        "id": "xvC3QVROBA91"
      },
      "source": [
        "## Извлечение ключевых слов"
      ]
    },
    {
      "cell_type": "markdown",
      "metadata": {
        "id": "um3GQNyeBn6r"
      },
      "source": [
        "### YAKE"
      ]
    },
    {
      "cell_type": "markdown",
      "metadata": {
        "id": "9AlJFzWKC9wK"
      },
      "source": [
        "- Дока: https://github.com/LIAAD/yake\n",
        "- Работает на основе статистики, поэтому быстрее своих нейросетевых аналогов, но чаще ошибается"
      ]
    },
    {
      "cell_type": "code",
      "execution_count": 32,
      "metadata": {
        "id": "ulQa_mUvBgfM"
      },
      "outputs": [],
      "source": [
        "from yake import KeywordExtractor"
      ]
    },
    {
      "cell_type": "code",
      "execution_count": 33,
      "metadata": {
        "id": "KIj2YSVjCJ9d"
      },
      "outputs": [],
      "source": [
        "max_ngram_size = 2\n",
        "num_words = 5"
      ]
    },
    {
      "cell_type": "code",
      "execution_count": 34,
      "metadata": {
        "colab": {
          "base_uri": "https://localhost:8080/"
        },
        "id": "Ee-qQMJzBvnt",
        "outputId": "83c8f124-c60c-4e07-e2d0-02dec637137c"
      },
      "outputs": [
        {
          "output_type": "stream",
          "name": "stdout",
          "text": [
            "('Дарья Виноградова', np.float64(0.00643573886924208))\n",
            "('European Conference', np.float64(0.00950861230958936))\n",
            "('Computer Vision', np.float64(0.00950861230958936))\n",
            "('Сергея Кастрюлина', np.float64(0.00950861230958936))\n",
            "('Yandex Research', np.float64(0.00950861230958936))\n"
          ]
        }
      ],
      "source": [
        "language = 'ru'\n",
        "custom_kw_extractor = KeywordExtractor(lan=language, n=max_ngram_size, top=num_words)\n",
        "keywords = custom_kw_extractor.extract_keywords(ru_text)\n",
        "\n",
        "for kw in keywords:\n",
        "    print(kw)"
      ]
    },
    {
      "cell_type": "code",
      "execution_count": 35,
      "metadata": {
        "colab": {
          "base_uri": "https://localhost:8080/"
        },
        "id": "5VS5yG9qBDIe",
        "outputId": "1940509f-b212-439c-fe01-d5618eecba89"
      },
      "outputs": [
        {
          "output_type": "stream",
          "name": "stdout",
          "text": [
            "('international conferences', np.float64(0.01205398821157259))\n",
            "('artificial intelligence', np.float64(0.01205398821157259))\n",
            "('alongside NeurIPS', np.float64(0.01205398821157259))\n",
            "('centers joined', np.float64(0.015340072684237148))\n",
            "('machine learning', np.float64(0.015340072684237148))\n"
          ]
        }
      ],
      "source": [
        "language = 'en'\n",
        "custom_kw_extractor = KeywordExtractor(lan=language, n=max_ngram_size, top=num_words)\n",
        "keywords = custom_kw_extractor.extract_keywords(en_text)\n",
        "\n",
        "for kw in keywords:\n",
        "    print(kw)"
      ]
    },
    {
      "cell_type": "markdown",
      "metadata": {
        "id": "MxorDfxXC5Er"
      },
      "source": [
        "### KeyBERT"
      ]
    },
    {
      "cell_type": "markdown",
      "metadata": {
        "id": "Sg_79ys4DIrH"
      },
      "source": [
        "- Дока: https://maartengr.github.io/KeyBERT/api/keybert.html\n",
        "- Нейросеть, поэтому работает дольше и больше весит, но дает выше качество"
      ]
    },
    {
      "cell_type": "code",
      "execution_count": 36,
      "metadata": {
        "id": "aLKC0DduD9WH"
      },
      "outputs": [],
      "source": [
        "from keybert import KeyBERT"
      ]
    },
    {
      "cell_type": "markdown",
      "metadata": {
        "id": "4i4agPQGD_iT"
      },
      "source": [
        "При инициализации можно использовать дюбую модель, которая умеет выдавать эмбеддинги. Собственно, он нее и будет зависеть качество работы"
      ]
    },
    {
      "cell_type": "code",
      "execution_count": 37,
      "metadata": {
        "colab": {
          "base_uri": "https://localhost:8080/"
        },
        "id": "5QEwgNJtEY9z",
        "outputId": "66a27032-9797-4b8b-a334-51e5fe3b355f"
      },
      "outputs": [
        {
          "output_type": "stream",
          "name": "stderr",
          "text": [
            "/usr/local/lib/python3.12/dist-packages/huggingface_hub/utils/_auth.py:94: UserWarning: \n",
            "The secret `HF_TOKEN` does not exist in your Colab secrets.\n",
            "To authenticate with the Hugging Face Hub, create a token in your settings tab (https://huggingface.co/settings/tokens), set it as secret in your Google Colab and restart your session.\n",
            "You will be able to reuse this secret in all of your notebooks.\n",
            "Please note that authentication is recommended but still optional to access public models or datasets.\n",
            "  warnings.warn(\n",
            "WARNING:sentence_transformers.SentenceTransformer:No sentence-transformers model found with name DeepPavlov/rubert-base-cased. Creating a new one with mean pooling.\n",
            "Some weights of the model checkpoint at DeepPavlov/rubert-base-cased were not used when initializing BertModel: ['cls.predictions.bias', 'cls.predictions.decoder.bias', 'cls.predictions.decoder.weight', 'cls.predictions.transform.LayerNorm.bias', 'cls.predictions.transform.LayerNorm.weight', 'cls.predictions.transform.dense.bias', 'cls.predictions.transform.dense.weight', 'cls.seq_relationship.bias', 'cls.seq_relationship.weight']\n",
            "- This IS expected if you are initializing BertModel from the checkpoint of a model trained on another task or with another architecture (e.g. initializing a BertForSequenceClassification model from a BertForPreTraining model).\n",
            "- This IS NOT expected if you are initializing BertModel from the checkpoint of a model that you expect to be exactly identical (initializing a BertForSequenceClassification model from a BertForSequenceClassification model).\n"
          ]
        }
      ],
      "source": [
        "model = KeyBERT('DeepPavlov/rubert-base-cased') # неплохой берт для русского"
      ]
    },
    {
      "cell_type": "code",
      "execution_count": 38,
      "metadata": {
        "colab": {
          "base_uri": "https://localhost:8080/"
        },
        "id": "bJnQvr7YEJkg",
        "outputId": "b89b8e3f-60b1-44c8-d832-8e3f4110ac2a"
      },
      "outputs": [
        {
          "output_type": "stream",
          "name": "stdout",
          "text": [
            "('research делились трендами', 0.4981)\n",
            "('кастрюлина из yandex', 0.4795)\n",
            "('ещё больше интересного', 0.4488)\n",
            "('vision глазами сергея', 0.4385)\n",
            "('из yandex research', 0.4378)\n"
          ]
        }
      ],
      "source": [
        "keywords = model.extract_keywords(ru_text, keyphrase_ngram_range=(1, 3),\n",
        "                                  top_n=5)\n",
        "for keyword in keywords:\n",
        "    print(keyword)"
      ]
    },
    {
      "cell_type": "markdown",
      "metadata": {
        "id": "g5dDeFJZEr3K"
      },
      "source": [
        "Посмотрим для английского:"
      ]
    },
    {
      "cell_type": "code",
      "execution_count": 39,
      "metadata": {
        "id": "Bm4PpkTlEr-G"
      },
      "outputs": [],
      "source": [
        "model = KeyBERT('distilbert-base-nli-mean-tokens')"
      ]
    },
    {
      "cell_type": "code",
      "execution_count": 40,
      "metadata": {
        "colab": {
          "base_uri": "https://localhost:8080/"
        },
        "id": "Mq_E337BDNPT",
        "outputId": "d81a235d-7456-4eab-e578-af78ba680bef"
      },
      "outputs": [
        {
          "output_type": "stream",
          "name": "stdout",
          "text": [
            "('2024 vienna premier', 0.6677)\n",
            "('joined 2024 vienna', 0.6337)\n",
            "('2024 vienna', 0.578)\n",
            "('centers joined 2024', 0.5193)\n",
            "('vienna premier international', 0.4505)\n"
          ]
        }
      ],
      "source": [
        "keywords = model.extract_keywords(en_text, keyphrase_ngram_range=(1, 3),\n",
        "                                  top_n=5)\n",
        "for keyword in keywords:\n",
        "    print(keyword)"
      ]
    },
    {
      "cell_type": "markdown",
      "metadata": {
        "id": "7jODGOCC1KJj"
      },
      "source": [
        "## Анализ тональности текста\n",
        "\n",
        "Анализ тональности текста - это задача определения настроения текста, обычно положительный / отрицательный / нейтральный, но есть варианты, где распознаются эмоции, как в text2emotion.\n",
        "\n",
        "Для русского есть библиотека dostoevsky."
      ]
    },
    {
      "cell_type": "markdown",
      "metadata": {
        "id": "jdRiExsFHpvz"
      },
      "source": [
        "### Transformers"
      ]
    },
    {
      "cell_type": "markdown",
      "source": [
        "В питоне есть библиотека transformers, которая позволяет без дополнительных усилий использовать почти все выложенные в открытый доступ модели на базе архитектуры Transformers (про нее мы вам чуть-чуть расскажем в третьем модуле). Такие модели умеют решать всякие разные задачи.\n",
        "\n",
        "И в том числе задачу анализа тональности"
      ],
      "metadata": {
        "id": "wFEH3W91rlYb"
      }
    },
    {
      "cell_type": "code",
      "execution_count": 41,
      "metadata": {
        "id": "JdwBwA-y1KJj"
      },
      "outputs": [],
      "source": [
        "from transformers import pipeline"
      ]
    },
    {
      "cell_type": "markdown",
      "source": [
        "Для этого надо создать пайплайн, который решает конкретную задачу или использует конкретную модель.\n",
        "\n",
        "[Вот тут](https://huggingface.co/seara/rubert-tiny2-russian-sentiment) можно прочитать про модель и классы, которые она умеет определять."
      ],
      "metadata": {
        "id": "n0yVH_O3rFdv"
      }
    },
    {
      "cell_type": "code",
      "source": [
        "model = pipeline(model=\"seara/rubert-tiny2-russian-sentiment\")\n",
        "model(\"Привет, ты мне нравишься!\")"
      ],
      "metadata": {
        "colab": {
          "base_uri": "https://localhost:8080/"
        },
        "id": "0hFuVouUrFzo",
        "outputId": "5418ce0d-75f2-403f-fdb4-113b507fd5fe"
      },
      "execution_count": 42,
      "outputs": [
        {
          "output_type": "stream",
          "name": "stderr",
          "text": [
            "Device set to use cpu\n"
          ]
        },
        {
          "output_type": "execute_result",
          "data": {
            "text/plain": [
              "[{'label': 'positive', 'score': 0.9398767948150635}]"
            ]
          },
          "metadata": {},
          "execution_count": 42
        }
      ]
    },
    {
      "cell_type": "code",
      "source": [
        "messages = [\n",
        "    \"всё довольно неплохо\",\n",
        "    \"здесь нет ничего хорошего\",\n",
        "    \"всё очень плохо\",\n",
        "    \"просто ужасно\",\n",
        "    \"замечательно сказано\"\n",
        "]\n",
        "\n",
        "results = model.predict(messages)\n",
        "\n",
        "for message, sentiment in zip(messages, results):\n",
        "    print(message, '->', sentiment)"
      ],
      "metadata": {
        "colab": {
          "base_uri": "https://localhost:8080/"
        },
        "id": "8Zf81Jb6sdj9",
        "outputId": "55588daf-6a2e-4065-96b5-9a28bab600e2"
      },
      "execution_count": 43,
      "outputs": [
        {
          "output_type": "stream",
          "name": "stdout",
          "text": [
            "всё довольно неплохо -> {'label': 'positive', 'score': 0.9321528077125549}\n",
            "здесь нет ничего хорошего -> {'label': 'neutral', 'score': 0.6274018883705139}\n",
            "всё очень плохо -> {'label': 'negative', 'score': 0.607185959815979}\n",
            "просто ужасно -> {'label': 'negative', 'score': 0.7177833914756775}\n",
            "замечательно сказано -> {'label': 'positive', 'score': 0.9507339596748352}\n"
          ]
        }
      ]
    },
    {
      "cell_type": "markdown",
      "source": [
        "[Вот тут](https://huggingface.co/seara/rubert-tiny2-russian-emotion-detection-ru-go-emotions) можно прочитать про модель и классы, которые она умеет определять."
      ],
      "metadata": {
        "id": "WgEAYc5BrGTZ"
      }
    },
    {
      "cell_type": "code",
      "execution_count": 44,
      "metadata": {
        "colab": {
          "base_uri": "https://localhost:8080/"
        },
        "id": "rEyGTiLp1KJj",
        "outputId": "4ba2f9b3-2625-454b-8c3b-5453819e8b76"
      },
      "outputs": [
        {
          "output_type": "stream",
          "name": "stderr",
          "text": [
            "Device set to use cpu\n"
          ]
        },
        {
          "output_type": "execute_result",
          "data": {
            "text/plain": [
              "[{'label': 'love', 'score': 0.5955632328987122}]"
            ]
          },
          "metadata": {},
          "execution_count": 44
        }
      ],
      "source": [
        "model = pipeline(model=\"seara/rubert-tiny2-ru-go-emotions\")\n",
        "model(\"Привет, ты мне нравишься!\")"
      ]
    },
    {
      "cell_type": "code",
      "execution_count": 45,
      "metadata": {
        "colab": {
          "base_uri": "https://localhost:8080/"
        },
        "id": "zNuY6SLC1KJj",
        "outputId": "72eef017-7175-41ba-be75-480d6385d74b"
      },
      "outputs": [
        {
          "output_type": "stream",
          "name": "stdout",
          "text": [
            "всё довольно неплохо -> {'label': 'admiration', 'score': 0.8752467036247253}\n",
            "здесь нет ничего хорошего -> {'label': 'disapproval', 'score': 0.6069228053092957}\n",
            "всё очень плохо -> {'label': 'disgust', 'score': 0.2002965360879898}\n",
            "просто ужасно -> {'label': 'disgust', 'score': 0.21302944421768188}\n",
            "замечательно сказано -> {'label': 'admiration', 'score': 0.7701236009597778}\n"
          ]
        }
      ],
      "source": [
        "messages = [\n",
        "    \"всё довольно неплохо\",\n",
        "    \"здесь нет ничего хорошего\",\n",
        "    \"всё очень плохо\",\n",
        "    \"просто ужасно\",\n",
        "    \"замечательно сказано\"\n",
        "]\n",
        "\n",
        "results = model.predict(messages)\n",
        "\n",
        "for message, sentiment in zip(messages, results):\n",
        "    print(message, '->', sentiment)"
      ]
    },
    {
      "cell_type": "markdown",
      "source": [
        "Посмотрим для английского"
      ],
      "metadata": {
        "id": "Y3mtiy9WswB8"
      }
    },
    {
      "cell_type": "code",
      "source": [
        "model = pipeline(\"sentiment-analysis\")\n",
        "model(\"Hello! You are nice.\")"
      ],
      "metadata": {
        "colab": {
          "base_uri": "https://localhost:8080/"
        },
        "id": "Fy8dA_WMswIs",
        "outputId": "dadc53f3-c1ef-4f84-cfbb-2e923af8d2fd"
      },
      "execution_count": 46,
      "outputs": [
        {
          "output_type": "stream",
          "name": "stderr",
          "text": [
            "No model was supplied, defaulted to distilbert/distilbert-base-uncased-finetuned-sst-2-english and revision 714eb0f (https://huggingface.co/distilbert/distilbert-base-uncased-finetuned-sst-2-english).\n",
            "Using a pipeline without specifying a model name and revision in production is not recommended.\n",
            "Device set to use cpu\n"
          ]
        },
        {
          "output_type": "execute_result",
          "data": {
            "text/plain": [
              "[{'label': 'POSITIVE', 'score': 0.9998441934585571}]"
            ]
          },
          "metadata": {},
          "execution_count": 46
        }
      ]
    },
    {
      "cell_type": "markdown",
      "metadata": {
        "id": "iz_usJCEFxep"
      },
      "source": [
        "А для английского так еще умеют Stanza и TextBlob"
      ]
    },
    {
      "cell_type": "markdown",
      "metadata": {
        "id": "wsr4aEBXHmb1"
      },
      "source": [
        "### Stanza"
      ]
    },
    {
      "cell_type": "code",
      "execution_count": 47,
      "metadata": {
        "colab": {
          "base_uri": "https://localhost:8080/",
          "height": 373,
          "referenced_widgets": [
            "1f882d76924845f79ebb8b7fe307eb80",
            "5b6f6455cbb6414a99e7dca6a47f344f",
            "fbf088a3fcbf46a591f202a382ffac0c",
            "ae2f81323ea14095a774c89d5176dc99",
            "baba8416201b4003b91371dbf5763e05",
            "09060f60a9534b438e08754423755b9b",
            "65c6e52cffa5405190d45f810dcbb396",
            "17bf911f8d3b4637978c29d640c39abf",
            "13365b1a2bc948398d460a909b2bd721",
            "f6ae7d9e2e384faebfd950b20ef18fa8",
            "3f360fa083a74fe48af2dc5f543a3f65"
          ]
        },
        "id": "4ukDEVVNGeGJ",
        "outputId": "bc6beb24-a423-466b-f2cf-1c26a48de922"
      },
      "outputs": [
        {
          "output_type": "stream",
          "name": "stderr",
          "text": [
            "INFO:stanza:Checking for updates to resources.json in case models have been updated.  Note: this behavior can be turned off with download_method=None or download_method=DownloadMethod.REUSE_RESOURCES\n"
          ]
        },
        {
          "output_type": "display_data",
          "data": {
            "text/plain": [
              "Downloading https://raw.githubusercontent.com/stanfordnlp/stanza-resources/main/resources_1.11.0.json:   0%|  …"
            ],
            "application/vnd.jupyter.widget-view+json": {
              "version_major": 2,
              "version_minor": 0,
              "model_id": "1f882d76924845f79ebb8b7fe307eb80"
            }
          },
          "metadata": {}
        },
        {
          "output_type": "stream",
          "name": "stderr",
          "text": [
            "INFO:stanza:Downloaded file to /root/stanza_resources/resources.json\n",
            "WARNING:stanza:Language en package default expects mwt, which has been added\n",
            "INFO:stanza:Loading these models for language: en (English):\n",
            "==============================\n",
            "| Processor | Package        |\n",
            "------------------------------\n",
            "| tokenize  | combined       |\n",
            "| mwt       | combined       |\n",
            "| sentiment | sstplus_charlm |\n",
            "==============================\n",
            "\n",
            "INFO:stanza:Using device: cpu\n",
            "INFO:stanza:Loading: tokenize\n",
            "INFO:stanza:Loading: mwt\n",
            "INFO:stanza:Loading: sentiment\n",
            "INFO:stanza:Done loading processors!\n"
          ]
        }
      ],
      "source": [
        "nlp = stanza.Pipeline(lang='en', processors='tokenize,sentiment')"
      ]
    },
    {
      "cell_type": "code",
      "execution_count": 48,
      "metadata": {
        "colab": {
          "base_uri": "https://localhost:8080/"
        },
        "id": "IeslLL3pGfPG",
        "outputId": "512d9a88-8154-469e-c485-9d910b52df6f"
      },
      "outputs": [
        {
          "output_type": "stream",
          "name": "stdout",
          "text": [
            "everything is pretty good. 0 -> 2\n",
            "there is nothing good here. 1 -> 0\n",
            "everything is very bad. 2 -> 0\n",
            "just terrible. 3 -> 0\n",
            "well said. 4 -> 1\n",
            "cats are animals 5 -> 1\n"
          ]
        }
      ],
      "source": [
        "# The existing models each support negative, neutral, and positive,\n",
        "# represented by 0, 1, 2 respectively.\n",
        "\n",
        "en_messages = [\n",
        "    \"everything is pretty good\",\n",
        "    \"there is nothing good here\",\n",
        "    \"everything is very bad\",\n",
        "    \"just terrible\",\n",
        "    \"well said\",\n",
        "    \"cats are animals\"\n",
        "]\n",
        "doc = nlp('.\\n'.join(en_messages))\n",
        "for i, sentence in enumerate(doc.sentences):\n",
        "    print(sentence.text, \"%d -> %d\" % (i, sentence.sentiment))"
      ]
    },
    {
      "cell_type": "markdown",
      "metadata": {
        "id": "s0AqePIkHsOO"
      },
      "source": [
        "### TextBlob"
      ]
    },
    {
      "cell_type": "code",
      "execution_count": 49,
      "metadata": {
        "colab": {
          "base_uri": "https://localhost:8080/"
        },
        "id": "J3Wz3ZlYHu8W",
        "outputId": "795519a6-7551-467b-dad5-0745479c03a1"
      },
      "outputs": [
        {
          "output_type": "stream",
          "name": "stdout",
          "text": [
            "everything is pretty good \t Sentiment(polarity=0.475, subjectivity=0.8)\n",
            "there is nothing good here \t Sentiment(polarity=0.7, subjectivity=0.6000000000000001)\n",
            "everything is very bad \t Sentiment(polarity=-0.9099999999999998, subjectivity=0.8666666666666667)\n",
            "just terrible \t Sentiment(polarity=-1.0, subjectivity=1.0)\n",
            "well said \t Sentiment(polarity=0.0, subjectivity=0.0)\n",
            "cats are animals \t Sentiment(polarity=0.0, subjectivity=0.0)\n"
          ]
        }
      ],
      "source": [
        "# Return a tuple of form (polarity, subjectivity ) where polarity is a float\n",
        "# within the range [-1.0, 1.0] and subjectivity is a float within\n",
        "# the range [0.0, 1.0] where 0.0 is very objective and 1.0 is very subjective.\n",
        "for message in en_messages:\n",
        "    blob = TextBlob(message)\n",
        "    print(message, '\\t', blob.sentiment)"
      ]
    },
    {
      "cell_type": "markdown",
      "metadata": {
        "id": "OevaRfLH1KJj"
      },
      "source": [
        "## Определение языка\n",
        "\n",
        "При работе с большими данными часто нужно разделить данные на группы по языкам, чтобы отправить на обработку в разные модели, например. Для этого есть разные инструменты, например, основанные на простом распределении частотности букв, на словарях, с нейросетевым подходом."
      ]
    },
    {
      "cell_type": "code",
      "execution_count": 50,
      "metadata": {
        "id": "lac8oHUt1KJk"
      },
      "outputs": [],
      "source": [
        "from langdetect import detect, detect_langs\n",
        "from langdetect import DetectorFactory\n",
        "DetectorFactory.seed = 0"
      ]
    },
    {
      "cell_type": "code",
      "execution_count": 51,
      "metadata": {
        "colab": {
          "base_uri": "https://localhost:8080/",
          "height": 35
        },
        "id": "fJNrFOYI1KJk",
        "outputId": "d3ed3ff2-ea42-4a1c-b500-05d8a9cd04af"
      },
      "outputs": [
        {
          "output_type": "execute_result",
          "data": {
            "text/plain": [
              "'de'"
            ],
            "application/vnd.google.colaboratory.intrinsic+json": {
              "type": "string"
            }
          },
          "metadata": {},
          "execution_count": 51
        }
      ],
      "source": [
        "# Dschinghis Khan - Moskau\n",
        "detect(\"Moskau — Tor zur Vergangenheit, Spiegel der Zarenzeit, Rot wie das Blut\")"
      ]
    },
    {
      "cell_type": "code",
      "execution_count": 52,
      "metadata": {
        "colab": {
          "base_uri": "https://localhost:8080/"
        },
        "id": "aFkZ2Eo_1KJk",
        "outputId": "9d57aa3f-1a2e-4e97-8fc7-752bd08f5ed5"
      },
      "outputs": [
        {
          "output_type": "execute_result",
          "data": {
            "text/plain": [
              "[de:0.9999953675874701]"
            ]
          },
          "metadata": {},
          "execution_count": 52
        }
      ],
      "source": [
        "detect_langs(\"Moskau — Tor zur Vergangenheit, Spiegel der Zarenzeit, Rot wie das Blut\")"
      ]
    },
    {
      "cell_type": "markdown",
      "metadata": {
        "id": "vBQOFNUz1KJk"
      },
      "source": [
        "Часто бывает так, что на коротких текстах библиотека ошибается и выдает какие-то другие языки, чаще всего родственные или со схожим алфавитом."
      ]
    },
    {
      "cell_type": "code",
      "execution_count": 53,
      "metadata": {
        "colab": {
          "base_uri": "https://localhost:8080/"
        },
        "id": "8TO7pmZA1KJk",
        "outputId": "1405844e-f434-4b06-a0fe-3800fde86300"
      },
      "outputs": [
        {
          "output_type": "execute_result",
          "data": {
            "text/plain": [
              "[mk:0.8192481473701985, bg:0.18075185259138754]"
            ]
          },
          "metadata": {},
          "execution_count": 53
        }
      ],
      "source": [
        "detect_langs(\"Привет!\")"
      ]
    },
    {
      "cell_type": "code",
      "execution_count": 54,
      "metadata": {
        "colab": {
          "base_uri": "https://localhost:8080/"
        },
        "id": "d6CUSFER1KJk",
        "outputId": "c429432d-681d-4ab8-c1ed-d41b73108ea4"
      },
      "outputs": [
        {
          "output_type": "execute_result",
          "data": {
            "text/plain": [
              "[ru:0.9999985230201999]"
            ]
          },
          "metadata": {},
          "execution_count": 54
        }
      ],
      "source": [
        "detect_langs(\"Привет, ты как?\")"
      ]
    },
    {
      "cell_type": "code",
      "execution_count": 55,
      "metadata": {
        "colab": {
          "base_uri": "https://localhost:8080/"
        },
        "id": "Dm8erIS01KJk",
        "outputId": "19a4c046-2233-41c8-d3a0-7ae51d6d307b"
      },
      "outputs": [
        {
          "output_type": "execute_result",
          "data": {
            "text/plain": [
              "[it:0.9999940963128859]"
            ]
          },
          "metadata": {},
          "execution_count": 55
        }
      ],
      "source": [
        "# Ricchi E Poveri - Voulez Vous Danser\n",
        "\n",
        "detect_langs(\"\"\"\n",
        "Questa musica è un'isola in mezzo al mare\n",
        "basta chiudere gli occhi e saprai dovè\n",
        "devi solo sapertele conquistare\n",
        "voulez-vous voulez-vous voulez-vous danser?\"\"\")"
      ]
    },
    {
      "cell_type": "markdown",
      "metadata": {
        "id": "XrZImnim1KJk"
      },
      "source": [
        "Бывает внезапное"
      ]
    },
    {
      "cell_type": "code",
      "execution_count": 56,
      "metadata": {
        "colab": {
          "base_uri": "https://localhost:8080/"
        },
        "id": "RWdsMYw91KJk",
        "outputId": "04573c93-d38b-4931-ecd3-d7b3f7100d06"
      },
      "outputs": [
        {
          "output_type": "execute_result",
          "data": {
            "text/plain": [
              "[cs:0.8571396370596909, fr:0.14285596647041326]"
            ]
          },
          "metadata": {},
          "execution_count": 56
        }
      ],
      "source": [
        "detect_langs(\"Voulez-vous, voulez-vous, voulez-vous danser?\")"
      ]
    },
    {
      "cell_type": "code",
      "execution_count": 57,
      "metadata": {
        "colab": {
          "base_uri": "https://localhost:8080/"
        },
        "id": "kokmaTqH1KJk",
        "outputId": "f2214a16-8b9a-4b59-e882-aa8fda2d099f"
      },
      "outputs": [
        {
          "output_type": "execute_result",
          "data": {
            "text/plain": [
              "[fr:0.5714290893675289, nl:0.42857062095631704]"
            ]
          },
          "metadata": {},
          "execution_count": 57
        }
      ],
      "source": [
        "detect_langs(\"Voulez-vous danser?\")"
      ]
    },
    {
      "cell_type": "markdown",
      "metadata": {
        "id": "Z5F9ZS2c1KJk"
      },
      "source": [
        "Можно сделать свою модель, например, по википедии посчитав распределение букв в разных языках и выдавая ближайший вектор распредлеения"
      ]
    },
    {
      "cell_type": "markdown",
      "metadata": {
        "id": "AdLud1ou1KJk"
      },
      "source": [
        "## Спеллчекер / автокоррект"
      ]
    },
    {
      "cell_type": "markdown",
      "metadata": {
        "id": "MnW0LxGa1KJk"
      },
      "source": [
        "Автоматическое исправление опечаток - это большая задача. Обычно этим занимаются компании, работающие с текстовым вводом:\n",
        "\n",
        "- Дока: https://github.com/filyp/autocorrect\n",
        "- редакторы документов (Word, Google Docs)\n",
        "- различные исправляющие сервисы (Grammarly)\n",
        "- клавиатуры для мобильных устройств (Google, Yandex, любые другие)"
      ]
    },
    {
      "cell_type": "code",
      "execution_count": 58,
      "metadata": {
        "id": "55G9y8N61KJk"
      },
      "outputs": [],
      "source": [
        "from autocorrect import Speller"
      ]
    },
    {
      "cell_type": "markdown",
      "metadata": {
        "id": "t0a1AynIIzat"
      },
      "source": [
        "Для английского:"
      ]
    },
    {
      "cell_type": "code",
      "execution_count": 59,
      "metadata": {
        "id": "_JRO1pDD1KJl"
      },
      "outputs": [],
      "source": [
        "spell = Speller(lang='en')"
      ]
    },
    {
      "cell_type": "code",
      "execution_count": 60,
      "metadata": {
        "colab": {
          "base_uri": "https://localhost:8080/",
          "height": 35
        },
        "id": "czmTv-uI1KJl",
        "outputId": "14f64f3c-e107-445a-92ea-266bb72471b5"
      },
      "outputs": [
        {
          "output_type": "execute_result",
          "data": {
            "text/plain": [
              "\"I'm not sleepy and there is no place I'm going to.\""
            ],
            "application/vnd.google.colaboratory.intrinsic+json": {
              "type": "string"
            }
          },
          "metadata": {},
          "execution_count": 60
        }
      ],
      "source": [
        "spell(\"I'm not sleapy and tehre is no place I'm giong to.\")"
      ]
    },
    {
      "cell_type": "code",
      "execution_count": 61,
      "metadata": {
        "colab": {
          "base_uri": "https://localhost:8080/"
        },
        "id": "909SDuRs1KJl",
        "outputId": "51de73bf-3efc-4c46-a33f-1475448c1b4e"
      },
      "outputs": [
        {
          "output_type": "stream",
          "name": "stdout",
          "text": [
            "147 ms ± 28.7 ms per loop (mean ± std. dev. of 7 runs, 10 loops each)\n"
          ]
        }
      ],
      "source": [
        "%timeit spell(\"There is no comin to consiousnes without pain.\")"
      ]
    },
    {
      "cell_type": "markdown",
      "metadata": {
        "id": "gPJN-5Nv1KJl"
      },
      "source": [
        "Можно ускорить работу до скорости меньше миллисекунды."
      ]
    },
    {
      "cell_type": "code",
      "execution_count": 62,
      "metadata": {
        "id": "jEwLU_Je1KJl"
      },
      "outputs": [],
      "source": [
        "spell = Speller(fast=True)"
      ]
    },
    {
      "cell_type": "code",
      "execution_count": 63,
      "metadata": {
        "colab": {
          "base_uri": "https://localhost:8080/"
        },
        "id": "mfaGvH911KJl",
        "outputId": "a508e6ac-a456-493f-b8b5-cd02babbe98a"
      },
      "outputs": [
        {
          "output_type": "stream",
          "name": "stdout",
          "text": [
            "264 µs ± 9.1 µs per loop (mean ± std. dev. of 7 runs, 1000 loops each)\n"
          ]
        }
      ],
      "source": [
        "%timeit spell(\"There is no comin to consiousnes without pain.\")"
      ]
    },
    {
      "cell_type": "markdown",
      "metadata": {
        "id": "N2tUb9feI317"
      },
      "source": [
        "Для русского:"
      ]
    },
    {
      "cell_type": "code",
      "execution_count": 64,
      "metadata": {
        "id": "N5826jZiI3ML"
      },
      "outputs": [],
      "source": [
        "spell = Speller(lang='ru')"
      ]
    },
    {
      "cell_type": "code",
      "execution_count": 65,
      "metadata": {
        "colab": {
          "base_uri": "https://localhost:8080/",
          "height": 35
        },
        "id": "qnquIZsgI3MM",
        "outputId": "0e2f1301-951a-44b2-fddf-b707bf6efcce"
      },
      "outputs": [
        {
          "output_type": "execute_result",
          "data": {
            "text/plain": [
              "'Опечатка - это неприятно'"
            ],
            "application/vnd.google.colaboratory.intrinsic+json": {
              "type": "string"
            }
          },
          "metadata": {},
          "execution_count": 65
        }
      ],
      "source": [
        "spell(\"Опечатак - это енприятно\")"
      ]
    },
    {
      "cell_type": "code",
      "execution_count": 65,
      "metadata": {
        "id": "eBogtd3yLW-o"
      },
      "outputs": [],
      "source": []
    }
  ],
  "metadata": {
    "colab": {
      "provenance": []
    },
    "kernelspec": {
      "display_name": "Python 3 (ipykernel)",
      "language": "python",
      "name": "python3"
    },
    "language_info": {
      "codemirror_mode": {
        "name": "ipython",
        "version": 3
      },
      "file_extension": ".py",
      "mimetype": "text/x-python",
      "name": "python",
      "nbconvert_exporter": "python",
      "pygments_lexer": "ipython3",
      "version": "3.10.9"
    },
    "widgets": {
      "application/vnd.jupyter.widget-state+json": {
        "e05eacf327924a3ea1708e16707357a9": {
          "model_module": "@jupyter-widgets/controls",
          "model_name": "HBoxModel",
          "model_module_version": "1.5.0",
          "state": {
            "_dom_classes": [],
            "_model_module": "@jupyter-widgets/controls",
            "_model_module_version": "1.5.0",
            "_model_name": "HBoxModel",
            "_view_count": null,
            "_view_module": "@jupyter-widgets/controls",
            "_view_module_version": "1.5.0",
            "_view_name": "HBoxView",
            "box_style": "",
            "children": [
              "IPY_MODEL_6898272409fe4d74b199c2e100876076",
              "IPY_MODEL_b5c4da9bf401404ea118c002dd5b2df0",
              "IPY_MODEL_c133e325034e442299905e572fbc8b13"
            ],
            "layout": "IPY_MODEL_c993a6dcc30746a091001b98c0fd3e0a"
          }
        },
        "6898272409fe4d74b199c2e100876076": {
          "model_module": "@jupyter-widgets/controls",
          "model_name": "HTMLModel",
          "model_module_version": "1.5.0",
          "state": {
            "_dom_classes": [],
            "_model_module": "@jupyter-widgets/controls",
            "_model_module_version": "1.5.0",
            "_model_name": "HTMLModel",
            "_view_count": null,
            "_view_module": "@jupyter-widgets/controls",
            "_view_module_version": "1.5.0",
            "_view_name": "HTMLView",
            "description": "",
            "description_tooltip": null,
            "layout": "IPY_MODEL_561f69922b3c4dee9e70124f3de6000a",
            "placeholder": "​",
            "style": "IPY_MODEL_e7cb41f8f4d448b79197bd67476d0f9a",
            "value": "Downloading https://raw.githubusercontent.com/stanfordnlp/stanza-resources/main/resources_1.11.0.json: "
          }
        },
        "b5c4da9bf401404ea118c002dd5b2df0": {
          "model_module": "@jupyter-widgets/controls",
          "model_name": "FloatProgressModel",
          "model_module_version": "1.5.0",
          "state": {
            "_dom_classes": [],
            "_model_module": "@jupyter-widgets/controls",
            "_model_module_version": "1.5.0",
            "_model_name": "FloatProgressModel",
            "_view_count": null,
            "_view_module": "@jupyter-widgets/controls",
            "_view_module_version": "1.5.0",
            "_view_name": "ProgressView",
            "bar_style": "success",
            "description": "",
            "description_tooltip": null,
            "layout": "IPY_MODEL_b5e9a8d7276942e9a3b79da7ef80d37f",
            "max": 53683,
            "min": 0,
            "orientation": "horizontal",
            "style": "IPY_MODEL_a37f7c3cc6eb404789ab2697dcbb5ee5",
            "value": 53683
          }
        },
        "c133e325034e442299905e572fbc8b13": {
          "model_module": "@jupyter-widgets/controls",
          "model_name": "HTMLModel",
          "model_module_version": "1.5.0",
          "state": {
            "_dom_classes": [],
            "_model_module": "@jupyter-widgets/controls",
            "_model_module_version": "1.5.0",
            "_model_name": "HTMLModel",
            "_view_count": null,
            "_view_module": "@jupyter-widgets/controls",
            "_view_module_version": "1.5.0",
            "_view_name": "HTMLView",
            "description": "",
            "description_tooltip": null,
            "layout": "IPY_MODEL_27f75d888a384a22b13a5773c2ceb8db",
            "placeholder": "​",
            "style": "IPY_MODEL_2dea15a382514f2a88377c16c5d4a550",
            "value": " 436k/? [00:00&lt;00:00, 7.95MB/s]"
          }
        },
        "c993a6dcc30746a091001b98c0fd3e0a": {
          "model_module": "@jupyter-widgets/base",
          "model_name": "LayoutModel",
          "model_module_version": "1.2.0",
          "state": {
            "_model_module": "@jupyter-widgets/base",
            "_model_module_version": "1.2.0",
            "_model_name": "LayoutModel",
            "_view_count": null,
            "_view_module": "@jupyter-widgets/base",
            "_view_module_version": "1.2.0",
            "_view_name": "LayoutView",
            "align_content": null,
            "align_items": null,
            "align_self": null,
            "border": null,
            "bottom": null,
            "display": null,
            "flex": null,
            "flex_flow": null,
            "grid_area": null,
            "grid_auto_columns": null,
            "grid_auto_flow": null,
            "grid_auto_rows": null,
            "grid_column": null,
            "grid_gap": null,
            "grid_row": null,
            "grid_template_areas": null,
            "grid_template_columns": null,
            "grid_template_rows": null,
            "height": null,
            "justify_content": null,
            "justify_items": null,
            "left": null,
            "margin": null,
            "max_height": null,
            "max_width": null,
            "min_height": null,
            "min_width": null,
            "object_fit": null,
            "object_position": null,
            "order": null,
            "overflow": null,
            "overflow_x": null,
            "overflow_y": null,
            "padding": null,
            "right": null,
            "top": null,
            "visibility": null,
            "width": null
          }
        },
        "561f69922b3c4dee9e70124f3de6000a": {
          "model_module": "@jupyter-widgets/base",
          "model_name": "LayoutModel",
          "model_module_version": "1.2.0",
          "state": {
            "_model_module": "@jupyter-widgets/base",
            "_model_module_version": "1.2.0",
            "_model_name": "LayoutModel",
            "_view_count": null,
            "_view_module": "@jupyter-widgets/base",
            "_view_module_version": "1.2.0",
            "_view_name": "LayoutView",
            "align_content": null,
            "align_items": null,
            "align_self": null,
            "border": null,
            "bottom": null,
            "display": null,
            "flex": null,
            "flex_flow": null,
            "grid_area": null,
            "grid_auto_columns": null,
            "grid_auto_flow": null,
            "grid_auto_rows": null,
            "grid_column": null,
            "grid_gap": null,
            "grid_row": null,
            "grid_template_areas": null,
            "grid_template_columns": null,
            "grid_template_rows": null,
            "height": null,
            "justify_content": null,
            "justify_items": null,
            "left": null,
            "margin": null,
            "max_height": null,
            "max_width": null,
            "min_height": null,
            "min_width": null,
            "object_fit": null,
            "object_position": null,
            "order": null,
            "overflow": null,
            "overflow_x": null,
            "overflow_y": null,
            "padding": null,
            "right": null,
            "top": null,
            "visibility": null,
            "width": null
          }
        },
        "e7cb41f8f4d448b79197bd67476d0f9a": {
          "model_module": "@jupyter-widgets/controls",
          "model_name": "DescriptionStyleModel",
          "model_module_version": "1.5.0",
          "state": {
            "_model_module": "@jupyter-widgets/controls",
            "_model_module_version": "1.5.0",
            "_model_name": "DescriptionStyleModel",
            "_view_count": null,
            "_view_module": "@jupyter-widgets/base",
            "_view_module_version": "1.2.0",
            "_view_name": "StyleView",
            "description_width": ""
          }
        },
        "b5e9a8d7276942e9a3b79da7ef80d37f": {
          "model_module": "@jupyter-widgets/base",
          "model_name": "LayoutModel",
          "model_module_version": "1.2.0",
          "state": {
            "_model_module": "@jupyter-widgets/base",
            "_model_module_version": "1.2.0",
            "_model_name": "LayoutModel",
            "_view_count": null,
            "_view_module": "@jupyter-widgets/base",
            "_view_module_version": "1.2.0",
            "_view_name": "LayoutView",
            "align_content": null,
            "align_items": null,
            "align_self": null,
            "border": null,
            "bottom": null,
            "display": null,
            "flex": null,
            "flex_flow": null,
            "grid_area": null,
            "grid_auto_columns": null,
            "grid_auto_flow": null,
            "grid_auto_rows": null,
            "grid_column": null,
            "grid_gap": null,
            "grid_row": null,
            "grid_template_areas": null,
            "grid_template_columns": null,
            "grid_template_rows": null,
            "height": null,
            "justify_content": null,
            "justify_items": null,
            "left": null,
            "margin": null,
            "max_height": null,
            "max_width": null,
            "min_height": null,
            "min_width": null,
            "object_fit": null,
            "object_position": null,
            "order": null,
            "overflow": null,
            "overflow_x": null,
            "overflow_y": null,
            "padding": null,
            "right": null,
            "top": null,
            "visibility": null,
            "width": null
          }
        },
        "a37f7c3cc6eb404789ab2697dcbb5ee5": {
          "model_module": "@jupyter-widgets/controls",
          "model_name": "ProgressStyleModel",
          "model_module_version": "1.5.0",
          "state": {
            "_model_module": "@jupyter-widgets/controls",
            "_model_module_version": "1.5.0",
            "_model_name": "ProgressStyleModel",
            "_view_count": null,
            "_view_module": "@jupyter-widgets/base",
            "_view_module_version": "1.2.0",
            "_view_name": "StyleView",
            "bar_color": null,
            "description_width": ""
          }
        },
        "27f75d888a384a22b13a5773c2ceb8db": {
          "model_module": "@jupyter-widgets/base",
          "model_name": "LayoutModel",
          "model_module_version": "1.2.0",
          "state": {
            "_model_module": "@jupyter-widgets/base",
            "_model_module_version": "1.2.0",
            "_model_name": "LayoutModel",
            "_view_count": null,
            "_view_module": "@jupyter-widgets/base",
            "_view_module_version": "1.2.0",
            "_view_name": "LayoutView",
            "align_content": null,
            "align_items": null,
            "align_self": null,
            "border": null,
            "bottom": null,
            "display": null,
            "flex": null,
            "flex_flow": null,
            "grid_area": null,
            "grid_auto_columns": null,
            "grid_auto_flow": null,
            "grid_auto_rows": null,
            "grid_column": null,
            "grid_gap": null,
            "grid_row": null,
            "grid_template_areas": null,
            "grid_template_columns": null,
            "grid_template_rows": null,
            "height": null,
            "justify_content": null,
            "justify_items": null,
            "left": null,
            "margin": null,
            "max_height": null,
            "max_width": null,
            "min_height": null,
            "min_width": null,
            "object_fit": null,
            "object_position": null,
            "order": null,
            "overflow": null,
            "overflow_x": null,
            "overflow_y": null,
            "padding": null,
            "right": null,
            "top": null,
            "visibility": null,
            "width": null
          }
        },
        "2dea15a382514f2a88377c16c5d4a550": {
          "model_module": "@jupyter-widgets/controls",
          "model_name": "DescriptionStyleModel",
          "model_module_version": "1.5.0",
          "state": {
            "_model_module": "@jupyter-widgets/controls",
            "_model_module_version": "1.5.0",
            "_model_name": "DescriptionStyleModel",
            "_view_count": null,
            "_view_module": "@jupyter-widgets/base",
            "_view_module_version": "1.2.0",
            "_view_name": "StyleView",
            "description_width": ""
          }
        },
        "656e430f9d7f48ad9d1e8466075e8e7c": {
          "model_module": "@jupyter-widgets/controls",
          "model_name": "HBoxModel",
          "model_module_version": "1.5.0",
          "state": {
            "_dom_classes": [],
            "_model_module": "@jupyter-widgets/controls",
            "_model_module_version": "1.5.0",
            "_model_name": "HBoxModel",
            "_view_count": null,
            "_view_module": "@jupyter-widgets/controls",
            "_view_module_version": "1.5.0",
            "_view_name": "HBoxView",
            "box_style": "",
            "children": [
              "IPY_MODEL_c5d74b0691384458bcd648f6c1798cb3",
              "IPY_MODEL_3edb5aa5795e441d93ba3cada1c425fa",
              "IPY_MODEL_c1a01b6244294d0db85a8da0e9165d0f"
            ],
            "layout": "IPY_MODEL_37a7963e931b4673922abd45e07e1286"
          }
        },
        "c5d74b0691384458bcd648f6c1798cb3": {
          "model_module": "@jupyter-widgets/controls",
          "model_name": "HTMLModel",
          "model_module_version": "1.5.0",
          "state": {
            "_dom_classes": [],
            "_model_module": "@jupyter-widgets/controls",
            "_model_module_version": "1.5.0",
            "_model_name": "HTMLModel",
            "_view_count": null,
            "_view_module": "@jupyter-widgets/controls",
            "_view_module_version": "1.5.0",
            "_view_name": "HTMLView",
            "description": "",
            "description_tooltip": null,
            "layout": "IPY_MODEL_6611d676281d45158cc93e5a3958c321",
            "placeholder": "​",
            "style": "IPY_MODEL_90ae8f32ea604ce3bcc53c8186f0dfb0",
            "value": "Downloading https://raw.githubusercontent.com/stanfordnlp/stanza-resources/main/resources_1.11.0.json: "
          }
        },
        "3edb5aa5795e441d93ba3cada1c425fa": {
          "model_module": "@jupyter-widgets/controls",
          "model_name": "FloatProgressModel",
          "model_module_version": "1.5.0",
          "state": {
            "_dom_classes": [],
            "_model_module": "@jupyter-widgets/controls",
            "_model_module_version": "1.5.0",
            "_model_name": "FloatProgressModel",
            "_view_count": null,
            "_view_module": "@jupyter-widgets/controls",
            "_view_module_version": "1.5.0",
            "_view_name": "ProgressView",
            "bar_style": "success",
            "description": "",
            "description_tooltip": null,
            "layout": "IPY_MODEL_460ccf72e09c4cc68a81e65e676f8ac8",
            "max": 53683,
            "min": 0,
            "orientation": "horizontal",
            "style": "IPY_MODEL_7220b6caa5624ea992936e93da72301f",
            "value": 53683
          }
        },
        "c1a01b6244294d0db85a8da0e9165d0f": {
          "model_module": "@jupyter-widgets/controls",
          "model_name": "HTMLModel",
          "model_module_version": "1.5.0",
          "state": {
            "_dom_classes": [],
            "_model_module": "@jupyter-widgets/controls",
            "_model_module_version": "1.5.0",
            "_model_name": "HTMLModel",
            "_view_count": null,
            "_view_module": "@jupyter-widgets/controls",
            "_view_module_version": "1.5.0",
            "_view_name": "HTMLView",
            "description": "",
            "description_tooltip": null,
            "layout": "IPY_MODEL_9c6359e06e974c3f8227dff0fc6e5444",
            "placeholder": "​",
            "style": "IPY_MODEL_794be06d2d2a479ca3536f5ab6b391ae",
            "value": " 436k/? [00:00&lt;00:00, 10.8MB/s]"
          }
        },
        "37a7963e931b4673922abd45e07e1286": {
          "model_module": "@jupyter-widgets/base",
          "model_name": "LayoutModel",
          "model_module_version": "1.2.0",
          "state": {
            "_model_module": "@jupyter-widgets/base",
            "_model_module_version": "1.2.0",
            "_model_name": "LayoutModel",
            "_view_count": null,
            "_view_module": "@jupyter-widgets/base",
            "_view_module_version": "1.2.0",
            "_view_name": "LayoutView",
            "align_content": null,
            "align_items": null,
            "align_self": null,
            "border": null,
            "bottom": null,
            "display": null,
            "flex": null,
            "flex_flow": null,
            "grid_area": null,
            "grid_auto_columns": null,
            "grid_auto_flow": null,
            "grid_auto_rows": null,
            "grid_column": null,
            "grid_gap": null,
            "grid_row": null,
            "grid_template_areas": null,
            "grid_template_columns": null,
            "grid_template_rows": null,
            "height": null,
            "justify_content": null,
            "justify_items": null,
            "left": null,
            "margin": null,
            "max_height": null,
            "max_width": null,
            "min_height": null,
            "min_width": null,
            "object_fit": null,
            "object_position": null,
            "order": null,
            "overflow": null,
            "overflow_x": null,
            "overflow_y": null,
            "padding": null,
            "right": null,
            "top": null,
            "visibility": null,
            "width": null
          }
        },
        "6611d676281d45158cc93e5a3958c321": {
          "model_module": "@jupyter-widgets/base",
          "model_name": "LayoutModel",
          "model_module_version": "1.2.0",
          "state": {
            "_model_module": "@jupyter-widgets/base",
            "_model_module_version": "1.2.0",
            "_model_name": "LayoutModel",
            "_view_count": null,
            "_view_module": "@jupyter-widgets/base",
            "_view_module_version": "1.2.0",
            "_view_name": "LayoutView",
            "align_content": null,
            "align_items": null,
            "align_self": null,
            "border": null,
            "bottom": null,
            "display": null,
            "flex": null,
            "flex_flow": null,
            "grid_area": null,
            "grid_auto_columns": null,
            "grid_auto_flow": null,
            "grid_auto_rows": null,
            "grid_column": null,
            "grid_gap": null,
            "grid_row": null,
            "grid_template_areas": null,
            "grid_template_columns": null,
            "grid_template_rows": null,
            "height": null,
            "justify_content": null,
            "justify_items": null,
            "left": null,
            "margin": null,
            "max_height": null,
            "max_width": null,
            "min_height": null,
            "min_width": null,
            "object_fit": null,
            "object_position": null,
            "order": null,
            "overflow": null,
            "overflow_x": null,
            "overflow_y": null,
            "padding": null,
            "right": null,
            "top": null,
            "visibility": null,
            "width": null
          }
        },
        "90ae8f32ea604ce3bcc53c8186f0dfb0": {
          "model_module": "@jupyter-widgets/controls",
          "model_name": "DescriptionStyleModel",
          "model_module_version": "1.5.0",
          "state": {
            "_model_module": "@jupyter-widgets/controls",
            "_model_module_version": "1.5.0",
            "_model_name": "DescriptionStyleModel",
            "_view_count": null,
            "_view_module": "@jupyter-widgets/base",
            "_view_module_version": "1.2.0",
            "_view_name": "StyleView",
            "description_width": ""
          }
        },
        "460ccf72e09c4cc68a81e65e676f8ac8": {
          "model_module": "@jupyter-widgets/base",
          "model_name": "LayoutModel",
          "model_module_version": "1.2.0",
          "state": {
            "_model_module": "@jupyter-widgets/base",
            "_model_module_version": "1.2.0",
            "_model_name": "LayoutModel",
            "_view_count": null,
            "_view_module": "@jupyter-widgets/base",
            "_view_module_version": "1.2.0",
            "_view_name": "LayoutView",
            "align_content": null,
            "align_items": null,
            "align_self": null,
            "border": null,
            "bottom": null,
            "display": null,
            "flex": null,
            "flex_flow": null,
            "grid_area": null,
            "grid_auto_columns": null,
            "grid_auto_flow": null,
            "grid_auto_rows": null,
            "grid_column": null,
            "grid_gap": null,
            "grid_row": null,
            "grid_template_areas": null,
            "grid_template_columns": null,
            "grid_template_rows": null,
            "height": null,
            "justify_content": null,
            "justify_items": null,
            "left": null,
            "margin": null,
            "max_height": null,
            "max_width": null,
            "min_height": null,
            "min_width": null,
            "object_fit": null,
            "object_position": null,
            "order": null,
            "overflow": null,
            "overflow_x": null,
            "overflow_y": null,
            "padding": null,
            "right": null,
            "top": null,
            "visibility": null,
            "width": null
          }
        },
        "7220b6caa5624ea992936e93da72301f": {
          "model_module": "@jupyter-widgets/controls",
          "model_name": "ProgressStyleModel",
          "model_module_version": "1.5.0",
          "state": {
            "_model_module": "@jupyter-widgets/controls",
            "_model_module_version": "1.5.0",
            "_model_name": "ProgressStyleModel",
            "_view_count": null,
            "_view_module": "@jupyter-widgets/base",
            "_view_module_version": "1.2.0",
            "_view_name": "StyleView",
            "bar_color": null,
            "description_width": ""
          }
        },
        "9c6359e06e974c3f8227dff0fc6e5444": {
          "model_module": "@jupyter-widgets/base",
          "model_name": "LayoutModel",
          "model_module_version": "1.2.0",
          "state": {
            "_model_module": "@jupyter-widgets/base",
            "_model_module_version": "1.2.0",
            "_model_name": "LayoutModel",
            "_view_count": null,
            "_view_module": "@jupyter-widgets/base",
            "_view_module_version": "1.2.0",
            "_view_name": "LayoutView",
            "align_content": null,
            "align_items": null,
            "align_self": null,
            "border": null,
            "bottom": null,
            "display": null,
            "flex": null,
            "flex_flow": null,
            "grid_area": null,
            "grid_auto_columns": null,
            "grid_auto_flow": null,
            "grid_auto_rows": null,
            "grid_column": null,
            "grid_gap": null,
            "grid_row": null,
            "grid_template_areas": null,
            "grid_template_columns": null,
            "grid_template_rows": null,
            "height": null,
            "justify_content": null,
            "justify_items": null,
            "left": null,
            "margin": null,
            "max_height": null,
            "max_width": null,
            "min_height": null,
            "min_width": null,
            "object_fit": null,
            "object_position": null,
            "order": null,
            "overflow": null,
            "overflow_x": null,
            "overflow_y": null,
            "padding": null,
            "right": null,
            "top": null,
            "visibility": null,
            "width": null
          }
        },
        "794be06d2d2a479ca3536f5ab6b391ae": {
          "model_module": "@jupyter-widgets/controls",
          "model_name": "DescriptionStyleModel",
          "model_module_version": "1.5.0",
          "state": {
            "_model_module": "@jupyter-widgets/controls",
            "_model_module_version": "1.5.0",
            "_model_name": "DescriptionStyleModel",
            "_view_count": null,
            "_view_module": "@jupyter-widgets/base",
            "_view_module_version": "1.2.0",
            "_view_name": "StyleView",
            "description_width": ""
          }
        },
        "1d3101259fec4df2a8d7ffb56a4fdc8b": {
          "model_module": "@jupyter-widgets/controls",
          "model_name": "HBoxModel",
          "model_module_version": "1.5.0",
          "state": {
            "_dom_classes": [],
            "_model_module": "@jupyter-widgets/controls",
            "_model_module_version": "1.5.0",
            "_model_name": "HBoxModel",
            "_view_count": null,
            "_view_module": "@jupyter-widgets/controls",
            "_view_module_version": "1.5.0",
            "_view_name": "HBoxView",
            "box_style": "",
            "children": [
              "IPY_MODEL_aaa803b3b15b4ff4885ea0430c7eb7d5",
              "IPY_MODEL_d340a133cdd94b2e85292b3f38756777",
              "IPY_MODEL_2d4b1616eede476794be534a441a2743"
            ],
            "layout": "IPY_MODEL_60cbd28a03f947db82001f3f6344f5bc"
          }
        },
        "aaa803b3b15b4ff4885ea0430c7eb7d5": {
          "model_module": "@jupyter-widgets/controls",
          "model_name": "HTMLModel",
          "model_module_version": "1.5.0",
          "state": {
            "_dom_classes": [],
            "_model_module": "@jupyter-widgets/controls",
            "_model_module_version": "1.5.0",
            "_model_name": "HTMLModel",
            "_view_count": null,
            "_view_module": "@jupyter-widgets/controls",
            "_view_module_version": "1.5.0",
            "_view_name": "HTMLView",
            "description": "",
            "description_tooltip": null,
            "layout": "IPY_MODEL_49fb0b3066eb4af0b2c537ba92962dc3",
            "placeholder": "​",
            "style": "IPY_MODEL_67c24231cfa84fed8116b4318fffa318",
            "value": "Downloading https://raw.githubusercontent.com/stanfordnlp/stanza-resources/main/resources_1.11.0.json: "
          }
        },
        "d340a133cdd94b2e85292b3f38756777": {
          "model_module": "@jupyter-widgets/controls",
          "model_name": "FloatProgressModel",
          "model_module_version": "1.5.0",
          "state": {
            "_dom_classes": [],
            "_model_module": "@jupyter-widgets/controls",
            "_model_module_version": "1.5.0",
            "_model_name": "FloatProgressModel",
            "_view_count": null,
            "_view_module": "@jupyter-widgets/controls",
            "_view_module_version": "1.5.0",
            "_view_name": "ProgressView",
            "bar_style": "success",
            "description": "",
            "description_tooltip": null,
            "layout": "IPY_MODEL_502f0bd6b5a14658afc9f31f86dd84a3",
            "max": 53683,
            "min": 0,
            "orientation": "horizontal",
            "style": "IPY_MODEL_0107bdd24a534053993c38a425608ce8",
            "value": 53683
          }
        },
        "2d4b1616eede476794be534a441a2743": {
          "model_module": "@jupyter-widgets/controls",
          "model_name": "HTMLModel",
          "model_module_version": "1.5.0",
          "state": {
            "_dom_classes": [],
            "_model_module": "@jupyter-widgets/controls",
            "_model_module_version": "1.5.0",
            "_model_name": "HTMLModel",
            "_view_count": null,
            "_view_module": "@jupyter-widgets/controls",
            "_view_module_version": "1.5.0",
            "_view_name": "HTMLView",
            "description": "",
            "description_tooltip": null,
            "layout": "IPY_MODEL_eebf2014d70f4ea296ea4ba210233418",
            "placeholder": "​",
            "style": "IPY_MODEL_00d51f8c2f594b9c8807ad271ab3cbc5",
            "value": " 436k/? [00:00&lt;00:00, 9.44MB/s]"
          }
        },
        "60cbd28a03f947db82001f3f6344f5bc": {
          "model_module": "@jupyter-widgets/base",
          "model_name": "LayoutModel",
          "model_module_version": "1.2.0",
          "state": {
            "_model_module": "@jupyter-widgets/base",
            "_model_module_version": "1.2.0",
            "_model_name": "LayoutModel",
            "_view_count": null,
            "_view_module": "@jupyter-widgets/base",
            "_view_module_version": "1.2.0",
            "_view_name": "LayoutView",
            "align_content": null,
            "align_items": null,
            "align_self": null,
            "border": null,
            "bottom": null,
            "display": null,
            "flex": null,
            "flex_flow": null,
            "grid_area": null,
            "grid_auto_columns": null,
            "grid_auto_flow": null,
            "grid_auto_rows": null,
            "grid_column": null,
            "grid_gap": null,
            "grid_row": null,
            "grid_template_areas": null,
            "grid_template_columns": null,
            "grid_template_rows": null,
            "height": null,
            "justify_content": null,
            "justify_items": null,
            "left": null,
            "margin": null,
            "max_height": null,
            "max_width": null,
            "min_height": null,
            "min_width": null,
            "object_fit": null,
            "object_position": null,
            "order": null,
            "overflow": null,
            "overflow_x": null,
            "overflow_y": null,
            "padding": null,
            "right": null,
            "top": null,
            "visibility": null,
            "width": null
          }
        },
        "49fb0b3066eb4af0b2c537ba92962dc3": {
          "model_module": "@jupyter-widgets/base",
          "model_name": "LayoutModel",
          "model_module_version": "1.2.0",
          "state": {
            "_model_module": "@jupyter-widgets/base",
            "_model_module_version": "1.2.0",
            "_model_name": "LayoutModel",
            "_view_count": null,
            "_view_module": "@jupyter-widgets/base",
            "_view_module_version": "1.2.0",
            "_view_name": "LayoutView",
            "align_content": null,
            "align_items": null,
            "align_self": null,
            "border": null,
            "bottom": null,
            "display": null,
            "flex": null,
            "flex_flow": null,
            "grid_area": null,
            "grid_auto_columns": null,
            "grid_auto_flow": null,
            "grid_auto_rows": null,
            "grid_column": null,
            "grid_gap": null,
            "grid_row": null,
            "grid_template_areas": null,
            "grid_template_columns": null,
            "grid_template_rows": null,
            "height": null,
            "justify_content": null,
            "justify_items": null,
            "left": null,
            "margin": null,
            "max_height": null,
            "max_width": null,
            "min_height": null,
            "min_width": null,
            "object_fit": null,
            "object_position": null,
            "order": null,
            "overflow": null,
            "overflow_x": null,
            "overflow_y": null,
            "padding": null,
            "right": null,
            "top": null,
            "visibility": null,
            "width": null
          }
        },
        "67c24231cfa84fed8116b4318fffa318": {
          "model_module": "@jupyter-widgets/controls",
          "model_name": "DescriptionStyleModel",
          "model_module_version": "1.5.0",
          "state": {
            "_model_module": "@jupyter-widgets/controls",
            "_model_module_version": "1.5.0",
            "_model_name": "DescriptionStyleModel",
            "_view_count": null,
            "_view_module": "@jupyter-widgets/base",
            "_view_module_version": "1.2.0",
            "_view_name": "StyleView",
            "description_width": ""
          }
        },
        "502f0bd6b5a14658afc9f31f86dd84a3": {
          "model_module": "@jupyter-widgets/base",
          "model_name": "LayoutModel",
          "model_module_version": "1.2.0",
          "state": {
            "_model_module": "@jupyter-widgets/base",
            "_model_module_version": "1.2.0",
            "_model_name": "LayoutModel",
            "_view_count": null,
            "_view_module": "@jupyter-widgets/base",
            "_view_module_version": "1.2.0",
            "_view_name": "LayoutView",
            "align_content": null,
            "align_items": null,
            "align_self": null,
            "border": null,
            "bottom": null,
            "display": null,
            "flex": null,
            "flex_flow": null,
            "grid_area": null,
            "grid_auto_columns": null,
            "grid_auto_flow": null,
            "grid_auto_rows": null,
            "grid_column": null,
            "grid_gap": null,
            "grid_row": null,
            "grid_template_areas": null,
            "grid_template_columns": null,
            "grid_template_rows": null,
            "height": null,
            "justify_content": null,
            "justify_items": null,
            "left": null,
            "margin": null,
            "max_height": null,
            "max_width": null,
            "min_height": null,
            "min_width": null,
            "object_fit": null,
            "object_position": null,
            "order": null,
            "overflow": null,
            "overflow_x": null,
            "overflow_y": null,
            "padding": null,
            "right": null,
            "top": null,
            "visibility": null,
            "width": null
          }
        },
        "0107bdd24a534053993c38a425608ce8": {
          "model_module": "@jupyter-widgets/controls",
          "model_name": "ProgressStyleModel",
          "model_module_version": "1.5.0",
          "state": {
            "_model_module": "@jupyter-widgets/controls",
            "_model_module_version": "1.5.0",
            "_model_name": "ProgressStyleModel",
            "_view_count": null,
            "_view_module": "@jupyter-widgets/base",
            "_view_module_version": "1.2.0",
            "_view_name": "StyleView",
            "bar_color": null,
            "description_width": ""
          }
        },
        "eebf2014d70f4ea296ea4ba210233418": {
          "model_module": "@jupyter-widgets/base",
          "model_name": "LayoutModel",
          "model_module_version": "1.2.0",
          "state": {
            "_model_module": "@jupyter-widgets/base",
            "_model_module_version": "1.2.0",
            "_model_name": "LayoutModel",
            "_view_count": null,
            "_view_module": "@jupyter-widgets/base",
            "_view_module_version": "1.2.0",
            "_view_name": "LayoutView",
            "align_content": null,
            "align_items": null,
            "align_self": null,
            "border": null,
            "bottom": null,
            "display": null,
            "flex": null,
            "flex_flow": null,
            "grid_area": null,
            "grid_auto_columns": null,
            "grid_auto_flow": null,
            "grid_auto_rows": null,
            "grid_column": null,
            "grid_gap": null,
            "grid_row": null,
            "grid_template_areas": null,
            "grid_template_columns": null,
            "grid_template_rows": null,
            "height": null,
            "justify_content": null,
            "justify_items": null,
            "left": null,
            "margin": null,
            "max_height": null,
            "max_width": null,
            "min_height": null,
            "min_width": null,
            "object_fit": null,
            "object_position": null,
            "order": null,
            "overflow": null,
            "overflow_x": null,
            "overflow_y": null,
            "padding": null,
            "right": null,
            "top": null,
            "visibility": null,
            "width": null
          }
        },
        "00d51f8c2f594b9c8807ad271ab3cbc5": {
          "model_module": "@jupyter-widgets/controls",
          "model_name": "DescriptionStyleModel",
          "model_module_version": "1.5.0",
          "state": {
            "_model_module": "@jupyter-widgets/controls",
            "_model_module_version": "1.5.0",
            "_model_name": "DescriptionStyleModel",
            "_view_count": null,
            "_view_module": "@jupyter-widgets/base",
            "_view_module_version": "1.2.0",
            "_view_name": "StyleView",
            "description_width": ""
          }
        },
        "b5d63f30aed846a2aee645f8ea864aea": {
          "model_module": "@jupyter-widgets/controls",
          "model_name": "HBoxModel",
          "model_module_version": "1.5.0",
          "state": {
            "_dom_classes": [],
            "_model_module": "@jupyter-widgets/controls",
            "_model_module_version": "1.5.0",
            "_model_name": "HBoxModel",
            "_view_count": null,
            "_view_module": "@jupyter-widgets/controls",
            "_view_module_version": "1.5.0",
            "_view_name": "HBoxView",
            "box_style": "",
            "children": [
              "IPY_MODEL_daea9a1a9f1d4a59895f69bd0bee36cc",
              "IPY_MODEL_d136b57c166b4870aefe69e91253ddbb",
              "IPY_MODEL_1d6ea613fc944f83a9ba05f5e337e3a9"
            ],
            "layout": "IPY_MODEL_5ed1059dee714844a60fc38b5cb015f9"
          }
        },
        "daea9a1a9f1d4a59895f69bd0bee36cc": {
          "model_module": "@jupyter-widgets/controls",
          "model_name": "HTMLModel",
          "model_module_version": "1.5.0",
          "state": {
            "_dom_classes": [],
            "_model_module": "@jupyter-widgets/controls",
            "_model_module_version": "1.5.0",
            "_model_name": "HTMLModel",
            "_view_count": null,
            "_view_module": "@jupyter-widgets/controls",
            "_view_module_version": "1.5.0",
            "_view_name": "HTMLView",
            "description": "",
            "description_tooltip": null,
            "layout": "IPY_MODEL_d6679a8c21cc45fd8643bc68b69d3833",
            "placeholder": "​",
            "style": "IPY_MODEL_81bbb223500d427dbf8a0b64e81d4c8d",
            "value": "Downloading https://raw.githubusercontent.com/stanfordnlp/stanza-resources/main/resources_1.11.0.json: "
          }
        },
        "d136b57c166b4870aefe69e91253ddbb": {
          "model_module": "@jupyter-widgets/controls",
          "model_name": "FloatProgressModel",
          "model_module_version": "1.5.0",
          "state": {
            "_dom_classes": [],
            "_model_module": "@jupyter-widgets/controls",
            "_model_module_version": "1.5.0",
            "_model_name": "FloatProgressModel",
            "_view_count": null,
            "_view_module": "@jupyter-widgets/controls",
            "_view_module_version": "1.5.0",
            "_view_name": "ProgressView",
            "bar_style": "success",
            "description": "",
            "description_tooltip": null,
            "layout": "IPY_MODEL_2d51ea57c6d84a9fa448d86a7d5c794b",
            "max": 53683,
            "min": 0,
            "orientation": "horizontal",
            "style": "IPY_MODEL_0c9a8d2c72e8498b998b9129b63fc696",
            "value": 53683
          }
        },
        "1d6ea613fc944f83a9ba05f5e337e3a9": {
          "model_module": "@jupyter-widgets/controls",
          "model_name": "HTMLModel",
          "model_module_version": "1.5.0",
          "state": {
            "_dom_classes": [],
            "_model_module": "@jupyter-widgets/controls",
            "_model_module_version": "1.5.0",
            "_model_name": "HTMLModel",
            "_view_count": null,
            "_view_module": "@jupyter-widgets/controls",
            "_view_module_version": "1.5.0",
            "_view_name": "HTMLView",
            "description": "",
            "description_tooltip": null,
            "layout": "IPY_MODEL_39a88f6d723f468983c9cd20c63aed0d",
            "placeholder": "​",
            "style": "IPY_MODEL_249dc4dbd93f416db22d00f0111a9c03",
            "value": " 436k/? [00:00&lt;00:00, 1.10MB/s]"
          }
        },
        "5ed1059dee714844a60fc38b5cb015f9": {
          "model_module": "@jupyter-widgets/base",
          "model_name": "LayoutModel",
          "model_module_version": "1.2.0",
          "state": {
            "_model_module": "@jupyter-widgets/base",
            "_model_module_version": "1.2.0",
            "_model_name": "LayoutModel",
            "_view_count": null,
            "_view_module": "@jupyter-widgets/base",
            "_view_module_version": "1.2.0",
            "_view_name": "LayoutView",
            "align_content": null,
            "align_items": null,
            "align_self": null,
            "border": null,
            "bottom": null,
            "display": null,
            "flex": null,
            "flex_flow": null,
            "grid_area": null,
            "grid_auto_columns": null,
            "grid_auto_flow": null,
            "grid_auto_rows": null,
            "grid_column": null,
            "grid_gap": null,
            "grid_row": null,
            "grid_template_areas": null,
            "grid_template_columns": null,
            "grid_template_rows": null,
            "height": null,
            "justify_content": null,
            "justify_items": null,
            "left": null,
            "margin": null,
            "max_height": null,
            "max_width": null,
            "min_height": null,
            "min_width": null,
            "object_fit": null,
            "object_position": null,
            "order": null,
            "overflow": null,
            "overflow_x": null,
            "overflow_y": null,
            "padding": null,
            "right": null,
            "top": null,
            "visibility": null,
            "width": null
          }
        },
        "d6679a8c21cc45fd8643bc68b69d3833": {
          "model_module": "@jupyter-widgets/base",
          "model_name": "LayoutModel",
          "model_module_version": "1.2.0",
          "state": {
            "_model_module": "@jupyter-widgets/base",
            "_model_module_version": "1.2.0",
            "_model_name": "LayoutModel",
            "_view_count": null,
            "_view_module": "@jupyter-widgets/base",
            "_view_module_version": "1.2.0",
            "_view_name": "LayoutView",
            "align_content": null,
            "align_items": null,
            "align_self": null,
            "border": null,
            "bottom": null,
            "display": null,
            "flex": null,
            "flex_flow": null,
            "grid_area": null,
            "grid_auto_columns": null,
            "grid_auto_flow": null,
            "grid_auto_rows": null,
            "grid_column": null,
            "grid_gap": null,
            "grid_row": null,
            "grid_template_areas": null,
            "grid_template_columns": null,
            "grid_template_rows": null,
            "height": null,
            "justify_content": null,
            "justify_items": null,
            "left": null,
            "margin": null,
            "max_height": null,
            "max_width": null,
            "min_height": null,
            "min_width": null,
            "object_fit": null,
            "object_position": null,
            "order": null,
            "overflow": null,
            "overflow_x": null,
            "overflow_y": null,
            "padding": null,
            "right": null,
            "top": null,
            "visibility": null,
            "width": null
          }
        },
        "81bbb223500d427dbf8a0b64e81d4c8d": {
          "model_module": "@jupyter-widgets/controls",
          "model_name": "DescriptionStyleModel",
          "model_module_version": "1.5.0",
          "state": {
            "_model_module": "@jupyter-widgets/controls",
            "_model_module_version": "1.5.0",
            "_model_name": "DescriptionStyleModel",
            "_view_count": null,
            "_view_module": "@jupyter-widgets/base",
            "_view_module_version": "1.2.0",
            "_view_name": "StyleView",
            "description_width": ""
          }
        },
        "2d51ea57c6d84a9fa448d86a7d5c794b": {
          "model_module": "@jupyter-widgets/base",
          "model_name": "LayoutModel",
          "model_module_version": "1.2.0",
          "state": {
            "_model_module": "@jupyter-widgets/base",
            "_model_module_version": "1.2.0",
            "_model_name": "LayoutModel",
            "_view_count": null,
            "_view_module": "@jupyter-widgets/base",
            "_view_module_version": "1.2.0",
            "_view_name": "LayoutView",
            "align_content": null,
            "align_items": null,
            "align_self": null,
            "border": null,
            "bottom": null,
            "display": null,
            "flex": null,
            "flex_flow": null,
            "grid_area": null,
            "grid_auto_columns": null,
            "grid_auto_flow": null,
            "grid_auto_rows": null,
            "grid_column": null,
            "grid_gap": null,
            "grid_row": null,
            "grid_template_areas": null,
            "grid_template_columns": null,
            "grid_template_rows": null,
            "height": null,
            "justify_content": null,
            "justify_items": null,
            "left": null,
            "margin": null,
            "max_height": null,
            "max_width": null,
            "min_height": null,
            "min_width": null,
            "object_fit": null,
            "object_position": null,
            "order": null,
            "overflow": null,
            "overflow_x": null,
            "overflow_y": null,
            "padding": null,
            "right": null,
            "top": null,
            "visibility": null,
            "width": null
          }
        },
        "0c9a8d2c72e8498b998b9129b63fc696": {
          "model_module": "@jupyter-widgets/controls",
          "model_name": "ProgressStyleModel",
          "model_module_version": "1.5.0",
          "state": {
            "_model_module": "@jupyter-widgets/controls",
            "_model_module_version": "1.5.0",
            "_model_name": "ProgressStyleModel",
            "_view_count": null,
            "_view_module": "@jupyter-widgets/base",
            "_view_module_version": "1.2.0",
            "_view_name": "StyleView",
            "bar_color": null,
            "description_width": ""
          }
        },
        "39a88f6d723f468983c9cd20c63aed0d": {
          "model_module": "@jupyter-widgets/base",
          "model_name": "LayoutModel",
          "model_module_version": "1.2.0",
          "state": {
            "_model_module": "@jupyter-widgets/base",
            "_model_module_version": "1.2.0",
            "_model_name": "LayoutModel",
            "_view_count": null,
            "_view_module": "@jupyter-widgets/base",
            "_view_module_version": "1.2.0",
            "_view_name": "LayoutView",
            "align_content": null,
            "align_items": null,
            "align_self": null,
            "border": null,
            "bottom": null,
            "display": null,
            "flex": null,
            "flex_flow": null,
            "grid_area": null,
            "grid_auto_columns": null,
            "grid_auto_flow": null,
            "grid_auto_rows": null,
            "grid_column": null,
            "grid_gap": null,
            "grid_row": null,
            "grid_template_areas": null,
            "grid_template_columns": null,
            "grid_template_rows": null,
            "height": null,
            "justify_content": null,
            "justify_items": null,
            "left": null,
            "margin": null,
            "max_height": null,
            "max_width": null,
            "min_height": null,
            "min_width": null,
            "object_fit": null,
            "object_position": null,
            "order": null,
            "overflow": null,
            "overflow_x": null,
            "overflow_y": null,
            "padding": null,
            "right": null,
            "top": null,
            "visibility": null,
            "width": null
          }
        },
        "249dc4dbd93f416db22d00f0111a9c03": {
          "model_module": "@jupyter-widgets/controls",
          "model_name": "DescriptionStyleModel",
          "model_module_version": "1.5.0",
          "state": {
            "_model_module": "@jupyter-widgets/controls",
            "_model_module_version": "1.5.0",
            "_model_name": "DescriptionStyleModel",
            "_view_count": null,
            "_view_module": "@jupyter-widgets/base",
            "_view_module_version": "1.2.0",
            "_view_name": "StyleView",
            "description_width": ""
          }
        },
        "1f882d76924845f79ebb8b7fe307eb80": {
          "model_module": "@jupyter-widgets/controls",
          "model_name": "HBoxModel",
          "model_module_version": "1.5.0",
          "state": {
            "_dom_classes": [],
            "_model_module": "@jupyter-widgets/controls",
            "_model_module_version": "1.5.0",
            "_model_name": "HBoxModel",
            "_view_count": null,
            "_view_module": "@jupyter-widgets/controls",
            "_view_module_version": "1.5.0",
            "_view_name": "HBoxView",
            "box_style": "",
            "children": [
              "IPY_MODEL_5b6f6455cbb6414a99e7dca6a47f344f",
              "IPY_MODEL_fbf088a3fcbf46a591f202a382ffac0c",
              "IPY_MODEL_ae2f81323ea14095a774c89d5176dc99"
            ],
            "layout": "IPY_MODEL_baba8416201b4003b91371dbf5763e05"
          }
        },
        "5b6f6455cbb6414a99e7dca6a47f344f": {
          "model_module": "@jupyter-widgets/controls",
          "model_name": "HTMLModel",
          "model_module_version": "1.5.0",
          "state": {
            "_dom_classes": [],
            "_model_module": "@jupyter-widgets/controls",
            "_model_module_version": "1.5.0",
            "_model_name": "HTMLModel",
            "_view_count": null,
            "_view_module": "@jupyter-widgets/controls",
            "_view_module_version": "1.5.0",
            "_view_name": "HTMLView",
            "description": "",
            "description_tooltip": null,
            "layout": "IPY_MODEL_09060f60a9534b438e08754423755b9b",
            "placeholder": "​",
            "style": "IPY_MODEL_65c6e52cffa5405190d45f810dcbb396",
            "value": "Downloading https://raw.githubusercontent.com/stanfordnlp/stanza-resources/main/resources_1.11.0.json: "
          }
        },
        "fbf088a3fcbf46a591f202a382ffac0c": {
          "model_module": "@jupyter-widgets/controls",
          "model_name": "FloatProgressModel",
          "model_module_version": "1.5.0",
          "state": {
            "_dom_classes": [],
            "_model_module": "@jupyter-widgets/controls",
            "_model_module_version": "1.5.0",
            "_model_name": "FloatProgressModel",
            "_view_count": null,
            "_view_module": "@jupyter-widgets/controls",
            "_view_module_version": "1.5.0",
            "_view_name": "ProgressView",
            "bar_style": "success",
            "description": "",
            "description_tooltip": null,
            "layout": "IPY_MODEL_17bf911f8d3b4637978c29d640c39abf",
            "max": 53683,
            "min": 0,
            "orientation": "horizontal",
            "style": "IPY_MODEL_13365b1a2bc948398d460a909b2bd721",
            "value": 53683
          }
        },
        "ae2f81323ea14095a774c89d5176dc99": {
          "model_module": "@jupyter-widgets/controls",
          "model_name": "HTMLModel",
          "model_module_version": "1.5.0",
          "state": {
            "_dom_classes": [],
            "_model_module": "@jupyter-widgets/controls",
            "_model_module_version": "1.5.0",
            "_model_name": "HTMLModel",
            "_view_count": null,
            "_view_module": "@jupyter-widgets/controls",
            "_view_module_version": "1.5.0",
            "_view_name": "HTMLView",
            "description": "",
            "description_tooltip": null,
            "layout": "IPY_MODEL_f6ae7d9e2e384faebfd950b20ef18fa8",
            "placeholder": "​",
            "style": "IPY_MODEL_3f360fa083a74fe48af2dc5f543a3f65",
            "value": " 436k/? [00:00&lt;00:00, 19.3MB/s]"
          }
        },
        "baba8416201b4003b91371dbf5763e05": {
          "model_module": "@jupyter-widgets/base",
          "model_name": "LayoutModel",
          "model_module_version": "1.2.0",
          "state": {
            "_model_module": "@jupyter-widgets/base",
            "_model_module_version": "1.2.0",
            "_model_name": "LayoutModel",
            "_view_count": null,
            "_view_module": "@jupyter-widgets/base",
            "_view_module_version": "1.2.0",
            "_view_name": "LayoutView",
            "align_content": null,
            "align_items": null,
            "align_self": null,
            "border": null,
            "bottom": null,
            "display": null,
            "flex": null,
            "flex_flow": null,
            "grid_area": null,
            "grid_auto_columns": null,
            "grid_auto_flow": null,
            "grid_auto_rows": null,
            "grid_column": null,
            "grid_gap": null,
            "grid_row": null,
            "grid_template_areas": null,
            "grid_template_columns": null,
            "grid_template_rows": null,
            "height": null,
            "justify_content": null,
            "justify_items": null,
            "left": null,
            "margin": null,
            "max_height": null,
            "max_width": null,
            "min_height": null,
            "min_width": null,
            "object_fit": null,
            "object_position": null,
            "order": null,
            "overflow": null,
            "overflow_x": null,
            "overflow_y": null,
            "padding": null,
            "right": null,
            "top": null,
            "visibility": null,
            "width": null
          }
        },
        "09060f60a9534b438e08754423755b9b": {
          "model_module": "@jupyter-widgets/base",
          "model_name": "LayoutModel",
          "model_module_version": "1.2.0",
          "state": {
            "_model_module": "@jupyter-widgets/base",
            "_model_module_version": "1.2.0",
            "_model_name": "LayoutModel",
            "_view_count": null,
            "_view_module": "@jupyter-widgets/base",
            "_view_module_version": "1.2.0",
            "_view_name": "LayoutView",
            "align_content": null,
            "align_items": null,
            "align_self": null,
            "border": null,
            "bottom": null,
            "display": null,
            "flex": null,
            "flex_flow": null,
            "grid_area": null,
            "grid_auto_columns": null,
            "grid_auto_flow": null,
            "grid_auto_rows": null,
            "grid_column": null,
            "grid_gap": null,
            "grid_row": null,
            "grid_template_areas": null,
            "grid_template_columns": null,
            "grid_template_rows": null,
            "height": null,
            "justify_content": null,
            "justify_items": null,
            "left": null,
            "margin": null,
            "max_height": null,
            "max_width": null,
            "min_height": null,
            "min_width": null,
            "object_fit": null,
            "object_position": null,
            "order": null,
            "overflow": null,
            "overflow_x": null,
            "overflow_y": null,
            "padding": null,
            "right": null,
            "top": null,
            "visibility": null,
            "width": null
          }
        },
        "65c6e52cffa5405190d45f810dcbb396": {
          "model_module": "@jupyter-widgets/controls",
          "model_name": "DescriptionStyleModel",
          "model_module_version": "1.5.0",
          "state": {
            "_model_module": "@jupyter-widgets/controls",
            "_model_module_version": "1.5.0",
            "_model_name": "DescriptionStyleModel",
            "_view_count": null,
            "_view_module": "@jupyter-widgets/base",
            "_view_module_version": "1.2.0",
            "_view_name": "StyleView",
            "description_width": ""
          }
        },
        "17bf911f8d3b4637978c29d640c39abf": {
          "model_module": "@jupyter-widgets/base",
          "model_name": "LayoutModel",
          "model_module_version": "1.2.0",
          "state": {
            "_model_module": "@jupyter-widgets/base",
            "_model_module_version": "1.2.0",
            "_model_name": "LayoutModel",
            "_view_count": null,
            "_view_module": "@jupyter-widgets/base",
            "_view_module_version": "1.2.0",
            "_view_name": "LayoutView",
            "align_content": null,
            "align_items": null,
            "align_self": null,
            "border": null,
            "bottom": null,
            "display": null,
            "flex": null,
            "flex_flow": null,
            "grid_area": null,
            "grid_auto_columns": null,
            "grid_auto_flow": null,
            "grid_auto_rows": null,
            "grid_column": null,
            "grid_gap": null,
            "grid_row": null,
            "grid_template_areas": null,
            "grid_template_columns": null,
            "grid_template_rows": null,
            "height": null,
            "justify_content": null,
            "justify_items": null,
            "left": null,
            "margin": null,
            "max_height": null,
            "max_width": null,
            "min_height": null,
            "min_width": null,
            "object_fit": null,
            "object_position": null,
            "order": null,
            "overflow": null,
            "overflow_x": null,
            "overflow_y": null,
            "padding": null,
            "right": null,
            "top": null,
            "visibility": null,
            "width": null
          }
        },
        "13365b1a2bc948398d460a909b2bd721": {
          "model_module": "@jupyter-widgets/controls",
          "model_name": "ProgressStyleModel",
          "model_module_version": "1.5.0",
          "state": {
            "_model_module": "@jupyter-widgets/controls",
            "_model_module_version": "1.5.0",
            "_model_name": "ProgressStyleModel",
            "_view_count": null,
            "_view_module": "@jupyter-widgets/base",
            "_view_module_version": "1.2.0",
            "_view_name": "StyleView",
            "bar_color": null,
            "description_width": ""
          }
        },
        "f6ae7d9e2e384faebfd950b20ef18fa8": {
          "model_module": "@jupyter-widgets/base",
          "model_name": "LayoutModel",
          "model_module_version": "1.2.0",
          "state": {
            "_model_module": "@jupyter-widgets/base",
            "_model_module_version": "1.2.0",
            "_model_name": "LayoutModel",
            "_view_count": null,
            "_view_module": "@jupyter-widgets/base",
            "_view_module_version": "1.2.0",
            "_view_name": "LayoutView",
            "align_content": null,
            "align_items": null,
            "align_self": null,
            "border": null,
            "bottom": null,
            "display": null,
            "flex": null,
            "flex_flow": null,
            "grid_area": null,
            "grid_auto_columns": null,
            "grid_auto_flow": null,
            "grid_auto_rows": null,
            "grid_column": null,
            "grid_gap": null,
            "grid_row": null,
            "grid_template_areas": null,
            "grid_template_columns": null,
            "grid_template_rows": null,
            "height": null,
            "justify_content": null,
            "justify_items": null,
            "left": null,
            "margin": null,
            "max_height": null,
            "max_width": null,
            "min_height": null,
            "min_width": null,
            "object_fit": null,
            "object_position": null,
            "order": null,
            "overflow": null,
            "overflow_x": null,
            "overflow_y": null,
            "padding": null,
            "right": null,
            "top": null,
            "visibility": null,
            "width": null
          }
        },
        "3f360fa083a74fe48af2dc5f543a3f65": {
          "model_module": "@jupyter-widgets/controls",
          "model_name": "DescriptionStyleModel",
          "model_module_version": "1.5.0",
          "state": {
            "_model_module": "@jupyter-widgets/controls",
            "_model_module_version": "1.5.0",
            "_model_name": "DescriptionStyleModel",
            "_view_count": null,
            "_view_module": "@jupyter-widgets/base",
            "_view_module_version": "1.2.0",
            "_view_name": "StyleView",
            "description_width": ""
          }
        }
      }
    }
  },
  "nbformat": 4,
  "nbformat_minor": 0
}