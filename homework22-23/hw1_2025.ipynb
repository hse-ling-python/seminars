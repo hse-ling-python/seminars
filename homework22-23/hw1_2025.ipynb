{
 "cells": [
  {
   "cell_type": "markdown",
   "id": "f81d9491",
   "metadata": {},
   "source": [
    "# ДОМАШНЯЯ РАБОТА №1 (pandas)\n",
    "### Требования к оформлению тетрадок прописаны в первой тетрадке учебных материалов.\n",
    "\n",
    "### **Мягкий дедлайн: 6 октября.**\n",
    "### **Жёсткий дедлайн: 11 октября.**\n",
    "### После мягкого дедлайна за каждое задание можно получить только половину баллов. После жёсткого дедлайна работы не принимаются.\n",
    "\n",
    "\n",
    "### **Критерии оценивания.** За каждую часть можно получить по 2 балла. 9/10 баллов можно получить только в том случае, если Вы не просто правильно выполните задания, но также построите графики и сделаете какие-то выводы на основе полученных результатов. Напишите, что кажется Вам закономерным/необычным. Какие ещё вопросы Вы бы задали к данным и как (предложите фреймворк кода)? Подумайте об ограничениях, особенностях данных и тд. \n",
    "\n",
    "### Удачи!"
   ]
  },
  {
   "cell_type": "markdown",
   "id": "5584a9b9",
   "metadata": {},
   "source": [
    "______________________________________________________________________________________________________________________________"
   ]
  },
  {
   "cell_type": "markdown",
   "id": "dbdcde5d",
   "metadata": {},
   "source": [
    "### Вам предстоит проанализировать [датасет](https://www.kaggle.com/datasets/adilshamim8/educational-backgrounds-of-successful-people), содержащий сведения об образовании известных успешных людей. "
   ]
  },
  {
   "cell_type": "markdown",
   "id": "f50cbec3",
   "metadata": {},
   "source": [
    "## ЧАСТЬ 1: базовый анализ и очистка данных"
   ]
  },
  {
   "cell_type": "markdown",
   "id": "aa23f6ab",
   "metadata": {},
   "source": [
    "#### Загрузите датасет и узнайте его размер, типы данных в столбцах. "
   ]
  },
  {
   "cell_type": "code",
   "execution_count": null,
   "id": "24b68100",
   "metadata": {},
   "outputs": [],
   "source": []
  },
  {
   "cell_type": "markdown",
   "id": "0d224b16",
   "metadata": {},
   "source": [
    "#### Найдите количество пропущенных значений в каждом столбце. Выведите первые 5 строк, последние 3 строки и 2 случайные строки, а также с 10 по 15 строки."
   ]
  },
  {
   "cell_type": "code",
   "execution_count": null,
   "id": "9dda14b1",
   "metadata": {},
   "outputs": [],
   "source": []
  },
  {
   "cell_type": "markdown",
   "id": "6db58dcc",
   "metadata": {},
   "source": [
    "#### Удалите колонку Scholarship/Award."
   ]
  },
  {
   "cell_type": "code",
   "execution_count": null,
   "id": "8cff392a",
   "metadata": {},
   "outputs": [],
   "source": []
  },
  {
   "cell_type": "markdown",
   "id": "ed465521",
   "metadata": {},
   "source": [
    "#### Переименуйте колонку \"Profession\", заменив на \"Occupation\"."
   ]
  },
  {
   "cell_type": "code",
   "execution_count": null,
   "id": "982569a0",
   "metadata": {},
   "outputs": [],
   "source": []
  },
  {
   "cell_type": "markdown",
   "id": "590ed8f2",
   "metadata": {},
   "source": [
    "####  Соберите статистику по столбцу GPA при помощи метода .describe(), не забудьте про NA."
   ]
  },
  {
   "cell_type": "code",
   "execution_count": null,
   "id": "e9f64273",
   "metadata": {},
   "outputs": [],
   "source": []
  },
  {
   "cell_type": "markdown",
   "id": "98f0a4bb",
   "metadata": {},
   "source": [
    "#### Заполните пропуски в столбце GPA средним значением."
   ]
  },
  {
   "cell_type": "code",
   "execution_count": null,
   "id": "244bbef0",
   "metadata": {},
   "outputs": [],
   "source": []
  },
  {
   "cell_type": "markdown",
   "id": "44e107cb",
   "metadata": {},
   "source": [
    "## ЧАСТЬ 2: фильтрация и поиск"
   ]
  },
  {
   "cell_type": "markdown",
   "id": "ee1e21dc",
   "metadata": {},
   "source": [
    "#### Выведите всех выпускников Лиги плюща (Harvard University, Yale University, Princeton University, Columbia University, Brown University, University of Pennsylvania, Cornell University, Dartmouth College)."
   ]
  },
  {
   "cell_type": "code",
   "execution_count": null,
   "id": "ae752581",
   "metadata": {},
   "outputs": [],
   "source": []
  },
  {
   "cell_type": "markdown",
   "id": "622b1daf",
   "metadata": {},
   "source": [
    "#### Найдите всех нобелевских лауреатов и выведите только их имена, страну и род деятельности."
   ]
  },
  {
   "cell_type": "code",
   "execution_count": null,
   "id": "a3c2b049",
   "metadata": {},
   "outputs": [],
   "source": []
  },
  {
   "cell_type": "markdown",
   "id": "89274d8d",
   "metadata": {},
   "source": [
    "## ЧАСТЬ 3: создание и преобразование столбцов"
   ]
  },
  {
   "cell_type": "markdown",
   "id": "35333cd4",
   "metadata": {},
   "source": [
    "#### Создайте колонку 'Top_University' со значением True для университетов, входящих в топ-50. Обратите внимание на значения типа \"231–240\"."
   ]
  },
  {
   "cell_type": "code",
   "execution_count": null,
   "id": "53185570",
   "metadata": {},
   "outputs": [],
   "source": []
  },
  {
   "cell_type": "markdown",
   "id": "1978a251",
   "metadata": {},
   "source": [
    "#### Создайте колонку Academic_Performance, в которую внесите значение:\n",
    "#### - \"High\", если GPA выше 3.5 баллов,\n",
    "#### - \"Medium\", если GPA от 3 до 3.49 баллов,\n",
    "#### - \"Low\", если GPA ниже 3 баллов."
   ]
  },
  {
   "cell_type": "code",
   "execution_count": null,
   "id": "bd18d5eb",
   "metadata": {},
   "outputs": [],
   "source": []
  },
  {
   "cell_type": "markdown",
   "id": "364b2596",
   "metadata": {},
   "source": [
    "#### Посмотрите на уникальные значения в колонке Degree и приведите их к единообразию (Bachelor of Science -> Bachelor)."
   ]
  },
  {
   "cell_type": "code",
   "execution_count": null,
   "id": "1654cf50",
   "metadata": {},
   "outputs": [],
   "source": []
  },
  {
   "cell_type": "markdown",
   "id": "7e70aadf",
   "metadata": {},
   "source": [
    "## ЧАСТЬ 4: агрегация и группировка"
   ]
  },
  {
   "cell_type": "markdown",
   "id": "0ebb20a4",
   "metadata": {},
   "source": [
    "#### Найдите топ-5 университетов по количеству выпускников в датасете."
   ]
  },
  {
   "cell_type": "code",
   "execution_count": null,
   "id": "79345e62",
   "metadata": {},
   "outputs": [],
   "source": []
  },
  {
   "cell_type": "markdown",
   "id": "ab3bb99f",
   "metadata": {},
   "source": [
    "#### Найдите топ-5 самых популярных областей обучения среди предпринимателей."
   ]
  },
  {
   "cell_type": "code",
   "execution_count": null,
   "id": "84608539",
   "metadata": {},
   "outputs": [],
   "source": []
  },
  {
   "cell_type": "markdown",
   "id": "d35393e0",
   "metadata": {},
   "source": [
    "#### Определите топ-5 стран с самыми высокими значениями GPA."
   ]
  },
  {
   "cell_type": "code",
   "execution_count": null,
   "id": "9b35eb74",
   "metadata": {},
   "outputs": [],
   "source": []
  },
  {
   "cell_type": "markdown",
   "id": "6bbf8b5a",
   "metadata": {},
   "source": [
    "#### Сгруппируйте записи по профессиям и посчитайте:\n",
    "#### - количество людей в каждой профессии,\n",
    "#### - средний GPA для каждой профессии,\n",
    "#### - количество людей с разными уровнями образования для каждой профессии."
   ]
  },
  {
   "cell_type": "code",
   "execution_count": null,
   "id": "961288ce",
   "metadata": {},
   "outputs": [],
   "source": []
  },
  {
   "cell_type": "markdown",
   "id": "c5804120",
   "metadata": {},
   "source": [
    "#### Сгруппируйте данные сначала по стране и профессии. Посчитайте:\n",
    "#### - количество людей,\n",
    "#### - средний GPA."
   ]
  },
  {
   "cell_type": "code",
   "execution_count": null,
   "id": "2826b3dc",
   "metadata": {},
   "outputs": [],
   "source": []
  },
  {
   "cell_type": "markdown",
   "id": "7f0c94a3",
   "metadata": {},
   "source": [
    "#### Удалите NA в столбце с годом выпуска, преобразуйте значения в тип datetime64, сделайте столбец индексом датафрейма и сгруппируйте по десятилетиям (метод .resample). Посчитайте:\n",
    "#### - количество выпускников в каждом десятилетии,\n",
    "#### - наиболее популярную область обучения для каждого десятилетия,\n",
    "#### - средний GPA.\n",
    "#### PS: сначала избавьтесь от NA в соответствующей колонке."
   ]
  },
  {
   "cell_type": "code",
   "execution_count": null,
   "id": "10914067",
   "metadata": {},
   "outputs": [],
   "source": []
  }
 ],
 "metadata": {
  "language_info": {
   "name": "python"
  }
 },
 "nbformat": 4,
 "nbformat_minor": 5
}
