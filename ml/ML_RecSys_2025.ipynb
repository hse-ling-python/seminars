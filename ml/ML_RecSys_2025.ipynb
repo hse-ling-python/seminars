{
  "nbformat": 4,
  "nbformat_minor": 0,
  "metadata": {
    "colab": {
      "provenance": []
    },
    "kernelspec": {
      "name": "python3",
      "display_name": "Python 3"
    },
    "language_info": {
      "name": "python"
    }
  },
  "cells": [
    {
      "cell_type": "markdown",
      "source": [
        "# Рекомендательные системы"
      ],
      "metadata": {
        "id": "suQh2A88d8Ov"
      }
    },
    {
      "cell_type": "markdown",
      "source": [
        "Основано на материалах курса Д. И. Игнатова \"Рекомендательные системы\""
      ],
      "metadata": {
        "id": "9fWPTuOyJXCV"
      }
    },
    {
      "cell_type": "markdown",
      "source": [
        "## Что такое рекомендательная система?"
      ],
      "metadata": {
        "id": "sL0Y3b2HeK35"
      }
    },
    {
      "cell_type": "markdown",
      "source": [
        "У нас есть множество пользователей. Для каждого пользователя есть множество объектов, которые он оценил (поставил рейтинг). Задачей рекомендательной системы является предсказание этого рейтинга для новых для пользователя объектов. Потом объекты с наиболее высокой оценкой будут предложены пользователю в ленте рекомендаций.\n",
        "\n",
        "<img src=\"https://d2l.ai/_images/rec-intro.svg\" alt=\"rec\" width=800/>\n",
        "\n",
        "Например, мы можем предсказывать:\n",
        "- Оценку для фильма на сайте онлайн-кинотеатра\n",
        "- Оценку для книги на сайте электронной библиотеки\n",
        "- Просмотрит ли человек короткий ролик до конца\n",
        "- Прослушает ли до конца песню\n",
        "- И т.д.\n",
        "\n",
        "Более формально: для каждой пары пользователь-объект оценить рейтинг и предсказать топ наиболее \"релевантных\" пользователю объектов.\n",
        "\n",
        "При этом оценка от пользователя обычно делится на два вида:\n",
        "- __Явная__, когда пользователь точно выразил свое отношение к объекту (поставил лайк, написал отзыв)\n",
        "- __Неявная__, когда мы вынуждены по косвенным признакам определять оценки (время просмотра видео, клики)\n",
        "\n",
        "***\n",
        "\n",
        "Бывает, что задачу ставят в более общем виде как задачу предсказания наличия ребер в двудольном графе. Тогда мы считаем, что у нас есть:\n",
        "- Два набора объектов (обычно) различной природы (авторы и статьи, покупатели и продукты, книги и ключевые слова). При этом принято один набор называть объектами, а второй $-$ атрибутами.\n",
        "- Информация о наличии связей между объектами. Причем связи могут быть только между объектами из разных наборов.\n",
        "\n",
        "\n",
        "<img src=\"https://www.researchgate.net/publication/369199718/figure/fig4/AS:11431281183703059@1692966061534/K-partite-graph-illustration-a-A-user-item-bipartite-graph-with-nodes-representing-user.png\" width=600 alt=\"rec\">\n",
        "\n",
        "\n",
        "И здесь есть два варианта постановки задачи:\n",
        "- Object-Attribute task: предсказываем, должен ли данный объект иметь связь с данным атрибутом (является ли человек автором статьи, купит ли клиент продукт)\n",
        "- Object-Object task: предсказываем, должны ли два объекта иметь связь с одним атрибутом (могут ли два человека быть соавторами, будут ли два продукта куплены вместе)\n"
      ],
      "metadata": {
        "id": "E4g_2Xy0eW3F"
      }
    },
    {
      "cell_type": "markdown",
      "source": [
        "## Как выглядят данные для обучения?"
      ],
      "metadata": {
        "id": "x4VRUmGokzOA"
      }
    },
    {
      "cell_type": "markdown",
      "source": [
        "Чаще всего данные представляют собрй матрицу, где по строкам и столбцам расположены два набора объектов, а в ячейках стоят оценки:\n",
        "\n",
        "| user_id <br> item_id | 1 | 2 | 3 | 4 | 5 |\n",
        "| -- | -- | -- | -- | -- | -- |\n",
        "| 1 | 5.0 | 0.0 | 0.0 | 3.0 | 3.0 |\n",
        "| 2 | 4.0 | 0.0 | 0.0 | 0.0 | 0.0 |\n",
        "| 3 | 0.0 | 0.0 | 0.0 | 0.0 | 0.0 |\n",
        "| 4 | 0.0 | 0.0 | 0.0 | 0.0 | 0.0 |\n",
        "| 5 | 4.0 | 3.0 | 0.0 | 0.0 | 0.0 |\n",
        "\n",
        "\n",
        "Иногда это длинная форма такой матрицы:\n",
        "\n",
        "| user_id | item_id | rating |\n",
        "| -- | -- | -- |\n",
        "| 1 | 1 | 5.0 |\n",
        "| 1 | 4 | 3.0 |\n",
        "| 1 | 5 | 3.0 |\n",
        "| 2 | 1 | 4.0 |\n",
        "| 5 | 1 | 4.0 |\n",
        "| 5 | 2 | 3.0 |\n",
        "\n",
        "Хорошие датасеты:\n",
        "- [GroupLens](https://grouplens.org/datasets/movielens/)\n",
        "- [RecSys Challenge](https://www.recsyschallenge.com/2024/)\n",
        "- [Kinopoisk's movies reviews](https://www.kaggle.com/datasets/mikhailklemin/kinopoisks-movies-reviews): русскоязычный и подходит для content-based решений\n",
        "- [Netflix Movies and TV Shows](https://www.kaggle.com/datasets/shivamb/netflix-shows) - англоязычный, подходит для content-based"
      ],
      "metadata": {
        "id": "65PPVMXCFEm2"
      }
    },
    {
      "cell_type": "markdown",
      "source": [
        "## Методы оценки"
      ],
      "metadata": {
        "id": "inK-Oe93k383"
      }
    },
    {
      "cell_type": "markdown",
      "source": [
        "Так как мы фактически решаем две задачи: предсказание наличия связи (и это классификация) и предсказание силы связи $-$ оценки (это регресиия), мы имеем два набора метрик:\n",
        "1. MSE, MAE etc $-$ для предсказания оценки\n",
        "2. Precision, Recall, F-score $-$ для предсказания связи\n",
        "\n",
        "Также мы можем использовать метрики\n",
        "- для сравнения множеств (коэффициент Жаккара)\n",
        "\n",
        "$J(A, B) = \\LARGE{\\frac{\\lvert A\\cap B \\rvert}{\\lvert A \\cup B \\rvert}}$;\n",
        "\n",
        "- корреляционные оценки (коэффициент Пирсона)\n",
        "\n",
        "$r = \\LARGE{\\frac{\\sum_{i=1}^n (x_i - \\bar{x}) \\times (y_i - \\bar{y})}{\\sqrt{{\\sum_{i=1}^n (x_i - \\bar{x}) ^ 2} \\times {\\sum_{i=1}^n (y_i - \\bar{y}) ^ 2}}}}$;\n",
        "\n",
        "- и метрики для ранжирования (precision@k - сколько релевантных элементов оказалось в топ-k лучших предсказаний).\n",
        "\n"
      ],
      "metadata": {
        "id": "TvxCpA7gllWj"
      }
    },
    {
      "cell_type": "markdown",
      "source": [
        "## Подходы"
      ],
      "metadata": {
        "id": "K3FjnsQVk6so"
      }
    },
    {
      "cell_type": "markdown",
      "source": [
        "### Content-based"
      ],
      "metadata": {
        "id": "sdBww_8-d-RL"
      }
    },
    {
      "cell_type": "markdown",
      "source": [
        "Здесь мы делаем предсказания на основе похожести объектов с точки зрения контента. При этом под контентом может пониматься как реальное соджержание объекта (текст книги / песни, картинка), так и метаинформация о нем (актеры и кассовые сборы, описание картинки или песни).\n",
        "\n",
        "Обычно у данного подхода выделяют несколько недостатков:\n",
        "- Большая вычислительная сложность (тяжело работать с музыкой или большими текстами)\n",
        "- Нужны сложные доменные модели. Мы не можем считать картинку и текст похожими объектами, если у нас нет мультимодальных моделей\n",
        "- Для многих типов объектов не очень понятно, что такое контент в целом\n",
        "- Нужно много данных для первичного обучения"
      ],
      "metadata": {
        "id": "2anXmj4IlBBl"
      }
    },
    {
      "cell_type": "markdown",
      "source": [
        "### Collaborative filtering"
      ],
      "metadata": {
        "id": "OtU4Nj5ueH1n"
      }
    },
    {
      "cell_type": "markdown",
      "source": [
        "Здесь есть два набора подходов:\n",
        "1. Item-based: рекомендуем новые объекты на основе их похожести на выбранные пользователем ранее. Какие здесь могут быть сложности? Что значит \"похожесть\" в данном случае?\n",
        "\n",
        "2. User-based: рекомендуем пользователю новые объекты на основе того, что выбирают похожие на него пользователи. Какие здесь могут быть сложности? Что значит \"похожесть\" в данном случае?\n",
        "\n",
        "<img src=\"https://www.researchgate.net/profile/Prakash-Upadhyaya/publication/366902172/figure/fig2/AS:11431281111439652@1672973053129/User-based-and-Item-based-Collaborative-Filtering.png\" alt=\"rec\"/>\n",
        "\n",
        "На практике часто используются комбинированные методы."
      ],
      "metadata": {
        "id": "U4UytTRglBal"
      }
    },
    {
      "cell_type": "markdown",
      "source": [
        "### Возможные алгоритмы решения"
      ],
      "metadata": {
        "id": "mkaZHp8ZMA3C"
      }
    },
    {
      "cell_type": "markdown",
      "source": [
        "- Методы на основе векторного расстояния между пользователями / объектами\n",
        "\n",
        "У нас есть квадратная матрица с рейтингами:\n",
        "\n",
        "| user_id <br> item_id | 1 | 2 | 3 | 4 | 5 |\n",
        "| -- | -- | -- | -- | -- | -- |\n",
        "| 1 | 5.0 | 0.0 | 0.0 | 3.0 | 3.0 |\n",
        "| 2 | 4.0 | 0.0 | 0.0 | 0.0 | 0.0 |\n",
        "| 3 | 0.0 | 0.0 | 0.0 | 0.0 | 0.0 |\n",
        "| 4 | 0.0 | 0.0 | 0.0 | 0.0 | 0.0 |\n",
        "| 5 | 4.0 | 3.0 | 0.0 | 0.0 | 0.0 |\n",
        "\n",
        "Давайте считать, что строки $-$ это вектора пользователей (тогда каждый признак $-$ это оценка для фильма), а столбцы $-$ это вектора объектов (признак $-$ оценка от пользователя). Тогда мы можем находить ближайших пользователей / объекты на основе любого метода подсчета векторной близости (MSE, cosine distance, etc.)\n",
        "\n",
        "- Методы на основе FCA (Formal Concept Analysis) или pattern mining\n",
        "\n",
        "Существует группа методов, позволяющих находить множества похожих объектов на основе графового представления данных (например, берем все группы объектов, имеющих связи с одними и теми же вершинами).\n",
        "\n",
        "Тогда мы считаем похожими объекты или пользователей, оказавшихся в одном множестве.\n",
        "\n",
        "-  Матричные разложения (и в целом весь спектр методов для задачи восстановления пропусков в матрице)\n",
        "\n",
        "- NLP подходы (считаем объекты/пользователей токенами и учимся их векторизовать)"
      ],
      "metadata": {
        "id": "vqM3naVqMGhx"
      }
    },
    {
      "cell_type": "markdown",
      "source": [
        "## Практика"
      ],
      "metadata": {
        "id": "UYmKXPzNlCLa"
      }
    },
    {
      "cell_type": "markdown",
      "source": [
        "В питоне есть библиотека `surprise`, в которой собраны многие методы и датасеты для рексистем"
      ],
      "metadata": {
        "id": "tPnM7UZ7OY4_"
      }
    },
    {
      "cell_type": "code",
      "source": [
        "!pip install surprise --q"
      ],
      "metadata": {
        "id": "-wh7Z8AeObfZ",
        "colab": {
          "base_uri": "https://localhost:8080/"
        },
        "outputId": "2597af32-9600-4f88-f488-b6d8050f2d10"
      },
      "execution_count": null,
      "outputs": [
        {
          "output_type": "stream",
          "name": "stdout",
          "text": [
            "\u001b[?25l     \u001b[90m━━━━━━━━━━━━━━━━━━━━━━━━━━━━━━━━━━━━━━━━\u001b[0m \u001b[32m0.0/154.4 kB\u001b[0m \u001b[31m?\u001b[0m eta \u001b[36m-:--:--\u001b[0m\r\u001b[2K     \u001b[91m━━━━━━━━━━━━━━━━━━━━━━━━━━━━━━━━━━━━━━━\u001b[0m\u001b[91m╸\u001b[0m \u001b[32m153.6/154.4 kB\u001b[0m \u001b[31m4.4 MB/s\u001b[0m eta \u001b[36m0:00:01\u001b[0m\r\u001b[2K     \u001b[90m━━━━━━━━━━━━━━━━━━━━━━━━━━━━━━━━━━━━━━━━\u001b[0m \u001b[32m154.4/154.4 kB\u001b[0m \u001b[31m2.8 MB/s\u001b[0m eta \u001b[36m0:00:00\u001b[0m\n",
            "\u001b[?25h  Installing build dependencies ... \u001b[?25l\u001b[?25hdone\n",
            "  Getting requirements to build wheel ... \u001b[?25l\u001b[?25hdone\n",
            "  Preparing metadata (pyproject.toml) ... \u001b[?25l\u001b[?25hdone\n",
            "  Building wheel for scikit-surprise (pyproject.toml) ... \u001b[?25l\u001b[?25hdone\n"
          ]
        }
      ]
    },
    {
      "cell_type": "code",
      "source": [
        "from surprise import NormalPredictor, KNNBasic, KNNWithMeans, SVD\n",
        "from surprise import Dataset\n",
        "from surprise.model_selection import cross_validate\n",
        "\n",
        "import pandas as pd"
      ],
      "metadata": {
        "id": "mi3S7j07OZRs"
      },
      "execution_count": null,
      "outputs": []
    },
    {
      "cell_type": "markdown",
      "source": [
        "Прочитаем датасет. Заметим, что это какой-то сложный класс, который не умеет сам себя красиво рисовать"
      ],
      "metadata": {
        "id": "8PoSbY8LnQiY"
      }
    },
    {
      "cell_type": "code",
      "source": [
        "# Load the movielens-100k dataset (download it if needed).\n",
        "data = Dataset.load_builtin('ml-100k')\n",
        "data"
      ],
      "metadata": {
        "id": "-VBdXKb4Ofjl",
        "colab": {
          "base_uri": "https://localhost:8080/"
        },
        "outputId": "902a44ab-2bc7-4051-c3f6-97526edddf99"
      },
      "execution_count": null,
      "outputs": [
        {
          "output_type": "stream",
          "name": "stdout",
          "text": [
            "Dataset ml-100k could not be found. Do you want to download it? [Y/n] Y\n",
            "Trying to download dataset from https://files.grouplens.org/datasets/movielens/ml-100k.zip...\n",
            "Done! Dataset ml-100k has been saved to /root/.surprise_data/ml-100k\n"
          ]
        },
        {
          "output_type": "execute_result",
          "data": {
            "text/plain": [
              "<surprise.dataset.DatasetAutoFolds at 0x7ed6718e0250>"
            ]
          },
          "metadata": {},
          "execution_count": 3
        }
      ]
    },
    {
      "cell_type": "markdown",
      "source": [
        "Но мы можем посмотреть на его содержание в сыром виде. Здесь есть четыре колонки:\n",
        "- Айди пользователя\n",
        "- Айди объекта (фильма)\n",
        "- Ретинг, который пользователь поставил фильму\n",
        "- Время, когда оценка была поставлена\n",
        "\n",
        "__Зачем нам время?__\n",
        "\n",
        "В задачах рекомендаций, как и в любой задаче, где есть деление на \"сейчас\" и \"будущее\", имеет смысл разделение на обучение и тест делать не случайно, а по времени."
      ],
      "metadata": {
        "id": "KhrPVvPOnaUG"
      }
    },
    {
      "cell_type": "code",
      "source": [
        "df = pd.DataFrame(data.raw_ratings,\n",
        "                  columns=['user_id', 'item_id', 'rating', 'timestamp'])\n",
        "df.head()"
      ],
      "metadata": {
        "colab": {
          "base_uri": "https://localhost:8080/",
          "height": 206
        },
        "id": "w0hBpsp1m_zT",
        "outputId": "96f7a07e-3bf4-400b-8dc9-dc24a613e4bb"
      },
      "execution_count": null,
      "outputs": [
        {
          "output_type": "execute_result",
          "data": {
            "text/plain": [
              "  user_id item_id  rating  timestamp\n",
              "0     196     242     3.0  881250949\n",
              "1     186     302     3.0  891717742\n",
              "2      22     377     1.0  878887116\n",
              "3     244      51     2.0  880606923\n",
              "4     166     346     1.0  886397596"
            ],
            "text/html": [
              "\n",
              "  <div id=\"df-a8f3a270-16b6-46c8-a65a-daf9d0153849\" class=\"colab-df-container\">\n",
              "    <div>\n",
              "<style scoped>\n",
              "    .dataframe tbody tr th:only-of-type {\n",
              "        vertical-align: middle;\n",
              "    }\n",
              "\n",
              "    .dataframe tbody tr th {\n",
              "        vertical-align: top;\n",
              "    }\n",
              "\n",
              "    .dataframe thead th {\n",
              "        text-align: right;\n",
              "    }\n",
              "</style>\n",
              "<table border=\"1\" class=\"dataframe\">\n",
              "  <thead>\n",
              "    <tr style=\"text-align: right;\">\n",
              "      <th></th>\n",
              "      <th>user_id</th>\n",
              "      <th>item_id</th>\n",
              "      <th>rating</th>\n",
              "      <th>timestamp</th>\n",
              "    </tr>\n",
              "  </thead>\n",
              "  <tbody>\n",
              "    <tr>\n",
              "      <th>0</th>\n",
              "      <td>196</td>\n",
              "      <td>242</td>\n",
              "      <td>3.0</td>\n",
              "      <td>881250949</td>\n",
              "    </tr>\n",
              "    <tr>\n",
              "      <th>1</th>\n",
              "      <td>186</td>\n",
              "      <td>302</td>\n",
              "      <td>3.0</td>\n",
              "      <td>891717742</td>\n",
              "    </tr>\n",
              "    <tr>\n",
              "      <th>2</th>\n",
              "      <td>22</td>\n",
              "      <td>377</td>\n",
              "      <td>1.0</td>\n",
              "      <td>878887116</td>\n",
              "    </tr>\n",
              "    <tr>\n",
              "      <th>3</th>\n",
              "      <td>244</td>\n",
              "      <td>51</td>\n",
              "      <td>2.0</td>\n",
              "      <td>880606923</td>\n",
              "    </tr>\n",
              "    <tr>\n",
              "      <th>4</th>\n",
              "      <td>166</td>\n",
              "      <td>346</td>\n",
              "      <td>1.0</td>\n",
              "      <td>886397596</td>\n",
              "    </tr>\n",
              "  </tbody>\n",
              "</table>\n",
              "</div>\n",
              "    <div class=\"colab-df-buttons\">\n",
              "\n",
              "  <div class=\"colab-df-container\">\n",
              "    <button class=\"colab-df-convert\" onclick=\"convertToInteractive('df-a8f3a270-16b6-46c8-a65a-daf9d0153849')\"\n",
              "            title=\"Convert this dataframe to an interactive table.\"\n",
              "            style=\"display:none;\">\n",
              "\n",
              "  <svg xmlns=\"http://www.w3.org/2000/svg\" height=\"24px\" viewBox=\"0 -960 960 960\">\n",
              "    <path d=\"M120-120v-720h720v720H120Zm60-500h600v-160H180v160Zm220 220h160v-160H400v160Zm0 220h160v-160H400v160ZM180-400h160v-160H180v160Zm440 0h160v-160H620v160ZM180-180h160v-160H180v160Zm440 0h160v-160H620v160Z\"/>\n",
              "  </svg>\n",
              "    </button>\n",
              "\n",
              "  <style>\n",
              "    .colab-df-container {\n",
              "      display:flex;\n",
              "      gap: 12px;\n",
              "    }\n",
              "\n",
              "    .colab-df-convert {\n",
              "      background-color: #E8F0FE;\n",
              "      border: none;\n",
              "      border-radius: 50%;\n",
              "      cursor: pointer;\n",
              "      display: none;\n",
              "      fill: #1967D2;\n",
              "      height: 32px;\n",
              "      padding: 0 0 0 0;\n",
              "      width: 32px;\n",
              "    }\n",
              "\n",
              "    .colab-df-convert:hover {\n",
              "      background-color: #E2EBFA;\n",
              "      box-shadow: 0px 1px 2px rgba(60, 64, 67, 0.3), 0px 1px 3px 1px rgba(60, 64, 67, 0.15);\n",
              "      fill: #174EA6;\n",
              "    }\n",
              "\n",
              "    .colab-df-buttons div {\n",
              "      margin-bottom: 4px;\n",
              "    }\n",
              "\n",
              "    [theme=dark] .colab-df-convert {\n",
              "      background-color: #3B4455;\n",
              "      fill: #D2E3FC;\n",
              "    }\n",
              "\n",
              "    [theme=dark] .colab-df-convert:hover {\n",
              "      background-color: #434B5C;\n",
              "      box-shadow: 0px 1px 3px 1px rgba(0, 0, 0, 0.15);\n",
              "      filter: drop-shadow(0px 1px 2px rgba(0, 0, 0, 0.3));\n",
              "      fill: #FFFFFF;\n",
              "    }\n",
              "  </style>\n",
              "\n",
              "    <script>\n",
              "      const buttonEl =\n",
              "        document.querySelector('#df-a8f3a270-16b6-46c8-a65a-daf9d0153849 button.colab-df-convert');\n",
              "      buttonEl.style.display =\n",
              "        google.colab.kernel.accessAllowed ? 'block' : 'none';\n",
              "\n",
              "      async function convertToInteractive(key) {\n",
              "        const element = document.querySelector('#df-a8f3a270-16b6-46c8-a65a-daf9d0153849');\n",
              "        const dataTable =\n",
              "          await google.colab.kernel.invokeFunction('convertToInteractive',\n",
              "                                                    [key], {});\n",
              "        if (!dataTable) return;\n",
              "\n",
              "        const docLinkHtml = 'Like what you see? Visit the ' +\n",
              "          '<a target=\"_blank\" href=https://colab.research.google.com/notebooks/data_table.ipynb>data table notebook</a>'\n",
              "          + ' to learn more about interactive tables.';\n",
              "        element.innerHTML = '';\n",
              "        dataTable['output_type'] = 'display_data';\n",
              "        await google.colab.output.renderOutput(dataTable, element);\n",
              "        const docLink = document.createElement('div');\n",
              "        docLink.innerHTML = docLinkHtml;\n",
              "        element.appendChild(docLink);\n",
              "      }\n",
              "    </script>\n",
              "  </div>\n",
              "\n",
              "\n",
              "<div id=\"df-c7b30e53-37ab-4fe5-80a9-b3cfcf46c5ed\">\n",
              "  <button class=\"colab-df-quickchart\" onclick=\"quickchart('df-c7b30e53-37ab-4fe5-80a9-b3cfcf46c5ed')\"\n",
              "            title=\"Suggest charts\"\n",
              "            style=\"display:none;\">\n",
              "\n",
              "<svg xmlns=\"http://www.w3.org/2000/svg\" height=\"24px\"viewBox=\"0 0 24 24\"\n",
              "     width=\"24px\">\n",
              "    <g>\n",
              "        <path d=\"M19 3H5c-1.1 0-2 .9-2 2v14c0 1.1.9 2 2 2h14c1.1 0 2-.9 2-2V5c0-1.1-.9-2-2-2zM9 17H7v-7h2v7zm4 0h-2V7h2v10zm4 0h-2v-4h2v4z\"/>\n",
              "    </g>\n",
              "</svg>\n",
              "  </button>\n",
              "\n",
              "<style>\n",
              "  .colab-df-quickchart {\n",
              "      --bg-color: #E8F0FE;\n",
              "      --fill-color: #1967D2;\n",
              "      --hover-bg-color: #E2EBFA;\n",
              "      --hover-fill-color: #174EA6;\n",
              "      --disabled-fill-color: #AAA;\n",
              "      --disabled-bg-color: #DDD;\n",
              "  }\n",
              "\n",
              "  [theme=dark] .colab-df-quickchart {\n",
              "      --bg-color: #3B4455;\n",
              "      --fill-color: #D2E3FC;\n",
              "      --hover-bg-color: #434B5C;\n",
              "      --hover-fill-color: #FFFFFF;\n",
              "      --disabled-bg-color: #3B4455;\n",
              "      --disabled-fill-color: #666;\n",
              "  }\n",
              "\n",
              "  .colab-df-quickchart {\n",
              "    background-color: var(--bg-color);\n",
              "    border: none;\n",
              "    border-radius: 50%;\n",
              "    cursor: pointer;\n",
              "    display: none;\n",
              "    fill: var(--fill-color);\n",
              "    height: 32px;\n",
              "    padding: 0;\n",
              "    width: 32px;\n",
              "  }\n",
              "\n",
              "  .colab-df-quickchart:hover {\n",
              "    background-color: var(--hover-bg-color);\n",
              "    box-shadow: 0 1px 2px rgba(60, 64, 67, 0.3), 0 1px 3px 1px rgba(60, 64, 67, 0.15);\n",
              "    fill: var(--button-hover-fill-color);\n",
              "  }\n",
              "\n",
              "  .colab-df-quickchart-complete:disabled,\n",
              "  .colab-df-quickchart-complete:disabled:hover {\n",
              "    background-color: var(--disabled-bg-color);\n",
              "    fill: var(--disabled-fill-color);\n",
              "    box-shadow: none;\n",
              "  }\n",
              "\n",
              "  .colab-df-spinner {\n",
              "    border: 2px solid var(--fill-color);\n",
              "    border-color: transparent;\n",
              "    border-bottom-color: var(--fill-color);\n",
              "    animation:\n",
              "      spin 1s steps(1) infinite;\n",
              "  }\n",
              "\n",
              "  @keyframes spin {\n",
              "    0% {\n",
              "      border-color: transparent;\n",
              "      border-bottom-color: var(--fill-color);\n",
              "      border-left-color: var(--fill-color);\n",
              "    }\n",
              "    20% {\n",
              "      border-color: transparent;\n",
              "      border-left-color: var(--fill-color);\n",
              "      border-top-color: var(--fill-color);\n",
              "    }\n",
              "    30% {\n",
              "      border-color: transparent;\n",
              "      border-left-color: var(--fill-color);\n",
              "      border-top-color: var(--fill-color);\n",
              "      border-right-color: var(--fill-color);\n",
              "    }\n",
              "    40% {\n",
              "      border-color: transparent;\n",
              "      border-right-color: var(--fill-color);\n",
              "      border-top-color: var(--fill-color);\n",
              "    }\n",
              "    60% {\n",
              "      border-color: transparent;\n",
              "      border-right-color: var(--fill-color);\n",
              "    }\n",
              "    80% {\n",
              "      border-color: transparent;\n",
              "      border-right-color: var(--fill-color);\n",
              "      border-bottom-color: var(--fill-color);\n",
              "    }\n",
              "    90% {\n",
              "      border-color: transparent;\n",
              "      border-bottom-color: var(--fill-color);\n",
              "    }\n",
              "  }\n",
              "</style>\n",
              "\n",
              "  <script>\n",
              "    async function quickchart(key) {\n",
              "      const quickchartButtonEl =\n",
              "        document.querySelector('#' + key + ' button');\n",
              "      quickchartButtonEl.disabled = true;  // To prevent multiple clicks.\n",
              "      quickchartButtonEl.classList.add('colab-df-spinner');\n",
              "      try {\n",
              "        const charts = await google.colab.kernel.invokeFunction(\n",
              "            'suggestCharts', [key], {});\n",
              "      } catch (error) {\n",
              "        console.error('Error during call to suggestCharts:', error);\n",
              "      }\n",
              "      quickchartButtonEl.classList.remove('colab-df-spinner');\n",
              "      quickchartButtonEl.classList.add('colab-df-quickchart-complete');\n",
              "    }\n",
              "    (() => {\n",
              "      let quickchartButtonEl =\n",
              "        document.querySelector('#df-c7b30e53-37ab-4fe5-80a9-b3cfcf46c5ed button');\n",
              "      quickchartButtonEl.style.display =\n",
              "        google.colab.kernel.accessAllowed ? 'block' : 'none';\n",
              "    })();\n",
              "  </script>\n",
              "</div>\n",
              "    </div>\n",
              "  </div>\n"
            ],
            "application/vnd.google.colaboratory.intrinsic+json": {
              "type": "dataframe",
              "variable_name": "df",
              "summary": "{\n  \"name\": \"df\",\n  \"rows\": 100000,\n  \"fields\": [\n    {\n      \"column\": \"user_id\",\n      \"properties\": {\n        \"dtype\": \"category\",\n        \"num_unique_values\": 943,\n        \"samples\": [\n          \"262\",\n          \"136\",\n          \"821\"\n        ],\n        \"semantic_type\": \"\",\n        \"description\": \"\"\n      }\n    },\n    {\n      \"column\": \"item_id\",\n      \"properties\": {\n        \"dtype\": \"category\",\n        \"num_unique_values\": 1682,\n        \"samples\": [\n          \"1557\",\n          \"808\",\n          \"1618\"\n        ],\n        \"semantic_type\": \"\",\n        \"description\": \"\"\n      }\n    },\n    {\n      \"column\": \"rating\",\n      \"properties\": {\n        \"dtype\": \"number\",\n        \"std\": 1.125673599144129,\n        \"min\": 1.0,\n        \"max\": 5.0,\n        \"num_unique_values\": 5,\n        \"samples\": [\n          1.0,\n          5.0,\n          2.0\n        ],\n        \"semantic_type\": \"\",\n        \"description\": \"\"\n      }\n    },\n    {\n      \"column\": \"timestamp\",\n      \"properties\": {\n        \"dtype\": \"category\",\n        \"num_unique_values\": 49282,\n        \"samples\": [\n          \"889728713\",\n          \"888443306\",\n          \"880605158\"\n        ],\n        \"semantic_type\": \"\",\n        \"description\": \"\"\n      }\n    }\n  ]\n}"
            }
          },
          "metadata": {},
          "execution_count": 4
        }
      ]
    },
    {
      "cell_type": "markdown",
      "source": [
        "Теперь попробуем решить задачу.\n",
        "\n",
        "Начнем с `NormalPredictor`. Этот алгоритм просто предсказывает случайный рейтинг на основе того распределения, которое есть в обучающих данных (причем это обучение считается номральным). Воспринимаем это как бейзлайн"
      ],
      "metadata": {
        "id": "6UgUme-OocYb"
      }
    },
    {
      "cell_type": "code",
      "source": [
        "# Создаем класс, у него никаких дополнительных параметров нет\n",
        "algo = NormalPredictor()\n",
        "\n",
        "# Запускаем кросс-валидацию\n",
        "cv_res = cross_validate(algo, data, measures=['RMSE', 'MAE'], cv=5, verbose=True)"
      ],
      "metadata": {
        "colab": {
          "base_uri": "https://localhost:8080/"
        },
        "id": "oiVIK6AioirP",
        "outputId": "fcb94259-da87-4a63-835e-b7112c435ba4"
      },
      "execution_count": null,
      "outputs": [
        {
          "output_type": "stream",
          "name": "stdout",
          "text": [
            "Evaluating RMSE, MAE of algorithm NormalPredictor on 5 split(s).\n",
            "\n",
            "                  Fold 1  Fold 2  Fold 3  Fold 4  Fold 5  Mean    Std     \n",
            "RMSE (testset)    1.5166  1.5278  1.5157  1.5242  1.5229  1.5215  0.0046  \n",
            "MAE (testset)     1.2187  1.2304  1.2187  1.2229  1.2208  1.2223  0.0044  \n",
            "Fit time          0.10    0.13    0.13    0.13    0.13    0.13    0.01    \n",
            "Test time         0.09    0.25    0.09    0.19    0.08    0.14    0.07    \n"
          ]
        }
      ]
    },
    {
      "cell_type": "markdown",
      "source": [
        "А еще кросс-вадидация возвращает нам словарь с результатами:"
      ],
      "metadata": {
        "id": "elx0qApdsNWd"
      }
    },
    {
      "cell_type": "code",
      "source": [
        "cv_res"
      ],
      "metadata": {
        "id": "P_ZAczYVPMj9",
        "colab": {
          "base_uri": "https://localhost:8080/"
        },
        "outputId": "e2f8fd71-d124-4d9e-c679-8908c0336e3e"
      },
      "execution_count": null,
      "outputs": [
        {
          "output_type": "execute_result",
          "data": {
            "text/plain": [
              "{'test_rmse': array([1.516607  , 1.52781835, 1.5157477 , 1.52420881, 1.5229373 ]),\n",
              " 'test_mae': array([1.21865444, 1.23041238, 1.21869735, 1.22287405, 1.22075666]),\n",
              " 'fit_time': (0.10248541831970215,\n",
              "  0.1312549114227295,\n",
              "  0.13074636459350586,\n",
              "  0.13379335403442383,\n",
              "  0.12691330909729004),\n",
              " 'test_time': (0.08859682083129883,\n",
              "  0.25293922424316406,\n",
              "  0.09192132949829102,\n",
              "  0.19420146942138672,\n",
              "  0.08205604553222656)}"
            ]
          },
          "metadata": {},
          "execution_count": 6
        }
      ]
    },
    {
      "cell_type": "markdown",
      "source": [
        "Теперь попробуем `KNNBasic` $-$ это алгоритм, который использует векторную близость между объектами / пользователями. У него есть следующие параметры:\n",
        "- `k` $-$ максимальное кол-во ближашийх объектов, для которых мы усредняем оценки (если всего оценок больше, то все остальные просто игнорируем)\n",
        "- `min_k` $-$ минимальное кол-во ближашийх объектов, для которых мы усредняем оценки (если меньше, то берем просто среднее по обучающим данным)\n",
        "- `sim_options` $-$ всякие параметры для функции близости, здесь из важных:\n",
        "    - `user_based` $-$ `True` или `False`, определяет какой вариант алгоритма мы используем\n",
        "    - `name` $-$ название метрики близости"
      ],
      "metadata": {
        "id": "YqR9gu1ZpX3q"
      }
    },
    {
      "cell_type": "markdown",
      "source": [
        "Попробуем сначала user-based подход:"
      ],
      "metadata": {
        "id": "1e-CGXqDqyzb"
      }
    },
    {
      "cell_type": "code",
      "source": [
        "algo = KNNBasic(k=40, min_k=1, sim_options={'user_based': True})\n",
        "cv_res = cross_validate(algo, data, measures=['RMSE', 'MAE'], cv=5, verbose=True)"
      ],
      "metadata": {
        "colab": {
          "base_uri": "https://localhost:8080/"
        },
        "id": "tGUNM6e3pYGH",
        "outputId": "d4da8249-e051-4bca-ef49-c7925091abd0"
      },
      "execution_count": null,
      "outputs": [
        {
          "output_type": "stream",
          "name": "stdout",
          "text": [
            "Computing the msd similarity matrix...\n",
            "Done computing similarity matrix.\n",
            "Computing the msd similarity matrix...\n",
            "Done computing similarity matrix.\n",
            "Computing the msd similarity matrix...\n",
            "Done computing similarity matrix.\n",
            "Computing the msd similarity matrix...\n",
            "Done computing similarity matrix.\n",
            "Computing the msd similarity matrix...\n",
            "Done computing similarity matrix.\n",
            "Evaluating RMSE, MAE of algorithm KNNBasic on 5 split(s).\n",
            "\n",
            "                  Fold 1  Fold 2  Fold 3  Fold 4  Fold 5  Mean    Std     \n",
            "RMSE (testset)    0.9790  0.9752  0.9817  0.9838  0.9738  0.9787  0.0038  \n",
            "MAE (testset)     0.7720  0.7704  0.7757  0.7754  0.7703  0.7728  0.0023  \n",
            "Fit time          0.55    0.46    0.44    0.44    0.49    0.47    0.04    \n",
            "Test time         3.17    4.09    3.14    3.12    4.38    3.58    0.54    \n"
          ]
        }
      ]
    },
    {
      "cell_type": "markdown",
      "source": [
        "А теперь item-based:"
      ],
      "metadata": {
        "id": "xNYG6ELuq4E6"
      }
    },
    {
      "cell_type": "code",
      "source": [
        "algo = KNNBasic(k=40, min_k=1, sim_options={'user_based': False})\n",
        "cv_res = cross_validate(algo, data, measures=['RMSE', 'MAE'], cv=5, verbose=True)"
      ],
      "metadata": {
        "colab": {
          "base_uri": "https://localhost:8080/"
        },
        "id": "PCfqc4xdp7sK",
        "outputId": "163d7059-448f-4605-e277-c59f25a3a4aa"
      },
      "execution_count": null,
      "outputs": [
        {
          "output_type": "stream",
          "name": "stdout",
          "text": [
            "Computing the msd similarity matrix...\n",
            "Done computing similarity matrix.\n",
            "Computing the msd similarity matrix...\n",
            "Done computing similarity matrix.\n",
            "Computing the msd similarity matrix...\n",
            "Done computing similarity matrix.\n",
            "Computing the msd similarity matrix...\n",
            "Done computing similarity matrix.\n",
            "Computing the msd similarity matrix...\n",
            "Done computing similarity matrix.\n",
            "Evaluating RMSE, MAE of algorithm KNNBasic on 5 split(s).\n",
            "\n",
            "                  Fold 1  Fold 2  Fold 3  Fold 4  Fold 5  Mean    Std     \n",
            "RMSE (testset)    0.9765  0.9743  0.9704  0.9773  0.9747  0.9746  0.0024  \n",
            "MAE (testset)     0.7710  0.7705  0.7663  0.7733  0.7678  0.7697  0.0025  \n",
            "Fit time          1.84    0.79    0.70    0.64    0.68    0.93    0.46    \n",
            "Test time         6.18    4.60    3.63    3.75    4.59    4.55    0.91    \n"
          ]
        }
      ]
    },
    {
      "cell_type": "markdown",
      "source": [
        "Алгоритм выше во многом хорош, но на практике чаще используется его улучшенная версия. В библиотеке она называется `KNNWithMeans`.\n",
        "\n",
        "В чем идея улучшений?\n",
        "\n",
        "Очевидно, что все пользователи имеют у себя в голове немного разную шкалу (кто-то ставит только 5-ки, а кто-то никогда не ставит ничего выше 4-х), так же как и у объекта обычно рейтинги тяготеют к какому-то определенному значению. Чтобы учитывать подобные нюансы, в формулу для усреднения вводится нормирование на срееднее значение по пользователю / объекту."
      ],
      "metadata": {
        "id": "Wu4h005Fq9mk"
      }
    },
    {
      "cell_type": "code",
      "source": [
        "algo = KNNWithMeans(k=40, min_k=1, sim_options={'user_based': True})\n",
        "cv_res = cross_validate(algo, data, measures=['RMSE', 'MAE'], cv=5, verbose=True)"
      ],
      "metadata": {
        "colab": {
          "base_uri": "https://localhost:8080/"
        },
        "id": "Cz9Pa0FBq_nu",
        "outputId": "25e2ca7b-3106-4e1b-fa53-569dc81b0254"
      },
      "execution_count": null,
      "outputs": [
        {
          "output_type": "stream",
          "name": "stdout",
          "text": [
            "Computing the msd similarity matrix...\n",
            "Done computing similarity matrix.\n",
            "Computing the msd similarity matrix...\n",
            "Done computing similarity matrix.\n",
            "Computing the msd similarity matrix...\n",
            "Done computing similarity matrix.\n",
            "Computing the msd similarity matrix...\n",
            "Done computing similarity matrix.\n",
            "Computing the msd similarity matrix...\n",
            "Done computing similarity matrix.\n",
            "Evaluating RMSE, MAE of algorithm KNNWithMeans on 5 split(s).\n",
            "\n",
            "                  Fold 1  Fold 2  Fold 3  Fold 4  Fold 5  Mean    Std     \n",
            "RMSE (testset)    0.9485  0.9563  0.9531  0.9457  0.9460  0.9499  0.0041  \n",
            "MAE (testset)     0.7466  0.7516  0.7510  0.7464  0.7462  0.7484  0.0024  \n",
            "Fit time          0.47    0.47    0.48    0.87    0.46    0.55    0.16    \n",
            "Test time         4.22    3.33    3.66    4.63    3.19    3.81    0.55    \n"
          ]
        }
      ]
    },
    {
      "cell_type": "markdown",
      "source": [
        "Еще можно проверить, как сработает алгоритм, основанный на SVD разложении.\n",
        "\n",
        "Общая идея:\n",
        "\n",
        "- Делаем разложение через градиентный спуск на две (!) матрицы, считаем, что одна из них содержит вектора пользователей, а другая $-$ объектов\n",
        "- Тогда рейтинг $-$ это скалярное произведение вектора пользователя на вектор объекта (собственно, мы матрицу для этого и раскладывали)\n",
        "\n",
        "Подробнее можно прочитать [тут](https://habr.com/ru/articles/751470/)"
      ],
      "metadata": {
        "id": "QqxwrR6IrzLP"
      }
    },
    {
      "cell_type": "code",
      "source": [
        "algo = SVD()\n",
        "cv_res = cross_validate(algo, data, measures=['RMSE', 'MAE'], cv=5, verbose=True)"
      ],
      "metadata": {
        "id": "pvRUIDmGPLNk",
        "colab": {
          "base_uri": "https://localhost:8080/"
        },
        "outputId": "05582e63-5ada-41ef-a556-b5e20eb22d10"
      },
      "execution_count": null,
      "outputs": [
        {
          "output_type": "stream",
          "name": "stdout",
          "text": [
            "Evaluating RMSE, MAE of algorithm SVD on 5 split(s).\n",
            "\n",
            "                  Fold 1  Fold 2  Fold 3  Fold 4  Fold 5  Mean    Std     \n",
            "RMSE (testset)    0.9280  0.9477  0.9309  0.9322  0.9372  0.9352  0.0069  \n",
            "MAE (testset)     0.7323  0.7444  0.7359  0.7367  0.7378  0.7374  0.0040  \n",
            "Fit time          1.44    1.47    1.86    1.67    1.44    1.58    0.17    \n",
            "Test time         0.23    0.15    0.20    0.11    0.12    0.16    0.05    \n"
          ]
        }
      ]
    },
    {
      "cell_type": "code",
      "source": [],
      "metadata": {
        "id": "dmj-RKbhPYoF"
      },
      "execution_count": null,
      "outputs": []
    }
  ]
}