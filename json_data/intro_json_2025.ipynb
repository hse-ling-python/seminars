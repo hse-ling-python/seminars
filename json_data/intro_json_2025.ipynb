{
 "cells": [
  {
   "cell_type": "markdown",
   "metadata": {
    "id": "xgVsY4LbBSbE"
   },
   "source": [
    "# **Intro**"
   ]
  },
  {
   "cell_type": "markdown",
   "metadata": {
    "id": "fys9GNINBSbG"
   },
   "source": [
    "## Устройство курса\n",
    "\n",
    "Страница курса: https://hse-ling-python.github.io/\n",
    "\n",
    "Ссылка на чат: https://t.me/+M0QNBQISm4U3Njk6\n",
    "\n",
    "### Оценка\n",
    "\n",
    "У нас на курсе две сессии:\n",
    "- Промежуточная зимой:\n",
    "\n",
    "    $0.5 * домашние\\ задания  + 0.5 * контрольная$\n",
    "\n",
    "- И финальная весной:\n",
    "\n",
    "    $min((0.5 * контрольная + 0.2 * домашние\\ задания + 0.3 * проект), 8)$\n",
    "\n",
    "Максимальная оценка за курс по итогу финальной сессии - это 8, так как курс является дисциплиной пререквизитом (ДПР) для независимого экзамена (НЭ). В дальнейшем оценку можно поднять за счет оценки за НЭ или независимое тестирование Иннополиса. \n",
    "\n",
    "__Но будьте внимательны__: если оценка по итогу весенней сессии будет ниже 6, то вы потеряете стипендцию до централизованного перезачета в июле и новых приказов о стипенциях. Даже если к концу марта уже будут известны оценки за НЭ!\n",
    "\n",
    "Про независимое тестирование Иннополиса: оно сдается три раза и при наличии отрицательной динамики по оценкам (например, 8-6-8 за три попытки) отменяет перезачеты в рамках курсов DC.\n",
    "\n",
    "[Вот тут](https://www.hse.ru/studyspravka/examsdataculture) внизу страницы можно найти \"Калькулятор оценок\" и посмотреть, как будет получаться итоговая оценка за ДПР и НЭ при различных вариантах.\n",
    "\n",
    "### Независимый экзамен\n",
    "\n",
    "Независимый экзамен по программированию (базовый уровень) будет в конце третьего модуля.\n",
    "\n",
    "[Материалы для подготовки](https://edu.hse.ru/enrol/index.php?id=175587) (еще есть [материалы прошлых лет](https://edu.hse.ru/course/index.php?categoryid=60773))\n",
    "\n",
    "### План курса\n",
    "На сегодняшний день план такой:\n",
    "\n",
    "* **1 модуль**: повторим несколько тем с 1-го курса и поговорим о методах компьютерной лингвистики;\n",
    "\n",
    "* **2 модуль**: поговорим о бд и вебе: html + css, скачивание данных из интернета, создание своего веб-приложения и тг-ботов; в конце 2-го модуля контрольная;\n",
    "\n",
    "* **3 модуль**: обсудим машинное обучение и около него; в конце третьего модуля проект."
   ]
  },
  {
   "cell_type": "markdown",
   "metadata": {
    "id": "nATU1ZgzBSbH"
   },
   "source": [
    "## В чём писать код?\n",
    "\n",
    "Основными инструментами для работы могут быть PyCharm, VS Code и Jupyter notebooks\n",
    "\n",
    "**PyCharm**\n",
    "\n",
    "PyCharm удобен для написания скриптов, работы с большими проектами, где сложная система файлов разных типов. Кроме этого, удобно работать с системами контроля версий, например с **git**, который используется на GitHub и GitLab.\n",
    "\n",
    "Есть бесплатная версия (Community), а для студентов и преподавателей бесплатна и версия Professional, в которой есть определенные бонусы. Для этого по корпоративной почте можно получить лицензию, скачать версию Professional и активировать в специальной форме (к сожалению, теперь это не всегда и не у всех работает).\n",
    "\n",
    "1. [Скачать версию для своей ОС](https://www.jetbrains.com/pycharm/download/)\n",
    "2. Установить (есть инструкции на сайте)\n",
    "\n",
    "**VS Code**\n",
    "\n",
    "Позиционируется как «лёгкий» редактор кода для кроссплатформенной разработки веб- и облачных приложений. Включает в себя отладчик, инструменты для работы с **git**, подсветку синтаксиса, IntelliSense и средства для рефакторинга. Имеет широкие возможности для кастомизации: пользовательские темы, сочетания клавиш и файлы конфигурации. Распространяется бесплатно, разрабатывается как программное обеспечение с открытым исходным кодом. Можно поставить плагин для работы с тетрадками Jupyter.\n",
    "\n",
    "1. [Скачать версию для своей ОС](https://code.visualstudio.com/)\n",
    "2. Установить\n",
    "\n",
    "**Тетрадки Jupyter**\n",
    "\n",
    "Тетрадки Jupyter (например, вот этот конспект) позволяют работать с визуализацией (вставлять графики, картинки), а также выполнять код не один раз, как скрипт, а отдельными кусочками. Это часто используется в машинном обучении, когда не нужно писать огромные функций, а просто запустить обучение модели и вывести графики. Правила хорошего тона говорят, что писать огромные функции в тетрадках – это плохо, поэтому для них лучше использовать обычные .py файлы\n",
    "\n",
    "\n",
    "Можно установить через `pip` в коммандной строке.\n",
    "```shell\n",
    "pip install notebook\n",
    "```\n",
    "Можно установить дистрибутив Anaconda.\n",
    "1. [Скачать версию для своей ОС](https://www.anaconda.com/download/success)\n",
    "2. Установить\n",
    "3. Загрузить и открыть Jupiter Notebook\n",
    "\n",
    "Можно работать через [Google Colab](https://colab.google/).<br>Удобен для совместной работы над кодом (проект), достаточно мощный, но зависит от интернета. Однако, советую его потихоньку осваивать, так как при работе с языковыми моделями без него никуда.\n",
    "\n",
    "**JupyterLab**\n",
    "\n",
    "JupyterLab – гибкая, интегрируемая и легко расширяемая среда, поддерживающая одновременную работу с несколькими блокнотами Jupyter, текстовыми файлами, датасетами, терминалами и другими компонентами. Аналогично классическим IDE в JupyterLab можно упорядочивать документы в рабочей области в удобном порядке при помощи вкладок и разделителей.\n",
    "\n",
    "JupyterLab поддерживает отображение и редактирование множества форматов данных: изображений, CSV, JSON, Markdown, PDF, Vega, Vega-Lite и так далее. Для быстрой навигации по документам в JupyterLab есть настраиваемые горячие клавиши.\n",
    "\n",
    "Можно установить через `pip` в коммандной строке\n",
    "```shell\n",
    "pip install jupyterlab\n",
    "```\n",
    "Или установить дистрибутив Anaconda:\n",
    "1. [Скачать версию для своей ОС](https://www.anaconda.com/download/success)\n",
    "2. Установить\n",
    "3. Загрузить и открыть JupiterLab\n"
   ]
  },
  {
   "cell_type": "markdown",
   "metadata": {
    "id": "zIZblt79BSbV",
    "pycharm": {
     "name": "#%% md\n"
    }
   },
   "source": [
    "## Система отправки работ\n",
    "\n",
    "Используем GitHub Classroom. Там будут создаваться задания и репозитории для заданий (после того как вы примете задание), для которых установлен автоматический дедлайн, после которого загрузка закрывается.\n",
    "\n",
    "## Оформление\n",
    "\n",
    "Большую часть домашних заданий можно делать вот в таких jupyter-тетрадках, для каких-то веб-приложений или других более крупных проектов нужен проект или папок и скриптов - это удобнее писать в PyCharm."
   ]
  },
  {
   "cell_type": "markdown",
   "metadata": {
    "id": "PeK-SihUBSbI"
   },
   "source": [
    "## О правилах хорошего тона\n",
    "\n",
    "Красивый код – это не только эстетическое удовольствие, но и жизненная необходимость, потому что такой код проще понимать, а так легче работать в команде, искать свои ошибки и вспоминать, что ты написал год назад.\n",
    "\n",
    "Для Python есть отдельная конвенция о том, как надо писать код – **[PEP-8](https://www.python.org/dev/peps/pep-0008/)**. В PyCharm есть встроенная функция проверки и справа от кода есть полоса, где можно найти советы и исправления. Плюс к этому есть подчеркивания, при наведении на которые вы тоже можете найти полезные советы. Соответствие PEP-8 будет одним из требований этого курса.\n",
    "\n",
    "Для Jupyter есть расширения для проверки PEP-8:"
   ]
  },
  {
   "cell_type": "code",
   "execution_count": 1,
   "metadata": {
    "id": "dZe45PAEBSbI"
   },
   "outputs": [],
   "source": [
    "# вот так можно запускать команды для консоли прямо внутри тетрадки\n",
    "\n",
    "!pip3 install pycodestyle flake8 pycodestyle_magic --q"
   ]
  },
  {
   "cell_type": "markdown",
   "metadata": {
    "id": "M2Pc5nEVBSbK"
   },
   "source": [
    "импортируем и активируем модуль проверки"
   ]
  },
  {
   "cell_type": "code",
   "execution_count": 2,
   "metadata": {
    "id": "WOS7kTHYBSbK"
   },
   "outputs": [],
   "source": [
    "%load_ext pycodestyle_magic\n",
    "%pycodestyle_on"
   ]
  },
  {
   "cell_type": "code",
   "execution_count": 3,
   "metadata": {
    "colab": {
     "base_uri": "https://localhost:8080/"
    },
    "id": "wjKoNyS5BSbL",
    "outputId": "2e59a924-d449-48de-e94f-e04a8344c65a"
   },
   "outputs": [
    {
     "name": "stderr",
     "output_type": "stream",
     "text": [
      "1:80: E501 line too long (111 > 79 characters)\n"
     ]
    }
   ],
   "source": [
    "name = 'this is very very very very very very very very very very very very very very very very very long line'"
   ]
  },
  {
   "cell_type": "code",
   "execution_count": 4,
   "metadata": {
    "colab": {
     "base_uri": "https://localhost:8080/"
    },
    "id": "GjNqauFwBSbM",
    "outputId": "6e7eddba-968e-4049-d189-845f9994139f"
   },
   "outputs": [
    {
     "name": "stderr",
     "output_type": "stream",
     "text": [
      "1:2: E225 missing whitespace around operator\n"
     ]
    }
   ],
   "source": [
    "t=5+3"
   ]
  },
  {
   "cell_type": "code",
   "execution_count": 5,
   "metadata": {
    "id": "fqrrX9vxBSbN"
   },
   "outputs": [],
   "source": [
    "t = 5 + 3"
   ]
  },
  {
   "cell_type": "markdown",
   "metadata": {},
   "source": [
    "В целом, ориентируйтесь при оформлении домашних работ на оформление семинарских тетрадок :)"
   ]
  },
  {
   "cell_type": "markdown",
   "metadata": {
    "id": "kI4xDWYHBSbS"
   },
   "source": [
    "## Markdown\n",
    "\n",
    "Markdown – это упрощенный язык разметки, который преобразует (почти) обычный текст в HTML-страницу. Создан в 2004 году Джоном Грубером и Аароном Шварцем, затем был дополнен и адаптирован для различных приложений. Markdown-файлы имеют расширение `.md` или `.markdown`. Markdown используется на GitHub, Telegram и, что особенно важно для нас сейчас, в Jupyter тетрадках для форматирования текстовых окон.\n",
    "\n",
    "Несколько примеров форматирования:\n",
    "\n",
    "1. Заголовки в Markdown выделяются решетками `#`:\n",
    "    # заголовок 1 уровня\n",
    "    ## заголовок 2 уровня\n",
    "    ...\n",
    "    ###### заголовок 6 уровня\n",
    "\n",
    "2. Чтобы выделить текст курсивом, нужно поставить в начале и в конце фрагмента текста `*` или `_` (не отделяя пробелом):\n",
    "\n",
    "    *звезды* или _нижние подчеркивания_\n",
    "\n",
    "3. Чтобы сделать текст жирным, нужно поставить в начале и в конце фрагмента текста `**` или `__` (не отделяя пробелом):\n",
    "\n",
    "    **две звезды** или __два нижних подчеркивания__\n",
    "\n",
    "4. Чтобы перечеркнуть текст, используйте `~~` в начале и в конце (не отделяя пробелом):\n",
    "\n",
    "    ~~две тильды~~\n",
    "\n",
    "5. Cписок можно сделать просто написав `1. ` какой-то пункт (для нумерованного списка) или просто `- ` / `* ` какой-то пункт (для маркированного списка). После каждого пункта два переноса строки (два enter).\n",
    "\n",
    "6. Ссылки оформляются так `[ссылка](www.link.com)`.\n",
    "\n",
    "    [это](https://www.markdownguide.org/) сслыка на гайд\n",
    "\n",
    "7. Блоки кода внутри текста оформляются одиночным апострофом \\` по обе стороны (`import this`). Если блок отдельно или многострочный, то надо ставить три апострофа \\``` на строках до и после. На первой строке можно указать тип данных после апострофа (например, \\`\\`\\`python или \\`\\`\\`json)\n",
    "```python\n",
    "import this\n",
    "result = 2 + 2\n",
    "```\n",
    "```json\n",
    "{\"name\": \"John\", \"age\": 30, \"car\": null}\n",
    "```\n",
    "\n",
    "8. Дальнейшие опции можно найти [тут](https://github.com/adam-p/markdown-here/wiki/Markdown-Here-Cheatsheet) или [тут](https://www.markdownguide.org/)."
   ]
  },
  {
   "cell_type": "markdown",
   "metadata": {
    "id": "aLzJRfdzC2PB"
   },
   "source": [
    "# **JSON**"
   ]
  },
  {
   "cell_type": "markdown",
   "metadata": {
    "id": "HMGyG9wJC2PC"
   },
   "source": [
    "## Формат JSON\n",
    "\n",
    "**JSON** (*JavaScript Object Notation*) – простой, основанный на использовании текста, способ хранить и передавать структурированные данные.\n",
    "\n",
    "Его придумали для того, чтобы упростить обмен данными.\n",
    "\n",
    "Его предложения легко читаются и составляются как человеком, так и компьютером.\n",
    "\n",
    "Его легко преобразовать в структуру данных для большинства языков программирования (числа, строки, логические переменные, массивы и так далее).\n",
    "\n",
    "Многие языки программирования имеют функции и библиотеки для чтения и создания структур JSON.\n",
    "\n",
    "JSON обычно более компактный чем XML."
   ]
  },
  {
   "cell_type": "markdown",
   "metadata": {
    "id": "fqu9L6FaC2PD"
   },
   "source": [
    "## Правила JSON\n",
    "\n",
    "Строка JSON может содержать __объект__, и тогда она начинается с `{` и заканчивается на `}`. Такой объект очень похож на питоновский *словарь*: у него есть ключи – строки, которые пишутся в кавычках, а через двоеточие пишется значение, пары ключ-значение разделяются запятыми.\n",
    "\n",
    "**NB!** Если ключом в питоновском словаре может быть и число, и булевая переменная, и т.д. (не делайте так...), то при переводе подобного словаря в JSON-объект *все ключи* станут строками.\n",
    "\n",
    "Например:\n",
    "```json\n",
    "{\"first_name\": \"Guido\", \"last_name\":\"Rossum\"}\n",
    "```\n",
    "\n"
   ]
  },
  {
   "cell_type": "markdown",
   "metadata": {
    "id": "js0qD0tZC2PE"
   },
   "source": [
    "Строка JSON может содержать __массив__, и тогда она начинается с `[` и заканчивается на `]`. Такой массив очень похож на питоновский массив: в нем значения перечисляются через запятую.\n",
    "\n",
    "Например:\n",
    "```json\n",
    "[\"Guido van Rossum\", \"Diana Clarke\", \"Naomi Ceder\", \"Van Lindberg\", \"Ewa Jodlowska\"]\n",
    "```\n",
    "\n"
   ]
  },
  {
   "cell_type": "markdown",
   "metadata": {
    "id": "TNbZD3lxC2PF"
   },
   "source": [
    "Значение в массиве или объекте может быть:\n",
    "* Числом (целым или с плавающей точкой)\n",
    "* Строкой (в двойных кавычках)\n",
    "* Логическим значением (true или false)\n",
    "* Другим массивом (заключенным в квадратные скобки)\n",
    "* Другим объектом (заключенным в фигурные скобки)\n",
    "* Значением null\n",
    "\n",
    "Чтобы включить в строку специальные символы (например, кавычку), их нужно экранировать с помощью `\\`, например, `\\\"` или `\\r\\n`. Наглядные правила построения JSON-строки можно посмотреть на [официальном сайте](http://www.json.org/), если захочется.\n",
    "\n",
    "Может показаться, что это вообще-то все и так очень похоже на обычный питон. Но это не так. Во-первых, JSON – это не исполняемый код, а просто текст. Во-вторых, очень часто запись валидного питоновского словаря или массива не будет являться валидной записью в формате JSON. <br>Например, это не JSON, но при этом словарь: `{(1, 'a'): u'12345'}`.\n",
    "\n",
    "**Сводная таблица конвертации данных Python в JSON**:\n",
    "\n",
    "|    Python   |  JSON  |\n",
    "|:-----------:|:------:|\n",
    "| dict        | object |\n",
    "| list, tuple | array  |\n",
    "| str         | string |\n",
    "| int, float  | number |\n",
    "| True        | true   |\n",
    "| False       | false  |\n",
    "| None        | null   |\n",
    "\n",
    "Вот еще пример строки json, посложнее:\n",
    "```json\n",
    "{\"organisation\": \"Python Software Foundation\",\n",
    " \"officers\": [\n",
    "            {\"first_name\": \"Guido\", \"last_name\":\"Rossum\", \"position\":\"president\"},\n",
    "            {\"first_name\": \"Diana\", \"last_name\":\"Clarke\", \"position\":\"chair\"},\n",
    "            {\"first_name\": \"Naomi\", \"last_name\":\"Ceder\", \"position\":\"vice chair\"},\n",
    "            {\"first_name\": \"Van\", \"last_name\":\"Lindberg\", \"position\":\"vice chair\"},\n",
    "            {\"first_name\": \"Ewa\", \"last_name\":\"Jodlowska\", \"position\":\"director of operations\"}\n",
    "            ],\n",
    "\"type\": \"non-profit\",\n",
    "\"country\": \"USA\",\n",
    "\"founded\": 2001,\n",
    "\"members\": 244,\n",
    "\"budget\": 750000,\n",
    "\"url\": \"www.python.org/psf/\"}\n",
    "```\n",
    "\n"
   ]
  },
  {
   "cell_type": "markdown",
   "metadata": {
    "id": "u0HjWKhi0N0J"
   },
   "source": [
    "## Модуль `json`\n",
    "#### Чтение:\n",
    "Для чтения в модуле `json` есть два метода:\n",
    "- `json.load()` – метод считывает **файл** в формате JSON и возвращает объекты Python. У этой функции один обязательный аргумент – файл.\n",
    "- `json.loads()` – метод считывает **строку** в формате JSON и возвращает объекты Python. У этой функции один обязательный аргумент – строка.\n",
    "\n",
    "#### Запись:\n",
    "Для записи информации в формате JSON в модуле `json` также два метода:\n",
    "- `json.dump()` – метод **записывает объект Python в файл** в формате JSON. У этой функции два обязательных аргумента – файл и объект питона.\n",
    "- `json.dumps()` – **превращает** питоновский словарь или массив **в строку JSON**. У этой функции один обязательный аргумент – словарь или массив.\n",
    "\n",
    "\n",
    "Под словом \"файл\" в данном случае имеется в виду любой файло-подобный объект – собственно файл, или стандартный ввод-вывод, или даже запросы, которые мы отправляем через `urllib.request`, то есть такие объекты, к которым можно применить метод `.read()`.\n",
    "\n",
    "## Пример\n",
    "\n",
    "Попробуем превратить нашу строку в объекты питона:"
   ]
  },
  {
   "cell_type": "code",
   "execution_count": 6,
   "metadata": {
    "id": "TP4MYkKGC2PG"
   },
   "outputs": [
    {
     "name": "stderr",
     "output_type": "stream",
     "text": [
      "3:80: E501 line too long (98 > 79 characters)\n",
      "4:80: E501 line too long (94 > 79 characters)\n",
      "5:80: E501 line too long (98 > 79 characters)\n",
      "6:80: E501 line too long (99 > 79 characters)\n",
      "7:80: E501 line too long (111 > 79 characters)\n"
     ]
    }
   ],
   "source": [
    "json_string = \"\"\"{\"organisation\": \"Python Software Foundation\",\n",
    "                 \"officers\": [\n",
    "                            {\"first_name\": \"Guido\", \"last_name\":\"Rossum\", \"position\":\"president\"},\n",
    "                            {\"first_name\": \"Diana\", \"last_name\":\"Clarke\", \"position\":\"chair\"},\n",
    "                            {\"first_name\": \"Naomi\", \"last_name\":\"Ceder\", \"position\":\"vice chair\"},\n",
    "                            {\"first_name\": \"Van\", \"last_name\":\"Lindberg\", \"position\":\"vice chair\"},\n",
    "                            {\"first_name\": \"Ewa\", \"last_name\":\"Jodlowska\", \"position\":\"director of operations\"}\n",
    "                            ],\n",
    "                \"type\": \"non-profit\",\n",
    "                \"country\": \"USA\",\n",
    "                \"founded\": 2001,\n",
    "                \"members\": 244,\n",
    "                \"budget\": 750000,\n",
    "                \"url\": \"www.python.org/psf/\"}\"\"\""
   ]
  },
  {
   "cell_type": "code",
   "execution_count": 7,
   "metadata": {
    "colab": {
     "base_uri": "https://localhost:8080/"
    },
    "id": "iO6nL9i2C2PG",
    "outputId": "4d93ab0b-cb96-4e7c-e906-176809af2e32"
   },
   "outputs": [
    {
     "name": "stdout",
     "output_type": "stream",
     "text": [
      "<class 'dict'>\n"
     ]
    }
   ],
   "source": [
    "import json\n",
    "\n",
    "data = json.loads(json_string)\n",
    "# распечатаем тип объекта и убедимся, что теперь это не строка, а словарь\n",
    "\n",
    "print(type(data))"
   ]
  },
  {
   "cell_type": "code",
   "execution_count": 8,
   "metadata": {
    "colab": {
     "base_uri": "https://localhost:8080/"
    },
    "id": "mU1c0mGCC2PH",
    "outputId": "0946eea6-a146-49b9-edca-255249904c98"
   },
   "outputs": [
    {
     "name": "stdout",
     "output_type": "stream",
     "text": [
      "{'budget': 750000,\n",
      " 'country': 'USA',\n",
      " 'founded': 2001,\n",
      " 'members': 244,\n",
      " 'officers': [{'first_name': 'Guido',\n",
      "               'last_name': 'Rossum',\n",
      "               'position': 'president'},\n",
      "              {'first_name': 'Diana',\n",
      "               'last_name': 'Clarke',\n",
      "               'position': 'chair'},\n",
      "              {'first_name': 'Naomi',\n",
      "               'last_name': 'Ceder',\n",
      "               'position': 'vice chair'},\n",
      "              {'first_name': 'Van',\n",
      "               'last_name': 'Lindberg',\n",
      "               'position': 'vice chair'},\n",
      "              {'first_name': 'Ewa',\n",
      "               'last_name': 'Jodlowska',\n",
      "               'position': 'director of operations'}],\n",
      " 'organisation': 'Python Software Foundation',\n",
      " 'type': 'non-profit',\n",
      " 'url': 'www.python.org/psf/'}\n"
     ]
    }
   ],
   "source": [
    "from pprint import pprint  # pretty-printer\n",
    "\n",
    "pprint(data)  # посмотрим на сам этот словарь"
   ]
  },
  {
   "cell_type": "code",
   "execution_count": 9,
   "metadata": {
    "colab": {
     "base_uri": "https://localhost:8080/"
    },
    "id": "MDPomOKYC2PH",
    "outputId": "61760870-d616-4559-cd46-45a30bb64d38"
   },
   "outputs": [
    {
     "name": "stdout",
     "output_type": "stream",
     "text": [
      "organisation officers type country founded members budget url "
     ]
    }
   ],
   "source": [
    "# и попробуем поработать с этим словарем. например, распечатаем его ключи.\n",
    "\n",
    "for key in data:\n",
    "    print(key, end=' ')"
   ]
  },
  {
   "cell_type": "code",
   "execution_count": 10,
   "metadata": {
    "colab": {
     "base_uri": "https://localhost:8080/"
    },
    "id": "N51qRvEdC2PH",
    "outputId": "95403e6a-5fb7-4192-b934-94397c7f6d74"
   },
   "outputs": [
    {
     "name": "stdout",
     "output_type": "stream",
     "text": [
      "<class 'str'>\n"
     ]
    }
   ],
   "source": [
    "# у нас есть питоновский словарь, который мы хотим сохранить в виде строки json\n",
    "\n",
    "d = {\"John\": 51, \"Kate\": 12, \"Bill\": 27}\n",
    "json_string = json.dumps(d)\n",
    "# убедимся, что теперь наши данные превратились в строку\n",
    "\n",
    "print(type(json_string))"
   ]
  },
  {
   "cell_type": "code",
   "execution_count": 11,
   "metadata": {
    "colab": {
     "base_uri": "https://localhost:8080/"
    },
    "id": "TVKZfFSNC2PI",
    "outputId": "9fe1950a-55a7-4ca3-baa0-b415f4339d2f"
   },
   "outputs": [
    {
     "name": "stdout",
     "output_type": "stream",
     "text": [
      "{\"John\": 51, \"Kate\": 12, \"Bill\": 27}\n"
     ]
    }
   ],
   "source": [
    "# распечатаем эту строку\n",
    "\n",
    "print(json_string)"
   ]
  },
  {
   "cell_type": "code",
   "execution_count": 12,
   "metadata": {
    "colab": {
     "base_uri": "https://localhost:8080/"
    },
    "id": "X9avEAPwC2PI",
    "outputId": "aa1aa5c8-ea14-4c56-beff-d69a19982f3c"
   },
   "outputs": [
    {
     "name": "stdout",
     "output_type": "stream",
     "text": [
      "<class 'str'>\n",
      "[\"hello\", \"world\"]\n"
     ]
    }
   ],
   "source": [
    "# то же самое можно делать с массивами\n",
    "\n",
    "arr = ['hello', 'world']\n",
    "json_string = json.dumps(arr)\n",
    "print(type(json_string))\n",
    "print(json_string)"
   ]
  },
  {
   "cell_type": "code",
   "execution_count": 13,
   "metadata": {
    "colab": {
     "base_uri": "https://localhost:8080/",
     "height": 339
    },
    "id": "RPPiekENC2PI",
    "outputId": "a835a1fd-bd9a-47e4-dc90-45eb3887b470"
   },
   "outputs": [
    {
     "ename": "TypeError",
     "evalue": "keys must be str, int, float, bool or None, not tuple",
     "output_type": "error",
     "traceback": [
      "\u001b[0;31m---------------------------------------------------------------------------\u001b[0m",
      "\u001b[0;31mTypeError\u001b[0m                                 Traceback (most recent call last)",
      "Cell \u001b[0;32mIn[13], line 4\u001b[0m\n\u001b[1;32m      1\u001b[0m \u001b[38;5;66;03m# убедимся, что не все питоновские правильные объекты хорошо вписываются в json\u001b[39;00m\n\u001b[1;32m      3\u001b[0m d \u001b[38;5;241m=\u001b[39m {(\u001b[38;5;124m\"\u001b[39m\u001b[38;5;124mA\u001b[39m\u001b[38;5;124m\"\u001b[39m, \u001b[38;5;241m21\u001b[39m): \u001b[38;5;124m\"\u001b[39m\u001b[38;5;124mJohn\u001b[39m\u001b[38;5;124m\"\u001b[39m}\n\u001b[0;32m----> 4\u001b[0m json_string \u001b[38;5;241m=\u001b[39m json\u001b[38;5;241m.\u001b[39mdumps(d)\n\u001b[1;32m      5\u001b[0m \u001b[38;5;28mprint\u001b[39m(json_string)\n",
      "File \u001b[0;32m~/anaconda3/lib/python3.11/json/__init__.py:231\u001b[0m, in \u001b[0;36mdumps\u001b[0;34m(obj, skipkeys, ensure_ascii, check_circular, allow_nan, cls, indent, separators, default, sort_keys, **kw)\u001b[0m\n\u001b[1;32m    226\u001b[0m \u001b[38;5;66;03m# cached encoder\u001b[39;00m\n\u001b[1;32m    227\u001b[0m \u001b[38;5;28;01mif\u001b[39;00m (\u001b[38;5;129;01mnot\u001b[39;00m skipkeys \u001b[38;5;129;01mand\u001b[39;00m ensure_ascii \u001b[38;5;129;01mand\u001b[39;00m\n\u001b[1;32m    228\u001b[0m     check_circular \u001b[38;5;129;01mand\u001b[39;00m allow_nan \u001b[38;5;129;01mand\u001b[39;00m\n\u001b[1;32m    229\u001b[0m     \u001b[38;5;28mcls\u001b[39m \u001b[38;5;129;01mis\u001b[39;00m \u001b[38;5;28;01mNone\u001b[39;00m \u001b[38;5;129;01mand\u001b[39;00m indent \u001b[38;5;129;01mis\u001b[39;00m \u001b[38;5;28;01mNone\u001b[39;00m \u001b[38;5;129;01mand\u001b[39;00m separators \u001b[38;5;129;01mis\u001b[39;00m \u001b[38;5;28;01mNone\u001b[39;00m \u001b[38;5;129;01mand\u001b[39;00m\n\u001b[1;32m    230\u001b[0m     default \u001b[38;5;129;01mis\u001b[39;00m \u001b[38;5;28;01mNone\u001b[39;00m \u001b[38;5;129;01mand\u001b[39;00m \u001b[38;5;129;01mnot\u001b[39;00m sort_keys \u001b[38;5;129;01mand\u001b[39;00m \u001b[38;5;129;01mnot\u001b[39;00m kw):\n\u001b[0;32m--> 231\u001b[0m     \u001b[38;5;28;01mreturn\u001b[39;00m _default_encoder\u001b[38;5;241m.\u001b[39mencode(obj)\n\u001b[1;32m    232\u001b[0m \u001b[38;5;28;01mif\u001b[39;00m \u001b[38;5;28mcls\u001b[39m \u001b[38;5;129;01mis\u001b[39;00m \u001b[38;5;28;01mNone\u001b[39;00m:\n\u001b[1;32m    233\u001b[0m     \u001b[38;5;28mcls\u001b[39m \u001b[38;5;241m=\u001b[39m JSONEncoder\n",
      "File \u001b[0;32m~/anaconda3/lib/python3.11/json/encoder.py:200\u001b[0m, in \u001b[0;36mJSONEncoder.encode\u001b[0;34m(self, o)\u001b[0m\n\u001b[1;32m    196\u001b[0m         \u001b[38;5;28;01mreturn\u001b[39;00m encode_basestring(o)\n\u001b[1;32m    197\u001b[0m \u001b[38;5;66;03m# This doesn't pass the iterator directly to ''.join() because the\u001b[39;00m\n\u001b[1;32m    198\u001b[0m \u001b[38;5;66;03m# exceptions aren't as detailed.  The list call should be roughly\u001b[39;00m\n\u001b[1;32m    199\u001b[0m \u001b[38;5;66;03m# equivalent to the PySequence_Fast that ''.join() would do.\u001b[39;00m\n\u001b[0;32m--> 200\u001b[0m chunks \u001b[38;5;241m=\u001b[39m \u001b[38;5;28mself\u001b[39m\u001b[38;5;241m.\u001b[39miterencode(o, _one_shot\u001b[38;5;241m=\u001b[39m\u001b[38;5;28;01mTrue\u001b[39;00m)\n\u001b[1;32m    201\u001b[0m \u001b[38;5;28;01mif\u001b[39;00m \u001b[38;5;129;01mnot\u001b[39;00m \u001b[38;5;28misinstance\u001b[39m(chunks, (\u001b[38;5;28mlist\u001b[39m, \u001b[38;5;28mtuple\u001b[39m)):\n\u001b[1;32m    202\u001b[0m     chunks \u001b[38;5;241m=\u001b[39m \u001b[38;5;28mlist\u001b[39m(chunks)\n",
      "File \u001b[0;32m~/anaconda3/lib/python3.11/json/encoder.py:258\u001b[0m, in \u001b[0;36mJSONEncoder.iterencode\u001b[0;34m(self, o, _one_shot)\u001b[0m\n\u001b[1;32m    253\u001b[0m \u001b[38;5;28;01melse\u001b[39;00m:\n\u001b[1;32m    254\u001b[0m     _iterencode \u001b[38;5;241m=\u001b[39m _make_iterencode(\n\u001b[1;32m    255\u001b[0m         markers, \u001b[38;5;28mself\u001b[39m\u001b[38;5;241m.\u001b[39mdefault, _encoder, \u001b[38;5;28mself\u001b[39m\u001b[38;5;241m.\u001b[39mindent, floatstr,\n\u001b[1;32m    256\u001b[0m         \u001b[38;5;28mself\u001b[39m\u001b[38;5;241m.\u001b[39mkey_separator, \u001b[38;5;28mself\u001b[39m\u001b[38;5;241m.\u001b[39mitem_separator, \u001b[38;5;28mself\u001b[39m\u001b[38;5;241m.\u001b[39msort_keys,\n\u001b[1;32m    257\u001b[0m         \u001b[38;5;28mself\u001b[39m\u001b[38;5;241m.\u001b[39mskipkeys, _one_shot)\n\u001b[0;32m--> 258\u001b[0m \u001b[38;5;28;01mreturn\u001b[39;00m _iterencode(o, \u001b[38;5;241m0\u001b[39m)\n",
      "\u001b[0;31mTypeError\u001b[0m: keys must be str, int, float, bool or None, not tuple"
     ]
    }
   ],
   "source": [
    "# убедимся, что не все питоновские правильные объекты хорошо вписываются в json\n",
    "\n",
    "d = {(\"A\", 21): \"John\"}\n",
    "json_string = json.dumps(d)\n",
    "print(json_string)"
   ]
  },
  {
   "cell_type": "markdown",
   "metadata": {
    "id": "2z4-vsTH0Iyu"
   },
   "source": [
    "#### Дополнительные параметры методов записи\n",
    "1. `indent` – уровень отступа (может быть равен числу или строке). Он позволяет сделать так, чтобы данные записывались в файл с человекопонятным форматированием. Тогда файл можно будет открыть текстовым редактором и посмотреть глазами, что там внутри.\n",
    "2. `ensure_ascii` – гарантия, что все не-ASCII символы (например, вся кириллица) в выводе будут экранированы. Дело в том, что если в ваших данных есть не-ASCII символы, то модуль JSON по умолчанию кодирует их специальным образом, используя при этом только символы из ограниченного набора, читающиеся одинаково почти во всех кодировках. Это хорошо при переносе данных из одной программы в другую: ничего не собьётся и не потерятся. Но это плохо для человека: понять, что в таком файле, станет невозможно.\n",
    "3. `sort_keys` – сортировка ключей (думаю, пояснять не нужно).\n",
    "4. `skipkeys` – ключи словаря не базового типа будут проигнорированы. Это существует для случаев типа строкой выше, где ключом словаря быть кортеж, что вызвало `TypeError`."
   ]
  },
  {
   "cell_type": "code",
   "execution_count": 14,
   "metadata": {
    "id": "ghGFe34YC2PJ"
   },
   "outputs": [],
   "source": [
    "# вот такой код просто сбросит словарь в файл:\n",
    "\n",
    "d = {'абв': 1, 'где': 2, 'ёжз': 3}\n",
    "\n",
    "with open('data.json', 'w', encoding='utf-8') as f:\n",
    "    json.dump(d, f)"
   ]
  },
  {
   "cell_type": "markdown",
   "metadata": {
    "id": "YW4F1LXOFyeM"
   },
   "source": [
    "Если заглянуть в файл, то результат будет таким:\n",
    "\n",
    "\n",
    "```json\n",
    "{\"\\u0433\\u0434\\u0435\": 2, \"\\u0430\\u0431\\u0432\": 1, \"\\u0451\\u0436\\u0437\": 3}\n",
    "```"
   ]
  },
  {
   "cell_type": "code",
   "execution_count": 15,
   "metadata": {
    "id": "j81No6iWC2PJ"
   },
   "outputs": [],
   "source": [
    "# добавим параметр ensure_ascii:\n",
    "\n",
    "with open('data.json', 'w', encoding='utf-8') as f:\n",
    "    json.dump(d, f, ensure_ascii=False)"
   ]
  },
  {
   "cell_type": "markdown",
   "metadata": {
    "id": "0v5ueTlwGBnf"
   },
   "source": [
    "Результат в файле:\n",
    "\n",
    "\n",
    "```json\n",
    "{\"где\": 2, \"абв\": 1, \"ёжз\": 3}\n",
    "```"
   ]
  },
  {
   "cell_type": "code",
   "execution_count": 16,
   "metadata": {
    "id": "6-9OvARWC2PJ"
   },
   "outputs": [],
   "source": [
    "# добавим indent (числовое значение - это число пробелов в отступах):\n",
    "\n",
    "with open('data.json', 'w', encoding='utf-8') as f:\n",
    "    json.dump(d, f, ensure_ascii=False, indent=4)"
   ]
  },
  {
   "cell_type": "markdown",
   "metadata": {
    "id": "RaKegYzNGN6F"
   },
   "source": [
    "Результат в файле:\n",
    "\n",
    "\n",
    "```json\n",
    "{\n",
    "    \"абв\": 1,\n",
    "    \"где\": 2,\n",
    "    \"ёжз\": 3\n",
    "}\n",
    "```"
   ]
  },
  {
   "cell_type": "code",
   "execution_count": 17,
   "metadata": {
    "id": "1PGYz9cfN-Sk"
   },
   "outputs": [],
   "source": [
    "# добавим кортеж в качестве одного из ключей и skipkeys:\n",
    "\n",
    "d = {(\"A\", 21): \"John\", 'абв': 1, 'где': 2, 'ёжз': 3}\n",
    "\n",
    "with open('data.json', 'w', encoding='utf-8') as f:\n",
    "    json.dump(d, f, ensure_ascii=False, indent=4, skipkeys=True)"
   ]
  },
  {
   "cell_type": "markdown",
   "metadata": {
    "id": "_xqGMmduOTFB"
   },
   "source": [
    "Результат в файле все тот же, но ошибки `TypeError` больше нет:\n",
    "\n",
    "\n",
    "```json\n",
    "{\n",
    "    \"абв\": 1,\n",
    "    \"где\": 2,\n",
    "    \"ёжз\": 3\n",
    "}\n",
    "```"
   ]
  },
  {
   "cell_type": "markdown",
   "metadata": {
    "id": "Lmk8ohHCC2PJ"
   },
   "source": [
    "## Как проверить валидность JSON?\n",
    "Когда нам приходится иметь дело с большими данными, заметить ошибку в JSON-файле – какую-нибудь недостающую скобочку или кавычку – не всегда легко. Если вы видите ошибку чтения / кодирования / декодирования JSON, но не можете ее найти, или просто хотите подстраховаться, можно проверить текст на одном из следующих сайтов (проще всего самый первый):\n",
    "* [JSONLint](https://jsonlint.com)\n",
    "* [JSONCompare](https://jsoncompare.com)\n",
    "* [JSON Schema validator](http://www.jsonschemavalidator.net)\n",
    "* [JSON Formatter & Validator](https://jsonformatter.curiousconcept.com)"
   ]
  },
  {
   "cell_type": "markdown",
   "metadata": {
    "id": "K7DvMnffC2PK"
   },
   "source": [
    "## JSON в дикой природе\n",
    "\n",
    "### 1. Пересылка данных от сервера к браузеру\n",
    "\n",
    "Наиболее частое распространенное использование JSON – пересылка данных от сервера к браузеру. Например, когда сервер отправляет браузеру веб-страницу, часто к странице прикладывается JSON c дополнительной информацией. Иногда весь ответ браузера состоит из JSON."
   ]
  },
  {
   "cell_type": "markdown",
   "metadata": {
    "id": "aF6Jrd9LC2PK"
   },
   "source": [
    "Разберем в качестве примера GitHub. Если отправлять на GitHub специальные запросы по особым ссылкам, то в ответ сервер GitHub будет присылать JSON-строку с информацией. Например, можно посмотреть количество фолловеров или репозиториев у пользователя."
   ]
  },
  {
   "cell_type": "code",
   "execution_count": 18,
   "metadata": {
    "colab": {
     "base_uri": "https://localhost:8080/"
    },
    "id": "DrHJnmxvC2PK",
    "outputId": "c73e4e46-e07a-4959-c36f-256f39ff379a"
   },
   "outputs": [
    {
     "name": "stderr",
     "output_type": "stream",
     "text": [
      "6:80: E501 line too long (100 > 79 characters)\n",
      "8:80: E501 line too long (81 > 79 characters)\n",
      "10:24: E261 at least two spaces before inline comment\n"
     ]
    },
    {
     "name": "stdout",
     "output_type": "stream",
     "text": [
      "30\n",
      "2017-MAG_R_course\n",
      "2017_ANDAN_course\n",
      "2017_ConCorT_lingtypology\n",
      "2017_HSE_SPb_R_introduction\n",
      "2017_m_Instrumental_Phonetics\n",
      "2017_WCAD_talk\n",
      "2017_Zilo_fieldwork_prezi\n",
      "2018-MAG_R_course\n",
      "2018.04.21_MSU_acceptability\n",
      "2018.05.11_Yerevan_Zilo_classes\n",
      "2018.07.29_ANDAN_Agreement\n",
      "2018.07.30_LINGDAN_Praat_Elan\n",
      "2018.08.02_ANDAN_Shiny\n",
      "2018.11.22_SPb_HSE_Cartography\n",
      "2018.11.23_Bayesian_Typology\n",
      "2018.11.24-25_PublicData_hakathon_8\n",
      "2018.12.19_City_data_Lingtypology\n",
      "2018_18.03.20_lingtypology_news\n",
      "2018_18.04.28_Grammaticality_shiny\n",
      "2018_adyghe_phonology\n",
      "2018_ANDAN_course_winter\n",
      "2018_Andia_adjectives\n",
      "2018_Andi_relative_clause\n",
      "2018_Areal_Patterns\n",
      "2018_clearspending_hackathon_59\n",
      "2018_clearspending_hackathon_63\n",
      "2018_data_analysis_for_linguists\n",
      "2018_Digital_literacy\n",
      "2018_FE_R_statistics\n",
      "2018_lingdan_organisation\n"
     ]
    }
   ],
   "source": [
    "import json\n",
    "import urllib.request\n",
    "\n",
    "user = \"agricolamz\"  # пользователь, про которого мы хотим что-то узнать\n",
    "url = 'https://api.github.com/users/%s/repos' % user\n",
    "# по этой ссылке мы будем доставать JSON, попробуйте вставить ссылку в браузер и посмотреть, что там\n",
    "\n",
    "response = urllib.request.urlopen(url)  # посылаем серверу запрос и достаем ответ\n",
    "text = response.read().decode('utf-8')  # читаем ответ в строку\n",
    "data = json.loads(text) # превращаем джейсон-строку в объекты питона\n",
    "\n",
    "print(len(data))  # можно распечатать, сколько у пользователя репозиториев\n",
    "for i in data:\n",
    "    print(i[\"name\"])  # и распечатать названия всех репозиториев"
   ]
  },
  {
   "cell_type": "markdown",
   "metadata": {
    "id": "UMnA3w3HC2PK"
   },
   "source": [
    "### 2. Выдача результатов морфологического анлиза текста\n",
    "\n",
    "Дополнительные данные к семинару: https://yadi.sk/d/VY22VVU1JESaMA\n",
    "\n",
    "JSON объектами могут быть и не только ответы страниц. MyStem (консольный) может выдавать данные в формате JSON, но делает это не совсем честно: каждая строчка – это JSON, но файл целиком JSON'ом не является\n",
    "Текстовый файл в каждой строке которого сохранен JSON называется JSONL (JSON Line) и обозначается расширением `.jsonl`"
   ]
  },
  {
   "cell_type": "code",
   "execution_count": 19,
   "metadata": {
    "colab": {
     "base_uri": "https://localhost:8080/"
    },
    "id": "1TqfRGST62pT",
    "outputId": "c753d714-bcde-47d9-c41e-050170e4d216"
   },
   "outputs": [
    {
     "name": "stdout",
     "output_type": "stream",
     "text": [
      "--2025-09-04 21:53:32--  https://raw.githubusercontent.com/hse-ling-python/seminars/master/json_data/kap_dochka_mystem.json\n",
      "Распознаётся raw.githubusercontent.com (raw.githubusercontent.com)… 185.199.111.133, 185.199.108.133, 185.199.109.133, ...\n",
      "Подключение к raw.githubusercontent.com (raw.githubusercontent.com)|185.199.111.133|:443... соединение установлено.\n",
      "HTTP-запрос отправлен. Ожидание ответа… 200 OK\n",
      "Длина: 3561162 (3,4M) [text/plain]\n",
      "Сохранение в: «kap_dochka_mystem.json.1»\n",
      "\n",
      "kap_dochka_mystem.j 100%[===================>]   3,40M  6,65MB/s    за 0,5s    \n",
      "\n",
      "2025-09-04 21:53:32 (6,65 MB/s) - «kap_dochka_mystem.json.1» сохранён [3561162/3561162]\n",
      "\n"
     ]
    }
   ],
   "source": [
    "!wget https://raw.githubusercontent.com/hse-ling-python/seminars/master/json_data/kap_dochka_mystem.json"
   ]
  },
  {
   "cell_type": "code",
   "execution_count": 20,
   "metadata": {
    "id": "l1pE5yn_C2PK"
   },
   "outputs": [],
   "source": [
    "full_text = []\n",
    "\n",
    "for line in open('kap_dochka_mystem.json', 'r', encoding='utf-8'):\n",
    "    full_text.append(json.loads(line))"
   ]
  },
  {
   "cell_type": "code",
   "execution_count": 21,
   "metadata": {
    "colab": {
     "base_uri": "https://localhost:8080/"
    },
    "id": "hAB9nXFDC2PL",
    "outputId": "ecb8da0e-cf1d-4465-aec1-012779fc1a8c"
   },
   "outputs": [
    {
     "data": {
      "text/plain": [
       "835"
      ]
     },
     "execution_count": 21,
     "metadata": {},
     "output_type": "execute_result"
    }
   ],
   "source": [
    "len(full_text)"
   ]
  },
  {
   "cell_type": "code",
   "execution_count": 22,
   "metadata": {
    "colab": {
     "base_uri": "https://localhost:8080/"
    },
    "id": "J7nrGXHEC2PL",
    "outputId": "8e7ccdf4-4abc-4c13-c5a5-2764c6e81b95"
   },
   "outputs": [
    {
     "data": {
      "text/plain": [
       "[{'analysis': [{'lex': 'капитанский', 'gr': 'A=nom,sg,plen,f'}],\n",
       "  'text': 'КАПИТАНСКАЯ'},\n",
       " {'text': ' '},\n",
       " {'analysis': [{'lex': 'дочка', 'gr': 'S,f,anim=nom,sg'}], 'text': 'ДОЧКА'},\n",
       " {'text': '\\n'}]"
      ]
     },
     "execution_count": 22,
     "metadata": {},
     "output_type": "execute_result"
    }
   ],
   "source": [
    "full_text[0]"
   ]
  },
  {
   "cell_type": "markdown",
   "metadata": {
    "id": "BIbIBgQ4C2PL"
   },
   "source": [
    "**Задание:** достаньте все леммы и сделайте частотный словарь"
   ]
  },
  {
   "cell_type": "code",
   "execution_count": null,
   "metadata": {
    "id": "8cQOayvAC2PL"
   },
   "outputs": [],
   "source": []
  },
  {
   "cell_type": "markdown",
   "metadata": {
    "id": "rUP_dUfmC2PL"
   },
   "source": [
    "### 3. Больше примеров\n",
    "\n",
    "Вообще много у каких сайтов есть API для доставания JSON-файлов. Например, у твиттера, ютуба и accuweather."
   ]
  },
  {
   "cell_type": "markdown",
   "metadata": {
    "id": "kKjfGkosC2PL"
   },
   "source": [
    "#### YouTube API\n",
    "Если будет интересно почитать еще про [возможности этого API](https://developers.google.com/youtube/v3/code_samples/python).<br>Пример получен через сайт с помощью \"try api\" панели [тут](https://developers.google.com/youtube/v3/docs/commentThreads/list)."
   ]
  },
  {
   "cell_type": "code",
   "execution_count": 23,
   "metadata": {
    "id": "n36OV4li7LZX"
   },
   "outputs": [],
   "source": [
    "!wget https://raw.githubusercontent.com/hse-ling-python/seminars/master/json_data/youtube_comments.json"
   ]
  },
  {
   "cell_type": "code",
   "execution_count": 24,
   "metadata": {
    "id": "uf93rKSZC2PM"
   },
   "outputs": [],
   "source": [
    "with open('youtube_comments.json', 'r', encoding='utf-8') as f:\n",
    "    youtube_comments = json.load(f)"
   ]
  },
  {
   "cell_type": "code",
   "execution_count": 25,
   "metadata": {
    "colab": {
     "base_uri": "https://localhost:8080/"
    },
    "id": "4QzMXE3RC2PM",
    "outputId": "409467e8-f16f-4faf-8513-a477a4b5b06a"
   },
   "outputs": [
    {
     "data": {
      "text/plain": [
       "dict"
      ]
     },
     "execution_count": 25,
     "metadata": {},
     "output_type": "execute_result"
    }
   ],
   "source": [
    "type(youtube_comments)"
   ]
  },
  {
   "cell_type": "markdown",
   "metadata": {
    "id": "-4VItMl6C2PM"
   },
   "source": [
    "**Задание:**\n",
    "1. Посмотрите, как устроен этот словарь с точки зрения структуры\n",
    "2. Какие данные о комментариях есть в словаре?\n",
    "3. Вытащите все комментарии\n",
    "4. Разделите по пробелам и найдите 10 самых частотных слов в этих комментариях. (flashback в предыдущий семинар – `Counter`)"
   ]
  },
  {
   "cell_type": "code",
   "execution_count": null,
   "metadata": {
    "id": "cE18qFMiC2PN"
   },
   "outputs": [],
   "source": []
  },
  {
   "cell_type": "markdown",
   "metadata": {
    "id": "9fPhwOvwC2PN"
   },
   "source": [
    "#### Accuweather JSON API\n",
    "\n",
    "Сервер accuweather зарабатывает на своем API по извлечению JSON-файлов, потому что так кто угодно может добавлять виджеты с погодой на свои сайты. Поэтому там нужно зарегестрироваться на free trial, чтобы получать JSON ответы на запросы. Мы выкачали для вас прогноз погоды на 5 дней в Москве (файл `accuweather_5day_moscow.json`)\n",
    "\n",
    "Но если вам будет интересно, как это делать самим, то вот алгоритм действий:\n",
    "\n",
    "   1. Register in accuweather\n",
    "   2. Create an app (set any random parameters it does not matter)\n",
    "   3. Here is your API key!\n",
    "   4. Search location of interest in accuweather to find out what it's key is (look in url).<br>e.g. `https://www.accuweather.com/ru/ru/moscow/294021/weather-forecast/294021` --> Moscow's location ID is 294021\n",
    "   5. Get your JSON here:<br>`http://dataservice.accuweather.com/forecasts/v1/daily/5day/{LOCATION_KEY}.json?apikey={YOUR_KEY}`"
   ]
  },
  {
   "cell_type": "markdown",
   "metadata": {
    "id": "oaX54pvqC2PR"
   },
   "source": [
    "**Задание:**\n",
    "1. Посчитайте насколько средняя температура за день отличается от средней температуры за ночь\n",
    "2. В какие из дней прогнозируются осадки"
   ]
  },
  {
   "cell_type": "code",
   "execution_count": 26,
   "metadata": {
    "id": "88HaK1ok7VfY"
   },
   "outputs": [],
   "source": [
    "!wget https://raw.githubusercontent.com/hse-ling-python/seminars/master/json_data/accuweather_5day_moscow.json"
   ]
  },
  {
   "cell_type": "code",
   "execution_count": 27,
   "metadata": {
    "colab": {
     "base_uri": "https://localhost:8080/"
    },
    "id": "iFXNqlznC2PR",
    "outputId": "5fa8d8c4-bd66-46b6-abb2-eac79b6e2e29"
   },
   "outputs": [
    {
     "data": {
      "text/plain": [
       "{'Date': '2019-09-24T07:00:00+03:00',\n",
       " 'EpochDate': 1569297600,\n",
       " 'Temperature': {'Minimum': {'Value': 33.0, 'Unit': 'F', 'UnitType': 18},\n",
       "  'Maximum': {'Value': 46.0, 'Unit': 'F', 'UnitType': 18}},\n",
       " 'Day': {'Icon': 4,\n",
       "  'IconPhrase': 'Intermittent clouds',\n",
       "  'HasPrecipitation': True,\n",
       "  'PrecipitationType': 'Rain',\n",
       "  'PrecipitationIntensity': 'Light'},\n",
       " 'Night': {'Icon': 38,\n",
       "  'IconPhrase': 'Mostly cloudy',\n",
       "  'HasPrecipitation': False},\n",
       " 'Sources': ['AccuWeather'],\n",
       " 'MobileLink': 'http://m.accuweather.com/en/ru/moscow/294021/daily-weather-forecast/294021?day=1&lang=en-us',\n",
       " 'Link': 'http://www.accuweather.com/en/ru/moscow/294021/daily-weather-forecast/294021?day=1&lang=en-us'}"
      ]
     },
     "execution_count": 27,
     "metadata": {},
     "output_type": "execute_result"
    }
   ],
   "source": [
    "with open('accuweather_5day_moscow.json', 'r', encoding='utf-8') as f:\n",
    "    k = json.load(f)\n",
    "\n",
    "# посмотрим как устроен прогноз на один день\n",
    "k[\"DailyForecasts\"][0]"
   ]
  },
  {
   "cell_type": "markdown",
   "metadata": {
    "id": "41fyOzuDC2PR"
   },
   "source": [
    "## Твиты\n",
    "\n",
    "[Это](https://developer.twitter.com/en/docs/tweets/data-dictionary/overview/tweet-object) документация, где объясняется, как устроен JSON в твиттере."
   ]
  },
  {
   "cell_type": "code",
   "execution_count": 28,
   "metadata": {
    "id": "VzzCVpeo7tXU"
   },
   "outputs": [],
   "source": [
    "!wget https://raw.githubusercontent.com/hse-ling-python/seminars/master/json_data/twitter.json"
   ]
  },
  {
   "cell_type": "code",
   "execution_count": 29,
   "metadata": {
    "id": "-1a2_UTCC2PR"
   },
   "outputs": [],
   "source": [
    "# конкретно в этом файле опять ситуация как с майстемом\n",
    "twitter = []\n",
    "for line in open('twitter.json'):\n",
    "    twitter.append(json.loads(line))"
   ]
  },
  {
   "cell_type": "code",
   "execution_count": 30,
   "metadata": {
    "colab": {
     "base_uri": "https://localhost:8080/"
    },
    "id": "ZjNRNc3UC2PR",
    "outputId": "8363f7ad-5151-42c7-be7b-bfd43b45acde"
   },
   "outputs": [
    {
     "data": {
      "text/plain": [
       "2556"
      ]
     },
     "execution_count": 30,
     "metadata": {},
     "output_type": "execute_result"
    }
   ],
   "source": [
    "# сколько у нас твитов?\n",
    "len(twitter)"
   ]
  },
  {
   "cell_type": "markdown",
   "metadata": {
    "id": "MJx-nZ8FC2PS"
   },
   "source": [
    "Есть два варианта твитов: удаленные и нормальные, они имеют разную структуру."
   ]
  },
  {
   "cell_type": "code",
   "execution_count": 31,
   "metadata": {
    "colab": {
     "base_uri": "https://localhost:8080/"
    },
    "id": "NwMsJ32uC2PS",
    "outputId": "5758fce6-853b-4adf-e2d5-fcdb68823aa3"
   },
   "outputs": [
    {
     "data": {
      "text/plain": [
       "{'created_at': 'Wed Oct 03 05:00:00 +0000 2018',\n",
       " 'id': 1047350533454012417,\n",
       " 'id_str': '1047350533454012417',\n",
       " 'text': 'RT @ELISSEsifieds: Nothing can stop us from supporting you. When we say all the way, it will be indeed. Hello Elissesifieds Cebu. \\nThank yo…',\n",
       " 'source': '<a href=\"http://twitter.com/download/iphone\" rel=\"nofollow\">Twitter for iPhone</a>',\n",
       " 'truncated': False,\n",
       " 'in_reply_to_status_id': None,\n",
       " 'in_reply_to_status_id_str': None,\n",
       " 'in_reply_to_user_id': None,\n",
       " 'in_reply_to_user_id_str': None,\n",
       " 'in_reply_to_screen_name': None,\n",
       " 'user': {'id': 937522240488443905,\n",
       "  'id_str': '937522240488443905',\n",
       "  'name': \"DonnaArabe'Efieds🇸🇦\",\n",
       "  'screen_name': 'ArabiDonna',\n",
       "  'location': 'Jubail Industrial City, Kingdo',\n",
       "  'url': None,\n",
       "  'description': \"Don't think too hard,just have fun with it.\",\n",
       "  'translator_type': 'none',\n",
       "  'protected': False,\n",
       "  'verified': False,\n",
       "  'followers_count': 104,\n",
       "  'friends_count': 132,\n",
       "  'listed_count': 0,\n",
       "  'favourites_count': 8372,\n",
       "  'statuses_count': 6896,\n",
       "  'created_at': 'Mon Dec 04 03:21:35 +0000 2017',\n",
       "  'utc_offset': None,\n",
       "  'time_zone': None,\n",
       "  'geo_enabled': False,\n",
       "  'lang': 'en',\n",
       "  'contributors_enabled': False,\n",
       "  'is_translator': False,\n",
       "  'profile_background_color': 'F5F8FA',\n",
       "  'profile_background_image_url': '',\n",
       "  'profile_background_image_url_https': '',\n",
       "  'profile_background_tile': False,\n",
       "  'profile_link_color': '1DA1F2',\n",
       "  'profile_sidebar_border_color': 'C0DEED',\n",
       "  'profile_sidebar_fill_color': 'DDEEF6',\n",
       "  'profile_text_color': '333333',\n",
       "  'profile_use_background_image': True,\n",
       "  'profile_image_url': 'http://pbs.twimg.com/profile_images/1047119228942393344/Px7FPs-3_normal.jpg',\n",
       "  'profile_image_url_https': 'https://pbs.twimg.com/profile_images/1047119228942393344/Px7FPs-3_normal.jpg',\n",
       "  'profile_banner_url': 'https://pbs.twimg.com/profile_banners/937522240488443905/1538487685',\n",
       "  'default_profile': True,\n",
       "  'default_profile_image': False,\n",
       "  'following': None,\n",
       "  'follow_request_sent': None,\n",
       "  'notifications': None},\n",
       " 'geo': None,\n",
       " 'coordinates': None,\n",
       " 'place': None,\n",
       " 'contributors': None,\n",
       " 'retweeted_status': {'created_at': 'Wed Oct 03 04:56:30 +0000 2018',\n",
       "  'id': 1047349651915960322,\n",
       "  'id_str': '1047349651915960322',\n",
       "  'text': 'Nothing can stop us from supporting you. When we say all the way, it will be indeed. Hello Elissesifieds Cebu. \\nTha… https://t.co/Crn6xJlhJQ',\n",
       "  'display_text_range': [0, 140],\n",
       "  'source': '<a href=\"http://twitter.com/download/android\" rel=\"nofollow\">Twitter for Android</a>',\n",
       "  'truncated': True,\n",
       "  'in_reply_to_status_id': None,\n",
       "  'in_reply_to_status_id_str': None,\n",
       "  'in_reply_to_user_id': None,\n",
       "  'in_reply_to_user_id_str': None,\n",
       "  'in_reply_to_screen_name': None,\n",
       "  'user': {'id': 1424795701,\n",
       "   'id_str': '1424795701',\n",
       "   'name': 'ELISSEsifieds OFC',\n",
       "   'screen_name': 'ELISSEsifieds',\n",
       "   'location': 'Followed by Elisse : 08/19/13',\n",
       "   'url': 'http://Facebook.com/ELISSEsifiedOfficial',\n",
       "   'description': 'OFC Fansclub of @ElisseJoson ♡ Acknowledged and Recognized by Dreamscape .  (Be ELISSEsifieds just click the link and fill:http://bit.ly/1U8V5eR )',\n",
       "   'translator_type': 'none',\n",
       "   'protected': False,\n",
       "   'verified': False,\n",
       "   'followers_count': 14110,\n",
       "   'friends_count': 277,\n",
       "   'listed_count': 2,\n",
       "   'favourites_count': 15075,\n",
       "   'statuses_count': 42618,\n",
       "   'created_at': 'Mon May 13 06:39:55 +0000 2013',\n",
       "   'utc_offset': None,\n",
       "   'time_zone': None,\n",
       "   'geo_enabled': True,\n",
       "   'lang': 'en',\n",
       "   'contributors_enabled': False,\n",
       "   'is_translator': False,\n",
       "   'profile_background_color': 'C0DEED',\n",
       "   'profile_background_image_url': 'http://abs.twimg.com/images/themes/theme1/bg.png',\n",
       "   'profile_background_image_url_https': 'https://abs.twimg.com/images/themes/theme1/bg.png',\n",
       "   'profile_background_tile': True,\n",
       "   'profile_link_color': 'F099F0',\n",
       "   'profile_sidebar_border_color': 'FFFFFF',\n",
       "   'profile_sidebar_fill_color': 'DDEEF6',\n",
       "   'profile_text_color': '333333',\n",
       "   'profile_use_background_image': True,\n",
       "   'profile_image_url': 'http://pbs.twimg.com/profile_images/975532647349854209/glaBAm_T_normal.jpg',\n",
       "   'profile_image_url_https': 'https://pbs.twimg.com/profile_images/975532647349854209/glaBAm_T_normal.jpg',\n",
       "   'profile_banner_url': 'https://pbs.twimg.com/profile_banners/1424795701/1490279660',\n",
       "   'default_profile': False,\n",
       "   'default_profile_image': False,\n",
       "   'following': None,\n",
       "   'follow_request_sent': None,\n",
       "   'notifications': None},\n",
       "  'geo': None,\n",
       "  'coordinates': None,\n",
       "  'place': None,\n",
       "  'contributors': None,\n",
       "  'is_quote_status': False,\n",
       "  'extended_tweet': {'full_text': 'Nothing can stop us from supporting you. When we say all the way, it will be indeed. Hello Elissesifieds Cebu. \\nThank you guys, for rising so early just to visit Elisse on her last taping day sa humble place nyo💓 https://t.co/cLpJ2ifyGw',\n",
       "   'display_text_range': [0, 212],\n",
       "   'entities': {'hashtags': [],\n",
       "    'urls': [],\n",
       "    'user_mentions': [],\n",
       "    'symbols': [],\n",
       "    'media': [{'id': 1047349579832688641,\n",
       "      'id_str': '1047349579832688641',\n",
       "      'indices': [213, 236],\n",
       "      'media_url': 'http://pbs.twimg.com/media/Doju5M2VAAESKaQ.jpg',\n",
       "      'media_url_https': 'https://pbs.twimg.com/media/Doju5M2VAAESKaQ.jpg',\n",
       "      'url': 'https://t.co/cLpJ2ifyGw',\n",
       "      'display_url': 'pic.twitter.com/cLpJ2ifyGw',\n",
       "      'expanded_url': 'https://twitter.com/ELISSEsifieds/status/1047349651915960322/photo/1',\n",
       "      'type': 'photo',\n",
       "      'sizes': {'large': {'w': 720, 'h': 960, 'resize': 'fit'},\n",
       "       'thumb': {'w': 150, 'h': 150, 'resize': 'crop'},\n",
       "       'medium': {'w': 720, 'h': 960, 'resize': 'fit'},\n",
       "       'small': {'w': 510, 'h': 680, 'resize': 'fit'}}},\n",
       "     {'id': 1047349589253083136,\n",
       "      'id_str': '1047349589253083136',\n",
       "      'indices': [213, 236],\n",
       "      'media_url': 'http://pbs.twimg.com/media/Doju5v8U0AAhr9-.jpg',\n",
       "      'media_url_https': 'https://pbs.twimg.com/media/Doju5v8U0AAhr9-.jpg',\n",
       "      'url': 'https://t.co/cLpJ2ifyGw',\n",
       "      'display_url': 'pic.twitter.com/cLpJ2ifyGw',\n",
       "      'expanded_url': 'https://twitter.com/ELISSEsifieds/status/1047349651915960322/photo/1',\n",
       "      'type': 'photo',\n",
       "      'sizes': {'medium': {'w': 720, 'h': 960, 'resize': 'fit'},\n",
       "       'thumb': {'w': 150, 'h': 150, 'resize': 'crop'},\n",
       "       'large': {'w': 720, 'h': 960, 'resize': 'fit'},\n",
       "       'small': {'w': 510, 'h': 680, 'resize': 'fit'}}},\n",
       "     {'id': 1047349602142150657,\n",
       "      'id_str': '1047349602142150657',\n",
       "      'indices': [213, 236],\n",
       "      'media_url': 'http://pbs.twimg.com/media/Doju6f9UYAEfHDd.jpg',\n",
       "      'media_url_https': 'https://pbs.twimg.com/media/Doju6f9UYAEfHDd.jpg',\n",
       "      'url': 'https://t.co/cLpJ2ifyGw',\n",
       "      'display_url': 'pic.twitter.com/cLpJ2ifyGw',\n",
       "      'expanded_url': 'https://twitter.com/ELISSEsifieds/status/1047349651915960322/photo/1',\n",
       "      'type': 'photo',\n",
       "      'sizes': {'medium': {'w': 720, 'h': 960, 'resize': 'fit'},\n",
       "       'thumb': {'w': 150, 'h': 150, 'resize': 'crop'},\n",
       "       'small': {'w': 510, 'h': 680, 'resize': 'fit'},\n",
       "       'large': {'w': 720, 'h': 960, 'resize': 'fit'}}},\n",
       "     {'id': 1047349625907109889,\n",
       "      'id_str': '1047349625907109889',\n",
       "      'indices': [213, 236],\n",
       "      'media_url': 'http://pbs.twimg.com/media/Doju74fU4AEpxTQ.jpg',\n",
       "      'media_url_https': 'https://pbs.twimg.com/media/Doju74fU4AEpxTQ.jpg',\n",
       "      'url': 'https://t.co/cLpJ2ifyGw',\n",
       "      'display_url': 'pic.twitter.com/cLpJ2ifyGw',\n",
       "      'expanded_url': 'https://twitter.com/ELISSEsifieds/status/1047349651915960322/photo/1',\n",
       "      'type': 'photo',\n",
       "      'sizes': {'thumb': {'w': 150, 'h': 150, 'resize': 'crop'},\n",
       "       'medium': {'w': 720, 'h': 960, 'resize': 'fit'},\n",
       "       'small': {'w': 510, 'h': 680, 'resize': 'fit'},\n",
       "       'large': {'w': 720, 'h': 960, 'resize': 'fit'}}}]},\n",
       "   'extended_entities': {'media': [{'id': 1047349579832688641,\n",
       "      'id_str': '1047349579832688641',\n",
       "      'indices': [213, 236],\n",
       "      'media_url': 'http://pbs.twimg.com/media/Doju5M2VAAESKaQ.jpg',\n",
       "      'media_url_https': 'https://pbs.twimg.com/media/Doju5M2VAAESKaQ.jpg',\n",
       "      'url': 'https://t.co/cLpJ2ifyGw',\n",
       "      'display_url': 'pic.twitter.com/cLpJ2ifyGw',\n",
       "      'expanded_url': 'https://twitter.com/ELISSEsifieds/status/1047349651915960322/photo/1',\n",
       "      'type': 'photo',\n",
       "      'sizes': {'large': {'w': 720, 'h': 960, 'resize': 'fit'},\n",
       "       'thumb': {'w': 150, 'h': 150, 'resize': 'crop'},\n",
       "       'medium': {'w': 720, 'h': 960, 'resize': 'fit'},\n",
       "       'small': {'w': 510, 'h': 680, 'resize': 'fit'}}},\n",
       "     {'id': 1047349589253083136,\n",
       "      'id_str': '1047349589253083136',\n",
       "      'indices': [213, 236],\n",
       "      'media_url': 'http://pbs.twimg.com/media/Doju5v8U0AAhr9-.jpg',\n",
       "      'media_url_https': 'https://pbs.twimg.com/media/Doju5v8U0AAhr9-.jpg',\n",
       "      'url': 'https://t.co/cLpJ2ifyGw',\n",
       "      'display_url': 'pic.twitter.com/cLpJ2ifyGw',\n",
       "      'expanded_url': 'https://twitter.com/ELISSEsifieds/status/1047349651915960322/photo/1',\n",
       "      'type': 'photo',\n",
       "      'sizes': {'medium': {'w': 720, 'h': 960, 'resize': 'fit'},\n",
       "       'thumb': {'w': 150, 'h': 150, 'resize': 'crop'},\n",
       "       'large': {'w': 720, 'h': 960, 'resize': 'fit'},\n",
       "       'small': {'w': 510, 'h': 680, 'resize': 'fit'}}},\n",
       "     {'id': 1047349602142150657,\n",
       "      'id_str': '1047349602142150657',\n",
       "      'indices': [213, 236],\n",
       "      'media_url': 'http://pbs.twimg.com/media/Doju6f9UYAEfHDd.jpg',\n",
       "      'media_url_https': 'https://pbs.twimg.com/media/Doju6f9UYAEfHDd.jpg',\n",
       "      'url': 'https://t.co/cLpJ2ifyGw',\n",
       "      'display_url': 'pic.twitter.com/cLpJ2ifyGw',\n",
       "      'expanded_url': 'https://twitter.com/ELISSEsifieds/status/1047349651915960322/photo/1',\n",
       "      'type': 'photo',\n",
       "      'sizes': {'medium': {'w': 720, 'h': 960, 'resize': 'fit'},\n",
       "       'thumb': {'w': 150, 'h': 150, 'resize': 'crop'},\n",
       "       'small': {'w': 510, 'h': 680, 'resize': 'fit'},\n",
       "       'large': {'w': 720, 'h': 960, 'resize': 'fit'}}},\n",
       "     {'id': 1047349625907109889,\n",
       "      'id_str': '1047349625907109889',\n",
       "      'indices': [213, 236],\n",
       "      'media_url': 'http://pbs.twimg.com/media/Doju74fU4AEpxTQ.jpg',\n",
       "      'media_url_https': 'https://pbs.twimg.com/media/Doju74fU4AEpxTQ.jpg',\n",
       "      'url': 'https://t.co/cLpJ2ifyGw',\n",
       "      'display_url': 'pic.twitter.com/cLpJ2ifyGw',\n",
       "      'expanded_url': 'https://twitter.com/ELISSEsifieds/status/1047349651915960322/photo/1',\n",
       "      'type': 'photo',\n",
       "      'sizes': {'thumb': {'w': 150, 'h': 150, 'resize': 'crop'},\n",
       "       'medium': {'w': 720, 'h': 960, 'resize': 'fit'},\n",
       "       'small': {'w': 510, 'h': 680, 'resize': 'fit'},\n",
       "       'large': {'w': 720, 'h': 960, 'resize': 'fit'}}}]}},\n",
       "  'quote_count': 0,\n",
       "  'reply_count': 0,\n",
       "  'retweet_count': 3,\n",
       "  'favorite_count': 9,\n",
       "  'entities': {'hashtags': [],\n",
       "   'urls': [{'url': 'https://t.co/Crn6xJlhJQ',\n",
       "     'expanded_url': 'https://twitter.com/i/web/status/1047349651915960322',\n",
       "     'display_url': 'twitter.com/i/web/status/1…',\n",
       "     'indices': [117, 140]}],\n",
       "   'user_mentions': [],\n",
       "   'symbols': []},\n",
       "  'favorited': False,\n",
       "  'retweeted': False,\n",
       "  'possibly_sensitive': False,\n",
       "  'filter_level': 'low',\n",
       "  'lang': 'en'},\n",
       " 'is_quote_status': False,\n",
       " 'quote_count': 0,\n",
       " 'reply_count': 0,\n",
       " 'retweet_count': 0,\n",
       " 'favorite_count': 0,\n",
       " 'entities': {'hashtags': [],\n",
       "  'urls': [],\n",
       "  'user_mentions': [{'screen_name': 'ELISSEsifieds',\n",
       "    'name': 'ELISSEsifieds OFC',\n",
       "    'id': 1424795701,\n",
       "    'id_str': '1424795701',\n",
       "    'indices': [3, 17]}],\n",
       "  'symbols': []},\n",
       " 'favorited': False,\n",
       " 'retweeted': False,\n",
       " 'filter_level': 'low',\n",
       " 'lang': 'en',\n",
       " 'timestamp_ms': '1538542800664'}"
      ]
     },
     "execution_count": 31,
     "metadata": {},
     "output_type": "execute_result"
    }
   ],
   "source": [
    "twitter[0]"
   ]
  },
  {
   "cell_type": "code",
   "execution_count": 32,
   "metadata": {
    "colab": {
     "base_uri": "https://localhost:8080/"
    },
    "id": "45ij6ZLfC2PS",
    "outputId": "5ca943bf-e6da-4095-d8f9-75c88be6e10d"
   },
   "outputs": [
    {
     "data": {
      "text/plain": [
       "{'delete': {'status': {'id': 729296586933678081,\n",
       "   'id_str': '729296586933678081',\n",
       "   'user_id': 2740164192,\n",
       "   'user_id_str': '2740164192'},\n",
       "  'timestamp_ms': '1538542860162'}}"
      ]
     },
     "execution_count": 32,
     "metadata": {},
     "output_type": "execute_result"
    }
   ],
   "source": [
    "twitter[-1]"
   ]
  },
  {
   "cell_type": "code",
   "execution_count": 33,
   "metadata": {
    "id": "OuYuJ5GQC2PS"
   },
   "outputs": [],
   "source": [
    "ok = twitter[0]"
   ]
  },
  {
   "cell_type": "code",
   "execution_count": 34,
   "metadata": {
    "colab": {
     "base_uri": "https://localhost:8080/",
     "height": 35
    },
    "id": "cBLVP7QDC2PT",
    "outputId": "111086d1-f93f-4d15-e1b1-6fab44bf4ccc"
   },
   "outputs": [
    {
     "data": {
      "text/plain": [
       "'en'"
      ]
     },
     "execution_count": 34,
     "metadata": {},
     "output_type": "execute_result"
    }
   ],
   "source": [
    "# английский язык\n",
    "ok['lang']"
   ]
  },
  {
   "cell_type": "code",
   "execution_count": 35,
   "metadata": {
    "colab": {
     "base_uri": "https://localhost:8080/",
     "height": 70
    },
    "id": "Ajy1xevxC2PT",
    "outputId": "96f4e336-6b0c-48e6-d117-00cb633a883c"
   },
   "outputs": [
    {
     "data": {
      "text/plain": [
       "'Nothing can stop us from supporting you. When we say all the way, it will be indeed. Hello Elissesifieds Cebu. \\nThank you guys, for rising so early just to visit Elisse on her last taping day sa humble place nyo💓 https://t.co/cLpJ2ifyGw'"
      ]
     },
     "execution_count": 35,
     "metadata": {},
     "output_type": "execute_result"
    },
    {
     "name": "stderr",
     "output_type": "stream",
     "text": [
      "1:80: E501 line too long (102 > 79 characters)\n"
     ]
    }
   ],
   "source": [
    "# полный текст твита - здесь надо быть аккуратнее, может отличаться в твитах и ретвитах с комментарием\n",
    "ok['retweeted_status']['extended_tweet']['full_text']"
   ]
  },
  {
   "cell_type": "code",
   "execution_count": null,
   "metadata": {
    "id": "iuvWly6GTsgm"
   },
   "outputs": [],
   "source": []
  },
  {
   "cell_type": "code",
   "execution_count": null,
   "metadata": {},
   "outputs": [],
   "source": []
  }
 ],
 "metadata": {
  "colab": {
   "provenance": []
  },
  "interpreter": {
   "hash": "2ce43fa76ab3efd8b793de81ff92f0816c1b946b31e6af34d67351b015f361e9"
  },
  "kernelspec": {
   "display_name": "Python 3 (ipykernel)",
   "language": "python",
   "name": "python3"
  },
  "language_info": {
   "codemirror_mode": {
    "name": "ipython",
    "version": 3
   },
   "file_extension": ".py",
   "mimetype": "text/x-python",
   "name": "python",
   "nbconvert_exporter": "python",
   "pygments_lexer": "ipython3",
   "version": "3.11.5"
  }
 },
 "nbformat": 4,
 "nbformat_minor": 4
}
