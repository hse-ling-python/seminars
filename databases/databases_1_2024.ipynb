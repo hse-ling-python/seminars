{
  "cells": [
    {
      "cell_type": "markdown",
      "source": [
        "# Базы данных\n"
      ],
      "metadata": {
        "id": "gi6drwOt5QY-"
      }
    },
    {
      "cell_type": "markdown",
      "source": [
        "**Что такое базы данных?**\n",
        "\n",
        "В нашем случае мы будем работать с **реляционными** базами данных, которые представляют собой набор взаимосвязанных таблиц, которые по частям хранят определенный набор данных. Например, информацию о фильмах.\n"
      ],
      "metadata": {
        "id": "wIDzrY965Sbr"
      }
    },
    {
      "cell_type": "markdown",
      "source": [
        "**Зачем какие-то базы, если есть CSV или JSON?**\n",
        "\n",
        "Описание фильма имеет довольно сложную структуру и имеет разные составляющие (актеры, жанры, страны), поэтому довольно трудно это все поместить в таблицу или JSON так, чтобы это было еще и удобно для чтения. Чтобы, например, посчитать число комедий, мы должны прочитать каждую строку файла и посмотреть, а не комедия ли это, если да, то прибавить 1 к нашему счетчику. Это ничего, если у нас не так много данных (мегабайт), но довольно сложно, если у нас гигабайты данных. Для любого простого запроса нужно писать скрипт, который ситает файл и считает то, что нам нужно, а еще этот скрипт работает очень долго."
      ],
      "metadata": {
        "id": "ToOTDYG-5V1L"
      }
    },
    {
      "cell_type": "markdown",
      "source": [
        "**Ок, а что такое связанные таблицы?**\n",
        "\n",
        "Чтобы таблицы могли совместно описывать какой-то сложный концепт, у нас должен быть способ хранить **ссылку на другую таблиц**у, чтобы можно быть соединить информацию, которая там находится. Например, можно указать ID фильма, чтобы знать, что эта информация относится к фильму, который имеет номер 123 в нашей базе. Это может так же сократить место, которое будет занимать наша база. Вместо того, чтобы писать название фильма и его год для каждого актера + полные имена и информацию об актере каждый раз, когда мы хотим указать, что этот актер играет в этом фильме, мы просто может записать пару ссылок: на фильм и на актера."
      ],
      "metadata": {
        "id": "vKkPdKzF5fxK"
      }
    },
    {
      "cell_type": "markdown",
      "metadata": {
        "id": "sfhEFLV9447u"
      },
      "source": [
        "Допустим, у нас есть таблица со всей информацией про фильм:\n",
        "\n",
        "| title       | year | name           |     |\n",
        "|:-----------:|:----:|:--------------:|:---:|\n",
        "| Ларри Краун | 2011 | Том Хэнкс      | ... |\n",
        "| Ларри Краун | 2011 | Джулия Робертс | ... |\n",
        "| Вам письмо  | 1998 | Том Хэнкс      | ... |\n",
        "| Вам письмо  | 1998 | Мэг Райан      | ... |\n",
        "| Красотка    | 1990 | Джулия Робертс | ... |\n",
        "| Красотка    | 1990 | Ричард Гир     | ... |"
      ]
    },
    {
      "cell_type": "markdown",
      "source": [
        "Можно превратить ее в три таблицы:\n",
        "1. актеры: *people*\n",
        "\n",
        "| id | name           |     |\n",
        "|:--:|:--------------:|:---:|\n",
        "| 1  | Том Хэнкс      | ... |\n",
        "| 2  | Джулия Робертс | ... |\n",
        "| 3  | Мэг Райан      | ... |\n",
        "| 4  | Ричард Гир     | ... |\n",
        "\n",
        "2. фильмы: *films*\n",
        "\n",
        "| id | title       | year |     |\n",
        "|:--:|:-----------:|:----:|:---:|\n",
        "| 1  | Ларри Краун | 2011 | ... |\n",
        "| 2  | Вам письмо  | 1998 | ... |\n",
        "| 3  | Красотка    | 1990 | ... |\n",
        "\n",
        "3. таблица, которая связывает инфомацию, то есть отражает, что актер Х играл в фильме У: *roles*\n",
        "\n",
        "| film_id | person_id |\n",
        "|:-------:|:---------:|\n",
        "| 1       | 1         |\n",
        "| 1       | 2         |\n",
        "| 2       | 1         |\n",
        "| 2       | 3         |\n",
        "| 3       | 2         |\n",
        "| 3       | 4         |"
      ],
      "metadata": {
        "id": "Bsvg0Bl-7tw1"
      }
    },
    {
      "cell_type": "markdown",
      "source": [
        "Хранить пару чисел намного легче, чем целый строчки текста и другой информации. Представьте, что у вас база IMDB или Кинопоиск, где тысячи фильмов и персон, каждый фильм надо связать с десятками или сотнями актеров.\n",
        "\n",
        "К тому же, как и в случае функций в питоне, мы в таком случае можем изменить информацию в одном месте и оан автоматически изменится везде. Например, не надо будет искать все вхождения фильма Красотка, если мы хотим исправить неверно внесенный год."
      ],
      "metadata": {
        "id": "DS8zAHL4-Gk1"
      }
    },
    {
      "cell_type": "markdown",
      "source": [
        "## SQL и SQLite"
      ],
      "metadata": {
        "id": "HgmBPeX_-KVV"
      }
    },
    {
      "cell_type": "markdown",
      "metadata": {
        "id": "ZbJ1-eTs447w"
      },
      "source": [
        "**SQL (Structured Query Language)** $-$ это особый язык для управления данными в БД. С помощью него можно добавлять, удалять, изменять и выбирать данные в таблицах. Любое обращение к базе данных называется запросом.\n",
        "\n",
        "**SQL** $-$ очень простой язык. Нам потребуется лишь:\n",
        "- несколько команд для операций с данными (`CREATE`, `DELETE`, `DROP`, `SELECT`, `INSERT`, `UPDATE`)\n",
        "- несколько команд-ограничителей для создания более точных запросов (`WHERE`, `IN`, `AND`, `OR`, `NOT`, `BETWEEN`, `LIKE`, `LIMIT`, `OFFSET`).\n",
        "\n",
        "**NB!** Стоит обратить внимание на порядок слов-команд в запросах.\n",
        "\n",
        "Для того, чтобы понять, что можно делать с данными в БД, есть специальный акроним $-$ CRUD.\n",
        "\n",
        "- **C**reate $-$ создание таблиц, еще к этому можно отнести `INSERT` для вставки данных в созданную таблицу.\n",
        "- **R**ead / **R**etrieve $-$ получение информации.\n",
        "- **U**pdate $-$ обновление/изменение информации.\n",
        "- **D**elete $-$ удаление\n",
        "\n",
        "Это основные действия с базами."
      ]
    },
    {
      "cell_type": "markdown",
      "source": [
        "### Где можно посмотреть на базу и делать запросы?\n",
        "\n",
        "База данных $-$ это не текстовый формат, так что просто открыть его в блокноте и посмотреть, что внутри, не получится. Для работы с базами данных используются специальные программы $-$ **системы управления базами данных (СУБД)**. Вы могли слышать о:\n",
        "- MySQL\n",
        "- SQLite\n",
        "- PostgreSQL\n",
        "- MariaDB\n",
        "- и др.\n",
        "\n",
        "Они в целом похожи, используют специальный язык запросов SQL. Но и немного отличаются, имеют свои плюсы и минусы, дополнительные функции, которые используются для более удобной работы. Вот [тут](https://www.capterra.com/resources/free-database-software/) есть неплохое описание плюсов и минусов всего вышеперечисленного.\n",
        "\n",
        "Чаще всего используется связка сервер + клиент, то есть есть сервер, который управляет данными + клиент или визуальный интерфейс, окторый позволяет человеку обращаться к серверу с запросом на языке SQL.\n",
        "\n",
        "Мы будем работать с **SQLite**, которая позволяет не содавать никаких серверов и работать с базой на любом компьютере. В качестве графического интерфейса можно использовать **DB Browser**, который позволяет посмотреть, что внутри базы и делать запросы."
      ],
      "metadata": {
        "id": "KyUF2DVs-5x6"
      }
    },
    {
      "cell_type": "markdown",
      "source": [
        "## DB Browser"
      ],
      "metadata": {
        "id": "fFLZnK3OOWtA"
      }
    },
    {
      "cell_type": "markdown",
      "metadata": {
        "id": "w5uGZN60447x"
      },
      "source": [
        "Его можно скачать и установить отсюда: https://sqlitebrowser.org/dl/\n",
        "\n",
        "Откроем базу базу с помощью DB Browser.\n",
        "\n",
        "Вот так будет выглядеть интерфейс\n",
        "\n",
        "<img src=\"https://github.com/hse-ling-python/seminars/blob/master/databases/img/interface.png?raw=1\">"
      ]
    },
    {
      "cell_type": "markdown",
      "source": [
        "## IMDB"
      ],
      "metadata": {
        "id": "SMhPOV4EOaRc"
      }
    },
    {
      "cell_type": "markdown",
      "metadata": {
        "id": "TOXyC9M9447x"
      },
      "source": [
        "Мы будем работать с базой IMDB. Она сокращена, там отфильтрованы только фильмы, сериалы и мини-сериалы.\n",
        "\n",
        "База [тут](https://yadi.sk/d/GOxdLhob7et7Hw?w=1). Если хотите просто протренироваться, то выбирайте файл [`imdb_very_small.db`](https://disk.yandex.ru/d/GOxdLhob7et7Hw/imdb_very_small.db?w=1).\n",
        "\n",
        "Схема базы выглядит так:\n",
        "\n",
        "<img src=\"https://github.com/hse-ling-python/seminars/blob/master/databases/img/imdb_schema.png?raw=1\">"
      ]
    },
    {
      "cell_type": "markdown",
      "metadata": {
        "id": "J1m8ZvrH447x"
      },
      "source": [
        "На схеме можно увидеть, как связаны таблицы между собой.\n",
        "\n",
        "Например, связи фильм $-$ люди. У нас есть фильмы (*titles*) + люди (*people*). С помощью таблицы *crew* мы получает информацию, что в фильме с таким ID участвует человек со вторым ID. В этой свзяи появляется еще один параметр $-$ ID роли (например, 1 $-$ actor, 2 $-$ actress), эти номера и человеческие названия хранятся в таблице *role_categories*.\n",
        "\n",
        "По этому же принципу хранятся жанры в привязке к фильму."
      ]
    },
    {
      "cell_type": "markdown",
      "metadata": {
        "id": "5z0iW0fw447x"
      },
      "source": [
        "**CREATE**\n",
        "\n",
        "На вкладке Database Structure мы видим все таблицы, которые есть в базе и то, какие столбцы там имеются, если раскрыть содержание таблицы. Справа есть текст запроса, который позволит создать такую пустую таблицу. Можно скопировать этот текст, нажав \"правой кнопкой мыши\" (или эквивалент на вашем компьютере). Там будет меню copy create statement.\n",
        "\n",
        "<img src=\"https://github.com/hse-ling-python/seminars/blob/master/databases/img/create.png?raw=1\">"
      ]
    },
    {
      "cell_type": "markdown",
      "metadata": {
        "id": "nFvGCOi8447y"
      },
      "source": [
        "**SELECT**\n",
        "\n",
        "Основное, что мы будет делать с базой $-$ это получать данные с помощью запросов.\n",
        "\n",
        "Попробуем вывести то, что находится в таблице про фильмы.\n",
        "\n",
        "Первой идет команда ```SELECT```, затем ```*```, что значит все столбцы, затем ```FROM titles```, что значит из таблицы, которая называется *titles*."
      ]
    },
    {
      "cell_type": "markdown",
      "metadata": {
        "id": "awfGQN1_447y"
      },
      "source": [
        "``` mysql\n",
        "SELECT * FROM titles\n",
        "```"
      ]
    },
    {
      "cell_type": "markdown",
      "metadata": {
        "id": "Jbb8ygVp447y"
      },
      "source": [
        "Это довольно много всего, так как в таблице много строчек. В pandas мы могли вывести только верхушку с помощью `head`, здесь мы тоже можем сдеать это с помощью `LIMIT`."
      ]
    },
    {
      "cell_type": "markdown",
      "metadata": {
        "id": "zM6lb5s9447y"
      },
      "source": [
        "``` mysql\n",
        "SELECT * FROM titles LIMIT 10\n",
        "```"
      ]
    },
    {
      "cell_type": "markdown",
      "metadata": {
        "id": "FdZzSFzh447y"
      },
      "source": [
        "Мы хотим получить первые 10 картин в базе, которые вышли не ранее 2019 года. Фильтровать данные в SQL можно с помощью ```WHERE```, после чего мы пишем условие. Запросы становятся больше и принято делать переносы строк, чтобы логические части были видны."
      ]
    },
    {
      "cell_type": "markdown",
      "metadata": {
        "id": "9vLv7Yhh447y"
      },
      "source": [
        "``` mysql\n",
        "SELECT *\n",
        "FROM titles\n",
        "WHERE premiered >= 2019\n",
        "LIMIT 50\n",
        "```"
      ]
    },
    {
      "cell_type": "markdown",
      "metadata": {
        "id": "rr0fSbjt447z"
      },
      "source": [
        "Мы видим, что в столбце *type* находятся айди типов, но мы хотим, чтобы они показывались в человекочитаемом виде. Для этого мы соединяем таблицу с таблицей типов с помощью ```JOIN```. После команды следует название таблицы, затем ```ON``` и после этого то, по каким столбцам мы соединяем таблицы."
      ]
    },
    {
      "cell_type": "markdown",
      "metadata": {
        "id": "RpH1lajl447z"
      },
      "source": [
        "``` mysql\n",
        "SELECT *\n",
        "FROM titles\n",
        "    JOIN film_types ON titles.type = film_types.id\n",
        "WHERE premiered >= 2019\n",
        "LIMIT 50\n",
        "```\n",
        "\n"
      ]
    },
    {
      "cell_type": "markdown",
      "metadata": {
        "id": "WEKaKsOd447z"
      },
      "source": [
        "Чтобы получить информацию о жанрах, мы должны использовать три таблицы: фильмы, жанры + таблица, их соединяющая.\n",
        "\n",
        "Сначала мы присоединяем соединительную таблицу, а затем таблицу имен жанров"
      ]
    },
    {
      "cell_type": "markdown",
      "metadata": {
        "id": "l02U6mvL447z"
      },
      "source": [
        "```mysql\n",
        "SELECT *\n",
        "FROM titles\n",
        "    JOIN film_genres ON titles.title_id = film_genres.title_id\n",
        "    JOIN genre_types ON film_genres.genre_id = genre_types.id\n",
        "WHERE premiered >= 2019\n",
        "LIMIT 50\n",
        "```"
      ]
    },
    {
      "cell_type": "markdown",
      "metadata": {
        "id": "2AcM0pAC447z"
      },
      "source": [
        "По присоединенным таблицам мы тоже можем фильтровать. Соединим условия через ```AND```"
      ]
    },
    {
      "cell_type": "markdown",
      "metadata": {
        "id": "f5ElMdxN447z"
      },
      "source": [
        "``` mysql\n",
        "SELECT *\n",
        "FROM titles\n",
        "    JOIN film_genres ON titles.title_id = film_genres.title_id\n",
        "    JOIN genre_types ON film_genres.genre_id = genre_types.id\n",
        "WHERE premiered >= 2019 AND genre_name = \"Comedy\"\n",
        "LIMIT 50\n",
        "```"
      ]
    },
    {
      "cell_type": "markdown",
      "metadata": {
        "id": "f4lnE7ka447z"
      },
      "source": [
        "Мы можем отсортировать выдачу c помощью ```ORDER BY```. Например, найдем все фильмы, где играет Том Хэнкс и отсортируем по убыванию года выхода."
      ]
    },
    {
      "cell_type": "markdown",
      "metadata": {
        "id": "peOCANbf447z"
      },
      "source": [
        "``` mysql\n",
        "SELECT *\n",
        "FROM titles\n",
        "    JOIN crew ON titles.title_id = crew.title_id\n",
        "    JOIN people ON crew.person_id = people.person_id\n",
        "WHERE name = \"Tom Hanks\"\n",
        "ORDER BY premiered DESC\n",
        "```"
      ]
    },
    {
      "cell_type": "markdown",
      "metadata": {
        "id": "sLflRq134470"
      },
      "source": [
        "Таблица довольно широкая, есть повторяющаяся информация, мы можем выбрать те столбцы, которые нам нужны. Если имена вдруг повторяются, то можно указать таблица.столбец"
      ]
    },
    {
      "cell_type": "markdown",
      "metadata": {
        "id": "HjYs9FZF4470"
      },
      "source": [
        "``` mysql\n",
        "SELECT title, premiered\n",
        "FROM titles\n",
        "    JOIN crew ON titles.title_id = crew.title_id\n",
        "    JOIN people ON crew.person_id = people.person_id\n",
        "WHERE name = \"Tom Hanks\"\n",
        "ORDER BY premiered DESC\n",
        "```"
      ]
    },
    {
      "cell_type": "markdown",
      "metadata": {
        "id": "zO1nBloT4470"
      },
      "source": [
        "Расчеты производятся быстро, но все равно мы видим задержку. Это происходит из-за того что базе приходится все равно проходить по строчкам и проверять, всю ли информацию мы отфильтровали. Или для того, чтобы соединить таблицы.\n",
        "\n",
        "Чтобы ускорить вычисления, можно сделать индексы. Это специальная структура данных в виде деревьев, которая хранит информацию о том, какие значения есть в столбце (или нескольких) и где.\n",
        "\n",
        "Например, индексируется обычно первичный ключ. У таблицы есть уникальный ключ (первичный ключ) $-$ ID, который позволяет однозначно определить запись. У нас такой может быть у фильмов, у людей, у жанров, у рейтинга $-$ там ID уникальны."
      ]
    },
    {
      "cell_type": "markdown",
      "metadata": {
        "id": "QrPUHDkV4470"
      },
      "source": [
        "``` mysql\n",
        "CREATE TABLE mytable (\n",
        "    field1 text,\n",
        "    field2 text,\n",
        "    field3 integer,\n",
        "    PRIMARY KEY (field1, field2)\n",
        ");\n",
        "```"
      ]
    },
    {
      "cell_type": "markdown",
      "metadata": {
        "id": "rj13RsBM4470"
      },
      "source": [
        "Мы можем в интерфейсе зайти в изменение таблицы и там установить столбцы как первичный ключ.\n",
        "\n",
        "Теперь в интерфейсе они будут показываться с ключом.\n",
        "\n",
        "Мы можем создавать индексы по любым, даже не уникальным столбцам, чтобы ускорить важные для нас запросы. Например, проиндексировать связующие таблицы, которые позволяют анм присоединить людей или жанры к главной таблице фильмов."
      ]
    },
    {
      "cell_type": "markdown",
      "metadata": {
        "id": "zabWd6YU4470"
      },
      "source": [
        "Попробуем запустить запрос"
      ]
    },
    {
      "cell_type": "markdown",
      "metadata": {
        "id": "UMdWeYCD4470"
      },
      "source": [
        "``` mysql\n",
        "SELECT *\n",
        "FROM titles\n",
        "JOIN crew ON titles.title_id = crew.title_id\n",
        "JOIN people ON crew.person_id = people.person_id\n",
        "WHERE premiered >= 2019\n",
        "LIMIT 50\n",
        "```"
      ]
    },
    {
      "cell_type": "markdown",
      "metadata": {
        "id": "l0fnub2j4470"
      },
      "source": [
        "``` mysql\n",
        "CREATE INDEX crew_title ON crew (title_id);\n",
        "CREATE INDEX crew_person ON crew (person_id);\n",
        "```"
      ]
    },
    {
      "cell_type": "markdown",
      "metadata": {
        "id": "RdyzUYK84472"
      },
      "source": [
        "и еще раз повторим запрос, должно стать быстрее"
      ]
    },
    {
      "cell_type": "markdown",
      "metadata": {
        "id": "ZKAhLuTa4472"
      },
      "source": [
        "### Операции с данными\n",
        "\n",
        "В БД можно не только выбирать данные, но и группировать, как и в pandas. И здесь это так же называется ```GROUP BY```.\n",
        "\n",
        "Например, мы можем найти фильмы, где играли несколько актеров и сравнить максимальные, минимальные и средние рейтинги фильмов.\n",
        "\n",
        "\n",
        "Для начала, выберем фильмы, где играли Тон Хэнкс, Джулия Робертс и Натали Портман. Мы можем использовать оператор ```IN```, чтобы задать список имен для поиска."
      ]
    },
    {
      "cell_type": "markdown",
      "metadata": {
        "id": "f2dLuzRn4472"
      },
      "source": [
        "``` mysql\n",
        "SELECT name, title, premiered, rating\n",
        "FROM titles\n",
        "    JOIN crew ON titles.title_id = crew.title_id\n",
        "    JOIN people ON crew.person_id = people.person_id\n",
        "\tJOIN rating ON titles.title_id = rating.title_id\n",
        "WHERE name IN (\"Tom Hanks\", \"Julia Roberts\", \"Natalie Portman\")\n",
        "```"
      ]
    },
    {
      "cell_type": "markdown",
      "metadata": {
        "id": "ZPvWYBQa4472"
      },
      "source": [
        "Теперь сгруппируем по имени и вычислим наши показатели. Комментарии пишутся через ```--```"
      ]
    },
    {
      "cell_type": "markdown",
      "metadata": {
        "id": "OfWGGji04472"
      },
      "source": [
        "``` mysql\n",
        "SELECT\n",
        "    name,\n",
        "    MAX(rating) as max_rating, -- максимум\n",
        "    MIN(rating) as min_rating, -- минимум\n",
        "    AVG(rating) as average_rating, -- среднее\n",
        "    COUNT(titles.title_id) as n_films -- посчитаем число фильмов\n",
        "FROM titles\n",
        "    JOIN crew ON titles.title_id = crew.title_id\n",
        "    JOIN people ON crew.person_id = people.person_id\n",
        "    JOIN rating ON titles.title_id = rating.title_id\n",
        "WHERE name IN (\"Tom Hanks\", \"Julia Roberts\", \"Natalie Portman\")\n",
        "GROUP BY name\n",
        "ORDER BY average_rating DESC\n",
        "```"
      ]
    },
    {
      "cell_type": "markdown",
      "metadata": {
        "id": "sFY8euKw4472"
      },
      "source": [
        "Среднее выглядит не очень красиво, очень много знаков после запятой, можно округлить"
      ]
    },
    {
      "cell_type": "markdown",
      "metadata": {
        "id": "P6O164_Y4472"
      },
      "source": [
        "``` mysql\n",
        "SELECT\n",
        "    name,\n",
        "    MAX(rating) as max_rating, -- максимум\n",
        "    MIN(rating) as min_rating, -- минимум\n",
        "    ROUND(AVG(rating), 2) as average_rating, -- среднее\n",
        "    COUNT(titles.title_id) as n_films -- посчитаем число фильмов\n",
        "FROM titles\n",
        "    JOIN crew ON titles.title_id = crew.title_id\n",
        "    JOIN people ON crew.person_id = people.person_id\n",
        "    JOIN rating ON titles.title_id = rating.title_id\n",
        "WHERE name IN (\"Tom Hanks\", \"Julia Roberts\", \"Natalie Portman\")\n",
        "GROUP BY name\n",
        "ORDER BY average_rating DESC\n",
        "```"
      ]
    },
    {
      "cell_type": "markdown",
      "source": [
        "Если хочется самостоятельно потренироваться с SQL, то для этого есть интерактивный тьюториал [SQLBolt](https://sqlbolt.com/) с теорией и заданиями."
      ],
      "metadata": {
        "id": "i1cCAffMecRP"
      }
    },
    {
      "cell_type": "code",
      "source": [],
      "metadata": {
        "id": "Eh9_3Bnzoy2R"
      },
      "execution_count": null,
      "outputs": []
    }
  ],
  "metadata": {
    "kernelspec": {
      "display_name": "Python 3",
      "language": "python",
      "name": "python3"
    },
    "language_info": {
      "codemirror_mode": {
        "name": "ipython",
        "version": 3
      },
      "file_extension": ".py",
      "mimetype": "text/x-python",
      "name": "python",
      "nbconvert_exporter": "python",
      "pygments_lexer": "ipython3",
      "version": "3.8.5"
    },
    "colab": {
      "provenance": []
    }
  },
  "nbformat": 4,
  "nbformat_minor": 0
}