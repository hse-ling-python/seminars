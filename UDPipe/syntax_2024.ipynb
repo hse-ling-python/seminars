{
  "cells": [
    {
      "cell_type": "markdown",
      "metadata": {
        "id": "TUFB-T4ka_vB"
      },
      "source": [
        "# Синтаксис: зависимостный парсинг (*dependency parsing*)"
      ]
    },
    {
      "cell_type": "markdown",
      "metadata": {
        "id": "5bEykYPDa49m"
      },
      "source": [
        "Зависимостный парсинг $-$ одна из немногих задач, где лингвистика и компьютерные науки продуктивно взаимодействуют. Основную теорию тут разрабатывают лингвисты, они же размечают корпусы, а модели построены на самых последних разработках в области машинного обучения.\n",
        "\n",
        "**Что такое парсинг вообще и в какой момент его нужно использовать?**\n",
        "\n",
        "Сначала мы токенизируем текст и лемматизируем (делаем морфологический разбор), а потом мы переходим к **синтаксису** и вот тут-то нам и нужен парсер.\n",
        "\n",
        "Самые популярные парсеры:\n",
        "    \n",
        "- [**SyntaxNet (DRAGNN)**](https://github.com/tensorflow/models/tree/f2f25096d3dc6561a855dab914cf2913100728d6/research/syntaxnet) от гугла.<br>SyntaxNet активно развивается, но его достаточно трудоемко ставить.\n",
        "- **UDPipe** от Карлова Университета в Чехии.<br>UDPipe работает похуже, но установить его легче.\n",
        "- [**Spacy**](https://spacy.io/)\n",
        "- **TurkuNLP** - от университета Турку (это Финляндия).<br>Позиционируется он как парсер для финского, но там есть много других предобученных моделей и можно обучать свои.\n",
        "- [**MaltParser**](http://www.maltparser.org/)"
      ]
    },
    {
      "cell_type": "markdown",
      "metadata": {
        "id": "Oe6ZLemGdboL"
      },
      "source": [
        "При парсинге используется **грамматика зависимостей**, а не грамматика составляющих. Так, любое предложение можно представить в виде дерева зависимостей.\n",
        "\n",
        "![](https://upload.wikimedia.org/wikipedia/commons/0/0d/Wearetryingtounderstandthedifference_%282%29.jpg)"
      ]
    },
    {
      "cell_type": "markdown",
      "metadata": {
        "id": "jZmKcqsaeIKq"
      },
      "source": [
        "## SpaCy"
      ]
    },
    {
      "cell_type": "markdown",
      "metadata": {
        "id": "JPpBL05IKLjY"
      },
      "source": [
        "+ Библиотека для продвинутого NLP\n",
        "+ Ряд языков: английский, русский, китайский, немецкий, французский, итальянский, польский, испанский и др. Разрабатываются модели для всё новых языков\n",
        "+ Про spaCy: https://spacy.io/usage\n",
        "+ Установка:\n",
        "```python\n",
        "pip install -U spacy\n",
        "```\n",
        "    - для английского:\n",
        "    ```python\n",
        "    python -m spacy download en_core_web_sm\n",
        "    ```\n",
        "    - для русского:\n",
        "    ```python\n",
        "    python -m spacy download ru_core_news_sm\n",
        "    ```"
      ]
    },
    {
      "cell_type": "code",
      "execution_count": 1,
      "metadata": {
        "id": "x7Pqt_57LYXJ",
        "colab": {
          "base_uri": "https://localhost:8080/"
        },
        "outputId": "4958f6e3-5027-4138-a939-8faf74303c72"
      },
      "outputs": [
        {
          "output_type": "stream",
          "name": "stdout",
          "text": [
            "\u001b[2K     \u001b[90m━━━━━━━━━━━━━━━━━━━━━━━━━━━━━━━━━━━━━━━━\u001b[0m \u001b[32m12.8/12.8 MB\u001b[0m \u001b[31m32.0 MB/s\u001b[0m eta \u001b[36m0:00:00\u001b[0m\n",
            "\u001b[?25h\u001b[38;5;2m✔ Download and installation successful\u001b[0m\n",
            "You can now load the package via spacy.load('en_core_web_sm')\n",
            "\u001b[38;5;3m⚠ Restart to reload dependencies\u001b[0m\n",
            "If you are in a Jupyter or Colab notebook, you may need to restart Python in\n",
            "order to load all the package's dependencies. You can do this by selecting the\n",
            "'Restart kernel' or 'Restart runtime' option.\n",
            "\u001b[2K     \u001b[90m━━━━━━━━━━━━━━━━━━━━━━━━━━━━━━━━━━━━━━━━\u001b[0m \u001b[32m15.3/15.3 MB\u001b[0m \u001b[31m52.0 MB/s\u001b[0m eta \u001b[36m0:00:00\u001b[0m\n",
            "\u001b[2K   \u001b[90m━━━━━━━━━━━━━━━━━━━━━━━━━━━━━━━━━━━━━━━━\u001b[0m \u001b[32m53.9/53.9 kB\u001b[0m \u001b[31m3.1 MB/s\u001b[0m eta \u001b[36m0:00:00\u001b[0m\n",
            "\u001b[2K   \u001b[90m━━━━━━━━━━━━━━━━━━━━━━━━━━━━━━━━━━━━━━━━\u001b[0m \u001b[32m8.4/8.4 MB\u001b[0m \u001b[31m60.3 MB/s\u001b[0m eta \u001b[36m0:00:00\u001b[0m\n",
            "\u001b[?25h\u001b[38;5;2m✔ Download and installation successful\u001b[0m\n",
            "You can now load the package via spacy.load('ru_core_news_sm')\n",
            "\u001b[38;5;3m⚠ Restart to reload dependencies\u001b[0m\n",
            "If you are in a Jupyter or Colab notebook, you may need to restart Python in\n",
            "order to load all the package's dependencies. You can do this by selecting the\n",
            "'Restart kernel' or 'Restart runtime' option.\n"
          ]
        }
      ],
      "source": [
        "!pip install -U spacy --q\n",
        "!python -m spacy download en_core_web_sm --q\n",
        "!python -m spacy download ru_core_news_sm --q"
      ]
    },
    {
      "cell_type": "code",
      "execution_count": 2,
      "metadata": {
        "id": "7Rzo5Yc8KLja"
      },
      "outputs": [],
      "source": [
        "import spacy"
      ]
    },
    {
      "cell_type": "markdown",
      "metadata": {
        "id": "pos1rraaKLjd"
      },
      "source": [
        "### Функционал"
      ]
    },
    {
      "cell_type": "markdown",
      "metadata": {
        "id": "zpRgnhiOKLje"
      },
      "source": [
        "#### Лемматизация (+ токенизация): `.lemma_`"
      ]
    },
    {
      "cell_type": "code",
      "execution_count": 3,
      "metadata": {
        "id": "DLPAWFBjm4HJ"
      },
      "outputs": [],
      "source": [
        "nlp_en = spacy.load(\"en_core_web_sm\")"
      ]
    },
    {
      "cell_type": "code",
      "execution_count": 4,
      "metadata": {
        "id": "7h2jb-xUOh2w"
      },
      "outputs": [],
      "source": [
        "chomsky_doc = nlp_en(\"Colorless green ideas sleep furiously\")\n",
        "shakespeare_doc = nlp_en(\"To be, or not to be, that is the question: Whether 'tis nobler in the mind to suffer\")"
      ]
    },
    {
      "cell_type": "code",
      "execution_count": 5,
      "metadata": {
        "colab": {
          "base_uri": "https://localhost:8080/"
        },
        "id": "am9qPlyeKLjf",
        "outputId": "2927a569-fe73-455e-b5da-bbf94da7bef5"
      },
      "outputs": [
        {
          "output_type": "stream",
          "name": "stdout",
          "text": [
            "Colorless colorless\n",
            "green green\n",
            "ideas idea\n",
            "sleep sleep\n",
            "furiously furiously\n"
          ]
        }
      ],
      "source": [
        "for token in chomsky_doc:\n",
        "    print(token.text, token.lemma_)"
      ]
    },
    {
      "cell_type": "code",
      "execution_count": 6,
      "metadata": {
        "colab": {
          "base_uri": "https://localhost:8080/"
        },
        "id": "JxjCMvYFKLjg",
        "outputId": "1013677d-8e85-4e6c-f3da-4a1e78ba8eb7"
      },
      "outputs": [
        {
          "output_type": "stream",
          "name": "stdout",
          "text": [
            "To to\n",
            "be be\n",
            ", ,\n",
            "or or\n",
            "not not\n",
            "to to\n",
            "be be\n",
            ", ,\n",
            "that that\n",
            "is be\n",
            "the the\n",
            "question question\n",
            ": :\n",
            "Whether whether\n",
            "' '\n",
            "tis tis\n",
            "nobler nobler\n",
            "in in\n",
            "the the\n",
            "mind mind\n",
            "to to\n",
            "suffer suffer\n"
          ]
        }
      ],
      "source": [
        "for token in shakespeare_doc:\n",
        "    print(token.text, token.lemma_)"
      ]
    },
    {
      "cell_type": "markdown",
      "metadata": {
        "id": "yHNsr0TFOTDG"
      },
      "source": [
        "#### Частеречная разметка: `.pos_`"
      ]
    },
    {
      "cell_type": "markdown",
      "metadata": {
        "id": "eHaXR6KBIh7Z"
      },
      "source": [
        "[Документация](https://spacy.io/usage/linguistic-features#pos-tagging) с тегами."
      ]
    },
    {
      "cell_type": "code",
      "execution_count": 7,
      "metadata": {
        "colab": {
          "base_uri": "https://localhost:8080/"
        },
        "id": "_oeiP4NdKLjd",
        "outputId": "3bb41e97-62c5-4e7f-a855-ff707461b584"
      },
      "outputs": [
        {
          "output_type": "stream",
          "name": "stdout",
          "text": [
            "Colorless ADJ\n",
            "green ADJ\n",
            "ideas NOUN\n",
            "sleep VERB\n",
            "furiously ADV\n"
          ]
        }
      ],
      "source": [
        "for token in chomsky_doc:\n",
        "    print(token.text, token.pos_) # просто .pos возвращает числовой код части речи"
      ]
    },
    {
      "cell_type": "markdown",
      "metadata": {
        "id": "Jbt68hmhOvbi"
      },
      "source": [
        "#### Морфологический анализ: `.morph`"
      ]
    },
    {
      "cell_type": "code",
      "execution_count": 8,
      "metadata": {
        "colab": {
          "base_uri": "https://localhost:8080/"
        },
        "id": "ksDI8VvIKLjf",
        "outputId": "b32358e7-ad53-42e9-95d0-847a14045485"
      },
      "outputs": [
        {
          "output_type": "stream",
          "name": "stdout",
          "text": [
            "Colorless ADJ Degree=Pos\n",
            "green ADJ Degree=Pos\n",
            "ideas NOUN Number=Plur\n",
            "sleep VERB Tense=Pres|VerbForm=Fin\n",
            "furiously ADV \n"
          ]
        }
      ],
      "source": [
        "for token in chomsky_doc:\n",
        "    print(token.text, token.pos_, token.morph)"
      ]
    },
    {
      "cell_type": "markdown",
      "metadata": {
        "id": "s0ewrNhtKLjg"
      },
      "source": [
        "#### Синтаксис: деревья зависимостей"
      ]
    },
    {
      "cell_type": "markdown",
      "metadata": {
        "id": "HmKF71lAISEK"
      },
      "source": [
        "[Документация](https://v2.spacy.io/api/annotation#dependency-parsing) с тегами."
      ]
    },
    {
      "cell_type": "code",
      "execution_count": 9,
      "metadata": {
        "colab": {
          "base_uri": "https://localhost:8080/"
        },
        "id": "8qXmohD4KLjg",
        "outputId": "f260b39a-7ee7-451a-f2f9-54ae14adad72"
      },
      "outputs": [
        {
          "output_type": "stream",
          "name": "stdout",
          "text": [
            "Colorless colorless ADJ amod\n",
            "green green ADJ amod\n",
            "ideas idea NOUN nsubj\n",
            "sleep sleep VERB ROOT\n",
            "furiously furiously ADV advmod\n"
          ]
        }
      ],
      "source": [
        "for token in chomsky_doc:\n",
        "    print(token.text, token.lemma_, token.pos_, token.dep_)"
      ]
    },
    {
      "cell_type": "markdown",
      "metadata": {
        "id": "5m4ZZR3dKLjh"
      },
      "source": [
        "#### Навигация по дереву: вершины и зависимые"
      ]
    },
    {
      "cell_type": "markdown",
      "metadata": {
        "id": "Ynj_OhfqKLjh"
      },
      "source": [
        "Используется терминология `.head` (вершина) и `.children` (зависимые)"
      ]
    },
    {
      "cell_type": "code",
      "execution_count": 10,
      "metadata": {
        "colab": {
          "base_uri": "https://localhost:8080/"
        },
        "id": "YuV3moVYKLjh",
        "outputId": "e8b9c1aa-8434-4ad8-b989-66b02502e4d1"
      },
      "outputs": [
        {
          "output_type": "stream",
          "name": "stdout",
          "text": [
            "Colorless amod ideas NOUN []\n",
            "green amod ideas NOUN []\n",
            "ideas nsubj sleep VERB [Colorless, green]\n",
            "sleep ROOT sleep VERB [ideas, furiously]\n",
            "furiously advmod sleep VERB []\n"
          ]
        }
      ],
      "source": [
        "for token in chomsky_doc:\n",
        "    print(token.text, token.dep_, token.head.text, token.head.pos_,\n",
        "            [child for child in token.children])"
      ]
    },
    {
      "cell_type": "code",
      "execution_count": 11,
      "metadata": {
        "id": "rp5m3nr3P0RU"
      },
      "outputs": [],
      "source": [
        "donkey_doc = nlp_en(\"If a farmer owns a donkey, he beats it.\")"
      ]
    },
    {
      "cell_type": "code",
      "execution_count": 12,
      "metadata": {
        "colab": {
          "base_uri": "https://localhost:8080/"
        },
        "id": "UUy1TmKSKLjh",
        "outputId": "e9aeac20-3f7e-4ecd-a173-990737cc0ea8"
      },
      "outputs": [
        {
          "output_type": "stream",
          "name": "stdout",
          "text": [
            "If mark owns VERB []\n",
            "a det farmer NOUN []\n",
            "farmer nsubj owns VERB [a]\n",
            "owns advcl beats VERB [If, farmer, donkey]\n",
            "a det donkey NOUN []\n",
            "donkey dobj owns VERB [a]\n",
            ", punct beats VERB []\n",
            "he nsubj beats VERB []\n",
            "beats ROOT beats VERB [owns, ,, he, it, .]\n",
            "it dobj beats VERB []\n",
            ". punct beats VERB []\n"
          ]
        }
      ],
      "source": [
        "for token in donkey_doc:\n",
        "    print(token.text, token.dep_, token.head.text, token.head.pos_,\n",
        "            [child for child in token.children])"
      ]
    },
    {
      "cell_type": "markdown",
      "metadata": {
        "id": "B7EKvs8gKLjh"
      },
      "source": [
        "Найдём детей *beats* справа (`.rights`) и слева (`.lefts`) в дереве:"
      ]
    },
    {
      "cell_type": "code",
      "execution_count": 13,
      "metadata": {
        "colab": {
          "base_uri": "https://localhost:8080/"
        },
        "id": "pnyF60eRKLji",
        "outputId": "7046fee3-eeb5-4b6a-8c31-864857e5495a"
      },
      "outputs": [
        {
          "output_type": "stream",
          "name": "stdout",
          "text": [
            "beats\n",
            "3 left child(ren): ['owns', ',', 'he']\n",
            "2 right child(ren): ['it', '.']\n"
          ]
        }
      ],
      "source": [
        "donkey_doc = nlp_en(\"If a farmer owns a donkey, he beats it.\")\n",
        "print(donkey_doc[8])\n",
        "print(f'{donkey_doc[8].n_lefts} left child(ren): {[token.text for token in donkey_doc[8].lefts]}')\n",
        "print(f'{donkey_doc[8].n_rights} right child(ren): {[token.text for token in donkey_doc[8].rights]}')"
      ]
    },
    {
      "cell_type": "markdown",
      "metadata": {
        "id": "eB9QVlFkKLji"
      },
      "source": [
        "Теперь найдём тип зависимости, количество детей слева и справа, родителей:"
      ]
    },
    {
      "cell_type": "code",
      "execution_count": 14,
      "metadata": {
        "colab": {
          "base_uri": "https://localhost:8080/"
        },
        "id": "PAaaWRtfKLji",
        "outputId": "5fbd436d-cd79-4f4a-c4b4-7f4fc1e64648"
      },
      "outputs": [
        {
          "output_type": "stream",
          "name": "stdout",
          "text": [
            "If mark 0 0 ['owns', 'beats']\n",
            "a det 0 0 ['farmer', 'owns', 'beats']\n",
            "farmer nsubj 1 0 ['owns', 'beats']\n",
            "owns advcl 2 1 ['beats']\n",
            "a det 0 0 ['donkey', 'owns', 'beats']\n",
            "donkey dobj 1 0 ['owns', 'beats']\n"
          ]
        }
      ],
      "source": [
        "root = [token for token in donkey_doc if token.head == token][0]  # находим корневой элемент\n",
        "subject = list(root.lefts)[0]  # берем только детей слева (ака if-часть)\n",
        "for descendant in subject.subtree:\n",
        "    assert subject is descendant or subject.is_ancestor(descendant)\n",
        "    print(descendant.text,  # слово\n",
        "          descendant.dep_,  # тип зависимости\n",
        "          descendant.n_lefts,  # сколько детей слева\n",
        "          descendant.n_rights,  # сколько детей справа\n",
        "          [ancestor.text for ancestor in descendant.ancestors]  # список родителей\n",
        "          )"
      ]
    },
    {
      "cell_type": "markdown",
      "metadata": {
        "id": "OBDCWi-dKLji"
      },
      "source": [
        "Распечатаем часть речи, тип зависимости, вершину:"
      ]
    },
    {
      "cell_type": "code",
      "execution_count": 15,
      "metadata": {
        "colab": {
          "base_uri": "https://localhost:8080/"
        },
        "id": "1Ja6rJTZKLjj",
        "outputId": "122a5791-141e-42aa-fb41-4278d2d96ca6"
      },
      "outputs": [
        {
          "output_type": "stream",
          "name": "stdout",
          "text": [
            "If SCONJ mark owns\n",
            "a DET det farmer\n",
            "farmer NOUN nsubj owns\n",
            "owns VERB advcl beats\n",
            "a DET det donkey\n",
            "donkey NOUN dobj owns\n",
            ", PUNCT punct beats\n",
            "he PRON nsubj beats\n",
            "beats VERB ROOT beats\n",
            "it PRON dobj beats\n",
            ". PUNCT punct beats\n"
          ]
        }
      ],
      "source": [
        "for token in donkey_doc:\n",
        "    print(token.text, token.pos_, token.dep_, token.head.text)"
      ]
    },
    {
      "cell_type": "markdown",
      "metadata": {
        "id": "S65SI0T4KLjj"
      },
      "source": [
        "Визуализируем дерево:"
      ]
    },
    {
      "cell_type": "code",
      "execution_count": 16,
      "metadata": {
        "id": "v7wuwD2rKLjj"
      },
      "outputs": [],
      "source": [
        "from spacy import displacy"
      ]
    },
    {
      "cell_type": "code",
      "execution_count": 17,
      "metadata": {
        "colab": {
          "base_uri": "https://localhost:8080/",
          "height": 441
        },
        "id": "-6YrejUGKLjj",
        "outputId": "7110d65a-7de1-4628-f514-972f3a174903"
      },
      "outputs": [
        {
          "output_type": "display_data",
          "data": {
            "text/plain": [
              "<IPython.core.display.HTML object>"
            ],
            "text/html": [
              "<span class=\"tex2jax_ignore\"><svg xmlns=\"http://www.w3.org/2000/svg\" xmlns:xlink=\"http://www.w3.org/1999/xlink\" xml:lang=\"en\" id=\"9ba83ac131b04734973891154f857001-0\" class=\"displacy\" width=\"1625\" height=\"399.5\" direction=\"ltr\" style=\"max-width: none; height: 399.5px; color: #000000; background: #ffffff; font-family: Arial; direction: ltr\">\n",
              "<text class=\"displacy-token\" fill=\"currentColor\" text-anchor=\"middle\" y=\"309.5\">\n",
              "    <tspan class=\"displacy-word\" fill=\"currentColor\" x=\"50\">If</tspan>\n",
              "    <tspan class=\"displacy-tag\" dy=\"2em\" fill=\"currentColor\" x=\"50\">SCONJ</tspan>\n",
              "</text>\n",
              "\n",
              "<text class=\"displacy-token\" fill=\"currentColor\" text-anchor=\"middle\" y=\"309.5\">\n",
              "    <tspan class=\"displacy-word\" fill=\"currentColor\" x=\"225\">a</tspan>\n",
              "    <tspan class=\"displacy-tag\" dy=\"2em\" fill=\"currentColor\" x=\"225\">DET</tspan>\n",
              "</text>\n",
              "\n",
              "<text class=\"displacy-token\" fill=\"currentColor\" text-anchor=\"middle\" y=\"309.5\">\n",
              "    <tspan class=\"displacy-word\" fill=\"currentColor\" x=\"400\">farmer</tspan>\n",
              "    <tspan class=\"displacy-tag\" dy=\"2em\" fill=\"currentColor\" x=\"400\">NOUN</tspan>\n",
              "</text>\n",
              "\n",
              "<text class=\"displacy-token\" fill=\"currentColor\" text-anchor=\"middle\" y=\"309.5\">\n",
              "    <tspan class=\"displacy-word\" fill=\"currentColor\" x=\"575\">owns</tspan>\n",
              "    <tspan class=\"displacy-tag\" dy=\"2em\" fill=\"currentColor\" x=\"575\">VERB</tspan>\n",
              "</text>\n",
              "\n",
              "<text class=\"displacy-token\" fill=\"currentColor\" text-anchor=\"middle\" y=\"309.5\">\n",
              "    <tspan class=\"displacy-word\" fill=\"currentColor\" x=\"750\">a</tspan>\n",
              "    <tspan class=\"displacy-tag\" dy=\"2em\" fill=\"currentColor\" x=\"750\">DET</tspan>\n",
              "</text>\n",
              "\n",
              "<text class=\"displacy-token\" fill=\"currentColor\" text-anchor=\"middle\" y=\"309.5\">\n",
              "    <tspan class=\"displacy-word\" fill=\"currentColor\" x=\"925\">donkey,</tspan>\n",
              "    <tspan class=\"displacy-tag\" dy=\"2em\" fill=\"currentColor\" x=\"925\">NOUN</tspan>\n",
              "</text>\n",
              "\n",
              "<text class=\"displacy-token\" fill=\"currentColor\" text-anchor=\"middle\" y=\"309.5\">\n",
              "    <tspan class=\"displacy-word\" fill=\"currentColor\" x=\"1100\">he</tspan>\n",
              "    <tspan class=\"displacy-tag\" dy=\"2em\" fill=\"currentColor\" x=\"1100\">PRON</tspan>\n",
              "</text>\n",
              "\n",
              "<text class=\"displacy-token\" fill=\"currentColor\" text-anchor=\"middle\" y=\"309.5\">\n",
              "    <tspan class=\"displacy-word\" fill=\"currentColor\" x=\"1275\">beats</tspan>\n",
              "    <tspan class=\"displacy-tag\" dy=\"2em\" fill=\"currentColor\" x=\"1275\">VERB</tspan>\n",
              "</text>\n",
              "\n",
              "<text class=\"displacy-token\" fill=\"currentColor\" text-anchor=\"middle\" y=\"309.5\">\n",
              "    <tspan class=\"displacy-word\" fill=\"currentColor\" x=\"1450\">it.</tspan>\n",
              "    <tspan class=\"displacy-tag\" dy=\"2em\" fill=\"currentColor\" x=\"1450\">PRON</tspan>\n",
              "</text>\n",
              "\n",
              "<g class=\"displacy-arrow\">\n",
              "    <path class=\"displacy-arc\" id=\"arrow-9ba83ac131b04734973891154f857001-0-0\" stroke-width=\"2px\" d=\"M70,264.5 C70,89.5 570.0,89.5 570.0,264.5\" fill=\"none\" stroke=\"currentColor\"/>\n",
              "    <text dy=\"1.25em\" style=\"font-size: 0.8em; letter-spacing: 1px\">\n",
              "        <textPath xlink:href=\"#arrow-9ba83ac131b04734973891154f857001-0-0\" class=\"displacy-label\" startOffset=\"50%\" side=\"left\" fill=\"currentColor\" text-anchor=\"middle\">mark</textPath>\n",
              "    </text>\n",
              "    <path class=\"displacy-arrowhead\" d=\"M70,266.5 L62,254.5 78,254.5\" fill=\"currentColor\"/>\n",
              "</g>\n",
              "\n",
              "<g class=\"displacy-arrow\">\n",
              "    <path class=\"displacy-arc\" id=\"arrow-9ba83ac131b04734973891154f857001-0-1\" stroke-width=\"2px\" d=\"M245,264.5 C245,177.0 390.0,177.0 390.0,264.5\" fill=\"none\" stroke=\"currentColor\"/>\n",
              "    <text dy=\"1.25em\" style=\"font-size: 0.8em; letter-spacing: 1px\">\n",
              "        <textPath xlink:href=\"#arrow-9ba83ac131b04734973891154f857001-0-1\" class=\"displacy-label\" startOffset=\"50%\" side=\"left\" fill=\"currentColor\" text-anchor=\"middle\">det</textPath>\n",
              "    </text>\n",
              "    <path class=\"displacy-arrowhead\" d=\"M245,266.5 L237,254.5 253,254.5\" fill=\"currentColor\"/>\n",
              "</g>\n",
              "\n",
              "<g class=\"displacy-arrow\">\n",
              "    <path class=\"displacy-arc\" id=\"arrow-9ba83ac131b04734973891154f857001-0-2\" stroke-width=\"2px\" d=\"M420,264.5 C420,177.0 565.0,177.0 565.0,264.5\" fill=\"none\" stroke=\"currentColor\"/>\n",
              "    <text dy=\"1.25em\" style=\"font-size: 0.8em; letter-spacing: 1px\">\n",
              "        <textPath xlink:href=\"#arrow-9ba83ac131b04734973891154f857001-0-2\" class=\"displacy-label\" startOffset=\"50%\" side=\"left\" fill=\"currentColor\" text-anchor=\"middle\">nsubj</textPath>\n",
              "    </text>\n",
              "    <path class=\"displacy-arrowhead\" d=\"M420,266.5 L412,254.5 428,254.5\" fill=\"currentColor\"/>\n",
              "</g>\n",
              "\n",
              "<g class=\"displacy-arrow\">\n",
              "    <path class=\"displacy-arc\" id=\"arrow-9ba83ac131b04734973891154f857001-0-3\" stroke-width=\"2px\" d=\"M595,264.5 C595,2.0 1275.0,2.0 1275.0,264.5\" fill=\"none\" stroke=\"currentColor\"/>\n",
              "    <text dy=\"1.25em\" style=\"font-size: 0.8em; letter-spacing: 1px\">\n",
              "        <textPath xlink:href=\"#arrow-9ba83ac131b04734973891154f857001-0-3\" class=\"displacy-label\" startOffset=\"50%\" side=\"left\" fill=\"currentColor\" text-anchor=\"middle\">advcl</textPath>\n",
              "    </text>\n",
              "    <path class=\"displacy-arrowhead\" d=\"M595,266.5 L587,254.5 603,254.5\" fill=\"currentColor\"/>\n",
              "</g>\n",
              "\n",
              "<g class=\"displacy-arrow\">\n",
              "    <path class=\"displacy-arc\" id=\"arrow-9ba83ac131b04734973891154f857001-0-4\" stroke-width=\"2px\" d=\"M770,264.5 C770,177.0 915.0,177.0 915.0,264.5\" fill=\"none\" stroke=\"currentColor\"/>\n",
              "    <text dy=\"1.25em\" style=\"font-size: 0.8em; letter-spacing: 1px\">\n",
              "        <textPath xlink:href=\"#arrow-9ba83ac131b04734973891154f857001-0-4\" class=\"displacy-label\" startOffset=\"50%\" side=\"left\" fill=\"currentColor\" text-anchor=\"middle\">det</textPath>\n",
              "    </text>\n",
              "    <path class=\"displacy-arrowhead\" d=\"M770,266.5 L762,254.5 778,254.5\" fill=\"currentColor\"/>\n",
              "</g>\n",
              "\n",
              "<g class=\"displacy-arrow\">\n",
              "    <path class=\"displacy-arc\" id=\"arrow-9ba83ac131b04734973891154f857001-0-5\" stroke-width=\"2px\" d=\"M595,264.5 C595,89.5 920.0,89.5 920.0,264.5\" fill=\"none\" stroke=\"currentColor\"/>\n",
              "    <text dy=\"1.25em\" style=\"font-size: 0.8em; letter-spacing: 1px\">\n",
              "        <textPath xlink:href=\"#arrow-9ba83ac131b04734973891154f857001-0-5\" class=\"displacy-label\" startOffset=\"50%\" side=\"left\" fill=\"currentColor\" text-anchor=\"middle\">dobj</textPath>\n",
              "    </text>\n",
              "    <path class=\"displacy-arrowhead\" d=\"M920.0,266.5 L928.0,254.5 912.0,254.5\" fill=\"currentColor\"/>\n",
              "</g>\n",
              "\n",
              "<g class=\"displacy-arrow\">\n",
              "    <path class=\"displacy-arc\" id=\"arrow-9ba83ac131b04734973891154f857001-0-6\" stroke-width=\"2px\" d=\"M1120,264.5 C1120,177.0 1265.0,177.0 1265.0,264.5\" fill=\"none\" stroke=\"currentColor\"/>\n",
              "    <text dy=\"1.25em\" style=\"font-size: 0.8em; letter-spacing: 1px\">\n",
              "        <textPath xlink:href=\"#arrow-9ba83ac131b04734973891154f857001-0-6\" class=\"displacy-label\" startOffset=\"50%\" side=\"left\" fill=\"currentColor\" text-anchor=\"middle\">nsubj</textPath>\n",
              "    </text>\n",
              "    <path class=\"displacy-arrowhead\" d=\"M1120,266.5 L1112,254.5 1128,254.5\" fill=\"currentColor\"/>\n",
              "</g>\n",
              "\n",
              "<g class=\"displacy-arrow\">\n",
              "    <path class=\"displacy-arc\" id=\"arrow-9ba83ac131b04734973891154f857001-0-7\" stroke-width=\"2px\" d=\"M1295,264.5 C1295,177.0 1440.0,177.0 1440.0,264.5\" fill=\"none\" stroke=\"currentColor\"/>\n",
              "    <text dy=\"1.25em\" style=\"font-size: 0.8em; letter-spacing: 1px\">\n",
              "        <textPath xlink:href=\"#arrow-9ba83ac131b04734973891154f857001-0-7\" class=\"displacy-label\" startOffset=\"50%\" side=\"left\" fill=\"currentColor\" text-anchor=\"middle\">dobj</textPath>\n",
              "    </text>\n",
              "    <path class=\"displacy-arrowhead\" d=\"M1440.0,266.5 L1448.0,254.5 1432.0,254.5\" fill=\"currentColor\"/>\n",
              "</g>\n",
              "</svg></span>"
            ]
          },
          "metadata": {}
        }
      ],
      "source": [
        "displacy.render(donkey_doc, style='dep')"
      ]
    },
    {
      "cell_type": "markdown",
      "metadata": {
        "id": "4NOLHFHFKLjk"
      },
      "source": [
        "#### Named Entity Recognition (NER)"
      ]
    },
    {
      "cell_type": "code",
      "execution_count": 18,
      "metadata": {
        "id": "D9ZEAHBnXQuM"
      },
      "outputs": [],
      "source": [
        "from spacy.tokens import Span"
      ]
    },
    {
      "cell_type": "code",
      "execution_count": 19,
      "metadata": {
        "colab": {
          "base_uri": "https://localhost:8080/"
        },
        "id": "4NHJQCmaWAY4",
        "outputId": "f9b84e98-1d79-4dfb-9e5c-eabc4c006e99"
      },
      "outputs": [
        {
          "output_type": "stream",
          "name": "stdout",
          "text": [
            "Donald Trump 10 22 PERSON\n",
            "Twitter 49 56 PRODUCT\n"
          ]
        }
      ],
      "source": [
        "doc_twit = nlp_en(\"President Donald Trump is permanently blocked on Twitter.\")\n",
        "\n",
        "for ent in doc_twit.ents:\n",
        "    print(ent.text, ent.start_char, ent.end_char, ent.label_)"
      ]
    },
    {
      "cell_type": "markdown",
      "metadata": {
        "id": "9tqnkdMV98g7"
      },
      "source": [
        "Возможно добавление именованных сущностей, которые модель не распознала автоматически, вручную."
      ]
    },
    {
      "cell_type": "code",
      "execution_count": 20,
      "metadata": {
        "colab": {
          "base_uri": "https://localhost:8080/"
        },
        "id": "MOjDeVHQKLjl",
        "outputId": "bd3390a7-2293-435d-f7a2-e63e463dcd08"
      },
      "outputs": [
        {
          "output_type": "stream",
          "name": "stdout",
          "text": [
            "Before [('Donald Trump', 10, 22, 'PERSON'), ('Twitter', 49, 56, 'PRODUCT')]\n",
            "After [('President', 0, 9, 'PE'), ('Donald Trump', 10, 22, 'PERSON'), ('Twitter', 49, 56, 'PRODUCT')]\n"
          ]
        }
      ],
      "source": [
        "ents = [(e.text, e.start_char, e.end_char, e.label_) for e in doc_twit.ents]\n",
        "print('Before', ents)\n",
        "# the model didn't recognise \"President\" :(\n",
        "\n",
        "president_ent = Span(doc_twit, 0, 1, label=\"PE\")  # create a Span for the new entity, PE = political entity\n",
        "doc_twit.ents = list(doc_twit.ents) + [president_ent]\n",
        "\n",
        "ents = [(e.text, e.start_char, e.end_char, e.label_) for e in doc_twit.ents]\n",
        "print('After', ents)"
      ]
    },
    {
      "cell_type": "code",
      "execution_count": 21,
      "metadata": {
        "colab": {
          "base_uri": "https://localhost:8080/",
          "height": 52
        },
        "id": "aKS_S_IwV8hj",
        "outputId": "e8654ffd-74df-4016-ec72-190fc975eaeb"
      },
      "outputs": [
        {
          "output_type": "display_data",
          "data": {
            "text/plain": [
              "<IPython.core.display.HTML object>"
            ],
            "text/html": [
              "<span class=\"tex2jax_ignore\"><div class=\"entities\" style=\"line-height: 2.5; direction: ltr\">\n",
              "<mark class=\"entity\" style=\"background: #ddd; padding: 0.45em 0.6em; margin: 0 0.25em; line-height: 1; border-radius: 0.35em;\">\n",
              "    President\n",
              "    <span style=\"font-size: 0.8em; font-weight: bold; line-height: 1; border-radius: 0.35em; vertical-align: middle; margin-left: 0.5rem\">PE</span>\n",
              "</mark>\n",
              " \n",
              "<mark class=\"entity\" style=\"background: #aa9cfc; padding: 0.45em 0.6em; margin: 0 0.25em; line-height: 1; border-radius: 0.35em;\">\n",
              "    Donald Trump\n",
              "    <span style=\"font-size: 0.8em; font-weight: bold; line-height: 1; border-radius: 0.35em; vertical-align: middle; margin-left: 0.5rem\">PERSON</span>\n",
              "</mark>\n",
              " is permanently blocked on \n",
              "<mark class=\"entity\" style=\"background: #bfeeb7; padding: 0.45em 0.6em; margin: 0 0.25em; line-height: 1; border-radius: 0.35em;\">\n",
              "    Twitter\n",
              "    <span style=\"font-size: 0.8em; font-weight: bold; line-height: 1; border-radius: 0.35em; vertical-align: middle; margin-left: 0.5rem\">PRODUCT</span>\n",
              "</mark>\n",
              ".</div></span>"
            ]
          },
          "metadata": {}
        }
      ],
      "source": [
        "displacy.render(doc_twit, style='ent')"
      ]
    },
    {
      "cell_type": "markdown",
      "metadata": {
        "id": "u7ye8dbTKLjm"
      },
      "source": [
        "#### Как обстоят дела с другими языками?"
      ]
    },
    {
      "cell_type": "markdown",
      "metadata": {
        "id": "4dMiq7uPKLjn"
      },
      "source": [
        "Загрузим модель для русского языка:"
      ]
    },
    {
      "cell_type": "code",
      "execution_count": 22,
      "metadata": {
        "id": "KpxCZDapKLjn"
      },
      "outputs": [],
      "source": [
        "nlp_ru = spacy.load(\"ru_core_news_sm\")"
      ]
    },
    {
      "cell_type": "code",
      "execution_count": 23,
      "metadata": {
        "colab": {
          "base_uri": "https://localhost:8080/"
        },
        "id": "COYVAB7EKLjn",
        "outputId": "18804967-327f-4929-f9de-6cbc603fbb3b"
      },
      "outputs": [
        {
          "output_type": "stream",
          "name": "stdout",
          "text": [
            "Блины блин NOUN Animacy=Inan|Case=Nom|Gender=Masc|Number=Plur\n",
            "бабушка бабушка NOUN Animacy=Anim|Case=Nom|Gender=Fem|Number=Sing\n",
            "очень очень ADV Degree=Pos\n",
            "уж уж PART \n",
            "вкусные вкусный ADJ Case=Nom|Degree=Pos|Number=Plur\n",
            "печет печет NOUN Animacy=Inan|Case=Nom|Gender=Masc|Number=Sing\n",
            ". . PUNCT \n"
          ]
        }
      ],
      "source": [
        "pancakes_doc = nlp_ru(\"Блины бабушка очень уж вкусные печет.\")\n",
        "for token in pancakes_doc:\n",
        "    print(token.text, token.lemma_, token.pos_, token.morph)"
      ]
    },
    {
      "cell_type": "code",
      "execution_count": 24,
      "metadata": {
        "colab": {
          "base_uri": "https://localhost:8080/",
          "height": 421
        },
        "id": "fG_B5mfKaFzL",
        "outputId": "43f94827-4801-400f-f35e-586c72ab0853"
      },
      "outputs": [
        {
          "output_type": "display_data",
          "data": {
            "text/plain": [
              "<IPython.core.display.HTML object>"
            ],
            "text/html": [
              "<span class=\"tex2jax_ignore\"><svg xmlns=\"http://www.w3.org/2000/svg\" xmlns:xlink=\"http://www.w3.org/1999/xlink\" xml:lang=\"ru\" id=\"036c28d427874de8b134b7379c9c3598-0\" class=\"displacy\" width=\"1100\" height=\"399.5\" direction=\"ltr\" style=\"max-width: none; height: 399.5px; color: #000000; background: #ffffff; font-family: Arial; direction: ltr\">\n",
              "<text class=\"displacy-token\" fill=\"currentColor\" text-anchor=\"middle\" y=\"309.5\">\n",
              "    <tspan class=\"displacy-word\" fill=\"currentColor\" x=\"50\">Блины</tspan>\n",
              "    <tspan class=\"displacy-tag\" dy=\"2em\" fill=\"currentColor\" x=\"50\">NOUN</tspan>\n",
              "</text>\n",
              "\n",
              "<text class=\"displacy-token\" fill=\"currentColor\" text-anchor=\"middle\" y=\"309.5\">\n",
              "    <tspan class=\"displacy-word\" fill=\"currentColor\" x=\"225\">бабушка</tspan>\n",
              "    <tspan class=\"displacy-tag\" dy=\"2em\" fill=\"currentColor\" x=\"225\">NOUN</tspan>\n",
              "</text>\n",
              "\n",
              "<text class=\"displacy-token\" fill=\"currentColor\" text-anchor=\"middle\" y=\"309.5\">\n",
              "    <tspan class=\"displacy-word\" fill=\"currentColor\" x=\"400\">очень</tspan>\n",
              "    <tspan class=\"displacy-tag\" dy=\"2em\" fill=\"currentColor\" x=\"400\">ADV</tspan>\n",
              "</text>\n",
              "\n",
              "<text class=\"displacy-token\" fill=\"currentColor\" text-anchor=\"middle\" y=\"309.5\">\n",
              "    <tspan class=\"displacy-word\" fill=\"currentColor\" x=\"575\">уж</tspan>\n",
              "    <tspan class=\"displacy-tag\" dy=\"2em\" fill=\"currentColor\" x=\"575\">PART</tspan>\n",
              "</text>\n",
              "\n",
              "<text class=\"displacy-token\" fill=\"currentColor\" text-anchor=\"middle\" y=\"309.5\">\n",
              "    <tspan class=\"displacy-word\" fill=\"currentColor\" x=\"750\">вкусные</tspan>\n",
              "    <tspan class=\"displacy-tag\" dy=\"2em\" fill=\"currentColor\" x=\"750\">ADJ</tspan>\n",
              "</text>\n",
              "\n",
              "<text class=\"displacy-token\" fill=\"currentColor\" text-anchor=\"middle\" y=\"309.5\">\n",
              "    <tspan class=\"displacy-word\" fill=\"currentColor\" x=\"925\">печет.</tspan>\n",
              "    <tspan class=\"displacy-tag\" dy=\"2em\" fill=\"currentColor\" x=\"925\">NOUN</tspan>\n",
              "</text>\n",
              "\n",
              "<g class=\"displacy-arrow\">\n",
              "    <path class=\"displacy-arc\" id=\"arrow-036c28d427874de8b134b7379c9c3598-0-0\" stroke-width=\"2px\" d=\"M70,264.5 C70,2.0 925.0,2.0 925.0,264.5\" fill=\"none\" stroke=\"currentColor\"/>\n",
              "    <text dy=\"1.25em\" style=\"font-size: 0.8em; letter-spacing: 1px\">\n",
              "        <textPath xlink:href=\"#arrow-036c28d427874de8b134b7379c9c3598-0-0\" class=\"displacy-label\" startOffset=\"50%\" side=\"left\" fill=\"currentColor\" text-anchor=\"middle\">nsubj</textPath>\n",
              "    </text>\n",
              "    <path class=\"displacy-arrowhead\" d=\"M70,266.5 L62,254.5 78,254.5\" fill=\"currentColor\"/>\n",
              "</g>\n",
              "\n",
              "<g class=\"displacy-arrow\">\n",
              "    <path class=\"displacy-arc\" id=\"arrow-036c28d427874de8b134b7379c9c3598-0-1\" stroke-width=\"2px\" d=\"M245,264.5 C245,89.5 920.0,89.5 920.0,264.5\" fill=\"none\" stroke=\"currentColor\"/>\n",
              "    <text dy=\"1.25em\" style=\"font-size: 0.8em; letter-spacing: 1px\">\n",
              "        <textPath xlink:href=\"#arrow-036c28d427874de8b134b7379c9c3598-0-1\" class=\"displacy-label\" startOffset=\"50%\" side=\"left\" fill=\"currentColor\" text-anchor=\"middle\">nsubj</textPath>\n",
              "    </text>\n",
              "    <path class=\"displacy-arrowhead\" d=\"M245,266.5 L237,254.5 253,254.5\" fill=\"currentColor\"/>\n",
              "</g>\n",
              "\n",
              "<g class=\"displacy-arrow\">\n",
              "    <path class=\"displacy-arc\" id=\"arrow-036c28d427874de8b134b7379c9c3598-0-2\" stroke-width=\"2px\" d=\"M420,264.5 C420,177.0 565.0,177.0 565.0,264.5\" fill=\"none\" stroke=\"currentColor\"/>\n",
              "    <text dy=\"1.25em\" style=\"font-size: 0.8em; letter-spacing: 1px\">\n",
              "        <textPath xlink:href=\"#arrow-036c28d427874de8b134b7379c9c3598-0-2\" class=\"displacy-label\" startOffset=\"50%\" side=\"left\" fill=\"currentColor\" text-anchor=\"middle\">advmod</textPath>\n",
              "    </text>\n",
              "    <path class=\"displacy-arrowhead\" d=\"M420,266.5 L412,254.5 428,254.5\" fill=\"currentColor\"/>\n",
              "</g>\n",
              "\n",
              "<g class=\"displacy-arrow\">\n",
              "    <path class=\"displacy-arc\" id=\"arrow-036c28d427874de8b134b7379c9c3598-0-3\" stroke-width=\"2px\" d=\"M595,264.5 C595,177.0 740.0,177.0 740.0,264.5\" fill=\"none\" stroke=\"currentColor\"/>\n",
              "    <text dy=\"1.25em\" style=\"font-size: 0.8em; letter-spacing: 1px\">\n",
              "        <textPath xlink:href=\"#arrow-036c28d427874de8b134b7379c9c3598-0-3\" class=\"displacy-label\" startOffset=\"50%\" side=\"left\" fill=\"currentColor\" text-anchor=\"middle\">advmod</textPath>\n",
              "    </text>\n",
              "    <path class=\"displacy-arrowhead\" d=\"M595,266.5 L587,254.5 603,254.5\" fill=\"currentColor\"/>\n",
              "</g>\n",
              "\n",
              "<g class=\"displacy-arrow\">\n",
              "    <path class=\"displacy-arc\" id=\"arrow-036c28d427874de8b134b7379c9c3598-0-4\" stroke-width=\"2px\" d=\"M770,264.5 C770,177.0 915.0,177.0 915.0,264.5\" fill=\"none\" stroke=\"currentColor\"/>\n",
              "    <text dy=\"1.25em\" style=\"font-size: 0.8em; letter-spacing: 1px\">\n",
              "        <textPath xlink:href=\"#arrow-036c28d427874de8b134b7379c9c3598-0-4\" class=\"displacy-label\" startOffset=\"50%\" side=\"left\" fill=\"currentColor\" text-anchor=\"middle\">amod</textPath>\n",
              "    </text>\n",
              "    <path class=\"displacy-arrowhead\" d=\"M770,266.5 L762,254.5 778,254.5\" fill=\"currentColor\"/>\n",
              "</g>\n",
              "</svg></span>"
            ]
          },
          "metadata": {}
        }
      ],
      "source": [
        "displacy.render(pancakes_doc, style='dep')"
      ]
    },
    {
      "cell_type": "code",
      "execution_count": 25,
      "metadata": {
        "colab": {
          "base_uri": "https://localhost:8080/",
          "height": 333
        },
        "id": "DBKwaWbDKLjn",
        "outputId": "8dc8c11c-4ac8-489f-a9ea-fd523c615b08"
      },
      "outputs": [
        {
          "output_type": "display_data",
          "data": {
            "text/plain": [
              "<IPython.core.display.HTML object>"
            ],
            "text/html": [
              "<span class=\"tex2jax_ignore\"><svg xmlns=\"http://www.w3.org/2000/svg\" xmlns:xlink=\"http://www.w3.org/1999/xlink\" xml:lang=\"ru\" id=\"a96f6dcc37b9435daba147eff226d4cf-0\" class=\"displacy\" width=\"575\" height=\"312.0\" direction=\"ltr\" style=\"max-width: none; height: 312.0px; color: #000000; background: #ffffff; font-family: Arial; direction: ltr\">\n",
              "<text class=\"displacy-token\" fill=\"currentColor\" text-anchor=\"middle\" y=\"222.0\">\n",
              "    <tspan class=\"displacy-word\" fill=\"currentColor\" x=\"50\">Какой</tspan>\n",
              "    <tspan class=\"displacy-tag\" dy=\"2em\" fill=\"currentColor\" x=\"50\">DET</tspan>\n",
              "</text>\n",
              "\n",
              "<text class=\"displacy-token\" fill=\"currentColor\" text-anchor=\"middle\" y=\"222.0\">\n",
              "    <tspan class=\"displacy-word\" fill=\"currentColor\" x=\"225\">прекрасный</tspan>\n",
              "    <tspan class=\"displacy-tag\" dy=\"2em\" fill=\"currentColor\" x=\"225\">ADJ</tspan>\n",
              "</text>\n",
              "\n",
              "<text class=\"displacy-token\" fill=\"currentColor\" text-anchor=\"middle\" y=\"222.0\">\n",
              "    <tspan class=\"displacy-word\" fill=\"currentColor\" x=\"400\">пень!</tspan>\n",
              "    <tspan class=\"displacy-tag\" dy=\"2em\" fill=\"currentColor\" x=\"400\">NOUN</tspan>\n",
              "</text>\n",
              "\n",
              "<g class=\"displacy-arrow\">\n",
              "    <path class=\"displacy-arc\" id=\"arrow-a96f6dcc37b9435daba147eff226d4cf-0-0\" stroke-width=\"2px\" d=\"M70,177.0 C70,2.0 400.0,2.0 400.0,177.0\" fill=\"none\" stroke=\"currentColor\"/>\n",
              "    <text dy=\"1.25em\" style=\"font-size: 0.8em; letter-spacing: 1px\">\n",
              "        <textPath xlink:href=\"#arrow-a96f6dcc37b9435daba147eff226d4cf-0-0\" class=\"displacy-label\" startOffset=\"50%\" side=\"left\" fill=\"currentColor\" text-anchor=\"middle\">det</textPath>\n",
              "    </text>\n",
              "    <path class=\"displacy-arrowhead\" d=\"M70,179.0 L62,167.0 78,167.0\" fill=\"currentColor\"/>\n",
              "</g>\n",
              "\n",
              "<g class=\"displacy-arrow\">\n",
              "    <path class=\"displacy-arc\" id=\"arrow-a96f6dcc37b9435daba147eff226d4cf-0-1\" stroke-width=\"2px\" d=\"M245,177.0 C245,89.5 395.0,89.5 395.0,177.0\" fill=\"none\" stroke=\"currentColor\"/>\n",
              "    <text dy=\"1.25em\" style=\"font-size: 0.8em; letter-spacing: 1px\">\n",
              "        <textPath xlink:href=\"#arrow-a96f6dcc37b9435daba147eff226d4cf-0-1\" class=\"displacy-label\" startOffset=\"50%\" side=\"left\" fill=\"currentColor\" text-anchor=\"middle\">amod</textPath>\n",
              "    </text>\n",
              "    <path class=\"displacy-arrowhead\" d=\"M245,179.0 L237,167.0 253,167.0\" fill=\"currentColor\"/>\n",
              "</g>\n",
              "</svg></span>"
            ]
          },
          "metadata": {}
        }
      ],
      "source": [
        "mouse_doc = nlp_ru(\"Какой прекрасный пень!\")\n",
        "\n",
        "displacy.render(mouse_doc, style='dep')"
      ]
    },
    {
      "cell_type": "code",
      "execution_count": 26,
      "metadata": {
        "colab": {
          "base_uri": "https://localhost:8080/",
          "height": 528
        },
        "id": "Sd8ZETooKLjo",
        "outputId": "bb591d51-9223-4f00-e0d9-5719495367d6"
      },
      "outputs": [
        {
          "output_type": "display_data",
          "data": {
            "text/plain": [
              "<IPython.core.display.HTML object>"
            ],
            "text/html": [
              "<span class=\"tex2jax_ignore\"><svg xmlns=\"http://www.w3.org/2000/svg\" xmlns:xlink=\"http://www.w3.org/1999/xlink\" xml:lang=\"ru\" id=\"4566de06e9554b23be102e725d10e08a-0\" class=\"displacy\" width=\"1450\" height=\"487.0\" direction=\"ltr\" style=\"max-width: none; height: 487.0px; color: #000000; background: #ffffff; font-family: Arial; direction: ltr\">\n",
              "<text class=\"displacy-token\" fill=\"currentColor\" text-anchor=\"middle\" y=\"397.0\">\n",
              "    <tspan class=\"displacy-word\" fill=\"currentColor\" x=\"50\">Семантику</tspan>\n",
              "    <tspan class=\"displacy-tag\" dy=\"2em\" fill=\"currentColor\" x=\"50\">NOUN</tspan>\n",
              "</text>\n",
              "\n",
              "<text class=\"displacy-token\" fill=\"currentColor\" text-anchor=\"middle\" y=\"397.0\">\n",
              "    <tspan class=\"displacy-word\" fill=\"currentColor\" x=\"225\">я</tspan>\n",
              "    <tspan class=\"displacy-tag\" dy=\"2em\" fill=\"currentColor\" x=\"225\">PRON</tspan>\n",
              "</text>\n",
              "\n",
              "<text class=\"displacy-token\" fill=\"currentColor\" text-anchor=\"middle\" y=\"397.0\">\n",
              "    <tspan class=\"displacy-word\" fill=\"currentColor\" x=\"400\">люблю,</tspan>\n",
              "    <tspan class=\"displacy-tag\" dy=\"2em\" fill=\"currentColor\" x=\"400\">VERB</tspan>\n",
              "</text>\n",
              "\n",
              "<text class=\"displacy-token\" fill=\"currentColor\" text-anchor=\"middle\" y=\"397.0\">\n",
              "    <tspan class=\"displacy-word\" fill=\"currentColor\" x=\"575\">а</tspan>\n",
              "    <tspan class=\"displacy-tag\" dy=\"2em\" fill=\"currentColor\" x=\"575\">CCONJ</tspan>\n",
              "</text>\n",
              "\n",
              "<text class=\"displacy-token\" fill=\"currentColor\" text-anchor=\"middle\" y=\"397.0\">\n",
              "    <tspan class=\"displacy-word\" fill=\"currentColor\" x=\"750\">вот</tspan>\n",
              "    <tspan class=\"displacy-tag\" dy=\"2em\" fill=\"currentColor\" x=\"750\">PART</tspan>\n",
              "</text>\n",
              "\n",
              "<text class=\"displacy-token\" fill=\"currentColor\" text-anchor=\"middle\" y=\"397.0\">\n",
              "    <tspan class=\"displacy-word\" fill=\"currentColor\" x=\"925\">синтаксис</tspan>\n",
              "    <tspan class=\"displacy-tag\" dy=\"2em\" fill=\"currentColor\" x=\"925\">NOUN</tspan>\n",
              "</text>\n",
              "\n",
              "<text class=\"displacy-token\" fill=\"currentColor\" text-anchor=\"middle\" y=\"397.0\">\n",
              "    <tspan class=\"displacy-word\" fill=\"currentColor\" x=\"1100\">не</tspan>\n",
              "    <tspan class=\"displacy-tag\" dy=\"2em\" fill=\"currentColor\" x=\"1100\">PART</tspan>\n",
              "</text>\n",
              "\n",
              "<text class=\"displacy-token\" fill=\"currentColor\" text-anchor=\"middle\" y=\"397.0\">\n",
              "    <tspan class=\"displacy-word\" fill=\"currentColor\" x=\"1275\">очень.</tspan>\n",
              "    <tspan class=\"displacy-tag\" dy=\"2em\" fill=\"currentColor\" x=\"1275\">ADV</tspan>\n",
              "</text>\n",
              "\n",
              "<g class=\"displacy-arrow\">\n",
              "    <path class=\"displacy-arc\" id=\"arrow-4566de06e9554b23be102e725d10e08a-0-0\" stroke-width=\"2px\" d=\"M70,352.0 C70,177.0 390.0,177.0 390.0,352.0\" fill=\"none\" stroke=\"currentColor\"/>\n",
              "    <text dy=\"1.25em\" style=\"font-size: 0.8em; letter-spacing: 1px\">\n",
              "        <textPath xlink:href=\"#arrow-4566de06e9554b23be102e725d10e08a-0-0\" class=\"displacy-label\" startOffset=\"50%\" side=\"left\" fill=\"currentColor\" text-anchor=\"middle\">obj</textPath>\n",
              "    </text>\n",
              "    <path class=\"displacy-arrowhead\" d=\"M70,354.0 L62,342.0 78,342.0\" fill=\"currentColor\"/>\n",
              "</g>\n",
              "\n",
              "<g class=\"displacy-arrow\">\n",
              "    <path class=\"displacy-arc\" id=\"arrow-4566de06e9554b23be102e725d10e08a-0-1\" stroke-width=\"2px\" d=\"M245,352.0 C245,264.5 385.0,264.5 385.0,352.0\" fill=\"none\" stroke=\"currentColor\"/>\n",
              "    <text dy=\"1.25em\" style=\"font-size: 0.8em; letter-spacing: 1px\">\n",
              "        <textPath xlink:href=\"#arrow-4566de06e9554b23be102e725d10e08a-0-1\" class=\"displacy-label\" startOffset=\"50%\" side=\"left\" fill=\"currentColor\" text-anchor=\"middle\">nsubj</textPath>\n",
              "    </text>\n",
              "    <path class=\"displacy-arrowhead\" d=\"M245,354.0 L237,342.0 253,342.0\" fill=\"currentColor\"/>\n",
              "</g>\n",
              "\n",
              "<g class=\"displacy-arrow\">\n",
              "    <path class=\"displacy-arc\" id=\"arrow-4566de06e9554b23be102e725d10e08a-0-2\" stroke-width=\"2px\" d=\"M595,352.0 C595,89.5 1270.0,89.5 1270.0,352.0\" fill=\"none\" stroke=\"currentColor\"/>\n",
              "    <text dy=\"1.25em\" style=\"font-size: 0.8em; letter-spacing: 1px\">\n",
              "        <textPath xlink:href=\"#arrow-4566de06e9554b23be102e725d10e08a-0-2\" class=\"displacy-label\" startOffset=\"50%\" side=\"left\" fill=\"currentColor\" text-anchor=\"middle\">cc</textPath>\n",
              "    </text>\n",
              "    <path class=\"displacy-arrowhead\" d=\"M595,354.0 L587,342.0 603,342.0\" fill=\"currentColor\"/>\n",
              "</g>\n",
              "\n",
              "<g class=\"displacy-arrow\">\n",
              "    <path class=\"displacy-arc\" id=\"arrow-4566de06e9554b23be102e725d10e08a-0-3\" stroke-width=\"2px\" d=\"M770,352.0 C770,264.5 910.0,264.5 910.0,352.0\" fill=\"none\" stroke=\"currentColor\"/>\n",
              "    <text dy=\"1.25em\" style=\"font-size: 0.8em; letter-spacing: 1px\">\n",
              "        <textPath xlink:href=\"#arrow-4566de06e9554b23be102e725d10e08a-0-3\" class=\"displacy-label\" startOffset=\"50%\" side=\"left\" fill=\"currentColor\" text-anchor=\"middle\">advmod</textPath>\n",
              "    </text>\n",
              "    <path class=\"displacy-arrowhead\" d=\"M770,354.0 L762,342.0 778,342.0\" fill=\"currentColor\"/>\n",
              "</g>\n",
              "\n",
              "<g class=\"displacy-arrow\">\n",
              "    <path class=\"displacy-arc\" id=\"arrow-4566de06e9554b23be102e725d10e08a-0-4\" stroke-width=\"2px\" d=\"M945,352.0 C945,177.0 1265.0,177.0 1265.0,352.0\" fill=\"none\" stroke=\"currentColor\"/>\n",
              "    <text dy=\"1.25em\" style=\"font-size: 0.8em; letter-spacing: 1px\">\n",
              "        <textPath xlink:href=\"#arrow-4566de06e9554b23be102e725d10e08a-0-4\" class=\"displacy-label\" startOffset=\"50%\" side=\"left\" fill=\"currentColor\" text-anchor=\"middle\">nsubj</textPath>\n",
              "    </text>\n",
              "    <path class=\"displacy-arrowhead\" d=\"M945,354.0 L937,342.0 953,342.0\" fill=\"currentColor\"/>\n",
              "</g>\n",
              "\n",
              "<g class=\"displacy-arrow\">\n",
              "    <path class=\"displacy-arc\" id=\"arrow-4566de06e9554b23be102e725d10e08a-0-5\" stroke-width=\"2px\" d=\"M1120,352.0 C1120,264.5 1260.0,264.5 1260.0,352.0\" fill=\"none\" stroke=\"currentColor\"/>\n",
              "    <text dy=\"1.25em\" style=\"font-size: 0.8em; letter-spacing: 1px\">\n",
              "        <textPath xlink:href=\"#arrow-4566de06e9554b23be102e725d10e08a-0-5\" class=\"displacy-label\" startOffset=\"50%\" side=\"left\" fill=\"currentColor\" text-anchor=\"middle\">advmod</textPath>\n",
              "    </text>\n",
              "    <path class=\"displacy-arrowhead\" d=\"M1120,354.0 L1112,342.0 1128,342.0\" fill=\"currentColor\"/>\n",
              "</g>\n",
              "\n",
              "<g class=\"displacy-arrow\">\n",
              "    <path class=\"displacy-arc\" id=\"arrow-4566de06e9554b23be102e725d10e08a-0-6\" stroke-width=\"2px\" d=\"M420,352.0 C420,2.0 1275.0,2.0 1275.0,352.0\" fill=\"none\" stroke=\"currentColor\"/>\n",
              "    <text dy=\"1.25em\" style=\"font-size: 0.8em; letter-spacing: 1px\">\n",
              "        <textPath xlink:href=\"#arrow-4566de06e9554b23be102e725d10e08a-0-6\" class=\"displacy-label\" startOffset=\"50%\" side=\"left\" fill=\"currentColor\" text-anchor=\"middle\">conj</textPath>\n",
              "    </text>\n",
              "    <path class=\"displacy-arrowhead\" d=\"M1275.0,354.0 L1283.0,342.0 1267.0,342.0\" fill=\"currentColor\"/>\n",
              "</g>\n",
              "</svg></span>"
            ]
          },
          "metadata": {}
        }
      ],
      "source": [
        "sem_synt_doc = nlp_ru(\"Семантику я люблю, а вот синтаксис не очень.\")\n",
        "\n",
        "displacy.render(sem_synt_doc, style='dep')"
      ]
    },
    {
      "cell_type": "code",
      "execution_count": 27,
      "metadata": {
        "colab": {
          "base_uri": "https://localhost:8080/",
          "height": 52
        },
        "id": "IFwEjGleKLjo",
        "outputId": "08d603c7-c4d9-4008-d1b0-934eedc3745b"
      },
      "outputs": [
        {
          "output_type": "display_data",
          "data": {
            "text/plain": [
              "<IPython.core.display.HTML object>"
            ],
            "text/html": [
              "<span class=\"tex2jax_ignore\"><div class=\"entities\" style=\"line-height: 2.5; direction: ltr\">Легендарный \n",
              "<mark class=\"entity\" style=\"background: #ddd; padding: 0.45em 0.6em; margin: 0 0.25em; line-height: 1; border-radius: 0.35em;\">\n",
              "    Бока\n",
              "    <span style=\"font-size: 0.8em; font-weight: bold; line-height: 1; border-radius: 0.35em; vertical-align: middle; margin-left: 0.5rem\">PER</span>\n",
              "</mark>\n",
              " и его внук популярный певец \n",
              "<mark class=\"entity\" style=\"background: #ddd; padding: 0.45em 0.6em; margin: 0 0.25em; line-height: 1; border-radius: 0.35em;\">\n",
              "    Жока\n",
              "    <span style=\"font-size: 0.8em; font-weight: bold; line-height: 1; border-radius: 0.35em; vertical-align: middle; margin-left: 0.5rem\">PER</span>\n",
              "</mark>\n",
              " пишут код на \n",
              "<mark class=\"entity\" style=\"background: #7aecec; padding: 0.45em 0.6em; margin: 0 0.25em; line-height: 1; border-radius: 0.35em;\">\n",
              "    Python\n",
              "    <span style=\"font-size: 0.8em; font-weight: bold; line-height: 1; border-radius: 0.35em; vertical-align: middle; margin-left: 0.5rem\">ORG</span>\n",
              "</mark>\n",
              ".</div></span>"
            ]
          },
          "metadata": {}
        }
      ],
      "source": [
        "kate_doc = nlp_ru(\"Легендарный Бока и его внук популярный певец Жока пишут код на Python.\")\n",
        "\n",
        "displacy.render(kate_doc, style='ent')"
      ]
    },
    {
      "cell_type": "markdown",
      "metadata": {
        "id": "naLr-K7ebddj"
      },
      "source": [
        "## Universal Dependencies Parser"
      ]
    },
    {
      "cell_type": "markdown",
      "metadata": {
        "id": "6SgjRPN1bgDw"
      },
      "source": [
        "[Один из туториалов-сравнений](https://habr.com/ru/company/sberbank/blog/418701/)\n",
        "\n",
        "[**Universal Dependencies**](https://universaldependencies.org/) $-$ это проект по унификации разметки синтаксических корпусов (трибанков) в рамках грамматики зависимостей.\n",
        "\n",
        "В русском языке количество типов синтаксических связей ограничено: подлежащее, сказуемое и т.д. В английском то же самое, но набор уже другой. Например, там появляется артикль, который тоже надо как-то маркировать. Если бы мы хотели написать волшебный парсер, который мог бы обрабатывать все языки, то довольно быстро уперлись бы в проблемы сопоставления разных грамматик. Героическим создателям Universal Dependencies удалось договориться между собой и разметить все корпусы, которые имелись в их распоряжении, в едином формате.\n",
        "\n",
        "Для того, чтобы разметить что-то новое, нужно обучить модель на размеченном корпусе. Таких корпусов для русского языка есть несколько (можно посмотреть на сайте Universal Dependencies). Основные и самые большие размеченные корпуса:\n",
        "+ Syntagrus\n",
        "+ Taiga"
      ]
    },
    {
      "cell_type": "markdown",
      "metadata": {
        "id": "WvEC_5HjdWuV"
      },
      "source": [
        "### UDPipe 2.0, принцип работы"
      ]
    },
    {
      "cell_type": "markdown",
      "metadata": {
        "id": "zV17Z5aAdRcT"
      },
      "source": [
        "+ Сначала текст разделяется на предложения, а предложения $-$ на слова.\n",
        "+ Затем начинает работу теггер $-$ штука, которая предсказывает морфологические свойства токена: в каком падеже слово стоит, в каком числе. По последним четырем символам каждого слова теггер генерирует гипотезы относительно части речи и морфологических тегов этого слова, а затем при помощи перцептрона отбирает лучший вариант.\n",
        "+ В UDPipe есть еще лемматизатор, который подбирает для слов начальную форму.\n",
        "+ потом происходит синтаксический парсинг\n",
        "\n",
        "В итоге получается какой-то такой разбор по грамматике зависимостей предложения:\n",
        "\n",
        "Пример для английского            |  Пример для русского\n",
        ":--------------------------------:|:-------------------------:\n",
        "![](https://habrastorage.org/getpro/habr/post_images/686/c78/066/686c780661b296250d53cba054317a18.png)  |  ![](https://github.com/hse-ling-python/seminars/blob/master/UDPipe/koshka.png?raw=1)\n",
        "\n",
        "\n",
        "\n"
      ]
    },
    {
      "cell_type": "markdown",
      "metadata": {
        "id": "8F7nvH8Qd-dZ"
      },
      "source": [
        "## UDPipe в Python"
      ]
    },
    {
      "cell_type": "markdown",
      "metadata": {
        "id": "ZYuOH38veEwX"
      },
      "source": [
        "+ Установка:\n",
        "```python\n",
        "pip install ufal.udpipe\n",
        "pip install conllu\n",
        "```\n",
        "+ вспомогательный скрипт `model.py`: cкачайте его себе с нашего [гитхаба](https://raw.githubusercontent.com/hse-ling-python/seminars/refs/heads/master/UDPipe/model.py).\n",
        "\n",
        "+ модель для русского (либо *taiga*, либо *syntagrus*): скачать [отсюда](https://github.com/jwijffels/udpipe.models.ud.2.4/tree/master/inst/udpipe-ud-2.4-190531). ."
      ]
    },
    {
      "cell_type": "code",
      "execution_count": 28,
      "metadata": {
        "id": "RKGloEbVbczi",
        "colab": {
          "base_uri": "https://localhost:8080/"
        },
        "outputId": "e335e4a6-56dc-462d-e45a-f4e70e4cf36b"
      },
      "outputs": [
        {
          "output_type": "stream",
          "name": "stdout",
          "text": [
            "\u001b[?25l   \u001b[90m━━━━━━━━━━━━━━━━━━━━━━━━━━━━━━━━━━━━━━━━\u001b[0m \u001b[32m0.0/938.5 kB\u001b[0m \u001b[31m?\u001b[0m eta \u001b[36m-:--:--\u001b[0m\r\u001b[2K   \u001b[90m━━━━━━━━━━━━━━━━━━━━━━━━━━━━━━━━━━━━━━━━\u001b[0m \u001b[32m938.5/938.5 kB\u001b[0m \u001b[31m41.3 MB/s\u001b[0m eta \u001b[36m0:00:00\u001b[0m\n",
            "\u001b[?25h"
          ]
        }
      ],
      "source": [
        "!pip install ufal.udpipe --q\n",
        "!pip install conllu --q"
      ]
    },
    {
      "cell_type": "code",
      "execution_count": 29,
      "metadata": {
        "id": "g5lHGfmLeY1x"
      },
      "outputs": [],
      "source": [
        "!wget -q https://raw.githubusercontent.com/hse-ling-python/seminars/refs/heads/master/UDPipe/model.py\n",
        "!wget -q https://github.com/jwijffels/udpipe.models.ud.2.4/raw/refs/heads/master/inst/udpipe-ud-2.4-190531/russian-taiga-ud-2.4-190531.udpipe"
      ]
    },
    {
      "cell_type": "code",
      "execution_count": 30,
      "metadata": {
        "id": "77CNHE6jeX86"
      },
      "outputs": [],
      "source": [
        "import ufal.udpipe\n",
        "from model import Model\n",
        "import conllu\n",
        "from nltk.parse import DependencyGraph\n",
        "\n",
        "import warnings\n",
        "import os\n",
        "from collections import defaultdict, Counter\n",
        "\n",
        "\n",
        "warnings.filterwarnings('ignore')"
      ]
    },
    {
      "cell_type": "code",
      "execution_count": 31,
      "metadata": {
        "id": "M8pBDwAHe1P8"
      },
      "outputs": [],
      "source": [
        "our_model = Model('russian-taiga-ud-2.4-190531.udpipe')"
      ]
    },
    {
      "cell_type": "code",
      "execution_count": 32,
      "metadata": {
        "id": "OlHw4q53e1xG"
      },
      "outputs": [],
      "source": [
        "def get_conllu(my_model, text):\n",
        "    sentences = my_model.tokenize(text)\n",
        "\n",
        "    for sent in sentences:\n",
        "        my_model.tag(sent)\n",
        "        my_model.parse(sent)\n",
        "\n",
        "    conllu_text = my_model.write(sentences, \"conllu\")\n",
        "    return conllu_text"
      ]
    },
    {
      "cell_type": "markdown",
      "metadata": {
        "id": "9IgBKWSgtRGR"
      },
      "source": [
        "#### Парсинг: `get_conllu` вернёт табличку с анализом каждого слова"
      ]
    },
    {
      "cell_type": "code",
      "execution_count": 33,
      "metadata": {
        "colab": {
          "base_uri": "https://localhost:8080/"
        },
        "id": "XzSN0vzftRGS",
        "outputId": "caee87fc-0d63-4e19-d531-56343b54ccf9"
      },
      "outputs": [
        {
          "output_type": "stream",
          "name": "stdout",
          "text": [
            "# newdoc\n",
            "# newpar\n",
            "# sent_id = 1\n",
            "# text = Я была в школе целый день.\n",
            "1\tЯ\tя\tPRON\t_\tCase=Nom|Number=Sing|Person=1\t6\tnsubj\t_\t_\n",
            "2\tбыла\tбыть\tAUX\t_\tAspect=Imp|Gender=Fem|Mood=Ind|Number=Sing|Tense=Past|VerbForm=Fin|Voice=Act\t6\tcop\t_\t_\n",
            "3\tв\tв\tADP\t_\t_\t4\tcase\t_\t_\n",
            "4\tшколе\tшколя\tNOUN\t_\tAnimacy=Inan|Case=Loc|Gender=Masc|Number=Sing\t6\tnmod\t_\t_\n",
            "5\tцелый\tцелый\tADJ\t_\tAnimacy=Inan|Case=Acc|Degree=Pos|Gender=Masc|Number=Sing\t6\tamod\t_\t_\n",
            "6\tдень\tдень\tNOUN\t_\tAnimacy=Inan|Case=Acc|Gender=Masc|Number=Sing\t0\troot\t_\tSpaceAfter=No\n",
            "7\t.\t.\tPUNCT\t_\t_\t6\tpunct\t_\t_\n",
            "\n",
            "# sent_id = 2\n",
            "# text = И завтра тоже там буду.\n",
            "1\tИ\tи\tCCONJ\t_\t_\t4\tcc\t_\t_\n",
            "2\tзавтра\tзавтра\tADV\t_\tDegree=Pos\t4\tadvmod\t_\t_\n",
            "3\tтоже\tтоже\tPART\t_\t_\t4\tadvmod\t_\t_\n",
            "4\tтам\tтам\tADV\t_\tDegree=Pos\t0\troot\t_\t_\n",
            "5\tбуду\tбыть\tAUX\t_\tAspect=Imp|Mood=Ind|Number=Sing|Person=1|Tense=Pres|VerbForm=Fin|Voice=Act\t4\tcop\t_\tSpaceAfter=No\n",
            "6\t.\t.\tPUNCT\t_\t_\t4\tpunct\t_\tSpaceAfter=No\n",
            "\n",
            "\n"
          ]
        }
      ],
      "source": [
        "parsed_text = get_conllu(our_model, 'Я была в школе целый день. И завтра тоже там буду.')\n",
        "print(parsed_text)"
      ]
    },
    {
      "cell_type": "code",
      "execution_count": 34,
      "metadata": {
        "colab": {
          "base_uri": "https://localhost:8080/"
        },
        "id": "Lhk3h_4ntRGV",
        "outputId": "25dd7272-bfb7-4b8f-e3c1-d4853aa047f5"
      },
      "outputs": [
        {
          "output_type": "execute_result",
          "data": {
            "text/plain": [
              "[TokenTree<token={id=6, form=день}, children=[...]>,\n",
              " TokenTree<token={id=4, form=там}, children=[...]>]"
            ]
          },
          "metadata": {},
          "execution_count": 34
        }
      ],
      "source": [
        "conllu.parse_tree(parsed_text)"
      ]
    },
    {
      "cell_type": "markdown",
      "metadata": {
        "id": "GDbfqJnhtRGX"
      },
      "source": [
        "Получается, что это список из объектов, по одному для каждого предложения. Каждое предложение представляет собой дерево."
      ]
    },
    {
      "cell_type": "code",
      "execution_count": 35,
      "metadata": {
        "id": "yad-yx0DtRGb"
      },
      "outputs": [],
      "source": [
        "first_tree = conllu.parse_tree(parsed_text)[0]"
      ]
    },
    {
      "cell_type": "code",
      "execution_count": 36,
      "metadata": {
        "colab": {
          "base_uri": "https://localhost:8080/"
        },
        "id": "Ba825ZCEtRGf",
        "outputId": "cc05cef0-a583-4bb5-9f99-1d0d6fe3e3f9"
      },
      "outputs": [
        {
          "output_type": "stream",
          "name": "stdout",
          "text": [
            "(deprel:root) form:день lemma:день upos:NOUN [6]\n",
            "    (deprel:nsubj) form:Я lemma:я upos:PRON [1]\n",
            "    (deprel:cop) form:была lemma:быть upos:AUX [2]\n",
            "    (deprel:nmod) form:школе lemma:школя upos:NOUN [4]\n",
            "        (deprel:case) form:в lemma:в upos:ADP [3]\n",
            "    (deprel:amod) form:целый lemma:целый upos:ADJ [5]\n",
            "    (deprel:punct) form:. lemma:. upos:PUNCT [7]\n"
          ]
        }
      ],
      "source": [
        "first_tree.print_tree()  # вот это на винде не работает, запускайте в Google Colab"
      ]
    },
    {
      "cell_type": "markdown",
      "metadata": {
        "id": "tezpMBhQ__QI"
      },
      "source": [
        "Разобранные предложения хранятся в формате CONLL:\n",
        "- слово на каждой строчке,\n",
        "- тэги через табы,\n",
        "- предложения отделены двойными отступами.\n",
        "\n",
        "CONLL $-$ по названию конференции Conference on Computational Natural Language Learning, в рамках который проводились и проводятся соревнования по парсингу.\n"
      ]
    },
    {
      "cell_type": "markdown",
      "metadata": {
        "id": "c5vzcFMwiRQg"
      },
      "source": [
        "### Визуализация: `DependencyGraph`"
      ]
    },
    {
      "cell_type": "markdown",
      "metadata": {
        "id": "aw2LnakxiXGQ"
      },
      "source": [
        "DependencyGraph работает с форматом CONLL, поэтому напишем функцию, которая добавит в наш разбор табы и двойные отступы `get_dep_tree`."
      ]
    },
    {
      "cell_type": "code",
      "execution_count": 37,
      "metadata": {
        "id": "eBBXlgm-xnp4"
      },
      "outputs": [],
      "source": [
        "def get_dep_tree(text):\n",
        "    trees = []\n",
        "    for sent in text.split('\\n\\n'):\n",
        "        tree = [line for line in sent.split('\\n') if line and line[0] != '#']\n",
        "        trees.append('\\n'.join(tree))\n",
        "    return trees"
      ]
    },
    {
      "cell_type": "code",
      "execution_count": 38,
      "metadata": {
        "colab": {
          "base_uri": "https://localhost:8080/"
        },
        "id": "Uyn9t-Q0x71D",
        "outputId": "c2ce88a2-9996-4998-eddd-dc88b1414132"
      },
      "outputs": [
        {
          "output_type": "execute_result",
          "data": {
            "text/plain": [
              "['1\\tЯ\\tя\\tPRON\\t_\\tCase=Nom|Number=Sing|Person=1\\t6\\tnsubj\\t_\\t_\\n2\\tбыла\\tбыть\\tAUX\\t_\\tAspect=Imp|Gender=Fem|Mood=Ind|Number=Sing|Tense=Past|VerbForm=Fin|Voice=Act\\t6\\tcop\\t_\\t_\\n3\\tв\\tв\\tADP\\t_\\t_\\t4\\tcase\\t_\\t_\\n4\\tшколе\\tшколя\\tNOUN\\t_\\tAnimacy=Inan|Case=Loc|Gender=Masc|Number=Sing\\t6\\tnmod\\t_\\t_\\n5\\tцелый\\tцелый\\tADJ\\t_\\tAnimacy=Inan|Case=Acc|Degree=Pos|Gender=Masc|Number=Sing\\t6\\tamod\\t_\\t_\\n6\\tдень\\tдень\\tNOUN\\t_\\tAnimacy=Inan|Case=Acc|Gender=Masc|Number=Sing\\t0\\troot\\t_\\tSpaceAfter=No\\n7\\t.\\t.\\tPUNCT\\t_\\t_\\t6\\tpunct\\t_\\t_',\n",
              " '1\\tИ\\tи\\tCCONJ\\t_\\t_\\t4\\tcc\\t_\\t_\\n2\\tзавтра\\tзавтра\\tADV\\t_\\tDegree=Pos\\t4\\tadvmod\\t_\\t_\\n3\\tтоже\\tтоже\\tPART\\t_\\t_\\t4\\tadvmod\\t_\\t_\\n4\\tтам\\tтам\\tADV\\t_\\tDegree=Pos\\t0\\troot\\t_\\t_\\n5\\tбуду\\tбыть\\tAUX\\t_\\tAspect=Imp|Mood=Ind|Number=Sing|Person=1|Tense=Pres|VerbForm=Fin|Voice=Act\\t4\\tcop\\t_\\tSpaceAfter=No\\n6\\t.\\t.\\tPUNCT\\t_\\t_\\t4\\tpunct\\t_\\tSpaceAfter=No',\n",
              " '']"
            ]
          },
          "metadata": {},
          "execution_count": 38
        }
      ],
      "source": [
        "conll_parsed_text = get_dep_tree(parsed_text)\n",
        "conll_parsed_text"
      ]
    },
    {
      "cell_type": "markdown",
      "metadata": {
        "id": "sMa3cs-lAwMJ"
      },
      "source": [
        "Нарисуем:\n"
      ]
    },
    {
      "cell_type": "code",
      "execution_count": 39,
      "metadata": {
        "colab": {
          "base_uri": "https://localhost:8080/",
          "height": 428
        },
        "id": "PqYYoesgyHrO",
        "outputId": "271d042b-cb14-4d9c-a08b-bf468cf6c1bc"
      },
      "outputs": [
        {
          "output_type": "execute_result",
          "data": {
            "text/plain": [
              "<DependencyGraph with 8 nodes>"
            ],
            "image/svg+xml": "<?xml version=\"1.0\" encoding=\"UTF-8\" standalone=\"no\"?>\n<!DOCTYPE svg PUBLIC \"-//W3C//DTD SVG 1.1//EN\"\n \"http://www.w3.org/Graphics/SVG/1.1/DTD/svg11.dtd\">\n<!-- Generated by graphviz version 2.43.0 (0)\n -->\n<!-- Title: G Pages: 1 -->\n<svg width=\"400pt\" height=\"305pt\"\n viewBox=\"0.00 0.00 400.00 305.00\" xmlns=\"http://www.w3.org/2000/svg\" xmlns:xlink=\"http://www.w3.org/1999/xlink\">\n<g id=\"graph0\" class=\"graph\" transform=\"scale(1 1) rotate(0) translate(4 301)\">\n<title>G</title>\n<polygon fill=\"white\" stroke=\"transparent\" points=\"-4,4 -4,-301 396,-301 396,4 -4,4\"/>\n<!-- 0 -->\n<g id=\"node1\" class=\"node\">\n<title>0</title>\n<text text-anchor=\"middle\" x=\"192\" y=\"-275.3\" font-family=\"Times,serif\" font-size=\"14.00\">0 (None)</text>\n</g>\n<!-- 6 -->\n<g id=\"node2\" class=\"node\">\n<title>6</title>\n<text text-anchor=\"middle\" x=\"192\" y=\"-188.3\" font-family=\"Times,serif\" font-size=\"14.00\">6 (день)</text>\n</g>\n<!-- 0&#45;&gt;6 -->\n<g id=\"edge1\" class=\"edge\">\n<title>0&#45;&gt;6</title>\n<path fill=\"none\" stroke=\"black\" d=\"M192,-260.8C192,-249.16 192,-233.55 192,-220.24\"/>\n<polygon fill=\"black\" stroke=\"black\" points=\"195.5,-220.18 192,-210.18 188.5,-220.18 195.5,-220.18\"/>\n<text text-anchor=\"middle\" x=\"203\" y=\"-231.8\" font-family=\"Times,serif\" font-size=\"14.00\">root</text>\n</g>\n<!-- 1 -->\n<g id=\"node3\" class=\"node\">\n<title>1</title>\n<text text-anchor=\"middle\" x=\"27\" y=\"-101.3\" font-family=\"Times,serif\" font-size=\"14.00\">1 (Я)</text>\n</g>\n<!-- 6&#45;&gt;1 -->\n<g id=\"edge3\" class=\"edge\">\n<title>6&#45;&gt;1</title>\n<path fill=\"none\" stroke=\"black\" d=\"M160.38,-178.7C144.95,-172.4 126.26,-164.32 110,-156 93.88,-147.75 76.64,-137.6 62.07,-128.6\"/>\n<polygon fill=\"black\" stroke=\"black\" points=\"63.71,-125.5 53.38,-123.18 60.01,-131.44 63.71,-125.5\"/>\n<text text-anchor=\"middle\" x=\"125\" y=\"-144.8\" font-family=\"Times,serif\" font-size=\"14.00\">nsubj</text>\n</g>\n<!-- 2 -->\n<g id=\"node4\" class=\"node\">\n<title>2</title>\n<text text-anchor=\"middle\" x=\"105\" y=\"-101.3\" font-family=\"Times,serif\" font-size=\"14.00\">2 (была)</text>\n</g>\n<!-- 6&#45;&gt;2 -->\n<g id=\"edge4\" class=\"edge\">\n<title>6&#45;&gt;2</title>\n<path fill=\"none\" stroke=\"black\" d=\"M174.39,-173.8C161.66,-161.36 144.27,-144.36 130.08,-130.5\"/>\n<polygon fill=\"black\" stroke=\"black\" points=\"132.18,-127.66 122.58,-123.18 127.29,-132.67 132.18,-127.66\"/>\n<text text-anchor=\"middle\" x=\"164\" y=\"-144.8\" font-family=\"Times,serif\" font-size=\"14.00\">cop</text>\n</g>\n<!-- 4 -->\n<g id=\"node6\" class=\"node\">\n<title>4</title>\n<text text-anchor=\"middle\" x=\"192\" y=\"-101.3\" font-family=\"Times,serif\" font-size=\"14.00\">4 (школе)</text>\n</g>\n<!-- 6&#45;&gt;4 -->\n<g id=\"edge5\" class=\"edge\">\n<title>6&#45;&gt;4</title>\n<path fill=\"none\" stroke=\"black\" d=\"M192,-173.8C192,-162.16 192,-146.55 192,-133.24\"/>\n<polygon fill=\"black\" stroke=\"black\" points=\"195.5,-133.18 192,-123.18 188.5,-133.18 195.5,-133.18\"/>\n<text text-anchor=\"middle\" x=\"208\" y=\"-144.8\" font-family=\"Times,serif\" font-size=\"14.00\">nmod</text>\n</g>\n<!-- 5 -->\n<g id=\"node7\" class=\"node\">\n<title>5</title>\n<text text-anchor=\"middle\" x=\"283\" y=\"-101.3\" font-family=\"Times,serif\" font-size=\"14.00\">5 (целый)</text>\n</g>\n<!-- 6&#45;&gt;5 -->\n<g id=\"edge6\" class=\"edge\">\n<title>6&#45;&gt;5</title>\n<path fill=\"none\" stroke=\"black\" d=\"M210.42,-173.8C223.86,-161.24 242.26,-144.05 257.18,-130.12\"/>\n<polygon fill=\"black\" stroke=\"black\" points=\"259.69,-132.56 264.61,-123.18 254.92,-127.44 259.69,-132.56\"/>\n<text text-anchor=\"middle\" x=\"258.5\" y=\"-144.8\" font-family=\"Times,serif\" font-size=\"14.00\">amod</text>\n</g>\n<!-- 7 -->\n<g id=\"node8\" class=\"node\">\n<title>7</title>\n<text text-anchor=\"middle\" x=\"365\" y=\"-101.3\" font-family=\"Times,serif\" font-size=\"14.00\">7 (.)</text>\n</g>\n<!-- 6&#45;&gt;7 -->\n<g id=\"edge7\" class=\"edge\">\n<title>6&#45;&gt;7</title>\n<path fill=\"none\" stroke=\"black\" d=\"M223.9,-179.2C240.3,-172.84 260.47,-164.56 278,-156 295.14,-147.63 313.54,-137.27 328.98,-128.16\"/>\n<polygon fill=\"black\" stroke=\"black\" points=\"330.9,-131.09 337.7,-122.96 327.32,-125.08 330.9,-131.09\"/>\n<text text-anchor=\"middle\" x=\"320.5\" y=\"-144.8\" font-family=\"Times,serif\" font-size=\"14.00\">punct</text>\n</g>\n<!-- 3 -->\n<g id=\"node5\" class=\"node\">\n<title>3</title>\n<text text-anchor=\"middle\" x=\"192\" y=\"-14.3\" font-family=\"Times,serif\" font-size=\"14.00\">3 (в)</text>\n</g>\n<!-- 4&#45;&gt;3 -->\n<g id=\"edge2\" class=\"edge\">\n<title>4&#45;&gt;3</title>\n<path fill=\"none\" stroke=\"black\" d=\"M192,-86.8C192,-75.16 192,-59.55 192,-46.24\"/>\n<polygon fill=\"black\" stroke=\"black\" points=\"195.5,-46.18 192,-36.18 188.5,-46.18 195.5,-46.18\"/>\n<text text-anchor=\"middle\" x=\"204\" y=\"-57.8\" font-family=\"Times,serif\" font-size=\"14.00\">case</text>\n</g>\n</g>\n</svg>\n"
          },
          "metadata": {},
          "execution_count": 39
        }
      ],
      "source": [
        "graph_first_tree = DependencyGraph(conll_parsed_text[0])\n",
        "graph_first_tree"
      ]
    },
    {
      "cell_type": "markdown",
      "metadata": {
        "id": "mgv99q7hilt3"
      },
      "source": [
        "Какая-то фигня получилась. Но это и выше было видно.\n"
      ]
    },
    {
      "cell_type": "markdown",
      "metadata": {
        "id": "y4_sfHdVF3YY"
      },
      "source": [
        "#### Узлы графа: `triples`."
      ]
    },
    {
      "cell_type": "code",
      "execution_count": 40,
      "metadata": {
        "colab": {
          "base_uri": "https://localhost:8080/"
        },
        "id": "0ek7oXMuGIth",
        "outputId": "c20e4cb2-283d-4d2d-ed67-e0411f669721"
      },
      "outputs": [
        {
          "output_type": "execute_result",
          "data": {
            "text/plain": [
              "{'address': 2,\n",
              " 'word': 'была',\n",
              " 'lemma': 'быть',\n",
              " 'ctag': 'AUX',\n",
              " 'tag': '_',\n",
              " 'feats': 'Aspect=Imp|Gender=Fem|Mood=Ind|Number=Sing|Tense=Past|VerbForm=Fin|Voice=Act',\n",
              " 'head': 6,\n",
              " 'deps': defaultdict(list, {}),\n",
              " 'rel': 'cop'}"
            ]
          },
          "metadata": {},
          "execution_count": 40
        }
      ],
      "source": [
        "graph_first_tree.root = graph_first_tree.nodes[0]  # чтобы метод сработал нужно установить корневой элемент\n",
        "# при этом, если в разборе ошибка и вы счтаете, что root - это graph_first_tree.nodes[2],\n",
        "# использовать этот корень в .triples не получится, будет ошибка\n",
        "graph_first_tree.nodes[2]"
      ]
    },
    {
      "cell_type": "code",
      "execution_count": 41,
      "metadata": {
        "colab": {
          "base_uri": "https://localhost:8080/"
        },
        "id": "wzAv8A72F8dx",
        "outputId": "35a1d241-4551-436c-fe7a-728ffc0a0137"
      },
      "outputs": [
        {
          "output_type": "execute_result",
          "data": {
            "text/plain": [
              "[((None, 'TOP'), 'root', ('день', 'NOUN')),\n",
              " (('день', 'NOUN'), 'nsubj', ('Я', 'PRON')),\n",
              " (('день', 'NOUN'), 'cop', ('была', 'AUX')),\n",
              " (('день', 'NOUN'), 'nmod', ('школе', 'NOUN')),\n",
              " (('школе', 'NOUN'), 'case', ('в', 'ADP')),\n",
              " (('день', 'NOUN'), 'amod', ('целый', 'ADJ')),\n",
              " (('день', 'NOUN'), 'punct', ('.', 'PUNCT'))]"
            ]
          },
          "metadata": {},
          "execution_count": 41
        }
      ],
      "source": [
        "list(graph_first_tree.triples())"
      ]
    },
    {
      "cell_type": "markdown",
      "metadata": {
        "id": "msrAWOiZi6Yb"
      },
      "source": [
        "### Задачи"
      ]
    },
    {
      "cell_type": "markdown",
      "metadata": {
        "id": "CUQVwacANdTS"
      },
      "source": [
        "1. **Достать из корпуса все возможные модификаторы какого-нибудь слова**\n",
        "\n",
        "Сами парсить не будем, а возьмем уже готовые разборы из Тайги. Возьмем маленький кусочек (Arzamas). Cкачать его можно тут: https://linghub.ru/static/Taiga/Arzamas.zip\n",
        "\n",
        "В нем есть папка с обработанными текстами. Соберем их в один список. Нашим конечным заданием будет достать все модификаторы для какого-нибудь конкретного слова в этом корпусе."
      ]
    },
    {
      "cell_type": "code",
      "execution_count": 42,
      "metadata": {
        "id": "mi3V9Fbi98g_"
      },
      "outputs": [],
      "source": [
        "!wget -q https://linghub.ru/static/Taiga/Arzamas.zip\n",
        "!unzip -q Arzamas.zip"
      ]
    },
    {
      "cell_type": "code",
      "execution_count": 43,
      "metadata": {
        "id": "ejfly8a7JpOn"
      },
      "outputs": [],
      "source": [
        "path = 'Arzamas/texts_tagged/'\n",
        "files = [path + file for file in os.listdir(path)]"
      ]
    },
    {
      "cell_type": "markdown",
      "metadata": {
        "id": "buUiJEkOKTj0"
      },
      "source": [
        "Посмотрим, что вообще лежит в этих файлах:"
      ]
    },
    {
      "cell_type": "code",
      "execution_count": 44,
      "metadata": {
        "id": "IVse55oQKNjx"
      },
      "outputs": [],
      "source": [
        "with open(files[2]) as file:\n",
        "    text_file = file.read()"
      ]
    },
    {
      "cell_type": "markdown",
      "metadata": {
        "id": "mwhSJ53aKdNj"
      },
      "source": [
        "Тут снова формат CONLL очевидно. Давайте еще раз на него внимательно посмотрим. У нас есть тут какая-то метаинформация через #, теги через таб, деревья для отдельных предложений."
      ]
    },
    {
      "cell_type": "code",
      "execution_count": 45,
      "metadata": {
        "colab": {
          "base_uri": "https://localhost:8080/"
        },
        "id": "SoULZ-SoKYJP",
        "outputId": "96c94353-18bb-4df5-9dc6-e7580b226ebf"
      },
      "outputs": [
        {
          "output_type": "execute_result",
          "data": {
            "text/plain": [
              "['# text = # newpar',\n",
              " '# sent_id = 5998',\n",
              " '# text = Новая книга авторитетнейшей серии \"Национальная история\" издательства \"Весь мир\" при первом чтении способна вызвать массу вопросов.',\n",
              " '1\\tНовая\\tновый\\tADJ\\t_\\tCase=Nom|Degree=Pos|Gender=Fem|Number=Sing\\t2\\tamod\\t_\\t_',\n",
              " '2\\tкнига\\tкнига\\tNOUN\\t_\\tAnimacy=Inan|Case=Nom|Gender=Fem|Number=Sing\\t17\\tnsubj\\t_\\t_',\n",
              " '3\\tавторитетнейшей\\tавторитетнейший\\tADJ\\t_\\tCase=Gen|Degree=Pos|Gender=Fem|Number=Sing\\t4\\tamod\\t_\\t_',\n",
              " '4\\tсерии\\tсерия\\tNOUN\\t_\\tAnimacy=Inan|Case=Gen|Gender=Fem|Number=Sing\\t7\\tnmod\\t_\\t_',\n",
              " '5\\t\"\\t\"\\tPUNCT\\t_\\t_\\t6\\tpunct\\t_\\tSpaceAfter=No',\n",
              " '6\\tНациональная\\tнациональный\\tADJ\\t_\\tCase=Nom|Degree=Pos|Gender=Fem|Number=Sing\\t7\\tamod\\t_\\t_',\n",
              " '7\\tистория\\tистория\\tNOUN\\t_\\tAnimacy=Inan|Case=Nom|Gender=Fem|Number=Sing\\t2\\tappos\\t_\\tSpaceAfter=No']"
            ]
          },
          "metadata": {},
          "execution_count": 45
        }
      ],
      "source": [
        "tree = [x for x in text_file.split('\\n\\n')[0].split('\\n')]\n",
        "tree[:10]"
      ]
    },
    {
      "cell_type": "markdown",
      "metadata": {
        "id": "bw3Tw80GLiiG"
      },
      "source": [
        "Соберем все деревья (то есть все предложения) из всех файлов в один список. Так мы сможем работать с этими данными как с корпусом текстов."
      ]
    },
    {
      "cell_type": "code",
      "execution_count": 46,
      "metadata": {
        "id": "mGwgHKTSLuIk"
      },
      "outputs": [],
      "source": [
        "trees = []\n",
        "\n",
        "for file in files:\n",
        "    with open(file) as text_f:\n",
        "        parsed_sents = text_f.read().split('\\n\\n')\n",
        "\n",
        "    for sent in parsed_sents:\n",
        "        # уберем мета информацию\n",
        "        tree = [line for line in sent.split('\\n') if line[0] != '#']\n",
        "        trees.append('\\n'.join(tree))"
      ]
    },
    {
      "cell_type": "code",
      "execution_count": 47,
      "metadata": {
        "id": "yFq3yGMXNnRq"
      },
      "outputs": [],
      "source": [
        "modifiers = Counter()\n",
        "for tree in trees:\n",
        "    d = DependencyGraph(tree)\n",
        "    d.root = d.nodes[0]\n",
        "    triples = list(d.triples())\n",
        "\n",
        "    for e1, rel, e2 in triples:\n",
        "        if e1[0] == 'писатель' and rel == 'amod':\n",
        "            modifiers[e2[0]] += 1"
      ]
    },
    {
      "cell_type": "code",
      "execution_count": 48,
      "metadata": {
        "colab": {
          "base_uri": "https://localhost:8080/"
        },
        "id": "VIQpBjQsNo-w",
        "outputId": "93ad089c-cfd1-4ab6-84bf-4e38cfbec9a9"
      },
      "outputs": [
        {
          "output_type": "execute_result",
          "data": {
            "text/plain": [
              "Counter({'древнегреческий': 1,\n",
              "         'известный': 1,\n",
              "         'церковный': 1,\n",
              "         'разоблаченный': 1,\n",
              "         'Британский': 1,\n",
              "         'оказавшийся': 1,\n",
              "         'Замечательный': 1,\n",
              "         'наш': 1,\n",
              "         'любимый': 1,\n",
              "         'изощренный': 1,\n",
              "         'великий': 2,\n",
              "         'Сам': 1,\n",
              "         'умеющий': 1,\n",
              "         'грузинский': 2,\n",
              "         'русский': 1,\n",
              "         'московский': 2})"
            ]
          },
          "metadata": {},
          "execution_count": 48
        }
      ],
      "source": [
        "modifiers"
      ]
    },
    {
      "cell_type": "markdown",
      "metadata": {
        "id": "OGJEAToTIvK9"
      },
      "source": [
        "2. **Анализ текстов с помощью зависимостей**\n",
        "\n",
        "Запомним, что теперь у нас есть способ доставать все узлы, и попробуем проанализировать тексты с помощью зависимостей. ="
      ]
    },
    {
      "cell_type": "markdown",
      "metadata": {
        "id": "mV2_VPUjL8Or"
      },
      "source": [
        "Рандомное дерево из получившившегося списка:"
      ]
    },
    {
      "cell_type": "code",
      "execution_count": 49,
      "metadata": {
        "colab": {
          "base_uri": "https://localhost:8080/",
          "height": 154
        },
        "id": "TjX0PflPLwA0",
        "outputId": "37fe5bf6-5bf3-4f7e-816e-93a73c3eb474"
      },
      "outputs": [
        {
          "output_type": "execute_result",
          "data": {
            "text/plain": [
              "'1\\tУ\\tу\\tADP\\t_\\t_\\t2\\tcase\\t_\\t_\\n2\\tнего\\tон\\tPRON\\t_\\tCase=Gen|Gender=Masc|Number=Sing|Person=3\\t4\\tnmod\\t_\\t_\\n3\\tбыл\\tбыть\\tAUX\\t_\\tAspect=Imp|Gender=Masc|Mood=Ind|Number=Sing|Tense=Past|VerbForm=Fin|Voice=Act\\t4\\tcop\\t_\\t_\\n4\\tтезка\\tтезкий\\tADJ\\t_\\tDegree=Pos|Gender=Fem|Number=Sing|Variant=Short\\t0\\troot\\t_\\tSpaceAfter=No\\n5\\t,\\t,\\tPUNCT\\t_\\t_\\t4\\tpunct\\t_\\t_\\n6\\tнеотменимо\\tнеотменимо\\tADV\\t_\\tDegree=Pos\\t7\\tadvmod\\t_\\t_\\n7\\tпревративший\\tпревращать\\tVERB\\t_\\tAspect=Perf|Case=Nom|Gender=Masc|Number=Sing|Tense=Past|VerbForm=Part|Voice=Act\\t11\\tconj\\t_\\t_\\n8\\tих\\tони\\tPRON\\t_\\tCase=Gen|Number=Plur|Person=3\\t10\\tnmod\\t_\\t_\\n9\\tобщее\\tобщий\\tADJ\\t_\\tCase=Acc|Degree=Pos|Gender=Neut|Number=Sing\\t10\\tamod\\t_\\t_\\n10\\tимя\\tимя\\tNOUN\\t_\\tAnimacy=Inan|Case=Acc|Gender=Neut|Number=Sing\\t7\\tobj\\t_\\t_\\n11\\tв\\tв\\tADP\\t_\\t_\\t12\\tcase\\t_\\t_\\n12\\tмиф\\tмиф\\tNOUN\\t_\\tAnimacy=Inan|Case=Acc|Gender=Masc|Number=Sing\\t4\\tconj\\t_\\tSpaceAfter=No\\n13\\t,\\t,\\tPUNCT\\t_\\t_\\t12\\tpunct\\t_\\t_\\n14\\tпесню\\tпесня\\tNOUN\\t_\\tAnimacy=Inan|Case=Acc|Gender=Fem|Number=Sing\\t4\\tconj\\t_\\t_\\n15\\tи\\tи\\tCCONJ\\t_\\t_\\t16\\tcc\\t_\\t_\\n16\\tрадость\\tрадость\\tNOUN\\t_\\tAnimacy=Inan|Case=Acc|Gender=Fem|Number=Sing\\t4\\tconj\\t_\\t_\\n17\\tчеловечества\\tчеловечество\\tNOUN\\t_\\tAnimacy=Inan|Case=Gen|Gender=Neut|Number=Sing\\t16\\tnmod\\t_\\tSpaceAfter=No\\n18\\t,\\t,\\tPUNCT\\t_\\t_\\t17\\tpunct\\t_\\t_\\n19\\t--\\t--\\tPUNCT\\t_\\t_\\t17\\tpunct\\t_\\t_\\n20\\tчем\\tчем\\tSCONJ\\t_\\t_\\t21\\tcc\\t_\\t_\\n21\\tоно\\tоно\\tPRON\\t_\\tCase=Nom|Gender=Neut|Number=Sing|Person=3\\t4\\tadvmod\\t_\\tSpaceAfter=No\\n22\\t,\\t,\\tPUNCT\\t_\\t_\\t21\\tpunct\\t_\\t_\\n23\\tего\\tон\\tPRON\\t_\\tCase=Acc|Gender=Masc|Number=Sing|Person=3\\t21\\tobj\\t_\\tSpaceAfter=No\\n24\\t,\\t,\\tPUNCT\\t_\\t_\\t23\\tpunct\\t_\\t_\\n25\\tМандельштама\\tМандельштама\\tPROPN\\t_\\tAnimacy=Anim|Case=Nom|Gender=Fem|Number=Sing\\t23\\tappos\\t_\\tSpaceAfter=No\\n26\\t,\\t,\\tPUNCT\\t_\\t_\\t25\\tpunct\\t_\\t_\\n27\\tимя\\tимя\\tNOUN\\t_\\tAnimacy=Inan|Case=Acc|Gender=Neut|Number=Sing\\t25\\tobj\\t_\\tSpaceAfter=No\\n28\\t,\\t,\\tPUNCT\\t_\\t_\\t27\\tpunct\\t_\\t_\\n29\\tкак\\tкак\\tSCONJ\\t_\\t_\\t31\\tcc\\t_\\t_\\n30\\tон\\tон\\tPRON\\t_\\tCase=Nom|Gender=Masc|Number=Sing|Person=3\\t31\\tnsubj\\t_\\t_\\n31\\tзнал\\tзнать\\tVERB\\t_\\tAspect=Imp|Gender=Masc|Mood=Ind|Number=Sing|Tense=Past|VerbForm=Fin|Voice=Act\\t27\\tadvmod\\t_\\tSpaceAfter=No\\n32\\t,\\t,\\tPUNCT\\t_\\t_\\t31\\tpunct\\t_\\t_\\n33\\tи\\tи\\tCCONJ\\t_\\t_\\t34\\tcc\\t_\\t_\\n34\\tдолжно\\tдолжен\\tADJ\\t_\\tDegree=Pos|Gender=Neut|Number=Sing|Variant=Short\\t31\\tconj\\t_\\t_\\n35\\tбыло\\tбыть\\tAUX\\t_\\tAspect=Imp|Gender=Neut|Mood=Ind|Number=Sing|Tense=Past|VerbForm=Fin|Voice=Act\\t34\\tcop\\t_\\t_\\n36\\tбыть\\tбыть\\tAUX\\t_\\tAspect=Imp|VerbForm=Inf|Voice=Act\\t34\\tnsubj\\t_\\tSpaceAfter=No\\n37\\t.\\t.\\tPUNCT\\t_\\t_\\t36\\tpunct\\t_\\t_'"
            ],
            "application/vnd.google.colaboratory.intrinsic+json": {
              "type": "string"
            }
          },
          "metadata": {},
          "execution_count": 49
        }
      ],
      "source": [
        "trees[80]"
      ]
    },
    {
      "cell_type": "markdown",
      "metadata": {
        "id": "6mF6ooOVMLcg"
      },
      "source": [
        "Пора нарисовать красивый граф для какого-нибудь предложения из этого корпуса.\n",
        "\n",
        "Поскольку это данные, на которых можно обучать модели, они хорошо размечены и тут уже в корне дерева у нас нормальный предикат и разбор получается хороший."
      ]
    },
    {
      "cell_type": "code",
      "execution_count": 50,
      "metadata": {
        "colab": {
          "base_uri": "https://localhost:8080/",
          "height": 1000
        },
        "id": "wo8f-UMuMD7V",
        "outputId": "f3a58252-07ae-4021-a48c-d6a40f8d86f7"
      },
      "outputs": [
        {
          "output_type": "execute_result",
          "data": {
            "text/plain": [
              "<DependencyGraph with 38 nodes>"
            ],
            "image/svg+xml": "<?xml version=\"1.0\" encoding=\"UTF-8\" standalone=\"no\"?>\n<!DOCTYPE svg PUBLIC \"-//W3C//DTD SVG 1.1//EN\"\n \"http://www.w3.org/Graphics/SVG/1.1/DTD/svg11.dtd\">\n<!-- Generated by graphviz version 2.43.0 (0)\n -->\n<!-- Title: G Pages: 1 -->\n<svg width=\"1146pt\" height=\"827pt\"\n viewBox=\"0.00 0.00 1146.00 827.00\" xmlns=\"http://www.w3.org/2000/svg\" xmlns:xlink=\"http://www.w3.org/1999/xlink\">\n<g id=\"graph0\" class=\"graph\" transform=\"scale(1 1) rotate(0) translate(4 823)\">\n<title>G</title>\n<polygon fill=\"white\" stroke=\"transparent\" points=\"-4,4 -4,-823 1142,-823 1142,4 -4,4\"/>\n<!-- 0 -->\n<g id=\"node1\" class=\"node\">\n<title>0</title>\n<text text-anchor=\"middle\" x=\"264\" y=\"-797.3\" font-family=\"Times,serif\" font-size=\"14.00\">0 (None)</text>\n</g>\n<!-- 4 -->\n<g id=\"node2\" class=\"node\">\n<title>4</title>\n<text text-anchor=\"middle\" x=\"264\" y=\"-710.3\" font-family=\"Times,serif\" font-size=\"14.00\">4 (тезка)</text>\n</g>\n<!-- 0&#45;&gt;4 -->\n<g id=\"edge1\" class=\"edge\">\n<title>0&#45;&gt;4</title>\n<path fill=\"none\" stroke=\"black\" d=\"M264,-782.8C264,-771.16 264,-755.55 264,-742.24\"/>\n<polygon fill=\"black\" stroke=\"black\" points=\"267.5,-742.18 264,-732.18 260.5,-742.18 267.5,-742.18\"/>\n<text text-anchor=\"middle\" x=\"275\" y=\"-753.8\" font-family=\"Times,serif\" font-size=\"14.00\">root</text>\n</g>\n<!-- 2 -->\n<g id=\"node4\" class=\"node\">\n<title>2</title>\n<text text-anchor=\"middle\" x=\"31\" y=\"-623.3\" font-family=\"Times,serif\" font-size=\"14.00\">2 (него)</text>\n</g>\n<!-- 4&#45;&gt;2 -->\n<g id=\"edge3\" class=\"edge\">\n<title>4&#45;&gt;2</title>\n<path fill=\"none\" stroke=\"black\" d=\"M230.34,-706.16C203.09,-700.15 163.95,-690.42 131,-678 110.43,-670.25 88.49,-659.57 70.41,-650.07\"/>\n<polygon fill=\"black\" stroke=\"black\" points=\"71.81,-646.85 61.34,-645.23 68.52,-653.02 71.81,-646.85\"/>\n<text text-anchor=\"middle\" x=\"147\" y=\"-666.8\" font-family=\"Times,serif\" font-size=\"14.00\">nmod</text>\n</g>\n<!-- 3 -->\n<g id=\"node5\" class=\"node\">\n<title>3</title>\n<text text-anchor=\"middle\" x=\"110\" y=\"-623.3\" font-family=\"Times,serif\" font-size=\"14.00\">3 (был)</text>\n</g>\n<!-- 4&#45;&gt;3 -->\n<g id=\"edge4\" class=\"edge\">\n<title>4&#45;&gt;3</title>\n<path fill=\"none\" stroke=\"black\" d=\"M230.33,-697.45C218.12,-691.6 204.32,-684.73 192,-678 176.37,-669.46 159.5,-659.34 145.16,-650.45\"/>\n<polygon fill=\"black\" stroke=\"black\" points=\"146.92,-647.42 136.58,-645.09 143.21,-653.36 146.92,-647.42\"/>\n<text text-anchor=\"middle\" x=\"202\" y=\"-666.8\" font-family=\"Times,serif\" font-size=\"14.00\">cop</text>\n</g>\n<!-- 5 -->\n<g id=\"node6\" class=\"node\">\n<title>5</title>\n<text text-anchor=\"middle\" x=\"185\" y=\"-623.3\" font-family=\"Times,serif\" font-size=\"14.00\">5 (,)</text>\n</g>\n<!-- 4&#45;&gt;5 -->\n<g id=\"edge5\" class=\"edge\">\n<title>4&#45;&gt;5</title>\n<path fill=\"none\" stroke=\"black\" d=\"M246.33,-695.77C240.71,-690.17 234.53,-683.89 229,-678 221.52,-670.03 213.57,-661.13 206.51,-653.08\"/>\n<polygon fill=\"black\" stroke=\"black\" points=\"209.01,-650.61 199.8,-645.37 203.73,-655.21 209.01,-650.61\"/>\n<text text-anchor=\"middle\" x=\"244.5\" y=\"-666.8\" font-family=\"Times,serif\" font-size=\"14.00\">punct</text>\n</g>\n<!-- 12 -->\n<g id=\"node7\" class=\"node\">\n<title>12</title>\n<text text-anchor=\"middle\" x=\"264\" y=\"-623.3\" font-family=\"Times,serif\" font-size=\"14.00\">12 (миф)</text>\n</g>\n<!-- 4&#45;&gt;12 -->\n<g id=\"edge6\" class=\"edge\">\n<title>4&#45;&gt;12</title>\n<path fill=\"none\" stroke=\"black\" d=\"M264,-695.8C264,-684.16 264,-668.55 264,-655.24\"/>\n<polygon fill=\"black\" stroke=\"black\" points=\"267.5,-655.18 264,-645.18 260.5,-655.18 267.5,-655.18\"/>\n<text text-anchor=\"middle\" x=\"276\" y=\"-666.8\" font-family=\"Times,serif\" font-size=\"14.00\">conj</text>\n</g>\n<!-- 14 -->\n<g id=\"node8\" class=\"node\">\n<title>14</title>\n<text text-anchor=\"middle\" x=\"357\" y=\"-623.3\" font-family=\"Times,serif\" font-size=\"14.00\">14 (песню)</text>\n</g>\n<!-- 4&#45;&gt;14 -->\n<g id=\"edge7\" class=\"edge\">\n<title>4&#45;&gt;14</title>\n<path fill=\"none\" stroke=\"black\" d=\"M282.82,-695.8C296.56,-683.24 315.37,-666.05 330.61,-652.12\"/>\n<polygon fill=\"black\" stroke=\"black\" points=\"333.19,-654.51 338.21,-645.18 328.47,-649.34 333.19,-654.51\"/>\n<text text-anchor=\"middle\" x=\"329\" y=\"-666.8\" font-family=\"Times,serif\" font-size=\"14.00\">conj</text>\n</g>\n<!-- 16 -->\n<g id=\"node9\" class=\"node\">\n<title>16</title>\n<text text-anchor=\"middle\" x=\"460\" y=\"-623.3\" font-family=\"Times,serif\" font-size=\"14.00\">16 (радость)</text>\n</g>\n<!-- 4&#45;&gt;16 -->\n<g id=\"edge8\" class=\"edge\">\n<title>4&#45;&gt;16</title>\n<path fill=\"none\" stroke=\"black\" d=\"M297.51,-698.54C312.1,-692.24 329.4,-684.76 345,-678 366.81,-668.55 390.94,-658.06 411.44,-649.14\"/>\n<polygon fill=\"black\" stroke=\"black\" points=\"413.11,-652.23 420.89,-645.03 410.32,-645.81 413.11,-652.23\"/>\n<text text-anchor=\"middle\" x=\"389\" y=\"-666.8\" font-family=\"Times,serif\" font-size=\"14.00\">conj</text>\n</g>\n<!-- 21 -->\n<g id=\"node10\" class=\"node\">\n<title>21</title>\n<text text-anchor=\"middle\" x=\"610\" y=\"-623.3\" font-family=\"Times,serif\" font-size=\"14.00\">21 (оно)</text>\n</g>\n<!-- 4&#45;&gt;21 -->\n<g id=\"edge9\" class=\"edge\">\n<title>4&#45;&gt;21</title>\n<path fill=\"none\" stroke=\"black\" d=\"M297.81,-704.7C361.34,-689.09 498.4,-655.42 567.84,-638.36\"/>\n<polygon fill=\"black\" stroke=\"black\" points=\"568.7,-641.75 577.58,-635.97 567.03,-634.95 568.7,-641.75\"/>\n<text text-anchor=\"middle\" x=\"480.5\" y=\"-666.8\" font-family=\"Times,serif\" font-size=\"14.00\">advmod</text>\n</g>\n<!-- 1 -->\n<g id=\"node3\" class=\"node\">\n<title>1</title>\n<text text-anchor=\"middle\" x=\"31\" y=\"-536.3\" font-family=\"Times,serif\" font-size=\"14.00\">1 (У)</text>\n</g>\n<!-- 2&#45;&gt;1 -->\n<g id=\"edge2\" class=\"edge\">\n<title>2&#45;&gt;1</title>\n<path fill=\"none\" stroke=\"black\" d=\"M31,-608.8C31,-597.16 31,-581.55 31,-568.24\"/>\n<polygon fill=\"black\" stroke=\"black\" points=\"34.5,-568.18 31,-558.18 27.5,-568.18 34.5,-568.18\"/>\n<text text-anchor=\"middle\" x=\"43\" y=\"-579.8\" font-family=\"Times,serif\" font-size=\"14.00\">case</text>\n</g>\n<!-- 11 -->\n<g id=\"node16\" class=\"node\">\n<title>11</title>\n<text text-anchor=\"middle\" x=\"202\" y=\"-536.3\" font-family=\"Times,serif\" font-size=\"14.00\">11 (в)</text>\n</g>\n<!-- 12&#45;&gt;11 -->\n<g id=\"edge15\" class=\"edge\">\n<title>12&#45;&gt;11</title>\n<path fill=\"none\" stroke=\"black\" d=\"M251.45,-608.8C242.55,-596.59 230.44,-579.99 220.44,-566.28\"/>\n<polygon fill=\"black\" stroke=\"black\" points=\"223.25,-564.19 214.53,-558.18 217.59,-568.32 223.25,-564.19\"/>\n<text text-anchor=\"middle\" x=\"249\" y=\"-579.8\" font-family=\"Times,serif\" font-size=\"14.00\">case</text>\n</g>\n<!-- 13 -->\n<g id=\"node17\" class=\"node\">\n<title>13</title>\n<text text-anchor=\"middle\" x=\"274\" y=\"-536.3\" font-family=\"Times,serif\" font-size=\"14.00\">13 (,)</text>\n</g>\n<!-- 12&#45;&gt;13 -->\n<g id=\"edge16\" class=\"edge\">\n<title>12&#45;&gt;13</title>\n<path fill=\"none\" stroke=\"black\" d=\"M266.02,-608.8C267.39,-597.16 269.23,-581.55 270.8,-568.24\"/>\n<polygon fill=\"black\" stroke=\"black\" points=\"274.29,-568.52 271.98,-558.18 267.33,-567.7 274.29,-568.52\"/>\n<text text-anchor=\"middle\" x=\"285.5\" y=\"-579.8\" font-family=\"Times,serif\" font-size=\"14.00\">punct</text>\n</g>\n<!-- 15 -->\n<g id=\"node18\" class=\"node\">\n<title>15</title>\n<text text-anchor=\"middle\" x=\"355\" y=\"-536.3\" font-family=\"Times,serif\" font-size=\"14.00\">15 (и)</text>\n</g>\n<!-- 16&#45;&gt;15 -->\n<g id=\"edge17\" class=\"edge\">\n<title>16&#45;&gt;15</title>\n<path fill=\"none\" stroke=\"black\" d=\"M438.75,-608.8C423.1,-596.13 401.61,-578.73 384.32,-564.74\"/>\n<polygon fill=\"black\" stroke=\"black\" points=\"386.19,-561.75 376.22,-558.18 381.79,-567.19 386.19,-561.75\"/>\n<text text-anchor=\"middle\" x=\"420.5\" y=\"-579.8\" font-family=\"Times,serif\" font-size=\"14.00\">cc</text>\n</g>\n<!-- 17 -->\n<g id=\"node19\" class=\"node\">\n<title>17</title>\n<text text-anchor=\"middle\" x=\"460\" y=\"-536.3\" font-family=\"Times,serif\" font-size=\"14.00\">17 (человечества)</text>\n</g>\n<!-- 16&#45;&gt;17 -->\n<g id=\"edge18\" class=\"edge\">\n<title>16&#45;&gt;17</title>\n<path fill=\"none\" stroke=\"black\" d=\"M460,-608.8C460,-597.16 460,-581.55 460,-568.24\"/>\n<polygon fill=\"black\" stroke=\"black\" points=\"463.5,-568.18 460,-558.18 456.5,-568.18 463.5,-568.18\"/>\n<text text-anchor=\"middle\" x=\"476\" y=\"-579.8\" font-family=\"Times,serif\" font-size=\"14.00\">nmod</text>\n</g>\n<!-- 20 -->\n<g id=\"node22\" class=\"node\">\n<title>20</title>\n<text text-anchor=\"middle\" x=\"571\" y=\"-536.3\" font-family=\"Times,serif\" font-size=\"14.00\">20 (чем)</text>\n</g>\n<!-- 21&#45;&gt;20 -->\n<g id=\"edge21\" class=\"edge\">\n<title>21&#45;&gt;20</title>\n<path fill=\"none\" stroke=\"black\" d=\"M602.11,-608.8C596.66,-596.93 589.32,-580.93 583.14,-567.45\"/>\n<polygon fill=\"black\" stroke=\"black\" points=\"586.23,-565.8 578.88,-558.18 579.87,-568.72 586.23,-565.8\"/>\n<text text-anchor=\"middle\" x=\"599.5\" y=\"-579.8\" font-family=\"Times,serif\" font-size=\"14.00\">cc</text>\n</g>\n<!-- 22 -->\n<g id=\"node23\" class=\"node\">\n<title>22</title>\n<text text-anchor=\"middle\" x=\"649\" y=\"-536.3\" font-family=\"Times,serif\" font-size=\"14.00\">22 (,)</text>\n</g>\n<!-- 21&#45;&gt;22 -->\n<g id=\"edge22\" class=\"edge\">\n<title>21&#45;&gt;22</title>\n<path fill=\"none\" stroke=\"black\" d=\"M617.89,-608.8C623.34,-596.93 630.68,-580.93 636.86,-567.45\"/>\n<polygon fill=\"black\" stroke=\"black\" points=\"640.13,-568.72 641.12,-558.18 633.77,-565.8 640.13,-568.72\"/>\n<text text-anchor=\"middle\" x=\"647.5\" y=\"-579.8\" font-family=\"Times,serif\" font-size=\"14.00\">punct</text>\n</g>\n<!-- 23 -->\n<g id=\"node24\" class=\"node\">\n<title>23</title>\n<text text-anchor=\"middle\" x=\"725\" y=\"-536.3\" font-family=\"Times,serif\" font-size=\"14.00\">23 (его)</text>\n</g>\n<!-- 21&#45;&gt;23 -->\n<g id=\"edge23\" class=\"edge\">\n<title>21&#45;&gt;23</title>\n<path fill=\"none\" stroke=\"black\" d=\"M639.88,-608.89C648.8,-603.46 658.47,-597.23 667,-591 678.01,-582.95 689.51,-573.33 699.34,-564.68\"/>\n<polygon fill=\"black\" stroke=\"black\" points=\"701.69,-567.27 706.82,-558 697.03,-562.05 701.69,-567.27\"/>\n<text text-anchor=\"middle\" x=\"695\" y=\"-579.8\" font-family=\"Times,serif\" font-size=\"14.00\">obj</text>\n</g>\n<!-- 6 -->\n<g id=\"node11\" class=\"node\">\n<title>6</title>\n<text text-anchor=\"middle\" x=\"150\" y=\"-362.3\" font-family=\"Times,serif\" font-size=\"14.00\">6 (неотменимо)</text>\n</g>\n<!-- 7 -->\n<g id=\"node12\" class=\"node\">\n<title>7</title>\n<text text-anchor=\"middle\" x=\"202\" y=\"-449.3\" font-family=\"Times,serif\" font-size=\"14.00\">7 (превративший)</text>\n</g>\n<!-- 7&#45;&gt;6 -->\n<g id=\"edge10\" class=\"edge\">\n<title>7&#45;&gt;6</title>\n<path fill=\"none\" stroke=\"black\" d=\"M184.05,-434.85C179.06,-429.46 173.94,-423.28 170,-417 165.53,-409.87 161.73,-401.58 158.68,-393.82\"/>\n<polygon fill=\"black\" stroke=\"black\" points=\"161.96,-392.58 155.23,-384.4 155.38,-394.99 161.96,-392.58\"/>\n<text text-anchor=\"middle\" x=\"192.5\" y=\"-405.8\" font-family=\"Times,serif\" font-size=\"14.00\">advmod</text>\n</g>\n<!-- 10 -->\n<g id=\"node13\" class=\"node\">\n<title>10</title>\n<text text-anchor=\"middle\" x=\"255\" y=\"-362.3\" font-family=\"Times,serif\" font-size=\"14.00\">10 (имя)</text>\n</g>\n<!-- 7&#45;&gt;10 -->\n<g id=\"edge11\" class=\"edge\">\n<title>7&#45;&gt;10</title>\n<path fill=\"none\" stroke=\"black\" d=\"M212.73,-434.8C220.27,-422.7 230.49,-406.3 239,-392.67\"/>\n<polygon fill=\"black\" stroke=\"black\" points=\"241.97,-394.51 244.29,-384.18 236.03,-390.81 241.97,-394.51\"/>\n<text text-anchor=\"middle\" x=\"241\" y=\"-405.8\" font-family=\"Times,serif\" font-size=\"14.00\">obj</text>\n</g>\n<!-- 8 -->\n<g id=\"node14\" class=\"node\">\n<title>8</title>\n<text text-anchor=\"middle\" x=\"215\" y=\"-275.3\" font-family=\"Times,serif\" font-size=\"14.00\">8 (их)</text>\n</g>\n<!-- 10&#45;&gt;8 -->\n<g id=\"edge12\" class=\"edge\">\n<title>10&#45;&gt;8</title>\n<path fill=\"none\" stroke=\"black\" d=\"M246.91,-347.8C241.32,-335.93 233.79,-319.93 227.45,-306.45\"/>\n<polygon fill=\"black\" stroke=\"black\" points=\"230.51,-304.73 223.08,-297.18 224.17,-307.71 230.51,-304.73\"/>\n<text text-anchor=\"middle\" x=\"254\" y=\"-318.8\" font-family=\"Times,serif\" font-size=\"14.00\">nmod</text>\n</g>\n<!-- 9 -->\n<g id=\"node15\" class=\"node\">\n<title>9</title>\n<text text-anchor=\"middle\" x=\"296\" y=\"-275.3\" font-family=\"Times,serif\" font-size=\"14.00\">9 (общее)</text>\n</g>\n<!-- 10&#45;&gt;9 -->\n<g id=\"edge13\" class=\"edge\">\n<title>10&#45;&gt;9</title>\n<path fill=\"none\" stroke=\"black\" d=\"M264.76,-347.7C267.82,-342.1 271.14,-335.84 274,-330 277.7,-322.46 281.47,-314.15 284.83,-306.5\"/>\n<polygon fill=\"black\" stroke=\"black\" points=\"288.06,-307.85 288.81,-297.29 281.63,-305.07 288.06,-307.85\"/>\n<text text-anchor=\"middle\" x=\"297.5\" y=\"-318.8\" font-family=\"Times,serif\" font-size=\"14.00\">amod</text>\n</g>\n<!-- 11&#45;&gt;7 -->\n<g id=\"edge14\" class=\"edge\">\n<title>11&#45;&gt;7</title>\n<path fill=\"none\" stroke=\"black\" d=\"M202,-521.8C202,-510.16 202,-494.55 202,-481.24\"/>\n<polygon fill=\"black\" stroke=\"black\" points=\"205.5,-481.18 202,-471.18 198.5,-481.18 205.5,-481.18\"/>\n<text text-anchor=\"middle\" x=\"214\" y=\"-492.8\" font-family=\"Times,serif\" font-size=\"14.00\">conj</text>\n</g>\n<!-- 18 -->\n<g id=\"node20\" class=\"node\">\n<title>18</title>\n<text text-anchor=\"middle\" x=\"424\" y=\"-449.3\" font-family=\"Times,serif\" font-size=\"14.00\">18 (,)</text>\n</g>\n<!-- 17&#45;&gt;18 -->\n<g id=\"edge19\" class=\"edge\">\n<title>17&#45;&gt;18</title>\n<path fill=\"none\" stroke=\"black\" d=\"M451.22,-521.69C448.48,-516.1 445.52,-509.83 443,-504 439.77,-496.53 436.53,-488.32 433.66,-480.75\"/>\n<polygon fill=\"black\" stroke=\"black\" points=\"436.9,-479.43 430.13,-471.28 430.34,-481.87 436.9,-479.43\"/>\n<text text-anchor=\"middle\" x=\"458.5\" y=\"-492.8\" font-family=\"Times,serif\" font-size=\"14.00\">punct</text>\n</g>\n<!-- 19 -->\n<g id=\"node21\" class=\"node\">\n<title>19</title>\n<text text-anchor=\"middle\" x=\"496\" y=\"-449.3\" font-family=\"Times,serif\" font-size=\"14.00\">19 (&#45;&#45;)</text>\n</g>\n<!-- 17&#45;&gt;19 -->\n<g id=\"edge20\" class=\"edge\">\n<title>17&#45;&gt;19</title>\n<path fill=\"none\" stroke=\"black\" d=\"M467.29,-521.8C472.31,-509.93 479.09,-493.93 484.8,-480.45\"/>\n<polygon fill=\"black\" stroke=\"black\" points=\"488.05,-481.75 488.73,-471.18 481.6,-479.02 488.05,-481.75\"/>\n<text text-anchor=\"middle\" x=\"496.5\" y=\"-492.8\" font-family=\"Times,serif\" font-size=\"14.00\">punct</text>\n</g>\n<!-- 24 -->\n<g id=\"node25\" class=\"node\">\n<title>24</title>\n<text text-anchor=\"middle\" x=\"683\" y=\"-449.3\" font-family=\"Times,serif\" font-size=\"14.00\">24 (,)</text>\n</g>\n<!-- 23&#45;&gt;24 -->\n<g id=\"edge24\" class=\"edge\">\n<title>23&#45;&gt;24</title>\n<path fill=\"none\" stroke=\"black\" d=\"M716.5,-521.8C710.64,-509.93 702.73,-493.93 696.07,-480.45\"/>\n<polygon fill=\"black\" stroke=\"black\" points=\"699.05,-478.59 691.49,-471.18 692.78,-481.69 699.05,-478.59\"/>\n<text text-anchor=\"middle\" x=\"722.5\" y=\"-492.8\" font-family=\"Times,serif\" font-size=\"14.00\">punct</text>\n</g>\n<!-- 25 -->\n<g id=\"node26\" class=\"node\">\n<title>25</title>\n<text text-anchor=\"middle\" x=\"795\" y=\"-449.3\" font-family=\"Times,serif\" font-size=\"14.00\">25 (Мандельштама)</text>\n</g>\n<!-- 23&#45;&gt;25 -->\n<g id=\"edge25\" class=\"edge\">\n<title>23&#45;&gt;25</title>\n<path fill=\"none\" stroke=\"black\" d=\"M739.17,-521.8C749.22,-509.59 762.89,-492.99 774.18,-479.28\"/>\n<polygon fill=\"black\" stroke=\"black\" points=\"777.2,-481.12 780.86,-471.18 771.8,-476.67 777.2,-481.12\"/>\n<text text-anchor=\"middle\" x=\"781\" y=\"-492.8\" font-family=\"Times,serif\" font-size=\"14.00\">appos</text>\n</g>\n<!-- 26 -->\n<g id=\"node27\" class=\"node\">\n<title>26</title>\n<text text-anchor=\"middle\" x=\"762\" y=\"-362.3\" font-family=\"Times,serif\" font-size=\"14.00\">26 (,)</text>\n</g>\n<!-- 25&#45;&gt;26 -->\n<g id=\"edge26\" class=\"edge\">\n<title>25&#45;&gt;26</title>\n<path fill=\"none\" stroke=\"black\" d=\"M783.88,-434.65C780.69,-429.16 777.43,-422.96 775,-417 772.02,-409.69 769.56,-401.5 767.6,-393.89\"/>\n<polygon fill=\"black\" stroke=\"black\" points=\"770.97,-392.94 765.25,-384.03 764.16,-394.56 770.97,-392.94\"/>\n<text text-anchor=\"middle\" x=\"790.5\" y=\"-405.8\" font-family=\"Times,serif\" font-size=\"14.00\">punct</text>\n</g>\n<!-- 27 -->\n<g id=\"node28\" class=\"node\">\n<title>27</title>\n<text text-anchor=\"middle\" x=\"840\" y=\"-362.3\" font-family=\"Times,serif\" font-size=\"14.00\">27 (имя)</text>\n</g>\n<!-- 25&#45;&gt;27 -->\n<g id=\"edge27\" class=\"edge\">\n<title>25&#45;&gt;27</title>\n<path fill=\"none\" stroke=\"black\" d=\"M804.11,-434.8C810.45,-422.82 819.03,-406.62 826.21,-393.06\"/>\n<polygon fill=\"black\" stroke=\"black\" points=\"829.32,-394.65 830.91,-384.18 823.13,-391.38 829.32,-394.65\"/>\n<text text-anchor=\"middle\" x=\"830\" y=\"-405.8\" font-family=\"Times,serif\" font-size=\"14.00\">obj</text>\n</g>\n<!-- 28 -->\n<g id=\"node29\" class=\"node\">\n<title>28</title>\n<text text-anchor=\"middle\" x=\"806\" y=\"-275.3\" font-family=\"Times,serif\" font-size=\"14.00\">28 (,)</text>\n</g>\n<!-- 27&#45;&gt;28 -->\n<g id=\"edge28\" class=\"edge\">\n<title>27&#45;&gt;28</title>\n<path fill=\"none\" stroke=\"black\" d=\"M829.16,-347.98C825.91,-342.4 822.54,-336.07 820,-330 816.94,-322.68 814.33,-314.49 812.22,-306.88\"/>\n<polygon fill=\"black\" stroke=\"black\" points=\"815.56,-305.82 809.66,-297.02 808.78,-307.57 815.56,-305.82\"/>\n<text text-anchor=\"middle\" x=\"835.5\" y=\"-318.8\" font-family=\"Times,serif\" font-size=\"14.00\">punct</text>\n</g>\n<!-- 31 -->\n<g id=\"node30\" class=\"node\">\n<title>31</title>\n<text text-anchor=\"middle\" x=\"885\" y=\"-275.3\" font-family=\"Times,serif\" font-size=\"14.00\">31 (знал)</text>\n</g>\n<!-- 27&#45;&gt;31 -->\n<g id=\"edge29\" class=\"edge\">\n<title>27&#45;&gt;31</title>\n<path fill=\"none\" stroke=\"black\" d=\"M849.11,-347.8C855.45,-335.82 864.03,-319.62 871.21,-306.06\"/>\n<polygon fill=\"black\" stroke=\"black\" points=\"874.32,-307.65 875.91,-297.18 868.13,-304.38 874.32,-307.65\"/>\n<text text-anchor=\"middle\" x=\"888.5\" y=\"-318.8\" font-family=\"Times,serif\" font-size=\"14.00\">advmod</text>\n</g>\n<!-- 29 -->\n<g id=\"node31\" class=\"node\">\n<title>29</title>\n<text text-anchor=\"middle\" x=\"770\" y=\"-188.3\" font-family=\"Times,serif\" font-size=\"14.00\">29 (как)</text>\n</g>\n<!-- 31&#45;&gt;29 -->\n<g id=\"edge30\" class=\"edge\">\n<title>31&#45;&gt;29</title>\n<path fill=\"none\" stroke=\"black\" d=\"M861.73,-260.8C844.35,-247.95 820.41,-230.26 801.34,-216.17\"/>\n<polygon fill=\"black\" stroke=\"black\" points=\"803.36,-213.3 793.24,-210.18 799.2,-218.93 803.36,-213.3\"/>\n<text text-anchor=\"middle\" x=\"841.5\" y=\"-231.8\" font-family=\"Times,serif\" font-size=\"14.00\">cc</text>\n</g>\n<!-- 30 -->\n<g id=\"node32\" class=\"node\">\n<title>30</title>\n<text text-anchor=\"middle\" x=\"848\" y=\"-188.3\" font-family=\"Times,serif\" font-size=\"14.00\">30 (он)</text>\n</g>\n<!-- 31&#45;&gt;30 -->\n<g id=\"edge31\" class=\"edge\">\n<title>31&#45;&gt;30</title>\n<path fill=\"none\" stroke=\"black\" d=\"M877.51,-260.8C872.35,-248.93 865.38,-232.93 859.51,-219.45\"/>\n<polygon fill=\"black\" stroke=\"black\" points=\"862.68,-217.95 855.48,-210.18 856.26,-220.74 862.68,-217.95\"/>\n<text text-anchor=\"middle\" x=\"884\" y=\"-231.8\" font-family=\"Times,serif\" font-size=\"14.00\">nsubj</text>\n</g>\n<!-- 32 -->\n<g id=\"node33\" class=\"node\">\n<title>32</title>\n<text text-anchor=\"middle\" x=\"922\" y=\"-188.3\" font-family=\"Times,serif\" font-size=\"14.00\">32 (,)</text>\n</g>\n<!-- 31&#45;&gt;32 -->\n<g id=\"edge32\" class=\"edge\">\n<title>31&#45;&gt;32</title>\n<path fill=\"none\" stroke=\"black\" d=\"M892.49,-260.8C897.65,-248.93 904.62,-232.93 910.49,-219.45\"/>\n<polygon fill=\"black\" stroke=\"black\" points=\"913.74,-220.74 914.52,-210.18 907.32,-217.95 913.74,-220.74\"/>\n<text text-anchor=\"middle\" x=\"921.5\" y=\"-231.8\" font-family=\"Times,serif\" font-size=\"14.00\">punct</text>\n</g>\n<!-- 34 -->\n<g id=\"node34\" class=\"node\">\n<title>34</title>\n<text text-anchor=\"middle\" x=\"1011\" y=\"-188.3\" font-family=\"Times,serif\" font-size=\"14.00\">34 (должно)</text>\n</g>\n<!-- 31&#45;&gt;34 -->\n<g id=\"edge33\" class=\"edge\">\n<title>31&#45;&gt;34</title>\n<path fill=\"none\" stroke=\"black\" d=\"M913.13,-260.89C922.11,-255.3 932.04,-248.99 941,-243 953.79,-234.45 967.62,-224.68 979.58,-216.07\"/>\n<polygon fill=\"black\" stroke=\"black\" points=\"981.87,-218.73 987.92,-210.03 977.77,-213.06 981.87,-218.73\"/>\n<text text-anchor=\"middle\" x=\"975\" y=\"-231.8\" font-family=\"Times,serif\" font-size=\"14.00\">conj</text>\n</g>\n<!-- 33 -->\n<g id=\"node35\" class=\"node\">\n<title>33</title>\n<text text-anchor=\"middle\" x=\"929\" y=\"-101.3\" font-family=\"Times,serif\" font-size=\"14.00\">33 (и)</text>\n</g>\n<!-- 34&#45;&gt;33 -->\n<g id=\"edge34\" class=\"edge\">\n<title>34&#45;&gt;33</title>\n<path fill=\"none\" stroke=\"black\" d=\"M994.41,-173.8C982.4,-161.36 966.01,-144.36 952.64,-130.5\"/>\n<polygon fill=\"black\" stroke=\"black\" points=\"955.03,-127.94 945.57,-123.18 949.99,-132.8 955.03,-127.94\"/>\n<text text-anchor=\"middle\" x=\"981.5\" y=\"-144.8\" font-family=\"Times,serif\" font-size=\"14.00\">cc</text>\n</g>\n<!-- 35 -->\n<g id=\"node36\" class=\"node\">\n<title>35</title>\n<text text-anchor=\"middle\" x=\"1011\" y=\"-101.3\" font-family=\"Times,serif\" font-size=\"14.00\">35 (было)</text>\n</g>\n<!-- 34&#45;&gt;35 -->\n<g id=\"edge35\" class=\"edge\">\n<title>34&#45;&gt;35</title>\n<path fill=\"none\" stroke=\"black\" d=\"M1011,-173.8C1011,-162.16 1011,-146.55 1011,-133.24\"/>\n<polygon fill=\"black\" stroke=\"black\" points=\"1014.5,-133.18 1011,-123.18 1007.5,-133.18 1014.5,-133.18\"/>\n<text text-anchor=\"middle\" x=\"1021\" y=\"-144.8\" font-family=\"Times,serif\" font-size=\"14.00\">cop</text>\n</g>\n<!-- 36 -->\n<g id=\"node37\" class=\"node\">\n<title>36</title>\n<text text-anchor=\"middle\" x=\"1102\" y=\"-101.3\" font-family=\"Times,serif\" font-size=\"14.00\">36 (быть)</text>\n</g>\n<!-- 34&#45;&gt;36 -->\n<g id=\"edge36\" class=\"edge\">\n<title>34&#45;&gt;36</title>\n<path fill=\"none\" stroke=\"black\" d=\"M1029.42,-173.8C1042.86,-161.24 1061.26,-144.05 1076.18,-130.12\"/>\n<polygon fill=\"black\" stroke=\"black\" points=\"1078.69,-132.56 1083.61,-123.18 1073.92,-127.44 1078.69,-132.56\"/>\n<text text-anchor=\"middle\" x=\"1076\" y=\"-144.8\" font-family=\"Times,serif\" font-size=\"14.00\">nsubj</text>\n</g>\n<!-- 37 -->\n<g id=\"node38\" class=\"node\">\n<title>37</title>\n<text text-anchor=\"middle\" x=\"1102\" y=\"-14.3\" font-family=\"Times,serif\" font-size=\"14.00\">37 (.)</text>\n</g>\n<!-- 36&#45;&gt;37 -->\n<g id=\"edge37\" class=\"edge\">\n<title>36&#45;&gt;37</title>\n<path fill=\"none\" stroke=\"black\" d=\"M1102,-86.8C1102,-75.16 1102,-59.55 1102,-46.24\"/>\n<polygon fill=\"black\" stroke=\"black\" points=\"1105.5,-46.18 1102,-36.18 1098.5,-46.18 1105.5,-46.18\"/>\n<text text-anchor=\"middle\" x=\"1117.5\" y=\"-57.8\" font-family=\"Times,serif\" font-size=\"14.00\">punct</text>\n</g>\n</g>\n</svg>\n"
          },
          "metadata": {},
          "execution_count": 50
        }
      ],
      "source": [
        "graph_tree_80 = DependencyGraph(trees[80])\n",
        "graph_tree_80"
      ]
    },
    {
      "cell_type": "markdown",
      "metadata": {
        "id": "Dwi3WDbdNUpn"
      },
      "source": [
        "Вспомним наш прекрасный метод доставания узлов:"
      ]
    },
    {
      "cell_type": "code",
      "execution_count": 51,
      "metadata": {
        "colab": {
          "base_uri": "https://localhost:8080/"
        },
        "id": "2oqR8cHtNTUA",
        "outputId": "6a42f003-1b0e-4c2f-ecd6-3400166988c7"
      },
      "outputs": [
        {
          "output_type": "execute_result",
          "data": {
            "text/plain": [
              "[((None, 'TOP'), 'root', ('тезка', 'ADJ')),\n",
              " (('тезка', 'ADJ'), 'nmod', ('него', 'PRON')),\n",
              " (('него', 'PRON'), 'case', ('У', 'ADP')),\n",
              " (('тезка', 'ADJ'), 'cop', ('был', 'AUX')),\n",
              " (('тезка', 'ADJ'), 'punct', (',', 'PUNCT')),\n",
              " (('тезка', 'ADJ'), 'conj', ('миф', 'NOUN')),\n",
              " (('миф', 'NOUN'), 'case', ('в', 'ADP')),\n",
              " (('в', 'ADP'), 'conj', ('превративший', 'VERB')),\n",
              " (('превративший', 'VERB'), 'advmod', ('неотменимо', 'ADV')),\n",
              " (('превративший', 'VERB'), 'obj', ('имя', 'NOUN')),\n",
              " (('имя', 'NOUN'), 'nmod', ('их', 'PRON')),\n",
              " (('имя', 'NOUN'), 'amod', ('общее', 'ADJ')),\n",
              " (('миф', 'NOUN'), 'punct', (',', 'PUNCT')),\n",
              " (('тезка', 'ADJ'), 'conj', ('песню', 'NOUN')),\n",
              " (('тезка', 'ADJ'), 'conj', ('радость', 'NOUN')),\n",
              " (('радость', 'NOUN'), 'cc', ('и', 'CCONJ')),\n",
              " (('радость', 'NOUN'), 'nmod', ('человечества', 'NOUN')),\n",
              " (('человечества', 'NOUN'), 'punct', (',', 'PUNCT')),\n",
              " (('человечества', 'NOUN'), 'punct', ('--', 'PUNCT')),\n",
              " (('тезка', 'ADJ'), 'advmod', ('оно', 'PRON')),\n",
              " (('оно', 'PRON'), 'cc', ('чем', 'SCONJ')),\n",
              " (('оно', 'PRON'), 'punct', (',', 'PUNCT')),\n",
              " (('оно', 'PRON'), 'obj', ('его', 'PRON')),\n",
              " (('его', 'PRON'), 'punct', (',', 'PUNCT')),\n",
              " (('его', 'PRON'), 'appos', ('Мандельштама', 'PROPN')),\n",
              " (('Мандельштама', 'PROPN'), 'punct', (',', 'PUNCT')),\n",
              " (('Мандельштама', 'PROPN'), 'obj', ('имя', 'NOUN')),\n",
              " (('имя', 'NOUN'), 'punct', (',', 'PUNCT')),\n",
              " (('имя', 'NOUN'), 'advmod', ('знал', 'VERB')),\n",
              " (('знал', 'VERB'), 'cc', ('как', 'SCONJ')),\n",
              " (('знал', 'VERB'), 'nsubj', ('он', 'PRON')),\n",
              " (('знал', 'VERB'), 'punct', (',', 'PUNCT')),\n",
              " (('знал', 'VERB'), 'conj', ('должно', 'ADJ')),\n",
              " (('должно', 'ADJ'), 'cc', ('и', 'CCONJ')),\n",
              " (('должно', 'ADJ'), 'cop', ('было', 'AUX')),\n",
              " (('должно', 'ADJ'), 'nsubj', ('быть', 'AUX')),\n",
              " (('быть', 'AUX'), 'punct', ('.', 'PUNCT'))]"
            ]
          },
          "metadata": {},
          "execution_count": 51
        }
      ],
      "source": [
        "graph_tree_80.root = graph_tree_80.nodes[0]  # чтобы метод сработал нужно установить корневой элемент\n",
        "list(graph_tree_80.triples())"
      ]
    },
    {
      "cell_type": "markdown",
      "metadata": {
        "id": "Qm0TgTG0Or6u"
      },
      "source": [
        "Какие вообще отношения в Universal Dependencies маркируются для русского языка?\n",
        "\n",
        "https://universaldependencies.org/ru/index.html"
      ]
    },
    {
      "cell_type": "markdown",
      "metadata": {
        "id": "Xwfty4Fjle0w"
      },
      "source": [
        "**Какие еще вопросы можно решать с помощью UDPipe?**\n",
        "\n",
        "+ Достать какую-нибудь составляющую. Например, достать из всех предложений вашего корпуса именные группы.\n",
        "+ Достать самые короткие пути (пути по графу зависимостей), соединяющие между собой какие-нибудь фразы.\n",
        "+ Искать предложения или конструкции, похожие между собой по структуре.\n",
        "+ и т.д."
      ]
    },
    {
      "cell_type": "markdown",
      "metadata": {
        "id": "5Yp6OaI_KLjj"
      },
      "source": [
        "**Задание**:\n",
        "\n",
        "\n",
        "1. Дадим SpaCy на разбор предложение с синтаксической неоднозначностью. Какой анализ предлагает SpaCy?\n",
        "    + *John saw the man on the mountain with a telescope.*\n",
        "    + *I'm glad I'm a man, and so is Lola.*\n",
        "    + больше примеров: https://en.wikipedia.org/wiki/Syntactic_ambiguity\n",
        "\n",
        "2. Дадим примеры на острова (приведены ниже с традиционной оценкой их приемлемости). Какой анализ предлагает SpaCy?\n",
        "    - *What<sub>i</sub> does Sarah believe that Susan thinks that John bought \\_<sub>i</sub>?*\n",
        "    + Complex NPs\n",
        "      - _<sup>\\*</sup>Who<sub>i</sub> did Mary see the report that was about _<sub>i</sub>?_<br>(cf. *Mary saw the report that was about the senator.*)\n",
        "      - _<sup>?*</sup>Which sportscar<sub>i</sub> did the color of _<sub>i</sub> delight the baseball player?_<br>(cf. *The color of the sportscar delighted the baseball player.*)\n",
        "\n",
        "    + Complements of manner-of-speaking verbs\n",
        "       - _<sup>??</sup>What<sub>i</sub> did Mary whisper that Bill liked _<sub>i</sub>?_<br>(cf. *Mary whispered that Bill liked wine.*)\n",
        "\n",
        "    + Complex NPs (both noun complements and relative clauses)\n",
        "        - _<sup>*</sup>The senator who<sub>i</sub> Mary saw the report that was about _<sub>i</sub> bothered many people on the committee._\n",
        "\n",
        "    + Subject islands\n",
        "        - _<sup>?*</sup>The sportscar which<sub>i</sub> the color of _<sub>i</sub> delighted the baseball player…_\n",
        "\n",
        "    + Complements of manner-of-speaking verbs\n",
        "        - _<sup>?</sup>The wine which<sub>i</sub> Mary whispered that Bill liked _<sub>i</sub> was a Cabernet._\n",
        "\n",
        "3. Справляется ли SpaCy с эллипсисом:\n",
        "    + *John can [play the guitar]<sub>i</sub>, and Mary can _<sub>i</sub>, too.*\n",
        "4. Достанем все именные группы для слов с тегом `nsubj` при помощи UDPipe, т.е. достанем все именные группы в именительном падеже\n",
        "\n"
      ]
    },
    {
      "cell_type": "code",
      "execution_count": 51,
      "metadata": {
        "id": "vtGb0BNusZHk"
      },
      "outputs": [],
      "source": []
    }
  ],
  "metadata": {
    "colab": {
      "provenance": []
    },
    "kernelspec": {
      "display_name": "Python 3",
      "language": "python",
      "name": "python3"
    },
    "language_info": {
      "codemirror_mode": {
        "name": "ipython",
        "version": 3
      },
      "file_extension": ".py",
      "mimetype": "text/x-python",
      "name": "python",
      "nbconvert_exporter": "python",
      "pygments_lexer": "ipython3",
      "version": "3.12.0"
    }
  },
  "nbformat": 4,
  "nbformat_minor": 0
}
