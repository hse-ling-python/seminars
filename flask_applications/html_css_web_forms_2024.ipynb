{
  "cells": [
    {
      "cell_type": "markdown",
      "source": [
        "# HTML, CSS и немного BootStrap'а"
      ],
      "metadata": {
        "id": "HZ6ffIG0pfO3"
      }
    },
    {
      "cell_type": "markdown",
      "metadata": {
        "id": "MOXONnhXZWx0"
      },
      "source": [
        "## HTML"
      ]
    },
    {
      "cell_type": "markdown",
      "source": [
        "\n",
        "+ HyperText Markup Language (HTML)\n",
        "+ иерархическая структура тэгов\n",
        "+ основные тэги:\n",
        "    * `html` − корневой, самый внешний, тэг\n",
        "    * `head` − ребёнок `html`, содержит метаинформацию\n",
        "    * `style` − ребёнок `head`, содержит информацию о стилях\n",
        "    * `body` − ребёнок `html`, содержит основное содержание документа\n",
        "    * `a` − якорный элемент: ссылка с аттрибутом `href`\n",
        "    * `p` − параграф текста\n",
        "    * `div` − разделитель или кусок страницы с общим чем-то (например, обрамлением / стилем / оформлением)\n",
        "    * `b` − жирный текст внутри\n",
        "    * `i` − курсивный текст внутри\n",
        "    * `table` − табличка\n",
        "    * `form` − форма\n",
        "    * `img` − картинка\n",
        "\n",
        "+ полный список тэгов можно посмотреть [тут](https://developer.mozilla.org/en-US/docs/Web/HTML/Element).\n",
        "+ полезный ресурс про html: https://www.w3schools.com/html/html_intro.asp"
      ],
      "metadata": {
        "id": "k6SNVo3cpkK_"
      }
    },
    {
      "cell_type": "markdown",
      "source": [
        "## CSS"
      ],
      "metadata": {
        "id": "OTF4fw0dpoLk"
      }
    },
    {
      "cell_type": "markdown",
      "source": [
        "+ CSS сокращение от Cascading Style Sheets\n",
        "+ CSS описывают, как HTML элементы должны отображаться\n",
        "+ стили можно сохранять в отдельные CSS файлы или прописывать внутри HTML файлов\n",
        "+ полезный ресурс про css: https://www.w3schools.com/css/css_intro.asp\n",
        "\n",
        "Простой пример оформления страницы, где заданы цвет фона, цвет и положение заголовка, шрифт и размер текста параграфа:"
      ],
      "metadata": {
        "id": "UaDVPz90prF6"
      }
    },
    {
      "cell_type": "markdown",
      "metadata": {
        "id": "innSL-IsZWx2"
      },
      "source": [
        "```html\n",
        "<!DOCTYPE html>\n",
        "<html>\n",
        "    <head>\n",
        "        <style>\n",
        "            body {\n",
        "                background-color: lightblue;\n",
        "            }\n",
        "            h1 {\n",
        "                color: yellow;\n",
        "                text-align: center;\n",
        "            }\n",
        "            p {\n",
        "                font-family: verdana;\n",
        "                font-size: 15px;\n",
        "            }\n",
        "        </style>\n",
        "    </head>\n",
        "    <body>\n",
        "        <h1>Пример</h1>\n",
        "        <p>Пример оформления страницы</p>\n",
        "    </body>\n",
        "</html>\n",
        "```"
      ]
    },
    {
      "cell_type": "markdown",
      "metadata": {
        "id": "g8btAz6zZWx2"
      },
      "source": [
        "### Синтаксис"
      ]
    },
    {
      "cell_type": "markdown",
      "source": [
        "Синтаксис CSS правил:\n",
        "- селектор (*selector*) $-$ элемент `html`, для которого прописывается форматирование\n",
        "- блок деклараций (*declaration block*) $-$ описание форматирования выбранного элемента.\n",
        "\n",
        "Например, в примере выше, `h1` $-$ это селектор, а `{color: yellow; text-align: center;}` $-$ блок деклараций, который отвечает за то, чтобы заголовок был жёлтого цвета и был расположен в центре.\n",
        "\n",
        "**Какие ещё селекторы вы можете найти в примере выше? Какое для них постулируется форматирование?**\n",
        "\n",
        "Каждое утверждение в блоке деклараций содержит название свойства, например, `color`, и значение этого свойства, например, `yellow`. Значение свойства отделяется от названия `:`. Каждое утверждение в блоке деклараций заканчивается `;`, а сам блок оформляется `{}`.\n"
      ],
      "metadata": {
        "id": "ziuBcqWspwxn"
      }
    },
    {
      "cell_type": "markdown",
      "source": [
        "CSS комментарии начинаются с `/*` и заканчиваются `*/`:\n",
        "\n",
        "```css\n",
        "p {\n",
        "  color: red;\n",
        "  /* This is a single-line comment */\n",
        "  text-align: center;\n",
        "}\n",
        "/* This is\n",
        "a multi-line\n",
        "comment */\n",
        "```"
      ],
      "metadata": {
        "id": "7qeqpuJzp0mS"
      }
    },
    {
      "cell_type": "markdown",
      "metadata": {
        "id": "J_BGFPRHZWx2"
      },
      "source": [
        "Селектором может быть не только элемент HTML разметки, но и элемент разметки с определённым `id`; тогда перед селектором-id ставится `#`:\n",
        "\n",
        "```html\n",
        "<!DOCTYPE html>\n",
        "<html>\n",
        "    <head>\n",
        "        <style>\n",
        "            #para1 {\n",
        "                text-align: center;\n",
        "                color: red;\n",
        "            }\n",
        "        </style>\n",
        "    </head>\n",
        "    <body>\n",
        "        <p id=\"para1\">ID Selector Example</p>\n",
        "        <p>This paragraph is not affected by the style.</p>\n",
        "    </body>\n",
        "</html>\n",
        "```"
      ]
    },
    {
      "cell_type": "markdown",
      "metadata": {
        "id": "D4cg1Nz6ZWx3"
      },
      "source": [
        "Селектор может специфицировать класс элемента, тогда перед названием класса ставится `.`:\n",
        "\n",
        "```html\n",
        "<!DOCTYPE html>\n",
        "<html>\n",
        "    <head>\n",
        "        <style>\n",
        "            .center {\n",
        "                text-align: center;\n",
        "                color: red;\n",
        "            }\n",
        "        </style>\n",
        "    </head>\n",
        "    <body>\n",
        "        <h1 class=\"center\">Red and center-aligned heading</h1>\n",
        "        <p class=\"center\">Red and center-aligned paragraph.</p>\n",
        "    </body>\n",
        "</html>\n",
        "```"
      ]
    },
    {
      "cell_type": "markdown",
      "metadata": {
        "id": "aDiOyxRFZWx3"
      },
      "source": [
        "Можно применить стиль только к определённым элементам класса, в примере ниже только элементы `<p>` класса `center` будут затронуты форматированием:\n",
        "\n",
        "```css\n",
        "p.center {\n",
        "  text-align: center;\n",
        "  color: red;\n",
        "}\n",
        "```\n",
        "\n",
        "Чтобы применить форматирование ко всем элементам:\n",
        "\n",
        "```css\n",
        "* {\n",
        "  text-align: center;\n",
        "  color: blue;\n",
        "}\n",
        "```\n",
        "\n",
        "Чтобы применить форматирование к нескольким элементам:\n",
        "\n",
        "```css\n",
        "h1, h2, p {\n",
        "  text-align: center;\n",
        "  color: red;\n",
        "}\n",
        "```"
      ]
    },
    {
      "cell_type": "markdown",
      "metadata": {
        "id": "mFfVx2ZkZWx3"
      },
      "source": [
        "+ **Internal css** (тэг `<style>` внутри тэга `<head>`)\n",
        "\n",
        "+ **Inline css** (атрибут `style` внутри соответствующего тэга, в приоритете)\n",
        "\n",
        "```html\n",
        "<h1 style=\"color:blue;text-align:center;\">This is a heading</h1>\n",
        "<p style=\"color:red;\">This is a paragraph.</p>\n",
        "```\n",
        "+ **External css** (отдельный `.css` файл, созданный в текстовом редакторе, ссылка на него в соответствующем `html` файле):\n",
        "\n",
        "```html\n",
        "<!DOCTYPE html>\n",
        "<html>\n",
        "    <head>\n",
        "        <link rel=\"stylesheet\" type=\"text/css\" href=\"mystyle.css\">\n",
        "    </head>\n",
        "    <body>\n",
        "        <h1>This is a heading</h1>\n",
        "        <p>This is a paragraph.</p>\n",
        "    </body>\n",
        "</html>\n",
        "```\n",
        "Например, так выглядит `mystyle.css`\n",
        "\n",
        "```css\n",
        "body {\n",
        "  background-color: lightblue;\n",
        "}\n",
        "\n",
        "h1 {\n",
        "  color: navy;\n",
        "  margin-left: 20px;\n",
        "}\n",
        "```"
      ]
    },
    {
      "cell_type": "markdown",
      "metadata": {
        "id": "BLUTc5oUZWx3"
      },
      "source": [
        "#### Цвета\n",
        "\n",
        "+ Цвет фона: `<p style=\"background-color:Tomato;\">`\n",
        "+ Цвет текста: `<h1 style=\"color:Tomato;\">Hello World</h1>`\n",
        "+ Цвет рамки: `<h1 style=\"border:2px solid Tomato;\">Hello World</h1>`\n",
        "+ Цвета можно задавать в системах RGB, HEX, HSL, RGBA, HSLA:\n",
        "\n",
        "```html\n",
        "<h1 style=\"background-color:rgb(255, 99, 71);\">...</h1>\n",
        "<h1 style=\"background-color:#ff6347;\">...</h1>\n",
        "<h1 style=\"background-color:hsl(9, 100%, 64%);\">...</h1>\n",
        "\n",
        "<h1 style=\"background-color:rgba(255, 99, 71, 0.5);\">...</h1>\n",
        "<h1 style=\"background-color:hsla(9, 100%, 64%, 0.5);\">...</h1>\n",
        "```"
      ]
    },
    {
      "cell_type": "markdown",
      "metadata": {
        "id": "le7O2O_6ZWx3"
      },
      "source": [
        "#### Фон\n",
        "\n",
        "Мы уже видели, что можно задать цвет фона, но можно и сделать фоном картинку:\n",
        "\n",
        "```css\n",
        "body {\n",
        "  background: url(\"https://upload.wikimedia.org/wikipedia/commons/8/83/Socotra_dragon_tree.JPG\");\n",
        "}\n",
        "```"
      ]
    },
    {
      "cell_type": "markdown",
      "metadata": {
        "id": "v5XAAy9-ZWx3"
      },
      "source": [
        "#### Размер элемента\n",
        "\n",
        "```html\n",
        "<!DOCTYPE html>\n",
        "<html>\n",
        "    <head>\n",
        "        <style>\n",
        "            div {\n",
        "                height: 200px;\n",
        "                width: 50%;\n",
        "                background-color: powderblue;\n",
        "            }\n",
        "        </style>\n",
        "    </head>\n",
        "    <body>\n",
        "        <h2>Set the height and width of an element</h2>\n",
        "        <p>This div element has a height of 200px and a width of 50%:</p>\n",
        "        <div></div>\n",
        "    </body>\n",
        "</html>\n",
        "```"
      ]
    },
    {
      "cell_type": "markdown",
      "metadata": {
        "id": "rGHZxf2ZZWx3"
      },
      "source": [
        "#### Рамки\n",
        "\n",
        "```css\n",
        "p.dotted {border-style: dotted;}\n",
        "p.dashed {border-style: dashed;}\n",
        "p.solid {border-style: solid;}\n",
        "p.double {border-style: double;}\n",
        "p.groove {border-style: groove;}\n",
        "p.ridge {border-style: ridge;}\n",
        "p.inset {border-style: inset;}\n",
        "p.outset {border-style: outset;}\n",
        "p.none {border-style: none;}\n",
        "p.hidden {border-style: hidden;}\n",
        "p.mix {border-style: dotted dashed solid double;}\n",
        "```"
      ]
    },
    {
      "cell_type": "markdown",
      "metadata": {
        "id": "vIJLOzKyZWx4"
      },
      "source": [
        "#### Отступы\n",
        "\n",
        "```css\n",
        "div {\n",
        "    border: 1px solid black;\n",
        "    margin-top: 100px;\n",
        "    margin-bottom: 100px;\n",
        "    margin-right: 150px;\n",
        "    margin-left: 80px;\n",
        "    background-color: lightblue;\n",
        "}\n",
        "```"
      ]
    },
    {
      "cell_type": "markdown",
      "metadata": {
        "id": "SCACpBFjZWx4"
      },
      "source": [
        "#### Текст\n",
        "\n",
        "+ цвет:\n",
        "    + `color: green;`\n",
        "+ ориентирование:\n",
        "    + `text-align: center;`\n",
        "    + `text-align: right;`\n",
        "    + `text-align: left;`\n",
        "+ большие / маленькие буквы:\n",
        "    + `text-transform: uppercase;`\n",
        "    + `text-transform: lowercase;`\n",
        "    + `text-transform: capitalize;`\n",
        "   \n",
        "+ отступ:\n",
        "    + `text-indent: 50px;`\n",
        "+ размер шрифта:\n",
        "    + `font-size: 30px;`\n",
        "+ шрифт:\n",
        "    + `font-family: \"Times New Roman\", Times, serif;`\n",
        "    + `font-family: Arial, Helvetica, sans-serif;`\n",
        "+ начертание шрифта:\n",
        "    + `font-weight: bold;`"
      ]
    },
    {
      "cell_type": "markdown",
      "metadata": {
        "id": "lLwzKD1QZWx4"
      },
      "source": [
        "#### Списки\n",
        "\n",
        "Для списков можно задать, например, вид значка перечисления $-$ `list-style-type: circle;` $-$ каждый элемент списка будет отмечен кружком.\n",
        "\n",
        "```html\n",
        "<!DOCTYPE html>\n",
        "<html>\n",
        "    <head>\n",
        "        <style>\n",
        "            ul.a {\n",
        "                list-style-type: circle;\n",
        "            }\n",
        "\n",
        "            ul.b {\n",
        "                list-style-type: square;\n",
        "            }\n",
        "\n",
        "            ol.c {\n",
        "                list-style-type: upper-roman;\n",
        "            }\n",
        "\n",
        "            ol.d {\n",
        "                list-style-type: lower-alpha;\n",
        "            }\n",
        "        </style>\n",
        "    </head>\n",
        "    <body>\n",
        "        <p>Example of unordered lists:</p>\n",
        "        <ul class=\"a\">\n",
        "            <li>Coffee</li>\n",
        "            <li>Tea</li>\n",
        "            <li>Coca Cola</li>\n",
        "        </ul>\n",
        "\n",
        "        <ul class=\"b\">\n",
        "            <li>Coffee</li>\n",
        "            <li>Tea</li>\n",
        "            <li>Coca Cola</li>\n",
        "        </ul>\n",
        "\n",
        "        <p>Example of ordered lists:</p>\n",
        "        <ol class=\"c\">\n",
        "            <li>Coffee</li>\n",
        "            <li>Tea</li>\n",
        "            <li>Coca Cola</li>\n",
        "        </ol>\n",
        "\n",
        "        <ol class=\"d\">\n",
        "            <li>Coffee</li>\n",
        "            <li>Tea</li>\n",
        "            <li>Coca Cola</li>\n",
        "        </ol>\n",
        "    </body>\n",
        "</html>\n",
        "```"
      ]
    },
    {
      "cell_type": "markdown",
      "metadata": {
        "id": "AH6LcCbTZWx4"
      },
      "source": [
        "#### Таблицы\n",
        "\n",
        "+ характер границ:\n",
        "\n",
        "```css\n",
        "table, th, td {\n",
        "  border: 1px solid black;\n",
        "}\n",
        "```\n",
        "\n",
        "+ ориентация элементов таблицы:\n",
        "\n",
        "```css\n",
        "th {\n",
        "  text-align: left;\n",
        "}\n",
        "```\n",
        "\n",
        "+ цвет строк:\n",
        "\n",
        "```css\n",
        "th {\n",
        "  background-color: #4CAF50;\n",
        "  color: white;\n",
        "}\n",
        "```"
      ]
    },
    {
      "cell_type": "markdown",
      "metadata": {
        "id": "N32gAsGuZWx4"
      },
      "source": [
        "Чтобы легче было размещать элементы на странице, можно создать **решётку элементов** (*grid*):\n",
        "\n",
        "```html\n",
        "<!DOCTYPE html>\n",
        "<html>\n",
        "    <head>\n",
        "        <style>\n",
        "            .item1 { grid-area: header; }\n",
        "            .item2 { grid-area: menu; }\n",
        "            .item3 { grid-area: main; }\n",
        "            .item4 { grid-area: right; }\n",
        "            .item5 { grid-area: footer; }\n",
        "\n",
        "            .grid-container {\n",
        "                display: grid;\n",
        "                grid-template-areas:\n",
        "                    'header header header header header header'\n",
        "                    'menu main main main right right'\n",
        "                    'menu footer footer footer footer footer';\n",
        "                grid-gap: 10px;\n",
        "                background-color: #2196F3;\n",
        "                padding: 10px;\n",
        "            }\n",
        "\n",
        "            .grid-container > div {\n",
        "                background-color: rgba(255, 255, 255, 0.8);\n",
        "                text-align: center;\n",
        "                padding: 20px 0;\n",
        "                font-size: 30px;\n",
        "            }\n",
        "        </style>\n",
        "    </head>\n",
        "    <body>\n",
        "        <h1>Grid Layout</h1>\n",
        "        <p>This grid layout contains six columns and three rows:</p>\n",
        "        <div class=\"grid-container\">\n",
        "            <div class=\"item1\">Header</div>\n",
        "            <div class=\"item2\">Menu</div>\n",
        "            <div class=\"item3\">Main</div>  \n",
        "            <div class=\"item4\">Right</div>\n",
        "            <div class=\"item5\">Footer</div>\n",
        "        </div>\n",
        "    </body>\n",
        "</html>\n",
        "```"
      ]
    },
    {
      "cell_type": "markdown",
      "source": [
        "## Bootstrap"
      ],
      "metadata": {
        "id": "GjF5iypaqA4p"
      }
    },
    {
      "cell_type": "markdown",
      "source": [
        "+ Технология, которая позволяет использовать шаблоны стилей, что ускоряет работу.\n",
        "+ В открытом доступе с 2011 года.\n",
        "+ полезный ресурс про bootstrap: https://www.w3schools.com/bootstrap/bootstrap_get_started.asp"
      ],
      "metadata": {
        "id": "XWaZ811LqFzQ"
      }
    },
    {
      "cell_type": "markdown",
      "metadata": {
        "id": "D6jh0vyjZWx4"
      },
      "source": [
        "**Пример:**\n",
        "\n",
        "```html\n",
        "<!DOCTYPE html>\n",
        "<html lang=\"en\">\n",
        "    <head>\n",
        "        <title>Bootstrap Example</title>\n",
        "        <meta charset=\"utf-8\">\n",
        "        <meta name=\"viewport\" content=\"width=device-width, initial-scale=1\">\n",
        "        <link rel=\"stylesheet\" href=\"https://maxcdn.bootstrapcdn.com/bootstrap/3.4.0/css/bootstrap.min.css\">\n",
        "        <script src=\"https://ajax.googleapis.com/ajax/libs/jquery/3.4.1/jquery.min.js\"></script>\n",
        "        <script src=\"https://maxcdn.bootstrapcdn.com/bootstrap/3.4.0/js/bootstrap.min.js\"></script>\n",
        "    </head>\n",
        "    <body>\n",
        "        <div class=\"jumbotron text-center\">\n",
        "            <h1>Пример</h1>\n",
        "            <p>Страница создана с использованием bootstrap</p>\n",
        "        </div>\n",
        "        <div class=\"container\">\n",
        "            <div class=\"row\">\n",
        "                <div class=\"col-sm-4\">\n",
        "                    <h3>Первый столбец</h3>\n",
        "                    <p>Важный текст</p>\n",
        "                    <p>Ещё более важный текст</p>\n",
        "                </div>\n",
        "                <div class=\"col-sm-4\">\n",
        "                    <h3>Второй столбец2</h3>\n",
        "                    <p>Важный текст</p>\n",
        "                    <p>Ещё более важный текст</p>\n",
        "                </div>\n",
        "                <div class=\"col-sm-4\">\n",
        "                    <h3>Третий столбец</h3>        \n",
        "                    <p>Важный текст</p>\n",
        "                    <p>Ещё более важный текст</p>\n",
        "                </div>\n",
        "            </div>\n",
        "        </div>\n",
        "    </body>\n",
        "</html>\n",
        "```"
      ]
    },
    {
      "cell_type": "markdown",
      "metadata": {
        "id": "yFbF4VWPZWx4"
      },
      "source": [
        "## Задание 1"
      ]
    },
    {
      "cell_type": "markdown",
      "source": [
        "Создайте красивую страничку, где будут:\n",
        "\n",
        "+ текстовые элементы (задайте шрифт, размер, цвет, фон для них)\n",
        "+ картинка (задайте размер, позицию)\n",
        "+ таблица (задайте характер границ, размер ячеек, ориентацию текста в ячейках)\n",
        "+ список (задайте характер маркеров элементов списка, цвет фона для списка)"
      ],
      "metadata": {
        "id": "N3QpbTZIqJq5"
      }
    },
    {
      "cell_type": "markdown",
      "metadata": {
        "id": "sbl97l04WPwS"
      },
      "source": [
        "# Веб-формы\n",
        "\n",
        "**План:**\n",
        "\n",
        "1. Для чего нужны веб-формы\n",
        "2. Какие есть типы полей для ввода"
      ]
    },
    {
      "cell_type": "markdown",
      "source": [
        "Часто нужно не просто показать страницы, но и получить от пользователя какую-то информацию, которую можно получить с помощью веб-форм:\n",
        "\n",
        "```html\n",
        "<form>\n",
        "    .\n",
        "    элементы формы\n",
        "    .\n",
        "</form>\n",
        "```"
      ],
      "metadata": {
        "id": "A35PY8WXhcrq"
      }
    },
    {
      "cell_type": "markdown",
      "metadata": {
        "id": "AZNLL2RcWPwV"
      },
      "source": [
        "Элементы $-$ это *input* или *select* элементы, которые позволяют получить определенные типы информации.\n",
        "\n",
        "**Input**\n",
        "\n",
        "- `type` $-$ тип данных: `text` (текст), `textarea` (длинный текст), `checkbox` (выбор нескольких), `radio` (выбор одного)<br>`submit` (отправка формы).\n",
        "- `name` $-$ имя элемента при отправке формы (ключ, по которому можно будет потом получить значение).\n",
        "- `value` $-$ дефолтное значение."
      ]
    },
    {
      "cell_type": "markdown",
      "metadata": {
        "id": "wkth_pKoWPwV"
      },
      "source": [
        "В типе `submit` `value` $-$ это то, что будет написано на кнопке:\n",
        "\n",
        "```html\n",
        "<input type=\"submit\" value=\"Submit\">\n",
        "```\n",
        "\n"
      ]
    },
    {
      "cell_type": "markdown",
      "metadata": {
        "id": "U1I2kGv3WPwV"
      },
      "source": [
        "В текстовом поле дефолтное значение, если его не изменить, отправится в форме. Если мы хотим показать какое-то значени в ячейке (в качестве подсказки), но не отправлять, можно использовать параметр `placeholder`.\n",
        "\n",
        "```html\n",
        "<input type=\"text\" name=\"firstname\" value=\"MyName\">\n",
        "```\n"
      ]
    },
    {
      "cell_type": "markdown",
      "metadata": {
        "id": "72de-6JPWPwW"
      },
      "source": [
        "```html\n",
        "<form action=\"/action_page.php\">\n",
        "  First name:<br>\n",
        "  <input type=\"text\" name=\"firstname\" placeholder=\"Mickey\">\n",
        "  <br>\n",
        "  Last name:<br>\n",
        "  <input type=\"text\" name=\"lastname\" value=\"Mouse\">\n",
        "  <br><br>\n",
        "  <input type=\"submit\" value=\"Отправить\">\n",
        "</form>\n",
        "```\n",
        "\n",
        "Такая форма отправит запрос `firstname=&lastname=Mouse` при нажатии на кнопку Отправить, если мы не изменим значения полей, потому что в первом случае *Mickey* $-$ это `placeholder`, а *Mouse* $-$ `value`."
      ]
    },
    {
      "cell_type": "markdown",
      "source": [
        "Для выбора одного варианта из предложенных используется тип `radio`. Дефолтное значение задается параметром `checked`. Заметим, что отображаться будут *Male*, *Female* и тд, но при отправке запроса будем получать `gender=male`, как указано в `value`.\n",
        "\n",
        "\n",
        "```html\n",
        "<form>\n",
        "  <input type=\"radio\" name=\"gender\" value=\"male\" checked> Male<br>\n",
        "  <input type=\"radio\" name=\"gender\" value=\"female\"> Female<br>\n",
        "  <input type=\"radio\" name=\"gender\" value=\"other\"> Other\n",
        "</form>\n",
        "```\n",
        "\n"
      ],
      "metadata": {
        "id": "LEJaiReVYC1u"
      }
    },
    {
      "cell_type": "markdown",
      "metadata": {
        "id": "1gpta5WhWPwW"
      },
      "source": [
        "Следующий вид $-$ это чекбоксы, то есть поля, которые мы отмечаем или не отмечаем галочкой:\n",
        "\n",
        "```html\n",
        "<input type=\"checkbox\" name=\"student\" value=\"is_student\"> студент<br>\n",
        "```\n",
        "\n",
        "При отправке получим `student=is_student`, если отметим поле, иначе ` ` (пустое значение).\n"
      ]
    },
    {
      "cell_type": "markdown",
      "metadata": {
        "id": "dfo71u_eWPwW"
      },
      "source": [
        "Что передать полученные данные нашему серверу, мы должны из отправить по какому-то адресу, например, `results` и сделать это в отдельной вкладке:\n",
        "\n",
        "```html\n",
        "<form action=\"/results\" target=\"_blank\">\n",
        "```\n",
        "\n",
        "Где `action` $-$ это куда отправить, а `target=\"_blank\"` сообщает сделать это в новой вкладке."
      ]
    },
    {
      "cell_type": "markdown",
      "metadata": {
        "id": "GvXzuwD-WPwX"
      },
      "source": [
        "При отправке запроса нужно сказать серверу, как ему стоит обаботать наш запрос: каким методом. Методы бывают разные, а сейчас мы разберем два основных: `GET` и `POST`.\n",
        "\n",
        "**`GET`**\n",
        "\n",
        "Этот метод является одним из самых распространенных и предназначен для получения требуемой информации и передачи данных в адресной строке. Пары «имя=значение» присоединяются в этом случае к адресу после вопросительного знака и разделяются между собой амперсандом (символ `&`).\n",
        "\n",
        "Удобство использования метода `GET` заключается в том, что адрес со всеми параметрами можно использовать неоднократно, сохранив его, например, в закладки браузера, а также менять значения параметров прямо в адресной строке.\n",
        "\n",
        "**`POST`**\n",
        "\n",
        "Метод `POST` посылает на сервер данные в запросе браузера. Это позволяет отправлять большее количество данных, чем доступно методу `GET`, плюс эти данные можно скрывать. Большие объемы данных используются в форумах, почтовых службах, заполнении базы данных, при пересылке файлов и др.\n",
        "\n",
        "**Пример**:\n",
        "\n",
        "```html\n",
        "<form action=\"/results\" method='GET'>\n",
        "```"
      ]
    },
    {
      "cell_type": "markdown",
      "metadata": {
        "id": "dUjkuH0lWPwX"
      },
      "source": [
        "## Задание 2\n",
        "\n",
        "Давайте напишем простую форму, где пользователь вводит слово или словосочетание, оно ищется в гугле.\n",
        "\n",
        "\n",
        "```html\n",
        "<html>\n",
        "    <head>\n",
        "       <meta charset=\"utf-8\">\n",
        "       <title>Что ищем?</title>\n",
        "    </head>\n",
        "    <body>\n",
        "       <form action=\"https://www.google.com/search\">\n",
        "          <p><b>Введите поисковый запрос</b></p>\n",
        "          <input type=\"text\" name=\"q\">\n",
        "          <p><input type=\"submit\"></p>\n",
        "       </form>\n",
        "     </body>\n",
        " </html>\n",
        "```\n",
        "\n",
        "\n",
        "\n",
        " Напишите аналогичную форму для поиска в Яндексе. Что надо добавить, чтобы на кнопке поиска был написано \"yandex-search\"?"
      ]
    },
    {
      "cell_type": "markdown",
      "metadata": {
        "id": "FRzU_hflWPwX"
      },
      "source": [
        "### Задание 3\n",
        "\n",
        "1. Создайте страницу с инструкцией для прохождения лингвистической анкеты и с формой согласия на прохождение опроса. С этой страницы должен осуществляться переход на страницу в пункте 2.\n",
        "\n",
        "2. Создайте страницу с формой для лингвистической анкеты.\n",
        "\n",
        "3. Создайте папку `static` и положите в неё файлы со стилями для созданных страниц. Сошлитесь на них в соответствующем шаблоне:\n",
        "\n",
        "```html\n",
        "<head>\n",
        "    <meta charset=\"UTF-8\">\n",
        "    <link rel= \"stylesheet\" type= \"text/css\" href= \"{{ url_for('static',filename='style.css') }}\">\n",
        "    <title></title>\n",
        "</head>\n",
        "```"
      ]
    },
    {
      "cell_type": "code",
      "execution_count": 4,
      "metadata": {
        "id": "aT6L7wI7WPwX",
        "colab": {
          "base_uri": "https://localhost:8080/"
        },
        "outputId": "3e08ce7c-8e59-49a7-e728-550d0b59b0d7"
      },
      "outputs": [
        {
          "output_type": "stream",
          "name": "stdout",
          "text": [
            " * Serving Flask app '__main__'\n",
            " * Debug mode: off\n"
          ]
        },
        {
          "output_type": "stream",
          "name": "stderr",
          "text": [
            "INFO:werkzeug:\u001b[31m\u001b[1mWARNING: This is a development server. Do not use it in a production deployment. Use a production WSGI server instead.\u001b[0m\n",
            " * Running on http://127.0.0.1:5000\n",
            "INFO:werkzeug:\u001b[33mPress CTRL+C to quit\u001b[0m\n"
          ]
        }
      ],
      "source": [
        "from flask import Flask, render_template, request\n",
        "\n",
        "app = Flask(__name__)\n",
        "\n",
        "@app.route(\"/\")\n",
        "def instruction():\n",
        "    return render_template('index.html')\n",
        "\n",
        "@app.route(\"/questionnaire\")\n",
        "def quest():\n",
        "    return render_template('quest.html')\n",
        "\n",
        "if __name__ == \"__main__\":\n",
        "    app.run()"
      ]
    },
    {
      "cell_type": "markdown",
      "metadata": {
        "id": "qUsivzPbWPwX"
      },
      "source": [
        "+ `<fieldset>` используется, чтобы сгруппировать элементы формы.\n",
        "\n",
        "+ `<legend>` $-$ заголовок элемента `<fieldset>`."
      ]
    },
    {
      "cell_type": "markdown",
      "source": [
        "```html\n",
        "<!DOCTYPE html>\n",
        "<html lang=\"ru\">\n",
        "    <head>\n",
        "        <meta charset=\"utf-8\">\n",
        "        <title>Согласие</title>\n",
        "    </head>\n",
        "    <body>\n",
        "        <form action=\"/questionnaire\" method='GET'>\n",
        "            <fieldset>\n",
        "                <legend><b>Опрос про распределение языков общения у носителей хантыйского</b></legend>\n",
        "                <p>Некоторое описание опроса</p>\n",
        "                Согласны ли Вы пройти опрос?<br>\n",
        "                <input type=\"radio\" name=\"ask\" value=\"yes\" checked>Да<br>\n",
        "                <p><input type=\"submit\" value=\"Отправить\"></p>\n",
        "            </fieldset>\n",
        "        </form>\n",
        "        <p><a href='/questionnaire'>Опрос</a></p>\n",
        "    </body>\n",
        "</html>\n",
        "```"
      ],
      "metadata": {
        "id": "XTDfA5bFRCY1"
      }
    },
    {
      "cell_type": "markdown",
      "source": [
        "```html\n",
        "<!DOCTYPE html>\n",
        "<html lang=\"ru\">\n",
        "    <head>\n",
        "        <meta charset=\"utf-8\">\n",
        "        <title>Анкета владения языками хантов Казыма</title>\n",
        "    </head>\n",
        "    <body>\n",
        "        <form action=\"/\" method = 'GET'>\n",
        "            <fieldset>\n",
        "                <legend><b>Опрос про распределение языков общения у носителей хантыйского</b></legend>\n",
        "                Владеете ли Вы хантыйским как родным?<br>\n",
        "                <input type=\"radio\" name=\"ask\" value=\"yes\" checked>Да<br>\n",
        "                <input type=\"radio\" name=\"ask\" value=\"no\">Нет<br>\n",
        "                На каком языке Вы общаетесь на работе?<br>\n",
        "                    Например: хантыйский, зырянский, русский<br>\n",
        "                <input type=\"text\" name=\"work\" required pattern='[A-Za-zА-Яа-яЁё]+'><br>\n",
        "                На каком языке Вы общаетесь дома?<br>\n",
        "                    Например: хантыйский, зырянский, русский<br>\n",
        "                <input type=\"text\" name=\"home\" required pattern='[A-Za-zА-Яа-яЁё]+'><br>\n",
        "                    Ваше имя?<br>\n",
        "                    Например: Катя<br>\n",
        "                <input type=\"text\" name=\"name\" required pattern='[A-Za-zА-Яа-яЁё]+'><br>\n",
        "                    Ваша фамилия?<br>\n",
        "                    Например: Козлова<br>\n",
        "                <input type=\"text\" name=\"surname\" required pattern='[A-Za-zА-Яа-яЁё]+'><br>\n",
        "                <p><input type=\"submit\" value=\"Отправить\"></p>\n",
        "            </fieldset>\n",
        "        </form>\n",
        "        <p><a href='/'>Инструкция</a></p>\n",
        "    </body>\n",
        "</html>\n",
        "```\n"
      ],
      "metadata": {
        "id": "iucxorigRZH2"
      }
    },
    {
      "cell_type": "markdown",
      "metadata": {
        "id": "4N1BPk6JWPwY"
      },
      "source": [
        "#### В следующий раз...\n",
        "\n",
        "Для использования данных из формы используется `request.args`, который представляет собой словарь параметров."
      ]
    },
    {
      "cell_type": "code",
      "execution_count": 2,
      "metadata": {
        "id": "DDKAdAoYWPwY"
      },
      "outputs": [],
      "source": [
        "from flask import request\n",
        "\n",
        "@app.route('/login')\n",
        "def login_one():\n",
        "    return 'Name: ' + request.args['login']"
      ]
    },
    {
      "cell_type": "markdown",
      "metadata": {
        "id": "liyw7Jk_WPwY"
      },
      "source": [
        "Учитывая то, что в форме может не оказаться нужного параметра, как, например, в случае `checkbox`, лучше использовать метод `get`, который возвращает `None`, если ключа нет в словаре и не вызывает ошибку."
      ]
    },
    {
      "cell_type": "code",
      "execution_count": 5,
      "metadata": {
        "id": "oqgKNl3yWPwY"
      },
      "outputs": [],
      "source": [
        "from flask import request\n",
        "\n",
        "@app.route('/login')\n",
        "def login_two():\n",
        "    return 'Name: ' + request.args.get('login')"
      ]
    }
  ],
  "metadata": {
    "kernelspec": {
      "display_name": "Python 3",
      "language": "python",
      "name": "python3"
    },
    "language_info": {
      "codemirror_mode": {
        "name": "ipython",
        "version": 3
      },
      "file_extension": ".py",
      "mimetype": "text/x-python",
      "name": "python",
      "nbconvert_exporter": "python",
      "pygments_lexer": "ipython3",
      "version": "3.6.8"
    },
    "colab": {
      "provenance": [],
      "collapsed_sections": [
        "BLUTc5oUZWx3",
        "le7O2O_6ZWx3",
        "v5XAAy9-ZWx3",
        "rGHZxf2ZZWx3",
        "vIJLOzKyZWx4",
        "SCACpBFjZWx4",
        "lLwzKD1QZWx4"
      ]
    }
  },
  "nbformat": 4,
  "nbformat_minor": 0
}