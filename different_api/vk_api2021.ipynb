{
 "cells": [
  {
   "cell_type": "markdown",
   "metadata": {},
   "source": [
    "# VK API\n",
    "\n",
    "VK API бесплатное, но нужно получить доступ\n",
    "\n",
    "\n",
    "**Авторизация**\n",
    "\n",
    "1. Перейти по ссылке https://id.vk.com/about/business/go/create-account\n",
    "2. Создать новое приложение: standalone-приложение, название любое\n",
    "3. Необходимо получить код подтверждения, может быть по номеру телефона\n",
    "4. Если все ок, то вы перейдете в настройки приложения, там можно увидеть ключи доступа. На интересует **сервисный ключ доступа**\n",
    "\n",
    "**Версии**\n",
    "\n",
    "У API есть версии, поэтому вместе с токеном мы еще передаем информацию о том, какую версию мы используем. Версия отличает тем, какие параметры подаются, но больше это касается того, в каком виде мы получим ответ (структура ответа или наличие тех или иных полей может меняться от версии к версии)."
   ]
  },
  {
   "cell_type": "code",
   "execution_count": 29,
   "metadata": {},
   "outputs": [],
   "source": [
    "import requests\n",
    "from tqdm.auto import tqdm\n",
    "from datetime import datetime\n",
    "import pandas as pd"
   ]
  },
  {
   "cell_type": "markdown",
   "metadata": {},
   "source": [
    "Зафиксируем версию и токен в константах. В качестве токена подставляется сервисный ключ из настроек приложения. Укажем ту, которая дефолтно показывается в документации."
   ]
  },
  {
   "cell_type": "code",
   "execution_count": 3,
   "metadata": {},
   "outputs": [],
   "source": [
    "TOKEN = \"\"\n",
    "VERSION = \"5.130\""
   ]
  },
  {
   "cell_type": "markdown",
   "metadata": {},
   "source": [
    "## Метод wall.get\n",
    "\n",
    "Первое, что мы сделаем - попробуем скачать информацию со стены, чтобы научиться собирать текстовые данные.\n",
    "\n",
    "Подробная документация по ссылке: https://vk.com/dev/wall.get. Тут можно посмотреть на пример запроса, описание полей."
   ]
  },
  {
   "cell_type": "code",
   "execution_count": 4,
   "metadata": {},
   "outputs": [],
   "source": [
    "wall_get_url = \"https://api.vk.com/method/wall.get\" # endpoint, на который мы отправляем такие запросы"
   ]
  },
  {
   "cell_type": "markdown",
   "metadata": {},
   "source": [
    "Запрашиваем 2 последних поста со страницы юзера с id = 1 (Павел Дуров). \n",
    "\n",
    "Для сообществ ID будут отрицательными (например, -1)"
   ]
  },
  {
   "cell_type": "code",
   "execution_count": 5,
   "metadata": {},
   "outputs": [],
   "source": [
    "data = requests.get(\n",
    "    wall_get_url, \n",
    "    params={\n",
    "        \"owner_id\": 1,  # ID юзера\n",
    "        \"count\": 2,  # кол-во постов\n",
    "        \"v\": VERSION, # версия API\n",
    "        \"access_token\": TOKEN  # токен доступа\n",
    "    }\n",
    ").json()"
   ]
  },
  {
   "cell_type": "markdown",
   "metadata": {},
   "source": [
    "Мы получим ответ, который представляет собой словарь, где по ключу response лежит сам ответ.\n",
    "\n",
    "Внутри лежит параметр count с числом записей (всего). В items сами посты (2, как мы просили).\n",
    "\n",
    "Для каждого поста есть информация по объекту post. Подробное описание на странице https://vk.com/dev/objects/post"
   ]
  },
  {
   "cell_type": "code",
   "execution_count": 6,
   "metadata": {
    "scrolled": false
   },
   "outputs": [
    {
     "data": {
      "text/plain": [
       "{'response': {'count': 296,\n",
       "  'items': [{'id': 2442097,\n",
       "    'from_id': 1,\n",
       "    'owner_id': 1,\n",
       "    'date': 1525805964,\n",
       "    'post_type': 'post',\n",
       "    'text': 'Иногда говорят, что Telegram был заблокирован в России, так как “закон есть закон”. Однако Telegram заблокирован в России как раз вопреки главному закону страны – Конституции. Решения судов и законы, противоречащие Конституции, не имеют силы. А это значит, что и сама блокировка Telegram незаконна. \\n\\nЕсли бы ФСБ ограничилась запросом информации о нескольких террористах, то ее требование вписывалось бы в рамки Конституции. Однако речь идет о передаче универсальных ключей шифрования с целью последующего бесконтрольного доступа к переписке неограниченного круга лиц. A это – прямое нарушение 23-й статьи Конституции о праве каждого на тайну переписки.\\n\\nПо этой причине юристы из “Агоры” сегодня обжаловали решение Верховного суда России о законности приказа ФСБ. Надеюсь, власти России откажутся от языка неисполнимых ультиматумов, на котором сегодня ведется диалог с технологическими компаниями.\\n\\nНезависимо от этого, мы продолжим борьбу за Telegram в России. История наших предков учит биться до победного конца. \\n\\nС Днем Победы!',\n",
       "    'post_source': {'type': 'vk'},\n",
       "    'comments': {'count': 469424, 'can_post': 1, 'groups_can_post': True},\n",
       "    'likes': {'count': 196155,\n",
       "     'user_likes': 0,\n",
       "     'can_like': 1,\n",
       "     'can_publish': 1},\n",
       "    'reposts': {'count': 3670, 'user_reposted': 0},\n",
       "    'views': {'count': 10753349},\n",
       "    'donut': {'is_donut': False},\n",
       "    'short_text_rate': 0.8,\n",
       "    'edited': 1525813826},\n",
       "   {'id': 2431591,\n",
       "    'from_id': 1,\n",
       "    'owner_id': 1,\n",
       "    'date': 1525352753,\n",
       "    'post_type': 'post',\n",
       "    'text': 'Михаил Светов, организатор прошедшего митинга за свободу интернета, объявил конкурс на наиболее вдохновляющую обработку видеоматериалов с митинга. Призовой фонд – 1 биткоин.\\n\\n#digitalresistance',\n",
       "    'attachments': [{'type': 'video',\n",
       "      'video': {'access_key': 'b6751e4a53ef7bd286',\n",
       "       'can_comment': 0,\n",
       "       'can_like': 1,\n",
       "       'can_repost': 1,\n",
       "       'can_subscribe': 1,\n",
       "       'can_add_to_faves': 1,\n",
       "       'can_add': 1,\n",
       "       'comments': 125,\n",
       "       'date': 1525352754,\n",
       "       'description': 'Мне пришёл целевой анонимный донат на проведение конкурса. Разыгрываю целый биткоин [не кликбейт, на самом деле].\\n\\nКонкурс на лучшую видео и аудио обработку речей и кадров с митинга 30 апреля. Подходит любой формат, главное, в максимально мемичной форме распространить основные тезисы наших выступлений по интернету, и обратить внимание на критическую значимость блокировок. Все слова сказаны. Их нужно донести. Срок — 10 дней. Постите свои видео с хэштегом #digitalresistance во всех соцсетях и присылайте ссылк',\n",
       "       'duration': 113,\n",
       "       'image': [{'height': 96,\n",
       "         'url': 'https://sun1-21.userapi.com/c840722/v840722964/8039f/kunM7m6I7w4.jpg',\n",
       "         'width': 130,\n",
       "         'with_padding': 1},\n",
       "        {'height': 120,\n",
       "         'url': 'https://sun1-18.userapi.com/c840722/v840722964/803a0/4pAgn-HpKwI.jpg',\n",
       "         'width': 160,\n",
       "         'with_padding': 1},\n",
       "        {'height': 240,\n",
       "         'url': 'https://sun1-17.userapi.com/c840722/v840722964/803a1/OGFig-5UNjY.jpg',\n",
       "         'width': 320,\n",
       "         'with_padding': 1},\n",
       "        {'height': 450,\n",
       "         'url': 'https://sun1-23.userapi.com/c840722/v840722964/803a2/T2SKhzbHheQ.jpg',\n",
       "         'width': 800,\n",
       "         'with_padding': 1}],\n",
       "       'id': 456239033,\n",
       "       'owner_id': 1,\n",
       "       'title': 'КОНКУРС НА БИТКОИН',\n",
       "       'track_code': 'video_a54d683bgZl1aBz2xB9SIKMlYgOTmT-wEKq9lmepX3AZ7L0sJsyDkkQ3KMPyLWEZ',\n",
       "       'type': 'video',\n",
       "       'views': 53648,\n",
       "       'local_views': 53648,\n",
       "       'platform': 'YouTube'}}],\n",
       "    'post_source': {'type': 'vk'},\n",
       "    'comments': {'count': 13840, 'can_post': 1, 'groups_can_post': True},\n",
       "    'likes': {'count': 22650,\n",
       "     'user_likes': 0,\n",
       "     'can_like': 1,\n",
       "     'can_publish': 1},\n",
       "    'reposts': {'count': 425, 'user_reposted': 0},\n",
       "    'views': {'count': 5847418},\n",
       "    'donut': {'is_donut': False},\n",
       "    'short_text_rate': 0.8,\n",
       "    'edited': 1525352775}]}}"
      ]
     },
     "execution_count": 6,
     "metadata": {},
     "output_type": "execute_result"
    }
   ],
   "source": [
    "data"
   ]
  },
  {
   "cell_type": "markdown",
   "metadata": {},
   "source": [
    "Можно заметить, что дата отображается в виде числа. Это специальный формат unixtimestamp, который очень часто используется, так как целые числа - это универсальный способ хранения, который можно исопльзовать в любой системе (JSON, любые БД и прочие)"
   ]
  },
  {
   "cell_type": "code",
   "execution_count": 10,
   "metadata": {},
   "outputs": [
    {
     "name": "stdout",
     "output_type": "stream",
     "text": [
      "1525805964 2018-05-08 21:59:24\n"
     ]
    }
   ],
   "source": [
    "unixtime = data['response']['items'][0]['date']\n",
    "utc = datetime.fromtimestamp(unixtime)\n",
    "print(unixtime, utc)"
   ]
  },
  {
   "cell_type": "markdown",
   "metadata": {},
   "source": [
    "## wall.getComments\n",
    "\n",
    "Следующий метод - это сбор комментариев к посту, что тоже может быть интересно для изучения диалогов или чего-то подобного.\n",
    "\n",
    "Основные параметры: owner_id, post_id. Их мы можем достать из информации о постах на стене.\n",
    "\n",
    "Можно это сделать и вручную, например, если открыть пост во всплывающем окне, то по адресу в адресной строке можно понять эти id.\n",
    "\n",
    "https://vk.com/id1?w=wall1_2442097 : owner_id = 1, post_id = 2442097\n",
    "\n",
    "Для примера возьмем пост из СМИ, где можно оставлять комментарии."
   ]
  },
  {
   "cell_type": "code",
   "execution_count": 13,
   "metadata": {},
   "outputs": [],
   "source": [
    "get_comments_url = \"https://api.vk.com/method/wall.getComments\""
   ]
  },
  {
   "cell_type": "code",
   "execution_count": 16,
   "metadata": {},
   "outputs": [],
   "source": [
    "data = requests.get(\n",
    "    get_comments_url, \n",
    "    params={\n",
    "        \"owner_id\": -76982440,\n",
    "        \"post_id\": 5011073,\n",
    "        \"count\": 2,\n",
    "        \"need_likes\": 1,\n",
    "        \"v\": VERSION,\n",
    "        \"access_token\": TOKEN\n",
    "    }\n",
    ").json()"
   ]
  },
  {
   "cell_type": "code",
   "execution_count": 17,
   "metadata": {},
   "outputs": [
    {
     "data": {
      "text/plain": [
       "{'response': {'count': 16,\n",
       "  'items': [{'id': 5011074,\n",
       "    'from_id': 432646319,\n",
       "    'post_id': 5011073,\n",
       "    'owner_id': -76982440,\n",
       "    'parents_stack': [],\n",
       "    'date': 1618533695,\n",
       "    'text': 'Страна советов',\n",
       "    'likes': {'count': 14, 'user_likes': 0, 'can_like': 1},\n",
       "    'thread': {'count': 0,\n",
       "     'items': [],\n",
       "     'can_post': True,\n",
       "     'show_reply_button': True,\n",
       "     'groups_can_post': True}},\n",
       "   {'id': 5011078,\n",
       "    'from_id': 174352380,\n",
       "    'post_id': 5011073,\n",
       "    'owner_id': -76982440,\n",
       "    'parents_stack': [],\n",
       "    'date': 1618533953,\n",
       "    'text': 'Красавчик 👍🏼❤️',\n",
       "    'likes': {'count': 0, 'user_likes': 0, 'can_like': 1},\n",
       "    'thread': {'count': 0,\n",
       "     'items': [],\n",
       "     'can_post': True,\n",
       "     'show_reply_button': True,\n",
       "     'groups_can_post': True}}],\n",
       "  'current_level_count': 10,\n",
       "  'can_post': True,\n",
       "  'show_reply_button': True,\n",
       "  'groups_can_post': True}}"
      ]
     },
     "execution_count": 17,
     "metadata": {},
     "output_type": "execute_result"
    }
   ],
   "source": [
    "data"
   ]
  },
  {
   "cell_type": "markdown",
   "metadata": {},
   "source": [
    "## groups.getMembers\n",
    "\n",
    "Можно получить информацию о пользователях, например, о тех, кто подписан на опредленную группу.\n",
    "\n",
    "Попробуем еще параметр offset, который может пригодиться, когда данных много и придется скачивать \"страницы\" или блоки по 100 или 1000 объектов (1000 - ограничение для этого метода)"
   ]
  },
  {
   "cell_type": "code",
   "execution_count": 18,
   "metadata": {},
   "outputs": [],
   "source": [
    "group_members = \"https://api.vk.com/method/groups.getMembers\""
   ]
  },
  {
   "cell_type": "code",
   "execution_count": 20,
   "metadata": {},
   "outputs": [],
   "source": [
    "group = \"dormitory8hse\""
   ]
  },
  {
   "cell_type": "code",
   "execution_count": 21,
   "metadata": {},
   "outputs": [],
   "source": [
    "data = requests.get(\n",
    "    group_members,\n",
    "    params={\n",
    "        'group_id': group,\n",
    "        'access_token': TOKEN,\n",
    "        'v': VERSION,\n",
    "        'offset': 0\n",
    "    }\n",
    ").json()"
   ]
  },
  {
   "cell_type": "markdown",
   "metadata": {},
   "source": [
    "Кол-во объектов всего"
   ]
  },
  {
   "cell_type": "code",
   "execution_count": 23,
   "metadata": {},
   "outputs": [
    {
     "data": {
      "text/plain": [
       "5884"
      ]
     },
     "execution_count": 23,
     "metadata": {},
     "output_type": "execute_result"
    }
   ],
   "source": [
    "data[\"response\"][\"count\"]"
   ]
  },
  {
   "cell_type": "markdown",
   "metadata": {},
   "source": [
    "В качестве ответа по людям - просто список ID. По ним уже дальше можно запрашивать подробную информацию о пользователях."
   ]
  },
  {
   "cell_type": "code",
   "execution_count": 24,
   "metadata": {},
   "outputs": [
    {
     "data": {
      "text/plain": [
       "[11952, 20090, 56613, 62028, 80420, 81206, 96206, 97723, 113393, 144980]"
      ]
     },
     "execution_count": 24,
     "metadata": {},
     "output_type": "execute_result"
    }
   ],
   "source": [
    "data[\"response\"][\"items\"][:10]"
   ]
  },
  {
   "cell_type": "markdown",
   "metadata": {},
   "source": [
    "А теперь следующая страница. Это можно делать в цикле, чтобы выкачать всех"
   ]
  },
  {
   "cell_type": "code",
   "execution_count": 25,
   "metadata": {},
   "outputs": [
    {
     "data": {
      "text/plain": [
       "[23487241,\n",
       " 23498897,\n",
       " 23540705,\n",
       " 23555478,\n",
       " 23665918,\n",
       " 23757830,\n",
       " 23762493,\n",
       " 23783183,\n",
       " 23795292,\n",
       " 23804422]"
      ]
     },
     "execution_count": 25,
     "metadata": {},
     "output_type": "execute_result"
    }
   ],
   "source": [
    "data = requests.get(\n",
    "    group_members,\n",
    "    params={\n",
    "        'group_id': group,\n",
    "        'access_token': TOKEN,\n",
    "        'v': VERSION,\n",
    "        'offset': 1000\n",
    "    }\n",
    ").json()\n",
    "\n",
    "data[\"response\"][\"items\"][:10]"
   ]
  },
  {
   "cell_type": "markdown",
   "metadata": {},
   "source": [
    "## users.get\n",
    "\n",
    "Попробуем собрать информацию о тех, кто попал"
   ]
  },
  {
   "cell_type": "code",
   "execution_count": 26,
   "metadata": {},
   "outputs": [],
   "source": [
    "users_get_url = \"https://api.vk.com/method/users.get\""
   ]
  },
  {
   "cell_type": "code",
   "execution_count": 39,
   "metadata": {},
   "outputs": [
    {
     "data": {
      "application/vnd.jupyter.widget-view+json": {
       "model_id": "8c24a31679034fd29a0cf6dcd1984f0e",
       "version_major": 2,
       "version_minor": 0
      },
      "text/plain": [
       "HBox(children=(FloatProgress(value=0.0, max=500.0), HTML(value='')))"
      ]
     },
     "metadata": {},
     "output_type": "display_data"
    },
    {
     "name": "stdout",
     "output_type": "stream",
     "text": [
      "\n"
     ]
    }
   ],
   "source": [
    "all_users_data = []\n",
    "\n",
    "for user in tqdm(data[\"response\"][\"items\"][:500]):\n",
    "    user_info = requests.get(\n",
    "        users_get_url,\n",
    "        params={\n",
    "            'user_ids': user,\n",
    "            'fields': 'bdate,home_town,universities',\n",
    "            'access_token': TOKEN,\n",
    "            'v': VERSION\n",
    "        }\n",
    "    ).json()\n",
    "    all_users_data.extend(user_info[\"response\"])"
   ]
  },
  {
   "cell_type": "code",
   "execution_count": 40,
   "metadata": {},
   "outputs": [],
   "source": [
    "df = pd.DataFrame(all_users_data)\n",
    "\n",
    "# чтобы не показывать в открытом месте данные, возьмем для демонстрации толькодва столбца\n",
    "df = df.dropna(subset=[\"home_town\", \"universities\"])\n",
    "df = df[[\"home_town\", \"universities\"]] "
   ]
  },
  {
   "cell_type": "code",
   "execution_count": 41,
   "metadata": {},
   "outputs": [
    {
     "data": {
      "text/html": [
       "<div>\n",
       "<style scoped>\n",
       "    .dataframe tbody tr th:only-of-type {\n",
       "        vertical-align: middle;\n",
       "    }\n",
       "\n",
       "    .dataframe tbody tr th {\n",
       "        vertical-align: top;\n",
       "    }\n",
       "\n",
       "    .dataframe thead th {\n",
       "        text-align: right;\n",
       "    }\n",
       "</style>\n",
       "<table border=\"1\" class=\"dataframe\">\n",
       "  <thead>\n",
       "    <tr style=\"text-align: right;\">\n",
       "      <th></th>\n",
       "      <th>home_town</th>\n",
       "      <th>universities</th>\n",
       "    </tr>\n",
       "  </thead>\n",
       "  <tbody>\n",
       "    <tr>\n",
       "      <th>1</th>\n",
       "      <td>Краснодар</td>\n",
       "      <td>[]</td>\n",
       "    </tr>\n",
       "    <tr>\n",
       "      <th>5</th>\n",
       "      <td>станица Казанская</td>\n",
       "      <td>[{'chair': 6900, 'chair_name': 'Квантовой ради...</td>\n",
       "    </tr>\n",
       "    <tr>\n",
       "      <th>6</th>\n",
       "      <td>Казань</td>\n",
       "      <td>[{'chair': 2037657, 'chair_name': 'Прикладная ...</td>\n",
       "    </tr>\n",
       "    <tr>\n",
       "      <th>23</th>\n",
       "      <td>Тамбов</td>\n",
       "      <td>[{'city': 1, 'country': 1, 'id': 128, 'name': ...</td>\n",
       "    </tr>\n",
       "    <tr>\n",
       "      <th>31</th>\n",
       "      <td>Киев</td>\n",
       "      <td>[{'chair': 38286, 'chair_name': 'Информационны...</td>\n",
       "    </tr>\n",
       "  </tbody>\n",
       "</table>\n",
       "</div>"
      ],
      "text/plain": [
       "            home_town                                       universities\n",
       "1           Краснодар                                                 []\n",
       "5   станица Казанская  [{'chair': 6900, 'chair_name': 'Квантовой ради...\n",
       "6              Казань  [{'chair': 2037657, 'chair_name': 'Прикладная ...\n",
       "23             Тамбов  [{'city': 1, 'country': 1, 'id': 128, 'name': ...\n",
       "31               Киев  [{'chair': 38286, 'chair_name': 'Информационны..."
      ]
     },
     "execution_count": 41,
     "metadata": {},
     "output_type": "execute_result"
    }
   ],
   "source": [
    "df.head()"
   ]
  },
  {
   "cell_type": "markdown",
   "metadata": {},
   "source": [
    "Университеты нужно еще дальше разбирать, а вот города можно подсчитать сразу"
   ]
  },
  {
   "cell_type": "code",
   "execution_count": 42,
   "metadata": {},
   "outputs": [
    {
     "data": {
      "text/plain": [
       "                               29\n",
       "Омск                            5\n",
       "Красноярск                      3\n",
       "Тверь                           3\n",
       "Уфа                             3\n",
       "                               ..\n",
       "Кишинев                         1\n",
       "Асбест                          1\n",
       "Ижевск                          1\n",
       "Минск                           1\n",
       "Нижний Новгород и Чебоксары     1\n",
       "Name: home_town, Length: 64, dtype: int64"
      ]
     },
     "execution_count": 42,
     "metadata": {},
     "output_type": "execute_result"
    }
   ],
   "source": [
    "df[\"home_town\"].value_counts()"
   ]
  },
  {
   "cell_type": "markdown",
   "metadata": {},
   "source": [
    "Видно, что не все идеально (есть сразу несколько), но после препроцессинга может быть ок."
   ]
  },
  {
   "cell_type": "markdown",
   "metadata": {},
   "source": [
    "## Задание\n",
    "\n",
    "### 1\n",
    "\n",
    "Попробовать собрать данные участников одной из групп и подсчитать статистику по какому-либо параметру (город, год рождения или иное).\n",
    "\n",
    "1. Выбираем группу\n",
    "2. Делаем пробный запрос\n",
    "3. Пишем цикл по сбору (установка offset +1000 каждый раз)\n",
    "4. Сохраняем ID\n",
    "5. В цикле получаем информацию по пользователям\n",
    "6. Сохраняем в датафрейм\n",
    "7. Считаем статистику (и делаем препроцессинг, если нужно)\n",
    "\n",
    "### 2\n",
    "\n",
    "Собрать посты и/или комментарии, где авторы разные и попробовать сравнить употребление какого-либо слова у двух групп пользователей (Москва / не-Москва, Петербург / Москва, любые другие). Возможно, данных нужно будет много, но можно попробовать популярное слово. Главное - попробовать сделать основу для решения подобной задачи.\n",
    "\n",
    "1. Выбираем группу\n",
    "2. Собраем посты, сохраняем.\n",
    "3. Для каждого поста собираем комментарии\n",
    "4. По всем объектам собираем уникальные айди пользователей (лучше в порядке убывания частоты появления\n",
    "5. Собираем информацию по ним, выделяем наши группы\n",
    "6. Лемматизируем (если надо)\n",
    "7. Считаем стастику"
   ]
  }
 ],
 "metadata": {
  "kernelspec": {
   "display_name": "Python 3",
   "language": "python",
   "name": "python3"
  },
  "language_info": {
   "codemirror_mode": {
    "name": "ipython",
    "version": 3
   },
   "file_extension": ".py",
   "mimetype": "text/x-python",
   "name": "python",
   "nbconvert_exporter": "python",
   "pygments_lexer": "ipython3",
   "version": "3.8.5"
  }
 },
 "nbformat": 4,
 "nbformat_minor": 4
}
